{
 "cells": [
  {
   "cell_type": "code",
   "execution_count": 1,
   "metadata": {},
   "outputs": [
    {
     "data": {
      "text/html": [
       "        <script type=\"text/javascript\">\n",
       "        window.PlotlyConfig = {MathJaxConfig: 'local'};\n",
       "        if (window.MathJax) {MathJax.Hub.Config({SVG: {font: \"STIX-Web\"}});}\n",
       "        if (typeof require !== 'undefined') {\n",
       "        require.undef(\"plotly\");\n",
       "        requirejs.config({\n",
       "            paths: {\n",
       "                'plotly': ['https://cdn.plot.ly/plotly-latest.min']\n",
       "            }\n",
       "        });\n",
       "        require(['plotly'], function(Plotly) {\n",
       "            window._Plotly = Plotly;\n",
       "        });\n",
       "        }\n",
       "        </script>\n",
       "        "
      ]
     },
     "metadata": {},
     "output_type": "display_data"
    }
   ],
   "source": [
    "# Scientific libraries\t\t              \n",
    "import numpy as np\t\t              \n",
    "import scipy as sp\t\t              \n",
    "import pandas as pd\t\t              \n",
    "import json\t\t              \n",
    "import missingno as msno\t\t              \n",
    "\n",
    "# Loading Plotting Modules\t\t              \n",
    "import matplotlib\t\t              \n",
    "import matplotlib.pyplot as plt\t\t              \n",
    "import seaborn as sns\t\t              \n",
    "%matplotlib inline\t\t              \n",
    "import chart_studio.plotly as py\t\t              \n",
    "import plotly.figure_factory as ff\t\t              \n",
    "import plotly.graph_objects as go\t\t              \n",
    "import plotly.express as px\t\t              \n",
    "from plotly.offline import download_plotlyjs, init_notebook_mode, plot, iplot\t\t              \n",
    "init_notebook_mode(connected=True)\t\t              \n",
    "\t\t              \n",
    "import os\t\t              \n",
    "import gc"
   ]
  },
  {
   "cell_type": "code",
   "execution_count": 2,
   "metadata": {},
   "outputs": [],
   "source": [
    "# Setting Data Frame Options                      \n",
    "pd.set_option('display.max_rows', 40)                      \n",
    "pd.set_option('display.max_columns', 50)                      \n",
    "pd.set_option('display.width', 100)                      \n",
    "pd.set_option('display.max_colwidth', 100)                      \n",
    "\n",
    "# Setting Plot Configuration                      \n",
    "sns.set(rc={'figure.figsize':(19,11)}, style = 'white')"
   ]
  },
  {
   "cell_type": "code",
   "execution_count": 3,
   "metadata": {
    "scrolled": true
   },
   "outputs": [
    {
     "name": "stdout",
     "output_type": "stream",
     "text": [
      "Data Frame: 3865 x 80\n"
     ]
    },
    {
     "data": {
      "text/html": [
       "<div>\n",
       "<style scoped>\n",
       "    .dataframe tbody tr th:only-of-type {\n",
       "        vertical-align: middle;\n",
       "    }\n",
       "\n",
       "    .dataframe tbody tr th {\n",
       "        vertical-align: top;\n",
       "    }\n",
       "\n",
       "    .dataframe thead th {\n",
       "        text-align: right;\n",
       "    }\n",
       "</style>\n",
       "<table border=\"1\" class=\"dataframe\">\n",
       "  <thead>\n",
       "    <tr style=\"text-align: right;\">\n",
       "      <th></th>\n",
       "      <th>galactic year</th>\n",
       "      <th>existence expectancy index</th>\n",
       "      <th>existence expectancy at birth</th>\n",
       "      <th>Gross income per capita</th>\n",
       "      <th>Income Index</th>\n",
       "      <th>Expected years of education (galactic years)</th>\n",
       "      <th>Mean years of education (galactic years)</th>\n",
       "      <th>Intergalactic Development Index (IDI)</th>\n",
       "      <th>Education Index</th>\n",
       "      <th>Intergalactic Development Index (IDI), Rank</th>\n",
       "      <th>Population using at least basic drinking-water services (%)</th>\n",
       "      <th>Population using at least basic sanitation services (%)</th>\n",
       "      <th>Gross capital formation (% of GGP)</th>\n",
       "      <th>Population, total (millions)</th>\n",
       "      <th>Population, urban (%)</th>\n",
       "      <th>Mortality rate, under-five (per 1,000 live births)</th>\n",
       "      <th>Mortality rate, infant (per 1,000 live births)</th>\n",
       "      <th>Old age dependency ratio (old age (65 and older) per 100 creatures (ages 15-64))</th>\n",
       "      <th>Population, ages 15–64 (millions)</th>\n",
       "      <th>Population, ages 65 and older (millions)</th>\n",
       "      <th>Life expectancy at birth, male (galactic years)</th>\n",
       "      <th>Life expectancy at birth, female (galactic years)</th>\n",
       "      <th>Population, under age 5 (millions)</th>\n",
       "      <th>Young age (0-14) dependency ratio (per 100 creatures ages 15-64)</th>\n",
       "      <th>Adolescent birth rate (births per 1,000 female creatures ages 15-19)</th>\n",
       "      <th>...</th>\n",
       "      <th>Estimated gross galactic income per capita, female</th>\n",
       "      <th>Rural population with access to electricity (%)</th>\n",
       "      <th>Domestic credit provided by financial sector (% of GGP)</th>\n",
       "      <th>Population with at least some secondary education, female (% ages 25 and older)</th>\n",
       "      <th>Population with at least some secondary education, male (% ages 25 and older)</th>\n",
       "      <th>Gross fixed capital formation (% of GGP)</th>\n",
       "      <th>Remittances, inflows (% of GGP)</th>\n",
       "      <th>Population with at least some secondary education (% ages 25 and older)</th>\n",
       "      <th>Intergalactic inbound tourists (thousands)</th>\n",
       "      <th>Gross enrolment ratio, primary (% of primary under-age population)</th>\n",
       "      <th>Respiratory disease incidence (per 100,000 people)</th>\n",
       "      <th>Interstellar phone subscriptions (per 100 people)</th>\n",
       "      <th>Interstellar Data Net users, total (% of population)</th>\n",
       "      <th>Current health expenditure (% of GGP)</th>\n",
       "      <th>Intergalactic Development Index (IDI), female</th>\n",
       "      <th>Intergalactic Development Index (IDI), male</th>\n",
       "      <th>Gender Development Index (GDI)</th>\n",
       "      <th>Intergalactic Development Index (IDI), female, Rank</th>\n",
       "      <th>Intergalactic Development Index (IDI), male, Rank</th>\n",
       "      <th>Adjusted net savings</th>\n",
       "      <th>Gender Inequality Index (GII)</th>\n",
       "      <th>y</th>\n",
       "      <th>galaxy</th>\n",
       "      <th>Private galaxy capital flows (% of GGP)</th>\n",
       "      <th>Creature Immunodeficiency Disease prevalence, adult (% ages 15-49), total</th>\n",
       "    </tr>\n",
       "  </thead>\n",
       "  <tbody>\n",
       "    <tr>\n",
       "      <th>0</th>\n",
       "      <td>990025.0</td>\n",
       "      <td>0.759989</td>\n",
       "      <td>72.020628</td>\n",
       "      <td>18445.323465</td>\n",
       "      <td>0.647025</td>\n",
       "      <td>13.819287</td>\n",
       "      <td>10.275156</td>\n",
       "      <td>0.700193</td>\n",
       "      <td>0.744757</td>\n",
       "      <td>172.455086</td>\n",
       "      <td>69.788964</td>\n",
       "      <td>56.534984</td>\n",
       "      <td>71.977811</td>\n",
       "      <td>779.140792</td>\n",
       "      <td>53.717993</td>\n",
       "      <td>136.148520</td>\n",
       "      <td>94.372591</td>\n",
       "      <td>13.486308</td>\n",
       "      <td>486.311516</td>\n",
       "      <td>46.744351</td>\n",
       "      <td>68.373831</td>\n",
       "      <td>70.009342</td>\n",
       "      <td>13.364702</td>\n",
       "      <td>97.579821</td>\n",
       "      <td>94.595420</td>\n",
       "      <td>...</td>\n",
       "      <td>NaN</td>\n",
       "      <td>101.154818</td>\n",
       "      <td>NaN</td>\n",
       "      <td>NaN</td>\n",
       "      <td>NaN</td>\n",
       "      <td>75.084941</td>\n",
       "      <td>16.992398</td>\n",
       "      <td>NaN</td>\n",
       "      <td>83391.283213</td>\n",
       "      <td>127.531343</td>\n",
       "      <td>585.233964</td>\n",
       "      <td>62.354315</td>\n",
       "      <td>31.610527</td>\n",
       "      <td>11.813392</td>\n",
       "      <td>NaN</td>\n",
       "      <td>NaN</td>\n",
       "      <td>NaN</td>\n",
       "      <td>NaN</td>\n",
       "      <td>NaN</td>\n",
       "      <td>NaN</td>\n",
       "      <td>NaN</td>\n",
       "      <td>0.049214</td>\n",
       "      <td>Andromeda Galaxy (M31)</td>\n",
       "      <td>55.482526</td>\n",
       "      <td>NaN</td>\n",
       "    </tr>\n",
       "    <tr>\n",
       "      <th>1</th>\n",
       "      <td>990025.0</td>\n",
       "      <td>0.588206</td>\n",
       "      <td>62.473456</td>\n",
       "      <td>12072.373320</td>\n",
       "      <td>0.614855</td>\n",
       "      <td>8.368089</td>\n",
       "      <td>5.066478</td>\n",
       "      <td>0.578664</td>\n",
       "      <td>0.548011</td>\n",
       "      <td>166.597596</td>\n",
       "      <td>65.947524</td>\n",
       "      <td>62.229056</td>\n",
       "      <td>34.832775</td>\n",
       "      <td>883.596591</td>\n",
       "      <td>41.490223</td>\n",
       "      <td>202.512345</td>\n",
       "      <td>138.465984</td>\n",
       "      <td>17.670232</td>\n",
       "      <td>307.683155</td>\n",
       "      <td>87.014838</td>\n",
       "      <td>64.812267</td>\n",
       "      <td>63.080870</td>\n",
       "      <td>49.771269</td>\n",
       "      <td>109.152114</td>\n",
       "      <td>167.570379</td>\n",
       "      <td>...</td>\n",
       "      <td>13010.736695</td>\n",
       "      <td>69.845859</td>\n",
       "      <td>76.245703</td>\n",
       "      <td>28.236492</td>\n",
       "      <td>63.468500</td>\n",
       "      <td>32.250699</td>\n",
       "      <td>1.544445</td>\n",
       "      <td>55.120787</td>\n",
       "      <td>114924.778620</td>\n",
       "      <td>111.219200</td>\n",
       "      <td>487.854193</td>\n",
       "      <td>74.369426</td>\n",
       "      <td>32.855526</td>\n",
       "      <td>6.259720</td>\n",
       "      <td>0.641545</td>\n",
       "      <td>0.664679</td>\n",
       "      <td>0.949618</td>\n",
       "      <td>143.210761</td>\n",
       "      <td>161.265976</td>\n",
       "      <td>12.692108</td>\n",
       "      <td>0.749825</td>\n",
       "      <td>0.053204</td>\n",
       "      <td>Andromeda I</td>\n",
       "      <td>25.466775</td>\n",
       "      <td>2.940205</td>\n",
       "    </tr>\n",
       "    <tr>\n",
       "      <th>2</th>\n",
       "      <td>990025.0</td>\n",
       "      <td>1.063381</td>\n",
       "      <td>93.576404</td>\n",
       "      <td>34891.830736</td>\n",
       "      <td>0.945705</td>\n",
       "      <td>15.452324</td>\n",
       "      <td>13.267036</td>\n",
       "      <td>1.013674</td>\n",
       "      <td>0.773926</td>\n",
       "      <td>63.933456</td>\n",
       "      <td>116.707970</td>\n",
       "      <td>122.187118</td>\n",
       "      <td>38.249852</td>\n",
       "      <td>1037.163377</td>\n",
       "      <td>92.323704</td>\n",
       "      <td>46.060790</td>\n",
       "      <td>28.403142</td>\n",
       "      <td>27.020113</td>\n",
       "      <td>385.343237</td>\n",
       "      <td>69.424835</td>\n",
       "      <td>90.226902</td>\n",
       "      <td>85.775754</td>\n",
       "      <td>45.632234</td>\n",
       "      <td>63.962368</td>\n",
       "      <td>68.342047</td>\n",
       "      <td>...</td>\n",
       "      <td>28592.983034</td>\n",
       "      <td>141.893726</td>\n",
       "      <td>187.765665</td>\n",
       "      <td>61.535244</td>\n",
       "      <td>87.389620</td>\n",
       "      <td>35.425402</td>\n",
       "      <td>11.236975</td>\n",
       "      <td>67.529357</td>\n",
       "      <td>136702.754440</td>\n",
       "      <td>110.946064</td>\n",
       "      <td>178.542375</td>\n",
       "      <td>153.759820</td>\n",
       "      <td>71.094685</td>\n",
       "      <td>11.243253</td>\n",
       "      <td>0.987571</td>\n",
       "      <td>1.002983</td>\n",
       "      <td>1.039653</td>\n",
       "      <td>75.673764</td>\n",
       "      <td>64.725422</td>\n",
       "      <td>21.427986</td>\n",
       "      <td>0.415242</td>\n",
       "      <td>0.167935</td>\n",
       "      <td>Andromeda II</td>\n",
       "      <td>41.716404</td>\n",
       "      <td>4.340754</td>\n",
       "    </tr>\n",
       "    <tr>\n",
       "      <th>3</th>\n",
       "      <td>990025.0</td>\n",
       "      <td>0.887711</td>\n",
       "      <td>72.296275</td>\n",
       "      <td>44701.171827</td>\n",
       "      <td>1.017183</td>\n",
       "      <td>13.418461</td>\n",
       "      <td>12.045101</td>\n",
       "      <td>0.851110</td>\n",
       "      <td>0.854048</td>\n",
       "      <td>104.358165</td>\n",
       "      <td>117.016403</td>\n",
       "      <td>135.064202</td>\n",
       "      <td>34.279137</td>\n",
       "      <td>876.791765</td>\n",
       "      <td>83.156931</td>\n",
       "      <td>58.667575</td>\n",
       "      <td>34.303606</td>\n",
       "      <td>26.860760</td>\n",
       "      <td>307.481700</td>\n",
       "      <td>70.093282</td>\n",
       "      <td>75.687114</td>\n",
       "      <td>86.895446</td>\n",
       "      <td>49.167477</td>\n",
       "      <td>55.694611</td>\n",
       "      <td>112.444875</td>\n",
       "      <td>...</td>\n",
       "      <td>24036.231103</td>\n",
       "      <td>132.538880</td>\n",
       "      <td>114.955851</td>\n",
       "      <td>53.071124</td>\n",
       "      <td>83.295496</td>\n",
       "      <td>29.170003</td>\n",
       "      <td>10.046534</td>\n",
       "      <td>86.083758</td>\n",
       "      <td>94343.188156</td>\n",
       "      <td>95.197475</td>\n",
       "      <td>218.284971</td>\n",
       "      <td>130.235392</td>\n",
       "      <td>78.577601</td>\n",
       "      <td>10.009920</td>\n",
       "      <td>0.965092</td>\n",
       "      <td>0.958244</td>\n",
       "      <td>1.075051</td>\n",
       "      <td>91.209668</td>\n",
       "      <td>82.098925</td>\n",
       "      <td>16.371647</td>\n",
       "      <td>0.510536</td>\n",
       "      <td>0.110758</td>\n",
       "      <td>Andromeda III</td>\n",
       "      <td>20.958750</td>\n",
       "      <td>3.254305</td>\n",
       "    </tr>\n",
       "    <tr>\n",
       "      <th>4</th>\n",
       "      <td>990025.0</td>\n",
       "      <td>1.065573</td>\n",
       "      <td>84.289074</td>\n",
       "      <td>52420.899858</td>\n",
       "      <td>1.005840</td>\n",
       "      <td>16.238035</td>\n",
       "      <td>11.407378</td>\n",
       "      <td>0.864309</td>\n",
       "      <td>0.706695</td>\n",
       "      <td>55.235848</td>\n",
       "      <td>117.967371</td>\n",
       "      <td>132.443721</td>\n",
       "      <td>31.020051</td>\n",
       "      <td>1041.230433</td>\n",
       "      <td>96.822014</td>\n",
       "      <td>55.327755</td>\n",
       "      <td>40.442483</td>\n",
       "      <td>26.002740</td>\n",
       "      <td>437.983686</td>\n",
       "      <td>51.769022</td>\n",
       "      <td>78.589342</td>\n",
       "      <td>87.265341</td>\n",
       "      <td>105.854101</td>\n",
       "      <td>46.280471</td>\n",
       "      <td>92.723970</td>\n",
       "      <td>...</td>\n",
       "      <td>36193.877968</td>\n",
       "      <td>153.755894</td>\n",
       "      <td>197.836442</td>\n",
       "      <td>76.417094</td>\n",
       "      <td>81.587402</td>\n",
       "      <td>28.794996</td>\n",
       "      <td>9.109860</td>\n",
       "      <td>73.670355</td>\n",
       "      <td>147270.101607</td>\n",
       "      <td>105.164411</td>\n",
       "      <td>206.324528</td>\n",
       "      <td>169.542658</td>\n",
       "      <td>75.529062</td>\n",
       "      <td>10.523428</td>\n",
       "      <td>1.020507</td>\n",
       "      <td>1.005475</td>\n",
       "      <td>1.041102</td>\n",
       "      <td>73.675667</td>\n",
       "      <td>75.177601</td>\n",
       "      <td>22.295996</td>\n",
       "      <td>0.369113</td>\n",
       "      <td>0.151314</td>\n",
       "      <td>Andromeda IX</td>\n",
       "      <td>5.295678</td>\n",
       "      <td>3.603878</td>\n",
       "    </tr>\n",
       "  </tbody>\n",
       "</table>\n",
       "<p>5 rows × 80 columns</p>\n",
       "</div>"
      ],
      "text/plain": [
       "   galactic year  existence expectancy index  existence expectancy at birth  \\\n",
       "0       990025.0                    0.759989                      72.020628   \n",
       "1       990025.0                    0.588206                      62.473456   \n",
       "2       990025.0                    1.063381                      93.576404   \n",
       "3       990025.0                    0.887711                      72.296275   \n",
       "4       990025.0                    1.065573                      84.289074   \n",
       "\n",
       "   Gross income per capita  Income Index  Expected years of education (galactic years)  \\\n",
       "0             18445.323465      0.647025                                     13.819287   \n",
       "1             12072.373320      0.614855                                      8.368089   \n",
       "2             34891.830736      0.945705                                     15.452324   \n",
       "3             44701.171827      1.017183                                     13.418461   \n",
       "4             52420.899858      1.005840                                     16.238035   \n",
       "\n",
       "   Mean years of education (galactic years)  Intergalactic Development Index (IDI)  \\\n",
       "0                                 10.275156                               0.700193   \n",
       "1                                  5.066478                               0.578664   \n",
       "2                                 13.267036                               1.013674   \n",
       "3                                 12.045101                               0.851110   \n",
       "4                                 11.407378                               0.864309   \n",
       "\n",
       "   Education Index  Intergalactic Development Index (IDI), Rank  \\\n",
       "0         0.744757                                   172.455086   \n",
       "1         0.548011                                   166.597596   \n",
       "2         0.773926                                    63.933456   \n",
       "3         0.854048                                   104.358165   \n",
       "4         0.706695                                    55.235848   \n",
       "\n",
       "   Population using at least basic drinking-water services (%)  \\\n",
       "0                                                    69.788964   \n",
       "1                                                    65.947524   \n",
       "2                                                   116.707970   \n",
       "3                                                   117.016403   \n",
       "4                                                   117.967371   \n",
       "\n",
       "   Population using at least basic sanitation services (%)  Gross capital formation (% of GGP)  \\\n",
       "0                                                56.534984                           71.977811   \n",
       "1                                                62.229056                           34.832775   \n",
       "2                                               122.187118                           38.249852   \n",
       "3                                               135.064202                           34.279137   \n",
       "4                                               132.443721                           31.020051   \n",
       "\n",
       "   Population, total (millions)  Population, urban (%)  \\\n",
       "0                    779.140792              53.717993   \n",
       "1                    883.596591              41.490223   \n",
       "2                   1037.163377              92.323704   \n",
       "3                    876.791765              83.156931   \n",
       "4                   1041.230433              96.822014   \n",
       "\n",
       "   Mortality rate, under-five (per 1,000 live births)  \\\n",
       "0                                          136.148520   \n",
       "1                                          202.512345   \n",
       "2                                           46.060790   \n",
       "3                                           58.667575   \n",
       "4                                           55.327755   \n",
       "\n",
       "   Mortality rate, infant (per 1,000 live births)  \\\n",
       "0                                       94.372591   \n",
       "1                                      138.465984   \n",
       "2                                       28.403142   \n",
       "3                                       34.303606   \n",
       "4                                       40.442483   \n",
       "\n",
       "   Old age dependency ratio (old age (65 and older) per 100 creatures (ages 15-64))  \\\n",
       "0                                                                         13.486308   \n",
       "1                                                                         17.670232   \n",
       "2                                                                         27.020113   \n",
       "3                                                                         26.860760   \n",
       "4                                                                         26.002740   \n",
       "\n",
       "   Population, ages 15–64 (millions)  Population, ages 65 and older (millions)  \\\n",
       "0                         486.311516                                 46.744351   \n",
       "1                         307.683155                                 87.014838   \n",
       "2                         385.343237                                 69.424835   \n",
       "3                         307.481700                                 70.093282   \n",
       "4                         437.983686                                 51.769022   \n",
       "\n",
       "   Life expectancy at birth, male (galactic years)  \\\n",
       "0                                        68.373831   \n",
       "1                                        64.812267   \n",
       "2                                        90.226902   \n",
       "3                                        75.687114   \n",
       "4                                        78.589342   \n",
       "\n",
       "   Life expectancy at birth, female (galactic years)  Population, under age 5 (millions)  \\\n",
       "0                                          70.009342                           13.364702   \n",
       "1                                          63.080870                           49.771269   \n",
       "2                                          85.775754                           45.632234   \n",
       "3                                          86.895446                           49.167477   \n",
       "4                                          87.265341                          105.854101   \n",
       "\n",
       "   Young age (0-14) dependency ratio (per 100 creatures ages 15-64)  \\\n",
       "0                                                         97.579821   \n",
       "1                                                        109.152114   \n",
       "2                                                         63.962368   \n",
       "3                                                         55.694611   \n",
       "4                                                         46.280471   \n",
       "\n",
       "   Adolescent birth rate (births per 1,000 female creatures ages 15-19)  ...  \\\n",
       "0                                                             94.595420  ...   \n",
       "1                                                            167.570379  ...   \n",
       "2                                                             68.342047  ...   \n",
       "3                                                            112.444875  ...   \n",
       "4                                                             92.723970  ...   \n",
       "\n",
       "   Estimated gross galactic income per capita, female  \\\n",
       "0                                                 NaN   \n",
       "1                                        13010.736695   \n",
       "2                                        28592.983034   \n",
       "3                                        24036.231103   \n",
       "4                                        36193.877968   \n",
       "\n",
       "   Rural population with access to electricity (%)  \\\n",
       "0                                       101.154818   \n",
       "1                                        69.845859   \n",
       "2                                       141.893726   \n",
       "3                                       132.538880   \n",
       "4                                       153.755894   \n",
       "\n",
       "   Domestic credit provided by financial sector (% of GGP)  \\\n",
       "0                                                      NaN   \n",
       "1                                                76.245703   \n",
       "2                                               187.765665   \n",
       "3                                               114.955851   \n",
       "4                                               197.836442   \n",
       "\n",
       "   Population with at least some secondary education, female (% ages 25 and older)  \\\n",
       "0                                                                              NaN   \n",
       "1                                                                        28.236492   \n",
       "2                                                                        61.535244   \n",
       "3                                                                        53.071124   \n",
       "4                                                                        76.417094   \n",
       "\n",
       "   Population with at least some secondary education, male (% ages 25 and older)  \\\n",
       "0                                                                            NaN   \n",
       "1                                                                      63.468500   \n",
       "2                                                                      87.389620   \n",
       "3                                                                      83.295496   \n",
       "4                                                                      81.587402   \n",
       "\n",
       "   Gross fixed capital formation (% of GGP)  Remittances, inflows (% of GGP)  \\\n",
       "0                                 75.084941                        16.992398   \n",
       "1                                 32.250699                         1.544445   \n",
       "2                                 35.425402                        11.236975   \n",
       "3                                 29.170003                        10.046534   \n",
       "4                                 28.794996                         9.109860   \n",
       "\n",
       "   Population with at least some secondary education (% ages 25 and older)  \\\n",
       "0                                                                      NaN   \n",
       "1                                                                55.120787   \n",
       "2                                                                67.529357   \n",
       "3                                                                86.083758   \n",
       "4                                                                73.670355   \n",
       "\n",
       "   Intergalactic inbound tourists (thousands)  \\\n",
       "0                                83391.283213   \n",
       "1                               114924.778620   \n",
       "2                               136702.754440   \n",
       "3                                94343.188156   \n",
       "4                               147270.101607   \n",
       "\n",
       "   Gross enrolment ratio, primary (% of primary under-age population)  \\\n",
       "0                                                          127.531343   \n",
       "1                                                          111.219200   \n",
       "2                                                          110.946064   \n",
       "3                                                           95.197475   \n",
       "4                                                          105.164411   \n",
       "\n",
       "   Respiratory disease incidence (per 100,000 people)  \\\n",
       "0                                          585.233964   \n",
       "1                                          487.854193   \n",
       "2                                          178.542375   \n",
       "3                                          218.284971   \n",
       "4                                          206.324528   \n",
       "\n",
       "   Interstellar phone subscriptions (per 100 people)  \\\n",
       "0                                          62.354315   \n",
       "1                                          74.369426   \n",
       "2                                         153.759820   \n",
       "3                                         130.235392   \n",
       "4                                         169.542658   \n",
       "\n",
       "   Interstellar Data Net users, total (% of population)  Current health expenditure (% of GGP)  \\\n",
       "0                                             31.610527                              11.813392   \n",
       "1                                             32.855526                               6.259720   \n",
       "2                                             71.094685                              11.243253   \n",
       "3                                             78.577601                              10.009920   \n",
       "4                                             75.529062                              10.523428   \n",
       "\n",
       "   Intergalactic Development Index (IDI), female  Intergalactic Development Index (IDI), male  \\\n",
       "0                                            NaN                                          NaN   \n",
       "1                                       0.641545                                     0.664679   \n",
       "2                                       0.987571                                     1.002983   \n",
       "3                                       0.965092                                     0.958244   \n",
       "4                                       1.020507                                     1.005475   \n",
       "\n",
       "   Gender Development Index (GDI)  Intergalactic Development Index (IDI), female, Rank  \\\n",
       "0                             NaN                                                  NaN   \n",
       "1                        0.949618                                           143.210761   \n",
       "2                        1.039653                                            75.673764   \n",
       "3                        1.075051                                            91.209668   \n",
       "4                        1.041102                                            73.675667   \n",
       "\n",
       "   Intergalactic Development Index (IDI), male, Rank  Adjusted net savings   \\\n",
       "0                                                NaN                    NaN   \n",
       "1                                         161.265976              12.692108   \n",
       "2                                          64.725422              21.427986   \n",
       "3                                          82.098925              16.371647   \n",
       "4                                          75.177601              22.295996   \n",
       "\n",
       "   Gender Inequality Index (GII)         y                  galaxy  \\\n",
       "0                            NaN  0.049214  Andromeda Galaxy (M31)   \n",
       "1                       0.749825  0.053204             Andromeda I   \n",
       "2                       0.415242  0.167935            Andromeda II   \n",
       "3                       0.510536  0.110758           Andromeda III   \n",
       "4                       0.369113  0.151314            Andromeda IX   \n",
       "\n",
       "   Private galaxy capital flows (% of GGP)  \\\n",
       "0                                55.482526   \n",
       "1                                25.466775   \n",
       "2                                41.716404   \n",
       "3                                20.958750   \n",
       "4                                 5.295678   \n",
       "\n",
       "   Creature Immunodeficiency Disease prevalence, adult (% ages 15-49), total  \n",
       "0                                                                        NaN  \n",
       "1                                                                   2.940205  \n",
       "2                                                                   4.340754  \n",
       "3                                                                   3.254305  \n",
       "4                                                                   3.603878  \n",
       "\n",
       "[5 rows x 80 columns]"
      ]
     },
     "execution_count": 3,
     "metadata": {},
     "output_type": "execute_result"
    }
   ],
   "source": [
    "train = pd.read_csv('../../eda/outputs/imputed_train_mf.csv')                \n",
    "m, n = train.shape                \n",
    "print('Data Frame: {} x {}'.format(m,n))                \n",
    "train.head()"
   ]
  },
  {
   "cell_type": "code",
   "execution_count": 4,
   "metadata": {
    "scrolled": false
   },
   "outputs": [
    {
     "name": "stdout",
     "output_type": "stream",
     "text": [
      "Data Frame: 890 x 79\n"
     ]
    },
    {
     "data": {
      "text/html": [
       "<div>\n",
       "<style scoped>\n",
       "    .dataframe tbody tr th:only-of-type {\n",
       "        vertical-align: middle;\n",
       "    }\n",
       "\n",
       "    .dataframe tbody tr th {\n",
       "        vertical-align: top;\n",
       "    }\n",
       "\n",
       "    .dataframe thead th {\n",
       "        text-align: right;\n",
       "    }\n",
       "</style>\n",
       "<table border=\"1\" class=\"dataframe\">\n",
       "  <thead>\n",
       "    <tr style=\"text-align: right;\">\n",
       "      <th></th>\n",
       "      <th>galactic year</th>\n",
       "      <th>existence expectancy index</th>\n",
       "      <th>existence expectancy at birth</th>\n",
       "      <th>Gross income per capita</th>\n",
       "      <th>Income Index</th>\n",
       "      <th>Expected years of education (galactic years)</th>\n",
       "      <th>Mean years of education (galactic years)</th>\n",
       "      <th>Intergalactic Development Index (IDI)</th>\n",
       "      <th>Education Index</th>\n",
       "      <th>Intergalactic Development Index (IDI), Rank</th>\n",
       "      <th>Population using at least basic drinking-water services (%)</th>\n",
       "      <th>Population using at least basic sanitation services (%)</th>\n",
       "      <th>Gross capital formation (% of GGP)</th>\n",
       "      <th>Population, total (millions)</th>\n",
       "      <th>Population, urban (%)</th>\n",
       "      <th>Mortality rate, under-five (per 1,000 live births)</th>\n",
       "      <th>Mortality rate, infant (per 1,000 live births)</th>\n",
       "      <th>Old age dependency ratio (old age (65 and older) per 100 creatures (ages 15-64))</th>\n",
       "      <th>Population, ages 15–64 (millions)</th>\n",
       "      <th>Population, ages 65 and older (millions)</th>\n",
       "      <th>Life expectancy at birth, male (galactic years)</th>\n",
       "      <th>Life expectancy at birth, female (galactic years)</th>\n",
       "      <th>Population, under age 5 (millions)</th>\n",
       "      <th>Young age (0-14) dependency ratio (per 100 creatures ages 15-64)</th>\n",
       "      <th>Adolescent birth rate (births per 1,000 female creatures ages 15-19)</th>\n",
       "      <th>...</th>\n",
       "      <th>Estimated gross galactic income per capita, male</th>\n",
       "      <th>Estimated gross galactic income per capita, female</th>\n",
       "      <th>Rural population with access to electricity (%)</th>\n",
       "      <th>Domestic credit provided by financial sector (% of GGP)</th>\n",
       "      <th>Population with at least some secondary education, female (% ages 25 and older)</th>\n",
       "      <th>Population with at least some secondary education, male (% ages 25 and older)</th>\n",
       "      <th>Gross fixed capital formation (% of GGP)</th>\n",
       "      <th>Remittances, inflows (% of GGP)</th>\n",
       "      <th>Population with at least some secondary education (% ages 25 and older)</th>\n",
       "      <th>Intergalactic inbound tourists (thousands)</th>\n",
       "      <th>Gross enrolment ratio, primary (% of primary under-age population)</th>\n",
       "      <th>Respiratory disease incidence (per 100,000 people)</th>\n",
       "      <th>Interstellar phone subscriptions (per 100 people)</th>\n",
       "      <th>Interstellar Data Net users, total (% of population)</th>\n",
       "      <th>Current health expenditure (% of GGP)</th>\n",
       "      <th>Intergalactic Development Index (IDI), female</th>\n",
       "      <th>Intergalactic Development Index (IDI), male</th>\n",
       "      <th>Gender Development Index (GDI)</th>\n",
       "      <th>Intergalactic Development Index (IDI), female, Rank</th>\n",
       "      <th>Intergalactic Development Index (IDI), male, Rank</th>\n",
       "      <th>Adjusted net savings</th>\n",
       "      <th>Gender Inequality Index (GII)</th>\n",
       "      <th>galaxy</th>\n",
       "      <th>Private galaxy capital flows (% of GGP)</th>\n",
       "      <th>Creature Immunodeficiency Disease prevalence, adult (% ages 15-49), total</th>\n",
       "    </tr>\n",
       "  </thead>\n",
       "  <tbody>\n",
       "    <tr>\n",
       "      <th>0</th>\n",
       "      <td>1007012.0</td>\n",
       "      <td>0.868360</td>\n",
       "      <td>72.982208</td>\n",
       "      <td>19198.499040</td>\n",
       "      <td>0.700413</td>\n",
       "      <td>16.145285</td>\n",
       "      <td>11.113581</td>\n",
       "      <td>0.719579</td>\n",
       "      <td>0.825915</td>\n",
       "      <td>181.824530</td>\n",
       "      <td>76.357958</td>\n",
       "      <td>71.796137</td>\n",
       "      <td>71.977811</td>\n",
       "      <td>819.245976</td>\n",
       "      <td>72.269765</td>\n",
       "      <td>113.394831</td>\n",
       "      <td>75.983899</td>\n",
       "      <td>12.851245</td>\n",
       "      <td>426.589757</td>\n",
       "      <td>59.793499</td>\n",
       "      <td>73.206969</td>\n",
       "      <td>79.051548</td>\n",
       "      <td>80.144699</td>\n",
       "      <td>87.255770</td>\n",
       "      <td>77.624057</td>\n",
       "      <td>...</td>\n",
       "      <td>NaN</td>\n",
       "      <td>NaN</td>\n",
       "      <td>102.306960</td>\n",
       "      <td>NaN</td>\n",
       "      <td>NaN</td>\n",
       "      <td>NaN</td>\n",
       "      <td>75.084941</td>\n",
       "      <td>16.383957</td>\n",
       "      <td>NaN</td>\n",
       "      <td>92046.182973</td>\n",
       "      <td>129.047095</td>\n",
       "      <td>578.672958</td>\n",
       "      <td>70.150003</td>\n",
       "      <td>39.261197</td>\n",
       "      <td>11.067889</td>\n",
       "      <td>NaN</td>\n",
       "      <td>NaN</td>\n",
       "      <td>NaN</td>\n",
       "      <td>NaN</td>\n",
       "      <td>NaN</td>\n",
       "      <td>NaN</td>\n",
       "      <td>NaN</td>\n",
       "      <td>Andromeda Galaxy (M31)</td>\n",
       "      <td>32.163414</td>\n",
       "      <td>NaN</td>\n",
       "    </tr>\n",
       "    <tr>\n",
       "      <th>1</th>\n",
       "      <td>1007012.0</td>\n",
       "      <td>0.772696</td>\n",
       "      <td>73.590698</td>\n",
       "      <td>18345.350181</td>\n",
       "      <td>0.684405</td>\n",
       "      <td>12.167872</td>\n",
       "      <td>7.083681</td>\n",
       "      <td>0.650826</td>\n",
       "      <td>0.505962</td>\n",
       "      <td>193.187549</td>\n",
       "      <td>79.263683</td>\n",
       "      <td>71.723281</td>\n",
       "      <td>37.085742</td>\n",
       "      <td>849.398477</td>\n",
       "      <td>53.465398</td>\n",
       "      <td>139.090298</td>\n",
       "      <td>88.145153</td>\n",
       "      <td>14.152255</td>\n",
       "      <td>496.779346</td>\n",
       "      <td>57.583581</td>\n",
       "      <td>68.021732</td>\n",
       "      <td>74.795340</td>\n",
       "      <td>73.158109</td>\n",
       "      <td>89.776748</td>\n",
       "      <td>124.050371</td>\n",
       "      <td>...</td>\n",
       "      <td>19268.820517</td>\n",
       "      <td>12931.719986</td>\n",
       "      <td>99.189863</td>\n",
       "      <td>77.742674</td>\n",
       "      <td>54.263456</td>\n",
       "      <td>69.496155</td>\n",
       "      <td>38.331603</td>\n",
       "      <td>9.435519</td>\n",
       "      <td>62.266114</td>\n",
       "      <td>92843.780990</td>\n",
       "      <td>131.408452</td>\n",
       "      <td>429.753270</td>\n",
       "      <td>104.910863</td>\n",
       "      <td>34.341097</td>\n",
       "      <td>6.029590</td>\n",
       "      <td>0.673039</td>\n",
       "      <td>0.714560</td>\n",
       "      <td>0.976994</td>\n",
       "      <td>147.451303</td>\n",
       "      <td>164.334975</td>\n",
       "      <td>6.673241</td>\n",
       "      <td>0.687616</td>\n",
       "      <td>Andromeda I</td>\n",
       "      <td>30.668839</td>\n",
       "      <td>5.784397</td>\n",
       "    </tr>\n",
       "    <tr>\n",
       "      <th>2</th>\n",
       "      <td>1007012.0</td>\n",
       "      <td>0.941941</td>\n",
       "      <td>81.973436</td>\n",
       "      <td>26708.317145</td>\n",
       "      <td>0.925563</td>\n",
       "      <td>18.175905</td>\n",
       "      <td>13.909442</td>\n",
       "      <td>0.960263</td>\n",
       "      <td>0.937407</td>\n",
       "      <td>74.678611</td>\n",
       "      <td>122.988241</td>\n",
       "      <td>136.685519</td>\n",
       "      <td>34.865297</td>\n",
       "      <td>712.914221</td>\n",
       "      <td>93.116852</td>\n",
       "      <td>59.810528</td>\n",
       "      <td>34.960991</td>\n",
       "      <td>31.242181</td>\n",
       "      <td>435.976780</td>\n",
       "      <td>54.971127</td>\n",
       "      <td>78.814709</td>\n",
       "      <td>87.318457</td>\n",
       "      <td>54.861556</td>\n",
       "      <td>51.049333</td>\n",
       "      <td>72.544281</td>\n",
       "      <td>...</td>\n",
       "      <td>46130.422627</td>\n",
       "      <td>29804.266408</td>\n",
       "      <td>133.499902</td>\n",
       "      <td>112.410524</td>\n",
       "      <td>110.028144</td>\n",
       "      <td>112.483100</td>\n",
       "      <td>29.294321</td>\n",
       "      <td>9.716045</td>\n",
       "      <td>124.671861</td>\n",
       "      <td>98471.178149</td>\n",
       "      <td>117.291927</td>\n",
       "      <td>216.424101</td>\n",
       "      <td>152.699066</td>\n",
       "      <td>89.310138</td>\n",
       "      <td>10.114774</td>\n",
       "      <td>0.975232</td>\n",
       "      <td>0.949269</td>\n",
       "      <td>1.078944</td>\n",
       "      <td>91.321283</td>\n",
       "      <td>80.725039</td>\n",
       "      <td>16.251653</td>\n",
       "      <td>0.467704</td>\n",
       "      <td>Andromeda III</td>\n",
       "      <td>25.648367</td>\n",
       "      <td>3.641324</td>\n",
       "    </tr>\n",
       "    <tr>\n",
       "      <th>3</th>\n",
       "      <td>1007012.0</td>\n",
       "      <td>1.079857</td>\n",
       "      <td>89.351427</td>\n",
       "      <td>54738.000742</td>\n",
       "      <td>1.016415</td>\n",
       "      <td>19.927563</td>\n",
       "      <td>12.917355</td>\n",
       "      <td>1.085718</td>\n",
       "      <td>1.010280</td>\n",
       "      <td>65.576254</td>\n",
       "      <td>113.617318</td>\n",
       "      <td>144.223620</td>\n",
       "      <td>27.907457</td>\n",
       "      <td>994.869334</td>\n",
       "      <td>93.992349</td>\n",
       "      <td>50.614834</td>\n",
       "      <td>37.408702</td>\n",
       "      <td>39.063774</td>\n",
       "      <td>452.063178</td>\n",
       "      <td>68.716581</td>\n",
       "      <td>87.959292</td>\n",
       "      <td>90.227666</td>\n",
       "      <td>83.641251</td>\n",
       "      <td>43.621778</td>\n",
       "      <td>61.763540</td>\n",
       "      <td>...</td>\n",
       "      <td>69479.208034</td>\n",
       "      <td>36372.572012</td>\n",
       "      <td>140.513839</td>\n",
       "      <td>212.594379</td>\n",
       "      <td>92.070335</td>\n",
       "      <td>99.724427</td>\n",
       "      <td>27.896438</td>\n",
       "      <td>8.952235</td>\n",
       "      <td>92.240002</td>\n",
       "      <td>157349.220331</td>\n",
       "      <td>111.986697</td>\n",
       "      <td>194.449429</td>\n",
       "      <td>186.126193</td>\n",
       "      <td>81.641747</td>\n",
       "      <td>10.871523</td>\n",
       "      <td>1.041127</td>\n",
       "      <td>1.010276</td>\n",
       "      <td>1.048963</td>\n",
       "      <td>73.708843</td>\n",
       "      <td>76.050073</td>\n",
       "      <td>19.354114</td>\n",
       "      <td>0.344208</td>\n",
       "      <td>Andromeda IX</td>\n",
       "      <td>18.507721</td>\n",
       "      <td>3.467922</td>\n",
       "    </tr>\n",
       "    <tr>\n",
       "      <th>4</th>\n",
       "      <td>1007012.0</td>\n",
       "      <td>1.079557</td>\n",
       "      <td>94.084539</td>\n",
       "      <td>54785.657264</td>\n",
       "      <td>1.108535</td>\n",
       "      <td>18.597198</td>\n",
       "      <td>14.490411</td>\n",
       "      <td>1.083277</td>\n",
       "      <td>1.054622</td>\n",
       "      <td>82.576470</td>\n",
       "      <td>116.778787</td>\n",
       "      <td>140.257294</td>\n",
       "      <td>34.620256</td>\n",
       "      <td>667.682672</td>\n",
       "      <td>112.951963</td>\n",
       "      <td>47.121834</td>\n",
       "      <td>32.739008</td>\n",
       "      <td>43.097271</td>\n",
       "      <td>513.265103</td>\n",
       "      <td>76.028442</td>\n",
       "      <td>86.776469</td>\n",
       "      <td>95.761096</td>\n",
       "      <td>79.298329</td>\n",
       "      <td>49.113194</td>\n",
       "      <td>41.016252</td>\n",
       "      <td>...</td>\n",
       "      <td>72697.700583</td>\n",
       "      <td>38990.588810</td>\n",
       "      <td>140.356804</td>\n",
       "      <td>388.073381</td>\n",
       "      <td>115.750229</td>\n",
       "      <td>106.108663</td>\n",
       "      <td>31.155735</td>\n",
       "      <td>7.663965</td>\n",
       "      <td>110.414297</td>\n",
       "      <td>106465.699745</td>\n",
       "      <td>118.241451</td>\n",
       "      <td>183.901921</td>\n",
       "      <td>150.143061</td>\n",
       "      <td>111.458212</td>\n",
       "      <td>12.297071</td>\n",
       "      <td>1.000734</td>\n",
       "      <td>1.059392</td>\n",
       "      <td>1.086341</td>\n",
       "      <td>51.594871</td>\n",
       "      <td>65.860127</td>\n",
       "      <td>21.311365</td>\n",
       "      <td>0.325228</td>\n",
       "      <td>Andromeda V</td>\n",
       "      <td>27.662533</td>\n",
       "      <td>3.691628</td>\n",
       "    </tr>\n",
       "  </tbody>\n",
       "</table>\n",
       "<p>5 rows × 79 columns</p>\n",
       "</div>"
      ],
      "text/plain": [
       "   galactic year  existence expectancy index  existence expectancy at birth  \\\n",
       "0      1007012.0                    0.868360                      72.982208   \n",
       "1      1007012.0                    0.772696                      73.590698   \n",
       "2      1007012.0                    0.941941                      81.973436   \n",
       "3      1007012.0                    1.079857                      89.351427   \n",
       "4      1007012.0                    1.079557                      94.084539   \n",
       "\n",
       "   Gross income per capita  Income Index  Expected years of education (galactic years)  \\\n",
       "0             19198.499040      0.700413                                     16.145285   \n",
       "1             18345.350181      0.684405                                     12.167872   \n",
       "2             26708.317145      0.925563                                     18.175905   \n",
       "3             54738.000742      1.016415                                     19.927563   \n",
       "4             54785.657264      1.108535                                     18.597198   \n",
       "\n",
       "   Mean years of education (galactic years)  Intergalactic Development Index (IDI)  \\\n",
       "0                                 11.113581                               0.719579   \n",
       "1                                  7.083681                               0.650826   \n",
       "2                                 13.909442                               0.960263   \n",
       "3                                 12.917355                               1.085718   \n",
       "4                                 14.490411                               1.083277   \n",
       "\n",
       "   Education Index  Intergalactic Development Index (IDI), Rank  \\\n",
       "0         0.825915                                   181.824530   \n",
       "1         0.505962                                   193.187549   \n",
       "2         0.937407                                    74.678611   \n",
       "3         1.010280                                    65.576254   \n",
       "4         1.054622                                    82.576470   \n",
       "\n",
       "   Population using at least basic drinking-water services (%)  \\\n",
       "0                                                    76.357958   \n",
       "1                                                    79.263683   \n",
       "2                                                   122.988241   \n",
       "3                                                   113.617318   \n",
       "4                                                   116.778787   \n",
       "\n",
       "   Population using at least basic sanitation services (%)  Gross capital formation (% of GGP)  \\\n",
       "0                                                71.796137                           71.977811   \n",
       "1                                                71.723281                           37.085742   \n",
       "2                                               136.685519                           34.865297   \n",
       "3                                               144.223620                           27.907457   \n",
       "4                                               140.257294                           34.620256   \n",
       "\n",
       "   Population, total (millions)  Population, urban (%)  \\\n",
       "0                    819.245976              72.269765   \n",
       "1                    849.398477              53.465398   \n",
       "2                    712.914221              93.116852   \n",
       "3                    994.869334              93.992349   \n",
       "4                    667.682672             112.951963   \n",
       "\n",
       "   Mortality rate, under-five (per 1,000 live births)  \\\n",
       "0                                          113.394831   \n",
       "1                                          139.090298   \n",
       "2                                           59.810528   \n",
       "3                                           50.614834   \n",
       "4                                           47.121834   \n",
       "\n",
       "   Mortality rate, infant (per 1,000 live births)  \\\n",
       "0                                       75.983899   \n",
       "1                                       88.145153   \n",
       "2                                       34.960991   \n",
       "3                                       37.408702   \n",
       "4                                       32.739008   \n",
       "\n",
       "   Old age dependency ratio (old age (65 and older) per 100 creatures (ages 15-64))  \\\n",
       "0                                                                         12.851245   \n",
       "1                                                                         14.152255   \n",
       "2                                                                         31.242181   \n",
       "3                                                                         39.063774   \n",
       "4                                                                         43.097271   \n",
       "\n",
       "   Population, ages 15–64 (millions)  Population, ages 65 and older (millions)  \\\n",
       "0                         426.589757                                 59.793499   \n",
       "1                         496.779346                                 57.583581   \n",
       "2                         435.976780                                 54.971127   \n",
       "3                         452.063178                                 68.716581   \n",
       "4                         513.265103                                 76.028442   \n",
       "\n",
       "   Life expectancy at birth, male (galactic years)  \\\n",
       "0                                        73.206969   \n",
       "1                                        68.021732   \n",
       "2                                        78.814709   \n",
       "3                                        87.959292   \n",
       "4                                        86.776469   \n",
       "\n",
       "   Life expectancy at birth, female (galactic years)  Population, under age 5 (millions)  \\\n",
       "0                                          79.051548                           80.144699   \n",
       "1                                          74.795340                           73.158109   \n",
       "2                                          87.318457                           54.861556   \n",
       "3                                          90.227666                           83.641251   \n",
       "4                                          95.761096                           79.298329   \n",
       "\n",
       "   Young age (0-14) dependency ratio (per 100 creatures ages 15-64)  \\\n",
       "0                                                         87.255770   \n",
       "1                                                         89.776748   \n",
       "2                                                         51.049333   \n",
       "3                                                         43.621778   \n",
       "4                                                         49.113194   \n",
       "\n",
       "   Adolescent birth rate (births per 1,000 female creatures ages 15-19)  ...  \\\n",
       "0                                                             77.624057  ...   \n",
       "1                                                            124.050371  ...   \n",
       "2                                                             72.544281  ...   \n",
       "3                                                             61.763540  ...   \n",
       "4                                                             41.016252  ...   \n",
       "\n",
       "   Estimated gross galactic income per capita, male  \\\n",
       "0                                               NaN   \n",
       "1                                      19268.820517   \n",
       "2                                      46130.422627   \n",
       "3                                      69479.208034   \n",
       "4                                      72697.700583   \n",
       "\n",
       "   Estimated gross galactic income per capita, female  \\\n",
       "0                                                 NaN   \n",
       "1                                        12931.719986   \n",
       "2                                        29804.266408   \n",
       "3                                        36372.572012   \n",
       "4                                        38990.588810   \n",
       "\n",
       "   Rural population with access to electricity (%)  \\\n",
       "0                                       102.306960   \n",
       "1                                        99.189863   \n",
       "2                                       133.499902   \n",
       "3                                       140.513839   \n",
       "4                                       140.356804   \n",
       "\n",
       "   Domestic credit provided by financial sector (% of GGP)  \\\n",
       "0                                                      NaN   \n",
       "1                                                77.742674   \n",
       "2                                               112.410524   \n",
       "3                                               212.594379   \n",
       "4                                               388.073381   \n",
       "\n",
       "   Population with at least some secondary education, female (% ages 25 and older)  \\\n",
       "0                                                                              NaN   \n",
       "1                                                                        54.263456   \n",
       "2                                                                       110.028144   \n",
       "3                                                                        92.070335   \n",
       "4                                                                       115.750229   \n",
       "\n",
       "   Population with at least some secondary education, male (% ages 25 and older)  \\\n",
       "0                                                                            NaN   \n",
       "1                                                                      69.496155   \n",
       "2                                                                     112.483100   \n",
       "3                                                                      99.724427   \n",
       "4                                                                     106.108663   \n",
       "\n",
       "   Gross fixed capital formation (% of GGP)  Remittances, inflows (% of GGP)  \\\n",
       "0                                 75.084941                        16.383957   \n",
       "1                                 38.331603                         9.435519   \n",
       "2                                 29.294321                         9.716045   \n",
       "3                                 27.896438                         8.952235   \n",
       "4                                 31.155735                         7.663965   \n",
       "\n",
       "   Population with at least some secondary education (% ages 25 and older)  \\\n",
       "0                                                                      NaN   \n",
       "1                                                                62.266114   \n",
       "2                                                               124.671861   \n",
       "3                                                                92.240002   \n",
       "4                                                               110.414297   \n",
       "\n",
       "   Intergalactic inbound tourists (thousands)  \\\n",
       "0                                92046.182973   \n",
       "1                                92843.780990   \n",
       "2                                98471.178149   \n",
       "3                               157349.220331   \n",
       "4                               106465.699745   \n",
       "\n",
       "   Gross enrolment ratio, primary (% of primary under-age population)  \\\n",
       "0                                                          129.047095   \n",
       "1                                                          131.408452   \n",
       "2                                                          117.291927   \n",
       "3                                                          111.986697   \n",
       "4                                                          118.241451   \n",
       "\n",
       "   Respiratory disease incidence (per 100,000 people)  \\\n",
       "0                                          578.672958   \n",
       "1                                          429.753270   \n",
       "2                                          216.424101   \n",
       "3                                          194.449429   \n",
       "4                                          183.901921   \n",
       "\n",
       "   Interstellar phone subscriptions (per 100 people)  \\\n",
       "0                                          70.150003   \n",
       "1                                         104.910863   \n",
       "2                                         152.699066   \n",
       "3                                         186.126193   \n",
       "4                                         150.143061   \n",
       "\n",
       "   Interstellar Data Net users, total (% of population)  Current health expenditure (% of GGP)  \\\n",
       "0                                             39.261197                              11.067889   \n",
       "1                                             34.341097                               6.029590   \n",
       "2                                             89.310138                              10.114774   \n",
       "3                                             81.641747                              10.871523   \n",
       "4                                            111.458212                              12.297071   \n",
       "\n",
       "   Intergalactic Development Index (IDI), female  Intergalactic Development Index (IDI), male  \\\n",
       "0                                            NaN                                          NaN   \n",
       "1                                       0.673039                                     0.714560   \n",
       "2                                       0.975232                                     0.949269   \n",
       "3                                       1.041127                                     1.010276   \n",
       "4                                       1.000734                                     1.059392   \n",
       "\n",
       "   Gender Development Index (GDI)  Intergalactic Development Index (IDI), female, Rank  \\\n",
       "0                             NaN                                                  NaN   \n",
       "1                        0.976994                                           147.451303   \n",
       "2                        1.078944                                            91.321283   \n",
       "3                        1.048963                                            73.708843   \n",
       "4                        1.086341                                            51.594871   \n",
       "\n",
       "   Intergalactic Development Index (IDI), male, Rank  Adjusted net savings   \\\n",
       "0                                                NaN                    NaN   \n",
       "1                                         164.334975               6.673241   \n",
       "2                                          80.725039              16.251653   \n",
       "3                                          76.050073              19.354114   \n",
       "4                                          65.860127              21.311365   \n",
       "\n",
       "   Gender Inequality Index (GII)                  galaxy  Private galaxy capital flows (% of GGP)  \\\n",
       "0                            NaN  Andromeda Galaxy (M31)                                32.163414   \n",
       "1                       0.687616             Andromeda I                                30.668839   \n",
       "2                       0.467704           Andromeda III                                25.648367   \n",
       "3                       0.344208            Andromeda IX                                18.507721   \n",
       "4                       0.325228             Andromeda V                                27.662533   \n",
       "\n",
       "   Creature Immunodeficiency Disease prevalence, adult (% ages 15-49), total  \n",
       "0                                                                        NaN  \n",
       "1                                                                   5.784397  \n",
       "2                                                                   3.641324  \n",
       "3                                                                   3.467922  \n",
       "4                                                                   3.691628  \n",
       "\n",
       "[5 rows x 79 columns]"
      ]
     },
     "execution_count": 4,
     "metadata": {},
     "output_type": "execute_result"
    }
   ],
   "source": [
    "test = pd.read_csv('../../eda/outputs/imputed_test_mf.csv')\n",
    "m, n = test.shape                \n",
    "print('Data Frame: {} x {}'.format(m,n))                \n",
    "test.head()"
   ]
  },
  {
   "cell_type": "code",
   "execution_count": 6,
   "metadata": {},
   "outputs": [
    {
     "data": {
      "text/plain": [
       "{1016064.0}"
      ]
     },
     "execution_count": 6,
     "metadata": {},
     "output_type": "execute_result"
    }
   ],
   "source": [
    "print('Train unique:', train['galactic year'].nunique())\n",
    "len(set(test['galactic year'].unique()) - set(train['galactic year'].unique()))\n",
    "len(set(test['galactic year'].unique()) - set(train['galactic year'].unique()))"
   ]
  },
  {
   "cell_type": "markdown",
   "metadata": {},
   "source": [
    "Removing the galaxies from train set that are unseen in test set as no need to build model for those."
   ]
  },
  {
   "cell_type": "code",
   "execution_count": 5,
   "metadata": {},
   "outputs": [],
   "source": [
    "galaxies_unseen_test = list(set(train.galaxy.unique()) - set(test.galaxy.unique()))\n",
    "train = train[~train.galaxy.isin(galaxies_unseen_test)].copy()"
   ]
  },
  {
   "cell_type": "markdown",
   "metadata": {},
   "source": [
    "#### Build-up\n",
    "Implementing some functions that will help us and ease the process of data preparation, cross validation, model building, etc."
   ]
  },
  {
   "cell_type": "code",
   "execution_count": 6,
   "metadata": {},
   "outputs": [],
   "source": [
    "np.seterr(invalid='ignore')\n",
    "\n",
    "from sklearn.preprocessing import MinMaxScaler\n",
    "from sklearn.metrics import mean_squared_error"
   ]
  },
  {
   "cell_type": "code",
   "execution_count": 7,
   "metadata": {},
   "outputs": [],
   "source": [
    "def log_progress(sequence, every=None, size=None, name='Items'):\n",
    "    from ipywidgets import IntProgress, HTML, VBox\n",
    "    from IPython.display import display\n",
    "\n",
    "    is_iterator = False\n",
    "    if size is None:\n",
    "        try:\n",
    "            size = len(sequence)\n",
    "        except TypeError:\n",
    "            is_iterator = True\n",
    "    if size is not None:\n",
    "        if every is None:\n",
    "            if size <= 200:\n",
    "                every = 1\n",
    "            else:\n",
    "                every = int(size / 200)     # every 0.5%\n",
    "    else:\n",
    "        assert every is not None, 'sequence is iterator, set every'\n",
    "\n",
    "    if is_iterator:\n",
    "        progress = IntProgress(min=0, max=1, value=1)\n",
    "        progress.bar_style = 'info'\n",
    "    else:\n",
    "        progress = IntProgress(min=0, max=size, value=0)\n",
    "    label = HTML()\n",
    "    box = VBox(children=[label, progress])\n",
    "    display(box)\n",
    "\n",
    "    index = 0\n",
    "    try:\n",
    "        for index, record in enumerate(sequence, 1):\n",
    "            if index == 1 or index % every == 0:\n",
    "                if is_iterator:\n",
    "                    label.value = '{name}: {index} / ?'.format(\n",
    "                        name=name,\n",
    "                        index=index\n",
    "                    )\n",
    "                else:\n",
    "                    progress.value = index\n",
    "                    label.value = u'{name}: {index} / {size}'.format(\n",
    "                        name=name,\n",
    "                        index=index,\n",
    "                        size=size\n",
    "                    )\n",
    "            yield record\n",
    "    except:\n",
    "        progress.bar_style = 'danger'\n",
    "        raise\n",
    "    else:\n",
    "        progress.bar_style = 'success'\n",
    "        progress.value = index\n",
    "        label.value = \"{name}: {index}\".format(\n",
    "            name=name,\n",
    "            index=str(index or '?')\n",
    "        )"
   ]
  },
  {
   "cell_type": "code",
   "execution_count": 8,
   "metadata": {},
   "outputs": [],
   "source": [
    "class ModelHistory:\n",
    "    def set_param(self, param, val):\n",
    "        setattr(self, param, val)"
   ]
  },
  {
   "cell_type": "code",
   "execution_count": 9,
   "metadata": {},
   "outputs": [
    {
     "data": {
      "text/plain": [
       "(array([], dtype=int64),)"
      ]
     },
     "execution_count": 9,
     "metadata": {},
     "output_type": "execute_result"
    }
   ],
   "source": [
    "a = np.array([1,2,13,4,5])\n",
    "b = np.where(a>15)\n",
    "b"
   ]
  },
  {
   "cell_type": "code",
   "execution_count": 117,
   "metadata": {},
   "outputs": [],
   "source": [
    "def to_vector(x):\n",
    "    if not isinstance(x, np.ndarray):\n",
    "        x = np.array(x)\n",
    "    \n",
    "    x = x.reshape(len(x), 1)\n",
    "    return x\n",
    "\n",
    "def prepare_ts_data(train_set, test_set=None, target='y', date='ds', val_size=5, group=None):\n",
    "    if not group:\n",
    "        return train_set\n",
    "    \n",
    "    train = []\n",
    "    test = []\n",
    "    \n",
    "    # drop galaxies which are unseen at test.\n",
    "    \n",
    "    groups = sorted(train_set[group].unique())\n",
    "    \n",
    "    for g in groups:\n",
    "        y = to_vector(train_set.loc[train_set[group] == g, target].to_numpy())\n",
    "        ds = to_vector(train_set.loc[train_set[group] == g, date].to_numpy())\n",
    "        \n",
    "        if test_set is None and val_size != 0:\n",
    "            train.append((y[:-val_size], ds[:-val_size], g))\n",
    "            test.append((y[-val_size:], ds[-val_size:], g))\n",
    "        else:\n",
    "            y_test = to_vector(test_set.loc[test_set[group] == g, target].to_numpy())\n",
    "            ds_test = to_vector(test_set.loc[test_set[group] == g, date].to_numpy()) \n",
    "            \n",
    "            train.append((y, ds, g))\n",
    "            test.append((y_test, ds_test, g))\n",
    "    \n",
    "    return train, test\n",
    "\n",
    "\n",
    "def train_ts(train_set, val_set, model_klass,\n",
    "             model_params: dict = None,\n",
    "            fit_params: dict = None,\n",
    "            freq_correction = False,\n",
    "            freq_correction_lb = 70):\n",
    "    if not isinstance(model_klass, type):\n",
    "        raise \"Model parameter needs not to be a model class, not an instance\"\n",
    "    \n",
    "    if model_params is None:\n",
    "        model_params = {}\n",
    "    if fit_params is None:\n",
    "        fit_params = {}\n",
    "        \n",
    "    train_history = ModelHistory()\n",
    "        \n",
    "    res_df = pd.DataFrame(columns=['galaxy', 'galactic year', 'y_true', 'y_pred'])\n",
    "    \n",
    "    train_mse = 0\n",
    "    val_mse = 0\n",
    "    for train, val in log_progress(zip(train_set, val_set), every=1):\n",
    "        m_train, m_val = train[0].shape[0], val[0].shape[0]\n",
    "        if  m_train < 2:\n",
    "            f\"Skipping {train[2]}...\"\n",
    "            continue\n",
    "#         print(f'Training for {train[2]}\\tTrain:{train[0].shape[0]}\\tValid:{val[0].shape[0]}')\n",
    "        endog = train[0]\n",
    "        model = model_klass(endog=endog, **model_params)\n",
    "        model_name = model.__class__.__name__\n",
    "\n",
    "        history = model.fit(**fit_params)\n",
    "\n",
    "        # forecast\n",
    "        pred_start, pred_end = m_train, m_train + m_val - 1\n",
    "        y_pred = model.predict(params=history.params, start=pred_start, end=pred_end)\n",
    "        \n",
    "        if val[2] == 'Andromeda V':\n",
    "            print('y_pred', y_pred)\n",
    "\n",
    "        \n",
    "        if freq_correction:\n",
    "            diff = np.diff(val[1], axis=0)\n",
    "            diff = np.insert(diff, 0, 0) / 100\n",
    "            if any(diff>freq_correction_lb):\n",
    "                diff_index = np.where(diff>freq_correction_lb)[0][0]\n",
    "                diff_rest = m_val - diff_index - 1\n",
    "\n",
    "                last_year_diff = int(diff[diff_index]) + 1\n",
    "                pred_start, pred_end = pred_end+last_year_diff, pred_end+last_year_diff+diff_rest\n",
    "                new_vals = model.predict(params=history.params, start=pred_start, end=pred_end)  \n",
    "                del_index = [int(i) for i in range(diff_index, m_val)]\n",
    "                y_pred = np.delete(y_pred, del_index)\n",
    "                y_pred = np.insert(y_pred, len(y_pred), new_vals)\n",
    "        \n",
    "        if val[2] == 'Andromeda V':\n",
    "            print('diff', diff, 'diff_index', diff_index, 'diff_rest', diff_rest)\n",
    "            print('pred_start', pred_start, 'pred_end', pred_end)\n",
    "            print('new_vals', new_vals)\n",
    "            print('y_pred', y_pred)\n",
    "\n",
    "        pred_start, pred_end = 1, m_train\n",
    "        fittedvalues = model.predict(params=history.params, start=pred_start, end=pred_end)\n",
    "        \n",
    "        train_mse += mean_squared_error(train[0].ravel(), fittedvalues)\n",
    "        val_mse += mean_squared_error(val[0].ravel(), y_pred)\n",
    "        \n",
    "#         print(f'{train[2]}\\tTrain MSE:{train_mse: .5f}\\tValid MSE:{val_mse: .5f}')\n",
    "        temp = pd.DataFrame({\n",
    "            'galaxy': [str(val[2])] * (train[0].shape[0] + val[0].shape[0]),\n",
    "            'galactic year': train[1].ravel().tolist() + val[1].ravel().tolist(),\n",
    "            'y_true': train[0].ravel().tolist() + val[0].ravel().tolist(),\n",
    "            'y_pred': fittedvalues.tolist() + y_pred.tolist()\n",
    "        })\n",
    "        res_df = res_df.append(temp, ignore_index=True)\n",
    "    \n",
    "    train_history.set_param('train_rmse', train_mse ** .5)\n",
    "    train_history.set_param('valid_rmse', val_mse ** .5)\n",
    "    \n",
    "    return res_df, train_history"
   ]
  },
  {
   "cell_type": "code",
   "execution_count": 11,
   "metadata": {},
   "outputs": [],
   "source": [
    "def plot_resulting_df(res_df, index):\n",
    "    galaxy = sorted(resulting_df.galaxy.unique())[index]\n",
    "    galaxy_df = pd.DataFrame()\n",
    "    galaxy_df['galactic year'] = resulting_df.loc[resulting_df.galaxy == galaxy, 'galactic year'].tolist() * 2\n",
    "    galaxy_df['y'] = resulting_df.loc[resulting_df.galaxy == galaxy, 'y_true'].tolist() +\\\n",
    "                        resulting_df.loc[resulting_df.galaxy == galaxy, 'y_pred'].tolist()\n",
    "    galaxy_df['state'] = ['actual'] * resulting_df.loc[resulting_df.galaxy == galaxy, 'y_true'].shape[0] +\\\n",
    "                        ['predicted'] * resulting_df.loc[resulting_df.galaxy == galaxy, 'y_true'].shape[0]\n",
    "    fig = px.line(data_frame=galaxy_df, x='galactic year', y='y', color='state',\n",
    "           title=f'Galaxy: {galaxy}')\n",
    "\n",
    "    shapes = [{'type': 'line',\n",
    "                   'xref': 'x',\n",
    "                   'yref': 'y',\n",
    "                   'x0': galaxy_df['galactic year'].values[-3],\n",
    "                   'y0': galaxy_df.y.min(),\n",
    "                   'x1': galaxy_df['galactic year'].values[-3],\n",
    "                   'y1': galaxy_df.y.max()}]\n",
    "\n",
    "    fig.update_layout(shapes=shapes)\n",
    "    fig.show()"
   ]
  },
  {
   "cell_type": "markdown",
   "metadata": {},
   "source": [
    "On average we will be forecasting 5 years per galaxy.\n",
    "\n",
    "    test.groupby('galaxy').agg(\n",
    "        {\"galaxy\": \"count\"}\n",
    "    ).mean() # 5.174419\n",
    "\n",
    "Let's construct the train and validation sets."
   ]
  },
  {
   "cell_type": "code",
   "execution_count": 12,
   "metadata": {
    "scrolled": false
   },
   "outputs": [
    {
     "name": "stdout",
     "output_type": "stream",
     "text": [
      "Average train size per galaxy: 18.302325581395348\n",
      "Average validation size per galaxy: 3.0\n"
     ]
    }
   ],
   "source": [
    "ts_train, ts_val  = prepare_ts_data(train, target='y', date='galactic year', group='galaxy',\n",
    "                                   val_size=3)\n",
    "print('Average train size per galaxy:', sum([ts_train[i][0].shape[0] for i in range(len(ts_train))]) / len(ts_train))\n",
    "print('Average validation size per galaxy:', sum([ts_val[i][0].shape[0] for i in range(len(ts_val))]) / len(ts_val))"
   ]
  },
  {
   "cell_type": "markdown",
   "metadata": {},
   "source": [
    "#### Modeling\n",
    "\n",
    "Let's build up an Holt-Winters Models. Modeling with Holt"
   ]
  },
  {
   "cell_type": "code",
   "execution_count": 13,
   "metadata": {},
   "outputs": [],
   "source": [
    "from statsmodels.tsa.holtwinters import Holt"
   ]
  },
  {
   "cell_type": "code",
   "execution_count": 87,
   "metadata": {
    "code_folding": [],
    "scrolled": true
   },
   "outputs": [
    {
     "data": {
      "application/vnd.jupyter.widget-view+json": {
       "model_id": "ca19e78f690146e48495f3b5d69ea0b9",
       "version_major": 2,
       "version_minor": 0
      },
      "text/plain": [
       "VBox(children=(HTML(value=''), IntProgress(value=1, bar_style='info', max=1)))"
      ]
     },
     "metadata": {},
     "output_type": "display_data"
    },
    {
     "name": "stdout",
     "output_type": "stream",
     "text": [
      "Train RMSE 0.01588550587165983\n",
      "Valid RMSE 0.8917200830376611\n",
      "Wall time: 879 ms\n"
     ]
    }
   ],
   "source": [
    "%%time\n",
    "\n",
    "model_params = dict( \n",
    "    exponential=True, \n",
    "    damped=False\n",
    ")\n",
    "\n",
    "fit_params = dict(\n",
    "    smoothing_level=None,\n",
    "    smoothing_slope=0.85,\n",
    "    damping_slope=None,\n",
    "    optimized=True,\n",
    "    start_params=None,\n",
    "    initial_level=None,\n",
    "    initial_slope=None,\n",
    "    use_brute=False\n",
    ")\n",
    "\n",
    "resulting_df, train_history = train_ts(\n",
    "    ts_train, \n",
    "    ts_val, \n",
    "    model_klass=Holt,\n",
    "    model_params=model_params,\n",
    "    fit_params=fit_params,\n",
    "    freq_correction=True,\n",
    "    freq_correction_lb=60\n",
    ")\n",
    "\n",
    "print('Train RMSE', train_history.train_rmse)\n",
    "print('Valid RMSE', train_history.valid_rmse)"
   ]
  },
  {
   "cell_type": "code",
   "execution_count": 102,
   "metadata": {
    "scrolled": false
   },
   "outputs": [
    {
     "data": {
      "application/vnd.plotly.v1+json": {
       "config": {
        "plotlyServerURL": "https://plot.ly"
       },
       "data": [
        {
         "hovertemplate": "state=actual<br>galactic year=%{x}<br>y=%{y}<extra></extra>",
         "legendgroup": "actual",
         "line": {
          "color": "#636efa",
          "dash": "solid"
         },
         "mode": "lines",
         "name": "actual",
         "showlegend": true,
         "type": "scatter",
         "x": [
          990025,
          991020,
          992016,
          993012,
          994009,
          995006,
          996004,
          997002,
          998001,
          999000,
          1000000,
          1001000,
          1002001,
          1003002,
          1004004,
          1005006,
          1006009,
          1007012,
          1008016,
          1009020,
          1010025,
          1011030,
          1012036,
          1013042,
          1014049
         ],
         "xaxis": "x",
         "y": [
          0.05958614233409865,
          0.05908953425829855,
          0.05912478196861792,
          0.058923054891982685,
          0.05868987157455041,
          0.0584959329307253,
          0.058206326596539126,
          0.05799171671985081,
          0.05768829122258645,
          0.05744329109423596,
          0.05722724172266847,
          0.05579297081884982,
          0.05550085505296909,
          0.054925789166310864,
          0.054804022890783344,
          0.054554752612206665,
          0.052521993712846826,
          0.05212708930706656,
          0.05181488903145204,
          0.05155329364598205,
          0.05138036851417594,
          0.04005077473280316,
          0.042009706352078124,
          0.03580254312377107,
          0.03588221945441361
         ],
         "yaxis": "y"
        },
        {
         "hovertemplate": "state=predicted<br>galactic year=%{x}<br>y=%{y}<extra></extra>",
         "legendgroup": "predicted",
         "line": {
          "color": "#EF553B",
          "dash": "solid"
         },
         "mode": "lines",
         "name": "predicted",
         "showlegend": true,
         "type": "scatter",
         "x": [
          990025,
          991020,
          992016,
          993012,
          994009,
          995006,
          996004,
          997002,
          998001,
          999000,
          1000000,
          1001000,
          1002001,
          1003002,
          1004004,
          1005006,
          1006009,
          1007012,
          1008016,
          1009020,
          1010025,
          1011030,
          1012036,
          1013042,
          1014049
         ],
         "xaxis": "x",
         "y": [
          0.05905347857910895,
          0.058803677906347725,
          0.058833109205893366,
          0.058785323953609796,
          0.058604590524626576,
          0.05837164650387147,
          0.05804122095295079,
          0.05774892067999041,
          0.05742679619018449,
          0.05715164338950743,
          0.05693924606828001,
          0.05563936050919171,
          0.054795589429915637,
          0.05415068706672989,
          0.05404804137254772,
          0.054088126742916846,
          0.05244230931038155,
          0.05130705900797128,
          0.05080970649513862,
          0.050749460348371425,
          0.050901384033666945,
          0.04122364753293844,
          0.04122364753293844,
          0.03736885718750918,
          0.03387452520752034
         ],
         "yaxis": "y"
        }
       ],
       "layout": {
        "legend": {
         "title": {
          "text": "state"
         },
         "tracegroupgap": 0
        },
        "shapes": [
         {
          "type": "line",
          "x0": 1012036,
          "x1": 1012036,
          "xref": "x",
          "y0": 0.03387452520752034,
          "y1": 0.05958614233409865,
          "yref": "y"
         }
        ],
        "template": {
         "data": {
          "bar": [
           {
            "error_x": {
             "color": "#2a3f5f"
            },
            "error_y": {
             "color": "#2a3f5f"
            },
            "marker": {
             "line": {
              "color": "#E5ECF6",
              "width": 0.5
             }
            },
            "type": "bar"
           }
          ],
          "barpolar": [
           {
            "marker": {
             "line": {
              "color": "#E5ECF6",
              "width": 0.5
             }
            },
            "type": "barpolar"
           }
          ],
          "carpet": [
           {
            "aaxis": {
             "endlinecolor": "#2a3f5f",
             "gridcolor": "white",
             "linecolor": "white",
             "minorgridcolor": "white",
             "startlinecolor": "#2a3f5f"
            },
            "baxis": {
             "endlinecolor": "#2a3f5f",
             "gridcolor": "white",
             "linecolor": "white",
             "minorgridcolor": "white",
             "startlinecolor": "#2a3f5f"
            },
            "type": "carpet"
           }
          ],
          "choropleth": [
           {
            "colorbar": {
             "outlinewidth": 0,
             "ticks": ""
            },
            "type": "choropleth"
           }
          ],
          "contour": [
           {
            "colorbar": {
             "outlinewidth": 0,
             "ticks": ""
            },
            "colorscale": [
             [
              0,
              "#0d0887"
             ],
             [
              0.1111111111111111,
              "#46039f"
             ],
             [
              0.2222222222222222,
              "#7201a8"
             ],
             [
              0.3333333333333333,
              "#9c179e"
             ],
             [
              0.4444444444444444,
              "#bd3786"
             ],
             [
              0.5555555555555556,
              "#d8576b"
             ],
             [
              0.6666666666666666,
              "#ed7953"
             ],
             [
              0.7777777777777778,
              "#fb9f3a"
             ],
             [
              0.8888888888888888,
              "#fdca26"
             ],
             [
              1,
              "#f0f921"
             ]
            ],
            "type": "contour"
           }
          ],
          "contourcarpet": [
           {
            "colorbar": {
             "outlinewidth": 0,
             "ticks": ""
            },
            "type": "contourcarpet"
           }
          ],
          "heatmap": [
           {
            "colorbar": {
             "outlinewidth": 0,
             "ticks": ""
            },
            "colorscale": [
             [
              0,
              "#0d0887"
             ],
             [
              0.1111111111111111,
              "#46039f"
             ],
             [
              0.2222222222222222,
              "#7201a8"
             ],
             [
              0.3333333333333333,
              "#9c179e"
             ],
             [
              0.4444444444444444,
              "#bd3786"
             ],
             [
              0.5555555555555556,
              "#d8576b"
             ],
             [
              0.6666666666666666,
              "#ed7953"
             ],
             [
              0.7777777777777778,
              "#fb9f3a"
             ],
             [
              0.8888888888888888,
              "#fdca26"
             ],
             [
              1,
              "#f0f921"
             ]
            ],
            "type": "heatmap"
           }
          ],
          "heatmapgl": [
           {
            "colorbar": {
             "outlinewidth": 0,
             "ticks": ""
            },
            "colorscale": [
             [
              0,
              "#0d0887"
             ],
             [
              0.1111111111111111,
              "#46039f"
             ],
             [
              0.2222222222222222,
              "#7201a8"
             ],
             [
              0.3333333333333333,
              "#9c179e"
             ],
             [
              0.4444444444444444,
              "#bd3786"
             ],
             [
              0.5555555555555556,
              "#d8576b"
             ],
             [
              0.6666666666666666,
              "#ed7953"
             ],
             [
              0.7777777777777778,
              "#fb9f3a"
             ],
             [
              0.8888888888888888,
              "#fdca26"
             ],
             [
              1,
              "#f0f921"
             ]
            ],
            "type": "heatmapgl"
           }
          ],
          "histogram": [
           {
            "marker": {
             "colorbar": {
              "outlinewidth": 0,
              "ticks": ""
             }
            },
            "type": "histogram"
           }
          ],
          "histogram2d": [
           {
            "colorbar": {
             "outlinewidth": 0,
             "ticks": ""
            },
            "colorscale": [
             [
              0,
              "#0d0887"
             ],
             [
              0.1111111111111111,
              "#46039f"
             ],
             [
              0.2222222222222222,
              "#7201a8"
             ],
             [
              0.3333333333333333,
              "#9c179e"
             ],
             [
              0.4444444444444444,
              "#bd3786"
             ],
             [
              0.5555555555555556,
              "#d8576b"
             ],
             [
              0.6666666666666666,
              "#ed7953"
             ],
             [
              0.7777777777777778,
              "#fb9f3a"
             ],
             [
              0.8888888888888888,
              "#fdca26"
             ],
             [
              1,
              "#f0f921"
             ]
            ],
            "type": "histogram2d"
           }
          ],
          "histogram2dcontour": [
           {
            "colorbar": {
             "outlinewidth": 0,
             "ticks": ""
            },
            "colorscale": [
             [
              0,
              "#0d0887"
             ],
             [
              0.1111111111111111,
              "#46039f"
             ],
             [
              0.2222222222222222,
              "#7201a8"
             ],
             [
              0.3333333333333333,
              "#9c179e"
             ],
             [
              0.4444444444444444,
              "#bd3786"
             ],
             [
              0.5555555555555556,
              "#d8576b"
             ],
             [
              0.6666666666666666,
              "#ed7953"
             ],
             [
              0.7777777777777778,
              "#fb9f3a"
             ],
             [
              0.8888888888888888,
              "#fdca26"
             ],
             [
              1,
              "#f0f921"
             ]
            ],
            "type": "histogram2dcontour"
           }
          ],
          "mesh3d": [
           {
            "colorbar": {
             "outlinewidth": 0,
             "ticks": ""
            },
            "type": "mesh3d"
           }
          ],
          "parcoords": [
           {
            "line": {
             "colorbar": {
              "outlinewidth": 0,
              "ticks": ""
             }
            },
            "type": "parcoords"
           }
          ],
          "pie": [
           {
            "automargin": true,
            "type": "pie"
           }
          ],
          "scatter": [
           {
            "marker": {
             "colorbar": {
              "outlinewidth": 0,
              "ticks": ""
             }
            },
            "type": "scatter"
           }
          ],
          "scatter3d": [
           {
            "line": {
             "colorbar": {
              "outlinewidth": 0,
              "ticks": ""
             }
            },
            "marker": {
             "colorbar": {
              "outlinewidth": 0,
              "ticks": ""
             }
            },
            "type": "scatter3d"
           }
          ],
          "scattercarpet": [
           {
            "marker": {
             "colorbar": {
              "outlinewidth": 0,
              "ticks": ""
             }
            },
            "type": "scattercarpet"
           }
          ],
          "scattergeo": [
           {
            "marker": {
             "colorbar": {
              "outlinewidth": 0,
              "ticks": ""
             }
            },
            "type": "scattergeo"
           }
          ],
          "scattergl": [
           {
            "marker": {
             "colorbar": {
              "outlinewidth": 0,
              "ticks": ""
             }
            },
            "type": "scattergl"
           }
          ],
          "scattermapbox": [
           {
            "marker": {
             "colorbar": {
              "outlinewidth": 0,
              "ticks": ""
             }
            },
            "type": "scattermapbox"
           }
          ],
          "scatterpolar": [
           {
            "marker": {
             "colorbar": {
              "outlinewidth": 0,
              "ticks": ""
             }
            },
            "type": "scatterpolar"
           }
          ],
          "scatterpolargl": [
           {
            "marker": {
             "colorbar": {
              "outlinewidth": 0,
              "ticks": ""
             }
            },
            "type": "scatterpolargl"
           }
          ],
          "scatterternary": [
           {
            "marker": {
             "colorbar": {
              "outlinewidth": 0,
              "ticks": ""
             }
            },
            "type": "scatterternary"
           }
          ],
          "surface": [
           {
            "colorbar": {
             "outlinewidth": 0,
             "ticks": ""
            },
            "colorscale": [
             [
              0,
              "#0d0887"
             ],
             [
              0.1111111111111111,
              "#46039f"
             ],
             [
              0.2222222222222222,
              "#7201a8"
             ],
             [
              0.3333333333333333,
              "#9c179e"
             ],
             [
              0.4444444444444444,
              "#bd3786"
             ],
             [
              0.5555555555555556,
              "#d8576b"
             ],
             [
              0.6666666666666666,
              "#ed7953"
             ],
             [
              0.7777777777777778,
              "#fb9f3a"
             ],
             [
              0.8888888888888888,
              "#fdca26"
             ],
             [
              1,
              "#f0f921"
             ]
            ],
            "type": "surface"
           }
          ],
          "table": [
           {
            "cells": {
             "fill": {
              "color": "#EBF0F8"
             },
             "line": {
              "color": "white"
             }
            },
            "header": {
             "fill": {
              "color": "#C8D4E3"
             },
             "line": {
              "color": "white"
             }
            },
            "type": "table"
           }
          ]
         },
         "layout": {
          "annotationdefaults": {
           "arrowcolor": "#2a3f5f",
           "arrowhead": 0,
           "arrowwidth": 1
          },
          "coloraxis": {
           "colorbar": {
            "outlinewidth": 0,
            "ticks": ""
           }
          },
          "colorscale": {
           "diverging": [
            [
             0,
             "#8e0152"
            ],
            [
             0.1,
             "#c51b7d"
            ],
            [
             0.2,
             "#de77ae"
            ],
            [
             0.3,
             "#f1b6da"
            ],
            [
             0.4,
             "#fde0ef"
            ],
            [
             0.5,
             "#f7f7f7"
            ],
            [
             0.6,
             "#e6f5d0"
            ],
            [
             0.7,
             "#b8e186"
            ],
            [
             0.8,
             "#7fbc41"
            ],
            [
             0.9,
             "#4d9221"
            ],
            [
             1,
             "#276419"
            ]
           ],
           "sequential": [
            [
             0,
             "#0d0887"
            ],
            [
             0.1111111111111111,
             "#46039f"
            ],
            [
             0.2222222222222222,
             "#7201a8"
            ],
            [
             0.3333333333333333,
             "#9c179e"
            ],
            [
             0.4444444444444444,
             "#bd3786"
            ],
            [
             0.5555555555555556,
             "#d8576b"
            ],
            [
             0.6666666666666666,
             "#ed7953"
            ],
            [
             0.7777777777777778,
             "#fb9f3a"
            ],
            [
             0.8888888888888888,
             "#fdca26"
            ],
            [
             1,
             "#f0f921"
            ]
           ],
           "sequentialminus": [
            [
             0,
             "#0d0887"
            ],
            [
             0.1111111111111111,
             "#46039f"
            ],
            [
             0.2222222222222222,
             "#7201a8"
            ],
            [
             0.3333333333333333,
             "#9c179e"
            ],
            [
             0.4444444444444444,
             "#bd3786"
            ],
            [
             0.5555555555555556,
             "#d8576b"
            ],
            [
             0.6666666666666666,
             "#ed7953"
            ],
            [
             0.7777777777777778,
             "#fb9f3a"
            ],
            [
             0.8888888888888888,
             "#fdca26"
            ],
            [
             1,
             "#f0f921"
            ]
           ]
          },
          "colorway": [
           "#636efa",
           "#EF553B",
           "#00cc96",
           "#ab63fa",
           "#FFA15A",
           "#19d3f3",
           "#FF6692",
           "#B6E880",
           "#FF97FF",
           "#FECB52"
          ],
          "font": {
           "color": "#2a3f5f"
          },
          "geo": {
           "bgcolor": "white",
           "lakecolor": "white",
           "landcolor": "#E5ECF6",
           "showlakes": true,
           "showland": true,
           "subunitcolor": "white"
          },
          "hoverlabel": {
           "align": "left"
          },
          "hovermode": "closest",
          "mapbox": {
           "style": "light"
          },
          "paper_bgcolor": "white",
          "plot_bgcolor": "#E5ECF6",
          "polar": {
           "angularaxis": {
            "gridcolor": "white",
            "linecolor": "white",
            "ticks": ""
           },
           "bgcolor": "#E5ECF6",
           "radialaxis": {
            "gridcolor": "white",
            "linecolor": "white",
            "ticks": ""
           }
          },
          "scene": {
           "xaxis": {
            "backgroundcolor": "#E5ECF6",
            "gridcolor": "white",
            "gridwidth": 2,
            "linecolor": "white",
            "showbackground": true,
            "ticks": "",
            "zerolinecolor": "white"
           },
           "yaxis": {
            "backgroundcolor": "#E5ECF6",
            "gridcolor": "white",
            "gridwidth": 2,
            "linecolor": "white",
            "showbackground": true,
            "ticks": "",
            "zerolinecolor": "white"
           },
           "zaxis": {
            "backgroundcolor": "#E5ECF6",
            "gridcolor": "white",
            "gridwidth": 2,
            "linecolor": "white",
            "showbackground": true,
            "ticks": "",
            "zerolinecolor": "white"
           }
          },
          "shapedefaults": {
           "line": {
            "color": "#2a3f5f"
           }
          },
          "ternary": {
           "aaxis": {
            "gridcolor": "white",
            "linecolor": "white",
            "ticks": ""
           },
           "baxis": {
            "gridcolor": "white",
            "linecolor": "white",
            "ticks": ""
           },
           "bgcolor": "#E5ECF6",
           "caxis": {
            "gridcolor": "white",
            "linecolor": "white",
            "ticks": ""
           }
          },
          "title": {
           "x": 0.05
          },
          "xaxis": {
           "automargin": true,
           "gridcolor": "white",
           "linecolor": "white",
           "ticks": "",
           "title": {
            "standoff": 15
           },
           "zerolinecolor": "white",
           "zerolinewidth": 2
          },
          "yaxis": {
           "automargin": true,
           "gridcolor": "white",
           "linecolor": "white",
           "ticks": "",
           "title": {
            "standoff": 15
           },
           "zerolinecolor": "white",
           "zerolinewidth": 2
          }
         }
        },
        "title": {
         "text": "Galaxy: Andromeda XXV"
        },
        "xaxis": {
         "anchor": "y",
         "domain": [
          0,
          1
         ],
         "title": {
          "text": "galactic year"
         }
        },
        "yaxis": {
         "anchor": "x",
         "domain": [
          0,
          1
         ],
         "title": {
          "text": "y"
         }
        }
       }
      },
      "text/html": [
       "<div>\n",
       "        \n",
       "        \n",
       "            <div id=\"97a4ae36-23bb-49b6-9951-f86e90fcbf0d\" class=\"plotly-graph-div\" style=\"height:525px; width:100%;\"></div>\n",
       "            <script type=\"text/javascript\">\n",
       "                require([\"plotly\"], function(Plotly) {\n",
       "                    window.PLOTLYENV=window.PLOTLYENV || {};\n",
       "                    \n",
       "                if (document.getElementById(\"97a4ae36-23bb-49b6-9951-f86e90fcbf0d\")) {\n",
       "                    Plotly.newPlot(\n",
       "                        '97a4ae36-23bb-49b6-9951-f86e90fcbf0d',\n",
       "                        [{\"hovertemplate\": \"state=actual<br>galactic year=%{x}<br>y=%{y}<extra></extra>\", \"legendgroup\": \"actual\", \"line\": {\"color\": \"#636efa\", \"dash\": \"solid\"}, \"mode\": \"lines\", \"name\": \"actual\", \"showlegend\": true, \"type\": \"scatter\", \"x\": [990025.0, 991020.0, 992016.0, 993012.0, 994009.0, 995006.0, 996004.0, 997002.0, 998001.0, 999000.0, 1000000.0, 1001000.0, 1002001.0, 1003002.0, 1004004.0, 1005006.0, 1006009.0, 1007012.0, 1008016.0, 1009020.0, 1010025.0, 1011030.0, 1012036.0, 1013042.0, 1014049.0], \"xaxis\": \"x\", \"y\": [0.05958614233409865, 0.05908953425829855, 0.05912478196861792, 0.058923054891982685, 0.05868987157455041, 0.0584959329307253, 0.058206326596539126, 0.05799171671985081, 0.05768829122258645, 0.05744329109423596, 0.05722724172266847, 0.05579297081884982, 0.05550085505296909, 0.054925789166310864, 0.054804022890783344, 0.054554752612206665, 0.052521993712846826, 0.05212708930706656, 0.05181488903145204, 0.05155329364598205, 0.05138036851417594, 0.04005077473280316, 0.042009706352078124, 0.03580254312377107, 0.03588221945441361], \"yaxis\": \"y\"}, {\"hovertemplate\": \"state=predicted<br>galactic year=%{x}<br>y=%{y}<extra></extra>\", \"legendgroup\": \"predicted\", \"line\": {\"color\": \"#EF553B\", \"dash\": \"solid\"}, \"mode\": \"lines\", \"name\": \"predicted\", \"showlegend\": true, \"type\": \"scatter\", \"x\": [990025.0, 991020.0, 992016.0, 993012.0, 994009.0, 995006.0, 996004.0, 997002.0, 998001.0, 999000.0, 1000000.0, 1001000.0, 1002001.0, 1003002.0, 1004004.0, 1005006.0, 1006009.0, 1007012.0, 1008016.0, 1009020.0, 1010025.0, 1011030.0, 1012036.0, 1013042.0, 1014049.0], \"xaxis\": \"x\", \"y\": [0.05905347857910895, 0.058803677906347725, 0.058833109205893366, 0.058785323953609796, 0.058604590524626576, 0.05837164650387147, 0.05804122095295079, 0.05774892067999041, 0.05742679619018449, 0.05715164338950743, 0.05693924606828001, 0.05563936050919171, 0.054795589429915637, 0.05415068706672989, 0.05404804137254772, 0.054088126742916846, 0.05244230931038155, 0.05130705900797128, 0.05080970649513862, 0.050749460348371425, 0.050901384033666945, 0.04122364753293844, 0.04122364753293844, 0.03736885718750918, 0.03387452520752034], \"yaxis\": \"y\"}],\n",
       "                        {\"legend\": {\"title\": {\"text\": \"state\"}, \"tracegroupgap\": 0}, \"shapes\": [{\"type\": \"line\", \"x0\": 1012036.0, \"x1\": 1012036.0, \"xref\": \"x\", \"y0\": 0.03387452520752034, \"y1\": 0.05958614233409865, \"yref\": \"y\"}], \"template\": {\"data\": {\"bar\": [{\"error_x\": {\"color\": \"#2a3f5f\"}, \"error_y\": {\"color\": \"#2a3f5f\"}, \"marker\": {\"line\": {\"color\": \"#E5ECF6\", \"width\": 0.5}}, \"type\": \"bar\"}], \"barpolar\": [{\"marker\": {\"line\": {\"color\": \"#E5ECF6\", \"width\": 0.5}}, \"type\": \"barpolar\"}], \"carpet\": [{\"aaxis\": {\"endlinecolor\": \"#2a3f5f\", \"gridcolor\": \"white\", \"linecolor\": \"white\", \"minorgridcolor\": \"white\", \"startlinecolor\": \"#2a3f5f\"}, \"baxis\": {\"endlinecolor\": \"#2a3f5f\", \"gridcolor\": \"white\", \"linecolor\": \"white\", \"minorgridcolor\": \"white\", \"startlinecolor\": \"#2a3f5f\"}, \"type\": \"carpet\"}], \"choropleth\": [{\"colorbar\": {\"outlinewidth\": 0, \"ticks\": \"\"}, \"type\": \"choropleth\"}], \"contour\": [{\"colorbar\": {\"outlinewidth\": 0, \"ticks\": \"\"}, \"colorscale\": [[0.0, \"#0d0887\"], [0.1111111111111111, \"#46039f\"], [0.2222222222222222, \"#7201a8\"], [0.3333333333333333, \"#9c179e\"], [0.4444444444444444, \"#bd3786\"], [0.5555555555555556, \"#d8576b\"], [0.6666666666666666, \"#ed7953\"], [0.7777777777777778, \"#fb9f3a\"], [0.8888888888888888, \"#fdca26\"], [1.0, \"#f0f921\"]], \"type\": \"contour\"}], \"contourcarpet\": [{\"colorbar\": {\"outlinewidth\": 0, \"ticks\": \"\"}, \"type\": \"contourcarpet\"}], \"heatmap\": [{\"colorbar\": {\"outlinewidth\": 0, \"ticks\": \"\"}, \"colorscale\": [[0.0, \"#0d0887\"], [0.1111111111111111, \"#46039f\"], [0.2222222222222222, \"#7201a8\"], [0.3333333333333333, \"#9c179e\"], [0.4444444444444444, \"#bd3786\"], [0.5555555555555556, \"#d8576b\"], [0.6666666666666666, \"#ed7953\"], [0.7777777777777778, \"#fb9f3a\"], [0.8888888888888888, \"#fdca26\"], [1.0, \"#f0f921\"]], \"type\": \"heatmap\"}], \"heatmapgl\": [{\"colorbar\": {\"outlinewidth\": 0, \"ticks\": \"\"}, \"colorscale\": [[0.0, \"#0d0887\"], [0.1111111111111111, \"#46039f\"], [0.2222222222222222, \"#7201a8\"], [0.3333333333333333, \"#9c179e\"], [0.4444444444444444, \"#bd3786\"], [0.5555555555555556, \"#d8576b\"], [0.6666666666666666, \"#ed7953\"], [0.7777777777777778, \"#fb9f3a\"], [0.8888888888888888, \"#fdca26\"], [1.0, \"#f0f921\"]], \"type\": \"heatmapgl\"}], \"histogram\": [{\"marker\": {\"colorbar\": {\"outlinewidth\": 0, \"ticks\": \"\"}}, \"type\": \"histogram\"}], \"histogram2d\": [{\"colorbar\": {\"outlinewidth\": 0, \"ticks\": \"\"}, \"colorscale\": [[0.0, \"#0d0887\"], [0.1111111111111111, \"#46039f\"], [0.2222222222222222, \"#7201a8\"], [0.3333333333333333, \"#9c179e\"], [0.4444444444444444, \"#bd3786\"], [0.5555555555555556, \"#d8576b\"], [0.6666666666666666, \"#ed7953\"], [0.7777777777777778, \"#fb9f3a\"], [0.8888888888888888, \"#fdca26\"], [1.0, \"#f0f921\"]], \"type\": \"histogram2d\"}], \"histogram2dcontour\": [{\"colorbar\": {\"outlinewidth\": 0, \"ticks\": \"\"}, \"colorscale\": [[0.0, \"#0d0887\"], [0.1111111111111111, \"#46039f\"], [0.2222222222222222, \"#7201a8\"], [0.3333333333333333, \"#9c179e\"], [0.4444444444444444, \"#bd3786\"], [0.5555555555555556, \"#d8576b\"], [0.6666666666666666, \"#ed7953\"], [0.7777777777777778, \"#fb9f3a\"], [0.8888888888888888, \"#fdca26\"], [1.0, \"#f0f921\"]], \"type\": \"histogram2dcontour\"}], \"mesh3d\": [{\"colorbar\": {\"outlinewidth\": 0, \"ticks\": \"\"}, \"type\": \"mesh3d\"}], \"parcoords\": [{\"line\": {\"colorbar\": {\"outlinewidth\": 0, \"ticks\": \"\"}}, \"type\": \"parcoords\"}], \"pie\": [{\"automargin\": true, \"type\": \"pie\"}], \"scatter\": [{\"marker\": {\"colorbar\": {\"outlinewidth\": 0, \"ticks\": \"\"}}, \"type\": \"scatter\"}], \"scatter3d\": [{\"line\": {\"colorbar\": {\"outlinewidth\": 0, \"ticks\": \"\"}}, \"marker\": {\"colorbar\": {\"outlinewidth\": 0, \"ticks\": \"\"}}, \"type\": \"scatter3d\"}], \"scattercarpet\": [{\"marker\": {\"colorbar\": {\"outlinewidth\": 0, \"ticks\": \"\"}}, \"type\": \"scattercarpet\"}], \"scattergeo\": [{\"marker\": {\"colorbar\": {\"outlinewidth\": 0, \"ticks\": \"\"}}, \"type\": \"scattergeo\"}], \"scattergl\": [{\"marker\": {\"colorbar\": {\"outlinewidth\": 0, \"ticks\": \"\"}}, \"type\": \"scattergl\"}], \"scattermapbox\": [{\"marker\": {\"colorbar\": {\"outlinewidth\": 0, \"ticks\": \"\"}}, \"type\": \"scattermapbox\"}], \"scatterpolar\": [{\"marker\": {\"colorbar\": {\"outlinewidth\": 0, \"ticks\": \"\"}}, \"type\": \"scatterpolar\"}], \"scatterpolargl\": [{\"marker\": {\"colorbar\": {\"outlinewidth\": 0, \"ticks\": \"\"}}, \"type\": \"scatterpolargl\"}], \"scatterternary\": [{\"marker\": {\"colorbar\": {\"outlinewidth\": 0, \"ticks\": \"\"}}, \"type\": \"scatterternary\"}], \"surface\": [{\"colorbar\": {\"outlinewidth\": 0, \"ticks\": \"\"}, \"colorscale\": [[0.0, \"#0d0887\"], [0.1111111111111111, \"#46039f\"], [0.2222222222222222, \"#7201a8\"], [0.3333333333333333, \"#9c179e\"], [0.4444444444444444, \"#bd3786\"], [0.5555555555555556, \"#d8576b\"], [0.6666666666666666, \"#ed7953\"], [0.7777777777777778, \"#fb9f3a\"], [0.8888888888888888, \"#fdca26\"], [1.0, \"#f0f921\"]], \"type\": \"surface\"}], \"table\": [{\"cells\": {\"fill\": {\"color\": \"#EBF0F8\"}, \"line\": {\"color\": \"white\"}}, \"header\": {\"fill\": {\"color\": \"#C8D4E3\"}, \"line\": {\"color\": \"white\"}}, \"type\": \"table\"}]}, \"layout\": {\"annotationdefaults\": {\"arrowcolor\": \"#2a3f5f\", \"arrowhead\": 0, \"arrowwidth\": 1}, \"coloraxis\": {\"colorbar\": {\"outlinewidth\": 0, \"ticks\": \"\"}}, \"colorscale\": {\"diverging\": [[0, \"#8e0152\"], [0.1, \"#c51b7d\"], [0.2, \"#de77ae\"], [0.3, \"#f1b6da\"], [0.4, \"#fde0ef\"], [0.5, \"#f7f7f7\"], [0.6, \"#e6f5d0\"], [0.7, \"#b8e186\"], [0.8, \"#7fbc41\"], [0.9, \"#4d9221\"], [1, \"#276419\"]], \"sequential\": [[0.0, \"#0d0887\"], [0.1111111111111111, \"#46039f\"], [0.2222222222222222, \"#7201a8\"], [0.3333333333333333, \"#9c179e\"], [0.4444444444444444, \"#bd3786\"], [0.5555555555555556, \"#d8576b\"], [0.6666666666666666, \"#ed7953\"], [0.7777777777777778, \"#fb9f3a\"], [0.8888888888888888, \"#fdca26\"], [1.0, \"#f0f921\"]], \"sequentialminus\": [[0.0, \"#0d0887\"], [0.1111111111111111, \"#46039f\"], [0.2222222222222222, \"#7201a8\"], [0.3333333333333333, \"#9c179e\"], [0.4444444444444444, \"#bd3786\"], [0.5555555555555556, \"#d8576b\"], [0.6666666666666666, \"#ed7953\"], [0.7777777777777778, \"#fb9f3a\"], [0.8888888888888888, \"#fdca26\"], [1.0, \"#f0f921\"]]}, \"colorway\": [\"#636efa\", \"#EF553B\", \"#00cc96\", \"#ab63fa\", \"#FFA15A\", \"#19d3f3\", \"#FF6692\", \"#B6E880\", \"#FF97FF\", \"#FECB52\"], \"font\": {\"color\": \"#2a3f5f\"}, \"geo\": {\"bgcolor\": \"white\", \"lakecolor\": \"white\", \"landcolor\": \"#E5ECF6\", \"showlakes\": true, \"showland\": true, \"subunitcolor\": \"white\"}, \"hoverlabel\": {\"align\": \"left\"}, \"hovermode\": \"closest\", \"mapbox\": {\"style\": \"light\"}, \"paper_bgcolor\": \"white\", \"plot_bgcolor\": \"#E5ECF6\", \"polar\": {\"angularaxis\": {\"gridcolor\": \"white\", \"linecolor\": \"white\", \"ticks\": \"\"}, \"bgcolor\": \"#E5ECF6\", \"radialaxis\": {\"gridcolor\": \"white\", \"linecolor\": \"white\", \"ticks\": \"\"}}, \"scene\": {\"xaxis\": {\"backgroundcolor\": \"#E5ECF6\", \"gridcolor\": \"white\", \"gridwidth\": 2, \"linecolor\": \"white\", \"showbackground\": true, \"ticks\": \"\", \"zerolinecolor\": \"white\"}, \"yaxis\": {\"backgroundcolor\": \"#E5ECF6\", \"gridcolor\": \"white\", \"gridwidth\": 2, \"linecolor\": \"white\", \"showbackground\": true, \"ticks\": \"\", \"zerolinecolor\": \"white\"}, \"zaxis\": {\"backgroundcolor\": \"#E5ECF6\", \"gridcolor\": \"white\", \"gridwidth\": 2, \"linecolor\": \"white\", \"showbackground\": true, \"ticks\": \"\", \"zerolinecolor\": \"white\"}}, \"shapedefaults\": {\"line\": {\"color\": \"#2a3f5f\"}}, \"ternary\": {\"aaxis\": {\"gridcolor\": \"white\", \"linecolor\": \"white\", \"ticks\": \"\"}, \"baxis\": {\"gridcolor\": \"white\", \"linecolor\": \"white\", \"ticks\": \"\"}, \"bgcolor\": \"#E5ECF6\", \"caxis\": {\"gridcolor\": \"white\", \"linecolor\": \"white\", \"ticks\": \"\"}}, \"title\": {\"x\": 0.05}, \"xaxis\": {\"automargin\": true, \"gridcolor\": \"white\", \"linecolor\": \"white\", \"ticks\": \"\", \"title\": {\"standoff\": 15}, \"zerolinecolor\": \"white\", \"zerolinewidth\": 2}, \"yaxis\": {\"automargin\": true, \"gridcolor\": \"white\", \"linecolor\": \"white\", \"ticks\": \"\", \"title\": {\"standoff\": 15}, \"zerolinecolor\": \"white\", \"zerolinewidth\": 2}}}, \"title\": {\"text\": \"Galaxy: Andromeda XXV\"}, \"xaxis\": {\"anchor\": \"y\", \"domain\": [0.0, 1.0], \"title\": {\"text\": \"galactic year\"}}, \"yaxis\": {\"anchor\": \"x\", \"domain\": [0.0, 1.0], \"title\": {\"text\": \"y\"}}},\n",
       "                        {\"responsive\": true}\n",
       "                    ).then(function(){\n",
       "                            \n",
       "var gd = document.getElementById('97a4ae36-23bb-49b6-9951-f86e90fcbf0d');\n",
       "var x = new MutationObserver(function (mutations, observer) {{\n",
       "        var display = window.getComputedStyle(gd).display;\n",
       "        if (!display || display === 'none') {{\n",
       "            console.log([gd, 'removed!']);\n",
       "            Plotly.purge(gd);\n",
       "            observer.disconnect();\n",
       "        }}\n",
       "}});\n",
       "\n",
       "// Listen for the removal of the full notebook cells\n",
       "var notebookContainer = gd.closest('#notebook-container');\n",
       "if (notebookContainer) {{\n",
       "    x.observe(notebookContainer, {childList: true});\n",
       "}}\n",
       "\n",
       "// Listen for the clearing of the current output cell\n",
       "var outputEl = gd.closest('.output');\n",
       "if (outputEl) {{\n",
       "    x.observe(outputEl, {childList: true});\n",
       "}}\n",
       "\n",
       "                        })\n",
       "                };\n",
       "                });\n",
       "            </script>\n",
       "        </div>"
      ]
     },
     "metadata": {},
     "output_type": "display_data"
    }
   ],
   "source": [
    "# Plotting y_true vs y_pred with forecast, change i variable\n",
    "# to see the different galaxies\n",
    "galaxy_index = 10\n",
    "plot_resulting_df(res_df=resulting_df, index=galaxy_index)"
   ]
  },
  {
   "cell_type": "code",
   "execution_count": 16,
   "metadata": {},
   "outputs": [],
   "source": [
    "from statsmodels.tsa.holtwinters import ExponentialSmoothing"
   ]
  },
  {
   "cell_type": "code",
   "execution_count": 66,
   "metadata": {},
   "outputs": [
    {
     "data": {
      "application/vnd.jupyter.widget-view+json": {
       "model_id": "8441d65956594e0ba9525b8a18077198",
       "version_major": 2,
       "version_minor": 0
      },
      "text/plain": [
       "VBox(children=(HTML(value=''), IntProgress(value=1, bar_style='info', max=1)))"
      ]
     },
     "metadata": {},
     "output_type": "display_data"
    },
    {
     "name": "stdout",
     "output_type": "stream",
     "text": [
      "y_pred [0.04790684 0.04790684 0.04790684]\n",
      "Train RMSE 0.017128463906921285\n",
      "Valid RMSE 0.3271119185606703\n",
      "Wall time: 4.16 s\n"
     ]
    }
   ],
   "source": [
    "%%time\n",
    "\n",
    "model_params = dict(\n",
    "    trend=None,\n",
    "    damped=False,\n",
    "    seasonal=None,\n",
    "    seasonal_periods=None,\n",
    "    dates=None,\n",
    "    freq=None,\n",
    "    missing='none'\n",
    ")\n",
    "\n",
    "fit_params = dict(\n",
    "    smoothing_level=None,\n",
    "    smoothing_slope=0.8,\n",
    "    smoothing_seasonal=None,\n",
    "    damping_slope=None,\n",
    "    optimized=True,\n",
    "    use_boxcox=False,\n",
    "    remove_bias=True,\n",
    "    use_basinhopping=True,\n",
    "    start_params=None,\n",
    "    initial_level=None,\n",
    "    initial_slope=None,\n",
    "    use_brute=False\n",
    ")\n",
    "\n",
    "resulting_df, train_history = train_ts(\n",
    "    ts_train, \n",
    "    ts_val, \n",
    "    model_klass=ExponentialSmoothing,\n",
    "    model_params=model_params,\n",
    "    fit_params=fit_params,\n",
    "    freq_correction=True,\n",
    "    freq_correction_lb=60\n",
    ")\n",
    "\n",
    "print('Train RMSE', train_history.train_rmse)\n",
    "print('Valid RMSE', train_history.valid_rmse)"
   ]
  },
  {
   "cell_type": "code",
   "execution_count": 71,
   "metadata": {
    "scrolled": false
   },
   "outputs": [
    {
     "data": {
      "application/vnd.plotly.v1+json": {
       "config": {
        "plotlyServerURL": "https://plot.ly"
       },
       "data": [
        {
         "hovertemplate": "state=actual<br>galactic year=%{x}<br>y=%{y}<extra></extra>",
         "legendgroup": "actual",
         "line": {
          "color": "#636efa",
          "dash": "solid"
         },
         "mode": "lines",
         "name": "actual",
         "showlegend": true,
         "type": "scatter",
         "x": [
          990025,
          991020,
          992016,
          993012,
          994009,
          995006,
          996004,
          997002,
          998001,
          999000,
          1000000,
          1001000,
          1002001,
          1003002,
          1004004,
          1005006,
          1006009,
          1007012,
          1008016,
          1009020,
          1010025,
          1011030,
          1012036,
          1013042,
          1014049
         ],
         "xaxis": "x",
         "y": [
          0.16793520472448298,
          0.17018216520359608,
          0.170547162999914,
          0.1701705380087949,
          0.17059735097465634,
          0.17065617548162604,
          0.1729672510434518,
          0.17347122173989238,
          0.17503736745081278,
          0.17504797518624626,
          0.1761465889518916,
          0.18237535689646844,
          0.1848298554463992,
          0.18598952968801474,
          0.18659303768710644,
          0.18929318812614604,
          0.1899637870658627,
          0.18887569431579765,
          0.19103590306128748,
          0.19191268077810053,
          0.1917290303504537,
          0.14388356063625066,
          0.14448057002876502,
          0.1835604712091924,
          0.16993414095810222
         ],
         "yaxis": "y"
        },
        {
         "hovertemplate": "state=predicted<br>galactic year=%{x}<br>y=%{y}<extra></extra>",
         "legendgroup": "predicted",
         "line": {
          "color": "#EF553B",
          "dash": "solid"
         },
         "mode": "lines",
         "name": "predicted",
         "showlegend": true,
         "type": "scatter",
         "x": [
          990025,
          991020,
          992016,
          993012,
          994009,
          995006,
          996004,
          997002,
          998001,
          999000,
          1000000,
          1001000,
          1002001,
          1003002,
          1004004,
          1005006,
          1006009,
          1007012,
          1008016,
          1009020,
          1010025,
          1011030,
          1012036,
          1013042,
          1014049
         ],
         "xaxis": "x",
         "y": [
          0.1668916415460482,
          0.1691386020251613,
          0.1695035998214792,
          0.1691269748303601,
          0.16955378779622154,
          0.16961261230319125,
          0.171923687865017,
          0.1724276585614576,
          0.17399380427237798,
          0.17400441200781147,
          0.1751030257734568,
          0.18133179371803365,
          0.18378629226796442,
          0.18494596650957995,
          0.18554947450867165,
          0.18824962494771125,
          0.1889202238874279,
          0.18783213113736286,
          0.1899923398828527,
          0.19086911759966574,
          0.1906854671720189,
          0.14283999745781586,
          0.14283999745781586,
          0.14283999745781586,
          0.14283999745781586
         ],
         "yaxis": "y"
        }
       ],
       "layout": {
        "legend": {
         "title": {
          "text": "state"
         },
         "tracegroupgap": 0
        },
        "shapes": [
         {
          "type": "line",
          "x0": 1012036,
          "x1": 1012036,
          "xref": "x",
          "y0": 0.14283999745781586,
          "y1": 0.19191268077810053,
          "yref": "y"
         }
        ],
        "template": {
         "data": {
          "bar": [
           {
            "error_x": {
             "color": "#2a3f5f"
            },
            "error_y": {
             "color": "#2a3f5f"
            },
            "marker": {
             "line": {
              "color": "#E5ECF6",
              "width": 0.5
             }
            },
            "type": "bar"
           }
          ],
          "barpolar": [
           {
            "marker": {
             "line": {
              "color": "#E5ECF6",
              "width": 0.5
             }
            },
            "type": "barpolar"
           }
          ],
          "carpet": [
           {
            "aaxis": {
             "endlinecolor": "#2a3f5f",
             "gridcolor": "white",
             "linecolor": "white",
             "minorgridcolor": "white",
             "startlinecolor": "#2a3f5f"
            },
            "baxis": {
             "endlinecolor": "#2a3f5f",
             "gridcolor": "white",
             "linecolor": "white",
             "minorgridcolor": "white",
             "startlinecolor": "#2a3f5f"
            },
            "type": "carpet"
           }
          ],
          "choropleth": [
           {
            "colorbar": {
             "outlinewidth": 0,
             "ticks": ""
            },
            "type": "choropleth"
           }
          ],
          "contour": [
           {
            "colorbar": {
             "outlinewidth": 0,
             "ticks": ""
            },
            "colorscale": [
             [
              0,
              "#0d0887"
             ],
             [
              0.1111111111111111,
              "#46039f"
             ],
             [
              0.2222222222222222,
              "#7201a8"
             ],
             [
              0.3333333333333333,
              "#9c179e"
             ],
             [
              0.4444444444444444,
              "#bd3786"
             ],
             [
              0.5555555555555556,
              "#d8576b"
             ],
             [
              0.6666666666666666,
              "#ed7953"
             ],
             [
              0.7777777777777778,
              "#fb9f3a"
             ],
             [
              0.8888888888888888,
              "#fdca26"
             ],
             [
              1,
              "#f0f921"
             ]
            ],
            "type": "contour"
           }
          ],
          "contourcarpet": [
           {
            "colorbar": {
             "outlinewidth": 0,
             "ticks": ""
            },
            "type": "contourcarpet"
           }
          ],
          "heatmap": [
           {
            "colorbar": {
             "outlinewidth": 0,
             "ticks": ""
            },
            "colorscale": [
             [
              0,
              "#0d0887"
             ],
             [
              0.1111111111111111,
              "#46039f"
             ],
             [
              0.2222222222222222,
              "#7201a8"
             ],
             [
              0.3333333333333333,
              "#9c179e"
             ],
             [
              0.4444444444444444,
              "#bd3786"
             ],
             [
              0.5555555555555556,
              "#d8576b"
             ],
             [
              0.6666666666666666,
              "#ed7953"
             ],
             [
              0.7777777777777778,
              "#fb9f3a"
             ],
             [
              0.8888888888888888,
              "#fdca26"
             ],
             [
              1,
              "#f0f921"
             ]
            ],
            "type": "heatmap"
           }
          ],
          "heatmapgl": [
           {
            "colorbar": {
             "outlinewidth": 0,
             "ticks": ""
            },
            "colorscale": [
             [
              0,
              "#0d0887"
             ],
             [
              0.1111111111111111,
              "#46039f"
             ],
             [
              0.2222222222222222,
              "#7201a8"
             ],
             [
              0.3333333333333333,
              "#9c179e"
             ],
             [
              0.4444444444444444,
              "#bd3786"
             ],
             [
              0.5555555555555556,
              "#d8576b"
             ],
             [
              0.6666666666666666,
              "#ed7953"
             ],
             [
              0.7777777777777778,
              "#fb9f3a"
             ],
             [
              0.8888888888888888,
              "#fdca26"
             ],
             [
              1,
              "#f0f921"
             ]
            ],
            "type": "heatmapgl"
           }
          ],
          "histogram": [
           {
            "marker": {
             "colorbar": {
              "outlinewidth": 0,
              "ticks": ""
             }
            },
            "type": "histogram"
           }
          ],
          "histogram2d": [
           {
            "colorbar": {
             "outlinewidth": 0,
             "ticks": ""
            },
            "colorscale": [
             [
              0,
              "#0d0887"
             ],
             [
              0.1111111111111111,
              "#46039f"
             ],
             [
              0.2222222222222222,
              "#7201a8"
             ],
             [
              0.3333333333333333,
              "#9c179e"
             ],
             [
              0.4444444444444444,
              "#bd3786"
             ],
             [
              0.5555555555555556,
              "#d8576b"
             ],
             [
              0.6666666666666666,
              "#ed7953"
             ],
             [
              0.7777777777777778,
              "#fb9f3a"
             ],
             [
              0.8888888888888888,
              "#fdca26"
             ],
             [
              1,
              "#f0f921"
             ]
            ],
            "type": "histogram2d"
           }
          ],
          "histogram2dcontour": [
           {
            "colorbar": {
             "outlinewidth": 0,
             "ticks": ""
            },
            "colorscale": [
             [
              0,
              "#0d0887"
             ],
             [
              0.1111111111111111,
              "#46039f"
             ],
             [
              0.2222222222222222,
              "#7201a8"
             ],
             [
              0.3333333333333333,
              "#9c179e"
             ],
             [
              0.4444444444444444,
              "#bd3786"
             ],
             [
              0.5555555555555556,
              "#d8576b"
             ],
             [
              0.6666666666666666,
              "#ed7953"
             ],
             [
              0.7777777777777778,
              "#fb9f3a"
             ],
             [
              0.8888888888888888,
              "#fdca26"
             ],
             [
              1,
              "#f0f921"
             ]
            ],
            "type": "histogram2dcontour"
           }
          ],
          "mesh3d": [
           {
            "colorbar": {
             "outlinewidth": 0,
             "ticks": ""
            },
            "type": "mesh3d"
           }
          ],
          "parcoords": [
           {
            "line": {
             "colorbar": {
              "outlinewidth": 0,
              "ticks": ""
             }
            },
            "type": "parcoords"
           }
          ],
          "pie": [
           {
            "automargin": true,
            "type": "pie"
           }
          ],
          "scatter": [
           {
            "marker": {
             "colorbar": {
              "outlinewidth": 0,
              "ticks": ""
             }
            },
            "type": "scatter"
           }
          ],
          "scatter3d": [
           {
            "line": {
             "colorbar": {
              "outlinewidth": 0,
              "ticks": ""
             }
            },
            "marker": {
             "colorbar": {
              "outlinewidth": 0,
              "ticks": ""
             }
            },
            "type": "scatter3d"
           }
          ],
          "scattercarpet": [
           {
            "marker": {
             "colorbar": {
              "outlinewidth": 0,
              "ticks": ""
             }
            },
            "type": "scattercarpet"
           }
          ],
          "scattergeo": [
           {
            "marker": {
             "colorbar": {
              "outlinewidth": 0,
              "ticks": ""
             }
            },
            "type": "scattergeo"
           }
          ],
          "scattergl": [
           {
            "marker": {
             "colorbar": {
              "outlinewidth": 0,
              "ticks": ""
             }
            },
            "type": "scattergl"
           }
          ],
          "scattermapbox": [
           {
            "marker": {
             "colorbar": {
              "outlinewidth": 0,
              "ticks": ""
             }
            },
            "type": "scattermapbox"
           }
          ],
          "scatterpolar": [
           {
            "marker": {
             "colorbar": {
              "outlinewidth": 0,
              "ticks": ""
             }
            },
            "type": "scatterpolar"
           }
          ],
          "scatterpolargl": [
           {
            "marker": {
             "colorbar": {
              "outlinewidth": 0,
              "ticks": ""
             }
            },
            "type": "scatterpolargl"
           }
          ],
          "scatterternary": [
           {
            "marker": {
             "colorbar": {
              "outlinewidth": 0,
              "ticks": ""
             }
            },
            "type": "scatterternary"
           }
          ],
          "surface": [
           {
            "colorbar": {
             "outlinewidth": 0,
             "ticks": ""
            },
            "colorscale": [
             [
              0,
              "#0d0887"
             ],
             [
              0.1111111111111111,
              "#46039f"
             ],
             [
              0.2222222222222222,
              "#7201a8"
             ],
             [
              0.3333333333333333,
              "#9c179e"
             ],
             [
              0.4444444444444444,
              "#bd3786"
             ],
             [
              0.5555555555555556,
              "#d8576b"
             ],
             [
              0.6666666666666666,
              "#ed7953"
             ],
             [
              0.7777777777777778,
              "#fb9f3a"
             ],
             [
              0.8888888888888888,
              "#fdca26"
             ],
             [
              1,
              "#f0f921"
             ]
            ],
            "type": "surface"
           }
          ],
          "table": [
           {
            "cells": {
             "fill": {
              "color": "#EBF0F8"
             },
             "line": {
              "color": "white"
             }
            },
            "header": {
             "fill": {
              "color": "#C8D4E3"
             },
             "line": {
              "color": "white"
             }
            },
            "type": "table"
           }
          ]
         },
         "layout": {
          "annotationdefaults": {
           "arrowcolor": "#2a3f5f",
           "arrowhead": 0,
           "arrowwidth": 1
          },
          "coloraxis": {
           "colorbar": {
            "outlinewidth": 0,
            "ticks": ""
           }
          },
          "colorscale": {
           "diverging": [
            [
             0,
             "#8e0152"
            ],
            [
             0.1,
             "#c51b7d"
            ],
            [
             0.2,
             "#de77ae"
            ],
            [
             0.3,
             "#f1b6da"
            ],
            [
             0.4,
             "#fde0ef"
            ],
            [
             0.5,
             "#f7f7f7"
            ],
            [
             0.6,
             "#e6f5d0"
            ],
            [
             0.7,
             "#b8e186"
            ],
            [
             0.8,
             "#7fbc41"
            ],
            [
             0.9,
             "#4d9221"
            ],
            [
             1,
             "#276419"
            ]
           ],
           "sequential": [
            [
             0,
             "#0d0887"
            ],
            [
             0.1111111111111111,
             "#46039f"
            ],
            [
             0.2222222222222222,
             "#7201a8"
            ],
            [
             0.3333333333333333,
             "#9c179e"
            ],
            [
             0.4444444444444444,
             "#bd3786"
            ],
            [
             0.5555555555555556,
             "#d8576b"
            ],
            [
             0.6666666666666666,
             "#ed7953"
            ],
            [
             0.7777777777777778,
             "#fb9f3a"
            ],
            [
             0.8888888888888888,
             "#fdca26"
            ],
            [
             1,
             "#f0f921"
            ]
           ],
           "sequentialminus": [
            [
             0,
             "#0d0887"
            ],
            [
             0.1111111111111111,
             "#46039f"
            ],
            [
             0.2222222222222222,
             "#7201a8"
            ],
            [
             0.3333333333333333,
             "#9c179e"
            ],
            [
             0.4444444444444444,
             "#bd3786"
            ],
            [
             0.5555555555555556,
             "#d8576b"
            ],
            [
             0.6666666666666666,
             "#ed7953"
            ],
            [
             0.7777777777777778,
             "#fb9f3a"
            ],
            [
             0.8888888888888888,
             "#fdca26"
            ],
            [
             1,
             "#f0f921"
            ]
           ]
          },
          "colorway": [
           "#636efa",
           "#EF553B",
           "#00cc96",
           "#ab63fa",
           "#FFA15A",
           "#19d3f3",
           "#FF6692",
           "#B6E880",
           "#FF97FF",
           "#FECB52"
          ],
          "font": {
           "color": "#2a3f5f"
          },
          "geo": {
           "bgcolor": "white",
           "lakecolor": "white",
           "landcolor": "#E5ECF6",
           "showlakes": true,
           "showland": true,
           "subunitcolor": "white"
          },
          "hoverlabel": {
           "align": "left"
          },
          "hovermode": "closest",
          "mapbox": {
           "style": "light"
          },
          "paper_bgcolor": "white",
          "plot_bgcolor": "#E5ECF6",
          "polar": {
           "angularaxis": {
            "gridcolor": "white",
            "linecolor": "white",
            "ticks": ""
           },
           "bgcolor": "#E5ECF6",
           "radialaxis": {
            "gridcolor": "white",
            "linecolor": "white",
            "ticks": ""
           }
          },
          "scene": {
           "xaxis": {
            "backgroundcolor": "#E5ECF6",
            "gridcolor": "white",
            "gridwidth": 2,
            "linecolor": "white",
            "showbackground": true,
            "ticks": "",
            "zerolinecolor": "white"
           },
           "yaxis": {
            "backgroundcolor": "#E5ECF6",
            "gridcolor": "white",
            "gridwidth": 2,
            "linecolor": "white",
            "showbackground": true,
            "ticks": "",
            "zerolinecolor": "white"
           },
           "zaxis": {
            "backgroundcolor": "#E5ECF6",
            "gridcolor": "white",
            "gridwidth": 2,
            "linecolor": "white",
            "showbackground": true,
            "ticks": "",
            "zerolinecolor": "white"
           }
          },
          "shapedefaults": {
           "line": {
            "color": "#2a3f5f"
           }
          },
          "ternary": {
           "aaxis": {
            "gridcolor": "white",
            "linecolor": "white",
            "ticks": ""
           },
           "baxis": {
            "gridcolor": "white",
            "linecolor": "white",
            "ticks": ""
           },
           "bgcolor": "#E5ECF6",
           "caxis": {
            "gridcolor": "white",
            "linecolor": "white",
            "ticks": ""
           }
          },
          "title": {
           "x": 0.05
          },
          "xaxis": {
           "automargin": true,
           "gridcolor": "white",
           "linecolor": "white",
           "ticks": "",
           "title": {
            "standoff": 15
           },
           "zerolinecolor": "white",
           "zerolinewidth": 2
          },
          "yaxis": {
           "automargin": true,
           "gridcolor": "white",
           "linecolor": "white",
           "ticks": "",
           "title": {
            "standoff": 15
           },
           "zerolinecolor": "white",
           "zerolinewidth": 2
          }
         }
        },
        "title": {
         "text": "Galaxy: Andromeda II"
        },
        "xaxis": {
         "anchor": "y",
         "domain": [
          0,
          1
         ],
         "title": {
          "text": "galactic year"
         }
        },
        "yaxis": {
         "anchor": "x",
         "domain": [
          0,
          1
         ],
         "title": {
          "text": "y"
         }
        }
       }
      },
      "text/html": [
       "<div>\n",
       "        \n",
       "        \n",
       "            <div id=\"ed462779-1744-4da2-abfc-7428daade33d\" class=\"plotly-graph-div\" style=\"height:525px; width:100%;\"></div>\n",
       "            <script type=\"text/javascript\">\n",
       "                require([\"plotly\"], function(Plotly) {\n",
       "                    window.PLOTLYENV=window.PLOTLYENV || {};\n",
       "                    \n",
       "                if (document.getElementById(\"ed462779-1744-4da2-abfc-7428daade33d\")) {\n",
       "                    Plotly.newPlot(\n",
       "                        'ed462779-1744-4da2-abfc-7428daade33d',\n",
       "                        [{\"hovertemplate\": \"state=actual<br>galactic year=%{x}<br>y=%{y}<extra></extra>\", \"legendgroup\": \"actual\", \"line\": {\"color\": \"#636efa\", \"dash\": \"solid\"}, \"mode\": \"lines\", \"name\": \"actual\", \"showlegend\": true, \"type\": \"scatter\", \"x\": [990025.0, 991020.0, 992016.0, 993012.0, 994009.0, 995006.0, 996004.0, 997002.0, 998001.0, 999000.0, 1000000.0, 1001000.0, 1002001.0, 1003002.0, 1004004.0, 1005006.0, 1006009.0, 1007012.0, 1008016.0, 1009020.0, 1010025.0, 1011030.0, 1012036.0, 1013042.0, 1014049.0], \"xaxis\": \"x\", \"y\": [0.16793520472448298, 0.17018216520359608, 0.170547162999914, 0.1701705380087949, 0.17059735097465634, 0.17065617548162604, 0.1729672510434518, 0.17347122173989238, 0.17503736745081278, 0.17504797518624626, 0.1761465889518916, 0.18237535689646844, 0.1848298554463992, 0.18598952968801474, 0.18659303768710644, 0.18929318812614604, 0.1899637870658627, 0.18887569431579765, 0.19103590306128748, 0.19191268077810053, 0.1917290303504537, 0.14388356063625066, 0.14448057002876502, 0.1835604712091924, 0.16993414095810222], \"yaxis\": \"y\"}, {\"hovertemplate\": \"state=predicted<br>galactic year=%{x}<br>y=%{y}<extra></extra>\", \"legendgroup\": \"predicted\", \"line\": {\"color\": \"#EF553B\", \"dash\": \"solid\"}, \"mode\": \"lines\", \"name\": \"predicted\", \"showlegend\": true, \"type\": \"scatter\", \"x\": [990025.0, 991020.0, 992016.0, 993012.0, 994009.0, 995006.0, 996004.0, 997002.0, 998001.0, 999000.0, 1000000.0, 1001000.0, 1002001.0, 1003002.0, 1004004.0, 1005006.0, 1006009.0, 1007012.0, 1008016.0, 1009020.0, 1010025.0, 1011030.0, 1012036.0, 1013042.0, 1014049.0], \"xaxis\": \"x\", \"y\": [0.1668916415460482, 0.1691386020251613, 0.1695035998214792, 0.1691269748303601, 0.16955378779622154, 0.16961261230319125, 0.171923687865017, 0.1724276585614576, 0.17399380427237798, 0.17400441200781147, 0.1751030257734568, 0.18133179371803365, 0.18378629226796442, 0.18494596650957995, 0.18554947450867165, 0.18824962494771125, 0.1889202238874279, 0.18783213113736286, 0.1899923398828527, 0.19086911759966574, 0.1906854671720189, 0.14283999745781586, 0.14283999745781586, 0.14283999745781586, 0.14283999745781586], \"yaxis\": \"y\"}],\n",
       "                        {\"legend\": {\"title\": {\"text\": \"state\"}, \"tracegroupgap\": 0}, \"shapes\": [{\"type\": \"line\", \"x0\": 1012036.0, \"x1\": 1012036.0, \"xref\": \"x\", \"y0\": 0.14283999745781586, \"y1\": 0.19191268077810053, \"yref\": \"y\"}], \"template\": {\"data\": {\"bar\": [{\"error_x\": {\"color\": \"#2a3f5f\"}, \"error_y\": {\"color\": \"#2a3f5f\"}, \"marker\": {\"line\": {\"color\": \"#E5ECF6\", \"width\": 0.5}}, \"type\": \"bar\"}], \"barpolar\": [{\"marker\": {\"line\": {\"color\": \"#E5ECF6\", \"width\": 0.5}}, \"type\": \"barpolar\"}], \"carpet\": [{\"aaxis\": {\"endlinecolor\": \"#2a3f5f\", \"gridcolor\": \"white\", \"linecolor\": \"white\", \"minorgridcolor\": \"white\", \"startlinecolor\": \"#2a3f5f\"}, \"baxis\": {\"endlinecolor\": \"#2a3f5f\", \"gridcolor\": \"white\", \"linecolor\": \"white\", \"minorgridcolor\": \"white\", \"startlinecolor\": \"#2a3f5f\"}, \"type\": \"carpet\"}], \"choropleth\": [{\"colorbar\": {\"outlinewidth\": 0, \"ticks\": \"\"}, \"type\": \"choropleth\"}], \"contour\": [{\"colorbar\": {\"outlinewidth\": 0, \"ticks\": \"\"}, \"colorscale\": [[0.0, \"#0d0887\"], [0.1111111111111111, \"#46039f\"], [0.2222222222222222, \"#7201a8\"], [0.3333333333333333, \"#9c179e\"], [0.4444444444444444, \"#bd3786\"], [0.5555555555555556, \"#d8576b\"], [0.6666666666666666, \"#ed7953\"], [0.7777777777777778, \"#fb9f3a\"], [0.8888888888888888, \"#fdca26\"], [1.0, \"#f0f921\"]], \"type\": \"contour\"}], \"contourcarpet\": [{\"colorbar\": {\"outlinewidth\": 0, \"ticks\": \"\"}, \"type\": \"contourcarpet\"}], \"heatmap\": [{\"colorbar\": {\"outlinewidth\": 0, \"ticks\": \"\"}, \"colorscale\": [[0.0, \"#0d0887\"], [0.1111111111111111, \"#46039f\"], [0.2222222222222222, \"#7201a8\"], [0.3333333333333333, \"#9c179e\"], [0.4444444444444444, \"#bd3786\"], [0.5555555555555556, \"#d8576b\"], [0.6666666666666666, \"#ed7953\"], [0.7777777777777778, \"#fb9f3a\"], [0.8888888888888888, \"#fdca26\"], [1.0, \"#f0f921\"]], \"type\": \"heatmap\"}], \"heatmapgl\": [{\"colorbar\": {\"outlinewidth\": 0, \"ticks\": \"\"}, \"colorscale\": [[0.0, \"#0d0887\"], [0.1111111111111111, \"#46039f\"], [0.2222222222222222, \"#7201a8\"], [0.3333333333333333, \"#9c179e\"], [0.4444444444444444, \"#bd3786\"], [0.5555555555555556, \"#d8576b\"], [0.6666666666666666, \"#ed7953\"], [0.7777777777777778, \"#fb9f3a\"], [0.8888888888888888, \"#fdca26\"], [1.0, \"#f0f921\"]], \"type\": \"heatmapgl\"}], \"histogram\": [{\"marker\": {\"colorbar\": {\"outlinewidth\": 0, \"ticks\": \"\"}}, \"type\": \"histogram\"}], \"histogram2d\": [{\"colorbar\": {\"outlinewidth\": 0, \"ticks\": \"\"}, \"colorscale\": [[0.0, \"#0d0887\"], [0.1111111111111111, \"#46039f\"], [0.2222222222222222, \"#7201a8\"], [0.3333333333333333, \"#9c179e\"], [0.4444444444444444, \"#bd3786\"], [0.5555555555555556, \"#d8576b\"], [0.6666666666666666, \"#ed7953\"], [0.7777777777777778, \"#fb9f3a\"], [0.8888888888888888, \"#fdca26\"], [1.0, \"#f0f921\"]], \"type\": \"histogram2d\"}], \"histogram2dcontour\": [{\"colorbar\": {\"outlinewidth\": 0, \"ticks\": \"\"}, \"colorscale\": [[0.0, \"#0d0887\"], [0.1111111111111111, \"#46039f\"], [0.2222222222222222, \"#7201a8\"], [0.3333333333333333, \"#9c179e\"], [0.4444444444444444, \"#bd3786\"], [0.5555555555555556, \"#d8576b\"], [0.6666666666666666, \"#ed7953\"], [0.7777777777777778, \"#fb9f3a\"], [0.8888888888888888, \"#fdca26\"], [1.0, \"#f0f921\"]], \"type\": \"histogram2dcontour\"}], \"mesh3d\": [{\"colorbar\": {\"outlinewidth\": 0, \"ticks\": \"\"}, \"type\": \"mesh3d\"}], \"parcoords\": [{\"line\": {\"colorbar\": {\"outlinewidth\": 0, \"ticks\": \"\"}}, \"type\": \"parcoords\"}], \"pie\": [{\"automargin\": true, \"type\": \"pie\"}], \"scatter\": [{\"marker\": {\"colorbar\": {\"outlinewidth\": 0, \"ticks\": \"\"}}, \"type\": \"scatter\"}], \"scatter3d\": [{\"line\": {\"colorbar\": {\"outlinewidth\": 0, \"ticks\": \"\"}}, \"marker\": {\"colorbar\": {\"outlinewidth\": 0, \"ticks\": \"\"}}, \"type\": \"scatter3d\"}], \"scattercarpet\": [{\"marker\": {\"colorbar\": {\"outlinewidth\": 0, \"ticks\": \"\"}}, \"type\": \"scattercarpet\"}], \"scattergeo\": [{\"marker\": {\"colorbar\": {\"outlinewidth\": 0, \"ticks\": \"\"}}, \"type\": \"scattergeo\"}], \"scattergl\": [{\"marker\": {\"colorbar\": {\"outlinewidth\": 0, \"ticks\": \"\"}}, \"type\": \"scattergl\"}], \"scattermapbox\": [{\"marker\": {\"colorbar\": {\"outlinewidth\": 0, \"ticks\": \"\"}}, \"type\": \"scattermapbox\"}], \"scatterpolar\": [{\"marker\": {\"colorbar\": {\"outlinewidth\": 0, \"ticks\": \"\"}}, \"type\": \"scatterpolar\"}], \"scatterpolargl\": [{\"marker\": {\"colorbar\": {\"outlinewidth\": 0, \"ticks\": \"\"}}, \"type\": \"scatterpolargl\"}], \"scatterternary\": [{\"marker\": {\"colorbar\": {\"outlinewidth\": 0, \"ticks\": \"\"}}, \"type\": \"scatterternary\"}], \"surface\": [{\"colorbar\": {\"outlinewidth\": 0, \"ticks\": \"\"}, \"colorscale\": [[0.0, \"#0d0887\"], [0.1111111111111111, \"#46039f\"], [0.2222222222222222, \"#7201a8\"], [0.3333333333333333, \"#9c179e\"], [0.4444444444444444, \"#bd3786\"], [0.5555555555555556, \"#d8576b\"], [0.6666666666666666, \"#ed7953\"], [0.7777777777777778, \"#fb9f3a\"], [0.8888888888888888, \"#fdca26\"], [1.0, \"#f0f921\"]], \"type\": \"surface\"}], \"table\": [{\"cells\": {\"fill\": {\"color\": \"#EBF0F8\"}, \"line\": {\"color\": \"white\"}}, \"header\": {\"fill\": {\"color\": \"#C8D4E3\"}, \"line\": {\"color\": \"white\"}}, \"type\": \"table\"}]}, \"layout\": {\"annotationdefaults\": {\"arrowcolor\": \"#2a3f5f\", \"arrowhead\": 0, \"arrowwidth\": 1}, \"coloraxis\": {\"colorbar\": {\"outlinewidth\": 0, \"ticks\": \"\"}}, \"colorscale\": {\"diverging\": [[0, \"#8e0152\"], [0.1, \"#c51b7d\"], [0.2, \"#de77ae\"], [0.3, \"#f1b6da\"], [0.4, \"#fde0ef\"], [0.5, \"#f7f7f7\"], [0.6, \"#e6f5d0\"], [0.7, \"#b8e186\"], [0.8, \"#7fbc41\"], [0.9, \"#4d9221\"], [1, \"#276419\"]], \"sequential\": [[0.0, \"#0d0887\"], [0.1111111111111111, \"#46039f\"], [0.2222222222222222, \"#7201a8\"], [0.3333333333333333, \"#9c179e\"], [0.4444444444444444, \"#bd3786\"], [0.5555555555555556, \"#d8576b\"], [0.6666666666666666, \"#ed7953\"], [0.7777777777777778, \"#fb9f3a\"], [0.8888888888888888, \"#fdca26\"], [1.0, \"#f0f921\"]], \"sequentialminus\": [[0.0, \"#0d0887\"], [0.1111111111111111, \"#46039f\"], [0.2222222222222222, \"#7201a8\"], [0.3333333333333333, \"#9c179e\"], [0.4444444444444444, \"#bd3786\"], [0.5555555555555556, \"#d8576b\"], [0.6666666666666666, \"#ed7953\"], [0.7777777777777778, \"#fb9f3a\"], [0.8888888888888888, \"#fdca26\"], [1.0, \"#f0f921\"]]}, \"colorway\": [\"#636efa\", \"#EF553B\", \"#00cc96\", \"#ab63fa\", \"#FFA15A\", \"#19d3f3\", \"#FF6692\", \"#B6E880\", \"#FF97FF\", \"#FECB52\"], \"font\": {\"color\": \"#2a3f5f\"}, \"geo\": {\"bgcolor\": \"white\", \"lakecolor\": \"white\", \"landcolor\": \"#E5ECF6\", \"showlakes\": true, \"showland\": true, \"subunitcolor\": \"white\"}, \"hoverlabel\": {\"align\": \"left\"}, \"hovermode\": \"closest\", \"mapbox\": {\"style\": \"light\"}, \"paper_bgcolor\": \"white\", \"plot_bgcolor\": \"#E5ECF6\", \"polar\": {\"angularaxis\": {\"gridcolor\": \"white\", \"linecolor\": \"white\", \"ticks\": \"\"}, \"bgcolor\": \"#E5ECF6\", \"radialaxis\": {\"gridcolor\": \"white\", \"linecolor\": \"white\", \"ticks\": \"\"}}, \"scene\": {\"xaxis\": {\"backgroundcolor\": \"#E5ECF6\", \"gridcolor\": \"white\", \"gridwidth\": 2, \"linecolor\": \"white\", \"showbackground\": true, \"ticks\": \"\", \"zerolinecolor\": \"white\"}, \"yaxis\": {\"backgroundcolor\": \"#E5ECF6\", \"gridcolor\": \"white\", \"gridwidth\": 2, \"linecolor\": \"white\", \"showbackground\": true, \"ticks\": \"\", \"zerolinecolor\": \"white\"}, \"zaxis\": {\"backgroundcolor\": \"#E5ECF6\", \"gridcolor\": \"white\", \"gridwidth\": 2, \"linecolor\": \"white\", \"showbackground\": true, \"ticks\": \"\", \"zerolinecolor\": \"white\"}}, \"shapedefaults\": {\"line\": {\"color\": \"#2a3f5f\"}}, \"ternary\": {\"aaxis\": {\"gridcolor\": \"white\", \"linecolor\": \"white\", \"ticks\": \"\"}, \"baxis\": {\"gridcolor\": \"white\", \"linecolor\": \"white\", \"ticks\": \"\"}, \"bgcolor\": \"#E5ECF6\", \"caxis\": {\"gridcolor\": \"white\", \"linecolor\": \"white\", \"ticks\": \"\"}}, \"title\": {\"x\": 0.05}, \"xaxis\": {\"automargin\": true, \"gridcolor\": \"white\", \"linecolor\": \"white\", \"ticks\": \"\", \"title\": {\"standoff\": 15}, \"zerolinecolor\": \"white\", \"zerolinewidth\": 2}, \"yaxis\": {\"automargin\": true, \"gridcolor\": \"white\", \"linecolor\": \"white\", \"ticks\": \"\", \"title\": {\"standoff\": 15}, \"zerolinecolor\": \"white\", \"zerolinewidth\": 2}}}, \"title\": {\"text\": \"Galaxy: Andromeda II\"}, \"xaxis\": {\"anchor\": \"y\", \"domain\": [0.0, 1.0], \"title\": {\"text\": \"galactic year\"}}, \"yaxis\": {\"anchor\": \"x\", \"domain\": [0.0, 1.0], \"title\": {\"text\": \"y\"}}},\n",
       "                        {\"responsive\": true}\n",
       "                    ).then(function(){\n",
       "                            \n",
       "var gd = document.getElementById('ed462779-1744-4da2-abfc-7428daade33d');\n",
       "var x = new MutationObserver(function (mutations, observer) {{\n",
       "        var display = window.getComputedStyle(gd).display;\n",
       "        if (!display || display === 'none') {{\n",
       "            console.log([gd, 'removed!']);\n",
       "            Plotly.purge(gd);\n",
       "            observer.disconnect();\n",
       "        }}\n",
       "}});\n",
       "\n",
       "// Listen for the removal of the full notebook cells\n",
       "var notebookContainer = gd.closest('#notebook-container');\n",
       "if (notebookContainer) {{\n",
       "    x.observe(notebookContainer, {childList: true});\n",
       "}}\n",
       "\n",
       "// Listen for the clearing of the current output cell\n",
       "var outputEl = gd.closest('.output');\n",
       "if (outputEl) {{\n",
       "    x.observe(outputEl, {childList: true});\n",
       "}}\n",
       "\n",
       "                        })\n",
       "                };\n",
       "                });\n",
       "            </script>\n",
       "        </div>"
      ]
     },
     "metadata": {},
     "output_type": "display_data"
    }
   ],
   "source": [
    "# Plotting y_true vs y_pred with forecast, change i variable\n",
    "# to see the different galaxies\n",
    "galaxy_index = 2\n",
    "plot_resulting_df(res_df=resulting_df, index=galaxy_index)"
   ]
  },
  {
   "cell_type": "code",
   "execution_count": 103,
   "metadata": {},
   "outputs": [],
   "source": [
    "from statsmodels.tsa.holtwinters import SimpleExpSmoothing"
   ]
  },
  {
   "cell_type": "code",
   "execution_count": 118,
   "metadata": {},
   "outputs": [
    {
     "data": {
      "application/vnd.jupyter.widget-view+json": {
       "model_id": "d063163d033342cabbc7910b114f2046",
       "version_major": 2,
       "version_minor": 0
      },
      "text/plain": [
       "VBox(children=(HTML(value=''), IntProgress(value=1, bar_style='info', max=1)))"
      ]
     },
     "metadata": {},
     "output_type": "display_data"
    },
    {
     "name": "stdout",
     "output_type": "stream",
     "text": [
      "y_pred [0.2263071 0.2263071 0.2263071]\n",
      "diff [ 0.   10.03 90.47] diff_index 2 diff_rest 0\n",
      "pred_start 108 pred_end 108\n",
      "new_vals [0.2263071]\n",
      "y_pred [0.2263071 0.2263071 0.2263071]\n",
      "Train RMSE 0.0019586467447679163\n",
      "Valid RMSE 0.336192438158179\n",
      "Wall time: 869 ms\n"
     ]
    }
   ],
   "source": [
    "%%time\n",
    "\n",
    "model_params = dict(\n",
    ")\n",
    "\n",
    "fit_params = dict(\n",
    "    smoothing_level=None,\n",
    "    optimized=True,\n",
    "    start_params=None,\n",
    "    initial_level=None,\n",
    "    use_brute=False\n",
    ")\n",
    "\n",
    "resulting_df, train_history = train_ts(\n",
    "    ts_train, \n",
    "    ts_val, \n",
    "    model_klass=SimpleExpSmoothing,\n",
    "    model_params=model_params,\n",
    "    fit_params=fit_params,\n",
    "    freq_correction=True,\n",
    "    freq_correction_lb=30\n",
    ")\n",
    "\n",
    "print('Train RMSE', train_history.train_rmse)\n",
    "print('Valid RMSE', train_history.valid_rmse)"
   ]
  },
  {
   "cell_type": "code",
   "execution_count": 114,
   "metadata": {},
   "outputs": [
    {
     "data": {
      "application/vnd.plotly.v1+json": {
       "config": {
        "plotlyServerURL": "https://plot.ly"
       },
       "data": [
        {
         "hovertemplate": "state=actual<br>galactic year=%{x}<br>y=%{y}<extra></extra>",
         "legendgroup": "actual",
         "line": {
          "color": "#636efa",
          "dash": "solid"
         },
         "mode": "lines",
         "name": "actual",
         "showlegend": true,
         "type": "scatter",
         "x": [
          990025,
          991020,
          992016,
          993012,
          994009,
          995006,
          996004,
          997002,
          998001,
          999000,
          1000000,
          1001000,
          1002001,
          1003002,
          1004004,
          1005006,
          1006009,
          1015056
         ],
         "xaxis": "x",
         "y": [
          0.21020164874453506,
          0.2109501506629,
          0.21121309621478607,
          0.21261146943972545,
          0.21409347130654974,
          0.2150942740865585,
          0.21578581864598426,
          0.21665074657593675,
          0.2162705208733674,
          0.21709371140699707,
          0.2182870043216836,
          0.2252404406188806,
          0.2260580757001407,
          0.2267210531365837,
          0.2263071004899192,
          0.2270785759885973,
          0.2336651152083584,
          0.3452396986503221
         ],
         "yaxis": "y"
        },
        {
         "hovertemplate": "state=predicted<br>galactic year=%{x}<br>y=%{y}<extra></extra>",
         "legendgroup": "predicted",
         "line": {
          "color": "#EF553B",
          "dash": "solid"
         },
         "mode": "lines",
         "name": "predicted",
         "showlegend": true,
         "type": "scatter",
         "x": [
          990025,
          991020,
          992016,
          993012,
          994009,
          995006,
          996004,
          997002,
          998001,
          999000,
          1000000,
          1001000,
          1002001,
          1003002,
          1004004,
          1005006,
          1006009,
          1015056
         ],
         "xaxis": "x",
         "y": [
          0.21020164874453506,
          0.2109501506629,
          0.21121309621478607,
          0.21261146943972545,
          0.21409347130654974,
          0.2150942740865585,
          0.21578581864598426,
          0.21665074657593675,
          0.2162705208733674,
          0.21709371140699707,
          0.2182870043216836,
          0.2252404406188806,
          0.2260580757001407,
          0.2267210531365837,
          0.2263071004899192,
          0.2263071004899192,
          0.2263071004899192,
          0.2263071004899192
         ],
         "yaxis": "y"
        }
       ],
       "layout": {
        "legend": {
         "title": {
          "text": "state"
         },
         "tracegroupgap": 0
        },
        "shapes": [
         {
          "type": "line",
          "x0": 1005006,
          "x1": 1005006,
          "xref": "x",
          "y0": 0.21020164874453506,
          "y1": 0.3452396986503221,
          "yref": "y"
         }
        ],
        "template": {
         "data": {
          "bar": [
           {
            "error_x": {
             "color": "#2a3f5f"
            },
            "error_y": {
             "color": "#2a3f5f"
            },
            "marker": {
             "line": {
              "color": "#E5ECF6",
              "width": 0.5
             }
            },
            "type": "bar"
           }
          ],
          "barpolar": [
           {
            "marker": {
             "line": {
              "color": "#E5ECF6",
              "width": 0.5
             }
            },
            "type": "barpolar"
           }
          ],
          "carpet": [
           {
            "aaxis": {
             "endlinecolor": "#2a3f5f",
             "gridcolor": "white",
             "linecolor": "white",
             "minorgridcolor": "white",
             "startlinecolor": "#2a3f5f"
            },
            "baxis": {
             "endlinecolor": "#2a3f5f",
             "gridcolor": "white",
             "linecolor": "white",
             "minorgridcolor": "white",
             "startlinecolor": "#2a3f5f"
            },
            "type": "carpet"
           }
          ],
          "choropleth": [
           {
            "colorbar": {
             "outlinewidth": 0,
             "ticks": ""
            },
            "type": "choropleth"
           }
          ],
          "contour": [
           {
            "colorbar": {
             "outlinewidth": 0,
             "ticks": ""
            },
            "colorscale": [
             [
              0,
              "#0d0887"
             ],
             [
              0.1111111111111111,
              "#46039f"
             ],
             [
              0.2222222222222222,
              "#7201a8"
             ],
             [
              0.3333333333333333,
              "#9c179e"
             ],
             [
              0.4444444444444444,
              "#bd3786"
             ],
             [
              0.5555555555555556,
              "#d8576b"
             ],
             [
              0.6666666666666666,
              "#ed7953"
             ],
             [
              0.7777777777777778,
              "#fb9f3a"
             ],
             [
              0.8888888888888888,
              "#fdca26"
             ],
             [
              1,
              "#f0f921"
             ]
            ],
            "type": "contour"
           }
          ],
          "contourcarpet": [
           {
            "colorbar": {
             "outlinewidth": 0,
             "ticks": ""
            },
            "type": "contourcarpet"
           }
          ],
          "heatmap": [
           {
            "colorbar": {
             "outlinewidth": 0,
             "ticks": ""
            },
            "colorscale": [
             [
              0,
              "#0d0887"
             ],
             [
              0.1111111111111111,
              "#46039f"
             ],
             [
              0.2222222222222222,
              "#7201a8"
             ],
             [
              0.3333333333333333,
              "#9c179e"
             ],
             [
              0.4444444444444444,
              "#bd3786"
             ],
             [
              0.5555555555555556,
              "#d8576b"
             ],
             [
              0.6666666666666666,
              "#ed7953"
             ],
             [
              0.7777777777777778,
              "#fb9f3a"
             ],
             [
              0.8888888888888888,
              "#fdca26"
             ],
             [
              1,
              "#f0f921"
             ]
            ],
            "type": "heatmap"
           }
          ],
          "heatmapgl": [
           {
            "colorbar": {
             "outlinewidth": 0,
             "ticks": ""
            },
            "colorscale": [
             [
              0,
              "#0d0887"
             ],
             [
              0.1111111111111111,
              "#46039f"
             ],
             [
              0.2222222222222222,
              "#7201a8"
             ],
             [
              0.3333333333333333,
              "#9c179e"
             ],
             [
              0.4444444444444444,
              "#bd3786"
             ],
             [
              0.5555555555555556,
              "#d8576b"
             ],
             [
              0.6666666666666666,
              "#ed7953"
             ],
             [
              0.7777777777777778,
              "#fb9f3a"
             ],
             [
              0.8888888888888888,
              "#fdca26"
             ],
             [
              1,
              "#f0f921"
             ]
            ],
            "type": "heatmapgl"
           }
          ],
          "histogram": [
           {
            "marker": {
             "colorbar": {
              "outlinewidth": 0,
              "ticks": ""
             }
            },
            "type": "histogram"
           }
          ],
          "histogram2d": [
           {
            "colorbar": {
             "outlinewidth": 0,
             "ticks": ""
            },
            "colorscale": [
             [
              0,
              "#0d0887"
             ],
             [
              0.1111111111111111,
              "#46039f"
             ],
             [
              0.2222222222222222,
              "#7201a8"
             ],
             [
              0.3333333333333333,
              "#9c179e"
             ],
             [
              0.4444444444444444,
              "#bd3786"
             ],
             [
              0.5555555555555556,
              "#d8576b"
             ],
             [
              0.6666666666666666,
              "#ed7953"
             ],
             [
              0.7777777777777778,
              "#fb9f3a"
             ],
             [
              0.8888888888888888,
              "#fdca26"
             ],
             [
              1,
              "#f0f921"
             ]
            ],
            "type": "histogram2d"
           }
          ],
          "histogram2dcontour": [
           {
            "colorbar": {
             "outlinewidth": 0,
             "ticks": ""
            },
            "colorscale": [
             [
              0,
              "#0d0887"
             ],
             [
              0.1111111111111111,
              "#46039f"
             ],
             [
              0.2222222222222222,
              "#7201a8"
             ],
             [
              0.3333333333333333,
              "#9c179e"
             ],
             [
              0.4444444444444444,
              "#bd3786"
             ],
             [
              0.5555555555555556,
              "#d8576b"
             ],
             [
              0.6666666666666666,
              "#ed7953"
             ],
             [
              0.7777777777777778,
              "#fb9f3a"
             ],
             [
              0.8888888888888888,
              "#fdca26"
             ],
             [
              1,
              "#f0f921"
             ]
            ],
            "type": "histogram2dcontour"
           }
          ],
          "mesh3d": [
           {
            "colorbar": {
             "outlinewidth": 0,
             "ticks": ""
            },
            "type": "mesh3d"
           }
          ],
          "parcoords": [
           {
            "line": {
             "colorbar": {
              "outlinewidth": 0,
              "ticks": ""
             }
            },
            "type": "parcoords"
           }
          ],
          "pie": [
           {
            "automargin": true,
            "type": "pie"
           }
          ],
          "scatter": [
           {
            "marker": {
             "colorbar": {
              "outlinewidth": 0,
              "ticks": ""
             }
            },
            "type": "scatter"
           }
          ],
          "scatter3d": [
           {
            "line": {
             "colorbar": {
              "outlinewidth": 0,
              "ticks": ""
             }
            },
            "marker": {
             "colorbar": {
              "outlinewidth": 0,
              "ticks": ""
             }
            },
            "type": "scatter3d"
           }
          ],
          "scattercarpet": [
           {
            "marker": {
             "colorbar": {
              "outlinewidth": 0,
              "ticks": ""
             }
            },
            "type": "scattercarpet"
           }
          ],
          "scattergeo": [
           {
            "marker": {
             "colorbar": {
              "outlinewidth": 0,
              "ticks": ""
             }
            },
            "type": "scattergeo"
           }
          ],
          "scattergl": [
           {
            "marker": {
             "colorbar": {
              "outlinewidth": 0,
              "ticks": ""
             }
            },
            "type": "scattergl"
           }
          ],
          "scattermapbox": [
           {
            "marker": {
             "colorbar": {
              "outlinewidth": 0,
              "ticks": ""
             }
            },
            "type": "scattermapbox"
           }
          ],
          "scatterpolar": [
           {
            "marker": {
             "colorbar": {
              "outlinewidth": 0,
              "ticks": ""
             }
            },
            "type": "scatterpolar"
           }
          ],
          "scatterpolargl": [
           {
            "marker": {
             "colorbar": {
              "outlinewidth": 0,
              "ticks": ""
             }
            },
            "type": "scatterpolargl"
           }
          ],
          "scatterternary": [
           {
            "marker": {
             "colorbar": {
              "outlinewidth": 0,
              "ticks": ""
             }
            },
            "type": "scatterternary"
           }
          ],
          "surface": [
           {
            "colorbar": {
             "outlinewidth": 0,
             "ticks": ""
            },
            "colorscale": [
             [
              0,
              "#0d0887"
             ],
             [
              0.1111111111111111,
              "#46039f"
             ],
             [
              0.2222222222222222,
              "#7201a8"
             ],
             [
              0.3333333333333333,
              "#9c179e"
             ],
             [
              0.4444444444444444,
              "#bd3786"
             ],
             [
              0.5555555555555556,
              "#d8576b"
             ],
             [
              0.6666666666666666,
              "#ed7953"
             ],
             [
              0.7777777777777778,
              "#fb9f3a"
             ],
             [
              0.8888888888888888,
              "#fdca26"
             ],
             [
              1,
              "#f0f921"
             ]
            ],
            "type": "surface"
           }
          ],
          "table": [
           {
            "cells": {
             "fill": {
              "color": "#EBF0F8"
             },
             "line": {
              "color": "white"
             }
            },
            "header": {
             "fill": {
              "color": "#C8D4E3"
             },
             "line": {
              "color": "white"
             }
            },
            "type": "table"
           }
          ]
         },
         "layout": {
          "annotationdefaults": {
           "arrowcolor": "#2a3f5f",
           "arrowhead": 0,
           "arrowwidth": 1
          },
          "coloraxis": {
           "colorbar": {
            "outlinewidth": 0,
            "ticks": ""
           }
          },
          "colorscale": {
           "diverging": [
            [
             0,
             "#8e0152"
            ],
            [
             0.1,
             "#c51b7d"
            ],
            [
             0.2,
             "#de77ae"
            ],
            [
             0.3,
             "#f1b6da"
            ],
            [
             0.4,
             "#fde0ef"
            ],
            [
             0.5,
             "#f7f7f7"
            ],
            [
             0.6,
             "#e6f5d0"
            ],
            [
             0.7,
             "#b8e186"
            ],
            [
             0.8,
             "#7fbc41"
            ],
            [
             0.9,
             "#4d9221"
            ],
            [
             1,
             "#276419"
            ]
           ],
           "sequential": [
            [
             0,
             "#0d0887"
            ],
            [
             0.1111111111111111,
             "#46039f"
            ],
            [
             0.2222222222222222,
             "#7201a8"
            ],
            [
             0.3333333333333333,
             "#9c179e"
            ],
            [
             0.4444444444444444,
             "#bd3786"
            ],
            [
             0.5555555555555556,
             "#d8576b"
            ],
            [
             0.6666666666666666,
             "#ed7953"
            ],
            [
             0.7777777777777778,
             "#fb9f3a"
            ],
            [
             0.8888888888888888,
             "#fdca26"
            ],
            [
             1,
             "#f0f921"
            ]
           ],
           "sequentialminus": [
            [
             0,
             "#0d0887"
            ],
            [
             0.1111111111111111,
             "#46039f"
            ],
            [
             0.2222222222222222,
             "#7201a8"
            ],
            [
             0.3333333333333333,
             "#9c179e"
            ],
            [
             0.4444444444444444,
             "#bd3786"
            ],
            [
             0.5555555555555556,
             "#d8576b"
            ],
            [
             0.6666666666666666,
             "#ed7953"
            ],
            [
             0.7777777777777778,
             "#fb9f3a"
            ],
            [
             0.8888888888888888,
             "#fdca26"
            ],
            [
             1,
             "#f0f921"
            ]
           ]
          },
          "colorway": [
           "#636efa",
           "#EF553B",
           "#00cc96",
           "#ab63fa",
           "#FFA15A",
           "#19d3f3",
           "#FF6692",
           "#B6E880",
           "#FF97FF",
           "#FECB52"
          ],
          "font": {
           "color": "#2a3f5f"
          },
          "geo": {
           "bgcolor": "white",
           "lakecolor": "white",
           "landcolor": "#E5ECF6",
           "showlakes": true,
           "showland": true,
           "subunitcolor": "white"
          },
          "hoverlabel": {
           "align": "left"
          },
          "hovermode": "closest",
          "mapbox": {
           "style": "light"
          },
          "paper_bgcolor": "white",
          "plot_bgcolor": "#E5ECF6",
          "polar": {
           "angularaxis": {
            "gridcolor": "white",
            "linecolor": "white",
            "ticks": ""
           },
           "bgcolor": "#E5ECF6",
           "radialaxis": {
            "gridcolor": "white",
            "linecolor": "white",
            "ticks": ""
           }
          },
          "scene": {
           "xaxis": {
            "backgroundcolor": "#E5ECF6",
            "gridcolor": "white",
            "gridwidth": 2,
            "linecolor": "white",
            "showbackground": true,
            "ticks": "",
            "zerolinecolor": "white"
           },
           "yaxis": {
            "backgroundcolor": "#E5ECF6",
            "gridcolor": "white",
            "gridwidth": 2,
            "linecolor": "white",
            "showbackground": true,
            "ticks": "",
            "zerolinecolor": "white"
           },
           "zaxis": {
            "backgroundcolor": "#E5ECF6",
            "gridcolor": "white",
            "gridwidth": 2,
            "linecolor": "white",
            "showbackground": true,
            "ticks": "",
            "zerolinecolor": "white"
           }
          },
          "shapedefaults": {
           "line": {
            "color": "#2a3f5f"
           }
          },
          "ternary": {
           "aaxis": {
            "gridcolor": "white",
            "linecolor": "white",
            "ticks": ""
           },
           "baxis": {
            "gridcolor": "white",
            "linecolor": "white",
            "ticks": ""
           },
           "bgcolor": "#E5ECF6",
           "caxis": {
            "gridcolor": "white",
            "linecolor": "white",
            "ticks": ""
           }
          },
          "title": {
           "x": 0.05
          },
          "xaxis": {
           "automargin": true,
           "gridcolor": "white",
           "linecolor": "white",
           "ticks": "",
           "title": {
            "standoff": 15
           },
           "zerolinecolor": "white",
           "zerolinewidth": 2
          },
          "yaxis": {
           "automargin": true,
           "gridcolor": "white",
           "linecolor": "white",
           "ticks": "",
           "title": {
            "standoff": 15
           },
           "zerolinecolor": "white",
           "zerolinewidth": 2
          }
         }
        },
        "title": {
         "text": "Galaxy: Andromeda V"
        },
        "xaxis": {
         "anchor": "y",
         "domain": [
          0,
          1
         ],
         "title": {
          "text": "galactic year"
         }
        },
        "yaxis": {
         "anchor": "x",
         "domain": [
          0,
          1
         ],
         "title": {
          "text": "y"
         }
        }
       }
      },
      "text/html": [
       "<div>\n",
       "        \n",
       "        \n",
       "            <div id=\"c98a3408-64b1-425c-a6b9-102c71aa9c03\" class=\"plotly-graph-div\" style=\"height:525px; width:100%;\"></div>\n",
       "            <script type=\"text/javascript\">\n",
       "                require([\"plotly\"], function(Plotly) {\n",
       "                    window.PLOTLYENV=window.PLOTLYENV || {};\n",
       "                    \n",
       "                if (document.getElementById(\"c98a3408-64b1-425c-a6b9-102c71aa9c03\")) {\n",
       "                    Plotly.newPlot(\n",
       "                        'c98a3408-64b1-425c-a6b9-102c71aa9c03',\n",
       "                        [{\"hovertemplate\": \"state=actual<br>galactic year=%{x}<br>y=%{y}<extra></extra>\", \"legendgroup\": \"actual\", \"line\": {\"color\": \"#636efa\", \"dash\": \"solid\"}, \"mode\": \"lines\", \"name\": \"actual\", \"showlegend\": true, \"type\": \"scatter\", \"x\": [990025.0, 991020.0, 992016.0, 993012.0, 994009.0, 995006.0, 996004.0, 997002.0, 998001.0, 999000.0, 1000000.0, 1001000.0, 1002001.0, 1003002.0, 1004004.0, 1005006.0, 1006009.0, 1015056.0], \"xaxis\": \"x\", \"y\": [0.21020164874453506, 0.2109501506629, 0.21121309621478607, 0.21261146943972545, 0.21409347130654974, 0.2150942740865585, 0.21578581864598426, 0.21665074657593675, 0.2162705208733674, 0.21709371140699707, 0.2182870043216836, 0.2252404406188806, 0.2260580757001407, 0.2267210531365837, 0.2263071004899192, 0.2270785759885973, 0.2336651152083584, 0.3452396986503221], \"yaxis\": \"y\"}, {\"hovertemplate\": \"state=predicted<br>galactic year=%{x}<br>y=%{y}<extra></extra>\", \"legendgroup\": \"predicted\", \"line\": {\"color\": \"#EF553B\", \"dash\": \"solid\"}, \"mode\": \"lines\", \"name\": \"predicted\", \"showlegend\": true, \"type\": \"scatter\", \"x\": [990025.0, 991020.0, 992016.0, 993012.0, 994009.0, 995006.0, 996004.0, 997002.0, 998001.0, 999000.0, 1000000.0, 1001000.0, 1002001.0, 1003002.0, 1004004.0, 1005006.0, 1006009.0, 1015056.0], \"xaxis\": \"x\", \"y\": [0.21020164874453506, 0.2109501506629, 0.21121309621478607, 0.21261146943972545, 0.21409347130654974, 0.2150942740865585, 0.21578581864598426, 0.21665074657593675, 0.2162705208733674, 0.21709371140699707, 0.2182870043216836, 0.2252404406188806, 0.2260580757001407, 0.2267210531365837, 0.2263071004899192, 0.2263071004899192, 0.2263071004899192, 0.2263071004899192], \"yaxis\": \"y\"}],\n",
       "                        {\"legend\": {\"title\": {\"text\": \"state\"}, \"tracegroupgap\": 0}, \"shapes\": [{\"type\": \"line\", \"x0\": 1005006.0, \"x1\": 1005006.0, \"xref\": \"x\", \"y0\": 0.21020164874453506, \"y1\": 0.3452396986503221, \"yref\": \"y\"}], \"template\": {\"data\": {\"bar\": [{\"error_x\": {\"color\": \"#2a3f5f\"}, \"error_y\": {\"color\": \"#2a3f5f\"}, \"marker\": {\"line\": {\"color\": \"#E5ECF6\", \"width\": 0.5}}, \"type\": \"bar\"}], \"barpolar\": [{\"marker\": {\"line\": {\"color\": \"#E5ECF6\", \"width\": 0.5}}, \"type\": \"barpolar\"}], \"carpet\": [{\"aaxis\": {\"endlinecolor\": \"#2a3f5f\", \"gridcolor\": \"white\", \"linecolor\": \"white\", \"minorgridcolor\": \"white\", \"startlinecolor\": \"#2a3f5f\"}, \"baxis\": {\"endlinecolor\": \"#2a3f5f\", \"gridcolor\": \"white\", \"linecolor\": \"white\", \"minorgridcolor\": \"white\", \"startlinecolor\": \"#2a3f5f\"}, \"type\": \"carpet\"}], \"choropleth\": [{\"colorbar\": {\"outlinewidth\": 0, \"ticks\": \"\"}, \"type\": \"choropleth\"}], \"contour\": [{\"colorbar\": {\"outlinewidth\": 0, \"ticks\": \"\"}, \"colorscale\": [[0.0, \"#0d0887\"], [0.1111111111111111, \"#46039f\"], [0.2222222222222222, \"#7201a8\"], [0.3333333333333333, \"#9c179e\"], [0.4444444444444444, \"#bd3786\"], [0.5555555555555556, \"#d8576b\"], [0.6666666666666666, \"#ed7953\"], [0.7777777777777778, \"#fb9f3a\"], [0.8888888888888888, \"#fdca26\"], [1.0, \"#f0f921\"]], \"type\": \"contour\"}], \"contourcarpet\": [{\"colorbar\": {\"outlinewidth\": 0, \"ticks\": \"\"}, \"type\": \"contourcarpet\"}], \"heatmap\": [{\"colorbar\": {\"outlinewidth\": 0, \"ticks\": \"\"}, \"colorscale\": [[0.0, \"#0d0887\"], [0.1111111111111111, \"#46039f\"], [0.2222222222222222, \"#7201a8\"], [0.3333333333333333, \"#9c179e\"], [0.4444444444444444, \"#bd3786\"], [0.5555555555555556, \"#d8576b\"], [0.6666666666666666, \"#ed7953\"], [0.7777777777777778, \"#fb9f3a\"], [0.8888888888888888, \"#fdca26\"], [1.0, \"#f0f921\"]], \"type\": \"heatmap\"}], \"heatmapgl\": [{\"colorbar\": {\"outlinewidth\": 0, \"ticks\": \"\"}, \"colorscale\": [[0.0, \"#0d0887\"], [0.1111111111111111, \"#46039f\"], [0.2222222222222222, \"#7201a8\"], [0.3333333333333333, \"#9c179e\"], [0.4444444444444444, \"#bd3786\"], [0.5555555555555556, \"#d8576b\"], [0.6666666666666666, \"#ed7953\"], [0.7777777777777778, \"#fb9f3a\"], [0.8888888888888888, \"#fdca26\"], [1.0, \"#f0f921\"]], \"type\": \"heatmapgl\"}], \"histogram\": [{\"marker\": {\"colorbar\": {\"outlinewidth\": 0, \"ticks\": \"\"}}, \"type\": \"histogram\"}], \"histogram2d\": [{\"colorbar\": {\"outlinewidth\": 0, \"ticks\": \"\"}, \"colorscale\": [[0.0, \"#0d0887\"], [0.1111111111111111, \"#46039f\"], [0.2222222222222222, \"#7201a8\"], [0.3333333333333333, \"#9c179e\"], [0.4444444444444444, \"#bd3786\"], [0.5555555555555556, \"#d8576b\"], [0.6666666666666666, \"#ed7953\"], [0.7777777777777778, \"#fb9f3a\"], [0.8888888888888888, \"#fdca26\"], [1.0, \"#f0f921\"]], \"type\": \"histogram2d\"}], \"histogram2dcontour\": [{\"colorbar\": {\"outlinewidth\": 0, \"ticks\": \"\"}, \"colorscale\": [[0.0, \"#0d0887\"], [0.1111111111111111, \"#46039f\"], [0.2222222222222222, \"#7201a8\"], [0.3333333333333333, \"#9c179e\"], [0.4444444444444444, \"#bd3786\"], [0.5555555555555556, \"#d8576b\"], [0.6666666666666666, \"#ed7953\"], [0.7777777777777778, \"#fb9f3a\"], [0.8888888888888888, \"#fdca26\"], [1.0, \"#f0f921\"]], \"type\": \"histogram2dcontour\"}], \"mesh3d\": [{\"colorbar\": {\"outlinewidth\": 0, \"ticks\": \"\"}, \"type\": \"mesh3d\"}], \"parcoords\": [{\"line\": {\"colorbar\": {\"outlinewidth\": 0, \"ticks\": \"\"}}, \"type\": \"parcoords\"}], \"pie\": [{\"automargin\": true, \"type\": \"pie\"}], \"scatter\": [{\"marker\": {\"colorbar\": {\"outlinewidth\": 0, \"ticks\": \"\"}}, \"type\": \"scatter\"}], \"scatter3d\": [{\"line\": {\"colorbar\": {\"outlinewidth\": 0, \"ticks\": \"\"}}, \"marker\": {\"colorbar\": {\"outlinewidth\": 0, \"ticks\": \"\"}}, \"type\": \"scatter3d\"}], \"scattercarpet\": [{\"marker\": {\"colorbar\": {\"outlinewidth\": 0, \"ticks\": \"\"}}, \"type\": \"scattercarpet\"}], \"scattergeo\": [{\"marker\": {\"colorbar\": {\"outlinewidth\": 0, \"ticks\": \"\"}}, \"type\": \"scattergeo\"}], \"scattergl\": [{\"marker\": {\"colorbar\": {\"outlinewidth\": 0, \"ticks\": \"\"}}, \"type\": \"scattergl\"}], \"scattermapbox\": [{\"marker\": {\"colorbar\": {\"outlinewidth\": 0, \"ticks\": \"\"}}, \"type\": \"scattermapbox\"}], \"scatterpolar\": [{\"marker\": {\"colorbar\": {\"outlinewidth\": 0, \"ticks\": \"\"}}, \"type\": \"scatterpolar\"}], \"scatterpolargl\": [{\"marker\": {\"colorbar\": {\"outlinewidth\": 0, \"ticks\": \"\"}}, \"type\": \"scatterpolargl\"}], \"scatterternary\": [{\"marker\": {\"colorbar\": {\"outlinewidth\": 0, \"ticks\": \"\"}}, \"type\": \"scatterternary\"}], \"surface\": [{\"colorbar\": {\"outlinewidth\": 0, \"ticks\": \"\"}, \"colorscale\": [[0.0, \"#0d0887\"], [0.1111111111111111, \"#46039f\"], [0.2222222222222222, \"#7201a8\"], [0.3333333333333333, \"#9c179e\"], [0.4444444444444444, \"#bd3786\"], [0.5555555555555556, \"#d8576b\"], [0.6666666666666666, \"#ed7953\"], [0.7777777777777778, \"#fb9f3a\"], [0.8888888888888888, \"#fdca26\"], [1.0, \"#f0f921\"]], \"type\": \"surface\"}], \"table\": [{\"cells\": {\"fill\": {\"color\": \"#EBF0F8\"}, \"line\": {\"color\": \"white\"}}, \"header\": {\"fill\": {\"color\": \"#C8D4E3\"}, \"line\": {\"color\": \"white\"}}, \"type\": \"table\"}]}, \"layout\": {\"annotationdefaults\": {\"arrowcolor\": \"#2a3f5f\", \"arrowhead\": 0, \"arrowwidth\": 1}, \"coloraxis\": {\"colorbar\": {\"outlinewidth\": 0, \"ticks\": \"\"}}, \"colorscale\": {\"diverging\": [[0, \"#8e0152\"], [0.1, \"#c51b7d\"], [0.2, \"#de77ae\"], [0.3, \"#f1b6da\"], [0.4, \"#fde0ef\"], [0.5, \"#f7f7f7\"], [0.6, \"#e6f5d0\"], [0.7, \"#b8e186\"], [0.8, \"#7fbc41\"], [0.9, \"#4d9221\"], [1, \"#276419\"]], \"sequential\": [[0.0, \"#0d0887\"], [0.1111111111111111, \"#46039f\"], [0.2222222222222222, \"#7201a8\"], [0.3333333333333333, \"#9c179e\"], [0.4444444444444444, \"#bd3786\"], [0.5555555555555556, \"#d8576b\"], [0.6666666666666666, \"#ed7953\"], [0.7777777777777778, \"#fb9f3a\"], [0.8888888888888888, \"#fdca26\"], [1.0, \"#f0f921\"]], \"sequentialminus\": [[0.0, \"#0d0887\"], [0.1111111111111111, \"#46039f\"], [0.2222222222222222, \"#7201a8\"], [0.3333333333333333, \"#9c179e\"], [0.4444444444444444, \"#bd3786\"], [0.5555555555555556, \"#d8576b\"], [0.6666666666666666, \"#ed7953\"], [0.7777777777777778, \"#fb9f3a\"], [0.8888888888888888, \"#fdca26\"], [1.0, \"#f0f921\"]]}, \"colorway\": [\"#636efa\", \"#EF553B\", \"#00cc96\", \"#ab63fa\", \"#FFA15A\", \"#19d3f3\", \"#FF6692\", \"#B6E880\", \"#FF97FF\", \"#FECB52\"], \"font\": {\"color\": \"#2a3f5f\"}, \"geo\": {\"bgcolor\": \"white\", \"lakecolor\": \"white\", \"landcolor\": \"#E5ECF6\", \"showlakes\": true, \"showland\": true, \"subunitcolor\": \"white\"}, \"hoverlabel\": {\"align\": \"left\"}, \"hovermode\": \"closest\", \"mapbox\": {\"style\": \"light\"}, \"paper_bgcolor\": \"white\", \"plot_bgcolor\": \"#E5ECF6\", \"polar\": {\"angularaxis\": {\"gridcolor\": \"white\", \"linecolor\": \"white\", \"ticks\": \"\"}, \"bgcolor\": \"#E5ECF6\", \"radialaxis\": {\"gridcolor\": \"white\", \"linecolor\": \"white\", \"ticks\": \"\"}}, \"scene\": {\"xaxis\": {\"backgroundcolor\": \"#E5ECF6\", \"gridcolor\": \"white\", \"gridwidth\": 2, \"linecolor\": \"white\", \"showbackground\": true, \"ticks\": \"\", \"zerolinecolor\": \"white\"}, \"yaxis\": {\"backgroundcolor\": \"#E5ECF6\", \"gridcolor\": \"white\", \"gridwidth\": 2, \"linecolor\": \"white\", \"showbackground\": true, \"ticks\": \"\", \"zerolinecolor\": \"white\"}, \"zaxis\": {\"backgroundcolor\": \"#E5ECF6\", \"gridcolor\": \"white\", \"gridwidth\": 2, \"linecolor\": \"white\", \"showbackground\": true, \"ticks\": \"\", \"zerolinecolor\": \"white\"}}, \"shapedefaults\": {\"line\": {\"color\": \"#2a3f5f\"}}, \"ternary\": {\"aaxis\": {\"gridcolor\": \"white\", \"linecolor\": \"white\", \"ticks\": \"\"}, \"baxis\": {\"gridcolor\": \"white\", \"linecolor\": \"white\", \"ticks\": \"\"}, \"bgcolor\": \"#E5ECF6\", \"caxis\": {\"gridcolor\": \"white\", \"linecolor\": \"white\", \"ticks\": \"\"}}, \"title\": {\"x\": 0.05}, \"xaxis\": {\"automargin\": true, \"gridcolor\": \"white\", \"linecolor\": \"white\", \"ticks\": \"\", \"title\": {\"standoff\": 15}, \"zerolinecolor\": \"white\", \"zerolinewidth\": 2}, \"yaxis\": {\"automargin\": true, \"gridcolor\": \"white\", \"linecolor\": \"white\", \"ticks\": \"\", \"title\": {\"standoff\": 15}, \"zerolinecolor\": \"white\", \"zerolinewidth\": 2}}}, \"title\": {\"text\": \"Galaxy: Andromeda V\"}, \"xaxis\": {\"anchor\": \"y\", \"domain\": [0.0, 1.0], \"title\": {\"text\": \"galactic year\"}}, \"yaxis\": {\"anchor\": \"x\", \"domain\": [0.0, 1.0], \"title\": {\"text\": \"y\"}}},\n",
       "                        {\"responsive\": true}\n",
       "                    ).then(function(){\n",
       "                            \n",
       "var gd = document.getElementById('c98a3408-64b1-425c-a6b9-102c71aa9c03');\n",
       "var x = new MutationObserver(function (mutations, observer) {{\n",
       "        var display = window.getComputedStyle(gd).display;\n",
       "        if (!display || display === 'none') {{\n",
       "            console.log([gd, 'removed!']);\n",
       "            Plotly.purge(gd);\n",
       "            observer.disconnect();\n",
       "        }}\n",
       "}});\n",
       "\n",
       "// Listen for the removal of the full notebook cells\n",
       "var notebookContainer = gd.closest('#notebook-container');\n",
       "if (notebookContainer) {{\n",
       "    x.observe(notebookContainer, {childList: true});\n",
       "}}\n",
       "\n",
       "// Listen for the clearing of the current output cell\n",
       "var outputEl = gd.closest('.output');\n",
       "if (outputEl) {{\n",
       "    x.observe(outputEl, {childList: true});\n",
       "}}\n",
       "\n",
       "                        })\n",
       "                };\n",
       "                });\n",
       "            </script>\n",
       "        </div>"
      ]
     },
     "metadata": {},
     "output_type": "display_data"
    }
   ],
   "source": [
    "# Plotting y_true vs y_pred with forecast, change i variable\n",
    "# to see the different galaxies\n",
    "galaxy_index = 5\n",
    "plot_resulting_df(res_df=resulting_df, index=galaxy_index)"
   ]
  },
  {
   "cell_type": "code",
   "execution_count": null,
   "metadata": {},
   "outputs": [],
   "source": []
  }
 ],
 "metadata": {
  "kernelspec": {
   "display_name": "Python 3",
   "language": "python",
   "name": "python3"
  },
  "language_info": {
   "codemirror_mode": {
    "name": "ipython",
    "version": 3
   },
   "file_extension": ".py",
   "mimetype": "text/x-python",
   "name": "python",
   "nbconvert_exporter": "python",
   "pygments_lexer": "ipython3",
   "version": "3.8.0"
  }
 },
 "nbformat": 4,
 "nbformat_minor": 4
}
