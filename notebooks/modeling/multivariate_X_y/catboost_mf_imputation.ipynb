{
 "cells": [
  {
   "cell_type": "code",
   "execution_count": 1,
   "metadata": {
    "ExecuteTime": {
     "end_time": "2020-06-20T20:02:57.804235Z",
     "start_time": "2020-06-20T20:02:56.558591Z"
    }
   },
   "outputs": [
    {
     "data": {
      "text/html": [
       "        <script type=\"text/javascript\">\n",
       "        window.PlotlyConfig = {MathJaxConfig: 'local'};\n",
       "        if (window.MathJax) {MathJax.Hub.Config({SVG: {font: \"STIX-Web\"}});}\n",
       "        if (typeof require !== 'undefined') {\n",
       "        require.undef(\"plotly\");\n",
       "        requirejs.config({\n",
       "            paths: {\n",
       "                'plotly': ['https://cdn.plot.ly/plotly-latest.min']\n",
       "            }\n",
       "        });\n",
       "        require(['plotly'], function(Plotly) {\n",
       "            window._Plotly = Plotly;\n",
       "        });\n",
       "        }\n",
       "        </script>\n",
       "        "
      ]
     },
     "metadata": {},
     "output_type": "display_data"
    }
   ],
   "source": [
    "# Scientific libraries\t\t              \n",
    "import numpy as np\t\t              \n",
    "import scipy as sp\t\t              \n",
    "import pandas as pd\t\t              \n",
    "import json\t\t              \n",
    "import missingno as msno\t\t              \n",
    "\n",
    "# Loading Plotting Modules\t\t              \n",
    "import matplotlib\t\t              \n",
    "import matplotlib.pyplot as plt\t\t              \n",
    "import seaborn as sns\t\t              \n",
    "%matplotlib inline\t\t              \n",
    "import chart_studio.plotly as py\t\t              \n",
    "import plotly.figure_factory as ff\t\t              \n",
    "import plotly.graph_objects as go\t\t              \n",
    "import plotly.express as px\t\t              \n",
    "from plotly.offline import download_plotlyjs, init_notebook_mode, plot, iplot\t\t              \n",
    "init_notebook_mode(connected=True)\t\t              \n",
    "\t\t              \n",
    "import os\t\t              \n",
    "import gc"
   ]
  },
  {
   "cell_type": "code",
   "execution_count": 2,
   "metadata": {
    "ExecuteTime": {
     "end_time": "2020-06-20T20:02:57.808240Z",
     "start_time": "2020-06-20T20:02:57.805236Z"
    }
   },
   "outputs": [],
   "source": [
    "# Setting Data Frame Options                      \n",
    "pd.set_option('display.max_rows', 40)                      \n",
    "pd.set_option('display.max_columns', 50)                      \n",
    "pd.set_option('display.width', 100)                      \n",
    "pd.set_option('display.max_colwidth', 100)                      \n",
    "\n",
    "# Setting Plot Configuration                      \n",
    "sns.set(rc={'figure.figsize':(19,11)}, style = 'white')"
   ]
  },
  {
   "cell_type": "code",
   "execution_count": 3,
   "metadata": {
    "ExecuteTime": {
     "end_time": "2020-06-20T20:02:57.877302Z",
     "start_time": "2020-06-20T20:02:57.809240Z"
    },
    "scrolled": true
   },
   "outputs": [
    {
     "name": "stdout",
     "output_type": "stream",
     "text": [
      "Data Frame: 3865 x 101\n"
     ]
    },
    {
     "data": {
      "text/html": [
       "<div>\n",
       "<style scoped>\n",
       "    .dataframe tbody tr th:only-of-type {\n",
       "        vertical-align: middle;\n",
       "    }\n",
       "\n",
       "    .dataframe tbody tr th {\n",
       "        vertical-align: top;\n",
       "    }\n",
       "\n",
       "    .dataframe thead th {\n",
       "        text-align: right;\n",
       "    }\n",
       "</style>\n",
       "<table border=\"1\" class=\"dataframe\">\n",
       "  <thead>\n",
       "    <tr style=\"text-align: right;\">\n",
       "      <th></th>\n",
       "      <th>feature_0</th>\n",
       "      <th>feature_1</th>\n",
       "      <th>feature_2</th>\n",
       "      <th>feature_3</th>\n",
       "      <th>feature_4</th>\n",
       "      <th>feature_5</th>\n",
       "      <th>feature_6</th>\n",
       "      <th>feature_7</th>\n",
       "      <th>feature_8</th>\n",
       "      <th>feature_9</th>\n",
       "      <th>feature_10</th>\n",
       "      <th>feature_11</th>\n",
       "      <th>feature_12</th>\n",
       "      <th>feature_13</th>\n",
       "      <th>feature_14</th>\n",
       "      <th>feature_15</th>\n",
       "      <th>feature_16</th>\n",
       "      <th>feature_17</th>\n",
       "      <th>feature_18</th>\n",
       "      <th>feature_19</th>\n",
       "      <th>feature_20</th>\n",
       "      <th>feature_21</th>\n",
       "      <th>feature_22</th>\n",
       "      <th>feature_23</th>\n",
       "      <th>feature_24</th>\n",
       "      <th>...</th>\n",
       "      <th>feature_76</th>\n",
       "      <th>feature_77</th>\n",
       "      <th>feature_78</th>\n",
       "      <th>feature_79</th>\n",
       "      <th>feature_80</th>\n",
       "      <th>feature_81</th>\n",
       "      <th>feature_82</th>\n",
       "      <th>feature_83</th>\n",
       "      <th>feature_84</th>\n",
       "      <th>feature_85</th>\n",
       "      <th>feature_86</th>\n",
       "      <th>feature_87</th>\n",
       "      <th>feature_88</th>\n",
       "      <th>feature_89</th>\n",
       "      <th>feature_90</th>\n",
       "      <th>feature_91</th>\n",
       "      <th>feature_92</th>\n",
       "      <th>feature_93</th>\n",
       "      <th>feature_94</th>\n",
       "      <th>feature_95</th>\n",
       "      <th>feature_96</th>\n",
       "      <th>feature_97</th>\n",
       "      <th>feature_98</th>\n",
       "      <th>feature_99</th>\n",
       "      <th>y</th>\n",
       "    </tr>\n",
       "  </thead>\n",
       "  <tbody>\n",
       "    <tr>\n",
       "      <th>0</th>\n",
       "      <td>0.000000</td>\n",
       "      <td>0.000000</td>\n",
       "      <td>0.0</td>\n",
       "      <td>0.000000</td>\n",
       "      <td>0.000000</td>\n",
       "      <td>0.0</td>\n",
       "      <td>0.0</td>\n",
       "      <td>0.000000</td>\n",
       "      <td>0.024915</td>\n",
       "      <td>0.000000</td>\n",
       "      <td>0.0</td>\n",
       "      <td>0.000000</td>\n",
       "      <td>0.0</td>\n",
       "      <td>0.0</td>\n",
       "      <td>0.040424</td>\n",
       "      <td>0.000000</td>\n",
       "      <td>0.053131</td>\n",
       "      <td>0.0</td>\n",
       "      <td>0.000000</td>\n",
       "      <td>0.0</td>\n",
       "      <td>0.0</td>\n",
       "      <td>0.217179</td>\n",
       "      <td>0.000000</td>\n",
       "      <td>0.0</td>\n",
       "      <td>0.000000</td>\n",
       "      <td>...</td>\n",
       "      <td>0.0</td>\n",
       "      <td>0.000000</td>\n",
       "      <td>0.000000</td>\n",
       "      <td>0.001192</td>\n",
       "      <td>0.000000</td>\n",
       "      <td>0.0</td>\n",
       "      <td>0.0</td>\n",
       "      <td>0.000000</td>\n",
       "      <td>0.000000</td>\n",
       "      <td>0.073762</td>\n",
       "      <td>0.472611</td>\n",
       "      <td>0.0</td>\n",
       "      <td>0.036118</td>\n",
       "      <td>0.000000</td>\n",
       "      <td>0.000000</td>\n",
       "      <td>0.0</td>\n",
       "      <td>0.000000</td>\n",
       "      <td>0.000000</td>\n",
       "      <td>0.241146</td>\n",
       "      <td>0.117350</td>\n",
       "      <td>0.000000</td>\n",
       "      <td>0.239123</td>\n",
       "      <td>0.000000</td>\n",
       "      <td>0.000000</td>\n",
       "      <td>0.052590</td>\n",
       "    </tr>\n",
       "    <tr>\n",
       "      <th>1</th>\n",
       "      <td>0.188311</td>\n",
       "      <td>0.000000</td>\n",
       "      <td>0.0</td>\n",
       "      <td>0.000000</td>\n",
       "      <td>0.111489</td>\n",
       "      <td>0.0</td>\n",
       "      <td>0.0</td>\n",
       "      <td>0.000000</td>\n",
       "      <td>0.045962</td>\n",
       "      <td>0.000000</td>\n",
       "      <td>0.0</td>\n",
       "      <td>0.000000</td>\n",
       "      <td>0.0</td>\n",
       "      <td>0.0</td>\n",
       "      <td>0.000000</td>\n",
       "      <td>0.111936</td>\n",
       "      <td>0.051387</td>\n",
       "      <td>0.0</td>\n",
       "      <td>0.044263</td>\n",
       "      <td>0.0</td>\n",
       "      <td>0.0</td>\n",
       "      <td>0.131924</td>\n",
       "      <td>0.000000</td>\n",
       "      <td>0.0</td>\n",
       "      <td>0.173552</td>\n",
       "      <td>...</td>\n",
       "      <td>0.0</td>\n",
       "      <td>0.000000</td>\n",
       "      <td>0.000000</td>\n",
       "      <td>0.017374</td>\n",
       "      <td>0.000000</td>\n",
       "      <td>0.0</td>\n",
       "      <td>0.0</td>\n",
       "      <td>0.030187</td>\n",
       "      <td>0.027219</td>\n",
       "      <td>0.000000</td>\n",
       "      <td>0.000000</td>\n",
       "      <td>0.0</td>\n",
       "      <td>0.204670</td>\n",
       "      <td>0.000000</td>\n",
       "      <td>0.114122</td>\n",
       "      <td>0.0</td>\n",
       "      <td>0.054687</td>\n",
       "      <td>0.022504</td>\n",
       "      <td>0.000000</td>\n",
       "      <td>0.110621</td>\n",
       "      <td>0.000000</td>\n",
       "      <td>0.106639</td>\n",
       "      <td>0.045996</td>\n",
       "      <td>0.000000</td>\n",
       "      <td>0.059868</td>\n",
       "    </tr>\n",
       "    <tr>\n",
       "      <th>2</th>\n",
       "      <td>0.000000</td>\n",
       "      <td>0.383129</td>\n",
       "      <td>0.0</td>\n",
       "      <td>0.000000</td>\n",
       "      <td>0.000000</td>\n",
       "      <td>0.0</td>\n",
       "      <td>0.0</td>\n",
       "      <td>0.174932</td>\n",
       "      <td>0.151941</td>\n",
       "      <td>0.100105</td>\n",
       "      <td>0.0</td>\n",
       "      <td>0.000000</td>\n",
       "      <td>0.0</td>\n",
       "      <td>0.0</td>\n",
       "      <td>0.000000</td>\n",
       "      <td>0.000000</td>\n",
       "      <td>0.058856</td>\n",
       "      <td>0.0</td>\n",
       "      <td>0.161537</td>\n",
       "      <td>0.0</td>\n",
       "      <td>0.0</td>\n",
       "      <td>0.091487</td>\n",
       "      <td>0.072726</td>\n",
       "      <td>0.0</td>\n",
       "      <td>0.092612</td>\n",
       "      <td>...</td>\n",
       "      <td>0.0</td>\n",
       "      <td>0.000000</td>\n",
       "      <td>0.009189</td>\n",
       "      <td>0.061532</td>\n",
       "      <td>0.000000</td>\n",
       "      <td>0.0</td>\n",
       "      <td>0.0</td>\n",
       "      <td>0.000000</td>\n",
       "      <td>0.000000</td>\n",
       "      <td>0.000000</td>\n",
       "      <td>0.212330</td>\n",
       "      <td>0.0</td>\n",
       "      <td>0.193663</td>\n",
       "      <td>0.000000</td>\n",
       "      <td>0.000000</td>\n",
       "      <td>0.0</td>\n",
       "      <td>0.000000</td>\n",
       "      <td>0.000000</td>\n",
       "      <td>0.030622</td>\n",
       "      <td>0.054549</td>\n",
       "      <td>0.000000</td>\n",
       "      <td>0.000000</td>\n",
       "      <td>0.000000</td>\n",
       "      <td>0.000000</td>\n",
       "      <td>0.050449</td>\n",
       "    </tr>\n",
       "    <tr>\n",
       "      <th>3</th>\n",
       "      <td>0.043783</td>\n",
       "      <td>0.000000</td>\n",
       "      <td>0.0</td>\n",
       "      <td>0.240399</td>\n",
       "      <td>0.000000</td>\n",
       "      <td>0.0</td>\n",
       "      <td>0.0</td>\n",
       "      <td>0.000000</td>\n",
       "      <td>0.000000</td>\n",
       "      <td>0.000000</td>\n",
       "      <td>0.0</td>\n",
       "      <td>0.000000</td>\n",
       "      <td>0.0</td>\n",
       "      <td>0.0</td>\n",
       "      <td>0.244016</td>\n",
       "      <td>0.000000</td>\n",
       "      <td>0.036816</td>\n",
       "      <td>0.0</td>\n",
       "      <td>0.114448</td>\n",
       "      <td>0.0</td>\n",
       "      <td>0.0</td>\n",
       "      <td>0.087903</td>\n",
       "      <td>0.000000</td>\n",
       "      <td>0.0</td>\n",
       "      <td>0.142596</td>\n",
       "      <td>...</td>\n",
       "      <td>0.0</td>\n",
       "      <td>0.000000</td>\n",
       "      <td>0.125273</td>\n",
       "      <td>0.000000</td>\n",
       "      <td>0.094405</td>\n",
       "      <td>0.0</td>\n",
       "      <td>0.0</td>\n",
       "      <td>0.000000</td>\n",
       "      <td>0.116430</td>\n",
       "      <td>0.000000</td>\n",
       "      <td>0.495594</td>\n",
       "      <td>0.0</td>\n",
       "      <td>0.000000</td>\n",
       "      <td>0.000000</td>\n",
       "      <td>0.000000</td>\n",
       "      <td>0.0</td>\n",
       "      <td>0.162858</td>\n",
       "      <td>0.312173</td>\n",
       "      <td>0.180531</td>\n",
       "      <td>0.298365</td>\n",
       "      <td>0.000000</td>\n",
       "      <td>0.000000</td>\n",
       "      <td>0.000000</td>\n",
       "      <td>0.037825</td>\n",
       "      <td>0.049394</td>\n",
       "    </tr>\n",
       "    <tr>\n",
       "      <th>4</th>\n",
       "      <td>0.000000</td>\n",
       "      <td>0.000000</td>\n",
       "      <td>0.0</td>\n",
       "      <td>0.000000</td>\n",
       "      <td>0.000000</td>\n",
       "      <td>0.0</td>\n",
       "      <td>0.0</td>\n",
       "      <td>0.000000</td>\n",
       "      <td>0.078929</td>\n",
       "      <td>0.000000</td>\n",
       "      <td>0.0</td>\n",
       "      <td>0.246563</td>\n",
       "      <td>0.0</td>\n",
       "      <td>0.0</td>\n",
       "      <td>0.000000</td>\n",
       "      <td>0.000000</td>\n",
       "      <td>0.108993</td>\n",
       "      <td>0.0</td>\n",
       "      <td>0.000000</td>\n",
       "      <td>0.0</td>\n",
       "      <td>0.0</td>\n",
       "      <td>0.000000</td>\n",
       "      <td>0.000000</td>\n",
       "      <td>0.0</td>\n",
       "      <td>0.000000</td>\n",
       "      <td>...</td>\n",
       "      <td>0.0</td>\n",
       "      <td>0.444491</td>\n",
       "      <td>0.000000</td>\n",
       "      <td>0.000000</td>\n",
       "      <td>0.000000</td>\n",
       "      <td>0.0</td>\n",
       "      <td>0.0</td>\n",
       "      <td>0.000000</td>\n",
       "      <td>0.000000</td>\n",
       "      <td>0.000000</td>\n",
       "      <td>0.000000</td>\n",
       "      <td>0.0</td>\n",
       "      <td>0.013195</td>\n",
       "      <td>0.073471</td>\n",
       "      <td>0.114455</td>\n",
       "      <td>0.0</td>\n",
       "      <td>0.000000</td>\n",
       "      <td>0.000000</td>\n",
       "      <td>0.000000</td>\n",
       "      <td>0.000000</td>\n",
       "      <td>0.069263</td>\n",
       "      <td>0.115210</td>\n",
       "      <td>0.000000</td>\n",
       "      <td>0.000000</td>\n",
       "      <td>0.154247</td>\n",
       "    </tr>\n",
       "  </tbody>\n",
       "</table>\n",
       "<p>5 rows × 101 columns</p>\n",
       "</div>"
      ],
      "text/plain": [
       "   feature_0  feature_1  feature_2  feature_3  feature_4  feature_5  feature_6  feature_7  \\\n",
       "0   0.000000   0.000000        0.0   0.000000   0.000000        0.0        0.0   0.000000   \n",
       "1   0.188311   0.000000        0.0   0.000000   0.111489        0.0        0.0   0.000000   \n",
       "2   0.000000   0.383129        0.0   0.000000   0.000000        0.0        0.0   0.174932   \n",
       "3   0.043783   0.000000        0.0   0.240399   0.000000        0.0        0.0   0.000000   \n",
       "4   0.000000   0.000000        0.0   0.000000   0.000000        0.0        0.0   0.000000   \n",
       "\n",
       "   feature_8  feature_9  feature_10  feature_11  feature_12  feature_13  feature_14  feature_15  \\\n",
       "0   0.024915   0.000000         0.0    0.000000         0.0         0.0    0.040424    0.000000   \n",
       "1   0.045962   0.000000         0.0    0.000000         0.0         0.0    0.000000    0.111936   \n",
       "2   0.151941   0.100105         0.0    0.000000         0.0         0.0    0.000000    0.000000   \n",
       "3   0.000000   0.000000         0.0    0.000000         0.0         0.0    0.244016    0.000000   \n",
       "4   0.078929   0.000000         0.0    0.246563         0.0         0.0    0.000000    0.000000   \n",
       "\n",
       "   feature_16  feature_17  feature_18  feature_19  feature_20  feature_21  feature_22  feature_23  \\\n",
       "0    0.053131         0.0    0.000000         0.0         0.0    0.217179    0.000000         0.0   \n",
       "1    0.051387         0.0    0.044263         0.0         0.0    0.131924    0.000000         0.0   \n",
       "2    0.058856         0.0    0.161537         0.0         0.0    0.091487    0.072726         0.0   \n",
       "3    0.036816         0.0    0.114448         0.0         0.0    0.087903    0.000000         0.0   \n",
       "4    0.108993         0.0    0.000000         0.0         0.0    0.000000    0.000000         0.0   \n",
       "\n",
       "   feature_24  ...  feature_76  feature_77  feature_78  feature_79  feature_80  feature_81  \\\n",
       "0    0.000000  ...         0.0    0.000000    0.000000    0.001192    0.000000         0.0   \n",
       "1    0.173552  ...         0.0    0.000000    0.000000    0.017374    0.000000         0.0   \n",
       "2    0.092612  ...         0.0    0.000000    0.009189    0.061532    0.000000         0.0   \n",
       "3    0.142596  ...         0.0    0.000000    0.125273    0.000000    0.094405         0.0   \n",
       "4    0.000000  ...         0.0    0.444491    0.000000    0.000000    0.000000         0.0   \n",
       "\n",
       "   feature_82  feature_83  feature_84  feature_85  feature_86  feature_87  feature_88  feature_89  \\\n",
       "0         0.0    0.000000    0.000000    0.073762    0.472611         0.0    0.036118    0.000000   \n",
       "1         0.0    0.030187    0.027219    0.000000    0.000000         0.0    0.204670    0.000000   \n",
       "2         0.0    0.000000    0.000000    0.000000    0.212330         0.0    0.193663    0.000000   \n",
       "3         0.0    0.000000    0.116430    0.000000    0.495594         0.0    0.000000    0.000000   \n",
       "4         0.0    0.000000    0.000000    0.000000    0.000000         0.0    0.013195    0.073471   \n",
       "\n",
       "   feature_90  feature_91  feature_92  feature_93  feature_94  feature_95  feature_96  feature_97  \\\n",
       "0    0.000000         0.0    0.000000    0.000000    0.241146    0.117350    0.000000    0.239123   \n",
       "1    0.114122         0.0    0.054687    0.022504    0.000000    0.110621    0.000000    0.106639   \n",
       "2    0.000000         0.0    0.000000    0.000000    0.030622    0.054549    0.000000    0.000000   \n",
       "3    0.000000         0.0    0.162858    0.312173    0.180531    0.298365    0.000000    0.000000   \n",
       "4    0.114455         0.0    0.000000    0.000000    0.000000    0.000000    0.069263    0.115210   \n",
       "\n",
       "   feature_98  feature_99         y  \n",
       "0    0.000000    0.000000  0.052590  \n",
       "1    0.045996    0.000000  0.059868  \n",
       "2    0.000000    0.000000  0.050449  \n",
       "3    0.000000    0.037825  0.049394  \n",
       "4    0.000000    0.000000  0.154247  \n",
       "\n",
       "[5 rows x 101 columns]"
      ]
     },
     "execution_count": 3,
     "metadata": {},
     "output_type": "execute_result"
    }
   ],
   "source": [
    "train = pd.read_csv('../../eda/outputs/autoenc_scaled_train2.csv')                \n",
    "m, n = train.shape                \n",
    "print('Data Frame: {} x {}'.format(m,n))                \n",
    "train.head()"
   ]
  },
  {
   "cell_type": "code",
   "execution_count": 4,
   "metadata": {
    "ExecuteTime": {
     "end_time": "2020-06-20T20:02:57.916338Z",
     "start_time": "2020-06-20T20:02:57.878303Z"
    },
    "scrolled": false
   },
   "outputs": [
    {
     "name": "stdout",
     "output_type": "stream",
     "text": [
      "Data Frame: 890 x 100\n"
     ]
    },
    {
     "data": {
      "text/html": [
       "<div>\n",
       "<style scoped>\n",
       "    .dataframe tbody tr th:only-of-type {\n",
       "        vertical-align: middle;\n",
       "    }\n",
       "\n",
       "    .dataframe tbody tr th {\n",
       "        vertical-align: top;\n",
       "    }\n",
       "\n",
       "    .dataframe thead th {\n",
       "        text-align: right;\n",
       "    }\n",
       "</style>\n",
       "<table border=\"1\" class=\"dataframe\">\n",
       "  <thead>\n",
       "    <tr style=\"text-align: right;\">\n",
       "      <th></th>\n",
       "      <th>feature_0</th>\n",
       "      <th>feature_1</th>\n",
       "      <th>feature_2</th>\n",
       "      <th>feature_3</th>\n",
       "      <th>feature_4</th>\n",
       "      <th>feature_5</th>\n",
       "      <th>feature_6</th>\n",
       "      <th>feature_7</th>\n",
       "      <th>feature_8</th>\n",
       "      <th>feature_9</th>\n",
       "      <th>feature_10</th>\n",
       "      <th>feature_11</th>\n",
       "      <th>feature_12</th>\n",
       "      <th>feature_13</th>\n",
       "      <th>feature_14</th>\n",
       "      <th>feature_15</th>\n",
       "      <th>feature_16</th>\n",
       "      <th>feature_17</th>\n",
       "      <th>feature_18</th>\n",
       "      <th>feature_19</th>\n",
       "      <th>feature_20</th>\n",
       "      <th>feature_21</th>\n",
       "      <th>feature_22</th>\n",
       "      <th>feature_23</th>\n",
       "      <th>feature_24</th>\n",
       "      <th>...</th>\n",
       "      <th>feature_75</th>\n",
       "      <th>feature_76</th>\n",
       "      <th>feature_77</th>\n",
       "      <th>feature_78</th>\n",
       "      <th>feature_79</th>\n",
       "      <th>feature_80</th>\n",
       "      <th>feature_81</th>\n",
       "      <th>feature_82</th>\n",
       "      <th>feature_83</th>\n",
       "      <th>feature_84</th>\n",
       "      <th>feature_85</th>\n",
       "      <th>feature_86</th>\n",
       "      <th>feature_87</th>\n",
       "      <th>feature_88</th>\n",
       "      <th>feature_89</th>\n",
       "      <th>feature_90</th>\n",
       "      <th>feature_91</th>\n",
       "      <th>feature_92</th>\n",
       "      <th>feature_93</th>\n",
       "      <th>feature_94</th>\n",
       "      <th>feature_95</th>\n",
       "      <th>feature_96</th>\n",
       "      <th>feature_97</th>\n",
       "      <th>feature_98</th>\n",
       "      <th>feature_99</th>\n",
       "    </tr>\n",
       "  </thead>\n",
       "  <tbody>\n",
       "    <tr>\n",
       "      <th>0</th>\n",
       "      <td>0.000000</td>\n",
       "      <td>0.000000</td>\n",
       "      <td>0.0</td>\n",
       "      <td>0.00000</td>\n",
       "      <td>0.0</td>\n",
       "      <td>0.0</td>\n",
       "      <td>0.0</td>\n",
       "      <td>0.150662</td>\n",
       "      <td>0.086566</td>\n",
       "      <td>0.011915</td>\n",
       "      <td>0.0</td>\n",
       "      <td>0.0</td>\n",
       "      <td>0.0</td>\n",
       "      <td>0.0</td>\n",
       "      <td>0.000000</td>\n",
       "      <td>0.047796</td>\n",
       "      <td>0.041106</td>\n",
       "      <td>0.0</td>\n",
       "      <td>0.133037</td>\n",
       "      <td>0.002075</td>\n",
       "      <td>0.130981</td>\n",
       "      <td>0.000000</td>\n",
       "      <td>0.032114</td>\n",
       "      <td>0.000000</td>\n",
       "      <td>0.035504</td>\n",
       "      <td>...</td>\n",
       "      <td>0.149810</td>\n",
       "      <td>0.0</td>\n",
       "      <td>0.0</td>\n",
       "      <td>0.000000</td>\n",
       "      <td>0.0</td>\n",
       "      <td>0.10124</td>\n",
       "      <td>0.0</td>\n",
       "      <td>0.0</td>\n",
       "      <td>0.0</td>\n",
       "      <td>0.0</td>\n",
       "      <td>0.174285</td>\n",
       "      <td>0.076129</td>\n",
       "      <td>0.0</td>\n",
       "      <td>0.299983</td>\n",
       "      <td>0.0</td>\n",
       "      <td>0.0</td>\n",
       "      <td>0.0</td>\n",
       "      <td>0.000000</td>\n",
       "      <td>0.170665</td>\n",
       "      <td>0.067470</td>\n",
       "      <td>0.0</td>\n",
       "      <td>0.0</td>\n",
       "      <td>0.000000</td>\n",
       "      <td>0.0</td>\n",
       "      <td>0.267662</td>\n",
       "    </tr>\n",
       "    <tr>\n",
       "      <th>1</th>\n",
       "      <td>0.000000</td>\n",
       "      <td>0.408188</td>\n",
       "      <td>0.0</td>\n",
       "      <td>0.00000</td>\n",
       "      <td>0.0</td>\n",
       "      <td>0.0</td>\n",
       "      <td>0.0</td>\n",
       "      <td>0.161059</td>\n",
       "      <td>0.000000</td>\n",
       "      <td>0.000000</td>\n",
       "      <td>0.0</td>\n",
       "      <td>0.0</td>\n",
       "      <td>0.0</td>\n",
       "      <td>0.0</td>\n",
       "      <td>0.000000</td>\n",
       "      <td>0.000000</td>\n",
       "      <td>0.000000</td>\n",
       "      <td>0.0</td>\n",
       "      <td>0.023354</td>\n",
       "      <td>0.000000</td>\n",
       "      <td>0.000000</td>\n",
       "      <td>0.250214</td>\n",
       "      <td>0.162866</td>\n",
       "      <td>0.000000</td>\n",
       "      <td>0.017912</td>\n",
       "      <td>...</td>\n",
       "      <td>0.115132</td>\n",
       "      <td>0.0</td>\n",
       "      <td>0.0</td>\n",
       "      <td>0.061163</td>\n",
       "      <td>0.0</td>\n",
       "      <td>0.00000</td>\n",
       "      <td>0.0</td>\n",
       "      <td>0.0</td>\n",
       "      <td>0.0</td>\n",
       "      <td>0.0</td>\n",
       "      <td>0.000000</td>\n",
       "      <td>0.189341</td>\n",
       "      <td>0.0</td>\n",
       "      <td>0.013214</td>\n",
       "      <td>0.0</td>\n",
       "      <td>0.0</td>\n",
       "      <td>0.0</td>\n",
       "      <td>0.088113</td>\n",
       "      <td>0.000000</td>\n",
       "      <td>0.000000</td>\n",
       "      <td>0.0</td>\n",
       "      <td>0.0</td>\n",
       "      <td>0.000000</td>\n",
       "      <td>0.0</td>\n",
       "      <td>0.000000</td>\n",
       "    </tr>\n",
       "    <tr>\n",
       "      <th>2</th>\n",
       "      <td>0.008295</td>\n",
       "      <td>0.396925</td>\n",
       "      <td>0.0</td>\n",
       "      <td>0.01507</td>\n",
       "      <td>0.0</td>\n",
       "      <td>0.0</td>\n",
       "      <td>0.0</td>\n",
       "      <td>0.112586</td>\n",
       "      <td>0.000000</td>\n",
       "      <td>0.000000</td>\n",
       "      <td>0.0</td>\n",
       "      <td>0.0</td>\n",
       "      <td>0.0</td>\n",
       "      <td>0.0</td>\n",
       "      <td>0.015570</td>\n",
       "      <td>0.000000</td>\n",
       "      <td>0.000000</td>\n",
       "      <td>0.0</td>\n",
       "      <td>0.000000</td>\n",
       "      <td>0.000000</td>\n",
       "      <td>0.000000</td>\n",
       "      <td>0.211631</td>\n",
       "      <td>0.147908</td>\n",
       "      <td>0.000000</td>\n",
       "      <td>0.000000</td>\n",
       "      <td>...</td>\n",
       "      <td>0.126009</td>\n",
       "      <td>0.0</td>\n",
       "      <td>0.0</td>\n",
       "      <td>0.050107</td>\n",
       "      <td>0.0</td>\n",
       "      <td>0.00000</td>\n",
       "      <td>0.0</td>\n",
       "      <td>0.0</td>\n",
       "      <td>0.0</td>\n",
       "      <td>0.0</td>\n",
       "      <td>0.024297</td>\n",
       "      <td>0.105975</td>\n",
       "      <td>0.0</td>\n",
       "      <td>0.030218</td>\n",
       "      <td>0.0</td>\n",
       "      <td>0.0</td>\n",
       "      <td>0.0</td>\n",
       "      <td>0.095138</td>\n",
       "      <td>0.000000</td>\n",
       "      <td>0.000000</td>\n",
       "      <td>0.0</td>\n",
       "      <td>0.0</td>\n",
       "      <td>0.050245</td>\n",
       "      <td>0.0</td>\n",
       "      <td>0.002424</td>\n",
       "    </tr>\n",
       "    <tr>\n",
       "      <th>3</th>\n",
       "      <td>0.075331</td>\n",
       "      <td>0.000000</td>\n",
       "      <td>0.0</td>\n",
       "      <td>0.00000</td>\n",
       "      <td>0.0</td>\n",
       "      <td>0.0</td>\n",
       "      <td>0.0</td>\n",
       "      <td>0.094431</td>\n",
       "      <td>0.000000</td>\n",
       "      <td>0.000000</td>\n",
       "      <td>0.0</td>\n",
       "      <td>0.0</td>\n",
       "      <td>0.0</td>\n",
       "      <td>0.0</td>\n",
       "      <td>0.056245</td>\n",
       "      <td>0.000000</td>\n",
       "      <td>0.000000</td>\n",
       "      <td>0.0</td>\n",
       "      <td>0.011154</td>\n",
       "      <td>0.163346</td>\n",
       "      <td>0.000000</td>\n",
       "      <td>0.000000</td>\n",
       "      <td>0.011338</td>\n",
       "      <td>0.002402</td>\n",
       "      <td>0.038246</td>\n",
       "      <td>...</td>\n",
       "      <td>0.314626</td>\n",
       "      <td>0.0</td>\n",
       "      <td>0.0</td>\n",
       "      <td>0.000000</td>\n",
       "      <td>0.0</td>\n",
       "      <td>0.00000</td>\n",
       "      <td>0.0</td>\n",
       "      <td>0.0</td>\n",
       "      <td>0.0</td>\n",
       "      <td>0.0</td>\n",
       "      <td>0.000000</td>\n",
       "      <td>0.185286</td>\n",
       "      <td>0.0</td>\n",
       "      <td>0.144853</td>\n",
       "      <td>0.0</td>\n",
       "      <td>0.0</td>\n",
       "      <td>0.0</td>\n",
       "      <td>0.143441</td>\n",
       "      <td>0.000000</td>\n",
       "      <td>0.060121</td>\n",
       "      <td>0.0</td>\n",
       "      <td>0.0</td>\n",
       "      <td>0.011728</td>\n",
       "      <td>0.0</td>\n",
       "      <td>0.000000</td>\n",
       "    </tr>\n",
       "    <tr>\n",
       "      <th>4</th>\n",
       "      <td>0.000000</td>\n",
       "      <td>0.413454</td>\n",
       "      <td>0.0</td>\n",
       "      <td>0.00000</td>\n",
       "      <td>0.0</td>\n",
       "      <td>0.0</td>\n",
       "      <td>0.0</td>\n",
       "      <td>0.233252</td>\n",
       "      <td>0.287531</td>\n",
       "      <td>0.130732</td>\n",
       "      <td>0.0</td>\n",
       "      <td>0.0</td>\n",
       "      <td>0.0</td>\n",
       "      <td>0.0</td>\n",
       "      <td>0.000000</td>\n",
       "      <td>0.000000</td>\n",
       "      <td>0.000000</td>\n",
       "      <td>0.0</td>\n",
       "      <td>0.088333</td>\n",
       "      <td>0.000000</td>\n",
       "      <td>0.000000</td>\n",
       "      <td>0.060762</td>\n",
       "      <td>0.000000</td>\n",
       "      <td>0.000000</td>\n",
       "      <td>0.056966</td>\n",
       "      <td>...</td>\n",
       "      <td>0.158893</td>\n",
       "      <td>0.0</td>\n",
       "      <td>0.0</td>\n",
       "      <td>0.061843</td>\n",
       "      <td>0.0</td>\n",
       "      <td>0.00000</td>\n",
       "      <td>0.0</td>\n",
       "      <td>0.0</td>\n",
       "      <td>0.0</td>\n",
       "      <td>0.0</td>\n",
       "      <td>0.000000</td>\n",
       "      <td>0.140522</td>\n",
       "      <td>0.0</td>\n",
       "      <td>0.047739</td>\n",
       "      <td>0.0</td>\n",
       "      <td>0.0</td>\n",
       "      <td>0.0</td>\n",
       "      <td>0.000000</td>\n",
       "      <td>0.076266</td>\n",
       "      <td>0.025799</td>\n",
       "      <td>0.0</td>\n",
       "      <td>0.0</td>\n",
       "      <td>0.041157</td>\n",
       "      <td>0.0</td>\n",
       "      <td>0.000000</td>\n",
       "    </tr>\n",
       "  </tbody>\n",
       "</table>\n",
       "<p>5 rows × 100 columns</p>\n",
       "</div>"
      ],
      "text/plain": [
       "   feature_0  feature_1  feature_2  feature_3  feature_4  feature_5  feature_6  feature_7  \\\n",
       "0   0.000000   0.000000        0.0    0.00000        0.0        0.0        0.0   0.150662   \n",
       "1   0.000000   0.408188        0.0    0.00000        0.0        0.0        0.0   0.161059   \n",
       "2   0.008295   0.396925        0.0    0.01507        0.0        0.0        0.0   0.112586   \n",
       "3   0.075331   0.000000        0.0    0.00000        0.0        0.0        0.0   0.094431   \n",
       "4   0.000000   0.413454        0.0    0.00000        0.0        0.0        0.0   0.233252   \n",
       "\n",
       "   feature_8  feature_9  feature_10  feature_11  feature_12  feature_13  feature_14  feature_15  \\\n",
       "0   0.086566   0.011915         0.0         0.0         0.0         0.0    0.000000    0.047796   \n",
       "1   0.000000   0.000000         0.0         0.0         0.0         0.0    0.000000    0.000000   \n",
       "2   0.000000   0.000000         0.0         0.0         0.0         0.0    0.015570    0.000000   \n",
       "3   0.000000   0.000000         0.0         0.0         0.0         0.0    0.056245    0.000000   \n",
       "4   0.287531   0.130732         0.0         0.0         0.0         0.0    0.000000    0.000000   \n",
       "\n",
       "   feature_16  feature_17  feature_18  feature_19  feature_20  feature_21  feature_22  feature_23  \\\n",
       "0    0.041106         0.0    0.133037    0.002075    0.130981    0.000000    0.032114    0.000000   \n",
       "1    0.000000         0.0    0.023354    0.000000    0.000000    0.250214    0.162866    0.000000   \n",
       "2    0.000000         0.0    0.000000    0.000000    0.000000    0.211631    0.147908    0.000000   \n",
       "3    0.000000         0.0    0.011154    0.163346    0.000000    0.000000    0.011338    0.002402   \n",
       "4    0.000000         0.0    0.088333    0.000000    0.000000    0.060762    0.000000    0.000000   \n",
       "\n",
       "   feature_24  ...  feature_75  feature_76  feature_77  feature_78  feature_79  feature_80  \\\n",
       "0    0.035504  ...    0.149810         0.0         0.0    0.000000         0.0     0.10124   \n",
       "1    0.017912  ...    0.115132         0.0         0.0    0.061163         0.0     0.00000   \n",
       "2    0.000000  ...    0.126009         0.0         0.0    0.050107         0.0     0.00000   \n",
       "3    0.038246  ...    0.314626         0.0         0.0    0.000000         0.0     0.00000   \n",
       "4    0.056966  ...    0.158893         0.0         0.0    0.061843         0.0     0.00000   \n",
       "\n",
       "   feature_81  feature_82  feature_83  feature_84  feature_85  feature_86  feature_87  feature_88  \\\n",
       "0         0.0         0.0         0.0         0.0    0.174285    0.076129         0.0    0.299983   \n",
       "1         0.0         0.0         0.0         0.0    0.000000    0.189341         0.0    0.013214   \n",
       "2         0.0         0.0         0.0         0.0    0.024297    0.105975         0.0    0.030218   \n",
       "3         0.0         0.0         0.0         0.0    0.000000    0.185286         0.0    0.144853   \n",
       "4         0.0         0.0         0.0         0.0    0.000000    0.140522         0.0    0.047739   \n",
       "\n",
       "   feature_89  feature_90  feature_91  feature_92  feature_93  feature_94  feature_95  feature_96  \\\n",
       "0         0.0         0.0         0.0    0.000000    0.170665    0.067470         0.0         0.0   \n",
       "1         0.0         0.0         0.0    0.088113    0.000000    0.000000         0.0         0.0   \n",
       "2         0.0         0.0         0.0    0.095138    0.000000    0.000000         0.0         0.0   \n",
       "3         0.0         0.0         0.0    0.143441    0.000000    0.060121         0.0         0.0   \n",
       "4         0.0         0.0         0.0    0.000000    0.076266    0.025799         0.0         0.0   \n",
       "\n",
       "   feature_97  feature_98  feature_99  \n",
       "0    0.000000         0.0    0.267662  \n",
       "1    0.000000         0.0    0.000000  \n",
       "2    0.050245         0.0    0.002424  \n",
       "3    0.011728         0.0    0.000000  \n",
       "4    0.041157         0.0    0.000000  \n",
       "\n",
       "[5 rows x 100 columns]"
      ]
     },
     "execution_count": 4,
     "metadata": {},
     "output_type": "execute_result"
    }
   ],
   "source": [
    "test = pd.read_csv('../../eda/outputs/autoenc_scaled_test2.csv')\n",
    "m, n = test.shape                \n",
    "print('Data Frame: {} x {}'.format(m,n))                \n",
    "test.head()"
   ]
  },
  {
   "cell_type": "code",
   "execution_count": 5,
   "metadata": {
    "ExecuteTime": {
     "end_time": "2020-06-20T20:02:57.956374Z",
     "start_time": "2020-06-20T20:02:57.917338Z"
    }
   },
   "outputs": [],
   "source": [
    "from catboost import CatBoostRegressor\n",
    "from sklearn.model_selection import train_test_split\n",
    "from sklearn.metrics import mean_squared_error"
   ]
  },
  {
   "cell_type": "code",
   "execution_count": 6,
   "metadata": {
    "ExecuteTime": {
     "end_time": "2020-06-20T20:02:57.963381Z",
     "start_time": "2020-06-20T20:02:57.957375Z"
    }
   },
   "outputs": [],
   "source": [
    "def write_predictions():\n",
    "    from datetime import datetime\n",
    "    os.makedirs('../outputs', exist_ok=True)\n",
    "    ts_now = datetime.now().strftime('%Y%m%d_%H%M%S')\n",
    "    pred_output.to_csv(f'../outputs/y_pred_cbr_autoenc_{ts_now}.csv', index=False)\n",
    "\n",
    "\n",
    "def plot_history(history, metric_key='l2'):\n",
    "    for i, key in enumerate(history.evals_result_):\n",
    "        if i == 0:\n",
    "            res = pd.DataFrame(history.evals_result_[key])\n",
    "            res['index'] = np.arange(len(history.evals_result_[key][metric_key]))\n",
    "            res['type'] = key\n",
    "        temp = pd.DataFrame(history.evals_result_[key])\n",
    "        temp['type'] = key\n",
    "        temp['index'] = np.arange(len(history.evals_result_[key][metric_key]))\n",
    "        \n",
    "        res = res.append(temp, ignore_index=True)\n",
    "        del temp; gc.collect()\n",
    "    \n",
    "    fig = px.scatter(data_frame=res, x='index', y=metric_key, color='type',\n",
    "                 title='Learning curve')\n",
    "    fig.show()"
   ]
  },
  {
   "cell_type": "code",
   "execution_count": 7,
   "metadata": {
    "ExecuteTime": {
     "end_time": "2020-06-20T20:02:57.969386Z",
     "start_time": "2020-06-20T20:02:57.964381Z"
    }
   },
   "outputs": [],
   "source": [
    "# train.rename(columns={\n",
    "#     \"Unemployment, youth (% ages 15–24)\": \"Unemployment..youth....ages.15a..24.\",\n",
    "#     \"Population, ages 15–64 (millions)\": \"Population..ages.15a..64..millions.\"\n",
    "# }, inplace=True)"
   ]
  },
  {
   "cell_type": "code",
   "execution_count": 8,
   "metadata": {
    "ExecuteTime": {
     "end_time": "2020-06-20T20:02:57.974390Z",
     "start_time": "2020-06-20T20:02:57.970387Z"
    }
   },
   "outputs": [],
   "source": [
    "try:\n",
    "    drop_cols = ['galactic year']\n",
    "    train.drop(drop_cols, axis=1, inplace=True)\n",
    "    test.drop(drop_cols, axis=1, inplace=True)\n",
    "except:\n",
    "    pass"
   ]
  },
  {
   "cell_type": "code",
   "execution_count": 9,
   "metadata": {
    "ExecuteTime": {
     "end_time": "2020-06-20T20:02:57.979395Z",
     "start_time": "2020-06-20T20:02:57.975391Z"
    }
   },
   "outputs": [],
   "source": [
    "# train = pd.get_dummies(train)"
   ]
  },
  {
   "cell_type": "code",
   "execution_count": 10,
   "metadata": {
    "ExecuteTime": {
     "end_time": "2020-06-20T20:02:57.984400Z",
     "start_time": "2020-06-20T20:02:57.980396Z"
    }
   },
   "outputs": [],
   "source": [
    "y = 'y'\n",
    "X = train.columns.drop(y)"
   ]
  },
  {
   "cell_type": "code",
   "execution_count": 11,
   "metadata": {
    "ExecuteTime": {
     "end_time": "2020-06-20T20:02:57.997412Z",
     "start_time": "2020-06-20T20:02:57.985401Z"
    }
   },
   "outputs": [
    {
     "data": {
      "text/plain": [
       "((2898, 100), (967, 100), (2898,), (967,))"
      ]
     },
     "execution_count": 11,
     "metadata": {},
     "output_type": "execute_result"
    }
   ],
   "source": [
    "X_train, X_val, y_train, y_val = train_test_split(train[X].to_numpy(), train[y].to_numpy(),\n",
    "                                                  test_size=0.25, random_state=42)\n",
    "X_train.shape, X_val.shape, y_train.shape, y_val.shape"
   ]
  },
  {
   "cell_type": "code",
   "execution_count": 12,
   "metadata": {
    "ExecuteTime": {
     "end_time": "2020-06-20T20:02:58.000414Z",
     "start_time": "2020-06-20T20:02:57.998412Z"
    }
   },
   "outputs": [],
   "source": [
    "# No need for train data in eval_set, it automatically caches training set.\n",
    "eval_set = [(X_val, y_val)]"
   ]
  },
  {
   "cell_type": "code",
   "execution_count": 13,
   "metadata": {
    "ExecuteTime": {
     "end_time": "2020-06-20T20:03:01.423084Z",
     "start_time": "2020-06-20T20:02:58.001415Z"
    },
    "scrolled": false
   },
   "outputs": [
    {
     "name": "stdout",
     "output_type": "stream",
     "text": [
      "RMSE Train:  0.00508365\n",
      "RMSE Valid:  0.01366583\tRatio (val/train):  2.68819\n"
     ]
    },
    {
     "data": {
      "application/vnd.plotly.v1+json": {
       "config": {
        "plotlyServerURL": "https://plot.ly"
       },
       "data": [
        {
         "hovertemplate": "type=learn<br>index=%{x}<br>RMSE=%{y}<extra></extra>",
         "legendgroup": "learn",
         "marker": {
          "color": "#636efa",
          "symbol": "circle"
         },
         "mode": "markers",
         "name": "learn",
         "showlegend": true,
         "type": "scatter",
         "x": [
          0,
          1,
          2,
          3,
          4,
          5,
          6,
          7,
          8,
          9,
          10,
          11,
          12,
          13,
          14,
          15,
          16,
          17,
          18,
          19,
          20,
          21,
          22,
          23,
          24,
          25,
          26,
          27,
          28,
          29,
          30,
          31,
          32,
          33,
          34,
          35,
          36,
          37,
          38,
          39,
          40,
          41,
          42,
          43,
          44,
          45,
          46,
          47,
          48,
          49,
          50,
          51,
          52,
          53,
          54,
          55,
          56,
          57,
          58,
          59,
          60,
          61,
          62,
          63,
          64,
          65,
          66,
          67,
          68,
          69,
          70,
          71,
          72,
          73,
          74,
          75,
          76,
          77,
          78,
          79,
          80,
          81,
          82,
          83,
          84,
          85,
          86,
          87,
          88,
          89,
          90,
          91,
          92,
          93,
          94,
          95,
          96,
          97,
          98,
          99,
          100,
          101,
          102,
          103,
          104,
          105,
          106,
          107,
          108,
          109,
          110,
          111,
          112,
          113,
          114,
          115,
          116,
          117,
          118,
          119,
          120,
          121,
          122,
          123,
          124,
          125,
          126,
          127,
          128,
          129,
          130,
          131,
          132,
          133,
          134,
          135,
          136,
          137,
          138,
          139,
          140,
          141,
          142,
          143,
          144,
          145,
          146,
          147,
          148,
          149,
          150,
          151,
          152,
          153,
          154,
          155,
          156,
          157,
          158,
          159,
          160,
          161,
          162,
          163,
          164,
          165,
          166,
          167,
          168,
          169,
          170,
          171,
          172,
          173,
          174,
          175,
          176,
          177,
          178,
          179,
          180,
          181,
          182,
          183,
          184,
          185,
          186,
          187,
          188,
          189,
          190,
          191,
          192,
          193,
          194,
          195,
          196,
          197,
          198,
          199,
          200,
          201,
          202,
          203,
          204,
          205,
          206,
          207,
          208,
          209,
          210,
          211,
          212,
          213,
          214,
          215,
          216,
          217,
          218,
          219,
          220,
          221,
          222,
          223,
          224,
          225,
          226,
          227,
          228,
          229,
          230,
          231,
          232,
          233,
          234,
          235,
          236,
          237,
          238,
          239,
          240,
          241,
          242,
          243,
          244,
          245,
          246,
          247,
          248,
          249,
          250,
          251,
          252,
          253,
          254,
          255,
          256,
          257,
          258,
          259,
          260,
          261,
          262,
          263,
          264,
          265,
          266,
          267,
          268,
          269,
          270,
          271,
          272,
          273,
          274,
          275,
          276,
          277,
          278,
          279,
          280,
          281,
          282,
          283,
          284,
          285,
          286,
          287,
          288,
          289,
          290,
          291,
          292,
          293,
          294,
          295,
          296,
          297,
          298,
          299,
          0,
          1,
          2,
          3,
          4,
          5,
          6,
          7,
          8,
          9,
          10,
          11,
          12,
          13,
          14,
          15,
          16,
          17,
          18,
          19,
          20,
          21,
          22,
          23,
          24,
          25,
          26,
          27,
          28,
          29,
          30,
          31,
          32,
          33,
          34,
          35,
          36,
          37,
          38,
          39,
          40,
          41,
          42,
          43,
          44,
          45,
          46,
          47,
          48,
          49,
          50,
          51,
          52,
          53,
          54,
          55,
          56,
          57,
          58,
          59,
          60,
          61,
          62,
          63,
          64,
          65,
          66,
          67,
          68,
          69,
          70,
          71,
          72,
          73,
          74,
          75,
          76,
          77,
          78,
          79,
          80,
          81,
          82,
          83,
          84,
          85,
          86,
          87,
          88,
          89,
          90,
          91,
          92,
          93,
          94,
          95,
          96,
          97,
          98,
          99,
          100,
          101,
          102,
          103,
          104,
          105,
          106,
          107,
          108,
          109,
          110,
          111,
          112,
          113,
          114,
          115,
          116,
          117,
          118,
          119,
          120,
          121,
          122,
          123,
          124,
          125,
          126,
          127,
          128,
          129,
          130,
          131,
          132,
          133,
          134,
          135,
          136,
          137,
          138,
          139,
          140,
          141,
          142,
          143,
          144,
          145,
          146,
          147,
          148,
          149,
          150,
          151,
          152,
          153,
          154,
          155,
          156,
          157,
          158,
          159,
          160,
          161,
          162,
          163,
          164,
          165,
          166,
          167,
          168,
          169,
          170,
          171,
          172,
          173,
          174,
          175,
          176,
          177,
          178,
          179,
          180,
          181,
          182,
          183,
          184,
          185,
          186,
          187,
          188,
          189,
          190,
          191,
          192,
          193,
          194,
          195,
          196,
          197,
          198,
          199,
          200,
          201,
          202,
          203,
          204,
          205,
          206,
          207,
          208,
          209,
          210,
          211,
          212,
          213,
          214,
          215,
          216,
          217,
          218,
          219,
          220,
          221,
          222,
          223,
          224,
          225,
          226,
          227,
          228,
          229,
          230,
          231,
          232,
          233,
          234,
          235,
          236,
          237,
          238,
          239,
          240,
          241,
          242,
          243,
          244,
          245,
          246,
          247,
          248,
          249,
          250,
          251,
          252,
          253,
          254,
          255,
          256,
          257,
          258,
          259,
          260,
          261,
          262,
          263,
          264,
          265,
          266,
          267,
          268,
          269,
          270,
          271,
          272,
          273,
          274,
          275,
          276,
          277,
          278,
          279,
          280,
          281,
          282,
          283,
          284,
          285,
          286,
          287,
          288,
          289,
          290,
          291,
          292,
          293,
          294,
          295,
          296,
          297,
          298,
          299
         ],
         "xaxis": "x",
         "y": [
          0.0592434302638673,
          0.05535428503056048,
          0.05183809451564733,
          0.048863290696319804,
          0.045886823202145224,
          0.04339054026833077,
          0.04100552987879431,
          0.038467038687526905,
          0.03645684813629909,
          0.03454646907307015,
          0.03277740997768325,
          0.03128260032024389,
          0.030028748246532497,
          0.02861951039865526,
          0.027323330887929192,
          0.026004991658066266,
          0.025023633085229813,
          0.024124119234306848,
          0.023317592866880666,
          0.022475725534269814,
          0.021654669029519208,
          0.020998917209915178,
          0.02035558920971844,
          0.01974308793700775,
          0.019190808744699906,
          0.01863720389704483,
          0.01816302113917169,
          0.017655451724975055,
          0.017236649784560774,
          0.01688037027963681,
          0.0164764554967932,
          0.016124201895380587,
          0.015818943162543227,
          0.015533327295854923,
          0.015303662052110237,
          0.015044694499918888,
          0.014777415221315551,
          0.014566661977697765,
          0.014377648885546749,
          0.014177896808547278,
          0.01401389168417105,
          0.01385648137346681,
          0.013677308269066917,
          0.01347923063252145,
          0.013345521685243358,
          0.013193558627008162,
          0.013080977278010799,
          0.012877526359256273,
          0.012734082796537656,
          0.012617494422641751,
          0.012449620109647223,
          0.01230591630893996,
          0.012199332690481809,
          0.012111552898000612,
          0.012005951863990814,
          0.011873184934982626,
          0.011758418713928699,
          0.011684083706880509,
          0.011576831537183948,
          0.01146238405389964,
          0.011387011672073982,
          0.011298005263851251,
          0.011213022329425566,
          0.011132011438817705,
          0.01103842074617133,
          0.010985051080980223,
          0.01088527067107296,
          0.010834134618877457,
          0.010727494758666396,
          0.010634600337271179,
          0.01056479402013533,
          0.010490052135213522,
          0.010452428434795874,
          0.01037277981498953,
          0.01031304623491796,
          0.0102645767985005,
          0.010227517540896337,
          0.010183444525963575,
          0.010157841589880083,
          0.01007999643166867,
          0.010032488262737201,
          0.009951090700438278,
          0.009900140751100609,
          0.00986717885411951,
          0.009841911997693378,
          0.009814165498203055,
          0.009774017552965227,
          0.009755021637032804,
          0.009725697691348966,
          0.009689325532906069,
          0.009629855804706917,
          0.009540272790016093,
          0.009501547627394146,
          0.009459447267007356,
          0.009405731730488507,
          0.009352170689725417,
          0.009326556995885986,
          0.009299587968761526,
          0.009278781792219633,
          0.009227242466378278,
          0.00919759092711986,
          0.009175283162744328,
          0.009127212502574342,
          0.009100442470718971,
          0.009046076779832326,
          0.008986988932078204,
          0.008950636121259195,
          0.008910431313344814,
          0.008860043261433559,
          0.008840835248243464,
          0.008801297779302707,
          0.008789857001611168,
          0.008743050012177931,
          0.00871614562013792,
          0.008675476142008377,
          0.008625280447706314,
          0.00856383254444328,
          0.008551009804832716,
          0.008517343235897026,
          0.008484685651976496,
          0.008466827155590446,
          0.008436160524665065,
          0.008401301338763758,
          0.008365371656661316,
          0.008355828965038456,
          0.008312167403068539,
          0.008299338493713004,
          0.008250788879915386,
          0.008211855884473398,
          0.00818509146766784,
          0.008154451879532686,
          0.008144808351704252,
          0.008109069941455433,
          0.008100099974445375,
          0.008081989258335899,
          0.008059499929746595,
          0.008022983546017952,
          0.008011091690644002,
          0.007987334929466858,
          0.00797163552301666,
          0.007943255986589999,
          0.007887689983332453,
          0.007873033695030581,
          0.00784963037189166,
          0.007807426909523179,
          0.007784140200827133,
          0.007741979750322282,
          0.007722637957326705,
          0.007675987444171264,
          0.007651887962247883,
          0.007646018904089017,
          0.007625263191718758,
          0.007591781150252475,
          0.00758316261414514,
          0.007549951198606998,
          0.007540995219757981,
          0.007524485539117156,
          0.007506803466801152,
          0.007481798853698436,
          0.007459297236291957,
          0.007425827342297267,
          0.007414486118471328,
          0.007405078434896811,
          0.007388515320543549,
          0.007380874733663667,
          0.0073616224996814915,
          0.007344183394750914,
          0.00731559905553102,
          0.007304475969460467,
          0.007264732391770212,
          0.007188047921386143,
          0.007175537877261886,
          0.007154099296591166,
          0.007105268467984331,
          0.0070836005544196385,
          0.007038486276722559,
          0.006987845536696402,
          0.00694130699495612,
          0.006930344571774349,
          0.006910208844066556,
          0.006889604349433811,
          0.006880791876886038,
          0.006873649775450082,
          0.006857182465540767,
          0.006851467443989106,
          0.006828430887546464,
          0.0068232180496616305,
          0.00681047195017382,
          0.0067951634390489785,
          0.006786978875101513,
          0.0067737135601469755,
          0.006761154736950413,
          0.006747980425682686,
          0.006740442779558081,
          0.006715059628562755,
          0.006687257848839988,
          0.006670679441839202,
          0.006660039842204023,
          0.006643241474476061,
          0.006631994836247224,
          0.006607731914243357,
          0.006583209387011823,
          0.006567816070435968,
          0.006556749692408314,
          0.006552353966531061,
          0.00652004860142873,
          0.006496122434479439,
          0.006481832390820446,
          0.006466348598937754,
          0.006451430406774123,
          0.006426915786986696,
          0.006421654286514385,
          0.00640400983519117,
          0.006388613939725896,
          0.006345394618605756,
          0.00631859814968545,
          0.006315568414518007,
          0.00629510311264436,
          0.006282417405278921,
          0.006227859071978377,
          0.006218894347023921,
          0.006210016259029047,
          0.006192976315428898,
          0.006179071626251431,
          0.006153553389090279,
          0.006133280305832473,
          0.006099438598411276,
          0.006069408831895751,
          0.006061228459879877,
          0.006046311250678529,
          0.006042093369242027,
          0.006037445003724876,
          0.0060228296943504655,
          0.006015681983449453,
          0.0059860778580018885,
          0.005958195360964036,
          0.005941052318147258,
          0.005922960546362544,
          0.005906246070091531,
          0.005875534510707242,
          0.005857143486387377,
          0.005853763199704515,
          0.005832869427237351,
          0.005807783527284916,
          0.005794504787146414,
          0.0057904116683367346,
          0.005762132862333971,
          0.005743183632393168,
          0.005726290179616568,
          0.005713947187205528,
          0.005688285381759893,
          0.005668667139161326,
          0.00566466811602574,
          0.005637482241697783,
          0.0056235958601091995,
          0.0055976452293790375,
          0.005594969798299672,
          0.005592124522754483,
          0.005565747101110976,
          0.005556328252657445,
          0.005547063436920026,
          0.00553594083584292,
          0.005531976816871077,
          0.005515993034703925,
          0.005505153886648378,
          0.005497332667888178,
          0.00548094388667527,
          0.005477838234056628,
          0.005464756402874212,
          0.005453841071923348,
          0.005445982856516885,
          0.005423902126895137,
          0.005417796141012374,
          0.005387129495391933,
          0.0053705535447629,
          0.005364216727433148,
          0.005344567720651638,
          0.005338921793852941,
          0.0053120964682766844,
          0.005279326664634784,
          0.005270146634325685,
          0.005251827335015524,
          0.005242000081767896,
          0.005237954632400897,
          0.00521722708260786,
          0.0051910829284385895,
          0.005175326112313617,
          0.005164320938082796,
          0.00514228381653525,
          0.005125351342391029,
          0.005123179784117969,
          0.0051177853196678605,
          0.005115274998068868,
          0.005108861484904408,
          0.0051021048132365516,
          0.005100663102881685,
          0.005099069502623888,
          0.005087556490567869,
          0.005083647188502442,
          0.005076398213848849,
          0.0592434302638673,
          0.05535428503056048,
          0.05183809451564733,
          0.048863290696319804,
          0.045886823202145224,
          0.04339054026833077,
          0.04100552987879431,
          0.038467038687526905,
          0.03645684813629909,
          0.03454646907307015,
          0.03277740997768325,
          0.03128260032024389,
          0.030028748246532497,
          0.02861951039865526,
          0.027323330887929192,
          0.026004991658066266,
          0.025023633085229813,
          0.024124119234306848,
          0.023317592866880666,
          0.022475725534269814,
          0.021654669029519208,
          0.020998917209915178,
          0.02035558920971844,
          0.01974308793700775,
          0.019190808744699906,
          0.01863720389704483,
          0.01816302113917169,
          0.017655451724975055,
          0.017236649784560774,
          0.01688037027963681,
          0.0164764554967932,
          0.016124201895380587,
          0.015818943162543227,
          0.015533327295854923,
          0.015303662052110237,
          0.015044694499918888,
          0.014777415221315551,
          0.014566661977697765,
          0.014377648885546749,
          0.014177896808547278,
          0.01401389168417105,
          0.01385648137346681,
          0.013677308269066917,
          0.01347923063252145,
          0.013345521685243358,
          0.013193558627008162,
          0.013080977278010799,
          0.012877526359256273,
          0.012734082796537656,
          0.012617494422641751,
          0.012449620109647223,
          0.01230591630893996,
          0.012199332690481809,
          0.012111552898000612,
          0.012005951863990814,
          0.011873184934982626,
          0.011758418713928699,
          0.011684083706880509,
          0.011576831537183948,
          0.01146238405389964,
          0.011387011672073982,
          0.011298005263851251,
          0.011213022329425566,
          0.011132011438817705,
          0.01103842074617133,
          0.010985051080980223,
          0.01088527067107296,
          0.010834134618877457,
          0.010727494758666396,
          0.010634600337271179,
          0.01056479402013533,
          0.010490052135213522,
          0.010452428434795874,
          0.01037277981498953,
          0.01031304623491796,
          0.0102645767985005,
          0.010227517540896337,
          0.010183444525963575,
          0.010157841589880083,
          0.01007999643166867,
          0.010032488262737201,
          0.009951090700438278,
          0.009900140751100609,
          0.00986717885411951,
          0.009841911997693378,
          0.009814165498203055,
          0.009774017552965227,
          0.009755021637032804,
          0.009725697691348966,
          0.009689325532906069,
          0.009629855804706917,
          0.009540272790016093,
          0.009501547627394146,
          0.009459447267007356,
          0.009405731730488507,
          0.009352170689725417,
          0.009326556995885986,
          0.009299587968761526,
          0.009278781792219633,
          0.009227242466378278,
          0.00919759092711986,
          0.009175283162744328,
          0.009127212502574342,
          0.009100442470718971,
          0.009046076779832326,
          0.008986988932078204,
          0.008950636121259195,
          0.008910431313344814,
          0.008860043261433559,
          0.008840835248243464,
          0.008801297779302707,
          0.008789857001611168,
          0.008743050012177931,
          0.00871614562013792,
          0.008675476142008377,
          0.008625280447706314,
          0.00856383254444328,
          0.008551009804832716,
          0.008517343235897026,
          0.008484685651976496,
          0.008466827155590446,
          0.008436160524665065,
          0.008401301338763758,
          0.008365371656661316,
          0.008355828965038456,
          0.008312167403068539,
          0.008299338493713004,
          0.008250788879915386,
          0.008211855884473398,
          0.00818509146766784,
          0.008154451879532686,
          0.008144808351704252,
          0.008109069941455433,
          0.008100099974445375,
          0.008081989258335899,
          0.008059499929746595,
          0.008022983546017952,
          0.008011091690644002,
          0.007987334929466858,
          0.00797163552301666,
          0.007943255986589999,
          0.007887689983332453,
          0.007873033695030581,
          0.00784963037189166,
          0.007807426909523179,
          0.007784140200827133,
          0.007741979750322282,
          0.007722637957326705,
          0.007675987444171264,
          0.007651887962247883,
          0.007646018904089017,
          0.007625263191718758,
          0.007591781150252475,
          0.00758316261414514,
          0.007549951198606998,
          0.007540995219757981,
          0.007524485539117156,
          0.007506803466801152,
          0.007481798853698436,
          0.007459297236291957,
          0.007425827342297267,
          0.007414486118471328,
          0.007405078434896811,
          0.007388515320543549,
          0.007380874733663667,
          0.0073616224996814915,
          0.007344183394750914,
          0.00731559905553102,
          0.007304475969460467,
          0.007264732391770212,
          0.007188047921386143,
          0.007175537877261886,
          0.007154099296591166,
          0.007105268467984331,
          0.0070836005544196385,
          0.007038486276722559,
          0.006987845536696402,
          0.00694130699495612,
          0.006930344571774349,
          0.006910208844066556,
          0.006889604349433811,
          0.006880791876886038,
          0.006873649775450082,
          0.006857182465540767,
          0.006851467443989106,
          0.006828430887546464,
          0.0068232180496616305,
          0.00681047195017382,
          0.0067951634390489785,
          0.006786978875101513,
          0.0067737135601469755,
          0.006761154736950413,
          0.006747980425682686,
          0.006740442779558081,
          0.006715059628562755,
          0.006687257848839988,
          0.006670679441839202,
          0.006660039842204023,
          0.006643241474476061,
          0.006631994836247224,
          0.006607731914243357,
          0.006583209387011823,
          0.006567816070435968,
          0.006556749692408314,
          0.006552353966531061,
          0.00652004860142873,
          0.006496122434479439,
          0.006481832390820446,
          0.006466348598937754,
          0.006451430406774123,
          0.006426915786986696,
          0.006421654286514385,
          0.00640400983519117,
          0.006388613939725896,
          0.006345394618605756,
          0.00631859814968545,
          0.006315568414518007,
          0.00629510311264436,
          0.006282417405278921,
          0.006227859071978377,
          0.006218894347023921,
          0.006210016259029047,
          0.006192976315428898,
          0.006179071626251431,
          0.006153553389090279,
          0.006133280305832473,
          0.006099438598411276,
          0.006069408831895751,
          0.006061228459879877,
          0.006046311250678529,
          0.006042093369242027,
          0.006037445003724876,
          0.0060228296943504655,
          0.006015681983449453,
          0.0059860778580018885,
          0.005958195360964036,
          0.005941052318147258,
          0.005922960546362544,
          0.005906246070091531,
          0.005875534510707242,
          0.005857143486387377,
          0.005853763199704515,
          0.005832869427237351,
          0.005807783527284916,
          0.005794504787146414,
          0.0057904116683367346,
          0.005762132862333971,
          0.005743183632393168,
          0.005726290179616568,
          0.005713947187205528,
          0.005688285381759893,
          0.005668667139161326,
          0.00566466811602574,
          0.005637482241697783,
          0.0056235958601091995,
          0.0055976452293790375,
          0.005594969798299672,
          0.005592124522754483,
          0.005565747101110976,
          0.005556328252657445,
          0.005547063436920026,
          0.00553594083584292,
          0.005531976816871077,
          0.005515993034703925,
          0.005505153886648378,
          0.005497332667888178,
          0.00548094388667527,
          0.005477838234056628,
          0.005464756402874212,
          0.005453841071923348,
          0.005445982856516885,
          0.005423902126895137,
          0.005417796141012374,
          0.005387129495391933,
          0.0053705535447629,
          0.005364216727433148,
          0.005344567720651638,
          0.005338921793852941,
          0.0053120964682766844,
          0.005279326664634784,
          0.005270146634325685,
          0.005251827335015524,
          0.005242000081767896,
          0.005237954632400897,
          0.00521722708260786,
          0.0051910829284385895,
          0.005175326112313617,
          0.005164320938082796,
          0.00514228381653525,
          0.005125351342391029,
          0.005123179784117969,
          0.0051177853196678605,
          0.005115274998068868,
          0.005108861484904408,
          0.0051021048132365516,
          0.005100663102881685,
          0.005099069502623888,
          0.005087556490567869,
          0.005083647188502442,
          0.005076398213848849
         ],
         "yaxis": "y"
        },
        {
         "hovertemplate": "type=validation<br>index=%{x}<br>RMSE=%{y}<extra></extra>",
         "legendgroup": "validation",
         "marker": {
          "color": "#EF553B",
          "symbol": "circle"
         },
         "mode": "markers",
         "name": "validation",
         "showlegend": true,
         "type": "scatter",
         "x": [
          0,
          1,
          2,
          3,
          4,
          5,
          6,
          7,
          8,
          9,
          10,
          11,
          12,
          13,
          14,
          15,
          16,
          17,
          18,
          19,
          20,
          21,
          22,
          23,
          24,
          25,
          26,
          27,
          28,
          29,
          30,
          31,
          32,
          33,
          34,
          35,
          36,
          37,
          38,
          39,
          40,
          41,
          42,
          43,
          44,
          45,
          46,
          47,
          48,
          49,
          50,
          51,
          52,
          53,
          54,
          55,
          56,
          57,
          58,
          59,
          60,
          61,
          62,
          63,
          64,
          65,
          66,
          67,
          68,
          69,
          70,
          71,
          72,
          73,
          74,
          75,
          76,
          77,
          78,
          79,
          80,
          81,
          82,
          83,
          84,
          85,
          86,
          87,
          88,
          89,
          90,
          91,
          92,
          93,
          94,
          95,
          96,
          97,
          98,
          99,
          100,
          101,
          102,
          103,
          104,
          105,
          106,
          107,
          108,
          109,
          110,
          111,
          112,
          113,
          114,
          115,
          116,
          117,
          118,
          119,
          120,
          121,
          122,
          123,
          124,
          125,
          126,
          127,
          128,
          129,
          130,
          131,
          132,
          133,
          134,
          135,
          136,
          137,
          138,
          139,
          140,
          141,
          142,
          143,
          144,
          145,
          146,
          147,
          148,
          149,
          150,
          151,
          152,
          153,
          154,
          155,
          156,
          157,
          158,
          159,
          160,
          161,
          162,
          163,
          164,
          165,
          166,
          167,
          168,
          169,
          170,
          171,
          172,
          173,
          174,
          175,
          176,
          177,
          178,
          179,
          180,
          181,
          182,
          183,
          184,
          185,
          186,
          187,
          188,
          189,
          190,
          191,
          192,
          193,
          194,
          195,
          196,
          197,
          198,
          199,
          200,
          201,
          202,
          203,
          204,
          205,
          206,
          207,
          208,
          209,
          210,
          211,
          212,
          213,
          214,
          215,
          216,
          217,
          218,
          219,
          220,
          221,
          222,
          223,
          224,
          225,
          226,
          227,
          228,
          229,
          230,
          231,
          232,
          233,
          234,
          235,
          236,
          237,
          238,
          239,
          240,
          241,
          242,
          243,
          244,
          245,
          246,
          247,
          248,
          249,
          250,
          251,
          252,
          253,
          254,
          255,
          256,
          257,
          258,
          259,
          260,
          261,
          262,
          263,
          264,
          265,
          266,
          267,
          268,
          269,
          270,
          271,
          272,
          273,
          274,
          275,
          276,
          277,
          278,
          279,
          280,
          281,
          282,
          283,
          284,
          285,
          286,
          287,
          288,
          289,
          290,
          291,
          292,
          293,
          294,
          295,
          296,
          297,
          298,
          299
         ],
         "xaxis": "x",
         "y": [
          0.058975949787972784,
          0.055431776602795725,
          0.05200150597322897,
          0.04920253135326807,
          0.04648414437128363,
          0.04425288258539476,
          0.04197658538928831,
          0.03963028041526076,
          0.037894125406809975,
          0.036272020922931816,
          0.03464181556959013,
          0.0333886728733396,
          0.03228463748334765,
          0.031102028951586883,
          0.029911297314830564,
          0.028742273260223498,
          0.027903678658700234,
          0.027169293987493282,
          0.026419400632442393,
          0.025668854961967,
          0.024985201524510833,
          0.02442356942749182,
          0.023879667449078587,
          0.023327063571069603,
          0.022891544046538474,
          0.022486384777321004,
          0.02207848762772823,
          0.021611347170713148,
          0.02123807746845206,
          0.020980805251564847,
          0.020645949288677395,
          0.020412086048106678,
          0.020198549080197747,
          0.020000796442264414,
          0.019800543424645503,
          0.019598861687988862,
          0.01933325985798819,
          0.019181178582457784,
          0.019053551419478433,
          0.018858787133467607,
          0.01875580373720735,
          0.018632758926118053,
          0.018471844250555244,
          0.018314797313809972,
          0.018240839761998306,
          0.01812661409515754,
          0.0180318127225599,
          0.017860666239295896,
          0.01771728133020692,
          0.0176041784152476,
          0.017473074651994228,
          0.01736033794199235,
          0.017263185553551177,
          0.017213929141946666,
          0.01710262261208204,
          0.01699797023077942,
          0.016886246484946056,
          0.016820027263125946,
          0.016732209458789896,
          0.01664463709112735,
          0.016577025051855376,
          0.016510192968892903,
          0.01647201955162286,
          0.016412153999214224,
          0.016376759958900696,
          0.01633113762813129,
          0.01626151225708791,
          0.01622556672789362,
          0.016149115956879952,
          0.01607545052270281,
          0.016019708631261884,
          0.015978308378400967,
          0.015955079189198047,
          0.015892315297139595,
          0.01587492214066547,
          0.015849138271467594,
          0.015818262880590656,
          0.015785470505504343,
          0.015760607478958025,
          0.01571678024885067,
          0.01569109979455268,
          0.01564608097672662,
          0.015613692713536461,
          0.015584010116303263,
          0.01556978286109039,
          0.015558294011425599,
          0.015537692323364426,
          0.015527751128546867,
          0.015509565575899173,
          0.015490338106212528,
          0.01546090044962403,
          0.01541127092100075,
          0.015387008192378641,
          0.015368356316734293,
          0.015347167711761343,
          0.015308832939801693,
          0.015293825249142991,
          0.015278447712365775,
          0.01526702809866419,
          0.015253377771837775,
          0.015239237355998782,
          0.015226551986611558,
          0.015212489896071697,
          0.015196403932401554,
          0.015175378145120834,
          0.015133668947194208,
          0.015116025253528384,
          0.015107335622143659,
          0.015081585611866505,
          0.015068263262973556,
          0.015053206755907399,
          0.015044777757870022,
          0.01502028882131398,
          0.015005201769821931,
          0.014979522551542106,
          0.014941722855988342,
          0.014915254730352588,
          0.014923004960107575,
          0.014893350079845144,
          0.014862467840667885,
          0.014850701484166251,
          0.014831832863702684,
          0.014819685944726551,
          0.014820044909632247,
          0.01481703000403369,
          0.014791103898171697,
          0.014786650223081245,
          0.01476582456955036,
          0.014753271251846266,
          0.014736365295340292,
          0.01472817362835282,
          0.014723453459437543,
          0.014694123178420511,
          0.014692095572917657,
          0.014682571458345789,
          0.014679954184571624,
          0.01466797324644849,
          0.014660675735097172,
          0.014640730783240843,
          0.014634834429347631,
          0.014622148554082453,
          0.014608580296235301,
          0.0146053836905648,
          0.014583771295615723,
          0.01456882570529336,
          0.014554774679143226,
          0.014525061407190617,
          0.01452026634223347,
          0.014509427029177875,
          0.014506605768660355,
          0.01450765636848702,
          0.014506581962974097,
          0.014498563265421358,
          0.014494519404933128,
          0.014467856079949165,
          0.014465453689000657,
          0.014457554431056,
          0.014458967211012032,
          0.01445030562714262,
          0.014439194477481342,
          0.014422738506772921,
          0.014415483261125251,
          0.01441024144104973,
          0.014402812337469225,
          0.014401728987289725,
          0.014392738949446524,
          0.014385021817492174,
          0.014374171603572732,
          0.01436870884876394,
          0.014351954757062859,
          0.014324338504939962,
          0.014322888800667682,
          0.014321681909884297,
          0.0142798570570254,
          0.014274022612542483,
          0.01425408490205199,
          0.014232086441796193,
          0.014227867416635674,
          0.014220001297519746,
          0.014223089440863068,
          0.0142180423007036,
          0.014214782683147601,
          0.014212857508677524,
          0.01420771308394297,
          0.014202687637811242,
          0.014208036937825803,
          0.01420626388495869,
          0.014198006934508017,
          0.014197938052506734,
          0.014196425694173946,
          0.014193483635366549,
          0.014190574104017495,
          0.014194306547083974,
          0.014190250624277539,
          0.014186647140042951,
          0.01418649009215312,
          0.014176751332691287,
          0.014175430158844158,
          0.01417009650773595,
          0.014168072445968752,
          0.01415943536492061,
          0.014154425229588563,
          0.014151654408261207,
          0.014138472595464519,
          0.01413803185154451,
          0.014120041539947073,
          0.014112019571422866,
          0.014100542843535326,
          0.014092280773197133,
          0.014086494096750399,
          0.014081753501514896,
          0.014080804772240284,
          0.014074622670335319,
          0.01406453148419612,
          0.014041875447702346,
          0.014028626492139916,
          0.014028253977958824,
          0.014020495666627466,
          0.014015797709519788,
          0.013990882597920098,
          0.013991251639804797,
          0.013981782039477154,
          0.013971527566296842,
          0.013966723323400479,
          0.013960853274238173,
          0.013959804255284071,
          0.013943427067413642,
          0.013935511895986021,
          0.013934843779393347,
          0.013932274851146417,
          0.01393143143573148,
          0.013928000459065493,
          0.013918737866855314,
          0.013915306886709786,
          0.013904287823511467,
          0.01389697801163505,
          0.013893477873359109,
          0.013883468265602076,
          0.01388085842626348,
          0.013878329956093402,
          0.013880267788796027,
          0.013878200546637338,
          0.013867434958650249,
          0.013863823135562376,
          0.01385636031832414,
          0.01385565824621084,
          0.013854659531139237,
          0.013853879796043333,
          0.013842768357660993,
          0.013840480131173703,
          0.013826407095639757,
          0.013827234161979974,
          0.013832407313190348,
          0.013822298795547467,
          0.013817113325681163,
          0.013822067440244694,
          0.013821145940436722,
          0.013823092459665945,
          0.013813183504960438,
          0.013812139521119517,
          0.01380861794734383,
          0.013806568646432487,
          0.013806428526781352,
          0.013801694100147487,
          0.01379802616360059,
          0.013796381588605302,
          0.013796968797667848,
          0.013796824370297887,
          0.013791519550834736,
          0.013785542735230203,
          0.013783513045445613,
          0.01377537033571106,
          0.013773246369277915,
          0.013764859446728847,
          0.01375291623789675,
          0.013751675327695738,
          0.013748729921572528,
          0.01374555845861023,
          0.01373466729873256,
          0.013727972152106792,
          0.013726506741026196,
          0.01371326545365011,
          0.013709383460272728,
          0.013708830419900085,
          0.013701312374423739,
          0.013680219255320276,
          0.013674143492950172,
          0.013671131478517933,
          0.013667721958272554,
          0.013670030173382058,
          0.01366971451710517,
          0.013668970902336144,
          0.013670298900300871,
          0.013667589770635435,
          0.013668763102837284,
          0.013668280063192081,
          0.013668554350524989,
          0.01366864639916533,
          0.013665825286969425,
          0.013666051959129493
         ],
         "yaxis": "y"
        }
       ],
       "layout": {
        "legend": {
         "title": {
          "text": "type"
         },
         "tracegroupgap": 0
        },
        "template": {
         "data": {
          "bar": [
           {
            "error_x": {
             "color": "#2a3f5f"
            },
            "error_y": {
             "color": "#2a3f5f"
            },
            "marker": {
             "line": {
              "color": "#E5ECF6",
              "width": 0.5
             }
            },
            "type": "bar"
           }
          ],
          "barpolar": [
           {
            "marker": {
             "line": {
              "color": "#E5ECF6",
              "width": 0.5
             }
            },
            "type": "barpolar"
           }
          ],
          "carpet": [
           {
            "aaxis": {
             "endlinecolor": "#2a3f5f",
             "gridcolor": "white",
             "linecolor": "white",
             "minorgridcolor": "white",
             "startlinecolor": "#2a3f5f"
            },
            "baxis": {
             "endlinecolor": "#2a3f5f",
             "gridcolor": "white",
             "linecolor": "white",
             "minorgridcolor": "white",
             "startlinecolor": "#2a3f5f"
            },
            "type": "carpet"
           }
          ],
          "choropleth": [
           {
            "colorbar": {
             "outlinewidth": 0,
             "ticks": ""
            },
            "type": "choropleth"
           }
          ],
          "contour": [
           {
            "colorbar": {
             "outlinewidth": 0,
             "ticks": ""
            },
            "colorscale": [
             [
              0,
              "#0d0887"
             ],
             [
              0.1111111111111111,
              "#46039f"
             ],
             [
              0.2222222222222222,
              "#7201a8"
             ],
             [
              0.3333333333333333,
              "#9c179e"
             ],
             [
              0.4444444444444444,
              "#bd3786"
             ],
             [
              0.5555555555555556,
              "#d8576b"
             ],
             [
              0.6666666666666666,
              "#ed7953"
             ],
             [
              0.7777777777777778,
              "#fb9f3a"
             ],
             [
              0.8888888888888888,
              "#fdca26"
             ],
             [
              1,
              "#f0f921"
             ]
            ],
            "type": "contour"
           }
          ],
          "contourcarpet": [
           {
            "colorbar": {
             "outlinewidth": 0,
             "ticks": ""
            },
            "type": "contourcarpet"
           }
          ],
          "heatmap": [
           {
            "colorbar": {
             "outlinewidth": 0,
             "ticks": ""
            },
            "colorscale": [
             [
              0,
              "#0d0887"
             ],
             [
              0.1111111111111111,
              "#46039f"
             ],
             [
              0.2222222222222222,
              "#7201a8"
             ],
             [
              0.3333333333333333,
              "#9c179e"
             ],
             [
              0.4444444444444444,
              "#bd3786"
             ],
             [
              0.5555555555555556,
              "#d8576b"
             ],
             [
              0.6666666666666666,
              "#ed7953"
             ],
             [
              0.7777777777777778,
              "#fb9f3a"
             ],
             [
              0.8888888888888888,
              "#fdca26"
             ],
             [
              1,
              "#f0f921"
             ]
            ],
            "type": "heatmap"
           }
          ],
          "heatmapgl": [
           {
            "colorbar": {
             "outlinewidth": 0,
             "ticks": ""
            },
            "colorscale": [
             [
              0,
              "#0d0887"
             ],
             [
              0.1111111111111111,
              "#46039f"
             ],
             [
              0.2222222222222222,
              "#7201a8"
             ],
             [
              0.3333333333333333,
              "#9c179e"
             ],
             [
              0.4444444444444444,
              "#bd3786"
             ],
             [
              0.5555555555555556,
              "#d8576b"
             ],
             [
              0.6666666666666666,
              "#ed7953"
             ],
             [
              0.7777777777777778,
              "#fb9f3a"
             ],
             [
              0.8888888888888888,
              "#fdca26"
             ],
             [
              1,
              "#f0f921"
             ]
            ],
            "type": "heatmapgl"
           }
          ],
          "histogram": [
           {
            "marker": {
             "colorbar": {
              "outlinewidth": 0,
              "ticks": ""
             }
            },
            "type": "histogram"
           }
          ],
          "histogram2d": [
           {
            "colorbar": {
             "outlinewidth": 0,
             "ticks": ""
            },
            "colorscale": [
             [
              0,
              "#0d0887"
             ],
             [
              0.1111111111111111,
              "#46039f"
             ],
             [
              0.2222222222222222,
              "#7201a8"
             ],
             [
              0.3333333333333333,
              "#9c179e"
             ],
             [
              0.4444444444444444,
              "#bd3786"
             ],
             [
              0.5555555555555556,
              "#d8576b"
             ],
             [
              0.6666666666666666,
              "#ed7953"
             ],
             [
              0.7777777777777778,
              "#fb9f3a"
             ],
             [
              0.8888888888888888,
              "#fdca26"
             ],
             [
              1,
              "#f0f921"
             ]
            ],
            "type": "histogram2d"
           }
          ],
          "histogram2dcontour": [
           {
            "colorbar": {
             "outlinewidth": 0,
             "ticks": ""
            },
            "colorscale": [
             [
              0,
              "#0d0887"
             ],
             [
              0.1111111111111111,
              "#46039f"
             ],
             [
              0.2222222222222222,
              "#7201a8"
             ],
             [
              0.3333333333333333,
              "#9c179e"
             ],
             [
              0.4444444444444444,
              "#bd3786"
             ],
             [
              0.5555555555555556,
              "#d8576b"
             ],
             [
              0.6666666666666666,
              "#ed7953"
             ],
             [
              0.7777777777777778,
              "#fb9f3a"
             ],
             [
              0.8888888888888888,
              "#fdca26"
             ],
             [
              1,
              "#f0f921"
             ]
            ],
            "type": "histogram2dcontour"
           }
          ],
          "mesh3d": [
           {
            "colorbar": {
             "outlinewidth": 0,
             "ticks": ""
            },
            "type": "mesh3d"
           }
          ],
          "parcoords": [
           {
            "line": {
             "colorbar": {
              "outlinewidth": 0,
              "ticks": ""
             }
            },
            "type": "parcoords"
           }
          ],
          "pie": [
           {
            "automargin": true,
            "type": "pie"
           }
          ],
          "scatter": [
           {
            "marker": {
             "colorbar": {
              "outlinewidth": 0,
              "ticks": ""
             }
            },
            "type": "scatter"
           }
          ],
          "scatter3d": [
           {
            "line": {
             "colorbar": {
              "outlinewidth": 0,
              "ticks": ""
             }
            },
            "marker": {
             "colorbar": {
              "outlinewidth": 0,
              "ticks": ""
             }
            },
            "type": "scatter3d"
           }
          ],
          "scattercarpet": [
           {
            "marker": {
             "colorbar": {
              "outlinewidth": 0,
              "ticks": ""
             }
            },
            "type": "scattercarpet"
           }
          ],
          "scattergeo": [
           {
            "marker": {
             "colorbar": {
              "outlinewidth": 0,
              "ticks": ""
             }
            },
            "type": "scattergeo"
           }
          ],
          "scattergl": [
           {
            "marker": {
             "colorbar": {
              "outlinewidth": 0,
              "ticks": ""
             }
            },
            "type": "scattergl"
           }
          ],
          "scattermapbox": [
           {
            "marker": {
             "colorbar": {
              "outlinewidth": 0,
              "ticks": ""
             }
            },
            "type": "scattermapbox"
           }
          ],
          "scatterpolar": [
           {
            "marker": {
             "colorbar": {
              "outlinewidth": 0,
              "ticks": ""
             }
            },
            "type": "scatterpolar"
           }
          ],
          "scatterpolargl": [
           {
            "marker": {
             "colorbar": {
              "outlinewidth": 0,
              "ticks": ""
             }
            },
            "type": "scatterpolargl"
           }
          ],
          "scatterternary": [
           {
            "marker": {
             "colorbar": {
              "outlinewidth": 0,
              "ticks": ""
             }
            },
            "type": "scatterternary"
           }
          ],
          "surface": [
           {
            "colorbar": {
             "outlinewidth": 0,
             "ticks": ""
            },
            "colorscale": [
             [
              0,
              "#0d0887"
             ],
             [
              0.1111111111111111,
              "#46039f"
             ],
             [
              0.2222222222222222,
              "#7201a8"
             ],
             [
              0.3333333333333333,
              "#9c179e"
             ],
             [
              0.4444444444444444,
              "#bd3786"
             ],
             [
              0.5555555555555556,
              "#d8576b"
             ],
             [
              0.6666666666666666,
              "#ed7953"
             ],
             [
              0.7777777777777778,
              "#fb9f3a"
             ],
             [
              0.8888888888888888,
              "#fdca26"
             ],
             [
              1,
              "#f0f921"
             ]
            ],
            "type": "surface"
           }
          ],
          "table": [
           {
            "cells": {
             "fill": {
              "color": "#EBF0F8"
             },
             "line": {
              "color": "white"
             }
            },
            "header": {
             "fill": {
              "color": "#C8D4E3"
             },
             "line": {
              "color": "white"
             }
            },
            "type": "table"
           }
          ]
         },
         "layout": {
          "annotationdefaults": {
           "arrowcolor": "#2a3f5f",
           "arrowhead": 0,
           "arrowwidth": 1
          },
          "coloraxis": {
           "colorbar": {
            "outlinewidth": 0,
            "ticks": ""
           }
          },
          "colorscale": {
           "diverging": [
            [
             0,
             "#8e0152"
            ],
            [
             0.1,
             "#c51b7d"
            ],
            [
             0.2,
             "#de77ae"
            ],
            [
             0.3,
             "#f1b6da"
            ],
            [
             0.4,
             "#fde0ef"
            ],
            [
             0.5,
             "#f7f7f7"
            ],
            [
             0.6,
             "#e6f5d0"
            ],
            [
             0.7,
             "#b8e186"
            ],
            [
             0.8,
             "#7fbc41"
            ],
            [
             0.9,
             "#4d9221"
            ],
            [
             1,
             "#276419"
            ]
           ],
           "sequential": [
            [
             0,
             "#0d0887"
            ],
            [
             0.1111111111111111,
             "#46039f"
            ],
            [
             0.2222222222222222,
             "#7201a8"
            ],
            [
             0.3333333333333333,
             "#9c179e"
            ],
            [
             0.4444444444444444,
             "#bd3786"
            ],
            [
             0.5555555555555556,
             "#d8576b"
            ],
            [
             0.6666666666666666,
             "#ed7953"
            ],
            [
             0.7777777777777778,
             "#fb9f3a"
            ],
            [
             0.8888888888888888,
             "#fdca26"
            ],
            [
             1,
             "#f0f921"
            ]
           ],
           "sequentialminus": [
            [
             0,
             "#0d0887"
            ],
            [
             0.1111111111111111,
             "#46039f"
            ],
            [
             0.2222222222222222,
             "#7201a8"
            ],
            [
             0.3333333333333333,
             "#9c179e"
            ],
            [
             0.4444444444444444,
             "#bd3786"
            ],
            [
             0.5555555555555556,
             "#d8576b"
            ],
            [
             0.6666666666666666,
             "#ed7953"
            ],
            [
             0.7777777777777778,
             "#fb9f3a"
            ],
            [
             0.8888888888888888,
             "#fdca26"
            ],
            [
             1,
             "#f0f921"
            ]
           ]
          },
          "colorway": [
           "#636efa",
           "#EF553B",
           "#00cc96",
           "#ab63fa",
           "#FFA15A",
           "#19d3f3",
           "#FF6692",
           "#B6E880",
           "#FF97FF",
           "#FECB52"
          ],
          "font": {
           "color": "#2a3f5f"
          },
          "geo": {
           "bgcolor": "white",
           "lakecolor": "white",
           "landcolor": "#E5ECF6",
           "showlakes": true,
           "showland": true,
           "subunitcolor": "white"
          },
          "hoverlabel": {
           "align": "left"
          },
          "hovermode": "closest",
          "mapbox": {
           "style": "light"
          },
          "paper_bgcolor": "white",
          "plot_bgcolor": "#E5ECF6",
          "polar": {
           "angularaxis": {
            "gridcolor": "white",
            "linecolor": "white",
            "ticks": ""
           },
           "bgcolor": "#E5ECF6",
           "radialaxis": {
            "gridcolor": "white",
            "linecolor": "white",
            "ticks": ""
           }
          },
          "scene": {
           "xaxis": {
            "backgroundcolor": "#E5ECF6",
            "gridcolor": "white",
            "gridwidth": 2,
            "linecolor": "white",
            "showbackground": true,
            "ticks": "",
            "zerolinecolor": "white"
           },
           "yaxis": {
            "backgroundcolor": "#E5ECF6",
            "gridcolor": "white",
            "gridwidth": 2,
            "linecolor": "white",
            "showbackground": true,
            "ticks": "",
            "zerolinecolor": "white"
           },
           "zaxis": {
            "backgroundcolor": "#E5ECF6",
            "gridcolor": "white",
            "gridwidth": 2,
            "linecolor": "white",
            "showbackground": true,
            "ticks": "",
            "zerolinecolor": "white"
           }
          },
          "shapedefaults": {
           "line": {
            "color": "#2a3f5f"
           }
          },
          "ternary": {
           "aaxis": {
            "gridcolor": "white",
            "linecolor": "white",
            "ticks": ""
           },
           "baxis": {
            "gridcolor": "white",
            "linecolor": "white",
            "ticks": ""
           },
           "bgcolor": "#E5ECF6",
           "caxis": {
            "gridcolor": "white",
            "linecolor": "white",
            "ticks": ""
           }
          },
          "title": {
           "x": 0.05
          },
          "xaxis": {
           "automargin": true,
           "gridcolor": "white",
           "linecolor": "white",
           "ticks": "",
           "title": {
            "standoff": 15
           },
           "zerolinecolor": "white",
           "zerolinewidth": 2
          },
          "yaxis": {
           "automargin": true,
           "gridcolor": "white",
           "linecolor": "white",
           "ticks": "",
           "title": {
            "standoff": 15
           },
           "zerolinecolor": "white",
           "zerolinewidth": 2
          }
         }
        },
        "title": {
         "text": "Learning curve"
        },
        "xaxis": {
         "anchor": "y",
         "domain": [
          0,
          1
         ],
         "title": {
          "text": "index"
         }
        },
        "yaxis": {
         "anchor": "x",
         "domain": [
          0,
          1
         ],
         "title": {
          "text": "RMSE"
         }
        }
       }
      },
      "text/html": [
       "<div>\n",
       "        \n",
       "        \n",
       "            <div id=\"012e2683-8179-450b-9ed7-0a16c977b719\" class=\"plotly-graph-div\" style=\"height:525px; width:100%;\"></div>\n",
       "            <script type=\"text/javascript\">\n",
       "                require([\"plotly\"], function(Plotly) {\n",
       "                    window.PLOTLYENV=window.PLOTLYENV || {};\n",
       "                    \n",
       "                if (document.getElementById(\"012e2683-8179-450b-9ed7-0a16c977b719\")) {\n",
       "                    Plotly.newPlot(\n",
       "                        '012e2683-8179-450b-9ed7-0a16c977b719',\n",
       "                        [{\"hovertemplate\": \"type=learn<br>index=%{x}<br>RMSE=%{y}<extra></extra>\", \"legendgroup\": \"learn\", \"marker\": {\"color\": \"#636efa\", \"symbol\": \"circle\"}, \"mode\": \"markers\", \"name\": \"learn\", \"showlegend\": true, \"type\": \"scatter\", \"x\": [0, 1, 2, 3, 4, 5, 6, 7, 8, 9, 10, 11, 12, 13, 14, 15, 16, 17, 18, 19, 20, 21, 22, 23, 24, 25, 26, 27, 28, 29, 30, 31, 32, 33, 34, 35, 36, 37, 38, 39, 40, 41, 42, 43, 44, 45, 46, 47, 48, 49, 50, 51, 52, 53, 54, 55, 56, 57, 58, 59, 60, 61, 62, 63, 64, 65, 66, 67, 68, 69, 70, 71, 72, 73, 74, 75, 76, 77, 78, 79, 80, 81, 82, 83, 84, 85, 86, 87, 88, 89, 90, 91, 92, 93, 94, 95, 96, 97, 98, 99, 100, 101, 102, 103, 104, 105, 106, 107, 108, 109, 110, 111, 112, 113, 114, 115, 116, 117, 118, 119, 120, 121, 122, 123, 124, 125, 126, 127, 128, 129, 130, 131, 132, 133, 134, 135, 136, 137, 138, 139, 140, 141, 142, 143, 144, 145, 146, 147, 148, 149, 150, 151, 152, 153, 154, 155, 156, 157, 158, 159, 160, 161, 162, 163, 164, 165, 166, 167, 168, 169, 170, 171, 172, 173, 174, 175, 176, 177, 178, 179, 180, 181, 182, 183, 184, 185, 186, 187, 188, 189, 190, 191, 192, 193, 194, 195, 196, 197, 198, 199, 200, 201, 202, 203, 204, 205, 206, 207, 208, 209, 210, 211, 212, 213, 214, 215, 216, 217, 218, 219, 220, 221, 222, 223, 224, 225, 226, 227, 228, 229, 230, 231, 232, 233, 234, 235, 236, 237, 238, 239, 240, 241, 242, 243, 244, 245, 246, 247, 248, 249, 250, 251, 252, 253, 254, 255, 256, 257, 258, 259, 260, 261, 262, 263, 264, 265, 266, 267, 268, 269, 270, 271, 272, 273, 274, 275, 276, 277, 278, 279, 280, 281, 282, 283, 284, 285, 286, 287, 288, 289, 290, 291, 292, 293, 294, 295, 296, 297, 298, 299, 0, 1, 2, 3, 4, 5, 6, 7, 8, 9, 10, 11, 12, 13, 14, 15, 16, 17, 18, 19, 20, 21, 22, 23, 24, 25, 26, 27, 28, 29, 30, 31, 32, 33, 34, 35, 36, 37, 38, 39, 40, 41, 42, 43, 44, 45, 46, 47, 48, 49, 50, 51, 52, 53, 54, 55, 56, 57, 58, 59, 60, 61, 62, 63, 64, 65, 66, 67, 68, 69, 70, 71, 72, 73, 74, 75, 76, 77, 78, 79, 80, 81, 82, 83, 84, 85, 86, 87, 88, 89, 90, 91, 92, 93, 94, 95, 96, 97, 98, 99, 100, 101, 102, 103, 104, 105, 106, 107, 108, 109, 110, 111, 112, 113, 114, 115, 116, 117, 118, 119, 120, 121, 122, 123, 124, 125, 126, 127, 128, 129, 130, 131, 132, 133, 134, 135, 136, 137, 138, 139, 140, 141, 142, 143, 144, 145, 146, 147, 148, 149, 150, 151, 152, 153, 154, 155, 156, 157, 158, 159, 160, 161, 162, 163, 164, 165, 166, 167, 168, 169, 170, 171, 172, 173, 174, 175, 176, 177, 178, 179, 180, 181, 182, 183, 184, 185, 186, 187, 188, 189, 190, 191, 192, 193, 194, 195, 196, 197, 198, 199, 200, 201, 202, 203, 204, 205, 206, 207, 208, 209, 210, 211, 212, 213, 214, 215, 216, 217, 218, 219, 220, 221, 222, 223, 224, 225, 226, 227, 228, 229, 230, 231, 232, 233, 234, 235, 236, 237, 238, 239, 240, 241, 242, 243, 244, 245, 246, 247, 248, 249, 250, 251, 252, 253, 254, 255, 256, 257, 258, 259, 260, 261, 262, 263, 264, 265, 266, 267, 268, 269, 270, 271, 272, 273, 274, 275, 276, 277, 278, 279, 280, 281, 282, 283, 284, 285, 286, 287, 288, 289, 290, 291, 292, 293, 294, 295, 296, 297, 298, 299], \"xaxis\": \"x\", \"y\": [0.0592434302638673, 0.05535428503056048, 0.05183809451564733, 0.048863290696319804, 0.045886823202145224, 0.04339054026833077, 0.04100552987879431, 0.038467038687526905, 0.03645684813629909, 0.03454646907307015, 0.03277740997768325, 0.03128260032024389, 0.030028748246532497, 0.02861951039865526, 0.027323330887929192, 0.026004991658066266, 0.025023633085229813, 0.024124119234306848, 0.023317592866880666, 0.022475725534269814, 0.021654669029519208, 0.020998917209915178, 0.02035558920971844, 0.01974308793700775, 0.019190808744699906, 0.01863720389704483, 0.01816302113917169, 0.017655451724975055, 0.017236649784560774, 0.01688037027963681, 0.0164764554967932, 0.016124201895380587, 0.015818943162543227, 0.015533327295854923, 0.015303662052110237, 0.015044694499918888, 0.014777415221315551, 0.014566661977697765, 0.014377648885546749, 0.014177896808547278, 0.01401389168417105, 0.01385648137346681, 0.013677308269066917, 0.01347923063252145, 0.013345521685243358, 0.013193558627008162, 0.013080977278010799, 0.012877526359256273, 0.012734082796537656, 0.012617494422641751, 0.012449620109647223, 0.01230591630893996, 0.012199332690481809, 0.012111552898000612, 0.012005951863990814, 0.011873184934982626, 0.011758418713928699, 0.011684083706880509, 0.011576831537183948, 0.01146238405389964, 0.011387011672073982, 0.011298005263851251, 0.011213022329425566, 0.011132011438817705, 0.01103842074617133, 0.010985051080980223, 0.01088527067107296, 0.010834134618877457, 0.010727494758666396, 0.010634600337271179, 0.01056479402013533, 0.010490052135213522, 0.010452428434795874, 0.01037277981498953, 0.01031304623491796, 0.0102645767985005, 0.010227517540896337, 0.010183444525963575, 0.010157841589880083, 0.01007999643166867, 0.010032488262737201, 0.009951090700438278, 0.009900140751100609, 0.00986717885411951, 0.009841911997693378, 0.009814165498203055, 0.009774017552965227, 0.009755021637032804, 0.009725697691348966, 0.009689325532906069, 0.009629855804706917, 0.009540272790016093, 0.009501547627394146, 0.009459447267007356, 0.009405731730488507, 0.009352170689725417, 0.009326556995885986, 0.009299587968761526, 0.009278781792219633, 0.009227242466378278, 0.00919759092711986, 0.009175283162744328, 0.009127212502574342, 0.009100442470718971, 0.009046076779832326, 0.008986988932078204, 0.008950636121259195, 0.008910431313344814, 0.008860043261433559, 0.008840835248243464, 0.008801297779302707, 0.008789857001611168, 0.008743050012177931, 0.00871614562013792, 0.008675476142008377, 0.008625280447706314, 0.00856383254444328, 0.008551009804832716, 0.008517343235897026, 0.008484685651976496, 0.008466827155590446, 0.008436160524665065, 0.008401301338763758, 0.008365371656661316, 0.008355828965038456, 0.008312167403068539, 0.008299338493713004, 0.008250788879915386, 0.008211855884473398, 0.00818509146766784, 0.008154451879532686, 0.008144808351704252, 0.008109069941455433, 0.008100099974445375, 0.008081989258335899, 0.008059499929746595, 0.008022983546017952, 0.008011091690644002, 0.007987334929466858, 0.00797163552301666, 0.007943255986589999, 0.007887689983332453, 0.007873033695030581, 0.00784963037189166, 0.007807426909523179, 0.007784140200827133, 0.007741979750322282, 0.007722637957326705, 0.007675987444171264, 0.007651887962247883, 0.007646018904089017, 0.007625263191718758, 0.007591781150252475, 0.00758316261414514, 0.007549951198606998, 0.007540995219757981, 0.007524485539117156, 0.007506803466801152, 0.007481798853698436, 0.007459297236291957, 0.007425827342297267, 0.007414486118471328, 0.007405078434896811, 0.007388515320543549, 0.007380874733663667, 0.0073616224996814915, 0.007344183394750914, 0.00731559905553102, 0.007304475969460467, 0.007264732391770212, 0.007188047921386143, 0.007175537877261886, 0.007154099296591166, 0.007105268467984331, 0.0070836005544196385, 0.007038486276722559, 0.006987845536696402, 0.00694130699495612, 0.006930344571774349, 0.006910208844066556, 0.006889604349433811, 0.006880791876886038, 0.006873649775450082, 0.006857182465540767, 0.006851467443989106, 0.006828430887546464, 0.0068232180496616305, 0.00681047195017382, 0.0067951634390489785, 0.006786978875101513, 0.0067737135601469755, 0.006761154736950413, 0.006747980425682686, 0.006740442779558081, 0.006715059628562755, 0.006687257848839988, 0.006670679441839202, 0.006660039842204023, 0.006643241474476061, 0.006631994836247224, 0.006607731914243357, 0.006583209387011823, 0.006567816070435968, 0.006556749692408314, 0.006552353966531061, 0.00652004860142873, 0.006496122434479439, 0.006481832390820446, 0.006466348598937754, 0.006451430406774123, 0.006426915786986696, 0.006421654286514385, 0.00640400983519117, 0.006388613939725896, 0.006345394618605756, 0.00631859814968545, 0.006315568414518007, 0.00629510311264436, 0.006282417405278921, 0.006227859071978377, 0.006218894347023921, 0.006210016259029047, 0.006192976315428898, 0.006179071626251431, 0.006153553389090279, 0.006133280305832473, 0.006099438598411276, 0.006069408831895751, 0.006061228459879877, 0.006046311250678529, 0.006042093369242027, 0.006037445003724876, 0.0060228296943504655, 0.006015681983449453, 0.0059860778580018885, 0.005958195360964036, 0.005941052318147258, 0.005922960546362544, 0.005906246070091531, 0.005875534510707242, 0.005857143486387377, 0.005853763199704515, 0.005832869427237351, 0.005807783527284916, 0.005794504787146414, 0.0057904116683367346, 0.005762132862333971, 0.005743183632393168, 0.005726290179616568, 0.005713947187205528, 0.005688285381759893, 0.005668667139161326, 0.00566466811602574, 0.005637482241697783, 0.0056235958601091995, 0.0055976452293790375, 0.005594969798299672, 0.005592124522754483, 0.005565747101110976, 0.005556328252657445, 0.005547063436920026, 0.00553594083584292, 0.005531976816871077, 0.005515993034703925, 0.005505153886648378, 0.005497332667888178, 0.00548094388667527, 0.005477838234056628, 0.005464756402874212, 0.005453841071923348, 0.005445982856516885, 0.005423902126895137, 0.005417796141012374, 0.005387129495391933, 0.0053705535447629, 0.005364216727433148, 0.005344567720651638, 0.005338921793852941, 0.0053120964682766844, 0.005279326664634784, 0.005270146634325685, 0.005251827335015524, 0.005242000081767896, 0.005237954632400897, 0.00521722708260786, 0.0051910829284385895, 0.005175326112313617, 0.005164320938082796, 0.00514228381653525, 0.005125351342391029, 0.005123179784117969, 0.0051177853196678605, 0.005115274998068868, 0.005108861484904408, 0.0051021048132365516, 0.005100663102881685, 0.005099069502623888, 0.005087556490567869, 0.005083647188502442, 0.005076398213848849, 0.0592434302638673, 0.05535428503056048, 0.05183809451564733, 0.048863290696319804, 0.045886823202145224, 0.04339054026833077, 0.04100552987879431, 0.038467038687526905, 0.03645684813629909, 0.03454646907307015, 0.03277740997768325, 0.03128260032024389, 0.030028748246532497, 0.02861951039865526, 0.027323330887929192, 0.026004991658066266, 0.025023633085229813, 0.024124119234306848, 0.023317592866880666, 0.022475725534269814, 0.021654669029519208, 0.020998917209915178, 0.02035558920971844, 0.01974308793700775, 0.019190808744699906, 0.01863720389704483, 0.01816302113917169, 0.017655451724975055, 0.017236649784560774, 0.01688037027963681, 0.0164764554967932, 0.016124201895380587, 0.015818943162543227, 0.015533327295854923, 0.015303662052110237, 0.015044694499918888, 0.014777415221315551, 0.014566661977697765, 0.014377648885546749, 0.014177896808547278, 0.01401389168417105, 0.01385648137346681, 0.013677308269066917, 0.01347923063252145, 0.013345521685243358, 0.013193558627008162, 0.013080977278010799, 0.012877526359256273, 0.012734082796537656, 0.012617494422641751, 0.012449620109647223, 0.01230591630893996, 0.012199332690481809, 0.012111552898000612, 0.012005951863990814, 0.011873184934982626, 0.011758418713928699, 0.011684083706880509, 0.011576831537183948, 0.01146238405389964, 0.011387011672073982, 0.011298005263851251, 0.011213022329425566, 0.011132011438817705, 0.01103842074617133, 0.010985051080980223, 0.01088527067107296, 0.010834134618877457, 0.010727494758666396, 0.010634600337271179, 0.01056479402013533, 0.010490052135213522, 0.010452428434795874, 0.01037277981498953, 0.01031304623491796, 0.0102645767985005, 0.010227517540896337, 0.010183444525963575, 0.010157841589880083, 0.01007999643166867, 0.010032488262737201, 0.009951090700438278, 0.009900140751100609, 0.00986717885411951, 0.009841911997693378, 0.009814165498203055, 0.009774017552965227, 0.009755021637032804, 0.009725697691348966, 0.009689325532906069, 0.009629855804706917, 0.009540272790016093, 0.009501547627394146, 0.009459447267007356, 0.009405731730488507, 0.009352170689725417, 0.009326556995885986, 0.009299587968761526, 0.009278781792219633, 0.009227242466378278, 0.00919759092711986, 0.009175283162744328, 0.009127212502574342, 0.009100442470718971, 0.009046076779832326, 0.008986988932078204, 0.008950636121259195, 0.008910431313344814, 0.008860043261433559, 0.008840835248243464, 0.008801297779302707, 0.008789857001611168, 0.008743050012177931, 0.00871614562013792, 0.008675476142008377, 0.008625280447706314, 0.00856383254444328, 0.008551009804832716, 0.008517343235897026, 0.008484685651976496, 0.008466827155590446, 0.008436160524665065, 0.008401301338763758, 0.008365371656661316, 0.008355828965038456, 0.008312167403068539, 0.008299338493713004, 0.008250788879915386, 0.008211855884473398, 0.00818509146766784, 0.008154451879532686, 0.008144808351704252, 0.008109069941455433, 0.008100099974445375, 0.008081989258335899, 0.008059499929746595, 0.008022983546017952, 0.008011091690644002, 0.007987334929466858, 0.00797163552301666, 0.007943255986589999, 0.007887689983332453, 0.007873033695030581, 0.00784963037189166, 0.007807426909523179, 0.007784140200827133, 0.007741979750322282, 0.007722637957326705, 0.007675987444171264, 0.007651887962247883, 0.007646018904089017, 0.007625263191718758, 0.007591781150252475, 0.00758316261414514, 0.007549951198606998, 0.007540995219757981, 0.007524485539117156, 0.007506803466801152, 0.007481798853698436, 0.007459297236291957, 0.007425827342297267, 0.007414486118471328, 0.007405078434896811, 0.007388515320543549, 0.007380874733663667, 0.0073616224996814915, 0.007344183394750914, 0.00731559905553102, 0.007304475969460467, 0.007264732391770212, 0.007188047921386143, 0.007175537877261886, 0.007154099296591166, 0.007105268467984331, 0.0070836005544196385, 0.007038486276722559, 0.006987845536696402, 0.00694130699495612, 0.006930344571774349, 0.006910208844066556, 0.006889604349433811, 0.006880791876886038, 0.006873649775450082, 0.006857182465540767, 0.006851467443989106, 0.006828430887546464, 0.0068232180496616305, 0.00681047195017382, 0.0067951634390489785, 0.006786978875101513, 0.0067737135601469755, 0.006761154736950413, 0.006747980425682686, 0.006740442779558081, 0.006715059628562755, 0.006687257848839988, 0.006670679441839202, 0.006660039842204023, 0.006643241474476061, 0.006631994836247224, 0.006607731914243357, 0.006583209387011823, 0.006567816070435968, 0.006556749692408314, 0.006552353966531061, 0.00652004860142873, 0.006496122434479439, 0.006481832390820446, 0.006466348598937754, 0.006451430406774123, 0.006426915786986696, 0.006421654286514385, 0.00640400983519117, 0.006388613939725896, 0.006345394618605756, 0.00631859814968545, 0.006315568414518007, 0.00629510311264436, 0.006282417405278921, 0.006227859071978377, 0.006218894347023921, 0.006210016259029047, 0.006192976315428898, 0.006179071626251431, 0.006153553389090279, 0.006133280305832473, 0.006099438598411276, 0.006069408831895751, 0.006061228459879877, 0.006046311250678529, 0.006042093369242027, 0.006037445003724876, 0.0060228296943504655, 0.006015681983449453, 0.0059860778580018885, 0.005958195360964036, 0.005941052318147258, 0.005922960546362544, 0.005906246070091531, 0.005875534510707242, 0.005857143486387377, 0.005853763199704515, 0.005832869427237351, 0.005807783527284916, 0.005794504787146414, 0.0057904116683367346, 0.005762132862333971, 0.005743183632393168, 0.005726290179616568, 0.005713947187205528, 0.005688285381759893, 0.005668667139161326, 0.00566466811602574, 0.005637482241697783, 0.0056235958601091995, 0.0055976452293790375, 0.005594969798299672, 0.005592124522754483, 0.005565747101110976, 0.005556328252657445, 0.005547063436920026, 0.00553594083584292, 0.005531976816871077, 0.005515993034703925, 0.005505153886648378, 0.005497332667888178, 0.00548094388667527, 0.005477838234056628, 0.005464756402874212, 0.005453841071923348, 0.005445982856516885, 0.005423902126895137, 0.005417796141012374, 0.005387129495391933, 0.0053705535447629, 0.005364216727433148, 0.005344567720651638, 0.005338921793852941, 0.0053120964682766844, 0.005279326664634784, 0.005270146634325685, 0.005251827335015524, 0.005242000081767896, 0.005237954632400897, 0.00521722708260786, 0.0051910829284385895, 0.005175326112313617, 0.005164320938082796, 0.00514228381653525, 0.005125351342391029, 0.005123179784117969, 0.0051177853196678605, 0.005115274998068868, 0.005108861484904408, 0.0051021048132365516, 0.005100663102881685, 0.005099069502623888, 0.005087556490567869, 0.005083647188502442, 0.005076398213848849], \"yaxis\": \"y\"}, {\"hovertemplate\": \"type=validation<br>index=%{x}<br>RMSE=%{y}<extra></extra>\", \"legendgroup\": \"validation\", \"marker\": {\"color\": \"#EF553B\", \"symbol\": \"circle\"}, \"mode\": \"markers\", \"name\": \"validation\", \"showlegend\": true, \"type\": \"scatter\", \"x\": [0, 1, 2, 3, 4, 5, 6, 7, 8, 9, 10, 11, 12, 13, 14, 15, 16, 17, 18, 19, 20, 21, 22, 23, 24, 25, 26, 27, 28, 29, 30, 31, 32, 33, 34, 35, 36, 37, 38, 39, 40, 41, 42, 43, 44, 45, 46, 47, 48, 49, 50, 51, 52, 53, 54, 55, 56, 57, 58, 59, 60, 61, 62, 63, 64, 65, 66, 67, 68, 69, 70, 71, 72, 73, 74, 75, 76, 77, 78, 79, 80, 81, 82, 83, 84, 85, 86, 87, 88, 89, 90, 91, 92, 93, 94, 95, 96, 97, 98, 99, 100, 101, 102, 103, 104, 105, 106, 107, 108, 109, 110, 111, 112, 113, 114, 115, 116, 117, 118, 119, 120, 121, 122, 123, 124, 125, 126, 127, 128, 129, 130, 131, 132, 133, 134, 135, 136, 137, 138, 139, 140, 141, 142, 143, 144, 145, 146, 147, 148, 149, 150, 151, 152, 153, 154, 155, 156, 157, 158, 159, 160, 161, 162, 163, 164, 165, 166, 167, 168, 169, 170, 171, 172, 173, 174, 175, 176, 177, 178, 179, 180, 181, 182, 183, 184, 185, 186, 187, 188, 189, 190, 191, 192, 193, 194, 195, 196, 197, 198, 199, 200, 201, 202, 203, 204, 205, 206, 207, 208, 209, 210, 211, 212, 213, 214, 215, 216, 217, 218, 219, 220, 221, 222, 223, 224, 225, 226, 227, 228, 229, 230, 231, 232, 233, 234, 235, 236, 237, 238, 239, 240, 241, 242, 243, 244, 245, 246, 247, 248, 249, 250, 251, 252, 253, 254, 255, 256, 257, 258, 259, 260, 261, 262, 263, 264, 265, 266, 267, 268, 269, 270, 271, 272, 273, 274, 275, 276, 277, 278, 279, 280, 281, 282, 283, 284, 285, 286, 287, 288, 289, 290, 291, 292, 293, 294, 295, 296, 297, 298, 299], \"xaxis\": \"x\", \"y\": [0.058975949787972784, 0.055431776602795725, 0.05200150597322897, 0.04920253135326807, 0.04648414437128363, 0.04425288258539476, 0.04197658538928831, 0.03963028041526076, 0.037894125406809975, 0.036272020922931816, 0.03464181556959013, 0.0333886728733396, 0.03228463748334765, 0.031102028951586883, 0.029911297314830564, 0.028742273260223498, 0.027903678658700234, 0.027169293987493282, 0.026419400632442393, 0.025668854961967, 0.024985201524510833, 0.02442356942749182, 0.023879667449078587, 0.023327063571069603, 0.022891544046538474, 0.022486384777321004, 0.02207848762772823, 0.021611347170713148, 0.02123807746845206, 0.020980805251564847, 0.020645949288677395, 0.020412086048106678, 0.020198549080197747, 0.020000796442264414, 0.019800543424645503, 0.019598861687988862, 0.01933325985798819, 0.019181178582457784, 0.019053551419478433, 0.018858787133467607, 0.01875580373720735, 0.018632758926118053, 0.018471844250555244, 0.018314797313809972, 0.018240839761998306, 0.01812661409515754, 0.0180318127225599, 0.017860666239295896, 0.01771728133020692, 0.0176041784152476, 0.017473074651994228, 0.01736033794199235, 0.017263185553551177, 0.017213929141946666, 0.01710262261208204, 0.01699797023077942, 0.016886246484946056, 0.016820027263125946, 0.016732209458789896, 0.01664463709112735, 0.016577025051855376, 0.016510192968892903, 0.01647201955162286, 0.016412153999214224, 0.016376759958900696, 0.01633113762813129, 0.01626151225708791, 0.01622556672789362, 0.016149115956879952, 0.01607545052270281, 0.016019708631261884, 0.015978308378400967, 0.015955079189198047, 0.015892315297139595, 0.01587492214066547, 0.015849138271467594, 0.015818262880590656, 0.015785470505504343, 0.015760607478958025, 0.01571678024885067, 0.01569109979455268, 0.01564608097672662, 0.015613692713536461, 0.015584010116303263, 0.01556978286109039, 0.015558294011425599, 0.015537692323364426, 0.015527751128546867, 0.015509565575899173, 0.015490338106212528, 0.01546090044962403, 0.01541127092100075, 0.015387008192378641, 0.015368356316734293, 0.015347167711761343, 0.015308832939801693, 0.015293825249142991, 0.015278447712365775, 0.01526702809866419, 0.015253377771837775, 0.015239237355998782, 0.015226551986611558, 0.015212489896071697, 0.015196403932401554, 0.015175378145120834, 0.015133668947194208, 0.015116025253528384, 0.015107335622143659, 0.015081585611866505, 0.015068263262973556, 0.015053206755907399, 0.015044777757870022, 0.01502028882131398, 0.015005201769821931, 0.014979522551542106, 0.014941722855988342, 0.014915254730352588, 0.014923004960107575, 0.014893350079845144, 0.014862467840667885, 0.014850701484166251, 0.014831832863702684, 0.014819685944726551, 0.014820044909632247, 0.01481703000403369, 0.014791103898171697, 0.014786650223081245, 0.01476582456955036, 0.014753271251846266, 0.014736365295340292, 0.01472817362835282, 0.014723453459437543, 0.014694123178420511, 0.014692095572917657, 0.014682571458345789, 0.014679954184571624, 0.01466797324644849, 0.014660675735097172, 0.014640730783240843, 0.014634834429347631, 0.014622148554082453, 0.014608580296235301, 0.0146053836905648, 0.014583771295615723, 0.01456882570529336, 0.014554774679143226, 0.014525061407190617, 0.01452026634223347, 0.014509427029177875, 0.014506605768660355, 0.01450765636848702, 0.014506581962974097, 0.014498563265421358, 0.014494519404933128, 0.014467856079949165, 0.014465453689000657, 0.014457554431056, 0.014458967211012032, 0.01445030562714262, 0.014439194477481342, 0.014422738506772921, 0.014415483261125251, 0.01441024144104973, 0.014402812337469225, 0.014401728987289725, 0.014392738949446524, 0.014385021817492174, 0.014374171603572732, 0.01436870884876394, 0.014351954757062859, 0.014324338504939962, 0.014322888800667682, 0.014321681909884297, 0.0142798570570254, 0.014274022612542483, 0.01425408490205199, 0.014232086441796193, 0.014227867416635674, 0.014220001297519746, 0.014223089440863068, 0.0142180423007036, 0.014214782683147601, 0.014212857508677524, 0.01420771308394297, 0.014202687637811242, 0.014208036937825803, 0.01420626388495869, 0.014198006934508017, 0.014197938052506734, 0.014196425694173946, 0.014193483635366549, 0.014190574104017495, 0.014194306547083974, 0.014190250624277539, 0.014186647140042951, 0.01418649009215312, 0.014176751332691287, 0.014175430158844158, 0.01417009650773595, 0.014168072445968752, 0.01415943536492061, 0.014154425229588563, 0.014151654408261207, 0.014138472595464519, 0.01413803185154451, 0.014120041539947073, 0.014112019571422866, 0.014100542843535326, 0.014092280773197133, 0.014086494096750399, 0.014081753501514896, 0.014080804772240284, 0.014074622670335319, 0.01406453148419612, 0.014041875447702346, 0.014028626492139916, 0.014028253977958824, 0.014020495666627466, 0.014015797709519788, 0.013990882597920098, 0.013991251639804797, 0.013981782039477154, 0.013971527566296842, 0.013966723323400479, 0.013960853274238173, 0.013959804255284071, 0.013943427067413642, 0.013935511895986021, 0.013934843779393347, 0.013932274851146417, 0.01393143143573148, 0.013928000459065493, 0.013918737866855314, 0.013915306886709786, 0.013904287823511467, 0.01389697801163505, 0.013893477873359109, 0.013883468265602076, 0.01388085842626348, 0.013878329956093402, 0.013880267788796027, 0.013878200546637338, 0.013867434958650249, 0.013863823135562376, 0.01385636031832414, 0.01385565824621084, 0.013854659531139237, 0.013853879796043333, 0.013842768357660993, 0.013840480131173703, 0.013826407095639757, 0.013827234161979974, 0.013832407313190348, 0.013822298795547467, 0.013817113325681163, 0.013822067440244694, 0.013821145940436722, 0.013823092459665945, 0.013813183504960438, 0.013812139521119517, 0.01380861794734383, 0.013806568646432487, 0.013806428526781352, 0.013801694100147487, 0.01379802616360059, 0.013796381588605302, 0.013796968797667848, 0.013796824370297887, 0.013791519550834736, 0.013785542735230203, 0.013783513045445613, 0.01377537033571106, 0.013773246369277915, 0.013764859446728847, 0.01375291623789675, 0.013751675327695738, 0.013748729921572528, 0.01374555845861023, 0.01373466729873256, 0.013727972152106792, 0.013726506741026196, 0.01371326545365011, 0.013709383460272728, 0.013708830419900085, 0.013701312374423739, 0.013680219255320276, 0.013674143492950172, 0.013671131478517933, 0.013667721958272554, 0.013670030173382058, 0.01366971451710517, 0.013668970902336144, 0.013670298900300871, 0.013667589770635435, 0.013668763102837284, 0.013668280063192081, 0.013668554350524989, 0.01366864639916533, 0.013665825286969425, 0.013666051959129493], \"yaxis\": \"y\"}],\n",
       "                        {\"legend\": {\"title\": {\"text\": \"type\"}, \"tracegroupgap\": 0}, \"template\": {\"data\": {\"bar\": [{\"error_x\": {\"color\": \"#2a3f5f\"}, \"error_y\": {\"color\": \"#2a3f5f\"}, \"marker\": {\"line\": {\"color\": \"#E5ECF6\", \"width\": 0.5}}, \"type\": \"bar\"}], \"barpolar\": [{\"marker\": {\"line\": {\"color\": \"#E5ECF6\", \"width\": 0.5}}, \"type\": \"barpolar\"}], \"carpet\": [{\"aaxis\": {\"endlinecolor\": \"#2a3f5f\", \"gridcolor\": \"white\", \"linecolor\": \"white\", \"minorgridcolor\": \"white\", \"startlinecolor\": \"#2a3f5f\"}, \"baxis\": {\"endlinecolor\": \"#2a3f5f\", \"gridcolor\": \"white\", \"linecolor\": \"white\", \"minorgridcolor\": \"white\", \"startlinecolor\": \"#2a3f5f\"}, \"type\": \"carpet\"}], \"choropleth\": [{\"colorbar\": {\"outlinewidth\": 0, \"ticks\": \"\"}, \"type\": \"choropleth\"}], \"contour\": [{\"colorbar\": {\"outlinewidth\": 0, \"ticks\": \"\"}, \"colorscale\": [[0.0, \"#0d0887\"], [0.1111111111111111, \"#46039f\"], [0.2222222222222222, \"#7201a8\"], [0.3333333333333333, \"#9c179e\"], [0.4444444444444444, \"#bd3786\"], [0.5555555555555556, \"#d8576b\"], [0.6666666666666666, \"#ed7953\"], [0.7777777777777778, \"#fb9f3a\"], [0.8888888888888888, \"#fdca26\"], [1.0, \"#f0f921\"]], \"type\": \"contour\"}], \"contourcarpet\": [{\"colorbar\": {\"outlinewidth\": 0, \"ticks\": \"\"}, \"type\": \"contourcarpet\"}], \"heatmap\": [{\"colorbar\": {\"outlinewidth\": 0, \"ticks\": \"\"}, \"colorscale\": [[0.0, \"#0d0887\"], [0.1111111111111111, \"#46039f\"], [0.2222222222222222, \"#7201a8\"], [0.3333333333333333, \"#9c179e\"], [0.4444444444444444, \"#bd3786\"], [0.5555555555555556, \"#d8576b\"], [0.6666666666666666, \"#ed7953\"], [0.7777777777777778, \"#fb9f3a\"], [0.8888888888888888, \"#fdca26\"], [1.0, \"#f0f921\"]], \"type\": \"heatmap\"}], \"heatmapgl\": [{\"colorbar\": {\"outlinewidth\": 0, \"ticks\": \"\"}, \"colorscale\": [[0.0, \"#0d0887\"], [0.1111111111111111, \"#46039f\"], [0.2222222222222222, \"#7201a8\"], [0.3333333333333333, \"#9c179e\"], [0.4444444444444444, \"#bd3786\"], [0.5555555555555556, \"#d8576b\"], [0.6666666666666666, \"#ed7953\"], [0.7777777777777778, \"#fb9f3a\"], [0.8888888888888888, \"#fdca26\"], [1.0, \"#f0f921\"]], \"type\": \"heatmapgl\"}], \"histogram\": [{\"marker\": {\"colorbar\": {\"outlinewidth\": 0, \"ticks\": \"\"}}, \"type\": \"histogram\"}], \"histogram2d\": [{\"colorbar\": {\"outlinewidth\": 0, \"ticks\": \"\"}, \"colorscale\": [[0.0, \"#0d0887\"], [0.1111111111111111, \"#46039f\"], [0.2222222222222222, \"#7201a8\"], [0.3333333333333333, \"#9c179e\"], [0.4444444444444444, \"#bd3786\"], [0.5555555555555556, \"#d8576b\"], [0.6666666666666666, \"#ed7953\"], [0.7777777777777778, \"#fb9f3a\"], [0.8888888888888888, \"#fdca26\"], [1.0, \"#f0f921\"]], \"type\": \"histogram2d\"}], \"histogram2dcontour\": [{\"colorbar\": {\"outlinewidth\": 0, \"ticks\": \"\"}, \"colorscale\": [[0.0, \"#0d0887\"], [0.1111111111111111, \"#46039f\"], [0.2222222222222222, \"#7201a8\"], [0.3333333333333333, \"#9c179e\"], [0.4444444444444444, \"#bd3786\"], [0.5555555555555556, \"#d8576b\"], [0.6666666666666666, \"#ed7953\"], [0.7777777777777778, \"#fb9f3a\"], [0.8888888888888888, \"#fdca26\"], [1.0, \"#f0f921\"]], \"type\": \"histogram2dcontour\"}], \"mesh3d\": [{\"colorbar\": {\"outlinewidth\": 0, \"ticks\": \"\"}, \"type\": \"mesh3d\"}], \"parcoords\": [{\"line\": {\"colorbar\": {\"outlinewidth\": 0, \"ticks\": \"\"}}, \"type\": \"parcoords\"}], \"pie\": [{\"automargin\": true, \"type\": \"pie\"}], \"scatter\": [{\"marker\": {\"colorbar\": {\"outlinewidth\": 0, \"ticks\": \"\"}}, \"type\": \"scatter\"}], \"scatter3d\": [{\"line\": {\"colorbar\": {\"outlinewidth\": 0, \"ticks\": \"\"}}, \"marker\": {\"colorbar\": {\"outlinewidth\": 0, \"ticks\": \"\"}}, \"type\": \"scatter3d\"}], \"scattercarpet\": [{\"marker\": {\"colorbar\": {\"outlinewidth\": 0, \"ticks\": \"\"}}, \"type\": \"scattercarpet\"}], \"scattergeo\": [{\"marker\": {\"colorbar\": {\"outlinewidth\": 0, \"ticks\": \"\"}}, \"type\": \"scattergeo\"}], \"scattergl\": [{\"marker\": {\"colorbar\": {\"outlinewidth\": 0, \"ticks\": \"\"}}, \"type\": \"scattergl\"}], \"scattermapbox\": [{\"marker\": {\"colorbar\": {\"outlinewidth\": 0, \"ticks\": \"\"}}, \"type\": \"scattermapbox\"}], \"scatterpolar\": [{\"marker\": {\"colorbar\": {\"outlinewidth\": 0, \"ticks\": \"\"}}, \"type\": \"scatterpolar\"}], \"scatterpolargl\": [{\"marker\": {\"colorbar\": {\"outlinewidth\": 0, \"ticks\": \"\"}}, \"type\": \"scatterpolargl\"}], \"scatterternary\": [{\"marker\": {\"colorbar\": {\"outlinewidth\": 0, \"ticks\": \"\"}}, \"type\": \"scatterternary\"}], \"surface\": [{\"colorbar\": {\"outlinewidth\": 0, \"ticks\": \"\"}, \"colorscale\": [[0.0, \"#0d0887\"], [0.1111111111111111, \"#46039f\"], [0.2222222222222222, \"#7201a8\"], [0.3333333333333333, \"#9c179e\"], [0.4444444444444444, \"#bd3786\"], [0.5555555555555556, \"#d8576b\"], [0.6666666666666666, \"#ed7953\"], [0.7777777777777778, \"#fb9f3a\"], [0.8888888888888888, \"#fdca26\"], [1.0, \"#f0f921\"]], \"type\": \"surface\"}], \"table\": [{\"cells\": {\"fill\": {\"color\": \"#EBF0F8\"}, \"line\": {\"color\": \"white\"}}, \"header\": {\"fill\": {\"color\": \"#C8D4E3\"}, \"line\": {\"color\": \"white\"}}, \"type\": \"table\"}]}, \"layout\": {\"annotationdefaults\": {\"arrowcolor\": \"#2a3f5f\", \"arrowhead\": 0, \"arrowwidth\": 1}, \"coloraxis\": {\"colorbar\": {\"outlinewidth\": 0, \"ticks\": \"\"}}, \"colorscale\": {\"diverging\": [[0, \"#8e0152\"], [0.1, \"#c51b7d\"], [0.2, \"#de77ae\"], [0.3, \"#f1b6da\"], [0.4, \"#fde0ef\"], [0.5, \"#f7f7f7\"], [0.6, \"#e6f5d0\"], [0.7, \"#b8e186\"], [0.8, \"#7fbc41\"], [0.9, \"#4d9221\"], [1, \"#276419\"]], \"sequential\": [[0.0, \"#0d0887\"], [0.1111111111111111, \"#46039f\"], [0.2222222222222222, \"#7201a8\"], [0.3333333333333333, \"#9c179e\"], [0.4444444444444444, \"#bd3786\"], [0.5555555555555556, \"#d8576b\"], [0.6666666666666666, \"#ed7953\"], [0.7777777777777778, \"#fb9f3a\"], [0.8888888888888888, \"#fdca26\"], [1.0, \"#f0f921\"]], \"sequentialminus\": [[0.0, \"#0d0887\"], [0.1111111111111111, \"#46039f\"], [0.2222222222222222, \"#7201a8\"], [0.3333333333333333, \"#9c179e\"], [0.4444444444444444, \"#bd3786\"], [0.5555555555555556, \"#d8576b\"], [0.6666666666666666, \"#ed7953\"], [0.7777777777777778, \"#fb9f3a\"], [0.8888888888888888, \"#fdca26\"], [1.0, \"#f0f921\"]]}, \"colorway\": [\"#636efa\", \"#EF553B\", \"#00cc96\", \"#ab63fa\", \"#FFA15A\", \"#19d3f3\", \"#FF6692\", \"#B6E880\", \"#FF97FF\", \"#FECB52\"], \"font\": {\"color\": \"#2a3f5f\"}, \"geo\": {\"bgcolor\": \"white\", \"lakecolor\": \"white\", \"landcolor\": \"#E5ECF6\", \"showlakes\": true, \"showland\": true, \"subunitcolor\": \"white\"}, \"hoverlabel\": {\"align\": \"left\"}, \"hovermode\": \"closest\", \"mapbox\": {\"style\": \"light\"}, \"paper_bgcolor\": \"white\", \"plot_bgcolor\": \"#E5ECF6\", \"polar\": {\"angularaxis\": {\"gridcolor\": \"white\", \"linecolor\": \"white\", \"ticks\": \"\"}, \"bgcolor\": \"#E5ECF6\", \"radialaxis\": {\"gridcolor\": \"white\", \"linecolor\": \"white\", \"ticks\": \"\"}}, \"scene\": {\"xaxis\": {\"backgroundcolor\": \"#E5ECF6\", \"gridcolor\": \"white\", \"gridwidth\": 2, \"linecolor\": \"white\", \"showbackground\": true, \"ticks\": \"\", \"zerolinecolor\": \"white\"}, \"yaxis\": {\"backgroundcolor\": \"#E5ECF6\", \"gridcolor\": \"white\", \"gridwidth\": 2, \"linecolor\": \"white\", \"showbackground\": true, \"ticks\": \"\", \"zerolinecolor\": \"white\"}, \"zaxis\": {\"backgroundcolor\": \"#E5ECF6\", \"gridcolor\": \"white\", \"gridwidth\": 2, \"linecolor\": \"white\", \"showbackground\": true, \"ticks\": \"\", \"zerolinecolor\": \"white\"}}, \"shapedefaults\": {\"line\": {\"color\": \"#2a3f5f\"}}, \"ternary\": {\"aaxis\": {\"gridcolor\": \"white\", \"linecolor\": \"white\", \"ticks\": \"\"}, \"baxis\": {\"gridcolor\": \"white\", \"linecolor\": \"white\", \"ticks\": \"\"}, \"bgcolor\": \"#E5ECF6\", \"caxis\": {\"gridcolor\": \"white\", \"linecolor\": \"white\", \"ticks\": \"\"}}, \"title\": {\"x\": 0.05}, \"xaxis\": {\"automargin\": true, \"gridcolor\": \"white\", \"linecolor\": \"white\", \"ticks\": \"\", \"title\": {\"standoff\": 15}, \"zerolinecolor\": \"white\", \"zerolinewidth\": 2}, \"yaxis\": {\"automargin\": true, \"gridcolor\": \"white\", \"linecolor\": \"white\", \"ticks\": \"\", \"title\": {\"standoff\": 15}, \"zerolinecolor\": \"white\", \"zerolinewidth\": 2}}}, \"title\": {\"text\": \"Learning curve\"}, \"xaxis\": {\"anchor\": \"y\", \"domain\": [0.0, 1.0], \"title\": {\"text\": \"index\"}}, \"yaxis\": {\"anchor\": \"x\", \"domain\": [0.0, 1.0], \"title\": {\"text\": \"RMSE\"}}},\n",
       "                        {\"responsive\": true}\n",
       "                    ).then(function(){\n",
       "                            \n",
       "var gd = document.getElementById('012e2683-8179-450b-9ed7-0a16c977b719');\n",
       "var x = new MutationObserver(function (mutations, observer) {{\n",
       "        var display = window.getComputedStyle(gd).display;\n",
       "        if (!display || display === 'none') {{\n",
       "            console.log([gd, 'removed!']);\n",
       "            Plotly.purge(gd);\n",
       "            observer.disconnect();\n",
       "        }}\n",
       "}});\n",
       "\n",
       "// Listen for the removal of the full notebook cells\n",
       "var notebookContainer = gd.closest('#notebook-container');\n",
       "if (notebookContainer) {{\n",
       "    x.observe(notebookContainer, {childList: true});\n",
       "}}\n",
       "\n",
       "// Listen for the clearing of the current output cell\n",
       "var outputEl = gd.closest('.output');\n",
       "if (outputEl) {{\n",
       "    x.observe(outputEl, {childList: true});\n",
       "}}\n",
       "\n",
       "                        })\n",
       "                };\n",
       "                });\n",
       "            </script>\n",
       "        </div>"
      ]
     },
     "metadata": {},
     "output_type": "display_data"
    }
   ],
   "source": [
    "# num_leaves << 2^(max_depth)\n",
    "\n",
    "cbr = CatBoostRegressor(\n",
    "    learning_rate=0.1,\n",
    "    iterations=300,\n",
    "#     depth=6,\n",
    "#     max_leaves=30,\n",
    "#     subsample=0.9,\n",
    "#     penalties_coefficient=1,\n",
    "#     l2_leaf_reg=10,\n",
    "    min_data_in_leaf=5,\n",
    "    grow_policy='Lossguide', # SymmetricTree, Lossguide, Depthwise, Region\n",
    "    boost_from_average=True,\n",
    "    eval_metric='RMSE',\n",
    "    od_type='IncToDec' # IncToDec, Iter\n",
    ")\n",
    "\n",
    "history = cbr.fit(X=X_train, y=y_train,\n",
    "                  eval_set = eval_set, verbose=0)\n",
    "\n",
    "y_pred_train = cbr.predict(X_train)\n",
    "y_pred_val = cbr.predict(X_val)\n",
    "\n",
    "train_rmse = mean_squared_error(y_true=y_train, y_pred=y_pred_train, squared=False)\n",
    "val_rmse = mean_squared_error(y_true=y_val, y_pred=y_pred_val, squared=False)\n",
    "print(f'RMSE Train: {train_rmse: .8f}')\n",
    "print(f'RMSE Valid: {val_rmse: .8f}\\tRatio (val/train): {val_rmse/train_rmse: .5f}')\n",
    "\n",
    "plot_history(history, metric_key='RMSE')"
   ]
  },
  {
   "cell_type": "code",
   "execution_count": 14,
   "metadata": {
    "ExecuteTime": {
     "end_time": "2020-06-20T20:03:01.680319Z",
     "start_time": "2020-06-20T20:03:01.424085Z"
    },
    "scrolled": false
   },
   "outputs": [
    {
     "data": {
      "application/vnd.plotly.v1+json": {
       "config": {
        "plotlyServerURL": "https://plot.ly"
       },
       "data": [
        {
         "alignmentgroup": "True",
         "hovertemplate": "feature=%{x}<br>importance=%{y}<extra></extra>",
         "legendgroup": "",
         "marker": {
          "color": "#636efa"
         },
         "name": "",
         "offsetgroup": "",
         "orientation": "v",
         "showlegend": false,
         "textposition": "auto",
         "type": "bar",
         "x": [
          "feature_89",
          "feature_47",
          "feature_59",
          "feature_64",
          "feature_90",
          "feature_38",
          "feature_56",
          "feature_73",
          "feature_11",
          "feature_50",
          "feature_66",
          "feature_83",
          "feature_77",
          "feature_18",
          "feature_9",
          "feature_0",
          "feature_79",
          "feature_20",
          "feature_22",
          "feature_61",
          "feature_33",
          "feature_26",
          "feature_97",
          "feature_30",
          "feature_31",
          "feature_62",
          "feature_84",
          "feature_92",
          "feature_10",
          "feature_4",
          "feature_93",
          "feature_15",
          "feature_94",
          "feature_2",
          "feature_72",
          "feature_63",
          "feature_96",
          "feature_95",
          "feature_52",
          "feature_88",
          "feature_14",
          "feature_46",
          "feature_37",
          "feature_48",
          "feature_86",
          "feature_12",
          "feature_32",
          "feature_8",
          "feature_57",
          "feature_99",
          "feature_51",
          "feature_85",
          "feature_16",
          "feature_28",
          "feature_35",
          "feature_74",
          "feature_24",
          "feature_80",
          "feature_27",
          "feature_81",
          "feature_19",
          "feature_42",
          "feature_68",
          "feature_75",
          "feature_98",
          "feature_21",
          "feature_49",
          "feature_53",
          "feature_45",
          "feature_54",
          "feature_17",
          "feature_34",
          "feature_25",
          "feature_91",
          "feature_55",
          "feature_43",
          "feature_87",
          "feature_82",
          "feature_3",
          "feature_39",
          "feature_36",
          "feature_40",
          "feature_65",
          "feature_6",
          "feature_41",
          "feature_70",
          "feature_7",
          "feature_23",
          "feature_5",
          "feature_69",
          "feature_60",
          "feature_58",
          "feature_71",
          "feature_44",
          "feature_78",
          "feature_1",
          "feature_29",
          "feature_67",
          "feature_76",
          "feature_13"
         ],
         "xaxis": "x",
         "y": [
          18.053968054535332,
          12.43838402804449,
          10.914067253682454,
          8.307420911313713,
          4.982978226895324,
          3.982187763733439,
          3.4709559819443756,
          2.415871479441981,
          2.3389655579610764,
          2.3211812287450173,
          2.1462472612297727,
          1.779235326121453,
          1.6804319943252402,
          1.6618603395333105,
          1.6199895053856395,
          1.3908196491901215,
          0.9450815032511011,
          0.8898128667044167,
          0.8364544785574267,
          0.8291627769908068,
          0.8050895938822995,
          0.7379199917994351,
          0.726254028500404,
          0.6952830707616914,
          0.6792369359782306,
          0.6205506078320676,
          0.5973268325491277,
          0.5870857972372342,
          0.5702525762993463,
          0.5042124162293733,
          0.4914097776579411,
          0.48123348108127134,
          0.4773093641495821,
          0.42976755007473144,
          0.4279970673324698,
          0.42675904513302815,
          0.4183897494777462,
          0.3970857558451568,
          0.3947778289076346,
          0.37416177861881034,
          0.37230782999108203,
          0.3222313843140057,
          0.32075960952218635,
          0.31575408659544474,
          0.30738256012594645,
          0.2786350836242602,
          0.27386637743363895,
          0.2734740426594097,
          0.26175465157687877,
          0.25983290832701533,
          0.25330756249864955,
          0.24963086012297553,
          0.23602908136194656,
          0.2063995840687182,
          0.20142628493704337,
          0.19494196632881838,
          0.1794061733448491,
          0.17218711291897734,
          0.14760375652968585,
          0.14148545999056072,
          0.10208601985999295,
          0.10084151714411632,
          0.08782755276576447,
          0.07296802147783119,
          0.0717202252944157,
          0.06529884244948413,
          0.05618108384807433,
          0.0558751231968131,
          0.05163199309043211,
          0.04736461506050495,
          0.04485281926909358,
          0.04162455158882035,
          0.03809580275592157,
          0.03779478987407403,
          0.032662534089682047,
          0.031347038692675175,
          0.029674302160705317,
          0.025169061572733527,
          0.024246688102851036,
          0.022188416693106908,
          0.019706417881029042,
          0.016401394256783955,
          0.01569281409800022,
          0.013284691556984963,
          0.011660207124785773,
          0.011169506774570794,
          0.009182776165504024,
          0.008814195608314413,
          0.008329527069360593,
          0.007387639179265329,
          0.006074928598488189,
          0.005615550579219071,
          0.002499690519573636,
          0.002160625862277259,
          0.0020044005545931153,
          0.001973920767757961,
          0.0011871356564738722,
          0.0008790049999289028,
          0.0005379431448474487,
          0.00039081740894364783
         ],
         "yaxis": "y"
        }
       ],
       "layout": {
        "barmode": "relative",
        "legend": {
         "tracegroupgap": 0
        },
        "margin": {
         "t": 60
        },
        "template": {
         "data": {
          "bar": [
           {
            "error_x": {
             "color": "#2a3f5f"
            },
            "error_y": {
             "color": "#2a3f5f"
            },
            "marker": {
             "line": {
              "color": "#E5ECF6",
              "width": 0.5
             }
            },
            "type": "bar"
           }
          ],
          "barpolar": [
           {
            "marker": {
             "line": {
              "color": "#E5ECF6",
              "width": 0.5
             }
            },
            "type": "barpolar"
           }
          ],
          "carpet": [
           {
            "aaxis": {
             "endlinecolor": "#2a3f5f",
             "gridcolor": "white",
             "linecolor": "white",
             "minorgridcolor": "white",
             "startlinecolor": "#2a3f5f"
            },
            "baxis": {
             "endlinecolor": "#2a3f5f",
             "gridcolor": "white",
             "linecolor": "white",
             "minorgridcolor": "white",
             "startlinecolor": "#2a3f5f"
            },
            "type": "carpet"
           }
          ],
          "choropleth": [
           {
            "colorbar": {
             "outlinewidth": 0,
             "ticks": ""
            },
            "type": "choropleth"
           }
          ],
          "contour": [
           {
            "colorbar": {
             "outlinewidth": 0,
             "ticks": ""
            },
            "colorscale": [
             [
              0,
              "#0d0887"
             ],
             [
              0.1111111111111111,
              "#46039f"
             ],
             [
              0.2222222222222222,
              "#7201a8"
             ],
             [
              0.3333333333333333,
              "#9c179e"
             ],
             [
              0.4444444444444444,
              "#bd3786"
             ],
             [
              0.5555555555555556,
              "#d8576b"
             ],
             [
              0.6666666666666666,
              "#ed7953"
             ],
             [
              0.7777777777777778,
              "#fb9f3a"
             ],
             [
              0.8888888888888888,
              "#fdca26"
             ],
             [
              1,
              "#f0f921"
             ]
            ],
            "type": "contour"
           }
          ],
          "contourcarpet": [
           {
            "colorbar": {
             "outlinewidth": 0,
             "ticks": ""
            },
            "type": "contourcarpet"
           }
          ],
          "heatmap": [
           {
            "colorbar": {
             "outlinewidth": 0,
             "ticks": ""
            },
            "colorscale": [
             [
              0,
              "#0d0887"
             ],
             [
              0.1111111111111111,
              "#46039f"
             ],
             [
              0.2222222222222222,
              "#7201a8"
             ],
             [
              0.3333333333333333,
              "#9c179e"
             ],
             [
              0.4444444444444444,
              "#bd3786"
             ],
             [
              0.5555555555555556,
              "#d8576b"
             ],
             [
              0.6666666666666666,
              "#ed7953"
             ],
             [
              0.7777777777777778,
              "#fb9f3a"
             ],
             [
              0.8888888888888888,
              "#fdca26"
             ],
             [
              1,
              "#f0f921"
             ]
            ],
            "type": "heatmap"
           }
          ],
          "heatmapgl": [
           {
            "colorbar": {
             "outlinewidth": 0,
             "ticks": ""
            },
            "colorscale": [
             [
              0,
              "#0d0887"
             ],
             [
              0.1111111111111111,
              "#46039f"
             ],
             [
              0.2222222222222222,
              "#7201a8"
             ],
             [
              0.3333333333333333,
              "#9c179e"
             ],
             [
              0.4444444444444444,
              "#bd3786"
             ],
             [
              0.5555555555555556,
              "#d8576b"
             ],
             [
              0.6666666666666666,
              "#ed7953"
             ],
             [
              0.7777777777777778,
              "#fb9f3a"
             ],
             [
              0.8888888888888888,
              "#fdca26"
             ],
             [
              1,
              "#f0f921"
             ]
            ],
            "type": "heatmapgl"
           }
          ],
          "histogram": [
           {
            "marker": {
             "colorbar": {
              "outlinewidth": 0,
              "ticks": ""
             }
            },
            "type": "histogram"
           }
          ],
          "histogram2d": [
           {
            "colorbar": {
             "outlinewidth": 0,
             "ticks": ""
            },
            "colorscale": [
             [
              0,
              "#0d0887"
             ],
             [
              0.1111111111111111,
              "#46039f"
             ],
             [
              0.2222222222222222,
              "#7201a8"
             ],
             [
              0.3333333333333333,
              "#9c179e"
             ],
             [
              0.4444444444444444,
              "#bd3786"
             ],
             [
              0.5555555555555556,
              "#d8576b"
             ],
             [
              0.6666666666666666,
              "#ed7953"
             ],
             [
              0.7777777777777778,
              "#fb9f3a"
             ],
             [
              0.8888888888888888,
              "#fdca26"
             ],
             [
              1,
              "#f0f921"
             ]
            ],
            "type": "histogram2d"
           }
          ],
          "histogram2dcontour": [
           {
            "colorbar": {
             "outlinewidth": 0,
             "ticks": ""
            },
            "colorscale": [
             [
              0,
              "#0d0887"
             ],
             [
              0.1111111111111111,
              "#46039f"
             ],
             [
              0.2222222222222222,
              "#7201a8"
             ],
             [
              0.3333333333333333,
              "#9c179e"
             ],
             [
              0.4444444444444444,
              "#bd3786"
             ],
             [
              0.5555555555555556,
              "#d8576b"
             ],
             [
              0.6666666666666666,
              "#ed7953"
             ],
             [
              0.7777777777777778,
              "#fb9f3a"
             ],
             [
              0.8888888888888888,
              "#fdca26"
             ],
             [
              1,
              "#f0f921"
             ]
            ],
            "type": "histogram2dcontour"
           }
          ],
          "mesh3d": [
           {
            "colorbar": {
             "outlinewidth": 0,
             "ticks": ""
            },
            "type": "mesh3d"
           }
          ],
          "parcoords": [
           {
            "line": {
             "colorbar": {
              "outlinewidth": 0,
              "ticks": ""
             }
            },
            "type": "parcoords"
           }
          ],
          "pie": [
           {
            "automargin": true,
            "type": "pie"
           }
          ],
          "scatter": [
           {
            "marker": {
             "colorbar": {
              "outlinewidth": 0,
              "ticks": ""
             }
            },
            "type": "scatter"
           }
          ],
          "scatter3d": [
           {
            "line": {
             "colorbar": {
              "outlinewidth": 0,
              "ticks": ""
             }
            },
            "marker": {
             "colorbar": {
              "outlinewidth": 0,
              "ticks": ""
             }
            },
            "type": "scatter3d"
           }
          ],
          "scattercarpet": [
           {
            "marker": {
             "colorbar": {
              "outlinewidth": 0,
              "ticks": ""
             }
            },
            "type": "scattercarpet"
           }
          ],
          "scattergeo": [
           {
            "marker": {
             "colorbar": {
              "outlinewidth": 0,
              "ticks": ""
             }
            },
            "type": "scattergeo"
           }
          ],
          "scattergl": [
           {
            "marker": {
             "colorbar": {
              "outlinewidth": 0,
              "ticks": ""
             }
            },
            "type": "scattergl"
           }
          ],
          "scattermapbox": [
           {
            "marker": {
             "colorbar": {
              "outlinewidth": 0,
              "ticks": ""
             }
            },
            "type": "scattermapbox"
           }
          ],
          "scatterpolar": [
           {
            "marker": {
             "colorbar": {
              "outlinewidth": 0,
              "ticks": ""
             }
            },
            "type": "scatterpolar"
           }
          ],
          "scatterpolargl": [
           {
            "marker": {
             "colorbar": {
              "outlinewidth": 0,
              "ticks": ""
             }
            },
            "type": "scatterpolargl"
           }
          ],
          "scatterternary": [
           {
            "marker": {
             "colorbar": {
              "outlinewidth": 0,
              "ticks": ""
             }
            },
            "type": "scatterternary"
           }
          ],
          "surface": [
           {
            "colorbar": {
             "outlinewidth": 0,
             "ticks": ""
            },
            "colorscale": [
             [
              0,
              "#0d0887"
             ],
             [
              0.1111111111111111,
              "#46039f"
             ],
             [
              0.2222222222222222,
              "#7201a8"
             ],
             [
              0.3333333333333333,
              "#9c179e"
             ],
             [
              0.4444444444444444,
              "#bd3786"
             ],
             [
              0.5555555555555556,
              "#d8576b"
             ],
             [
              0.6666666666666666,
              "#ed7953"
             ],
             [
              0.7777777777777778,
              "#fb9f3a"
             ],
             [
              0.8888888888888888,
              "#fdca26"
             ],
             [
              1,
              "#f0f921"
             ]
            ],
            "type": "surface"
           }
          ],
          "table": [
           {
            "cells": {
             "fill": {
              "color": "#EBF0F8"
             },
             "line": {
              "color": "white"
             }
            },
            "header": {
             "fill": {
              "color": "#C8D4E3"
             },
             "line": {
              "color": "white"
             }
            },
            "type": "table"
           }
          ]
         },
         "layout": {
          "annotationdefaults": {
           "arrowcolor": "#2a3f5f",
           "arrowhead": 0,
           "arrowwidth": 1
          },
          "coloraxis": {
           "colorbar": {
            "outlinewidth": 0,
            "ticks": ""
           }
          },
          "colorscale": {
           "diverging": [
            [
             0,
             "#8e0152"
            ],
            [
             0.1,
             "#c51b7d"
            ],
            [
             0.2,
             "#de77ae"
            ],
            [
             0.3,
             "#f1b6da"
            ],
            [
             0.4,
             "#fde0ef"
            ],
            [
             0.5,
             "#f7f7f7"
            ],
            [
             0.6,
             "#e6f5d0"
            ],
            [
             0.7,
             "#b8e186"
            ],
            [
             0.8,
             "#7fbc41"
            ],
            [
             0.9,
             "#4d9221"
            ],
            [
             1,
             "#276419"
            ]
           ],
           "sequential": [
            [
             0,
             "#0d0887"
            ],
            [
             0.1111111111111111,
             "#46039f"
            ],
            [
             0.2222222222222222,
             "#7201a8"
            ],
            [
             0.3333333333333333,
             "#9c179e"
            ],
            [
             0.4444444444444444,
             "#bd3786"
            ],
            [
             0.5555555555555556,
             "#d8576b"
            ],
            [
             0.6666666666666666,
             "#ed7953"
            ],
            [
             0.7777777777777778,
             "#fb9f3a"
            ],
            [
             0.8888888888888888,
             "#fdca26"
            ],
            [
             1,
             "#f0f921"
            ]
           ],
           "sequentialminus": [
            [
             0,
             "#0d0887"
            ],
            [
             0.1111111111111111,
             "#46039f"
            ],
            [
             0.2222222222222222,
             "#7201a8"
            ],
            [
             0.3333333333333333,
             "#9c179e"
            ],
            [
             0.4444444444444444,
             "#bd3786"
            ],
            [
             0.5555555555555556,
             "#d8576b"
            ],
            [
             0.6666666666666666,
             "#ed7953"
            ],
            [
             0.7777777777777778,
             "#fb9f3a"
            ],
            [
             0.8888888888888888,
             "#fdca26"
            ],
            [
             1,
             "#f0f921"
            ]
           ]
          },
          "colorway": [
           "#636efa",
           "#EF553B",
           "#00cc96",
           "#ab63fa",
           "#FFA15A",
           "#19d3f3",
           "#FF6692",
           "#B6E880",
           "#FF97FF",
           "#FECB52"
          ],
          "font": {
           "color": "#2a3f5f"
          },
          "geo": {
           "bgcolor": "white",
           "lakecolor": "white",
           "landcolor": "#E5ECF6",
           "showlakes": true,
           "showland": true,
           "subunitcolor": "white"
          },
          "hoverlabel": {
           "align": "left"
          },
          "hovermode": "closest",
          "mapbox": {
           "style": "light"
          },
          "paper_bgcolor": "white",
          "plot_bgcolor": "#E5ECF6",
          "polar": {
           "angularaxis": {
            "gridcolor": "white",
            "linecolor": "white",
            "ticks": ""
           },
           "bgcolor": "#E5ECF6",
           "radialaxis": {
            "gridcolor": "white",
            "linecolor": "white",
            "ticks": ""
           }
          },
          "scene": {
           "xaxis": {
            "backgroundcolor": "#E5ECF6",
            "gridcolor": "white",
            "gridwidth": 2,
            "linecolor": "white",
            "showbackground": true,
            "ticks": "",
            "zerolinecolor": "white"
           },
           "yaxis": {
            "backgroundcolor": "#E5ECF6",
            "gridcolor": "white",
            "gridwidth": 2,
            "linecolor": "white",
            "showbackground": true,
            "ticks": "",
            "zerolinecolor": "white"
           },
           "zaxis": {
            "backgroundcolor": "#E5ECF6",
            "gridcolor": "white",
            "gridwidth": 2,
            "linecolor": "white",
            "showbackground": true,
            "ticks": "",
            "zerolinecolor": "white"
           }
          },
          "shapedefaults": {
           "line": {
            "color": "#2a3f5f"
           }
          },
          "ternary": {
           "aaxis": {
            "gridcolor": "white",
            "linecolor": "white",
            "ticks": ""
           },
           "baxis": {
            "gridcolor": "white",
            "linecolor": "white",
            "ticks": ""
           },
           "bgcolor": "#E5ECF6",
           "caxis": {
            "gridcolor": "white",
            "linecolor": "white",
            "ticks": ""
           }
          },
          "title": {
           "x": 0.05
          },
          "xaxis": {
           "automargin": true,
           "gridcolor": "white",
           "linecolor": "white",
           "ticks": "",
           "title": {
            "standoff": 15
           },
           "zerolinecolor": "white",
           "zerolinewidth": 2
          },
          "yaxis": {
           "automargin": true,
           "gridcolor": "white",
           "linecolor": "white",
           "ticks": "",
           "title": {
            "standoff": 15
           },
           "zerolinecolor": "white",
           "zerolinewidth": 2
          }
         }
        },
        "xaxis": {
         "anchor": "y",
         "domain": [
          0,
          1
         ],
         "title": {
          "text": "feature"
         }
        },
        "yaxis": {
         "anchor": "x",
         "domain": [
          0,
          1
         ],
         "title": {
          "text": "importance"
         }
        }
       }
      },
      "text/html": [
       "<div>\n",
       "        \n",
       "        \n",
       "            <div id=\"f901236f-463a-4067-b0ce-9a6d8529be9b\" class=\"plotly-graph-div\" style=\"height:525px; width:100%;\"></div>\n",
       "            <script type=\"text/javascript\">\n",
       "                require([\"plotly\"], function(Plotly) {\n",
       "                    window.PLOTLYENV=window.PLOTLYENV || {};\n",
       "                    \n",
       "                if (document.getElementById(\"f901236f-463a-4067-b0ce-9a6d8529be9b\")) {\n",
       "                    Plotly.newPlot(\n",
       "                        'f901236f-463a-4067-b0ce-9a6d8529be9b',\n",
       "                        [{\"alignmentgroup\": \"True\", \"hovertemplate\": \"feature=%{x}<br>importance=%{y}<extra></extra>\", \"legendgroup\": \"\", \"marker\": {\"color\": \"#636efa\"}, \"name\": \"\", \"offsetgroup\": \"\", \"orientation\": \"v\", \"showlegend\": false, \"textposition\": \"auto\", \"type\": \"bar\", \"x\": [\"feature_89\", \"feature_47\", \"feature_59\", \"feature_64\", \"feature_90\", \"feature_38\", \"feature_56\", \"feature_73\", \"feature_11\", \"feature_50\", \"feature_66\", \"feature_83\", \"feature_77\", \"feature_18\", \"feature_9\", \"feature_0\", \"feature_79\", \"feature_20\", \"feature_22\", \"feature_61\", \"feature_33\", \"feature_26\", \"feature_97\", \"feature_30\", \"feature_31\", \"feature_62\", \"feature_84\", \"feature_92\", \"feature_10\", \"feature_4\", \"feature_93\", \"feature_15\", \"feature_94\", \"feature_2\", \"feature_72\", \"feature_63\", \"feature_96\", \"feature_95\", \"feature_52\", \"feature_88\", \"feature_14\", \"feature_46\", \"feature_37\", \"feature_48\", \"feature_86\", \"feature_12\", \"feature_32\", \"feature_8\", \"feature_57\", \"feature_99\", \"feature_51\", \"feature_85\", \"feature_16\", \"feature_28\", \"feature_35\", \"feature_74\", \"feature_24\", \"feature_80\", \"feature_27\", \"feature_81\", \"feature_19\", \"feature_42\", \"feature_68\", \"feature_75\", \"feature_98\", \"feature_21\", \"feature_49\", \"feature_53\", \"feature_45\", \"feature_54\", \"feature_17\", \"feature_34\", \"feature_25\", \"feature_91\", \"feature_55\", \"feature_43\", \"feature_87\", \"feature_82\", \"feature_3\", \"feature_39\", \"feature_36\", \"feature_40\", \"feature_65\", \"feature_6\", \"feature_41\", \"feature_70\", \"feature_7\", \"feature_23\", \"feature_5\", \"feature_69\", \"feature_60\", \"feature_58\", \"feature_71\", \"feature_44\", \"feature_78\", \"feature_1\", \"feature_29\", \"feature_67\", \"feature_76\", \"feature_13\"], \"xaxis\": \"x\", \"y\": [18.053968054535332, 12.43838402804449, 10.914067253682454, 8.307420911313713, 4.982978226895324, 3.982187763733439, 3.4709559819443756, 2.415871479441981, 2.3389655579610764, 2.3211812287450173, 2.1462472612297727, 1.779235326121453, 1.6804319943252402, 1.6618603395333105, 1.6199895053856395, 1.3908196491901215, 0.9450815032511011, 0.8898128667044167, 0.8364544785574267, 0.8291627769908068, 0.8050895938822995, 0.7379199917994351, 0.726254028500404, 0.6952830707616914, 0.6792369359782306, 0.6205506078320676, 0.5973268325491277, 0.5870857972372342, 0.5702525762993463, 0.5042124162293733, 0.4914097776579411, 0.48123348108127134, 0.4773093641495821, 0.42976755007473144, 0.4279970673324698, 0.42675904513302815, 0.4183897494777462, 0.3970857558451568, 0.3947778289076346, 0.37416177861881034, 0.37230782999108203, 0.3222313843140057, 0.32075960952218635, 0.31575408659544474, 0.30738256012594645, 0.2786350836242602, 0.27386637743363895, 0.2734740426594097, 0.26175465157687877, 0.25983290832701533, 0.25330756249864955, 0.24963086012297553, 0.23602908136194656, 0.2063995840687182, 0.20142628493704337, 0.19494196632881838, 0.1794061733448491, 0.17218711291897734, 0.14760375652968585, 0.14148545999056072, 0.10208601985999295, 0.10084151714411632, 0.08782755276576447, 0.07296802147783119, 0.0717202252944157, 0.06529884244948413, 0.05618108384807433, 0.0558751231968131, 0.05163199309043211, 0.04736461506050495, 0.04485281926909358, 0.04162455158882035, 0.03809580275592157, 0.03779478987407403, 0.032662534089682047, 0.031347038692675175, 0.029674302160705317, 0.025169061572733527, 0.024246688102851036, 0.022188416693106908, 0.019706417881029042, 0.016401394256783955, 0.01569281409800022, 0.013284691556984963, 0.011660207124785773, 0.011169506774570794, 0.009182776165504024, 0.008814195608314413, 0.008329527069360593, 0.007387639179265329, 0.006074928598488189, 0.005615550579219071, 0.002499690519573636, 0.002160625862277259, 0.0020044005545931153, 0.001973920767757961, 0.0011871356564738722, 0.0008790049999289028, 0.0005379431448474487, 0.00039081740894364783], \"yaxis\": \"y\"}],\n",
       "                        {\"barmode\": \"relative\", \"legend\": {\"tracegroupgap\": 0}, \"margin\": {\"t\": 60}, \"template\": {\"data\": {\"bar\": [{\"error_x\": {\"color\": \"#2a3f5f\"}, \"error_y\": {\"color\": \"#2a3f5f\"}, \"marker\": {\"line\": {\"color\": \"#E5ECF6\", \"width\": 0.5}}, \"type\": \"bar\"}], \"barpolar\": [{\"marker\": {\"line\": {\"color\": \"#E5ECF6\", \"width\": 0.5}}, \"type\": \"barpolar\"}], \"carpet\": [{\"aaxis\": {\"endlinecolor\": \"#2a3f5f\", \"gridcolor\": \"white\", \"linecolor\": \"white\", \"minorgridcolor\": \"white\", \"startlinecolor\": \"#2a3f5f\"}, \"baxis\": {\"endlinecolor\": \"#2a3f5f\", \"gridcolor\": \"white\", \"linecolor\": \"white\", \"minorgridcolor\": \"white\", \"startlinecolor\": \"#2a3f5f\"}, \"type\": \"carpet\"}], \"choropleth\": [{\"colorbar\": {\"outlinewidth\": 0, \"ticks\": \"\"}, \"type\": \"choropleth\"}], \"contour\": [{\"colorbar\": {\"outlinewidth\": 0, \"ticks\": \"\"}, \"colorscale\": [[0.0, \"#0d0887\"], [0.1111111111111111, \"#46039f\"], [0.2222222222222222, \"#7201a8\"], [0.3333333333333333, \"#9c179e\"], [0.4444444444444444, \"#bd3786\"], [0.5555555555555556, \"#d8576b\"], [0.6666666666666666, \"#ed7953\"], [0.7777777777777778, \"#fb9f3a\"], [0.8888888888888888, \"#fdca26\"], [1.0, \"#f0f921\"]], \"type\": \"contour\"}], \"contourcarpet\": [{\"colorbar\": {\"outlinewidth\": 0, \"ticks\": \"\"}, \"type\": \"contourcarpet\"}], \"heatmap\": [{\"colorbar\": {\"outlinewidth\": 0, \"ticks\": \"\"}, \"colorscale\": [[0.0, \"#0d0887\"], [0.1111111111111111, \"#46039f\"], [0.2222222222222222, \"#7201a8\"], [0.3333333333333333, \"#9c179e\"], [0.4444444444444444, \"#bd3786\"], [0.5555555555555556, \"#d8576b\"], [0.6666666666666666, \"#ed7953\"], [0.7777777777777778, \"#fb9f3a\"], [0.8888888888888888, \"#fdca26\"], [1.0, \"#f0f921\"]], \"type\": \"heatmap\"}], \"heatmapgl\": [{\"colorbar\": {\"outlinewidth\": 0, \"ticks\": \"\"}, \"colorscale\": [[0.0, \"#0d0887\"], [0.1111111111111111, \"#46039f\"], [0.2222222222222222, \"#7201a8\"], [0.3333333333333333, \"#9c179e\"], [0.4444444444444444, \"#bd3786\"], [0.5555555555555556, \"#d8576b\"], [0.6666666666666666, \"#ed7953\"], [0.7777777777777778, \"#fb9f3a\"], [0.8888888888888888, \"#fdca26\"], [1.0, \"#f0f921\"]], \"type\": \"heatmapgl\"}], \"histogram\": [{\"marker\": {\"colorbar\": {\"outlinewidth\": 0, \"ticks\": \"\"}}, \"type\": \"histogram\"}], \"histogram2d\": [{\"colorbar\": {\"outlinewidth\": 0, \"ticks\": \"\"}, \"colorscale\": [[0.0, \"#0d0887\"], [0.1111111111111111, \"#46039f\"], [0.2222222222222222, \"#7201a8\"], [0.3333333333333333, \"#9c179e\"], [0.4444444444444444, \"#bd3786\"], [0.5555555555555556, \"#d8576b\"], [0.6666666666666666, \"#ed7953\"], [0.7777777777777778, \"#fb9f3a\"], [0.8888888888888888, \"#fdca26\"], [1.0, \"#f0f921\"]], \"type\": \"histogram2d\"}], \"histogram2dcontour\": [{\"colorbar\": {\"outlinewidth\": 0, \"ticks\": \"\"}, \"colorscale\": [[0.0, \"#0d0887\"], [0.1111111111111111, \"#46039f\"], [0.2222222222222222, \"#7201a8\"], [0.3333333333333333, \"#9c179e\"], [0.4444444444444444, \"#bd3786\"], [0.5555555555555556, \"#d8576b\"], [0.6666666666666666, \"#ed7953\"], [0.7777777777777778, \"#fb9f3a\"], [0.8888888888888888, \"#fdca26\"], [1.0, \"#f0f921\"]], \"type\": \"histogram2dcontour\"}], \"mesh3d\": [{\"colorbar\": {\"outlinewidth\": 0, \"ticks\": \"\"}, \"type\": \"mesh3d\"}], \"parcoords\": [{\"line\": {\"colorbar\": {\"outlinewidth\": 0, \"ticks\": \"\"}}, \"type\": \"parcoords\"}], \"pie\": [{\"automargin\": true, \"type\": \"pie\"}], \"scatter\": [{\"marker\": {\"colorbar\": {\"outlinewidth\": 0, \"ticks\": \"\"}}, \"type\": \"scatter\"}], \"scatter3d\": [{\"line\": {\"colorbar\": {\"outlinewidth\": 0, \"ticks\": \"\"}}, \"marker\": {\"colorbar\": {\"outlinewidth\": 0, \"ticks\": \"\"}}, \"type\": \"scatter3d\"}], \"scattercarpet\": [{\"marker\": {\"colorbar\": {\"outlinewidth\": 0, \"ticks\": \"\"}}, \"type\": \"scattercarpet\"}], \"scattergeo\": [{\"marker\": {\"colorbar\": {\"outlinewidth\": 0, \"ticks\": \"\"}}, \"type\": \"scattergeo\"}], \"scattergl\": [{\"marker\": {\"colorbar\": {\"outlinewidth\": 0, \"ticks\": \"\"}}, \"type\": \"scattergl\"}], \"scattermapbox\": [{\"marker\": {\"colorbar\": {\"outlinewidth\": 0, \"ticks\": \"\"}}, \"type\": \"scattermapbox\"}], \"scatterpolar\": [{\"marker\": {\"colorbar\": {\"outlinewidth\": 0, \"ticks\": \"\"}}, \"type\": \"scatterpolar\"}], \"scatterpolargl\": [{\"marker\": {\"colorbar\": {\"outlinewidth\": 0, \"ticks\": \"\"}}, \"type\": \"scatterpolargl\"}], \"scatterternary\": [{\"marker\": {\"colorbar\": {\"outlinewidth\": 0, \"ticks\": \"\"}}, \"type\": \"scatterternary\"}], \"surface\": [{\"colorbar\": {\"outlinewidth\": 0, \"ticks\": \"\"}, \"colorscale\": [[0.0, \"#0d0887\"], [0.1111111111111111, \"#46039f\"], [0.2222222222222222, \"#7201a8\"], [0.3333333333333333, \"#9c179e\"], [0.4444444444444444, \"#bd3786\"], [0.5555555555555556, \"#d8576b\"], [0.6666666666666666, \"#ed7953\"], [0.7777777777777778, \"#fb9f3a\"], [0.8888888888888888, \"#fdca26\"], [1.0, \"#f0f921\"]], \"type\": \"surface\"}], \"table\": [{\"cells\": {\"fill\": {\"color\": \"#EBF0F8\"}, \"line\": {\"color\": \"white\"}}, \"header\": {\"fill\": {\"color\": \"#C8D4E3\"}, \"line\": {\"color\": \"white\"}}, \"type\": \"table\"}]}, \"layout\": {\"annotationdefaults\": {\"arrowcolor\": \"#2a3f5f\", \"arrowhead\": 0, \"arrowwidth\": 1}, \"coloraxis\": {\"colorbar\": {\"outlinewidth\": 0, \"ticks\": \"\"}}, \"colorscale\": {\"diverging\": [[0, \"#8e0152\"], [0.1, \"#c51b7d\"], [0.2, \"#de77ae\"], [0.3, \"#f1b6da\"], [0.4, \"#fde0ef\"], [0.5, \"#f7f7f7\"], [0.6, \"#e6f5d0\"], [0.7, \"#b8e186\"], [0.8, \"#7fbc41\"], [0.9, \"#4d9221\"], [1, \"#276419\"]], \"sequential\": [[0.0, \"#0d0887\"], [0.1111111111111111, \"#46039f\"], [0.2222222222222222, \"#7201a8\"], [0.3333333333333333, \"#9c179e\"], [0.4444444444444444, \"#bd3786\"], [0.5555555555555556, \"#d8576b\"], [0.6666666666666666, \"#ed7953\"], [0.7777777777777778, \"#fb9f3a\"], [0.8888888888888888, \"#fdca26\"], [1.0, \"#f0f921\"]], \"sequentialminus\": [[0.0, \"#0d0887\"], [0.1111111111111111, \"#46039f\"], [0.2222222222222222, \"#7201a8\"], [0.3333333333333333, \"#9c179e\"], [0.4444444444444444, \"#bd3786\"], [0.5555555555555556, \"#d8576b\"], [0.6666666666666666, \"#ed7953\"], [0.7777777777777778, \"#fb9f3a\"], [0.8888888888888888, \"#fdca26\"], [1.0, \"#f0f921\"]]}, \"colorway\": [\"#636efa\", \"#EF553B\", \"#00cc96\", \"#ab63fa\", \"#FFA15A\", \"#19d3f3\", \"#FF6692\", \"#B6E880\", \"#FF97FF\", \"#FECB52\"], \"font\": {\"color\": \"#2a3f5f\"}, \"geo\": {\"bgcolor\": \"white\", \"lakecolor\": \"white\", \"landcolor\": \"#E5ECF6\", \"showlakes\": true, \"showland\": true, \"subunitcolor\": \"white\"}, \"hoverlabel\": {\"align\": \"left\"}, \"hovermode\": \"closest\", \"mapbox\": {\"style\": \"light\"}, \"paper_bgcolor\": \"white\", \"plot_bgcolor\": \"#E5ECF6\", \"polar\": {\"angularaxis\": {\"gridcolor\": \"white\", \"linecolor\": \"white\", \"ticks\": \"\"}, \"bgcolor\": \"#E5ECF6\", \"radialaxis\": {\"gridcolor\": \"white\", \"linecolor\": \"white\", \"ticks\": \"\"}}, \"scene\": {\"xaxis\": {\"backgroundcolor\": \"#E5ECF6\", \"gridcolor\": \"white\", \"gridwidth\": 2, \"linecolor\": \"white\", \"showbackground\": true, \"ticks\": \"\", \"zerolinecolor\": \"white\"}, \"yaxis\": {\"backgroundcolor\": \"#E5ECF6\", \"gridcolor\": \"white\", \"gridwidth\": 2, \"linecolor\": \"white\", \"showbackground\": true, \"ticks\": \"\", \"zerolinecolor\": \"white\"}, \"zaxis\": {\"backgroundcolor\": \"#E5ECF6\", \"gridcolor\": \"white\", \"gridwidth\": 2, \"linecolor\": \"white\", \"showbackground\": true, \"ticks\": \"\", \"zerolinecolor\": \"white\"}}, \"shapedefaults\": {\"line\": {\"color\": \"#2a3f5f\"}}, \"ternary\": {\"aaxis\": {\"gridcolor\": \"white\", \"linecolor\": \"white\", \"ticks\": \"\"}, \"baxis\": {\"gridcolor\": \"white\", \"linecolor\": \"white\", \"ticks\": \"\"}, \"bgcolor\": \"#E5ECF6\", \"caxis\": {\"gridcolor\": \"white\", \"linecolor\": \"white\", \"ticks\": \"\"}}, \"title\": {\"x\": 0.05}, \"xaxis\": {\"automargin\": true, \"gridcolor\": \"white\", \"linecolor\": \"white\", \"ticks\": \"\", \"title\": {\"standoff\": 15}, \"zerolinecolor\": \"white\", \"zerolinewidth\": 2}, \"yaxis\": {\"automargin\": true, \"gridcolor\": \"white\", \"linecolor\": \"white\", \"ticks\": \"\", \"title\": {\"standoff\": 15}, \"zerolinecolor\": \"white\", \"zerolinewidth\": 2}}}, \"xaxis\": {\"anchor\": \"y\", \"domain\": [0.0, 1.0], \"title\": {\"text\": \"feature\"}}, \"yaxis\": {\"anchor\": \"x\", \"domain\": [0.0, 1.0], \"title\": {\"text\": \"importance\"}}},\n",
       "                        {\"responsive\": true}\n",
       "                    ).then(function(){\n",
       "                            \n",
       "var gd = document.getElementById('f901236f-463a-4067-b0ce-9a6d8529be9b');\n",
       "var x = new MutationObserver(function (mutations, observer) {{\n",
       "        var display = window.getComputedStyle(gd).display;\n",
       "        if (!display || display === 'none') {{\n",
       "            console.log([gd, 'removed!']);\n",
       "            Plotly.purge(gd);\n",
       "            observer.disconnect();\n",
       "        }}\n",
       "}});\n",
       "\n",
       "// Listen for the removal of the full notebook cells\n",
       "var notebookContainer = gd.closest('#notebook-container');\n",
       "if (notebookContainer) {{\n",
       "    x.observe(notebookContainer, {childList: true});\n",
       "}}\n",
       "\n",
       "// Listen for the clearing of the current output cell\n",
       "var outputEl = gd.closest('.output');\n",
       "if (outputEl) {{\n",
       "    x.observe(outputEl, {childList: true});\n",
       "}}\n",
       "\n",
       "                        })\n",
       "                };\n",
       "                });\n",
       "            </script>\n",
       "        </div>"
      ]
     },
     "metadata": {},
     "output_type": "display_data"
    }
   ],
   "source": [
    "df_imp = pd.DataFrame()\n",
    "df_imp['importance'] = cbr.feature_importances_\n",
    "df_imp['feature'] = X\n",
    "df_imp.sort_values(by='importance', ascending=False, inplace=True)\n",
    "\n",
    "px.bar(data_frame=df_imp, x='feature', y='importance')"
   ]
  },
  {
   "cell_type": "code",
   "execution_count": 15,
   "metadata": {
    "ExecuteTime": {
     "end_time": "2020-06-20T20:03:01.683321Z",
     "start_time": "2020-06-20T20:03:01.681319Z"
    }
   },
   "outputs": [],
   "source": [
    "# test = pd.get_dummies(test)"
   ]
  },
  {
   "cell_type": "code",
   "execution_count": 16,
   "metadata": {
    "ExecuteTime": {
     "end_time": "2020-06-20T20:03:01.691056Z",
     "start_time": "2020-06-20T20:03:01.684322Z"
    }
   },
   "outputs": [],
   "source": [
    "# galaxies_unseen_test = ['galaxy_Andromeda XIX[60]', 'galaxy_NGC 5253', 'galaxy_Tucana Dwarf',\n",
    "#        'galaxy_Andromeda XXIV', 'Population..ages.15a..64..millions.', 'galaxy_Hercules Dwarf',\n",
    "#        'Unemployment..youth....ages.15a..24.', 'galaxy_Andromeda XXII[57]', 'galaxy_Andromeda XVIII[60]',\n",
    "#        'galaxy_Triangulum Galaxy (M33)', 'galaxy_Andromeda XII']\n",
    "\n",
    "# for galaxy in galaxies_unseen_test:\n",
    "#     test[galaxy] = 0\n",
    "    \n",
    "X_test = test[X].to_numpy()"
   ]
  },
  {
   "cell_type": "code",
   "execution_count": 17,
   "metadata": {
    "ExecuteTime": {
     "end_time": "2020-06-20T20:03:01.701065Z",
     "start_time": "2020-06-20T20:03:01.692057Z"
    },
    "scrolled": true
   },
   "outputs": [],
   "source": [
    "y_pred_test = cbr.predict(X_test)"
   ]
  },
  {
   "cell_type": "code",
   "execution_count": 18,
   "metadata": {
    "ExecuteTime": {
     "end_time": "2020-06-20T20:03:01.712076Z",
     "start_time": "2020-06-20T20:03:01.702066Z"
    }
   },
   "outputs": [
    {
     "data": {
      "text/html": [
       "<div>\n",
       "<style scoped>\n",
       "    .dataframe tbody tr th:only-of-type {\n",
       "        vertical-align: middle;\n",
       "    }\n",
       "\n",
       "    .dataframe tbody tr th {\n",
       "        vertical-align: top;\n",
       "    }\n",
       "\n",
       "    .dataframe thead th {\n",
       "        text-align: right;\n",
       "    }\n",
       "</style>\n",
       "<table border=\"1\" class=\"dataframe\">\n",
       "  <thead>\n",
       "    <tr style=\"text-align: right;\">\n",
       "      <th></th>\n",
       "      <th>Index</th>\n",
       "      <th>y_pred</th>\n",
       "    </tr>\n",
       "  </thead>\n",
       "  <tbody>\n",
       "    <tr>\n",
       "      <th>0</th>\n",
       "      <td>0</td>\n",
       "      <td>0.044344</td>\n",
       "    </tr>\n",
       "    <tr>\n",
       "      <th>1</th>\n",
       "      <td>1</td>\n",
       "      <td>0.035356</td>\n",
       "    </tr>\n",
       "    <tr>\n",
       "      <th>2</th>\n",
       "      <td>2</td>\n",
       "      <td>0.043705</td>\n",
       "    </tr>\n",
       "    <tr>\n",
       "      <th>3</th>\n",
       "      <td>3</td>\n",
       "      <td>0.043062</td>\n",
       "    </tr>\n",
       "    <tr>\n",
       "      <th>4</th>\n",
       "      <td>4</td>\n",
       "      <td>0.038374</td>\n",
       "    </tr>\n",
       "    <tr>\n",
       "      <th>...</th>\n",
       "      <td>...</td>\n",
       "      <td>...</td>\n",
       "    </tr>\n",
       "    <tr>\n",
       "      <th>885</th>\n",
       "      <td>885</td>\n",
       "      <td>0.050119</td>\n",
       "    </tr>\n",
       "    <tr>\n",
       "      <th>886</th>\n",
       "      <td>886</td>\n",
       "      <td>0.056249</td>\n",
       "    </tr>\n",
       "    <tr>\n",
       "      <th>887</th>\n",
       "      <td>887</td>\n",
       "      <td>0.072330</td>\n",
       "    </tr>\n",
       "    <tr>\n",
       "      <th>888</th>\n",
       "      <td>888</td>\n",
       "      <td>0.072743</td>\n",
       "    </tr>\n",
       "    <tr>\n",
       "      <th>889</th>\n",
       "      <td>889</td>\n",
       "      <td>0.049541</td>\n",
       "    </tr>\n",
       "  </tbody>\n",
       "</table>\n",
       "<p>890 rows × 2 columns</p>\n",
       "</div>"
      ],
      "text/plain": [
       "     Index    y_pred\n",
       "0        0  0.044344\n",
       "1        1  0.035356\n",
       "2        2  0.043705\n",
       "3        3  0.043062\n",
       "4        4  0.038374\n",
       "..     ...       ...\n",
       "885    885  0.050119\n",
       "886    886  0.056249\n",
       "887    887  0.072330\n",
       "888    888  0.072743\n",
       "889    889  0.049541\n",
       "\n",
       "[890 rows x 2 columns]"
      ]
     },
     "execution_count": 18,
     "metadata": {},
     "output_type": "execute_result"
    }
   ],
   "source": [
    "pred_output = pd.DataFrame()\n",
    "pred_output['y_pred'] = y_pred_test\n",
    "pred_output.reset_index(inplace=True)\n",
    "pred_output.rename(columns = {\n",
    "    \"index\": \"Index\"\n",
    "    }, inplace=True)\n",
    "pred_output"
   ]
  },
  {
   "cell_type": "code",
   "execution_count": 19,
   "metadata": {
    "ExecuteTime": {
     "end_time": "2020-06-20T20:03:01.722085Z",
     "start_time": "2020-06-20T20:03:01.713076Z"
    }
   },
   "outputs": [],
   "source": [
    "write_predictions()"
   ]
  },
  {
   "cell_type": "code",
   "execution_count": 20,
   "metadata": {
    "ExecuteTime": {
     "end_time": "2020-06-20T20:03:01.725087Z",
     "start_time": "2020-06-20T20:03:01.723085Z"
    }
   },
   "outputs": [
    {
     "name": "stdout",
     "output_type": "stream",
     "text": [
      "Train samples: 2898\n",
      "Validation samples: 967\n",
      "Test samples: 890\n"
     ]
    }
   ],
   "source": [
    "print(\"Train samples:\", y_pred_train.shape[0])\n",
    "print(\"Validation samples:\", y_pred_val.shape[0])\n",
    "print(\"Test samples:\", y_pred_test.shape[0])"
   ]
  },
  {
   "cell_type": "code",
   "execution_count": 21,
   "metadata": {
    "ExecuteTime": {
     "end_time": "2020-06-20T20:03:01.937223Z",
     "start_time": "2020-06-20T20:03:01.726088Z"
    },
    "scrolled": false
   },
   "outputs": [
    {
     "data": {
      "application/vnd.plotly.v1+json": {
       "config": {
        "plotlyServerURL": "https://plot.ly"
       },
       "data": [
        {
         "alignmentgroup": "True",
         "bingroup": "x",
         "hovertemplate": "0=%{x}<br>count=%{y}<extra></extra>",
         "legendgroup": "",
         "marker": {
          "color": "#636efa"
         },
         "name": "",
         "offsetgroup": "",
         "orientation": "v",
         "showlegend": false,
         "type": "histogram",
         "x": [
          0.04791915038283235,
          0.08735691327295697,
          0.04587978232707471,
          0.04832072158466345,
          0.040581824688049356,
          0.024581822002218624,
          0.043110835617770286,
          0.04588144154949741,
          0.26093880886021104,
          0.05766795915007788,
          0.16424175726759738,
          0.06753024682701107,
          0.05329763292789612,
          0.06175616973018942,
          0.13768768759990638,
          0.07639141296850582,
          0.08702911220592535,
          0.06985131278012699,
          0.043878239175404114,
          0.044444899090900644,
          0.16691243797394073,
          0.048792522270505775,
          0.04870164148010209,
          0.05860757300475127,
          0.18666969645948528,
          0.061826242717480745,
          0.06550178656425266,
          0.05445711711241292,
          0.0556420311470045,
          0.05474895318660293,
          0.04885150555723275,
          0.10193127976904826,
          0.05237982540016298,
          0.07336061362494176,
          0.05446432477625335,
          0.16864403589060833,
          0.07405306701130923,
          0.06708402882066114,
          0.06256189469147189,
          0.04012145251144646,
          0.05120311477612525,
          0.039808892231706056,
          0.14361731968214314,
          0.10929714761855086,
          0.050991036168421995,
          0.13260932388393704,
          0.20156438369850144,
          0.043689669688187646,
          0.08451761926395113,
          0.05744827269540926,
          0.05645010353358912,
          0.06184211020278499,
          0.1951256835357526,
          0.04833744915705418,
          0.04898207765046659,
          0.05111303808134266,
          0.1643987158371346,
          0.06335768336580659,
          0.057936405039161136,
          0.05895632449782305,
          0.050830491492017196,
          0.046239504709342,
          0.15012165715398895,
          0.03382183334477314,
          0.23933822559230647,
          0.07249584186909007,
          0.08110736645537751,
          0.08874602238895281,
          0.1913611022724841,
          0.1886610584880104,
          0.0729930823275323,
          0.04610734179013619,
          0.28313931454752805,
          0.062189280718142656,
          0.05350248694774706,
          0.08601030375235198,
          0.05502525843733015,
          0.06768237277520216,
          0.07066968814080707,
          0.047931261815470964,
          0.06433311094994078,
          0.06201247080841847,
          0.2320689344338379,
          0.24550707330322605,
          0.05346826927174825,
          0.05086986586127978,
          0.04761364156937139,
          0.03831574806039613,
          0.07536117272647389,
          0.05820343334683527,
          0.1347112132462622,
          0.07564733255546323,
          0.2115453941132933,
          0.06635587910137727,
          0.18038582161325128,
          0.07978269328035899,
          0.1341003198187723,
          0.04745010052265749,
          0.18912271779905654,
          0.04305580297897467,
          0.060281172076637524,
          0.042721516854476255,
          0.04164933460500763,
          0.05422689392295575,
          0.16696564419372684,
          0.08585864031221398,
          0.04424364005715905,
          0.20675590120810605,
          0.03149928785309007,
          0.08732834528464059,
          0.05028438612924993,
          0.05578052128647933,
          0.04936345111701152,
          0.022540183921554262,
          0.19510182257683542,
          0.06498605504290406,
          0.03987727671289955,
          0.061854861101384426,
          0.045782172392680884,
          0.04902553732527543,
          0.34352553924436197,
          0.07075492576617474,
          0.048666455222388674,
          0.05386235112847766,
          0.05687887010669991,
          0.1498641127915053,
          0.05612615862456036,
          0.045306818873172026,
          0.06966892999585267,
          0.057196081571282975,
          0.058841751601421646,
          0.04744671999891433,
          0.04704878656381553,
          0.05219731575715164,
          0.09526959143698549,
          0.12744232519211252,
          0.21567729166569058,
          0.045652922467971264,
          0.050539453520991186,
          0.05981057714622358,
          0.04470196212168885,
          0.14859802020481203,
          0.18864903075848613,
          0.11007469915563166,
          0.06563516921717266,
          0.08537754120318919,
          0.04903629420357312,
          0.09567897540839608,
          0.06430520325239106,
          0.11187186127228022,
          0.21939310504053305,
          0.040560800371834564,
          0.11180515832801804,
          0.14003600084403525,
          0.05553424334002975,
          0.10830109301538673,
          0.04419742945291106,
          0.10225401147020184,
          0.051967064623449966,
          0.051236766903332724,
          0.04485139512995373,
          0.024800410088266833,
          0.03367229473995052,
          0.04826530800262256,
          0.10690330726348649,
          0.18890152096026686,
          0.13167261718510453,
          0.05989558468625966,
          0.049078889819708614,
          0.17682127476884704,
          0.1036307860059907,
          0.08466960864015428,
          0.13209919495291378,
          0.04424039156056141,
          0.050924276920448305,
          0.050207052689686456,
          0.0450844433713275,
          0.062119471736969606,
          0.04230331749556402,
          0.21570044231229996,
          0.04777747033263291,
          0.06517013019304863,
          0.04620534141067405,
          0.044075312787492764,
          0.04280648525310574,
          0.07612181648220541,
          0.04655642816476612,
          0.04984106091325881,
          0.05876680365205357,
          0.04897607978225394,
          0.2987969468431286,
          0.09312129501559538,
          0.0745912810444899,
          0.048152906455025485,
          0.18779955297749934,
          0.21828136460506106,
          0.051663327976429405,
          0.2797970107679304,
          0.15100610225216676,
          0.05035709313840552,
          0.06876363399946168,
          0.04001939401511789,
          0.173625492419305,
          0.06205474213320497,
          0.0688793080601513,
          0.1625904220396748,
          0.05871655870626749,
          0.047199847167912104,
          0.051179472326242294,
          0.04930553231967097,
          0.0461773077046523,
          0.16260344512968355,
          0.07207828390057287,
          0.06817735636547104,
          0.05031145856790866,
          0.05906378016506303,
          0.04487716278535787,
          0.029151136858606617,
          0.0840552726067119,
          0.2445741985320917,
          0.032325807105103736,
          0.04536886844190756,
          0.04197364250865202,
          0.05268307434965487,
          0.0730103427091863,
          0.04754603656819258,
          0.052603958265105784,
          0.03903099717610326,
          0.05051243256445453,
          0.049087163201399796,
          0.05461925005631517,
          0.047636401086387295,
          0.04198877053864163,
          0.09350527541878595,
          0.057078815243525496,
          0.2418944495350332,
          0.04964857016187013,
          0.04405083744330679,
          0.13426028381890542,
          0.06404907362175774,
          0.09768316445140413,
          0.039224720668360476,
          0.04190836147812277,
          0.054841136184075615,
          0.047220805112842205,
          0.0681595213206086,
          0.2112330641548741,
          0.046690433115565935,
          0.04968721769943316,
          0.04268287995298127,
          0.04886192816167578,
          0.03338415398013139,
          0.0584667474245507,
          0.05715019497691074,
          0.046632946745662866,
          0.04937879605736772,
          0.03395573490923717,
          0.06452054553221118,
          0.05460902006638332,
          0.16709875075099404,
          0.17612916749519292,
          0.05017329460503778,
          0.03241062785052873,
          0.10019248013375748,
          0.08590075312710127,
          0.08844161216626167,
          0.06274606280802633,
          0.06604502082572136,
          0.057744663270251725,
          0.07152908605438046,
          0.061651325684102656,
          0.04738022096633191,
          0.04129945629646433,
          0.05281159104607688,
          0.06580753391392881,
          0.06741463783566987,
          0.37338632583981707,
          0.05279280199434396,
          0.31157807993979525,
          0.05293490452556854,
          0.10137303768432933,
          0.18652006647124797,
          0.05078913328510933,
          0.050596337246501324,
          0.046132070598151206,
          0.0817239250917496,
          0.0574655016161351,
          0.17182412695696553,
          0.04639681591627917,
          0.04668489913517321,
          0.2867127665780092,
          0.05617517951643676,
          0.03814787616571944,
          0.07624370664658997,
          0.21422886575171105,
          0.04839564999850188,
          0.04460490323371376,
          0.061099372238562974,
          0.06475131727085463,
          0.2199513638666198,
          0.11268380843556165,
          0.04292344227979705,
          0.15810235756946095,
          0.11765761438934852,
          0.051700194807124886,
          0.06483145130063211,
          0.05645028161762374,
          0.05487893749704911,
          0.04736616150409522,
          0.06935032173685131,
          0.09505708087749098,
          0.056150251654880586,
          0.09204103433194982,
          0.06421199615785764,
          0.13737369896357574,
          0.08353737461842009,
          0.05635898076105865,
          0.0479198242014708,
          0.045955853039239346,
          0.047993939643742003,
          0.16978084912658453,
          0.22109972574716288,
          0.07176518989505919,
          0.049702748936099744,
          0.09888937664085125,
          0.05196297170070005,
          0.052575260353426786,
          0.037151343518877125,
          0.05845141108907667,
          0.06037392981418298,
          0.10504774779303429,
          0.0756276999679365,
          0.04400119603753772,
          0.31131742514215327,
          0.05589121570860889,
          0.0948532089699991,
          0.0623681538368004,
          0.03906695874907379,
          0.09716538684499791,
          0.04364904777238589,
          0.05274937894276272,
          0.044958821958111746,
          0.044005209656310905,
          0.23720623862930787,
          0.21991917436044683,
          0.1883673645452804,
          0.11112705063381462,
          0.05155371670390308,
          0.040852740752781516,
          0.04487394550376759,
          0.22002228850119093,
          0.08505667119694903,
          0.17585802246722107,
          0.05080816050395225,
          0.061366009890716736,
          0.16382764732074429,
          0.06940929887135074,
          0.04758556254066028,
          0.2218920036005704,
          0.045283232873278866,
          0.1540636573872075,
          0.1449572244786769,
          0.05371183659147058,
          0.08956189106950288,
          0.04779514524912929,
          0.09019480340975018,
          0.08172734249898964,
          0.04637432475999066,
          0.045048052111620884,
          0.18892955975078413,
          0.3542466180281328,
          0.05098189024702433,
          0.07507680931480291,
          0.05068599560351631,
          0.1879009710972992,
          0.047542509579772275,
          0.05725414835165437,
          0.04676593535905601,
          0.17657717072994156,
          0.09141673061932334,
          0.036072109032388035,
          0.1556935447033945,
          0.04862869996631865,
          0.053256386287935685,
          0.04656129863022513,
          0.03979379041634708,
          0.04047902349442042,
          0.23623290856648974,
          0.20445566180139613,
          0.17787301021575963,
          0.04596841981808241,
          0.15576077908742197,
          0.04320505434528331,
          0.04770587135492043,
          0.1521174322215092,
          0.1581405508300987,
          0.05428287778732674,
          0.10302122529842794,
          0.04617187462816548,
          0.04433447907405821,
          0.058109093751826144,
          0.03749960274147927,
          0.07398107780666309,
          0.04179809670414528,
          0.10019836611607812,
          0.05353962567962829,
          0.046349999044779926,
          0.18194944327271656,
          0.04588359243606382,
          0.11023413847996136,
          0.04919098752793423,
          0.3476042180692297,
          0.2724517486508191,
          0.049655794576830475,
          0.05007135418687091,
          0.052695850665395214,
          0.06642870829914112,
          0.04452227266660092,
          0.08072636822253111,
          0.04835070181936432,
          0.09643848775203262,
          0.15297388595921552,
          0.05771335370506303,
          0.0487904334408303,
          0.046399642935049445,
          0.0587713337101646,
          0.060521640029860505,
          0.047916293271789055,
          0.045288558095454935,
          0.05711815597583604,
          0.045216813383234265,
          0.05422796752426683,
          0.04086417601564003,
          0.05616603237862045,
          0.04565693444127376,
          0.18767590327639386,
          0.053030144826352925,
          0.050544768925822055,
          0.04786628854755471,
          0.16232330350910668,
          0.04272144916330735,
          0.10621420460136538,
          0.25557668613307144,
          0.0651171831385742,
          0.048476190734044966,
          0.060835052931040884,
          0.06303628027440047,
          0.056905894641723395,
          0.06373745422420281,
          0.05012798079647142,
          0.04297821891523556,
          0.16171847720495844,
          0.051072325445495205,
          0.0881422557290207,
          0.03383402124841822,
          0.052380336064340324,
          0.05847009303219686,
          0.06406080195857489,
          0.0701148565335018,
          0.062497753331161844,
          0.06744202669638173,
          0.056082098996299304,
          0.071346814588418,
          0.06755848938774967,
          0.06459553388320344,
          0.04335641694704064,
          0.10783481804999318,
          0.06773548443856814,
          0.04882898058452481,
          0.15757159182466912,
          0.09331250743442626,
          0.05799738094176171,
          0.12801803511787463,
          0.031433449000309144,
          0.07805184544247092,
          0.07812087178567216,
          0.08313874445488202,
          0.0652372165753553,
          0.18023119169493507,
          0.0763824636409657,
          0.05462346972519434,
          0.050005858761936674,
          0.05366863645771701,
          0.0439901824727305,
          0.053638036312110934,
          0.042689905462874767,
          0.14191992049148056,
          0.041683829716119405,
          0.04854175506948913,
          0.17403290770629298,
          0.19842980382844266,
          0.05563838900375818,
          0.05109141346417836,
          0.06749569499709855,
          0.06116982425496477,
          0.13580047805933668,
          0.09629036400831018,
          0.04891330145319048,
          0.1929157392082233,
          0.04661298957582522,
          0.02530300815007508,
          0.19593840918518987,
          0.050111817298518345,
          0.21216010180366274,
          0.06941102524054607,
          0.043754132345158465,
          0.1134557063776273,
          0.06587607605644669,
          0.0484560537775144,
          0.06494269336832856,
          0.07779107030339763,
          0.2883723375697207,
          0.0515656266209491,
          0.049272966009999176,
          0.04360049633469819,
          0.08337833966382396,
          0.16204964780674636,
          0.0652222117284425,
          0.11220484556706696,
          0.10723355648279635,
          0.0690946688222511,
          0.049366549008505095,
          0.062222474293675806,
          0.07524896237184099,
          0.05653510131126041,
          0.05000980493931771,
          0.048407656338149925,
          0.07705247394482664,
          0.04826200785414634,
          0.26004315349263574,
          0.2078040880637011,
          0.051619607338242876,
          0.15665048818777785,
          0.0708765080344587,
          0.05129077630110491,
          0.05218694970772121,
          0.06493408237834761,
          0.045867789026276695,
          0.04493104836712379,
          0.05041998900476636,
          0.14553768620326063,
          0.028207723218970776,
          0.07170589772215985,
          0.06612614768360181,
          0.16293608580183738,
          0.0403156781461305,
          0.13795492046929614,
          0.044993133039900476,
          0.17745343960004467,
          0.17524300211876015,
          0.06319941453094666,
          0.08464606937979442,
          0.05133194954048853,
          0.19729514416173505,
          0.04747597883598077,
          0.04858304893032424,
          0.042631335274549834,
          0.06428813581664798,
          0.047169044786622594,
          0.04513179272724732,
          0.04863531191566024,
          0.053197817116538704,
          0.11103711011939682,
          0.045018873806319054,
          0.05617600472292117,
          0.21017581177740538,
          0.05404895437738558,
          0.06649547664292174,
          0.04514066395875104,
          0.04640611599209202,
          0.04732958029523036,
          0.057499738347924434,
          0.07006227497767514,
          0.21779608085355565,
          0.05192235450606086,
          0.04629297479094213,
          0.04421363322592871,
          0.15413355506864473,
          0.2268164680032553,
          0.04560476732753599,
          0.43061653496445157,
          0.05288604065513541,
          0.029860444830066175,
          0.04577128744452352,
          0.06086834382941293,
          0.07045796769635534,
          0.07395886813177369,
          0.13753820897465752,
          0.08432719332009275,
          0.04398295162432911,
          0.05136930192024787,
          0.053000211767994396,
          0.09434604279902399,
          0.3280599924896799,
          0.06763627270129702,
          0.3019162273227323,
          0.049264075495459664,
          0.04454716266846294,
          0.056099981726114856,
          0.05674334426661119,
          0.13539725087124754,
          0.06792937028667317,
          0.04600974083557413,
          0.06455742394625429,
          0.08152848775711531,
          0.04356485535092922,
          0.058785930604081944,
          0.06738415236933759,
          0.08657734560729559,
          0.05420778944124337,
          0.23177363247914684,
          0.062145391251047094,
          0.0486319152546931,
          0.055813871360491873,
          0.04679832137535118,
          0.047098366798152116,
          0.08406626707011829,
          0.05459600230125025,
          0.04786184122332595,
          0.07708819780270036,
          0.04619427788176124,
          0.05460320164171685,
          0.0647915754264932,
          0.06264747310758613,
          0.06176643283280655,
          0.06301717537902486,
          0.10732017858837264,
          0.04782275658606321,
          0.05514450407011311,
          0.05616802114326652,
          0.0930111991244937,
          0.041807724941911116,
          0.05079872430515993,
          0.06365922744442838,
          0.04031608562944426,
          0.03939618398608957,
          0.027396306479448906,
          0.049392105003280354,
          0.08366928854109164,
          0.04314341485210575,
          0.042581624174456774,
          0.04753643649072787,
          0.04598257340564793,
          0.08798892367896721,
          0.04760764069491234,
          0.19628950335770284,
          0.0539111532673153,
          0.04940962712832627,
          0.055382842261245846,
          0.04098818292798576,
          0.05831450821699384,
          0.04207522577985702,
          0.21713216196388394,
          0.044329431461763,
          0.046175423647983396,
          0.05346292277370375,
          0.05432692374472568,
          0.05215109677846964,
          0.23347164731279677,
          0.16533318329397673,
          0.04470301249262258,
          0.027018013647707756,
          0.057794340933554796,
          0.04595486534564924,
          0.05828382220012124,
          0.04723207672395914,
          0.1807769497033342,
          0.07179621859754251,
          0.051442545067914104,
          0.039080518745963834,
          0.047481194569473695,
          0.05371786417139385,
          0.18270958347702665,
          0.066966992402594,
          0.04508340249942151,
          0.045955440426386704,
          0.1576980948996483,
          0.04745010052265749,
          0.04192686354273207,
          0.05970865733071865,
          0.07323170347470791,
          0.05928190192057875,
          0.05065008248008915,
          0.04411167230101859,
          0.04346195947207946,
          0.210277699635136,
          0.058424392828048746,
          0.29712548381094706,
          0.10064487301509017,
          0.04935536993321228,
          0.04285799560732011,
          0.28219959986274246,
          0.04502711047902596,
          0.052690823787511956,
          0.05499582095808166,
          0.13417752186488358,
          0.05622128858052512,
          0.051754418189596654,
          0.05432925154295591,
          0.043470025559848094,
          0.050440141928001565,
          0.0416340691234506,
          0.0799454201586213,
          0.041786796538800214,
          0.19640144114391098,
          0.05006188362898178,
          0.25114911473067836,
          0.09416924850065451,
          0.04859533924183765,
          0.053737721124156174,
          0.12354759171723675,
          0.09205003445092563,
          0.04717590642842168,
          0.03982139167597578,
          0.14499309673050825,
          0.04950606762164966,
          0.0498350815155314,
          0.04512902959868429,
          0.09466749668312183,
          0.05104772287965819,
          0.05743981640547599,
          0.04695946164381187,
          0.10176269253395098,
          0.062323016915526004,
          0.1701146425828663,
          0.054880941207918116,
          0.059273353731693484,
          0.21453326638944953,
          0.04317104646767478,
          0.0637845366940973,
          0.04407551449941937,
          0.06916820380566298,
          0.04653743171414495,
          0.09280207304712935,
          0.045245026697391735,
          0.054046506545663855,
          0.047910175196262325,
          0.047423880497724474,
          0.05627989201234257,
          0.05770261376463759,
          0.043998776396911854,
          0.0777380110458792,
          0.047641644293424136,
          0.06530414386128885,
          0.05649852801013443,
          0.05419406878618074,
          0.2116736224532477,
          0.03384545704908406,
          0.07980853432764759,
          0.19970223578993196,
          0.04876763206423257,
          0.14398173572989847,
          0.044539441399316274,
          0.0436013557910906,
          0.05802335253889277,
          0.0680825861332622,
          0.04464181234190275,
          0.05370313643698976,
          0.14003113969618716,
          0.04504258684113046,
          0.05797550534277281,
          0.04822548308924775,
          0.0740666167734376,
          0.28362407159141134,
          0.16166603991337639,
          0.04536139222086211,
          0.0485196832021801,
          0.3629715347037636,
          0.045074345823187145,
          0.04388856150634894,
          0.04502611622283444,
          0.2469015208083607,
          0.041960439706895065,
          0.045676635830154196,
          0.17376047864612976,
          0.04452508235289806,
          0.05445732090657142,
          0.09741975210793714,
          0.07987189885546199,
          0.04549148512573741,
          0.1974711158216563,
          0.135333690904602,
          0.06172984394621055,
          0.05717727286899582,
          0.059112504258026215,
          0.04697431317652501,
          0.062438679820455555,
          0.055990945578673255,
          0.06433883542873664,
          0.04811500872211686,
          0.045406868413448744,
          0.07296359588534787,
          0.22968569199924083,
          0.06384568944485546,
          0.06034747001045655,
          0.04234221054134642,
          0.048790005687632775,
          0.04543278294716929,
          0.06986472900886151,
          0.11315146074805263,
          0.050785197528446305,
          0.04891274068052795,
          0.047390311624770726,
          0.05611114651147252,
          0.21517155394851734,
          0.05587717627282089,
          0.08697396300392882,
          0.04559273375118554,
          0.05465200428969974,
          0.12837185491311026,
          0.048647318068723834,
          0.046574920619826356,
          0.05440458994059315,
          0.06382493315284683,
          0.04702437597500215,
          0.07444086523591238,
          0.04636833949018028,
          0.047809703699584455,
          0.049963618506161725,
          0.043727993535978754,
          0.1331291549646973,
          0.055394007079070315,
          0.17606278348931703,
          0.04582554053097215,
          0.04643274165418055,
          0.1573842502874092,
          0.10637788430653643,
          0.04010124430249255,
          0.12577247875339903,
          0.13864507611569715,
          0.055878026956032785,
          0.050242539889391695,
          0.19058169688983134,
          0.06927721683066272,
          0.09725039033495814,
          0.05039249776079486,
          0.05236636051175114,
          0.08643419133762882,
          0.03939743396292697,
          0.20189629194929698,
          0.055427599764172886,
          0.046844792283982986,
          0.042349585354363485,
          0.040791577126056994,
          0.059650279366038214,
          0.021419943309060253,
          0.18058636064191314,
          0.05756062163139377,
          0.1490149419681041,
          0.07413713252420433,
          0.044187742602260785,
          0.14449519774766778,
          0.052979409628263155,
          0.05108044029565398,
          0.04979417147867759,
          0.06051805077458223,
          0.04485741997431173,
          0.11207417833730052,
          0.04941791589395896,
          0.05742769231395228,
          0.11890499199800325,
          0.07639895453507514,
          0.10279748108226902,
          0.1574920425098463,
          0.049964918642731754,
          0.0497210775146946,
          0.04634772596938536,
          0.04379792159537816,
          0.048012689114633175,
          0.06086627647891448,
          0.03956170805396755,
          0.041265291252282364,
          0.07067608228591987,
          0.06275876154156555,
          0.06579440115438541,
          0.051251330635320703,
          0.028772679485021282,
          0.13378134859477805,
          0.16551660883741412,
          0.04341750035675506,
          0.11297325170245884,
          0.06768913548156553,
          0.19205931874301757,
          0.05407126436231906,
          0.03727756301136277,
          0.1576623732222697,
          0.0469392089591171,
          0.04444916292795481,
          0.02769655483413317,
          0.04032415414464419,
          0.3891323103691814,
          0.05868918000562556,
          0.13603097424118749,
          0.21733912223417673,
          0.04858884589324175,
          0.0453851498454009,
          0.058283299090017136,
          0.16610084927036511,
          0.04913859725333399,
          0.04234367975993939,
          0.06066426170374772,
          0.05354612711090913,
          0.05068529751822497,
          0.1388736713317429,
          0.08469296278658334,
          0.06430518352692935,
          0.05384030793723549,
          0.047286410809012566,
          0.06275409365177728,
          0.039574867377031184,
          0.046325719921017444,
          0.0635049396416589,
          0.0359058441462667,
          0.04362622213704415,
          0.0833232019158341,
          0.11452294283302314,
          0.04025459251110059,
          0.04612855963084986,
          0.05977971022731729,
          0.0447911716104595,
          0.19700854154411618,
          0.04880758175466594,
          0.045440736498053746,
          0.051345991723426715,
          0.18764549642020423,
          0.06086258217162495,
          0.04402971099998958,
          0.0573439262075027,
          0.05383920790057156,
          0.0597607395350168,
          0.05287088491222927,
          0.057211354995975225,
          0.034449425503557285,
          0.06294919739928395,
          0.053779605645581305,
          0.04208625946484548,
          0.04916898062025334,
          0.05053731830687624,
          0.18119223498066056,
          0.055131571087917934,
          0.048292669920727796,
          0.04443172396582309,
          0.09678355802821713,
          0.05474067150705916,
          0.049129900842136996,
          0.04368276005015725,
          0.04543106798765033,
          0.06136432866779318,
          0.0707167138586043,
          0.06129526248190237,
          0.051645053093034146,
          0.05117925256006798,
          0.0947140740511883,
          0.05579402678895004,
          0.04677569435840997,
          0.045387419367296275,
          0.0564101572663965,
          0.07755606670408784,
          0.13449084704157216,
          0.05128827301789352,
          0.05835480955885898,
          0.058310646437953265,
          0.07665964099504924,
          0.05479995212102538,
          0.05473013423909594,
          0.04132255215685558,
          0.04776375289533644,
          0.052684950287576436,
          0.05286865559535321,
          0.047828706345767476,
          0.04865481487708864,
          0.08474178726572745,
          0.04301301315714541,
          0.04733874208682158,
          0.18297824814623925,
          0.06400659161691348,
          0.17166082601928295,
          0.06888415841245389,
          0.0450550237157262,
          0.21286818008731506,
          0.05150050159690855,
          0.028483542619147116,
          0.21027138962123448,
          0.4567919636651437,
          0.11478571189834072,
          0.044788967515593844,
          0.04715938849595904,
          0.04586382656442201,
          0.1117804598856793,
          0.11064027414466576,
          0.2109714712325439,
          0.07741945713711652,
          0.2309556772566557,
          0.17013843197923625,
          0.05595490951831637,
          0.044804102307120605,
          0.052946791020809125,
          0.18974185229776208,
          0.2757071399828501,
          0.04793666577791733,
          0.05225818106910593,
          0.054501217533146296,
          0.051951652893305694,
          0.18765585557461573,
          0.05611062740240222,
          0.04766159452557034,
          0.060739283834074634,
          0.0690550815474193,
          0.030786594280569776,
          0.046327859878279344,
          0.046769152969871414,
          0.0675434598054805,
          0.0518369703811457,
          0.055474906508460625,
          0.10604683777020633,
          0.05201976984946584,
          0.057588201862693894,
          0.19956071719648216,
          0.04570581414029045,
          0.052474313192948235,
          0.060482368902056174,
          0.0748843696314949,
          0.05665252182451945,
          0.04893561986295695,
          0.043229514263840564,
          0.04133616862001642,
          0.09181590940210536,
          0.06393134969007289,
          0.05893150828448264,
          0.06588076703757083,
          0.10744965357326058,
          0.06022744126855506,
          0.05254866645721627,
          0.032615795005743034,
          0.0494385920671357,
          0.047506832673667586,
          0.07495690094091963,
          0.046009210468260495,
          0.08246746574837752,
          0.06989629787244743,
          0.17404191184141682,
          0.14958385885476638,
          0.049683771066127196,
          0.10105089132079725,
          0.06018848480335537,
          0.05604742652787226,
          0.05659032586181157,
          0.023572655846270836,
          0.05250449358604989,
          0.05482067888703263,
          0.06876383756529955,
          0.05719644953022336,
          0.07606017379864262,
          0.046603091800349015,
          0.0668958690184551,
          0.07401553993368032,
          0.051659067607947,
          0.06342084793959649,
          0.06278388246978779,
          0.043747649161349635,
          0.1697502061046095,
          0.21548719360074806,
          0.04333170652397264,
          0.18580469876094818,
          0.19019154837670646,
          0.04690934425626104,
          0.044715238580333425,
          0.29741627896975725,
          0.046215150962023055,
          0.05531473959492054,
          0.04674301231899292,
          0.06516544753179879,
          0.1024030140029987,
          0.07126220861114517,
          0.036998825287604085,
          0.05228412950917211,
          0.06361587044368756,
          0.04646233013389037,
          0.18729811003696287,
          0.07264960064749648,
          0.04389391437093148,
          0.04727372770326356,
          0.04678956561434981,
          0.06431371552774244,
          0.03986278689361943,
          0.05354205381399331,
          0.04489681780322425,
          0.04437484596079557,
          0.04870650076474549,
          0.04272040199876949,
          0.11754752908207425,
          0.26073825254196425,
          0.033999292236973434,
          0.056323845968607955,
          0.0405322952640732,
          0.05783914810749442,
          0.1344022491809411,
          0.05590466988883446,
          0.0793223564659033,
          0.0513091393758288,
          0.06909622792953561,
          0.10789108101132262,
          0.30128335405010365,
          0.042541490992079045,
          0.06227994676213826,
          0.04970795938507944,
          0.055678780221148735,
          0.05610707304682478,
          0.04570273062770805,
          0.04490312158107858,
          0.07057706630100716,
          0.1583551289875179,
          0.18166061586270477,
          0.0785032461564209,
          0.035649063203091046,
          0.056868283618441276,
          0.03439068338618356,
          0.18987795165806762,
          0.040533905482164116,
          0.06559465990919575,
          0.04872488043462129,
          0.043328882215579095,
          0.0520677144405477,
          0.047246221914015944,
          0.03170537014554587,
          0.30373444397652344,
          0.18277642038676412,
          0.1262579024132711,
          0.057903734805604457,
          0.06269433552686898,
          0.21837913331462372,
          0.04359903514071243,
          0.06612759803945235,
          0.04960553397750432,
          0.05563383585015248,
          0.0688009853564992,
          0.056046611689947345,
          0.07148362433309206,
          0.059154006929908715,
          0.16988715714910152,
          0.04952972523433222,
          0.19441059660213167,
          0.04909619313076681,
          0.0641418292074689,
          0.0641126142829318,
          0.06093424126509977,
          0.028714438880120194,
          0.12863856265289425,
          0.06320246186448235,
          0.04657839039419111,
          0.04410319957919672,
          0.12991614563159848,
          0.10182218338779178,
          0.04559121371476461,
          0.05728932965736784,
          0.047577840459246505,
          0.0939873904696313,
          0.05501652222938428,
          0.053969687728500346,
          0.06554116368595204,
          0.1652833392861644,
          0.05646743642022195,
          0.05628969669844353,
          0.047402885099769164,
          0.05702211340605777,
          0.06870499664190377,
          0.050671302622295106,
          0.04307345619164197,
          0.05643482281838801,
          0.06957417705972081,
          0.060828926787566615,
          0.05556208646288496,
          0.13580047805933668,
          0.17655290915839283,
          0.07069859802643513,
          0.05057790811797133,
          0.11556860975272099,
          0.035330696839590954,
          0.04801012985700429,
          0.046459633287944016,
          0.04510282043816688,
          0.07816343230875049,
          0.05204246273908357,
          0.1943685135535776,
          0.11064858410945753,
          0.3190385992832955,
          0.12592557925743186,
          0.10527571883870504,
          0.0435630379734403,
          0.23210092426701315,
          0.08320605635513945,
          0.1820597833694242,
          0.047422205688101786,
          0.04678552165493713,
          0.1416369964257901,
          0.04538559117921208,
          0.13521484769092088,
          0.054135847134096554,
          0.03828911891987255,
          0.05028635755337472,
          0.09167336788653224,
          0.10918449034636538,
          0.06449786606768743,
          0.0439693017014014,
          0.08144715409113512,
          0.06868124753370988,
          0.044907097136334485,
          0.0563657887255921,
          0.044849750438847175,
          0.04316192642710804,
          0.04668446056792723,
          0.16334077322456686,
          0.04823993305919873,
          0.043322180848093014,
          0.04405668043619448,
          0.06159531497377735,
          0.05712079478826104,
          0.06639248691976751,
          0.0454381005468581,
          0.05420778944124337,
          0.04696751950100984,
          0.033848297261409914,
          0.04633074655341785,
          0.060667510273112714,
          0.05347938435358879,
          0.04845833599532946,
          0.04346614313326779,
          0.04844189150244577,
          0.13338402745158012,
          0.0581622907960063,
          0.06629516759088906,
          0.0462830485345366,
          0.0479176215024434,
          0.05229025944261524,
          0.0344736977997911,
          0.33325251269043804,
          0.04175267085002822,
          0.07254054244235845,
          0.05034419378188836,
          0.041213532280477666,
          0.15990864890381723,
          0.027471612867508766,
          0.24076234783533582,
          0.06096676159220004,
          0.04746855343779654,
          0.03488332543039026,
          0.060460904466371715,
          0.055581004812491425,
          0.047139066011034216,
          0.1635726255466165,
          0.06773864161483768,
          0.04782116802971414,
          0.16663158849430554,
          0.04440129683955713,
          0.061437477863514535,
          0.07111136980310279,
          0.04986788742907635,
          0.02810400096494979,
          0.17204041764579803,
          0.039650894433572226,
          0.06449430624181296,
          0.11053352241610306,
          0.1791893915423302,
          0.04728861715302346,
          0.09450790568849031,
          0.046817514468929,
          0.045850234473009684,
          0.06136384790844994,
          0.23469099514549707,
          0.0516265539195519,
          0.04942161915312066,
          0.07694100599543505,
          0.0883120671261637,
          0.04576067729915569,
          0.055650739826121905,
          0.0635616107560057,
          0.053965536720571645,
          0.15999330772291298,
          0.18164420278908527,
          0.09565200050821657,
          0.04732398644694052,
          0.11019006350482076,
          0.04519706678881013,
          0.06069742425209726,
          0.0560709293916333,
          0.08006693941072208,
          0.189128455446546,
          0.06166314571827236,
          0.15535332011920816,
          0.04472633137967583,
          0.03354673132690273,
          0.04483983028942018,
          0.04384311051063556,
          0.05596917839523605,
          0.3525107930796666,
          0.055720320078150906,
          0.0709922307480815,
          0.07330419345420978,
          0.04474201278697454,
          0.06662276786163923,
          0.0889017549069899,
          0.05780571014690433,
          0.06432494254174853,
          0.05698561142084717,
          0.04728224488384384,
          0.036472783234766236,
          0.056839812047038446,
          0.04530042216411652,
          0.06562203327447699,
          0.061792015313665766,
          0.06335418599715215,
          0.08456858042308972,
          0.18056517457676113,
          0.03744605315188306,
          0.055191754511846665,
          0.06531204594193196,
          0.058070793958953704,
          0.05060287055846452,
          0.05948523393605033,
          0.17767842683004678,
          0.048239216723121994,
          0.18119712597706572,
          0.22443610421892532,
          0.2863760100672532,
          0.0487717119778732,
          0.14449149713459342,
          0.04768281769029499,
          0.049041354475596,
          0.07529097195807365,
          0.059287380987803076,
          0.09614799842374692,
          0.45637321430053307,
          0.05476204421322158,
          0.055963541660079746,
          0.038668504195408585,
          0.17515924269290797,
          0.04269129361944621,
          0.042628583304023984,
          0.058535314897625486,
          0.0511976763362621,
          0.049487798919016,
          0.06714054425537114,
          0.041584936862417494,
          0.060493836536860524,
          0.17587947016450084,
          0.04000144819368696,
          0.052490995058937055,
          0.17783865165081258,
          0.046499039199255285,
          0.19345461487150128,
          0.05425701428548732,
          0.05104030816565231,
          0.05578560669698478,
          0.044951795179989484,
          0.053156335026447246,
          0.03943670160828842,
          0.19796648757344149,
          0.04584234178309511,
          0.1600456516342708,
          0.13761947518201778,
          0.0707593156957044,
          0.04577833676731506,
          0.05597245110671309,
          0.06383874946484783,
          0.023065147476256515,
          0.09246580494290271,
          0.05070069727326289,
          0.04474450410443269,
          0.060292944515673824,
          0.055305115055208284,
          0.16637580370012214,
          0.07506827657290666,
          0.04610624986491855,
          0.10823708432213472,
          0.17783112313630042,
          0.054824036624005444,
          0.05693695742558957,
          0.05411121839564042,
          0.05633791029474415,
          0.05294885811382333,
          0.059722525627535696,
          0.1515455743648995,
          0.06616511181661318,
          0.28499122204521443,
          0.14733073490143173,
          0.05786387824715776,
          0.05572411943404719,
          0.05919316482468402,
          0.05682532764403968,
          0.056556876787843845,
          0.10405709473936398,
          0.08173193322863008,
          0.03379695369865247,
          0.047233993925476774,
          0.0575035261617456,
          0.0716720522273522,
          0.16635326399663503,
          0.05470764579831956,
          0.033718521093550224,
          0.10067275263268827,
          0.06130083745480967,
          0.12794499727349173,
          0.17527665654229013,
          0.15732501101398788,
          0.18187454815884802,
          0.055596034027553684,
          0.050300571440071835,
          0.05400398858556729,
          0.04858270700750102,
          0.15479406621165626,
          0.037490890750261074,
          0.16570117036123427,
          0.08728643708881122,
          0.16490304337464698,
          0.06946753125199855,
          0.0628285947491122,
          0.17620415551281232,
          0.05830127973932621,
          0.09101434644412229,
          0.09418806453816475,
          0.5120794803138379,
          0.06630899392481829,
          0.04931932098319172,
          0.04219113609997622,
          0.05397126941764019,
          0.20488006566321865,
          0.060535146618182614,
          0.05060552086157117,
          0.04238857613552682,
          0.10634408745470378,
          0.04015807480994559,
          0.05872802557812082,
          0.04864492544625352,
          0.17830243460152165,
          0.04368464754670869,
          0.05338094578115799,
          0.058411002822802004,
          0.14776878503265908,
          0.055467462108096416,
          0.20122764759126685,
          0.04014029117075811,
          0.05472021067603394,
          0.08720632372286766,
          0.0632334673937466,
          0.05104146152170175,
          0.1848041550901705,
          0.17786864953585368,
          0.06195121297316966,
          0.06467884735276372,
          0.2858033581753724,
          0.06176479600560221,
          0.060779239222724706,
          0.06631711659579348,
          0.22816517719179608,
          0.08377929044766828,
          0.044395195650323294,
          0.18806316010926122,
          0.06852094139211662,
          0.06147354138997396,
          0.09061206669625668,
          0.06936578776266945,
          0.045441157725364466,
          0.05342372364340262,
          0.08572840880719154,
          0.04936010540699602,
          0.058407325189188786,
          0.04266896286702311,
          0.09614448457092084,
          0.08506059089932938,
          0.05187371491171738,
          0.06428077170898733,
          0.3925043136568648,
          0.04117285100902438,
          0.20124866542306227,
          0.0723201502916469,
          0.055679083438101726,
          0.08451997118332658,
          0.04574937594146203,
          0.06294767303254731,
          0.03744923941552063,
          0.05792392522136648,
          0.048396785102959375,
          0.07816178979388758,
          0.06717665582858597,
          0.18490929735857842,
          0.04616462516608118,
          0.052940707185232354,
          0.05618018509963248,
          0.05109354256507061,
          0.0716417969416157,
          0.044746384414252285,
          0.09573040639072425,
          0.07126974472040229,
          0.12925342221782815,
          0.10415007624603348,
          0.0497230529068488,
          0.050296041717151754,
          0.08251912268890113,
          0.04864492544625352,
          0.04562835101775518,
          0.051602881143077754,
          0.05177239230718059,
          0.044724209138465004,
          0.04111180611445187,
          0.0693329489507627,
          0.037641760013138216,
          0.16981827749233525,
          0.21285612315888153,
          0.08826103226859763,
          0.05499855219786034,
          0.06672774645341444,
          0.051195908942772254,
          0.08054642016542204,
          0.055967971020675585,
          0.047474166495473924,
          0.08943790294321516,
          0.16587290266016932,
          0.06355921203641551,
          0.2002509123203467,
          0.038651719830679554,
          0.04390547354073606,
          0.05111111857220706,
          0.03748534649613748,
          0.06026721601062539,
          0.07228573676603701,
          0.04881107704055713,
          0.18318862409690534,
          0.04629661421615391,
          0.04528387122397229,
          0.10097158593903313,
          0.04798002609684766,
          0.09479175392078197,
          0.04878898441485893,
          0.059689754215906665,
          0.18593031747469682,
          0.058263708576666004,
          0.03954725759585978,
          0.05848321670909314,
          0.06349740101154554,
          0.052532757883689184,
          0.05146864226999578,
          0.05345724167279768,
          0.049662697872329825,
          0.0703528340543626,
          0.048073658351977695,
          0.05928697857965785,
          0.07673015781610734,
          0.06329564773264867,
          0.061131121309298514,
          0.04560466870392287,
          0.04696616459113263,
          0.05131808968329703,
          0.06058281341499398,
          0.10978378787379038,
          0.0568100853695752,
          0.07597023986714757,
          0.06038649305467597,
          0.05396547940259299,
          0.05612893963820965,
          0.04550471568052997,
          0.0908883481011958,
          0.029352291753607138,
          0.053833228257951254,
          0.05636049628156134,
          0.0568645014861199,
          0.06384093229927316,
          0.056453279487937484,
          0.10348020152505841,
          0.16093483848743428,
          0.15811264218618115,
          0.18578986296203762,
          0.04255739695357574,
          0.05471026081405485,
          0.04582877019022791,
          0.15751092106579395,
          0.056244562909752285,
          0.05257952842760475,
          0.03199637083338604,
          0.08050427323830026,
          0.07923830052767965,
          0.09616492311321809,
          0.05294452547689815,
          0.048464884911922676,
          0.05917425182013577,
          0.07144796668030201,
          0.047070641937481075,
          0.06188932356776776,
          0.07975162998732681,
          0.050492111767609184,
          0.04911482605504757,
          0.06209114232249845,
          0.08330574578465912,
          0.047244033201166775,
          0.22716921667458065,
          0.06355238313719117,
          0.04696649609657388,
          0.04652976566350562,
          0.11098213375674806,
          0.04536881632220679,
          0.2996170892177955,
          0.04807084717854504,
          0.10012325979515434,
          0.04400486406637034,
          0.024025368186842415,
          0.0599458609234169,
          0.045390737114476366,
          0.04299719945604693,
          0.04501401733170355,
          0.032566857267372934,
          0.04555345277463561,
          0.05967344031222559,
          0.03994308902508445,
          0.030145235247870633,
          0.0712162176908546,
          0.05746526648930761,
          0.04804938613595394,
          0.043775786778683316,
          0.04439470929849607,
          0.04602039222018181,
          0.04924559303333671,
          0.03504059541859217,
          0.16278779536123344,
          0.04068550619298583,
          0.08200080580619137,
          0.16616622862480193,
          0.08764450139346253,
          0.04803605174776955,
          0.04355355058533037,
          0.06472239149487141,
          0.041224380462026894,
          0.04551661543491223,
          0.06336877587773705,
          0.044528148947139225,
          0.13484312230415305,
          0.07096046665686337,
          0.045670482371621565,
          0.05969116317001752,
          0.06382312594019704,
          0.04542452011047604,
          0.04463588533135068,
          0.052885464041186686,
          0.06147211956159679,
          0.04496148955295184,
          0.09361811980475443,
          0.05170120968157715,
          0.06088364078742523,
          0.047925270110089756,
          0.055977200207765275,
          0.0891407810779269,
          0.04459730920727552,
          0.051364402118903876,
          0.04528262904268412,
          0.044719611501670885,
          0.04316742426829674,
          0.046593879995903975,
          0.0570494109035746,
          0.04385526371948558,
          0.05680938237095687,
          0.0549269506736811,
          0.0741861403441208,
          0.04334260560636515,
          0.050064695075205196,
          0.04042530078186406,
          0.197698093102721,
          0.05630661457731509,
          0.2118223015686068,
          0.05351578686681815,
          0.05683601765928242,
          0.15315558251457273,
          0.06027277513567809,
          0.07278892706712656,
          0.041134944694028654,
          0.04218450741173024,
          0.043844993821914514,
          0.04592219268525837,
          0.07235294348778608,
          0.08747004986017794,
          0.06689311042821496,
          0.07571953095820382,
          0.27552196837339754,
          0.03513227077548307,
          0.0469056872740101,
          0.14110711585768007,
          0.0462604049430283,
          0.04535198894253161,
          0.07384675045272063,
          0.048264707145015066,
          0.041281421749121215,
          0.05534703100420743,
          0.07091353690340238,
          0.04744867323105453,
          0.1080952985701771,
          0.04285410688282923,
          0.04560463917598067,
          0.06939380935167072,
          0.04333175868172517,
          0.06199794424760299,
          0.05266839447224804,
          0.05634369533883318,
          0.266118173754338,
          0.04502829249685232,
          0.11366448047047596,
          0.04808971718357016,
          0.05316124128545472,
          0.04668309010196872,
          0.05407472807184422,
          0.11049567358487669,
          0.04505909793344936,
          0.07516760081850363,
          0.05223342610593644,
          0.05702212638425442,
          0.053657944445584145,
          0.04181693680161414,
          0.056966424665261306,
          0.29424068973458717,
          0.042857523385086915,
          0.026933812983309185,
          0.0550386831614882,
          0.043104732540380504,
          0.060889538966580684,
          0.22010656965101058,
          0.1388335833147568,
          0.047094991958133034,
          0.04086814447470797,
          0.07936527843830145,
          0.06817691978030928,
          0.05296990731347459,
          0.05720539478001023,
          0.05679980612518498,
          0.44166192333919824,
          0.04539052160717989,
          0.07986923830045697,
          0.15263334306925508,
          0.20926870887305724,
          0.15551709305532008,
          0.06080360883793928,
          0.04808577477081218,
          0.055446243168403686,
          0.044275314090619126,
          0.0480554934444843,
          0.17143526804726678,
          0.09040317900655559,
          0.06364385127699548,
          0.05725952122975644,
          0.25088746085441105,
          0.21129773435154986,
          0.049171023221743,
          0.028643137341454933,
          0.04402840095805149,
          0.26683893403904374,
          0.042264327786528354,
          0.043629526698876236,
          0.049387136140311746,
          0.07217646836824011,
          0.06544053726542433,
          0.045749778990191246,
          0.08568618911508694,
          0.041216520381887056,
          0.06177090342687367,
          0.3036473628636359,
          0.052229021206320364,
          0.06290360476659629,
          0.07987958297079288,
          0.05764185142283264,
          0.05454157460411274,
          0.041685330871010916,
          0.07186808775875482,
          0.053390333972617623,
          0.10177697916429616,
          0.1288425032129711,
          0.048540207740007266,
          0.0494392915973191,
          0.21170372041957347,
          0.08547757230535483,
          0.08673019455918422,
          0.04542104703507941,
          0.05594561703624781,
          0.04887002465253123,
          0.11144813639186027,
          0.08304463276589227,
          0.06873846684999389,
          0.05473538949746913,
          0.023476354590713587,
          0.045595077648248855,
          0.04473860188942158,
          0.11405431658929546,
          0.02746849853726195,
          0.06755679438184659,
          0.03722153248836448,
          0.09784690966559505,
          0.13404400668802458,
          0.19606513546588794,
          0.04512805315281452,
          0.042515097802105155,
          0.0634871114754347,
          0.16075646947891337,
          0.04854422039544216,
          0.06504601348132989,
          0.05492618122668039,
          0.18495920676116112,
          0.04836318150234839,
          0.062487696949949836,
          0.3022120287968627,
          0.09277886630220492,
          0.04901785426201915,
          0.05933535819122554,
          0.06517002633525332,
          0.1888089848230693,
          0.04996536987360435,
          0.2150337340113696,
          0.06432705020747992,
          0.04632860258739465,
          0.05382829367149968,
          0.07509828348330189,
          0.08950527834241646,
          0.057300373602636054,
          0.16562879676614045,
          0.04594076968950605,
          0.10607387086886738,
          0.04631998042200593,
          0.07281231994128307,
          0.05681195606850327,
          0.05965622047079841,
          0.043055628317584325,
          0.21845951265648988,
          0.10780849479952734,
          0.0434306151246249,
          0.05951068126980475,
          0.04124421098546965,
          0.16224823482277356,
          0.05968786060346416,
          0.050778626728718974,
          0.06286831697369036,
          0.029179825853902247,
          0.05138636212424077,
          0.04234349514862701,
          0.04584372700533903,
          0.06358527698020751,
          0.08258963283947503,
          0.05286683014817452,
          0.04849744674847613,
          0.04298244653516344,
          0.03599796685864397,
          0.05092381732605008,
          0.0289865078871566,
          0.0739103198254939,
          0.06424415597403102,
          0.03622586840534013,
          0.10935338653261822,
          0.04957847488501823,
          0.047233512610867084,
          0.04830745527592851,
          0.07113320424616493,
          0.2034872164809343,
          0.04860091748331229,
          0.04532391410770662,
          0.04519365238565636,
          0.028586409437345126,
          0.05805089306052564,
          0.15763707202140037,
          0.07183351221319867,
          0.042715779765701796,
          0.07372962932324112,
          0.04165083554458946,
          0.053405033190427734,
          0.042647277874337385,
          0.07221575061215256,
          0.30244424127820035,
          0.09686946281987645,
          0.0455077246721466,
          0.0635962264794844,
          0.2056873265101501,
          0.04887051819929062,
          0.04641555070515283,
          0.06023817792993134,
          0.055132867791700096,
          0.04278388743311576,
          0.04634565302831121,
          0.04250750310585077,
          0.05100380004133343,
          0.09880941210937873,
          0.05721427340630911,
          0.0802505191652452,
          0.060794793046309754,
          0.15847027616773976,
          0.04651239966269826,
          0.19173859593303533,
          0.18493385741338392,
          0.11119288872144226,
          0.04494356723394805,
          0.0468011859287881,
          0.05152796768660429,
          0.06835017757746792,
          0.03976418647546697,
          0.16898335130570313,
          0.06496445043149701,
          0.13265112544819846,
          0.09550506359794057,
          0.04112627641261961,
          0.050870727287711706,
          0.05408182317145971,
          0.09494978670005462,
          0.07160107006151743,
          0.0449334329900528,
          0.07897421138387932,
          0.04729357760671662,
          0.06305822982559475,
          0.04681531636857213,
          0.0692883712598196,
          0.07878526299643729,
          0.02678967767344448,
          0.034776716191777836,
          0.059175592977430296,
          0.04217323412382092,
          0.04428977960467726,
          0.04852673924274083,
          0.0981512675094129,
          0.25014287332120216,
          0.07013439021032923,
          0.05714577090485259,
          0.17205991314471739,
          0.1392259937892084,
          0.182091973138046,
          0.052484752929535465,
          0.14920490862957525,
          0.04636498850056031,
          0.2707158663220878,
          0.05158565737729107,
          0.18063038562446385,
          0.04933857251039732,
          0.04459277286201381,
          0.04729411961565058,
          0.16079940549315783,
          0.04406246165849118,
          0.20882877991663865,
          0.06176314885137178,
          0.05384581757857029,
          0.04526313780105824,
          0.04837923345144637,
          0.04897734685361441,
          0.17752173348106975,
          0.046768732496716175,
          0.048499303303048545,
          0.0589652293402506,
          0.05890750517116427,
          0.0511289014091736,
          0.09803852187069925,
          0.1027961551859189,
          0.13065056361005473,
          0.04263386737877339,
          0.04751245184375847,
          0.05400868276326203,
          0.04680199992882163,
          0.05791088963403931,
          0.06061772380008246,
          0.046917376354885375,
          0.05080375137568326,
          0.04736364314486833,
          0.04642529810694824,
          0.05096800520998309,
          0.05379000727225018,
          0.07307575678319773,
          0.05667069680550021,
          0.13022777566644195,
          0.04584255566578739,
          0.07603853572701322,
          0.057477412877955936,
          0.04845856762724378,
          0.06569225206216857,
          0.07690395242535482,
          0.0650469644627977,
          0.29234036215712045,
          0.21230487360791456,
          0.048496760238109,
          0.07300512394192184,
          0.04860752011804021,
          0.07205838195263836,
          0.03699851971252434,
          0.027379871000549,
          0.03252627638853694,
          0.04380238555263351,
          0.05990059602478967,
          0.0484081258974404,
          0.06610665292822224,
          0.05464944505976233,
          0.03812303184296516,
          0.10455098287731339,
          0.28970284813786734,
          0.054806087481352975,
          0.16245110796709733,
          0.14919722822723785,
          0.05113207103293985,
          0.050790719603304,
          0.1598073576473458,
          0.09473379183430136,
          0.05772183918591892,
          0.04616180977735484,
          0.04168719610708249,
          0.04338823566429636,
          0.037198825225354115,
          0.18464576260541804,
          0.06238271010684811,
          0.04427021989319144,
          0.040007464643583825,
          0.037149512180711594,
          0.048484664762693745,
          0.05896923644205548,
          0.049042626221721314,
          0.049736895608237214,
          0.04940601698767484,
          0.04553710755792512,
          0.051073329225560724,
          0.06634272517713924,
          0.3217711312202353,
          0.04992093712330728,
          0.07695781870892163,
          0.06441852970862695,
          0.07111784272512572,
          0.12092828296008229,
          0.04738916444845754,
          0.20741292383449894,
          0.04196711597434109,
          0.18384011970950048,
          0.07919178786614017,
          0.04246928143220798,
          0.04617791082783942,
          0.048124338676095155,
          0.06290537368617488,
          0.07741665423912515,
          0.05746278100502772,
          0.04471811223112037,
          0.05634506206714025,
          0.05040548161241125,
          0.35481443165151966,
          0.039753402449654016,
          0.18825199579955848,
          0.05247710752684405,
          0.06607354410673276,
          0.08728489954463198,
          0.08974295712728493,
          0.04324014344611782,
          0.025518782588578058,
          0.043983575999009254,
          0.04551021514663817,
          0.20076295718571693,
          0.044813378434752735,
          0.0675434598054805,
          0.2175338266701473,
          0.06293974126766541,
          0.08483261533019677,
          0.05194295750638063,
          0.07074284818973864,
          0.04436225419048032,
          0.18920892933366967,
          0.04478096083210163,
          0.12640462834531735,
          0.046919903399846655,
          0.03571288169625772,
          0.05475948325170918,
          0.04384311051063556,
          0.042463176584340935,
          0.039254881501397845,
          0.07285388434750399,
          0.0571342247873721,
          0.09114522376952232,
          0.09569541631940266,
          0.13094697221393298,
          0.14847062462038618,
          0.052067461376017234,
          0.04999657204222267,
          0.07108129883759966,
          0.061248373753500035,
          0.0491133172089476,
          0.05359840671365969,
          0.04698493242939157,
          0.18556744606192271,
          0.04573664557783596,
          0.053049915177782764,
          0.21545974424960604,
          0.045810697092993395,
          0.09444899980838856,
          0.1073465969441697,
          0.04446951256196045,
          0.07712945452610108,
          0.03822739075618139,
          0.05415675866817603,
          0.056616584275322054,
          0.04744527752915233,
          0.054641886955719796,
          0.07499145097690808,
          0.06332637095409685,
          0.04933652266428646,
          0.049182956977967554,
          0.050277852570676594,
          0.061782572952956916,
          0.044772228776661566,
          0.1622496339151721,
          0.046075222882860235,
          0.048865403678875645,
          0.031480746234948884,
          0.1824101435079702,
          0.09751837051691206,
          0.047968414573981426,
          0.07551099554431095,
          0.05384290282831508,
          0.05855545762513926,
          0.05166437797291699,
          0.045642076717486026,
          0.05293928211956849,
          0.3585719082202504,
          0.052795117071860756,
          0.2981753992799502,
          0.07951290361237995,
          0.050293314610255255,
          0.05488045913199041,
          0.0576656153377536,
          0.048214676183035314,
          0.04789554760109838,
          0.044094450375513426,
          0.10745176330531139,
          0.05513498304348119,
          0.051269303824366355,
          0.06576589244300445,
          0.05964213011746483,
          0.05535971284676841,
          0.05027129878643778,
          0.05449597266677532,
          0.17497912996565262,
          0.19138112855032818,
          0.1125886803454093,
          0.153107032245394,
          0.041126431705107484,
          0.042815088165534684,
          0.07980124982799597,
          0.04713520530829382,
          0.052190248315440085,
          0.02605086922973812,
          0.0749077132389939,
          0.057288143814471865,
          0.05813040042185025,
          0.05078408564997979,
          0.23020435105006332,
          0.19740614493052683,
          0.06060258450985682,
          0.07445454634378418,
          0.08172734249898964,
          0.047132620700352505,
          0.0499025263883566,
          0.05007152891498314,
          0.06322789279320945,
          0.09437764815800162,
          0.11265877547099588,
          0.0605553251607573,
          0.05275028400965365,
          0.09699634506605594,
          0.054844874117965826,
          0.042557591237362774,
          0.04075153549511229,
          0.09614448457092084,
          0.1857045758951093,
          0.044823004632980445,
          0.21171597141650042,
          0.04861622151708669,
          0.055760049419607764,
          0.04489345546772529,
          0.09941577103808022,
          0.05643141073644504,
          0.051294060208432704,
          0.06831125173709263,
          0.072701685674319,
          0.228018543163724,
          0.04803461659433182,
          0.09428299025447545,
          0.058017170955687536,
          0.16990887703087,
          0.19820369656101186,
          0.05075945940629178,
          0.11957500740339072,
          0.21293309650608394,
          0.060360651459220746,
          0.05529464653242641,
          0.05716380572654213,
          0.07542781371884177,
          0.054799874936191754,
          0.08501989675108466,
          0.05210190223269094,
          0.16687999901227524,
          0.04798623999146363,
          0.0625017877387618,
          0.07031650009027475,
          0.045978176954213835,
          0.06376762258124341,
          0.04124261977835989,
          0.058364653837242,
          0.1895696669328188,
          0.0578658389710373,
          0.05328688149142051,
          0.048576094941290865,
          0.04577527146125925,
          0.1070131530149104,
          0.047797136781345166,
          0.06295571456099926,
          0.11884051687436475,
          0.12552321608413963,
          0.05107103727677843,
          0.05216218096802701,
          0.061125064583766306,
          0.1857880412861216,
          0.048588783026158135,
          0.043230631958190484,
          0.6686600509095062,
          0.22954567987183394,
          0.11201731273373867,
          0.04475671387267758,
          0.05130382212410963,
          0.07657924414696728,
          0.05408462990738773,
          0.19342044151177912,
          0.043547179316658594,
          0.0503849237303912,
          0.0422006101680968,
          0.06649997496725497,
          0.13588740421793755,
          0.06527141956328861,
          0.059070005636765205,
          0.09428576480143713,
          0.020614188339712874,
          0.1878826987552361,
          0.04528792958533259,
          0.06565345869972432,
          0.1045295791268023,
          0.047780090841585965,
          0.09009865658724102,
          0.24932079497198,
          0.214777031658512,
          0.19130053122903723,
          0.10018961857703529,
          0.06870898127877006,
          0.08694832172317565,
          0.14186208333108585,
          0.06345086179012106,
          0.04986926166669755,
          0.0426829787431354,
          0.04501666560998462,
          0.06751567741911406,
          0.05748467409288033,
          0.052574931811707144,
          0.05664419712965036,
          0.050252359850020925,
          0.0470202712490795,
          0.04703470376207655,
          0.09881019715625541,
          0.05104297015107043,
          0.2061520924168519,
          0.05420608872742971,
          0.06838357586605145,
          0.08795002993355927,
          0.14811601436516164,
          0.04756732635964595,
          0.09138025866213385,
          0.04417256444373962,
          0.046654565892459934,
          0.04983497044282884,
          0.047579751570622456,
          0.053593788886911804,
          0.04342599332944586,
          0.17273114898895903,
          0.06598444537404358,
          0.12557000164076104,
          0.04539131840511273,
          0.02979271013677629,
          0.07580326898503197,
          0.061548547510010515,
          0.04152963738135511,
          0.05377688198312543,
          0.06539245826766184,
          0.045542163754537325,
          0.0687474185703916,
          0.053529382841843706,
          0.06114488735869293,
          0.30846463225212806,
          0.04868060608294119,
          0.04533518556523611,
          0.04657229087375025,
          0.04515564903796378,
          0.05444628356034843,
          0.19038082140277196,
          0.048179039026546,
          0.18935252069708786,
          0.051907243933174356,
          0.17864832174338788,
          0.04866906999868417,
          0.1615942851961899,
          0.06474996165679625,
          0.023412992715822048,
          0.1638759901102657,
          0.0993196526151641,
          0.04573050767657317,
          0.15831524146798298,
          0.0936863967202818,
          0.038413155618974446,
          0.17541564665886344,
          0.0503515343578337,
          0.04513406654290631,
          0.11008999032329092,
          0.043411595244529956,
          0.05676360308554072,
          0.09209702562256798,
          0.1638759901102657,
          0.0850520787209907,
          0.0511973247789594,
          0.07300629835109604,
          0.08056855602860603,
          0.04967071442271491,
          0.1585603771921636,
          0.04780130749794611,
          0.2470899419805632,
          0.04409724043897317,
          0.038105422479090156,
          0.2993807939850992,
          0.12428389605457393,
          0.05297970333884424,
          0.04538984913520056,
          0.04288254446994993,
          0.062090731638375064,
          0.03393038525619857,
          0.1112781755765734,
          0.1295242041771295,
          0.25924632601525055,
          0.06470367052182702,
          0.06362913971132708,
          0.04885481682004275,
          0.04536278190846697,
          0.09753106548571028,
          0.08915538298703761,
          0.051268627649099854,
          0.04914859486310852,
          0.08930878546559354,
          0.06533599133950242,
          0.04647416221078596,
          0.09660648665083836,
          0.0741986403908386,
          0.06259565904635223,
          0.0412172710832064,
          0.05858261397301498,
          0.04505531123916858,
          0.06364102353641096,
          0.05894340584861264,
          0.06219850965780914,
          0.04604525327690843,
          0.04422917176373448,
          0.044921450558559284,
          0.05806294371073815,
          0.2234075999884861,
          0.04832757075998856,
          0.0717127686326812,
          0.04123051498174557,
          0.08726336202345922,
          0.07404879424463705,
          0.04542670379962979,
          0.0453886636606618,
          0.053106623820934014,
          0.2295894718352364,
          0.05209988583490333,
          0.05978454881896755,
          0.36063702811746884,
          0.08205045188985947,
          0.041494438393637915,
          0.06347870123014095,
          0.0442359314727796,
          0.050881261475606704,
          0.04449513856284697,
          0.062490119437183154,
          0.15068346418041179,
          0.13802502836155783,
          0.04426727573052677,
          0.15815021671907256,
          0.09792868450125242,
          0.15860241582838164,
          0.17001675070710104,
          0.042689905462874767,
          0.06080542410801458,
          0.05138958754572611,
          0.044418785805810594,
          0.061949158015798214,
          0.047418969143722484,
          0.19112905150022164,
          0.042808119442704476,
          0.06467777734788226,
          0.07148579618929349,
          0.05993950871068056,
          0.039698594720775505,
          0.04842667291265895,
          0.045893135132560624,
          0.04904615678215739,
          0.06495226394109482,
          0.04439522636749798,
          0.04458481869804471,
          0.0659650425857192,
          0.051963517487266755,
          0.14550590536311672,
          0.04594854923573032,
          0.0436436363861993,
          0.11898242787198243,
          0.04684302559193439,
          0.04729873717138182,
          0.06954771224631842,
          0.044480715591434135,
          0.053748352580594336,
          0.04996093279231911,
          0.051227315261402714,
          0.05188267782892448,
          0.06082862117642768,
          0.07619523397298172,
          0.1473413779690759,
          0.04398855642607767,
          0.06507156584538851,
          0.14760451889620468,
          0.049453683770361495,
          0.1076907362658225,
          0.06607156018938855,
          0.07329084680291914,
          0.04252642695877955,
          0.05038993487610338,
          0.03343978797806996,
          0.057251051891601415,
          0.04995595086925407,
          0.08651876610721498,
          0.049623489384334134,
          0.07159617771044875,
          0.047956300049363944,
          0.05021379029659971,
          0.06038053103012672,
          0.20326722288035992,
          0.041622361050911355,
          0.06472699782380212,
          0.07354289215025749,
          0.0518722969664632,
          0.047988310984849576,
          0.07943537163557315,
          0.16033987906602137,
          0.048464968410093665,
          0.05729115195965743,
          0.15938867313879407,
          0.04781405589178186,
          0.040891134979432864,
          0.10823887211929875,
          0.030329915989268576,
          0.06684399786553058,
          0.052864058981940035,
          0.09052386117598372,
          0.12711944719372834,
          0.1371747716065363,
          0.05226472365651606,
          0.1252653776034202,
          0.052326488567579,
          0.05166455504302773,
          0.07754097449111434,
          0.1412860724187535,
          0.21841536406540246,
          0.0645045759103685,
          0.03688122802257911,
          0.04129485037104341,
          0.04616512019746617,
          0.036760361813941,
          0.12524819219201072,
          0.04771564575788453,
          0.06967164712378983,
          0.23838081696204763,
          0.1037303022996055,
          0.09427732110057133,
          0.06997032583000018,
          0.08389181553247008,
          0.04258796636573714,
          0.040591997153975025,
          0.09856982341955639,
          0.21333521193093286,
          0.12752510298397107,
          0.0726186944047506,
          0.5234227921391892,
          0.07885698905457457,
          0.04713437173406616,
          0.05022236138041731,
          0.11049602520191898,
          0.04851173063708584,
          0.03935693976260944,
          0.0540836456934889,
          0.04445402569673774,
          0.042980180130137706,
          0.06893304172842048,
          0.06406743664610426,
          0.05471562996520854,
          0.034403222236383,
          0.05725675366285244,
          0.04728510336438823,
          0.05067425343119013,
          0.18175448310168923,
          0.19855401180226628,
          0.0456202580901885,
          0.16346584846837364,
          0.09070742702710614,
          0.07268190671835166,
          0.10054224059816036,
          0.07743646515645415,
          0.050271681858775764,
          0.03933169450348169,
          0.05708501299851719,
          0.09586966402569327,
          0.06620638572593052,
          0.034638796721805865,
          0.06737748390647383,
          0.0635437769858649,
          0.0990857373036884,
          0.04413776095018098,
          0.17154061135480672,
          0.08449249938339119,
          0.05946031916525572,
          0.04555939315903932,
          0.04643264766044553,
          0.04597985725670803,
          0.06406939646538874,
          0.05642411644441196,
          0.04292466722201213,
          0.06615926425501704,
          0.0502016240211873,
          0.06382709910446638,
          0.045527823531198,
          0.05856005393909924,
          0.29586447932408355,
          0.04600607083354142,
          0.04082125550626146,
          0.05687461670124236,
          0.05784626436023496,
          0.05989857147363599,
          0.09960257467344168,
          0.07689956818611687,
          0.06436319445362984,
          0.05570721516495204,
          0.06319582518196033,
          0.06392588711844417,
          0.04319950245112978,
          0.16503349982685067,
          0.058332535875670784,
          0.2121739102437422,
          0.052326488567579,
          0.06488799595332692,
          0.04494935931925342,
          0.04680657680855904,
          0.04082180744424673,
          0.032730304608579425,
          0.04522024684590638,
          0.05012595436929368,
          0.18439261541972513,
          0.10974695769032625,
          0.05762010631159949,
          0.10668622158184243,
          0.07115139554748796,
          0.0726541117757741,
          0.04630681817966979,
          0.16975405035755678,
          0.05702213415064628,
          0.13065080285632372,
          0.2828609639896317,
          0.03398979806587849,
          0.1414903308282072,
          0.04402756019839392,
          0.04550162144991954,
          0.06993033101730094,
          0.10373507327025638,
          0.044939731603326726,
          0.334003322642095,
          0.09595819919035799,
          0.046113596452692404,
          0.060966377040106684,
          0.027447738494628608,
          0.16203181921845938,
          0.1340818182104914,
          0.3501936338288003,
          0.0754459130406921,
          0.04671928593221789,
          0.1858663378399571,
          0.04455251038112227,
          0.19616354967264293,
          0.04627627125015388,
          0.04296663198335001,
          0.09082899307243454,
          0.05137296379935919,
          0.041229556552254354,
          0.2258969162560413,
          0.0603586822978011,
          0.06043681328586384,
          0.04539069869989546,
          0.09752189221394586,
          0.08775368288717285,
          0.0613827246401933,
          0.06622298404207139,
          0.09529492484974592,
          0.05746281486423462,
          0.2549062940436289,
          0.054821714624362486,
          0.05235113000719557,
          0.0539464504577657,
          0.22608392042819156,
          0.07577018065388012,
          0.05256562089194774,
          0.04196964013188977,
          0.04668592731848988,
          0.05836734321899326,
          0.13327687297572427,
          0.05532523451380249,
          0.0722349946112583,
          0.06185060192513067,
          0.046473642145336315,
          0.042566864756660036,
          0.0589820082015048,
          0.28773007468147593,
          0.052020267260927816,
          0.08336369420471863,
          0.08336539254136566,
          0.0625255919522755,
          0.05018227689260084,
          0.050637017873893714,
          0.0568097988285966,
          0.02300048613297341,
          0.058537876771745906,
          0.09325915065772943,
          0.044245778687546845,
          0.05192322500520749,
          0.1712814422324122,
          0.05130832802681734,
          0.04715729662813007,
          0.043345877914804286,
          0.044070135544189114,
          0.06028280081233495,
          0.057006445176310504,
          0.06439638068934395,
          0.05651221628466213,
          0.0538096943227815,
          0.045161734729720314,
          0.12981452813707164,
          0.04342851745177206,
          0.15848401525809191,
          0.034075942178352976,
          0.17049221051817337,
          0.046172440038588766,
          0.03732674991029957,
          0.05793816609534716,
          0.10135145446766683,
          0.1000615116324392,
          0.04878010304678654,
          0.057340386431865106,
          0.34151220189473985,
          0.050303494418187295,
          0.5413454849894299,
          0.06651116001012326,
          0.06449918726208648,
          0.05362973670008922,
          0.04719420285645371,
          0.18904986518094463,
          0.061453393240903646,
          0.04869186796565961,
          0.0639890316456723,
          0.0487154514529033,
          0.04508384738561319,
          0.06315317365551067,
          0.044975669070848386,
          0.06379947626731497,
          0.051797955524048436,
          0.08993260451639676,
          0.04375191599593895,
          0.06882027977489513,
          0.05768169529449953,
          0.04559438211042524,
          0.03671520444574492,
          0.060349764688626184,
          0.058487648774157464,
          0.12805150764194323,
          0.05092873428080783,
          0.22886485298568723,
          0.044065242357831665,
          0.057723136549253734,
          0.05034238086179837,
          0.030406071651629223,
          0.03142871802969051,
          0.052319713373293046,
          0.044943710323250424,
          0.047652806339990396,
          0.05788245778088563,
          0.044735240944201664,
          0.23358304370254956,
          0.17325271256626862,
          0.05515967086085084,
          0.25646549996054235,
          0.04569304558802732,
          0.04999873251623763,
          0.18625142795110555,
          0.07272339979900272,
          0.043282612284863645,
          0.04874574940704922,
          0.07560802902865962,
          0.055110838701337386,
          0.04968878559034306,
          0.37756479365481255,
          0.04470401074079028,
          0.07325892264657975,
          0.15447724507561,
          0.04976057174241913,
          0.08020920753961025,
          0.05665021668690965,
          0.12245380942081235,
          0.06516370019814888,
          0.06087348962905708,
          0.058692021779762335,
          0.06367973729023953,
          0.06612451084336934,
          0.04927607210660698,
          0.04076985360955568,
          0.11425689562301544,
          0.09467540994144842,
          0.03277392130827492,
          0.05167862366873159,
          0.15172839625512585,
          0.16019132116248533,
          0.04947220344908582,
          0.05521351107604441,
          0.046780298915282056,
          0.046811885200252326,
          0.0832761794234775,
          0.03739886569401801,
          0.11581429730970062,
          0.08132485251788285,
          0.058126366206991444,
          0.05554153402434857,
          0.05761019912689213,
          0.047763227726465074,
          0.05197134575811149,
          0.04976859683266724,
          0.06209618517683496,
          0.1675420095847803,
          0.06344060316900478,
          0.04682353123345613,
          0.04842233953888949,
          0.03300999315081366,
          0.06248855614211106,
          0.05430466787969846,
          0.049409873206961025,
          0.054143009402657045,
          0.04638309635048875,
          0.057966400518912074,
          0.06356309741383735,
          0.051440118589391126,
          0.0536344352329219,
          0.36599854782353375,
          0.07554829558798293,
          0.0571842798162876,
          0.05570197780083102,
          0.034137757727895505,
          0.04661443910628362,
          0.07620425723532545,
          0.1871803647481232,
          0.047909243643799344,
          0.17960980048649752,
          0.05186895638527439,
          0.041845520910102116,
          0.045422623020800655,
          0.11823092941649786,
          0.13488075453716675,
          0.06116982425496477,
          0.11304028496992682,
          0.13524201755424922,
          0.1914699920152551,
          0.0860801004830891,
          0.05616750401643421,
          0.10886644659599662,
          0.0648533625697448,
          0.050605391129660275,
          0.04216000661765965,
          0.05746684422801601,
          0.04855021549963917,
          0.047464431163551604,
          0.04821834059164906,
          0.04927177641852694,
          0.17662617814371542,
          0.07309110736949251,
          0.20137534013940758,
          0.07435727988000981,
          0.06886580925884267,
          0.06308568265708384,
          0.041380547707671356,
          0.04383797023485839,
          0.3099301167217242,
          0.04637650409372357,
          0.04666708881996804,
          0.05282963156842496,
          0.042797666806068654,
          0.06133185249299183,
          0.05695784567992183,
          0.05899116018006964,
          0.32172845254786187,
          0.0803528956940429,
          0.229161081135963,
          0.06421314513443999,
          0.051061717460546746,
          0.04591140095609681,
          0.09079479874584573,
          0.049878984441837346,
          0.17918576385491328,
          0.15583609180786506,
          0.04238640875132792,
          0.02931765824117713,
          0.05379998655292352,
          0.16684143885779312,
          0.09244999133819619,
          0.05492337778656826,
          0.06776662911341434,
          0.06802346758451679,
          0.05388870621078988,
          0.03292811066091569,
          0.048230389514436006,
          0.04487991471222526,
          0.04521764337430397,
          0.19532691584538606,
          0.0500550656866217,
          0.07277853036793518,
          0.039947430042562064,
          0.04644498682358186,
          0.05389371709923679,
          0.04262530881585489,
          0.047023809832114814,
          0.258129593786162,
          0.04109788401171614,
          0.04695527603257685,
          0.050689991046060257,
          0.04159995782691334,
          0.06074666105979007,
          0.22802127627333185,
          0.18439824020321371,
          0.09119529496999755,
          0.05153053662126392,
          0.059007687564597,
          0.08701574866683413,
          0.05632976280911967,
          0.05741025575405023,
          0.08506968893081919,
          0.057364925897881225,
          0.05858261397301498,
          0.09416261595757129,
          0.06663509629877029,
          0.1807908325523344,
          0.047692534719822245,
          0.04645534154707752,
          0.1523850860872927,
          0.11850484915240664,
          0.08521680141595503,
          0.08895929781392772,
          0.2746199932760192,
          0.15956798518589999,
          0.04538788519593614,
          0.32486553259987005,
          0.06781099872162707,
          0.047680590105132356,
          0.055421999499343164,
          0.042911980154606705,
          0.04778450940898461,
          0.07984324209969254,
          0.0505629190099607,
          0.08446332805975992,
          0.051192325494669816,
          0.05753999061609389,
          0.17110316559317945,
          0.06253811359861165,
          0.04925159786228923,
          0.04412545127714643,
          0.04395399756393053,
          0.04318069414252327,
          0.054574529121274196,
          0.06328301201303438,
          0.04647393619542278,
          0.057241452044642024,
          0.10731822331109402,
          0.18925918227660388,
          0.045011862389849784,
          0.0688882595546153,
          0.045036751524026336,
          0.07253683752504829,
          0.04698862324395599,
          0.16337948149065415,
          0.06661598642641967,
          0.16541221727500366,
          0.045152934255504956,
          0.05078905910142758,
          0.026045463897883453,
          0.211282590897582,
          0.04471032036224645,
          0.06078093253348893,
          0.04636151790666181,
          0.19834998995168712,
          0.07245400338407261
         ],
         "xaxis": "x",
         "yaxis": "y"
        }
       ],
       "layout": {
        "barmode": "relative",
        "legend": {
         "tracegroupgap": 0
        },
        "margin": {
         "t": 60
        },
        "template": {
         "data": {
          "bar": [
           {
            "error_x": {
             "color": "#2a3f5f"
            },
            "error_y": {
             "color": "#2a3f5f"
            },
            "marker": {
             "line": {
              "color": "#E5ECF6",
              "width": 0.5
             }
            },
            "type": "bar"
           }
          ],
          "barpolar": [
           {
            "marker": {
             "line": {
              "color": "#E5ECF6",
              "width": 0.5
             }
            },
            "type": "barpolar"
           }
          ],
          "carpet": [
           {
            "aaxis": {
             "endlinecolor": "#2a3f5f",
             "gridcolor": "white",
             "linecolor": "white",
             "minorgridcolor": "white",
             "startlinecolor": "#2a3f5f"
            },
            "baxis": {
             "endlinecolor": "#2a3f5f",
             "gridcolor": "white",
             "linecolor": "white",
             "minorgridcolor": "white",
             "startlinecolor": "#2a3f5f"
            },
            "type": "carpet"
           }
          ],
          "choropleth": [
           {
            "colorbar": {
             "outlinewidth": 0,
             "ticks": ""
            },
            "type": "choropleth"
           }
          ],
          "contour": [
           {
            "colorbar": {
             "outlinewidth": 0,
             "ticks": ""
            },
            "colorscale": [
             [
              0,
              "#0d0887"
             ],
             [
              0.1111111111111111,
              "#46039f"
             ],
             [
              0.2222222222222222,
              "#7201a8"
             ],
             [
              0.3333333333333333,
              "#9c179e"
             ],
             [
              0.4444444444444444,
              "#bd3786"
             ],
             [
              0.5555555555555556,
              "#d8576b"
             ],
             [
              0.6666666666666666,
              "#ed7953"
             ],
             [
              0.7777777777777778,
              "#fb9f3a"
             ],
             [
              0.8888888888888888,
              "#fdca26"
             ],
             [
              1,
              "#f0f921"
             ]
            ],
            "type": "contour"
           }
          ],
          "contourcarpet": [
           {
            "colorbar": {
             "outlinewidth": 0,
             "ticks": ""
            },
            "type": "contourcarpet"
           }
          ],
          "heatmap": [
           {
            "colorbar": {
             "outlinewidth": 0,
             "ticks": ""
            },
            "colorscale": [
             [
              0,
              "#0d0887"
             ],
             [
              0.1111111111111111,
              "#46039f"
             ],
             [
              0.2222222222222222,
              "#7201a8"
             ],
             [
              0.3333333333333333,
              "#9c179e"
             ],
             [
              0.4444444444444444,
              "#bd3786"
             ],
             [
              0.5555555555555556,
              "#d8576b"
             ],
             [
              0.6666666666666666,
              "#ed7953"
             ],
             [
              0.7777777777777778,
              "#fb9f3a"
             ],
             [
              0.8888888888888888,
              "#fdca26"
             ],
             [
              1,
              "#f0f921"
             ]
            ],
            "type": "heatmap"
           }
          ],
          "heatmapgl": [
           {
            "colorbar": {
             "outlinewidth": 0,
             "ticks": ""
            },
            "colorscale": [
             [
              0,
              "#0d0887"
             ],
             [
              0.1111111111111111,
              "#46039f"
             ],
             [
              0.2222222222222222,
              "#7201a8"
             ],
             [
              0.3333333333333333,
              "#9c179e"
             ],
             [
              0.4444444444444444,
              "#bd3786"
             ],
             [
              0.5555555555555556,
              "#d8576b"
             ],
             [
              0.6666666666666666,
              "#ed7953"
             ],
             [
              0.7777777777777778,
              "#fb9f3a"
             ],
             [
              0.8888888888888888,
              "#fdca26"
             ],
             [
              1,
              "#f0f921"
             ]
            ],
            "type": "heatmapgl"
           }
          ],
          "histogram": [
           {
            "marker": {
             "colorbar": {
              "outlinewidth": 0,
              "ticks": ""
             }
            },
            "type": "histogram"
           }
          ],
          "histogram2d": [
           {
            "colorbar": {
             "outlinewidth": 0,
             "ticks": ""
            },
            "colorscale": [
             [
              0,
              "#0d0887"
             ],
             [
              0.1111111111111111,
              "#46039f"
             ],
             [
              0.2222222222222222,
              "#7201a8"
             ],
             [
              0.3333333333333333,
              "#9c179e"
             ],
             [
              0.4444444444444444,
              "#bd3786"
             ],
             [
              0.5555555555555556,
              "#d8576b"
             ],
             [
              0.6666666666666666,
              "#ed7953"
             ],
             [
              0.7777777777777778,
              "#fb9f3a"
             ],
             [
              0.8888888888888888,
              "#fdca26"
             ],
             [
              1,
              "#f0f921"
             ]
            ],
            "type": "histogram2d"
           }
          ],
          "histogram2dcontour": [
           {
            "colorbar": {
             "outlinewidth": 0,
             "ticks": ""
            },
            "colorscale": [
             [
              0,
              "#0d0887"
             ],
             [
              0.1111111111111111,
              "#46039f"
             ],
             [
              0.2222222222222222,
              "#7201a8"
             ],
             [
              0.3333333333333333,
              "#9c179e"
             ],
             [
              0.4444444444444444,
              "#bd3786"
             ],
             [
              0.5555555555555556,
              "#d8576b"
             ],
             [
              0.6666666666666666,
              "#ed7953"
             ],
             [
              0.7777777777777778,
              "#fb9f3a"
             ],
             [
              0.8888888888888888,
              "#fdca26"
             ],
             [
              1,
              "#f0f921"
             ]
            ],
            "type": "histogram2dcontour"
           }
          ],
          "mesh3d": [
           {
            "colorbar": {
             "outlinewidth": 0,
             "ticks": ""
            },
            "type": "mesh3d"
           }
          ],
          "parcoords": [
           {
            "line": {
             "colorbar": {
              "outlinewidth": 0,
              "ticks": ""
             }
            },
            "type": "parcoords"
           }
          ],
          "pie": [
           {
            "automargin": true,
            "type": "pie"
           }
          ],
          "scatter": [
           {
            "marker": {
             "colorbar": {
              "outlinewidth": 0,
              "ticks": ""
             }
            },
            "type": "scatter"
           }
          ],
          "scatter3d": [
           {
            "line": {
             "colorbar": {
              "outlinewidth": 0,
              "ticks": ""
             }
            },
            "marker": {
             "colorbar": {
              "outlinewidth": 0,
              "ticks": ""
             }
            },
            "type": "scatter3d"
           }
          ],
          "scattercarpet": [
           {
            "marker": {
             "colorbar": {
              "outlinewidth": 0,
              "ticks": ""
             }
            },
            "type": "scattercarpet"
           }
          ],
          "scattergeo": [
           {
            "marker": {
             "colorbar": {
              "outlinewidth": 0,
              "ticks": ""
             }
            },
            "type": "scattergeo"
           }
          ],
          "scattergl": [
           {
            "marker": {
             "colorbar": {
              "outlinewidth": 0,
              "ticks": ""
             }
            },
            "type": "scattergl"
           }
          ],
          "scattermapbox": [
           {
            "marker": {
             "colorbar": {
              "outlinewidth": 0,
              "ticks": ""
             }
            },
            "type": "scattermapbox"
           }
          ],
          "scatterpolar": [
           {
            "marker": {
             "colorbar": {
              "outlinewidth": 0,
              "ticks": ""
             }
            },
            "type": "scatterpolar"
           }
          ],
          "scatterpolargl": [
           {
            "marker": {
             "colorbar": {
              "outlinewidth": 0,
              "ticks": ""
             }
            },
            "type": "scatterpolargl"
           }
          ],
          "scatterternary": [
           {
            "marker": {
             "colorbar": {
              "outlinewidth": 0,
              "ticks": ""
             }
            },
            "type": "scatterternary"
           }
          ],
          "surface": [
           {
            "colorbar": {
             "outlinewidth": 0,
             "ticks": ""
            },
            "colorscale": [
             [
              0,
              "#0d0887"
             ],
             [
              0.1111111111111111,
              "#46039f"
             ],
             [
              0.2222222222222222,
              "#7201a8"
             ],
             [
              0.3333333333333333,
              "#9c179e"
             ],
             [
              0.4444444444444444,
              "#bd3786"
             ],
             [
              0.5555555555555556,
              "#d8576b"
             ],
             [
              0.6666666666666666,
              "#ed7953"
             ],
             [
              0.7777777777777778,
              "#fb9f3a"
             ],
             [
              0.8888888888888888,
              "#fdca26"
             ],
             [
              1,
              "#f0f921"
             ]
            ],
            "type": "surface"
           }
          ],
          "table": [
           {
            "cells": {
             "fill": {
              "color": "#EBF0F8"
             },
             "line": {
              "color": "white"
             }
            },
            "header": {
             "fill": {
              "color": "#C8D4E3"
             },
             "line": {
              "color": "white"
             }
            },
            "type": "table"
           }
          ]
         },
         "layout": {
          "annotationdefaults": {
           "arrowcolor": "#2a3f5f",
           "arrowhead": 0,
           "arrowwidth": 1
          },
          "coloraxis": {
           "colorbar": {
            "outlinewidth": 0,
            "ticks": ""
           }
          },
          "colorscale": {
           "diverging": [
            [
             0,
             "#8e0152"
            ],
            [
             0.1,
             "#c51b7d"
            ],
            [
             0.2,
             "#de77ae"
            ],
            [
             0.3,
             "#f1b6da"
            ],
            [
             0.4,
             "#fde0ef"
            ],
            [
             0.5,
             "#f7f7f7"
            ],
            [
             0.6,
             "#e6f5d0"
            ],
            [
             0.7,
             "#b8e186"
            ],
            [
             0.8,
             "#7fbc41"
            ],
            [
             0.9,
             "#4d9221"
            ],
            [
             1,
             "#276419"
            ]
           ],
           "sequential": [
            [
             0,
             "#0d0887"
            ],
            [
             0.1111111111111111,
             "#46039f"
            ],
            [
             0.2222222222222222,
             "#7201a8"
            ],
            [
             0.3333333333333333,
             "#9c179e"
            ],
            [
             0.4444444444444444,
             "#bd3786"
            ],
            [
             0.5555555555555556,
             "#d8576b"
            ],
            [
             0.6666666666666666,
             "#ed7953"
            ],
            [
             0.7777777777777778,
             "#fb9f3a"
            ],
            [
             0.8888888888888888,
             "#fdca26"
            ],
            [
             1,
             "#f0f921"
            ]
           ],
           "sequentialminus": [
            [
             0,
             "#0d0887"
            ],
            [
             0.1111111111111111,
             "#46039f"
            ],
            [
             0.2222222222222222,
             "#7201a8"
            ],
            [
             0.3333333333333333,
             "#9c179e"
            ],
            [
             0.4444444444444444,
             "#bd3786"
            ],
            [
             0.5555555555555556,
             "#d8576b"
            ],
            [
             0.6666666666666666,
             "#ed7953"
            ],
            [
             0.7777777777777778,
             "#fb9f3a"
            ],
            [
             0.8888888888888888,
             "#fdca26"
            ],
            [
             1,
             "#f0f921"
            ]
           ]
          },
          "colorway": [
           "#636efa",
           "#EF553B",
           "#00cc96",
           "#ab63fa",
           "#FFA15A",
           "#19d3f3",
           "#FF6692",
           "#B6E880",
           "#FF97FF",
           "#FECB52"
          ],
          "font": {
           "color": "#2a3f5f"
          },
          "geo": {
           "bgcolor": "white",
           "lakecolor": "white",
           "landcolor": "#E5ECF6",
           "showlakes": true,
           "showland": true,
           "subunitcolor": "white"
          },
          "hoverlabel": {
           "align": "left"
          },
          "hovermode": "closest",
          "mapbox": {
           "style": "light"
          },
          "paper_bgcolor": "white",
          "plot_bgcolor": "#E5ECF6",
          "polar": {
           "angularaxis": {
            "gridcolor": "white",
            "linecolor": "white",
            "ticks": ""
           },
           "bgcolor": "#E5ECF6",
           "radialaxis": {
            "gridcolor": "white",
            "linecolor": "white",
            "ticks": ""
           }
          },
          "scene": {
           "xaxis": {
            "backgroundcolor": "#E5ECF6",
            "gridcolor": "white",
            "gridwidth": 2,
            "linecolor": "white",
            "showbackground": true,
            "ticks": "",
            "zerolinecolor": "white"
           },
           "yaxis": {
            "backgroundcolor": "#E5ECF6",
            "gridcolor": "white",
            "gridwidth": 2,
            "linecolor": "white",
            "showbackground": true,
            "ticks": "",
            "zerolinecolor": "white"
           },
           "zaxis": {
            "backgroundcolor": "#E5ECF6",
            "gridcolor": "white",
            "gridwidth": 2,
            "linecolor": "white",
            "showbackground": true,
            "ticks": "",
            "zerolinecolor": "white"
           }
          },
          "shapedefaults": {
           "line": {
            "color": "#2a3f5f"
           }
          },
          "ternary": {
           "aaxis": {
            "gridcolor": "white",
            "linecolor": "white",
            "ticks": ""
           },
           "baxis": {
            "gridcolor": "white",
            "linecolor": "white",
            "ticks": ""
           },
           "bgcolor": "#E5ECF6",
           "caxis": {
            "gridcolor": "white",
            "linecolor": "white",
            "ticks": ""
           }
          },
          "title": {
           "x": 0.05
          },
          "xaxis": {
           "automargin": true,
           "gridcolor": "white",
           "linecolor": "white",
           "ticks": "",
           "title": {
            "standoff": 15
           },
           "zerolinecolor": "white",
           "zerolinewidth": 2
          },
          "yaxis": {
           "automargin": true,
           "gridcolor": "white",
           "linecolor": "white",
           "ticks": "",
           "title": {
            "standoff": 15
           },
           "zerolinecolor": "white",
           "zerolinewidth": 2
          }
         }
        },
        "xaxis": {
         "anchor": "y",
         "domain": [
          0,
          1
         ],
         "title": {
          "text": "0"
         }
        },
        "yaxis": {
         "anchor": "x",
         "domain": [
          0,
          1
         ],
         "title": {
          "text": "count"
         }
        }
       }
      },
      "text/html": [
       "<div>\n",
       "        \n",
       "        \n",
       "            <div id=\"33938414-a6a6-4436-9cd8-40fe62ac74b7\" class=\"plotly-graph-div\" style=\"height:525px; width:100%;\"></div>\n",
       "            <script type=\"text/javascript\">\n",
       "                require([\"plotly\"], function(Plotly) {\n",
       "                    window.PLOTLYENV=window.PLOTLYENV || {};\n",
       "                    \n",
       "                if (document.getElementById(\"33938414-a6a6-4436-9cd8-40fe62ac74b7\")) {\n",
       "                    Plotly.newPlot(\n",
       "                        '33938414-a6a6-4436-9cd8-40fe62ac74b7',\n",
       "                        [{\"alignmentgroup\": \"True\", \"bingroup\": \"x\", \"hovertemplate\": \"0=%{x}<br>count=%{y}<extra></extra>\", \"legendgroup\": \"\", \"marker\": {\"color\": \"#636efa\"}, \"name\": \"\", \"offsetgroup\": \"\", \"orientation\": \"v\", \"showlegend\": false, \"type\": \"histogram\", \"x\": [0.04791915038283235, 0.08735691327295697, 0.04587978232707471, 0.04832072158466345, 0.040581824688049356, 0.024581822002218624, 0.043110835617770286, 0.04588144154949741, 0.26093880886021104, 0.05766795915007788, 0.16424175726759738, 0.06753024682701107, 0.05329763292789612, 0.06175616973018942, 0.13768768759990638, 0.07639141296850582, 0.08702911220592535, 0.06985131278012699, 0.043878239175404114, 0.044444899090900644, 0.16691243797394073, 0.048792522270505775, 0.04870164148010209, 0.05860757300475127, 0.18666969645948528, 0.061826242717480745, 0.06550178656425266, 0.05445711711241292, 0.0556420311470045, 0.05474895318660293, 0.04885150555723275, 0.10193127976904826, 0.05237982540016298, 0.07336061362494176, 0.05446432477625335, 0.16864403589060833, 0.07405306701130923, 0.06708402882066114, 0.06256189469147189, 0.04012145251144646, 0.05120311477612525, 0.039808892231706056, 0.14361731968214314, 0.10929714761855086, 0.050991036168421995, 0.13260932388393704, 0.20156438369850144, 0.043689669688187646, 0.08451761926395113, 0.05744827269540926, 0.05645010353358912, 0.06184211020278499, 0.1951256835357526, 0.04833744915705418, 0.04898207765046659, 0.05111303808134266, 0.1643987158371346, 0.06335768336580659, 0.057936405039161136, 0.05895632449782305, 0.050830491492017196, 0.046239504709342, 0.15012165715398895, 0.03382183334477314, 0.23933822559230647, 0.07249584186909007, 0.08110736645537751, 0.08874602238895281, 0.1913611022724841, 0.1886610584880104, 0.0729930823275323, 0.04610734179013619, 0.28313931454752805, 0.062189280718142656, 0.05350248694774706, 0.08601030375235198, 0.05502525843733015, 0.06768237277520216, 0.07066968814080707, 0.047931261815470964, 0.06433311094994078, 0.06201247080841847, 0.2320689344338379, 0.24550707330322605, 0.05346826927174825, 0.05086986586127978, 0.04761364156937139, 0.03831574806039613, 0.07536117272647389, 0.05820343334683527, 0.1347112132462622, 0.07564733255546323, 0.2115453941132933, 0.06635587910137727, 0.18038582161325128, 0.07978269328035899, 0.1341003198187723, 0.04745010052265749, 0.18912271779905654, 0.04305580297897467, 0.060281172076637524, 0.042721516854476255, 0.04164933460500763, 0.05422689392295575, 0.16696564419372684, 0.08585864031221398, 0.04424364005715905, 0.20675590120810605, 0.03149928785309007, 0.08732834528464059, 0.05028438612924993, 0.05578052128647933, 0.04936345111701152, 0.022540183921554262, 0.19510182257683542, 0.06498605504290406, 0.03987727671289955, 0.061854861101384426, 0.045782172392680884, 0.04902553732527543, 0.34352553924436197, 0.07075492576617474, 0.048666455222388674, 0.05386235112847766, 0.05687887010669991, 0.1498641127915053, 0.05612615862456036, 0.045306818873172026, 0.06966892999585267, 0.057196081571282975, 0.058841751601421646, 0.04744671999891433, 0.04704878656381553, 0.05219731575715164, 0.09526959143698549, 0.12744232519211252, 0.21567729166569058, 0.045652922467971264, 0.050539453520991186, 0.05981057714622358, 0.04470196212168885, 0.14859802020481203, 0.18864903075848613, 0.11007469915563166, 0.06563516921717266, 0.08537754120318919, 0.04903629420357312, 0.09567897540839608, 0.06430520325239106, 0.11187186127228022, 0.21939310504053305, 0.040560800371834564, 0.11180515832801804, 0.14003600084403525, 0.05553424334002975, 0.10830109301538673, 0.04419742945291106, 0.10225401147020184, 0.051967064623449966, 0.051236766903332724, 0.04485139512995373, 0.024800410088266833, 0.03367229473995052, 0.04826530800262256, 0.10690330726348649, 0.18890152096026686, 0.13167261718510453, 0.05989558468625966, 0.049078889819708614, 0.17682127476884704, 0.1036307860059907, 0.08466960864015428, 0.13209919495291378, 0.04424039156056141, 0.050924276920448305, 0.050207052689686456, 0.0450844433713275, 0.062119471736969606, 0.04230331749556402, 0.21570044231229996, 0.04777747033263291, 0.06517013019304863, 0.04620534141067405, 0.044075312787492764, 0.04280648525310574, 0.07612181648220541, 0.04655642816476612, 0.04984106091325881, 0.05876680365205357, 0.04897607978225394, 0.2987969468431286, 0.09312129501559538, 0.0745912810444899, 0.048152906455025485, 0.18779955297749934, 0.21828136460506106, 0.051663327976429405, 0.2797970107679304, 0.15100610225216676, 0.05035709313840552, 0.06876363399946168, 0.04001939401511789, 0.173625492419305, 0.06205474213320497, 0.0688793080601513, 0.1625904220396748, 0.05871655870626749, 0.047199847167912104, 0.051179472326242294, 0.04930553231967097, 0.0461773077046523, 0.16260344512968355, 0.07207828390057287, 0.06817735636547104, 0.05031145856790866, 0.05906378016506303, 0.04487716278535787, 0.029151136858606617, 0.0840552726067119, 0.2445741985320917, 0.032325807105103736, 0.04536886844190756, 0.04197364250865202, 0.05268307434965487, 0.0730103427091863, 0.04754603656819258, 0.052603958265105784, 0.03903099717610326, 0.05051243256445453, 0.049087163201399796, 0.05461925005631517, 0.047636401086387295, 0.04198877053864163, 0.09350527541878595, 0.057078815243525496, 0.2418944495350332, 0.04964857016187013, 0.04405083744330679, 0.13426028381890542, 0.06404907362175774, 0.09768316445140413, 0.039224720668360476, 0.04190836147812277, 0.054841136184075615, 0.047220805112842205, 0.0681595213206086, 0.2112330641548741, 0.046690433115565935, 0.04968721769943316, 0.04268287995298127, 0.04886192816167578, 0.03338415398013139, 0.0584667474245507, 0.05715019497691074, 0.046632946745662866, 0.04937879605736772, 0.03395573490923717, 0.06452054553221118, 0.05460902006638332, 0.16709875075099404, 0.17612916749519292, 0.05017329460503778, 0.03241062785052873, 0.10019248013375748, 0.08590075312710127, 0.08844161216626167, 0.06274606280802633, 0.06604502082572136, 0.057744663270251725, 0.07152908605438046, 0.061651325684102656, 0.04738022096633191, 0.04129945629646433, 0.05281159104607688, 0.06580753391392881, 0.06741463783566987, 0.37338632583981707, 0.05279280199434396, 0.31157807993979525, 0.05293490452556854, 0.10137303768432933, 0.18652006647124797, 0.05078913328510933, 0.050596337246501324, 0.046132070598151206, 0.0817239250917496, 0.0574655016161351, 0.17182412695696553, 0.04639681591627917, 0.04668489913517321, 0.2867127665780092, 0.05617517951643676, 0.03814787616571944, 0.07624370664658997, 0.21422886575171105, 0.04839564999850188, 0.04460490323371376, 0.061099372238562974, 0.06475131727085463, 0.2199513638666198, 0.11268380843556165, 0.04292344227979705, 0.15810235756946095, 0.11765761438934852, 0.051700194807124886, 0.06483145130063211, 0.05645028161762374, 0.05487893749704911, 0.04736616150409522, 0.06935032173685131, 0.09505708087749098, 0.056150251654880586, 0.09204103433194982, 0.06421199615785764, 0.13737369896357574, 0.08353737461842009, 0.05635898076105865, 0.0479198242014708, 0.045955853039239346, 0.047993939643742003, 0.16978084912658453, 0.22109972574716288, 0.07176518989505919, 0.049702748936099744, 0.09888937664085125, 0.05196297170070005, 0.052575260353426786, 0.037151343518877125, 0.05845141108907667, 0.06037392981418298, 0.10504774779303429, 0.0756276999679365, 0.04400119603753772, 0.31131742514215327, 0.05589121570860889, 0.0948532089699991, 0.0623681538368004, 0.03906695874907379, 0.09716538684499791, 0.04364904777238589, 0.05274937894276272, 0.044958821958111746, 0.044005209656310905, 0.23720623862930787, 0.21991917436044683, 0.1883673645452804, 0.11112705063381462, 0.05155371670390308, 0.040852740752781516, 0.04487394550376759, 0.22002228850119093, 0.08505667119694903, 0.17585802246722107, 0.05080816050395225, 0.061366009890716736, 0.16382764732074429, 0.06940929887135074, 0.04758556254066028, 0.2218920036005704, 0.045283232873278866, 0.1540636573872075, 0.1449572244786769, 0.05371183659147058, 0.08956189106950288, 0.04779514524912929, 0.09019480340975018, 0.08172734249898964, 0.04637432475999066, 0.045048052111620884, 0.18892955975078413, 0.3542466180281328, 0.05098189024702433, 0.07507680931480291, 0.05068599560351631, 0.1879009710972992, 0.047542509579772275, 0.05725414835165437, 0.04676593535905601, 0.17657717072994156, 0.09141673061932334, 0.036072109032388035, 0.1556935447033945, 0.04862869996631865, 0.053256386287935685, 0.04656129863022513, 0.03979379041634708, 0.04047902349442042, 0.23623290856648974, 0.20445566180139613, 0.17787301021575963, 0.04596841981808241, 0.15576077908742197, 0.04320505434528331, 0.04770587135492043, 0.1521174322215092, 0.1581405508300987, 0.05428287778732674, 0.10302122529842794, 0.04617187462816548, 0.04433447907405821, 0.058109093751826144, 0.03749960274147927, 0.07398107780666309, 0.04179809670414528, 0.10019836611607812, 0.05353962567962829, 0.046349999044779926, 0.18194944327271656, 0.04588359243606382, 0.11023413847996136, 0.04919098752793423, 0.3476042180692297, 0.2724517486508191, 0.049655794576830475, 0.05007135418687091, 0.052695850665395214, 0.06642870829914112, 0.04452227266660092, 0.08072636822253111, 0.04835070181936432, 0.09643848775203262, 0.15297388595921552, 0.05771335370506303, 0.0487904334408303, 0.046399642935049445, 0.0587713337101646, 0.060521640029860505, 0.047916293271789055, 0.045288558095454935, 0.05711815597583604, 0.045216813383234265, 0.05422796752426683, 0.04086417601564003, 0.05616603237862045, 0.04565693444127376, 0.18767590327639386, 0.053030144826352925, 0.050544768925822055, 0.04786628854755471, 0.16232330350910668, 0.04272144916330735, 0.10621420460136538, 0.25557668613307144, 0.0651171831385742, 0.048476190734044966, 0.060835052931040884, 0.06303628027440047, 0.056905894641723395, 0.06373745422420281, 0.05012798079647142, 0.04297821891523556, 0.16171847720495844, 0.051072325445495205, 0.0881422557290207, 0.03383402124841822, 0.052380336064340324, 0.05847009303219686, 0.06406080195857489, 0.0701148565335018, 0.062497753331161844, 0.06744202669638173, 0.056082098996299304, 0.071346814588418, 0.06755848938774967, 0.06459553388320344, 0.04335641694704064, 0.10783481804999318, 0.06773548443856814, 0.04882898058452481, 0.15757159182466912, 0.09331250743442626, 0.05799738094176171, 0.12801803511787463, 0.031433449000309144, 0.07805184544247092, 0.07812087178567216, 0.08313874445488202, 0.0652372165753553, 0.18023119169493507, 0.0763824636409657, 0.05462346972519434, 0.050005858761936674, 0.05366863645771701, 0.0439901824727305, 0.053638036312110934, 0.042689905462874767, 0.14191992049148056, 0.041683829716119405, 0.04854175506948913, 0.17403290770629298, 0.19842980382844266, 0.05563838900375818, 0.05109141346417836, 0.06749569499709855, 0.06116982425496477, 0.13580047805933668, 0.09629036400831018, 0.04891330145319048, 0.1929157392082233, 0.04661298957582522, 0.02530300815007508, 0.19593840918518987, 0.050111817298518345, 0.21216010180366274, 0.06941102524054607, 0.043754132345158465, 0.1134557063776273, 0.06587607605644669, 0.0484560537775144, 0.06494269336832856, 0.07779107030339763, 0.2883723375697207, 0.0515656266209491, 0.049272966009999176, 0.04360049633469819, 0.08337833966382396, 0.16204964780674636, 0.0652222117284425, 0.11220484556706696, 0.10723355648279635, 0.0690946688222511, 0.049366549008505095, 0.062222474293675806, 0.07524896237184099, 0.05653510131126041, 0.05000980493931771, 0.048407656338149925, 0.07705247394482664, 0.04826200785414634, 0.26004315349263574, 0.2078040880637011, 0.051619607338242876, 0.15665048818777785, 0.0708765080344587, 0.05129077630110491, 0.05218694970772121, 0.06493408237834761, 0.045867789026276695, 0.04493104836712379, 0.05041998900476636, 0.14553768620326063, 0.028207723218970776, 0.07170589772215985, 0.06612614768360181, 0.16293608580183738, 0.0403156781461305, 0.13795492046929614, 0.044993133039900476, 0.17745343960004467, 0.17524300211876015, 0.06319941453094666, 0.08464606937979442, 0.05133194954048853, 0.19729514416173505, 0.04747597883598077, 0.04858304893032424, 0.042631335274549834, 0.06428813581664798, 0.047169044786622594, 0.04513179272724732, 0.04863531191566024, 0.053197817116538704, 0.11103711011939682, 0.045018873806319054, 0.05617600472292117, 0.21017581177740538, 0.05404895437738558, 0.06649547664292174, 0.04514066395875104, 0.04640611599209202, 0.04732958029523036, 0.057499738347924434, 0.07006227497767514, 0.21779608085355565, 0.05192235450606086, 0.04629297479094213, 0.04421363322592871, 0.15413355506864473, 0.2268164680032553, 0.04560476732753599, 0.43061653496445157, 0.05288604065513541, 0.029860444830066175, 0.04577128744452352, 0.06086834382941293, 0.07045796769635534, 0.07395886813177369, 0.13753820897465752, 0.08432719332009275, 0.04398295162432911, 0.05136930192024787, 0.053000211767994396, 0.09434604279902399, 0.3280599924896799, 0.06763627270129702, 0.3019162273227323, 0.049264075495459664, 0.04454716266846294, 0.056099981726114856, 0.05674334426661119, 0.13539725087124754, 0.06792937028667317, 0.04600974083557413, 0.06455742394625429, 0.08152848775711531, 0.04356485535092922, 0.058785930604081944, 0.06738415236933759, 0.08657734560729559, 0.05420778944124337, 0.23177363247914684, 0.062145391251047094, 0.0486319152546931, 0.055813871360491873, 0.04679832137535118, 0.047098366798152116, 0.08406626707011829, 0.05459600230125025, 0.04786184122332595, 0.07708819780270036, 0.04619427788176124, 0.05460320164171685, 0.0647915754264932, 0.06264747310758613, 0.06176643283280655, 0.06301717537902486, 0.10732017858837264, 0.04782275658606321, 0.05514450407011311, 0.05616802114326652, 0.0930111991244937, 0.041807724941911116, 0.05079872430515993, 0.06365922744442838, 0.04031608562944426, 0.03939618398608957, 0.027396306479448906, 0.049392105003280354, 0.08366928854109164, 0.04314341485210575, 0.042581624174456774, 0.04753643649072787, 0.04598257340564793, 0.08798892367896721, 0.04760764069491234, 0.19628950335770284, 0.0539111532673153, 0.04940962712832627, 0.055382842261245846, 0.04098818292798576, 0.05831450821699384, 0.04207522577985702, 0.21713216196388394, 0.044329431461763, 0.046175423647983396, 0.05346292277370375, 0.05432692374472568, 0.05215109677846964, 0.23347164731279677, 0.16533318329397673, 0.04470301249262258, 0.027018013647707756, 0.057794340933554796, 0.04595486534564924, 0.05828382220012124, 0.04723207672395914, 0.1807769497033342, 0.07179621859754251, 0.051442545067914104, 0.039080518745963834, 0.047481194569473695, 0.05371786417139385, 0.18270958347702665, 0.066966992402594, 0.04508340249942151, 0.045955440426386704, 0.1576980948996483, 0.04745010052265749, 0.04192686354273207, 0.05970865733071865, 0.07323170347470791, 0.05928190192057875, 0.05065008248008915, 0.04411167230101859, 0.04346195947207946, 0.210277699635136, 0.058424392828048746, 0.29712548381094706, 0.10064487301509017, 0.04935536993321228, 0.04285799560732011, 0.28219959986274246, 0.04502711047902596, 0.052690823787511956, 0.05499582095808166, 0.13417752186488358, 0.05622128858052512, 0.051754418189596654, 0.05432925154295591, 0.043470025559848094, 0.050440141928001565, 0.0416340691234506, 0.0799454201586213, 0.041786796538800214, 0.19640144114391098, 0.05006188362898178, 0.25114911473067836, 0.09416924850065451, 0.04859533924183765, 0.053737721124156174, 0.12354759171723675, 0.09205003445092563, 0.04717590642842168, 0.03982139167597578, 0.14499309673050825, 0.04950606762164966, 0.0498350815155314, 0.04512902959868429, 0.09466749668312183, 0.05104772287965819, 0.05743981640547599, 0.04695946164381187, 0.10176269253395098, 0.062323016915526004, 0.1701146425828663, 0.054880941207918116, 0.059273353731693484, 0.21453326638944953, 0.04317104646767478, 0.0637845366940973, 0.04407551449941937, 0.06916820380566298, 0.04653743171414495, 0.09280207304712935, 0.045245026697391735, 0.054046506545663855, 0.047910175196262325, 0.047423880497724474, 0.05627989201234257, 0.05770261376463759, 0.043998776396911854, 0.0777380110458792, 0.047641644293424136, 0.06530414386128885, 0.05649852801013443, 0.05419406878618074, 0.2116736224532477, 0.03384545704908406, 0.07980853432764759, 0.19970223578993196, 0.04876763206423257, 0.14398173572989847, 0.044539441399316274, 0.0436013557910906, 0.05802335253889277, 0.0680825861332622, 0.04464181234190275, 0.05370313643698976, 0.14003113969618716, 0.04504258684113046, 0.05797550534277281, 0.04822548308924775, 0.0740666167734376, 0.28362407159141134, 0.16166603991337639, 0.04536139222086211, 0.0485196832021801, 0.3629715347037636, 0.045074345823187145, 0.04388856150634894, 0.04502611622283444, 0.2469015208083607, 0.041960439706895065, 0.045676635830154196, 0.17376047864612976, 0.04452508235289806, 0.05445732090657142, 0.09741975210793714, 0.07987189885546199, 0.04549148512573741, 0.1974711158216563, 0.135333690904602, 0.06172984394621055, 0.05717727286899582, 0.059112504258026215, 0.04697431317652501, 0.062438679820455555, 0.055990945578673255, 0.06433883542873664, 0.04811500872211686, 0.045406868413448744, 0.07296359588534787, 0.22968569199924083, 0.06384568944485546, 0.06034747001045655, 0.04234221054134642, 0.048790005687632775, 0.04543278294716929, 0.06986472900886151, 0.11315146074805263, 0.050785197528446305, 0.04891274068052795, 0.047390311624770726, 0.05611114651147252, 0.21517155394851734, 0.05587717627282089, 0.08697396300392882, 0.04559273375118554, 0.05465200428969974, 0.12837185491311026, 0.048647318068723834, 0.046574920619826356, 0.05440458994059315, 0.06382493315284683, 0.04702437597500215, 0.07444086523591238, 0.04636833949018028, 0.047809703699584455, 0.049963618506161725, 0.043727993535978754, 0.1331291549646973, 0.055394007079070315, 0.17606278348931703, 0.04582554053097215, 0.04643274165418055, 0.1573842502874092, 0.10637788430653643, 0.04010124430249255, 0.12577247875339903, 0.13864507611569715, 0.055878026956032785, 0.050242539889391695, 0.19058169688983134, 0.06927721683066272, 0.09725039033495814, 0.05039249776079486, 0.05236636051175114, 0.08643419133762882, 0.03939743396292697, 0.20189629194929698, 0.055427599764172886, 0.046844792283982986, 0.042349585354363485, 0.040791577126056994, 0.059650279366038214, 0.021419943309060253, 0.18058636064191314, 0.05756062163139377, 0.1490149419681041, 0.07413713252420433, 0.044187742602260785, 0.14449519774766778, 0.052979409628263155, 0.05108044029565398, 0.04979417147867759, 0.06051805077458223, 0.04485741997431173, 0.11207417833730052, 0.04941791589395896, 0.05742769231395228, 0.11890499199800325, 0.07639895453507514, 0.10279748108226902, 0.1574920425098463, 0.049964918642731754, 0.0497210775146946, 0.04634772596938536, 0.04379792159537816, 0.048012689114633175, 0.06086627647891448, 0.03956170805396755, 0.041265291252282364, 0.07067608228591987, 0.06275876154156555, 0.06579440115438541, 0.051251330635320703, 0.028772679485021282, 0.13378134859477805, 0.16551660883741412, 0.04341750035675506, 0.11297325170245884, 0.06768913548156553, 0.19205931874301757, 0.05407126436231906, 0.03727756301136277, 0.1576623732222697, 0.0469392089591171, 0.04444916292795481, 0.02769655483413317, 0.04032415414464419, 0.3891323103691814, 0.05868918000562556, 0.13603097424118749, 0.21733912223417673, 0.04858884589324175, 0.0453851498454009, 0.058283299090017136, 0.16610084927036511, 0.04913859725333399, 0.04234367975993939, 0.06066426170374772, 0.05354612711090913, 0.05068529751822497, 0.1388736713317429, 0.08469296278658334, 0.06430518352692935, 0.05384030793723549, 0.047286410809012566, 0.06275409365177728, 0.039574867377031184, 0.046325719921017444, 0.0635049396416589, 0.0359058441462667, 0.04362622213704415, 0.0833232019158341, 0.11452294283302314, 0.04025459251110059, 0.04612855963084986, 0.05977971022731729, 0.0447911716104595, 0.19700854154411618, 0.04880758175466594, 0.045440736498053746, 0.051345991723426715, 0.18764549642020423, 0.06086258217162495, 0.04402971099998958, 0.0573439262075027, 0.05383920790057156, 0.0597607395350168, 0.05287088491222927, 0.057211354995975225, 0.034449425503557285, 0.06294919739928395, 0.053779605645581305, 0.04208625946484548, 0.04916898062025334, 0.05053731830687624, 0.18119223498066056, 0.055131571087917934, 0.048292669920727796, 0.04443172396582309, 0.09678355802821713, 0.05474067150705916, 0.049129900842136996, 0.04368276005015725, 0.04543106798765033, 0.06136432866779318, 0.0707167138586043, 0.06129526248190237, 0.051645053093034146, 0.05117925256006798, 0.0947140740511883, 0.05579402678895004, 0.04677569435840997, 0.045387419367296275, 0.0564101572663965, 0.07755606670408784, 0.13449084704157216, 0.05128827301789352, 0.05835480955885898, 0.058310646437953265, 0.07665964099504924, 0.05479995212102538, 0.05473013423909594, 0.04132255215685558, 0.04776375289533644, 0.052684950287576436, 0.05286865559535321, 0.047828706345767476, 0.04865481487708864, 0.08474178726572745, 0.04301301315714541, 0.04733874208682158, 0.18297824814623925, 0.06400659161691348, 0.17166082601928295, 0.06888415841245389, 0.0450550237157262, 0.21286818008731506, 0.05150050159690855, 0.028483542619147116, 0.21027138962123448, 0.4567919636651437, 0.11478571189834072, 0.044788967515593844, 0.04715938849595904, 0.04586382656442201, 0.1117804598856793, 0.11064027414466576, 0.2109714712325439, 0.07741945713711652, 0.2309556772566557, 0.17013843197923625, 0.05595490951831637, 0.044804102307120605, 0.052946791020809125, 0.18974185229776208, 0.2757071399828501, 0.04793666577791733, 0.05225818106910593, 0.054501217533146296, 0.051951652893305694, 0.18765585557461573, 0.05611062740240222, 0.04766159452557034, 0.060739283834074634, 0.0690550815474193, 0.030786594280569776, 0.046327859878279344, 0.046769152969871414, 0.0675434598054805, 0.0518369703811457, 0.055474906508460625, 0.10604683777020633, 0.05201976984946584, 0.057588201862693894, 0.19956071719648216, 0.04570581414029045, 0.052474313192948235, 0.060482368902056174, 0.0748843696314949, 0.05665252182451945, 0.04893561986295695, 0.043229514263840564, 0.04133616862001642, 0.09181590940210536, 0.06393134969007289, 0.05893150828448264, 0.06588076703757083, 0.10744965357326058, 0.06022744126855506, 0.05254866645721627, 0.032615795005743034, 0.0494385920671357, 0.047506832673667586, 0.07495690094091963, 0.046009210468260495, 0.08246746574837752, 0.06989629787244743, 0.17404191184141682, 0.14958385885476638, 0.049683771066127196, 0.10105089132079725, 0.06018848480335537, 0.05604742652787226, 0.05659032586181157, 0.023572655846270836, 0.05250449358604989, 0.05482067888703263, 0.06876383756529955, 0.05719644953022336, 0.07606017379864262, 0.046603091800349015, 0.0668958690184551, 0.07401553993368032, 0.051659067607947, 0.06342084793959649, 0.06278388246978779, 0.043747649161349635, 0.1697502061046095, 0.21548719360074806, 0.04333170652397264, 0.18580469876094818, 0.19019154837670646, 0.04690934425626104, 0.044715238580333425, 0.29741627896975725, 0.046215150962023055, 0.05531473959492054, 0.04674301231899292, 0.06516544753179879, 0.1024030140029987, 0.07126220861114517, 0.036998825287604085, 0.05228412950917211, 0.06361587044368756, 0.04646233013389037, 0.18729811003696287, 0.07264960064749648, 0.04389391437093148, 0.04727372770326356, 0.04678956561434981, 0.06431371552774244, 0.03986278689361943, 0.05354205381399331, 0.04489681780322425, 0.04437484596079557, 0.04870650076474549, 0.04272040199876949, 0.11754752908207425, 0.26073825254196425, 0.033999292236973434, 0.056323845968607955, 0.0405322952640732, 0.05783914810749442, 0.1344022491809411, 0.05590466988883446, 0.0793223564659033, 0.0513091393758288, 0.06909622792953561, 0.10789108101132262, 0.30128335405010365, 0.042541490992079045, 0.06227994676213826, 0.04970795938507944, 0.055678780221148735, 0.05610707304682478, 0.04570273062770805, 0.04490312158107858, 0.07057706630100716, 0.1583551289875179, 0.18166061586270477, 0.0785032461564209, 0.035649063203091046, 0.056868283618441276, 0.03439068338618356, 0.18987795165806762, 0.040533905482164116, 0.06559465990919575, 0.04872488043462129, 0.043328882215579095, 0.0520677144405477, 0.047246221914015944, 0.03170537014554587, 0.30373444397652344, 0.18277642038676412, 0.1262579024132711, 0.057903734805604457, 0.06269433552686898, 0.21837913331462372, 0.04359903514071243, 0.06612759803945235, 0.04960553397750432, 0.05563383585015248, 0.0688009853564992, 0.056046611689947345, 0.07148362433309206, 0.059154006929908715, 0.16988715714910152, 0.04952972523433222, 0.19441059660213167, 0.04909619313076681, 0.0641418292074689, 0.0641126142829318, 0.06093424126509977, 0.028714438880120194, 0.12863856265289425, 0.06320246186448235, 0.04657839039419111, 0.04410319957919672, 0.12991614563159848, 0.10182218338779178, 0.04559121371476461, 0.05728932965736784, 0.047577840459246505, 0.0939873904696313, 0.05501652222938428, 0.053969687728500346, 0.06554116368595204, 0.1652833392861644, 0.05646743642022195, 0.05628969669844353, 0.047402885099769164, 0.05702211340605777, 0.06870499664190377, 0.050671302622295106, 0.04307345619164197, 0.05643482281838801, 0.06957417705972081, 0.060828926787566615, 0.05556208646288496, 0.13580047805933668, 0.17655290915839283, 0.07069859802643513, 0.05057790811797133, 0.11556860975272099, 0.035330696839590954, 0.04801012985700429, 0.046459633287944016, 0.04510282043816688, 0.07816343230875049, 0.05204246273908357, 0.1943685135535776, 0.11064858410945753, 0.3190385992832955, 0.12592557925743186, 0.10527571883870504, 0.0435630379734403, 0.23210092426701315, 0.08320605635513945, 0.1820597833694242, 0.047422205688101786, 0.04678552165493713, 0.1416369964257901, 0.04538559117921208, 0.13521484769092088, 0.054135847134096554, 0.03828911891987255, 0.05028635755337472, 0.09167336788653224, 0.10918449034636538, 0.06449786606768743, 0.0439693017014014, 0.08144715409113512, 0.06868124753370988, 0.044907097136334485, 0.0563657887255921, 0.044849750438847175, 0.04316192642710804, 0.04668446056792723, 0.16334077322456686, 0.04823993305919873, 0.043322180848093014, 0.04405668043619448, 0.06159531497377735, 0.05712079478826104, 0.06639248691976751, 0.0454381005468581, 0.05420778944124337, 0.04696751950100984, 0.033848297261409914, 0.04633074655341785, 0.060667510273112714, 0.05347938435358879, 0.04845833599532946, 0.04346614313326779, 0.04844189150244577, 0.13338402745158012, 0.0581622907960063, 0.06629516759088906, 0.0462830485345366, 0.0479176215024434, 0.05229025944261524, 0.0344736977997911, 0.33325251269043804, 0.04175267085002822, 0.07254054244235845, 0.05034419378188836, 0.041213532280477666, 0.15990864890381723, 0.027471612867508766, 0.24076234783533582, 0.06096676159220004, 0.04746855343779654, 0.03488332543039026, 0.060460904466371715, 0.055581004812491425, 0.047139066011034216, 0.1635726255466165, 0.06773864161483768, 0.04782116802971414, 0.16663158849430554, 0.04440129683955713, 0.061437477863514535, 0.07111136980310279, 0.04986788742907635, 0.02810400096494979, 0.17204041764579803, 0.039650894433572226, 0.06449430624181296, 0.11053352241610306, 0.1791893915423302, 0.04728861715302346, 0.09450790568849031, 0.046817514468929, 0.045850234473009684, 0.06136384790844994, 0.23469099514549707, 0.0516265539195519, 0.04942161915312066, 0.07694100599543505, 0.0883120671261637, 0.04576067729915569, 0.055650739826121905, 0.0635616107560057, 0.053965536720571645, 0.15999330772291298, 0.18164420278908527, 0.09565200050821657, 0.04732398644694052, 0.11019006350482076, 0.04519706678881013, 0.06069742425209726, 0.0560709293916333, 0.08006693941072208, 0.189128455446546, 0.06166314571827236, 0.15535332011920816, 0.04472633137967583, 0.03354673132690273, 0.04483983028942018, 0.04384311051063556, 0.05596917839523605, 0.3525107930796666, 0.055720320078150906, 0.0709922307480815, 0.07330419345420978, 0.04474201278697454, 0.06662276786163923, 0.0889017549069899, 0.05780571014690433, 0.06432494254174853, 0.05698561142084717, 0.04728224488384384, 0.036472783234766236, 0.056839812047038446, 0.04530042216411652, 0.06562203327447699, 0.061792015313665766, 0.06335418599715215, 0.08456858042308972, 0.18056517457676113, 0.03744605315188306, 0.055191754511846665, 0.06531204594193196, 0.058070793958953704, 0.05060287055846452, 0.05948523393605033, 0.17767842683004678, 0.048239216723121994, 0.18119712597706572, 0.22443610421892532, 0.2863760100672532, 0.0487717119778732, 0.14449149713459342, 0.04768281769029499, 0.049041354475596, 0.07529097195807365, 0.059287380987803076, 0.09614799842374692, 0.45637321430053307, 0.05476204421322158, 0.055963541660079746, 0.038668504195408585, 0.17515924269290797, 0.04269129361944621, 0.042628583304023984, 0.058535314897625486, 0.0511976763362621, 0.049487798919016, 0.06714054425537114, 0.041584936862417494, 0.060493836536860524, 0.17587947016450084, 0.04000144819368696, 0.052490995058937055, 0.17783865165081258, 0.046499039199255285, 0.19345461487150128, 0.05425701428548732, 0.05104030816565231, 0.05578560669698478, 0.044951795179989484, 0.053156335026447246, 0.03943670160828842, 0.19796648757344149, 0.04584234178309511, 0.1600456516342708, 0.13761947518201778, 0.0707593156957044, 0.04577833676731506, 0.05597245110671309, 0.06383874946484783, 0.023065147476256515, 0.09246580494290271, 0.05070069727326289, 0.04474450410443269, 0.060292944515673824, 0.055305115055208284, 0.16637580370012214, 0.07506827657290666, 0.04610624986491855, 0.10823708432213472, 0.17783112313630042, 0.054824036624005444, 0.05693695742558957, 0.05411121839564042, 0.05633791029474415, 0.05294885811382333, 0.059722525627535696, 0.1515455743648995, 0.06616511181661318, 0.28499122204521443, 0.14733073490143173, 0.05786387824715776, 0.05572411943404719, 0.05919316482468402, 0.05682532764403968, 0.056556876787843845, 0.10405709473936398, 0.08173193322863008, 0.03379695369865247, 0.047233993925476774, 0.0575035261617456, 0.0716720522273522, 0.16635326399663503, 0.05470764579831956, 0.033718521093550224, 0.10067275263268827, 0.06130083745480967, 0.12794499727349173, 0.17527665654229013, 0.15732501101398788, 0.18187454815884802, 0.055596034027553684, 0.050300571440071835, 0.05400398858556729, 0.04858270700750102, 0.15479406621165626, 0.037490890750261074, 0.16570117036123427, 0.08728643708881122, 0.16490304337464698, 0.06946753125199855, 0.0628285947491122, 0.17620415551281232, 0.05830127973932621, 0.09101434644412229, 0.09418806453816475, 0.5120794803138379, 0.06630899392481829, 0.04931932098319172, 0.04219113609997622, 0.05397126941764019, 0.20488006566321865, 0.060535146618182614, 0.05060552086157117, 0.04238857613552682, 0.10634408745470378, 0.04015807480994559, 0.05872802557812082, 0.04864492544625352, 0.17830243460152165, 0.04368464754670869, 0.05338094578115799, 0.058411002822802004, 0.14776878503265908, 0.055467462108096416, 0.20122764759126685, 0.04014029117075811, 0.05472021067603394, 0.08720632372286766, 0.0632334673937466, 0.05104146152170175, 0.1848041550901705, 0.17786864953585368, 0.06195121297316966, 0.06467884735276372, 0.2858033581753724, 0.06176479600560221, 0.060779239222724706, 0.06631711659579348, 0.22816517719179608, 0.08377929044766828, 0.044395195650323294, 0.18806316010926122, 0.06852094139211662, 0.06147354138997396, 0.09061206669625668, 0.06936578776266945, 0.045441157725364466, 0.05342372364340262, 0.08572840880719154, 0.04936010540699602, 0.058407325189188786, 0.04266896286702311, 0.09614448457092084, 0.08506059089932938, 0.05187371491171738, 0.06428077170898733, 0.3925043136568648, 0.04117285100902438, 0.20124866542306227, 0.0723201502916469, 0.055679083438101726, 0.08451997118332658, 0.04574937594146203, 0.06294767303254731, 0.03744923941552063, 0.05792392522136648, 0.048396785102959375, 0.07816178979388758, 0.06717665582858597, 0.18490929735857842, 0.04616462516608118, 0.052940707185232354, 0.05618018509963248, 0.05109354256507061, 0.0716417969416157, 0.044746384414252285, 0.09573040639072425, 0.07126974472040229, 0.12925342221782815, 0.10415007624603348, 0.0497230529068488, 0.050296041717151754, 0.08251912268890113, 0.04864492544625352, 0.04562835101775518, 0.051602881143077754, 0.05177239230718059, 0.044724209138465004, 0.04111180611445187, 0.0693329489507627, 0.037641760013138216, 0.16981827749233525, 0.21285612315888153, 0.08826103226859763, 0.05499855219786034, 0.06672774645341444, 0.051195908942772254, 0.08054642016542204, 0.055967971020675585, 0.047474166495473924, 0.08943790294321516, 0.16587290266016932, 0.06355921203641551, 0.2002509123203467, 0.038651719830679554, 0.04390547354073606, 0.05111111857220706, 0.03748534649613748, 0.06026721601062539, 0.07228573676603701, 0.04881107704055713, 0.18318862409690534, 0.04629661421615391, 0.04528387122397229, 0.10097158593903313, 0.04798002609684766, 0.09479175392078197, 0.04878898441485893, 0.059689754215906665, 0.18593031747469682, 0.058263708576666004, 0.03954725759585978, 0.05848321670909314, 0.06349740101154554, 0.052532757883689184, 0.05146864226999578, 0.05345724167279768, 0.049662697872329825, 0.0703528340543626, 0.048073658351977695, 0.05928697857965785, 0.07673015781610734, 0.06329564773264867, 0.061131121309298514, 0.04560466870392287, 0.04696616459113263, 0.05131808968329703, 0.06058281341499398, 0.10978378787379038, 0.0568100853695752, 0.07597023986714757, 0.06038649305467597, 0.05396547940259299, 0.05612893963820965, 0.04550471568052997, 0.0908883481011958, 0.029352291753607138, 0.053833228257951254, 0.05636049628156134, 0.0568645014861199, 0.06384093229927316, 0.056453279487937484, 0.10348020152505841, 0.16093483848743428, 0.15811264218618115, 0.18578986296203762, 0.04255739695357574, 0.05471026081405485, 0.04582877019022791, 0.15751092106579395, 0.056244562909752285, 0.05257952842760475, 0.03199637083338604, 0.08050427323830026, 0.07923830052767965, 0.09616492311321809, 0.05294452547689815, 0.048464884911922676, 0.05917425182013577, 0.07144796668030201, 0.047070641937481075, 0.06188932356776776, 0.07975162998732681, 0.050492111767609184, 0.04911482605504757, 0.06209114232249845, 0.08330574578465912, 0.047244033201166775, 0.22716921667458065, 0.06355238313719117, 0.04696649609657388, 0.04652976566350562, 0.11098213375674806, 0.04536881632220679, 0.2996170892177955, 0.04807084717854504, 0.10012325979515434, 0.04400486406637034, 0.024025368186842415, 0.0599458609234169, 0.045390737114476366, 0.04299719945604693, 0.04501401733170355, 0.032566857267372934, 0.04555345277463561, 0.05967344031222559, 0.03994308902508445, 0.030145235247870633, 0.0712162176908546, 0.05746526648930761, 0.04804938613595394, 0.043775786778683316, 0.04439470929849607, 0.04602039222018181, 0.04924559303333671, 0.03504059541859217, 0.16278779536123344, 0.04068550619298583, 0.08200080580619137, 0.16616622862480193, 0.08764450139346253, 0.04803605174776955, 0.04355355058533037, 0.06472239149487141, 0.041224380462026894, 0.04551661543491223, 0.06336877587773705, 0.044528148947139225, 0.13484312230415305, 0.07096046665686337, 0.045670482371621565, 0.05969116317001752, 0.06382312594019704, 0.04542452011047604, 0.04463588533135068, 0.052885464041186686, 0.06147211956159679, 0.04496148955295184, 0.09361811980475443, 0.05170120968157715, 0.06088364078742523, 0.047925270110089756, 0.055977200207765275, 0.0891407810779269, 0.04459730920727552, 0.051364402118903876, 0.04528262904268412, 0.044719611501670885, 0.04316742426829674, 0.046593879995903975, 0.0570494109035746, 0.04385526371948558, 0.05680938237095687, 0.0549269506736811, 0.0741861403441208, 0.04334260560636515, 0.050064695075205196, 0.04042530078186406, 0.197698093102721, 0.05630661457731509, 0.2118223015686068, 0.05351578686681815, 0.05683601765928242, 0.15315558251457273, 0.06027277513567809, 0.07278892706712656, 0.041134944694028654, 0.04218450741173024, 0.043844993821914514, 0.04592219268525837, 0.07235294348778608, 0.08747004986017794, 0.06689311042821496, 0.07571953095820382, 0.27552196837339754, 0.03513227077548307, 0.0469056872740101, 0.14110711585768007, 0.0462604049430283, 0.04535198894253161, 0.07384675045272063, 0.048264707145015066, 0.041281421749121215, 0.05534703100420743, 0.07091353690340238, 0.04744867323105453, 0.1080952985701771, 0.04285410688282923, 0.04560463917598067, 0.06939380935167072, 0.04333175868172517, 0.06199794424760299, 0.05266839447224804, 0.05634369533883318, 0.266118173754338, 0.04502829249685232, 0.11366448047047596, 0.04808971718357016, 0.05316124128545472, 0.04668309010196872, 0.05407472807184422, 0.11049567358487669, 0.04505909793344936, 0.07516760081850363, 0.05223342610593644, 0.05702212638425442, 0.053657944445584145, 0.04181693680161414, 0.056966424665261306, 0.29424068973458717, 0.042857523385086915, 0.026933812983309185, 0.0550386831614882, 0.043104732540380504, 0.060889538966580684, 0.22010656965101058, 0.1388335833147568, 0.047094991958133034, 0.04086814447470797, 0.07936527843830145, 0.06817691978030928, 0.05296990731347459, 0.05720539478001023, 0.05679980612518498, 0.44166192333919824, 0.04539052160717989, 0.07986923830045697, 0.15263334306925508, 0.20926870887305724, 0.15551709305532008, 0.06080360883793928, 0.04808577477081218, 0.055446243168403686, 0.044275314090619126, 0.0480554934444843, 0.17143526804726678, 0.09040317900655559, 0.06364385127699548, 0.05725952122975644, 0.25088746085441105, 0.21129773435154986, 0.049171023221743, 0.028643137341454933, 0.04402840095805149, 0.26683893403904374, 0.042264327786528354, 0.043629526698876236, 0.049387136140311746, 0.07217646836824011, 0.06544053726542433, 0.045749778990191246, 0.08568618911508694, 0.041216520381887056, 0.06177090342687367, 0.3036473628636359, 0.052229021206320364, 0.06290360476659629, 0.07987958297079288, 0.05764185142283264, 0.05454157460411274, 0.041685330871010916, 0.07186808775875482, 0.053390333972617623, 0.10177697916429616, 0.1288425032129711, 0.048540207740007266, 0.0494392915973191, 0.21170372041957347, 0.08547757230535483, 0.08673019455918422, 0.04542104703507941, 0.05594561703624781, 0.04887002465253123, 0.11144813639186027, 0.08304463276589227, 0.06873846684999389, 0.05473538949746913, 0.023476354590713587, 0.045595077648248855, 0.04473860188942158, 0.11405431658929546, 0.02746849853726195, 0.06755679438184659, 0.03722153248836448, 0.09784690966559505, 0.13404400668802458, 0.19606513546588794, 0.04512805315281452, 0.042515097802105155, 0.0634871114754347, 0.16075646947891337, 0.04854422039544216, 0.06504601348132989, 0.05492618122668039, 0.18495920676116112, 0.04836318150234839, 0.062487696949949836, 0.3022120287968627, 0.09277886630220492, 0.04901785426201915, 0.05933535819122554, 0.06517002633525332, 0.1888089848230693, 0.04996536987360435, 0.2150337340113696, 0.06432705020747992, 0.04632860258739465, 0.05382829367149968, 0.07509828348330189, 0.08950527834241646, 0.057300373602636054, 0.16562879676614045, 0.04594076968950605, 0.10607387086886738, 0.04631998042200593, 0.07281231994128307, 0.05681195606850327, 0.05965622047079841, 0.043055628317584325, 0.21845951265648988, 0.10780849479952734, 0.0434306151246249, 0.05951068126980475, 0.04124421098546965, 0.16224823482277356, 0.05968786060346416, 0.050778626728718974, 0.06286831697369036, 0.029179825853902247, 0.05138636212424077, 0.04234349514862701, 0.04584372700533903, 0.06358527698020751, 0.08258963283947503, 0.05286683014817452, 0.04849744674847613, 0.04298244653516344, 0.03599796685864397, 0.05092381732605008, 0.0289865078871566, 0.0739103198254939, 0.06424415597403102, 0.03622586840534013, 0.10935338653261822, 0.04957847488501823, 0.047233512610867084, 0.04830745527592851, 0.07113320424616493, 0.2034872164809343, 0.04860091748331229, 0.04532391410770662, 0.04519365238565636, 0.028586409437345126, 0.05805089306052564, 0.15763707202140037, 0.07183351221319867, 0.042715779765701796, 0.07372962932324112, 0.04165083554458946, 0.053405033190427734, 0.042647277874337385, 0.07221575061215256, 0.30244424127820035, 0.09686946281987645, 0.0455077246721466, 0.0635962264794844, 0.2056873265101501, 0.04887051819929062, 0.04641555070515283, 0.06023817792993134, 0.055132867791700096, 0.04278388743311576, 0.04634565302831121, 0.04250750310585077, 0.05100380004133343, 0.09880941210937873, 0.05721427340630911, 0.0802505191652452, 0.060794793046309754, 0.15847027616773976, 0.04651239966269826, 0.19173859593303533, 0.18493385741338392, 0.11119288872144226, 0.04494356723394805, 0.0468011859287881, 0.05152796768660429, 0.06835017757746792, 0.03976418647546697, 0.16898335130570313, 0.06496445043149701, 0.13265112544819846, 0.09550506359794057, 0.04112627641261961, 0.050870727287711706, 0.05408182317145971, 0.09494978670005462, 0.07160107006151743, 0.0449334329900528, 0.07897421138387932, 0.04729357760671662, 0.06305822982559475, 0.04681531636857213, 0.0692883712598196, 0.07878526299643729, 0.02678967767344448, 0.034776716191777836, 0.059175592977430296, 0.04217323412382092, 0.04428977960467726, 0.04852673924274083, 0.0981512675094129, 0.25014287332120216, 0.07013439021032923, 0.05714577090485259, 0.17205991314471739, 0.1392259937892084, 0.182091973138046, 0.052484752929535465, 0.14920490862957525, 0.04636498850056031, 0.2707158663220878, 0.05158565737729107, 0.18063038562446385, 0.04933857251039732, 0.04459277286201381, 0.04729411961565058, 0.16079940549315783, 0.04406246165849118, 0.20882877991663865, 0.06176314885137178, 0.05384581757857029, 0.04526313780105824, 0.04837923345144637, 0.04897734685361441, 0.17752173348106975, 0.046768732496716175, 0.048499303303048545, 0.0589652293402506, 0.05890750517116427, 0.0511289014091736, 0.09803852187069925, 0.1027961551859189, 0.13065056361005473, 0.04263386737877339, 0.04751245184375847, 0.05400868276326203, 0.04680199992882163, 0.05791088963403931, 0.06061772380008246, 0.046917376354885375, 0.05080375137568326, 0.04736364314486833, 0.04642529810694824, 0.05096800520998309, 0.05379000727225018, 0.07307575678319773, 0.05667069680550021, 0.13022777566644195, 0.04584255566578739, 0.07603853572701322, 0.057477412877955936, 0.04845856762724378, 0.06569225206216857, 0.07690395242535482, 0.0650469644627977, 0.29234036215712045, 0.21230487360791456, 0.048496760238109, 0.07300512394192184, 0.04860752011804021, 0.07205838195263836, 0.03699851971252434, 0.027379871000549, 0.03252627638853694, 0.04380238555263351, 0.05990059602478967, 0.0484081258974404, 0.06610665292822224, 0.05464944505976233, 0.03812303184296516, 0.10455098287731339, 0.28970284813786734, 0.054806087481352975, 0.16245110796709733, 0.14919722822723785, 0.05113207103293985, 0.050790719603304, 0.1598073576473458, 0.09473379183430136, 0.05772183918591892, 0.04616180977735484, 0.04168719610708249, 0.04338823566429636, 0.037198825225354115, 0.18464576260541804, 0.06238271010684811, 0.04427021989319144, 0.040007464643583825, 0.037149512180711594, 0.048484664762693745, 0.05896923644205548, 0.049042626221721314, 0.049736895608237214, 0.04940601698767484, 0.04553710755792512, 0.051073329225560724, 0.06634272517713924, 0.3217711312202353, 0.04992093712330728, 0.07695781870892163, 0.06441852970862695, 0.07111784272512572, 0.12092828296008229, 0.04738916444845754, 0.20741292383449894, 0.04196711597434109, 0.18384011970950048, 0.07919178786614017, 0.04246928143220798, 0.04617791082783942, 0.048124338676095155, 0.06290537368617488, 0.07741665423912515, 0.05746278100502772, 0.04471811223112037, 0.05634506206714025, 0.05040548161241125, 0.35481443165151966, 0.039753402449654016, 0.18825199579955848, 0.05247710752684405, 0.06607354410673276, 0.08728489954463198, 0.08974295712728493, 0.04324014344611782, 0.025518782588578058, 0.043983575999009254, 0.04551021514663817, 0.20076295718571693, 0.044813378434752735, 0.0675434598054805, 0.2175338266701473, 0.06293974126766541, 0.08483261533019677, 0.05194295750638063, 0.07074284818973864, 0.04436225419048032, 0.18920892933366967, 0.04478096083210163, 0.12640462834531735, 0.046919903399846655, 0.03571288169625772, 0.05475948325170918, 0.04384311051063556, 0.042463176584340935, 0.039254881501397845, 0.07285388434750399, 0.0571342247873721, 0.09114522376952232, 0.09569541631940266, 0.13094697221393298, 0.14847062462038618, 0.052067461376017234, 0.04999657204222267, 0.07108129883759966, 0.061248373753500035, 0.0491133172089476, 0.05359840671365969, 0.04698493242939157, 0.18556744606192271, 0.04573664557783596, 0.053049915177782764, 0.21545974424960604, 0.045810697092993395, 0.09444899980838856, 0.1073465969441697, 0.04446951256196045, 0.07712945452610108, 0.03822739075618139, 0.05415675866817603, 0.056616584275322054, 0.04744527752915233, 0.054641886955719796, 0.07499145097690808, 0.06332637095409685, 0.04933652266428646, 0.049182956977967554, 0.050277852570676594, 0.061782572952956916, 0.044772228776661566, 0.1622496339151721, 0.046075222882860235, 0.048865403678875645, 0.031480746234948884, 0.1824101435079702, 0.09751837051691206, 0.047968414573981426, 0.07551099554431095, 0.05384290282831508, 0.05855545762513926, 0.05166437797291699, 0.045642076717486026, 0.05293928211956849, 0.3585719082202504, 0.052795117071860756, 0.2981753992799502, 0.07951290361237995, 0.050293314610255255, 0.05488045913199041, 0.0576656153377536, 0.048214676183035314, 0.04789554760109838, 0.044094450375513426, 0.10745176330531139, 0.05513498304348119, 0.051269303824366355, 0.06576589244300445, 0.05964213011746483, 0.05535971284676841, 0.05027129878643778, 0.05449597266677532, 0.17497912996565262, 0.19138112855032818, 0.1125886803454093, 0.153107032245394, 0.041126431705107484, 0.042815088165534684, 0.07980124982799597, 0.04713520530829382, 0.052190248315440085, 0.02605086922973812, 0.0749077132389939, 0.057288143814471865, 0.05813040042185025, 0.05078408564997979, 0.23020435105006332, 0.19740614493052683, 0.06060258450985682, 0.07445454634378418, 0.08172734249898964, 0.047132620700352505, 0.0499025263883566, 0.05007152891498314, 0.06322789279320945, 0.09437764815800162, 0.11265877547099588, 0.0605553251607573, 0.05275028400965365, 0.09699634506605594, 0.054844874117965826, 0.042557591237362774, 0.04075153549511229, 0.09614448457092084, 0.1857045758951093, 0.044823004632980445, 0.21171597141650042, 0.04861622151708669, 0.055760049419607764, 0.04489345546772529, 0.09941577103808022, 0.05643141073644504, 0.051294060208432704, 0.06831125173709263, 0.072701685674319, 0.228018543163724, 0.04803461659433182, 0.09428299025447545, 0.058017170955687536, 0.16990887703087, 0.19820369656101186, 0.05075945940629178, 0.11957500740339072, 0.21293309650608394, 0.060360651459220746, 0.05529464653242641, 0.05716380572654213, 0.07542781371884177, 0.054799874936191754, 0.08501989675108466, 0.05210190223269094, 0.16687999901227524, 0.04798623999146363, 0.0625017877387618, 0.07031650009027475, 0.045978176954213835, 0.06376762258124341, 0.04124261977835989, 0.058364653837242, 0.1895696669328188, 0.0578658389710373, 0.05328688149142051, 0.048576094941290865, 0.04577527146125925, 0.1070131530149104, 0.047797136781345166, 0.06295571456099926, 0.11884051687436475, 0.12552321608413963, 0.05107103727677843, 0.05216218096802701, 0.061125064583766306, 0.1857880412861216, 0.048588783026158135, 0.043230631958190484, 0.6686600509095062, 0.22954567987183394, 0.11201731273373867, 0.04475671387267758, 0.05130382212410963, 0.07657924414696728, 0.05408462990738773, 0.19342044151177912, 0.043547179316658594, 0.0503849237303912, 0.0422006101680968, 0.06649997496725497, 0.13588740421793755, 0.06527141956328861, 0.059070005636765205, 0.09428576480143713, 0.020614188339712874, 0.1878826987552361, 0.04528792958533259, 0.06565345869972432, 0.1045295791268023, 0.047780090841585965, 0.09009865658724102, 0.24932079497198, 0.214777031658512, 0.19130053122903723, 0.10018961857703529, 0.06870898127877006, 0.08694832172317565, 0.14186208333108585, 0.06345086179012106, 0.04986926166669755, 0.0426829787431354, 0.04501666560998462, 0.06751567741911406, 0.05748467409288033, 0.052574931811707144, 0.05664419712965036, 0.050252359850020925, 0.0470202712490795, 0.04703470376207655, 0.09881019715625541, 0.05104297015107043, 0.2061520924168519, 0.05420608872742971, 0.06838357586605145, 0.08795002993355927, 0.14811601436516164, 0.04756732635964595, 0.09138025866213385, 0.04417256444373962, 0.046654565892459934, 0.04983497044282884, 0.047579751570622456, 0.053593788886911804, 0.04342599332944586, 0.17273114898895903, 0.06598444537404358, 0.12557000164076104, 0.04539131840511273, 0.02979271013677629, 0.07580326898503197, 0.061548547510010515, 0.04152963738135511, 0.05377688198312543, 0.06539245826766184, 0.045542163754537325, 0.0687474185703916, 0.053529382841843706, 0.06114488735869293, 0.30846463225212806, 0.04868060608294119, 0.04533518556523611, 0.04657229087375025, 0.04515564903796378, 0.05444628356034843, 0.19038082140277196, 0.048179039026546, 0.18935252069708786, 0.051907243933174356, 0.17864832174338788, 0.04866906999868417, 0.1615942851961899, 0.06474996165679625, 0.023412992715822048, 0.1638759901102657, 0.0993196526151641, 0.04573050767657317, 0.15831524146798298, 0.0936863967202818, 0.038413155618974446, 0.17541564665886344, 0.0503515343578337, 0.04513406654290631, 0.11008999032329092, 0.043411595244529956, 0.05676360308554072, 0.09209702562256798, 0.1638759901102657, 0.0850520787209907, 0.0511973247789594, 0.07300629835109604, 0.08056855602860603, 0.04967071442271491, 0.1585603771921636, 0.04780130749794611, 0.2470899419805632, 0.04409724043897317, 0.038105422479090156, 0.2993807939850992, 0.12428389605457393, 0.05297970333884424, 0.04538984913520056, 0.04288254446994993, 0.062090731638375064, 0.03393038525619857, 0.1112781755765734, 0.1295242041771295, 0.25924632601525055, 0.06470367052182702, 0.06362913971132708, 0.04885481682004275, 0.04536278190846697, 0.09753106548571028, 0.08915538298703761, 0.051268627649099854, 0.04914859486310852, 0.08930878546559354, 0.06533599133950242, 0.04647416221078596, 0.09660648665083836, 0.0741986403908386, 0.06259565904635223, 0.0412172710832064, 0.05858261397301498, 0.04505531123916858, 0.06364102353641096, 0.05894340584861264, 0.06219850965780914, 0.04604525327690843, 0.04422917176373448, 0.044921450558559284, 0.05806294371073815, 0.2234075999884861, 0.04832757075998856, 0.0717127686326812, 0.04123051498174557, 0.08726336202345922, 0.07404879424463705, 0.04542670379962979, 0.0453886636606618, 0.053106623820934014, 0.2295894718352364, 0.05209988583490333, 0.05978454881896755, 0.36063702811746884, 0.08205045188985947, 0.041494438393637915, 0.06347870123014095, 0.0442359314727796, 0.050881261475606704, 0.04449513856284697, 0.062490119437183154, 0.15068346418041179, 0.13802502836155783, 0.04426727573052677, 0.15815021671907256, 0.09792868450125242, 0.15860241582838164, 0.17001675070710104, 0.042689905462874767, 0.06080542410801458, 0.05138958754572611, 0.044418785805810594, 0.061949158015798214, 0.047418969143722484, 0.19112905150022164, 0.042808119442704476, 0.06467777734788226, 0.07148579618929349, 0.05993950871068056, 0.039698594720775505, 0.04842667291265895, 0.045893135132560624, 0.04904615678215739, 0.06495226394109482, 0.04439522636749798, 0.04458481869804471, 0.0659650425857192, 0.051963517487266755, 0.14550590536311672, 0.04594854923573032, 0.0436436363861993, 0.11898242787198243, 0.04684302559193439, 0.04729873717138182, 0.06954771224631842, 0.044480715591434135, 0.053748352580594336, 0.04996093279231911, 0.051227315261402714, 0.05188267782892448, 0.06082862117642768, 0.07619523397298172, 0.1473413779690759, 0.04398855642607767, 0.06507156584538851, 0.14760451889620468, 0.049453683770361495, 0.1076907362658225, 0.06607156018938855, 0.07329084680291914, 0.04252642695877955, 0.05038993487610338, 0.03343978797806996, 0.057251051891601415, 0.04995595086925407, 0.08651876610721498, 0.049623489384334134, 0.07159617771044875, 0.047956300049363944, 0.05021379029659971, 0.06038053103012672, 0.20326722288035992, 0.041622361050911355, 0.06472699782380212, 0.07354289215025749, 0.0518722969664632, 0.047988310984849576, 0.07943537163557315, 0.16033987906602137, 0.048464968410093665, 0.05729115195965743, 0.15938867313879407, 0.04781405589178186, 0.040891134979432864, 0.10823887211929875, 0.030329915989268576, 0.06684399786553058, 0.052864058981940035, 0.09052386117598372, 0.12711944719372834, 0.1371747716065363, 0.05226472365651606, 0.1252653776034202, 0.052326488567579, 0.05166455504302773, 0.07754097449111434, 0.1412860724187535, 0.21841536406540246, 0.0645045759103685, 0.03688122802257911, 0.04129485037104341, 0.04616512019746617, 0.036760361813941, 0.12524819219201072, 0.04771564575788453, 0.06967164712378983, 0.23838081696204763, 0.1037303022996055, 0.09427732110057133, 0.06997032583000018, 0.08389181553247008, 0.04258796636573714, 0.040591997153975025, 0.09856982341955639, 0.21333521193093286, 0.12752510298397107, 0.0726186944047506, 0.5234227921391892, 0.07885698905457457, 0.04713437173406616, 0.05022236138041731, 0.11049602520191898, 0.04851173063708584, 0.03935693976260944, 0.0540836456934889, 0.04445402569673774, 0.042980180130137706, 0.06893304172842048, 0.06406743664610426, 0.05471562996520854, 0.034403222236383, 0.05725675366285244, 0.04728510336438823, 0.05067425343119013, 0.18175448310168923, 0.19855401180226628, 0.0456202580901885, 0.16346584846837364, 0.09070742702710614, 0.07268190671835166, 0.10054224059816036, 0.07743646515645415, 0.050271681858775764, 0.03933169450348169, 0.05708501299851719, 0.09586966402569327, 0.06620638572593052, 0.034638796721805865, 0.06737748390647383, 0.0635437769858649, 0.0990857373036884, 0.04413776095018098, 0.17154061135480672, 0.08449249938339119, 0.05946031916525572, 0.04555939315903932, 0.04643264766044553, 0.04597985725670803, 0.06406939646538874, 0.05642411644441196, 0.04292466722201213, 0.06615926425501704, 0.0502016240211873, 0.06382709910446638, 0.045527823531198, 0.05856005393909924, 0.29586447932408355, 0.04600607083354142, 0.04082125550626146, 0.05687461670124236, 0.05784626436023496, 0.05989857147363599, 0.09960257467344168, 0.07689956818611687, 0.06436319445362984, 0.05570721516495204, 0.06319582518196033, 0.06392588711844417, 0.04319950245112978, 0.16503349982685067, 0.058332535875670784, 0.2121739102437422, 0.052326488567579, 0.06488799595332692, 0.04494935931925342, 0.04680657680855904, 0.04082180744424673, 0.032730304608579425, 0.04522024684590638, 0.05012595436929368, 0.18439261541972513, 0.10974695769032625, 0.05762010631159949, 0.10668622158184243, 0.07115139554748796, 0.0726541117757741, 0.04630681817966979, 0.16975405035755678, 0.05702213415064628, 0.13065080285632372, 0.2828609639896317, 0.03398979806587849, 0.1414903308282072, 0.04402756019839392, 0.04550162144991954, 0.06993033101730094, 0.10373507327025638, 0.044939731603326726, 0.334003322642095, 0.09595819919035799, 0.046113596452692404, 0.060966377040106684, 0.027447738494628608, 0.16203181921845938, 0.1340818182104914, 0.3501936338288003, 0.0754459130406921, 0.04671928593221789, 0.1858663378399571, 0.04455251038112227, 0.19616354967264293, 0.04627627125015388, 0.04296663198335001, 0.09082899307243454, 0.05137296379935919, 0.041229556552254354, 0.2258969162560413, 0.0603586822978011, 0.06043681328586384, 0.04539069869989546, 0.09752189221394586, 0.08775368288717285, 0.0613827246401933, 0.06622298404207139, 0.09529492484974592, 0.05746281486423462, 0.2549062940436289, 0.054821714624362486, 0.05235113000719557, 0.0539464504577657, 0.22608392042819156, 0.07577018065388012, 0.05256562089194774, 0.04196964013188977, 0.04668592731848988, 0.05836734321899326, 0.13327687297572427, 0.05532523451380249, 0.0722349946112583, 0.06185060192513067, 0.046473642145336315, 0.042566864756660036, 0.0589820082015048, 0.28773007468147593, 0.052020267260927816, 0.08336369420471863, 0.08336539254136566, 0.0625255919522755, 0.05018227689260084, 0.050637017873893714, 0.0568097988285966, 0.02300048613297341, 0.058537876771745906, 0.09325915065772943, 0.044245778687546845, 0.05192322500520749, 0.1712814422324122, 0.05130832802681734, 0.04715729662813007, 0.043345877914804286, 0.044070135544189114, 0.06028280081233495, 0.057006445176310504, 0.06439638068934395, 0.05651221628466213, 0.0538096943227815, 0.045161734729720314, 0.12981452813707164, 0.04342851745177206, 0.15848401525809191, 0.034075942178352976, 0.17049221051817337, 0.046172440038588766, 0.03732674991029957, 0.05793816609534716, 0.10135145446766683, 0.1000615116324392, 0.04878010304678654, 0.057340386431865106, 0.34151220189473985, 0.050303494418187295, 0.5413454849894299, 0.06651116001012326, 0.06449918726208648, 0.05362973670008922, 0.04719420285645371, 0.18904986518094463, 0.061453393240903646, 0.04869186796565961, 0.0639890316456723, 0.0487154514529033, 0.04508384738561319, 0.06315317365551067, 0.044975669070848386, 0.06379947626731497, 0.051797955524048436, 0.08993260451639676, 0.04375191599593895, 0.06882027977489513, 0.05768169529449953, 0.04559438211042524, 0.03671520444574492, 0.060349764688626184, 0.058487648774157464, 0.12805150764194323, 0.05092873428080783, 0.22886485298568723, 0.044065242357831665, 0.057723136549253734, 0.05034238086179837, 0.030406071651629223, 0.03142871802969051, 0.052319713373293046, 0.044943710323250424, 0.047652806339990396, 0.05788245778088563, 0.044735240944201664, 0.23358304370254956, 0.17325271256626862, 0.05515967086085084, 0.25646549996054235, 0.04569304558802732, 0.04999873251623763, 0.18625142795110555, 0.07272339979900272, 0.043282612284863645, 0.04874574940704922, 0.07560802902865962, 0.055110838701337386, 0.04968878559034306, 0.37756479365481255, 0.04470401074079028, 0.07325892264657975, 0.15447724507561, 0.04976057174241913, 0.08020920753961025, 0.05665021668690965, 0.12245380942081235, 0.06516370019814888, 0.06087348962905708, 0.058692021779762335, 0.06367973729023953, 0.06612451084336934, 0.04927607210660698, 0.04076985360955568, 0.11425689562301544, 0.09467540994144842, 0.03277392130827492, 0.05167862366873159, 0.15172839625512585, 0.16019132116248533, 0.04947220344908582, 0.05521351107604441, 0.046780298915282056, 0.046811885200252326, 0.0832761794234775, 0.03739886569401801, 0.11581429730970062, 0.08132485251788285, 0.058126366206991444, 0.05554153402434857, 0.05761019912689213, 0.047763227726465074, 0.05197134575811149, 0.04976859683266724, 0.06209618517683496, 0.1675420095847803, 0.06344060316900478, 0.04682353123345613, 0.04842233953888949, 0.03300999315081366, 0.06248855614211106, 0.05430466787969846, 0.049409873206961025, 0.054143009402657045, 0.04638309635048875, 0.057966400518912074, 0.06356309741383735, 0.051440118589391126, 0.0536344352329219, 0.36599854782353375, 0.07554829558798293, 0.0571842798162876, 0.05570197780083102, 0.034137757727895505, 0.04661443910628362, 0.07620425723532545, 0.1871803647481232, 0.047909243643799344, 0.17960980048649752, 0.05186895638527439, 0.041845520910102116, 0.045422623020800655, 0.11823092941649786, 0.13488075453716675, 0.06116982425496477, 0.11304028496992682, 0.13524201755424922, 0.1914699920152551, 0.0860801004830891, 0.05616750401643421, 0.10886644659599662, 0.0648533625697448, 0.050605391129660275, 0.04216000661765965, 0.05746684422801601, 0.04855021549963917, 0.047464431163551604, 0.04821834059164906, 0.04927177641852694, 0.17662617814371542, 0.07309110736949251, 0.20137534013940758, 0.07435727988000981, 0.06886580925884267, 0.06308568265708384, 0.041380547707671356, 0.04383797023485839, 0.3099301167217242, 0.04637650409372357, 0.04666708881996804, 0.05282963156842496, 0.042797666806068654, 0.06133185249299183, 0.05695784567992183, 0.05899116018006964, 0.32172845254786187, 0.0803528956940429, 0.229161081135963, 0.06421314513443999, 0.051061717460546746, 0.04591140095609681, 0.09079479874584573, 0.049878984441837346, 0.17918576385491328, 0.15583609180786506, 0.04238640875132792, 0.02931765824117713, 0.05379998655292352, 0.16684143885779312, 0.09244999133819619, 0.05492337778656826, 0.06776662911341434, 0.06802346758451679, 0.05388870621078988, 0.03292811066091569, 0.048230389514436006, 0.04487991471222526, 0.04521764337430397, 0.19532691584538606, 0.0500550656866217, 0.07277853036793518, 0.039947430042562064, 0.04644498682358186, 0.05389371709923679, 0.04262530881585489, 0.047023809832114814, 0.258129593786162, 0.04109788401171614, 0.04695527603257685, 0.050689991046060257, 0.04159995782691334, 0.06074666105979007, 0.22802127627333185, 0.18439824020321371, 0.09119529496999755, 0.05153053662126392, 0.059007687564597, 0.08701574866683413, 0.05632976280911967, 0.05741025575405023, 0.08506968893081919, 0.057364925897881225, 0.05858261397301498, 0.09416261595757129, 0.06663509629877029, 0.1807908325523344, 0.047692534719822245, 0.04645534154707752, 0.1523850860872927, 0.11850484915240664, 0.08521680141595503, 0.08895929781392772, 0.2746199932760192, 0.15956798518589999, 0.04538788519593614, 0.32486553259987005, 0.06781099872162707, 0.047680590105132356, 0.055421999499343164, 0.042911980154606705, 0.04778450940898461, 0.07984324209969254, 0.0505629190099607, 0.08446332805975992, 0.051192325494669816, 0.05753999061609389, 0.17110316559317945, 0.06253811359861165, 0.04925159786228923, 0.04412545127714643, 0.04395399756393053, 0.04318069414252327, 0.054574529121274196, 0.06328301201303438, 0.04647393619542278, 0.057241452044642024, 0.10731822331109402, 0.18925918227660388, 0.045011862389849784, 0.0688882595546153, 0.045036751524026336, 0.07253683752504829, 0.04698862324395599, 0.16337948149065415, 0.06661598642641967, 0.16541221727500366, 0.045152934255504956, 0.05078905910142758, 0.026045463897883453, 0.211282590897582, 0.04471032036224645, 0.06078093253348893, 0.04636151790666181, 0.19834998995168712, 0.07245400338407261], \"xaxis\": \"x\", \"yaxis\": \"y\"}],\n",
       "                        {\"barmode\": \"relative\", \"legend\": {\"tracegroupgap\": 0}, \"margin\": {\"t\": 60}, \"template\": {\"data\": {\"bar\": [{\"error_x\": {\"color\": \"#2a3f5f\"}, \"error_y\": {\"color\": \"#2a3f5f\"}, \"marker\": {\"line\": {\"color\": \"#E5ECF6\", \"width\": 0.5}}, \"type\": \"bar\"}], \"barpolar\": [{\"marker\": {\"line\": {\"color\": \"#E5ECF6\", \"width\": 0.5}}, \"type\": \"barpolar\"}], \"carpet\": [{\"aaxis\": {\"endlinecolor\": \"#2a3f5f\", \"gridcolor\": \"white\", \"linecolor\": \"white\", \"minorgridcolor\": \"white\", \"startlinecolor\": \"#2a3f5f\"}, \"baxis\": {\"endlinecolor\": \"#2a3f5f\", \"gridcolor\": \"white\", \"linecolor\": \"white\", \"minorgridcolor\": \"white\", \"startlinecolor\": \"#2a3f5f\"}, \"type\": \"carpet\"}], \"choropleth\": [{\"colorbar\": {\"outlinewidth\": 0, \"ticks\": \"\"}, \"type\": \"choropleth\"}], \"contour\": [{\"colorbar\": {\"outlinewidth\": 0, \"ticks\": \"\"}, \"colorscale\": [[0.0, \"#0d0887\"], [0.1111111111111111, \"#46039f\"], [0.2222222222222222, \"#7201a8\"], [0.3333333333333333, \"#9c179e\"], [0.4444444444444444, \"#bd3786\"], [0.5555555555555556, \"#d8576b\"], [0.6666666666666666, \"#ed7953\"], [0.7777777777777778, \"#fb9f3a\"], [0.8888888888888888, \"#fdca26\"], [1.0, \"#f0f921\"]], \"type\": \"contour\"}], \"contourcarpet\": [{\"colorbar\": {\"outlinewidth\": 0, \"ticks\": \"\"}, \"type\": \"contourcarpet\"}], \"heatmap\": [{\"colorbar\": {\"outlinewidth\": 0, \"ticks\": \"\"}, \"colorscale\": [[0.0, \"#0d0887\"], [0.1111111111111111, \"#46039f\"], [0.2222222222222222, \"#7201a8\"], [0.3333333333333333, \"#9c179e\"], [0.4444444444444444, \"#bd3786\"], [0.5555555555555556, \"#d8576b\"], [0.6666666666666666, \"#ed7953\"], [0.7777777777777778, \"#fb9f3a\"], [0.8888888888888888, \"#fdca26\"], [1.0, \"#f0f921\"]], \"type\": \"heatmap\"}], \"heatmapgl\": [{\"colorbar\": {\"outlinewidth\": 0, \"ticks\": \"\"}, \"colorscale\": [[0.0, \"#0d0887\"], [0.1111111111111111, \"#46039f\"], [0.2222222222222222, \"#7201a8\"], [0.3333333333333333, \"#9c179e\"], [0.4444444444444444, \"#bd3786\"], [0.5555555555555556, \"#d8576b\"], [0.6666666666666666, \"#ed7953\"], [0.7777777777777778, \"#fb9f3a\"], [0.8888888888888888, \"#fdca26\"], [1.0, \"#f0f921\"]], \"type\": \"heatmapgl\"}], \"histogram\": [{\"marker\": {\"colorbar\": {\"outlinewidth\": 0, \"ticks\": \"\"}}, \"type\": \"histogram\"}], \"histogram2d\": [{\"colorbar\": {\"outlinewidth\": 0, \"ticks\": \"\"}, \"colorscale\": [[0.0, \"#0d0887\"], [0.1111111111111111, \"#46039f\"], [0.2222222222222222, \"#7201a8\"], [0.3333333333333333, \"#9c179e\"], [0.4444444444444444, \"#bd3786\"], [0.5555555555555556, \"#d8576b\"], [0.6666666666666666, \"#ed7953\"], [0.7777777777777778, \"#fb9f3a\"], [0.8888888888888888, \"#fdca26\"], [1.0, \"#f0f921\"]], \"type\": \"histogram2d\"}], \"histogram2dcontour\": [{\"colorbar\": {\"outlinewidth\": 0, \"ticks\": \"\"}, \"colorscale\": [[0.0, \"#0d0887\"], [0.1111111111111111, \"#46039f\"], [0.2222222222222222, \"#7201a8\"], [0.3333333333333333, \"#9c179e\"], [0.4444444444444444, \"#bd3786\"], [0.5555555555555556, \"#d8576b\"], [0.6666666666666666, \"#ed7953\"], [0.7777777777777778, \"#fb9f3a\"], [0.8888888888888888, \"#fdca26\"], [1.0, \"#f0f921\"]], \"type\": \"histogram2dcontour\"}], \"mesh3d\": [{\"colorbar\": {\"outlinewidth\": 0, \"ticks\": \"\"}, \"type\": \"mesh3d\"}], \"parcoords\": [{\"line\": {\"colorbar\": {\"outlinewidth\": 0, \"ticks\": \"\"}}, \"type\": \"parcoords\"}], \"pie\": [{\"automargin\": true, \"type\": \"pie\"}], \"scatter\": [{\"marker\": {\"colorbar\": {\"outlinewidth\": 0, \"ticks\": \"\"}}, \"type\": \"scatter\"}], \"scatter3d\": [{\"line\": {\"colorbar\": {\"outlinewidth\": 0, \"ticks\": \"\"}}, \"marker\": {\"colorbar\": {\"outlinewidth\": 0, \"ticks\": \"\"}}, \"type\": \"scatter3d\"}], \"scattercarpet\": [{\"marker\": {\"colorbar\": {\"outlinewidth\": 0, \"ticks\": \"\"}}, \"type\": \"scattercarpet\"}], \"scattergeo\": [{\"marker\": {\"colorbar\": {\"outlinewidth\": 0, \"ticks\": \"\"}}, \"type\": \"scattergeo\"}], \"scattergl\": [{\"marker\": {\"colorbar\": {\"outlinewidth\": 0, \"ticks\": \"\"}}, \"type\": \"scattergl\"}], \"scattermapbox\": [{\"marker\": {\"colorbar\": {\"outlinewidth\": 0, \"ticks\": \"\"}}, \"type\": \"scattermapbox\"}], \"scatterpolar\": [{\"marker\": {\"colorbar\": {\"outlinewidth\": 0, \"ticks\": \"\"}}, \"type\": \"scatterpolar\"}], \"scatterpolargl\": [{\"marker\": {\"colorbar\": {\"outlinewidth\": 0, \"ticks\": \"\"}}, \"type\": \"scatterpolargl\"}], \"scatterternary\": [{\"marker\": {\"colorbar\": {\"outlinewidth\": 0, \"ticks\": \"\"}}, \"type\": \"scatterternary\"}], \"surface\": [{\"colorbar\": {\"outlinewidth\": 0, \"ticks\": \"\"}, \"colorscale\": [[0.0, \"#0d0887\"], [0.1111111111111111, \"#46039f\"], [0.2222222222222222, \"#7201a8\"], [0.3333333333333333, \"#9c179e\"], [0.4444444444444444, \"#bd3786\"], [0.5555555555555556, \"#d8576b\"], [0.6666666666666666, \"#ed7953\"], [0.7777777777777778, \"#fb9f3a\"], [0.8888888888888888, \"#fdca26\"], [1.0, \"#f0f921\"]], \"type\": \"surface\"}], \"table\": [{\"cells\": {\"fill\": {\"color\": \"#EBF0F8\"}, \"line\": {\"color\": \"white\"}}, \"header\": {\"fill\": {\"color\": \"#C8D4E3\"}, \"line\": {\"color\": \"white\"}}, \"type\": \"table\"}]}, \"layout\": {\"annotationdefaults\": {\"arrowcolor\": \"#2a3f5f\", \"arrowhead\": 0, \"arrowwidth\": 1}, \"coloraxis\": {\"colorbar\": {\"outlinewidth\": 0, \"ticks\": \"\"}}, \"colorscale\": {\"diverging\": [[0, \"#8e0152\"], [0.1, \"#c51b7d\"], [0.2, \"#de77ae\"], [0.3, \"#f1b6da\"], [0.4, \"#fde0ef\"], [0.5, \"#f7f7f7\"], [0.6, \"#e6f5d0\"], [0.7, \"#b8e186\"], [0.8, \"#7fbc41\"], [0.9, \"#4d9221\"], [1, \"#276419\"]], \"sequential\": [[0.0, \"#0d0887\"], [0.1111111111111111, \"#46039f\"], [0.2222222222222222, \"#7201a8\"], [0.3333333333333333, \"#9c179e\"], [0.4444444444444444, \"#bd3786\"], [0.5555555555555556, \"#d8576b\"], [0.6666666666666666, \"#ed7953\"], [0.7777777777777778, \"#fb9f3a\"], [0.8888888888888888, \"#fdca26\"], [1.0, \"#f0f921\"]], \"sequentialminus\": [[0.0, \"#0d0887\"], [0.1111111111111111, \"#46039f\"], [0.2222222222222222, \"#7201a8\"], [0.3333333333333333, \"#9c179e\"], [0.4444444444444444, \"#bd3786\"], [0.5555555555555556, \"#d8576b\"], [0.6666666666666666, \"#ed7953\"], [0.7777777777777778, \"#fb9f3a\"], [0.8888888888888888, \"#fdca26\"], [1.0, \"#f0f921\"]]}, \"colorway\": [\"#636efa\", \"#EF553B\", \"#00cc96\", \"#ab63fa\", \"#FFA15A\", \"#19d3f3\", \"#FF6692\", \"#B6E880\", \"#FF97FF\", \"#FECB52\"], \"font\": {\"color\": \"#2a3f5f\"}, \"geo\": {\"bgcolor\": \"white\", \"lakecolor\": \"white\", \"landcolor\": \"#E5ECF6\", \"showlakes\": true, \"showland\": true, \"subunitcolor\": \"white\"}, \"hoverlabel\": {\"align\": \"left\"}, \"hovermode\": \"closest\", \"mapbox\": {\"style\": \"light\"}, \"paper_bgcolor\": \"white\", \"plot_bgcolor\": \"#E5ECF6\", \"polar\": {\"angularaxis\": {\"gridcolor\": \"white\", \"linecolor\": \"white\", \"ticks\": \"\"}, \"bgcolor\": \"#E5ECF6\", \"radialaxis\": {\"gridcolor\": \"white\", \"linecolor\": \"white\", \"ticks\": \"\"}}, \"scene\": {\"xaxis\": {\"backgroundcolor\": \"#E5ECF6\", \"gridcolor\": \"white\", \"gridwidth\": 2, \"linecolor\": \"white\", \"showbackground\": true, \"ticks\": \"\", \"zerolinecolor\": \"white\"}, \"yaxis\": {\"backgroundcolor\": \"#E5ECF6\", \"gridcolor\": \"white\", \"gridwidth\": 2, \"linecolor\": \"white\", \"showbackground\": true, \"ticks\": \"\", \"zerolinecolor\": \"white\"}, \"zaxis\": {\"backgroundcolor\": \"#E5ECF6\", \"gridcolor\": \"white\", \"gridwidth\": 2, \"linecolor\": \"white\", \"showbackground\": true, \"ticks\": \"\", \"zerolinecolor\": \"white\"}}, \"shapedefaults\": {\"line\": {\"color\": \"#2a3f5f\"}}, \"ternary\": {\"aaxis\": {\"gridcolor\": \"white\", \"linecolor\": \"white\", \"ticks\": \"\"}, \"baxis\": {\"gridcolor\": \"white\", \"linecolor\": \"white\", \"ticks\": \"\"}, \"bgcolor\": \"#E5ECF6\", \"caxis\": {\"gridcolor\": \"white\", \"linecolor\": \"white\", \"ticks\": \"\"}}, \"title\": {\"x\": 0.05}, \"xaxis\": {\"automargin\": true, \"gridcolor\": \"white\", \"linecolor\": \"white\", \"ticks\": \"\", \"title\": {\"standoff\": 15}, \"zerolinecolor\": \"white\", \"zerolinewidth\": 2}, \"yaxis\": {\"automargin\": true, \"gridcolor\": \"white\", \"linecolor\": \"white\", \"ticks\": \"\", \"title\": {\"standoff\": 15}, \"zerolinecolor\": \"white\", \"zerolinewidth\": 2}}}, \"xaxis\": {\"anchor\": \"y\", \"domain\": [0.0, 1.0], \"title\": {\"text\": \"0\"}}, \"yaxis\": {\"anchor\": \"x\", \"domain\": [0.0, 1.0], \"title\": {\"text\": \"count\"}}},\n",
       "                        {\"responsive\": true}\n",
       "                    ).then(function(){\n",
       "                            \n",
       "var gd = document.getElementById('33938414-a6a6-4436-9cd8-40fe62ac74b7');\n",
       "var x = new MutationObserver(function (mutations, observer) {{\n",
       "        var display = window.getComputedStyle(gd).display;\n",
       "        if (!display || display === 'none') {{\n",
       "            console.log([gd, 'removed!']);\n",
       "            Plotly.purge(gd);\n",
       "            observer.disconnect();\n",
       "        }}\n",
       "}});\n",
       "\n",
       "// Listen for the removal of the full notebook cells\n",
       "var notebookContainer = gd.closest('#notebook-container');\n",
       "if (notebookContainer) {{\n",
       "    x.observe(notebookContainer, {childList: true});\n",
       "}}\n",
       "\n",
       "// Listen for the clearing of the current output cell\n",
       "var outputEl = gd.closest('.output');\n",
       "if (outputEl) {{\n",
       "    x.observe(outputEl, {childList: true});\n",
       "}}\n",
       "\n",
       "                        })\n",
       "                };\n",
       "                });\n",
       "            </script>\n",
       "        </div>"
      ]
     },
     "metadata": {},
     "output_type": "display_data"
    }
   ],
   "source": [
    "px.histogram(pd.DataFrame(y_pred_train), x=0)"
   ]
  },
  {
   "cell_type": "code",
   "execution_count": 22,
   "metadata": {
    "ExecuteTime": {
     "end_time": "2020-06-20T20:03:02.123916Z",
     "start_time": "2020-06-20T20:03:01.938255Z"
    }
   },
   "outputs": [
    {
     "data": {
      "application/vnd.plotly.v1+json": {
       "config": {
        "plotlyServerURL": "https://plot.ly"
       },
       "data": [
        {
         "alignmentgroup": "True",
         "bingroup": "x",
         "hovertemplate": "0=%{x}<br>count=%{y}<extra></extra>",
         "legendgroup": "",
         "marker": {
          "color": "#636efa"
         },
         "name": "",
         "offsetgroup": "",
         "orientation": "v",
         "showlegend": false,
         "type": "histogram",
         "x": [
          0.06233746725727154,
          0.05802997513011493,
          0.04126170485533945,
          0.07685442447902986,
          0.05068013414742402,
          0.07799058353279306,
          0.22938584781478177,
          0.03960544072296168,
          0.05642406801930899,
          0.06728289148929299,
          0.11621627931260099,
          0.054789748271051916,
          0.20318389189352373,
          0.041011726005332205,
          0.05490436299480907,
          0.04429409569264858,
          0.05562133133745873,
          0.17446958472518423,
          0.04539695330247346,
          0.0626513577915037,
          0.05549304048466289,
          0.18548557106642094,
          0.045957377171375054,
          0.05475254590969153,
          0.07603241088512992,
          0.042753195155033334,
          0.053972960157351965,
          0.042816612671756384,
          0.04646816649083798,
          0.06365787164927711,
          0.09974705770029214,
          0.0491958150552275,
          0.051431415358615916,
          0.18045899875394839,
          0.1289205617019241,
          0.04754130860744432,
          0.06008721327907801,
          0.045992652018690856,
          0.2687187328178762,
          0.16078264074809512,
          0.08727062773635894,
          0.08261788787029138,
          0.11753191790039799,
          0.1480387187344487,
          0.06694163314426141,
          0.15163010793133108,
          0.17015536503103368,
          0.1744497320640093,
          0.04668440618626002,
          0.06135085962985254,
          0.06256826143587904,
          0.06990727248152281,
          0.09248513956323079,
          0.04440931749219884,
          0.040851950196811135,
          0.059827699939106554,
          0.30347232043958317,
          0.05918352412594868,
          0.11342870348621291,
          0.05337641657655682,
          0.050735643388837175,
          0.05357963579521703,
          0.05913258486981571,
          0.06535068422874984,
          0.3735970212291749,
          0.09543766794452113,
          0.06401845787052848,
          0.04567395255503031,
          0.04828696223412304,
          0.04804808500589401,
          0.05502262520705385,
          0.059007390974279365,
          0.04583626366897311,
          0.059167794720307074,
          0.058472966085982674,
          0.03838663891063106,
          0.06133756658276145,
          0.034375493317950784,
          0.06390945952500394,
          0.06754311694114042,
          0.04274452557510605,
          0.10584574818243725,
          0.0519198706425901,
          0.0458086684633797,
          0.1864882371710989,
          0.24236612471675315,
          0.05304556039115524,
          0.0544730626869424,
          0.04098093751643153,
          0.056622402055897275,
          0.042782716101091245,
          0.04336725166549427,
          0.04696311333184178,
          0.11264046172482213,
          0.09431479509224537,
          0.058145993840260236,
          0.050246851934176856,
          0.12285496494991273,
          0.06498530892773585,
          0.044103863139314116,
          0.06227975212748608,
          0.0440629268829005,
          0.046576753161479176,
          0.05544420104579045,
          0.046515875651969005,
          0.0694215927335699,
          0.05701298110216045,
          0.056512334779735905,
          0.04655699144797713,
          0.09591325839486037,
          0.04730988021121928,
          0.02373366788063566,
          0.04136190687780505,
          0.06581464088494428,
          0.07933149733286599,
          0.04983058705949394,
          0.0553500605374421,
          0.059732897478265004,
          0.17337805101107845,
          0.04367005083368912,
          0.05383340140522209,
          0.22343696032409374,
          0.05905003510432692,
          0.24813408634530051,
          0.053374787283866326,
          0.04465297935321886,
          0.0706131948514935,
          0.06641326511964853,
          0.028447373398790915,
          0.06482349163273196,
          0.04114372925958782,
          0.1764430399476436,
          0.06509651589729257,
          0.04997927628645959,
          0.05686246188407518,
          0.1686452290300181,
          0.14372439452689428,
          0.06305255178134461,
          0.047169410686621414,
          0.09872619247497368,
          0.04175092026814586,
          0.047681955201608416,
          0.12574415860755125,
          0.17582218912814224,
          0.06508951271823202,
          0.05896808862688427,
          0.11277547996880496,
          0.043645255983855075,
          0.0690220802102894,
          0.05090500349262362,
          0.16462687125283415,
          0.0833880918468927,
          0.04680207018229007,
          0.08899756633193036,
          0.08439268212600164,
          0.03978141960841142,
          0.0559480288052082,
          0.06312157168305314,
          0.1797109520280808,
          0.046787821727840836,
          0.0527984589991201,
          0.03948571038863219,
          0.056634121287778026,
          0.09033019596671431,
          0.19474801011856746,
          0.12240460173830028,
          0.0544927187174661,
          0.06873379031094175,
          0.04134458735828795,
          0.04449498717409964,
          0.055645466445745,
          0.07375309964693551,
          0.04787100558371549,
          0.06790545303416672,
          0.09197441794475307,
          0.054015391647409344,
          0.06128210547560513,
          0.16457892665096419,
          0.17007882081386666,
          0.19851367297587946,
          0.09245750445712127,
          0.049898906730761326,
          0.04871900958742536,
          0.057147003515610494,
          0.05327964150275685,
          0.04990557361917934,
          0.07466791701485055,
          0.04886653553183684,
          0.06114331867907084,
          0.05506341742656333,
          0.1346411651682416,
          0.11955589875799533,
          0.0577296698662972,
          0.07173127475564624,
          0.10558111560835176,
          0.09812614242751938,
          0.07511984747462491,
          0.0917262445297657,
          0.14790143727042343,
          0.045583978078072865,
          0.04932209420994716,
          0.04616785596051614,
          0.041135971367672865,
          0.05882784218395584,
          0.05975991452614864,
          0.23056459809429075,
          0.18882274580759945,
          0.04405534873106243,
          0.0974899621484374,
          0.17268094263744463,
          0.2010328312471727,
          0.044872885899610214,
          0.06708053133795921,
          0.07274959248477769,
          0.04535048806663292,
          0.06366894450419003,
          0.036306175603395795,
          0.14900354355227807,
          0.05425325847313258,
          0.057718178406817186,
          0.03877808920183175,
          0.05176797607036603,
          0.11598620666464826,
          0.044078482786335874,
          0.055981485606163096,
          0.05266534817243246,
          0.049420640977968236,
          0.062155296643538596,
          0.09392424923027322,
          0.25221756373182913,
          0.08547898931727521,
          0.04303953283356055,
          0.046565753803644805,
          0.04699231678720523,
          0.11053578818827303,
          0.043408323996771345,
          0.03691399113427687,
          0.1538187666835557,
          0.06103433016810504,
          0.05302483136919285,
          0.049670172232024475,
          0.053866021395178015,
          0.04891214980205509,
          0.04632327131394903,
          0.254027893463854,
          0.21415274563144965,
          0.042671973694192504,
          0.05111893961746051,
          0.030151223354271096,
          0.04109243304831514,
          0.04939191653872826,
          0.09193478945469759,
          0.06345492637079352,
          0.049279868071913084,
          0.15599528358989473,
          0.06489283134515338,
          0.04451431993799808,
          0.040380885453752166,
          0.04790922625597419,
          0.04632172850013915,
          0.20481322554447468,
          0.05892484549197165,
          0.05372941690327579,
          0.11610685657843656,
          0.05560686261178605,
          0.044180075059784336,
          0.0693279748516615,
          0.14250823393967638,
          0.23303863313960824,
          0.04979299297006466,
          0.07054585620894473,
          0.05822102766206459,
          0.048606377638671296,
          0.17977466089980249,
          0.18079907918225893,
          0.0622666862849728,
          0.04181716747142267,
          0.05141210434136508,
          0.05135923309362151,
          0.08688290826232901,
          0.045798266468618364,
          0.0628122525331343,
          0.22421100565535396,
          0.16210404702551812,
          0.06473220177957129,
          0.07797747820623303,
          0.11112705063381462,
          0.059720342482363485,
          0.06453645221893861,
          0.05097155712051737,
          0.055477972092192275,
          0.04045824247704061,
          0.0625704196368278,
          0.04103954146512113,
          0.026538255305836887,
          0.04277257088095793,
          0.04730817320862285,
          0.043573779280141084,
          0.04669704509908845,
          0.05520566034888748,
          0.15429717744569957,
          0.06111846466200585,
          0.03767333082579257,
          0.0627389486743096,
          0.16597950220919822,
          0.17966804779660592,
          0.030810309226032978,
          0.052076613396569646,
          0.07468516837761319,
          0.04032804524267634,
          0.048828948039996795,
          0.07179631584335251,
          0.10885119569904371,
          0.17303004848435857,
          0.05656660373595169,
          0.057747808556668584,
          0.04083106512858157,
          0.19259023908866676,
          0.0520660453593603,
          0.056965088354488436,
          0.16310051442864254,
          0.04971841847663697,
          0.04616194027035294,
          0.059381874696985276,
          0.10776837339106024,
          0.04430403150795641,
          0.0626383520404887,
          0.046991811368886714,
          0.0393431036786944,
          0.05244078839869083,
          0.03177568580718207,
          0.06035293246194694,
          0.1489246984779099,
          0.06472699782380212,
          0.050791692561255423,
          0.19210428193513812,
          0.06001852033303267,
          0.08128145291436548,
          0.052292284400757755,
          0.07083783096035602,
          0.1613877684868246,
          0.04098292031712374,
          0.056998642067023986,
          0.057542833061631604,
          0.050723507663382725,
          0.06496524294528919,
          0.04268087135591623,
          0.09317846483030189,
          0.24676950226834057,
          0.07277151619330278,
          0.04484765850062632,
          0.05735955482883685,
          0.06188030177371162,
          0.058860757235873515,
          0.03275503108354882,
          0.16279586109433364,
          0.11059362215978358,
          0.04852070596966759,
          0.06391301560813369,
          0.0723587839721965,
          0.05125223302321498,
          0.038073112287365256,
          0.06824875703821422,
          0.06905863949332587,
          0.04674477577627246,
          0.04688217571379819,
          0.03947712011392976,
          0.08236027842842505,
          0.057305148097318834,
          0.1592003364667698,
          0.04805807640708454,
          0.051360981363423854,
          0.10781312068329647,
          0.05644280351358481,
          0.2388103583930935,
          0.038637152016710606,
          0.05642737442615598,
          0.05362540492062273,
          0.21208141390280055,
          0.053477067869531214,
          0.041675793966206194,
          0.04676634128944817,
          0.11620772149472441,
          0.06666596478652899,
          0.06464681391741736,
          0.16361938222116593,
          0.06049144901017509,
          0.2933884651953268,
          0.046425396277721194,
          0.052240485618262104,
          0.06115603577072119,
          0.06255939183263756,
          0.04599882670391303,
          0.054325840044206986,
          0.09030556168459936,
          0.2272736284484208,
          0.22165019357121502,
          0.050620945697234083,
          0.043723216978519414,
          0.055955695426368496,
          0.05497416717410167,
          0.06410897425302896,
          0.15467619242349778,
          0.048641541306667084,
          0.057554962316633186,
          0.1970832763238617,
          0.061574343292185314,
          0.14386788088584396,
          0.046596207624895886,
          0.04963732458438818,
          0.04126294203363521,
          0.06020673505775652,
          0.1301474707459266,
          0.08212438537080868,
          0.05539696726643378,
          0.07584949522762133,
          0.04727526109761437,
          0.06068134302768277,
          0.04482085981735789,
          0.09414398733829514,
          0.05654682578382593,
          0.05160335615758274,
          0.05911740697267241,
          0.09108908247772346,
          0.0450331034280667,
          0.2598063114278545,
          0.049327411892111706,
          0.15201324925203002,
          0.04433488273777161,
          0.06564906408875883,
          0.06088371129362994,
          0.06602169653916849,
          0.046893979720161474,
          0.36421519092373644,
          0.06151843421560067,
          0.1305016089758028,
          0.056961931305999636,
          0.06515418333965331,
          0.07106192468005665,
          0.10009153436470784,
          0.06066325883721586,
          0.1590387373470025,
          0.040942690524052285,
          0.05078913328510933,
          0.15998045420487766,
          0.041119682245520255,
          0.20650873460569424,
          0.04637449449483502,
          0.043230008114684304,
          0.07002576693073295,
          0.06319398290087463,
          0.04505017054317737,
          0.048417343233863444,
          0.13988614382126496,
          0.04932163315279168,
          0.20972219357260133,
          0.06665140438801391,
          0.2706143096652718,
          0.04773732957338653,
          0.280526010959397,
          0.21277894042380388,
          0.06625532624988786,
          0.048583541254433975,
          0.04782904805987555,
          0.04225475931265302,
          0.046309144817487075,
          0.04001993605131178,
          0.0608684370137524,
          0.05771134122926626,
          0.06421370950284412,
          0.1438857988966557,
          0.0737690569801513,
          0.06247022832899195,
          0.0693286964545799,
          0.18430662661828567,
          0.19112885062168938,
          0.04867690444436936,
          0.04813579912189484,
          0.05446572307157889,
          0.04807081446901347,
          0.07359680787701238,
          0.06200485626859824,
          0.0439265059341186,
          0.12371814646439197,
          0.045298804446546735,
          0.11147345446653356,
          0.0696622559473839,
          0.07353676054719245,
          0.16908652066829657,
          0.15412335576612674,
          0.03834747593541305,
          0.15445004935938633,
          0.06988869782999294,
          0.15542493621893638,
          0.052277486641733095,
          0.04728255752636228,
          0.039804870186366345,
          0.04418347556375074,
          0.10004733538623227,
          0.09628734264983717,
          0.10109169585951189,
          0.04582407520203113,
          0.055410736137990926,
          0.056663467186640316,
          0.057192450258227036,
          0.04210539743797219,
          0.04071191892108291,
          0.15413671909217957,
          0.04272594243095996,
          0.06082252268529301,
          0.03886317829468481,
          0.05475372624003853,
          0.07188915379479056,
          0.08323820262381788,
          0.04619815211303374,
          0.1261577826760043,
          0.04611993583208691,
          0.19161512998623426,
          0.04585223779423368,
          0.05675417868072616,
          0.16682912157644186,
          0.05469695877969517,
          0.05600200348217565,
          0.07431537632337427,
          0.21632639100305404,
          0.07140372326273273,
          0.046255635887763366,
          0.21721068347563743,
          0.027192304503456957,
          0.052220576124718296,
          0.04382116439107103,
          0.08789289299931549,
          0.09233444225079239,
          0.05315437011117061,
          0.1354058519874104,
          0.057455624236368824,
          0.056760749437287476,
          0.05201331731953794,
          0.061157488372410695,
          0.042181252444604043,
          0.051672281137485884,
          0.07308333438159967,
          0.05568037757830065,
          0.18839760585412735,
          0.04264615960274773,
          0.05156282451274698,
          0.04678256960934073,
          0.07042874288586873,
          0.08302317059190989,
          0.06930158115362006,
          0.09667765688996773,
          0.10575962792305114,
          0.15977962106925933,
          0.08170635321775305,
          0.06861449574598419,
          0.06570612094108921,
          0.059660353045148065,
          0.0602640155816888,
          0.044728127007476276,
          0.047870695161833725,
          0.06287375046382548,
          0.05621455301919481,
          0.06019990194434002,
          0.05611341039464171,
          0.058537876771745906,
          0.04793271429473983,
          0.05521477245558548,
          0.048574320060628035,
          0.047744503027251084,
          0.050158474306674576,
          0.07168478308627682,
          0.0805677554951548,
          0.05702286510114406,
          0.04965832096420634,
          0.24361764656404067,
          0.05256573272970519,
          0.061737254765864794,
          0.06323037590156817,
          0.05906129986994634,
          0.16897463399527057,
          0.06716274535095003,
          0.044474933783450285,
          0.05842753369314202,
          0.045958944850823115,
          0.048708907454636685,
          0.05741994853609276,
          0.14038277069538752,
          0.06917783551935199,
          0.05644232945246275,
          0.0488202375949191,
          0.050838253011436275,
          0.23881411734435948,
          0.044917827875009385,
          0.041104532844331555,
          0.04771520152731892,
          0.08752424747650059,
          0.05423623117855789,
          0.07901588701440095,
          0.11726170810831683,
          0.045582681390110284,
          0.19787046216488802,
          0.058434017677645514,
          0.0878631042398253,
          0.03736647365676941,
          0.3319316812653231,
          0.02734888827070285,
          0.03758646903326197,
          0.05602014089326545,
          0.037809300479835634,
          0.042799272887151386,
          0.0682213603765516,
          0.062259176608211036,
          0.037980191524048704,
          0.06915071409314999,
          0.04860448863689445,
          0.18337659644634202,
          0.16127919178842548,
          0.3180528580050236,
          0.23073980843083627,
          0.058872786287710546,
          0.04489778079967453,
          0.07655087043408798,
          0.06260543665723506,
          0.15529939421840522,
          0.05041055631296905,
          0.05648532582283322,
          0.09538025199957544,
          0.040111246543333576,
          0.11680929669142792,
          0.19299004049060506,
          0.06317907225454472,
          0.2379486261161255,
          0.2011068148438715,
          0.06567490594854761,
          0.061253695975780294,
          0.19015406934870585,
          0.05682487394028144,
          0.22857506963475516,
          0.11553742591739263,
          0.053969005045404625,
          0.040796314424241954,
          0.07034010078697671,
          0.17835973760623441,
          0.043443123025115486,
          0.042201357790275756,
          0.04348364181149001,
          0.1579747222342075,
          0.10579454786023428,
          0.11847884519179588,
          0.06448896981857265,
          0.1535017132729203,
          0.08977514649687358,
          0.04811399303922741,
          0.05531508262393509,
          0.04455710863427193,
          0.1338177807470524,
          0.05046851473902301,
          0.09295738672543648,
          0.054128931343050364,
          0.06694438568610644,
          0.06052975955262259,
          0.052476857310542566,
          0.06419497650702582,
          0.06429366512347427,
          0.15555085385445122,
          0.05194290903322553,
          0.05463534336961197,
          0.09841203470552488,
          0.04479466852892709,
          0.05628390531760289,
          0.1954606945158982,
          0.04681357875339095,
          0.060527862360571165,
          0.17387338591015902,
          0.18248726769452794,
          0.06853454769831722,
          0.13852204137321392,
          0.11764182579113729,
          0.04030284896628025,
          0.05127761456287739,
          0.041919900791730774,
          0.05295407572610276,
          0.05051167946900251,
          0.03949466199135774,
          0.1435665845499846,
          0.07766832398160699,
          0.08478465881611107,
          0.05484945823754572,
          0.04617691158971624,
          0.06426967927493862,
          0.04162531302191279,
          0.036197490791217216,
          0.01926727036718337,
          0.04277855881632222,
          0.1863690043701482,
          0.04815288237224584,
          0.24767479739641252,
          0.06155091050869892,
          0.12580598526411899,
          0.21479053674370308,
          0.0492112457868657,
          0.061977842267911566,
          0.049624554747086616,
          0.053753371843879606,
          0.07497945675949588,
          0.05114809458025569,
          0.04756925379553836,
          0.07088872003245977,
          0.047282178453319654,
          0.09600806227116791,
          0.04968878587346615,
          0.043790302091646374,
          0.045891801309986664,
          0.08209492023115654,
          0.058483183770442815,
          0.09219724013303661,
          0.04633737403742241,
          0.07333187314302005,
          0.039922623778491054,
          0.15470466895822887,
          0.048377066299117616,
          0.06006773304806872,
          0.05398327953665119,
          0.06801992535143078,
          0.06056440579522045,
          0.06083523296984519,
          0.06436335724216509,
          0.047096937841445675,
          0.24304728845136717,
          0.04672551866524661,
          0.06415511593960371,
          0.05738966801433398,
          0.04358539903513044,
          0.04452109395507846,
          0.08420088676054462,
          0.04074081707730231,
          0.06209245830282618,
          0.0409073431191608,
          0.06467442234951812,
          0.06649459399663724,
          0.05597764077290549,
          0.05959283180118638,
          0.09527148780557834,
          0.03815514457668869,
          0.20482175399107633,
          0.23657348965236727,
          0.12354597697469605,
          0.04697748615734021,
          0.05145096170996416,
          0.08151489567080977,
          0.0469520702508798,
          0.042162325448229176,
          0.062008559871299086,
          0.04281433000831474,
          0.03971248046915943,
          0.13256673985267348,
          0.11280385424037595,
          0.07471544680005712,
          0.05916807497960476,
          0.05822879633534688,
          0.04243603463615436,
          0.04296194321249436,
          0.2865848087468943,
          0.15844919490152215,
          0.05700462495409156,
          0.07784382738669454,
          0.06477771736726583,
          0.19900628098296816,
          0.046837662342729694,
          0.0415950592775467,
          0.04608299366025711,
          0.06531484005792493,
          0.04805034714977469,
          0.1725142180011749,
          0.04715198413288415,
          0.047029656634324575,
          0.09253694076483909,
          0.07425274656908347,
          0.041830303991297085,
          0.04307769268290848,
          0.04432896021403491,
          0.12303840558507949,
          0.08689885404897785,
          0.128015074712514,
          0.042799165239609104,
          0.25606793484077,
          0.28810576243534874,
          0.05065544152411227,
          0.08718095000434196,
          0.050012769858813325,
          0.06655312287773192,
          0.056838341744102655,
          0.10297792359079608,
          0.035992541558987776,
          0.04647674781802165,
          0.04582771980463932,
          0.1807506436083898,
          0.18619659605652877,
          0.06871831328998983,
          0.029195053696241514,
          0.0591496188737823,
          0.10119278890790445,
          0.24942253767013767,
          0.1795437567758235,
          0.05704713107961525,
          0.06545391048628316,
          0.043246635671501714,
          0.050232481696584785,
          0.06772408978275422,
          0.04016039389809372,
          0.07071745265515275,
          0.07692375562352065,
          0.09064635626042998,
          0.04488674327959129,
          0.21196022129066716,
          0.06331092002406155,
          0.053633619374506045,
          0.06255419522477994,
          0.1469333056869947,
          0.046695988661897815,
          0.05611202677347235,
          0.36812476852015996,
          0.04667135327835185,
          0.12313404967632902,
          0.04338086218054283,
          0.045134790191089166,
          0.05865783416621116,
          0.047010469389107266,
          0.04232474585880623,
          0.0490362212047825,
          0.05423101464997551,
          0.050806939594343216,
          0.105368339052242,
          0.04062670616914569,
          0.04988172643750232,
          0.08898419369892727,
          0.09181143175104975,
          0.04882467421905219,
          0.05076487057487741,
          0.07005514178612107,
          0.052734671714411575,
          0.15582504042786582,
          0.08558659840540736,
          0.04659320800411993,
          0.03555441061077077,
          0.04149088726177576,
          0.046934068572136764,
          0.059443798144103485,
          0.05706179035588546,
          0.057295359914718055,
          0.05356310912807308,
          0.06302064695057152,
          0.09609300500802662,
          0.0433931504650763,
          0.054918610904981506,
          0.05019241192958781,
          0.05027938947966101,
          0.038187727823124185,
          0.14533100311055935,
          0.043198588638824684,
          0.08108278887512982,
          0.05202671779877821,
          0.1290487157042648,
          0.09122664602253695,
          0.042678286876840714,
          0.0689143945243097,
          0.15934239261168948,
          0.17852386192633982,
          0.05017617336935358,
          0.0529914785880823,
          0.04840636969622605,
          0.0376901670517114,
          0.03748848225505357,
          0.05517496447586756,
          0.04908716895472196,
          0.11682438746176081,
          0.10461360882054793,
          0.18219233297159432,
          0.04795210626398181,
          0.17891198316698537,
          0.0461892857916839,
          0.046783362947470014,
          0.0717291098658952,
          0.045252267081723425,
          0.15193937875356323,
          0.17913928742941537,
          0.05394687113146658,
          0.046796051682306,
          0.11024912235896425,
          0.056498447284384454,
          0.06545237797480699,
          0.057567054318291316,
          0.04169962448808557,
          0.04998422077517897,
          0.07392715688437204,
          0.06278117989779948,
          0.043632897904069975,
          0.06138133455699462,
          0.04221333845169705,
          0.047324021994776984,
          0.04424919203426284,
          0.04637197593640733,
          0.1524083334366682,
          0.039923877411135324,
          0.05477394029810972,
          0.11436532171103377,
          0.0693257088925385,
          0.04790911002129187,
          0.06113381433850259,
          0.045446678192464375,
          0.059576847119111626,
          0.05127194299934723,
          0.04155738816181846,
          0.21981191095483835,
          0.07025901564429672,
          0.04850182144236661,
          0.06292902938563606,
          0.05730442968444556,
          0.1614903710103181,
          0.055711857501020964,
          0.044654897153022684,
          0.048164950441001116,
          0.053489251245654616,
          0.05919602507464143,
          0.04507207117858653,
          0.08277276663871797,
          0.15322580811501021,
          0.05144718483608148,
          0.05555802371266676,
          0.05486007519461947,
          0.04208376796722491,
          0.05348948606915886,
          0.05920406782587031,
          0.0651713022224765,
          0.032381148336032915,
          0.0560107585602434,
          0.07576860452530432,
          0.050036983812031595,
          0.07240109834157371,
          0.04018278192379167,
          0.043451018576417914,
          0.054033724773958805,
          0.04811221601736097,
          0.057463461079469896,
          0.060972992263578954,
          0.09523319022094463,
          0.038790464877557045,
          0.0459210804435658,
          0.048004027941028656,
          0.051681886518953765,
          0.058956672374976066,
          0.06672129675443846,
          0.08058265106710351,
          0.12030384125576095,
          0.052671586207459306,
          0.05578590486347142,
          0.13839759215381436,
          0.09113697233289951,
          0.044949264373351484,
          0.18400977837441737,
          0.050569568550902194,
          0.04544226773308036,
          0.0570155876356017,
          0.18516697613386657,
          0.5872722765769587,
          0.033671163159704094,
          0.10567168039592312
         ],
         "xaxis": "x",
         "yaxis": "y"
        }
       ],
       "layout": {
        "barmode": "relative",
        "legend": {
         "tracegroupgap": 0
        },
        "margin": {
         "t": 60
        },
        "template": {
         "data": {
          "bar": [
           {
            "error_x": {
             "color": "#2a3f5f"
            },
            "error_y": {
             "color": "#2a3f5f"
            },
            "marker": {
             "line": {
              "color": "#E5ECF6",
              "width": 0.5
             }
            },
            "type": "bar"
           }
          ],
          "barpolar": [
           {
            "marker": {
             "line": {
              "color": "#E5ECF6",
              "width": 0.5
             }
            },
            "type": "barpolar"
           }
          ],
          "carpet": [
           {
            "aaxis": {
             "endlinecolor": "#2a3f5f",
             "gridcolor": "white",
             "linecolor": "white",
             "minorgridcolor": "white",
             "startlinecolor": "#2a3f5f"
            },
            "baxis": {
             "endlinecolor": "#2a3f5f",
             "gridcolor": "white",
             "linecolor": "white",
             "minorgridcolor": "white",
             "startlinecolor": "#2a3f5f"
            },
            "type": "carpet"
           }
          ],
          "choropleth": [
           {
            "colorbar": {
             "outlinewidth": 0,
             "ticks": ""
            },
            "type": "choropleth"
           }
          ],
          "contour": [
           {
            "colorbar": {
             "outlinewidth": 0,
             "ticks": ""
            },
            "colorscale": [
             [
              0,
              "#0d0887"
             ],
             [
              0.1111111111111111,
              "#46039f"
             ],
             [
              0.2222222222222222,
              "#7201a8"
             ],
             [
              0.3333333333333333,
              "#9c179e"
             ],
             [
              0.4444444444444444,
              "#bd3786"
             ],
             [
              0.5555555555555556,
              "#d8576b"
             ],
             [
              0.6666666666666666,
              "#ed7953"
             ],
             [
              0.7777777777777778,
              "#fb9f3a"
             ],
             [
              0.8888888888888888,
              "#fdca26"
             ],
             [
              1,
              "#f0f921"
             ]
            ],
            "type": "contour"
           }
          ],
          "contourcarpet": [
           {
            "colorbar": {
             "outlinewidth": 0,
             "ticks": ""
            },
            "type": "contourcarpet"
           }
          ],
          "heatmap": [
           {
            "colorbar": {
             "outlinewidth": 0,
             "ticks": ""
            },
            "colorscale": [
             [
              0,
              "#0d0887"
             ],
             [
              0.1111111111111111,
              "#46039f"
             ],
             [
              0.2222222222222222,
              "#7201a8"
             ],
             [
              0.3333333333333333,
              "#9c179e"
             ],
             [
              0.4444444444444444,
              "#bd3786"
             ],
             [
              0.5555555555555556,
              "#d8576b"
             ],
             [
              0.6666666666666666,
              "#ed7953"
             ],
             [
              0.7777777777777778,
              "#fb9f3a"
             ],
             [
              0.8888888888888888,
              "#fdca26"
             ],
             [
              1,
              "#f0f921"
             ]
            ],
            "type": "heatmap"
           }
          ],
          "heatmapgl": [
           {
            "colorbar": {
             "outlinewidth": 0,
             "ticks": ""
            },
            "colorscale": [
             [
              0,
              "#0d0887"
             ],
             [
              0.1111111111111111,
              "#46039f"
             ],
             [
              0.2222222222222222,
              "#7201a8"
             ],
             [
              0.3333333333333333,
              "#9c179e"
             ],
             [
              0.4444444444444444,
              "#bd3786"
             ],
             [
              0.5555555555555556,
              "#d8576b"
             ],
             [
              0.6666666666666666,
              "#ed7953"
             ],
             [
              0.7777777777777778,
              "#fb9f3a"
             ],
             [
              0.8888888888888888,
              "#fdca26"
             ],
             [
              1,
              "#f0f921"
             ]
            ],
            "type": "heatmapgl"
           }
          ],
          "histogram": [
           {
            "marker": {
             "colorbar": {
              "outlinewidth": 0,
              "ticks": ""
             }
            },
            "type": "histogram"
           }
          ],
          "histogram2d": [
           {
            "colorbar": {
             "outlinewidth": 0,
             "ticks": ""
            },
            "colorscale": [
             [
              0,
              "#0d0887"
             ],
             [
              0.1111111111111111,
              "#46039f"
             ],
             [
              0.2222222222222222,
              "#7201a8"
             ],
             [
              0.3333333333333333,
              "#9c179e"
             ],
             [
              0.4444444444444444,
              "#bd3786"
             ],
             [
              0.5555555555555556,
              "#d8576b"
             ],
             [
              0.6666666666666666,
              "#ed7953"
             ],
             [
              0.7777777777777778,
              "#fb9f3a"
             ],
             [
              0.8888888888888888,
              "#fdca26"
             ],
             [
              1,
              "#f0f921"
             ]
            ],
            "type": "histogram2d"
           }
          ],
          "histogram2dcontour": [
           {
            "colorbar": {
             "outlinewidth": 0,
             "ticks": ""
            },
            "colorscale": [
             [
              0,
              "#0d0887"
             ],
             [
              0.1111111111111111,
              "#46039f"
             ],
             [
              0.2222222222222222,
              "#7201a8"
             ],
             [
              0.3333333333333333,
              "#9c179e"
             ],
             [
              0.4444444444444444,
              "#bd3786"
             ],
             [
              0.5555555555555556,
              "#d8576b"
             ],
             [
              0.6666666666666666,
              "#ed7953"
             ],
             [
              0.7777777777777778,
              "#fb9f3a"
             ],
             [
              0.8888888888888888,
              "#fdca26"
             ],
             [
              1,
              "#f0f921"
             ]
            ],
            "type": "histogram2dcontour"
           }
          ],
          "mesh3d": [
           {
            "colorbar": {
             "outlinewidth": 0,
             "ticks": ""
            },
            "type": "mesh3d"
           }
          ],
          "parcoords": [
           {
            "line": {
             "colorbar": {
              "outlinewidth": 0,
              "ticks": ""
             }
            },
            "type": "parcoords"
           }
          ],
          "pie": [
           {
            "automargin": true,
            "type": "pie"
           }
          ],
          "scatter": [
           {
            "marker": {
             "colorbar": {
              "outlinewidth": 0,
              "ticks": ""
             }
            },
            "type": "scatter"
           }
          ],
          "scatter3d": [
           {
            "line": {
             "colorbar": {
              "outlinewidth": 0,
              "ticks": ""
             }
            },
            "marker": {
             "colorbar": {
              "outlinewidth": 0,
              "ticks": ""
             }
            },
            "type": "scatter3d"
           }
          ],
          "scattercarpet": [
           {
            "marker": {
             "colorbar": {
              "outlinewidth": 0,
              "ticks": ""
             }
            },
            "type": "scattercarpet"
           }
          ],
          "scattergeo": [
           {
            "marker": {
             "colorbar": {
              "outlinewidth": 0,
              "ticks": ""
             }
            },
            "type": "scattergeo"
           }
          ],
          "scattergl": [
           {
            "marker": {
             "colorbar": {
              "outlinewidth": 0,
              "ticks": ""
             }
            },
            "type": "scattergl"
           }
          ],
          "scattermapbox": [
           {
            "marker": {
             "colorbar": {
              "outlinewidth": 0,
              "ticks": ""
             }
            },
            "type": "scattermapbox"
           }
          ],
          "scatterpolar": [
           {
            "marker": {
             "colorbar": {
              "outlinewidth": 0,
              "ticks": ""
             }
            },
            "type": "scatterpolar"
           }
          ],
          "scatterpolargl": [
           {
            "marker": {
             "colorbar": {
              "outlinewidth": 0,
              "ticks": ""
             }
            },
            "type": "scatterpolargl"
           }
          ],
          "scatterternary": [
           {
            "marker": {
             "colorbar": {
              "outlinewidth": 0,
              "ticks": ""
             }
            },
            "type": "scatterternary"
           }
          ],
          "surface": [
           {
            "colorbar": {
             "outlinewidth": 0,
             "ticks": ""
            },
            "colorscale": [
             [
              0,
              "#0d0887"
             ],
             [
              0.1111111111111111,
              "#46039f"
             ],
             [
              0.2222222222222222,
              "#7201a8"
             ],
             [
              0.3333333333333333,
              "#9c179e"
             ],
             [
              0.4444444444444444,
              "#bd3786"
             ],
             [
              0.5555555555555556,
              "#d8576b"
             ],
             [
              0.6666666666666666,
              "#ed7953"
             ],
             [
              0.7777777777777778,
              "#fb9f3a"
             ],
             [
              0.8888888888888888,
              "#fdca26"
             ],
             [
              1,
              "#f0f921"
             ]
            ],
            "type": "surface"
           }
          ],
          "table": [
           {
            "cells": {
             "fill": {
              "color": "#EBF0F8"
             },
             "line": {
              "color": "white"
             }
            },
            "header": {
             "fill": {
              "color": "#C8D4E3"
             },
             "line": {
              "color": "white"
             }
            },
            "type": "table"
           }
          ]
         },
         "layout": {
          "annotationdefaults": {
           "arrowcolor": "#2a3f5f",
           "arrowhead": 0,
           "arrowwidth": 1
          },
          "coloraxis": {
           "colorbar": {
            "outlinewidth": 0,
            "ticks": ""
           }
          },
          "colorscale": {
           "diverging": [
            [
             0,
             "#8e0152"
            ],
            [
             0.1,
             "#c51b7d"
            ],
            [
             0.2,
             "#de77ae"
            ],
            [
             0.3,
             "#f1b6da"
            ],
            [
             0.4,
             "#fde0ef"
            ],
            [
             0.5,
             "#f7f7f7"
            ],
            [
             0.6,
             "#e6f5d0"
            ],
            [
             0.7,
             "#b8e186"
            ],
            [
             0.8,
             "#7fbc41"
            ],
            [
             0.9,
             "#4d9221"
            ],
            [
             1,
             "#276419"
            ]
           ],
           "sequential": [
            [
             0,
             "#0d0887"
            ],
            [
             0.1111111111111111,
             "#46039f"
            ],
            [
             0.2222222222222222,
             "#7201a8"
            ],
            [
             0.3333333333333333,
             "#9c179e"
            ],
            [
             0.4444444444444444,
             "#bd3786"
            ],
            [
             0.5555555555555556,
             "#d8576b"
            ],
            [
             0.6666666666666666,
             "#ed7953"
            ],
            [
             0.7777777777777778,
             "#fb9f3a"
            ],
            [
             0.8888888888888888,
             "#fdca26"
            ],
            [
             1,
             "#f0f921"
            ]
           ],
           "sequentialminus": [
            [
             0,
             "#0d0887"
            ],
            [
             0.1111111111111111,
             "#46039f"
            ],
            [
             0.2222222222222222,
             "#7201a8"
            ],
            [
             0.3333333333333333,
             "#9c179e"
            ],
            [
             0.4444444444444444,
             "#bd3786"
            ],
            [
             0.5555555555555556,
             "#d8576b"
            ],
            [
             0.6666666666666666,
             "#ed7953"
            ],
            [
             0.7777777777777778,
             "#fb9f3a"
            ],
            [
             0.8888888888888888,
             "#fdca26"
            ],
            [
             1,
             "#f0f921"
            ]
           ]
          },
          "colorway": [
           "#636efa",
           "#EF553B",
           "#00cc96",
           "#ab63fa",
           "#FFA15A",
           "#19d3f3",
           "#FF6692",
           "#B6E880",
           "#FF97FF",
           "#FECB52"
          ],
          "font": {
           "color": "#2a3f5f"
          },
          "geo": {
           "bgcolor": "white",
           "lakecolor": "white",
           "landcolor": "#E5ECF6",
           "showlakes": true,
           "showland": true,
           "subunitcolor": "white"
          },
          "hoverlabel": {
           "align": "left"
          },
          "hovermode": "closest",
          "mapbox": {
           "style": "light"
          },
          "paper_bgcolor": "white",
          "plot_bgcolor": "#E5ECF6",
          "polar": {
           "angularaxis": {
            "gridcolor": "white",
            "linecolor": "white",
            "ticks": ""
           },
           "bgcolor": "#E5ECF6",
           "radialaxis": {
            "gridcolor": "white",
            "linecolor": "white",
            "ticks": ""
           }
          },
          "scene": {
           "xaxis": {
            "backgroundcolor": "#E5ECF6",
            "gridcolor": "white",
            "gridwidth": 2,
            "linecolor": "white",
            "showbackground": true,
            "ticks": "",
            "zerolinecolor": "white"
           },
           "yaxis": {
            "backgroundcolor": "#E5ECF6",
            "gridcolor": "white",
            "gridwidth": 2,
            "linecolor": "white",
            "showbackground": true,
            "ticks": "",
            "zerolinecolor": "white"
           },
           "zaxis": {
            "backgroundcolor": "#E5ECF6",
            "gridcolor": "white",
            "gridwidth": 2,
            "linecolor": "white",
            "showbackground": true,
            "ticks": "",
            "zerolinecolor": "white"
           }
          },
          "shapedefaults": {
           "line": {
            "color": "#2a3f5f"
           }
          },
          "ternary": {
           "aaxis": {
            "gridcolor": "white",
            "linecolor": "white",
            "ticks": ""
           },
           "baxis": {
            "gridcolor": "white",
            "linecolor": "white",
            "ticks": ""
           },
           "bgcolor": "#E5ECF6",
           "caxis": {
            "gridcolor": "white",
            "linecolor": "white",
            "ticks": ""
           }
          },
          "title": {
           "x": 0.05
          },
          "xaxis": {
           "automargin": true,
           "gridcolor": "white",
           "linecolor": "white",
           "ticks": "",
           "title": {
            "standoff": 15
           },
           "zerolinecolor": "white",
           "zerolinewidth": 2
          },
          "yaxis": {
           "automargin": true,
           "gridcolor": "white",
           "linecolor": "white",
           "ticks": "",
           "title": {
            "standoff": 15
           },
           "zerolinecolor": "white",
           "zerolinewidth": 2
          }
         }
        },
        "xaxis": {
         "anchor": "y",
         "domain": [
          0,
          1
         ],
         "title": {
          "text": "0"
         }
        },
        "yaxis": {
         "anchor": "x",
         "domain": [
          0,
          1
         ],
         "title": {
          "text": "count"
         }
        }
       }
      },
      "text/html": [
       "<div>\n",
       "        \n",
       "        \n",
       "            <div id=\"bc45e792-2e9a-4fad-a6e9-b18553f7a8df\" class=\"plotly-graph-div\" style=\"height:525px; width:100%;\"></div>\n",
       "            <script type=\"text/javascript\">\n",
       "                require([\"plotly\"], function(Plotly) {\n",
       "                    window.PLOTLYENV=window.PLOTLYENV || {};\n",
       "                    \n",
       "                if (document.getElementById(\"bc45e792-2e9a-4fad-a6e9-b18553f7a8df\")) {\n",
       "                    Plotly.newPlot(\n",
       "                        'bc45e792-2e9a-4fad-a6e9-b18553f7a8df',\n",
       "                        [{\"alignmentgroup\": \"True\", \"bingroup\": \"x\", \"hovertemplate\": \"0=%{x}<br>count=%{y}<extra></extra>\", \"legendgroup\": \"\", \"marker\": {\"color\": \"#636efa\"}, \"name\": \"\", \"offsetgroup\": \"\", \"orientation\": \"v\", \"showlegend\": false, \"type\": \"histogram\", \"x\": [0.06233746725727154, 0.05802997513011493, 0.04126170485533945, 0.07685442447902986, 0.05068013414742402, 0.07799058353279306, 0.22938584781478177, 0.03960544072296168, 0.05642406801930899, 0.06728289148929299, 0.11621627931260099, 0.054789748271051916, 0.20318389189352373, 0.041011726005332205, 0.05490436299480907, 0.04429409569264858, 0.05562133133745873, 0.17446958472518423, 0.04539695330247346, 0.0626513577915037, 0.05549304048466289, 0.18548557106642094, 0.045957377171375054, 0.05475254590969153, 0.07603241088512992, 0.042753195155033334, 0.053972960157351965, 0.042816612671756384, 0.04646816649083798, 0.06365787164927711, 0.09974705770029214, 0.0491958150552275, 0.051431415358615916, 0.18045899875394839, 0.1289205617019241, 0.04754130860744432, 0.06008721327907801, 0.045992652018690856, 0.2687187328178762, 0.16078264074809512, 0.08727062773635894, 0.08261788787029138, 0.11753191790039799, 0.1480387187344487, 0.06694163314426141, 0.15163010793133108, 0.17015536503103368, 0.1744497320640093, 0.04668440618626002, 0.06135085962985254, 0.06256826143587904, 0.06990727248152281, 0.09248513956323079, 0.04440931749219884, 0.040851950196811135, 0.059827699939106554, 0.30347232043958317, 0.05918352412594868, 0.11342870348621291, 0.05337641657655682, 0.050735643388837175, 0.05357963579521703, 0.05913258486981571, 0.06535068422874984, 0.3735970212291749, 0.09543766794452113, 0.06401845787052848, 0.04567395255503031, 0.04828696223412304, 0.04804808500589401, 0.05502262520705385, 0.059007390974279365, 0.04583626366897311, 0.059167794720307074, 0.058472966085982674, 0.03838663891063106, 0.06133756658276145, 0.034375493317950784, 0.06390945952500394, 0.06754311694114042, 0.04274452557510605, 0.10584574818243725, 0.0519198706425901, 0.0458086684633797, 0.1864882371710989, 0.24236612471675315, 0.05304556039115524, 0.0544730626869424, 0.04098093751643153, 0.056622402055897275, 0.042782716101091245, 0.04336725166549427, 0.04696311333184178, 0.11264046172482213, 0.09431479509224537, 0.058145993840260236, 0.050246851934176856, 0.12285496494991273, 0.06498530892773585, 0.044103863139314116, 0.06227975212748608, 0.0440629268829005, 0.046576753161479176, 0.05544420104579045, 0.046515875651969005, 0.0694215927335699, 0.05701298110216045, 0.056512334779735905, 0.04655699144797713, 0.09591325839486037, 0.04730988021121928, 0.02373366788063566, 0.04136190687780505, 0.06581464088494428, 0.07933149733286599, 0.04983058705949394, 0.0553500605374421, 0.059732897478265004, 0.17337805101107845, 0.04367005083368912, 0.05383340140522209, 0.22343696032409374, 0.05905003510432692, 0.24813408634530051, 0.053374787283866326, 0.04465297935321886, 0.0706131948514935, 0.06641326511964853, 0.028447373398790915, 0.06482349163273196, 0.04114372925958782, 0.1764430399476436, 0.06509651589729257, 0.04997927628645959, 0.05686246188407518, 0.1686452290300181, 0.14372439452689428, 0.06305255178134461, 0.047169410686621414, 0.09872619247497368, 0.04175092026814586, 0.047681955201608416, 0.12574415860755125, 0.17582218912814224, 0.06508951271823202, 0.05896808862688427, 0.11277547996880496, 0.043645255983855075, 0.0690220802102894, 0.05090500349262362, 0.16462687125283415, 0.0833880918468927, 0.04680207018229007, 0.08899756633193036, 0.08439268212600164, 0.03978141960841142, 0.0559480288052082, 0.06312157168305314, 0.1797109520280808, 0.046787821727840836, 0.0527984589991201, 0.03948571038863219, 0.056634121287778026, 0.09033019596671431, 0.19474801011856746, 0.12240460173830028, 0.0544927187174661, 0.06873379031094175, 0.04134458735828795, 0.04449498717409964, 0.055645466445745, 0.07375309964693551, 0.04787100558371549, 0.06790545303416672, 0.09197441794475307, 0.054015391647409344, 0.06128210547560513, 0.16457892665096419, 0.17007882081386666, 0.19851367297587946, 0.09245750445712127, 0.049898906730761326, 0.04871900958742536, 0.057147003515610494, 0.05327964150275685, 0.04990557361917934, 0.07466791701485055, 0.04886653553183684, 0.06114331867907084, 0.05506341742656333, 0.1346411651682416, 0.11955589875799533, 0.0577296698662972, 0.07173127475564624, 0.10558111560835176, 0.09812614242751938, 0.07511984747462491, 0.0917262445297657, 0.14790143727042343, 0.045583978078072865, 0.04932209420994716, 0.04616785596051614, 0.041135971367672865, 0.05882784218395584, 0.05975991452614864, 0.23056459809429075, 0.18882274580759945, 0.04405534873106243, 0.0974899621484374, 0.17268094263744463, 0.2010328312471727, 0.044872885899610214, 0.06708053133795921, 0.07274959248477769, 0.04535048806663292, 0.06366894450419003, 0.036306175603395795, 0.14900354355227807, 0.05425325847313258, 0.057718178406817186, 0.03877808920183175, 0.05176797607036603, 0.11598620666464826, 0.044078482786335874, 0.055981485606163096, 0.05266534817243246, 0.049420640977968236, 0.062155296643538596, 0.09392424923027322, 0.25221756373182913, 0.08547898931727521, 0.04303953283356055, 0.046565753803644805, 0.04699231678720523, 0.11053578818827303, 0.043408323996771345, 0.03691399113427687, 0.1538187666835557, 0.06103433016810504, 0.05302483136919285, 0.049670172232024475, 0.053866021395178015, 0.04891214980205509, 0.04632327131394903, 0.254027893463854, 0.21415274563144965, 0.042671973694192504, 0.05111893961746051, 0.030151223354271096, 0.04109243304831514, 0.04939191653872826, 0.09193478945469759, 0.06345492637079352, 0.049279868071913084, 0.15599528358989473, 0.06489283134515338, 0.04451431993799808, 0.040380885453752166, 0.04790922625597419, 0.04632172850013915, 0.20481322554447468, 0.05892484549197165, 0.05372941690327579, 0.11610685657843656, 0.05560686261178605, 0.044180075059784336, 0.0693279748516615, 0.14250823393967638, 0.23303863313960824, 0.04979299297006466, 0.07054585620894473, 0.05822102766206459, 0.048606377638671296, 0.17977466089980249, 0.18079907918225893, 0.0622666862849728, 0.04181716747142267, 0.05141210434136508, 0.05135923309362151, 0.08688290826232901, 0.045798266468618364, 0.0628122525331343, 0.22421100565535396, 0.16210404702551812, 0.06473220177957129, 0.07797747820623303, 0.11112705063381462, 0.059720342482363485, 0.06453645221893861, 0.05097155712051737, 0.055477972092192275, 0.04045824247704061, 0.0625704196368278, 0.04103954146512113, 0.026538255305836887, 0.04277257088095793, 0.04730817320862285, 0.043573779280141084, 0.04669704509908845, 0.05520566034888748, 0.15429717744569957, 0.06111846466200585, 0.03767333082579257, 0.0627389486743096, 0.16597950220919822, 0.17966804779660592, 0.030810309226032978, 0.052076613396569646, 0.07468516837761319, 0.04032804524267634, 0.048828948039996795, 0.07179631584335251, 0.10885119569904371, 0.17303004848435857, 0.05656660373595169, 0.057747808556668584, 0.04083106512858157, 0.19259023908866676, 0.0520660453593603, 0.056965088354488436, 0.16310051442864254, 0.04971841847663697, 0.04616194027035294, 0.059381874696985276, 0.10776837339106024, 0.04430403150795641, 0.0626383520404887, 0.046991811368886714, 0.0393431036786944, 0.05244078839869083, 0.03177568580718207, 0.06035293246194694, 0.1489246984779099, 0.06472699782380212, 0.050791692561255423, 0.19210428193513812, 0.06001852033303267, 0.08128145291436548, 0.052292284400757755, 0.07083783096035602, 0.1613877684868246, 0.04098292031712374, 0.056998642067023986, 0.057542833061631604, 0.050723507663382725, 0.06496524294528919, 0.04268087135591623, 0.09317846483030189, 0.24676950226834057, 0.07277151619330278, 0.04484765850062632, 0.05735955482883685, 0.06188030177371162, 0.058860757235873515, 0.03275503108354882, 0.16279586109433364, 0.11059362215978358, 0.04852070596966759, 0.06391301560813369, 0.0723587839721965, 0.05125223302321498, 0.038073112287365256, 0.06824875703821422, 0.06905863949332587, 0.04674477577627246, 0.04688217571379819, 0.03947712011392976, 0.08236027842842505, 0.057305148097318834, 0.1592003364667698, 0.04805807640708454, 0.051360981363423854, 0.10781312068329647, 0.05644280351358481, 0.2388103583930935, 0.038637152016710606, 0.05642737442615598, 0.05362540492062273, 0.21208141390280055, 0.053477067869531214, 0.041675793966206194, 0.04676634128944817, 0.11620772149472441, 0.06666596478652899, 0.06464681391741736, 0.16361938222116593, 0.06049144901017509, 0.2933884651953268, 0.046425396277721194, 0.052240485618262104, 0.06115603577072119, 0.06255939183263756, 0.04599882670391303, 0.054325840044206986, 0.09030556168459936, 0.2272736284484208, 0.22165019357121502, 0.050620945697234083, 0.043723216978519414, 0.055955695426368496, 0.05497416717410167, 0.06410897425302896, 0.15467619242349778, 0.048641541306667084, 0.057554962316633186, 0.1970832763238617, 0.061574343292185314, 0.14386788088584396, 0.046596207624895886, 0.04963732458438818, 0.04126294203363521, 0.06020673505775652, 0.1301474707459266, 0.08212438537080868, 0.05539696726643378, 0.07584949522762133, 0.04727526109761437, 0.06068134302768277, 0.04482085981735789, 0.09414398733829514, 0.05654682578382593, 0.05160335615758274, 0.05911740697267241, 0.09108908247772346, 0.0450331034280667, 0.2598063114278545, 0.049327411892111706, 0.15201324925203002, 0.04433488273777161, 0.06564906408875883, 0.06088371129362994, 0.06602169653916849, 0.046893979720161474, 0.36421519092373644, 0.06151843421560067, 0.1305016089758028, 0.056961931305999636, 0.06515418333965331, 0.07106192468005665, 0.10009153436470784, 0.06066325883721586, 0.1590387373470025, 0.040942690524052285, 0.05078913328510933, 0.15998045420487766, 0.041119682245520255, 0.20650873460569424, 0.04637449449483502, 0.043230008114684304, 0.07002576693073295, 0.06319398290087463, 0.04505017054317737, 0.048417343233863444, 0.13988614382126496, 0.04932163315279168, 0.20972219357260133, 0.06665140438801391, 0.2706143096652718, 0.04773732957338653, 0.280526010959397, 0.21277894042380388, 0.06625532624988786, 0.048583541254433975, 0.04782904805987555, 0.04225475931265302, 0.046309144817487075, 0.04001993605131178, 0.0608684370137524, 0.05771134122926626, 0.06421370950284412, 0.1438857988966557, 0.0737690569801513, 0.06247022832899195, 0.0693286964545799, 0.18430662661828567, 0.19112885062168938, 0.04867690444436936, 0.04813579912189484, 0.05446572307157889, 0.04807081446901347, 0.07359680787701238, 0.06200485626859824, 0.0439265059341186, 0.12371814646439197, 0.045298804446546735, 0.11147345446653356, 0.0696622559473839, 0.07353676054719245, 0.16908652066829657, 0.15412335576612674, 0.03834747593541305, 0.15445004935938633, 0.06988869782999294, 0.15542493621893638, 0.052277486641733095, 0.04728255752636228, 0.039804870186366345, 0.04418347556375074, 0.10004733538623227, 0.09628734264983717, 0.10109169585951189, 0.04582407520203113, 0.055410736137990926, 0.056663467186640316, 0.057192450258227036, 0.04210539743797219, 0.04071191892108291, 0.15413671909217957, 0.04272594243095996, 0.06082252268529301, 0.03886317829468481, 0.05475372624003853, 0.07188915379479056, 0.08323820262381788, 0.04619815211303374, 0.1261577826760043, 0.04611993583208691, 0.19161512998623426, 0.04585223779423368, 0.05675417868072616, 0.16682912157644186, 0.05469695877969517, 0.05600200348217565, 0.07431537632337427, 0.21632639100305404, 0.07140372326273273, 0.046255635887763366, 0.21721068347563743, 0.027192304503456957, 0.052220576124718296, 0.04382116439107103, 0.08789289299931549, 0.09233444225079239, 0.05315437011117061, 0.1354058519874104, 0.057455624236368824, 0.056760749437287476, 0.05201331731953794, 0.061157488372410695, 0.042181252444604043, 0.051672281137485884, 0.07308333438159967, 0.05568037757830065, 0.18839760585412735, 0.04264615960274773, 0.05156282451274698, 0.04678256960934073, 0.07042874288586873, 0.08302317059190989, 0.06930158115362006, 0.09667765688996773, 0.10575962792305114, 0.15977962106925933, 0.08170635321775305, 0.06861449574598419, 0.06570612094108921, 0.059660353045148065, 0.0602640155816888, 0.044728127007476276, 0.047870695161833725, 0.06287375046382548, 0.05621455301919481, 0.06019990194434002, 0.05611341039464171, 0.058537876771745906, 0.04793271429473983, 0.05521477245558548, 0.048574320060628035, 0.047744503027251084, 0.050158474306674576, 0.07168478308627682, 0.0805677554951548, 0.05702286510114406, 0.04965832096420634, 0.24361764656404067, 0.05256573272970519, 0.061737254765864794, 0.06323037590156817, 0.05906129986994634, 0.16897463399527057, 0.06716274535095003, 0.044474933783450285, 0.05842753369314202, 0.045958944850823115, 0.048708907454636685, 0.05741994853609276, 0.14038277069538752, 0.06917783551935199, 0.05644232945246275, 0.0488202375949191, 0.050838253011436275, 0.23881411734435948, 0.044917827875009385, 0.041104532844331555, 0.04771520152731892, 0.08752424747650059, 0.05423623117855789, 0.07901588701440095, 0.11726170810831683, 0.045582681390110284, 0.19787046216488802, 0.058434017677645514, 0.0878631042398253, 0.03736647365676941, 0.3319316812653231, 0.02734888827070285, 0.03758646903326197, 0.05602014089326545, 0.037809300479835634, 0.042799272887151386, 0.0682213603765516, 0.062259176608211036, 0.037980191524048704, 0.06915071409314999, 0.04860448863689445, 0.18337659644634202, 0.16127919178842548, 0.3180528580050236, 0.23073980843083627, 0.058872786287710546, 0.04489778079967453, 0.07655087043408798, 0.06260543665723506, 0.15529939421840522, 0.05041055631296905, 0.05648532582283322, 0.09538025199957544, 0.040111246543333576, 0.11680929669142792, 0.19299004049060506, 0.06317907225454472, 0.2379486261161255, 0.2011068148438715, 0.06567490594854761, 0.061253695975780294, 0.19015406934870585, 0.05682487394028144, 0.22857506963475516, 0.11553742591739263, 0.053969005045404625, 0.040796314424241954, 0.07034010078697671, 0.17835973760623441, 0.043443123025115486, 0.042201357790275756, 0.04348364181149001, 0.1579747222342075, 0.10579454786023428, 0.11847884519179588, 0.06448896981857265, 0.1535017132729203, 0.08977514649687358, 0.04811399303922741, 0.05531508262393509, 0.04455710863427193, 0.1338177807470524, 0.05046851473902301, 0.09295738672543648, 0.054128931343050364, 0.06694438568610644, 0.06052975955262259, 0.052476857310542566, 0.06419497650702582, 0.06429366512347427, 0.15555085385445122, 0.05194290903322553, 0.05463534336961197, 0.09841203470552488, 0.04479466852892709, 0.05628390531760289, 0.1954606945158982, 0.04681357875339095, 0.060527862360571165, 0.17387338591015902, 0.18248726769452794, 0.06853454769831722, 0.13852204137321392, 0.11764182579113729, 0.04030284896628025, 0.05127761456287739, 0.041919900791730774, 0.05295407572610276, 0.05051167946900251, 0.03949466199135774, 0.1435665845499846, 0.07766832398160699, 0.08478465881611107, 0.05484945823754572, 0.04617691158971624, 0.06426967927493862, 0.04162531302191279, 0.036197490791217216, 0.01926727036718337, 0.04277855881632222, 0.1863690043701482, 0.04815288237224584, 0.24767479739641252, 0.06155091050869892, 0.12580598526411899, 0.21479053674370308, 0.0492112457868657, 0.061977842267911566, 0.049624554747086616, 0.053753371843879606, 0.07497945675949588, 0.05114809458025569, 0.04756925379553836, 0.07088872003245977, 0.047282178453319654, 0.09600806227116791, 0.04968878587346615, 0.043790302091646374, 0.045891801309986664, 0.08209492023115654, 0.058483183770442815, 0.09219724013303661, 0.04633737403742241, 0.07333187314302005, 0.039922623778491054, 0.15470466895822887, 0.048377066299117616, 0.06006773304806872, 0.05398327953665119, 0.06801992535143078, 0.06056440579522045, 0.06083523296984519, 0.06436335724216509, 0.047096937841445675, 0.24304728845136717, 0.04672551866524661, 0.06415511593960371, 0.05738966801433398, 0.04358539903513044, 0.04452109395507846, 0.08420088676054462, 0.04074081707730231, 0.06209245830282618, 0.0409073431191608, 0.06467442234951812, 0.06649459399663724, 0.05597764077290549, 0.05959283180118638, 0.09527148780557834, 0.03815514457668869, 0.20482175399107633, 0.23657348965236727, 0.12354597697469605, 0.04697748615734021, 0.05145096170996416, 0.08151489567080977, 0.0469520702508798, 0.042162325448229176, 0.062008559871299086, 0.04281433000831474, 0.03971248046915943, 0.13256673985267348, 0.11280385424037595, 0.07471544680005712, 0.05916807497960476, 0.05822879633534688, 0.04243603463615436, 0.04296194321249436, 0.2865848087468943, 0.15844919490152215, 0.05700462495409156, 0.07784382738669454, 0.06477771736726583, 0.19900628098296816, 0.046837662342729694, 0.0415950592775467, 0.04608299366025711, 0.06531484005792493, 0.04805034714977469, 0.1725142180011749, 0.04715198413288415, 0.047029656634324575, 0.09253694076483909, 0.07425274656908347, 0.041830303991297085, 0.04307769268290848, 0.04432896021403491, 0.12303840558507949, 0.08689885404897785, 0.128015074712514, 0.042799165239609104, 0.25606793484077, 0.28810576243534874, 0.05065544152411227, 0.08718095000434196, 0.050012769858813325, 0.06655312287773192, 0.056838341744102655, 0.10297792359079608, 0.035992541558987776, 0.04647674781802165, 0.04582771980463932, 0.1807506436083898, 0.18619659605652877, 0.06871831328998983, 0.029195053696241514, 0.0591496188737823, 0.10119278890790445, 0.24942253767013767, 0.1795437567758235, 0.05704713107961525, 0.06545391048628316, 0.043246635671501714, 0.050232481696584785, 0.06772408978275422, 0.04016039389809372, 0.07071745265515275, 0.07692375562352065, 0.09064635626042998, 0.04488674327959129, 0.21196022129066716, 0.06331092002406155, 0.053633619374506045, 0.06255419522477994, 0.1469333056869947, 0.046695988661897815, 0.05611202677347235, 0.36812476852015996, 0.04667135327835185, 0.12313404967632902, 0.04338086218054283, 0.045134790191089166, 0.05865783416621116, 0.047010469389107266, 0.04232474585880623, 0.0490362212047825, 0.05423101464997551, 0.050806939594343216, 0.105368339052242, 0.04062670616914569, 0.04988172643750232, 0.08898419369892727, 0.09181143175104975, 0.04882467421905219, 0.05076487057487741, 0.07005514178612107, 0.052734671714411575, 0.15582504042786582, 0.08558659840540736, 0.04659320800411993, 0.03555441061077077, 0.04149088726177576, 0.046934068572136764, 0.059443798144103485, 0.05706179035588546, 0.057295359914718055, 0.05356310912807308, 0.06302064695057152, 0.09609300500802662, 0.0433931504650763, 0.054918610904981506, 0.05019241192958781, 0.05027938947966101, 0.038187727823124185, 0.14533100311055935, 0.043198588638824684, 0.08108278887512982, 0.05202671779877821, 0.1290487157042648, 0.09122664602253695, 0.042678286876840714, 0.0689143945243097, 0.15934239261168948, 0.17852386192633982, 0.05017617336935358, 0.0529914785880823, 0.04840636969622605, 0.0376901670517114, 0.03748848225505357, 0.05517496447586756, 0.04908716895472196, 0.11682438746176081, 0.10461360882054793, 0.18219233297159432, 0.04795210626398181, 0.17891198316698537, 0.0461892857916839, 0.046783362947470014, 0.0717291098658952, 0.045252267081723425, 0.15193937875356323, 0.17913928742941537, 0.05394687113146658, 0.046796051682306, 0.11024912235896425, 0.056498447284384454, 0.06545237797480699, 0.057567054318291316, 0.04169962448808557, 0.04998422077517897, 0.07392715688437204, 0.06278117989779948, 0.043632897904069975, 0.06138133455699462, 0.04221333845169705, 0.047324021994776984, 0.04424919203426284, 0.04637197593640733, 0.1524083334366682, 0.039923877411135324, 0.05477394029810972, 0.11436532171103377, 0.0693257088925385, 0.04790911002129187, 0.06113381433850259, 0.045446678192464375, 0.059576847119111626, 0.05127194299934723, 0.04155738816181846, 0.21981191095483835, 0.07025901564429672, 0.04850182144236661, 0.06292902938563606, 0.05730442968444556, 0.1614903710103181, 0.055711857501020964, 0.044654897153022684, 0.048164950441001116, 0.053489251245654616, 0.05919602507464143, 0.04507207117858653, 0.08277276663871797, 0.15322580811501021, 0.05144718483608148, 0.05555802371266676, 0.05486007519461947, 0.04208376796722491, 0.05348948606915886, 0.05920406782587031, 0.0651713022224765, 0.032381148336032915, 0.0560107585602434, 0.07576860452530432, 0.050036983812031595, 0.07240109834157371, 0.04018278192379167, 0.043451018576417914, 0.054033724773958805, 0.04811221601736097, 0.057463461079469896, 0.060972992263578954, 0.09523319022094463, 0.038790464877557045, 0.0459210804435658, 0.048004027941028656, 0.051681886518953765, 0.058956672374976066, 0.06672129675443846, 0.08058265106710351, 0.12030384125576095, 0.052671586207459306, 0.05578590486347142, 0.13839759215381436, 0.09113697233289951, 0.044949264373351484, 0.18400977837441737, 0.050569568550902194, 0.04544226773308036, 0.0570155876356017, 0.18516697613386657, 0.5872722765769587, 0.033671163159704094, 0.10567168039592312], \"xaxis\": \"x\", \"yaxis\": \"y\"}],\n",
       "                        {\"barmode\": \"relative\", \"legend\": {\"tracegroupgap\": 0}, \"margin\": {\"t\": 60}, \"template\": {\"data\": {\"bar\": [{\"error_x\": {\"color\": \"#2a3f5f\"}, \"error_y\": {\"color\": \"#2a3f5f\"}, \"marker\": {\"line\": {\"color\": \"#E5ECF6\", \"width\": 0.5}}, \"type\": \"bar\"}], \"barpolar\": [{\"marker\": {\"line\": {\"color\": \"#E5ECF6\", \"width\": 0.5}}, \"type\": \"barpolar\"}], \"carpet\": [{\"aaxis\": {\"endlinecolor\": \"#2a3f5f\", \"gridcolor\": \"white\", \"linecolor\": \"white\", \"minorgridcolor\": \"white\", \"startlinecolor\": \"#2a3f5f\"}, \"baxis\": {\"endlinecolor\": \"#2a3f5f\", \"gridcolor\": \"white\", \"linecolor\": \"white\", \"minorgridcolor\": \"white\", \"startlinecolor\": \"#2a3f5f\"}, \"type\": \"carpet\"}], \"choropleth\": [{\"colorbar\": {\"outlinewidth\": 0, \"ticks\": \"\"}, \"type\": \"choropleth\"}], \"contour\": [{\"colorbar\": {\"outlinewidth\": 0, \"ticks\": \"\"}, \"colorscale\": [[0.0, \"#0d0887\"], [0.1111111111111111, \"#46039f\"], [0.2222222222222222, \"#7201a8\"], [0.3333333333333333, \"#9c179e\"], [0.4444444444444444, \"#bd3786\"], [0.5555555555555556, \"#d8576b\"], [0.6666666666666666, \"#ed7953\"], [0.7777777777777778, \"#fb9f3a\"], [0.8888888888888888, \"#fdca26\"], [1.0, \"#f0f921\"]], \"type\": \"contour\"}], \"contourcarpet\": [{\"colorbar\": {\"outlinewidth\": 0, \"ticks\": \"\"}, \"type\": \"contourcarpet\"}], \"heatmap\": [{\"colorbar\": {\"outlinewidth\": 0, \"ticks\": \"\"}, \"colorscale\": [[0.0, \"#0d0887\"], [0.1111111111111111, \"#46039f\"], [0.2222222222222222, \"#7201a8\"], [0.3333333333333333, \"#9c179e\"], [0.4444444444444444, \"#bd3786\"], [0.5555555555555556, \"#d8576b\"], [0.6666666666666666, \"#ed7953\"], [0.7777777777777778, \"#fb9f3a\"], [0.8888888888888888, \"#fdca26\"], [1.0, \"#f0f921\"]], \"type\": \"heatmap\"}], \"heatmapgl\": [{\"colorbar\": {\"outlinewidth\": 0, \"ticks\": \"\"}, \"colorscale\": [[0.0, \"#0d0887\"], [0.1111111111111111, \"#46039f\"], [0.2222222222222222, \"#7201a8\"], [0.3333333333333333, \"#9c179e\"], [0.4444444444444444, \"#bd3786\"], [0.5555555555555556, \"#d8576b\"], [0.6666666666666666, \"#ed7953\"], [0.7777777777777778, \"#fb9f3a\"], [0.8888888888888888, \"#fdca26\"], [1.0, \"#f0f921\"]], \"type\": \"heatmapgl\"}], \"histogram\": [{\"marker\": {\"colorbar\": {\"outlinewidth\": 0, \"ticks\": \"\"}}, \"type\": \"histogram\"}], \"histogram2d\": [{\"colorbar\": {\"outlinewidth\": 0, \"ticks\": \"\"}, \"colorscale\": [[0.0, \"#0d0887\"], [0.1111111111111111, \"#46039f\"], [0.2222222222222222, \"#7201a8\"], [0.3333333333333333, \"#9c179e\"], [0.4444444444444444, \"#bd3786\"], [0.5555555555555556, \"#d8576b\"], [0.6666666666666666, \"#ed7953\"], [0.7777777777777778, \"#fb9f3a\"], [0.8888888888888888, \"#fdca26\"], [1.0, \"#f0f921\"]], \"type\": \"histogram2d\"}], \"histogram2dcontour\": [{\"colorbar\": {\"outlinewidth\": 0, \"ticks\": \"\"}, \"colorscale\": [[0.0, \"#0d0887\"], [0.1111111111111111, \"#46039f\"], [0.2222222222222222, \"#7201a8\"], [0.3333333333333333, \"#9c179e\"], [0.4444444444444444, \"#bd3786\"], [0.5555555555555556, \"#d8576b\"], [0.6666666666666666, \"#ed7953\"], [0.7777777777777778, \"#fb9f3a\"], [0.8888888888888888, \"#fdca26\"], [1.0, \"#f0f921\"]], \"type\": \"histogram2dcontour\"}], \"mesh3d\": [{\"colorbar\": {\"outlinewidth\": 0, \"ticks\": \"\"}, \"type\": \"mesh3d\"}], \"parcoords\": [{\"line\": {\"colorbar\": {\"outlinewidth\": 0, \"ticks\": \"\"}}, \"type\": \"parcoords\"}], \"pie\": [{\"automargin\": true, \"type\": \"pie\"}], \"scatter\": [{\"marker\": {\"colorbar\": {\"outlinewidth\": 0, \"ticks\": \"\"}}, \"type\": \"scatter\"}], \"scatter3d\": [{\"line\": {\"colorbar\": {\"outlinewidth\": 0, \"ticks\": \"\"}}, \"marker\": {\"colorbar\": {\"outlinewidth\": 0, \"ticks\": \"\"}}, \"type\": \"scatter3d\"}], \"scattercarpet\": [{\"marker\": {\"colorbar\": {\"outlinewidth\": 0, \"ticks\": \"\"}}, \"type\": \"scattercarpet\"}], \"scattergeo\": [{\"marker\": {\"colorbar\": {\"outlinewidth\": 0, \"ticks\": \"\"}}, \"type\": \"scattergeo\"}], \"scattergl\": [{\"marker\": {\"colorbar\": {\"outlinewidth\": 0, \"ticks\": \"\"}}, \"type\": \"scattergl\"}], \"scattermapbox\": [{\"marker\": {\"colorbar\": {\"outlinewidth\": 0, \"ticks\": \"\"}}, \"type\": \"scattermapbox\"}], \"scatterpolar\": [{\"marker\": {\"colorbar\": {\"outlinewidth\": 0, \"ticks\": \"\"}}, \"type\": \"scatterpolar\"}], \"scatterpolargl\": [{\"marker\": {\"colorbar\": {\"outlinewidth\": 0, \"ticks\": \"\"}}, \"type\": \"scatterpolargl\"}], \"scatterternary\": [{\"marker\": {\"colorbar\": {\"outlinewidth\": 0, \"ticks\": \"\"}}, \"type\": \"scatterternary\"}], \"surface\": [{\"colorbar\": {\"outlinewidth\": 0, \"ticks\": \"\"}, \"colorscale\": [[0.0, \"#0d0887\"], [0.1111111111111111, \"#46039f\"], [0.2222222222222222, \"#7201a8\"], [0.3333333333333333, \"#9c179e\"], [0.4444444444444444, \"#bd3786\"], [0.5555555555555556, \"#d8576b\"], [0.6666666666666666, \"#ed7953\"], [0.7777777777777778, \"#fb9f3a\"], [0.8888888888888888, \"#fdca26\"], [1.0, \"#f0f921\"]], \"type\": \"surface\"}], \"table\": [{\"cells\": {\"fill\": {\"color\": \"#EBF0F8\"}, \"line\": {\"color\": \"white\"}}, \"header\": {\"fill\": {\"color\": \"#C8D4E3\"}, \"line\": {\"color\": \"white\"}}, \"type\": \"table\"}]}, \"layout\": {\"annotationdefaults\": {\"arrowcolor\": \"#2a3f5f\", \"arrowhead\": 0, \"arrowwidth\": 1}, \"coloraxis\": {\"colorbar\": {\"outlinewidth\": 0, \"ticks\": \"\"}}, \"colorscale\": {\"diverging\": [[0, \"#8e0152\"], [0.1, \"#c51b7d\"], [0.2, \"#de77ae\"], [0.3, \"#f1b6da\"], [0.4, \"#fde0ef\"], [0.5, \"#f7f7f7\"], [0.6, \"#e6f5d0\"], [0.7, \"#b8e186\"], [0.8, \"#7fbc41\"], [0.9, \"#4d9221\"], [1, \"#276419\"]], \"sequential\": [[0.0, \"#0d0887\"], [0.1111111111111111, \"#46039f\"], [0.2222222222222222, \"#7201a8\"], [0.3333333333333333, \"#9c179e\"], [0.4444444444444444, \"#bd3786\"], [0.5555555555555556, \"#d8576b\"], [0.6666666666666666, \"#ed7953\"], [0.7777777777777778, \"#fb9f3a\"], [0.8888888888888888, \"#fdca26\"], [1.0, \"#f0f921\"]], \"sequentialminus\": [[0.0, \"#0d0887\"], [0.1111111111111111, \"#46039f\"], [0.2222222222222222, \"#7201a8\"], [0.3333333333333333, \"#9c179e\"], [0.4444444444444444, \"#bd3786\"], [0.5555555555555556, \"#d8576b\"], [0.6666666666666666, \"#ed7953\"], [0.7777777777777778, \"#fb9f3a\"], [0.8888888888888888, \"#fdca26\"], [1.0, \"#f0f921\"]]}, \"colorway\": [\"#636efa\", \"#EF553B\", \"#00cc96\", \"#ab63fa\", \"#FFA15A\", \"#19d3f3\", \"#FF6692\", \"#B6E880\", \"#FF97FF\", \"#FECB52\"], \"font\": {\"color\": \"#2a3f5f\"}, \"geo\": {\"bgcolor\": \"white\", \"lakecolor\": \"white\", \"landcolor\": \"#E5ECF6\", \"showlakes\": true, \"showland\": true, \"subunitcolor\": \"white\"}, \"hoverlabel\": {\"align\": \"left\"}, \"hovermode\": \"closest\", \"mapbox\": {\"style\": \"light\"}, \"paper_bgcolor\": \"white\", \"plot_bgcolor\": \"#E5ECF6\", \"polar\": {\"angularaxis\": {\"gridcolor\": \"white\", \"linecolor\": \"white\", \"ticks\": \"\"}, \"bgcolor\": \"#E5ECF6\", \"radialaxis\": {\"gridcolor\": \"white\", \"linecolor\": \"white\", \"ticks\": \"\"}}, \"scene\": {\"xaxis\": {\"backgroundcolor\": \"#E5ECF6\", \"gridcolor\": \"white\", \"gridwidth\": 2, \"linecolor\": \"white\", \"showbackground\": true, \"ticks\": \"\", \"zerolinecolor\": \"white\"}, \"yaxis\": {\"backgroundcolor\": \"#E5ECF6\", \"gridcolor\": \"white\", \"gridwidth\": 2, \"linecolor\": \"white\", \"showbackground\": true, \"ticks\": \"\", \"zerolinecolor\": \"white\"}, \"zaxis\": {\"backgroundcolor\": \"#E5ECF6\", \"gridcolor\": \"white\", \"gridwidth\": 2, \"linecolor\": \"white\", \"showbackground\": true, \"ticks\": \"\", \"zerolinecolor\": \"white\"}}, \"shapedefaults\": {\"line\": {\"color\": \"#2a3f5f\"}}, \"ternary\": {\"aaxis\": {\"gridcolor\": \"white\", \"linecolor\": \"white\", \"ticks\": \"\"}, \"baxis\": {\"gridcolor\": \"white\", \"linecolor\": \"white\", \"ticks\": \"\"}, \"bgcolor\": \"#E5ECF6\", \"caxis\": {\"gridcolor\": \"white\", \"linecolor\": \"white\", \"ticks\": \"\"}}, \"title\": {\"x\": 0.05}, \"xaxis\": {\"automargin\": true, \"gridcolor\": \"white\", \"linecolor\": \"white\", \"ticks\": \"\", \"title\": {\"standoff\": 15}, \"zerolinecolor\": \"white\", \"zerolinewidth\": 2}, \"yaxis\": {\"automargin\": true, \"gridcolor\": \"white\", \"linecolor\": \"white\", \"ticks\": \"\", \"title\": {\"standoff\": 15}, \"zerolinecolor\": \"white\", \"zerolinewidth\": 2}}}, \"xaxis\": {\"anchor\": \"y\", \"domain\": [0.0, 1.0], \"title\": {\"text\": \"0\"}}, \"yaxis\": {\"anchor\": \"x\", \"domain\": [0.0, 1.0], \"title\": {\"text\": \"count\"}}},\n",
       "                        {\"responsive\": true}\n",
       "                    ).then(function(){\n",
       "                            \n",
       "var gd = document.getElementById('bc45e792-2e9a-4fad-a6e9-b18553f7a8df');\n",
       "var x = new MutationObserver(function (mutations, observer) {{\n",
       "        var display = window.getComputedStyle(gd).display;\n",
       "        if (!display || display === 'none') {{\n",
       "            console.log([gd, 'removed!']);\n",
       "            Plotly.purge(gd);\n",
       "            observer.disconnect();\n",
       "        }}\n",
       "}});\n",
       "\n",
       "// Listen for the removal of the full notebook cells\n",
       "var notebookContainer = gd.closest('#notebook-container');\n",
       "if (notebookContainer) {{\n",
       "    x.observe(notebookContainer, {childList: true});\n",
       "}}\n",
       "\n",
       "// Listen for the clearing of the current output cell\n",
       "var outputEl = gd.closest('.output');\n",
       "if (outputEl) {{\n",
       "    x.observe(outputEl, {childList: true});\n",
       "}}\n",
       "\n",
       "                        })\n",
       "                };\n",
       "                });\n",
       "            </script>\n",
       "        </div>"
      ]
     },
     "metadata": {},
     "output_type": "display_data"
    }
   ],
   "source": [
    "px.histogram(pd.DataFrame(y_pred_val), x=0)"
   ]
  },
  {
   "cell_type": "code",
   "execution_count": 23,
   "metadata": {
    "ExecuteTime": {
     "end_time": "2020-06-20T20:03:02.386395Z",
     "start_time": "2020-06-20T20:03:02.124916Z"
    }
   },
   "outputs": [
    {
     "data": {
      "application/vnd.plotly.v1+json": {
       "config": {
        "plotlyServerURL": "https://plot.ly"
       },
       "data": [
        {
         "alignmentgroup": "True",
         "bingroup": "x",
         "hovertemplate": "0=%{x}<br>count=%{y}<extra></extra>",
         "legendgroup": "",
         "marker": {
          "color": "#636efa"
         },
         "name": "",
         "offsetgroup": "",
         "orientation": "v",
         "showlegend": false,
         "type": "histogram",
         "x": [
          0.0443442969458368,
          0.035356326468642854,
          0.04370502679242415,
          0.04306198540055649,
          0.03837353005691853,
          0.03700053290389049,
          0.03984069288935171,
          0.04304407521371118,
          0.049519101592448676,
          0.041242916113211577,
          0.040344544421892566,
          0.03523044267719476,
          0.042033012425492206,
          0.04868815471093197,
          0.023539297928254675,
          0.039213954027970434,
          0.037092815805402975,
          0.02884766194430604,
          0.04514143698102451,
          0.03993448401402306,
          0.040608833227330006,
          0.03742019157643583,
          0.04349033669389954,
          0.039738848804445406,
          0.046886625609406464,
          0.03271717122261926,
          0.02779936486410666,
          0.04198412974138469,
          0.04383551252805241,
          0.03767689081391549,
          0.04537116060966958,
          0.04133720091626427,
          0.04524535028985524,
          0.056932741256442654,
          0.0391929775520146,
          0.041325866813022825,
          0.05004212846934868,
          0.0268844967467802,
          0.04036413065083206,
          0.05513217467269162,
          0.044923168869429674,
          0.04520777519686205,
          0.037549520002164376,
          0.04851201851047476,
          0.05554988408969247,
          0.04073645534202389,
          0.04242304367870581,
          0.04250110271241058,
          0.03829002498914791,
          0.022112932274332656,
          0.04510266490216429,
          0.04089023745284723,
          0.032454148963090276,
          0.042902661836077896,
          0.036309609506262705,
          0.044589993496832334,
          0.02718533769031837,
          0.04567164881802971,
          0.05194070735360392,
          0.04061639218866569,
          0.03570366475787278,
          0.047913585181096174,
          0.042494470273599726,
          0.04077189292867957,
          0.040835342893748273,
          0.04329787945448532,
          0.04405893480080206,
          0.04014295273212716,
          0.057424625331026394,
          0.05257744214523904,
          0.04024667119420445,
          0.02302732113284752,
          0.03730483461555121,
          0.029413510610536958,
          0.04662429353286971,
          0.048004479933059986,
          0.03124593931895235,
          0.04940884819105334,
          0.045868882762613916,
          0.03864278485386478,
          0.0458516407391596,
          0.05062072821340856,
          0.046532949698903744,
          0.035999067195120055,
          0.04085579444211972,
          0.04065926233551686,
          0.04129800334228652,
          0.043917006542884204,
          0.04319442288302211,
          0.0549514095848009,
          0.041561095243503536,
          0.040181893935050984,
          0.03943606669133818,
          0.0542863171803217,
          0.042853470729920295,
          0.05151845965069798,
          0.03802595142932477,
          0.037351058098815976,
          0.03558304288859355,
          0.036417275393874494,
          0.04903263549077727,
          0.0372741078569415,
          0.041971927828365264,
          0.040446293002707995,
          0.038871507863331586,
          0.04427565127373525,
          0.04215116407009756,
          0.03452367874615796,
          0.05904903530306478,
          0.04140235490163985,
          0.04206076186501255,
          0.038865497509849314,
          0.03604635351332186,
          0.04812620096570373,
          0.048063075378130614,
          0.03607513767867435,
          0.048261841565152744,
          0.05323090389881355,
          0.045424340670907344,
          0.029194660307732198,
          0.045421805121218864,
          0.047541920840632905,
          0.05280834702148919,
          0.03290229445787123,
          0.054149664967646526,
          0.03888739719101139,
          0.04487798633284048,
          0.03709467106548398,
          0.03552579546696454,
          0.036102693329323664,
          0.03777781820412813,
          0.04999179778095969,
          0.06661328738653932,
          0.037468040409942935,
          0.04788812140891848,
          0.040848502052546344,
          0.04169112970921624,
          0.04410063284690559,
          0.036518346230184406,
          0.0493004451916825,
          0.04870273699374577,
          0.03741643142993706,
          0.04028738118955813,
          0.039714975111052854,
          0.0510823158440679,
          0.04561530839833439,
          0.04669891854823225,
          0.028159467374601205,
          0.033610624217943696,
          0.045568524164240246,
          0.043942935101305404,
          0.06912142879667825,
          0.04159170584365686,
          0.03220374271486017,
          0.04960099399979064,
          0.03996245374717936,
          0.034645540974270896,
          0.04246159190054308,
          0.037402224388974704,
          0.0458648083558873,
          0.04605228098836792,
          0.056280196124963655,
          0.033964817761455,
          0.03407452787747187,
          0.04826899985562469,
          0.05370890209916604,
          0.04170821960355329,
          0.03867756493118766,
          0.04268405285315048,
          0.04763374790516469,
          0.03740342360587494,
          0.05341159561218539,
          0.04109339826756083,
          0.054976158959342714,
          0.04349858036835048,
          0.0390181823151792,
          0.040948729581771544,
          0.04749275475474458,
          0.03991943463217264,
          0.040672546069374454,
          0.044205724102172377,
          0.044351357855590974,
          0.04149336546831374,
          0.04544142608127022,
          0.043919907968948006,
          0.037768521470255285,
          0.04122651667225536,
          0.045589603695392965,
          0.05401260534660881,
          0.04723079974927761,
          0.039058999874011555,
          0.044900143364230836,
          0.045282890392230254,
          0.048547024752119465,
          0.05752230742773409,
          0.03653107729221314,
          0.04836023473001897,
          0.045345614416636294,
          0.052147739265112944,
          0.1183873377914862,
          0.04822898236099826,
          0.04770337536436872,
          0.03335578945327232,
          0.043326137601890274,
          0.04468908118864722,
          0.04478283071706267,
          0.04511579570454069,
          0.0684852278820199,
          0.033168990622114786,
          0.04478349998941868,
          0.05256941063101811,
          0.04841805637329384,
          0.03900673825738903,
          0.04112233155249665,
          0.06077835558835591,
          0.09781207559935218,
          0.055001166199477716,
          0.04104757603813059,
          0.08944828983931746,
          0.05472423760496303,
          0.03918360023348405,
          0.040230157380368184,
          0.06147518855129113,
          0.07182160920418298,
          0.041189978408734736,
          0.06378586514970074,
          0.022568309444704948,
          0.054357839750985765,
          0.037976945488339284,
          0.036912496827141664,
          0.05938713170930174,
          0.0499284629451825,
          0.06043283626504124,
          0.05112289670943983,
          0.048266758024371456,
          0.0619279902728217,
          0.03763250251351981,
          0.036799487091683486,
          0.04910819465461818,
          0.03327489684150335,
          0.05592377046535512,
          0.04145002580025224,
          0.04947685321428544,
          0.08799676631804491,
          0.04385568207756997,
          0.03412384447371769,
          0.04631029033677169,
          0.0381222990522506,
          0.056448679308813934,
          0.09814561354050211,
          0.04382057966457574,
          0.05520315337664002,
          0.032062859192485256,
          0.036107123996888105,
          0.04074540077767678,
          0.048335497588967574,
          0.038341295261381955,
          0.0483035464421181,
          0.04972120118148624,
          0.04556558026572045,
          0.04393128219643619,
          0.05552970895127439,
          0.07360457138023142,
          0.049286322586848154,
          0.04755894566077181,
          0.06549203258884888,
          0.06107941522193733,
          0.041771005213377475,
          0.02742126288165158,
          0.04407188229871666,
          0.05077669451688669,
          0.059692201415303195,
          0.04642744046632221,
          0.06281713394479956,
          0.06770015659646345,
          0.05480540876892763,
          0.04766225804019211,
          0.05448616181620861,
          0.04327380073679203,
          0.05030839451307185,
          0.05660246071146591,
          0.05277096916430185,
          0.038952207126894234,
          0.042303418173752015,
          0.04398343183698469,
          0.09597022257130103,
          0.04903612658662015,
          0.060124930860761164,
          0.056305711308353754,
          0.0368840730091343,
          0.04808501311029629,
          0.04809220571276402,
          0.04059424431343237,
          0.045504380151973875,
          0.052646036283553854,
          0.03655571385833733,
          0.06992645653439586,
          0.042370572316391644,
          0.03568395255667888,
          0.05261284784653997,
          0.047582802045638306,
          0.04718327238132334,
          0.032795366419897685,
          0.04419437577031062,
          0.05067831517111489,
          0.05517700145062528,
          0.1114076825985921,
          0.0493559172740997,
          0.07945980497795625,
          0.05467607069350988,
          0.061526604158894646,
          0.04130687192183864,
          0.04523189772010557,
          0.03787740130246365,
          0.037021496069555036,
          0.04881955461082854,
          0.041232885951578084,
          0.04489206296661698,
          0.05134056893921786,
          0.10196804081219836,
          0.0737535865663238,
          0.09867021918632107,
          0.04785323931614499,
          0.04688372797209452,
          0.043951230284373574,
          0.05996005474417284,
          0.0485220481090631,
          0.04434026408799425,
          0.04657409526907062,
          0.04625774680233653,
          0.04950174017572447,
          0.05407885389670197,
          0.09384176660900574,
          0.05991869870215183,
          0.0359961696947747,
          0.06201506085350372,
          0.05435726029156484,
          0.054668208713766576,
          0.035520827402563154,
          0.0861652784455691,
          0.04949006385109342,
          0.05265944195984695,
          0.048459459697716346,
          0.046649642429750185,
          0.04193493104503612,
          0.055620928367988196,
          0.044418825577140955,
          0.041550022120535116,
          0.07268921367021283,
          0.1631015262783734,
          0.0693961879958516,
          0.0454882548155769,
          0.05601833348841565,
          0.05581101577154984,
          0.050665206644562144,
          0.09836893335924919,
          0.05573656657405231,
          0.0503942581007138,
          0.058033737432008334,
          0.05621049540838198,
          0.050056064066749305,
          0.06497647374366528,
          0.0564781728910938,
          0.053971646700028145,
          0.0578382891483392,
          0.0469810479391506,
          0.05345295181483958,
          0.08319516023411566,
          0.052820564346620885,
          0.06550542203834342,
          0.07696096138156466,
          0.04692791880273738,
          0.06295734528968781,
          0.09880296681987452,
          0.07357221209435422,
          0.04425931904640599,
          0.0691177468545634,
          0.061244555209558585,
          0.06031352308135851,
          0.07460564124077192,
          0.09083864373645055,
          0.06338047833210603,
          0.046298004755561416,
          0.04794355497551572,
          0.04331388072805613,
          0.06047510295363305,
          0.043601862888679316,
          0.07771841577234946,
          0.12207186527124872,
          0.04684308944262543,
          0.07296238112398236,
          0.1143819220355628,
          0.07786620486113227,
          0.11311386227307633,
          0.036277409376371875,
          0.04617851256525481,
          0.039306507338900835,
          0.05513184606716037,
          0.07903132304157819,
          0.0544686676885664,
          0.06029983221786132,
          0.04602068289560584,
          0.04572805037565371,
          0.05977413863927316,
          0.05236416394351344,
          0.0711272327734734,
          0.05223777312698011,
          0.05460827630515867,
          0.05556216827535401,
          0.06867968581076364,
          0.04956688621309233,
          0.06626715732086572,
          0.03317694950296268,
          0.09292863785292993,
          0.06664906315064431,
          0.055013410097349155,
          0.07290413576495963,
          0.04479537600315381,
          0.05855468769759505,
          0.07903070401407725,
          0.0648770959105733,
          0.04486221031654119,
          0.044526465425977275,
          0.10277852398816949,
          0.04983784068408024,
          0.05646868822665123,
          0.04062844416742351,
          0.043170280806905804,
          0.12119427396576256,
          0.05658127981374048,
          0.05245772748095513,
          0.09497417121087884,
          0.05656994373647002,
          0.052976600287116524,
          0.037219553562383684,
          0.051720917054944644,
          0.11476063446989845,
          0.06529216915699992,
          0.057462571682071896,
          0.0557347927841948,
          0.0734813973627476,
          0.06240217494568541,
          0.05534381601197791,
          0.05252613157599669,
          0.07254842061431363,
          0.060398313399288445,
          0.04238761898273074,
          0.09576038055479137,
          0.048221068858787054,
          0.04403427107764144,
          0.060715106814139386,
          0.06783147276108259,
          0.06033512814566748,
          0.06673323230991941,
          0.06287418559929328,
          0.0732870915439427,
          0.05112491583210586,
          0.05372613952169834,
          0.06044622902172708,
          0.0751870514064981,
          0.14743978561053417,
          0.07417516776789941,
          0.07706847485574027,
          0.10788343683753114,
          0.20035816057098843,
          0.07676065080997642,
          0.046872174981515836,
          0.038449656988946576,
          0.08476341746803524,
          0.0634030828267759,
          0.07858074658051505,
          0.03485442741056943,
          0.0657491003624748,
          0.0756204159603063,
          0.06284310556464645,
          0.09761010390260579,
          0.06310906730328238,
          0.13013629422864026,
          0.03560125230168513,
          0.09405973746202134,
          0.1251628229569448,
          0.054737625416883776,
          0.05447066991763638,
          0.08490785520495041,
          0.044329316470347636,
          0.07099941603981107,
          0.05956998750899489,
          0.12444066257757119,
          0.06146275402277454,
          0.11391986886710362,
          0.05958038870564418,
          0.05777448305596515,
          0.24320148003865943,
          0.06238396875807248,
          0.04699097171902036,
          0.11413682230308146,
          0.13086190171997333,
          0.05156964862005714,
          0.05014947176481122,
          0.10414483625745949,
          0.1115908600653327,
          0.09095365918699017,
          0.06371910277050954,
          0.061941499803967126,
          0.041968640592042396,
          0.05784948680414502,
          0.056730610604830825,
          0.05234744032354882,
          0.1406797728834026,
          0.05894679001462628,
          0.06839266082428008,
          0.06172580116557098,
          0.059106393403057525,
          0.039615016505334937,
          0.1264526400363667,
          0.06563364085083269,
          0.05559718287327499,
          0.0558132812093101,
          0.07127950500593033,
          0.06212589934461693,
          0.06762897205676778,
          0.06771067112128848,
          0.029973835281149726,
          0.07034986476000081,
          0.04578344296347535,
          0.05107068278085447,
          0.06315916348285554,
          0.07336743456284332,
          0.2136056342277273,
          0.07100430704005146,
          0.06477958411645232,
          0.047050468074850894,
          0.056307443294566495,
          0.14564852170042883,
          0.059048075184513854,
          0.1276308545339111,
          0.08173216672044618,
          0.049040631845438644,
          0.05238200648623424,
          0.043489124129170977,
          0.07434017547154059,
          0.11029476567133648,
          0.06024581680268291,
          0.07048361665924688,
          0.10351750729942194,
          0.09002460190791192,
          0.06250516896272172,
          0.061039593617025004,
          0.0659197269529556,
          0.05114531810346478,
          0.08071699900330968,
          0.13210309265833894,
          0.07552009123856177,
          0.04504677802639359,
          0.113462575373434,
          0.12967176118797907,
          0.07360849403145492,
          0.07039683944647943,
          0.03599243947074842,
          0.1307551874177398,
          0.0881362563349001,
          0.04927046787772793,
          0.04478242993724204,
          0.11409747018314885,
          0.04956403220289817,
          0.10325474743902185,
          0.08059009849087996,
          0.07637981682641116,
          0.099488694998204,
          0.12375450563113058,
          0.0666071893661609,
          0.05907552049994317,
          0.07947675231019388,
          0.05158727187897278,
          0.23195639624896391,
          0.04876174988913519,
          0.04149935701593971,
          0.08261732015069577,
          0.04753041855956811,
          0.14783731900855557,
          0.05609199587876866,
          0.06475677334615983,
          0.07343492485003136,
          0.4892662334621648,
          0.07058988038657356,
          0.06391453349640452,
          0.1130574789614974,
          0.03201168897168854,
          0.05910517756108667,
          0.05876346785610143,
          0.0676382111375076,
          0.09508448450017809,
          0.08485044429074912,
          0.04788747050706922,
          0.1993644046566148,
          0.0584923342922563,
          0.05562363869498761,
          0.06992998545124524,
          0.0808055773056287,
          0.10631499689929509,
          0.19184118860757357,
          0.11470135007073251,
          0.06907772999526049,
          0.04049371674316203,
          0.06629444057575391,
          0.2880855020202021,
          0.07758333428568685,
          0.06494068032858974,
          0.09620897152726061,
          0.045134849355500384,
          0.12975868832497134,
          0.133051326577251,
          0.06549026402103603,
          0.08719958196748961,
          0.12330866108198543,
          0.10912410251872963,
          0.1701006362374048,
          0.06330832697078953,
          0.07452770379322683,
          0.18334454441859072,
          0.17095751675477144,
          0.05373641348290517,
          0.07728916567838388,
          0.07870120753302658,
          0.08119127597734399,
          0.048258792343606624,
          0.11657987259033153,
          0.08459604724889677,
          0.07978687203812075,
          0.07093413976645203,
          0.11490296923894067,
          0.06674101705651897,
          0.054644849588465834,
          0.050709848915025585,
          0.07155726865584641,
          0.09700323677609317,
          0.1060698768577356,
          0.06218054845654905,
          0.048581553536691455,
          0.11178577816523133,
          0.10609125718350279,
          0.09244464531703059,
          0.053619688427102935,
          0.10599874225412292,
          0.06696199710827362,
          0.09107750176921442,
          0.11879780380680963,
          0.05758961364189506,
          0.05740630891085573,
          0.048819892557018976,
          0.08062452607337006,
          0.21259668380819519,
          0.0564156840291762,
          0.1979394753953862,
          0.061967388087548744,
          0.06126070514776348,
          0.06016533679925752,
          0.09618961951506955,
          0.07375606069746299,
          0.17271398471595584,
          0.3021804414151663,
          0.21053127966758906,
          0.06691823515072087,
          0.21140572855639356,
          0.06501971627249861,
          0.07255542825864546,
          0.06404387214680558,
          0.23409184539785638,
          0.06449724601626447,
          0.10810745978492602,
          0.06438193623720626,
          0.1118577676251996,
          0.05975266574899464,
          0.06962819873022011,
          0.07047713899909994,
          0.20366995047346909,
          0.12840956330436962,
          0.057247819878669615,
          0.11743056193425803,
          0.04982445663560995,
          0.06175135937866648,
          0.059721939461680015,
          0.07000902258925426,
          0.2727732619576881,
          0.1194008551952383,
          0.06768918379247145,
          0.11390818109624513,
          0.14481528744985958,
          0.05328546494873988,
          0.10796359623730341,
          0.07772956953402925,
          0.0761210393568838,
          0.06314751088451154,
          0.12345081463119625,
          0.03180655422018182,
          0.07431537632337427,
          0.13280754403952363,
          0.05468032567456866,
          0.07713477846544994,
          0.257705744206659,
          0.06520224819643788,
          0.18051834034148845,
          0.16317929950278431,
          0.19198987276917848,
          0.07892117142688175,
          0.3651160864950844,
          0.06669635090684042,
          0.07353133878311478,
          0.0951460632186337,
          0.3017194746813404,
          0.08369709403233563,
          0.15124738809344296,
          0.1148053606230374,
          0.0820130846349246,
          0.27318968647285174,
          0.1491963750780669,
          0.06322037026115812,
          0.07041447477829509,
          0.06659342742079885,
          0.05510156111984767,
          0.07403494647349836,
          0.3018148587144355,
          0.07530650367259999,
          0.054469610321696484,
          0.0795459353653867,
          0.19582693213462726,
          0.0534645556080622,
          0.06842504829120372,
          0.05136736294020036,
          0.07025263904075761,
          0.6188881165192569,
          0.06422715882955486,
          0.24689295300801617,
          0.07322578673120479,
          0.31936453164433354,
          0.05999834523484218,
          0.06693096348860483,
          0.12473401904475989,
          0.1651648648010942,
          0.2973241158847596,
          0.2093005198746204,
          0.06084162307204788,
          0.06385262355343062,
          0.16014709508092645,
          0.10875845168878179,
          0.250944094443259,
          0.05585388555511937,
          0.16023406332033346,
          0.06353560297158238,
          0.0523801491106696,
          0.17438046841766405,
          0.2356584962540931,
          0.1797026364293015,
          0.06948984542572367,
          0.06325230661843496,
          0.12674914014771765,
          0.14403935375001592,
          0.10934466477011308,
          0.11275734665811027,
          0.19329273171843792,
          0.21865425874654312,
          0.08575079211272665,
          0.11912396386507684,
          0.057275296697966854,
          0.12038492512748951,
          0.17883268774540678,
          0.059530789954992246,
          0.12377405935879453,
          0.2118724913876564,
          0.20850367140167944,
          0.17658448444817892,
          0.1844333319490079,
          0.3817046511963842,
          0.10590764403581959,
          0.14557402096591165,
          0.0532804387435479,
          0.0786724917421935,
          0.15605587672584287,
          0.06969050625315824,
          0.265426930293282,
          0.05380690498746854,
          0.2827698789727824,
          0.16392615148941075,
          0.2311603860897217,
          0.05034315540021002,
          0.07871534704961042,
          0.2103245713245706,
          0.16800712529606657,
          0.16601922585458345,
          0.20619177448870457,
          0.06194040214628502,
          0.16224942166992712,
          0.201337488797541,
          0.09883530573977815,
          0.18517983587742382,
          0.07206042131360801,
          0.26704182584362063,
          0.17931595741680256,
          0.19196829222117756,
          0.25060927576075953,
          0.4143621183783218,
          0.39280195884115365,
          0.13253834484952912,
          0.05756114987255155,
          0.1746243054215098,
          0.24298230538676652,
          0.22557584346708556,
          0.17826974100595389,
          0.27356220362620454,
          0.24626132730733796,
          0.06693045296291983,
          0.13821426127348627,
          0.17807846463991056,
          0.11145433682620537,
          0.1706565425236562,
          0.28629951646226903,
          0.06204879528597072,
          0.10832371709564102,
          0.08406425482701788,
          0.17449107539311864,
          0.1815804887373016,
          0.27601548666824094,
          0.1969955930529239,
          0.16830585691642594,
          0.15409872105597436,
          0.1912576823149717,
          0.21110603859735355,
          0.2534016278618335,
          0.21910943435227032,
          0.1826813783374956,
          0.2131022487642718,
          0.16037949913697208,
          0.171038385612099,
          0.062239368025214466,
          0.1594356527152616,
          0.18056991323928157,
          0.39756819277533345,
          0.26597066282531584,
          0.05833811248345686,
          0.20726033697788526,
          0.18156037736171915,
          0.26826389488130775,
          0.23164069972944568,
          0.1854699444809183,
          0.058818652828682996,
          0.2124403410307956,
          0.2396592820650459,
          0.2175297541854448,
          0.09597977435540234,
          0.28274487034566226,
          0.18820777052944698,
          0.21118493320011753,
          0.35656422759076706,
          0.25466021966672964,
          0.2852543034138866,
          0.22845863405473815,
          0.11021203300751839,
          0.1742707088369916,
          0.27359062468121376,
          0.18425945318166048,
          0.2092869718916409,
          0.1763848209542721,
          0.1637540109358883,
          0.23887105753855561,
          0.16268639327720308,
          0.2532397905374126,
          0.061409503018156786,
          0.17336979415083814,
          0.2587103432986575,
          0.19992540654230428,
          0.17870194980812926,
          0.1771379907013616,
          0.12374630981468818,
          0.21417486841671624,
          0.3248614479924088,
          0.1247144877476573,
          0.17836253862306234,
          0.2993494463775915,
          0.23311105428554296,
          0.21517805913942395,
          0.16874444580290282,
          0.19324647265046188,
          0.14326719333075372,
          0.26761841111978,
          0.20265256486875904,
          0.050119398587686326,
          0.0562486088349426,
          0.0723297856357902,
          0.07274341896362425,
          0.04954110929016708
         ],
         "xaxis": "x",
         "yaxis": "y"
        }
       ],
       "layout": {
        "barmode": "relative",
        "legend": {
         "tracegroupgap": 0
        },
        "margin": {
         "t": 60
        },
        "template": {
         "data": {
          "bar": [
           {
            "error_x": {
             "color": "#2a3f5f"
            },
            "error_y": {
             "color": "#2a3f5f"
            },
            "marker": {
             "line": {
              "color": "#E5ECF6",
              "width": 0.5
             }
            },
            "type": "bar"
           }
          ],
          "barpolar": [
           {
            "marker": {
             "line": {
              "color": "#E5ECF6",
              "width": 0.5
             }
            },
            "type": "barpolar"
           }
          ],
          "carpet": [
           {
            "aaxis": {
             "endlinecolor": "#2a3f5f",
             "gridcolor": "white",
             "linecolor": "white",
             "minorgridcolor": "white",
             "startlinecolor": "#2a3f5f"
            },
            "baxis": {
             "endlinecolor": "#2a3f5f",
             "gridcolor": "white",
             "linecolor": "white",
             "minorgridcolor": "white",
             "startlinecolor": "#2a3f5f"
            },
            "type": "carpet"
           }
          ],
          "choropleth": [
           {
            "colorbar": {
             "outlinewidth": 0,
             "ticks": ""
            },
            "type": "choropleth"
           }
          ],
          "contour": [
           {
            "colorbar": {
             "outlinewidth": 0,
             "ticks": ""
            },
            "colorscale": [
             [
              0,
              "#0d0887"
             ],
             [
              0.1111111111111111,
              "#46039f"
             ],
             [
              0.2222222222222222,
              "#7201a8"
             ],
             [
              0.3333333333333333,
              "#9c179e"
             ],
             [
              0.4444444444444444,
              "#bd3786"
             ],
             [
              0.5555555555555556,
              "#d8576b"
             ],
             [
              0.6666666666666666,
              "#ed7953"
             ],
             [
              0.7777777777777778,
              "#fb9f3a"
             ],
             [
              0.8888888888888888,
              "#fdca26"
             ],
             [
              1,
              "#f0f921"
             ]
            ],
            "type": "contour"
           }
          ],
          "contourcarpet": [
           {
            "colorbar": {
             "outlinewidth": 0,
             "ticks": ""
            },
            "type": "contourcarpet"
           }
          ],
          "heatmap": [
           {
            "colorbar": {
             "outlinewidth": 0,
             "ticks": ""
            },
            "colorscale": [
             [
              0,
              "#0d0887"
             ],
             [
              0.1111111111111111,
              "#46039f"
             ],
             [
              0.2222222222222222,
              "#7201a8"
             ],
             [
              0.3333333333333333,
              "#9c179e"
             ],
             [
              0.4444444444444444,
              "#bd3786"
             ],
             [
              0.5555555555555556,
              "#d8576b"
             ],
             [
              0.6666666666666666,
              "#ed7953"
             ],
             [
              0.7777777777777778,
              "#fb9f3a"
             ],
             [
              0.8888888888888888,
              "#fdca26"
             ],
             [
              1,
              "#f0f921"
             ]
            ],
            "type": "heatmap"
           }
          ],
          "heatmapgl": [
           {
            "colorbar": {
             "outlinewidth": 0,
             "ticks": ""
            },
            "colorscale": [
             [
              0,
              "#0d0887"
             ],
             [
              0.1111111111111111,
              "#46039f"
             ],
             [
              0.2222222222222222,
              "#7201a8"
             ],
             [
              0.3333333333333333,
              "#9c179e"
             ],
             [
              0.4444444444444444,
              "#bd3786"
             ],
             [
              0.5555555555555556,
              "#d8576b"
             ],
             [
              0.6666666666666666,
              "#ed7953"
             ],
             [
              0.7777777777777778,
              "#fb9f3a"
             ],
             [
              0.8888888888888888,
              "#fdca26"
             ],
             [
              1,
              "#f0f921"
             ]
            ],
            "type": "heatmapgl"
           }
          ],
          "histogram": [
           {
            "marker": {
             "colorbar": {
              "outlinewidth": 0,
              "ticks": ""
             }
            },
            "type": "histogram"
           }
          ],
          "histogram2d": [
           {
            "colorbar": {
             "outlinewidth": 0,
             "ticks": ""
            },
            "colorscale": [
             [
              0,
              "#0d0887"
             ],
             [
              0.1111111111111111,
              "#46039f"
             ],
             [
              0.2222222222222222,
              "#7201a8"
             ],
             [
              0.3333333333333333,
              "#9c179e"
             ],
             [
              0.4444444444444444,
              "#bd3786"
             ],
             [
              0.5555555555555556,
              "#d8576b"
             ],
             [
              0.6666666666666666,
              "#ed7953"
             ],
             [
              0.7777777777777778,
              "#fb9f3a"
             ],
             [
              0.8888888888888888,
              "#fdca26"
             ],
             [
              1,
              "#f0f921"
             ]
            ],
            "type": "histogram2d"
           }
          ],
          "histogram2dcontour": [
           {
            "colorbar": {
             "outlinewidth": 0,
             "ticks": ""
            },
            "colorscale": [
             [
              0,
              "#0d0887"
             ],
             [
              0.1111111111111111,
              "#46039f"
             ],
             [
              0.2222222222222222,
              "#7201a8"
             ],
             [
              0.3333333333333333,
              "#9c179e"
             ],
             [
              0.4444444444444444,
              "#bd3786"
             ],
             [
              0.5555555555555556,
              "#d8576b"
             ],
             [
              0.6666666666666666,
              "#ed7953"
             ],
             [
              0.7777777777777778,
              "#fb9f3a"
             ],
             [
              0.8888888888888888,
              "#fdca26"
             ],
             [
              1,
              "#f0f921"
             ]
            ],
            "type": "histogram2dcontour"
           }
          ],
          "mesh3d": [
           {
            "colorbar": {
             "outlinewidth": 0,
             "ticks": ""
            },
            "type": "mesh3d"
           }
          ],
          "parcoords": [
           {
            "line": {
             "colorbar": {
              "outlinewidth": 0,
              "ticks": ""
             }
            },
            "type": "parcoords"
           }
          ],
          "pie": [
           {
            "automargin": true,
            "type": "pie"
           }
          ],
          "scatter": [
           {
            "marker": {
             "colorbar": {
              "outlinewidth": 0,
              "ticks": ""
             }
            },
            "type": "scatter"
           }
          ],
          "scatter3d": [
           {
            "line": {
             "colorbar": {
              "outlinewidth": 0,
              "ticks": ""
             }
            },
            "marker": {
             "colorbar": {
              "outlinewidth": 0,
              "ticks": ""
             }
            },
            "type": "scatter3d"
           }
          ],
          "scattercarpet": [
           {
            "marker": {
             "colorbar": {
              "outlinewidth": 0,
              "ticks": ""
             }
            },
            "type": "scattercarpet"
           }
          ],
          "scattergeo": [
           {
            "marker": {
             "colorbar": {
              "outlinewidth": 0,
              "ticks": ""
             }
            },
            "type": "scattergeo"
           }
          ],
          "scattergl": [
           {
            "marker": {
             "colorbar": {
              "outlinewidth": 0,
              "ticks": ""
             }
            },
            "type": "scattergl"
           }
          ],
          "scattermapbox": [
           {
            "marker": {
             "colorbar": {
              "outlinewidth": 0,
              "ticks": ""
             }
            },
            "type": "scattermapbox"
           }
          ],
          "scatterpolar": [
           {
            "marker": {
             "colorbar": {
              "outlinewidth": 0,
              "ticks": ""
             }
            },
            "type": "scatterpolar"
           }
          ],
          "scatterpolargl": [
           {
            "marker": {
             "colorbar": {
              "outlinewidth": 0,
              "ticks": ""
             }
            },
            "type": "scatterpolargl"
           }
          ],
          "scatterternary": [
           {
            "marker": {
             "colorbar": {
              "outlinewidth": 0,
              "ticks": ""
             }
            },
            "type": "scatterternary"
           }
          ],
          "surface": [
           {
            "colorbar": {
             "outlinewidth": 0,
             "ticks": ""
            },
            "colorscale": [
             [
              0,
              "#0d0887"
             ],
             [
              0.1111111111111111,
              "#46039f"
             ],
             [
              0.2222222222222222,
              "#7201a8"
             ],
             [
              0.3333333333333333,
              "#9c179e"
             ],
             [
              0.4444444444444444,
              "#bd3786"
             ],
             [
              0.5555555555555556,
              "#d8576b"
             ],
             [
              0.6666666666666666,
              "#ed7953"
             ],
             [
              0.7777777777777778,
              "#fb9f3a"
             ],
             [
              0.8888888888888888,
              "#fdca26"
             ],
             [
              1,
              "#f0f921"
             ]
            ],
            "type": "surface"
           }
          ],
          "table": [
           {
            "cells": {
             "fill": {
              "color": "#EBF0F8"
             },
             "line": {
              "color": "white"
             }
            },
            "header": {
             "fill": {
              "color": "#C8D4E3"
             },
             "line": {
              "color": "white"
             }
            },
            "type": "table"
           }
          ]
         },
         "layout": {
          "annotationdefaults": {
           "arrowcolor": "#2a3f5f",
           "arrowhead": 0,
           "arrowwidth": 1
          },
          "coloraxis": {
           "colorbar": {
            "outlinewidth": 0,
            "ticks": ""
           }
          },
          "colorscale": {
           "diverging": [
            [
             0,
             "#8e0152"
            ],
            [
             0.1,
             "#c51b7d"
            ],
            [
             0.2,
             "#de77ae"
            ],
            [
             0.3,
             "#f1b6da"
            ],
            [
             0.4,
             "#fde0ef"
            ],
            [
             0.5,
             "#f7f7f7"
            ],
            [
             0.6,
             "#e6f5d0"
            ],
            [
             0.7,
             "#b8e186"
            ],
            [
             0.8,
             "#7fbc41"
            ],
            [
             0.9,
             "#4d9221"
            ],
            [
             1,
             "#276419"
            ]
           ],
           "sequential": [
            [
             0,
             "#0d0887"
            ],
            [
             0.1111111111111111,
             "#46039f"
            ],
            [
             0.2222222222222222,
             "#7201a8"
            ],
            [
             0.3333333333333333,
             "#9c179e"
            ],
            [
             0.4444444444444444,
             "#bd3786"
            ],
            [
             0.5555555555555556,
             "#d8576b"
            ],
            [
             0.6666666666666666,
             "#ed7953"
            ],
            [
             0.7777777777777778,
             "#fb9f3a"
            ],
            [
             0.8888888888888888,
             "#fdca26"
            ],
            [
             1,
             "#f0f921"
            ]
           ],
           "sequentialminus": [
            [
             0,
             "#0d0887"
            ],
            [
             0.1111111111111111,
             "#46039f"
            ],
            [
             0.2222222222222222,
             "#7201a8"
            ],
            [
             0.3333333333333333,
             "#9c179e"
            ],
            [
             0.4444444444444444,
             "#bd3786"
            ],
            [
             0.5555555555555556,
             "#d8576b"
            ],
            [
             0.6666666666666666,
             "#ed7953"
            ],
            [
             0.7777777777777778,
             "#fb9f3a"
            ],
            [
             0.8888888888888888,
             "#fdca26"
            ],
            [
             1,
             "#f0f921"
            ]
           ]
          },
          "colorway": [
           "#636efa",
           "#EF553B",
           "#00cc96",
           "#ab63fa",
           "#FFA15A",
           "#19d3f3",
           "#FF6692",
           "#B6E880",
           "#FF97FF",
           "#FECB52"
          ],
          "font": {
           "color": "#2a3f5f"
          },
          "geo": {
           "bgcolor": "white",
           "lakecolor": "white",
           "landcolor": "#E5ECF6",
           "showlakes": true,
           "showland": true,
           "subunitcolor": "white"
          },
          "hoverlabel": {
           "align": "left"
          },
          "hovermode": "closest",
          "mapbox": {
           "style": "light"
          },
          "paper_bgcolor": "white",
          "plot_bgcolor": "#E5ECF6",
          "polar": {
           "angularaxis": {
            "gridcolor": "white",
            "linecolor": "white",
            "ticks": ""
           },
           "bgcolor": "#E5ECF6",
           "radialaxis": {
            "gridcolor": "white",
            "linecolor": "white",
            "ticks": ""
           }
          },
          "scene": {
           "xaxis": {
            "backgroundcolor": "#E5ECF6",
            "gridcolor": "white",
            "gridwidth": 2,
            "linecolor": "white",
            "showbackground": true,
            "ticks": "",
            "zerolinecolor": "white"
           },
           "yaxis": {
            "backgroundcolor": "#E5ECF6",
            "gridcolor": "white",
            "gridwidth": 2,
            "linecolor": "white",
            "showbackground": true,
            "ticks": "",
            "zerolinecolor": "white"
           },
           "zaxis": {
            "backgroundcolor": "#E5ECF6",
            "gridcolor": "white",
            "gridwidth": 2,
            "linecolor": "white",
            "showbackground": true,
            "ticks": "",
            "zerolinecolor": "white"
           }
          },
          "shapedefaults": {
           "line": {
            "color": "#2a3f5f"
           }
          },
          "ternary": {
           "aaxis": {
            "gridcolor": "white",
            "linecolor": "white",
            "ticks": ""
           },
           "baxis": {
            "gridcolor": "white",
            "linecolor": "white",
            "ticks": ""
           },
           "bgcolor": "#E5ECF6",
           "caxis": {
            "gridcolor": "white",
            "linecolor": "white",
            "ticks": ""
           }
          },
          "title": {
           "x": 0.05
          },
          "xaxis": {
           "automargin": true,
           "gridcolor": "white",
           "linecolor": "white",
           "ticks": "",
           "title": {
            "standoff": 15
           },
           "zerolinecolor": "white",
           "zerolinewidth": 2
          },
          "yaxis": {
           "automargin": true,
           "gridcolor": "white",
           "linecolor": "white",
           "ticks": "",
           "title": {
            "standoff": 15
           },
           "zerolinecolor": "white",
           "zerolinewidth": 2
          }
         }
        },
        "xaxis": {
         "anchor": "y",
         "domain": [
          0,
          1
         ],
         "title": {
          "text": "0"
         }
        },
        "yaxis": {
         "anchor": "x",
         "domain": [
          0,
          1
         ],
         "title": {
          "text": "count"
         }
        }
       }
      },
      "text/html": [
       "<div>\n",
       "        \n",
       "        \n",
       "            <div id=\"c741bdbe-651a-4146-acbc-2817ecd3074b\" class=\"plotly-graph-div\" style=\"height:525px; width:100%;\"></div>\n",
       "            <script type=\"text/javascript\">\n",
       "                require([\"plotly\"], function(Plotly) {\n",
       "                    window.PLOTLYENV=window.PLOTLYENV || {};\n",
       "                    \n",
       "                if (document.getElementById(\"c741bdbe-651a-4146-acbc-2817ecd3074b\")) {\n",
       "                    Plotly.newPlot(\n",
       "                        'c741bdbe-651a-4146-acbc-2817ecd3074b',\n",
       "                        [{\"alignmentgroup\": \"True\", \"bingroup\": \"x\", \"hovertemplate\": \"0=%{x}<br>count=%{y}<extra></extra>\", \"legendgroup\": \"\", \"marker\": {\"color\": \"#636efa\"}, \"name\": \"\", \"offsetgroup\": \"\", \"orientation\": \"v\", \"showlegend\": false, \"type\": \"histogram\", \"x\": [0.0443442969458368, 0.035356326468642854, 0.04370502679242415, 0.04306198540055649, 0.03837353005691853, 0.03700053290389049, 0.03984069288935171, 0.04304407521371118, 0.049519101592448676, 0.041242916113211577, 0.040344544421892566, 0.03523044267719476, 0.042033012425492206, 0.04868815471093197, 0.023539297928254675, 0.039213954027970434, 0.037092815805402975, 0.02884766194430604, 0.04514143698102451, 0.03993448401402306, 0.040608833227330006, 0.03742019157643583, 0.04349033669389954, 0.039738848804445406, 0.046886625609406464, 0.03271717122261926, 0.02779936486410666, 0.04198412974138469, 0.04383551252805241, 0.03767689081391549, 0.04537116060966958, 0.04133720091626427, 0.04524535028985524, 0.056932741256442654, 0.0391929775520146, 0.041325866813022825, 0.05004212846934868, 0.0268844967467802, 0.04036413065083206, 0.05513217467269162, 0.044923168869429674, 0.04520777519686205, 0.037549520002164376, 0.04851201851047476, 0.05554988408969247, 0.04073645534202389, 0.04242304367870581, 0.04250110271241058, 0.03829002498914791, 0.022112932274332656, 0.04510266490216429, 0.04089023745284723, 0.032454148963090276, 0.042902661836077896, 0.036309609506262705, 0.044589993496832334, 0.02718533769031837, 0.04567164881802971, 0.05194070735360392, 0.04061639218866569, 0.03570366475787278, 0.047913585181096174, 0.042494470273599726, 0.04077189292867957, 0.040835342893748273, 0.04329787945448532, 0.04405893480080206, 0.04014295273212716, 0.057424625331026394, 0.05257744214523904, 0.04024667119420445, 0.02302732113284752, 0.03730483461555121, 0.029413510610536958, 0.04662429353286971, 0.048004479933059986, 0.03124593931895235, 0.04940884819105334, 0.045868882762613916, 0.03864278485386478, 0.0458516407391596, 0.05062072821340856, 0.046532949698903744, 0.035999067195120055, 0.04085579444211972, 0.04065926233551686, 0.04129800334228652, 0.043917006542884204, 0.04319442288302211, 0.0549514095848009, 0.041561095243503536, 0.040181893935050984, 0.03943606669133818, 0.0542863171803217, 0.042853470729920295, 0.05151845965069798, 0.03802595142932477, 0.037351058098815976, 0.03558304288859355, 0.036417275393874494, 0.04903263549077727, 0.0372741078569415, 0.041971927828365264, 0.040446293002707995, 0.038871507863331586, 0.04427565127373525, 0.04215116407009756, 0.03452367874615796, 0.05904903530306478, 0.04140235490163985, 0.04206076186501255, 0.038865497509849314, 0.03604635351332186, 0.04812620096570373, 0.048063075378130614, 0.03607513767867435, 0.048261841565152744, 0.05323090389881355, 0.045424340670907344, 0.029194660307732198, 0.045421805121218864, 0.047541920840632905, 0.05280834702148919, 0.03290229445787123, 0.054149664967646526, 0.03888739719101139, 0.04487798633284048, 0.03709467106548398, 0.03552579546696454, 0.036102693329323664, 0.03777781820412813, 0.04999179778095969, 0.06661328738653932, 0.037468040409942935, 0.04788812140891848, 0.040848502052546344, 0.04169112970921624, 0.04410063284690559, 0.036518346230184406, 0.0493004451916825, 0.04870273699374577, 0.03741643142993706, 0.04028738118955813, 0.039714975111052854, 0.0510823158440679, 0.04561530839833439, 0.04669891854823225, 0.028159467374601205, 0.033610624217943696, 0.045568524164240246, 0.043942935101305404, 0.06912142879667825, 0.04159170584365686, 0.03220374271486017, 0.04960099399979064, 0.03996245374717936, 0.034645540974270896, 0.04246159190054308, 0.037402224388974704, 0.0458648083558873, 0.04605228098836792, 0.056280196124963655, 0.033964817761455, 0.03407452787747187, 0.04826899985562469, 0.05370890209916604, 0.04170821960355329, 0.03867756493118766, 0.04268405285315048, 0.04763374790516469, 0.03740342360587494, 0.05341159561218539, 0.04109339826756083, 0.054976158959342714, 0.04349858036835048, 0.0390181823151792, 0.040948729581771544, 0.04749275475474458, 0.03991943463217264, 0.040672546069374454, 0.044205724102172377, 0.044351357855590974, 0.04149336546831374, 0.04544142608127022, 0.043919907968948006, 0.037768521470255285, 0.04122651667225536, 0.045589603695392965, 0.05401260534660881, 0.04723079974927761, 0.039058999874011555, 0.044900143364230836, 0.045282890392230254, 0.048547024752119465, 0.05752230742773409, 0.03653107729221314, 0.04836023473001897, 0.045345614416636294, 0.052147739265112944, 0.1183873377914862, 0.04822898236099826, 0.04770337536436872, 0.03335578945327232, 0.043326137601890274, 0.04468908118864722, 0.04478283071706267, 0.04511579570454069, 0.0684852278820199, 0.033168990622114786, 0.04478349998941868, 0.05256941063101811, 0.04841805637329384, 0.03900673825738903, 0.04112233155249665, 0.06077835558835591, 0.09781207559935218, 0.055001166199477716, 0.04104757603813059, 0.08944828983931746, 0.05472423760496303, 0.03918360023348405, 0.040230157380368184, 0.06147518855129113, 0.07182160920418298, 0.041189978408734736, 0.06378586514970074, 0.022568309444704948, 0.054357839750985765, 0.037976945488339284, 0.036912496827141664, 0.05938713170930174, 0.0499284629451825, 0.06043283626504124, 0.05112289670943983, 0.048266758024371456, 0.0619279902728217, 0.03763250251351981, 0.036799487091683486, 0.04910819465461818, 0.03327489684150335, 0.05592377046535512, 0.04145002580025224, 0.04947685321428544, 0.08799676631804491, 0.04385568207756997, 0.03412384447371769, 0.04631029033677169, 0.0381222990522506, 0.056448679308813934, 0.09814561354050211, 0.04382057966457574, 0.05520315337664002, 0.032062859192485256, 0.036107123996888105, 0.04074540077767678, 0.048335497588967574, 0.038341295261381955, 0.0483035464421181, 0.04972120118148624, 0.04556558026572045, 0.04393128219643619, 0.05552970895127439, 0.07360457138023142, 0.049286322586848154, 0.04755894566077181, 0.06549203258884888, 0.06107941522193733, 0.041771005213377475, 0.02742126288165158, 0.04407188229871666, 0.05077669451688669, 0.059692201415303195, 0.04642744046632221, 0.06281713394479956, 0.06770015659646345, 0.05480540876892763, 0.04766225804019211, 0.05448616181620861, 0.04327380073679203, 0.05030839451307185, 0.05660246071146591, 0.05277096916430185, 0.038952207126894234, 0.042303418173752015, 0.04398343183698469, 0.09597022257130103, 0.04903612658662015, 0.060124930860761164, 0.056305711308353754, 0.0368840730091343, 0.04808501311029629, 0.04809220571276402, 0.04059424431343237, 0.045504380151973875, 0.052646036283553854, 0.03655571385833733, 0.06992645653439586, 0.042370572316391644, 0.03568395255667888, 0.05261284784653997, 0.047582802045638306, 0.04718327238132334, 0.032795366419897685, 0.04419437577031062, 0.05067831517111489, 0.05517700145062528, 0.1114076825985921, 0.0493559172740997, 0.07945980497795625, 0.05467607069350988, 0.061526604158894646, 0.04130687192183864, 0.04523189772010557, 0.03787740130246365, 0.037021496069555036, 0.04881955461082854, 0.041232885951578084, 0.04489206296661698, 0.05134056893921786, 0.10196804081219836, 0.0737535865663238, 0.09867021918632107, 0.04785323931614499, 0.04688372797209452, 0.043951230284373574, 0.05996005474417284, 0.0485220481090631, 0.04434026408799425, 0.04657409526907062, 0.04625774680233653, 0.04950174017572447, 0.05407885389670197, 0.09384176660900574, 0.05991869870215183, 0.0359961696947747, 0.06201506085350372, 0.05435726029156484, 0.054668208713766576, 0.035520827402563154, 0.0861652784455691, 0.04949006385109342, 0.05265944195984695, 0.048459459697716346, 0.046649642429750185, 0.04193493104503612, 0.055620928367988196, 0.044418825577140955, 0.041550022120535116, 0.07268921367021283, 0.1631015262783734, 0.0693961879958516, 0.0454882548155769, 0.05601833348841565, 0.05581101577154984, 0.050665206644562144, 0.09836893335924919, 0.05573656657405231, 0.0503942581007138, 0.058033737432008334, 0.05621049540838198, 0.050056064066749305, 0.06497647374366528, 0.0564781728910938, 0.053971646700028145, 0.0578382891483392, 0.0469810479391506, 0.05345295181483958, 0.08319516023411566, 0.052820564346620885, 0.06550542203834342, 0.07696096138156466, 0.04692791880273738, 0.06295734528968781, 0.09880296681987452, 0.07357221209435422, 0.04425931904640599, 0.0691177468545634, 0.061244555209558585, 0.06031352308135851, 0.07460564124077192, 0.09083864373645055, 0.06338047833210603, 0.046298004755561416, 0.04794355497551572, 0.04331388072805613, 0.06047510295363305, 0.043601862888679316, 0.07771841577234946, 0.12207186527124872, 0.04684308944262543, 0.07296238112398236, 0.1143819220355628, 0.07786620486113227, 0.11311386227307633, 0.036277409376371875, 0.04617851256525481, 0.039306507338900835, 0.05513184606716037, 0.07903132304157819, 0.0544686676885664, 0.06029983221786132, 0.04602068289560584, 0.04572805037565371, 0.05977413863927316, 0.05236416394351344, 0.0711272327734734, 0.05223777312698011, 0.05460827630515867, 0.05556216827535401, 0.06867968581076364, 0.04956688621309233, 0.06626715732086572, 0.03317694950296268, 0.09292863785292993, 0.06664906315064431, 0.055013410097349155, 0.07290413576495963, 0.04479537600315381, 0.05855468769759505, 0.07903070401407725, 0.0648770959105733, 0.04486221031654119, 0.044526465425977275, 0.10277852398816949, 0.04983784068408024, 0.05646868822665123, 0.04062844416742351, 0.043170280806905804, 0.12119427396576256, 0.05658127981374048, 0.05245772748095513, 0.09497417121087884, 0.05656994373647002, 0.052976600287116524, 0.037219553562383684, 0.051720917054944644, 0.11476063446989845, 0.06529216915699992, 0.057462571682071896, 0.0557347927841948, 0.0734813973627476, 0.06240217494568541, 0.05534381601197791, 0.05252613157599669, 0.07254842061431363, 0.060398313399288445, 0.04238761898273074, 0.09576038055479137, 0.048221068858787054, 0.04403427107764144, 0.060715106814139386, 0.06783147276108259, 0.06033512814566748, 0.06673323230991941, 0.06287418559929328, 0.0732870915439427, 0.05112491583210586, 0.05372613952169834, 0.06044622902172708, 0.0751870514064981, 0.14743978561053417, 0.07417516776789941, 0.07706847485574027, 0.10788343683753114, 0.20035816057098843, 0.07676065080997642, 0.046872174981515836, 0.038449656988946576, 0.08476341746803524, 0.0634030828267759, 0.07858074658051505, 0.03485442741056943, 0.0657491003624748, 0.0756204159603063, 0.06284310556464645, 0.09761010390260579, 0.06310906730328238, 0.13013629422864026, 0.03560125230168513, 0.09405973746202134, 0.1251628229569448, 0.054737625416883776, 0.05447066991763638, 0.08490785520495041, 0.044329316470347636, 0.07099941603981107, 0.05956998750899489, 0.12444066257757119, 0.06146275402277454, 0.11391986886710362, 0.05958038870564418, 0.05777448305596515, 0.24320148003865943, 0.06238396875807248, 0.04699097171902036, 0.11413682230308146, 0.13086190171997333, 0.05156964862005714, 0.05014947176481122, 0.10414483625745949, 0.1115908600653327, 0.09095365918699017, 0.06371910277050954, 0.061941499803967126, 0.041968640592042396, 0.05784948680414502, 0.056730610604830825, 0.05234744032354882, 0.1406797728834026, 0.05894679001462628, 0.06839266082428008, 0.06172580116557098, 0.059106393403057525, 0.039615016505334937, 0.1264526400363667, 0.06563364085083269, 0.05559718287327499, 0.0558132812093101, 0.07127950500593033, 0.06212589934461693, 0.06762897205676778, 0.06771067112128848, 0.029973835281149726, 0.07034986476000081, 0.04578344296347535, 0.05107068278085447, 0.06315916348285554, 0.07336743456284332, 0.2136056342277273, 0.07100430704005146, 0.06477958411645232, 0.047050468074850894, 0.056307443294566495, 0.14564852170042883, 0.059048075184513854, 0.1276308545339111, 0.08173216672044618, 0.049040631845438644, 0.05238200648623424, 0.043489124129170977, 0.07434017547154059, 0.11029476567133648, 0.06024581680268291, 0.07048361665924688, 0.10351750729942194, 0.09002460190791192, 0.06250516896272172, 0.061039593617025004, 0.0659197269529556, 0.05114531810346478, 0.08071699900330968, 0.13210309265833894, 0.07552009123856177, 0.04504677802639359, 0.113462575373434, 0.12967176118797907, 0.07360849403145492, 0.07039683944647943, 0.03599243947074842, 0.1307551874177398, 0.0881362563349001, 0.04927046787772793, 0.04478242993724204, 0.11409747018314885, 0.04956403220289817, 0.10325474743902185, 0.08059009849087996, 0.07637981682641116, 0.099488694998204, 0.12375450563113058, 0.0666071893661609, 0.05907552049994317, 0.07947675231019388, 0.05158727187897278, 0.23195639624896391, 0.04876174988913519, 0.04149935701593971, 0.08261732015069577, 0.04753041855956811, 0.14783731900855557, 0.05609199587876866, 0.06475677334615983, 0.07343492485003136, 0.4892662334621648, 0.07058988038657356, 0.06391453349640452, 0.1130574789614974, 0.03201168897168854, 0.05910517756108667, 0.05876346785610143, 0.0676382111375076, 0.09508448450017809, 0.08485044429074912, 0.04788747050706922, 0.1993644046566148, 0.0584923342922563, 0.05562363869498761, 0.06992998545124524, 0.0808055773056287, 0.10631499689929509, 0.19184118860757357, 0.11470135007073251, 0.06907772999526049, 0.04049371674316203, 0.06629444057575391, 0.2880855020202021, 0.07758333428568685, 0.06494068032858974, 0.09620897152726061, 0.045134849355500384, 0.12975868832497134, 0.133051326577251, 0.06549026402103603, 0.08719958196748961, 0.12330866108198543, 0.10912410251872963, 0.1701006362374048, 0.06330832697078953, 0.07452770379322683, 0.18334454441859072, 0.17095751675477144, 0.05373641348290517, 0.07728916567838388, 0.07870120753302658, 0.08119127597734399, 0.048258792343606624, 0.11657987259033153, 0.08459604724889677, 0.07978687203812075, 0.07093413976645203, 0.11490296923894067, 0.06674101705651897, 0.054644849588465834, 0.050709848915025585, 0.07155726865584641, 0.09700323677609317, 0.1060698768577356, 0.06218054845654905, 0.048581553536691455, 0.11178577816523133, 0.10609125718350279, 0.09244464531703059, 0.053619688427102935, 0.10599874225412292, 0.06696199710827362, 0.09107750176921442, 0.11879780380680963, 0.05758961364189506, 0.05740630891085573, 0.048819892557018976, 0.08062452607337006, 0.21259668380819519, 0.0564156840291762, 0.1979394753953862, 0.061967388087548744, 0.06126070514776348, 0.06016533679925752, 0.09618961951506955, 0.07375606069746299, 0.17271398471595584, 0.3021804414151663, 0.21053127966758906, 0.06691823515072087, 0.21140572855639356, 0.06501971627249861, 0.07255542825864546, 0.06404387214680558, 0.23409184539785638, 0.06449724601626447, 0.10810745978492602, 0.06438193623720626, 0.1118577676251996, 0.05975266574899464, 0.06962819873022011, 0.07047713899909994, 0.20366995047346909, 0.12840956330436962, 0.057247819878669615, 0.11743056193425803, 0.04982445663560995, 0.06175135937866648, 0.059721939461680015, 0.07000902258925426, 0.2727732619576881, 0.1194008551952383, 0.06768918379247145, 0.11390818109624513, 0.14481528744985958, 0.05328546494873988, 0.10796359623730341, 0.07772956953402925, 0.0761210393568838, 0.06314751088451154, 0.12345081463119625, 0.03180655422018182, 0.07431537632337427, 0.13280754403952363, 0.05468032567456866, 0.07713477846544994, 0.257705744206659, 0.06520224819643788, 0.18051834034148845, 0.16317929950278431, 0.19198987276917848, 0.07892117142688175, 0.3651160864950844, 0.06669635090684042, 0.07353133878311478, 0.0951460632186337, 0.3017194746813404, 0.08369709403233563, 0.15124738809344296, 0.1148053606230374, 0.0820130846349246, 0.27318968647285174, 0.1491963750780669, 0.06322037026115812, 0.07041447477829509, 0.06659342742079885, 0.05510156111984767, 0.07403494647349836, 0.3018148587144355, 0.07530650367259999, 0.054469610321696484, 0.0795459353653867, 0.19582693213462726, 0.0534645556080622, 0.06842504829120372, 0.05136736294020036, 0.07025263904075761, 0.6188881165192569, 0.06422715882955486, 0.24689295300801617, 0.07322578673120479, 0.31936453164433354, 0.05999834523484218, 0.06693096348860483, 0.12473401904475989, 0.1651648648010942, 0.2973241158847596, 0.2093005198746204, 0.06084162307204788, 0.06385262355343062, 0.16014709508092645, 0.10875845168878179, 0.250944094443259, 0.05585388555511937, 0.16023406332033346, 0.06353560297158238, 0.0523801491106696, 0.17438046841766405, 0.2356584962540931, 0.1797026364293015, 0.06948984542572367, 0.06325230661843496, 0.12674914014771765, 0.14403935375001592, 0.10934466477011308, 0.11275734665811027, 0.19329273171843792, 0.21865425874654312, 0.08575079211272665, 0.11912396386507684, 0.057275296697966854, 0.12038492512748951, 0.17883268774540678, 0.059530789954992246, 0.12377405935879453, 0.2118724913876564, 0.20850367140167944, 0.17658448444817892, 0.1844333319490079, 0.3817046511963842, 0.10590764403581959, 0.14557402096591165, 0.0532804387435479, 0.0786724917421935, 0.15605587672584287, 0.06969050625315824, 0.265426930293282, 0.05380690498746854, 0.2827698789727824, 0.16392615148941075, 0.2311603860897217, 0.05034315540021002, 0.07871534704961042, 0.2103245713245706, 0.16800712529606657, 0.16601922585458345, 0.20619177448870457, 0.06194040214628502, 0.16224942166992712, 0.201337488797541, 0.09883530573977815, 0.18517983587742382, 0.07206042131360801, 0.26704182584362063, 0.17931595741680256, 0.19196829222117756, 0.25060927576075953, 0.4143621183783218, 0.39280195884115365, 0.13253834484952912, 0.05756114987255155, 0.1746243054215098, 0.24298230538676652, 0.22557584346708556, 0.17826974100595389, 0.27356220362620454, 0.24626132730733796, 0.06693045296291983, 0.13821426127348627, 0.17807846463991056, 0.11145433682620537, 0.1706565425236562, 0.28629951646226903, 0.06204879528597072, 0.10832371709564102, 0.08406425482701788, 0.17449107539311864, 0.1815804887373016, 0.27601548666824094, 0.1969955930529239, 0.16830585691642594, 0.15409872105597436, 0.1912576823149717, 0.21110603859735355, 0.2534016278618335, 0.21910943435227032, 0.1826813783374956, 0.2131022487642718, 0.16037949913697208, 0.171038385612099, 0.062239368025214466, 0.1594356527152616, 0.18056991323928157, 0.39756819277533345, 0.26597066282531584, 0.05833811248345686, 0.20726033697788526, 0.18156037736171915, 0.26826389488130775, 0.23164069972944568, 0.1854699444809183, 0.058818652828682996, 0.2124403410307956, 0.2396592820650459, 0.2175297541854448, 0.09597977435540234, 0.28274487034566226, 0.18820777052944698, 0.21118493320011753, 0.35656422759076706, 0.25466021966672964, 0.2852543034138866, 0.22845863405473815, 0.11021203300751839, 0.1742707088369916, 0.27359062468121376, 0.18425945318166048, 0.2092869718916409, 0.1763848209542721, 0.1637540109358883, 0.23887105753855561, 0.16268639327720308, 0.2532397905374126, 0.061409503018156786, 0.17336979415083814, 0.2587103432986575, 0.19992540654230428, 0.17870194980812926, 0.1771379907013616, 0.12374630981468818, 0.21417486841671624, 0.3248614479924088, 0.1247144877476573, 0.17836253862306234, 0.2993494463775915, 0.23311105428554296, 0.21517805913942395, 0.16874444580290282, 0.19324647265046188, 0.14326719333075372, 0.26761841111978, 0.20265256486875904, 0.050119398587686326, 0.0562486088349426, 0.0723297856357902, 0.07274341896362425, 0.04954110929016708], \"xaxis\": \"x\", \"yaxis\": \"y\"}],\n",
       "                        {\"barmode\": \"relative\", \"legend\": {\"tracegroupgap\": 0}, \"margin\": {\"t\": 60}, \"template\": {\"data\": {\"bar\": [{\"error_x\": {\"color\": \"#2a3f5f\"}, \"error_y\": {\"color\": \"#2a3f5f\"}, \"marker\": {\"line\": {\"color\": \"#E5ECF6\", \"width\": 0.5}}, \"type\": \"bar\"}], \"barpolar\": [{\"marker\": {\"line\": {\"color\": \"#E5ECF6\", \"width\": 0.5}}, \"type\": \"barpolar\"}], \"carpet\": [{\"aaxis\": {\"endlinecolor\": \"#2a3f5f\", \"gridcolor\": \"white\", \"linecolor\": \"white\", \"minorgridcolor\": \"white\", \"startlinecolor\": \"#2a3f5f\"}, \"baxis\": {\"endlinecolor\": \"#2a3f5f\", \"gridcolor\": \"white\", \"linecolor\": \"white\", \"minorgridcolor\": \"white\", \"startlinecolor\": \"#2a3f5f\"}, \"type\": \"carpet\"}], \"choropleth\": [{\"colorbar\": {\"outlinewidth\": 0, \"ticks\": \"\"}, \"type\": \"choropleth\"}], \"contour\": [{\"colorbar\": {\"outlinewidth\": 0, \"ticks\": \"\"}, \"colorscale\": [[0.0, \"#0d0887\"], [0.1111111111111111, \"#46039f\"], [0.2222222222222222, \"#7201a8\"], [0.3333333333333333, \"#9c179e\"], [0.4444444444444444, \"#bd3786\"], [0.5555555555555556, \"#d8576b\"], [0.6666666666666666, \"#ed7953\"], [0.7777777777777778, \"#fb9f3a\"], [0.8888888888888888, \"#fdca26\"], [1.0, \"#f0f921\"]], \"type\": \"contour\"}], \"contourcarpet\": [{\"colorbar\": {\"outlinewidth\": 0, \"ticks\": \"\"}, \"type\": \"contourcarpet\"}], \"heatmap\": [{\"colorbar\": {\"outlinewidth\": 0, \"ticks\": \"\"}, \"colorscale\": [[0.0, \"#0d0887\"], [0.1111111111111111, \"#46039f\"], [0.2222222222222222, \"#7201a8\"], [0.3333333333333333, \"#9c179e\"], [0.4444444444444444, \"#bd3786\"], [0.5555555555555556, \"#d8576b\"], [0.6666666666666666, \"#ed7953\"], [0.7777777777777778, \"#fb9f3a\"], [0.8888888888888888, \"#fdca26\"], [1.0, \"#f0f921\"]], \"type\": \"heatmap\"}], \"heatmapgl\": [{\"colorbar\": {\"outlinewidth\": 0, \"ticks\": \"\"}, \"colorscale\": [[0.0, \"#0d0887\"], [0.1111111111111111, \"#46039f\"], [0.2222222222222222, \"#7201a8\"], [0.3333333333333333, \"#9c179e\"], [0.4444444444444444, \"#bd3786\"], [0.5555555555555556, \"#d8576b\"], [0.6666666666666666, \"#ed7953\"], [0.7777777777777778, \"#fb9f3a\"], [0.8888888888888888, \"#fdca26\"], [1.0, \"#f0f921\"]], \"type\": \"heatmapgl\"}], \"histogram\": [{\"marker\": {\"colorbar\": {\"outlinewidth\": 0, \"ticks\": \"\"}}, \"type\": \"histogram\"}], \"histogram2d\": [{\"colorbar\": {\"outlinewidth\": 0, \"ticks\": \"\"}, \"colorscale\": [[0.0, \"#0d0887\"], [0.1111111111111111, \"#46039f\"], [0.2222222222222222, \"#7201a8\"], [0.3333333333333333, \"#9c179e\"], [0.4444444444444444, \"#bd3786\"], [0.5555555555555556, \"#d8576b\"], [0.6666666666666666, \"#ed7953\"], [0.7777777777777778, \"#fb9f3a\"], [0.8888888888888888, \"#fdca26\"], [1.0, \"#f0f921\"]], \"type\": \"histogram2d\"}], \"histogram2dcontour\": [{\"colorbar\": {\"outlinewidth\": 0, \"ticks\": \"\"}, \"colorscale\": [[0.0, \"#0d0887\"], [0.1111111111111111, \"#46039f\"], [0.2222222222222222, \"#7201a8\"], [0.3333333333333333, \"#9c179e\"], [0.4444444444444444, \"#bd3786\"], [0.5555555555555556, \"#d8576b\"], [0.6666666666666666, \"#ed7953\"], [0.7777777777777778, \"#fb9f3a\"], [0.8888888888888888, \"#fdca26\"], [1.0, \"#f0f921\"]], \"type\": \"histogram2dcontour\"}], \"mesh3d\": [{\"colorbar\": {\"outlinewidth\": 0, \"ticks\": \"\"}, \"type\": \"mesh3d\"}], \"parcoords\": [{\"line\": {\"colorbar\": {\"outlinewidth\": 0, \"ticks\": \"\"}}, \"type\": \"parcoords\"}], \"pie\": [{\"automargin\": true, \"type\": \"pie\"}], \"scatter\": [{\"marker\": {\"colorbar\": {\"outlinewidth\": 0, \"ticks\": \"\"}}, \"type\": \"scatter\"}], \"scatter3d\": [{\"line\": {\"colorbar\": {\"outlinewidth\": 0, \"ticks\": \"\"}}, \"marker\": {\"colorbar\": {\"outlinewidth\": 0, \"ticks\": \"\"}}, \"type\": \"scatter3d\"}], \"scattercarpet\": [{\"marker\": {\"colorbar\": {\"outlinewidth\": 0, \"ticks\": \"\"}}, \"type\": \"scattercarpet\"}], \"scattergeo\": [{\"marker\": {\"colorbar\": {\"outlinewidth\": 0, \"ticks\": \"\"}}, \"type\": \"scattergeo\"}], \"scattergl\": [{\"marker\": {\"colorbar\": {\"outlinewidth\": 0, \"ticks\": \"\"}}, \"type\": \"scattergl\"}], \"scattermapbox\": [{\"marker\": {\"colorbar\": {\"outlinewidth\": 0, \"ticks\": \"\"}}, \"type\": \"scattermapbox\"}], \"scatterpolar\": [{\"marker\": {\"colorbar\": {\"outlinewidth\": 0, \"ticks\": \"\"}}, \"type\": \"scatterpolar\"}], \"scatterpolargl\": [{\"marker\": {\"colorbar\": {\"outlinewidth\": 0, \"ticks\": \"\"}}, \"type\": \"scatterpolargl\"}], \"scatterternary\": [{\"marker\": {\"colorbar\": {\"outlinewidth\": 0, \"ticks\": \"\"}}, \"type\": \"scatterternary\"}], \"surface\": [{\"colorbar\": {\"outlinewidth\": 0, \"ticks\": \"\"}, \"colorscale\": [[0.0, \"#0d0887\"], [0.1111111111111111, \"#46039f\"], [0.2222222222222222, \"#7201a8\"], [0.3333333333333333, \"#9c179e\"], [0.4444444444444444, \"#bd3786\"], [0.5555555555555556, \"#d8576b\"], [0.6666666666666666, \"#ed7953\"], [0.7777777777777778, \"#fb9f3a\"], [0.8888888888888888, \"#fdca26\"], [1.0, \"#f0f921\"]], \"type\": \"surface\"}], \"table\": [{\"cells\": {\"fill\": {\"color\": \"#EBF0F8\"}, \"line\": {\"color\": \"white\"}}, \"header\": {\"fill\": {\"color\": \"#C8D4E3\"}, \"line\": {\"color\": \"white\"}}, \"type\": \"table\"}]}, \"layout\": {\"annotationdefaults\": {\"arrowcolor\": \"#2a3f5f\", \"arrowhead\": 0, \"arrowwidth\": 1}, \"coloraxis\": {\"colorbar\": {\"outlinewidth\": 0, \"ticks\": \"\"}}, \"colorscale\": {\"diverging\": [[0, \"#8e0152\"], [0.1, \"#c51b7d\"], [0.2, \"#de77ae\"], [0.3, \"#f1b6da\"], [0.4, \"#fde0ef\"], [0.5, \"#f7f7f7\"], [0.6, \"#e6f5d0\"], [0.7, \"#b8e186\"], [0.8, \"#7fbc41\"], [0.9, \"#4d9221\"], [1, \"#276419\"]], \"sequential\": [[0.0, \"#0d0887\"], [0.1111111111111111, \"#46039f\"], [0.2222222222222222, \"#7201a8\"], [0.3333333333333333, \"#9c179e\"], [0.4444444444444444, \"#bd3786\"], [0.5555555555555556, \"#d8576b\"], [0.6666666666666666, \"#ed7953\"], [0.7777777777777778, \"#fb9f3a\"], [0.8888888888888888, \"#fdca26\"], [1.0, \"#f0f921\"]], \"sequentialminus\": [[0.0, \"#0d0887\"], [0.1111111111111111, \"#46039f\"], [0.2222222222222222, \"#7201a8\"], [0.3333333333333333, \"#9c179e\"], [0.4444444444444444, \"#bd3786\"], [0.5555555555555556, \"#d8576b\"], [0.6666666666666666, \"#ed7953\"], [0.7777777777777778, \"#fb9f3a\"], [0.8888888888888888, \"#fdca26\"], [1.0, \"#f0f921\"]]}, \"colorway\": [\"#636efa\", \"#EF553B\", \"#00cc96\", \"#ab63fa\", \"#FFA15A\", \"#19d3f3\", \"#FF6692\", \"#B6E880\", \"#FF97FF\", \"#FECB52\"], \"font\": {\"color\": \"#2a3f5f\"}, \"geo\": {\"bgcolor\": \"white\", \"lakecolor\": \"white\", \"landcolor\": \"#E5ECF6\", \"showlakes\": true, \"showland\": true, \"subunitcolor\": \"white\"}, \"hoverlabel\": {\"align\": \"left\"}, \"hovermode\": \"closest\", \"mapbox\": {\"style\": \"light\"}, \"paper_bgcolor\": \"white\", \"plot_bgcolor\": \"#E5ECF6\", \"polar\": {\"angularaxis\": {\"gridcolor\": \"white\", \"linecolor\": \"white\", \"ticks\": \"\"}, \"bgcolor\": \"#E5ECF6\", \"radialaxis\": {\"gridcolor\": \"white\", \"linecolor\": \"white\", \"ticks\": \"\"}}, \"scene\": {\"xaxis\": {\"backgroundcolor\": \"#E5ECF6\", \"gridcolor\": \"white\", \"gridwidth\": 2, \"linecolor\": \"white\", \"showbackground\": true, \"ticks\": \"\", \"zerolinecolor\": \"white\"}, \"yaxis\": {\"backgroundcolor\": \"#E5ECF6\", \"gridcolor\": \"white\", \"gridwidth\": 2, \"linecolor\": \"white\", \"showbackground\": true, \"ticks\": \"\", \"zerolinecolor\": \"white\"}, \"zaxis\": {\"backgroundcolor\": \"#E5ECF6\", \"gridcolor\": \"white\", \"gridwidth\": 2, \"linecolor\": \"white\", \"showbackground\": true, \"ticks\": \"\", \"zerolinecolor\": \"white\"}}, \"shapedefaults\": {\"line\": {\"color\": \"#2a3f5f\"}}, \"ternary\": {\"aaxis\": {\"gridcolor\": \"white\", \"linecolor\": \"white\", \"ticks\": \"\"}, \"baxis\": {\"gridcolor\": \"white\", \"linecolor\": \"white\", \"ticks\": \"\"}, \"bgcolor\": \"#E5ECF6\", \"caxis\": {\"gridcolor\": \"white\", \"linecolor\": \"white\", \"ticks\": \"\"}}, \"title\": {\"x\": 0.05}, \"xaxis\": {\"automargin\": true, \"gridcolor\": \"white\", \"linecolor\": \"white\", \"ticks\": \"\", \"title\": {\"standoff\": 15}, \"zerolinecolor\": \"white\", \"zerolinewidth\": 2}, \"yaxis\": {\"automargin\": true, \"gridcolor\": \"white\", \"linecolor\": \"white\", \"ticks\": \"\", \"title\": {\"standoff\": 15}, \"zerolinecolor\": \"white\", \"zerolinewidth\": 2}}}, \"xaxis\": {\"anchor\": \"y\", \"domain\": [0.0, 1.0], \"title\": {\"text\": \"0\"}}, \"yaxis\": {\"anchor\": \"x\", \"domain\": [0.0, 1.0], \"title\": {\"text\": \"count\"}}},\n",
       "                        {\"responsive\": true}\n",
       "                    ).then(function(){\n",
       "                            \n",
       "var gd = document.getElementById('c741bdbe-651a-4146-acbc-2817ecd3074b');\n",
       "var x = new MutationObserver(function (mutations, observer) {{\n",
       "        var display = window.getComputedStyle(gd).display;\n",
       "        if (!display || display === 'none') {{\n",
       "            console.log([gd, 'removed!']);\n",
       "            Plotly.purge(gd);\n",
       "            observer.disconnect();\n",
       "        }}\n",
       "}});\n",
       "\n",
       "// Listen for the removal of the full notebook cells\n",
       "var notebookContainer = gd.closest('#notebook-container');\n",
       "if (notebookContainer) {{\n",
       "    x.observe(notebookContainer, {childList: true});\n",
       "}}\n",
       "\n",
       "// Listen for the clearing of the current output cell\n",
       "var outputEl = gd.closest('.output');\n",
       "if (outputEl) {{\n",
       "    x.observe(outputEl, {childList: true});\n",
       "}}\n",
       "\n",
       "                        })\n",
       "                };\n",
       "                });\n",
       "            </script>\n",
       "        </div>"
      ]
     },
     "metadata": {},
     "output_type": "display_data"
    }
   ],
   "source": [
    "px.histogram(pd.DataFrame(y_pred_test), x=0)"
   ]
  },
  {
   "cell_type": "code",
   "execution_count": null,
   "metadata": {},
   "outputs": [],
   "source": []
  }
 ],
 "metadata": {
  "kernelspec": {
   "display_name": "Python 3",
   "language": "python",
   "name": "python3"
  },
  "language_info": {
   "codemirror_mode": {
    "name": "ipython",
    "version": 3
   },
   "file_extension": ".py",
   "mimetype": "text/x-python",
   "name": "python",
   "nbconvert_exporter": "python",
   "pygments_lexer": "ipython3",
   "version": "3.8.0"
  }
 },
 "nbformat": 4,
 "nbformat_minor": 4
}
