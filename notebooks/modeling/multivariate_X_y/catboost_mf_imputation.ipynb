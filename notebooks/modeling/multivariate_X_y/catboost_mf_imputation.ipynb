{
 "cells": [
  {
   "cell_type": "code",
   "execution_count": 1,
   "metadata": {
    "ExecuteTime": {
     "end_time": "2020-06-20T10:19:45.955855Z",
     "start_time": "2020-06-20T10:19:44.777270Z"
    }
   },
   "outputs": [
    {
     "data": {
      "text/html": [
       "        <script type=\"text/javascript\">\n",
       "        window.PlotlyConfig = {MathJaxConfig: 'local'};\n",
       "        if (window.MathJax) {MathJax.Hub.Config({SVG: {font: \"STIX-Web\"}});}\n",
       "        if (typeof require !== 'undefined') {\n",
       "        require.undef(\"plotly\");\n",
       "        requirejs.config({\n",
       "            paths: {\n",
       "                'plotly': ['https://cdn.plot.ly/plotly-latest.min']\n",
       "            }\n",
       "        });\n",
       "        require(['plotly'], function(Plotly) {\n",
       "            window._Plotly = Plotly;\n",
       "        });\n",
       "        }\n",
       "        </script>\n",
       "        "
      ]
     },
     "metadata": {},
     "output_type": "display_data"
    }
   ],
   "source": [
    "# Scientific libraries\t\t              \n",
    "import numpy as np\t\t              \n",
    "import scipy as sp\t\t              \n",
    "import pandas as pd\t\t              \n",
    "import json\t\t              \n",
    "import missingno as msno\t\t              \n",
    "\n",
    "# Loading Plotting Modules\t\t              \n",
    "import matplotlib\t\t              \n",
    "import matplotlib.pyplot as plt\t\t              \n",
    "import seaborn as sns\t\t              \n",
    "%matplotlib inline\t\t              \n",
    "import chart_studio.plotly as py\t\t              \n",
    "import plotly.figure_factory as ff\t\t              \n",
    "import plotly.graph_objects as go\t\t              \n",
    "import plotly.express as px\t\t              \n",
    "from plotly.offline import download_plotlyjs, init_notebook_mode, plot, iplot\t\t              \n",
    "init_notebook_mode(connected=True)\t\t              \n",
    "\t\t              \n",
    "import os\t\t              \n",
    "import gc"
   ]
  },
  {
   "cell_type": "code",
   "execution_count": 2,
   "metadata": {
    "ExecuteTime": {
     "end_time": "2020-06-20T10:19:45.959858Z",
     "start_time": "2020-06-20T10:19:45.956856Z"
    }
   },
   "outputs": [],
   "source": [
    "# Setting Data Frame Options                      \n",
    "pd.set_option('display.max_rows', 40)                      \n",
    "pd.set_option('display.max_columns', 50)                      \n",
    "pd.set_option('display.width', 100)                      \n",
    "pd.set_option('display.max_colwidth', 100)                      \n",
    "\n",
    "# Setting Plot Configuration                      \n",
    "sns.set(rc={'figure.figsize':(19,11)}, style = 'white')"
   ]
  },
  {
   "cell_type": "code",
   "execution_count": 3,
   "metadata": {
    "ExecuteTime": {
     "end_time": "2020-06-20T10:19:45.997893Z",
     "start_time": "2020-06-20T10:19:45.960859Z"
    },
    "scrolled": true
   },
   "outputs": [
    {
     "name": "stdout",
     "output_type": "stream",
     "text": [
      "Data Frame: 3865 x 31\n"
     ]
    },
    {
     "data": {
      "text/html": [
       "<div>\n",
       "<style scoped>\n",
       "    .dataframe tbody tr th:only-of-type {\n",
       "        vertical-align: middle;\n",
       "    }\n",
       "\n",
       "    .dataframe tbody tr th {\n",
       "        vertical-align: top;\n",
       "    }\n",
       "\n",
       "    .dataframe thead th {\n",
       "        text-align: right;\n",
       "    }\n",
       "</style>\n",
       "<table border=\"1\" class=\"dataframe\">\n",
       "  <thead>\n",
       "    <tr style=\"text-align: right;\">\n",
       "      <th></th>\n",
       "      <th>feature_0</th>\n",
       "      <th>feature_1</th>\n",
       "      <th>feature_2</th>\n",
       "      <th>feature_3</th>\n",
       "      <th>feature_4</th>\n",
       "      <th>feature_5</th>\n",
       "      <th>feature_6</th>\n",
       "      <th>feature_7</th>\n",
       "      <th>feature_8</th>\n",
       "      <th>feature_9</th>\n",
       "      <th>feature_10</th>\n",
       "      <th>feature_11</th>\n",
       "      <th>feature_12</th>\n",
       "      <th>feature_13</th>\n",
       "      <th>feature_14</th>\n",
       "      <th>feature_15</th>\n",
       "      <th>feature_16</th>\n",
       "      <th>feature_17</th>\n",
       "      <th>feature_18</th>\n",
       "      <th>feature_19</th>\n",
       "      <th>feature_20</th>\n",
       "      <th>feature_21</th>\n",
       "      <th>feature_22</th>\n",
       "      <th>feature_23</th>\n",
       "      <th>feature_24</th>\n",
       "      <th>feature_25</th>\n",
       "      <th>feature_26</th>\n",
       "      <th>feature_27</th>\n",
       "      <th>feature_28</th>\n",
       "      <th>feature_29</th>\n",
       "      <th>y</th>\n",
       "    </tr>\n",
       "  </thead>\n",
       "  <tbody>\n",
       "    <tr>\n",
       "      <th>0</th>\n",
       "      <td>0.0</td>\n",
       "      <td>0.000000</td>\n",
       "      <td>0.538709</td>\n",
       "      <td>0.0</td>\n",
       "      <td>0.251289</td>\n",
       "      <td>0.0</td>\n",
       "      <td>0.124047</td>\n",
       "      <td>0.0</td>\n",
       "      <td>0.107791</td>\n",
       "      <td>0.350713</td>\n",
       "      <td>0.000000</td>\n",
       "      <td>0.0</td>\n",
       "      <td>0.000000</td>\n",
       "      <td>0.0</td>\n",
       "      <td>0.042033</td>\n",
       "      <td>0.036243</td>\n",
       "      <td>0.000000</td>\n",
       "      <td>0.445146</td>\n",
       "      <td>0.000000</td>\n",
       "      <td>0.195702</td>\n",
       "      <td>0.408145</td>\n",
       "      <td>0.225453</td>\n",
       "      <td>0.209072</td>\n",
       "      <td>0.000000</td>\n",
       "      <td>0.000000</td>\n",
       "      <td>0.000000</td>\n",
       "      <td>0.000000</td>\n",
       "      <td>0.210484</td>\n",
       "      <td>0.0</td>\n",
       "      <td>0.0</td>\n",
       "      <td>0.052590</td>\n",
       "    </tr>\n",
       "    <tr>\n",
       "      <th>1</th>\n",
       "      <td>0.0</td>\n",
       "      <td>0.000000</td>\n",
       "      <td>0.000000</td>\n",
       "      <td>0.0</td>\n",
       "      <td>0.118608</td>\n",
       "      <td>0.0</td>\n",
       "      <td>0.000000</td>\n",
       "      <td>0.0</td>\n",
       "      <td>0.000000</td>\n",
       "      <td>0.192456</td>\n",
       "      <td>0.000000</td>\n",
       "      <td>0.0</td>\n",
       "      <td>0.218738</td>\n",
       "      <td>0.0</td>\n",
       "      <td>0.034220</td>\n",
       "      <td>0.000000</td>\n",
       "      <td>0.000000</td>\n",
       "      <td>0.375053</td>\n",
       "      <td>0.000000</td>\n",
       "      <td>0.311769</td>\n",
       "      <td>0.297349</td>\n",
       "      <td>0.275564</td>\n",
       "      <td>0.225799</td>\n",
       "      <td>0.000000</td>\n",
       "      <td>0.265928</td>\n",
       "      <td>0.000000</td>\n",
       "      <td>0.000000</td>\n",
       "      <td>0.155583</td>\n",
       "      <td>0.0</td>\n",
       "      <td>0.0</td>\n",
       "      <td>0.059868</td>\n",
       "    </tr>\n",
       "    <tr>\n",
       "      <th>2</th>\n",
       "      <td>0.0</td>\n",
       "      <td>0.000000</td>\n",
       "      <td>0.088366</td>\n",
       "      <td>0.0</td>\n",
       "      <td>0.633086</td>\n",
       "      <td>0.0</td>\n",
       "      <td>0.200393</td>\n",
       "      <td>0.0</td>\n",
       "      <td>0.140711</td>\n",
       "      <td>0.488107</td>\n",
       "      <td>0.000000</td>\n",
       "      <td>0.0</td>\n",
       "      <td>0.203071</td>\n",
       "      <td>0.0</td>\n",
       "      <td>0.000000</td>\n",
       "      <td>0.015725</td>\n",
       "      <td>0.092138</td>\n",
       "      <td>0.776566</td>\n",
       "      <td>0.000000</td>\n",
       "      <td>0.106319</td>\n",
       "      <td>1.029322</td>\n",
       "      <td>0.588490</td>\n",
       "      <td>0.290202</td>\n",
       "      <td>0.000000</td>\n",
       "      <td>0.000000</td>\n",
       "      <td>0.000000</td>\n",
       "      <td>0.000000</td>\n",
       "      <td>0.751875</td>\n",
       "      <td>0.0</td>\n",
       "      <td>0.0</td>\n",
       "      <td>0.050449</td>\n",
       "    </tr>\n",
       "    <tr>\n",
       "      <th>3</th>\n",
       "      <td>0.0</td>\n",
       "      <td>0.000000</td>\n",
       "      <td>0.461268</td>\n",
       "      <td>0.0</td>\n",
       "      <td>0.831660</td>\n",
       "      <td>0.0</td>\n",
       "      <td>0.000000</td>\n",
       "      <td>0.0</td>\n",
       "      <td>0.160728</td>\n",
       "      <td>0.466258</td>\n",
       "      <td>0.000000</td>\n",
       "      <td>0.0</td>\n",
       "      <td>0.000000</td>\n",
       "      <td>0.0</td>\n",
       "      <td>0.433369</td>\n",
       "      <td>0.265259</td>\n",
       "      <td>0.186238</td>\n",
       "      <td>0.806908</td>\n",
       "      <td>0.016500</td>\n",
       "      <td>0.196533</td>\n",
       "      <td>0.942393</td>\n",
       "      <td>0.275743</td>\n",
       "      <td>0.002524</td>\n",
       "      <td>0.000000</td>\n",
       "      <td>0.000000</td>\n",
       "      <td>0.000000</td>\n",
       "      <td>0.017721</td>\n",
       "      <td>0.319354</td>\n",
       "      <td>0.0</td>\n",
       "      <td>0.0</td>\n",
       "      <td>0.049394</td>\n",
       "    </tr>\n",
       "    <tr>\n",
       "      <th>4</th>\n",
       "      <td>0.0</td>\n",
       "      <td>0.023801</td>\n",
       "      <td>0.282039</td>\n",
       "      <td>0.0</td>\n",
       "      <td>0.072151</td>\n",
       "      <td>0.0</td>\n",
       "      <td>0.010401</td>\n",
       "      <td>0.0</td>\n",
       "      <td>0.000000</td>\n",
       "      <td>0.000000</td>\n",
       "      <td>0.002171</td>\n",
       "      <td>0.0</td>\n",
       "      <td>0.207446</td>\n",
       "      <td>0.0</td>\n",
       "      <td>0.000000</td>\n",
       "      <td>0.000000</td>\n",
       "      <td>0.000000</td>\n",
       "      <td>0.331743</td>\n",
       "      <td>0.086418</td>\n",
       "      <td>0.276114</td>\n",
       "      <td>0.297165</td>\n",
       "      <td>0.081246</td>\n",
       "      <td>0.389387</td>\n",
       "      <td>0.061861</td>\n",
       "      <td>0.000000</td>\n",
       "      <td>0.016658</td>\n",
       "      <td>0.000000</td>\n",
       "      <td>0.138343</td>\n",
       "      <td>0.0</td>\n",
       "      <td>0.0</td>\n",
       "      <td>0.154247</td>\n",
       "    </tr>\n",
       "  </tbody>\n",
       "</table>\n",
       "</div>"
      ],
      "text/plain": [
       "   feature_0  feature_1  feature_2  feature_3  feature_4  feature_5  feature_6  feature_7  \\\n",
       "0        0.0   0.000000   0.538709        0.0   0.251289        0.0   0.124047        0.0   \n",
       "1        0.0   0.000000   0.000000        0.0   0.118608        0.0   0.000000        0.0   \n",
       "2        0.0   0.000000   0.088366        0.0   0.633086        0.0   0.200393        0.0   \n",
       "3        0.0   0.000000   0.461268        0.0   0.831660        0.0   0.000000        0.0   \n",
       "4        0.0   0.023801   0.282039        0.0   0.072151        0.0   0.010401        0.0   \n",
       "\n",
       "   feature_8  feature_9  feature_10  feature_11  feature_12  feature_13  feature_14  feature_15  \\\n",
       "0   0.107791   0.350713    0.000000         0.0    0.000000         0.0    0.042033    0.036243   \n",
       "1   0.000000   0.192456    0.000000         0.0    0.218738         0.0    0.034220    0.000000   \n",
       "2   0.140711   0.488107    0.000000         0.0    0.203071         0.0    0.000000    0.015725   \n",
       "3   0.160728   0.466258    0.000000         0.0    0.000000         0.0    0.433369    0.265259   \n",
       "4   0.000000   0.000000    0.002171         0.0    0.207446         0.0    0.000000    0.000000   \n",
       "\n",
       "   feature_16  feature_17  feature_18  feature_19  feature_20  feature_21  feature_22  feature_23  \\\n",
       "0    0.000000    0.445146    0.000000    0.195702    0.408145    0.225453    0.209072    0.000000   \n",
       "1    0.000000    0.375053    0.000000    0.311769    0.297349    0.275564    0.225799    0.000000   \n",
       "2    0.092138    0.776566    0.000000    0.106319    1.029322    0.588490    0.290202    0.000000   \n",
       "3    0.186238    0.806908    0.016500    0.196533    0.942393    0.275743    0.002524    0.000000   \n",
       "4    0.000000    0.331743    0.086418    0.276114    0.297165    0.081246    0.389387    0.061861   \n",
       "\n",
       "   feature_24  feature_25  feature_26  feature_27  feature_28  feature_29         y  \n",
       "0    0.000000    0.000000    0.000000    0.210484         0.0         0.0  0.052590  \n",
       "1    0.265928    0.000000    0.000000    0.155583         0.0         0.0  0.059868  \n",
       "2    0.000000    0.000000    0.000000    0.751875         0.0         0.0  0.050449  \n",
       "3    0.000000    0.000000    0.017721    0.319354         0.0         0.0  0.049394  \n",
       "4    0.000000    0.016658    0.000000    0.138343         0.0         0.0  0.154247  "
      ]
     },
     "execution_count": 3,
     "metadata": {},
     "output_type": "execute_result"
    }
   ],
   "source": [
    "train = pd.read_csv('../../eda/outputs/autoenc_scaled_train2.csv')                \n",
    "m, n = train.shape                \n",
    "print('Data Frame: {} x {}'.format(m,n))                \n",
    "train.head()"
   ]
  },
  {
   "cell_type": "code",
   "execution_count": 4,
   "metadata": {
    "ExecuteTime": {
     "end_time": "2020-06-20T10:19:46.022916Z",
     "start_time": "2020-06-20T10:19:45.998894Z"
    },
    "scrolled": false
   },
   "outputs": [
    {
     "name": "stdout",
     "output_type": "stream",
     "text": [
      "Data Frame: 890 x 30\n"
     ]
    },
    {
     "data": {
      "text/html": [
       "<div>\n",
       "<style scoped>\n",
       "    .dataframe tbody tr th:only-of-type {\n",
       "        vertical-align: middle;\n",
       "    }\n",
       "\n",
       "    .dataframe tbody tr th {\n",
       "        vertical-align: top;\n",
       "    }\n",
       "\n",
       "    .dataframe thead th {\n",
       "        text-align: right;\n",
       "    }\n",
       "</style>\n",
       "<table border=\"1\" class=\"dataframe\">\n",
       "  <thead>\n",
       "    <tr style=\"text-align: right;\">\n",
       "      <th></th>\n",
       "      <th>feature_0</th>\n",
       "      <th>feature_1</th>\n",
       "      <th>feature_2</th>\n",
       "      <th>feature_3</th>\n",
       "      <th>feature_4</th>\n",
       "      <th>feature_5</th>\n",
       "      <th>feature_6</th>\n",
       "      <th>feature_7</th>\n",
       "      <th>feature_8</th>\n",
       "      <th>feature_9</th>\n",
       "      <th>feature_10</th>\n",
       "      <th>feature_11</th>\n",
       "      <th>feature_12</th>\n",
       "      <th>feature_13</th>\n",
       "      <th>feature_14</th>\n",
       "      <th>feature_15</th>\n",
       "      <th>feature_16</th>\n",
       "      <th>feature_17</th>\n",
       "      <th>feature_18</th>\n",
       "      <th>feature_19</th>\n",
       "      <th>feature_20</th>\n",
       "      <th>feature_21</th>\n",
       "      <th>feature_22</th>\n",
       "      <th>feature_23</th>\n",
       "      <th>feature_24</th>\n",
       "      <th>feature_25</th>\n",
       "      <th>feature_26</th>\n",
       "      <th>feature_27</th>\n",
       "      <th>feature_28</th>\n",
       "      <th>feature_29</th>\n",
       "    </tr>\n",
       "  </thead>\n",
       "  <tbody>\n",
       "    <tr>\n",
       "      <th>0</th>\n",
       "      <td>0.0</td>\n",
       "      <td>0.0</td>\n",
       "      <td>0.318560</td>\n",
       "      <td>0.0</td>\n",
       "      <td>0.188011</td>\n",
       "      <td>0.0</td>\n",
       "      <td>0.405000</td>\n",
       "      <td>0.0</td>\n",
       "      <td>0.000000</td>\n",
       "      <td>0.163342</td>\n",
       "      <td>0.0</td>\n",
       "      <td>0.0</td>\n",
       "      <td>0.087725</td>\n",
       "      <td>0.0</td>\n",
       "      <td>0.0</td>\n",
       "      <td>0.000000</td>\n",
       "      <td>0.000000</td>\n",
       "      <td>0.463545</td>\n",
       "      <td>0.0</td>\n",
       "      <td>0.368080</td>\n",
       "      <td>0.475245</td>\n",
       "      <td>0.554227</td>\n",
       "      <td>0.258717</td>\n",
       "      <td>0.0</td>\n",
       "      <td>0.00000</td>\n",
       "      <td>0.002722</td>\n",
       "      <td>0.0</td>\n",
       "      <td>0.504095</td>\n",
       "      <td>0.0</td>\n",
       "      <td>0.000000</td>\n",
       "    </tr>\n",
       "    <tr>\n",
       "      <th>1</th>\n",
       "      <td>0.0</td>\n",
       "      <td>0.0</td>\n",
       "      <td>0.245697</td>\n",
       "      <td>0.0</td>\n",
       "      <td>0.361297</td>\n",
       "      <td>0.0</td>\n",
       "      <td>0.069253</td>\n",
       "      <td>0.0</td>\n",
       "      <td>0.244520</td>\n",
       "      <td>0.500863</td>\n",
       "      <td>0.0</td>\n",
       "      <td>0.0</td>\n",
       "      <td>0.372572</td>\n",
       "      <td>0.0</td>\n",
       "      <td>0.0</td>\n",
       "      <td>0.195178</td>\n",
       "      <td>0.144767</td>\n",
       "      <td>0.830464</td>\n",
       "      <td>0.0</td>\n",
       "      <td>0.167974</td>\n",
       "      <td>0.845063</td>\n",
       "      <td>0.651853</td>\n",
       "      <td>0.196412</td>\n",
       "      <td>0.0</td>\n",
       "      <td>0.10656</td>\n",
       "      <td>0.000000</td>\n",
       "      <td>0.0</td>\n",
       "      <td>0.761610</td>\n",
       "      <td>0.0</td>\n",
       "      <td>0.000000</td>\n",
       "    </tr>\n",
       "    <tr>\n",
       "      <th>2</th>\n",
       "      <td>0.0</td>\n",
       "      <td>0.0</td>\n",
       "      <td>0.188349</td>\n",
       "      <td>0.0</td>\n",
       "      <td>0.279643</td>\n",
       "      <td>0.0</td>\n",
       "      <td>0.068818</td>\n",
       "      <td>0.0</td>\n",
       "      <td>0.129527</td>\n",
       "      <td>0.357816</td>\n",
       "      <td>0.0</td>\n",
       "      <td>0.0</td>\n",
       "      <td>0.232978</td>\n",
       "      <td>0.0</td>\n",
       "      <td>0.0</td>\n",
       "      <td>0.008460</td>\n",
       "      <td>0.008287</td>\n",
       "      <td>0.664085</td>\n",
       "      <td>0.0</td>\n",
       "      <td>0.142459</td>\n",
       "      <td>0.653925</td>\n",
       "      <td>0.517404</td>\n",
       "      <td>0.239762</td>\n",
       "      <td>0.0</td>\n",
       "      <td>0.00000</td>\n",
       "      <td>0.000000</td>\n",
       "      <td>0.0</td>\n",
       "      <td>0.592074</td>\n",
       "      <td>0.0</td>\n",
       "      <td>0.000000</td>\n",
       "    </tr>\n",
       "    <tr>\n",
       "      <th>3</th>\n",
       "      <td>0.0</td>\n",
       "      <td>0.0</td>\n",
       "      <td>0.303103</td>\n",
       "      <td>0.0</td>\n",
       "      <td>0.023507</td>\n",
       "      <td>0.0</td>\n",
       "      <td>0.254767</td>\n",
       "      <td>0.0</td>\n",
       "      <td>0.079920</td>\n",
       "      <td>0.193849</td>\n",
       "      <td>0.0</td>\n",
       "      <td>0.0</td>\n",
       "      <td>0.000000</td>\n",
       "      <td>0.0</td>\n",
       "      <td>0.0</td>\n",
       "      <td>0.000000</td>\n",
       "      <td>0.000000</td>\n",
       "      <td>0.356801</td>\n",
       "      <td>0.0</td>\n",
       "      <td>0.255245</td>\n",
       "      <td>0.132679</td>\n",
       "      <td>0.473478</td>\n",
       "      <td>0.137128</td>\n",
       "      <td>0.0</td>\n",
       "      <td>0.00000</td>\n",
       "      <td>0.000000</td>\n",
       "      <td>0.0</td>\n",
       "      <td>0.371206</td>\n",
       "      <td>0.0</td>\n",
       "      <td>0.004289</td>\n",
       "    </tr>\n",
       "    <tr>\n",
       "      <th>4</th>\n",
       "      <td>0.0</td>\n",
       "      <td>0.0</td>\n",
       "      <td>0.416441</td>\n",
       "      <td>0.0</td>\n",
       "      <td>0.102068</td>\n",
       "      <td>0.0</td>\n",
       "      <td>0.537620</td>\n",
       "      <td>0.0</td>\n",
       "      <td>0.085943</td>\n",
       "      <td>0.831950</td>\n",
       "      <td>0.0</td>\n",
       "      <td>0.0</td>\n",
       "      <td>0.919983</td>\n",
       "      <td>0.0</td>\n",
       "      <td>0.0</td>\n",
       "      <td>0.000000</td>\n",
       "      <td>0.197547</td>\n",
       "      <td>1.200297</td>\n",
       "      <td>0.0</td>\n",
       "      <td>0.605886</td>\n",
       "      <td>1.040289</td>\n",
       "      <td>1.680025</td>\n",
       "      <td>0.090595</td>\n",
       "      <td>0.0</td>\n",
       "      <td>0.00000</td>\n",
       "      <td>0.000000</td>\n",
       "      <td>0.0</td>\n",
       "      <td>1.071024</td>\n",
       "      <td>0.0</td>\n",
       "      <td>0.216507</td>\n",
       "    </tr>\n",
       "  </tbody>\n",
       "</table>\n",
       "</div>"
      ],
      "text/plain": [
       "   feature_0  feature_1  feature_2  feature_3  feature_4  feature_5  feature_6  feature_7  \\\n",
       "0        0.0        0.0   0.318560        0.0   0.188011        0.0   0.405000        0.0   \n",
       "1        0.0        0.0   0.245697        0.0   0.361297        0.0   0.069253        0.0   \n",
       "2        0.0        0.0   0.188349        0.0   0.279643        0.0   0.068818        0.0   \n",
       "3        0.0        0.0   0.303103        0.0   0.023507        0.0   0.254767        0.0   \n",
       "4        0.0        0.0   0.416441        0.0   0.102068        0.0   0.537620        0.0   \n",
       "\n",
       "   feature_8  feature_9  feature_10  feature_11  feature_12  feature_13  feature_14  feature_15  \\\n",
       "0   0.000000   0.163342         0.0         0.0    0.087725         0.0         0.0    0.000000   \n",
       "1   0.244520   0.500863         0.0         0.0    0.372572         0.0         0.0    0.195178   \n",
       "2   0.129527   0.357816         0.0         0.0    0.232978         0.0         0.0    0.008460   \n",
       "3   0.079920   0.193849         0.0         0.0    0.000000         0.0         0.0    0.000000   \n",
       "4   0.085943   0.831950         0.0         0.0    0.919983         0.0         0.0    0.000000   \n",
       "\n",
       "   feature_16  feature_17  feature_18  feature_19  feature_20  feature_21  feature_22  feature_23  \\\n",
       "0    0.000000    0.463545         0.0    0.368080    0.475245    0.554227    0.258717         0.0   \n",
       "1    0.144767    0.830464         0.0    0.167974    0.845063    0.651853    0.196412         0.0   \n",
       "2    0.008287    0.664085         0.0    0.142459    0.653925    0.517404    0.239762         0.0   \n",
       "3    0.000000    0.356801         0.0    0.255245    0.132679    0.473478    0.137128         0.0   \n",
       "4    0.197547    1.200297         0.0    0.605886    1.040289    1.680025    0.090595         0.0   \n",
       "\n",
       "   feature_24  feature_25  feature_26  feature_27  feature_28  feature_29  \n",
       "0     0.00000    0.002722         0.0    0.504095         0.0    0.000000  \n",
       "1     0.10656    0.000000         0.0    0.761610         0.0    0.000000  \n",
       "2     0.00000    0.000000         0.0    0.592074         0.0    0.000000  \n",
       "3     0.00000    0.000000         0.0    0.371206         0.0    0.004289  \n",
       "4     0.00000    0.000000         0.0    1.071024         0.0    0.216507  "
      ]
     },
     "execution_count": 4,
     "metadata": {},
     "output_type": "execute_result"
    }
   ],
   "source": [
    "test = pd.read_csv('../../eda/outputs/autoenc_scaled_test2.csv')\n",
    "m, n = test.shape                \n",
    "print('Data Frame: {} x {}'.format(m,n))                \n",
    "test.head()"
   ]
  },
  {
   "cell_type": "code",
   "execution_count": 5,
   "metadata": {
    "ExecuteTime": {
     "end_time": "2020-06-20T10:19:46.057948Z",
     "start_time": "2020-06-20T10:19:46.023917Z"
    }
   },
   "outputs": [],
   "source": [
    "from catboost import CatBoostRegressor\n",
    "from sklearn.model_selection import train_test_split\n",
    "from sklearn.metrics import mean_squared_error"
   ]
  },
  {
   "cell_type": "code",
   "execution_count": 6,
   "metadata": {
    "ExecuteTime": {
     "end_time": "2020-06-20T10:19:46.063953Z",
     "start_time": "2020-06-20T10:19:46.058949Z"
    }
   },
   "outputs": [],
   "source": [
    "def write_predictions():\n",
    "    from datetime.datetime import now\n",
    "    os.makedirs('../outputs', exist_ok=True)\n",
    "    ts_now = now().strftime('%Y%m%d_%H%M%S')\n",
    "    pred_output.to_csv(f'../outputs/y_pred_cbr_autoenc_{ts_now}.csv', index=False)\n",
    "\n",
    "\n",
    "def plot_history(history, metric_key='l2'):\n",
    "    for i, key in enumerate(history.evals_result_):\n",
    "        if i == 0:\n",
    "            res = pd.DataFrame(history.evals_result_[key])\n",
    "            res['index'] = np.arange(len(history.evals_result_[key][metric_key]))\n",
    "            res['type'] = key\n",
    "        temp = pd.DataFrame(history.evals_result_[key])\n",
    "        temp['type'] = key\n",
    "        temp['index'] = np.arange(len(history.evals_result_[key][metric_key]))\n",
    "        \n",
    "        res = res.append(temp, ignore_index=True)\n",
    "        del temp; gc.collect()\n",
    "    \n",
    "    fig = px.scatter(data_frame=res, x='index', y=metric_key, color='type',\n",
    "                 title='Learning curve')\n",
    "    fig.show()"
   ]
  },
  {
   "cell_type": "code",
   "execution_count": 7,
   "metadata": {
    "ExecuteTime": {
     "end_time": "2020-06-20T10:19:46.068958Z",
     "start_time": "2020-06-20T10:19:46.064954Z"
    }
   },
   "outputs": [],
   "source": [
    "# train.rename(columns={\n",
    "#     \"Unemployment, youth (% ages 15–24)\": \"Unemployment..youth....ages.15a..24.\",\n",
    "#     \"Population, ages 15–64 (millions)\": \"Population..ages.15a..64..millions.\"\n",
    "# }, inplace=True)"
   ]
  },
  {
   "cell_type": "code",
   "execution_count": 8,
   "metadata": {
    "ExecuteTime": {
     "end_time": "2020-06-20T10:19:46.073962Z",
     "start_time": "2020-06-20T10:19:46.069959Z"
    }
   },
   "outputs": [],
   "source": [
    "try:\n",
    "    drop_cols = ['galactic year']\n",
    "    train.drop(drop_cols, axis=1, inplace=True)\n",
    "    test.drop(drop_cols, axis=1, inplace=True)\n",
    "except:\n",
    "    pass"
   ]
  },
  {
   "cell_type": "code",
   "execution_count": 9,
   "metadata": {
    "ExecuteTime": {
     "end_time": "2020-06-20T10:19:46.078967Z",
     "start_time": "2020-06-20T10:19:46.074963Z"
    }
   },
   "outputs": [],
   "source": [
    "# train = pd.get_dummies(train)"
   ]
  },
  {
   "cell_type": "code",
   "execution_count": 10,
   "metadata": {
    "ExecuteTime": {
     "end_time": "2020-06-20T10:19:46.083971Z",
     "start_time": "2020-06-20T10:19:46.079968Z"
    }
   },
   "outputs": [],
   "source": [
    "y = 'y'\n",
    "X = train.columns.drop(y)"
   ]
  },
  {
   "cell_type": "code",
   "execution_count": 11,
   "metadata": {
    "ExecuteTime": {
     "end_time": "2020-06-20T10:19:46.090978Z",
     "start_time": "2020-06-20T10:19:46.084972Z"
    }
   },
   "outputs": [
    {
     "data": {
      "text/plain": [
       "((2898, 30), (967, 30), (2898,), (967,))"
      ]
     },
     "execution_count": 11,
     "metadata": {},
     "output_type": "execute_result"
    }
   ],
   "source": [
    "X_train, X_val, y_train, y_val = train_test_split(train[X].to_numpy(), train[y].to_numpy(),\n",
    "                                                  test_size=0.25, random_state=42)\n",
    "X_train.shape, X_val.shape, y_train.shape, y_val.shape"
   ]
  },
  {
   "cell_type": "code",
   "execution_count": 12,
   "metadata": {
    "ExecuteTime": {
     "end_time": "2020-06-20T10:19:46.094981Z",
     "start_time": "2020-06-20T10:19:46.091979Z"
    }
   },
   "outputs": [],
   "source": [
    "# No need for train data in eval_set, it automatically caches training set.\n",
    "eval_set = [(X_val, y_val)]"
   ]
  },
  {
   "cell_type": "code",
   "execution_count": 32,
   "metadata": {
    "ExecuteTime": {
     "end_time": "2020-06-20T10:21:32.024035Z",
     "start_time": "2020-06-20T10:21:30.009575Z"
    },
    "scrolled": false
   },
   "outputs": [
    {
     "name": "stdout",
     "output_type": "stream",
     "text": [
      "RMSE Train:  0.02223267\n",
      "RMSE Valid:  0.03803386\tRatio (val/train):  1.71072\n"
     ]
    },
    {
     "data": {
      "application/vnd.plotly.v1+json": {
       "config": {
        "plotlyServerURL": "https://plot.ly"
       },
       "data": [
        {
         "hovertemplate": "type=learn<br>index=%{x}<br>RMSE=%{y}<extra></extra>",
         "legendgroup": "learn",
         "marker": {
          "color": "#636efa",
          "symbol": "circle"
         },
         "mode": "markers",
         "name": "learn",
         "showlegend": true,
         "type": "scatter",
         "x": [
          0,
          1,
          2,
          3,
          4,
          5,
          6,
          7,
          8,
          9,
          10,
          11,
          12,
          13,
          14,
          15,
          16,
          17,
          18,
          19,
          20,
          21,
          22,
          23,
          24,
          25,
          26,
          27,
          28,
          29,
          30,
          31,
          32,
          33,
          34,
          35,
          36,
          37,
          38,
          39,
          40,
          41,
          42,
          43,
          44,
          45,
          46,
          47,
          48,
          49,
          50,
          51,
          52,
          53,
          54,
          55,
          56,
          57,
          58,
          59,
          60,
          61,
          62,
          63,
          64,
          65,
          66,
          67,
          68,
          69,
          70,
          71,
          72,
          73,
          74,
          75,
          76,
          77,
          78,
          79,
          80,
          81,
          82,
          83,
          84,
          85,
          86,
          87,
          88,
          89,
          90,
          91,
          92,
          93,
          94,
          95,
          96,
          97,
          98,
          99,
          100,
          101,
          102,
          103,
          104,
          105,
          106,
          107,
          108,
          109,
          110,
          111,
          112,
          113,
          114,
          115,
          116,
          117,
          118,
          119,
          120,
          121,
          122,
          123,
          124,
          125,
          126,
          127,
          128,
          129,
          130,
          131,
          132,
          133,
          134,
          135,
          136,
          137,
          138,
          139,
          140,
          141,
          142,
          143,
          144,
          145,
          146,
          147,
          148,
          149,
          150,
          151,
          152,
          153,
          154,
          155,
          156,
          157,
          158,
          159,
          160,
          161,
          162,
          163,
          164,
          165,
          166,
          167,
          168,
          169,
          170,
          171,
          172,
          173,
          174,
          175,
          176,
          177,
          178,
          179,
          180,
          181,
          182,
          183,
          184,
          185,
          186,
          187,
          188,
          189,
          190,
          191,
          192,
          193,
          194,
          195,
          196,
          197,
          198,
          199,
          200,
          201,
          202,
          203,
          204,
          205,
          206,
          207,
          208,
          209,
          210,
          211,
          212,
          213,
          214,
          215,
          216,
          217,
          218,
          219,
          220,
          221,
          222,
          223,
          224,
          225,
          226,
          227,
          228,
          229,
          230,
          231,
          232,
          233,
          234,
          235,
          236,
          237,
          238,
          239,
          240,
          241,
          242,
          243,
          244,
          245,
          246,
          247,
          248,
          249,
          250,
          251,
          252,
          253,
          254,
          255,
          256,
          257,
          258,
          259,
          260,
          261,
          262,
          263,
          264,
          265,
          266,
          267,
          268,
          269,
          270,
          271,
          272,
          273,
          274,
          275,
          276,
          277,
          278,
          279,
          280,
          281,
          282,
          283,
          284,
          285,
          286,
          287,
          288,
          289,
          290,
          291,
          292,
          293,
          294,
          295,
          296,
          297,
          298,
          299,
          0,
          1,
          2,
          3,
          4,
          5,
          6,
          7,
          8,
          9,
          10,
          11,
          12,
          13,
          14,
          15,
          16,
          17,
          18,
          19,
          20,
          21,
          22,
          23,
          24,
          25,
          26,
          27,
          28,
          29,
          30,
          31,
          32,
          33,
          34,
          35,
          36,
          37,
          38,
          39,
          40,
          41,
          42,
          43,
          44,
          45,
          46,
          47,
          48,
          49,
          50,
          51,
          52,
          53,
          54,
          55,
          56,
          57,
          58,
          59,
          60,
          61,
          62,
          63,
          64,
          65,
          66,
          67,
          68,
          69,
          70,
          71,
          72,
          73,
          74,
          75,
          76,
          77,
          78,
          79,
          80,
          81,
          82,
          83,
          84,
          85,
          86,
          87,
          88,
          89,
          90,
          91,
          92,
          93,
          94,
          95,
          96,
          97,
          98,
          99,
          100,
          101,
          102,
          103,
          104,
          105,
          106,
          107,
          108,
          109,
          110,
          111,
          112,
          113,
          114,
          115,
          116,
          117,
          118,
          119,
          120,
          121,
          122,
          123,
          124,
          125,
          126,
          127,
          128,
          129,
          130,
          131,
          132,
          133,
          134,
          135,
          136,
          137,
          138,
          139,
          140,
          141,
          142,
          143,
          144,
          145,
          146,
          147,
          148,
          149,
          150,
          151,
          152,
          153,
          154,
          155,
          156,
          157,
          158,
          159,
          160,
          161,
          162,
          163,
          164,
          165,
          166,
          167,
          168,
          169,
          170,
          171,
          172,
          173,
          174,
          175,
          176,
          177,
          178,
          179,
          180,
          181,
          182,
          183,
          184,
          185,
          186,
          187,
          188,
          189,
          190,
          191,
          192,
          193,
          194,
          195,
          196,
          197,
          198,
          199,
          200,
          201,
          202,
          203,
          204,
          205,
          206,
          207,
          208,
          209,
          210,
          211,
          212,
          213,
          214,
          215,
          216,
          217,
          218,
          219,
          220,
          221,
          222,
          223,
          224,
          225,
          226,
          227,
          228,
          229,
          230,
          231,
          232,
          233,
          234,
          235,
          236,
          237,
          238,
          239,
          240,
          241,
          242,
          243,
          244,
          245,
          246,
          247,
          248,
          249,
          250,
          251,
          252,
          253,
          254,
          255,
          256,
          257,
          258,
          259,
          260,
          261,
          262,
          263,
          264,
          265,
          266,
          267,
          268,
          269,
          270,
          271,
          272,
          273,
          274,
          275,
          276,
          277,
          278,
          279,
          280,
          281,
          282,
          283,
          284,
          285,
          286,
          287,
          288,
          289,
          290,
          291,
          292,
          293,
          294,
          295,
          296,
          297,
          298,
          299
         ],
         "xaxis": "x",
         "y": [
          0.06054765345164765,
          0.05785256361172686,
          0.055201094389827926,
          0.05289974953965932,
          0.050873466404452554,
          0.04936898093878957,
          0.04800149475204249,
          0.04635858636157935,
          0.04493971897488601,
          0.04360824974434916,
          0.042514302751262015,
          0.04142946333387852,
          0.04034766412828596,
          0.0394037174702552,
          0.03848348383624321,
          0.03773091692326302,
          0.037131019065512916,
          0.036458343172614885,
          0.03587934050091956,
          0.035262746251898534,
          0.034839114906261834,
          0.03442379749520238,
          0.033959948020287185,
          0.03350209415470847,
          0.03324025935343375,
          0.032800019349684705,
          0.0324580060219538,
          0.0321043136053887,
          0.03180158176795964,
          0.03147978797856265,
          0.03125586857739608,
          0.031004614358631225,
          0.030742761921546555,
          0.03046497678173234,
          0.030204594536570952,
          0.029995171967793163,
          0.029783513763669646,
          0.029616803807547158,
          0.029544368568208926,
          0.029396327836864782,
          0.029217305647309396,
          0.029054229627154704,
          0.028938349672597598,
          0.0287618570622197,
          0.028589402216269353,
          0.028398572560392767,
          0.02831471388379628,
          0.028237791090528163,
          0.028086069830564296,
          0.027990163540450086,
          0.02789225003849691,
          0.027787216856822665,
          0.027639293990153156,
          0.027514716105833486,
          0.027426719773106182,
          0.02728449939376651,
          0.027117595315950357,
          0.026986732591262587,
          0.026802513767858922,
          0.026732651237165225,
          0.02668347451811334,
          0.026621160781691657,
          0.026545882280754808,
          0.02640165373498098,
          0.026334780324999894,
          0.02626860330373694,
          0.026172692660399243,
          0.0261022402407535,
          0.02603812969083361,
          0.025901522797624546,
          0.02576654291901419,
          0.025646932975380395,
          0.025589000303660726,
          0.025410496389402508,
          0.02534290241940284,
          0.025202310796504916,
          0.02502554329391922,
          0.024841443593827537,
          0.024825713295852245,
          0.024735131872734732,
          0.024591934981857303,
          0.02450113279075049,
          0.024327673048933962,
          0.024153531251245752,
          0.024115283271585585,
          0.02395334338836618,
          0.023836100335036428,
          0.023814345947203115,
          0.02369632560461676,
          0.02365256377072859,
          0.023518376336759853,
          0.02348091609909603,
          0.023447571210777618,
          0.023373988763654863,
          0.02320867696948171,
          0.02301274056258845,
          0.022824952207070204,
          0.0227803113430272,
          0.02276360618548448,
          0.022653363304514833,
          0.022443510477416898,
          0.022387598803199144,
          0.022232666248549547,
          0.02216973861303147,
          0.022089788554240663,
          0.022062954156117923,
          0.02195352556378859,
          0.021850613938398166,
          0.02171521926796563,
          0.021636249990154188,
          0.02145388422353845,
          0.021401753423123466,
          0.02135500961930223,
          0.021262467902537243,
          0.021218483539287875,
          0.021044600619755226,
          0.02102052766537333,
          0.021005307340954245,
          0.020947374606979072,
          0.02091508194056187,
          0.02077623910143757,
          0.0207368450820628,
          0.02066841428328262,
          0.020592323770723998,
          0.020480392537703274,
          0.02043296097585158,
          0.02025769948966516,
          0.020180002976049473,
          0.02012777488841776,
          0.02005815194197647,
          0.019978023659890955,
          0.019881228835508843,
          0.019717392289338047,
          0.01951041220017569,
          0.019357439724553453,
          0.019323779796346068,
          0.01920575355226533,
          0.019146754453256004,
          0.01912833782238242,
          0.01907382298558627,
          0.01891582088031285,
          0.018862257929625273,
          0.01873540771677182,
          0.018714677783724452,
          0.018650190782882166,
          0.018530413530304574,
          0.018515727290679785,
          0.01850166406982869,
          0.01849091567532522,
          0.018322385961857833,
          0.01820354645856476,
          0.018158884731694285,
          0.017991628535147384,
          0.017985128807492343,
          0.017880470390923275,
          0.017789791400767627,
          0.017607752429435,
          0.01757728536663921,
          0.017546215677561466,
          0.017428935114025542,
          0.017400145244567764,
          0.017333128545157315,
          0.017310887442782724,
          0.017291462043824094,
          0.017252229919423115,
          0.017155727317401923,
          0.017097551978528948,
          0.01706721171319075,
          0.016953510758562197,
          0.01690273001575302,
          0.01681676879932304,
          0.01679326336558657,
          0.016734441005596692,
          0.016729301539447284,
          0.01664590648080147,
          0.016605058715479883,
          0.01652853530695071,
          0.016476649129149614,
          0.016386535376352096,
          0.01623077899345304,
          0.016185993500365023,
          0.01616693216192696,
          0.0160848656982732,
          0.01601478539119973,
          0.01591946128194476,
          0.015769474556881997,
          0.01570616618347946,
          0.01564804347725215,
          0.015534179492763563,
          0.015385890844797901,
          0.015277511270629015,
          0.015199265921568459,
          0.015138489089356253,
          0.015000926731241737,
          0.01496586973132924,
          0.014860637791130336,
          0.014815771259238658,
          0.01479617784505708,
          0.01473214161475279,
          0.014691420711755634,
          0.014640922567222677,
          0.014601722184171124,
          0.014540115158348126,
          0.01451637617005015,
          0.014453732599715313,
          0.014390539303353907,
          0.014320499751911683,
          0.014281348524076186,
          0.014249954512524598,
          0.014210188876800397,
          0.014173232643933505,
          0.014062764687780966,
          0.014045192788369238,
          0.013998374103029482,
          0.013971180661349171,
          0.013860593515268693,
          0.013801884387380434,
          0.013725405426401707,
          0.013710589103164231,
          0.013641975377235218,
          0.013534005809009006,
          0.013446572983331392,
          0.013419977071187444,
          0.013364718772814857,
          0.013330520811019821,
          0.013270912376310597,
          0.013202240684404606,
          0.013176145799401717,
          0.013127879659328368,
          0.013109584772615911,
          0.013059545273549753,
          0.012963354005823217,
          0.012890645055700848,
          0.012839033494526947,
          0.012794116547716698,
          0.012746583962191017,
          0.012717849097002328,
          0.012627543711658981,
          0.012608479829572012,
          0.012589655260320493,
          0.012571846887970441,
          0.01253136883417404,
          0.0124816822887533,
          0.012439384006100722,
          0.012403005892633613,
          0.012323994164082962,
          0.01225138594551363,
          0.012239326743409842,
          0.012225384118144507,
          0.012145612590023263,
          0.01211122003042,
          0.012034113477427638,
          0.012022453556237545,
          0.011969267871608336,
          0.011924989245323205,
          0.011827234831948176,
          0.011773765600442066,
          0.01173817343529206,
          0.011670918656519737,
          0.011581736710054429,
          0.011519127920294856,
          0.011454211234139929,
          0.011417276264696465,
          0.011359900689467897,
          0.011273987843673052,
          0.011252071234862358,
          0.011200022366216091,
          0.01117884882186954,
          0.01111114830513374,
          0.011075614648438436,
          0.011018534098164343,
          0.010958329819475818,
          0.010944092986859593,
          0.010894139393325498,
          0.01088555038983113,
          0.010825879358816331,
          0.010820595464354554,
          0.010812282203627975,
          0.010791494025670183,
          0.010759971205754315,
          0.010720370951225145,
          0.010701371309533022,
          0.010643352895229646,
          0.010604701209936921,
          0.010565725531229959,
          0.01054938919522207,
          0.01053381908500796,
          0.01047959737389296,
          0.010469401313547054,
          0.0104284570144933,
          0.010417735313328874,
          0.010368727978792694,
          0.010324747328629428,
          0.01026316822012849,
          0.010241413865969056,
          0.010185886803516316,
          0.010167490766044758,
          0.010122329311058007,
          0.010071973342533326,
          0.010062720379149874,
          0.06054765345164765,
          0.05785256361172686,
          0.055201094389827926,
          0.05289974953965932,
          0.050873466404452554,
          0.04936898093878957,
          0.04800149475204249,
          0.04635858636157935,
          0.04493971897488601,
          0.04360824974434916,
          0.042514302751262015,
          0.04142946333387852,
          0.04034766412828596,
          0.0394037174702552,
          0.03848348383624321,
          0.03773091692326302,
          0.037131019065512916,
          0.036458343172614885,
          0.03587934050091956,
          0.035262746251898534,
          0.034839114906261834,
          0.03442379749520238,
          0.033959948020287185,
          0.03350209415470847,
          0.03324025935343375,
          0.032800019349684705,
          0.0324580060219538,
          0.0321043136053887,
          0.03180158176795964,
          0.03147978797856265,
          0.03125586857739608,
          0.031004614358631225,
          0.030742761921546555,
          0.03046497678173234,
          0.030204594536570952,
          0.029995171967793163,
          0.029783513763669646,
          0.029616803807547158,
          0.029544368568208926,
          0.029396327836864782,
          0.029217305647309396,
          0.029054229627154704,
          0.028938349672597598,
          0.0287618570622197,
          0.028589402216269353,
          0.028398572560392767,
          0.02831471388379628,
          0.028237791090528163,
          0.028086069830564296,
          0.027990163540450086,
          0.02789225003849691,
          0.027787216856822665,
          0.027639293990153156,
          0.027514716105833486,
          0.027426719773106182,
          0.02728449939376651,
          0.027117595315950357,
          0.026986732591262587,
          0.026802513767858922,
          0.026732651237165225,
          0.02668347451811334,
          0.026621160781691657,
          0.026545882280754808,
          0.02640165373498098,
          0.026334780324999894,
          0.02626860330373694,
          0.026172692660399243,
          0.0261022402407535,
          0.02603812969083361,
          0.025901522797624546,
          0.02576654291901419,
          0.025646932975380395,
          0.025589000303660726,
          0.025410496389402508,
          0.02534290241940284,
          0.025202310796504916,
          0.02502554329391922,
          0.024841443593827537,
          0.024825713295852245,
          0.024735131872734732,
          0.024591934981857303,
          0.02450113279075049,
          0.024327673048933962,
          0.024153531251245752,
          0.024115283271585585,
          0.02395334338836618,
          0.023836100335036428,
          0.023814345947203115,
          0.02369632560461676,
          0.02365256377072859,
          0.023518376336759853,
          0.02348091609909603,
          0.023447571210777618,
          0.023373988763654863,
          0.02320867696948171,
          0.02301274056258845,
          0.022824952207070204,
          0.0227803113430272,
          0.02276360618548448,
          0.022653363304514833,
          0.022443510477416898,
          0.022387598803199144,
          0.022232666248549547,
          0.02216973861303147,
          0.022089788554240663,
          0.022062954156117923,
          0.02195352556378859,
          0.021850613938398166,
          0.02171521926796563,
          0.021636249990154188,
          0.02145388422353845,
          0.021401753423123466,
          0.02135500961930223,
          0.021262467902537243,
          0.021218483539287875,
          0.021044600619755226,
          0.02102052766537333,
          0.021005307340954245,
          0.020947374606979072,
          0.02091508194056187,
          0.02077623910143757,
          0.0207368450820628,
          0.02066841428328262,
          0.020592323770723998,
          0.020480392537703274,
          0.02043296097585158,
          0.02025769948966516,
          0.020180002976049473,
          0.02012777488841776,
          0.02005815194197647,
          0.019978023659890955,
          0.019881228835508843,
          0.019717392289338047,
          0.01951041220017569,
          0.019357439724553453,
          0.019323779796346068,
          0.01920575355226533,
          0.019146754453256004,
          0.01912833782238242,
          0.01907382298558627,
          0.01891582088031285,
          0.018862257929625273,
          0.01873540771677182,
          0.018714677783724452,
          0.018650190782882166,
          0.018530413530304574,
          0.018515727290679785,
          0.01850166406982869,
          0.01849091567532522,
          0.018322385961857833,
          0.01820354645856476,
          0.018158884731694285,
          0.017991628535147384,
          0.017985128807492343,
          0.017880470390923275,
          0.017789791400767627,
          0.017607752429435,
          0.01757728536663921,
          0.017546215677561466,
          0.017428935114025542,
          0.017400145244567764,
          0.017333128545157315,
          0.017310887442782724,
          0.017291462043824094,
          0.017252229919423115,
          0.017155727317401923,
          0.017097551978528948,
          0.01706721171319075,
          0.016953510758562197,
          0.01690273001575302,
          0.01681676879932304,
          0.01679326336558657,
          0.016734441005596692,
          0.016729301539447284,
          0.01664590648080147,
          0.016605058715479883,
          0.01652853530695071,
          0.016476649129149614,
          0.016386535376352096,
          0.01623077899345304,
          0.016185993500365023,
          0.01616693216192696,
          0.0160848656982732,
          0.01601478539119973,
          0.01591946128194476,
          0.015769474556881997,
          0.01570616618347946,
          0.01564804347725215,
          0.015534179492763563,
          0.015385890844797901,
          0.015277511270629015,
          0.015199265921568459,
          0.015138489089356253,
          0.015000926731241737,
          0.01496586973132924,
          0.014860637791130336,
          0.014815771259238658,
          0.01479617784505708,
          0.01473214161475279,
          0.014691420711755634,
          0.014640922567222677,
          0.014601722184171124,
          0.014540115158348126,
          0.01451637617005015,
          0.014453732599715313,
          0.014390539303353907,
          0.014320499751911683,
          0.014281348524076186,
          0.014249954512524598,
          0.014210188876800397,
          0.014173232643933505,
          0.014062764687780966,
          0.014045192788369238,
          0.013998374103029482,
          0.013971180661349171,
          0.013860593515268693,
          0.013801884387380434,
          0.013725405426401707,
          0.013710589103164231,
          0.013641975377235218,
          0.013534005809009006,
          0.013446572983331392,
          0.013419977071187444,
          0.013364718772814857,
          0.013330520811019821,
          0.013270912376310597,
          0.013202240684404606,
          0.013176145799401717,
          0.013127879659328368,
          0.013109584772615911,
          0.013059545273549753,
          0.012963354005823217,
          0.012890645055700848,
          0.012839033494526947,
          0.012794116547716698,
          0.012746583962191017,
          0.012717849097002328,
          0.012627543711658981,
          0.012608479829572012,
          0.012589655260320493,
          0.012571846887970441,
          0.01253136883417404,
          0.0124816822887533,
          0.012439384006100722,
          0.012403005892633613,
          0.012323994164082962,
          0.01225138594551363,
          0.012239326743409842,
          0.012225384118144507,
          0.012145612590023263,
          0.01211122003042,
          0.012034113477427638,
          0.012022453556237545,
          0.011969267871608336,
          0.011924989245323205,
          0.011827234831948176,
          0.011773765600442066,
          0.01173817343529206,
          0.011670918656519737,
          0.011581736710054429,
          0.011519127920294856,
          0.011454211234139929,
          0.011417276264696465,
          0.011359900689467897,
          0.011273987843673052,
          0.011252071234862358,
          0.011200022366216091,
          0.01117884882186954,
          0.01111114830513374,
          0.011075614648438436,
          0.011018534098164343,
          0.010958329819475818,
          0.010944092986859593,
          0.010894139393325498,
          0.01088555038983113,
          0.010825879358816331,
          0.010820595464354554,
          0.010812282203627975,
          0.010791494025670183,
          0.010759971205754315,
          0.010720370951225145,
          0.010701371309533022,
          0.010643352895229646,
          0.010604701209936921,
          0.010565725531229959,
          0.01054938919522207,
          0.01053381908500796,
          0.01047959737389296,
          0.010469401313547054,
          0.0104284570144933,
          0.010417735313328874,
          0.010368727978792694,
          0.010324747328629428,
          0.01026316822012849,
          0.010241413865969056,
          0.010185886803516316,
          0.010167490766044758,
          0.010122329311058007,
          0.010071973342533326,
          0.010062720379149874
         ],
         "yaxis": "y"
        },
        {
         "hovertemplate": "type=validation<br>index=%{x}<br>RMSE=%{y}<extra></extra>",
         "legendgroup": "validation",
         "marker": {
          "color": "#EF553B",
          "symbol": "circle"
         },
         "mode": "markers",
         "name": "validation",
         "showlegend": true,
         "type": "scatter",
         "x": [
          0,
          1,
          2,
          3,
          4,
          5,
          6,
          7,
          8,
          9,
          10,
          11,
          12,
          13,
          14,
          15,
          16,
          17,
          18,
          19,
          20,
          21,
          22,
          23,
          24,
          25,
          26,
          27,
          28,
          29,
          30,
          31,
          32,
          33,
          34,
          35,
          36,
          37,
          38,
          39,
          40,
          41,
          42,
          43,
          44,
          45,
          46,
          47,
          48,
          49,
          50,
          51,
          52,
          53,
          54,
          55,
          56,
          57,
          58,
          59,
          60,
          61,
          62,
          63,
          64,
          65,
          66,
          67,
          68,
          69,
          70,
          71,
          72,
          73,
          74,
          75,
          76,
          77,
          78,
          79,
          80,
          81,
          82,
          83,
          84,
          85,
          86,
          87,
          88,
          89,
          90,
          91,
          92,
          93,
          94,
          95,
          96,
          97,
          98,
          99,
          100,
          101,
          102,
          103,
          104,
          105,
          106,
          107,
          108,
          109,
          110,
          111,
          112,
          113,
          114,
          115,
          116,
          117,
          118,
          119,
          120,
          121,
          122,
          123,
          124,
          125,
          126,
          127,
          128,
          129,
          130,
          131,
          132,
          133,
          134,
          135,
          136,
          137,
          138,
          139,
          140,
          141,
          142,
          143,
          144,
          145,
          146,
          147,
          148,
          149,
          150,
          151,
          152,
          153,
          154,
          155,
          156,
          157,
          158,
          159,
          160,
          161,
          162,
          163,
          164,
          165,
          166,
          167,
          168,
          169,
          170,
          171,
          172,
          173,
          174,
          175,
          176,
          177,
          178,
          179,
          180,
          181,
          182,
          183,
          184,
          185,
          186,
          187,
          188,
          189,
          190,
          191,
          192,
          193,
          194,
          195,
          196,
          197,
          198,
          199,
          200,
          201,
          202,
          203,
          204,
          205,
          206,
          207,
          208,
          209,
          210,
          211,
          212,
          213,
          214,
          215,
          216,
          217,
          218,
          219,
          220,
          221,
          222,
          223,
          224,
          225,
          226,
          227,
          228,
          229,
          230,
          231,
          232,
          233,
          234,
          235,
          236,
          237,
          238,
          239,
          240,
          241,
          242,
          243,
          244,
          245,
          246,
          247,
          248,
          249,
          250,
          251,
          252,
          253,
          254,
          255,
          256,
          257,
          258,
          259,
          260,
          261,
          262,
          263,
          264,
          265,
          266,
          267,
          268,
          269,
          270,
          271,
          272,
          273,
          274,
          275,
          276,
          277,
          278,
          279,
          280,
          281,
          282,
          283,
          284,
          285,
          286,
          287,
          288,
          289,
          290,
          291,
          292,
          293,
          294,
          295,
          296,
          297,
          298,
          299
         ],
         "xaxis": "x",
         "y": [
          0.06026061941054264,
          0.057949334607082785,
          0.0556034911294824,
          0.053773945987766476,
          0.052066451802983124,
          0.050583864582751804,
          0.04950125248611383,
          0.04809132433936471,
          0.047070627760214645,
          0.046076556374003284,
          0.04536198212233438,
          0.044621449980693645,
          0.043900364920456986,
          0.04345137623913096,
          0.04292292052144343,
          0.042538521888921835,
          0.04214846387636413,
          0.0419447101983837,
          0.041669471656805394,
          0.04135092699082246,
          0.041270767780414254,
          0.04099550997177228,
          0.04074093117936232,
          0.04063530684407879,
          0.04044009833786712,
          0.04024993584554436,
          0.04013424432627541,
          0.039944409340985663,
          0.03978564672978481,
          0.03960945333108616,
          0.03956191200462833,
          0.039472353150053624,
          0.0393590985173483,
          0.03923668796510299,
          0.039240743604442054,
          0.03915956785551799,
          0.03910040894218341,
          0.03907733450502716,
          0.039067868424115276,
          0.03902441234811653,
          0.038956096789469444,
          0.038972401458515195,
          0.03889260502118192,
          0.03889144154598432,
          0.03888656219803087,
          0.038759694980418445,
          0.03877016101728706,
          0.03879585013669712,
          0.03870902430967148,
          0.03873042655919397,
          0.0387128549834021,
          0.03865364198396475,
          0.0386140776385191,
          0.038662095285059886,
          0.038618075408808426,
          0.03857057896965583,
          0.03853994285786772,
          0.03854272395511868,
          0.038565399568546356,
          0.03857693281842107,
          0.038576835566037804,
          0.038553108302456035,
          0.03851291979208289,
          0.03852826588541755,
          0.03853511527110041,
          0.03853609935764539,
          0.038520341753989475,
          0.03852531769255286,
          0.03854158495277293,
          0.0385387496266531,
          0.03850819723280005,
          0.03840923769832389,
          0.03842079075920824,
          0.03845317499757487,
          0.038438877529805446,
          0.03839537033739619,
          0.03834860002701334,
          0.03835705614864359,
          0.03835583954289512,
          0.03834009303418205,
          0.03836190801836234,
          0.03830888620418187,
          0.03828243040847901,
          0.03823152603676103,
          0.038215013005421405,
          0.038167581532972956,
          0.03816394339110349,
          0.038147174852856326,
          0.03816825787808446,
          0.038177169278195845,
          0.03819165190752943,
          0.03817047659164421,
          0.03819674731734535,
          0.038205738549176894,
          0.038207616660846294,
          0.038189378087369316,
          0.038101812820295004,
          0.03811895732456409,
          0.038091015934715804,
          0.03808417658767897,
          0.03806414320435651,
          0.03805322213390701,
          0.03803386309077578,
          0.03803798716242515,
          0.03807384549253391,
          0.03805222869528667,
          0.038100178473342426,
          0.038089312352722324,
          0.03810907821746542,
          0.03809025586525856,
          0.03810542216237104,
          0.03809911076351537,
          0.03811368017037797,
          0.038155081886731695,
          0.03815520375905213,
          0.03816039597244176,
          0.03816071704935101,
          0.03816656554749232,
          0.03816974851129424,
          0.038173444345190245,
          0.03821672907502516,
          0.038203752016031954,
          0.03822742720040566,
          0.038246054494892476,
          0.03824752184626846,
          0.03824985833020539,
          0.03825020359537631,
          0.038249497552172204,
          0.038244073313733584,
          0.038239120169569304,
          0.03824759647439688,
          0.03826560907894498,
          0.03830655279056647,
          0.03825073183247018,
          0.038239447469561524,
          0.03823567224413147,
          0.03824739559398548,
          0.0382619970242022,
          0.03825298248459256,
          0.03825649980865802,
          0.03821482534095589,
          0.03821916797180078,
          0.0382153192982708,
          0.03820864691225048,
          0.0381660502929098,
          0.03817318849106035,
          0.038175053495547166,
          0.03817912140715194,
          0.03818444791175702,
          0.038158788166083445,
          0.0381424483868265,
          0.03816458830520331,
          0.03817107064478396,
          0.03817112691971099,
          0.0381830426781761,
          0.03819501702213849,
          0.038161129076543704,
          0.03819043082877545,
          0.03818549545230624,
          0.03815241046515265,
          0.03815076135157276,
          0.03814922925508723,
          0.03814685171811673,
          0.03816237063251681,
          0.03815010045044448,
          0.03815157333955993,
          0.038167074480481004,
          0.03816672333923871,
          0.0381751877583341,
          0.038181041542458785,
          0.038163438366436986,
          0.038167455845953144,
          0.03816748215859065,
          0.038171680038533586,
          0.038176259450761446,
          0.03817708669909972,
          0.03816370904671452,
          0.0381754325262512,
          0.0381825864426868,
          0.03812624976098736,
          0.03812334320014585,
          0.03812575033904665,
          0.038100821992658275,
          0.03809249403962765,
          0.0381031396129788,
          0.03811597753772157,
          0.03812540648804773,
          0.03813362276348592,
          0.03813866979753872,
          0.038139518673463345,
          0.03811678799819667,
          0.03807666578222924,
          0.03808108368029794,
          0.038083562144458814,
          0.03807886679395757,
          0.03806796232249828,
          0.03808774255792706,
          0.0380885023207937,
          0.038084980631187274,
          0.03807510581622316,
          0.0380889663183482,
          0.038098209886648374,
          0.03811050067895425,
          0.03811207819463783,
          0.03811964824044595,
          0.03812893256386396,
          0.0381396374078656,
          0.03816402047070788,
          0.03816591830063735,
          0.03815809162627275,
          0.03815510770066795,
          0.03812349304191782,
          0.038127737404055125,
          0.038134286473378326,
          0.038124967099772374,
          0.03812674702316852,
          0.03811812974000987,
          0.03812038581758588,
          0.03812100138434929,
          0.03813815816607129,
          0.038147032211061735,
          0.038126465332950735,
          0.03813170353794687,
          0.03810817984481998,
          0.03810432897009082,
          0.03808680465690752,
          0.03810693070887625,
          0.038113297922737016,
          0.03811368105729624,
          0.03812328378431445,
          0.03810925072512101,
          0.03810779885270328,
          0.03810379127682831,
          0.038118332631948436,
          0.038123586175612456,
          0.03813009571006368,
          0.038138013103117985,
          0.038111760863464815,
          0.038117894858808954,
          0.03811954507850193,
          0.03811523533886155,
          0.038108207032469504,
          0.03809976535873133,
          0.03811126225698598,
          0.03810298134691813,
          0.03809712152262501,
          0.03809236322854625,
          0.038095208069961535,
          0.03808334175796834,
          0.038068998593454896,
          0.038073128714517214,
          0.03806238387099537,
          0.038060527510715626,
          0.03805801875191287,
          0.03805673870390177,
          0.03806091465279002,
          0.03805678215132075,
          0.03807586785533387,
          0.03807550254458111,
          0.03807445441955843,
          0.03805448911738419,
          0.03805460754704354,
          0.03805613481894312,
          0.038061280298719045,
          0.03806686939119647,
          0.03806741044811079,
          0.03807310479482562,
          0.03807406865925039,
          0.03805036417149049,
          0.03804544249204789,
          0.038040087243032594,
          0.03805923586900743,
          0.03806565541070222,
          0.03807060010549503,
          0.03807021232571405,
          0.03807401743609634,
          0.038078198390521865,
          0.03807435543014138,
          0.03807158916839724,
          0.038072365344623924,
          0.038077359002938536,
          0.038080861792001534,
          0.03808030681804661,
          0.03807007299909786,
          0.03808415306854204,
          0.038084483433024154,
          0.038084818166593024,
          0.038090832213554075,
          0.03808506475006178,
          0.03807716539118423,
          0.038077039947051666,
          0.03807848103186423,
          0.03808342228797278,
          0.03809536366326751,
          0.038094622211104996,
          0.038112212264716096,
          0.0381155352075216,
          0.038140690560739855,
          0.03815933038582595,
          0.0381600940536815
         ],
         "yaxis": "y"
        }
       ],
       "layout": {
        "legend": {
         "title": {
          "text": "type"
         },
         "tracegroupgap": 0
        },
        "template": {
         "data": {
          "bar": [
           {
            "error_x": {
             "color": "#2a3f5f"
            },
            "error_y": {
             "color": "#2a3f5f"
            },
            "marker": {
             "line": {
              "color": "#E5ECF6",
              "width": 0.5
             }
            },
            "type": "bar"
           }
          ],
          "barpolar": [
           {
            "marker": {
             "line": {
              "color": "#E5ECF6",
              "width": 0.5
             }
            },
            "type": "barpolar"
           }
          ],
          "carpet": [
           {
            "aaxis": {
             "endlinecolor": "#2a3f5f",
             "gridcolor": "white",
             "linecolor": "white",
             "minorgridcolor": "white",
             "startlinecolor": "#2a3f5f"
            },
            "baxis": {
             "endlinecolor": "#2a3f5f",
             "gridcolor": "white",
             "linecolor": "white",
             "minorgridcolor": "white",
             "startlinecolor": "#2a3f5f"
            },
            "type": "carpet"
           }
          ],
          "choropleth": [
           {
            "colorbar": {
             "outlinewidth": 0,
             "ticks": ""
            },
            "type": "choropleth"
           }
          ],
          "contour": [
           {
            "colorbar": {
             "outlinewidth": 0,
             "ticks": ""
            },
            "colorscale": [
             [
              0,
              "#0d0887"
             ],
             [
              0.1111111111111111,
              "#46039f"
             ],
             [
              0.2222222222222222,
              "#7201a8"
             ],
             [
              0.3333333333333333,
              "#9c179e"
             ],
             [
              0.4444444444444444,
              "#bd3786"
             ],
             [
              0.5555555555555556,
              "#d8576b"
             ],
             [
              0.6666666666666666,
              "#ed7953"
             ],
             [
              0.7777777777777778,
              "#fb9f3a"
             ],
             [
              0.8888888888888888,
              "#fdca26"
             ],
             [
              1,
              "#f0f921"
             ]
            ],
            "type": "contour"
           }
          ],
          "contourcarpet": [
           {
            "colorbar": {
             "outlinewidth": 0,
             "ticks": ""
            },
            "type": "contourcarpet"
           }
          ],
          "heatmap": [
           {
            "colorbar": {
             "outlinewidth": 0,
             "ticks": ""
            },
            "colorscale": [
             [
              0,
              "#0d0887"
             ],
             [
              0.1111111111111111,
              "#46039f"
             ],
             [
              0.2222222222222222,
              "#7201a8"
             ],
             [
              0.3333333333333333,
              "#9c179e"
             ],
             [
              0.4444444444444444,
              "#bd3786"
             ],
             [
              0.5555555555555556,
              "#d8576b"
             ],
             [
              0.6666666666666666,
              "#ed7953"
             ],
             [
              0.7777777777777778,
              "#fb9f3a"
             ],
             [
              0.8888888888888888,
              "#fdca26"
             ],
             [
              1,
              "#f0f921"
             ]
            ],
            "type": "heatmap"
           }
          ],
          "heatmapgl": [
           {
            "colorbar": {
             "outlinewidth": 0,
             "ticks": ""
            },
            "colorscale": [
             [
              0,
              "#0d0887"
             ],
             [
              0.1111111111111111,
              "#46039f"
             ],
             [
              0.2222222222222222,
              "#7201a8"
             ],
             [
              0.3333333333333333,
              "#9c179e"
             ],
             [
              0.4444444444444444,
              "#bd3786"
             ],
             [
              0.5555555555555556,
              "#d8576b"
             ],
             [
              0.6666666666666666,
              "#ed7953"
             ],
             [
              0.7777777777777778,
              "#fb9f3a"
             ],
             [
              0.8888888888888888,
              "#fdca26"
             ],
             [
              1,
              "#f0f921"
             ]
            ],
            "type": "heatmapgl"
           }
          ],
          "histogram": [
           {
            "marker": {
             "colorbar": {
              "outlinewidth": 0,
              "ticks": ""
             }
            },
            "type": "histogram"
           }
          ],
          "histogram2d": [
           {
            "colorbar": {
             "outlinewidth": 0,
             "ticks": ""
            },
            "colorscale": [
             [
              0,
              "#0d0887"
             ],
             [
              0.1111111111111111,
              "#46039f"
             ],
             [
              0.2222222222222222,
              "#7201a8"
             ],
             [
              0.3333333333333333,
              "#9c179e"
             ],
             [
              0.4444444444444444,
              "#bd3786"
             ],
             [
              0.5555555555555556,
              "#d8576b"
             ],
             [
              0.6666666666666666,
              "#ed7953"
             ],
             [
              0.7777777777777778,
              "#fb9f3a"
             ],
             [
              0.8888888888888888,
              "#fdca26"
             ],
             [
              1,
              "#f0f921"
             ]
            ],
            "type": "histogram2d"
           }
          ],
          "histogram2dcontour": [
           {
            "colorbar": {
             "outlinewidth": 0,
             "ticks": ""
            },
            "colorscale": [
             [
              0,
              "#0d0887"
             ],
             [
              0.1111111111111111,
              "#46039f"
             ],
             [
              0.2222222222222222,
              "#7201a8"
             ],
             [
              0.3333333333333333,
              "#9c179e"
             ],
             [
              0.4444444444444444,
              "#bd3786"
             ],
             [
              0.5555555555555556,
              "#d8576b"
             ],
             [
              0.6666666666666666,
              "#ed7953"
             ],
             [
              0.7777777777777778,
              "#fb9f3a"
             ],
             [
              0.8888888888888888,
              "#fdca26"
             ],
             [
              1,
              "#f0f921"
             ]
            ],
            "type": "histogram2dcontour"
           }
          ],
          "mesh3d": [
           {
            "colorbar": {
             "outlinewidth": 0,
             "ticks": ""
            },
            "type": "mesh3d"
           }
          ],
          "parcoords": [
           {
            "line": {
             "colorbar": {
              "outlinewidth": 0,
              "ticks": ""
             }
            },
            "type": "parcoords"
           }
          ],
          "pie": [
           {
            "automargin": true,
            "type": "pie"
           }
          ],
          "scatter": [
           {
            "marker": {
             "colorbar": {
              "outlinewidth": 0,
              "ticks": ""
             }
            },
            "type": "scatter"
           }
          ],
          "scatter3d": [
           {
            "line": {
             "colorbar": {
              "outlinewidth": 0,
              "ticks": ""
             }
            },
            "marker": {
             "colorbar": {
              "outlinewidth": 0,
              "ticks": ""
             }
            },
            "type": "scatter3d"
           }
          ],
          "scattercarpet": [
           {
            "marker": {
             "colorbar": {
              "outlinewidth": 0,
              "ticks": ""
             }
            },
            "type": "scattercarpet"
           }
          ],
          "scattergeo": [
           {
            "marker": {
             "colorbar": {
              "outlinewidth": 0,
              "ticks": ""
             }
            },
            "type": "scattergeo"
           }
          ],
          "scattergl": [
           {
            "marker": {
             "colorbar": {
              "outlinewidth": 0,
              "ticks": ""
             }
            },
            "type": "scattergl"
           }
          ],
          "scattermapbox": [
           {
            "marker": {
             "colorbar": {
              "outlinewidth": 0,
              "ticks": ""
             }
            },
            "type": "scattermapbox"
           }
          ],
          "scatterpolar": [
           {
            "marker": {
             "colorbar": {
              "outlinewidth": 0,
              "ticks": ""
             }
            },
            "type": "scatterpolar"
           }
          ],
          "scatterpolargl": [
           {
            "marker": {
             "colorbar": {
              "outlinewidth": 0,
              "ticks": ""
             }
            },
            "type": "scatterpolargl"
           }
          ],
          "scatterternary": [
           {
            "marker": {
             "colorbar": {
              "outlinewidth": 0,
              "ticks": ""
             }
            },
            "type": "scatterternary"
           }
          ],
          "surface": [
           {
            "colorbar": {
             "outlinewidth": 0,
             "ticks": ""
            },
            "colorscale": [
             [
              0,
              "#0d0887"
             ],
             [
              0.1111111111111111,
              "#46039f"
             ],
             [
              0.2222222222222222,
              "#7201a8"
             ],
             [
              0.3333333333333333,
              "#9c179e"
             ],
             [
              0.4444444444444444,
              "#bd3786"
             ],
             [
              0.5555555555555556,
              "#d8576b"
             ],
             [
              0.6666666666666666,
              "#ed7953"
             ],
             [
              0.7777777777777778,
              "#fb9f3a"
             ],
             [
              0.8888888888888888,
              "#fdca26"
             ],
             [
              1,
              "#f0f921"
             ]
            ],
            "type": "surface"
           }
          ],
          "table": [
           {
            "cells": {
             "fill": {
              "color": "#EBF0F8"
             },
             "line": {
              "color": "white"
             }
            },
            "header": {
             "fill": {
              "color": "#C8D4E3"
             },
             "line": {
              "color": "white"
             }
            },
            "type": "table"
           }
          ]
         },
         "layout": {
          "annotationdefaults": {
           "arrowcolor": "#2a3f5f",
           "arrowhead": 0,
           "arrowwidth": 1
          },
          "coloraxis": {
           "colorbar": {
            "outlinewidth": 0,
            "ticks": ""
           }
          },
          "colorscale": {
           "diverging": [
            [
             0,
             "#8e0152"
            ],
            [
             0.1,
             "#c51b7d"
            ],
            [
             0.2,
             "#de77ae"
            ],
            [
             0.3,
             "#f1b6da"
            ],
            [
             0.4,
             "#fde0ef"
            ],
            [
             0.5,
             "#f7f7f7"
            ],
            [
             0.6,
             "#e6f5d0"
            ],
            [
             0.7,
             "#b8e186"
            ],
            [
             0.8,
             "#7fbc41"
            ],
            [
             0.9,
             "#4d9221"
            ],
            [
             1,
             "#276419"
            ]
           ],
           "sequential": [
            [
             0,
             "#0d0887"
            ],
            [
             0.1111111111111111,
             "#46039f"
            ],
            [
             0.2222222222222222,
             "#7201a8"
            ],
            [
             0.3333333333333333,
             "#9c179e"
            ],
            [
             0.4444444444444444,
             "#bd3786"
            ],
            [
             0.5555555555555556,
             "#d8576b"
            ],
            [
             0.6666666666666666,
             "#ed7953"
            ],
            [
             0.7777777777777778,
             "#fb9f3a"
            ],
            [
             0.8888888888888888,
             "#fdca26"
            ],
            [
             1,
             "#f0f921"
            ]
           ],
           "sequentialminus": [
            [
             0,
             "#0d0887"
            ],
            [
             0.1111111111111111,
             "#46039f"
            ],
            [
             0.2222222222222222,
             "#7201a8"
            ],
            [
             0.3333333333333333,
             "#9c179e"
            ],
            [
             0.4444444444444444,
             "#bd3786"
            ],
            [
             0.5555555555555556,
             "#d8576b"
            ],
            [
             0.6666666666666666,
             "#ed7953"
            ],
            [
             0.7777777777777778,
             "#fb9f3a"
            ],
            [
             0.8888888888888888,
             "#fdca26"
            ],
            [
             1,
             "#f0f921"
            ]
           ]
          },
          "colorway": [
           "#636efa",
           "#EF553B",
           "#00cc96",
           "#ab63fa",
           "#FFA15A",
           "#19d3f3",
           "#FF6692",
           "#B6E880",
           "#FF97FF",
           "#FECB52"
          ],
          "font": {
           "color": "#2a3f5f"
          },
          "geo": {
           "bgcolor": "white",
           "lakecolor": "white",
           "landcolor": "#E5ECF6",
           "showlakes": true,
           "showland": true,
           "subunitcolor": "white"
          },
          "hoverlabel": {
           "align": "left"
          },
          "hovermode": "closest",
          "mapbox": {
           "style": "light"
          },
          "paper_bgcolor": "white",
          "plot_bgcolor": "#E5ECF6",
          "polar": {
           "angularaxis": {
            "gridcolor": "white",
            "linecolor": "white",
            "ticks": ""
           },
           "bgcolor": "#E5ECF6",
           "radialaxis": {
            "gridcolor": "white",
            "linecolor": "white",
            "ticks": ""
           }
          },
          "scene": {
           "xaxis": {
            "backgroundcolor": "#E5ECF6",
            "gridcolor": "white",
            "gridwidth": 2,
            "linecolor": "white",
            "showbackground": true,
            "ticks": "",
            "zerolinecolor": "white"
           },
           "yaxis": {
            "backgroundcolor": "#E5ECF6",
            "gridcolor": "white",
            "gridwidth": 2,
            "linecolor": "white",
            "showbackground": true,
            "ticks": "",
            "zerolinecolor": "white"
           },
           "zaxis": {
            "backgroundcolor": "#E5ECF6",
            "gridcolor": "white",
            "gridwidth": 2,
            "linecolor": "white",
            "showbackground": true,
            "ticks": "",
            "zerolinecolor": "white"
           }
          },
          "shapedefaults": {
           "line": {
            "color": "#2a3f5f"
           }
          },
          "ternary": {
           "aaxis": {
            "gridcolor": "white",
            "linecolor": "white",
            "ticks": ""
           },
           "baxis": {
            "gridcolor": "white",
            "linecolor": "white",
            "ticks": ""
           },
           "bgcolor": "#E5ECF6",
           "caxis": {
            "gridcolor": "white",
            "linecolor": "white",
            "ticks": ""
           }
          },
          "title": {
           "x": 0.05
          },
          "xaxis": {
           "automargin": true,
           "gridcolor": "white",
           "linecolor": "white",
           "ticks": "",
           "title": {
            "standoff": 15
           },
           "zerolinecolor": "white",
           "zerolinewidth": 2
          },
          "yaxis": {
           "automargin": true,
           "gridcolor": "white",
           "linecolor": "white",
           "ticks": "",
           "title": {
            "standoff": 15
           },
           "zerolinecolor": "white",
           "zerolinewidth": 2
          }
         }
        },
        "title": {
         "text": "Learning curve"
        },
        "xaxis": {
         "anchor": "y",
         "domain": [
          0,
          1
         ],
         "title": {
          "text": "index"
         }
        },
        "yaxis": {
         "anchor": "x",
         "domain": [
          0,
          1
         ],
         "title": {
          "text": "RMSE"
         }
        }
       }
      },
      "text/html": [
       "<div>\n",
       "        \n",
       "        \n",
       "            <div id=\"9b0ea6ed-97f8-42f8-88bf-f34546279ac6\" class=\"plotly-graph-div\" style=\"height:525px; width:100%;\"></div>\n",
       "            <script type=\"text/javascript\">\n",
       "                require([\"plotly\"], function(Plotly) {\n",
       "                    window.PLOTLYENV=window.PLOTLYENV || {};\n",
       "                    \n",
       "                if (document.getElementById(\"9b0ea6ed-97f8-42f8-88bf-f34546279ac6\")) {\n",
       "                    Plotly.newPlot(\n",
       "                        '9b0ea6ed-97f8-42f8-88bf-f34546279ac6',\n",
       "                        [{\"hovertemplate\": \"type=learn<br>index=%{x}<br>RMSE=%{y}<extra></extra>\", \"legendgroup\": \"learn\", \"marker\": {\"color\": \"#636efa\", \"symbol\": \"circle\"}, \"mode\": \"markers\", \"name\": \"learn\", \"showlegend\": true, \"type\": \"scatter\", \"x\": [0, 1, 2, 3, 4, 5, 6, 7, 8, 9, 10, 11, 12, 13, 14, 15, 16, 17, 18, 19, 20, 21, 22, 23, 24, 25, 26, 27, 28, 29, 30, 31, 32, 33, 34, 35, 36, 37, 38, 39, 40, 41, 42, 43, 44, 45, 46, 47, 48, 49, 50, 51, 52, 53, 54, 55, 56, 57, 58, 59, 60, 61, 62, 63, 64, 65, 66, 67, 68, 69, 70, 71, 72, 73, 74, 75, 76, 77, 78, 79, 80, 81, 82, 83, 84, 85, 86, 87, 88, 89, 90, 91, 92, 93, 94, 95, 96, 97, 98, 99, 100, 101, 102, 103, 104, 105, 106, 107, 108, 109, 110, 111, 112, 113, 114, 115, 116, 117, 118, 119, 120, 121, 122, 123, 124, 125, 126, 127, 128, 129, 130, 131, 132, 133, 134, 135, 136, 137, 138, 139, 140, 141, 142, 143, 144, 145, 146, 147, 148, 149, 150, 151, 152, 153, 154, 155, 156, 157, 158, 159, 160, 161, 162, 163, 164, 165, 166, 167, 168, 169, 170, 171, 172, 173, 174, 175, 176, 177, 178, 179, 180, 181, 182, 183, 184, 185, 186, 187, 188, 189, 190, 191, 192, 193, 194, 195, 196, 197, 198, 199, 200, 201, 202, 203, 204, 205, 206, 207, 208, 209, 210, 211, 212, 213, 214, 215, 216, 217, 218, 219, 220, 221, 222, 223, 224, 225, 226, 227, 228, 229, 230, 231, 232, 233, 234, 235, 236, 237, 238, 239, 240, 241, 242, 243, 244, 245, 246, 247, 248, 249, 250, 251, 252, 253, 254, 255, 256, 257, 258, 259, 260, 261, 262, 263, 264, 265, 266, 267, 268, 269, 270, 271, 272, 273, 274, 275, 276, 277, 278, 279, 280, 281, 282, 283, 284, 285, 286, 287, 288, 289, 290, 291, 292, 293, 294, 295, 296, 297, 298, 299, 0, 1, 2, 3, 4, 5, 6, 7, 8, 9, 10, 11, 12, 13, 14, 15, 16, 17, 18, 19, 20, 21, 22, 23, 24, 25, 26, 27, 28, 29, 30, 31, 32, 33, 34, 35, 36, 37, 38, 39, 40, 41, 42, 43, 44, 45, 46, 47, 48, 49, 50, 51, 52, 53, 54, 55, 56, 57, 58, 59, 60, 61, 62, 63, 64, 65, 66, 67, 68, 69, 70, 71, 72, 73, 74, 75, 76, 77, 78, 79, 80, 81, 82, 83, 84, 85, 86, 87, 88, 89, 90, 91, 92, 93, 94, 95, 96, 97, 98, 99, 100, 101, 102, 103, 104, 105, 106, 107, 108, 109, 110, 111, 112, 113, 114, 115, 116, 117, 118, 119, 120, 121, 122, 123, 124, 125, 126, 127, 128, 129, 130, 131, 132, 133, 134, 135, 136, 137, 138, 139, 140, 141, 142, 143, 144, 145, 146, 147, 148, 149, 150, 151, 152, 153, 154, 155, 156, 157, 158, 159, 160, 161, 162, 163, 164, 165, 166, 167, 168, 169, 170, 171, 172, 173, 174, 175, 176, 177, 178, 179, 180, 181, 182, 183, 184, 185, 186, 187, 188, 189, 190, 191, 192, 193, 194, 195, 196, 197, 198, 199, 200, 201, 202, 203, 204, 205, 206, 207, 208, 209, 210, 211, 212, 213, 214, 215, 216, 217, 218, 219, 220, 221, 222, 223, 224, 225, 226, 227, 228, 229, 230, 231, 232, 233, 234, 235, 236, 237, 238, 239, 240, 241, 242, 243, 244, 245, 246, 247, 248, 249, 250, 251, 252, 253, 254, 255, 256, 257, 258, 259, 260, 261, 262, 263, 264, 265, 266, 267, 268, 269, 270, 271, 272, 273, 274, 275, 276, 277, 278, 279, 280, 281, 282, 283, 284, 285, 286, 287, 288, 289, 290, 291, 292, 293, 294, 295, 296, 297, 298, 299], \"xaxis\": \"x\", \"y\": [0.06054765345164765, 0.05785256361172686, 0.055201094389827926, 0.05289974953965932, 0.050873466404452554, 0.04936898093878957, 0.04800149475204249, 0.04635858636157935, 0.04493971897488601, 0.04360824974434916, 0.042514302751262015, 0.04142946333387852, 0.04034766412828596, 0.0394037174702552, 0.03848348383624321, 0.03773091692326302, 0.037131019065512916, 0.036458343172614885, 0.03587934050091956, 0.035262746251898534, 0.034839114906261834, 0.03442379749520238, 0.033959948020287185, 0.03350209415470847, 0.03324025935343375, 0.032800019349684705, 0.0324580060219538, 0.0321043136053887, 0.03180158176795964, 0.03147978797856265, 0.03125586857739608, 0.031004614358631225, 0.030742761921546555, 0.03046497678173234, 0.030204594536570952, 0.029995171967793163, 0.029783513763669646, 0.029616803807547158, 0.029544368568208926, 0.029396327836864782, 0.029217305647309396, 0.029054229627154704, 0.028938349672597598, 0.0287618570622197, 0.028589402216269353, 0.028398572560392767, 0.02831471388379628, 0.028237791090528163, 0.028086069830564296, 0.027990163540450086, 0.02789225003849691, 0.027787216856822665, 0.027639293990153156, 0.027514716105833486, 0.027426719773106182, 0.02728449939376651, 0.027117595315950357, 0.026986732591262587, 0.026802513767858922, 0.026732651237165225, 0.02668347451811334, 0.026621160781691657, 0.026545882280754808, 0.02640165373498098, 0.026334780324999894, 0.02626860330373694, 0.026172692660399243, 0.0261022402407535, 0.02603812969083361, 0.025901522797624546, 0.02576654291901419, 0.025646932975380395, 0.025589000303660726, 0.025410496389402508, 0.02534290241940284, 0.025202310796504916, 0.02502554329391922, 0.024841443593827537, 0.024825713295852245, 0.024735131872734732, 0.024591934981857303, 0.02450113279075049, 0.024327673048933962, 0.024153531251245752, 0.024115283271585585, 0.02395334338836618, 0.023836100335036428, 0.023814345947203115, 0.02369632560461676, 0.02365256377072859, 0.023518376336759853, 0.02348091609909603, 0.023447571210777618, 0.023373988763654863, 0.02320867696948171, 0.02301274056258845, 0.022824952207070204, 0.0227803113430272, 0.02276360618548448, 0.022653363304514833, 0.022443510477416898, 0.022387598803199144, 0.022232666248549547, 0.02216973861303147, 0.022089788554240663, 0.022062954156117923, 0.02195352556378859, 0.021850613938398166, 0.02171521926796563, 0.021636249990154188, 0.02145388422353845, 0.021401753423123466, 0.02135500961930223, 0.021262467902537243, 0.021218483539287875, 0.021044600619755226, 0.02102052766537333, 0.021005307340954245, 0.020947374606979072, 0.02091508194056187, 0.02077623910143757, 0.0207368450820628, 0.02066841428328262, 0.020592323770723998, 0.020480392537703274, 0.02043296097585158, 0.02025769948966516, 0.020180002976049473, 0.02012777488841776, 0.02005815194197647, 0.019978023659890955, 0.019881228835508843, 0.019717392289338047, 0.01951041220017569, 0.019357439724553453, 0.019323779796346068, 0.01920575355226533, 0.019146754453256004, 0.01912833782238242, 0.01907382298558627, 0.01891582088031285, 0.018862257929625273, 0.01873540771677182, 0.018714677783724452, 0.018650190782882166, 0.018530413530304574, 0.018515727290679785, 0.01850166406982869, 0.01849091567532522, 0.018322385961857833, 0.01820354645856476, 0.018158884731694285, 0.017991628535147384, 0.017985128807492343, 0.017880470390923275, 0.017789791400767627, 0.017607752429435, 0.01757728536663921, 0.017546215677561466, 0.017428935114025542, 0.017400145244567764, 0.017333128545157315, 0.017310887442782724, 0.017291462043824094, 0.017252229919423115, 0.017155727317401923, 0.017097551978528948, 0.01706721171319075, 0.016953510758562197, 0.01690273001575302, 0.01681676879932304, 0.01679326336558657, 0.016734441005596692, 0.016729301539447284, 0.01664590648080147, 0.016605058715479883, 0.01652853530695071, 0.016476649129149614, 0.016386535376352096, 0.01623077899345304, 0.016185993500365023, 0.01616693216192696, 0.0160848656982732, 0.01601478539119973, 0.01591946128194476, 0.015769474556881997, 0.01570616618347946, 0.01564804347725215, 0.015534179492763563, 0.015385890844797901, 0.015277511270629015, 0.015199265921568459, 0.015138489089356253, 0.015000926731241737, 0.01496586973132924, 0.014860637791130336, 0.014815771259238658, 0.01479617784505708, 0.01473214161475279, 0.014691420711755634, 0.014640922567222677, 0.014601722184171124, 0.014540115158348126, 0.01451637617005015, 0.014453732599715313, 0.014390539303353907, 0.014320499751911683, 0.014281348524076186, 0.014249954512524598, 0.014210188876800397, 0.014173232643933505, 0.014062764687780966, 0.014045192788369238, 0.013998374103029482, 0.013971180661349171, 0.013860593515268693, 0.013801884387380434, 0.013725405426401707, 0.013710589103164231, 0.013641975377235218, 0.013534005809009006, 0.013446572983331392, 0.013419977071187444, 0.013364718772814857, 0.013330520811019821, 0.013270912376310597, 0.013202240684404606, 0.013176145799401717, 0.013127879659328368, 0.013109584772615911, 0.013059545273549753, 0.012963354005823217, 0.012890645055700848, 0.012839033494526947, 0.012794116547716698, 0.012746583962191017, 0.012717849097002328, 0.012627543711658981, 0.012608479829572012, 0.012589655260320493, 0.012571846887970441, 0.01253136883417404, 0.0124816822887533, 0.012439384006100722, 0.012403005892633613, 0.012323994164082962, 0.01225138594551363, 0.012239326743409842, 0.012225384118144507, 0.012145612590023263, 0.01211122003042, 0.012034113477427638, 0.012022453556237545, 0.011969267871608336, 0.011924989245323205, 0.011827234831948176, 0.011773765600442066, 0.01173817343529206, 0.011670918656519737, 0.011581736710054429, 0.011519127920294856, 0.011454211234139929, 0.011417276264696465, 0.011359900689467897, 0.011273987843673052, 0.011252071234862358, 0.011200022366216091, 0.01117884882186954, 0.01111114830513374, 0.011075614648438436, 0.011018534098164343, 0.010958329819475818, 0.010944092986859593, 0.010894139393325498, 0.01088555038983113, 0.010825879358816331, 0.010820595464354554, 0.010812282203627975, 0.010791494025670183, 0.010759971205754315, 0.010720370951225145, 0.010701371309533022, 0.010643352895229646, 0.010604701209936921, 0.010565725531229959, 0.01054938919522207, 0.01053381908500796, 0.01047959737389296, 0.010469401313547054, 0.0104284570144933, 0.010417735313328874, 0.010368727978792694, 0.010324747328629428, 0.01026316822012849, 0.010241413865969056, 0.010185886803516316, 0.010167490766044758, 0.010122329311058007, 0.010071973342533326, 0.010062720379149874, 0.06054765345164765, 0.05785256361172686, 0.055201094389827926, 0.05289974953965932, 0.050873466404452554, 0.04936898093878957, 0.04800149475204249, 0.04635858636157935, 0.04493971897488601, 0.04360824974434916, 0.042514302751262015, 0.04142946333387852, 0.04034766412828596, 0.0394037174702552, 0.03848348383624321, 0.03773091692326302, 0.037131019065512916, 0.036458343172614885, 0.03587934050091956, 0.035262746251898534, 0.034839114906261834, 0.03442379749520238, 0.033959948020287185, 0.03350209415470847, 0.03324025935343375, 0.032800019349684705, 0.0324580060219538, 0.0321043136053887, 0.03180158176795964, 0.03147978797856265, 0.03125586857739608, 0.031004614358631225, 0.030742761921546555, 0.03046497678173234, 0.030204594536570952, 0.029995171967793163, 0.029783513763669646, 0.029616803807547158, 0.029544368568208926, 0.029396327836864782, 0.029217305647309396, 0.029054229627154704, 0.028938349672597598, 0.0287618570622197, 0.028589402216269353, 0.028398572560392767, 0.02831471388379628, 0.028237791090528163, 0.028086069830564296, 0.027990163540450086, 0.02789225003849691, 0.027787216856822665, 0.027639293990153156, 0.027514716105833486, 0.027426719773106182, 0.02728449939376651, 0.027117595315950357, 0.026986732591262587, 0.026802513767858922, 0.026732651237165225, 0.02668347451811334, 0.026621160781691657, 0.026545882280754808, 0.02640165373498098, 0.026334780324999894, 0.02626860330373694, 0.026172692660399243, 0.0261022402407535, 0.02603812969083361, 0.025901522797624546, 0.02576654291901419, 0.025646932975380395, 0.025589000303660726, 0.025410496389402508, 0.02534290241940284, 0.025202310796504916, 0.02502554329391922, 0.024841443593827537, 0.024825713295852245, 0.024735131872734732, 0.024591934981857303, 0.02450113279075049, 0.024327673048933962, 0.024153531251245752, 0.024115283271585585, 0.02395334338836618, 0.023836100335036428, 0.023814345947203115, 0.02369632560461676, 0.02365256377072859, 0.023518376336759853, 0.02348091609909603, 0.023447571210777618, 0.023373988763654863, 0.02320867696948171, 0.02301274056258845, 0.022824952207070204, 0.0227803113430272, 0.02276360618548448, 0.022653363304514833, 0.022443510477416898, 0.022387598803199144, 0.022232666248549547, 0.02216973861303147, 0.022089788554240663, 0.022062954156117923, 0.02195352556378859, 0.021850613938398166, 0.02171521926796563, 0.021636249990154188, 0.02145388422353845, 0.021401753423123466, 0.02135500961930223, 0.021262467902537243, 0.021218483539287875, 0.021044600619755226, 0.02102052766537333, 0.021005307340954245, 0.020947374606979072, 0.02091508194056187, 0.02077623910143757, 0.0207368450820628, 0.02066841428328262, 0.020592323770723998, 0.020480392537703274, 0.02043296097585158, 0.02025769948966516, 0.020180002976049473, 0.02012777488841776, 0.02005815194197647, 0.019978023659890955, 0.019881228835508843, 0.019717392289338047, 0.01951041220017569, 0.019357439724553453, 0.019323779796346068, 0.01920575355226533, 0.019146754453256004, 0.01912833782238242, 0.01907382298558627, 0.01891582088031285, 0.018862257929625273, 0.01873540771677182, 0.018714677783724452, 0.018650190782882166, 0.018530413530304574, 0.018515727290679785, 0.01850166406982869, 0.01849091567532522, 0.018322385961857833, 0.01820354645856476, 0.018158884731694285, 0.017991628535147384, 0.017985128807492343, 0.017880470390923275, 0.017789791400767627, 0.017607752429435, 0.01757728536663921, 0.017546215677561466, 0.017428935114025542, 0.017400145244567764, 0.017333128545157315, 0.017310887442782724, 0.017291462043824094, 0.017252229919423115, 0.017155727317401923, 0.017097551978528948, 0.01706721171319075, 0.016953510758562197, 0.01690273001575302, 0.01681676879932304, 0.01679326336558657, 0.016734441005596692, 0.016729301539447284, 0.01664590648080147, 0.016605058715479883, 0.01652853530695071, 0.016476649129149614, 0.016386535376352096, 0.01623077899345304, 0.016185993500365023, 0.01616693216192696, 0.0160848656982732, 0.01601478539119973, 0.01591946128194476, 0.015769474556881997, 0.01570616618347946, 0.01564804347725215, 0.015534179492763563, 0.015385890844797901, 0.015277511270629015, 0.015199265921568459, 0.015138489089356253, 0.015000926731241737, 0.01496586973132924, 0.014860637791130336, 0.014815771259238658, 0.01479617784505708, 0.01473214161475279, 0.014691420711755634, 0.014640922567222677, 0.014601722184171124, 0.014540115158348126, 0.01451637617005015, 0.014453732599715313, 0.014390539303353907, 0.014320499751911683, 0.014281348524076186, 0.014249954512524598, 0.014210188876800397, 0.014173232643933505, 0.014062764687780966, 0.014045192788369238, 0.013998374103029482, 0.013971180661349171, 0.013860593515268693, 0.013801884387380434, 0.013725405426401707, 0.013710589103164231, 0.013641975377235218, 0.013534005809009006, 0.013446572983331392, 0.013419977071187444, 0.013364718772814857, 0.013330520811019821, 0.013270912376310597, 0.013202240684404606, 0.013176145799401717, 0.013127879659328368, 0.013109584772615911, 0.013059545273549753, 0.012963354005823217, 0.012890645055700848, 0.012839033494526947, 0.012794116547716698, 0.012746583962191017, 0.012717849097002328, 0.012627543711658981, 0.012608479829572012, 0.012589655260320493, 0.012571846887970441, 0.01253136883417404, 0.0124816822887533, 0.012439384006100722, 0.012403005892633613, 0.012323994164082962, 0.01225138594551363, 0.012239326743409842, 0.012225384118144507, 0.012145612590023263, 0.01211122003042, 0.012034113477427638, 0.012022453556237545, 0.011969267871608336, 0.011924989245323205, 0.011827234831948176, 0.011773765600442066, 0.01173817343529206, 0.011670918656519737, 0.011581736710054429, 0.011519127920294856, 0.011454211234139929, 0.011417276264696465, 0.011359900689467897, 0.011273987843673052, 0.011252071234862358, 0.011200022366216091, 0.01117884882186954, 0.01111114830513374, 0.011075614648438436, 0.011018534098164343, 0.010958329819475818, 0.010944092986859593, 0.010894139393325498, 0.01088555038983113, 0.010825879358816331, 0.010820595464354554, 0.010812282203627975, 0.010791494025670183, 0.010759971205754315, 0.010720370951225145, 0.010701371309533022, 0.010643352895229646, 0.010604701209936921, 0.010565725531229959, 0.01054938919522207, 0.01053381908500796, 0.01047959737389296, 0.010469401313547054, 0.0104284570144933, 0.010417735313328874, 0.010368727978792694, 0.010324747328629428, 0.01026316822012849, 0.010241413865969056, 0.010185886803516316, 0.010167490766044758, 0.010122329311058007, 0.010071973342533326, 0.010062720379149874], \"yaxis\": \"y\"}, {\"hovertemplate\": \"type=validation<br>index=%{x}<br>RMSE=%{y}<extra></extra>\", \"legendgroup\": \"validation\", \"marker\": {\"color\": \"#EF553B\", \"symbol\": \"circle\"}, \"mode\": \"markers\", \"name\": \"validation\", \"showlegend\": true, \"type\": \"scatter\", \"x\": [0, 1, 2, 3, 4, 5, 6, 7, 8, 9, 10, 11, 12, 13, 14, 15, 16, 17, 18, 19, 20, 21, 22, 23, 24, 25, 26, 27, 28, 29, 30, 31, 32, 33, 34, 35, 36, 37, 38, 39, 40, 41, 42, 43, 44, 45, 46, 47, 48, 49, 50, 51, 52, 53, 54, 55, 56, 57, 58, 59, 60, 61, 62, 63, 64, 65, 66, 67, 68, 69, 70, 71, 72, 73, 74, 75, 76, 77, 78, 79, 80, 81, 82, 83, 84, 85, 86, 87, 88, 89, 90, 91, 92, 93, 94, 95, 96, 97, 98, 99, 100, 101, 102, 103, 104, 105, 106, 107, 108, 109, 110, 111, 112, 113, 114, 115, 116, 117, 118, 119, 120, 121, 122, 123, 124, 125, 126, 127, 128, 129, 130, 131, 132, 133, 134, 135, 136, 137, 138, 139, 140, 141, 142, 143, 144, 145, 146, 147, 148, 149, 150, 151, 152, 153, 154, 155, 156, 157, 158, 159, 160, 161, 162, 163, 164, 165, 166, 167, 168, 169, 170, 171, 172, 173, 174, 175, 176, 177, 178, 179, 180, 181, 182, 183, 184, 185, 186, 187, 188, 189, 190, 191, 192, 193, 194, 195, 196, 197, 198, 199, 200, 201, 202, 203, 204, 205, 206, 207, 208, 209, 210, 211, 212, 213, 214, 215, 216, 217, 218, 219, 220, 221, 222, 223, 224, 225, 226, 227, 228, 229, 230, 231, 232, 233, 234, 235, 236, 237, 238, 239, 240, 241, 242, 243, 244, 245, 246, 247, 248, 249, 250, 251, 252, 253, 254, 255, 256, 257, 258, 259, 260, 261, 262, 263, 264, 265, 266, 267, 268, 269, 270, 271, 272, 273, 274, 275, 276, 277, 278, 279, 280, 281, 282, 283, 284, 285, 286, 287, 288, 289, 290, 291, 292, 293, 294, 295, 296, 297, 298, 299], \"xaxis\": \"x\", \"y\": [0.06026061941054264, 0.057949334607082785, 0.0556034911294824, 0.053773945987766476, 0.052066451802983124, 0.050583864582751804, 0.04950125248611383, 0.04809132433936471, 0.047070627760214645, 0.046076556374003284, 0.04536198212233438, 0.044621449980693645, 0.043900364920456986, 0.04345137623913096, 0.04292292052144343, 0.042538521888921835, 0.04214846387636413, 0.0419447101983837, 0.041669471656805394, 0.04135092699082246, 0.041270767780414254, 0.04099550997177228, 0.04074093117936232, 0.04063530684407879, 0.04044009833786712, 0.04024993584554436, 0.04013424432627541, 0.039944409340985663, 0.03978564672978481, 0.03960945333108616, 0.03956191200462833, 0.039472353150053624, 0.0393590985173483, 0.03923668796510299, 0.039240743604442054, 0.03915956785551799, 0.03910040894218341, 0.03907733450502716, 0.039067868424115276, 0.03902441234811653, 0.038956096789469444, 0.038972401458515195, 0.03889260502118192, 0.03889144154598432, 0.03888656219803087, 0.038759694980418445, 0.03877016101728706, 0.03879585013669712, 0.03870902430967148, 0.03873042655919397, 0.0387128549834021, 0.03865364198396475, 0.0386140776385191, 0.038662095285059886, 0.038618075408808426, 0.03857057896965583, 0.03853994285786772, 0.03854272395511868, 0.038565399568546356, 0.03857693281842107, 0.038576835566037804, 0.038553108302456035, 0.03851291979208289, 0.03852826588541755, 0.03853511527110041, 0.03853609935764539, 0.038520341753989475, 0.03852531769255286, 0.03854158495277293, 0.0385387496266531, 0.03850819723280005, 0.03840923769832389, 0.03842079075920824, 0.03845317499757487, 0.038438877529805446, 0.03839537033739619, 0.03834860002701334, 0.03835705614864359, 0.03835583954289512, 0.03834009303418205, 0.03836190801836234, 0.03830888620418187, 0.03828243040847901, 0.03823152603676103, 0.038215013005421405, 0.038167581532972956, 0.03816394339110349, 0.038147174852856326, 0.03816825787808446, 0.038177169278195845, 0.03819165190752943, 0.03817047659164421, 0.03819674731734535, 0.038205738549176894, 0.038207616660846294, 0.038189378087369316, 0.038101812820295004, 0.03811895732456409, 0.038091015934715804, 0.03808417658767897, 0.03806414320435651, 0.03805322213390701, 0.03803386309077578, 0.03803798716242515, 0.03807384549253391, 0.03805222869528667, 0.038100178473342426, 0.038089312352722324, 0.03810907821746542, 0.03809025586525856, 0.03810542216237104, 0.03809911076351537, 0.03811368017037797, 0.038155081886731695, 0.03815520375905213, 0.03816039597244176, 0.03816071704935101, 0.03816656554749232, 0.03816974851129424, 0.038173444345190245, 0.03821672907502516, 0.038203752016031954, 0.03822742720040566, 0.038246054494892476, 0.03824752184626846, 0.03824985833020539, 0.03825020359537631, 0.038249497552172204, 0.038244073313733584, 0.038239120169569304, 0.03824759647439688, 0.03826560907894498, 0.03830655279056647, 0.03825073183247018, 0.038239447469561524, 0.03823567224413147, 0.03824739559398548, 0.0382619970242022, 0.03825298248459256, 0.03825649980865802, 0.03821482534095589, 0.03821916797180078, 0.0382153192982708, 0.03820864691225048, 0.0381660502929098, 0.03817318849106035, 0.038175053495547166, 0.03817912140715194, 0.03818444791175702, 0.038158788166083445, 0.0381424483868265, 0.03816458830520331, 0.03817107064478396, 0.03817112691971099, 0.0381830426781761, 0.03819501702213849, 0.038161129076543704, 0.03819043082877545, 0.03818549545230624, 0.03815241046515265, 0.03815076135157276, 0.03814922925508723, 0.03814685171811673, 0.03816237063251681, 0.03815010045044448, 0.03815157333955993, 0.038167074480481004, 0.03816672333923871, 0.0381751877583341, 0.038181041542458785, 0.038163438366436986, 0.038167455845953144, 0.03816748215859065, 0.038171680038533586, 0.038176259450761446, 0.03817708669909972, 0.03816370904671452, 0.0381754325262512, 0.0381825864426868, 0.03812624976098736, 0.03812334320014585, 0.03812575033904665, 0.038100821992658275, 0.03809249403962765, 0.0381031396129788, 0.03811597753772157, 0.03812540648804773, 0.03813362276348592, 0.03813866979753872, 0.038139518673463345, 0.03811678799819667, 0.03807666578222924, 0.03808108368029794, 0.038083562144458814, 0.03807886679395757, 0.03806796232249828, 0.03808774255792706, 0.0380885023207937, 0.038084980631187274, 0.03807510581622316, 0.0380889663183482, 0.038098209886648374, 0.03811050067895425, 0.03811207819463783, 0.03811964824044595, 0.03812893256386396, 0.0381396374078656, 0.03816402047070788, 0.03816591830063735, 0.03815809162627275, 0.03815510770066795, 0.03812349304191782, 0.038127737404055125, 0.038134286473378326, 0.038124967099772374, 0.03812674702316852, 0.03811812974000987, 0.03812038581758588, 0.03812100138434929, 0.03813815816607129, 0.038147032211061735, 0.038126465332950735, 0.03813170353794687, 0.03810817984481998, 0.03810432897009082, 0.03808680465690752, 0.03810693070887625, 0.038113297922737016, 0.03811368105729624, 0.03812328378431445, 0.03810925072512101, 0.03810779885270328, 0.03810379127682831, 0.038118332631948436, 0.038123586175612456, 0.03813009571006368, 0.038138013103117985, 0.038111760863464815, 0.038117894858808954, 0.03811954507850193, 0.03811523533886155, 0.038108207032469504, 0.03809976535873133, 0.03811126225698598, 0.03810298134691813, 0.03809712152262501, 0.03809236322854625, 0.038095208069961535, 0.03808334175796834, 0.038068998593454896, 0.038073128714517214, 0.03806238387099537, 0.038060527510715626, 0.03805801875191287, 0.03805673870390177, 0.03806091465279002, 0.03805678215132075, 0.03807586785533387, 0.03807550254458111, 0.03807445441955843, 0.03805448911738419, 0.03805460754704354, 0.03805613481894312, 0.038061280298719045, 0.03806686939119647, 0.03806741044811079, 0.03807310479482562, 0.03807406865925039, 0.03805036417149049, 0.03804544249204789, 0.038040087243032594, 0.03805923586900743, 0.03806565541070222, 0.03807060010549503, 0.03807021232571405, 0.03807401743609634, 0.038078198390521865, 0.03807435543014138, 0.03807158916839724, 0.038072365344623924, 0.038077359002938536, 0.038080861792001534, 0.03808030681804661, 0.03807007299909786, 0.03808415306854204, 0.038084483433024154, 0.038084818166593024, 0.038090832213554075, 0.03808506475006178, 0.03807716539118423, 0.038077039947051666, 0.03807848103186423, 0.03808342228797278, 0.03809536366326751, 0.038094622211104996, 0.038112212264716096, 0.0381155352075216, 0.038140690560739855, 0.03815933038582595, 0.0381600940536815], \"yaxis\": \"y\"}],\n",
       "                        {\"legend\": {\"title\": {\"text\": \"type\"}, \"tracegroupgap\": 0}, \"template\": {\"data\": {\"bar\": [{\"error_x\": {\"color\": \"#2a3f5f\"}, \"error_y\": {\"color\": \"#2a3f5f\"}, \"marker\": {\"line\": {\"color\": \"#E5ECF6\", \"width\": 0.5}}, \"type\": \"bar\"}], \"barpolar\": [{\"marker\": {\"line\": {\"color\": \"#E5ECF6\", \"width\": 0.5}}, \"type\": \"barpolar\"}], \"carpet\": [{\"aaxis\": {\"endlinecolor\": \"#2a3f5f\", \"gridcolor\": \"white\", \"linecolor\": \"white\", \"minorgridcolor\": \"white\", \"startlinecolor\": \"#2a3f5f\"}, \"baxis\": {\"endlinecolor\": \"#2a3f5f\", \"gridcolor\": \"white\", \"linecolor\": \"white\", \"minorgridcolor\": \"white\", \"startlinecolor\": \"#2a3f5f\"}, \"type\": \"carpet\"}], \"choropleth\": [{\"colorbar\": {\"outlinewidth\": 0, \"ticks\": \"\"}, \"type\": \"choropleth\"}], \"contour\": [{\"colorbar\": {\"outlinewidth\": 0, \"ticks\": \"\"}, \"colorscale\": [[0.0, \"#0d0887\"], [0.1111111111111111, \"#46039f\"], [0.2222222222222222, \"#7201a8\"], [0.3333333333333333, \"#9c179e\"], [0.4444444444444444, \"#bd3786\"], [0.5555555555555556, \"#d8576b\"], [0.6666666666666666, \"#ed7953\"], [0.7777777777777778, \"#fb9f3a\"], [0.8888888888888888, \"#fdca26\"], [1.0, \"#f0f921\"]], \"type\": \"contour\"}], \"contourcarpet\": [{\"colorbar\": {\"outlinewidth\": 0, \"ticks\": \"\"}, \"type\": \"contourcarpet\"}], \"heatmap\": [{\"colorbar\": {\"outlinewidth\": 0, \"ticks\": \"\"}, \"colorscale\": [[0.0, \"#0d0887\"], [0.1111111111111111, \"#46039f\"], [0.2222222222222222, \"#7201a8\"], [0.3333333333333333, \"#9c179e\"], [0.4444444444444444, \"#bd3786\"], [0.5555555555555556, \"#d8576b\"], [0.6666666666666666, \"#ed7953\"], [0.7777777777777778, \"#fb9f3a\"], [0.8888888888888888, \"#fdca26\"], [1.0, \"#f0f921\"]], \"type\": \"heatmap\"}], \"heatmapgl\": [{\"colorbar\": {\"outlinewidth\": 0, \"ticks\": \"\"}, \"colorscale\": [[0.0, \"#0d0887\"], [0.1111111111111111, \"#46039f\"], [0.2222222222222222, \"#7201a8\"], [0.3333333333333333, \"#9c179e\"], [0.4444444444444444, \"#bd3786\"], [0.5555555555555556, \"#d8576b\"], [0.6666666666666666, \"#ed7953\"], [0.7777777777777778, \"#fb9f3a\"], [0.8888888888888888, \"#fdca26\"], [1.0, \"#f0f921\"]], \"type\": \"heatmapgl\"}], \"histogram\": [{\"marker\": {\"colorbar\": {\"outlinewidth\": 0, \"ticks\": \"\"}}, \"type\": \"histogram\"}], \"histogram2d\": [{\"colorbar\": {\"outlinewidth\": 0, \"ticks\": \"\"}, \"colorscale\": [[0.0, \"#0d0887\"], [0.1111111111111111, \"#46039f\"], [0.2222222222222222, \"#7201a8\"], [0.3333333333333333, \"#9c179e\"], [0.4444444444444444, \"#bd3786\"], [0.5555555555555556, \"#d8576b\"], [0.6666666666666666, \"#ed7953\"], [0.7777777777777778, \"#fb9f3a\"], [0.8888888888888888, \"#fdca26\"], [1.0, \"#f0f921\"]], \"type\": \"histogram2d\"}], \"histogram2dcontour\": [{\"colorbar\": {\"outlinewidth\": 0, \"ticks\": \"\"}, \"colorscale\": [[0.0, \"#0d0887\"], [0.1111111111111111, \"#46039f\"], [0.2222222222222222, \"#7201a8\"], [0.3333333333333333, \"#9c179e\"], [0.4444444444444444, \"#bd3786\"], [0.5555555555555556, \"#d8576b\"], [0.6666666666666666, \"#ed7953\"], [0.7777777777777778, \"#fb9f3a\"], [0.8888888888888888, \"#fdca26\"], [1.0, \"#f0f921\"]], \"type\": \"histogram2dcontour\"}], \"mesh3d\": [{\"colorbar\": {\"outlinewidth\": 0, \"ticks\": \"\"}, \"type\": \"mesh3d\"}], \"parcoords\": [{\"line\": {\"colorbar\": {\"outlinewidth\": 0, \"ticks\": \"\"}}, \"type\": \"parcoords\"}], \"pie\": [{\"automargin\": true, \"type\": \"pie\"}], \"scatter\": [{\"marker\": {\"colorbar\": {\"outlinewidth\": 0, \"ticks\": \"\"}}, \"type\": \"scatter\"}], \"scatter3d\": [{\"line\": {\"colorbar\": {\"outlinewidth\": 0, \"ticks\": \"\"}}, \"marker\": {\"colorbar\": {\"outlinewidth\": 0, \"ticks\": \"\"}}, \"type\": \"scatter3d\"}], \"scattercarpet\": [{\"marker\": {\"colorbar\": {\"outlinewidth\": 0, \"ticks\": \"\"}}, \"type\": \"scattercarpet\"}], \"scattergeo\": [{\"marker\": {\"colorbar\": {\"outlinewidth\": 0, \"ticks\": \"\"}}, \"type\": \"scattergeo\"}], \"scattergl\": [{\"marker\": {\"colorbar\": {\"outlinewidth\": 0, \"ticks\": \"\"}}, \"type\": \"scattergl\"}], \"scattermapbox\": [{\"marker\": {\"colorbar\": {\"outlinewidth\": 0, \"ticks\": \"\"}}, \"type\": \"scattermapbox\"}], \"scatterpolar\": [{\"marker\": {\"colorbar\": {\"outlinewidth\": 0, \"ticks\": \"\"}}, \"type\": \"scatterpolar\"}], \"scatterpolargl\": [{\"marker\": {\"colorbar\": {\"outlinewidth\": 0, \"ticks\": \"\"}}, \"type\": \"scatterpolargl\"}], \"scatterternary\": [{\"marker\": {\"colorbar\": {\"outlinewidth\": 0, \"ticks\": \"\"}}, \"type\": \"scatterternary\"}], \"surface\": [{\"colorbar\": {\"outlinewidth\": 0, \"ticks\": \"\"}, \"colorscale\": [[0.0, \"#0d0887\"], [0.1111111111111111, \"#46039f\"], [0.2222222222222222, \"#7201a8\"], [0.3333333333333333, \"#9c179e\"], [0.4444444444444444, \"#bd3786\"], [0.5555555555555556, \"#d8576b\"], [0.6666666666666666, \"#ed7953\"], [0.7777777777777778, \"#fb9f3a\"], [0.8888888888888888, \"#fdca26\"], [1.0, \"#f0f921\"]], \"type\": \"surface\"}], \"table\": [{\"cells\": {\"fill\": {\"color\": \"#EBF0F8\"}, \"line\": {\"color\": \"white\"}}, \"header\": {\"fill\": {\"color\": \"#C8D4E3\"}, \"line\": {\"color\": \"white\"}}, \"type\": \"table\"}]}, \"layout\": {\"annotationdefaults\": {\"arrowcolor\": \"#2a3f5f\", \"arrowhead\": 0, \"arrowwidth\": 1}, \"coloraxis\": {\"colorbar\": {\"outlinewidth\": 0, \"ticks\": \"\"}}, \"colorscale\": {\"diverging\": [[0, \"#8e0152\"], [0.1, \"#c51b7d\"], [0.2, \"#de77ae\"], [0.3, \"#f1b6da\"], [0.4, \"#fde0ef\"], [0.5, \"#f7f7f7\"], [0.6, \"#e6f5d0\"], [0.7, \"#b8e186\"], [0.8, \"#7fbc41\"], [0.9, \"#4d9221\"], [1, \"#276419\"]], \"sequential\": [[0.0, \"#0d0887\"], [0.1111111111111111, \"#46039f\"], [0.2222222222222222, \"#7201a8\"], [0.3333333333333333, \"#9c179e\"], [0.4444444444444444, \"#bd3786\"], [0.5555555555555556, \"#d8576b\"], [0.6666666666666666, \"#ed7953\"], [0.7777777777777778, \"#fb9f3a\"], [0.8888888888888888, \"#fdca26\"], [1.0, \"#f0f921\"]], \"sequentialminus\": [[0.0, \"#0d0887\"], [0.1111111111111111, \"#46039f\"], [0.2222222222222222, \"#7201a8\"], [0.3333333333333333, \"#9c179e\"], [0.4444444444444444, \"#bd3786\"], [0.5555555555555556, \"#d8576b\"], [0.6666666666666666, \"#ed7953\"], [0.7777777777777778, \"#fb9f3a\"], [0.8888888888888888, \"#fdca26\"], [1.0, \"#f0f921\"]]}, \"colorway\": [\"#636efa\", \"#EF553B\", \"#00cc96\", \"#ab63fa\", \"#FFA15A\", \"#19d3f3\", \"#FF6692\", \"#B6E880\", \"#FF97FF\", \"#FECB52\"], \"font\": {\"color\": \"#2a3f5f\"}, \"geo\": {\"bgcolor\": \"white\", \"lakecolor\": \"white\", \"landcolor\": \"#E5ECF6\", \"showlakes\": true, \"showland\": true, \"subunitcolor\": \"white\"}, \"hoverlabel\": {\"align\": \"left\"}, \"hovermode\": \"closest\", \"mapbox\": {\"style\": \"light\"}, \"paper_bgcolor\": \"white\", \"plot_bgcolor\": \"#E5ECF6\", \"polar\": {\"angularaxis\": {\"gridcolor\": \"white\", \"linecolor\": \"white\", \"ticks\": \"\"}, \"bgcolor\": \"#E5ECF6\", \"radialaxis\": {\"gridcolor\": \"white\", \"linecolor\": \"white\", \"ticks\": \"\"}}, \"scene\": {\"xaxis\": {\"backgroundcolor\": \"#E5ECF6\", \"gridcolor\": \"white\", \"gridwidth\": 2, \"linecolor\": \"white\", \"showbackground\": true, \"ticks\": \"\", \"zerolinecolor\": \"white\"}, \"yaxis\": {\"backgroundcolor\": \"#E5ECF6\", \"gridcolor\": \"white\", \"gridwidth\": 2, \"linecolor\": \"white\", \"showbackground\": true, \"ticks\": \"\", \"zerolinecolor\": \"white\"}, \"zaxis\": {\"backgroundcolor\": \"#E5ECF6\", \"gridcolor\": \"white\", \"gridwidth\": 2, \"linecolor\": \"white\", \"showbackground\": true, \"ticks\": \"\", \"zerolinecolor\": \"white\"}}, \"shapedefaults\": {\"line\": {\"color\": \"#2a3f5f\"}}, \"ternary\": {\"aaxis\": {\"gridcolor\": \"white\", \"linecolor\": \"white\", \"ticks\": \"\"}, \"baxis\": {\"gridcolor\": \"white\", \"linecolor\": \"white\", \"ticks\": \"\"}, \"bgcolor\": \"#E5ECF6\", \"caxis\": {\"gridcolor\": \"white\", \"linecolor\": \"white\", \"ticks\": \"\"}}, \"title\": {\"x\": 0.05}, \"xaxis\": {\"automargin\": true, \"gridcolor\": \"white\", \"linecolor\": \"white\", \"ticks\": \"\", \"title\": {\"standoff\": 15}, \"zerolinecolor\": \"white\", \"zerolinewidth\": 2}, \"yaxis\": {\"automargin\": true, \"gridcolor\": \"white\", \"linecolor\": \"white\", \"ticks\": \"\", \"title\": {\"standoff\": 15}, \"zerolinecolor\": \"white\", \"zerolinewidth\": 2}}}, \"title\": {\"text\": \"Learning curve\"}, \"xaxis\": {\"anchor\": \"y\", \"domain\": [0.0, 1.0], \"title\": {\"text\": \"index\"}}, \"yaxis\": {\"anchor\": \"x\", \"domain\": [0.0, 1.0], \"title\": {\"text\": \"RMSE\"}}},\n",
       "                        {\"responsive\": true}\n",
       "                    ).then(function(){\n",
       "                            \n",
       "var gd = document.getElementById('9b0ea6ed-97f8-42f8-88bf-f34546279ac6');\n",
       "var x = new MutationObserver(function (mutations, observer) {{\n",
       "        var display = window.getComputedStyle(gd).display;\n",
       "        if (!display || display === 'none') {{\n",
       "            console.log([gd, 'removed!']);\n",
       "            Plotly.purge(gd);\n",
       "            observer.disconnect();\n",
       "        }}\n",
       "}});\n",
       "\n",
       "// Listen for the removal of the full notebook cells\n",
       "var notebookContainer = gd.closest('#notebook-container');\n",
       "if (notebookContainer) {{\n",
       "    x.observe(notebookContainer, {childList: true});\n",
       "}}\n",
       "\n",
       "// Listen for the clearing of the current output cell\n",
       "var outputEl = gd.closest('.output');\n",
       "if (outputEl) {{\n",
       "    x.observe(outputEl, {childList: true});\n",
       "}}\n",
       "\n",
       "                        })\n",
       "                };\n",
       "                });\n",
       "            </script>\n",
       "        </div>"
      ]
     },
     "metadata": {},
     "output_type": "display_data"
    }
   ],
   "source": [
    "# num_leaves << 2^(max_depth)\n",
    "\n",
    "cbr = CatBoostRegressor(\n",
    "    learning_rate=0.1,\n",
    "    iterations=300,\n",
    "#     depth=6,\n",
    "#     max_leaves=30,\n",
    "#     subsample=0.9,\n",
    "#     penalties_coefficient=1,\n",
    "#     l2_leaf_reg=10,\n",
    "    min_data_in_leaf=5,\n",
    "    grow_policy='Lossguide', # SymmetricTree, Lossguide, Depthwise, Region\n",
    "    boost_from_average=True,\n",
    "    eval_metric='RMSE',\n",
    "    od_type='IncToDec' # IncToDec, Iter\n",
    ")\n",
    "\n",
    "history = cbr.fit(X=X_train, y=y_train,\n",
    "                  eval_set = eval_set, verbose=0)\n",
    "\n",
    "y_pred_train = cbr.predict(X_train)\n",
    "y_pred_val = cbr.predict(X_val)\n",
    "\n",
    "train_rmse = mean_squared_error(y_true=y_train, y_pred=y_pred_train, squared=False)\n",
    "val_rmse = mean_squared_error(y_true=y_val, y_pred=y_pred_val, squared=False)\n",
    "print(f'RMSE Train: {train_rmse: .8f}')\n",
    "print(f'RMSE Valid: {val_rmse: .8f}\\tRatio (val/train): {val_rmse/train_rmse: .5f}')\n",
    "\n",
    "plot_history(history, metric_key='RMSE')"
   ]
  },
  {
   "cell_type": "code",
   "execution_count": 14,
   "metadata": {
    "ExecuteTime": {
     "end_time": "2020-06-20T10:19:48.821437Z",
     "start_time": "2020-06-20T10:19:48.578558Z"
    },
    "scrolled": false
   },
   "outputs": [
    {
     "data": {
      "application/vnd.plotly.v1+json": {
       "config": {
        "plotlyServerURL": "https://plot.ly"
       },
       "data": [
        {
         "alignmentgroup": "True",
         "hovertemplate": "feature=%{x}<br>importance=%{y}<extra></extra>",
         "legendgroup": "",
         "marker": {
          "color": "#636efa"
         },
         "name": "",
         "offsetgroup": "",
         "orientation": "v",
         "showlegend": false,
         "textposition": "auto",
         "type": "bar",
         "x": [
          "feature_18",
          "feature_12",
          "feature_9",
          "feature_10",
          "feature_8",
          "feature_19",
          "feature_21",
          "feature_22",
          "feature_2",
          "feature_23",
          "feature_27",
          "feature_17",
          "feature_4",
          "feature_6",
          "feature_25",
          "feature_20",
          "feature_1",
          "feature_15",
          "feature_24",
          "feature_16",
          "feature_14",
          "feature_29",
          "feature_7",
          "feature_13",
          "feature_26",
          "feature_3",
          "feature_28",
          "feature_5",
          "feature_0",
          "feature_11"
         ],
         "xaxis": "x",
         "y": [
          35.406137032014115,
          11.853127772674606,
          8.167530878622333,
          6.0720792316172485,
          5.5367779168951525,
          4.048316337516354,
          3.6304762510756396,
          3.52086624078149,
          3.3134463389273012,
          2.766306321274515,
          2.7247016396947994,
          1.8307471580810357,
          1.5914942633969145,
          1.5074263525627738,
          1.2252255688278815,
          1.118241014592691,
          0.9170213758565,
          0.8967266131755837,
          0.8231640605554126,
          0.8209120006401396,
          0.7516022309469639,
          0.5438963621329883,
          0.3018739171580344,
          0.27679012150489113,
          0.1245406423090955,
          0.09929397130452436,
          0.07744346575403876,
          0.04256472473985194,
          0.010212963190087809,
          0.0010572321770597802
         ],
         "yaxis": "y"
        }
       ],
       "layout": {
        "barmode": "relative",
        "legend": {
         "tracegroupgap": 0
        },
        "margin": {
         "t": 60
        },
        "template": {
         "data": {
          "bar": [
           {
            "error_x": {
             "color": "#2a3f5f"
            },
            "error_y": {
             "color": "#2a3f5f"
            },
            "marker": {
             "line": {
              "color": "#E5ECF6",
              "width": 0.5
             }
            },
            "type": "bar"
           }
          ],
          "barpolar": [
           {
            "marker": {
             "line": {
              "color": "#E5ECF6",
              "width": 0.5
             }
            },
            "type": "barpolar"
           }
          ],
          "carpet": [
           {
            "aaxis": {
             "endlinecolor": "#2a3f5f",
             "gridcolor": "white",
             "linecolor": "white",
             "minorgridcolor": "white",
             "startlinecolor": "#2a3f5f"
            },
            "baxis": {
             "endlinecolor": "#2a3f5f",
             "gridcolor": "white",
             "linecolor": "white",
             "minorgridcolor": "white",
             "startlinecolor": "#2a3f5f"
            },
            "type": "carpet"
           }
          ],
          "choropleth": [
           {
            "colorbar": {
             "outlinewidth": 0,
             "ticks": ""
            },
            "type": "choropleth"
           }
          ],
          "contour": [
           {
            "colorbar": {
             "outlinewidth": 0,
             "ticks": ""
            },
            "colorscale": [
             [
              0,
              "#0d0887"
             ],
             [
              0.1111111111111111,
              "#46039f"
             ],
             [
              0.2222222222222222,
              "#7201a8"
             ],
             [
              0.3333333333333333,
              "#9c179e"
             ],
             [
              0.4444444444444444,
              "#bd3786"
             ],
             [
              0.5555555555555556,
              "#d8576b"
             ],
             [
              0.6666666666666666,
              "#ed7953"
             ],
             [
              0.7777777777777778,
              "#fb9f3a"
             ],
             [
              0.8888888888888888,
              "#fdca26"
             ],
             [
              1,
              "#f0f921"
             ]
            ],
            "type": "contour"
           }
          ],
          "contourcarpet": [
           {
            "colorbar": {
             "outlinewidth": 0,
             "ticks": ""
            },
            "type": "contourcarpet"
           }
          ],
          "heatmap": [
           {
            "colorbar": {
             "outlinewidth": 0,
             "ticks": ""
            },
            "colorscale": [
             [
              0,
              "#0d0887"
             ],
             [
              0.1111111111111111,
              "#46039f"
             ],
             [
              0.2222222222222222,
              "#7201a8"
             ],
             [
              0.3333333333333333,
              "#9c179e"
             ],
             [
              0.4444444444444444,
              "#bd3786"
             ],
             [
              0.5555555555555556,
              "#d8576b"
             ],
             [
              0.6666666666666666,
              "#ed7953"
             ],
             [
              0.7777777777777778,
              "#fb9f3a"
             ],
             [
              0.8888888888888888,
              "#fdca26"
             ],
             [
              1,
              "#f0f921"
             ]
            ],
            "type": "heatmap"
           }
          ],
          "heatmapgl": [
           {
            "colorbar": {
             "outlinewidth": 0,
             "ticks": ""
            },
            "colorscale": [
             [
              0,
              "#0d0887"
             ],
             [
              0.1111111111111111,
              "#46039f"
             ],
             [
              0.2222222222222222,
              "#7201a8"
             ],
             [
              0.3333333333333333,
              "#9c179e"
             ],
             [
              0.4444444444444444,
              "#bd3786"
             ],
             [
              0.5555555555555556,
              "#d8576b"
             ],
             [
              0.6666666666666666,
              "#ed7953"
             ],
             [
              0.7777777777777778,
              "#fb9f3a"
             ],
             [
              0.8888888888888888,
              "#fdca26"
             ],
             [
              1,
              "#f0f921"
             ]
            ],
            "type": "heatmapgl"
           }
          ],
          "histogram": [
           {
            "marker": {
             "colorbar": {
              "outlinewidth": 0,
              "ticks": ""
             }
            },
            "type": "histogram"
           }
          ],
          "histogram2d": [
           {
            "colorbar": {
             "outlinewidth": 0,
             "ticks": ""
            },
            "colorscale": [
             [
              0,
              "#0d0887"
             ],
             [
              0.1111111111111111,
              "#46039f"
             ],
             [
              0.2222222222222222,
              "#7201a8"
             ],
             [
              0.3333333333333333,
              "#9c179e"
             ],
             [
              0.4444444444444444,
              "#bd3786"
             ],
             [
              0.5555555555555556,
              "#d8576b"
             ],
             [
              0.6666666666666666,
              "#ed7953"
             ],
             [
              0.7777777777777778,
              "#fb9f3a"
             ],
             [
              0.8888888888888888,
              "#fdca26"
             ],
             [
              1,
              "#f0f921"
             ]
            ],
            "type": "histogram2d"
           }
          ],
          "histogram2dcontour": [
           {
            "colorbar": {
             "outlinewidth": 0,
             "ticks": ""
            },
            "colorscale": [
             [
              0,
              "#0d0887"
             ],
             [
              0.1111111111111111,
              "#46039f"
             ],
             [
              0.2222222222222222,
              "#7201a8"
             ],
             [
              0.3333333333333333,
              "#9c179e"
             ],
             [
              0.4444444444444444,
              "#bd3786"
             ],
             [
              0.5555555555555556,
              "#d8576b"
             ],
             [
              0.6666666666666666,
              "#ed7953"
             ],
             [
              0.7777777777777778,
              "#fb9f3a"
             ],
             [
              0.8888888888888888,
              "#fdca26"
             ],
             [
              1,
              "#f0f921"
             ]
            ],
            "type": "histogram2dcontour"
           }
          ],
          "mesh3d": [
           {
            "colorbar": {
             "outlinewidth": 0,
             "ticks": ""
            },
            "type": "mesh3d"
           }
          ],
          "parcoords": [
           {
            "line": {
             "colorbar": {
              "outlinewidth": 0,
              "ticks": ""
             }
            },
            "type": "parcoords"
           }
          ],
          "pie": [
           {
            "automargin": true,
            "type": "pie"
           }
          ],
          "scatter": [
           {
            "marker": {
             "colorbar": {
              "outlinewidth": 0,
              "ticks": ""
             }
            },
            "type": "scatter"
           }
          ],
          "scatter3d": [
           {
            "line": {
             "colorbar": {
              "outlinewidth": 0,
              "ticks": ""
             }
            },
            "marker": {
             "colorbar": {
              "outlinewidth": 0,
              "ticks": ""
             }
            },
            "type": "scatter3d"
           }
          ],
          "scattercarpet": [
           {
            "marker": {
             "colorbar": {
              "outlinewidth": 0,
              "ticks": ""
             }
            },
            "type": "scattercarpet"
           }
          ],
          "scattergeo": [
           {
            "marker": {
             "colorbar": {
              "outlinewidth": 0,
              "ticks": ""
             }
            },
            "type": "scattergeo"
           }
          ],
          "scattergl": [
           {
            "marker": {
             "colorbar": {
              "outlinewidth": 0,
              "ticks": ""
             }
            },
            "type": "scattergl"
           }
          ],
          "scattermapbox": [
           {
            "marker": {
             "colorbar": {
              "outlinewidth": 0,
              "ticks": ""
             }
            },
            "type": "scattermapbox"
           }
          ],
          "scatterpolar": [
           {
            "marker": {
             "colorbar": {
              "outlinewidth": 0,
              "ticks": ""
             }
            },
            "type": "scatterpolar"
           }
          ],
          "scatterpolargl": [
           {
            "marker": {
             "colorbar": {
              "outlinewidth": 0,
              "ticks": ""
             }
            },
            "type": "scatterpolargl"
           }
          ],
          "scatterternary": [
           {
            "marker": {
             "colorbar": {
              "outlinewidth": 0,
              "ticks": ""
             }
            },
            "type": "scatterternary"
           }
          ],
          "surface": [
           {
            "colorbar": {
             "outlinewidth": 0,
             "ticks": ""
            },
            "colorscale": [
             [
              0,
              "#0d0887"
             ],
             [
              0.1111111111111111,
              "#46039f"
             ],
             [
              0.2222222222222222,
              "#7201a8"
             ],
             [
              0.3333333333333333,
              "#9c179e"
             ],
             [
              0.4444444444444444,
              "#bd3786"
             ],
             [
              0.5555555555555556,
              "#d8576b"
             ],
             [
              0.6666666666666666,
              "#ed7953"
             ],
             [
              0.7777777777777778,
              "#fb9f3a"
             ],
             [
              0.8888888888888888,
              "#fdca26"
             ],
             [
              1,
              "#f0f921"
             ]
            ],
            "type": "surface"
           }
          ],
          "table": [
           {
            "cells": {
             "fill": {
              "color": "#EBF0F8"
             },
             "line": {
              "color": "white"
             }
            },
            "header": {
             "fill": {
              "color": "#C8D4E3"
             },
             "line": {
              "color": "white"
             }
            },
            "type": "table"
           }
          ]
         },
         "layout": {
          "annotationdefaults": {
           "arrowcolor": "#2a3f5f",
           "arrowhead": 0,
           "arrowwidth": 1
          },
          "coloraxis": {
           "colorbar": {
            "outlinewidth": 0,
            "ticks": ""
           }
          },
          "colorscale": {
           "diverging": [
            [
             0,
             "#8e0152"
            ],
            [
             0.1,
             "#c51b7d"
            ],
            [
             0.2,
             "#de77ae"
            ],
            [
             0.3,
             "#f1b6da"
            ],
            [
             0.4,
             "#fde0ef"
            ],
            [
             0.5,
             "#f7f7f7"
            ],
            [
             0.6,
             "#e6f5d0"
            ],
            [
             0.7,
             "#b8e186"
            ],
            [
             0.8,
             "#7fbc41"
            ],
            [
             0.9,
             "#4d9221"
            ],
            [
             1,
             "#276419"
            ]
           ],
           "sequential": [
            [
             0,
             "#0d0887"
            ],
            [
             0.1111111111111111,
             "#46039f"
            ],
            [
             0.2222222222222222,
             "#7201a8"
            ],
            [
             0.3333333333333333,
             "#9c179e"
            ],
            [
             0.4444444444444444,
             "#bd3786"
            ],
            [
             0.5555555555555556,
             "#d8576b"
            ],
            [
             0.6666666666666666,
             "#ed7953"
            ],
            [
             0.7777777777777778,
             "#fb9f3a"
            ],
            [
             0.8888888888888888,
             "#fdca26"
            ],
            [
             1,
             "#f0f921"
            ]
           ],
           "sequentialminus": [
            [
             0,
             "#0d0887"
            ],
            [
             0.1111111111111111,
             "#46039f"
            ],
            [
             0.2222222222222222,
             "#7201a8"
            ],
            [
             0.3333333333333333,
             "#9c179e"
            ],
            [
             0.4444444444444444,
             "#bd3786"
            ],
            [
             0.5555555555555556,
             "#d8576b"
            ],
            [
             0.6666666666666666,
             "#ed7953"
            ],
            [
             0.7777777777777778,
             "#fb9f3a"
            ],
            [
             0.8888888888888888,
             "#fdca26"
            ],
            [
             1,
             "#f0f921"
            ]
           ]
          },
          "colorway": [
           "#636efa",
           "#EF553B",
           "#00cc96",
           "#ab63fa",
           "#FFA15A",
           "#19d3f3",
           "#FF6692",
           "#B6E880",
           "#FF97FF",
           "#FECB52"
          ],
          "font": {
           "color": "#2a3f5f"
          },
          "geo": {
           "bgcolor": "white",
           "lakecolor": "white",
           "landcolor": "#E5ECF6",
           "showlakes": true,
           "showland": true,
           "subunitcolor": "white"
          },
          "hoverlabel": {
           "align": "left"
          },
          "hovermode": "closest",
          "mapbox": {
           "style": "light"
          },
          "paper_bgcolor": "white",
          "plot_bgcolor": "#E5ECF6",
          "polar": {
           "angularaxis": {
            "gridcolor": "white",
            "linecolor": "white",
            "ticks": ""
           },
           "bgcolor": "#E5ECF6",
           "radialaxis": {
            "gridcolor": "white",
            "linecolor": "white",
            "ticks": ""
           }
          },
          "scene": {
           "xaxis": {
            "backgroundcolor": "#E5ECF6",
            "gridcolor": "white",
            "gridwidth": 2,
            "linecolor": "white",
            "showbackground": true,
            "ticks": "",
            "zerolinecolor": "white"
           },
           "yaxis": {
            "backgroundcolor": "#E5ECF6",
            "gridcolor": "white",
            "gridwidth": 2,
            "linecolor": "white",
            "showbackground": true,
            "ticks": "",
            "zerolinecolor": "white"
           },
           "zaxis": {
            "backgroundcolor": "#E5ECF6",
            "gridcolor": "white",
            "gridwidth": 2,
            "linecolor": "white",
            "showbackground": true,
            "ticks": "",
            "zerolinecolor": "white"
           }
          },
          "shapedefaults": {
           "line": {
            "color": "#2a3f5f"
           }
          },
          "ternary": {
           "aaxis": {
            "gridcolor": "white",
            "linecolor": "white",
            "ticks": ""
           },
           "baxis": {
            "gridcolor": "white",
            "linecolor": "white",
            "ticks": ""
           },
           "bgcolor": "#E5ECF6",
           "caxis": {
            "gridcolor": "white",
            "linecolor": "white",
            "ticks": ""
           }
          },
          "title": {
           "x": 0.05
          },
          "xaxis": {
           "automargin": true,
           "gridcolor": "white",
           "linecolor": "white",
           "ticks": "",
           "title": {
            "standoff": 15
           },
           "zerolinecolor": "white",
           "zerolinewidth": 2
          },
          "yaxis": {
           "automargin": true,
           "gridcolor": "white",
           "linecolor": "white",
           "ticks": "",
           "title": {
            "standoff": 15
           },
           "zerolinecolor": "white",
           "zerolinewidth": 2
          }
         }
        },
        "xaxis": {
         "anchor": "y",
         "domain": [
          0,
          1
         ],
         "title": {
          "text": "feature"
         }
        },
        "yaxis": {
         "anchor": "x",
         "domain": [
          0,
          1
         ],
         "title": {
          "text": "importance"
         }
        }
       }
      },
      "text/html": [
       "<div>\n",
       "        \n",
       "        \n",
       "            <div id=\"e112aef1-8417-45d8-9b72-f6bde4d6288b\" class=\"plotly-graph-div\" style=\"height:525px; width:100%;\"></div>\n",
       "            <script type=\"text/javascript\">\n",
       "                require([\"plotly\"], function(Plotly) {\n",
       "                    window.PLOTLYENV=window.PLOTLYENV || {};\n",
       "                    \n",
       "                if (document.getElementById(\"e112aef1-8417-45d8-9b72-f6bde4d6288b\")) {\n",
       "                    Plotly.newPlot(\n",
       "                        'e112aef1-8417-45d8-9b72-f6bde4d6288b',\n",
       "                        [{\"alignmentgroup\": \"True\", \"hovertemplate\": \"feature=%{x}<br>importance=%{y}<extra></extra>\", \"legendgroup\": \"\", \"marker\": {\"color\": \"#636efa\"}, \"name\": \"\", \"offsetgroup\": \"\", \"orientation\": \"v\", \"showlegend\": false, \"textposition\": \"auto\", \"type\": \"bar\", \"x\": [\"feature_18\", \"feature_12\", \"feature_9\", \"feature_10\", \"feature_8\", \"feature_19\", \"feature_21\", \"feature_22\", \"feature_2\", \"feature_23\", \"feature_27\", \"feature_17\", \"feature_4\", \"feature_6\", \"feature_25\", \"feature_20\", \"feature_1\", \"feature_15\", \"feature_24\", \"feature_16\", \"feature_14\", \"feature_29\", \"feature_7\", \"feature_13\", \"feature_26\", \"feature_3\", \"feature_28\", \"feature_5\", \"feature_0\", \"feature_11\"], \"xaxis\": \"x\", \"y\": [35.406137032014115, 11.853127772674606, 8.167530878622333, 6.0720792316172485, 5.5367779168951525, 4.048316337516354, 3.6304762510756396, 3.52086624078149, 3.3134463389273012, 2.766306321274515, 2.7247016396947994, 1.8307471580810357, 1.5914942633969145, 1.5074263525627738, 1.2252255688278815, 1.118241014592691, 0.9170213758565, 0.8967266131755837, 0.8231640605554126, 0.8209120006401396, 0.7516022309469639, 0.5438963621329883, 0.3018739171580344, 0.27679012150489113, 0.1245406423090955, 0.09929397130452436, 0.07744346575403876, 0.04256472473985194, 0.010212963190087809, 0.0010572321770597802], \"yaxis\": \"y\"}],\n",
       "                        {\"barmode\": \"relative\", \"legend\": {\"tracegroupgap\": 0}, \"margin\": {\"t\": 60}, \"template\": {\"data\": {\"bar\": [{\"error_x\": {\"color\": \"#2a3f5f\"}, \"error_y\": {\"color\": \"#2a3f5f\"}, \"marker\": {\"line\": {\"color\": \"#E5ECF6\", \"width\": 0.5}}, \"type\": \"bar\"}], \"barpolar\": [{\"marker\": {\"line\": {\"color\": \"#E5ECF6\", \"width\": 0.5}}, \"type\": \"barpolar\"}], \"carpet\": [{\"aaxis\": {\"endlinecolor\": \"#2a3f5f\", \"gridcolor\": \"white\", \"linecolor\": \"white\", \"minorgridcolor\": \"white\", \"startlinecolor\": \"#2a3f5f\"}, \"baxis\": {\"endlinecolor\": \"#2a3f5f\", \"gridcolor\": \"white\", \"linecolor\": \"white\", \"minorgridcolor\": \"white\", \"startlinecolor\": \"#2a3f5f\"}, \"type\": \"carpet\"}], \"choropleth\": [{\"colorbar\": {\"outlinewidth\": 0, \"ticks\": \"\"}, \"type\": \"choropleth\"}], \"contour\": [{\"colorbar\": {\"outlinewidth\": 0, \"ticks\": \"\"}, \"colorscale\": [[0.0, \"#0d0887\"], [0.1111111111111111, \"#46039f\"], [0.2222222222222222, \"#7201a8\"], [0.3333333333333333, \"#9c179e\"], [0.4444444444444444, \"#bd3786\"], [0.5555555555555556, \"#d8576b\"], [0.6666666666666666, \"#ed7953\"], [0.7777777777777778, \"#fb9f3a\"], [0.8888888888888888, \"#fdca26\"], [1.0, \"#f0f921\"]], \"type\": \"contour\"}], \"contourcarpet\": [{\"colorbar\": {\"outlinewidth\": 0, \"ticks\": \"\"}, \"type\": \"contourcarpet\"}], \"heatmap\": [{\"colorbar\": {\"outlinewidth\": 0, \"ticks\": \"\"}, \"colorscale\": [[0.0, \"#0d0887\"], [0.1111111111111111, \"#46039f\"], [0.2222222222222222, \"#7201a8\"], [0.3333333333333333, \"#9c179e\"], [0.4444444444444444, \"#bd3786\"], [0.5555555555555556, \"#d8576b\"], [0.6666666666666666, \"#ed7953\"], [0.7777777777777778, \"#fb9f3a\"], [0.8888888888888888, \"#fdca26\"], [1.0, \"#f0f921\"]], \"type\": \"heatmap\"}], \"heatmapgl\": [{\"colorbar\": {\"outlinewidth\": 0, \"ticks\": \"\"}, \"colorscale\": [[0.0, \"#0d0887\"], [0.1111111111111111, \"#46039f\"], [0.2222222222222222, \"#7201a8\"], [0.3333333333333333, \"#9c179e\"], [0.4444444444444444, \"#bd3786\"], [0.5555555555555556, \"#d8576b\"], [0.6666666666666666, \"#ed7953\"], [0.7777777777777778, \"#fb9f3a\"], [0.8888888888888888, \"#fdca26\"], [1.0, \"#f0f921\"]], \"type\": \"heatmapgl\"}], \"histogram\": [{\"marker\": {\"colorbar\": {\"outlinewidth\": 0, \"ticks\": \"\"}}, \"type\": \"histogram\"}], \"histogram2d\": [{\"colorbar\": {\"outlinewidth\": 0, \"ticks\": \"\"}, \"colorscale\": [[0.0, \"#0d0887\"], [0.1111111111111111, \"#46039f\"], [0.2222222222222222, \"#7201a8\"], [0.3333333333333333, \"#9c179e\"], [0.4444444444444444, \"#bd3786\"], [0.5555555555555556, \"#d8576b\"], [0.6666666666666666, \"#ed7953\"], [0.7777777777777778, \"#fb9f3a\"], [0.8888888888888888, \"#fdca26\"], [1.0, \"#f0f921\"]], \"type\": \"histogram2d\"}], \"histogram2dcontour\": [{\"colorbar\": {\"outlinewidth\": 0, \"ticks\": \"\"}, \"colorscale\": [[0.0, \"#0d0887\"], [0.1111111111111111, \"#46039f\"], [0.2222222222222222, \"#7201a8\"], [0.3333333333333333, \"#9c179e\"], [0.4444444444444444, \"#bd3786\"], [0.5555555555555556, \"#d8576b\"], [0.6666666666666666, \"#ed7953\"], [0.7777777777777778, \"#fb9f3a\"], [0.8888888888888888, \"#fdca26\"], [1.0, \"#f0f921\"]], \"type\": \"histogram2dcontour\"}], \"mesh3d\": [{\"colorbar\": {\"outlinewidth\": 0, \"ticks\": \"\"}, \"type\": \"mesh3d\"}], \"parcoords\": [{\"line\": {\"colorbar\": {\"outlinewidth\": 0, \"ticks\": \"\"}}, \"type\": \"parcoords\"}], \"pie\": [{\"automargin\": true, \"type\": \"pie\"}], \"scatter\": [{\"marker\": {\"colorbar\": {\"outlinewidth\": 0, \"ticks\": \"\"}}, \"type\": \"scatter\"}], \"scatter3d\": [{\"line\": {\"colorbar\": {\"outlinewidth\": 0, \"ticks\": \"\"}}, \"marker\": {\"colorbar\": {\"outlinewidth\": 0, \"ticks\": \"\"}}, \"type\": \"scatter3d\"}], \"scattercarpet\": [{\"marker\": {\"colorbar\": {\"outlinewidth\": 0, \"ticks\": \"\"}}, \"type\": \"scattercarpet\"}], \"scattergeo\": [{\"marker\": {\"colorbar\": {\"outlinewidth\": 0, \"ticks\": \"\"}}, \"type\": \"scattergeo\"}], \"scattergl\": [{\"marker\": {\"colorbar\": {\"outlinewidth\": 0, \"ticks\": \"\"}}, \"type\": \"scattergl\"}], \"scattermapbox\": [{\"marker\": {\"colorbar\": {\"outlinewidth\": 0, \"ticks\": \"\"}}, \"type\": \"scattermapbox\"}], \"scatterpolar\": [{\"marker\": {\"colorbar\": {\"outlinewidth\": 0, \"ticks\": \"\"}}, \"type\": \"scatterpolar\"}], \"scatterpolargl\": [{\"marker\": {\"colorbar\": {\"outlinewidth\": 0, \"ticks\": \"\"}}, \"type\": \"scatterpolargl\"}], \"scatterternary\": [{\"marker\": {\"colorbar\": {\"outlinewidth\": 0, \"ticks\": \"\"}}, \"type\": \"scatterternary\"}], \"surface\": [{\"colorbar\": {\"outlinewidth\": 0, \"ticks\": \"\"}, \"colorscale\": [[0.0, \"#0d0887\"], [0.1111111111111111, \"#46039f\"], [0.2222222222222222, \"#7201a8\"], [0.3333333333333333, \"#9c179e\"], [0.4444444444444444, \"#bd3786\"], [0.5555555555555556, \"#d8576b\"], [0.6666666666666666, \"#ed7953\"], [0.7777777777777778, \"#fb9f3a\"], [0.8888888888888888, \"#fdca26\"], [1.0, \"#f0f921\"]], \"type\": \"surface\"}], \"table\": [{\"cells\": {\"fill\": {\"color\": \"#EBF0F8\"}, \"line\": {\"color\": \"white\"}}, \"header\": {\"fill\": {\"color\": \"#C8D4E3\"}, \"line\": {\"color\": \"white\"}}, \"type\": \"table\"}]}, \"layout\": {\"annotationdefaults\": {\"arrowcolor\": \"#2a3f5f\", \"arrowhead\": 0, \"arrowwidth\": 1}, \"coloraxis\": {\"colorbar\": {\"outlinewidth\": 0, \"ticks\": \"\"}}, \"colorscale\": {\"diverging\": [[0, \"#8e0152\"], [0.1, \"#c51b7d\"], [0.2, \"#de77ae\"], [0.3, \"#f1b6da\"], [0.4, \"#fde0ef\"], [0.5, \"#f7f7f7\"], [0.6, \"#e6f5d0\"], [0.7, \"#b8e186\"], [0.8, \"#7fbc41\"], [0.9, \"#4d9221\"], [1, \"#276419\"]], \"sequential\": [[0.0, \"#0d0887\"], [0.1111111111111111, \"#46039f\"], [0.2222222222222222, \"#7201a8\"], [0.3333333333333333, \"#9c179e\"], [0.4444444444444444, \"#bd3786\"], [0.5555555555555556, \"#d8576b\"], [0.6666666666666666, \"#ed7953\"], [0.7777777777777778, \"#fb9f3a\"], [0.8888888888888888, \"#fdca26\"], [1.0, \"#f0f921\"]], \"sequentialminus\": [[0.0, \"#0d0887\"], [0.1111111111111111, \"#46039f\"], [0.2222222222222222, \"#7201a8\"], [0.3333333333333333, \"#9c179e\"], [0.4444444444444444, \"#bd3786\"], [0.5555555555555556, \"#d8576b\"], [0.6666666666666666, \"#ed7953\"], [0.7777777777777778, \"#fb9f3a\"], [0.8888888888888888, \"#fdca26\"], [1.0, \"#f0f921\"]]}, \"colorway\": [\"#636efa\", \"#EF553B\", \"#00cc96\", \"#ab63fa\", \"#FFA15A\", \"#19d3f3\", \"#FF6692\", \"#B6E880\", \"#FF97FF\", \"#FECB52\"], \"font\": {\"color\": \"#2a3f5f\"}, \"geo\": {\"bgcolor\": \"white\", \"lakecolor\": \"white\", \"landcolor\": \"#E5ECF6\", \"showlakes\": true, \"showland\": true, \"subunitcolor\": \"white\"}, \"hoverlabel\": {\"align\": \"left\"}, \"hovermode\": \"closest\", \"mapbox\": {\"style\": \"light\"}, \"paper_bgcolor\": \"white\", \"plot_bgcolor\": \"#E5ECF6\", \"polar\": {\"angularaxis\": {\"gridcolor\": \"white\", \"linecolor\": \"white\", \"ticks\": \"\"}, \"bgcolor\": \"#E5ECF6\", \"radialaxis\": {\"gridcolor\": \"white\", \"linecolor\": \"white\", \"ticks\": \"\"}}, \"scene\": {\"xaxis\": {\"backgroundcolor\": \"#E5ECF6\", \"gridcolor\": \"white\", \"gridwidth\": 2, \"linecolor\": \"white\", \"showbackground\": true, \"ticks\": \"\", \"zerolinecolor\": \"white\"}, \"yaxis\": {\"backgroundcolor\": \"#E5ECF6\", \"gridcolor\": \"white\", \"gridwidth\": 2, \"linecolor\": \"white\", \"showbackground\": true, \"ticks\": \"\", \"zerolinecolor\": \"white\"}, \"zaxis\": {\"backgroundcolor\": \"#E5ECF6\", \"gridcolor\": \"white\", \"gridwidth\": 2, \"linecolor\": \"white\", \"showbackground\": true, \"ticks\": \"\", \"zerolinecolor\": \"white\"}}, \"shapedefaults\": {\"line\": {\"color\": \"#2a3f5f\"}}, \"ternary\": {\"aaxis\": {\"gridcolor\": \"white\", \"linecolor\": \"white\", \"ticks\": \"\"}, \"baxis\": {\"gridcolor\": \"white\", \"linecolor\": \"white\", \"ticks\": \"\"}, \"bgcolor\": \"#E5ECF6\", \"caxis\": {\"gridcolor\": \"white\", \"linecolor\": \"white\", \"ticks\": \"\"}}, \"title\": {\"x\": 0.05}, \"xaxis\": {\"automargin\": true, \"gridcolor\": \"white\", \"linecolor\": \"white\", \"ticks\": \"\", \"title\": {\"standoff\": 15}, \"zerolinecolor\": \"white\", \"zerolinewidth\": 2}, \"yaxis\": {\"automargin\": true, \"gridcolor\": \"white\", \"linecolor\": \"white\", \"ticks\": \"\", \"title\": {\"standoff\": 15}, \"zerolinecolor\": \"white\", \"zerolinewidth\": 2}}}, \"xaxis\": {\"anchor\": \"y\", \"domain\": [0.0, 1.0], \"title\": {\"text\": \"feature\"}}, \"yaxis\": {\"anchor\": \"x\", \"domain\": [0.0, 1.0], \"title\": {\"text\": \"importance\"}}},\n",
       "                        {\"responsive\": true}\n",
       "                    ).then(function(){\n",
       "                            \n",
       "var gd = document.getElementById('e112aef1-8417-45d8-9b72-f6bde4d6288b');\n",
       "var x = new MutationObserver(function (mutations, observer) {{\n",
       "        var display = window.getComputedStyle(gd).display;\n",
       "        if (!display || display === 'none') {{\n",
       "            console.log([gd, 'removed!']);\n",
       "            Plotly.purge(gd);\n",
       "            observer.disconnect();\n",
       "        }}\n",
       "}});\n",
       "\n",
       "// Listen for the removal of the full notebook cells\n",
       "var notebookContainer = gd.closest('#notebook-container');\n",
       "if (notebookContainer) {{\n",
       "    x.observe(notebookContainer, {childList: true});\n",
       "}}\n",
       "\n",
       "// Listen for the clearing of the current output cell\n",
       "var outputEl = gd.closest('.output');\n",
       "if (outputEl) {{\n",
       "    x.observe(outputEl, {childList: true});\n",
       "}}\n",
       "\n",
       "                        })\n",
       "                };\n",
       "                });\n",
       "            </script>\n",
       "        </div>"
      ]
     },
     "metadata": {},
     "output_type": "display_data"
    }
   ],
   "source": [
    "df_imp = pd.DataFrame()\n",
    "df_imp['importance'] = cbr.feature_importances_\n",
    "df_imp['feature'] = X\n",
    "df_imp.sort_values(by='importance', ascending=False, inplace=True)\n",
    "\n",
    "px.bar(data_frame=df_imp, x='feature', y='importance')"
   ]
  },
  {
   "cell_type": "code",
   "execution_count": 15,
   "metadata": {
    "ExecuteTime": {
     "end_time": "2020-06-20T10:19:48.824440Z",
     "start_time": "2020-06-20T10:19:48.822438Z"
    }
   },
   "outputs": [],
   "source": [
    "# test = pd.get_dummies(test)"
   ]
  },
  {
   "cell_type": "code",
   "execution_count": 16,
   "metadata": {
    "ExecuteTime": {
     "end_time": "2020-06-20T10:19:48.831383Z",
     "start_time": "2020-06-20T10:19:48.825383Z"
    }
   },
   "outputs": [],
   "source": [
    "# galaxies_unseen_test = ['galaxy_Andromeda XIX[60]', 'galaxy_NGC 5253', 'galaxy_Tucana Dwarf',\n",
    "#        'galaxy_Andromeda XXIV', 'Population..ages.15a..64..millions.', 'galaxy_Hercules Dwarf',\n",
    "#        'Unemployment..youth....ages.15a..24.', 'galaxy_Andromeda XXII[57]', 'galaxy_Andromeda XVIII[60]',\n",
    "#        'galaxy_Triangulum Galaxy (M33)', 'galaxy_Andromeda XII']\n",
    "\n",
    "# for galaxy in galaxies_unseen_test:\n",
    "#     test[galaxy] = 0\n",
    "    \n",
    "X_test = test[X].to_numpy()"
   ]
  },
  {
   "cell_type": "code",
   "execution_count": 17,
   "metadata": {
    "ExecuteTime": {
     "end_time": "2020-06-20T10:19:48.840391Z",
     "start_time": "2020-06-20T10:19:48.832384Z"
    },
    "scrolled": true
   },
   "outputs": [],
   "source": [
    "y_pred_test = cbr.predict(X_test)"
   ]
  },
  {
   "cell_type": "code",
   "execution_count": 18,
   "metadata": {
    "ExecuteTime": {
     "end_time": "2020-06-20T10:19:48.849399Z",
     "start_time": "2020-06-20T10:19:48.841392Z"
    }
   },
   "outputs": [
    {
     "data": {
      "text/html": [
       "<div>\n",
       "<style scoped>\n",
       "    .dataframe tbody tr th:only-of-type {\n",
       "        vertical-align: middle;\n",
       "    }\n",
       "\n",
       "    .dataframe tbody tr th {\n",
       "        vertical-align: top;\n",
       "    }\n",
       "\n",
       "    .dataframe thead th {\n",
       "        text-align: right;\n",
       "    }\n",
       "</style>\n",
       "<table border=\"1\" class=\"dataframe\">\n",
       "  <thead>\n",
       "    <tr style=\"text-align: right;\">\n",
       "      <th></th>\n",
       "      <th>Index</th>\n",
       "      <th>y_pred</th>\n",
       "    </tr>\n",
       "  </thead>\n",
       "  <tbody>\n",
       "    <tr>\n",
       "      <th>0</th>\n",
       "      <td>0</td>\n",
       "      <td>0.046577</td>\n",
       "    </tr>\n",
       "    <tr>\n",
       "      <th>1</th>\n",
       "      <td>1</td>\n",
       "      <td>0.045238</td>\n",
       "    </tr>\n",
       "    <tr>\n",
       "      <th>2</th>\n",
       "      <td>2</td>\n",
       "      <td>0.043416</td>\n",
       "    </tr>\n",
       "    <tr>\n",
       "      <th>3</th>\n",
       "      <td>3</td>\n",
       "      <td>0.043022</td>\n",
       "    </tr>\n",
       "    <tr>\n",
       "      <th>4</th>\n",
       "      <td>4</td>\n",
       "      <td>0.042803</td>\n",
       "    </tr>\n",
       "    <tr>\n",
       "      <th>...</th>\n",
       "      <td>...</td>\n",
       "      <td>...</td>\n",
       "    </tr>\n",
       "    <tr>\n",
       "      <th>885</th>\n",
       "      <td>885</td>\n",
       "      <td>0.067272</td>\n",
       "    </tr>\n",
       "    <tr>\n",
       "      <th>886</th>\n",
       "      <td>886</td>\n",
       "      <td>0.070578</td>\n",
       "    </tr>\n",
       "    <tr>\n",
       "      <th>887</th>\n",
       "      <td>887</td>\n",
       "      <td>0.065999</td>\n",
       "    </tr>\n",
       "    <tr>\n",
       "      <th>888</th>\n",
       "      <td>888</td>\n",
       "      <td>0.062277</td>\n",
       "    </tr>\n",
       "    <tr>\n",
       "      <th>889</th>\n",
       "      <td>889</td>\n",
       "      <td>0.072537</td>\n",
       "    </tr>\n",
       "  </tbody>\n",
       "</table>\n",
       "<p>890 rows × 2 columns</p>\n",
       "</div>"
      ],
      "text/plain": [
       "     Index    y_pred\n",
       "0        0  0.046577\n",
       "1        1  0.045238\n",
       "2        2  0.043416\n",
       "3        3  0.043022\n",
       "4        4  0.042803\n",
       "..     ...       ...\n",
       "885    885  0.067272\n",
       "886    886  0.070578\n",
       "887    887  0.065999\n",
       "888    888  0.062277\n",
       "889    889  0.072537\n",
       "\n",
       "[890 rows x 2 columns]"
      ]
     },
     "execution_count": 18,
     "metadata": {},
     "output_type": "execute_result"
    }
   ],
   "source": [
    "pred_output = pd.DataFrame()\n",
    "pred_output['y_pred'] = y_pred_test\n",
    "pred_output.reset_index(inplace=True)\n",
    "pred_output.rename(columns = {\n",
    "    \"index\": \"Index\"\n",
    "    }, inplace=True)\n",
    "pred_output"
   ]
  },
  {
   "cell_type": "code",
   "execution_count": 19,
   "metadata": {
    "ExecuteTime": {
     "end_time": "2020-06-20T10:19:48.856405Z",
     "start_time": "2020-06-20T10:19:48.850400Z"
    }
   },
   "outputs": [],
   "source": [
    "# write_predictions()"
   ]
  },
  {
   "cell_type": "code",
   "execution_count": 20,
   "metadata": {
    "ExecuteTime": {
     "end_time": "2020-06-20T10:19:48.862411Z",
     "start_time": "2020-06-20T10:19:48.857406Z"
    }
   },
   "outputs": [
    {
     "name": "stdout",
     "output_type": "stream",
     "text": [
      "Train samples: 2898\n",
      "Validation samples: 967\n",
      "Test samples: 890\n"
     ]
    }
   ],
   "source": [
    "print(\"Train samples:\", y_pred_train.shape[0])\n",
    "print(\"Validation samples:\", y_pred_val.shape[0])\n",
    "print(\"Test samples:\", y_pred_test.shape[0])"
   ]
  },
  {
   "cell_type": "code",
   "execution_count": 21,
   "metadata": {
    "ExecuteTime": {
     "end_time": "2020-06-20T10:19:49.068599Z",
     "start_time": "2020-06-20T10:19:48.863412Z"
    },
    "scrolled": false
   },
   "outputs": [
    {
     "data": {
      "application/vnd.plotly.v1+json": {
       "config": {
        "plotlyServerURL": "https://plot.ly"
       },
       "data": [
        {
         "alignmentgroup": "True",
         "bingroup": "x",
         "hovertemplate": "0=%{x}<br>count=%{y}<extra></extra>",
         "legendgroup": "",
         "marker": {
          "color": "#636efa"
         },
         "name": "",
         "offsetgroup": "",
         "orientation": "v",
         "showlegend": false,
         "type": "histogram",
         "x": [
          0.0293765943593152,
          0.07885920219958083,
          0.05089718076507721,
          0.04469288257514598,
          0.04665798543728516,
          0.034124960263999,
          0.03626900317719279,
          0.045847268327610075,
          0.22106155793637855,
          0.060021010278434594,
          0.1760924020988689,
          0.06374721693254601,
          0.052006992406236185,
          0.07180402234429036,
          0.13449513423881093,
          0.07204656862981709,
          0.07504435620090058,
          0.05934252532959526,
          0.05103106795442448,
          0.044208520217664804,
          0.1605423277397688,
          0.061151551941741426,
          0.045554652356717205,
          0.06830130709419385,
          0.2031363813154417,
          0.05042631226657397,
          0.07141702434433223,
          0.05911189637773661,
          0.05430597465662197,
          0.052751312091489075,
          0.044860780070051114,
          0.07360106138643818,
          0.05474712041484335,
          0.0842587674705659,
          0.061207541121705206,
          0.1398622580936231,
          0.0997146216553761,
          0.0929724376441612,
          0.07065337444785333,
          0.0498857104896214,
          0.050629900910159786,
          0.04277515354029946,
          0.1323955121289482,
          0.08489568915294438,
          0.049330206432578655,
          0.0889494423641752,
          0.18273376480597128,
          0.0460008234243636,
          0.07252322958023089,
          0.05885403892643668,
          0.06970445737187309,
          0.05468632079382142,
          0.13768635242888105,
          0.0709446102126587,
          0.04589457916152339,
          0.04525552899863524,
          0.13818047280707993,
          0.09820010711808236,
          0.052541929160264185,
          0.05688635052814655,
          0.10215132372886038,
          0.0393580481885575,
          0.10091541634990212,
          0.04962179708087058,
          0.20404161985027341,
          0.11266965700445641,
          0.07032622378033057,
          0.08852675811002282,
          0.10875223248766279,
          0.1778063350156098,
          0.06188435308973776,
          0.04556793498411741,
          0.21511404576612958,
          0.0620935323608629,
          0.055062373442665166,
          0.11539080162533663,
          0.06144596763635614,
          0.06212922653484662,
          0.06963521097778515,
          0.046048407198041444,
          0.05766027768626024,
          0.042152251274750155,
          0.19161286325967938,
          0.1948651421701741,
          0.11159251066220341,
          0.07411674777997551,
          0.046548841086556096,
          0.036709454413191046,
          0.06976327496048798,
          0.06064019573548636,
          0.12731457908299584,
          0.16014554115595495,
          0.16129772756533853,
          0.05314374618520787,
          0.15029150316532486,
          0.07690010991471928,
          0.09605330516388094,
          0.07971488557698489,
          0.21157489736118945,
          0.04547864785346459,
          0.05648556917861222,
          0.048053594283238715,
          0.045611273592612134,
          0.04517021952797145,
          0.16578306018909367,
          0.07971051130361086,
          0.04649767666093379,
          0.2009509061767648,
          0.04218018112647695,
          0.09335744615852895,
          0.04580256720569521,
          0.06307651419148975,
          0.04279177493412988,
          0.027668958765536954,
          0.224321583797384,
          0.10660208679642391,
          0.049985748555470846,
          0.0587639742895167,
          0.040822587844863485,
          0.04599995214370256,
          0.20777983182832047,
          0.06322819441945553,
          0.04463943646461409,
          0.09194343962793565,
          0.06665083844884448,
          0.1621672886243573,
          0.07743532163069392,
          0.044123430627165665,
          0.04526499673535733,
          0.053839103954043205,
          0.0701353283423061,
          0.04775434621058787,
          0.04571170853689151,
          0.05332667277212047,
          0.0865116511577545,
          0.20681038833001414,
          0.12689229105797384,
          0.06016443094842025,
          0.04815344861219182,
          0.050813935347563066,
          0.05153066945306344,
          0.10652442048149753,
          0.1862708014612007,
          0.07100932601536204,
          0.06648309030689971,
          0.0759640875456498,
          0.07436604666301161,
          0.06895863244124163,
          0.06882515547971157,
          0.1504319195570435,
          0.14814836517887664,
          0.04257176207105965,
          0.11263868543604823,
          0.13073466899301073,
          0.04944063481141888,
          0.0927671307154521,
          0.0410679182246014,
          0.10083357980058895,
          0.06644464250985102,
          0.05226661549042941,
          0.05783507367064729,
          0.04897835498359915,
          0.036379107747985855,
          0.04255064699564182,
          0.12175220544944769,
          0.08446999356668732,
          0.15483152422993818,
          0.04257369128282838,
          0.04774788070025161,
          0.14492461774600063,
          0.08068804266016008,
          0.10073911732285169,
          0.1475784927171705,
          0.04439050958251353,
          0.07609199575339447,
          0.046191583651002704,
          0.044072766296518795,
          0.05518388518329974,
          0.04710368016649614,
          0.18773355861432783,
          0.05231249814731421,
          0.09305226397723514,
          0.05389065787800357,
          0.047533632718430086,
          0.03839295319249657,
          0.08745584664874037,
          0.05008290681241822,
          0.046999972351729875,
          0.05803837477741006,
          0.04479779948515631,
          0.19173055876068315,
          0.09227092856187796,
          0.15540013510854062,
          0.04081244202150218,
          0.2081531380208899,
          0.16495996285226572,
          0.06813262265617397,
          0.18899830760742503,
          0.12556416352428665,
          0.05320781773747582,
          0.0762783446409052,
          0.04381595034952584,
          0.2043419919336482,
          0.0475472432550232,
          0.06539664059826904,
          0.20479900601880036,
          0.05613492706745784,
          0.04611140367855725,
          0.052419935727139405,
          0.06628187642640927,
          0.046375125649866226,
          0.1576682469049242,
          0.058255218449802956,
          0.11312089861434096,
          0.09611679558936413,
          0.0990706616454837,
          0.04736501312456901,
          0.03857554533372615,
          0.0994592711711469,
          0.21117160698110202,
          0.04909118635624282,
          0.04427680363626696,
          0.046493462886428846,
          0.1080967611893147,
          0.06454825983446402,
          0.042244567381839786,
          0.05253240413799605,
          0.04770178342070084,
          0.046253337224460636,
          0.04474350060881106,
          0.05150895294762856,
          0.04793404458698337,
          0.04524408055447952,
          0.07398056421889262,
          0.05501630554866495,
          0.17202335181458067,
          0.04680825999229513,
          0.052053246997159325,
          0.15590741445863132,
          0.07315842197429034,
          0.11102008849686079,
          0.044305194741794014,
          0.0459887176852519,
          0.06610242057703922,
          0.045290420537442706,
          0.06257103861633838,
          0.1541586711940746,
          0.04428883848281793,
          0.048982297031827327,
          0.05129586796876167,
          0.04415909997482346,
          0.02780606623199567,
          0.06213132919858385,
          0.11756420206856985,
          0.05009242476422636,
          0.048686203942852946,
          0.03832316019202967,
          0.06328313428294802,
          0.05779317357472283,
          0.1278003574210744,
          0.16819949484089253,
          0.04282461871805968,
          0.033020977652599974,
          0.07774600986609526,
          0.10079725883167456,
          0.08405554311199405,
          0.0995380757405297,
          0.06553201189302123,
          0.06877804774880454,
          0.07681062393347794,
          0.07217953030724714,
          0.05235349146028267,
          0.04730870234210382,
          0.05768581982982271,
          0.06534874762144088,
          0.09979733138787082,
          0.20300103265606495,
          0.059707005562631046,
          0.2165566634214467,
          0.062107874855501455,
          0.07943782410660859,
          0.20660013781280534,
          0.054408750407966694,
          0.05126869480227399,
          0.06262992745959345,
          0.05607721851922692,
          0.060898704289494766,
          0.17887836543038285,
          0.04835638339471814,
          0.042497953368953234,
          0.220058867824318,
          0.0602849651481374,
          0.04787989892113373,
          0.06192816280555748,
          0.20642374691704363,
          0.06931929687329663,
          0.04877718297449692,
          0.08896915608453043,
          0.06767511416377346,
          0.21853523245697742,
          0.126869020553552,
          0.047269937814600996,
          0.17799580032354934,
          0.19472068852147217,
          0.042711323873212234,
          0.06517334699844993,
          0.050634595403091266,
          0.0721861431276307,
          0.05435280675025708,
          0.06248050389617275,
          0.12257616545186434,
          0.07090308685247107,
          0.07397172029763892,
          0.06271726298425477,
          0.11882950626455938,
          0.08992726229975062,
          0.07466843159356952,
          0.052378244787638,
          0.04907497315835024,
          0.08830095489242959,
          0.10624908500892574,
          0.19078385737831277,
          0.06933811453644319,
          0.06609716129703444,
          0.130804350017256,
          0.046700196473234326,
          0.0511756961970508,
          0.05014329837336945,
          0.05409171395107233,
          0.06115619068683101,
          0.10205225511833685,
          0.09055341505395503,
          0.05253101596797825,
          0.22966295469996292,
          0.06581833147021457,
          0.10728559907368963,
          0.0585667354280387,
          0.07663256971250101,
          0.12997732363383674,
          0.04430121764364523,
          0.04920720465587509,
          0.08395594249563992,
          0.04473775958421052,
          0.22361362066575913,
          0.22511929470166345,
          0.17555283445149233,
          0.07921246349762681,
          0.0726790235941636,
          0.04274296264155994,
          0.04259759373925173,
          0.2114296097896003,
          0.09051346325465379,
          0.17066198272945834,
          0.055601920922086184,
          0.06531754691448616,
          0.13569629245381035,
          0.08906975281294033,
          0.05900526147732493,
          0.20752226952346636,
          0.056140353301075335,
          0.14696811545432933,
          0.12088498101949283,
          0.05235125590980404,
          0.11102009416466468,
          0.04744035917646665,
          0.06219710824729191,
          0.07455952389312935,
          0.09284708357638863,
          0.04397229722773732,
          0.1661270393396988,
          0.22875351611522432,
          0.05292808839185295,
          0.07201044030754675,
          0.04876106865348642,
          0.2175767515410982,
          0.049778091144890915,
          0.05734520742982284,
          0.04587147749436632,
          0.1385996918876115,
          0.11168677827687083,
          0.04140522670136764,
          0.17162161354568567,
          0.046308634284379445,
          0.07259473613572784,
          0.046853170440715505,
          0.045945632048378905,
          0.04819651362626245,
          0.1643427776785359,
          0.14110517166223122,
          0.1865163414121781,
          0.05663508450642225,
          0.1386734521146399,
          0.04567379778348799,
          0.04714161390038735,
          0.18561759376067244,
          0.19163360287253023,
          0.05671140825627584,
          0.12527541208412762,
          0.04425546025629907,
          0.05361150050822342,
          0.052820835627977056,
          0.031676435409977936,
          0.07073723475675926,
          0.03455338994041941,
          0.08507760519822269,
          0.05182753729932008,
          0.040119823580856154,
          0.1933100891838765,
          0.049402592174954296,
          0.09482936024595306,
          0.04677482531607181,
          0.21686635774707513,
          0.22220151434765956,
          0.06011125913166763,
          0.04436264362973289,
          0.05947739329764319,
          0.0806629598707213,
          0.04417991454913635,
          0.0719091868872627,
          0.047910527681392034,
          0.09823439752133276,
          0.17319689103675268,
          0.07134123745341456,
          0.0597351210882619,
          0.041506603368584985,
          0.06068030219104262,
          0.05585081781781619,
          0.044800661003307936,
          0.05818415539187098,
          0.05822698482048816,
          0.044569838603433866,
          0.09852072423277106,
          0.04694445161627872,
          0.06975085947383804,
          0.04649187994333381,
          0.2116979710692334,
          0.049236825851796416,
          0.05108320199543535,
          0.058940933195841344,
          0.1679480197040864,
          0.044679424179316425,
          0.14728717694369106,
          0.1881552639119463,
          0.07722121275939997,
          0.044459521417671524,
          0.054355537585773064,
          0.13615797370118443,
          0.061773939282696845,
          0.059633671379083084,
          0.04790257069231804,
          0.044519193225171984,
          0.18298295499691009,
          0.07986736175401661,
          0.08266021540183786,
          0.04782875707116811,
          0.057655286181205266,
          0.07226223473875676,
          0.07520786477595527,
          0.06686468432689582,
          0.04371781848157721,
          0.059784060957862324,
          0.0547904110370996,
          0.05753503693239358,
          0.0664564365801975,
          0.0757470205769412,
          0.045822103901523234,
          0.06807358861429122,
          0.0601329719011691,
          0.048192355350988224,
          0.17428017097098952,
          0.062217090863759934,
          0.0694104118789821,
          0.139780031146121,
          0.03877503467762096,
          0.06758621055130803,
          0.0671332745506825,
          0.09525244996618179,
          0.06846127585260314,
          0.1318230191947164,
          0.06342777944713851,
          0.05854230846346491,
          0.04710300784001898,
          0.06426668328515894,
          0.04761540340211326,
          0.046477714815124686,
          0.04848861287164378,
          0.11156036673522751,
          0.04471604382090249,
          0.050089524725024405,
          0.19642623538981313,
          0.23755722630387716,
          0.06566198258873741,
          0.060781858202302114,
          0.0727053137073543,
          0.06760979493569708,
          0.13760122764456453,
          0.10876455273131674,
          0.04474397769928341,
          0.200474764529354,
          0.04346410649035427,
          0.03008494797360787,
          0.20791709260257923,
          0.03650786820298256,
          0.15904700548504042,
          0.07686213058979226,
          0.04604059799227021,
          0.14402609810299372,
          0.08019867426925659,
          0.08447167723299405,
          0.06343217501127112,
          0.07048776285335658,
          0.227376794445072,
          0.049946896418087604,
          0.07758467462469697,
          0.04658485495115588,
          0.13804623412449812,
          0.16612169157830006,
          0.08637632682662683,
          0.08633078776360406,
          0.1574437276908045,
          0.0674246459507783,
          0.04519664967460632,
          0.07529131072967096,
          0.06290732782619349,
          0.07258942953930479,
          0.049964510371777585,
          0.04602194160753029,
          0.10213817223918835,
          0.04747584029474789,
          0.18639571943662006,
          0.1912609567521796,
          0.06408242919501934,
          0.15540817968100715,
          0.08148814659092797,
          0.04407826885302974,
          0.05409800025118365,
          0.0911677575106225,
          0.04634796844374288,
          0.04879690381491538,
          0.03997797919209831,
          0.15442331516191113,
          0.043641555103358716,
          0.06050103944833689,
          0.06051637345508197,
          0.1936753678516712,
          0.04482083008653014,
          0.1712603166808805,
          0.0619039393378255,
          0.16199245295110487,
          0.16594583584646383,
          0.07526280908994037,
          0.07108192294856654,
          0.08455511663401785,
          0.20015898648499947,
          0.0578724367236777,
          0.04615896276943041,
          0.04614657299651285,
          0.06219132108340877,
          0.05049763827383276,
          0.04864579627021778,
          0.04688937217168396,
          0.05680268816776714,
          0.07268959237968926,
          0.04152620378918839,
          0.05921542065541119,
          0.12323397155684826,
          0.06096932448460884,
          0.05858358533544969,
          0.05377746441220502,
          0.04566352276487006,
          0.05005592419891307,
          0.055937749651710444,
          0.10219306870889977,
          0.2475909104576346,
          0.07205029802812572,
          0.08327807079061816,
          0.045559313328858375,
          0.1936275763499638,
          0.1972867223047024,
          0.047133099298123614,
          0.19592900269296268,
          0.06979592164197908,
          0.03666935698663703,
          0.04501301188577202,
          0.05211380514211653,
          0.07024231919114288,
          0.09142217148935988,
          0.0964069737448698,
          0.07643542756463749,
          0.048810760864862586,
          0.05318917558478643,
          0.05138938064594007,
          0.11944985187202652,
          0.24708029994330113,
          0.08251396112580923,
          0.2337175728290341,
          0.06307907617845254,
          0.05499470771408667,
          0.058828107160224116,
          0.05295410718385532,
          0.09485761914750278,
          0.05561721651176586,
          0.04632793923113287,
          0.08245942061317264,
          0.06144800069755793,
          0.03840834154876622,
          0.0888793851227711,
          0.05491761981993043,
          0.07977280859672727,
          0.05815194756452084,
          0.1921633130433127,
          0.11589327165844997,
          0.04567516403160444,
          0.05429638073973314,
          0.050211024874038855,
          0.06734501224656739,
          0.07844726345025309,
          0.05311708907905407,
          0.041895522052553834,
          0.09016091983299086,
          0.04752212048193425,
          0.07859266200860975,
          0.07447748706949305,
          0.08401471642474535,
          0.06552722119072514,
          0.06282333832689221,
          0.13171021914572845,
          0.04958920612867921,
          0.08131432059441555,
          0.03428233499092123,
          0.07161263272073842,
          0.044793903474246936,
          0.05690685084045327,
          0.0630480869301836,
          0.063962175536507,
          0.06183397172896814,
          0.04075860121710312,
          0.04903465417444371,
          0.10489995321279778,
          0.04332384631058442,
          0.0458371546859365,
          0.0512795332338368,
          0.048983804470432234,
          0.14193675877660275,
          0.049740767971128426,
          0.22449568535165207,
          0.08224289929850678,
          0.04349119920055546,
          0.0541858914244864,
          0.04382364481583363,
          0.0612290905851659,
          0.04704845533171948,
          0.14661521657169327,
          0.043806306655578754,
          0.04799922360711115,
          0.08888063004433945,
          0.04161598639173713,
          0.04700136275452791,
          0.17547709527295155,
          0.21943727862033877,
          0.04582847926787393,
          0.044611111789496255,
          0.06053939704280327,
          0.04800846984249479,
          0.08763075731995705,
          0.04491045853583824,
          0.18122657299485162,
          0.06323279885142116,
          0.06705321558426502,
          0.030018238462730003,
          0.05182969648427228,
          0.0651730264075581,
          0.19256328452385169,
          0.08935162191646823,
          0.04873509216816766,
          0.06252227572505452,
          0.14283865179727565,
          0.07257514502220483,
          0.0475034965942646,
          0.045824359684100445,
          0.07374488790291751,
          0.05668900473855634,
          0.04890059387255921,
          0.0677008739785914,
          0.045895562176718266,
          0.19656298791436316,
          0.09223269732998933,
          0.23529060767854718,
          0.09310245520151886,
          0.08476374302973512,
          0.047836301371809144,
          0.21481799624529754,
          0.04434513816202384,
          0.08276898700744165,
          0.05832131346011196,
          0.16892329935023298,
          0.05973290864300228,
          0.04932106164053723,
          0.09859457194177673,
          0.04621161865860563,
          0.059482360265645046,
          0.04437308765402056,
          0.09463737733068409,
          0.04746071823221811,
          0.09423980027200682,
          0.06167496107761472,
          0.1917738880702134,
          0.06783416000894055,
          0.04934048927577347,
          0.05694772841162181,
          0.16505897174801398,
          0.1010373037421318,
          0.05227518719109622,
          0.0370135910019634,
          0.1339553764643518,
          0.05255407150678991,
          0.048554160200419964,
          0.04400402343275809,
          0.06474364570273906,
          0.05735617823456403,
          0.0879208856325987,
          0.08310789548436866,
          0.09499033656666246,
          0.07983006677134857,
          0.22178831642788085,
          0.09800578240555671,
          0.06894239644713286,
          0.17395967264380274,
          0.06051537867798158,
          0.0604620424403466,
          0.04191037441662156,
          0.06258678983642894,
          0.05224460858477201,
          0.07264097338925046,
          0.05339614849658999,
          0.05636436543194773,
          0.045210442567852435,
          0.053043050355687765,
          0.05462792522694819,
          0.06451923139268734,
          0.05859751827798479,
          0.07125831002916654,
          0.0487880245460979,
          0.053416731754988275,
          0.04693999669840044,
          0.05367194787160294,
          0.18557434261395933,
          0.03858394663448082,
          0.0649475613161716,
          0.21818947703335195,
          0.05401939896761195,
          0.14331378990546034,
          0.04693970025413229,
          0.08799043149931855,
          0.08566763667353058,
          0.06474434761237736,
          0.046355581308450224,
          0.05579256879091714,
          0.14466523538772524,
          0.04478173723172553,
          0.05364409754392006,
          0.051205789344417635,
          0.05652244170713814,
          0.22467306463625497,
          0.12573982447474208,
          0.047748887081257615,
          0.05192145086967084,
          0.1809814592302597,
          0.060323259742061805,
          0.04938074405805267,
          0.045571796253129564,
          0.22181704505013047,
          0.04371695626165959,
          0.04437476282686468,
          0.20446408428399748,
          0.04591202486390934,
          0.058185449418987754,
          0.1191716832754963,
          0.09305300423284305,
          0.04593482717742428,
          0.09838584428473109,
          0.11684288132551926,
          0.05475959580386243,
          0.0583206228108277,
          0.06128583027053526,
          0.04566833311166951,
          0.07025263401256474,
          0.05910391202680605,
          0.05914603388290271,
          0.052528057634743136,
          0.049483331091135445,
          0.08044898705332738,
          0.2225963369241495,
          0.060034264129858364,
          0.05783146368946075,
          0.04626567627200263,
          0.06320988733652871,
          0.07035699467725731,
          0.05531473607338795,
          0.12467350663428395,
          0.07703728112946663,
          0.07335318494699403,
          0.06449293888905896,
          0.06105471391782766,
          0.18175290545357475,
          0.057555538530153175,
          0.0740477578549523,
          0.08077391163192658,
          0.05628839340922945,
          0.12931211165555934,
          0.04662986285718763,
          0.07211196729822733,
          0.04471411415753702,
          0.05743194525867343,
          0.05357540758228989,
          0.07598675368332417,
          0.046879942735751974,
          0.04300063995216984,
          0.04570467118493374,
          0.04699998902978732,
          0.12145579794173421,
          0.06973942495597305,
          0.1597949199494947,
          0.04536383511177281,
          0.0447358103770013,
          0.1099999992625248,
          0.0670164025285728,
          0.05348943890687649,
          0.10810848110248579,
          0.10076233634301197,
          0.06989617311485945,
          0.04685836899667731,
          0.14225746214429433,
          0.07644460841113294,
          0.0715849099793712,
          0.08459939172936633,
          0.058992686577188536,
          0.09749139750361063,
          0.051008265552605986,
          0.1019170201700969,
          0.052254991246238766,
          0.05428615689828379,
          0.04789442979851098,
          0.044270667017606846,
          0.06593468814002655,
          0.031395181846659716,
          0.10524613571879313,
          0.065695423155551,
          0.11304475238667505,
          0.0729351522800838,
          0.04325807208829544,
          0.15039310340004183,
          0.054722051331120604,
          0.07917927727754302,
          0.07894174350846052,
          0.07018307366574911,
          0.05109389411540694,
          0.13640904990598884,
          0.08833500061817318,
          0.049997886165030606,
          0.08998947925023752,
          0.056629494420655624,
          0.1326966379440472,
          0.14967047616480733,
          0.056989360845349835,
          0.04478570358279242,
          0.036720200660169136,
          0.04446682214896495,
          0.08097011416457388,
          0.07946367405397631,
          0.02668253577605731,
          0.04329426786239782,
          0.06322296082044573,
          0.06932269648455339,
          0.05879907459049515,
          0.08004141444274197,
          0.048120660172200715,
          0.10249793252858322,
          0.16304620337121073,
          0.04355503995842823,
          0.13147058923055793,
          0.07664406269982635,
          0.22233868087324024,
          0.06718573706699726,
          0.04338512601635573,
          0.16659308103918669,
          0.04858396487450278,
          0.044681389267219006,
          0.03518111097201215,
          0.0407496630853996,
          0.360812471940816,
          0.06066634322403144,
          0.1230205680301005,
          0.22359253443325564,
          0.05219663443442785,
          0.041550789942242004,
          0.06293473473644774,
          0.1388270574788034,
          0.04669686634444311,
          0.04292309065076162,
          0.05881598810842441,
          0.06237944259572501,
          0.0808449204278569,
          0.1256126727881685,
          0.144827801468473,
          0.048418799973294006,
          0.05789351634159853,
          0.04810500857270443,
          0.061742041892728534,
          0.03396710705127282,
          0.04573735391848057,
          0.051271966858892265,
          0.03154640054674394,
          0.0440488483331539,
          0.08201114463716813,
          0.16092681693305316,
          0.047009911531307735,
          0.044302760263401124,
          0.055792204564284464,
          0.04744195633970626,
          0.14842935392218198,
          0.04653710805797518,
          0.054471967640909336,
          0.0604749118869843,
          0.2145973258769383,
          0.09323508760558512,
          0.04396320120549197,
          0.08248793051963732,
          0.058932240415641934,
          0.049202017654993796,
          0.09755011465840396,
          0.061747519482415525,
          0.06846136645984949,
          0.05146620128057915,
          0.0522565385290973,
          0.04470539485515044,
          0.04621895300601056,
          0.04733117605177391,
          0.16466313454178494,
          0.07336368476957023,
          0.10778222121408966,
          0.04188580316329398,
          0.13696459902194252,
          0.04426549646872834,
          0.054964078329870394,
          0.04298817493065944,
          0.04230603599506963,
          0.0734278609978471,
          0.07116977813860663,
          0.06521321145073616,
          0.055834682505823616,
          0.05380826751770176,
          0.0860196725075571,
          0.07971941438362741,
          0.0485332875798396,
          0.042879551042836035,
          0.06201681004801199,
          0.07021448676667981,
          0.15570881833082717,
          0.0545397836044995,
          0.049564127292085536,
          0.062345797048706075,
          0.10943908816115884,
          0.05302036020614361,
          0.052046376140069524,
          0.0461945657273335,
          0.05800672886195596,
          0.047853607532518105,
          0.05193133438945243,
          0.08266788401684765,
          0.04261437692442821,
          0.07550019762481466,
          0.047639137265686,
          0.04480133675539952,
          0.14229722313743057,
          0.07125126697267578,
          0.15845810757809337,
          0.06094059204938623,
          0.06562540712515048,
          0.2130913012495591,
          0.06040084275311919,
          0.04241362087331873,
          0.16382080420542086,
          0.1821484158469357,
          0.11981005057376512,
          0.045847601788764625,
          0.04396984634730577,
          0.05753252208223329,
          0.11757207964009754,
          0.065426952276461,
          0.14470752248693486,
          0.090259605849054,
          0.1985315516071694,
          0.19127699052359323,
          0.06231795940163131,
          0.04835889295864637,
          0.0475411757775628,
          0.2138742164863189,
          0.13768074360674745,
          0.04111533457811052,
          0.05263235159197283,
          0.05969249889777853,
          0.07271927301460872,
          0.15667750704734626,
          0.05479418295337688,
          0.05824642347493988,
          0.05937893448221187,
          0.05926136008591795,
          0.07295534413293478,
          0.061486272882321086,
          0.04574859862418064,
          0.06910977114497532,
          0.048018078783091535,
          0.06307664818055739,
          0.0813608702593079,
          0.04741698226476865,
          0.062230502148197475,
          0.12057564343566163,
          0.051104315682854944,
          0.07449433821817461,
          0.066832286949119,
          0.06287139978139841,
          0.057207783605079346,
          0.053241653584877306,
          0.05225414951100672,
          0.05589928980138614,
          0.10171703397636908,
          0.0711512844945959,
          0.0664118341743822,
          0.05879442697710182,
          0.09580410953806634,
          0.045504757758012195,
          0.06648192883318128,
          0.06069482487633107,
          0.05153504600025444,
          0.02592447367271255,
          0.05378530542744156,
          0.04348199473286159,
          0.08478584342247196,
          0.08580189818906084,
          0.17830807245415137,
          0.1440851823076228,
          0.045731486860455965,
          0.11511915642101189,
          0.06016670205082511,
          0.06121857213106896,
          0.0511035885691485,
          0.044344627668988175,
          0.051699201073259614,
          0.0533302527478513,
          0.05707249423340799,
          0.06647539245247903,
          0.09652093539165522,
          0.04597724726493868,
          0.06516999978243658,
          0.0733776422494039,
          0.040742119666759,
          0.06623960096870156,
          0.07388062730139439,
          0.03936093137211953,
          0.1818651740007207,
          0.1366878853948163,
          0.04787017559052245,
          0.15880665836520547,
          0.21916702733596005,
          0.049754805662214165,
          0.0444556353845814,
          0.24259899964651485,
          0.056619617855797666,
          0.05989796566656466,
          0.04864720865859019,
          0.06467494282509967,
          0.09819902353326025,
          0.07467747555326802,
          0.04896003070671685,
          0.10202499734442871,
          0.07073121032638284,
          0.05335996386221677,
          0.15305744181218012,
          0.07856446148085396,
          0.04477073013063699,
          0.058006587692072495,
          0.06026519103560947,
          0.0724561101918206,
          0.04734278195113262,
          0.042716627100938466,
          0.04150258234862103,
          0.045619972460642075,
          0.050181887205895816,
          0.044852462195576294,
          0.10408442944802886,
          0.18912297995066732,
          0.04024986887158633,
          0.07853129366649973,
          0.0517979451713147,
          0.04103986039945558,
          0.16481156944129421,
          0.0789500577235859,
          0.07577644049647016,
          0.04525881716871755,
          0.07634654164892053,
          0.10170935883442841,
          0.22466057189050614,
          0.045729901782484046,
          0.04445757638002574,
          0.04494530360288368,
          0.052337053026824176,
          0.056787711499929464,
          0.056487138921401406,
          0.04853525624784944,
          0.1156505244612401,
          0.11047579674968547,
          0.15247597988018846,
          0.06139660245972474,
          0.04144216748809371,
          0.054905047140769894,
          0.03378586209425431,
          0.21449653940972807,
          0.043870084691752076,
          0.07143213164552017,
          0.04574752953187135,
          0.0466462275847053,
          0.05305477996615522,
          0.048372788528794675,
          0.05369533442099327,
          0.22114877115873088,
          0.19799947727205724,
          0.1322688058508784,
          0.06602902447707089,
          0.07214264543934512,
          0.20860798578045445,
          0.04629898298371711,
          0.08731704942491614,
          0.04842130002886855,
          0.05796426690519412,
          0.07418327979034608,
          0.06430008705914687,
          0.09801762891753732,
          0.09968629280117736,
          0.15065935739913405,
          0.05067991549928631,
          0.20259511653557288,
          0.03538921958895081,
          0.05873119789375997,
          0.06730958080730964,
          0.07727608136286401,
          0.05238865843392454,
          0.09658330101202008,
          0.06149359101013052,
          0.08953187589252085,
          0.04315263081077131,
          0.1482360753966829,
          0.07078696269374876,
          0.053870161882732887,
          0.07016496475086562,
          0.04350814537580607,
          0.062306894539821994,
          0.0562716561661874,
          0.06688495641844641,
          0.06172418630795325,
          0.12915783528861777,
          0.050516613700024575,
          0.04991279206034477,
          0.06044916716248578,
          0.05532744201133527,
          0.07130709067822608,
          0.051591473879437175,
          0.04637875408040801,
          0.06712161381432064,
          0.08020495001176836,
          0.060506502451414,
          0.06346635193425514,
          0.16371285325532328,
          0.16136597613792814,
          0.06475301449304321,
          0.050730636446225746,
          0.09002503456227406,
          0.03772581800175955,
          0.04802190938387856,
          0.04461311546136389,
          0.05991644713885475,
          0.09829333123925381,
          0.06305345348072951,
          0.19501455716430177,
          0.10467414914361259,
          0.1951364563038851,
          0.09046408143460728,
          0.06548084132003006,
          0.05144472355393756,
          0.18968118461164168,
          0.0922586041479215,
          0.17300243598955978,
          0.050412876742373096,
          0.04689343071062304,
          0.1920221521379295,
          0.04744841323541547,
          0.10129962776985753,
          0.0647694110701349,
          0.038916171863501985,
          0.08518902570892803,
          0.10859263203807547,
          0.09701040394352949,
          0.0563263682618864,
          0.04667285662930072,
          0.09501182050367746,
          0.055502890913590675,
          0.034477444040699724,
          0.04936382597116586,
          0.046149210887435996,
          0.04493949099769851,
          0.0594744240890308,
          0.17479817577057138,
          0.043603019903887576,
          0.04327710429973509,
          0.04581785499411694,
          0.05808738545372149,
          0.06181102928059344,
          0.06947715074579848,
          0.04217036790251176,
          0.06028915261909592,
          0.047718451332951904,
          0.05490474892767469,
          0.046701031092213935,
          0.0585482272479106,
          0.05038675069801313,
          0.042913046310091955,
          0.042429173977720155,
          0.057286202220661366,
          0.09028906858662078,
          0.0532174245756519,
          0.06764561196644328,
          0.06507093555546994,
          0.08161012991287614,
          0.051557978878970276,
          0.0454789254066502,
          0.3268255858979101,
          0.046609475085812924,
          0.06734205265342767,
          0.04889183597659838,
          0.040643132914834276,
          0.15270676735599023,
          0.0430358032183933,
          0.21093291314696253,
          0.07796960928212632,
          0.04817799618702261,
          0.04621115194407441,
          0.07519869022391026,
          0.05652855191982319,
          0.04558644342978072,
          0.14942770088594876,
          0.0629017978580487,
          0.05390414694610593,
          0.13739103041691955,
          0.04684441228445701,
          0.07682268481153434,
          0.109367479981607,
          0.10416026513657381,
          0.03362282919076446,
          0.1733186541826109,
          0.04026228106058983,
          0.05274661441795249,
          0.12955464460333757,
          0.15029309108999328,
          0.04416668461842573,
          0.06944709803359164,
          0.0452682847487366,
          0.04329901314288594,
          0.054031340249887594,
          0.21328696520376478,
          0.053648703756940544,
          0.07278939885073689,
          0.05825222585780648,
          0.10015362631000392,
          0.06364731662736171,
          0.04758047907936073,
          0.057774321652982845,
          0.06040457262415501,
          0.18257361369180236,
          0.19695756269341128,
          0.10132007972475404,
          0.04672243586262035,
          0.08522923803934514,
          0.06255326008098278,
          0.05024597240906271,
          0.0551583114360019,
          0.06911390696383743,
          0.19797462738575655,
          0.059226313269447856,
          0.15465276806425948,
          0.045075991674806554,
          0.0389188008080386,
          0.04684325707005438,
          0.04335199122693393,
          0.05420552531867351,
          0.21101144200285768,
          0.06373456410166506,
          0.06014679880955896,
          0.06959902007877544,
          0.05039563633629909,
          0.047928098802540564,
          0.10067024173200705,
          0.057796270181347004,
          0.07260691750047325,
          0.05271824165201366,
          0.050715283908461875,
          0.04759955428505172,
          0.05445170659826838,
          0.05442097064351498,
          0.08224251134025538,
          0.05669883661640601,
          0.10207005258137508,
          0.06840137513522232,
          0.15735583449181167,
          0.043194304800396245,
          0.06313386815596791,
          0.06797892036872535,
          0.06493938820463155,
          0.053640782503927426,
          0.05585050240691346,
          0.20078485001410667,
          0.049183265111281606,
          0.1679902569084316,
          0.18320625711389277,
          0.24331276088316564,
          0.06746244151410491,
          0.11073278674592857,
          0.06579617251157555,
          0.05244924166736589,
          0.06833649655471538,
          0.062454458704528384,
          0.06369288968012418,
          0.2820417105748765,
          0.04983138153219159,
          0.05125303006859416,
          0.05062902085204707,
          0.13603886452174344,
          0.04472582134230668,
          0.04460996009835216,
          0.0654021323194151,
          0.0591284868136715,
          0.04809238205486875,
          0.0969477554272457,
          0.04985935679222516,
          0.06461697700810105,
          0.1406823578488891,
          0.06456514508080669,
          0.05255678703050426,
          0.18675089034728012,
          0.041203549035821574,
          0.20700309693438224,
          0.06946743239714204,
          0.048070630717103456,
          0.0644045218745537,
          0.04633963501018273,
          0.06684649958850583,
          0.05515780301441594,
          0.12914949459445652,
          0.04527271281208456,
          0.11739214238084208,
          0.16886092879081413,
          0.05675224358803655,
          0.045288785158009666,
          0.060299189457167626,
          0.0551665916492728,
          0.03718149986519239,
          0.11665619369531587,
          0.08887936262967246,
          0.04445818968133675,
          0.065518226302938,
          0.061774667895946545,
          0.2038820271507235,
          0.10458188427572772,
          0.045860729961942945,
          0.07769423547392212,
          0.20687684550358718,
          0.06158749458514892,
          0.06894664329536317,
          0.05774731492347321,
          0.06157785890759562,
          0.06225579158437258,
          0.08324648207447888,
          0.1682785348070418,
          0.05970360638760408,
          0.20770585359358434,
          0.09288205926639614,
          0.05132935813457249,
          0.04248747406270012,
          0.07077307830244564,
          0.054965955876128625,
          0.050517151544758734,
          0.08993550328236137,
          0.11671283340298103,
          0.038182845769097855,
          0.04754754887728174,
          0.06479939189021787,
          0.07348533592056655,
          0.1825676259737402,
          0.060358428386687715,
          0.0434484771119935,
          0.08695707586057809,
          0.07132598249505555,
          0.10789428206132701,
          0.1738169537240185,
          0.09131333787295792,
          0.17251008194349998,
          0.05562497116378219,
          0.048350173445174636,
          0.05429398746736175,
          0.04900318097282671,
          0.15840023845293677,
          0.049424936037942055,
          0.17204665046046635,
          0.07260665388932862,
          0.21098353682642962,
          0.06097927711724326,
          0.08979407500899435,
          0.21948419383223525,
          0.05142731425656519,
          0.10068541259210026,
          0.06994918552632023,
          0.41217327808556853,
          0.06970973207646682,
          0.05286248821419457,
          0.04478583218153424,
          0.054505442077219,
          0.21180513187118222,
          0.07738468428719993,
          0.05585579684659815,
          0.044093475420340575,
          0.12838365673278146,
          0.05792573831333929,
          0.07969611981670668,
          0.052289120657054405,
          0.20037566708410964,
          0.046424248124353494,
          0.0455469503427153,
          0.06757557298565306,
          0.10176364406645785,
          0.048282914428100704,
          0.21676988511526765,
          0.0560871619040514,
          0.05743517807095317,
          0.07383180708933605,
          0.05410970499569622,
          0.04856893550554137,
          0.1801099750913222,
          0.1617125147133533,
          0.05743959198896124,
          0.05842080218864017,
          0.21680271704006648,
          0.06300598291288866,
          0.06450396082542456,
          0.05756710279129145,
          0.17480009000965988,
          0.0876808385924715,
          0.05385408654598743,
          0.21384910072605398,
          0.04952482384027291,
          0.04929989493568624,
          0.08107959938940121,
          0.06394515874403758,
          0.04366942881308852,
          0.04822528049882968,
          0.08014212121675512,
          0.04300079085857977,
          0.07800477028547272,
          0.045026883136753904,
          0.0989491460161459,
          0.06564600226775126,
          0.08223734555072486,
          0.07337072085912713,
          0.32283843628956277,
          0.041179348721768705,
          0.17402741994419058,
          0.061495129968668856,
          0.051201777639040734,
          0.09541004209277879,
          0.04640828737555994,
          0.06826315646531156,
          0.04078577380032538,
          0.07123925361488602,
          0.05574696384677982,
          0.0792206126669129,
          0.05739417649640837,
          0.16891026332590325,
          0.046037102062797326,
          0.04783139077008408,
          0.05876870579510911,
          0.055266496680443505,
          0.07192747098732052,
          0.042745513454017885,
          0.09042347824117068,
          0.061182109138186364,
          0.09522397184365283,
          0.07769364282561386,
          0.05806424135682048,
          0.058584256484878125,
          0.066152874190764,
          0.04652134189674622,
          0.057968337059321653,
          0.05255812232954157,
          0.033354017843440505,
          0.039621117912050946,
          0.04759664384071268,
          0.07769460773708965,
          0.04674784040168402,
          0.1588617635385428,
          0.18418056767081362,
          0.11255587327254782,
          0.0582608697916502,
          0.061998996720058194,
          0.053119632619479676,
          0.07088620342529316,
          0.06124347688507281,
          0.04547379614929031,
          0.10004766951966018,
          0.11249106722093824,
          0.04786004711530496,
          0.23044732792433872,
          0.04828527067815084,
          0.04926664210812554,
          0.05795990607365516,
          0.10049794284760492,
          0.05280944476354263,
          0.07311655415179713,
          0.047683492523325655,
          0.18736154581433132,
          0.042442934722816995,
          0.049397745553463705,
          0.06450943664696693,
          0.04750449851694297,
          0.06900239466483311,
          0.056219818652358394,
          0.05224997220905046,
          0.17362000928334476,
          0.05926605638464587,
          0.05119435447896616,
          0.0631823217209795,
          0.051111665398870916,
          0.04686769590562189,
          0.061151507582402835,
          0.09141037099287877,
          0.04697432646697063,
          0.06322866270751792,
          0.06277467840692849,
          0.05486146253970588,
          0.08412848052030228,
          0.0807702916249708,
          0.06234723369138487,
          0.04577688033993326,
          0.0430403537145986,
          0.06752614081257255,
          0.04662717378159764,
          0.08271043573617179,
          0.05316522719698578,
          0.07918554001137064,
          0.04748284461883127,
          0.0516870938472621,
          0.04620358146720452,
          0.04377549323896422,
          0.12065475950391272,
          0.04819049999493458,
          0.0449102937358572,
          0.055035719505772955,
          0.12021931195938959,
          0.05942666353004348,
          0.07619275622942605,
          0.06403888036640333,
          0.15594705087228933,
          0.10130155853848902,
          0.19150961730018595,
          0.0439135914475984,
          0.06468556711862158,
          0.04915741996468538,
          0.18587225710280192,
          0.06293887698574965,
          0.06322423431219293,
          0.040400177372913654,
          0.06906984208633525,
          0.06538073417143166,
          0.07675339942056283,
          0.059617226102201035,
          0.055054537669332826,
          0.055864661271683595,
          0.08150069012173305,
          0.05074046138823557,
          0.05728341742874317,
          0.06458602263582736,
          0.04602784031142532,
          0.04320913326316008,
          0.10174590875437658,
          0.07217803394012229,
          0.04578662124543631,
          0.15187665990591964,
          0.055063119903940416,
          0.04826832147905123,
          0.04910335651373596,
          0.09373079342398524,
          0.047147482517133237,
          0.21101215827232245,
          0.05498557674727516,
          0.08765715270283987,
          0.05982795663642375,
          0.03334144786520891,
          0.06925831790875626,
          0.04594909566871352,
          0.05083450579612539,
          0.047096426340011974,
          0.0756614877006788,
          0.05421303902460352,
          0.05664474822003161,
          0.04988201952966343,
          0.042558140976438674,
          0.06331463912425132,
          0.058034504231983614,
          0.05152661024759328,
          0.04532767770720612,
          0.047255049962951205,
          0.05147609224295791,
          0.04359634577073651,
          0.08207457631909136,
          0.1957017821125614,
          0.07496038626035376,
          0.08093696233533215,
          0.16197271804945657,
          0.11941917450558331,
          0.06025188521756322,
          0.04715836014725809,
          0.0528037436198948,
          0.044789318851712556,
          0.04469291632736503,
          0.07516542025397228,
          0.056094138566278026,
          0.12634338321369054,
          0.0897627724683758,
          0.045992496104019474,
          0.1060778458276167,
          0.06614645641982914,
          0.043452541205065275,
          0.04464962050459384,
          0.05147818768539237,
          0.049941662077957145,
          0.04785125965396758,
          0.09788056297148642,
          0.08712856737152325,
          0.06256550938548334,
          0.05008369332108929,
          0.06938517317595837,
          0.0679399334409762,
          0.044181596870177836,
          0.07233713891644444,
          0.044832246094395754,
          0.0428935981504893,
          0.043536887276504094,
          0.045965763877916344,
          0.06206766057245343,
          0.04487169593505107,
          0.05703619510312928,
          0.058536260656700645,
          0.13519324147366577,
          0.046284766657039914,
          0.05203596529859161,
          0.035809268409120826,
          0.13270532695997206,
          0.05871999452958455,
          0.20044551387540527,
          0.052165147009770166,
          0.05688171700797913,
          0.16181762722668186,
          0.06016027573480974,
          0.09058495385758969,
          0.048490208640751466,
          0.07323097088874445,
          0.04268072566172184,
          0.04623279662021144,
          0.0648076542471978,
          0.08524544904290834,
          0.04913484788373768,
          0.07620929334575845,
          0.22567107031352585,
          0.054058797280444645,
          0.06081896464590533,
          0.10908065517347545,
          0.05246543113105892,
          0.04525081815650007,
          0.06670166955290444,
          0.04604540222030648,
          0.04626195348532998,
          0.05867361617698438,
          0.06029980522553478,
          0.056700633143637276,
          0.07862113763439778,
          0.06375895742869822,
          0.0676208387365537,
          0.06354269544546876,
          0.045740000523778926,
          0.05640320421417413,
          0.0609580621141084,
          0.0656994623698113,
          0.19144724403181856,
          0.07155590936288163,
          0.13951832264425185,
          0.04765893508778156,
          0.05571575919630352,
          0.05596486952128442,
          0.11041117067509157,
          0.07450614823468148,
          0.03931632175197394,
          0.06306118783253507,
          0.08823019564513886,
          0.07775676602268045,
          0.03804307614773181,
          0.04703099334664332,
          0.05223831796708096,
          0.2146325563117012,
          0.10125765332112974,
          0.029711665683251377,
          0.05374040247967661,
          0.053370186452379266,
          0.058533472531070274,
          0.18044048378098643,
          0.1364638849844678,
          0.04689482802668978,
          0.03246204305740634,
          0.0753380463032503,
          0.07181351757001786,
          0.058402197289249815,
          0.06272161234001875,
          0.05520918890798267,
          0.26979514728216947,
          0.06367477670965035,
          0.07572314126324155,
          0.10362578226592026,
          0.1689661935816672,
          0.15360860797895587,
          0.10035276036286962,
          0.03933937910863788,
          0.06033957676053528,
          0.044066612106169516,
          0.046487928155663445,
          0.18062708324236648,
          0.11195735238770922,
          0.07851129102696819,
          0.04511064735821068,
          0.21420106071333822,
          0.20242621285245138,
          0.047687323988062094,
          0.03243434006516385,
          0.06162765276440164,
          0.22827706887556568,
          0.04507704410043476,
          0.04389821277797295,
          0.04848419901909547,
          0.06911375453838427,
          0.06081075064871916,
          0.045553895874642855,
          0.07383324837106875,
          0.045020950941290626,
          0.060593271347932895,
          0.22556668313367786,
          0.050704036090037756,
          0.06198568985329328,
          0.061431521166638366,
          0.059032047448279626,
          0.12778058238803047,
          0.053952917319771254,
          0.06870019434514298,
          0.052250954502981534,
          0.08962709866872193,
          0.15088253696809556,
          0.04905539278654032,
          0.05226074920272082,
          0.15268879447003203,
          0.08392455501698537,
          0.09211102270702969,
          0.05826344677262656,
          0.05821001190536716,
          0.06414361882909847,
          0.07940682927323661,
          0.06347257360073666,
          0.061827660776644186,
          0.0708933684498362,
          0.054725425252084806,
          0.043317921895516184,
          0.04428763866028795,
          0.08234721247543238,
          0.05035633186214515,
          0.06274814118078055,
          0.052573912110384605,
          0.05898384389907636,
          0.11026250078098464,
          0.19181476310177467,
          0.0437369822511639,
          0.046219932355398986,
          0.059643193702506744,
          0.2035863765660336,
          0.046394218016571835,
          0.05768987887740433,
          0.060802875670769835,
          0.1445753834138519,
          0.050033248583294956,
          0.06544046775680934,
          0.22022879213535032,
          0.0868147983080134,
          0.061285118906613784,
          0.11244350131469188,
          0.06429021311332223,
          0.19933730976401387,
          0.043799137475967836,
          0.14958580825974277,
          0.0910742291797626,
          0.056486718277501125,
          0.056920160969219286,
          0.06313320511301752,
          0.08661675302049364,
          0.06636447399649958,
          0.20890887413326148,
          0.0439073840307944,
          0.12787836768146585,
          0.0798541158370256,
          0.12298559924607491,
          0.05233141580607471,
          0.06447536271479223,
          0.04537090446734968,
          0.1522309720186562,
          0.11040683442348828,
          0.062285468704374916,
          0.05752419899452689,
          0.05384912286530391,
          0.21644549762661464,
          0.06525027413195264,
          0.05703796947079022,
          0.05978901399829535,
          0.02741973204124526,
          0.06765871651340691,
          0.04318001868063738,
          0.050532570320830576,
          0.059936331453780856,
          0.06287952050871293,
          0.05680126707713685,
          0.046964582180675736,
          0.046695995408233215,
          0.04042887363184479,
          0.047886465097525824,
          0.03217092633829396,
          0.06391141361374833,
          0.07397263494421832,
          0.03686773484420196,
          0.09496344084278067,
          0.04513512791904787,
          0.047646528467646616,
          0.05103033565083668,
          0.09917341264208493,
          0.13548219509113202,
          0.09380691291585484,
          0.044698508844674585,
          0.046879014002177206,
          0.03457791973951269,
          0.060504105560892515,
          0.1586891918657616,
          0.07237866444425191,
          0.04945087399633623,
          0.07878602666781007,
          0.06717458705552282,
          0.058183703986946236,
          0.04665192158219125,
          0.13477540172199953,
          0.3163290061072991,
          0.12426252061893125,
          0.0407136172144596,
          0.08949728036478839,
          0.1812741716840805,
          0.0451824777811109,
          0.04518921840346363,
          0.05902443401637893,
          0.05512218405864205,
          0.04439191953257087,
          0.046944923833802166,
          0.04451053937557904,
          0.06476998515473745,
          0.07019337776644868,
          0.05841991979297295,
          0.07630693194868476,
          0.051498896989762184,
          0.16015496211135644,
          0.04836212029686395,
          0.24355220531889402,
          0.2062780855502715,
          0.07810208456297246,
          0.0516519744746414,
          0.0440769712818531,
          0.06797909306195306,
          0.06617294272067951,
          0.06646377117903367,
          0.11740092459920892,
          0.086744303390838,
          0.09676222081767553,
          0.0747588916490055,
          0.04443958346820173,
          0.04938027399302111,
          0.05942398898712556,
          0.07242554187124917,
          0.08894360611622934,
          0.051722121899373315,
          0.07001146046246182,
          0.04619174047129235,
          0.06474612688232545,
          0.04661196501756439,
          0.06583188091034343,
          0.1047581179064497,
          0.026278216702602344,
          0.035831420647270275,
          0.057886960406759926,
          0.045470828362858234,
          0.04662087819877552,
          0.047992630374240855,
          0.07336402459328388,
          0.18606365849720963,
          0.05885646208014039,
          0.0647114615374823,
          0.22912867903995943,
          0.14218703317093098,
          0.15986884333142098,
          0.04878851336117941,
          0.15005542180728926,
          0.05259414970796149,
          0.2066841468034062,
          0.047467180423506124,
          0.19253865701114936,
          0.0474350734463222,
          0.045356759787077726,
          0.045215939975467634,
          0.12389070285605303,
          0.0463486123762739,
          0.18121414362637445,
          0.07916332026292203,
          0.06187448344325111,
          0.03828911207775622,
          0.04973573341871061,
          0.04439422545440439,
          0.1788862392004013,
          0.046029758999150794,
          0.08105834400821799,
          0.05308193525830439,
          0.07728421495425708,
          0.047717104466559405,
          0.05528553239447954,
          0.10100485462280184,
          0.18046229535690156,
          0.04341383659506039,
          0.04449922953778421,
          0.0727038915551321,
          0.07870584503218828,
          0.059797596709456,
          0.06251138775169426,
          0.06192083512564268,
          0.04574248396074308,
          0.047323124848956545,
          0.04500039274260494,
          0.04827130811438015,
          0.051960409859543304,
          0.07822261441529965,
          0.06140702172982579,
          0.13554964879614545,
          0.056373765157285795,
          0.09034928804421151,
          0.046995943916285636,
          0.044093651638532516,
          0.08331412897869675,
          0.08646437196422635,
          0.06741122344375967,
          0.18225711177016476,
          0.13403030079086267,
          0.0504338512662233,
          0.08589799187360386,
          0.04774134257007551,
          0.07991757741592345,
          0.04156341995785092,
          0.0357311269957382,
          0.03649615664570484,
          0.05050538653257055,
          0.05357978515802798,
          0.047494933248911735,
          0.0555430850006077,
          0.05430522940782635,
          0.04154294465295032,
          0.10775380548512276,
          0.2121964259228079,
          0.08946416960233392,
          0.2059902278160578,
          0.1399312789443829,
          0.059139216922363055,
          0.06994759136361245,
          0.19204651054679156,
          0.07058743542602286,
          0.07054112937327911,
          0.0457875827359765,
          0.03970524261357605,
          0.04775175019625119,
          0.04797650446608188,
          0.1973544260600369,
          0.07349588850851485,
          0.0456089250477108,
          0.0488054946549715,
          0.04405064416924216,
          0.05304669626310353,
          0.09858441541596903,
          0.05162929485163476,
          0.047580797876377305,
          0.0665207982937878,
          0.13211348134312986,
          0.0647411368102431,
          0.062497824994719245,
          0.2767398396481122,
          0.0509515904081469,
          0.059413846042427124,
          0.06162322420655744,
          0.061914636973751644,
          0.1890009484494362,
          0.04506717431530545,
          0.2351198778397371,
          0.04680044258577013,
          0.209022568098872,
          0.09611800050652046,
          0.04762947298197242,
          0.04541179757846346,
          0.06419793096406892,
          0.0557797292759481,
          0.08464179821261379,
          0.05354370518414982,
          0.04985330703223725,
          0.05106832256545662,
          0.05147798068497457,
          0.32926416229393457,
          0.051674434935646885,
          0.1889507783801272,
          0.04770660177440774,
          0.09264634789705951,
          0.08417158969911202,
          0.06073889197854708,
          0.043569440638717614,
          0.03212150626779746,
          0.07490562606208913,
          0.044849388314830145,
          0.11772561811238753,
          0.041799024052765324,
          0.0695679610616253,
          0.201127972475311,
          0.09633942710312049,
          0.08645734193860014,
          0.04672993142683921,
          0.0823905024911514,
          0.04329182789729265,
          0.0969074111269853,
          0.04867215369696141,
          0.16601443201080268,
          0.04531220523806179,
          0.062246475784062144,
          0.05455991214234115,
          0.04636731250732027,
          0.04733495543592219,
          0.0632753978618122,
          0.05942465458643867,
          0.0586462188929557,
          0.11200562955305168,
          0.10331301872869253,
          0.12192222387159837,
          0.1448564757802689,
          0.05291806318390657,
          0.08300753624408572,
          0.06650909074555093,
          0.045526245308073914,
          0.07957015673485664,
          0.05095370822329212,
          0.043772098595441004,
          0.20263962761668747,
          0.054485175555541776,
          0.0495904397370477,
          0.18474620495606625,
          0.0491328942852078,
          0.07756221259042952,
          0.09921873170037973,
          0.06511593548078709,
          0.10639152403454903,
          0.08701460295616678,
          0.06402863778647612,
          0.06920707443596412,
          0.04642860014307007,
          0.06073235195354253,
          0.06378239297804239,
          0.09498349341852624,
          0.07117509925965995,
          0.05350047671842048,
          0.050706779054586586,
          0.08581273094699644,
          0.048802057305815466,
          0.12823746362522337,
          0.04733130056704327,
          0.04344275428633667,
          0.028257662295618213,
          0.1783966789340709,
          0.07288994757964277,
          0.062080640550822325,
          0.0750830990553471,
          0.061431094961743815,
          0.058273792965333686,
          0.04897732806970122,
          0.06419325525017425,
          0.06415052672642235,
          0.22151186534710057,
          0.06965215711408992,
          0.2225077149251462,
          0.05316992391036597,
          0.07648135759165096,
          0.053190495660629306,
          0.06109443957355097,
          0.047530170255411085,
          0.046810950889649455,
          0.05533399715868103,
          0.1342725661671592,
          0.05635769598252048,
          0.055006163388333265,
          0.07687315618753714,
          0.0592337193796554,
          0.0594336372828891,
          0.04805361577100078,
          0.0548975105102947,
          0.15381154181050233,
          0.21767920214386136,
          0.1397564494092875,
          0.1695270461853287,
          0.04239942358008154,
          0.045864837988716656,
          0.06549590080539228,
          0.045850496358930515,
          0.048187443406280096,
          0.04301949676798614,
          0.07415160313868427,
          0.053831751747748256,
          0.07787572989002245,
          0.049960638852706116,
          0.17928161669213222,
          0.20263485562909844,
          0.05702633680459934,
          0.07564528494885447,
          0.06806651470256944,
          0.052170558679572,
          0.04992244350988713,
          0.04842963604949668,
          0.06909334200115647,
          0.07809242889997117,
          0.07421113696698915,
          0.13045719028075842,
          0.04965639699124255,
          0.10857355855860404,
          0.04636434218361554,
          0.04489455953914177,
          0.04450944028030805,
          0.14127324796965193,
          0.18854376808476225,
          0.04543360464871985,
          0.18648358789608913,
          0.05782126072886139,
          0.05872570017118696,
          0.045785707308597656,
          0.10703019609082903,
          0.05604000870539745,
          0.07807237633273935,
          0.0830579660802433,
          0.06566310410370407,
          0.2156761925287904,
          0.07575974065344793,
          0.10709599135221337,
          0.04604879228176775,
          0.17653065266078438,
          0.21002760810832682,
          0.046446359277147506,
          0.155035063461141,
          0.22992627133656734,
          0.06797868855818665,
          0.08957956687316974,
          0.08099702993444186,
          0.07088315592452456,
          0.0614023481478381,
          0.06747396154265263,
          0.055564034758861805,
          0.20417352188491883,
          0.04260963015803519,
          0.05651934450317553,
          0.06499568279501841,
          0.044005312741130655,
          0.0547459800037253,
          0.052988104120280086,
          0.065232531190404,
          0.2080674319625158,
          0.046997982284989664,
          0.0564928947192808,
          0.0693816911673891,
          0.04570945107039568,
          0.12378199129998549,
          0.04531053598298319,
          0.08170276875713121,
          0.10224692353173735,
          0.08513996898093427,
          0.04790726333336715,
          0.05070652426506901,
          0.062469895077713875,
          0.18805385037816363,
          0.05966247135192826,
          0.05024727847604927,
          0.5072357678978361,
          0.1862002550642386,
          0.09439898707511693,
          0.04773826227123304,
          0.03966066361196399,
          0.0745197552293826,
          0.07774203223618704,
          0.09661236602134937,
          0.04139475884904898,
          0.052268035571188115,
          0.04117336881314446,
          0.07547944158649063,
          0.1598495297922104,
          0.08380893618687185,
          0.08949047912398239,
          0.09058263057969708,
          0.028526551376731046,
          0.2043012462016216,
          0.05091860985613442,
          0.05872009209837237,
          0.06320869674673682,
          0.04558547428673489,
          0.0928251538899206,
          0.19621267343175625,
          0.224461036142985,
          0.17036109534462812,
          0.09825451080543494,
          0.08096021561892032,
          0.10678902800573684,
          0.1783573801218769,
          0.06315897022090905,
          0.04702484844193854,
          0.04639786029762909,
          0.046263304467813585,
          0.06144873262796291,
          0.058587667401101405,
          0.054417748808263416,
          0.044752697295618316,
          0.058029474934484744,
          0.050657313922650084,
          0.05301412984787484,
          0.07569824503888918,
          0.05595408700238972,
          0.1861010980471584,
          0.04505178096047143,
          0.0626287183374932,
          0.06942061120985413,
          0.13261432184830746,
          0.06630746983449809,
          0.1322281884794847,
          0.05267009855598692,
          0.043421392826683,
          0.047862630394355635,
          0.04679508008343893,
          0.051804779666610165,
          0.05085820482792666,
          0.1423872641331429,
          0.051524862041711465,
          0.12325172483324956,
          0.034039007011013304,
          0.03417263140049324,
          0.09159611536689677,
          0.05147193235384793,
          0.04367912959899948,
          0.04983731836821264,
          0.07679586352080547,
          0.04473188118994529,
          0.06588924283320953,
          0.04993263109714154,
          0.052796238970185615,
          0.22269676432458874,
          0.04682250071071326,
          0.045471106254899356,
          0.04710747477292892,
          0.06317962074575031,
          0.06920315952237484,
          0.17978149680026456,
          0.05505763239067276,
          0.12653664221834138,
          0.05792279597660782,
          0.19471573389007524,
          0.08073613977539408,
          0.18651582878660203,
          0.11007735850813394,
          0.043981963366062686,
          0.17998743221107572,
          0.09222628748058721,
          0.05087949089191571,
          0.19743554846578582,
          0.08742387380191799,
          0.055648275749382387,
          0.16843610684749027,
          0.04956584984374044,
          0.046380918282345265,
          0.08878119102384342,
          0.04322928380911281,
          0.05467127998240681,
          0.08746925387176276,
          0.1649344441462534,
          0.06922566448158729,
          0.06690395595845013,
          0.08513218326086111,
          0.07828538362170129,
          0.05496733422611433,
          0.17425482026793365,
          0.060649447228435724,
          0.22560204958612218,
          0.06291414494371289,
          0.0633351567377411,
          0.19327215596092262,
          0.150698633172621,
          0.04618835714902335,
          0.04850275360666131,
          0.06738626354387375,
          0.06293346777709244,
          0.06520749167624774,
          0.07521290901201348,
          0.09774730069234225,
          0.21046226706745544,
          0.06989171694377562,
          0.06260730992301763,
          0.06622019636991873,
          0.05226540293922797,
          0.08195883716361346,
          0.10418242565501225,
          0.04853042324396754,
          0.0469609547628095,
          0.07866879362047897,
          0.06600564491797183,
          0.05241392408729441,
          0.13768093458027353,
          0.09801895580922287,
          0.054969988792766,
          0.04437554124058427,
          0.06545715526922138,
          0.06238557402776225,
          0.08688126019353637,
          0.054960120377880735,
          0.06046190388509821,
          0.06771270444220422,
          0.044794053206741305,
          0.048030794076200374,
          0.052630891973778425,
          0.1609160356186875,
          0.04616733593868962,
          0.06240669851347297,
          0.04381692383316477,
          0.08664398872843279,
          0.06451950443800233,
          0.04583319966856761,
          0.045217102744632455,
          0.059467492083271074,
          0.16482955814236694,
          0.054072046961232176,
          0.06415339696996775,
          0.21558107918015526,
          0.061637022999314214,
          0.08540363897408133,
          0.06564522169740082,
          0.04558634189221676,
          0.058246194313727476,
          0.04891881329303347,
          0.06112016935324771,
          0.1708499141507192,
          0.15966222966366084,
          0.04707651165386312,
          0.17794323935861986,
          0.08983220802786707,
          0.20959407515055498,
          0.16945043922098785,
          0.04707859049471146,
          0.05681606477159547,
          0.05269858261564434,
          0.04554096103461798,
          0.05960956709694715,
          0.05035261622413514,
          0.21318615043686495,
          0.04661606117852784,
          0.0721445685650623,
          0.06891557764743665,
          0.05145706235725537,
          0.08091316794896543,
          0.04904668834345727,
          0.05557803010938326,
          0.04652521330084755,
          0.05882374516894824,
          0.042484784573187925,
          0.04940384471195762,
          0.07064987400682318,
          0.0483513550122927,
          0.13686467242834902,
          0.0436948678788845,
          0.05205261181907386,
          0.11894341045236785,
          0.05007072022696497,
          0.04650622706141761,
          0.08135596243169133,
          0.0452252860394504,
          0.062171140320492084,
          0.04679074368338822,
          0.042586942004440194,
          0.06576594788637824,
          0.08934198503906263,
          0.09078287615801663,
          0.10516822896683993,
          0.045521993935221675,
          0.05058997500399846,
          0.1565792878772005,
          0.04761478690994982,
          0.09216344843394714,
          0.1225808095873396,
          0.06673234764067539,
          0.05192374489941241,
          0.053898234066069875,
          0.06817187302150376,
          0.05466922018360239,
          0.050637350324088455,
          0.09026477033091491,
          0.04556802477614148,
          0.06608747346161004,
          0.05703520560301624,
          0.055786212302052995,
          0.08178664389729905,
          0.22552127037989123,
          0.07585398740562102,
          0.05982571584858904,
          0.06471297238538204,
          0.10103483786838652,
          0.05514336761784132,
          0.08528647777209616,
          0.12957378640138054,
          0.04959312663226231,
          0.05495547708524702,
          0.20145820015670918,
          0.045903027780274865,
          0.07523715437843588,
          0.149495658495709,
          0.047115377828950776,
          0.07712328093138923,
          0.05241712568722138,
          0.06918632306492331,
          0.19584671024434003,
          0.19860359443805986,
          0.05784044696752326,
          0.10949110906510491,
          0.06792431208962253,
          0.06681591464098006,
          0.08420855870171656,
          0.12986090672226144,
          0.15777059510053967,
          0.060465997549800005,
          0.06415103139533693,
          0.08003004672572041,
          0.039144219836032855,
          0.05045794203105954,
          0.12898665799096407,
          0.05247054968990093,
          0.06802928561384698,
          0.21841278935827801,
          0.07098915836332684,
          0.09093822455298066,
          0.05880449772151737,
          0.0682820353436689,
          0.046916374240264874,
          0.0551600295302047,
          0.07273663293479248,
          0.20804601612544663,
          0.13864275721103805,
          0.07589718464619345,
          0.42379189346824003,
          0.0658929290180662,
          0.04623851879583916,
          0.10326310460358115,
          0.14453404337788264,
          0.06933635494155255,
          0.042782771968741785,
          0.07128114967932257,
          0.045666670505155035,
          0.08589219266630663,
          0.07035337634640904,
          0.06376169407856616,
          0.054372891586156116,
          0.036959868048261825,
          0.05247061067922017,
          0.06039434671087382,
          0.05284142381905669,
          0.18822863031281434,
          0.15930961666272575,
          0.07550118541990959,
          0.1562970290603175,
          0.07213024026509482,
          0.0673145529161571,
          0.12523288797594834,
          0.1148993171218294,
          0.049333087719267824,
          0.0420510216713923,
          0.05100870943446692,
          0.09162218380926695,
          0.0781737614276657,
          0.06742477532408529,
          0.07510091190199696,
          0.06791187015020336,
          0.09471559471323115,
          0.05173843805406332,
          0.20599757445648664,
          0.14488408330324798,
          0.048729686862605516,
          0.047133856244248325,
          0.04005228133533921,
          0.06591340945715471,
          0.14006127267819685,
          0.06499247704204174,
          0.04678353468672022,
          0.05834538444425133,
          0.05013938917529233,
          0.06559405673770147,
          0.05468467145062898,
          0.07878018518605553,
          0.23525969683789338,
          0.06999906899199755,
          0.0443068993075634,
          0.09055307707915136,
          0.047997725523425405,
          0.05036871150522912,
          0.08437626677262064,
          0.08795008475202143,
          0.08944990862605302,
          0.0557970772513259,
          0.06497707834641796,
          0.05832972282718342,
          0.036790793810226846,
          0.15687634636812867,
          0.0619446271444008,
          0.19937835399023784,
          0.05876140242125548,
          0.06042736888288255,
          0.03140241917786877,
          0.044947256888037135,
          0.05015755321584374,
          0.04324332042314335,
          0.0458976757355227,
          0.053601733063818116,
          0.14184090990285758,
          0.13095110727107317,
          0.06676450329739972,
          0.09945102677857666,
          0.06757846469805417,
          0.08168212262664233,
          0.05383354327981757,
          0.2120309568179509,
          0.06127362270565367,
          0.21142843590560073,
          0.23489692139050178,
          0.04119307841010843,
          0.09843159473985684,
          0.0445788117553296,
          0.04148469158091131,
          0.05025567625230083,
          0.16623591699134183,
          0.04538039584476535,
          0.2519901364024885,
          0.0876898467765176,
          0.04278558207893408,
          0.0529914296271902,
          0.05703379770984891,
          0.12744705551319468,
          0.16121191013164482,
          0.3130352712776081,
          0.0658402535578866,
          0.04685532844395175,
          0.19026430856968285,
          0.04080409699296775,
          0.20800669451864853,
          0.053740042293417944,
          0.05450553581905852,
          0.06887970579617404,
          0.04911589718685029,
          0.04361665553148533,
          0.14600317429587759,
          0.06377926184414148,
          0.06555662563760856,
          0.04727003502346413,
          0.07802179059299953,
          0.07519541952726495,
          0.06056630985190367,
          0.06827016202641725,
          0.13527961793054327,
          0.06955188991161662,
          0.18252569016496556,
          0.05433761135097248,
          0.07490086502237145,
          0.056738025747270035,
          0.21643493643798772,
          0.06659259698522027,
          0.05109566563141594,
          0.04670608234495021,
          0.06439623996640527,
          0.057517026077960116,
          0.09451175820069695,
          0.05767042720823907,
          0.07281351873062394,
          0.050404726991210576,
          0.04473768991287106,
          0.04553346595646445,
          0.05246841590122264,
          0.27535688076970705,
          0.07161622073165266,
          0.07249463412691368,
          0.06546489189535118,
          0.07134994251241532,
          0.05558452569347097,
          0.06909055303656739,
          0.05435089767805855,
          0.043662207316702624,
          0.06062812665238142,
          0.07950082742402824,
          0.04250459319653103,
          0.0575223616773097,
          0.18326593352561593,
          0.05785294803716177,
          0.06262533091930585,
          0.04835938591948249,
          0.060568678315677985,
          0.06394305881987687,
          0.051151263443964944,
          0.06926572713370881,
          0.07817518485316417,
          0.049207686042524935,
          0.04595372983352079,
          0.09626637824434,
          0.04382026489768496,
          0.1614166335924861,
          0.04450585478955614,
          0.16382282955790506,
          0.0443591599061073,
          0.04453210549263745,
          0.05246985265802963,
          0.06688149063504063,
          0.11824464679752357,
          0.04604563705367584,
          0.06668453384450726,
          0.32493316173034886,
          0.04929801174262896,
          0.4388970823279669,
          0.07376117435908922,
          0.05828842790637284,
          0.07337159298221424,
          0.050393789879079734,
          0.20572365548974741,
          0.0718207671619325,
          0.04776280899509666,
          0.06422805791089957,
          0.05029690080680022,
          0.046195200760146035,
          0.048047924872425415,
          0.04790132529458813,
          0.058932097843327445,
          0.04773107441221857,
          0.06877305274889002,
          0.04648799918875118,
          0.09114490465758704,
          0.06638556261696449,
          0.04332628518938516,
          0.07108214267103394,
          0.05793575613186826,
          0.062282154812502266,
          0.12868687015422653,
          0.05533660189801971,
          0.20322318386656674,
          0.04759592061517643,
          0.06609763180033479,
          0.05814205708879329,
          0.05307157827386319,
          0.04075709232381827,
          0.07893453065171313,
          0.05109828698734792,
          0.041865061944257556,
          0.06095933037596926,
          0.0436227095012057,
          0.15756616259362427,
          0.14227290125594444,
          0.055645775649098776,
          0.2303711324256525,
          0.04638066859955791,
          0.05448193465513374,
          0.20846248946079574,
          0.060564879767383374,
          0.04518378987064646,
          0.04981631382577459,
          0.0707931805782029,
          0.06296831271800987,
          0.04578365934134166,
          0.2451466911698889,
          0.04492755372897759,
          0.11633979199764079,
          0.17937610382339728,
          0.06439602624545449,
          0.09545610748348267,
          0.06838704513162856,
          0.09389386133842856,
          0.054054400731213266,
          0.061077993906117185,
          0.05614021804847739,
          0.05398200667324528,
          0.05997321898142113,
          0.04368735005301214,
          0.0493192368067454,
          0.1421632344179088,
          0.13949891258694702,
          0.030572702886141653,
          0.07783392186503281,
          0.14953954936446562,
          0.12964115988079372,
          0.05493099364883368,
          0.07043274096725788,
          0.04787667697848739,
          0.04561084758180486,
          0.06795065569605131,
          0.03636024962351592,
          0.07558594063287769,
          0.1137434029402351,
          0.06819648287437469,
          0.061978651596969414,
          0.05993649185350054,
          0.059421012587570446,
          0.05134648282854085,
          0.04511420442958509,
          0.05718756408692148,
          0.1678788051278189,
          0.06815730485962881,
          0.04996054244732021,
          0.050430764516632844,
          0.050055928402793715,
          0.06287220964635121,
          0.059485132297108126,
          0.06863819204800066,
          0.058550962906471465,
          0.04739136101271726,
          0.058037496434162616,
          0.05038317303329448,
          0.04887752533619899,
          0.05802781284935182,
          0.24267651976690077,
          0.06473488347681051,
          0.0573048147749656,
          0.05997308763669135,
          0.04937462285851094,
          0.04570917534510381,
          0.0697406447679719,
          0.21730432372654698,
          0.044953474345590064,
          0.16601967278559238,
          0.05026446547260828,
          0.04473369735627059,
          0.045184694384244765,
          0.11347162156438254,
          0.0983896758635817,
          0.0646725230855443,
          0.07766080683153896,
          0.20438224898487495,
          0.19992254901542447,
          0.11836926138240607,
          0.05698931319179855,
          0.06963663717084831,
          0.0623191992328361,
          0.047345524974370244,
          0.04492922660422905,
          0.06086858810815508,
          0.05681613905738211,
          0.0561576911539552,
          0.06290925296789014,
          0.0432932572961159,
          0.11586632519777398,
          0.04395459701002754,
          0.21527806645363254,
          0.07347686583309482,
          0.04563300446587281,
          0.0645748807448323,
          0.05078519017598133,
          0.048339277333259795,
          0.3082506316305317,
          0.04962210220495857,
          0.07840640800030528,
          0.05178634004103762,
          0.04490484288797192,
          0.045505376395490287,
          0.05956886763971628,
          0.0554022833313146,
          0.12228103867734583,
          0.08283923028434757,
          0.17607166283048942,
          0.05927572808488501,
          0.05176309353737787,
          0.0615969547332966,
          0.07452279684205652,
          0.04657516337723317,
          0.20550685586875994,
          0.1801397217600289,
          0.048310404131241456,
          0.04695942413811232,
          0.059048436826075,
          0.1576140971297841,
          0.09764579147331433,
          0.056755065973007085,
          0.0653719261866571,
          0.08403183080819908,
          0.06220972579585332,
          0.034404913984000016,
          0.04777711065041042,
          0.04439556843521259,
          0.04662188860246351,
          0.1974433032911285,
          0.0455252527608359,
          0.07006638306579242,
          0.044820251954998905,
          0.056579588061697196,
          0.041554850436359,
          0.04502361967496909,
          0.047162635970469595,
          0.21241109989124538,
          0.04542905456392458,
          0.06292883361533072,
          0.05446992030891059,
          0.0466973600139706,
          0.057587107632106935,
          0.2255771195765052,
          0.21425314195715123,
          0.08352392041493689,
          0.07541147654779985,
          0.06308105097469333,
          0.07810835393500638,
          0.08349885820826089,
          0.05799479431977214,
          0.0861375138122533,
          0.057321291848448044,
          0.07055441662280218,
          0.06757357318813177,
          0.05721710518857492,
          0.1218624807449594,
          0.048290563158686496,
          0.03501622641660892,
          0.1514840203577494,
          0.12414045499158657,
          0.11396945740346699,
          0.0894625829399515,
          0.2650272040232141,
          0.17433761947203472,
          0.04553909909136562,
          0.21447994061780662,
          0.08148458743207213,
          0.05479441400644288,
          0.046942891737021875,
          0.04486352910053968,
          0.047958834694832225,
          0.047268688619478215,
          0.05169281002246896,
          0.06817674984866942,
          0.07500325274107522,
          0.05201008130113713,
          0.16177060603573043,
          0.04872479392917139,
          0.0572052170292107,
          0.0463996078079692,
          0.048698804032368016,
          0.04419215716664762,
          0.058312775442518214,
          0.0532275439376137,
          0.04850929725806632,
          0.051142547450417714,
          0.15217767515549552,
          0.17443455872178612,
          0.06174102026925637,
          0.053449192031703875,
          0.044427611687228634,
          0.07358436519016513,
          0.04718880838090209,
          0.20420373484667015,
          0.07261850840955802,
          0.20114512018138275,
          0.0462670855610414,
          0.06845344128206866,
          0.03649267468801901,
          0.19476293419698965,
          0.04347011014750335,
          0.06144918780458777,
          0.04575262503127395,
          0.15317868095260687,
          0.07960777823055915
         ],
         "xaxis": "x",
         "yaxis": "y"
        }
       ],
       "layout": {
        "barmode": "relative",
        "legend": {
         "tracegroupgap": 0
        },
        "margin": {
         "t": 60
        },
        "template": {
         "data": {
          "bar": [
           {
            "error_x": {
             "color": "#2a3f5f"
            },
            "error_y": {
             "color": "#2a3f5f"
            },
            "marker": {
             "line": {
              "color": "#E5ECF6",
              "width": 0.5
             }
            },
            "type": "bar"
           }
          ],
          "barpolar": [
           {
            "marker": {
             "line": {
              "color": "#E5ECF6",
              "width": 0.5
             }
            },
            "type": "barpolar"
           }
          ],
          "carpet": [
           {
            "aaxis": {
             "endlinecolor": "#2a3f5f",
             "gridcolor": "white",
             "linecolor": "white",
             "minorgridcolor": "white",
             "startlinecolor": "#2a3f5f"
            },
            "baxis": {
             "endlinecolor": "#2a3f5f",
             "gridcolor": "white",
             "linecolor": "white",
             "minorgridcolor": "white",
             "startlinecolor": "#2a3f5f"
            },
            "type": "carpet"
           }
          ],
          "choropleth": [
           {
            "colorbar": {
             "outlinewidth": 0,
             "ticks": ""
            },
            "type": "choropleth"
           }
          ],
          "contour": [
           {
            "colorbar": {
             "outlinewidth": 0,
             "ticks": ""
            },
            "colorscale": [
             [
              0,
              "#0d0887"
             ],
             [
              0.1111111111111111,
              "#46039f"
             ],
             [
              0.2222222222222222,
              "#7201a8"
             ],
             [
              0.3333333333333333,
              "#9c179e"
             ],
             [
              0.4444444444444444,
              "#bd3786"
             ],
             [
              0.5555555555555556,
              "#d8576b"
             ],
             [
              0.6666666666666666,
              "#ed7953"
             ],
             [
              0.7777777777777778,
              "#fb9f3a"
             ],
             [
              0.8888888888888888,
              "#fdca26"
             ],
             [
              1,
              "#f0f921"
             ]
            ],
            "type": "contour"
           }
          ],
          "contourcarpet": [
           {
            "colorbar": {
             "outlinewidth": 0,
             "ticks": ""
            },
            "type": "contourcarpet"
           }
          ],
          "heatmap": [
           {
            "colorbar": {
             "outlinewidth": 0,
             "ticks": ""
            },
            "colorscale": [
             [
              0,
              "#0d0887"
             ],
             [
              0.1111111111111111,
              "#46039f"
             ],
             [
              0.2222222222222222,
              "#7201a8"
             ],
             [
              0.3333333333333333,
              "#9c179e"
             ],
             [
              0.4444444444444444,
              "#bd3786"
             ],
             [
              0.5555555555555556,
              "#d8576b"
             ],
             [
              0.6666666666666666,
              "#ed7953"
             ],
             [
              0.7777777777777778,
              "#fb9f3a"
             ],
             [
              0.8888888888888888,
              "#fdca26"
             ],
             [
              1,
              "#f0f921"
             ]
            ],
            "type": "heatmap"
           }
          ],
          "heatmapgl": [
           {
            "colorbar": {
             "outlinewidth": 0,
             "ticks": ""
            },
            "colorscale": [
             [
              0,
              "#0d0887"
             ],
             [
              0.1111111111111111,
              "#46039f"
             ],
             [
              0.2222222222222222,
              "#7201a8"
             ],
             [
              0.3333333333333333,
              "#9c179e"
             ],
             [
              0.4444444444444444,
              "#bd3786"
             ],
             [
              0.5555555555555556,
              "#d8576b"
             ],
             [
              0.6666666666666666,
              "#ed7953"
             ],
             [
              0.7777777777777778,
              "#fb9f3a"
             ],
             [
              0.8888888888888888,
              "#fdca26"
             ],
             [
              1,
              "#f0f921"
             ]
            ],
            "type": "heatmapgl"
           }
          ],
          "histogram": [
           {
            "marker": {
             "colorbar": {
              "outlinewidth": 0,
              "ticks": ""
             }
            },
            "type": "histogram"
           }
          ],
          "histogram2d": [
           {
            "colorbar": {
             "outlinewidth": 0,
             "ticks": ""
            },
            "colorscale": [
             [
              0,
              "#0d0887"
             ],
             [
              0.1111111111111111,
              "#46039f"
             ],
             [
              0.2222222222222222,
              "#7201a8"
             ],
             [
              0.3333333333333333,
              "#9c179e"
             ],
             [
              0.4444444444444444,
              "#bd3786"
             ],
             [
              0.5555555555555556,
              "#d8576b"
             ],
             [
              0.6666666666666666,
              "#ed7953"
             ],
             [
              0.7777777777777778,
              "#fb9f3a"
             ],
             [
              0.8888888888888888,
              "#fdca26"
             ],
             [
              1,
              "#f0f921"
             ]
            ],
            "type": "histogram2d"
           }
          ],
          "histogram2dcontour": [
           {
            "colorbar": {
             "outlinewidth": 0,
             "ticks": ""
            },
            "colorscale": [
             [
              0,
              "#0d0887"
             ],
             [
              0.1111111111111111,
              "#46039f"
             ],
             [
              0.2222222222222222,
              "#7201a8"
             ],
             [
              0.3333333333333333,
              "#9c179e"
             ],
             [
              0.4444444444444444,
              "#bd3786"
             ],
             [
              0.5555555555555556,
              "#d8576b"
             ],
             [
              0.6666666666666666,
              "#ed7953"
             ],
             [
              0.7777777777777778,
              "#fb9f3a"
             ],
             [
              0.8888888888888888,
              "#fdca26"
             ],
             [
              1,
              "#f0f921"
             ]
            ],
            "type": "histogram2dcontour"
           }
          ],
          "mesh3d": [
           {
            "colorbar": {
             "outlinewidth": 0,
             "ticks": ""
            },
            "type": "mesh3d"
           }
          ],
          "parcoords": [
           {
            "line": {
             "colorbar": {
              "outlinewidth": 0,
              "ticks": ""
             }
            },
            "type": "parcoords"
           }
          ],
          "pie": [
           {
            "automargin": true,
            "type": "pie"
           }
          ],
          "scatter": [
           {
            "marker": {
             "colorbar": {
              "outlinewidth": 0,
              "ticks": ""
             }
            },
            "type": "scatter"
           }
          ],
          "scatter3d": [
           {
            "line": {
             "colorbar": {
              "outlinewidth": 0,
              "ticks": ""
             }
            },
            "marker": {
             "colorbar": {
              "outlinewidth": 0,
              "ticks": ""
             }
            },
            "type": "scatter3d"
           }
          ],
          "scattercarpet": [
           {
            "marker": {
             "colorbar": {
              "outlinewidth": 0,
              "ticks": ""
             }
            },
            "type": "scattercarpet"
           }
          ],
          "scattergeo": [
           {
            "marker": {
             "colorbar": {
              "outlinewidth": 0,
              "ticks": ""
             }
            },
            "type": "scattergeo"
           }
          ],
          "scattergl": [
           {
            "marker": {
             "colorbar": {
              "outlinewidth": 0,
              "ticks": ""
             }
            },
            "type": "scattergl"
           }
          ],
          "scattermapbox": [
           {
            "marker": {
             "colorbar": {
              "outlinewidth": 0,
              "ticks": ""
             }
            },
            "type": "scattermapbox"
           }
          ],
          "scatterpolar": [
           {
            "marker": {
             "colorbar": {
              "outlinewidth": 0,
              "ticks": ""
             }
            },
            "type": "scatterpolar"
           }
          ],
          "scatterpolargl": [
           {
            "marker": {
             "colorbar": {
              "outlinewidth": 0,
              "ticks": ""
             }
            },
            "type": "scatterpolargl"
           }
          ],
          "scatterternary": [
           {
            "marker": {
             "colorbar": {
              "outlinewidth": 0,
              "ticks": ""
             }
            },
            "type": "scatterternary"
           }
          ],
          "surface": [
           {
            "colorbar": {
             "outlinewidth": 0,
             "ticks": ""
            },
            "colorscale": [
             [
              0,
              "#0d0887"
             ],
             [
              0.1111111111111111,
              "#46039f"
             ],
             [
              0.2222222222222222,
              "#7201a8"
             ],
             [
              0.3333333333333333,
              "#9c179e"
             ],
             [
              0.4444444444444444,
              "#bd3786"
             ],
             [
              0.5555555555555556,
              "#d8576b"
             ],
             [
              0.6666666666666666,
              "#ed7953"
             ],
             [
              0.7777777777777778,
              "#fb9f3a"
             ],
             [
              0.8888888888888888,
              "#fdca26"
             ],
             [
              1,
              "#f0f921"
             ]
            ],
            "type": "surface"
           }
          ],
          "table": [
           {
            "cells": {
             "fill": {
              "color": "#EBF0F8"
             },
             "line": {
              "color": "white"
             }
            },
            "header": {
             "fill": {
              "color": "#C8D4E3"
             },
             "line": {
              "color": "white"
             }
            },
            "type": "table"
           }
          ]
         },
         "layout": {
          "annotationdefaults": {
           "arrowcolor": "#2a3f5f",
           "arrowhead": 0,
           "arrowwidth": 1
          },
          "coloraxis": {
           "colorbar": {
            "outlinewidth": 0,
            "ticks": ""
           }
          },
          "colorscale": {
           "diverging": [
            [
             0,
             "#8e0152"
            ],
            [
             0.1,
             "#c51b7d"
            ],
            [
             0.2,
             "#de77ae"
            ],
            [
             0.3,
             "#f1b6da"
            ],
            [
             0.4,
             "#fde0ef"
            ],
            [
             0.5,
             "#f7f7f7"
            ],
            [
             0.6,
             "#e6f5d0"
            ],
            [
             0.7,
             "#b8e186"
            ],
            [
             0.8,
             "#7fbc41"
            ],
            [
             0.9,
             "#4d9221"
            ],
            [
             1,
             "#276419"
            ]
           ],
           "sequential": [
            [
             0,
             "#0d0887"
            ],
            [
             0.1111111111111111,
             "#46039f"
            ],
            [
             0.2222222222222222,
             "#7201a8"
            ],
            [
             0.3333333333333333,
             "#9c179e"
            ],
            [
             0.4444444444444444,
             "#bd3786"
            ],
            [
             0.5555555555555556,
             "#d8576b"
            ],
            [
             0.6666666666666666,
             "#ed7953"
            ],
            [
             0.7777777777777778,
             "#fb9f3a"
            ],
            [
             0.8888888888888888,
             "#fdca26"
            ],
            [
             1,
             "#f0f921"
            ]
           ],
           "sequentialminus": [
            [
             0,
             "#0d0887"
            ],
            [
             0.1111111111111111,
             "#46039f"
            ],
            [
             0.2222222222222222,
             "#7201a8"
            ],
            [
             0.3333333333333333,
             "#9c179e"
            ],
            [
             0.4444444444444444,
             "#bd3786"
            ],
            [
             0.5555555555555556,
             "#d8576b"
            ],
            [
             0.6666666666666666,
             "#ed7953"
            ],
            [
             0.7777777777777778,
             "#fb9f3a"
            ],
            [
             0.8888888888888888,
             "#fdca26"
            ],
            [
             1,
             "#f0f921"
            ]
           ]
          },
          "colorway": [
           "#636efa",
           "#EF553B",
           "#00cc96",
           "#ab63fa",
           "#FFA15A",
           "#19d3f3",
           "#FF6692",
           "#B6E880",
           "#FF97FF",
           "#FECB52"
          ],
          "font": {
           "color": "#2a3f5f"
          },
          "geo": {
           "bgcolor": "white",
           "lakecolor": "white",
           "landcolor": "#E5ECF6",
           "showlakes": true,
           "showland": true,
           "subunitcolor": "white"
          },
          "hoverlabel": {
           "align": "left"
          },
          "hovermode": "closest",
          "mapbox": {
           "style": "light"
          },
          "paper_bgcolor": "white",
          "plot_bgcolor": "#E5ECF6",
          "polar": {
           "angularaxis": {
            "gridcolor": "white",
            "linecolor": "white",
            "ticks": ""
           },
           "bgcolor": "#E5ECF6",
           "radialaxis": {
            "gridcolor": "white",
            "linecolor": "white",
            "ticks": ""
           }
          },
          "scene": {
           "xaxis": {
            "backgroundcolor": "#E5ECF6",
            "gridcolor": "white",
            "gridwidth": 2,
            "linecolor": "white",
            "showbackground": true,
            "ticks": "",
            "zerolinecolor": "white"
           },
           "yaxis": {
            "backgroundcolor": "#E5ECF6",
            "gridcolor": "white",
            "gridwidth": 2,
            "linecolor": "white",
            "showbackground": true,
            "ticks": "",
            "zerolinecolor": "white"
           },
           "zaxis": {
            "backgroundcolor": "#E5ECF6",
            "gridcolor": "white",
            "gridwidth": 2,
            "linecolor": "white",
            "showbackground": true,
            "ticks": "",
            "zerolinecolor": "white"
           }
          },
          "shapedefaults": {
           "line": {
            "color": "#2a3f5f"
           }
          },
          "ternary": {
           "aaxis": {
            "gridcolor": "white",
            "linecolor": "white",
            "ticks": ""
           },
           "baxis": {
            "gridcolor": "white",
            "linecolor": "white",
            "ticks": ""
           },
           "bgcolor": "#E5ECF6",
           "caxis": {
            "gridcolor": "white",
            "linecolor": "white",
            "ticks": ""
           }
          },
          "title": {
           "x": 0.05
          },
          "xaxis": {
           "automargin": true,
           "gridcolor": "white",
           "linecolor": "white",
           "ticks": "",
           "title": {
            "standoff": 15
           },
           "zerolinecolor": "white",
           "zerolinewidth": 2
          },
          "yaxis": {
           "automargin": true,
           "gridcolor": "white",
           "linecolor": "white",
           "ticks": "",
           "title": {
            "standoff": 15
           },
           "zerolinecolor": "white",
           "zerolinewidth": 2
          }
         }
        },
        "xaxis": {
         "anchor": "y",
         "domain": [
          0,
          1
         ],
         "title": {
          "text": "0"
         }
        },
        "yaxis": {
         "anchor": "x",
         "domain": [
          0,
          1
         ],
         "title": {
          "text": "count"
         }
        }
       }
      },
      "text/html": [
       "<div>\n",
       "        \n",
       "        \n",
       "            <div id=\"7b26f5d3-57c8-4ce3-baa3-6e05eb634e52\" class=\"plotly-graph-div\" style=\"height:525px; width:100%;\"></div>\n",
       "            <script type=\"text/javascript\">\n",
       "                require([\"plotly\"], function(Plotly) {\n",
       "                    window.PLOTLYENV=window.PLOTLYENV || {};\n",
       "                    \n",
       "                if (document.getElementById(\"7b26f5d3-57c8-4ce3-baa3-6e05eb634e52\")) {\n",
       "                    Plotly.newPlot(\n",
       "                        '7b26f5d3-57c8-4ce3-baa3-6e05eb634e52',\n",
       "                        [{\"alignmentgroup\": \"True\", \"bingroup\": \"x\", \"hovertemplate\": \"0=%{x}<br>count=%{y}<extra></extra>\", \"legendgroup\": \"\", \"marker\": {\"color\": \"#636efa\"}, \"name\": \"\", \"offsetgroup\": \"\", \"orientation\": \"v\", \"showlegend\": false, \"type\": \"histogram\", \"x\": [0.0293765943593152, 0.07885920219958083, 0.05089718076507721, 0.04469288257514598, 0.04665798543728516, 0.034124960263999, 0.03626900317719279, 0.045847268327610075, 0.22106155793637855, 0.060021010278434594, 0.1760924020988689, 0.06374721693254601, 0.052006992406236185, 0.07180402234429036, 0.13449513423881093, 0.07204656862981709, 0.07504435620090058, 0.05934252532959526, 0.05103106795442448, 0.044208520217664804, 0.1605423277397688, 0.061151551941741426, 0.045554652356717205, 0.06830130709419385, 0.2031363813154417, 0.05042631226657397, 0.07141702434433223, 0.05911189637773661, 0.05430597465662197, 0.052751312091489075, 0.044860780070051114, 0.07360106138643818, 0.05474712041484335, 0.0842587674705659, 0.061207541121705206, 0.1398622580936231, 0.0997146216553761, 0.0929724376441612, 0.07065337444785333, 0.0498857104896214, 0.050629900910159786, 0.04277515354029946, 0.1323955121289482, 0.08489568915294438, 0.049330206432578655, 0.0889494423641752, 0.18273376480597128, 0.0460008234243636, 0.07252322958023089, 0.05885403892643668, 0.06970445737187309, 0.05468632079382142, 0.13768635242888105, 0.0709446102126587, 0.04589457916152339, 0.04525552899863524, 0.13818047280707993, 0.09820010711808236, 0.052541929160264185, 0.05688635052814655, 0.10215132372886038, 0.0393580481885575, 0.10091541634990212, 0.04962179708087058, 0.20404161985027341, 0.11266965700445641, 0.07032622378033057, 0.08852675811002282, 0.10875223248766279, 0.1778063350156098, 0.06188435308973776, 0.04556793498411741, 0.21511404576612958, 0.0620935323608629, 0.055062373442665166, 0.11539080162533663, 0.06144596763635614, 0.06212922653484662, 0.06963521097778515, 0.046048407198041444, 0.05766027768626024, 0.042152251274750155, 0.19161286325967938, 0.1948651421701741, 0.11159251066220341, 0.07411674777997551, 0.046548841086556096, 0.036709454413191046, 0.06976327496048798, 0.06064019573548636, 0.12731457908299584, 0.16014554115595495, 0.16129772756533853, 0.05314374618520787, 0.15029150316532486, 0.07690010991471928, 0.09605330516388094, 0.07971488557698489, 0.21157489736118945, 0.04547864785346459, 0.05648556917861222, 0.048053594283238715, 0.045611273592612134, 0.04517021952797145, 0.16578306018909367, 0.07971051130361086, 0.04649767666093379, 0.2009509061767648, 0.04218018112647695, 0.09335744615852895, 0.04580256720569521, 0.06307651419148975, 0.04279177493412988, 0.027668958765536954, 0.224321583797384, 0.10660208679642391, 0.049985748555470846, 0.0587639742895167, 0.040822587844863485, 0.04599995214370256, 0.20777983182832047, 0.06322819441945553, 0.04463943646461409, 0.09194343962793565, 0.06665083844884448, 0.1621672886243573, 0.07743532163069392, 0.044123430627165665, 0.04526499673535733, 0.053839103954043205, 0.0701353283423061, 0.04775434621058787, 0.04571170853689151, 0.05332667277212047, 0.0865116511577545, 0.20681038833001414, 0.12689229105797384, 0.06016443094842025, 0.04815344861219182, 0.050813935347563066, 0.05153066945306344, 0.10652442048149753, 0.1862708014612007, 0.07100932601536204, 0.06648309030689971, 0.0759640875456498, 0.07436604666301161, 0.06895863244124163, 0.06882515547971157, 0.1504319195570435, 0.14814836517887664, 0.04257176207105965, 0.11263868543604823, 0.13073466899301073, 0.04944063481141888, 0.0927671307154521, 0.0410679182246014, 0.10083357980058895, 0.06644464250985102, 0.05226661549042941, 0.05783507367064729, 0.04897835498359915, 0.036379107747985855, 0.04255064699564182, 0.12175220544944769, 0.08446999356668732, 0.15483152422993818, 0.04257369128282838, 0.04774788070025161, 0.14492461774600063, 0.08068804266016008, 0.10073911732285169, 0.1475784927171705, 0.04439050958251353, 0.07609199575339447, 0.046191583651002704, 0.044072766296518795, 0.05518388518329974, 0.04710368016649614, 0.18773355861432783, 0.05231249814731421, 0.09305226397723514, 0.05389065787800357, 0.047533632718430086, 0.03839295319249657, 0.08745584664874037, 0.05008290681241822, 0.046999972351729875, 0.05803837477741006, 0.04479779948515631, 0.19173055876068315, 0.09227092856187796, 0.15540013510854062, 0.04081244202150218, 0.2081531380208899, 0.16495996285226572, 0.06813262265617397, 0.18899830760742503, 0.12556416352428665, 0.05320781773747582, 0.0762783446409052, 0.04381595034952584, 0.2043419919336482, 0.0475472432550232, 0.06539664059826904, 0.20479900601880036, 0.05613492706745784, 0.04611140367855725, 0.052419935727139405, 0.06628187642640927, 0.046375125649866226, 0.1576682469049242, 0.058255218449802956, 0.11312089861434096, 0.09611679558936413, 0.0990706616454837, 0.04736501312456901, 0.03857554533372615, 0.0994592711711469, 0.21117160698110202, 0.04909118635624282, 0.04427680363626696, 0.046493462886428846, 0.1080967611893147, 0.06454825983446402, 0.042244567381839786, 0.05253240413799605, 0.04770178342070084, 0.046253337224460636, 0.04474350060881106, 0.05150895294762856, 0.04793404458698337, 0.04524408055447952, 0.07398056421889262, 0.05501630554866495, 0.17202335181458067, 0.04680825999229513, 0.052053246997159325, 0.15590741445863132, 0.07315842197429034, 0.11102008849686079, 0.044305194741794014, 0.0459887176852519, 0.06610242057703922, 0.045290420537442706, 0.06257103861633838, 0.1541586711940746, 0.04428883848281793, 0.048982297031827327, 0.05129586796876167, 0.04415909997482346, 0.02780606623199567, 0.06213132919858385, 0.11756420206856985, 0.05009242476422636, 0.048686203942852946, 0.03832316019202967, 0.06328313428294802, 0.05779317357472283, 0.1278003574210744, 0.16819949484089253, 0.04282461871805968, 0.033020977652599974, 0.07774600986609526, 0.10079725883167456, 0.08405554311199405, 0.0995380757405297, 0.06553201189302123, 0.06877804774880454, 0.07681062393347794, 0.07217953030724714, 0.05235349146028267, 0.04730870234210382, 0.05768581982982271, 0.06534874762144088, 0.09979733138787082, 0.20300103265606495, 0.059707005562631046, 0.2165566634214467, 0.062107874855501455, 0.07943782410660859, 0.20660013781280534, 0.054408750407966694, 0.05126869480227399, 0.06262992745959345, 0.05607721851922692, 0.060898704289494766, 0.17887836543038285, 0.04835638339471814, 0.042497953368953234, 0.220058867824318, 0.0602849651481374, 0.04787989892113373, 0.06192816280555748, 0.20642374691704363, 0.06931929687329663, 0.04877718297449692, 0.08896915608453043, 0.06767511416377346, 0.21853523245697742, 0.126869020553552, 0.047269937814600996, 0.17799580032354934, 0.19472068852147217, 0.042711323873212234, 0.06517334699844993, 0.050634595403091266, 0.0721861431276307, 0.05435280675025708, 0.06248050389617275, 0.12257616545186434, 0.07090308685247107, 0.07397172029763892, 0.06271726298425477, 0.11882950626455938, 0.08992726229975062, 0.07466843159356952, 0.052378244787638, 0.04907497315835024, 0.08830095489242959, 0.10624908500892574, 0.19078385737831277, 0.06933811453644319, 0.06609716129703444, 0.130804350017256, 0.046700196473234326, 0.0511756961970508, 0.05014329837336945, 0.05409171395107233, 0.06115619068683101, 0.10205225511833685, 0.09055341505395503, 0.05253101596797825, 0.22966295469996292, 0.06581833147021457, 0.10728559907368963, 0.0585667354280387, 0.07663256971250101, 0.12997732363383674, 0.04430121764364523, 0.04920720465587509, 0.08395594249563992, 0.04473775958421052, 0.22361362066575913, 0.22511929470166345, 0.17555283445149233, 0.07921246349762681, 0.0726790235941636, 0.04274296264155994, 0.04259759373925173, 0.2114296097896003, 0.09051346325465379, 0.17066198272945834, 0.055601920922086184, 0.06531754691448616, 0.13569629245381035, 0.08906975281294033, 0.05900526147732493, 0.20752226952346636, 0.056140353301075335, 0.14696811545432933, 0.12088498101949283, 0.05235125590980404, 0.11102009416466468, 0.04744035917646665, 0.06219710824729191, 0.07455952389312935, 0.09284708357638863, 0.04397229722773732, 0.1661270393396988, 0.22875351611522432, 0.05292808839185295, 0.07201044030754675, 0.04876106865348642, 0.2175767515410982, 0.049778091144890915, 0.05734520742982284, 0.04587147749436632, 0.1385996918876115, 0.11168677827687083, 0.04140522670136764, 0.17162161354568567, 0.046308634284379445, 0.07259473613572784, 0.046853170440715505, 0.045945632048378905, 0.04819651362626245, 0.1643427776785359, 0.14110517166223122, 0.1865163414121781, 0.05663508450642225, 0.1386734521146399, 0.04567379778348799, 0.04714161390038735, 0.18561759376067244, 0.19163360287253023, 0.05671140825627584, 0.12527541208412762, 0.04425546025629907, 0.05361150050822342, 0.052820835627977056, 0.031676435409977936, 0.07073723475675926, 0.03455338994041941, 0.08507760519822269, 0.05182753729932008, 0.040119823580856154, 0.1933100891838765, 0.049402592174954296, 0.09482936024595306, 0.04677482531607181, 0.21686635774707513, 0.22220151434765956, 0.06011125913166763, 0.04436264362973289, 0.05947739329764319, 0.0806629598707213, 0.04417991454913635, 0.0719091868872627, 0.047910527681392034, 0.09823439752133276, 0.17319689103675268, 0.07134123745341456, 0.0597351210882619, 0.041506603368584985, 0.06068030219104262, 0.05585081781781619, 0.044800661003307936, 0.05818415539187098, 0.05822698482048816, 0.044569838603433866, 0.09852072423277106, 0.04694445161627872, 0.06975085947383804, 0.04649187994333381, 0.2116979710692334, 0.049236825851796416, 0.05108320199543535, 0.058940933195841344, 0.1679480197040864, 0.044679424179316425, 0.14728717694369106, 0.1881552639119463, 0.07722121275939997, 0.044459521417671524, 0.054355537585773064, 0.13615797370118443, 0.061773939282696845, 0.059633671379083084, 0.04790257069231804, 0.044519193225171984, 0.18298295499691009, 0.07986736175401661, 0.08266021540183786, 0.04782875707116811, 0.057655286181205266, 0.07226223473875676, 0.07520786477595527, 0.06686468432689582, 0.04371781848157721, 0.059784060957862324, 0.0547904110370996, 0.05753503693239358, 0.0664564365801975, 0.0757470205769412, 0.045822103901523234, 0.06807358861429122, 0.0601329719011691, 0.048192355350988224, 0.17428017097098952, 0.062217090863759934, 0.0694104118789821, 0.139780031146121, 0.03877503467762096, 0.06758621055130803, 0.0671332745506825, 0.09525244996618179, 0.06846127585260314, 0.1318230191947164, 0.06342777944713851, 0.05854230846346491, 0.04710300784001898, 0.06426668328515894, 0.04761540340211326, 0.046477714815124686, 0.04848861287164378, 0.11156036673522751, 0.04471604382090249, 0.050089524725024405, 0.19642623538981313, 0.23755722630387716, 0.06566198258873741, 0.060781858202302114, 0.0727053137073543, 0.06760979493569708, 0.13760122764456453, 0.10876455273131674, 0.04474397769928341, 0.200474764529354, 0.04346410649035427, 0.03008494797360787, 0.20791709260257923, 0.03650786820298256, 0.15904700548504042, 0.07686213058979226, 0.04604059799227021, 0.14402609810299372, 0.08019867426925659, 0.08447167723299405, 0.06343217501127112, 0.07048776285335658, 0.227376794445072, 0.049946896418087604, 0.07758467462469697, 0.04658485495115588, 0.13804623412449812, 0.16612169157830006, 0.08637632682662683, 0.08633078776360406, 0.1574437276908045, 0.0674246459507783, 0.04519664967460632, 0.07529131072967096, 0.06290732782619349, 0.07258942953930479, 0.049964510371777585, 0.04602194160753029, 0.10213817223918835, 0.04747584029474789, 0.18639571943662006, 0.1912609567521796, 0.06408242919501934, 0.15540817968100715, 0.08148814659092797, 0.04407826885302974, 0.05409800025118365, 0.0911677575106225, 0.04634796844374288, 0.04879690381491538, 0.03997797919209831, 0.15442331516191113, 0.043641555103358716, 0.06050103944833689, 0.06051637345508197, 0.1936753678516712, 0.04482083008653014, 0.1712603166808805, 0.0619039393378255, 0.16199245295110487, 0.16594583584646383, 0.07526280908994037, 0.07108192294856654, 0.08455511663401785, 0.20015898648499947, 0.0578724367236777, 0.04615896276943041, 0.04614657299651285, 0.06219132108340877, 0.05049763827383276, 0.04864579627021778, 0.04688937217168396, 0.05680268816776714, 0.07268959237968926, 0.04152620378918839, 0.05921542065541119, 0.12323397155684826, 0.06096932448460884, 0.05858358533544969, 0.05377746441220502, 0.04566352276487006, 0.05005592419891307, 0.055937749651710444, 0.10219306870889977, 0.2475909104576346, 0.07205029802812572, 0.08327807079061816, 0.045559313328858375, 0.1936275763499638, 0.1972867223047024, 0.047133099298123614, 0.19592900269296268, 0.06979592164197908, 0.03666935698663703, 0.04501301188577202, 0.05211380514211653, 0.07024231919114288, 0.09142217148935988, 0.0964069737448698, 0.07643542756463749, 0.048810760864862586, 0.05318917558478643, 0.05138938064594007, 0.11944985187202652, 0.24708029994330113, 0.08251396112580923, 0.2337175728290341, 0.06307907617845254, 0.05499470771408667, 0.058828107160224116, 0.05295410718385532, 0.09485761914750278, 0.05561721651176586, 0.04632793923113287, 0.08245942061317264, 0.06144800069755793, 0.03840834154876622, 0.0888793851227711, 0.05491761981993043, 0.07977280859672727, 0.05815194756452084, 0.1921633130433127, 0.11589327165844997, 0.04567516403160444, 0.05429638073973314, 0.050211024874038855, 0.06734501224656739, 0.07844726345025309, 0.05311708907905407, 0.041895522052553834, 0.09016091983299086, 0.04752212048193425, 0.07859266200860975, 0.07447748706949305, 0.08401471642474535, 0.06552722119072514, 0.06282333832689221, 0.13171021914572845, 0.04958920612867921, 0.08131432059441555, 0.03428233499092123, 0.07161263272073842, 0.044793903474246936, 0.05690685084045327, 0.0630480869301836, 0.063962175536507, 0.06183397172896814, 0.04075860121710312, 0.04903465417444371, 0.10489995321279778, 0.04332384631058442, 0.0458371546859365, 0.0512795332338368, 0.048983804470432234, 0.14193675877660275, 0.049740767971128426, 0.22449568535165207, 0.08224289929850678, 0.04349119920055546, 0.0541858914244864, 0.04382364481583363, 0.0612290905851659, 0.04704845533171948, 0.14661521657169327, 0.043806306655578754, 0.04799922360711115, 0.08888063004433945, 0.04161598639173713, 0.04700136275452791, 0.17547709527295155, 0.21943727862033877, 0.04582847926787393, 0.044611111789496255, 0.06053939704280327, 0.04800846984249479, 0.08763075731995705, 0.04491045853583824, 0.18122657299485162, 0.06323279885142116, 0.06705321558426502, 0.030018238462730003, 0.05182969648427228, 0.0651730264075581, 0.19256328452385169, 0.08935162191646823, 0.04873509216816766, 0.06252227572505452, 0.14283865179727565, 0.07257514502220483, 0.0475034965942646, 0.045824359684100445, 0.07374488790291751, 0.05668900473855634, 0.04890059387255921, 0.0677008739785914, 0.045895562176718266, 0.19656298791436316, 0.09223269732998933, 0.23529060767854718, 0.09310245520151886, 0.08476374302973512, 0.047836301371809144, 0.21481799624529754, 0.04434513816202384, 0.08276898700744165, 0.05832131346011196, 0.16892329935023298, 0.05973290864300228, 0.04932106164053723, 0.09859457194177673, 0.04621161865860563, 0.059482360265645046, 0.04437308765402056, 0.09463737733068409, 0.04746071823221811, 0.09423980027200682, 0.06167496107761472, 0.1917738880702134, 0.06783416000894055, 0.04934048927577347, 0.05694772841162181, 0.16505897174801398, 0.1010373037421318, 0.05227518719109622, 0.0370135910019634, 0.1339553764643518, 0.05255407150678991, 0.048554160200419964, 0.04400402343275809, 0.06474364570273906, 0.05735617823456403, 0.0879208856325987, 0.08310789548436866, 0.09499033656666246, 0.07983006677134857, 0.22178831642788085, 0.09800578240555671, 0.06894239644713286, 0.17395967264380274, 0.06051537867798158, 0.0604620424403466, 0.04191037441662156, 0.06258678983642894, 0.05224460858477201, 0.07264097338925046, 0.05339614849658999, 0.05636436543194773, 0.045210442567852435, 0.053043050355687765, 0.05462792522694819, 0.06451923139268734, 0.05859751827798479, 0.07125831002916654, 0.0487880245460979, 0.053416731754988275, 0.04693999669840044, 0.05367194787160294, 0.18557434261395933, 0.03858394663448082, 0.0649475613161716, 0.21818947703335195, 0.05401939896761195, 0.14331378990546034, 0.04693970025413229, 0.08799043149931855, 0.08566763667353058, 0.06474434761237736, 0.046355581308450224, 0.05579256879091714, 0.14466523538772524, 0.04478173723172553, 0.05364409754392006, 0.051205789344417635, 0.05652244170713814, 0.22467306463625497, 0.12573982447474208, 0.047748887081257615, 0.05192145086967084, 0.1809814592302597, 0.060323259742061805, 0.04938074405805267, 0.045571796253129564, 0.22181704505013047, 0.04371695626165959, 0.04437476282686468, 0.20446408428399748, 0.04591202486390934, 0.058185449418987754, 0.1191716832754963, 0.09305300423284305, 0.04593482717742428, 0.09838584428473109, 0.11684288132551926, 0.05475959580386243, 0.0583206228108277, 0.06128583027053526, 0.04566833311166951, 0.07025263401256474, 0.05910391202680605, 0.05914603388290271, 0.052528057634743136, 0.049483331091135445, 0.08044898705332738, 0.2225963369241495, 0.060034264129858364, 0.05783146368946075, 0.04626567627200263, 0.06320988733652871, 0.07035699467725731, 0.05531473607338795, 0.12467350663428395, 0.07703728112946663, 0.07335318494699403, 0.06449293888905896, 0.06105471391782766, 0.18175290545357475, 0.057555538530153175, 0.0740477578549523, 0.08077391163192658, 0.05628839340922945, 0.12931211165555934, 0.04662986285718763, 0.07211196729822733, 0.04471411415753702, 0.05743194525867343, 0.05357540758228989, 0.07598675368332417, 0.046879942735751974, 0.04300063995216984, 0.04570467118493374, 0.04699998902978732, 0.12145579794173421, 0.06973942495597305, 0.1597949199494947, 0.04536383511177281, 0.0447358103770013, 0.1099999992625248, 0.0670164025285728, 0.05348943890687649, 0.10810848110248579, 0.10076233634301197, 0.06989617311485945, 0.04685836899667731, 0.14225746214429433, 0.07644460841113294, 0.0715849099793712, 0.08459939172936633, 0.058992686577188536, 0.09749139750361063, 0.051008265552605986, 0.1019170201700969, 0.052254991246238766, 0.05428615689828379, 0.04789442979851098, 0.044270667017606846, 0.06593468814002655, 0.031395181846659716, 0.10524613571879313, 0.065695423155551, 0.11304475238667505, 0.0729351522800838, 0.04325807208829544, 0.15039310340004183, 0.054722051331120604, 0.07917927727754302, 0.07894174350846052, 0.07018307366574911, 0.05109389411540694, 0.13640904990598884, 0.08833500061817318, 0.049997886165030606, 0.08998947925023752, 0.056629494420655624, 0.1326966379440472, 0.14967047616480733, 0.056989360845349835, 0.04478570358279242, 0.036720200660169136, 0.04446682214896495, 0.08097011416457388, 0.07946367405397631, 0.02668253577605731, 0.04329426786239782, 0.06322296082044573, 0.06932269648455339, 0.05879907459049515, 0.08004141444274197, 0.048120660172200715, 0.10249793252858322, 0.16304620337121073, 0.04355503995842823, 0.13147058923055793, 0.07664406269982635, 0.22233868087324024, 0.06718573706699726, 0.04338512601635573, 0.16659308103918669, 0.04858396487450278, 0.044681389267219006, 0.03518111097201215, 0.0407496630853996, 0.360812471940816, 0.06066634322403144, 0.1230205680301005, 0.22359253443325564, 0.05219663443442785, 0.041550789942242004, 0.06293473473644774, 0.1388270574788034, 0.04669686634444311, 0.04292309065076162, 0.05881598810842441, 0.06237944259572501, 0.0808449204278569, 0.1256126727881685, 0.144827801468473, 0.048418799973294006, 0.05789351634159853, 0.04810500857270443, 0.061742041892728534, 0.03396710705127282, 0.04573735391848057, 0.051271966858892265, 0.03154640054674394, 0.0440488483331539, 0.08201114463716813, 0.16092681693305316, 0.047009911531307735, 0.044302760263401124, 0.055792204564284464, 0.04744195633970626, 0.14842935392218198, 0.04653710805797518, 0.054471967640909336, 0.0604749118869843, 0.2145973258769383, 0.09323508760558512, 0.04396320120549197, 0.08248793051963732, 0.058932240415641934, 0.049202017654993796, 0.09755011465840396, 0.061747519482415525, 0.06846136645984949, 0.05146620128057915, 0.0522565385290973, 0.04470539485515044, 0.04621895300601056, 0.04733117605177391, 0.16466313454178494, 0.07336368476957023, 0.10778222121408966, 0.04188580316329398, 0.13696459902194252, 0.04426549646872834, 0.054964078329870394, 0.04298817493065944, 0.04230603599506963, 0.0734278609978471, 0.07116977813860663, 0.06521321145073616, 0.055834682505823616, 0.05380826751770176, 0.0860196725075571, 0.07971941438362741, 0.0485332875798396, 0.042879551042836035, 0.06201681004801199, 0.07021448676667981, 0.15570881833082717, 0.0545397836044995, 0.049564127292085536, 0.062345797048706075, 0.10943908816115884, 0.05302036020614361, 0.052046376140069524, 0.0461945657273335, 0.05800672886195596, 0.047853607532518105, 0.05193133438945243, 0.08266788401684765, 0.04261437692442821, 0.07550019762481466, 0.047639137265686, 0.04480133675539952, 0.14229722313743057, 0.07125126697267578, 0.15845810757809337, 0.06094059204938623, 0.06562540712515048, 0.2130913012495591, 0.06040084275311919, 0.04241362087331873, 0.16382080420542086, 0.1821484158469357, 0.11981005057376512, 0.045847601788764625, 0.04396984634730577, 0.05753252208223329, 0.11757207964009754, 0.065426952276461, 0.14470752248693486, 0.090259605849054, 0.1985315516071694, 0.19127699052359323, 0.06231795940163131, 0.04835889295864637, 0.0475411757775628, 0.2138742164863189, 0.13768074360674745, 0.04111533457811052, 0.05263235159197283, 0.05969249889777853, 0.07271927301460872, 0.15667750704734626, 0.05479418295337688, 0.05824642347493988, 0.05937893448221187, 0.05926136008591795, 0.07295534413293478, 0.061486272882321086, 0.04574859862418064, 0.06910977114497532, 0.048018078783091535, 0.06307664818055739, 0.0813608702593079, 0.04741698226476865, 0.062230502148197475, 0.12057564343566163, 0.051104315682854944, 0.07449433821817461, 0.066832286949119, 0.06287139978139841, 0.057207783605079346, 0.053241653584877306, 0.05225414951100672, 0.05589928980138614, 0.10171703397636908, 0.0711512844945959, 0.0664118341743822, 0.05879442697710182, 0.09580410953806634, 0.045504757758012195, 0.06648192883318128, 0.06069482487633107, 0.05153504600025444, 0.02592447367271255, 0.05378530542744156, 0.04348199473286159, 0.08478584342247196, 0.08580189818906084, 0.17830807245415137, 0.1440851823076228, 0.045731486860455965, 0.11511915642101189, 0.06016670205082511, 0.06121857213106896, 0.0511035885691485, 0.044344627668988175, 0.051699201073259614, 0.0533302527478513, 0.05707249423340799, 0.06647539245247903, 0.09652093539165522, 0.04597724726493868, 0.06516999978243658, 0.0733776422494039, 0.040742119666759, 0.06623960096870156, 0.07388062730139439, 0.03936093137211953, 0.1818651740007207, 0.1366878853948163, 0.04787017559052245, 0.15880665836520547, 0.21916702733596005, 0.049754805662214165, 0.0444556353845814, 0.24259899964651485, 0.056619617855797666, 0.05989796566656466, 0.04864720865859019, 0.06467494282509967, 0.09819902353326025, 0.07467747555326802, 0.04896003070671685, 0.10202499734442871, 0.07073121032638284, 0.05335996386221677, 0.15305744181218012, 0.07856446148085396, 0.04477073013063699, 0.058006587692072495, 0.06026519103560947, 0.0724561101918206, 0.04734278195113262, 0.042716627100938466, 0.04150258234862103, 0.045619972460642075, 0.050181887205895816, 0.044852462195576294, 0.10408442944802886, 0.18912297995066732, 0.04024986887158633, 0.07853129366649973, 0.0517979451713147, 0.04103986039945558, 0.16481156944129421, 0.0789500577235859, 0.07577644049647016, 0.04525881716871755, 0.07634654164892053, 0.10170935883442841, 0.22466057189050614, 0.045729901782484046, 0.04445757638002574, 0.04494530360288368, 0.052337053026824176, 0.056787711499929464, 0.056487138921401406, 0.04853525624784944, 0.1156505244612401, 0.11047579674968547, 0.15247597988018846, 0.06139660245972474, 0.04144216748809371, 0.054905047140769894, 0.03378586209425431, 0.21449653940972807, 0.043870084691752076, 0.07143213164552017, 0.04574752953187135, 0.0466462275847053, 0.05305477996615522, 0.048372788528794675, 0.05369533442099327, 0.22114877115873088, 0.19799947727205724, 0.1322688058508784, 0.06602902447707089, 0.07214264543934512, 0.20860798578045445, 0.04629898298371711, 0.08731704942491614, 0.04842130002886855, 0.05796426690519412, 0.07418327979034608, 0.06430008705914687, 0.09801762891753732, 0.09968629280117736, 0.15065935739913405, 0.05067991549928631, 0.20259511653557288, 0.03538921958895081, 0.05873119789375997, 0.06730958080730964, 0.07727608136286401, 0.05238865843392454, 0.09658330101202008, 0.06149359101013052, 0.08953187589252085, 0.04315263081077131, 0.1482360753966829, 0.07078696269374876, 0.053870161882732887, 0.07016496475086562, 0.04350814537580607, 0.062306894539821994, 0.0562716561661874, 0.06688495641844641, 0.06172418630795325, 0.12915783528861777, 0.050516613700024575, 0.04991279206034477, 0.06044916716248578, 0.05532744201133527, 0.07130709067822608, 0.051591473879437175, 0.04637875408040801, 0.06712161381432064, 0.08020495001176836, 0.060506502451414, 0.06346635193425514, 0.16371285325532328, 0.16136597613792814, 0.06475301449304321, 0.050730636446225746, 0.09002503456227406, 0.03772581800175955, 0.04802190938387856, 0.04461311546136389, 0.05991644713885475, 0.09829333123925381, 0.06305345348072951, 0.19501455716430177, 0.10467414914361259, 0.1951364563038851, 0.09046408143460728, 0.06548084132003006, 0.05144472355393756, 0.18968118461164168, 0.0922586041479215, 0.17300243598955978, 0.050412876742373096, 0.04689343071062304, 0.1920221521379295, 0.04744841323541547, 0.10129962776985753, 0.0647694110701349, 0.038916171863501985, 0.08518902570892803, 0.10859263203807547, 0.09701040394352949, 0.0563263682618864, 0.04667285662930072, 0.09501182050367746, 0.055502890913590675, 0.034477444040699724, 0.04936382597116586, 0.046149210887435996, 0.04493949099769851, 0.0594744240890308, 0.17479817577057138, 0.043603019903887576, 0.04327710429973509, 0.04581785499411694, 0.05808738545372149, 0.06181102928059344, 0.06947715074579848, 0.04217036790251176, 0.06028915261909592, 0.047718451332951904, 0.05490474892767469, 0.046701031092213935, 0.0585482272479106, 0.05038675069801313, 0.042913046310091955, 0.042429173977720155, 0.057286202220661366, 0.09028906858662078, 0.0532174245756519, 0.06764561196644328, 0.06507093555546994, 0.08161012991287614, 0.051557978878970276, 0.0454789254066502, 0.3268255858979101, 0.046609475085812924, 0.06734205265342767, 0.04889183597659838, 0.040643132914834276, 0.15270676735599023, 0.0430358032183933, 0.21093291314696253, 0.07796960928212632, 0.04817799618702261, 0.04621115194407441, 0.07519869022391026, 0.05652855191982319, 0.04558644342978072, 0.14942770088594876, 0.0629017978580487, 0.05390414694610593, 0.13739103041691955, 0.04684441228445701, 0.07682268481153434, 0.109367479981607, 0.10416026513657381, 0.03362282919076446, 0.1733186541826109, 0.04026228106058983, 0.05274661441795249, 0.12955464460333757, 0.15029309108999328, 0.04416668461842573, 0.06944709803359164, 0.0452682847487366, 0.04329901314288594, 0.054031340249887594, 0.21328696520376478, 0.053648703756940544, 0.07278939885073689, 0.05825222585780648, 0.10015362631000392, 0.06364731662736171, 0.04758047907936073, 0.057774321652982845, 0.06040457262415501, 0.18257361369180236, 0.19695756269341128, 0.10132007972475404, 0.04672243586262035, 0.08522923803934514, 0.06255326008098278, 0.05024597240906271, 0.0551583114360019, 0.06911390696383743, 0.19797462738575655, 0.059226313269447856, 0.15465276806425948, 0.045075991674806554, 0.0389188008080386, 0.04684325707005438, 0.04335199122693393, 0.05420552531867351, 0.21101144200285768, 0.06373456410166506, 0.06014679880955896, 0.06959902007877544, 0.05039563633629909, 0.047928098802540564, 0.10067024173200705, 0.057796270181347004, 0.07260691750047325, 0.05271824165201366, 0.050715283908461875, 0.04759955428505172, 0.05445170659826838, 0.05442097064351498, 0.08224251134025538, 0.05669883661640601, 0.10207005258137508, 0.06840137513522232, 0.15735583449181167, 0.043194304800396245, 0.06313386815596791, 0.06797892036872535, 0.06493938820463155, 0.053640782503927426, 0.05585050240691346, 0.20078485001410667, 0.049183265111281606, 0.1679902569084316, 0.18320625711389277, 0.24331276088316564, 0.06746244151410491, 0.11073278674592857, 0.06579617251157555, 0.05244924166736589, 0.06833649655471538, 0.062454458704528384, 0.06369288968012418, 0.2820417105748765, 0.04983138153219159, 0.05125303006859416, 0.05062902085204707, 0.13603886452174344, 0.04472582134230668, 0.04460996009835216, 0.0654021323194151, 0.0591284868136715, 0.04809238205486875, 0.0969477554272457, 0.04985935679222516, 0.06461697700810105, 0.1406823578488891, 0.06456514508080669, 0.05255678703050426, 0.18675089034728012, 0.041203549035821574, 0.20700309693438224, 0.06946743239714204, 0.048070630717103456, 0.0644045218745537, 0.04633963501018273, 0.06684649958850583, 0.05515780301441594, 0.12914949459445652, 0.04527271281208456, 0.11739214238084208, 0.16886092879081413, 0.05675224358803655, 0.045288785158009666, 0.060299189457167626, 0.0551665916492728, 0.03718149986519239, 0.11665619369531587, 0.08887936262967246, 0.04445818968133675, 0.065518226302938, 0.061774667895946545, 0.2038820271507235, 0.10458188427572772, 0.045860729961942945, 0.07769423547392212, 0.20687684550358718, 0.06158749458514892, 0.06894664329536317, 0.05774731492347321, 0.06157785890759562, 0.06225579158437258, 0.08324648207447888, 0.1682785348070418, 0.05970360638760408, 0.20770585359358434, 0.09288205926639614, 0.05132935813457249, 0.04248747406270012, 0.07077307830244564, 0.054965955876128625, 0.050517151544758734, 0.08993550328236137, 0.11671283340298103, 0.038182845769097855, 0.04754754887728174, 0.06479939189021787, 0.07348533592056655, 0.1825676259737402, 0.060358428386687715, 0.0434484771119935, 0.08695707586057809, 0.07132598249505555, 0.10789428206132701, 0.1738169537240185, 0.09131333787295792, 0.17251008194349998, 0.05562497116378219, 0.048350173445174636, 0.05429398746736175, 0.04900318097282671, 0.15840023845293677, 0.049424936037942055, 0.17204665046046635, 0.07260665388932862, 0.21098353682642962, 0.06097927711724326, 0.08979407500899435, 0.21948419383223525, 0.05142731425656519, 0.10068541259210026, 0.06994918552632023, 0.41217327808556853, 0.06970973207646682, 0.05286248821419457, 0.04478583218153424, 0.054505442077219, 0.21180513187118222, 0.07738468428719993, 0.05585579684659815, 0.044093475420340575, 0.12838365673278146, 0.05792573831333929, 0.07969611981670668, 0.052289120657054405, 0.20037566708410964, 0.046424248124353494, 0.0455469503427153, 0.06757557298565306, 0.10176364406645785, 0.048282914428100704, 0.21676988511526765, 0.0560871619040514, 0.05743517807095317, 0.07383180708933605, 0.05410970499569622, 0.04856893550554137, 0.1801099750913222, 0.1617125147133533, 0.05743959198896124, 0.05842080218864017, 0.21680271704006648, 0.06300598291288866, 0.06450396082542456, 0.05756710279129145, 0.17480009000965988, 0.0876808385924715, 0.05385408654598743, 0.21384910072605398, 0.04952482384027291, 0.04929989493568624, 0.08107959938940121, 0.06394515874403758, 0.04366942881308852, 0.04822528049882968, 0.08014212121675512, 0.04300079085857977, 0.07800477028547272, 0.045026883136753904, 0.0989491460161459, 0.06564600226775126, 0.08223734555072486, 0.07337072085912713, 0.32283843628956277, 0.041179348721768705, 0.17402741994419058, 0.061495129968668856, 0.051201777639040734, 0.09541004209277879, 0.04640828737555994, 0.06826315646531156, 0.04078577380032538, 0.07123925361488602, 0.05574696384677982, 0.0792206126669129, 0.05739417649640837, 0.16891026332590325, 0.046037102062797326, 0.04783139077008408, 0.05876870579510911, 0.055266496680443505, 0.07192747098732052, 0.042745513454017885, 0.09042347824117068, 0.061182109138186364, 0.09522397184365283, 0.07769364282561386, 0.05806424135682048, 0.058584256484878125, 0.066152874190764, 0.04652134189674622, 0.057968337059321653, 0.05255812232954157, 0.033354017843440505, 0.039621117912050946, 0.04759664384071268, 0.07769460773708965, 0.04674784040168402, 0.1588617635385428, 0.18418056767081362, 0.11255587327254782, 0.0582608697916502, 0.061998996720058194, 0.053119632619479676, 0.07088620342529316, 0.06124347688507281, 0.04547379614929031, 0.10004766951966018, 0.11249106722093824, 0.04786004711530496, 0.23044732792433872, 0.04828527067815084, 0.04926664210812554, 0.05795990607365516, 0.10049794284760492, 0.05280944476354263, 0.07311655415179713, 0.047683492523325655, 0.18736154581433132, 0.042442934722816995, 0.049397745553463705, 0.06450943664696693, 0.04750449851694297, 0.06900239466483311, 0.056219818652358394, 0.05224997220905046, 0.17362000928334476, 0.05926605638464587, 0.05119435447896616, 0.0631823217209795, 0.051111665398870916, 0.04686769590562189, 0.061151507582402835, 0.09141037099287877, 0.04697432646697063, 0.06322866270751792, 0.06277467840692849, 0.05486146253970588, 0.08412848052030228, 0.0807702916249708, 0.06234723369138487, 0.04577688033993326, 0.0430403537145986, 0.06752614081257255, 0.04662717378159764, 0.08271043573617179, 0.05316522719698578, 0.07918554001137064, 0.04748284461883127, 0.0516870938472621, 0.04620358146720452, 0.04377549323896422, 0.12065475950391272, 0.04819049999493458, 0.0449102937358572, 0.055035719505772955, 0.12021931195938959, 0.05942666353004348, 0.07619275622942605, 0.06403888036640333, 0.15594705087228933, 0.10130155853848902, 0.19150961730018595, 0.0439135914475984, 0.06468556711862158, 0.04915741996468538, 0.18587225710280192, 0.06293887698574965, 0.06322423431219293, 0.040400177372913654, 0.06906984208633525, 0.06538073417143166, 0.07675339942056283, 0.059617226102201035, 0.055054537669332826, 0.055864661271683595, 0.08150069012173305, 0.05074046138823557, 0.05728341742874317, 0.06458602263582736, 0.04602784031142532, 0.04320913326316008, 0.10174590875437658, 0.07217803394012229, 0.04578662124543631, 0.15187665990591964, 0.055063119903940416, 0.04826832147905123, 0.04910335651373596, 0.09373079342398524, 0.047147482517133237, 0.21101215827232245, 0.05498557674727516, 0.08765715270283987, 0.05982795663642375, 0.03334144786520891, 0.06925831790875626, 0.04594909566871352, 0.05083450579612539, 0.047096426340011974, 0.0756614877006788, 0.05421303902460352, 0.05664474822003161, 0.04988201952966343, 0.042558140976438674, 0.06331463912425132, 0.058034504231983614, 0.05152661024759328, 0.04532767770720612, 0.047255049962951205, 0.05147609224295791, 0.04359634577073651, 0.08207457631909136, 0.1957017821125614, 0.07496038626035376, 0.08093696233533215, 0.16197271804945657, 0.11941917450558331, 0.06025188521756322, 0.04715836014725809, 0.0528037436198948, 0.044789318851712556, 0.04469291632736503, 0.07516542025397228, 0.056094138566278026, 0.12634338321369054, 0.0897627724683758, 0.045992496104019474, 0.1060778458276167, 0.06614645641982914, 0.043452541205065275, 0.04464962050459384, 0.05147818768539237, 0.049941662077957145, 0.04785125965396758, 0.09788056297148642, 0.08712856737152325, 0.06256550938548334, 0.05008369332108929, 0.06938517317595837, 0.0679399334409762, 0.044181596870177836, 0.07233713891644444, 0.044832246094395754, 0.0428935981504893, 0.043536887276504094, 0.045965763877916344, 0.06206766057245343, 0.04487169593505107, 0.05703619510312928, 0.058536260656700645, 0.13519324147366577, 0.046284766657039914, 0.05203596529859161, 0.035809268409120826, 0.13270532695997206, 0.05871999452958455, 0.20044551387540527, 0.052165147009770166, 0.05688171700797913, 0.16181762722668186, 0.06016027573480974, 0.09058495385758969, 0.048490208640751466, 0.07323097088874445, 0.04268072566172184, 0.04623279662021144, 0.0648076542471978, 0.08524544904290834, 0.04913484788373768, 0.07620929334575845, 0.22567107031352585, 0.054058797280444645, 0.06081896464590533, 0.10908065517347545, 0.05246543113105892, 0.04525081815650007, 0.06670166955290444, 0.04604540222030648, 0.04626195348532998, 0.05867361617698438, 0.06029980522553478, 0.056700633143637276, 0.07862113763439778, 0.06375895742869822, 0.0676208387365537, 0.06354269544546876, 0.045740000523778926, 0.05640320421417413, 0.0609580621141084, 0.0656994623698113, 0.19144724403181856, 0.07155590936288163, 0.13951832264425185, 0.04765893508778156, 0.05571575919630352, 0.05596486952128442, 0.11041117067509157, 0.07450614823468148, 0.03931632175197394, 0.06306118783253507, 0.08823019564513886, 0.07775676602268045, 0.03804307614773181, 0.04703099334664332, 0.05223831796708096, 0.2146325563117012, 0.10125765332112974, 0.029711665683251377, 0.05374040247967661, 0.053370186452379266, 0.058533472531070274, 0.18044048378098643, 0.1364638849844678, 0.04689482802668978, 0.03246204305740634, 0.0753380463032503, 0.07181351757001786, 0.058402197289249815, 0.06272161234001875, 0.05520918890798267, 0.26979514728216947, 0.06367477670965035, 0.07572314126324155, 0.10362578226592026, 0.1689661935816672, 0.15360860797895587, 0.10035276036286962, 0.03933937910863788, 0.06033957676053528, 0.044066612106169516, 0.046487928155663445, 0.18062708324236648, 0.11195735238770922, 0.07851129102696819, 0.04511064735821068, 0.21420106071333822, 0.20242621285245138, 0.047687323988062094, 0.03243434006516385, 0.06162765276440164, 0.22827706887556568, 0.04507704410043476, 0.04389821277797295, 0.04848419901909547, 0.06911375453838427, 0.06081075064871916, 0.045553895874642855, 0.07383324837106875, 0.045020950941290626, 0.060593271347932895, 0.22556668313367786, 0.050704036090037756, 0.06198568985329328, 0.061431521166638366, 0.059032047448279626, 0.12778058238803047, 0.053952917319771254, 0.06870019434514298, 0.052250954502981534, 0.08962709866872193, 0.15088253696809556, 0.04905539278654032, 0.05226074920272082, 0.15268879447003203, 0.08392455501698537, 0.09211102270702969, 0.05826344677262656, 0.05821001190536716, 0.06414361882909847, 0.07940682927323661, 0.06347257360073666, 0.061827660776644186, 0.0708933684498362, 0.054725425252084806, 0.043317921895516184, 0.04428763866028795, 0.08234721247543238, 0.05035633186214515, 0.06274814118078055, 0.052573912110384605, 0.05898384389907636, 0.11026250078098464, 0.19181476310177467, 0.0437369822511639, 0.046219932355398986, 0.059643193702506744, 0.2035863765660336, 0.046394218016571835, 0.05768987887740433, 0.060802875670769835, 0.1445753834138519, 0.050033248583294956, 0.06544046775680934, 0.22022879213535032, 0.0868147983080134, 0.061285118906613784, 0.11244350131469188, 0.06429021311332223, 0.19933730976401387, 0.043799137475967836, 0.14958580825974277, 0.0910742291797626, 0.056486718277501125, 0.056920160969219286, 0.06313320511301752, 0.08661675302049364, 0.06636447399649958, 0.20890887413326148, 0.0439073840307944, 0.12787836768146585, 0.0798541158370256, 0.12298559924607491, 0.05233141580607471, 0.06447536271479223, 0.04537090446734968, 0.1522309720186562, 0.11040683442348828, 0.062285468704374916, 0.05752419899452689, 0.05384912286530391, 0.21644549762661464, 0.06525027413195264, 0.05703796947079022, 0.05978901399829535, 0.02741973204124526, 0.06765871651340691, 0.04318001868063738, 0.050532570320830576, 0.059936331453780856, 0.06287952050871293, 0.05680126707713685, 0.046964582180675736, 0.046695995408233215, 0.04042887363184479, 0.047886465097525824, 0.03217092633829396, 0.06391141361374833, 0.07397263494421832, 0.03686773484420196, 0.09496344084278067, 0.04513512791904787, 0.047646528467646616, 0.05103033565083668, 0.09917341264208493, 0.13548219509113202, 0.09380691291585484, 0.044698508844674585, 0.046879014002177206, 0.03457791973951269, 0.060504105560892515, 0.1586891918657616, 0.07237866444425191, 0.04945087399633623, 0.07878602666781007, 0.06717458705552282, 0.058183703986946236, 0.04665192158219125, 0.13477540172199953, 0.3163290061072991, 0.12426252061893125, 0.0407136172144596, 0.08949728036478839, 0.1812741716840805, 0.0451824777811109, 0.04518921840346363, 0.05902443401637893, 0.05512218405864205, 0.04439191953257087, 0.046944923833802166, 0.04451053937557904, 0.06476998515473745, 0.07019337776644868, 0.05841991979297295, 0.07630693194868476, 0.051498896989762184, 0.16015496211135644, 0.04836212029686395, 0.24355220531889402, 0.2062780855502715, 0.07810208456297246, 0.0516519744746414, 0.0440769712818531, 0.06797909306195306, 0.06617294272067951, 0.06646377117903367, 0.11740092459920892, 0.086744303390838, 0.09676222081767553, 0.0747588916490055, 0.04443958346820173, 0.04938027399302111, 0.05942398898712556, 0.07242554187124917, 0.08894360611622934, 0.051722121899373315, 0.07001146046246182, 0.04619174047129235, 0.06474612688232545, 0.04661196501756439, 0.06583188091034343, 0.1047581179064497, 0.026278216702602344, 0.035831420647270275, 0.057886960406759926, 0.045470828362858234, 0.04662087819877552, 0.047992630374240855, 0.07336402459328388, 0.18606365849720963, 0.05885646208014039, 0.0647114615374823, 0.22912867903995943, 0.14218703317093098, 0.15986884333142098, 0.04878851336117941, 0.15005542180728926, 0.05259414970796149, 0.2066841468034062, 0.047467180423506124, 0.19253865701114936, 0.0474350734463222, 0.045356759787077726, 0.045215939975467634, 0.12389070285605303, 0.0463486123762739, 0.18121414362637445, 0.07916332026292203, 0.06187448344325111, 0.03828911207775622, 0.04973573341871061, 0.04439422545440439, 0.1788862392004013, 0.046029758999150794, 0.08105834400821799, 0.05308193525830439, 0.07728421495425708, 0.047717104466559405, 0.05528553239447954, 0.10100485462280184, 0.18046229535690156, 0.04341383659506039, 0.04449922953778421, 0.0727038915551321, 0.07870584503218828, 0.059797596709456, 0.06251138775169426, 0.06192083512564268, 0.04574248396074308, 0.047323124848956545, 0.04500039274260494, 0.04827130811438015, 0.051960409859543304, 0.07822261441529965, 0.06140702172982579, 0.13554964879614545, 0.056373765157285795, 0.09034928804421151, 0.046995943916285636, 0.044093651638532516, 0.08331412897869675, 0.08646437196422635, 0.06741122344375967, 0.18225711177016476, 0.13403030079086267, 0.0504338512662233, 0.08589799187360386, 0.04774134257007551, 0.07991757741592345, 0.04156341995785092, 0.0357311269957382, 0.03649615664570484, 0.05050538653257055, 0.05357978515802798, 0.047494933248911735, 0.0555430850006077, 0.05430522940782635, 0.04154294465295032, 0.10775380548512276, 0.2121964259228079, 0.08946416960233392, 0.2059902278160578, 0.1399312789443829, 0.059139216922363055, 0.06994759136361245, 0.19204651054679156, 0.07058743542602286, 0.07054112937327911, 0.0457875827359765, 0.03970524261357605, 0.04775175019625119, 0.04797650446608188, 0.1973544260600369, 0.07349588850851485, 0.0456089250477108, 0.0488054946549715, 0.04405064416924216, 0.05304669626310353, 0.09858441541596903, 0.05162929485163476, 0.047580797876377305, 0.0665207982937878, 0.13211348134312986, 0.0647411368102431, 0.062497824994719245, 0.2767398396481122, 0.0509515904081469, 0.059413846042427124, 0.06162322420655744, 0.061914636973751644, 0.1890009484494362, 0.04506717431530545, 0.2351198778397371, 0.04680044258577013, 0.209022568098872, 0.09611800050652046, 0.04762947298197242, 0.04541179757846346, 0.06419793096406892, 0.0557797292759481, 0.08464179821261379, 0.05354370518414982, 0.04985330703223725, 0.05106832256545662, 0.05147798068497457, 0.32926416229393457, 0.051674434935646885, 0.1889507783801272, 0.04770660177440774, 0.09264634789705951, 0.08417158969911202, 0.06073889197854708, 0.043569440638717614, 0.03212150626779746, 0.07490562606208913, 0.044849388314830145, 0.11772561811238753, 0.041799024052765324, 0.0695679610616253, 0.201127972475311, 0.09633942710312049, 0.08645734193860014, 0.04672993142683921, 0.0823905024911514, 0.04329182789729265, 0.0969074111269853, 0.04867215369696141, 0.16601443201080268, 0.04531220523806179, 0.062246475784062144, 0.05455991214234115, 0.04636731250732027, 0.04733495543592219, 0.0632753978618122, 0.05942465458643867, 0.0586462188929557, 0.11200562955305168, 0.10331301872869253, 0.12192222387159837, 0.1448564757802689, 0.05291806318390657, 0.08300753624408572, 0.06650909074555093, 0.045526245308073914, 0.07957015673485664, 0.05095370822329212, 0.043772098595441004, 0.20263962761668747, 0.054485175555541776, 0.0495904397370477, 0.18474620495606625, 0.0491328942852078, 0.07756221259042952, 0.09921873170037973, 0.06511593548078709, 0.10639152403454903, 0.08701460295616678, 0.06402863778647612, 0.06920707443596412, 0.04642860014307007, 0.06073235195354253, 0.06378239297804239, 0.09498349341852624, 0.07117509925965995, 0.05350047671842048, 0.050706779054586586, 0.08581273094699644, 0.048802057305815466, 0.12823746362522337, 0.04733130056704327, 0.04344275428633667, 0.028257662295618213, 0.1783966789340709, 0.07288994757964277, 0.062080640550822325, 0.0750830990553471, 0.061431094961743815, 0.058273792965333686, 0.04897732806970122, 0.06419325525017425, 0.06415052672642235, 0.22151186534710057, 0.06965215711408992, 0.2225077149251462, 0.05316992391036597, 0.07648135759165096, 0.053190495660629306, 0.06109443957355097, 0.047530170255411085, 0.046810950889649455, 0.05533399715868103, 0.1342725661671592, 0.05635769598252048, 0.055006163388333265, 0.07687315618753714, 0.0592337193796554, 0.0594336372828891, 0.04805361577100078, 0.0548975105102947, 0.15381154181050233, 0.21767920214386136, 0.1397564494092875, 0.1695270461853287, 0.04239942358008154, 0.045864837988716656, 0.06549590080539228, 0.045850496358930515, 0.048187443406280096, 0.04301949676798614, 0.07415160313868427, 0.053831751747748256, 0.07787572989002245, 0.049960638852706116, 0.17928161669213222, 0.20263485562909844, 0.05702633680459934, 0.07564528494885447, 0.06806651470256944, 0.052170558679572, 0.04992244350988713, 0.04842963604949668, 0.06909334200115647, 0.07809242889997117, 0.07421113696698915, 0.13045719028075842, 0.04965639699124255, 0.10857355855860404, 0.04636434218361554, 0.04489455953914177, 0.04450944028030805, 0.14127324796965193, 0.18854376808476225, 0.04543360464871985, 0.18648358789608913, 0.05782126072886139, 0.05872570017118696, 0.045785707308597656, 0.10703019609082903, 0.05604000870539745, 0.07807237633273935, 0.0830579660802433, 0.06566310410370407, 0.2156761925287904, 0.07575974065344793, 0.10709599135221337, 0.04604879228176775, 0.17653065266078438, 0.21002760810832682, 0.046446359277147506, 0.155035063461141, 0.22992627133656734, 0.06797868855818665, 0.08957956687316974, 0.08099702993444186, 0.07088315592452456, 0.0614023481478381, 0.06747396154265263, 0.055564034758861805, 0.20417352188491883, 0.04260963015803519, 0.05651934450317553, 0.06499568279501841, 0.044005312741130655, 0.0547459800037253, 0.052988104120280086, 0.065232531190404, 0.2080674319625158, 0.046997982284989664, 0.0564928947192808, 0.0693816911673891, 0.04570945107039568, 0.12378199129998549, 0.04531053598298319, 0.08170276875713121, 0.10224692353173735, 0.08513996898093427, 0.04790726333336715, 0.05070652426506901, 0.062469895077713875, 0.18805385037816363, 0.05966247135192826, 0.05024727847604927, 0.5072357678978361, 0.1862002550642386, 0.09439898707511693, 0.04773826227123304, 0.03966066361196399, 0.0745197552293826, 0.07774203223618704, 0.09661236602134937, 0.04139475884904898, 0.052268035571188115, 0.04117336881314446, 0.07547944158649063, 0.1598495297922104, 0.08380893618687185, 0.08949047912398239, 0.09058263057969708, 0.028526551376731046, 0.2043012462016216, 0.05091860985613442, 0.05872009209837237, 0.06320869674673682, 0.04558547428673489, 0.0928251538899206, 0.19621267343175625, 0.224461036142985, 0.17036109534462812, 0.09825451080543494, 0.08096021561892032, 0.10678902800573684, 0.1783573801218769, 0.06315897022090905, 0.04702484844193854, 0.04639786029762909, 0.046263304467813585, 0.06144873262796291, 0.058587667401101405, 0.054417748808263416, 0.044752697295618316, 0.058029474934484744, 0.050657313922650084, 0.05301412984787484, 0.07569824503888918, 0.05595408700238972, 0.1861010980471584, 0.04505178096047143, 0.0626287183374932, 0.06942061120985413, 0.13261432184830746, 0.06630746983449809, 0.1322281884794847, 0.05267009855598692, 0.043421392826683, 0.047862630394355635, 0.04679508008343893, 0.051804779666610165, 0.05085820482792666, 0.1423872641331429, 0.051524862041711465, 0.12325172483324956, 0.034039007011013304, 0.03417263140049324, 0.09159611536689677, 0.05147193235384793, 0.04367912959899948, 0.04983731836821264, 0.07679586352080547, 0.04473188118994529, 0.06588924283320953, 0.04993263109714154, 0.052796238970185615, 0.22269676432458874, 0.04682250071071326, 0.045471106254899356, 0.04710747477292892, 0.06317962074575031, 0.06920315952237484, 0.17978149680026456, 0.05505763239067276, 0.12653664221834138, 0.05792279597660782, 0.19471573389007524, 0.08073613977539408, 0.18651582878660203, 0.11007735850813394, 0.043981963366062686, 0.17998743221107572, 0.09222628748058721, 0.05087949089191571, 0.19743554846578582, 0.08742387380191799, 0.055648275749382387, 0.16843610684749027, 0.04956584984374044, 0.046380918282345265, 0.08878119102384342, 0.04322928380911281, 0.05467127998240681, 0.08746925387176276, 0.1649344441462534, 0.06922566448158729, 0.06690395595845013, 0.08513218326086111, 0.07828538362170129, 0.05496733422611433, 0.17425482026793365, 0.060649447228435724, 0.22560204958612218, 0.06291414494371289, 0.0633351567377411, 0.19327215596092262, 0.150698633172621, 0.04618835714902335, 0.04850275360666131, 0.06738626354387375, 0.06293346777709244, 0.06520749167624774, 0.07521290901201348, 0.09774730069234225, 0.21046226706745544, 0.06989171694377562, 0.06260730992301763, 0.06622019636991873, 0.05226540293922797, 0.08195883716361346, 0.10418242565501225, 0.04853042324396754, 0.0469609547628095, 0.07866879362047897, 0.06600564491797183, 0.05241392408729441, 0.13768093458027353, 0.09801895580922287, 0.054969988792766, 0.04437554124058427, 0.06545715526922138, 0.06238557402776225, 0.08688126019353637, 0.054960120377880735, 0.06046190388509821, 0.06771270444220422, 0.044794053206741305, 0.048030794076200374, 0.052630891973778425, 0.1609160356186875, 0.04616733593868962, 0.06240669851347297, 0.04381692383316477, 0.08664398872843279, 0.06451950443800233, 0.04583319966856761, 0.045217102744632455, 0.059467492083271074, 0.16482955814236694, 0.054072046961232176, 0.06415339696996775, 0.21558107918015526, 0.061637022999314214, 0.08540363897408133, 0.06564522169740082, 0.04558634189221676, 0.058246194313727476, 0.04891881329303347, 0.06112016935324771, 0.1708499141507192, 0.15966222966366084, 0.04707651165386312, 0.17794323935861986, 0.08983220802786707, 0.20959407515055498, 0.16945043922098785, 0.04707859049471146, 0.05681606477159547, 0.05269858261564434, 0.04554096103461798, 0.05960956709694715, 0.05035261622413514, 0.21318615043686495, 0.04661606117852784, 0.0721445685650623, 0.06891557764743665, 0.05145706235725537, 0.08091316794896543, 0.04904668834345727, 0.05557803010938326, 0.04652521330084755, 0.05882374516894824, 0.042484784573187925, 0.04940384471195762, 0.07064987400682318, 0.0483513550122927, 0.13686467242834902, 0.0436948678788845, 0.05205261181907386, 0.11894341045236785, 0.05007072022696497, 0.04650622706141761, 0.08135596243169133, 0.0452252860394504, 0.062171140320492084, 0.04679074368338822, 0.042586942004440194, 0.06576594788637824, 0.08934198503906263, 0.09078287615801663, 0.10516822896683993, 0.045521993935221675, 0.05058997500399846, 0.1565792878772005, 0.04761478690994982, 0.09216344843394714, 0.1225808095873396, 0.06673234764067539, 0.05192374489941241, 0.053898234066069875, 0.06817187302150376, 0.05466922018360239, 0.050637350324088455, 0.09026477033091491, 0.04556802477614148, 0.06608747346161004, 0.05703520560301624, 0.055786212302052995, 0.08178664389729905, 0.22552127037989123, 0.07585398740562102, 0.05982571584858904, 0.06471297238538204, 0.10103483786838652, 0.05514336761784132, 0.08528647777209616, 0.12957378640138054, 0.04959312663226231, 0.05495547708524702, 0.20145820015670918, 0.045903027780274865, 0.07523715437843588, 0.149495658495709, 0.047115377828950776, 0.07712328093138923, 0.05241712568722138, 0.06918632306492331, 0.19584671024434003, 0.19860359443805986, 0.05784044696752326, 0.10949110906510491, 0.06792431208962253, 0.06681591464098006, 0.08420855870171656, 0.12986090672226144, 0.15777059510053967, 0.060465997549800005, 0.06415103139533693, 0.08003004672572041, 0.039144219836032855, 0.05045794203105954, 0.12898665799096407, 0.05247054968990093, 0.06802928561384698, 0.21841278935827801, 0.07098915836332684, 0.09093822455298066, 0.05880449772151737, 0.0682820353436689, 0.046916374240264874, 0.0551600295302047, 0.07273663293479248, 0.20804601612544663, 0.13864275721103805, 0.07589718464619345, 0.42379189346824003, 0.0658929290180662, 0.04623851879583916, 0.10326310460358115, 0.14453404337788264, 0.06933635494155255, 0.042782771968741785, 0.07128114967932257, 0.045666670505155035, 0.08589219266630663, 0.07035337634640904, 0.06376169407856616, 0.054372891586156116, 0.036959868048261825, 0.05247061067922017, 0.06039434671087382, 0.05284142381905669, 0.18822863031281434, 0.15930961666272575, 0.07550118541990959, 0.1562970290603175, 0.07213024026509482, 0.0673145529161571, 0.12523288797594834, 0.1148993171218294, 0.049333087719267824, 0.0420510216713923, 0.05100870943446692, 0.09162218380926695, 0.0781737614276657, 0.06742477532408529, 0.07510091190199696, 0.06791187015020336, 0.09471559471323115, 0.05173843805406332, 0.20599757445648664, 0.14488408330324798, 0.048729686862605516, 0.047133856244248325, 0.04005228133533921, 0.06591340945715471, 0.14006127267819685, 0.06499247704204174, 0.04678353468672022, 0.05834538444425133, 0.05013938917529233, 0.06559405673770147, 0.05468467145062898, 0.07878018518605553, 0.23525969683789338, 0.06999906899199755, 0.0443068993075634, 0.09055307707915136, 0.047997725523425405, 0.05036871150522912, 0.08437626677262064, 0.08795008475202143, 0.08944990862605302, 0.0557970772513259, 0.06497707834641796, 0.05832972282718342, 0.036790793810226846, 0.15687634636812867, 0.0619446271444008, 0.19937835399023784, 0.05876140242125548, 0.06042736888288255, 0.03140241917786877, 0.044947256888037135, 0.05015755321584374, 0.04324332042314335, 0.0458976757355227, 0.053601733063818116, 0.14184090990285758, 0.13095110727107317, 0.06676450329739972, 0.09945102677857666, 0.06757846469805417, 0.08168212262664233, 0.05383354327981757, 0.2120309568179509, 0.06127362270565367, 0.21142843590560073, 0.23489692139050178, 0.04119307841010843, 0.09843159473985684, 0.0445788117553296, 0.04148469158091131, 0.05025567625230083, 0.16623591699134183, 0.04538039584476535, 0.2519901364024885, 0.0876898467765176, 0.04278558207893408, 0.0529914296271902, 0.05703379770984891, 0.12744705551319468, 0.16121191013164482, 0.3130352712776081, 0.0658402535578866, 0.04685532844395175, 0.19026430856968285, 0.04080409699296775, 0.20800669451864853, 0.053740042293417944, 0.05450553581905852, 0.06887970579617404, 0.04911589718685029, 0.04361665553148533, 0.14600317429587759, 0.06377926184414148, 0.06555662563760856, 0.04727003502346413, 0.07802179059299953, 0.07519541952726495, 0.06056630985190367, 0.06827016202641725, 0.13527961793054327, 0.06955188991161662, 0.18252569016496556, 0.05433761135097248, 0.07490086502237145, 0.056738025747270035, 0.21643493643798772, 0.06659259698522027, 0.05109566563141594, 0.04670608234495021, 0.06439623996640527, 0.057517026077960116, 0.09451175820069695, 0.05767042720823907, 0.07281351873062394, 0.050404726991210576, 0.04473768991287106, 0.04553346595646445, 0.05246841590122264, 0.27535688076970705, 0.07161622073165266, 0.07249463412691368, 0.06546489189535118, 0.07134994251241532, 0.05558452569347097, 0.06909055303656739, 0.05435089767805855, 0.043662207316702624, 0.06062812665238142, 0.07950082742402824, 0.04250459319653103, 0.0575223616773097, 0.18326593352561593, 0.05785294803716177, 0.06262533091930585, 0.04835938591948249, 0.060568678315677985, 0.06394305881987687, 0.051151263443964944, 0.06926572713370881, 0.07817518485316417, 0.049207686042524935, 0.04595372983352079, 0.09626637824434, 0.04382026489768496, 0.1614166335924861, 0.04450585478955614, 0.16382282955790506, 0.0443591599061073, 0.04453210549263745, 0.05246985265802963, 0.06688149063504063, 0.11824464679752357, 0.04604563705367584, 0.06668453384450726, 0.32493316173034886, 0.04929801174262896, 0.4388970823279669, 0.07376117435908922, 0.05828842790637284, 0.07337159298221424, 0.050393789879079734, 0.20572365548974741, 0.0718207671619325, 0.04776280899509666, 0.06422805791089957, 0.05029690080680022, 0.046195200760146035, 0.048047924872425415, 0.04790132529458813, 0.058932097843327445, 0.04773107441221857, 0.06877305274889002, 0.04648799918875118, 0.09114490465758704, 0.06638556261696449, 0.04332628518938516, 0.07108214267103394, 0.05793575613186826, 0.062282154812502266, 0.12868687015422653, 0.05533660189801971, 0.20322318386656674, 0.04759592061517643, 0.06609763180033479, 0.05814205708879329, 0.05307157827386319, 0.04075709232381827, 0.07893453065171313, 0.05109828698734792, 0.041865061944257556, 0.06095933037596926, 0.0436227095012057, 0.15756616259362427, 0.14227290125594444, 0.055645775649098776, 0.2303711324256525, 0.04638066859955791, 0.05448193465513374, 0.20846248946079574, 0.060564879767383374, 0.04518378987064646, 0.04981631382577459, 0.0707931805782029, 0.06296831271800987, 0.04578365934134166, 0.2451466911698889, 0.04492755372897759, 0.11633979199764079, 0.17937610382339728, 0.06439602624545449, 0.09545610748348267, 0.06838704513162856, 0.09389386133842856, 0.054054400731213266, 0.061077993906117185, 0.05614021804847739, 0.05398200667324528, 0.05997321898142113, 0.04368735005301214, 0.0493192368067454, 0.1421632344179088, 0.13949891258694702, 0.030572702886141653, 0.07783392186503281, 0.14953954936446562, 0.12964115988079372, 0.05493099364883368, 0.07043274096725788, 0.04787667697848739, 0.04561084758180486, 0.06795065569605131, 0.03636024962351592, 0.07558594063287769, 0.1137434029402351, 0.06819648287437469, 0.061978651596969414, 0.05993649185350054, 0.059421012587570446, 0.05134648282854085, 0.04511420442958509, 0.05718756408692148, 0.1678788051278189, 0.06815730485962881, 0.04996054244732021, 0.050430764516632844, 0.050055928402793715, 0.06287220964635121, 0.059485132297108126, 0.06863819204800066, 0.058550962906471465, 0.04739136101271726, 0.058037496434162616, 0.05038317303329448, 0.04887752533619899, 0.05802781284935182, 0.24267651976690077, 0.06473488347681051, 0.0573048147749656, 0.05997308763669135, 0.04937462285851094, 0.04570917534510381, 0.0697406447679719, 0.21730432372654698, 0.044953474345590064, 0.16601967278559238, 0.05026446547260828, 0.04473369735627059, 0.045184694384244765, 0.11347162156438254, 0.0983896758635817, 0.0646725230855443, 0.07766080683153896, 0.20438224898487495, 0.19992254901542447, 0.11836926138240607, 0.05698931319179855, 0.06963663717084831, 0.0623191992328361, 0.047345524974370244, 0.04492922660422905, 0.06086858810815508, 0.05681613905738211, 0.0561576911539552, 0.06290925296789014, 0.0432932572961159, 0.11586632519777398, 0.04395459701002754, 0.21527806645363254, 0.07347686583309482, 0.04563300446587281, 0.0645748807448323, 0.05078519017598133, 0.048339277333259795, 0.3082506316305317, 0.04962210220495857, 0.07840640800030528, 0.05178634004103762, 0.04490484288797192, 0.045505376395490287, 0.05956886763971628, 0.0554022833313146, 0.12228103867734583, 0.08283923028434757, 0.17607166283048942, 0.05927572808488501, 0.05176309353737787, 0.0615969547332966, 0.07452279684205652, 0.04657516337723317, 0.20550685586875994, 0.1801397217600289, 0.048310404131241456, 0.04695942413811232, 0.059048436826075, 0.1576140971297841, 0.09764579147331433, 0.056755065973007085, 0.0653719261866571, 0.08403183080819908, 0.06220972579585332, 0.034404913984000016, 0.04777711065041042, 0.04439556843521259, 0.04662188860246351, 0.1974433032911285, 0.0455252527608359, 0.07006638306579242, 0.044820251954998905, 0.056579588061697196, 0.041554850436359, 0.04502361967496909, 0.047162635970469595, 0.21241109989124538, 0.04542905456392458, 0.06292883361533072, 0.05446992030891059, 0.0466973600139706, 0.057587107632106935, 0.2255771195765052, 0.21425314195715123, 0.08352392041493689, 0.07541147654779985, 0.06308105097469333, 0.07810835393500638, 0.08349885820826089, 0.05799479431977214, 0.0861375138122533, 0.057321291848448044, 0.07055441662280218, 0.06757357318813177, 0.05721710518857492, 0.1218624807449594, 0.048290563158686496, 0.03501622641660892, 0.1514840203577494, 0.12414045499158657, 0.11396945740346699, 0.0894625829399515, 0.2650272040232141, 0.17433761947203472, 0.04553909909136562, 0.21447994061780662, 0.08148458743207213, 0.05479441400644288, 0.046942891737021875, 0.04486352910053968, 0.047958834694832225, 0.047268688619478215, 0.05169281002246896, 0.06817674984866942, 0.07500325274107522, 0.05201008130113713, 0.16177060603573043, 0.04872479392917139, 0.0572052170292107, 0.0463996078079692, 0.048698804032368016, 0.04419215716664762, 0.058312775442518214, 0.0532275439376137, 0.04850929725806632, 0.051142547450417714, 0.15217767515549552, 0.17443455872178612, 0.06174102026925637, 0.053449192031703875, 0.044427611687228634, 0.07358436519016513, 0.04718880838090209, 0.20420373484667015, 0.07261850840955802, 0.20114512018138275, 0.0462670855610414, 0.06845344128206866, 0.03649267468801901, 0.19476293419698965, 0.04347011014750335, 0.06144918780458777, 0.04575262503127395, 0.15317868095260687, 0.07960777823055915], \"xaxis\": \"x\", \"yaxis\": \"y\"}],\n",
       "                        {\"barmode\": \"relative\", \"legend\": {\"tracegroupgap\": 0}, \"margin\": {\"t\": 60}, \"template\": {\"data\": {\"bar\": [{\"error_x\": {\"color\": \"#2a3f5f\"}, \"error_y\": {\"color\": \"#2a3f5f\"}, \"marker\": {\"line\": {\"color\": \"#E5ECF6\", \"width\": 0.5}}, \"type\": \"bar\"}], \"barpolar\": [{\"marker\": {\"line\": {\"color\": \"#E5ECF6\", \"width\": 0.5}}, \"type\": \"barpolar\"}], \"carpet\": [{\"aaxis\": {\"endlinecolor\": \"#2a3f5f\", \"gridcolor\": \"white\", \"linecolor\": \"white\", \"minorgridcolor\": \"white\", \"startlinecolor\": \"#2a3f5f\"}, \"baxis\": {\"endlinecolor\": \"#2a3f5f\", \"gridcolor\": \"white\", \"linecolor\": \"white\", \"minorgridcolor\": \"white\", \"startlinecolor\": \"#2a3f5f\"}, \"type\": \"carpet\"}], \"choropleth\": [{\"colorbar\": {\"outlinewidth\": 0, \"ticks\": \"\"}, \"type\": \"choropleth\"}], \"contour\": [{\"colorbar\": {\"outlinewidth\": 0, \"ticks\": \"\"}, \"colorscale\": [[0.0, \"#0d0887\"], [0.1111111111111111, \"#46039f\"], [0.2222222222222222, \"#7201a8\"], [0.3333333333333333, \"#9c179e\"], [0.4444444444444444, \"#bd3786\"], [0.5555555555555556, \"#d8576b\"], [0.6666666666666666, \"#ed7953\"], [0.7777777777777778, \"#fb9f3a\"], [0.8888888888888888, \"#fdca26\"], [1.0, \"#f0f921\"]], \"type\": \"contour\"}], \"contourcarpet\": [{\"colorbar\": {\"outlinewidth\": 0, \"ticks\": \"\"}, \"type\": \"contourcarpet\"}], \"heatmap\": [{\"colorbar\": {\"outlinewidth\": 0, \"ticks\": \"\"}, \"colorscale\": [[0.0, \"#0d0887\"], [0.1111111111111111, \"#46039f\"], [0.2222222222222222, \"#7201a8\"], [0.3333333333333333, \"#9c179e\"], [0.4444444444444444, \"#bd3786\"], [0.5555555555555556, \"#d8576b\"], [0.6666666666666666, \"#ed7953\"], [0.7777777777777778, \"#fb9f3a\"], [0.8888888888888888, \"#fdca26\"], [1.0, \"#f0f921\"]], \"type\": \"heatmap\"}], \"heatmapgl\": [{\"colorbar\": {\"outlinewidth\": 0, \"ticks\": \"\"}, \"colorscale\": [[0.0, \"#0d0887\"], [0.1111111111111111, \"#46039f\"], [0.2222222222222222, \"#7201a8\"], [0.3333333333333333, \"#9c179e\"], [0.4444444444444444, \"#bd3786\"], [0.5555555555555556, \"#d8576b\"], [0.6666666666666666, \"#ed7953\"], [0.7777777777777778, \"#fb9f3a\"], [0.8888888888888888, \"#fdca26\"], [1.0, \"#f0f921\"]], \"type\": \"heatmapgl\"}], \"histogram\": [{\"marker\": {\"colorbar\": {\"outlinewidth\": 0, \"ticks\": \"\"}}, \"type\": \"histogram\"}], \"histogram2d\": [{\"colorbar\": {\"outlinewidth\": 0, \"ticks\": \"\"}, \"colorscale\": [[0.0, \"#0d0887\"], [0.1111111111111111, \"#46039f\"], [0.2222222222222222, \"#7201a8\"], [0.3333333333333333, \"#9c179e\"], [0.4444444444444444, \"#bd3786\"], [0.5555555555555556, \"#d8576b\"], [0.6666666666666666, \"#ed7953\"], [0.7777777777777778, \"#fb9f3a\"], [0.8888888888888888, \"#fdca26\"], [1.0, \"#f0f921\"]], \"type\": \"histogram2d\"}], \"histogram2dcontour\": [{\"colorbar\": {\"outlinewidth\": 0, \"ticks\": \"\"}, \"colorscale\": [[0.0, \"#0d0887\"], [0.1111111111111111, \"#46039f\"], [0.2222222222222222, \"#7201a8\"], [0.3333333333333333, \"#9c179e\"], [0.4444444444444444, \"#bd3786\"], [0.5555555555555556, \"#d8576b\"], [0.6666666666666666, \"#ed7953\"], [0.7777777777777778, \"#fb9f3a\"], [0.8888888888888888, \"#fdca26\"], [1.0, \"#f0f921\"]], \"type\": \"histogram2dcontour\"}], \"mesh3d\": [{\"colorbar\": {\"outlinewidth\": 0, \"ticks\": \"\"}, \"type\": \"mesh3d\"}], \"parcoords\": [{\"line\": {\"colorbar\": {\"outlinewidth\": 0, \"ticks\": \"\"}}, \"type\": \"parcoords\"}], \"pie\": [{\"automargin\": true, \"type\": \"pie\"}], \"scatter\": [{\"marker\": {\"colorbar\": {\"outlinewidth\": 0, \"ticks\": \"\"}}, \"type\": \"scatter\"}], \"scatter3d\": [{\"line\": {\"colorbar\": {\"outlinewidth\": 0, \"ticks\": \"\"}}, \"marker\": {\"colorbar\": {\"outlinewidth\": 0, \"ticks\": \"\"}}, \"type\": \"scatter3d\"}], \"scattercarpet\": [{\"marker\": {\"colorbar\": {\"outlinewidth\": 0, \"ticks\": \"\"}}, \"type\": \"scattercarpet\"}], \"scattergeo\": [{\"marker\": {\"colorbar\": {\"outlinewidth\": 0, \"ticks\": \"\"}}, \"type\": \"scattergeo\"}], \"scattergl\": [{\"marker\": {\"colorbar\": {\"outlinewidth\": 0, \"ticks\": \"\"}}, \"type\": \"scattergl\"}], \"scattermapbox\": [{\"marker\": {\"colorbar\": {\"outlinewidth\": 0, \"ticks\": \"\"}}, \"type\": \"scattermapbox\"}], \"scatterpolar\": [{\"marker\": {\"colorbar\": {\"outlinewidth\": 0, \"ticks\": \"\"}}, \"type\": \"scatterpolar\"}], \"scatterpolargl\": [{\"marker\": {\"colorbar\": {\"outlinewidth\": 0, \"ticks\": \"\"}}, \"type\": \"scatterpolargl\"}], \"scatterternary\": [{\"marker\": {\"colorbar\": {\"outlinewidth\": 0, \"ticks\": \"\"}}, \"type\": \"scatterternary\"}], \"surface\": [{\"colorbar\": {\"outlinewidth\": 0, \"ticks\": \"\"}, \"colorscale\": [[0.0, \"#0d0887\"], [0.1111111111111111, \"#46039f\"], [0.2222222222222222, \"#7201a8\"], [0.3333333333333333, \"#9c179e\"], [0.4444444444444444, \"#bd3786\"], [0.5555555555555556, \"#d8576b\"], [0.6666666666666666, \"#ed7953\"], [0.7777777777777778, \"#fb9f3a\"], [0.8888888888888888, \"#fdca26\"], [1.0, \"#f0f921\"]], \"type\": \"surface\"}], \"table\": [{\"cells\": {\"fill\": {\"color\": \"#EBF0F8\"}, \"line\": {\"color\": \"white\"}}, \"header\": {\"fill\": {\"color\": \"#C8D4E3\"}, \"line\": {\"color\": \"white\"}}, \"type\": \"table\"}]}, \"layout\": {\"annotationdefaults\": {\"arrowcolor\": \"#2a3f5f\", \"arrowhead\": 0, \"arrowwidth\": 1}, \"coloraxis\": {\"colorbar\": {\"outlinewidth\": 0, \"ticks\": \"\"}}, \"colorscale\": {\"diverging\": [[0, \"#8e0152\"], [0.1, \"#c51b7d\"], [0.2, \"#de77ae\"], [0.3, \"#f1b6da\"], [0.4, \"#fde0ef\"], [0.5, \"#f7f7f7\"], [0.6, \"#e6f5d0\"], [0.7, \"#b8e186\"], [0.8, \"#7fbc41\"], [0.9, \"#4d9221\"], [1, \"#276419\"]], \"sequential\": [[0.0, \"#0d0887\"], [0.1111111111111111, \"#46039f\"], [0.2222222222222222, \"#7201a8\"], [0.3333333333333333, \"#9c179e\"], [0.4444444444444444, \"#bd3786\"], [0.5555555555555556, \"#d8576b\"], [0.6666666666666666, \"#ed7953\"], [0.7777777777777778, \"#fb9f3a\"], [0.8888888888888888, \"#fdca26\"], [1.0, \"#f0f921\"]], \"sequentialminus\": [[0.0, \"#0d0887\"], [0.1111111111111111, \"#46039f\"], [0.2222222222222222, \"#7201a8\"], [0.3333333333333333, \"#9c179e\"], [0.4444444444444444, \"#bd3786\"], [0.5555555555555556, \"#d8576b\"], [0.6666666666666666, \"#ed7953\"], [0.7777777777777778, \"#fb9f3a\"], [0.8888888888888888, \"#fdca26\"], [1.0, \"#f0f921\"]]}, \"colorway\": [\"#636efa\", \"#EF553B\", \"#00cc96\", \"#ab63fa\", \"#FFA15A\", \"#19d3f3\", \"#FF6692\", \"#B6E880\", \"#FF97FF\", \"#FECB52\"], \"font\": {\"color\": \"#2a3f5f\"}, \"geo\": {\"bgcolor\": \"white\", \"lakecolor\": \"white\", \"landcolor\": \"#E5ECF6\", \"showlakes\": true, \"showland\": true, \"subunitcolor\": \"white\"}, \"hoverlabel\": {\"align\": \"left\"}, \"hovermode\": \"closest\", \"mapbox\": {\"style\": \"light\"}, \"paper_bgcolor\": \"white\", \"plot_bgcolor\": \"#E5ECF6\", \"polar\": {\"angularaxis\": {\"gridcolor\": \"white\", \"linecolor\": \"white\", \"ticks\": \"\"}, \"bgcolor\": \"#E5ECF6\", \"radialaxis\": {\"gridcolor\": \"white\", \"linecolor\": \"white\", \"ticks\": \"\"}}, \"scene\": {\"xaxis\": {\"backgroundcolor\": \"#E5ECF6\", \"gridcolor\": \"white\", \"gridwidth\": 2, \"linecolor\": \"white\", \"showbackground\": true, \"ticks\": \"\", \"zerolinecolor\": \"white\"}, \"yaxis\": {\"backgroundcolor\": \"#E5ECF6\", \"gridcolor\": \"white\", \"gridwidth\": 2, \"linecolor\": \"white\", \"showbackground\": true, \"ticks\": \"\", \"zerolinecolor\": \"white\"}, \"zaxis\": {\"backgroundcolor\": \"#E5ECF6\", \"gridcolor\": \"white\", \"gridwidth\": 2, \"linecolor\": \"white\", \"showbackground\": true, \"ticks\": \"\", \"zerolinecolor\": \"white\"}}, \"shapedefaults\": {\"line\": {\"color\": \"#2a3f5f\"}}, \"ternary\": {\"aaxis\": {\"gridcolor\": \"white\", \"linecolor\": \"white\", \"ticks\": \"\"}, \"baxis\": {\"gridcolor\": \"white\", \"linecolor\": \"white\", \"ticks\": \"\"}, \"bgcolor\": \"#E5ECF6\", \"caxis\": {\"gridcolor\": \"white\", \"linecolor\": \"white\", \"ticks\": \"\"}}, \"title\": {\"x\": 0.05}, \"xaxis\": {\"automargin\": true, \"gridcolor\": \"white\", \"linecolor\": \"white\", \"ticks\": \"\", \"title\": {\"standoff\": 15}, \"zerolinecolor\": \"white\", \"zerolinewidth\": 2}, \"yaxis\": {\"automargin\": true, \"gridcolor\": \"white\", \"linecolor\": \"white\", \"ticks\": \"\", \"title\": {\"standoff\": 15}, \"zerolinecolor\": \"white\", \"zerolinewidth\": 2}}}, \"xaxis\": {\"anchor\": \"y\", \"domain\": [0.0, 1.0], \"title\": {\"text\": \"0\"}}, \"yaxis\": {\"anchor\": \"x\", \"domain\": [0.0, 1.0], \"title\": {\"text\": \"count\"}}},\n",
       "                        {\"responsive\": true}\n",
       "                    ).then(function(){\n",
       "                            \n",
       "var gd = document.getElementById('7b26f5d3-57c8-4ce3-baa3-6e05eb634e52');\n",
       "var x = new MutationObserver(function (mutations, observer) {{\n",
       "        var display = window.getComputedStyle(gd).display;\n",
       "        if (!display || display === 'none') {{\n",
       "            console.log([gd, 'removed!']);\n",
       "            Plotly.purge(gd);\n",
       "            observer.disconnect();\n",
       "        }}\n",
       "}});\n",
       "\n",
       "// Listen for the removal of the full notebook cells\n",
       "var notebookContainer = gd.closest('#notebook-container');\n",
       "if (notebookContainer) {{\n",
       "    x.observe(notebookContainer, {childList: true});\n",
       "}}\n",
       "\n",
       "// Listen for the clearing of the current output cell\n",
       "var outputEl = gd.closest('.output');\n",
       "if (outputEl) {{\n",
       "    x.observe(outputEl, {childList: true});\n",
       "}}\n",
       "\n",
       "                        })\n",
       "                };\n",
       "                });\n",
       "            </script>\n",
       "        </div>"
      ]
     },
     "metadata": {},
     "output_type": "display_data"
    }
   ],
   "source": [
    "px.histogram(pd.DataFrame(y_pred_train), x=0)"
   ]
  },
  {
   "cell_type": "code",
   "execution_count": 22,
   "metadata": {
    "ExecuteTime": {
     "end_time": "2020-06-20T10:19:49.249763Z",
     "start_time": "2020-06-20T10:19:49.069599Z"
    }
   },
   "outputs": [
    {
     "data": {
      "application/vnd.plotly.v1+json": {
       "config": {
        "plotlyServerURL": "https://plot.ly"
       },
       "data": [
        {
         "alignmentgroup": "True",
         "bingroup": "x",
         "hovertemplate": "0=%{x}<br>count=%{y}<extra></extra>",
         "legendgroup": "",
         "marker": {
          "color": "#636efa"
         },
         "name": "",
         "offsetgroup": "",
         "orientation": "v",
         "showlegend": false,
         "type": "histogram",
         "x": [
          0.07350446391566993,
          0.06262189563315079,
          0.04455962526171904,
          0.06708814262084646,
          0.06209618953882502,
          0.0634020702767215,
          0.215956638685718,
          0.04635627741569478,
          0.061027120962244774,
          0.06642371496329531,
          0.20700456914763493,
          0.055286095049438745,
          0.21924454237280008,
          0.04831176628103538,
          0.05323622207323804,
          0.04842184458682062,
          0.05224559145491582,
          0.07368225432031793,
          0.06351042607912946,
          0.07479248697206727,
          0.05984448855502193,
          0.1676851119767256,
          0.05353025754650054,
          0.04937064959554242,
          0.06995184291043748,
          0.06396857817791876,
          0.050045503020565554,
          0.04276911750190875,
          0.04637325882233543,
          0.09077118257838701,
          0.07648698040681869,
          0.04558309014546878,
          0.05746043878155875,
          0.07695148257875761,
          0.09628161146220825,
          0.049776592095567715,
          0.06689050099599597,
          0.0516114747214073,
          0.20458878680019846,
          0.18816270559867235,
          0.06813847506972691,
          0.0707373939797126,
          0.10128631580324059,
          0.10988034399188273,
          0.06341878186032088,
          0.1042282507941863,
          0.20784800254250907,
          0.1797195148861515,
          0.04410001640678922,
          0.06034478439221365,
          0.10416647694834452,
          0.05663766064316943,
          0.09335233595103043,
          0.04784077586921264,
          0.052966442708942164,
          0.06445696889357339,
          0.2263021355390251,
          0.05786578180661406,
          0.11327652059931674,
          0.08841531337248403,
          0.05282692561638394,
          0.05520475601124593,
          0.04690144728767136,
          0.08120425715312127,
          0.21406944173680892,
          0.0709439704318547,
          0.06993737262556513,
          0.0471040747649541,
          0.04810515751929746,
          0.04505735587761881,
          0.07093064407002557,
          0.10431838572913213,
          0.04526447635390902,
          0.059651304959135135,
          0.1023802008239137,
          0.046367297288085606,
          0.04960060269622177,
          0.04905880554382809,
          0.1593000549511649,
          0.06386090242859976,
          0.046095998128717224,
          0.09977507370550184,
          0.1103990905310942,
          0.046519068242089665,
          0.10791099166756103,
          0.1543077727924183,
          0.07574803607830827,
          0.07746461555276299,
          0.07506449083684695,
          0.06087826625092341,
          0.08442577978853086,
          0.05678403755901573,
          0.04882866377118917,
          0.13124958027836509,
          0.09870937294105067,
          0.06491882915745659,
          0.05295658679536985,
          0.09876543004031502,
          0.06854786619679873,
          0.044682706550050987,
          0.08076553775887083,
          0.0421804562261282,
          0.056960285229913074,
          0.05564370484044978,
          0.04909730197351312,
          0.09132866473495269,
          0.07498395683370572,
          0.06595742371921219,
          0.05296091178646632,
          0.20475014835072386,
          0.045831208954999876,
          0.049384104310318824,
          0.04456114869333802,
          0.06461441048393968,
          0.11522826999616645,
          0.057083993179538495,
          0.05971263957081347,
          0.04725216281928695,
          0.15108297821973993,
          0.04569018143279999,
          0.08085681497815295,
          0.244386237830174,
          0.04862105001610298,
          0.21133039923553942,
          0.04634852335492426,
          0.04969965971958643,
          0.08556945104394321,
          0.08272163884411338,
          0.030404243007471084,
          0.05541676944287539,
          0.053022315857723115,
          0.1807340035267082,
          0.06637775156582368,
          0.0442835581725503,
          0.06778554716341663,
          0.18555075040306224,
          0.12223345282663065,
          0.11004665598831659,
          0.05372344921574558,
          0.0769704618027143,
          0.17823220752029964,
          0.07579658739508577,
          0.13534923759482653,
          0.1979105273698656,
          0.08544744950851531,
          0.053128866673653116,
          0.20245969637665157,
          0.046625492454688985,
          0.07029737939661564,
          0.06072201641937282,
          0.17933234558412336,
          0.06263334254056259,
          0.044695744456996915,
          0.12628618308302136,
          0.05402543198213872,
          0.07243485745302722,
          0.0485112575622683,
          0.05055759754137681,
          0.13638293390767042,
          0.044310196950434984,
          0.06601698125461702,
          0.04563311949043129,
          0.04638575706638426,
          0.08991900183083787,
          0.12973907789294023,
          0.16301781132685306,
          0.04358988133359559,
          0.06389692450914133,
          0.046958318292329757,
          0.045229166239528225,
          0.10716787694332887,
          0.061490948870380084,
          0.0588498811941995,
          0.07288375654908484,
          0.11510906899891785,
          0.05033767271518677,
          0.1286310318666311,
          0.1605728828757333,
          0.16416238569086636,
          0.11733608649841198,
          0.07049141790470966,
          0.050266154278957,
          0.06487733176541577,
          0.0413278086207018,
          0.055406517717074444,
          0.05244933452600106,
          0.07395880248068641,
          0.045278747794098274,
          0.0706277129560141,
          0.0863399216261684,
          0.1587387575648238,
          0.11464090393903417,
          0.06688071233155073,
          0.08930731595671645,
          0.20887781962092447,
          0.08749883662106038,
          0.0616012511772612,
          0.08759522839697129,
          0.17028163128196833,
          0.04669732244913799,
          0.08735707500665331,
          0.05479019750673714,
          0.046895100835153025,
          0.05867119056216147,
          0.08763530236458819,
          0.22597323728903204,
          0.19323238673451945,
          0.044774482842952504,
          0.09361292811512602,
          0.2204329326775198,
          0.21750654157640686,
          0.04687901569007299,
          0.10396524956357614,
          0.0764136310340895,
          0.04693924000127225,
          0.057773507291681986,
          0.08118386366060801,
          0.074385397923994,
          0.05146548087144392,
          0.057800908809118326,
          0.07164717975792084,
          0.038764475298349685,
          0.12228354547475404,
          0.04399124730200521,
          0.08920096182924427,
          0.05140202507476648,
          0.04777049606978084,
          0.052521556048323134,
          0.09174837092489768,
          0.1852327925978863,
          0.09599764036435962,
          0.04677064009231681,
          0.045868809865181936,
          0.07221132157831375,
          0.07472221806711608,
          0.04449469963070112,
          0.0406480273767821,
          0.15575663042293936,
          0.0743802513080041,
          0.12088850794705078,
          0.1301458552010509,
          0.046269777348344684,
          0.046332144940399826,
          0.07317510728810608,
          0.19806950424730596,
          0.17840730684303663,
          0.04789512686030312,
          0.05209468942329548,
          0.057169313472797106,
          0.0338439340589366,
          0.04035800542212481,
          0.04973528478882507,
          0.052242227170582384,
          0.052851855703810825,
          0.18595709501060453,
          0.06873654156994854,
          0.08515150288245171,
          0.04157752253974924,
          0.04089513049844938,
          0.04360632447822545,
          0.2090512010451735,
          0.07872577353005979,
          0.04893289673146729,
          0.1350858635076329,
          0.061296572774984445,
          0.0464305940162229,
          0.10063624765818584,
          0.17004488098477016,
          0.17380985729043558,
          0.10305954115409524,
          0.07274972725868409,
          0.05494281096973112,
          0.04452588684240796,
          0.15248350474776073,
          0.19143366182329616,
          0.06376025089077286,
          0.04622389443753415,
          0.05613911595457619,
          0.04906366788194017,
          0.10969365318708135,
          0.045621625370808765,
          0.0765424605732143,
          0.15795778254585363,
          0.0896474024813789,
          0.06381403067007933,
          0.07261112835653313,
          0.08163148880080281,
          0.09674384854423487,
          0.04596058781742317,
          0.04756595619868627,
          0.05834143943822408,
          0.04447713439118598,
          0.06282298130939042,
          0.048306479217043626,
          0.062459574694779654,
          0.060061664529643156,
          0.04291860894335668,
          0.048431565021645154,
          0.06069734231483434,
          0.06013567555609858,
          0.16609843535730892,
          0.11149893942017461,
          0.04652014018507893,
          0.05944867283191449,
          0.06739337981592755,
          0.12645991239887414,
          0.04124296958607262,
          0.05840381155634465,
          0.059374219280503585,
          0.06865397732539297,
          0.045973927052653143,
          0.059533809801082256,
          0.1259002381188404,
          0.12973399538522182,
          0.05910223702603247,
          0.0476656757843068,
          0.04474916151945157,
          0.2280050617745032,
          0.055321642735306056,
          0.054970074739240156,
          0.17295367093877761,
          0.04481427014431403,
          0.04169562082601385,
          0.04629640130750496,
          0.11676559264206887,
          0.047380098446939294,
          0.06135308143007053,
          0.04863779706590807,
          0.04443296947593841,
          0.06064406996695034,
          0.045727826310282,
          0.06212859706009882,
          0.1441155349039768,
          0.07974300614018978,
          0.049410034356391866,
          0.22084944323769073,
          0.047826211135800004,
          0.05488871900051943,
          0.0692495923067863,
          0.09062682565529503,
          0.16865728827904436,
          0.049832961869220656,
          0.04714939896375482,
          0.07608654724287404,
          0.058743104916858274,
          0.05351623202351741,
          0.08357892104696504,
          0.08302817246425272,
          0.19204631382745568,
          0.07270002893126448,
          0.04603898791712626,
          0.0480309954588701,
          0.06587336642710083,
          0.06753766522942103,
          0.04279706205537002,
          0.17971983854567414,
          0.08909174179443126,
          0.051264932500052006,
          0.0569758185129378,
          0.19221827479154174,
          0.07387241379499883,
          0.04598350843357766,
          0.08233652184462963,
          0.08727889204356931,
          0.045712945432965814,
          0.06062438375906613,
          0.0445516657020155,
          0.06363596774649556,
          0.07106558352285225,
          0.10529081997988732,
          0.04808204237564041,
          0.04774745109266796,
          0.06691409013812624,
          0.1032331586929593,
          0.22299112879222713,
          0.06106126552100426,
          0.06032796713584008,
          0.06694367385612596,
          0.20077149216518458,
          0.042743259772256785,
          0.04482488535375478,
          0.038915932792802095,
          0.050959520055228115,
          0.0459338097575677,
          0.11703666342537164,
          0.21059677809166338,
          0.06747457706656237,
          0.19539179953279126,
          0.04490734077298967,
          0.053923637502411,
          0.08382609268566893,
          0.06184360973349144,
          0.04910617817376095,
          0.05625768886833585,
          0.1170123742915119,
          0.15055021785036787,
          0.15448053653953397,
          0.05675645983696996,
          0.04444347630457103,
          0.06238204940060421,
          0.044531905534904506,
          0.06672717844920653,
          0.11986746333300982,
          0.051029781669188604,
          0.05579863720568415,
          0.16432728846439462,
          0.0683838505565937,
          0.11028234198108836,
          0.046004836769282825,
          0.05706737953486721,
          0.08886882157308088,
          0.04615577707969145,
          0.09131145446834897,
          0.06427281112017441,
          0.061579288839534965,
          0.06349615617151369,
          0.045525845095269274,
          0.10860745560644469,
          0.04926308649674165,
          0.07035950210226187,
          0.062007448788373026,
          0.0474333583419077,
          0.06221560264793548,
          0.09666282921045204,
          0.04721876619060664,
          0.16595346580556763,
          0.042277164571255466,
          0.09926530560946267,
          0.055449244041348406,
          0.06819858849297858,
          0.04943055427904753,
          0.05310439367456756,
          0.06287301345205226,
          0.20980967287939253,
          0.0629475951173329,
          0.16820460454629588,
          0.06075438094015932,
          0.052301735007723435,
          0.062162407347442425,
          0.062157129807634715,
          0.05328166636635507,
          0.14956539623516302,
          0.044683718353140174,
          0.04850301466541937,
          0.15662858819887732,
          0.10766565504624562,
          0.19481479735863386,
          0.059127645610188836,
          0.08362387264049777,
          0.057902041431986725,
          0.05538732021836319,
          0.04407881774223864,
          0.0511127468414699,
          0.13020472671646655,
          0.04884816380521046,
          0.22106191841915845,
          0.07348585310983699,
          0.23836486109339772,
          0.08044256692452627,
          0.10432542813282092,
          0.1612972837224786,
          0.05447109503919535,
          0.04537895595255023,
          0.04308479577911059,
          0.04773513172667698,
          0.04493405922796292,
          0.038165920603854646,
          0.0447358731900418,
          0.06144727353427523,
          0.07094626166979706,
          0.11504862667469587,
          0.08581361509857773,
          0.05975583516411696,
          0.13257340092212988,
          0.16251224445277868,
          0.2130054650696624,
          0.05337893150859913,
          0.05763969414856357,
          0.11698181880217154,
          0.048063303766440614,
          0.08228316679229254,
          0.06728819327064174,
          0.04619917934308919,
          0.06602335841660242,
          0.04492378437883769,
          0.06530664432495367,
          0.09999904541920149,
          0.07166847637509281,
          0.07210644340494474,
          0.13497566954863607,
          0.049124986177077466,
          0.14348634185992587,
          0.07633438385511927,
          0.1715182518683221,
          0.05191136566399065,
          0.05276379459915808,
          0.06052385120554418,
          0.04371780522285332,
          0.0897038302032766,
          0.06096822832528059,
          0.08169874678363967,
          0.05382862762053672,
          0.054209918081044514,
          0.06295528789112163,
          0.04845015395593948,
          0.07041489962776135,
          0.049587557225607856,
          0.09434464959504088,
          0.03998291954513243,
          0.07178466629168828,
          0.05589206898687287,
          0.08916433174356614,
          0.079534018603017,
          0.0975616061226037,
          0.04399094291273231,
          0.19514333649821172,
          0.06017067637950929,
          0.22265438087345857,
          0.14694961430916564,
          0.06962760320368858,
          0.18172204863886085,
          0.05473412329708777,
          0.05146974575030248,
          0.07809371544065127,
          0.15337889131892662,
          0.07499989967586844,
          0.04495247354219408,
          0.11324548038479536,
          0.06888010248106051,
          0.05786980995739738,
          0.044858299132794495,
          0.07153245623596781,
          0.06001792794148295,
          0.04524774491268793,
          0.10091935296774437,
          0.0528955185151896,
          0.06997664417820376,
          0.053432973568128865,
          0.06312222920357802,
          0.04622991401786641,
          0.06409994558737935,
          0.07341391736899083,
          0.06920654387562578,
          0.14401017175164707,
          0.045515325818945525,
          0.04572057309509451,
          0.044372103085796824,
          0.06625385300412437,
          0.15030915136306572,
          0.07616150259367417,
          0.10569422071814383,
          0.09345525968445967,
          0.14147809639131775,
          0.09272370142802146,
          0.07455233056658211,
          0.08166222661441314,
          0.06375975210284687,
          0.06461800115870675,
          0.05623056777402817,
          0.04451013706601703,
          0.056024856436912795,
          0.04893402775839806,
          0.059716464521244544,
          0.056745270663275185,
          0.06290892192536102,
          0.0658923439574278,
          0.06105684111879446,
          0.061307987384242195,
          0.09577530749010844,
          0.05375470218720753,
          0.10669674850040523,
          0.16123104749442707,
          0.06281243056263963,
          0.03901707218128199,
          0.21696125255617146,
          0.0513474034593124,
          0.044840738239757365,
          0.0604816488122429,
          0.05899130662604278,
          0.1744777903319143,
          0.1065475958316721,
          0.04412546044656612,
          0.06215558121167412,
          0.055502819792889804,
          0.04635226022133559,
          0.05208324243219517,
          0.09599426608044985,
          0.08616609618255644,
          0.11907424159927725,
          0.05636101764701633,
          0.06881137653196716,
          0.16031190937892262,
          0.041298796308676264,
          0.038881774427581735,
          0.047115779016209454,
          0.16121966117448575,
          0.05188808244367567,
          0.06753044632920185,
          0.09626015235699414,
          0.044883453889299756,
          0.13619350878106623,
          0.060401349708541,
          0.07253271171801244,
          0.04431171609068635,
          0.17966614073267187,
          0.0940370577509979,
          0.031081973289762747,
          0.043253487454876324,
          0.043051274075744744,
          0.045515116546250636,
          0.08666348941507711,
          0.11714090513245262,
          0.042989089231232964,
          0.058216752169634935,
          0.04728973696801258,
          0.2051051545960223,
          0.2032132619922687,
          0.1722790296972046,
          0.18051398459897558,
          0.06873783701357107,
          0.04539932288127711,
          0.05884802215566691,
          0.08444786200450098,
          0.19421765954881287,
          0.09347849194792289,
          0.05945514761029476,
          0.13286445957527548,
          0.05599154253104817,
          0.14208087835612718,
          0.19777850328394228,
          0.052685505961582946,
          0.2139271805863123,
          0.2032445917006225,
          0.09312908543998803,
          0.07786618368532393,
          0.1133167889936633,
          0.06912759078180783,
          0.16421802417276862,
          0.07298546987592805,
          0.05404336421827792,
          0.04372507180686081,
          0.05386239625144667,
          0.17635136194327478,
          0.04441658753371711,
          0.04370245879762195,
          0.045802521287016,
          0.1555505453674674,
          0.05730220292526761,
          0.10935891542146636,
          0.05399456904628009,
          0.11502568045032022,
          0.06789244273538511,
          0.0497005875334821,
          0.07008725590287626,
          0.047924376766923356,
          0.08978021241405915,
          0.04361201539711134,
          0.0717827190234607,
          0.06223186384359529,
          0.07108726449438448,
          0.05240613900272163,
          0.0546939262428307,
          0.06382784058702085,
          0.04867789808092143,
          0.18766560887442424,
          0.054815044987773356,
          0.05603073090155168,
          0.09107726813372681,
          0.04333395855923785,
          0.05702647135658194,
          0.10505997100205841,
          0.0440797832025588,
          0.05681746231061572,
          0.14493580881683282,
          0.22250685217509206,
          0.11685621898539839,
          0.09308694553264812,
          0.08093942936325706,
          0.05298057969075734,
          0.0740182971319055,
          0.07218804382310992,
          0.0543524991506757,
          0.10671983431243963,
          0.050494045946177665,
          0.18452433547886804,
          0.06487615766340776,
          0.06987994939834975,
          0.06477707048809715,
          0.04611689084018489,
          0.07238210172387256,
          0.07305234391992599,
          0.04064528963596633,
          0.08805054870160936,
          0.04531022322470171,
          0.17624093257700474,
          0.05622830717572132,
          0.20444924807352938,
          0.06317208959213064,
          0.14990496335523956,
          0.14549518500478936,
          0.04676038494696949,
          0.08904240550233546,
          0.048459613924981805,
          0.0618986169512979,
          0.09576674701826884,
          0.06152989681750165,
          0.04974523306693057,
          0.05756541176985716,
          0.048847244429720264,
          0.07520529179732731,
          0.05703773823578165,
          0.046822446410873915,
          0.05015115826215758,
          0.10607765773447134,
          0.05606030081788764,
          0.07631250165427884,
          0.04378676347325307,
          0.10937472451111502,
          0.0458943883118248,
          0.1480804908524943,
          0.047694826982125,
          0.06938889296050971,
          0.049630914323912464,
          0.04947651102440672,
          0.05731039920058059,
          0.09452314198008624,
          0.07253118906577377,
          0.056883244733819074,
          0.18079090908833903,
          0.04526197068489846,
          0.061432641436040235,
          0.1143275421857743,
          0.04718778765045535,
          0.05362727230612227,
          0.07521534435751226,
          0.05739505001729403,
          0.08625431110371533,
          0.04372845332884834,
          0.048597461979133685,
          0.053614432345252816,
          0.05958051852106331,
          0.0592554705449017,
          0.10294876710604811,
          0.05095934367179206,
          0.15777267377193113,
          0.1603827570839626,
          0.23081531901302046,
          0.04049294138450874,
          0.05044364134973698,
          0.17818122724765614,
          0.04578515778482133,
          0.04536527512778315,
          0.06278606000246582,
          0.16692881460596526,
          0.05964182898434681,
          0.11387150421526455,
          0.1100040507328856,
          0.09865432173840852,
          0.06927148043093047,
          0.05716743503998056,
          0.04665535329041092,
          0.04457645777928821,
          0.2661197237086867,
          0.13575282858053722,
          0.04864111024445257,
          0.04774935788429986,
          0.053558867993767044,
          0.20802234620163476,
          0.049523051812687374,
          0.045567949912888636,
          0.07212321141092161,
          0.0529275990540993,
          0.06662249606732232,
          0.2276212131781069,
          0.046547390749058025,
          0.04765847500393111,
          0.17825664236511757,
          0.0880242948107869,
          0.048904372045397534,
          0.06584906799245797,
          0.04392908507615139,
          0.08318930477298918,
          0.11106665456204745,
          0.1275110676138675,
          0.04521241400303957,
          0.1962147837035919,
          0.09437754879240683,
          0.0503596807236877,
          0.06626440704624159,
          0.04710696427963092,
          0.09905059853864992,
          0.06190009853007909,
          0.17548227789735427,
          0.033509800195436645,
          0.04657465906951091,
          0.06412395639356566,
          0.1488296391516865,
          0.14720792304925295,
          0.0585128420318906,
          0.05474873290815779,
          0.04549709683661686,
          0.06921846156438531,
          0.15859322947894366,
          0.12592610505372942,
          0.059480300380244544,
          0.06451776289867986,
          0.04606953633649679,
          0.0527807937901662,
          0.050567632077754714,
          0.06733315327374552,
          0.053055587040482334,
          0.07378358797813009,
          0.06916110184073943,
          0.07523922502934731,
          0.20021108750274152,
          0.06142651774605769,
          0.05738067478864617,
          0.06394554413794418,
          0.18289783301423584,
          0.045253340827256044,
          0.05892458457634615,
          0.20563245821661047,
          0.04952614972357208,
          0.1075129096353481,
          0.139587118239261,
          0.04742492182010865,
          0.03511917296912104,
          0.048184186745023505,
          0.03570255685871511,
          0.06918664983997405,
          0.05258456554371797,
          0.04626965054870305,
          0.07543730533379206,
          0.045408596166736565,
          0.08229627001280566,
          0.06644036123119546,
          0.06948844968906835,
          0.044840658871467085,
          0.04423884732066472,
          0.06935405008758193,
          0.16157937987731663,
          0.06926053447599229,
          0.0729885180668749,
          0.07006518992174378,
          0.030300313950597194,
          0.04819653818630325,
          0.04648291446231524,
          0.06189813117709883,
          0.06172961862946163,
          0.05521236689899954,
          0.05850277121378917,
          0.12610827634985117,
          0.07390758037416995,
          0.04514524953633638,
          0.062247941362697304,
          0.05037749335439211,
          0.0497775836777585,
          0.034719214922156544,
          0.16321426446699405,
          0.044995107672365184,
          0.0660408469481628,
          0.047665026453462905,
          0.11587429264154137,
          0.18408326956765564,
          0.04423090822046548,
          0.06311249773006516,
          0.14518938277740384,
          0.12526410264308002,
          0.0627922712781582,
          0.046292845162446805,
          0.06517112633936066,
          0.050170740257379026,
          0.09845770127282044,
          0.07744534282401286,
          0.10549051648938268,
          0.12368193441095165,
          0.10332481976223484,
          0.19049420677715623,
          0.045050873393582706,
          0.20654816783664004,
          0.04492575506531479,
          0.04739242713413922,
          0.1630868776903761,
          0.04339210192656035,
          0.1572169911754736,
          0.1650486802666598,
          0.048210727214265725,
          0.04503034497153332,
          0.09017984812760499,
          0.05010027279735082,
          0.06424533152506336,
          0.05691807454717237,
          0.08245419073588549,
          0.1046892870518498,
          0.06758557632113228,
          0.08019191874574662,
          0.07109918154321021,
          0.08709971456133173,
          0.04499490797691157,
          0.06399047256121476,
          0.05128972883780316,
          0.05246625015159486,
          0.10075715662487889,
          0.04667774558576265,
          0.13516739652675464,
          0.1953589999736638,
          0.0766839715401246,
          0.04666373875916224,
          0.07972165040024749,
          0.0632826135299899,
          0.06188476068535177,
          0.04301889661002333,
          0.049414982666275455,
          0.201452559732807,
          0.06326994683092513,
          0.04019111672715291,
          0.060048254662781325,
          0.06011224286755275,
          0.10465214644653027,
          0.04835234615562591,
          0.044325495014891594,
          0.04515707550794317,
          0.051067794983145516,
          0.08723469332850396,
          0.04700947813103173,
          0.09582300854105952,
          0.17311388890618926,
          0.05940790450774164,
          0.10891427037278223,
          0.041058507022562564,
          0.045828735176332354,
          0.06727073428662182,
          0.0679927667935469,
          0.061848710697262374,
          0.06236721418174497,
          0.04284085175724825,
          0.08142967300813742,
          0.05656023216620775,
          0.07307027035091097,
          0.06599565369137785,
          0.05455180741607646,
          0.055386358718042664,
          0.04453617210671649,
          0.061856660915098116,
          0.05740278095481901,
          0.1354215890790871,
          0.04083714990647711,
          0.04379163943562587,
          0.04914792883478662,
          0.05553827523910811,
          0.0879243751154542,
          0.070147545074487,
          0.09571921803144144,
          0.11994910301981046,
          0.06258411119165326,
          0.07431468934159646,
          0.10231340995746635,
          0.06538090597917243,
          0.04818838075456489,
          0.11161175964351797,
          0.04825508217922149,
          0.044242150525225316,
          0.06318877464317728,
          0.20827871979154655,
          0.334878393847467,
          0.02960265164937379,
          0.13205082234732773
         ],
         "xaxis": "x",
         "yaxis": "y"
        }
       ],
       "layout": {
        "barmode": "relative",
        "legend": {
         "tracegroupgap": 0
        },
        "margin": {
         "t": 60
        },
        "template": {
         "data": {
          "bar": [
           {
            "error_x": {
             "color": "#2a3f5f"
            },
            "error_y": {
             "color": "#2a3f5f"
            },
            "marker": {
             "line": {
              "color": "#E5ECF6",
              "width": 0.5
             }
            },
            "type": "bar"
           }
          ],
          "barpolar": [
           {
            "marker": {
             "line": {
              "color": "#E5ECF6",
              "width": 0.5
             }
            },
            "type": "barpolar"
           }
          ],
          "carpet": [
           {
            "aaxis": {
             "endlinecolor": "#2a3f5f",
             "gridcolor": "white",
             "linecolor": "white",
             "minorgridcolor": "white",
             "startlinecolor": "#2a3f5f"
            },
            "baxis": {
             "endlinecolor": "#2a3f5f",
             "gridcolor": "white",
             "linecolor": "white",
             "minorgridcolor": "white",
             "startlinecolor": "#2a3f5f"
            },
            "type": "carpet"
           }
          ],
          "choropleth": [
           {
            "colorbar": {
             "outlinewidth": 0,
             "ticks": ""
            },
            "type": "choropleth"
           }
          ],
          "contour": [
           {
            "colorbar": {
             "outlinewidth": 0,
             "ticks": ""
            },
            "colorscale": [
             [
              0,
              "#0d0887"
             ],
             [
              0.1111111111111111,
              "#46039f"
             ],
             [
              0.2222222222222222,
              "#7201a8"
             ],
             [
              0.3333333333333333,
              "#9c179e"
             ],
             [
              0.4444444444444444,
              "#bd3786"
             ],
             [
              0.5555555555555556,
              "#d8576b"
             ],
             [
              0.6666666666666666,
              "#ed7953"
             ],
             [
              0.7777777777777778,
              "#fb9f3a"
             ],
             [
              0.8888888888888888,
              "#fdca26"
             ],
             [
              1,
              "#f0f921"
             ]
            ],
            "type": "contour"
           }
          ],
          "contourcarpet": [
           {
            "colorbar": {
             "outlinewidth": 0,
             "ticks": ""
            },
            "type": "contourcarpet"
           }
          ],
          "heatmap": [
           {
            "colorbar": {
             "outlinewidth": 0,
             "ticks": ""
            },
            "colorscale": [
             [
              0,
              "#0d0887"
             ],
             [
              0.1111111111111111,
              "#46039f"
             ],
             [
              0.2222222222222222,
              "#7201a8"
             ],
             [
              0.3333333333333333,
              "#9c179e"
             ],
             [
              0.4444444444444444,
              "#bd3786"
             ],
             [
              0.5555555555555556,
              "#d8576b"
             ],
             [
              0.6666666666666666,
              "#ed7953"
             ],
             [
              0.7777777777777778,
              "#fb9f3a"
             ],
             [
              0.8888888888888888,
              "#fdca26"
             ],
             [
              1,
              "#f0f921"
             ]
            ],
            "type": "heatmap"
           }
          ],
          "heatmapgl": [
           {
            "colorbar": {
             "outlinewidth": 0,
             "ticks": ""
            },
            "colorscale": [
             [
              0,
              "#0d0887"
             ],
             [
              0.1111111111111111,
              "#46039f"
             ],
             [
              0.2222222222222222,
              "#7201a8"
             ],
             [
              0.3333333333333333,
              "#9c179e"
             ],
             [
              0.4444444444444444,
              "#bd3786"
             ],
             [
              0.5555555555555556,
              "#d8576b"
             ],
             [
              0.6666666666666666,
              "#ed7953"
             ],
             [
              0.7777777777777778,
              "#fb9f3a"
             ],
             [
              0.8888888888888888,
              "#fdca26"
             ],
             [
              1,
              "#f0f921"
             ]
            ],
            "type": "heatmapgl"
           }
          ],
          "histogram": [
           {
            "marker": {
             "colorbar": {
              "outlinewidth": 0,
              "ticks": ""
             }
            },
            "type": "histogram"
           }
          ],
          "histogram2d": [
           {
            "colorbar": {
             "outlinewidth": 0,
             "ticks": ""
            },
            "colorscale": [
             [
              0,
              "#0d0887"
             ],
             [
              0.1111111111111111,
              "#46039f"
             ],
             [
              0.2222222222222222,
              "#7201a8"
             ],
             [
              0.3333333333333333,
              "#9c179e"
             ],
             [
              0.4444444444444444,
              "#bd3786"
             ],
             [
              0.5555555555555556,
              "#d8576b"
             ],
             [
              0.6666666666666666,
              "#ed7953"
             ],
             [
              0.7777777777777778,
              "#fb9f3a"
             ],
             [
              0.8888888888888888,
              "#fdca26"
             ],
             [
              1,
              "#f0f921"
             ]
            ],
            "type": "histogram2d"
           }
          ],
          "histogram2dcontour": [
           {
            "colorbar": {
             "outlinewidth": 0,
             "ticks": ""
            },
            "colorscale": [
             [
              0,
              "#0d0887"
             ],
             [
              0.1111111111111111,
              "#46039f"
             ],
             [
              0.2222222222222222,
              "#7201a8"
             ],
             [
              0.3333333333333333,
              "#9c179e"
             ],
             [
              0.4444444444444444,
              "#bd3786"
             ],
             [
              0.5555555555555556,
              "#d8576b"
             ],
             [
              0.6666666666666666,
              "#ed7953"
             ],
             [
              0.7777777777777778,
              "#fb9f3a"
             ],
             [
              0.8888888888888888,
              "#fdca26"
             ],
             [
              1,
              "#f0f921"
             ]
            ],
            "type": "histogram2dcontour"
           }
          ],
          "mesh3d": [
           {
            "colorbar": {
             "outlinewidth": 0,
             "ticks": ""
            },
            "type": "mesh3d"
           }
          ],
          "parcoords": [
           {
            "line": {
             "colorbar": {
              "outlinewidth": 0,
              "ticks": ""
             }
            },
            "type": "parcoords"
           }
          ],
          "pie": [
           {
            "automargin": true,
            "type": "pie"
           }
          ],
          "scatter": [
           {
            "marker": {
             "colorbar": {
              "outlinewidth": 0,
              "ticks": ""
             }
            },
            "type": "scatter"
           }
          ],
          "scatter3d": [
           {
            "line": {
             "colorbar": {
              "outlinewidth": 0,
              "ticks": ""
             }
            },
            "marker": {
             "colorbar": {
              "outlinewidth": 0,
              "ticks": ""
             }
            },
            "type": "scatter3d"
           }
          ],
          "scattercarpet": [
           {
            "marker": {
             "colorbar": {
              "outlinewidth": 0,
              "ticks": ""
             }
            },
            "type": "scattercarpet"
           }
          ],
          "scattergeo": [
           {
            "marker": {
             "colorbar": {
              "outlinewidth": 0,
              "ticks": ""
             }
            },
            "type": "scattergeo"
           }
          ],
          "scattergl": [
           {
            "marker": {
             "colorbar": {
              "outlinewidth": 0,
              "ticks": ""
             }
            },
            "type": "scattergl"
           }
          ],
          "scattermapbox": [
           {
            "marker": {
             "colorbar": {
              "outlinewidth": 0,
              "ticks": ""
             }
            },
            "type": "scattermapbox"
           }
          ],
          "scatterpolar": [
           {
            "marker": {
             "colorbar": {
              "outlinewidth": 0,
              "ticks": ""
             }
            },
            "type": "scatterpolar"
           }
          ],
          "scatterpolargl": [
           {
            "marker": {
             "colorbar": {
              "outlinewidth": 0,
              "ticks": ""
             }
            },
            "type": "scatterpolargl"
           }
          ],
          "scatterternary": [
           {
            "marker": {
             "colorbar": {
              "outlinewidth": 0,
              "ticks": ""
             }
            },
            "type": "scatterternary"
           }
          ],
          "surface": [
           {
            "colorbar": {
             "outlinewidth": 0,
             "ticks": ""
            },
            "colorscale": [
             [
              0,
              "#0d0887"
             ],
             [
              0.1111111111111111,
              "#46039f"
             ],
             [
              0.2222222222222222,
              "#7201a8"
             ],
             [
              0.3333333333333333,
              "#9c179e"
             ],
             [
              0.4444444444444444,
              "#bd3786"
             ],
             [
              0.5555555555555556,
              "#d8576b"
             ],
             [
              0.6666666666666666,
              "#ed7953"
             ],
             [
              0.7777777777777778,
              "#fb9f3a"
             ],
             [
              0.8888888888888888,
              "#fdca26"
             ],
             [
              1,
              "#f0f921"
             ]
            ],
            "type": "surface"
           }
          ],
          "table": [
           {
            "cells": {
             "fill": {
              "color": "#EBF0F8"
             },
             "line": {
              "color": "white"
             }
            },
            "header": {
             "fill": {
              "color": "#C8D4E3"
             },
             "line": {
              "color": "white"
             }
            },
            "type": "table"
           }
          ]
         },
         "layout": {
          "annotationdefaults": {
           "arrowcolor": "#2a3f5f",
           "arrowhead": 0,
           "arrowwidth": 1
          },
          "coloraxis": {
           "colorbar": {
            "outlinewidth": 0,
            "ticks": ""
           }
          },
          "colorscale": {
           "diverging": [
            [
             0,
             "#8e0152"
            ],
            [
             0.1,
             "#c51b7d"
            ],
            [
             0.2,
             "#de77ae"
            ],
            [
             0.3,
             "#f1b6da"
            ],
            [
             0.4,
             "#fde0ef"
            ],
            [
             0.5,
             "#f7f7f7"
            ],
            [
             0.6,
             "#e6f5d0"
            ],
            [
             0.7,
             "#b8e186"
            ],
            [
             0.8,
             "#7fbc41"
            ],
            [
             0.9,
             "#4d9221"
            ],
            [
             1,
             "#276419"
            ]
           ],
           "sequential": [
            [
             0,
             "#0d0887"
            ],
            [
             0.1111111111111111,
             "#46039f"
            ],
            [
             0.2222222222222222,
             "#7201a8"
            ],
            [
             0.3333333333333333,
             "#9c179e"
            ],
            [
             0.4444444444444444,
             "#bd3786"
            ],
            [
             0.5555555555555556,
             "#d8576b"
            ],
            [
             0.6666666666666666,
             "#ed7953"
            ],
            [
             0.7777777777777778,
             "#fb9f3a"
            ],
            [
             0.8888888888888888,
             "#fdca26"
            ],
            [
             1,
             "#f0f921"
            ]
           ],
           "sequentialminus": [
            [
             0,
             "#0d0887"
            ],
            [
             0.1111111111111111,
             "#46039f"
            ],
            [
             0.2222222222222222,
             "#7201a8"
            ],
            [
             0.3333333333333333,
             "#9c179e"
            ],
            [
             0.4444444444444444,
             "#bd3786"
            ],
            [
             0.5555555555555556,
             "#d8576b"
            ],
            [
             0.6666666666666666,
             "#ed7953"
            ],
            [
             0.7777777777777778,
             "#fb9f3a"
            ],
            [
             0.8888888888888888,
             "#fdca26"
            ],
            [
             1,
             "#f0f921"
            ]
           ]
          },
          "colorway": [
           "#636efa",
           "#EF553B",
           "#00cc96",
           "#ab63fa",
           "#FFA15A",
           "#19d3f3",
           "#FF6692",
           "#B6E880",
           "#FF97FF",
           "#FECB52"
          ],
          "font": {
           "color": "#2a3f5f"
          },
          "geo": {
           "bgcolor": "white",
           "lakecolor": "white",
           "landcolor": "#E5ECF6",
           "showlakes": true,
           "showland": true,
           "subunitcolor": "white"
          },
          "hoverlabel": {
           "align": "left"
          },
          "hovermode": "closest",
          "mapbox": {
           "style": "light"
          },
          "paper_bgcolor": "white",
          "plot_bgcolor": "#E5ECF6",
          "polar": {
           "angularaxis": {
            "gridcolor": "white",
            "linecolor": "white",
            "ticks": ""
           },
           "bgcolor": "#E5ECF6",
           "radialaxis": {
            "gridcolor": "white",
            "linecolor": "white",
            "ticks": ""
           }
          },
          "scene": {
           "xaxis": {
            "backgroundcolor": "#E5ECF6",
            "gridcolor": "white",
            "gridwidth": 2,
            "linecolor": "white",
            "showbackground": true,
            "ticks": "",
            "zerolinecolor": "white"
           },
           "yaxis": {
            "backgroundcolor": "#E5ECF6",
            "gridcolor": "white",
            "gridwidth": 2,
            "linecolor": "white",
            "showbackground": true,
            "ticks": "",
            "zerolinecolor": "white"
           },
           "zaxis": {
            "backgroundcolor": "#E5ECF6",
            "gridcolor": "white",
            "gridwidth": 2,
            "linecolor": "white",
            "showbackground": true,
            "ticks": "",
            "zerolinecolor": "white"
           }
          },
          "shapedefaults": {
           "line": {
            "color": "#2a3f5f"
           }
          },
          "ternary": {
           "aaxis": {
            "gridcolor": "white",
            "linecolor": "white",
            "ticks": ""
           },
           "baxis": {
            "gridcolor": "white",
            "linecolor": "white",
            "ticks": ""
           },
           "bgcolor": "#E5ECF6",
           "caxis": {
            "gridcolor": "white",
            "linecolor": "white",
            "ticks": ""
           }
          },
          "title": {
           "x": 0.05
          },
          "xaxis": {
           "automargin": true,
           "gridcolor": "white",
           "linecolor": "white",
           "ticks": "",
           "title": {
            "standoff": 15
           },
           "zerolinecolor": "white",
           "zerolinewidth": 2
          },
          "yaxis": {
           "automargin": true,
           "gridcolor": "white",
           "linecolor": "white",
           "ticks": "",
           "title": {
            "standoff": 15
           },
           "zerolinecolor": "white",
           "zerolinewidth": 2
          }
         }
        },
        "xaxis": {
         "anchor": "y",
         "domain": [
          0,
          1
         ],
         "title": {
          "text": "0"
         }
        },
        "yaxis": {
         "anchor": "x",
         "domain": [
          0,
          1
         ],
         "title": {
          "text": "count"
         }
        }
       }
      },
      "text/html": [
       "<div>\n",
       "        \n",
       "        \n",
       "            <div id=\"774abdef-da77-4242-8717-fec1abc2f09f\" class=\"plotly-graph-div\" style=\"height:525px; width:100%;\"></div>\n",
       "            <script type=\"text/javascript\">\n",
       "                require([\"plotly\"], function(Plotly) {\n",
       "                    window.PLOTLYENV=window.PLOTLYENV || {};\n",
       "                    \n",
       "                if (document.getElementById(\"774abdef-da77-4242-8717-fec1abc2f09f\")) {\n",
       "                    Plotly.newPlot(\n",
       "                        '774abdef-da77-4242-8717-fec1abc2f09f',\n",
       "                        [{\"alignmentgroup\": \"True\", \"bingroup\": \"x\", \"hovertemplate\": \"0=%{x}<br>count=%{y}<extra></extra>\", \"legendgroup\": \"\", \"marker\": {\"color\": \"#636efa\"}, \"name\": \"\", \"offsetgroup\": \"\", \"orientation\": \"v\", \"showlegend\": false, \"type\": \"histogram\", \"x\": [0.07350446391566993, 0.06262189563315079, 0.04455962526171904, 0.06708814262084646, 0.06209618953882502, 0.0634020702767215, 0.215956638685718, 0.04635627741569478, 0.061027120962244774, 0.06642371496329531, 0.20700456914763493, 0.055286095049438745, 0.21924454237280008, 0.04831176628103538, 0.05323622207323804, 0.04842184458682062, 0.05224559145491582, 0.07368225432031793, 0.06351042607912946, 0.07479248697206727, 0.05984448855502193, 0.1676851119767256, 0.05353025754650054, 0.04937064959554242, 0.06995184291043748, 0.06396857817791876, 0.050045503020565554, 0.04276911750190875, 0.04637325882233543, 0.09077118257838701, 0.07648698040681869, 0.04558309014546878, 0.05746043878155875, 0.07695148257875761, 0.09628161146220825, 0.049776592095567715, 0.06689050099599597, 0.0516114747214073, 0.20458878680019846, 0.18816270559867235, 0.06813847506972691, 0.0707373939797126, 0.10128631580324059, 0.10988034399188273, 0.06341878186032088, 0.1042282507941863, 0.20784800254250907, 0.1797195148861515, 0.04410001640678922, 0.06034478439221365, 0.10416647694834452, 0.05663766064316943, 0.09335233595103043, 0.04784077586921264, 0.052966442708942164, 0.06445696889357339, 0.2263021355390251, 0.05786578180661406, 0.11327652059931674, 0.08841531337248403, 0.05282692561638394, 0.05520475601124593, 0.04690144728767136, 0.08120425715312127, 0.21406944173680892, 0.0709439704318547, 0.06993737262556513, 0.0471040747649541, 0.04810515751929746, 0.04505735587761881, 0.07093064407002557, 0.10431838572913213, 0.04526447635390902, 0.059651304959135135, 0.1023802008239137, 0.046367297288085606, 0.04960060269622177, 0.04905880554382809, 0.1593000549511649, 0.06386090242859976, 0.046095998128717224, 0.09977507370550184, 0.1103990905310942, 0.046519068242089665, 0.10791099166756103, 0.1543077727924183, 0.07574803607830827, 0.07746461555276299, 0.07506449083684695, 0.06087826625092341, 0.08442577978853086, 0.05678403755901573, 0.04882866377118917, 0.13124958027836509, 0.09870937294105067, 0.06491882915745659, 0.05295658679536985, 0.09876543004031502, 0.06854786619679873, 0.044682706550050987, 0.08076553775887083, 0.0421804562261282, 0.056960285229913074, 0.05564370484044978, 0.04909730197351312, 0.09132866473495269, 0.07498395683370572, 0.06595742371921219, 0.05296091178646632, 0.20475014835072386, 0.045831208954999876, 0.049384104310318824, 0.04456114869333802, 0.06461441048393968, 0.11522826999616645, 0.057083993179538495, 0.05971263957081347, 0.04725216281928695, 0.15108297821973993, 0.04569018143279999, 0.08085681497815295, 0.244386237830174, 0.04862105001610298, 0.21133039923553942, 0.04634852335492426, 0.04969965971958643, 0.08556945104394321, 0.08272163884411338, 0.030404243007471084, 0.05541676944287539, 0.053022315857723115, 0.1807340035267082, 0.06637775156582368, 0.0442835581725503, 0.06778554716341663, 0.18555075040306224, 0.12223345282663065, 0.11004665598831659, 0.05372344921574558, 0.0769704618027143, 0.17823220752029964, 0.07579658739508577, 0.13534923759482653, 0.1979105273698656, 0.08544744950851531, 0.053128866673653116, 0.20245969637665157, 0.046625492454688985, 0.07029737939661564, 0.06072201641937282, 0.17933234558412336, 0.06263334254056259, 0.044695744456996915, 0.12628618308302136, 0.05402543198213872, 0.07243485745302722, 0.0485112575622683, 0.05055759754137681, 0.13638293390767042, 0.044310196950434984, 0.06601698125461702, 0.04563311949043129, 0.04638575706638426, 0.08991900183083787, 0.12973907789294023, 0.16301781132685306, 0.04358988133359559, 0.06389692450914133, 0.046958318292329757, 0.045229166239528225, 0.10716787694332887, 0.061490948870380084, 0.0588498811941995, 0.07288375654908484, 0.11510906899891785, 0.05033767271518677, 0.1286310318666311, 0.1605728828757333, 0.16416238569086636, 0.11733608649841198, 0.07049141790470966, 0.050266154278957, 0.06487733176541577, 0.0413278086207018, 0.055406517717074444, 0.05244933452600106, 0.07395880248068641, 0.045278747794098274, 0.0706277129560141, 0.0863399216261684, 0.1587387575648238, 0.11464090393903417, 0.06688071233155073, 0.08930731595671645, 0.20887781962092447, 0.08749883662106038, 0.0616012511772612, 0.08759522839697129, 0.17028163128196833, 0.04669732244913799, 0.08735707500665331, 0.05479019750673714, 0.046895100835153025, 0.05867119056216147, 0.08763530236458819, 0.22597323728903204, 0.19323238673451945, 0.044774482842952504, 0.09361292811512602, 0.2204329326775198, 0.21750654157640686, 0.04687901569007299, 0.10396524956357614, 0.0764136310340895, 0.04693924000127225, 0.057773507291681986, 0.08118386366060801, 0.074385397923994, 0.05146548087144392, 0.057800908809118326, 0.07164717975792084, 0.038764475298349685, 0.12228354547475404, 0.04399124730200521, 0.08920096182924427, 0.05140202507476648, 0.04777049606978084, 0.052521556048323134, 0.09174837092489768, 0.1852327925978863, 0.09599764036435962, 0.04677064009231681, 0.045868809865181936, 0.07221132157831375, 0.07472221806711608, 0.04449469963070112, 0.0406480273767821, 0.15575663042293936, 0.0743802513080041, 0.12088850794705078, 0.1301458552010509, 0.046269777348344684, 0.046332144940399826, 0.07317510728810608, 0.19806950424730596, 0.17840730684303663, 0.04789512686030312, 0.05209468942329548, 0.057169313472797106, 0.0338439340589366, 0.04035800542212481, 0.04973528478882507, 0.052242227170582384, 0.052851855703810825, 0.18595709501060453, 0.06873654156994854, 0.08515150288245171, 0.04157752253974924, 0.04089513049844938, 0.04360632447822545, 0.2090512010451735, 0.07872577353005979, 0.04893289673146729, 0.1350858635076329, 0.061296572774984445, 0.0464305940162229, 0.10063624765818584, 0.17004488098477016, 0.17380985729043558, 0.10305954115409524, 0.07274972725868409, 0.05494281096973112, 0.04452588684240796, 0.15248350474776073, 0.19143366182329616, 0.06376025089077286, 0.04622389443753415, 0.05613911595457619, 0.04906366788194017, 0.10969365318708135, 0.045621625370808765, 0.0765424605732143, 0.15795778254585363, 0.0896474024813789, 0.06381403067007933, 0.07261112835653313, 0.08163148880080281, 0.09674384854423487, 0.04596058781742317, 0.04756595619868627, 0.05834143943822408, 0.04447713439118598, 0.06282298130939042, 0.048306479217043626, 0.062459574694779654, 0.060061664529643156, 0.04291860894335668, 0.048431565021645154, 0.06069734231483434, 0.06013567555609858, 0.16609843535730892, 0.11149893942017461, 0.04652014018507893, 0.05944867283191449, 0.06739337981592755, 0.12645991239887414, 0.04124296958607262, 0.05840381155634465, 0.059374219280503585, 0.06865397732539297, 0.045973927052653143, 0.059533809801082256, 0.1259002381188404, 0.12973399538522182, 0.05910223702603247, 0.0476656757843068, 0.04474916151945157, 0.2280050617745032, 0.055321642735306056, 0.054970074739240156, 0.17295367093877761, 0.04481427014431403, 0.04169562082601385, 0.04629640130750496, 0.11676559264206887, 0.047380098446939294, 0.06135308143007053, 0.04863779706590807, 0.04443296947593841, 0.06064406996695034, 0.045727826310282, 0.06212859706009882, 0.1441155349039768, 0.07974300614018978, 0.049410034356391866, 0.22084944323769073, 0.047826211135800004, 0.05488871900051943, 0.0692495923067863, 0.09062682565529503, 0.16865728827904436, 0.049832961869220656, 0.04714939896375482, 0.07608654724287404, 0.058743104916858274, 0.05351623202351741, 0.08357892104696504, 0.08302817246425272, 0.19204631382745568, 0.07270002893126448, 0.04603898791712626, 0.0480309954588701, 0.06587336642710083, 0.06753766522942103, 0.04279706205537002, 0.17971983854567414, 0.08909174179443126, 0.051264932500052006, 0.0569758185129378, 0.19221827479154174, 0.07387241379499883, 0.04598350843357766, 0.08233652184462963, 0.08727889204356931, 0.045712945432965814, 0.06062438375906613, 0.0445516657020155, 0.06363596774649556, 0.07106558352285225, 0.10529081997988732, 0.04808204237564041, 0.04774745109266796, 0.06691409013812624, 0.1032331586929593, 0.22299112879222713, 0.06106126552100426, 0.06032796713584008, 0.06694367385612596, 0.20077149216518458, 0.042743259772256785, 0.04482488535375478, 0.038915932792802095, 0.050959520055228115, 0.0459338097575677, 0.11703666342537164, 0.21059677809166338, 0.06747457706656237, 0.19539179953279126, 0.04490734077298967, 0.053923637502411, 0.08382609268566893, 0.06184360973349144, 0.04910617817376095, 0.05625768886833585, 0.1170123742915119, 0.15055021785036787, 0.15448053653953397, 0.05675645983696996, 0.04444347630457103, 0.06238204940060421, 0.044531905534904506, 0.06672717844920653, 0.11986746333300982, 0.051029781669188604, 0.05579863720568415, 0.16432728846439462, 0.0683838505565937, 0.11028234198108836, 0.046004836769282825, 0.05706737953486721, 0.08886882157308088, 0.04615577707969145, 0.09131145446834897, 0.06427281112017441, 0.061579288839534965, 0.06349615617151369, 0.045525845095269274, 0.10860745560644469, 0.04926308649674165, 0.07035950210226187, 0.062007448788373026, 0.0474333583419077, 0.06221560264793548, 0.09666282921045204, 0.04721876619060664, 0.16595346580556763, 0.042277164571255466, 0.09926530560946267, 0.055449244041348406, 0.06819858849297858, 0.04943055427904753, 0.05310439367456756, 0.06287301345205226, 0.20980967287939253, 0.0629475951173329, 0.16820460454629588, 0.06075438094015932, 0.052301735007723435, 0.062162407347442425, 0.062157129807634715, 0.05328166636635507, 0.14956539623516302, 0.044683718353140174, 0.04850301466541937, 0.15662858819887732, 0.10766565504624562, 0.19481479735863386, 0.059127645610188836, 0.08362387264049777, 0.057902041431986725, 0.05538732021836319, 0.04407881774223864, 0.0511127468414699, 0.13020472671646655, 0.04884816380521046, 0.22106191841915845, 0.07348585310983699, 0.23836486109339772, 0.08044256692452627, 0.10432542813282092, 0.1612972837224786, 0.05447109503919535, 0.04537895595255023, 0.04308479577911059, 0.04773513172667698, 0.04493405922796292, 0.038165920603854646, 0.0447358731900418, 0.06144727353427523, 0.07094626166979706, 0.11504862667469587, 0.08581361509857773, 0.05975583516411696, 0.13257340092212988, 0.16251224445277868, 0.2130054650696624, 0.05337893150859913, 0.05763969414856357, 0.11698181880217154, 0.048063303766440614, 0.08228316679229254, 0.06728819327064174, 0.04619917934308919, 0.06602335841660242, 0.04492378437883769, 0.06530664432495367, 0.09999904541920149, 0.07166847637509281, 0.07210644340494474, 0.13497566954863607, 0.049124986177077466, 0.14348634185992587, 0.07633438385511927, 0.1715182518683221, 0.05191136566399065, 0.05276379459915808, 0.06052385120554418, 0.04371780522285332, 0.0897038302032766, 0.06096822832528059, 0.08169874678363967, 0.05382862762053672, 0.054209918081044514, 0.06295528789112163, 0.04845015395593948, 0.07041489962776135, 0.049587557225607856, 0.09434464959504088, 0.03998291954513243, 0.07178466629168828, 0.05589206898687287, 0.08916433174356614, 0.079534018603017, 0.0975616061226037, 0.04399094291273231, 0.19514333649821172, 0.06017067637950929, 0.22265438087345857, 0.14694961430916564, 0.06962760320368858, 0.18172204863886085, 0.05473412329708777, 0.05146974575030248, 0.07809371544065127, 0.15337889131892662, 0.07499989967586844, 0.04495247354219408, 0.11324548038479536, 0.06888010248106051, 0.05786980995739738, 0.044858299132794495, 0.07153245623596781, 0.06001792794148295, 0.04524774491268793, 0.10091935296774437, 0.0528955185151896, 0.06997664417820376, 0.053432973568128865, 0.06312222920357802, 0.04622991401786641, 0.06409994558737935, 0.07341391736899083, 0.06920654387562578, 0.14401017175164707, 0.045515325818945525, 0.04572057309509451, 0.044372103085796824, 0.06625385300412437, 0.15030915136306572, 0.07616150259367417, 0.10569422071814383, 0.09345525968445967, 0.14147809639131775, 0.09272370142802146, 0.07455233056658211, 0.08166222661441314, 0.06375975210284687, 0.06461800115870675, 0.05623056777402817, 0.04451013706601703, 0.056024856436912795, 0.04893402775839806, 0.059716464521244544, 0.056745270663275185, 0.06290892192536102, 0.0658923439574278, 0.06105684111879446, 0.061307987384242195, 0.09577530749010844, 0.05375470218720753, 0.10669674850040523, 0.16123104749442707, 0.06281243056263963, 0.03901707218128199, 0.21696125255617146, 0.0513474034593124, 0.044840738239757365, 0.0604816488122429, 0.05899130662604278, 0.1744777903319143, 0.1065475958316721, 0.04412546044656612, 0.06215558121167412, 0.055502819792889804, 0.04635226022133559, 0.05208324243219517, 0.09599426608044985, 0.08616609618255644, 0.11907424159927725, 0.05636101764701633, 0.06881137653196716, 0.16031190937892262, 0.041298796308676264, 0.038881774427581735, 0.047115779016209454, 0.16121966117448575, 0.05188808244367567, 0.06753044632920185, 0.09626015235699414, 0.044883453889299756, 0.13619350878106623, 0.060401349708541, 0.07253271171801244, 0.04431171609068635, 0.17966614073267187, 0.0940370577509979, 0.031081973289762747, 0.043253487454876324, 0.043051274075744744, 0.045515116546250636, 0.08666348941507711, 0.11714090513245262, 0.042989089231232964, 0.058216752169634935, 0.04728973696801258, 0.2051051545960223, 0.2032132619922687, 0.1722790296972046, 0.18051398459897558, 0.06873783701357107, 0.04539932288127711, 0.05884802215566691, 0.08444786200450098, 0.19421765954881287, 0.09347849194792289, 0.05945514761029476, 0.13286445957527548, 0.05599154253104817, 0.14208087835612718, 0.19777850328394228, 0.052685505961582946, 0.2139271805863123, 0.2032445917006225, 0.09312908543998803, 0.07786618368532393, 0.1133167889936633, 0.06912759078180783, 0.16421802417276862, 0.07298546987592805, 0.05404336421827792, 0.04372507180686081, 0.05386239625144667, 0.17635136194327478, 0.04441658753371711, 0.04370245879762195, 0.045802521287016, 0.1555505453674674, 0.05730220292526761, 0.10935891542146636, 0.05399456904628009, 0.11502568045032022, 0.06789244273538511, 0.0497005875334821, 0.07008725590287626, 0.047924376766923356, 0.08978021241405915, 0.04361201539711134, 0.0717827190234607, 0.06223186384359529, 0.07108726449438448, 0.05240613900272163, 0.0546939262428307, 0.06382784058702085, 0.04867789808092143, 0.18766560887442424, 0.054815044987773356, 0.05603073090155168, 0.09107726813372681, 0.04333395855923785, 0.05702647135658194, 0.10505997100205841, 0.0440797832025588, 0.05681746231061572, 0.14493580881683282, 0.22250685217509206, 0.11685621898539839, 0.09308694553264812, 0.08093942936325706, 0.05298057969075734, 0.0740182971319055, 0.07218804382310992, 0.0543524991506757, 0.10671983431243963, 0.050494045946177665, 0.18452433547886804, 0.06487615766340776, 0.06987994939834975, 0.06477707048809715, 0.04611689084018489, 0.07238210172387256, 0.07305234391992599, 0.04064528963596633, 0.08805054870160936, 0.04531022322470171, 0.17624093257700474, 0.05622830717572132, 0.20444924807352938, 0.06317208959213064, 0.14990496335523956, 0.14549518500478936, 0.04676038494696949, 0.08904240550233546, 0.048459613924981805, 0.0618986169512979, 0.09576674701826884, 0.06152989681750165, 0.04974523306693057, 0.05756541176985716, 0.048847244429720264, 0.07520529179732731, 0.05703773823578165, 0.046822446410873915, 0.05015115826215758, 0.10607765773447134, 0.05606030081788764, 0.07631250165427884, 0.04378676347325307, 0.10937472451111502, 0.0458943883118248, 0.1480804908524943, 0.047694826982125, 0.06938889296050971, 0.049630914323912464, 0.04947651102440672, 0.05731039920058059, 0.09452314198008624, 0.07253118906577377, 0.056883244733819074, 0.18079090908833903, 0.04526197068489846, 0.061432641436040235, 0.1143275421857743, 0.04718778765045535, 0.05362727230612227, 0.07521534435751226, 0.05739505001729403, 0.08625431110371533, 0.04372845332884834, 0.048597461979133685, 0.053614432345252816, 0.05958051852106331, 0.0592554705449017, 0.10294876710604811, 0.05095934367179206, 0.15777267377193113, 0.1603827570839626, 0.23081531901302046, 0.04049294138450874, 0.05044364134973698, 0.17818122724765614, 0.04578515778482133, 0.04536527512778315, 0.06278606000246582, 0.16692881460596526, 0.05964182898434681, 0.11387150421526455, 0.1100040507328856, 0.09865432173840852, 0.06927148043093047, 0.05716743503998056, 0.04665535329041092, 0.04457645777928821, 0.2661197237086867, 0.13575282858053722, 0.04864111024445257, 0.04774935788429986, 0.053558867993767044, 0.20802234620163476, 0.049523051812687374, 0.045567949912888636, 0.07212321141092161, 0.0529275990540993, 0.06662249606732232, 0.2276212131781069, 0.046547390749058025, 0.04765847500393111, 0.17825664236511757, 0.0880242948107869, 0.048904372045397534, 0.06584906799245797, 0.04392908507615139, 0.08318930477298918, 0.11106665456204745, 0.1275110676138675, 0.04521241400303957, 0.1962147837035919, 0.09437754879240683, 0.0503596807236877, 0.06626440704624159, 0.04710696427963092, 0.09905059853864992, 0.06190009853007909, 0.17548227789735427, 0.033509800195436645, 0.04657465906951091, 0.06412395639356566, 0.1488296391516865, 0.14720792304925295, 0.0585128420318906, 0.05474873290815779, 0.04549709683661686, 0.06921846156438531, 0.15859322947894366, 0.12592610505372942, 0.059480300380244544, 0.06451776289867986, 0.04606953633649679, 0.0527807937901662, 0.050567632077754714, 0.06733315327374552, 0.053055587040482334, 0.07378358797813009, 0.06916110184073943, 0.07523922502934731, 0.20021108750274152, 0.06142651774605769, 0.05738067478864617, 0.06394554413794418, 0.18289783301423584, 0.045253340827256044, 0.05892458457634615, 0.20563245821661047, 0.04952614972357208, 0.1075129096353481, 0.139587118239261, 0.04742492182010865, 0.03511917296912104, 0.048184186745023505, 0.03570255685871511, 0.06918664983997405, 0.05258456554371797, 0.04626965054870305, 0.07543730533379206, 0.045408596166736565, 0.08229627001280566, 0.06644036123119546, 0.06948844968906835, 0.044840658871467085, 0.04423884732066472, 0.06935405008758193, 0.16157937987731663, 0.06926053447599229, 0.0729885180668749, 0.07006518992174378, 0.030300313950597194, 0.04819653818630325, 0.04648291446231524, 0.06189813117709883, 0.06172961862946163, 0.05521236689899954, 0.05850277121378917, 0.12610827634985117, 0.07390758037416995, 0.04514524953633638, 0.062247941362697304, 0.05037749335439211, 0.0497775836777585, 0.034719214922156544, 0.16321426446699405, 0.044995107672365184, 0.0660408469481628, 0.047665026453462905, 0.11587429264154137, 0.18408326956765564, 0.04423090822046548, 0.06311249773006516, 0.14518938277740384, 0.12526410264308002, 0.0627922712781582, 0.046292845162446805, 0.06517112633936066, 0.050170740257379026, 0.09845770127282044, 0.07744534282401286, 0.10549051648938268, 0.12368193441095165, 0.10332481976223484, 0.19049420677715623, 0.045050873393582706, 0.20654816783664004, 0.04492575506531479, 0.04739242713413922, 0.1630868776903761, 0.04339210192656035, 0.1572169911754736, 0.1650486802666598, 0.048210727214265725, 0.04503034497153332, 0.09017984812760499, 0.05010027279735082, 0.06424533152506336, 0.05691807454717237, 0.08245419073588549, 0.1046892870518498, 0.06758557632113228, 0.08019191874574662, 0.07109918154321021, 0.08709971456133173, 0.04499490797691157, 0.06399047256121476, 0.05128972883780316, 0.05246625015159486, 0.10075715662487889, 0.04667774558576265, 0.13516739652675464, 0.1953589999736638, 0.0766839715401246, 0.04666373875916224, 0.07972165040024749, 0.0632826135299899, 0.06188476068535177, 0.04301889661002333, 0.049414982666275455, 0.201452559732807, 0.06326994683092513, 0.04019111672715291, 0.060048254662781325, 0.06011224286755275, 0.10465214644653027, 0.04835234615562591, 0.044325495014891594, 0.04515707550794317, 0.051067794983145516, 0.08723469332850396, 0.04700947813103173, 0.09582300854105952, 0.17311388890618926, 0.05940790450774164, 0.10891427037278223, 0.041058507022562564, 0.045828735176332354, 0.06727073428662182, 0.0679927667935469, 0.061848710697262374, 0.06236721418174497, 0.04284085175724825, 0.08142967300813742, 0.05656023216620775, 0.07307027035091097, 0.06599565369137785, 0.05455180741607646, 0.055386358718042664, 0.04453617210671649, 0.061856660915098116, 0.05740278095481901, 0.1354215890790871, 0.04083714990647711, 0.04379163943562587, 0.04914792883478662, 0.05553827523910811, 0.0879243751154542, 0.070147545074487, 0.09571921803144144, 0.11994910301981046, 0.06258411119165326, 0.07431468934159646, 0.10231340995746635, 0.06538090597917243, 0.04818838075456489, 0.11161175964351797, 0.04825508217922149, 0.044242150525225316, 0.06318877464317728, 0.20827871979154655, 0.334878393847467, 0.02960265164937379, 0.13205082234732773], \"xaxis\": \"x\", \"yaxis\": \"y\"}],\n",
       "                        {\"barmode\": \"relative\", \"legend\": {\"tracegroupgap\": 0}, \"margin\": {\"t\": 60}, \"template\": {\"data\": {\"bar\": [{\"error_x\": {\"color\": \"#2a3f5f\"}, \"error_y\": {\"color\": \"#2a3f5f\"}, \"marker\": {\"line\": {\"color\": \"#E5ECF6\", \"width\": 0.5}}, \"type\": \"bar\"}], \"barpolar\": [{\"marker\": {\"line\": {\"color\": \"#E5ECF6\", \"width\": 0.5}}, \"type\": \"barpolar\"}], \"carpet\": [{\"aaxis\": {\"endlinecolor\": \"#2a3f5f\", \"gridcolor\": \"white\", \"linecolor\": \"white\", \"minorgridcolor\": \"white\", \"startlinecolor\": \"#2a3f5f\"}, \"baxis\": {\"endlinecolor\": \"#2a3f5f\", \"gridcolor\": \"white\", \"linecolor\": \"white\", \"minorgridcolor\": \"white\", \"startlinecolor\": \"#2a3f5f\"}, \"type\": \"carpet\"}], \"choropleth\": [{\"colorbar\": {\"outlinewidth\": 0, \"ticks\": \"\"}, \"type\": \"choropleth\"}], \"contour\": [{\"colorbar\": {\"outlinewidth\": 0, \"ticks\": \"\"}, \"colorscale\": [[0.0, \"#0d0887\"], [0.1111111111111111, \"#46039f\"], [0.2222222222222222, \"#7201a8\"], [0.3333333333333333, \"#9c179e\"], [0.4444444444444444, \"#bd3786\"], [0.5555555555555556, \"#d8576b\"], [0.6666666666666666, \"#ed7953\"], [0.7777777777777778, \"#fb9f3a\"], [0.8888888888888888, \"#fdca26\"], [1.0, \"#f0f921\"]], \"type\": \"contour\"}], \"contourcarpet\": [{\"colorbar\": {\"outlinewidth\": 0, \"ticks\": \"\"}, \"type\": \"contourcarpet\"}], \"heatmap\": [{\"colorbar\": {\"outlinewidth\": 0, \"ticks\": \"\"}, \"colorscale\": [[0.0, \"#0d0887\"], [0.1111111111111111, \"#46039f\"], [0.2222222222222222, \"#7201a8\"], [0.3333333333333333, \"#9c179e\"], [0.4444444444444444, \"#bd3786\"], [0.5555555555555556, \"#d8576b\"], [0.6666666666666666, \"#ed7953\"], [0.7777777777777778, \"#fb9f3a\"], [0.8888888888888888, \"#fdca26\"], [1.0, \"#f0f921\"]], \"type\": \"heatmap\"}], \"heatmapgl\": [{\"colorbar\": {\"outlinewidth\": 0, \"ticks\": \"\"}, \"colorscale\": [[0.0, \"#0d0887\"], [0.1111111111111111, \"#46039f\"], [0.2222222222222222, \"#7201a8\"], [0.3333333333333333, \"#9c179e\"], [0.4444444444444444, \"#bd3786\"], [0.5555555555555556, \"#d8576b\"], [0.6666666666666666, \"#ed7953\"], [0.7777777777777778, \"#fb9f3a\"], [0.8888888888888888, \"#fdca26\"], [1.0, \"#f0f921\"]], \"type\": \"heatmapgl\"}], \"histogram\": [{\"marker\": {\"colorbar\": {\"outlinewidth\": 0, \"ticks\": \"\"}}, \"type\": \"histogram\"}], \"histogram2d\": [{\"colorbar\": {\"outlinewidth\": 0, \"ticks\": \"\"}, \"colorscale\": [[0.0, \"#0d0887\"], [0.1111111111111111, \"#46039f\"], [0.2222222222222222, \"#7201a8\"], [0.3333333333333333, \"#9c179e\"], [0.4444444444444444, \"#bd3786\"], [0.5555555555555556, \"#d8576b\"], [0.6666666666666666, \"#ed7953\"], [0.7777777777777778, \"#fb9f3a\"], [0.8888888888888888, \"#fdca26\"], [1.0, \"#f0f921\"]], \"type\": \"histogram2d\"}], \"histogram2dcontour\": [{\"colorbar\": {\"outlinewidth\": 0, \"ticks\": \"\"}, \"colorscale\": [[0.0, \"#0d0887\"], [0.1111111111111111, \"#46039f\"], [0.2222222222222222, \"#7201a8\"], [0.3333333333333333, \"#9c179e\"], [0.4444444444444444, \"#bd3786\"], [0.5555555555555556, \"#d8576b\"], [0.6666666666666666, \"#ed7953\"], [0.7777777777777778, \"#fb9f3a\"], [0.8888888888888888, \"#fdca26\"], [1.0, \"#f0f921\"]], \"type\": \"histogram2dcontour\"}], \"mesh3d\": [{\"colorbar\": {\"outlinewidth\": 0, \"ticks\": \"\"}, \"type\": \"mesh3d\"}], \"parcoords\": [{\"line\": {\"colorbar\": {\"outlinewidth\": 0, \"ticks\": \"\"}}, \"type\": \"parcoords\"}], \"pie\": [{\"automargin\": true, \"type\": \"pie\"}], \"scatter\": [{\"marker\": {\"colorbar\": {\"outlinewidth\": 0, \"ticks\": \"\"}}, \"type\": \"scatter\"}], \"scatter3d\": [{\"line\": {\"colorbar\": {\"outlinewidth\": 0, \"ticks\": \"\"}}, \"marker\": {\"colorbar\": {\"outlinewidth\": 0, \"ticks\": \"\"}}, \"type\": \"scatter3d\"}], \"scattercarpet\": [{\"marker\": {\"colorbar\": {\"outlinewidth\": 0, \"ticks\": \"\"}}, \"type\": \"scattercarpet\"}], \"scattergeo\": [{\"marker\": {\"colorbar\": {\"outlinewidth\": 0, \"ticks\": \"\"}}, \"type\": \"scattergeo\"}], \"scattergl\": [{\"marker\": {\"colorbar\": {\"outlinewidth\": 0, \"ticks\": \"\"}}, \"type\": \"scattergl\"}], \"scattermapbox\": [{\"marker\": {\"colorbar\": {\"outlinewidth\": 0, \"ticks\": \"\"}}, \"type\": \"scattermapbox\"}], \"scatterpolar\": [{\"marker\": {\"colorbar\": {\"outlinewidth\": 0, \"ticks\": \"\"}}, \"type\": \"scatterpolar\"}], \"scatterpolargl\": [{\"marker\": {\"colorbar\": {\"outlinewidth\": 0, \"ticks\": \"\"}}, \"type\": \"scatterpolargl\"}], \"scatterternary\": [{\"marker\": {\"colorbar\": {\"outlinewidth\": 0, \"ticks\": \"\"}}, \"type\": \"scatterternary\"}], \"surface\": [{\"colorbar\": {\"outlinewidth\": 0, \"ticks\": \"\"}, \"colorscale\": [[0.0, \"#0d0887\"], [0.1111111111111111, \"#46039f\"], [0.2222222222222222, \"#7201a8\"], [0.3333333333333333, \"#9c179e\"], [0.4444444444444444, \"#bd3786\"], [0.5555555555555556, \"#d8576b\"], [0.6666666666666666, \"#ed7953\"], [0.7777777777777778, \"#fb9f3a\"], [0.8888888888888888, \"#fdca26\"], [1.0, \"#f0f921\"]], \"type\": \"surface\"}], \"table\": [{\"cells\": {\"fill\": {\"color\": \"#EBF0F8\"}, \"line\": {\"color\": \"white\"}}, \"header\": {\"fill\": {\"color\": \"#C8D4E3\"}, \"line\": {\"color\": \"white\"}}, \"type\": \"table\"}]}, \"layout\": {\"annotationdefaults\": {\"arrowcolor\": \"#2a3f5f\", \"arrowhead\": 0, \"arrowwidth\": 1}, \"coloraxis\": {\"colorbar\": {\"outlinewidth\": 0, \"ticks\": \"\"}}, \"colorscale\": {\"diverging\": [[0, \"#8e0152\"], [0.1, \"#c51b7d\"], [0.2, \"#de77ae\"], [0.3, \"#f1b6da\"], [0.4, \"#fde0ef\"], [0.5, \"#f7f7f7\"], [0.6, \"#e6f5d0\"], [0.7, \"#b8e186\"], [0.8, \"#7fbc41\"], [0.9, \"#4d9221\"], [1, \"#276419\"]], \"sequential\": [[0.0, \"#0d0887\"], [0.1111111111111111, \"#46039f\"], [0.2222222222222222, \"#7201a8\"], [0.3333333333333333, \"#9c179e\"], [0.4444444444444444, \"#bd3786\"], [0.5555555555555556, \"#d8576b\"], [0.6666666666666666, \"#ed7953\"], [0.7777777777777778, \"#fb9f3a\"], [0.8888888888888888, \"#fdca26\"], [1.0, \"#f0f921\"]], \"sequentialminus\": [[0.0, \"#0d0887\"], [0.1111111111111111, \"#46039f\"], [0.2222222222222222, \"#7201a8\"], [0.3333333333333333, \"#9c179e\"], [0.4444444444444444, \"#bd3786\"], [0.5555555555555556, \"#d8576b\"], [0.6666666666666666, \"#ed7953\"], [0.7777777777777778, \"#fb9f3a\"], [0.8888888888888888, \"#fdca26\"], [1.0, \"#f0f921\"]]}, \"colorway\": [\"#636efa\", \"#EF553B\", \"#00cc96\", \"#ab63fa\", \"#FFA15A\", \"#19d3f3\", \"#FF6692\", \"#B6E880\", \"#FF97FF\", \"#FECB52\"], \"font\": {\"color\": \"#2a3f5f\"}, \"geo\": {\"bgcolor\": \"white\", \"lakecolor\": \"white\", \"landcolor\": \"#E5ECF6\", \"showlakes\": true, \"showland\": true, \"subunitcolor\": \"white\"}, \"hoverlabel\": {\"align\": \"left\"}, \"hovermode\": \"closest\", \"mapbox\": {\"style\": \"light\"}, \"paper_bgcolor\": \"white\", \"plot_bgcolor\": \"#E5ECF6\", \"polar\": {\"angularaxis\": {\"gridcolor\": \"white\", \"linecolor\": \"white\", \"ticks\": \"\"}, \"bgcolor\": \"#E5ECF6\", \"radialaxis\": {\"gridcolor\": \"white\", \"linecolor\": \"white\", \"ticks\": \"\"}}, \"scene\": {\"xaxis\": {\"backgroundcolor\": \"#E5ECF6\", \"gridcolor\": \"white\", \"gridwidth\": 2, \"linecolor\": \"white\", \"showbackground\": true, \"ticks\": \"\", \"zerolinecolor\": \"white\"}, \"yaxis\": {\"backgroundcolor\": \"#E5ECF6\", \"gridcolor\": \"white\", \"gridwidth\": 2, \"linecolor\": \"white\", \"showbackground\": true, \"ticks\": \"\", \"zerolinecolor\": \"white\"}, \"zaxis\": {\"backgroundcolor\": \"#E5ECF6\", \"gridcolor\": \"white\", \"gridwidth\": 2, \"linecolor\": \"white\", \"showbackground\": true, \"ticks\": \"\", \"zerolinecolor\": \"white\"}}, \"shapedefaults\": {\"line\": {\"color\": \"#2a3f5f\"}}, \"ternary\": {\"aaxis\": {\"gridcolor\": \"white\", \"linecolor\": \"white\", \"ticks\": \"\"}, \"baxis\": {\"gridcolor\": \"white\", \"linecolor\": \"white\", \"ticks\": \"\"}, \"bgcolor\": \"#E5ECF6\", \"caxis\": {\"gridcolor\": \"white\", \"linecolor\": \"white\", \"ticks\": \"\"}}, \"title\": {\"x\": 0.05}, \"xaxis\": {\"automargin\": true, \"gridcolor\": \"white\", \"linecolor\": \"white\", \"ticks\": \"\", \"title\": {\"standoff\": 15}, \"zerolinecolor\": \"white\", \"zerolinewidth\": 2}, \"yaxis\": {\"automargin\": true, \"gridcolor\": \"white\", \"linecolor\": \"white\", \"ticks\": \"\", \"title\": {\"standoff\": 15}, \"zerolinecolor\": \"white\", \"zerolinewidth\": 2}}}, \"xaxis\": {\"anchor\": \"y\", \"domain\": [0.0, 1.0], \"title\": {\"text\": \"0\"}}, \"yaxis\": {\"anchor\": \"x\", \"domain\": [0.0, 1.0], \"title\": {\"text\": \"count\"}}},\n",
       "                        {\"responsive\": true}\n",
       "                    ).then(function(){\n",
       "                            \n",
       "var gd = document.getElementById('774abdef-da77-4242-8717-fec1abc2f09f');\n",
       "var x = new MutationObserver(function (mutations, observer) {{\n",
       "        var display = window.getComputedStyle(gd).display;\n",
       "        if (!display || display === 'none') {{\n",
       "            console.log([gd, 'removed!']);\n",
       "            Plotly.purge(gd);\n",
       "            observer.disconnect();\n",
       "        }}\n",
       "}});\n",
       "\n",
       "// Listen for the removal of the full notebook cells\n",
       "var notebookContainer = gd.closest('#notebook-container');\n",
       "if (notebookContainer) {{\n",
       "    x.observe(notebookContainer, {childList: true});\n",
       "}}\n",
       "\n",
       "// Listen for the clearing of the current output cell\n",
       "var outputEl = gd.closest('.output');\n",
       "if (outputEl) {{\n",
       "    x.observe(outputEl, {childList: true});\n",
       "}}\n",
       "\n",
       "                        })\n",
       "                };\n",
       "                });\n",
       "            </script>\n",
       "        </div>"
      ]
     },
     "metadata": {},
     "output_type": "display_data"
    }
   ],
   "source": [
    "px.histogram(pd.DataFrame(y_pred_val), x=0)"
   ]
  },
  {
   "cell_type": "code",
   "execution_count": 23,
   "metadata": {
    "ExecuteTime": {
     "end_time": "2020-06-20T10:19:49.501992Z",
     "start_time": "2020-06-20T10:19:49.250764Z"
    }
   },
   "outputs": [
    {
     "data": {
      "application/vnd.plotly.v1+json": {
       "config": {
        "plotlyServerURL": "https://plot.ly"
       },
       "data": [
        {
         "alignmentgroup": "True",
         "bingroup": "x",
         "hovertemplate": "0=%{x}<br>count=%{y}<extra></extra>",
         "legendgroup": "",
         "marker": {
          "color": "#636efa"
         },
         "name": "",
         "offsetgroup": "",
         "orientation": "v",
         "showlegend": false,
         "type": "histogram",
         "x": [
          0.04657651440891957,
          0.04523806603314588,
          0.04341586971138474,
          0.0430216435689911,
          0.04280260866193064,
          0.0337638182783091,
          0.036310976441124826,
          0.056903762909061024,
          0.05332476153492502,
          0.04085748002317193,
          0.04586772977758794,
          0.04951894403027392,
          0.04649834280327668,
          0.04421334709794969,
          0.038868253757541875,
          0.02356997506286724,
          0.044187293609794766,
          0.042833790169679274,
          0.042381113873043434,
          0.044868984321464286,
          0.048034005053194405,
          0.03625965786307703,
          0.04402067056884911,
          0.04568417027428133,
          0.0422624189626529,
          0.04022985422521326,
          0.03522887272369395,
          0.03256661770353522,
          0.042132261142185205,
          0.04124462761577177,
          0.04712332362664272,
          0.04396755884194409,
          0.04241377140733632,
          0.04419270911293624,
          0.0354799940730944,
          0.04180849975669484,
          0.04666752894596334,
          0.032638730652499386,
          0.04445134055716405,
          0.04987646844937662,
          0.04411480378446657,
          0.03218642892956604,
          0.04488897228071833,
          0.0484354400945776,
          0.05374311083653009,
          0.045688232580502294,
          0.0388924398726399,
          0.05895331975397398,
          0.03330171915579535,
          0.03772590104931023,
          0.04352671576798178,
          0.06604126950503536,
          0.06164249414513227,
          0.058901934612509144,
          0.05016794328716632,
          0.06270320118396358,
          0.04617016243291818,
          0.036071168037934455,
          0.05116119188708459,
          0.03866901667000561,
          0.04800111630075181,
          0.04875966305417437,
          0.035660803476389856,
          0.04269821350068215,
          0.04835801775116304,
          0.04648356490346582,
          0.05254092368199039,
          0.04095574297397363,
          0.04532599515502878,
          0.050598829136908136,
          0.047861496046881155,
          0.04087335889336199,
          0.042933516178474185,
          0.0463147178592987,
          0.06514462562537343,
          0.050141541106606416,
          0.04296710162640955,
          0.049390890241933445,
          0.05457343571283729,
          0.04532412001268413,
          0.03842176106613277,
          0.047582242965713985,
          0.044818266019275674,
          0.060685314343268584,
          0.04667708506802524,
          0.033146266392880167,
          0.04642890234503226,
          0.08742176028514836,
          0.059909001600284895,
          0.059857736097061916,
          0.042491635013525604,
          0.04536529995050781,
          0.04607065993415366,
          0.05027714654707051,
          0.04762373698286842,
          0.03820727657547055,
          0.04726293231475453,
          0.049467901306364935,
          0.04582387860772277,
          0.05854635041163278,
          0.04748707469673854,
          0.04634870480448996,
          0.035742173818480126,
          0.045312380593678495,
          0.04524902590375593,
          0.03836584490697912,
          0.06839465718113022,
          0.03318720388816097,
          0.055313513266247685,
          0.04342407993781529,
          0.043739838425643475,
          0.05331041099802401,
          0.045945219033272776,
          0.04093548650815798,
          0.044806078345785434,
          0.04877860751655944,
          0.03983644304339925,
          0.05831848056595092,
          0.03745658788960278,
          0.04022832861042199,
          0.039826848103676836,
          0.056444972892564255,
          0.05900430594330727,
          0.04571118287285414,
          0.06454163470241539,
          0.03969570340383297,
          0.03064588291885883,
          0.04336781986220755,
          0.06333049417527302,
          0.03409538613712151,
          0.04838228051915292,
          0.05287168810848119,
          0.06892313765177657,
          0.0460928854557863,
          0.04958366622740245,
          0.044767536424417276,
          0.05362692187366302,
          0.05774264221883155,
          0.03765901081017544,
          0.045258716833823424,
          0.046015015347525313,
          0.03162319531022348,
          0.05374607884970604,
          0.053220939758629515,
          0.055408493597941,
          0.04373506030161967,
          0.03760785188407756,
          0.026908848786389085,
          0.06193989344244129,
          0.06067818403900673,
          0.04493932437236007,
          0.05722415009714796,
          0.04609798887633001,
          0.03822487357157444,
          0.04474461890008665,
          0.03781959635150425,
          0.03103826979821242,
          0.04949671099179529,
          0.03558263186225728,
          0.056662882373802806,
          0.058264298713217984,
          0.06262062320320125,
          0.04230955654333232,
          0.03723282726801144,
          0.04180320957153853,
          0.08200418216459507,
          0.06232802863483079,
          0.05527608254492393,
          0.04817169590331061,
          0.09165808946841415,
          0.05152780709086195,
          0.050816804166022626,
          0.050920061727381664,
          0.03687118295753271,
          0.05345185463104371,
          0.0777648219828754,
          0.04469605990881548,
          0.043837252296047624,
          0.04315361601987834,
          0.047640136706932096,
          0.0543645592922684,
          0.043394126262574766,
          0.08523506984460152,
          0.047760759455074506,
          0.045606031632968065,
          0.051026236025164116,
          0.048109722756869706,
          0.07176032986460833,
          0.06232787149734364,
          0.07008512345410735,
          0.03855698869267747,
          0.05023775488178237,
          0.04295431440895675,
          0.07042122036280762,
          0.04862351248022984,
          0.03972926020192914,
          0.07032455110007195,
          0.0698795549143282,
          0.05030297805230673,
          0.15124137039375385,
          0.041981443438353,
          0.04311124443993471,
          0.048580676666507894,
          0.03289109442282473,
          0.06986850411868953,
          0.04938873745837243,
          0.039871265283041364,
          0.10168528841453398,
          0.06236385335419492,
          0.05510502609423064,
          0.04595187842088514,
          0.05680238584943361,
          0.0427200451867489,
          0.048069161974172325,
          0.08121026724838946,
          0.13860975126609085,
          0.06252039381728661,
          0.043772510678217025,
          0.09552414775158725,
          0.05332473120102435,
          0.03113257542163965,
          0.052495260307319186,
          0.07321766307448101,
          0.06539846286917375,
          0.042252706894301814,
          0.061959407698653726,
          0.028817905765409456,
          0.05767480049964163,
          0.044083478198790396,
          0.04722445291342226,
          0.07207887866511625,
          0.04484354699853829,
          0.07197899285483501,
          0.06092088439060721,
          0.057801666256837025,
          0.043866024522952095,
          0.1427540921840834,
          0.047153520993005425,
          0.06804231911521812,
          0.03484052758416412,
          0.052063253401141776,
          0.12546103992131744,
          0.06365657564488747,
          0.10881022436316681,
          0.03757944306307656,
          0.056676994120695004,
          0.055073292224436854,
          0.06013290667301447,
          0.05843538137420168,
          0.08406388985935057,
          0.07351082376530942,
          0.04112193051952682,
          0.03950015171653105,
          0.06696993901918266,
          0.050276256388491355,
          0.031460466636188435,
          0.04134320245084465,
          0.05620649729649925,
          0.05966480366737262,
          0.08387063836069895,
          0.04292267825005968,
          0.05265582871836863,
          0.08275755801307896,
          0.04959971346999158,
          0.047818559333543675,
          0.048441529798214665,
          0.0620110637403212,
          0.03480286350255547,
          0.0462291203099254,
          0.035277147859934944,
          0.048810554177537574,
          0.08098287968019312,
          0.05122414005702319,
          0.13767160399485623,
          0.09173742582214818,
          0.0584570053467816,
          0.03752848038812848,
          0.0639648188329413,
          0.05710911837286263,
          0.05734199977074889,
          0.1188742041006786,
          0.06241436419446987,
          0.12521957406092202,
          0.04818686654839502,
          0.04311182207030379,
          0.09515691158764836,
          0.06679612531030185,
          0.058275778733953586,
          0.058289367310288026,
          0.02830794951349483,
          0.039226944238231906,
          0.05541466056123508,
          0.04837656630457767,
          0.04457689994844274,
          0.054978191238496954,
          0.08012125664497835,
          0.09421940787970454,
          0.049809042695208146,
          0.0542867578196541,
          0.039547887408157935,
          0.062189714210160764,
          0.06582872754457592,
          0.045716521241359304,
          0.04518601028852362,
          0.07363173060225513,
          0.055455678469285175,
          0.14323206866419264,
          0.053168319039739655,
          0.08034305627464769,
          0.0489500793208355,
          0.06262262893128795,
          0.10989511691980831,
          0.05406315011613088,
          0.11025647790894633,
          0.04316762392878137,
          0.044931894493360734,
          0.04959777813964541,
          0.04233737230001958,
          0.06666595172509088,
          0.09199494341127844,
          0.11355062174803553,
          0.08186977925527793,
          0.04151957511818626,
          0.042994410039010014,
          0.042307288108820916,
          0.19057796968489457,
          0.06724344916626582,
          0.039370693791881885,
          0.05658453708236966,
          0.033479025365002024,
          0.06666489323849435,
          0.06798056690786476,
          0.107120783553293,
          0.0688887238861007,
          0.03518274125803527,
          0.05654245790776047,
          0.05286402162028307,
          0.05841075821967078,
          0.04263245514550619,
          0.08235862449980821,
          0.06108320974853688,
          0.051471121515744525,
          0.04972754485702891,
          0.04555944135020652,
          0.057429658581871504,
          0.06554599995953239,
          0.1315562929152264,
          0.03643917061337896,
          0.07042810783958703,
          0.1350534081054268,
          0.05389102394632275,
          0.05839259802818761,
          0.0675280827835429,
          0.06752243394322636,
          0.0361093509142228,
          0.05729446932045591,
          0.041646352487345134,
          0.06256740789479515,
          0.05475927694423689,
          0.07764636724652386,
          0.06415136780805764,
          0.08000164145208286,
          0.05674413252663464,
          0.05648583660228535,
          0.05954164768793199,
          0.05392689137793906,
          0.12130168462218915,
          0.06745830890947116,
          0.06856570945822994,
          0.06354016117022782,
          0.06402615623466287,
          0.05519175579742427,
          0.05597487067888243,
          0.06108470641614322,
          0.08750264208926681,
          0.08446046205006054,
          0.07032279826275552,
          0.07087622269599383,
          0.08059168986153512,
          0.11385283303858956,
          0.1157153277291473,
          0.08428416786757328,
          0.02600009317531151,
          0.07758308816822142,
          0.05964975737444535,
          0.05859938551529483,
          0.03384258684267501,
          0.09408497875398263,
          0.2026895845971897,
          0.048852876481275585,
          0.0749849589635522,
          0.11781965637278649,
          0.07754114474818201,
          0.10770674419543039,
          0.053809863136198205,
          0.04653507813106811,
          0.06481708757660412,
          0.0590311756652111,
          0.12190276969384244,
          0.05483107289145245,
          0.14274093045687392,
          0.08063774778908205,
          0.10738938852313329,
          0.06149526193511233,
          0.05541200496504401,
          0.07815999197594685,
          0.11738939976368609,
          0.06712463963937565,
          0.05206019087301153,
          0.09387121803546797,
          0.09648387292184102,
          0.10137480099180322,
          0.040464631289009866,
          0.14190595297097183,
          0.05411744529496328,
          0.06128342003116495,
          0.05354513385348325,
          0.07871603402185308,
          0.06291315925725534,
          0.07086597644271465,
          0.07157498865345686,
          0.03836563693057266,
          0.06828902498194984,
          0.08096899978488713,
          0.06496404633182133,
          0.07077808696259191,
          0.07347908594619347,
          0.05046821044085894,
          0.06908858475689852,
          0.06383756931287132,
          0.05544838983076175,
          0.05720913022325884,
          0.08071510700324344,
          0.052673362107208216,
          0.03399987727212491,
          0.039424121352136486,
          0.13948862737427986,
          0.055867357491966724,
          0.05452264064322511,
          0.05066069777210676,
          0.07873441292903455,
          0.06541643911391709,
          0.0737883220089068,
          0.0549011237250554,
          0.127644222151087,
          0.07168029826923382,
          0.04150144679192796,
          0.0939125131948403,
          0.056234238243174556,
          0.05887804961578755,
          0.08013536410404518,
          0.0592780800005661,
          0.12007291766163794,
          0.10803149537162537,
          0.15100587641464247,
          0.05856552440498402,
          0.05410899634533641,
          0.06965618796324148,
          0.1022399886739076,
          0.12617473443292884,
          0.17821350898517485,
          0.08264941510701573,
          0.054914243480812266,
          0.18491244900184117,
          0.19177112608114583,
          0.040637186168246534,
          0.0831271985464992,
          0.06864078897593026,
          0.18114936661052658,
          0.08977130353628607,
          0.10663142545106771,
          0.0651057396272387,
          0.07510154968651428,
          0.09486573329339147,
          0.051138457104306714,
          0.10639882305801318,
          0.06800560857447638,
          0.05717814688606282,
          0.047482200392817794,
          0.05776611310474429,
          0.16807534025191745,
          0.05413613480173489,
          0.06392296028755769,
          0.07850585886025939,
          0.04802806659176212,
          0.059420360101652775,
          0.06485515083355119,
          0.06216000900535783,
          0.08502848987540622,
          0.0987118873087143,
          0.07124902834316058,
          0.05951675307714563,
          0.21618912310745528,
          0.16848719268349388,
          0.05431908548178994,
          0.053514370708823436,
          0.1574562720592061,
          0.1122124110826477,
          0.05532860094141526,
          0.15350235436479615,
          0.16121127939022445,
          0.10564825403935274,
          0.04861706105018297,
          0.0532506695737832,
          0.05878644640120953,
          0.05320917953451021,
          0.07101050401292057,
          0.0465989876361775,
          0.1844026699762144,
          0.061933256545968096,
          0.07174149046831133,
          0.1288199906965703,
          0.05991375902089004,
          0.04824113050273445,
          0.20655120860258394,
          0.0719587065720561,
          0.05648116703450089,
          0.09436102284107846,
          0.17900483039195772,
          0.07297701952315261,
          0.08549465413994885,
          0.055129041482422966,
          0.045577516120109705,
          0.06483070407240643,
          0.07659144171285516,
          0.08255668137673237,
          0.13841479812122703,
          0.05952401919101237,
          0.20801205386883273,
          0.06516039716582735,
          0.06654029841511454,
          0.06486904895375492,
          0.08810481363498911,
          0.14820582144569427,
          0.043288570503401555,
          0.12238216357520085,
          0.05783786077396165,
          0.05298904798301748,
          0.05799162589962707,
          0.07923746921466483,
          0.06719322267206615,
          0.10596725479924406,
          0.05220240465396309,
          0.06508948074251786,
          0.07944948874868418,
          0.07399303781638206,
          0.06294411573951217,
          0.09226643473985999,
          0.04459986493826412,
          0.08882712250085063,
          0.11403759824097943,
          0.14397884892008478,
          0.10230187248613187,
          0.04477376926816014,
          0.12205785345388771,
          0.1795809340007829,
          0.06833032208646975,
          0.06849420391912982,
          0.12253558655093755,
          0.1626011281841535,
          0.0897804585497306,
          0.08017255361119818,
          0.10048826212009485,
          0.06976328759678424,
          0.05816674656806832,
          0.04181297135301836,
          0.12216122455494671,
          0.06875019250118806,
          0.061117905118917945,
          0.10143008749533679,
          0.05373101869032373,
          0.05393858218811075,
          0.06744858325743106,
          0.04681496496627139,
          0.16770885097883426,
          0.07455014306054993,
          0.051489576513486485,
          0.08470042143047063,
          0.04741246663458921,
          0.17740359133962094,
          0.05685410038776546,
          0.05888378829747152,
          0.12810483004115553,
          0.35004960187501205,
          0.09746295999369191,
          0.07601486501436197,
          0.13061672144368214,
          0.049191983805266175,
          0.07130793240178855,
          0.0908354328610049,
          0.06089745246447626,
          0.10238598368178987,
          0.08375629745562631,
          0.05007162274298228,
          0.2171534103715501,
          0.05321359669587944,
          0.04783300251661763,
          0.13710592070126099,
          0.1021835532365991,
          0.08969182946175572,
          0.2387210670972766,
          0.10774363986667948,
          0.09197685512595227,
          0.04253656611746565,
          0.07410991795594198,
          0.1717455931223975,
          0.08766923995866446,
          0.06817502290913856,
          0.08008743675211501,
          0.06872294137595052,
          0.14991043526902043,
          0.19144267008015187,
          0.055622820218271876,
          0.08714046051681126,
          0.12261961386375336,
          0.0836744687884088,
          0.19042844525155037,
          0.06841617341581407,
          0.1058382385477616,
          0.21524593150993782,
          0.16193448535388316,
          0.06872442851536585,
          0.08764017937368748,
          0.08984507978026561,
          0.1222061254370369,
          0.0548281498153661,
          0.06521275448841521,
          0.15779204162668142,
          0.045939019028381885,
          0.057675792992570536,
          0.1902294552080201,
          0.06955893750480438,
          0.09859555202523758,
          0.05523567797366688,
          0.12376421108560882,
          0.0862889759985311,
          0.07351719985116222,
          0.07702935282074366,
          0.12436653934139519,
          0.16056098917935235,
          0.11530646012618435,
          0.1126047039020777,
          0.062030431074676436,
          0.10618333969124255,
          0.04507765513400077,
          0.1543516040444987,
          0.1418526209132851,
          0.051143952560797075,
          0.04749768443204085,
          0.06801214424222518,
          0.08819404143747356,
          0.18817728093046365,
          0.15852681991031703,
          0.16747948520177952,
          0.08200646771757056,
          0.05445837712657718,
          0.04413481793268514,
          0.10749906053852272,
          0.11896073701913004,
          0.19650198627679383,
          0.21125206606146393,
          0.09971845061326501,
          0.07506578895372705,
          0.1512324463305413,
          0.061385737794511994,
          0.07580185824959543,
          0.07484781970870068,
          0.19375832434697732,
          0.06946545652867687,
          0.05094464728920595,
          0.0599747301425181,
          0.13829884011666344,
          0.06335220620576434,
          0.05698926421794018,
          0.09515299867995825,
          0.20298005316972448,
          0.08862032812894233,
          0.05460836391908047,
          0.15018061855450426,
          0.1051229315355108,
          0.06736112546391665,
          0.1415965917975212,
          0.1357105267280404,
          0.1688544222154581,
          0.15236423365391583,
          0.09567365047431409,
          0.06671749248170265,
          0.19975353952400443,
          0.07134215234591491,
          0.1389199977915727,
          0.06178947983132675,
          0.082198298586182,
          0.14411228027023895,
          0.06752361117653777,
          0.041554574444357596,
          0.09544950322630419,
          0.12244394056416251,
          0.14665950408429962,
          0.07895736925468695,
          0.14086175803100695,
          0.09417987749806139,
          0.23907876375866932,
          0.1531530848136663,
          0.19725518449710552,
          0.08147733541165882,
          0.19564741318444878,
          0.06390322974904013,
          0.07268902700144038,
          0.0784122872085406,
          0.21287866425539628,
          0.09705251319571141,
          0.15258914595855408,
          0.08947030416757226,
          0.17824955001856896,
          0.27157284925164527,
          0.17423963700651218,
          0.06356701720143888,
          0.07093370129472867,
          0.07070995447806724,
          0.09794895922178029,
          0.07439995262626617,
          0.27155481659896097,
          0.06461635250840213,
          0.06486310468812445,
          0.1728028651565372,
          0.22363012335765656,
          0.057413366367151955,
          0.08768516223781683,
          0.06337019522551793,
          0.09415566008141225,
          0.2290233639020249,
          0.05605771239965727,
          0.20602318473447093,
          0.09953239138344766,
          0.17925803949435926,
          0.09497921614726558,
          0.08660983289515542,
          0.14215075662381932,
          0.2146797304511513,
          0.22487065982987342,
          0.21897987266853577,
          0.0770521298335859,
          0.07511462109852675,
          0.1301059731794721,
          0.07945131217072451,
          0.1795262931235614,
          0.11584790827727579,
          0.22755056974705457,
          0.06420693197351983,
          0.1046765349908551,
          0.15794452622563024,
          0.25520055340786757,
          0.2165338546694865,
          0.06588023469530022,
          0.0653998561015606,
          0.08803561356829886,
          0.16335961202732976,
          0.1118219241225637,
          0.07587613507953479,
          0.18618884145350903,
          0.2680658573563792,
          0.08722015721678335,
          0.19310001986388906,
          0.08824021355089855,
          0.21056405584854693,
          0.20800794875857154,
          0.05106635301246417,
          0.07301010611335641,
          0.15651864997507053,
          0.2112978854501525,
          0.1527960496548664,
          0.24428226037574766,
          0.17038715687485137,
          0.13359485458109782,
          0.18139689718675692,
          0.06475672571491094,
          0.07741905033291942,
          0.20084393586135874,
          0.06975241656638921,
          0.14787327232256797,
          0.10235817818428622,
          0.22506022093409403,
          0.21561511062146757,
          0.18306634700924648,
          0.05701515361837489,
          0.060960543273547024,
          0.19784942157607543,
          0.1765135962389482,
          0.12114585160918265,
          0.21614481521165238,
          0.053379523290487424,
          0.20468994273222976,
          0.1577669791637549,
          0.23725301091041098,
          0.05797468135368063,
          0.07876144993956137,
          0.17935788289140844,
          0.18991877416824948,
          0.20382550981147524,
          0.19259359668878856,
          0.19089635595005128,
          0.20907505486961775,
          0.07937180926357297,
          0.08417112418539058,
          0.20566344214174304,
          0.20673246472147544,
          0.21085813067319184,
          0.20910066711267244,
          0.24467991469712602,
          0.17743767097888213,
          0.05558432903112404,
          0.131405848366771,
          0.22505461603524765,
          0.1347951280098077,
          0.153896195135423,
          0.16909191110033533,
          0.05027914080236666,
          0.08809275530886163,
          0.06880122601755106,
          0.20262775612578038,
          0.2224851688290746,
          0.20419435058196436,
          0.19635099796930366,
          0.22850886706802925,
          0.20971420148099243,
          0.18356053497639974,
          0.22740756266089238,
          0.21851930006392956,
          0.20877002777999318,
          0.2097904845042585,
          0.24987730572350308,
          0.17448197958884373,
          0.1442664979144705,
          0.13107089617287285,
          0.1378121809887853,
          0.15760772145392732,
          0.1761715931437461,
          0.12458572699179936,
          0.062460697272203575,
          0.21838241302526248,
          0.18839787327443525,
          0.1460752756806728,
          0.18069177865753142,
          0.08511276625676582,
          0.15982823728241596,
          0.20767534278902838,
          0.1882005350722163,
          0.16478557105840358,
          0.19365668950440895,
          0.1580497588853327,
          0.15850943575656617,
          0.1430625370869573,
          0.11627377921934384,
          0.13472630502693106,
          0.21183321831825094,
          0.19175479563159964,
          0.07627619487695916,
          0.1914389665594381,
          0.12011748835285896,
          0.2044533590713708,
          0.20128050670208872,
          0.15976998515667268,
          0.21967366605713845,
          0.19163284444383105,
          0.17145859403207803,
          0.13138209667859965,
          0.08972931879548275,
          0.1278140701757539,
          0.19576664116015952,
          0.15722526962352162,
          0.15379703129498679,
          0.19796565412733402,
          0.1498127900655576,
          0.1686467351108487,
          0.1322670627087091,
          0.12474349373301796,
          0.18994760520081222,
          0.1405701997715547,
          0.15480145363982634,
          0.1488986767349036,
          0.14178531169402037,
          0.19850410498787435,
          0.17217199617354928,
          0.19966247804971962,
          0.12798553082546724,
          0.06727195481354024,
          0.07057818432283652,
          0.06599855165525288,
          0.062276533612479944,
          0.0725367285387941
         ],
         "xaxis": "x",
         "yaxis": "y"
        }
       ],
       "layout": {
        "barmode": "relative",
        "legend": {
         "tracegroupgap": 0
        },
        "margin": {
         "t": 60
        },
        "template": {
         "data": {
          "bar": [
           {
            "error_x": {
             "color": "#2a3f5f"
            },
            "error_y": {
             "color": "#2a3f5f"
            },
            "marker": {
             "line": {
              "color": "#E5ECF6",
              "width": 0.5
             }
            },
            "type": "bar"
           }
          ],
          "barpolar": [
           {
            "marker": {
             "line": {
              "color": "#E5ECF6",
              "width": 0.5
             }
            },
            "type": "barpolar"
           }
          ],
          "carpet": [
           {
            "aaxis": {
             "endlinecolor": "#2a3f5f",
             "gridcolor": "white",
             "linecolor": "white",
             "minorgridcolor": "white",
             "startlinecolor": "#2a3f5f"
            },
            "baxis": {
             "endlinecolor": "#2a3f5f",
             "gridcolor": "white",
             "linecolor": "white",
             "minorgridcolor": "white",
             "startlinecolor": "#2a3f5f"
            },
            "type": "carpet"
           }
          ],
          "choropleth": [
           {
            "colorbar": {
             "outlinewidth": 0,
             "ticks": ""
            },
            "type": "choropleth"
           }
          ],
          "contour": [
           {
            "colorbar": {
             "outlinewidth": 0,
             "ticks": ""
            },
            "colorscale": [
             [
              0,
              "#0d0887"
             ],
             [
              0.1111111111111111,
              "#46039f"
             ],
             [
              0.2222222222222222,
              "#7201a8"
             ],
             [
              0.3333333333333333,
              "#9c179e"
             ],
             [
              0.4444444444444444,
              "#bd3786"
             ],
             [
              0.5555555555555556,
              "#d8576b"
             ],
             [
              0.6666666666666666,
              "#ed7953"
             ],
             [
              0.7777777777777778,
              "#fb9f3a"
             ],
             [
              0.8888888888888888,
              "#fdca26"
             ],
             [
              1,
              "#f0f921"
             ]
            ],
            "type": "contour"
           }
          ],
          "contourcarpet": [
           {
            "colorbar": {
             "outlinewidth": 0,
             "ticks": ""
            },
            "type": "contourcarpet"
           }
          ],
          "heatmap": [
           {
            "colorbar": {
             "outlinewidth": 0,
             "ticks": ""
            },
            "colorscale": [
             [
              0,
              "#0d0887"
             ],
             [
              0.1111111111111111,
              "#46039f"
             ],
             [
              0.2222222222222222,
              "#7201a8"
             ],
             [
              0.3333333333333333,
              "#9c179e"
             ],
             [
              0.4444444444444444,
              "#bd3786"
             ],
             [
              0.5555555555555556,
              "#d8576b"
             ],
             [
              0.6666666666666666,
              "#ed7953"
             ],
             [
              0.7777777777777778,
              "#fb9f3a"
             ],
             [
              0.8888888888888888,
              "#fdca26"
             ],
             [
              1,
              "#f0f921"
             ]
            ],
            "type": "heatmap"
           }
          ],
          "heatmapgl": [
           {
            "colorbar": {
             "outlinewidth": 0,
             "ticks": ""
            },
            "colorscale": [
             [
              0,
              "#0d0887"
             ],
             [
              0.1111111111111111,
              "#46039f"
             ],
             [
              0.2222222222222222,
              "#7201a8"
             ],
             [
              0.3333333333333333,
              "#9c179e"
             ],
             [
              0.4444444444444444,
              "#bd3786"
             ],
             [
              0.5555555555555556,
              "#d8576b"
             ],
             [
              0.6666666666666666,
              "#ed7953"
             ],
             [
              0.7777777777777778,
              "#fb9f3a"
             ],
             [
              0.8888888888888888,
              "#fdca26"
             ],
             [
              1,
              "#f0f921"
             ]
            ],
            "type": "heatmapgl"
           }
          ],
          "histogram": [
           {
            "marker": {
             "colorbar": {
              "outlinewidth": 0,
              "ticks": ""
             }
            },
            "type": "histogram"
           }
          ],
          "histogram2d": [
           {
            "colorbar": {
             "outlinewidth": 0,
             "ticks": ""
            },
            "colorscale": [
             [
              0,
              "#0d0887"
             ],
             [
              0.1111111111111111,
              "#46039f"
             ],
             [
              0.2222222222222222,
              "#7201a8"
             ],
             [
              0.3333333333333333,
              "#9c179e"
             ],
             [
              0.4444444444444444,
              "#bd3786"
             ],
             [
              0.5555555555555556,
              "#d8576b"
             ],
             [
              0.6666666666666666,
              "#ed7953"
             ],
             [
              0.7777777777777778,
              "#fb9f3a"
             ],
             [
              0.8888888888888888,
              "#fdca26"
             ],
             [
              1,
              "#f0f921"
             ]
            ],
            "type": "histogram2d"
           }
          ],
          "histogram2dcontour": [
           {
            "colorbar": {
             "outlinewidth": 0,
             "ticks": ""
            },
            "colorscale": [
             [
              0,
              "#0d0887"
             ],
             [
              0.1111111111111111,
              "#46039f"
             ],
             [
              0.2222222222222222,
              "#7201a8"
             ],
             [
              0.3333333333333333,
              "#9c179e"
             ],
             [
              0.4444444444444444,
              "#bd3786"
             ],
             [
              0.5555555555555556,
              "#d8576b"
             ],
             [
              0.6666666666666666,
              "#ed7953"
             ],
             [
              0.7777777777777778,
              "#fb9f3a"
             ],
             [
              0.8888888888888888,
              "#fdca26"
             ],
             [
              1,
              "#f0f921"
             ]
            ],
            "type": "histogram2dcontour"
           }
          ],
          "mesh3d": [
           {
            "colorbar": {
             "outlinewidth": 0,
             "ticks": ""
            },
            "type": "mesh3d"
           }
          ],
          "parcoords": [
           {
            "line": {
             "colorbar": {
              "outlinewidth": 0,
              "ticks": ""
             }
            },
            "type": "parcoords"
           }
          ],
          "pie": [
           {
            "automargin": true,
            "type": "pie"
           }
          ],
          "scatter": [
           {
            "marker": {
             "colorbar": {
              "outlinewidth": 0,
              "ticks": ""
             }
            },
            "type": "scatter"
           }
          ],
          "scatter3d": [
           {
            "line": {
             "colorbar": {
              "outlinewidth": 0,
              "ticks": ""
             }
            },
            "marker": {
             "colorbar": {
              "outlinewidth": 0,
              "ticks": ""
             }
            },
            "type": "scatter3d"
           }
          ],
          "scattercarpet": [
           {
            "marker": {
             "colorbar": {
              "outlinewidth": 0,
              "ticks": ""
             }
            },
            "type": "scattercarpet"
           }
          ],
          "scattergeo": [
           {
            "marker": {
             "colorbar": {
              "outlinewidth": 0,
              "ticks": ""
             }
            },
            "type": "scattergeo"
           }
          ],
          "scattergl": [
           {
            "marker": {
             "colorbar": {
              "outlinewidth": 0,
              "ticks": ""
             }
            },
            "type": "scattergl"
           }
          ],
          "scattermapbox": [
           {
            "marker": {
             "colorbar": {
              "outlinewidth": 0,
              "ticks": ""
             }
            },
            "type": "scattermapbox"
           }
          ],
          "scatterpolar": [
           {
            "marker": {
             "colorbar": {
              "outlinewidth": 0,
              "ticks": ""
             }
            },
            "type": "scatterpolar"
           }
          ],
          "scatterpolargl": [
           {
            "marker": {
             "colorbar": {
              "outlinewidth": 0,
              "ticks": ""
             }
            },
            "type": "scatterpolargl"
           }
          ],
          "scatterternary": [
           {
            "marker": {
             "colorbar": {
              "outlinewidth": 0,
              "ticks": ""
             }
            },
            "type": "scatterternary"
           }
          ],
          "surface": [
           {
            "colorbar": {
             "outlinewidth": 0,
             "ticks": ""
            },
            "colorscale": [
             [
              0,
              "#0d0887"
             ],
             [
              0.1111111111111111,
              "#46039f"
             ],
             [
              0.2222222222222222,
              "#7201a8"
             ],
             [
              0.3333333333333333,
              "#9c179e"
             ],
             [
              0.4444444444444444,
              "#bd3786"
             ],
             [
              0.5555555555555556,
              "#d8576b"
             ],
             [
              0.6666666666666666,
              "#ed7953"
             ],
             [
              0.7777777777777778,
              "#fb9f3a"
             ],
             [
              0.8888888888888888,
              "#fdca26"
             ],
             [
              1,
              "#f0f921"
             ]
            ],
            "type": "surface"
           }
          ],
          "table": [
           {
            "cells": {
             "fill": {
              "color": "#EBF0F8"
             },
             "line": {
              "color": "white"
             }
            },
            "header": {
             "fill": {
              "color": "#C8D4E3"
             },
             "line": {
              "color": "white"
             }
            },
            "type": "table"
           }
          ]
         },
         "layout": {
          "annotationdefaults": {
           "arrowcolor": "#2a3f5f",
           "arrowhead": 0,
           "arrowwidth": 1
          },
          "coloraxis": {
           "colorbar": {
            "outlinewidth": 0,
            "ticks": ""
           }
          },
          "colorscale": {
           "diverging": [
            [
             0,
             "#8e0152"
            ],
            [
             0.1,
             "#c51b7d"
            ],
            [
             0.2,
             "#de77ae"
            ],
            [
             0.3,
             "#f1b6da"
            ],
            [
             0.4,
             "#fde0ef"
            ],
            [
             0.5,
             "#f7f7f7"
            ],
            [
             0.6,
             "#e6f5d0"
            ],
            [
             0.7,
             "#b8e186"
            ],
            [
             0.8,
             "#7fbc41"
            ],
            [
             0.9,
             "#4d9221"
            ],
            [
             1,
             "#276419"
            ]
           ],
           "sequential": [
            [
             0,
             "#0d0887"
            ],
            [
             0.1111111111111111,
             "#46039f"
            ],
            [
             0.2222222222222222,
             "#7201a8"
            ],
            [
             0.3333333333333333,
             "#9c179e"
            ],
            [
             0.4444444444444444,
             "#bd3786"
            ],
            [
             0.5555555555555556,
             "#d8576b"
            ],
            [
             0.6666666666666666,
             "#ed7953"
            ],
            [
             0.7777777777777778,
             "#fb9f3a"
            ],
            [
             0.8888888888888888,
             "#fdca26"
            ],
            [
             1,
             "#f0f921"
            ]
           ],
           "sequentialminus": [
            [
             0,
             "#0d0887"
            ],
            [
             0.1111111111111111,
             "#46039f"
            ],
            [
             0.2222222222222222,
             "#7201a8"
            ],
            [
             0.3333333333333333,
             "#9c179e"
            ],
            [
             0.4444444444444444,
             "#bd3786"
            ],
            [
             0.5555555555555556,
             "#d8576b"
            ],
            [
             0.6666666666666666,
             "#ed7953"
            ],
            [
             0.7777777777777778,
             "#fb9f3a"
            ],
            [
             0.8888888888888888,
             "#fdca26"
            ],
            [
             1,
             "#f0f921"
            ]
           ]
          },
          "colorway": [
           "#636efa",
           "#EF553B",
           "#00cc96",
           "#ab63fa",
           "#FFA15A",
           "#19d3f3",
           "#FF6692",
           "#B6E880",
           "#FF97FF",
           "#FECB52"
          ],
          "font": {
           "color": "#2a3f5f"
          },
          "geo": {
           "bgcolor": "white",
           "lakecolor": "white",
           "landcolor": "#E5ECF6",
           "showlakes": true,
           "showland": true,
           "subunitcolor": "white"
          },
          "hoverlabel": {
           "align": "left"
          },
          "hovermode": "closest",
          "mapbox": {
           "style": "light"
          },
          "paper_bgcolor": "white",
          "plot_bgcolor": "#E5ECF6",
          "polar": {
           "angularaxis": {
            "gridcolor": "white",
            "linecolor": "white",
            "ticks": ""
           },
           "bgcolor": "#E5ECF6",
           "radialaxis": {
            "gridcolor": "white",
            "linecolor": "white",
            "ticks": ""
           }
          },
          "scene": {
           "xaxis": {
            "backgroundcolor": "#E5ECF6",
            "gridcolor": "white",
            "gridwidth": 2,
            "linecolor": "white",
            "showbackground": true,
            "ticks": "",
            "zerolinecolor": "white"
           },
           "yaxis": {
            "backgroundcolor": "#E5ECF6",
            "gridcolor": "white",
            "gridwidth": 2,
            "linecolor": "white",
            "showbackground": true,
            "ticks": "",
            "zerolinecolor": "white"
           },
           "zaxis": {
            "backgroundcolor": "#E5ECF6",
            "gridcolor": "white",
            "gridwidth": 2,
            "linecolor": "white",
            "showbackground": true,
            "ticks": "",
            "zerolinecolor": "white"
           }
          },
          "shapedefaults": {
           "line": {
            "color": "#2a3f5f"
           }
          },
          "ternary": {
           "aaxis": {
            "gridcolor": "white",
            "linecolor": "white",
            "ticks": ""
           },
           "baxis": {
            "gridcolor": "white",
            "linecolor": "white",
            "ticks": ""
           },
           "bgcolor": "#E5ECF6",
           "caxis": {
            "gridcolor": "white",
            "linecolor": "white",
            "ticks": ""
           }
          },
          "title": {
           "x": 0.05
          },
          "xaxis": {
           "automargin": true,
           "gridcolor": "white",
           "linecolor": "white",
           "ticks": "",
           "title": {
            "standoff": 15
           },
           "zerolinecolor": "white",
           "zerolinewidth": 2
          },
          "yaxis": {
           "automargin": true,
           "gridcolor": "white",
           "linecolor": "white",
           "ticks": "",
           "title": {
            "standoff": 15
           },
           "zerolinecolor": "white",
           "zerolinewidth": 2
          }
         }
        },
        "xaxis": {
         "anchor": "y",
         "domain": [
          0,
          1
         ],
         "title": {
          "text": "0"
         }
        },
        "yaxis": {
         "anchor": "x",
         "domain": [
          0,
          1
         ],
         "title": {
          "text": "count"
         }
        }
       }
      },
      "text/html": [
       "<div>\n",
       "        \n",
       "        \n",
       "            <div id=\"836865b5-0ed1-497a-9892-8dfc06d50333\" class=\"plotly-graph-div\" style=\"height:525px; width:100%;\"></div>\n",
       "            <script type=\"text/javascript\">\n",
       "                require([\"plotly\"], function(Plotly) {\n",
       "                    window.PLOTLYENV=window.PLOTLYENV || {};\n",
       "                    \n",
       "                if (document.getElementById(\"836865b5-0ed1-497a-9892-8dfc06d50333\")) {\n",
       "                    Plotly.newPlot(\n",
       "                        '836865b5-0ed1-497a-9892-8dfc06d50333',\n",
       "                        [{\"alignmentgroup\": \"True\", \"bingroup\": \"x\", \"hovertemplate\": \"0=%{x}<br>count=%{y}<extra></extra>\", \"legendgroup\": \"\", \"marker\": {\"color\": \"#636efa\"}, \"name\": \"\", \"offsetgroup\": \"\", \"orientation\": \"v\", \"showlegend\": false, \"type\": \"histogram\", \"x\": [0.04657651440891957, 0.04523806603314588, 0.04341586971138474, 0.0430216435689911, 0.04280260866193064, 0.0337638182783091, 0.036310976441124826, 0.056903762909061024, 0.05332476153492502, 0.04085748002317193, 0.04586772977758794, 0.04951894403027392, 0.04649834280327668, 0.04421334709794969, 0.038868253757541875, 0.02356997506286724, 0.044187293609794766, 0.042833790169679274, 0.042381113873043434, 0.044868984321464286, 0.048034005053194405, 0.03625965786307703, 0.04402067056884911, 0.04568417027428133, 0.0422624189626529, 0.04022985422521326, 0.03522887272369395, 0.03256661770353522, 0.042132261142185205, 0.04124462761577177, 0.04712332362664272, 0.04396755884194409, 0.04241377140733632, 0.04419270911293624, 0.0354799940730944, 0.04180849975669484, 0.04666752894596334, 0.032638730652499386, 0.04445134055716405, 0.04987646844937662, 0.04411480378446657, 0.03218642892956604, 0.04488897228071833, 0.0484354400945776, 0.05374311083653009, 0.045688232580502294, 0.0388924398726399, 0.05895331975397398, 0.03330171915579535, 0.03772590104931023, 0.04352671576798178, 0.06604126950503536, 0.06164249414513227, 0.058901934612509144, 0.05016794328716632, 0.06270320118396358, 0.04617016243291818, 0.036071168037934455, 0.05116119188708459, 0.03866901667000561, 0.04800111630075181, 0.04875966305417437, 0.035660803476389856, 0.04269821350068215, 0.04835801775116304, 0.04648356490346582, 0.05254092368199039, 0.04095574297397363, 0.04532599515502878, 0.050598829136908136, 0.047861496046881155, 0.04087335889336199, 0.042933516178474185, 0.0463147178592987, 0.06514462562537343, 0.050141541106606416, 0.04296710162640955, 0.049390890241933445, 0.05457343571283729, 0.04532412001268413, 0.03842176106613277, 0.047582242965713985, 0.044818266019275674, 0.060685314343268584, 0.04667708506802524, 0.033146266392880167, 0.04642890234503226, 0.08742176028514836, 0.059909001600284895, 0.059857736097061916, 0.042491635013525604, 0.04536529995050781, 0.04607065993415366, 0.05027714654707051, 0.04762373698286842, 0.03820727657547055, 0.04726293231475453, 0.049467901306364935, 0.04582387860772277, 0.05854635041163278, 0.04748707469673854, 0.04634870480448996, 0.035742173818480126, 0.045312380593678495, 0.04524902590375593, 0.03836584490697912, 0.06839465718113022, 0.03318720388816097, 0.055313513266247685, 0.04342407993781529, 0.043739838425643475, 0.05331041099802401, 0.045945219033272776, 0.04093548650815798, 0.044806078345785434, 0.04877860751655944, 0.03983644304339925, 0.05831848056595092, 0.03745658788960278, 0.04022832861042199, 0.039826848103676836, 0.056444972892564255, 0.05900430594330727, 0.04571118287285414, 0.06454163470241539, 0.03969570340383297, 0.03064588291885883, 0.04336781986220755, 0.06333049417527302, 0.03409538613712151, 0.04838228051915292, 0.05287168810848119, 0.06892313765177657, 0.0460928854557863, 0.04958366622740245, 0.044767536424417276, 0.05362692187366302, 0.05774264221883155, 0.03765901081017544, 0.045258716833823424, 0.046015015347525313, 0.03162319531022348, 0.05374607884970604, 0.053220939758629515, 0.055408493597941, 0.04373506030161967, 0.03760785188407756, 0.026908848786389085, 0.06193989344244129, 0.06067818403900673, 0.04493932437236007, 0.05722415009714796, 0.04609798887633001, 0.03822487357157444, 0.04474461890008665, 0.03781959635150425, 0.03103826979821242, 0.04949671099179529, 0.03558263186225728, 0.056662882373802806, 0.058264298713217984, 0.06262062320320125, 0.04230955654333232, 0.03723282726801144, 0.04180320957153853, 0.08200418216459507, 0.06232802863483079, 0.05527608254492393, 0.04817169590331061, 0.09165808946841415, 0.05152780709086195, 0.050816804166022626, 0.050920061727381664, 0.03687118295753271, 0.05345185463104371, 0.0777648219828754, 0.04469605990881548, 0.043837252296047624, 0.04315361601987834, 0.047640136706932096, 0.0543645592922684, 0.043394126262574766, 0.08523506984460152, 0.047760759455074506, 0.045606031632968065, 0.051026236025164116, 0.048109722756869706, 0.07176032986460833, 0.06232787149734364, 0.07008512345410735, 0.03855698869267747, 0.05023775488178237, 0.04295431440895675, 0.07042122036280762, 0.04862351248022984, 0.03972926020192914, 0.07032455110007195, 0.0698795549143282, 0.05030297805230673, 0.15124137039375385, 0.041981443438353, 0.04311124443993471, 0.048580676666507894, 0.03289109442282473, 0.06986850411868953, 0.04938873745837243, 0.039871265283041364, 0.10168528841453398, 0.06236385335419492, 0.05510502609423064, 0.04595187842088514, 0.05680238584943361, 0.0427200451867489, 0.048069161974172325, 0.08121026724838946, 0.13860975126609085, 0.06252039381728661, 0.043772510678217025, 0.09552414775158725, 0.05332473120102435, 0.03113257542163965, 0.052495260307319186, 0.07321766307448101, 0.06539846286917375, 0.042252706894301814, 0.061959407698653726, 0.028817905765409456, 0.05767480049964163, 0.044083478198790396, 0.04722445291342226, 0.07207887866511625, 0.04484354699853829, 0.07197899285483501, 0.06092088439060721, 0.057801666256837025, 0.043866024522952095, 0.1427540921840834, 0.047153520993005425, 0.06804231911521812, 0.03484052758416412, 0.052063253401141776, 0.12546103992131744, 0.06365657564488747, 0.10881022436316681, 0.03757944306307656, 0.056676994120695004, 0.055073292224436854, 0.06013290667301447, 0.05843538137420168, 0.08406388985935057, 0.07351082376530942, 0.04112193051952682, 0.03950015171653105, 0.06696993901918266, 0.050276256388491355, 0.031460466636188435, 0.04134320245084465, 0.05620649729649925, 0.05966480366737262, 0.08387063836069895, 0.04292267825005968, 0.05265582871836863, 0.08275755801307896, 0.04959971346999158, 0.047818559333543675, 0.048441529798214665, 0.0620110637403212, 0.03480286350255547, 0.0462291203099254, 0.035277147859934944, 0.048810554177537574, 0.08098287968019312, 0.05122414005702319, 0.13767160399485623, 0.09173742582214818, 0.0584570053467816, 0.03752848038812848, 0.0639648188329413, 0.05710911837286263, 0.05734199977074889, 0.1188742041006786, 0.06241436419446987, 0.12521957406092202, 0.04818686654839502, 0.04311182207030379, 0.09515691158764836, 0.06679612531030185, 0.058275778733953586, 0.058289367310288026, 0.02830794951349483, 0.039226944238231906, 0.05541466056123508, 0.04837656630457767, 0.04457689994844274, 0.054978191238496954, 0.08012125664497835, 0.09421940787970454, 0.049809042695208146, 0.0542867578196541, 0.039547887408157935, 0.062189714210160764, 0.06582872754457592, 0.045716521241359304, 0.04518601028852362, 0.07363173060225513, 0.055455678469285175, 0.14323206866419264, 0.053168319039739655, 0.08034305627464769, 0.0489500793208355, 0.06262262893128795, 0.10989511691980831, 0.05406315011613088, 0.11025647790894633, 0.04316762392878137, 0.044931894493360734, 0.04959777813964541, 0.04233737230001958, 0.06666595172509088, 0.09199494341127844, 0.11355062174803553, 0.08186977925527793, 0.04151957511818626, 0.042994410039010014, 0.042307288108820916, 0.19057796968489457, 0.06724344916626582, 0.039370693791881885, 0.05658453708236966, 0.033479025365002024, 0.06666489323849435, 0.06798056690786476, 0.107120783553293, 0.0688887238861007, 0.03518274125803527, 0.05654245790776047, 0.05286402162028307, 0.05841075821967078, 0.04263245514550619, 0.08235862449980821, 0.06108320974853688, 0.051471121515744525, 0.04972754485702891, 0.04555944135020652, 0.057429658581871504, 0.06554599995953239, 0.1315562929152264, 0.03643917061337896, 0.07042810783958703, 0.1350534081054268, 0.05389102394632275, 0.05839259802818761, 0.0675280827835429, 0.06752243394322636, 0.0361093509142228, 0.05729446932045591, 0.041646352487345134, 0.06256740789479515, 0.05475927694423689, 0.07764636724652386, 0.06415136780805764, 0.08000164145208286, 0.05674413252663464, 0.05648583660228535, 0.05954164768793199, 0.05392689137793906, 0.12130168462218915, 0.06745830890947116, 0.06856570945822994, 0.06354016117022782, 0.06402615623466287, 0.05519175579742427, 0.05597487067888243, 0.06108470641614322, 0.08750264208926681, 0.08446046205006054, 0.07032279826275552, 0.07087622269599383, 0.08059168986153512, 0.11385283303858956, 0.1157153277291473, 0.08428416786757328, 0.02600009317531151, 0.07758308816822142, 0.05964975737444535, 0.05859938551529483, 0.03384258684267501, 0.09408497875398263, 0.2026895845971897, 0.048852876481275585, 0.0749849589635522, 0.11781965637278649, 0.07754114474818201, 0.10770674419543039, 0.053809863136198205, 0.04653507813106811, 0.06481708757660412, 0.0590311756652111, 0.12190276969384244, 0.05483107289145245, 0.14274093045687392, 0.08063774778908205, 0.10738938852313329, 0.06149526193511233, 0.05541200496504401, 0.07815999197594685, 0.11738939976368609, 0.06712463963937565, 0.05206019087301153, 0.09387121803546797, 0.09648387292184102, 0.10137480099180322, 0.040464631289009866, 0.14190595297097183, 0.05411744529496328, 0.06128342003116495, 0.05354513385348325, 0.07871603402185308, 0.06291315925725534, 0.07086597644271465, 0.07157498865345686, 0.03836563693057266, 0.06828902498194984, 0.08096899978488713, 0.06496404633182133, 0.07077808696259191, 0.07347908594619347, 0.05046821044085894, 0.06908858475689852, 0.06383756931287132, 0.05544838983076175, 0.05720913022325884, 0.08071510700324344, 0.052673362107208216, 0.03399987727212491, 0.039424121352136486, 0.13948862737427986, 0.055867357491966724, 0.05452264064322511, 0.05066069777210676, 0.07873441292903455, 0.06541643911391709, 0.0737883220089068, 0.0549011237250554, 0.127644222151087, 0.07168029826923382, 0.04150144679192796, 0.0939125131948403, 0.056234238243174556, 0.05887804961578755, 0.08013536410404518, 0.0592780800005661, 0.12007291766163794, 0.10803149537162537, 0.15100587641464247, 0.05856552440498402, 0.05410899634533641, 0.06965618796324148, 0.1022399886739076, 0.12617473443292884, 0.17821350898517485, 0.08264941510701573, 0.054914243480812266, 0.18491244900184117, 0.19177112608114583, 0.040637186168246534, 0.0831271985464992, 0.06864078897593026, 0.18114936661052658, 0.08977130353628607, 0.10663142545106771, 0.0651057396272387, 0.07510154968651428, 0.09486573329339147, 0.051138457104306714, 0.10639882305801318, 0.06800560857447638, 0.05717814688606282, 0.047482200392817794, 0.05776611310474429, 0.16807534025191745, 0.05413613480173489, 0.06392296028755769, 0.07850585886025939, 0.04802806659176212, 0.059420360101652775, 0.06485515083355119, 0.06216000900535783, 0.08502848987540622, 0.0987118873087143, 0.07124902834316058, 0.05951675307714563, 0.21618912310745528, 0.16848719268349388, 0.05431908548178994, 0.053514370708823436, 0.1574562720592061, 0.1122124110826477, 0.05532860094141526, 0.15350235436479615, 0.16121127939022445, 0.10564825403935274, 0.04861706105018297, 0.0532506695737832, 0.05878644640120953, 0.05320917953451021, 0.07101050401292057, 0.0465989876361775, 0.1844026699762144, 0.061933256545968096, 0.07174149046831133, 0.1288199906965703, 0.05991375902089004, 0.04824113050273445, 0.20655120860258394, 0.0719587065720561, 0.05648116703450089, 0.09436102284107846, 0.17900483039195772, 0.07297701952315261, 0.08549465413994885, 0.055129041482422966, 0.045577516120109705, 0.06483070407240643, 0.07659144171285516, 0.08255668137673237, 0.13841479812122703, 0.05952401919101237, 0.20801205386883273, 0.06516039716582735, 0.06654029841511454, 0.06486904895375492, 0.08810481363498911, 0.14820582144569427, 0.043288570503401555, 0.12238216357520085, 0.05783786077396165, 0.05298904798301748, 0.05799162589962707, 0.07923746921466483, 0.06719322267206615, 0.10596725479924406, 0.05220240465396309, 0.06508948074251786, 0.07944948874868418, 0.07399303781638206, 0.06294411573951217, 0.09226643473985999, 0.04459986493826412, 0.08882712250085063, 0.11403759824097943, 0.14397884892008478, 0.10230187248613187, 0.04477376926816014, 0.12205785345388771, 0.1795809340007829, 0.06833032208646975, 0.06849420391912982, 0.12253558655093755, 0.1626011281841535, 0.0897804585497306, 0.08017255361119818, 0.10048826212009485, 0.06976328759678424, 0.05816674656806832, 0.04181297135301836, 0.12216122455494671, 0.06875019250118806, 0.061117905118917945, 0.10143008749533679, 0.05373101869032373, 0.05393858218811075, 0.06744858325743106, 0.04681496496627139, 0.16770885097883426, 0.07455014306054993, 0.051489576513486485, 0.08470042143047063, 0.04741246663458921, 0.17740359133962094, 0.05685410038776546, 0.05888378829747152, 0.12810483004115553, 0.35004960187501205, 0.09746295999369191, 0.07601486501436197, 0.13061672144368214, 0.049191983805266175, 0.07130793240178855, 0.0908354328610049, 0.06089745246447626, 0.10238598368178987, 0.08375629745562631, 0.05007162274298228, 0.2171534103715501, 0.05321359669587944, 0.04783300251661763, 0.13710592070126099, 0.1021835532365991, 0.08969182946175572, 0.2387210670972766, 0.10774363986667948, 0.09197685512595227, 0.04253656611746565, 0.07410991795594198, 0.1717455931223975, 0.08766923995866446, 0.06817502290913856, 0.08008743675211501, 0.06872294137595052, 0.14991043526902043, 0.19144267008015187, 0.055622820218271876, 0.08714046051681126, 0.12261961386375336, 0.0836744687884088, 0.19042844525155037, 0.06841617341581407, 0.1058382385477616, 0.21524593150993782, 0.16193448535388316, 0.06872442851536585, 0.08764017937368748, 0.08984507978026561, 0.1222061254370369, 0.0548281498153661, 0.06521275448841521, 0.15779204162668142, 0.045939019028381885, 0.057675792992570536, 0.1902294552080201, 0.06955893750480438, 0.09859555202523758, 0.05523567797366688, 0.12376421108560882, 0.0862889759985311, 0.07351719985116222, 0.07702935282074366, 0.12436653934139519, 0.16056098917935235, 0.11530646012618435, 0.1126047039020777, 0.062030431074676436, 0.10618333969124255, 0.04507765513400077, 0.1543516040444987, 0.1418526209132851, 0.051143952560797075, 0.04749768443204085, 0.06801214424222518, 0.08819404143747356, 0.18817728093046365, 0.15852681991031703, 0.16747948520177952, 0.08200646771757056, 0.05445837712657718, 0.04413481793268514, 0.10749906053852272, 0.11896073701913004, 0.19650198627679383, 0.21125206606146393, 0.09971845061326501, 0.07506578895372705, 0.1512324463305413, 0.061385737794511994, 0.07580185824959543, 0.07484781970870068, 0.19375832434697732, 0.06946545652867687, 0.05094464728920595, 0.0599747301425181, 0.13829884011666344, 0.06335220620576434, 0.05698926421794018, 0.09515299867995825, 0.20298005316972448, 0.08862032812894233, 0.05460836391908047, 0.15018061855450426, 0.1051229315355108, 0.06736112546391665, 0.1415965917975212, 0.1357105267280404, 0.1688544222154581, 0.15236423365391583, 0.09567365047431409, 0.06671749248170265, 0.19975353952400443, 0.07134215234591491, 0.1389199977915727, 0.06178947983132675, 0.082198298586182, 0.14411228027023895, 0.06752361117653777, 0.041554574444357596, 0.09544950322630419, 0.12244394056416251, 0.14665950408429962, 0.07895736925468695, 0.14086175803100695, 0.09417987749806139, 0.23907876375866932, 0.1531530848136663, 0.19725518449710552, 0.08147733541165882, 0.19564741318444878, 0.06390322974904013, 0.07268902700144038, 0.0784122872085406, 0.21287866425539628, 0.09705251319571141, 0.15258914595855408, 0.08947030416757226, 0.17824955001856896, 0.27157284925164527, 0.17423963700651218, 0.06356701720143888, 0.07093370129472867, 0.07070995447806724, 0.09794895922178029, 0.07439995262626617, 0.27155481659896097, 0.06461635250840213, 0.06486310468812445, 0.1728028651565372, 0.22363012335765656, 0.057413366367151955, 0.08768516223781683, 0.06337019522551793, 0.09415566008141225, 0.2290233639020249, 0.05605771239965727, 0.20602318473447093, 0.09953239138344766, 0.17925803949435926, 0.09497921614726558, 0.08660983289515542, 0.14215075662381932, 0.2146797304511513, 0.22487065982987342, 0.21897987266853577, 0.0770521298335859, 0.07511462109852675, 0.1301059731794721, 0.07945131217072451, 0.1795262931235614, 0.11584790827727579, 0.22755056974705457, 0.06420693197351983, 0.1046765349908551, 0.15794452622563024, 0.25520055340786757, 0.2165338546694865, 0.06588023469530022, 0.0653998561015606, 0.08803561356829886, 0.16335961202732976, 0.1118219241225637, 0.07587613507953479, 0.18618884145350903, 0.2680658573563792, 0.08722015721678335, 0.19310001986388906, 0.08824021355089855, 0.21056405584854693, 0.20800794875857154, 0.05106635301246417, 0.07301010611335641, 0.15651864997507053, 0.2112978854501525, 0.1527960496548664, 0.24428226037574766, 0.17038715687485137, 0.13359485458109782, 0.18139689718675692, 0.06475672571491094, 0.07741905033291942, 0.20084393586135874, 0.06975241656638921, 0.14787327232256797, 0.10235817818428622, 0.22506022093409403, 0.21561511062146757, 0.18306634700924648, 0.05701515361837489, 0.060960543273547024, 0.19784942157607543, 0.1765135962389482, 0.12114585160918265, 0.21614481521165238, 0.053379523290487424, 0.20468994273222976, 0.1577669791637549, 0.23725301091041098, 0.05797468135368063, 0.07876144993956137, 0.17935788289140844, 0.18991877416824948, 0.20382550981147524, 0.19259359668878856, 0.19089635595005128, 0.20907505486961775, 0.07937180926357297, 0.08417112418539058, 0.20566344214174304, 0.20673246472147544, 0.21085813067319184, 0.20910066711267244, 0.24467991469712602, 0.17743767097888213, 0.05558432903112404, 0.131405848366771, 0.22505461603524765, 0.1347951280098077, 0.153896195135423, 0.16909191110033533, 0.05027914080236666, 0.08809275530886163, 0.06880122601755106, 0.20262775612578038, 0.2224851688290746, 0.20419435058196436, 0.19635099796930366, 0.22850886706802925, 0.20971420148099243, 0.18356053497639974, 0.22740756266089238, 0.21851930006392956, 0.20877002777999318, 0.2097904845042585, 0.24987730572350308, 0.17448197958884373, 0.1442664979144705, 0.13107089617287285, 0.1378121809887853, 0.15760772145392732, 0.1761715931437461, 0.12458572699179936, 0.062460697272203575, 0.21838241302526248, 0.18839787327443525, 0.1460752756806728, 0.18069177865753142, 0.08511276625676582, 0.15982823728241596, 0.20767534278902838, 0.1882005350722163, 0.16478557105840358, 0.19365668950440895, 0.1580497588853327, 0.15850943575656617, 0.1430625370869573, 0.11627377921934384, 0.13472630502693106, 0.21183321831825094, 0.19175479563159964, 0.07627619487695916, 0.1914389665594381, 0.12011748835285896, 0.2044533590713708, 0.20128050670208872, 0.15976998515667268, 0.21967366605713845, 0.19163284444383105, 0.17145859403207803, 0.13138209667859965, 0.08972931879548275, 0.1278140701757539, 0.19576664116015952, 0.15722526962352162, 0.15379703129498679, 0.19796565412733402, 0.1498127900655576, 0.1686467351108487, 0.1322670627087091, 0.12474349373301796, 0.18994760520081222, 0.1405701997715547, 0.15480145363982634, 0.1488986767349036, 0.14178531169402037, 0.19850410498787435, 0.17217199617354928, 0.19966247804971962, 0.12798553082546724, 0.06727195481354024, 0.07057818432283652, 0.06599855165525288, 0.062276533612479944, 0.0725367285387941], \"xaxis\": \"x\", \"yaxis\": \"y\"}],\n",
       "                        {\"barmode\": \"relative\", \"legend\": {\"tracegroupgap\": 0}, \"margin\": {\"t\": 60}, \"template\": {\"data\": {\"bar\": [{\"error_x\": {\"color\": \"#2a3f5f\"}, \"error_y\": {\"color\": \"#2a3f5f\"}, \"marker\": {\"line\": {\"color\": \"#E5ECF6\", \"width\": 0.5}}, \"type\": \"bar\"}], \"barpolar\": [{\"marker\": {\"line\": {\"color\": \"#E5ECF6\", \"width\": 0.5}}, \"type\": \"barpolar\"}], \"carpet\": [{\"aaxis\": {\"endlinecolor\": \"#2a3f5f\", \"gridcolor\": \"white\", \"linecolor\": \"white\", \"minorgridcolor\": \"white\", \"startlinecolor\": \"#2a3f5f\"}, \"baxis\": {\"endlinecolor\": \"#2a3f5f\", \"gridcolor\": \"white\", \"linecolor\": \"white\", \"minorgridcolor\": \"white\", \"startlinecolor\": \"#2a3f5f\"}, \"type\": \"carpet\"}], \"choropleth\": [{\"colorbar\": {\"outlinewidth\": 0, \"ticks\": \"\"}, \"type\": \"choropleth\"}], \"contour\": [{\"colorbar\": {\"outlinewidth\": 0, \"ticks\": \"\"}, \"colorscale\": [[0.0, \"#0d0887\"], [0.1111111111111111, \"#46039f\"], [0.2222222222222222, \"#7201a8\"], [0.3333333333333333, \"#9c179e\"], [0.4444444444444444, \"#bd3786\"], [0.5555555555555556, \"#d8576b\"], [0.6666666666666666, \"#ed7953\"], [0.7777777777777778, \"#fb9f3a\"], [0.8888888888888888, \"#fdca26\"], [1.0, \"#f0f921\"]], \"type\": \"contour\"}], \"contourcarpet\": [{\"colorbar\": {\"outlinewidth\": 0, \"ticks\": \"\"}, \"type\": \"contourcarpet\"}], \"heatmap\": [{\"colorbar\": {\"outlinewidth\": 0, \"ticks\": \"\"}, \"colorscale\": [[0.0, \"#0d0887\"], [0.1111111111111111, \"#46039f\"], [0.2222222222222222, \"#7201a8\"], [0.3333333333333333, \"#9c179e\"], [0.4444444444444444, \"#bd3786\"], [0.5555555555555556, \"#d8576b\"], [0.6666666666666666, \"#ed7953\"], [0.7777777777777778, \"#fb9f3a\"], [0.8888888888888888, \"#fdca26\"], [1.0, \"#f0f921\"]], \"type\": \"heatmap\"}], \"heatmapgl\": [{\"colorbar\": {\"outlinewidth\": 0, \"ticks\": \"\"}, \"colorscale\": [[0.0, \"#0d0887\"], [0.1111111111111111, \"#46039f\"], [0.2222222222222222, \"#7201a8\"], [0.3333333333333333, \"#9c179e\"], [0.4444444444444444, \"#bd3786\"], [0.5555555555555556, \"#d8576b\"], [0.6666666666666666, \"#ed7953\"], [0.7777777777777778, \"#fb9f3a\"], [0.8888888888888888, \"#fdca26\"], [1.0, \"#f0f921\"]], \"type\": \"heatmapgl\"}], \"histogram\": [{\"marker\": {\"colorbar\": {\"outlinewidth\": 0, \"ticks\": \"\"}}, \"type\": \"histogram\"}], \"histogram2d\": [{\"colorbar\": {\"outlinewidth\": 0, \"ticks\": \"\"}, \"colorscale\": [[0.0, \"#0d0887\"], [0.1111111111111111, \"#46039f\"], [0.2222222222222222, \"#7201a8\"], [0.3333333333333333, \"#9c179e\"], [0.4444444444444444, \"#bd3786\"], [0.5555555555555556, \"#d8576b\"], [0.6666666666666666, \"#ed7953\"], [0.7777777777777778, \"#fb9f3a\"], [0.8888888888888888, \"#fdca26\"], [1.0, \"#f0f921\"]], \"type\": \"histogram2d\"}], \"histogram2dcontour\": [{\"colorbar\": {\"outlinewidth\": 0, \"ticks\": \"\"}, \"colorscale\": [[0.0, \"#0d0887\"], [0.1111111111111111, \"#46039f\"], [0.2222222222222222, \"#7201a8\"], [0.3333333333333333, \"#9c179e\"], [0.4444444444444444, \"#bd3786\"], [0.5555555555555556, \"#d8576b\"], [0.6666666666666666, \"#ed7953\"], [0.7777777777777778, \"#fb9f3a\"], [0.8888888888888888, \"#fdca26\"], [1.0, \"#f0f921\"]], \"type\": \"histogram2dcontour\"}], \"mesh3d\": [{\"colorbar\": {\"outlinewidth\": 0, \"ticks\": \"\"}, \"type\": \"mesh3d\"}], \"parcoords\": [{\"line\": {\"colorbar\": {\"outlinewidth\": 0, \"ticks\": \"\"}}, \"type\": \"parcoords\"}], \"pie\": [{\"automargin\": true, \"type\": \"pie\"}], \"scatter\": [{\"marker\": {\"colorbar\": {\"outlinewidth\": 0, \"ticks\": \"\"}}, \"type\": \"scatter\"}], \"scatter3d\": [{\"line\": {\"colorbar\": {\"outlinewidth\": 0, \"ticks\": \"\"}}, \"marker\": {\"colorbar\": {\"outlinewidth\": 0, \"ticks\": \"\"}}, \"type\": \"scatter3d\"}], \"scattercarpet\": [{\"marker\": {\"colorbar\": {\"outlinewidth\": 0, \"ticks\": \"\"}}, \"type\": \"scattercarpet\"}], \"scattergeo\": [{\"marker\": {\"colorbar\": {\"outlinewidth\": 0, \"ticks\": \"\"}}, \"type\": \"scattergeo\"}], \"scattergl\": [{\"marker\": {\"colorbar\": {\"outlinewidth\": 0, \"ticks\": \"\"}}, \"type\": \"scattergl\"}], \"scattermapbox\": [{\"marker\": {\"colorbar\": {\"outlinewidth\": 0, \"ticks\": \"\"}}, \"type\": \"scattermapbox\"}], \"scatterpolar\": [{\"marker\": {\"colorbar\": {\"outlinewidth\": 0, \"ticks\": \"\"}}, \"type\": \"scatterpolar\"}], \"scatterpolargl\": [{\"marker\": {\"colorbar\": {\"outlinewidth\": 0, \"ticks\": \"\"}}, \"type\": \"scatterpolargl\"}], \"scatterternary\": [{\"marker\": {\"colorbar\": {\"outlinewidth\": 0, \"ticks\": \"\"}}, \"type\": \"scatterternary\"}], \"surface\": [{\"colorbar\": {\"outlinewidth\": 0, \"ticks\": \"\"}, \"colorscale\": [[0.0, \"#0d0887\"], [0.1111111111111111, \"#46039f\"], [0.2222222222222222, \"#7201a8\"], [0.3333333333333333, \"#9c179e\"], [0.4444444444444444, \"#bd3786\"], [0.5555555555555556, \"#d8576b\"], [0.6666666666666666, \"#ed7953\"], [0.7777777777777778, \"#fb9f3a\"], [0.8888888888888888, \"#fdca26\"], [1.0, \"#f0f921\"]], \"type\": \"surface\"}], \"table\": [{\"cells\": {\"fill\": {\"color\": \"#EBF0F8\"}, \"line\": {\"color\": \"white\"}}, \"header\": {\"fill\": {\"color\": \"#C8D4E3\"}, \"line\": {\"color\": \"white\"}}, \"type\": \"table\"}]}, \"layout\": {\"annotationdefaults\": {\"arrowcolor\": \"#2a3f5f\", \"arrowhead\": 0, \"arrowwidth\": 1}, \"coloraxis\": {\"colorbar\": {\"outlinewidth\": 0, \"ticks\": \"\"}}, \"colorscale\": {\"diverging\": [[0, \"#8e0152\"], [0.1, \"#c51b7d\"], [0.2, \"#de77ae\"], [0.3, \"#f1b6da\"], [0.4, \"#fde0ef\"], [0.5, \"#f7f7f7\"], [0.6, \"#e6f5d0\"], [0.7, \"#b8e186\"], [0.8, \"#7fbc41\"], [0.9, \"#4d9221\"], [1, \"#276419\"]], \"sequential\": [[0.0, \"#0d0887\"], [0.1111111111111111, \"#46039f\"], [0.2222222222222222, \"#7201a8\"], [0.3333333333333333, \"#9c179e\"], [0.4444444444444444, \"#bd3786\"], [0.5555555555555556, \"#d8576b\"], [0.6666666666666666, \"#ed7953\"], [0.7777777777777778, \"#fb9f3a\"], [0.8888888888888888, \"#fdca26\"], [1.0, \"#f0f921\"]], \"sequentialminus\": [[0.0, \"#0d0887\"], [0.1111111111111111, \"#46039f\"], [0.2222222222222222, \"#7201a8\"], [0.3333333333333333, \"#9c179e\"], [0.4444444444444444, \"#bd3786\"], [0.5555555555555556, \"#d8576b\"], [0.6666666666666666, \"#ed7953\"], [0.7777777777777778, \"#fb9f3a\"], [0.8888888888888888, \"#fdca26\"], [1.0, \"#f0f921\"]]}, \"colorway\": [\"#636efa\", \"#EF553B\", \"#00cc96\", \"#ab63fa\", \"#FFA15A\", \"#19d3f3\", \"#FF6692\", \"#B6E880\", \"#FF97FF\", \"#FECB52\"], \"font\": {\"color\": \"#2a3f5f\"}, \"geo\": {\"bgcolor\": \"white\", \"lakecolor\": \"white\", \"landcolor\": \"#E5ECF6\", \"showlakes\": true, \"showland\": true, \"subunitcolor\": \"white\"}, \"hoverlabel\": {\"align\": \"left\"}, \"hovermode\": \"closest\", \"mapbox\": {\"style\": \"light\"}, \"paper_bgcolor\": \"white\", \"plot_bgcolor\": \"#E5ECF6\", \"polar\": {\"angularaxis\": {\"gridcolor\": \"white\", \"linecolor\": \"white\", \"ticks\": \"\"}, \"bgcolor\": \"#E5ECF6\", \"radialaxis\": {\"gridcolor\": \"white\", \"linecolor\": \"white\", \"ticks\": \"\"}}, \"scene\": {\"xaxis\": {\"backgroundcolor\": \"#E5ECF6\", \"gridcolor\": \"white\", \"gridwidth\": 2, \"linecolor\": \"white\", \"showbackground\": true, \"ticks\": \"\", \"zerolinecolor\": \"white\"}, \"yaxis\": {\"backgroundcolor\": \"#E5ECF6\", \"gridcolor\": \"white\", \"gridwidth\": 2, \"linecolor\": \"white\", \"showbackground\": true, \"ticks\": \"\", \"zerolinecolor\": \"white\"}, \"zaxis\": {\"backgroundcolor\": \"#E5ECF6\", \"gridcolor\": \"white\", \"gridwidth\": 2, \"linecolor\": \"white\", \"showbackground\": true, \"ticks\": \"\", \"zerolinecolor\": \"white\"}}, \"shapedefaults\": {\"line\": {\"color\": \"#2a3f5f\"}}, \"ternary\": {\"aaxis\": {\"gridcolor\": \"white\", \"linecolor\": \"white\", \"ticks\": \"\"}, \"baxis\": {\"gridcolor\": \"white\", \"linecolor\": \"white\", \"ticks\": \"\"}, \"bgcolor\": \"#E5ECF6\", \"caxis\": {\"gridcolor\": \"white\", \"linecolor\": \"white\", \"ticks\": \"\"}}, \"title\": {\"x\": 0.05}, \"xaxis\": {\"automargin\": true, \"gridcolor\": \"white\", \"linecolor\": \"white\", \"ticks\": \"\", \"title\": {\"standoff\": 15}, \"zerolinecolor\": \"white\", \"zerolinewidth\": 2}, \"yaxis\": {\"automargin\": true, \"gridcolor\": \"white\", \"linecolor\": \"white\", \"ticks\": \"\", \"title\": {\"standoff\": 15}, \"zerolinecolor\": \"white\", \"zerolinewidth\": 2}}}, \"xaxis\": {\"anchor\": \"y\", \"domain\": [0.0, 1.0], \"title\": {\"text\": \"0\"}}, \"yaxis\": {\"anchor\": \"x\", \"domain\": [0.0, 1.0], \"title\": {\"text\": \"count\"}}},\n",
       "                        {\"responsive\": true}\n",
       "                    ).then(function(){\n",
       "                            \n",
       "var gd = document.getElementById('836865b5-0ed1-497a-9892-8dfc06d50333');\n",
       "var x = new MutationObserver(function (mutations, observer) {{\n",
       "        var display = window.getComputedStyle(gd).display;\n",
       "        if (!display || display === 'none') {{\n",
       "            console.log([gd, 'removed!']);\n",
       "            Plotly.purge(gd);\n",
       "            observer.disconnect();\n",
       "        }}\n",
       "}});\n",
       "\n",
       "// Listen for the removal of the full notebook cells\n",
       "var notebookContainer = gd.closest('#notebook-container');\n",
       "if (notebookContainer) {{\n",
       "    x.observe(notebookContainer, {childList: true});\n",
       "}}\n",
       "\n",
       "// Listen for the clearing of the current output cell\n",
       "var outputEl = gd.closest('.output');\n",
       "if (outputEl) {{\n",
       "    x.observe(outputEl, {childList: true});\n",
       "}}\n",
       "\n",
       "                        })\n",
       "                };\n",
       "                });\n",
       "            </script>\n",
       "        </div>"
      ]
     },
     "metadata": {},
     "output_type": "display_data"
    }
   ],
   "source": [
    "px.histogram(pd.DataFrame(y_pred_test), x=0)"
   ]
  },
  {
   "cell_type": "code",
   "execution_count": null,
   "metadata": {},
   "outputs": [],
   "source": []
  }
 ],
 "metadata": {
  "kernelspec": {
   "display_name": "Python 3",
   "language": "python",
   "name": "python3"
  },
  "language_info": {
   "codemirror_mode": {
    "name": "ipython",
    "version": 3
   },
   "file_extension": ".py",
   "mimetype": "text/x-python",
   "name": "python",
   "nbconvert_exporter": "python",
   "pygments_lexer": "ipython3",
   "version": "3.8.0"
  }
 },
 "nbformat": 4,
 "nbformat_minor": 4
}
