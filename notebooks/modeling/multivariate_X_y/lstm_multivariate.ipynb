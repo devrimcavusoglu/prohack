{
 "cells": [
  {
   "cell_type": "code",
   "execution_count": 1,
   "metadata": {
    "ExecuteTime": {
     "end_time": "2020-06-12T08:58:35.754926Z",
     "start_time": "2020-06-12T08:58:34.559153Z"
    }
   },
   "outputs": [
    {
     "data": {
      "text/html": [
       "        <script type=\"text/javascript\">\n",
       "        window.PlotlyConfig = {MathJaxConfig: 'local'};\n",
       "        if (window.MathJax) {MathJax.Hub.Config({SVG: {font: \"STIX-Web\"}});}\n",
       "        if (typeof require !== 'undefined') {\n",
       "        require.undef(\"plotly\");\n",
       "        requirejs.config({\n",
       "            paths: {\n",
       "                'plotly': ['https://cdn.plot.ly/plotly-latest.min']\n",
       "            }\n",
       "        });\n",
       "        require(['plotly'], function(Plotly) {\n",
       "            window._Plotly = Plotly;\n",
       "        });\n",
       "        }\n",
       "        </script>\n",
       "        "
      ]
     },
     "metadata": {},
     "output_type": "display_data"
    }
   ],
   "source": [
    "# Scientific libraries\t\t              \n",
    "import numpy as np\t\t              \n",
    "import scipy as sp\t\t              \n",
    "import pandas as pd\t\t              \n",
    "import json\t\t              \n",
    "import missingno as msno\t\t              \n",
    "\n",
    "# Loading Plotting Modules\t\t              \n",
    "import matplotlib\t\t              \n",
    "import matplotlib.pyplot as plt\t\t              \n",
    "import seaborn as sns\t\t              \n",
    "%matplotlib inline\t\t              \n",
    "import chart_studio.plotly as py\t\t              \n",
    "import plotly.figure_factory as ff\t\t              \n",
    "import plotly.graph_objects as go\t\t              \n",
    "import plotly.express as px\t\t              \n",
    "from plotly.offline import download_plotlyjs, init_notebook_mode, plot, iplot\t\t              \n",
    "init_notebook_mode(connected=True)\t\t              \n",
    "\t\t              \n",
    "import os\t\t              \n",
    "import gc"
   ]
  },
  {
   "cell_type": "code",
   "execution_count": 2,
   "metadata": {
    "ExecuteTime": {
     "end_time": "2020-06-12T08:58:37.361848Z",
     "start_time": "2020-06-12T08:58:37.358845Z"
    }
   },
   "outputs": [],
   "source": [
    "# Setting Data Frame Options                      \n",
    "pd.set_option('display.max_rows', 40)                      \n",
    "pd.set_option('display.max_columns', 50)                      \n",
    "pd.set_option('display.width', 100)                      \n",
    "pd.set_option('display.max_colwidth', 100)                      \n",
    "\n",
    "# Setting Plot Configuration                      \n",
    "sns.set(rc={'figure.figsize':(19,11)}, style = 'white')"
   ]
  },
  {
   "cell_type": "code",
   "execution_count": 3,
   "metadata": {
    "ExecuteTime": {
     "end_time": "2020-06-12T08:58:37.637098Z",
     "start_time": "2020-06-12T08:58:37.559027Z"
    },
    "scrolled": true
   },
   "outputs": [
    {
     "name": "stdout",
     "output_type": "stream",
     "text": [
      "Data Frame: 3865 x 80\n"
     ]
    },
    {
     "data": {
      "text/html": [
       "<div>\n",
       "<style scoped>\n",
       "    .dataframe tbody tr th:only-of-type {\n",
       "        vertical-align: middle;\n",
       "    }\n",
       "\n",
       "    .dataframe tbody tr th {\n",
       "        vertical-align: top;\n",
       "    }\n",
       "\n",
       "    .dataframe thead th {\n",
       "        text-align: right;\n",
       "    }\n",
       "</style>\n",
       "<table border=\"1\" class=\"dataframe\">\n",
       "  <thead>\n",
       "    <tr style=\"text-align: right;\">\n",
       "      <th></th>\n",
       "      <th>galactic year</th>\n",
       "      <th>existence expectancy index</th>\n",
       "      <th>existence expectancy at birth</th>\n",
       "      <th>Gross income per capita</th>\n",
       "      <th>Income Index</th>\n",
       "      <th>Expected years of education (galactic years)</th>\n",
       "      <th>Mean years of education (galactic years)</th>\n",
       "      <th>Intergalactic Development Index (IDI)</th>\n",
       "      <th>Education Index</th>\n",
       "      <th>Intergalactic Development Index (IDI), Rank</th>\n",
       "      <th>Population using at least basic drinking-water services (%)</th>\n",
       "      <th>Population using at least basic sanitation services (%)</th>\n",
       "      <th>Gross capital formation (% of GGP)</th>\n",
       "      <th>Population, total (millions)</th>\n",
       "      <th>Population, urban (%)</th>\n",
       "      <th>Mortality rate, under-five (per 1,000 live births)</th>\n",
       "      <th>Mortality rate, infant (per 1,000 live births)</th>\n",
       "      <th>Old age dependency ratio (old age (65 and older) per 100 creatures (ages 15-64))</th>\n",
       "      <th>Population, ages 15–64 (millions)</th>\n",
       "      <th>Population, ages 65 and older (millions)</th>\n",
       "      <th>Life expectancy at birth, male (galactic years)</th>\n",
       "      <th>Life expectancy at birth, female (galactic years)</th>\n",
       "      <th>Population, under age 5 (millions)</th>\n",
       "      <th>Young age (0-14) dependency ratio (per 100 creatures ages 15-64)</th>\n",
       "      <th>Adolescent birth rate (births per 1,000 female creatures ages 15-19)</th>\n",
       "      <th>...</th>\n",
       "      <th>Estimated gross galactic income per capita, female</th>\n",
       "      <th>Rural population with access to electricity (%)</th>\n",
       "      <th>Domestic credit provided by financial sector (% of GGP)</th>\n",
       "      <th>Population with at least some secondary education, female (% ages 25 and older)</th>\n",
       "      <th>Population with at least some secondary education, male (% ages 25 and older)</th>\n",
       "      <th>Gross fixed capital formation (% of GGP)</th>\n",
       "      <th>Remittances, inflows (% of GGP)</th>\n",
       "      <th>Population with at least some secondary education (% ages 25 and older)</th>\n",
       "      <th>Intergalactic inbound tourists (thousands)</th>\n",
       "      <th>Gross enrolment ratio, primary (% of primary under-age population)</th>\n",
       "      <th>Respiratory disease incidence (per 100,000 people)</th>\n",
       "      <th>Interstellar phone subscriptions (per 100 people)</th>\n",
       "      <th>Interstellar Data Net users, total (% of population)</th>\n",
       "      <th>Current health expenditure (% of GGP)</th>\n",
       "      <th>Intergalactic Development Index (IDI), female</th>\n",
       "      <th>Intergalactic Development Index (IDI), male</th>\n",
       "      <th>Gender Development Index (GDI)</th>\n",
       "      <th>Intergalactic Development Index (IDI), female, Rank</th>\n",
       "      <th>Intergalactic Development Index (IDI), male, Rank</th>\n",
       "      <th>Adjusted net savings</th>\n",
       "      <th>Gender Inequality Index (GII)</th>\n",
       "      <th>y</th>\n",
       "      <th>galaxy</th>\n",
       "      <th>Private galaxy capital flows (% of GGP)</th>\n",
       "      <th>Creature Immunodeficiency Disease prevalence, adult (% ages 15-49), total</th>\n",
       "    </tr>\n",
       "  </thead>\n",
       "  <tbody>\n",
       "    <tr>\n",
       "      <th>0</th>\n",
       "      <td>990025.0</td>\n",
       "      <td>0.759989</td>\n",
       "      <td>72.020628</td>\n",
       "      <td>18445.323465</td>\n",
       "      <td>0.647025</td>\n",
       "      <td>13.819287</td>\n",
       "      <td>10.275156</td>\n",
       "      <td>0.700193</td>\n",
       "      <td>0.744757</td>\n",
       "      <td>172.455086</td>\n",
       "      <td>69.788964</td>\n",
       "      <td>56.534984</td>\n",
       "      <td>71.977811</td>\n",
       "      <td>779.140792</td>\n",
       "      <td>53.717993</td>\n",
       "      <td>136.148520</td>\n",
       "      <td>94.372591</td>\n",
       "      <td>13.486308</td>\n",
       "      <td>486.311516</td>\n",
       "      <td>46.744351</td>\n",
       "      <td>68.373831</td>\n",
       "      <td>70.009342</td>\n",
       "      <td>13.364702</td>\n",
       "      <td>97.579821</td>\n",
       "      <td>94.595420</td>\n",
       "      <td>...</td>\n",
       "      <td>NaN</td>\n",
       "      <td>101.154818</td>\n",
       "      <td>NaN</td>\n",
       "      <td>NaN</td>\n",
       "      <td>NaN</td>\n",
       "      <td>75.084941</td>\n",
       "      <td>16.992398</td>\n",
       "      <td>NaN</td>\n",
       "      <td>83391.283213</td>\n",
       "      <td>127.531343</td>\n",
       "      <td>585.233964</td>\n",
       "      <td>62.354315</td>\n",
       "      <td>31.610527</td>\n",
       "      <td>11.813392</td>\n",
       "      <td>NaN</td>\n",
       "      <td>NaN</td>\n",
       "      <td>NaN</td>\n",
       "      <td>NaN</td>\n",
       "      <td>NaN</td>\n",
       "      <td>NaN</td>\n",
       "      <td>NaN</td>\n",
       "      <td>0.049214</td>\n",
       "      <td>Andromeda Galaxy (M31)</td>\n",
       "      <td>55.482526</td>\n",
       "      <td>NaN</td>\n",
       "    </tr>\n",
       "    <tr>\n",
       "      <th>1</th>\n",
       "      <td>990025.0</td>\n",
       "      <td>0.588206</td>\n",
       "      <td>62.473456</td>\n",
       "      <td>12072.373320</td>\n",
       "      <td>0.614855</td>\n",
       "      <td>8.368089</td>\n",
       "      <td>5.066478</td>\n",
       "      <td>0.578664</td>\n",
       "      <td>0.548011</td>\n",
       "      <td>166.597596</td>\n",
       "      <td>65.947524</td>\n",
       "      <td>62.229056</td>\n",
       "      <td>34.832775</td>\n",
       "      <td>883.596591</td>\n",
       "      <td>41.490223</td>\n",
       "      <td>202.512345</td>\n",
       "      <td>138.465984</td>\n",
       "      <td>17.670232</td>\n",
       "      <td>307.683155</td>\n",
       "      <td>87.014838</td>\n",
       "      <td>64.812267</td>\n",
       "      <td>63.080870</td>\n",
       "      <td>49.771269</td>\n",
       "      <td>109.152114</td>\n",
       "      <td>167.570379</td>\n",
       "      <td>...</td>\n",
       "      <td>13010.736695</td>\n",
       "      <td>69.845859</td>\n",
       "      <td>76.245703</td>\n",
       "      <td>28.236492</td>\n",
       "      <td>63.468500</td>\n",
       "      <td>32.250699</td>\n",
       "      <td>1.544445</td>\n",
       "      <td>55.120787</td>\n",
       "      <td>114924.778620</td>\n",
       "      <td>111.219200</td>\n",
       "      <td>487.854193</td>\n",
       "      <td>74.369426</td>\n",
       "      <td>32.855526</td>\n",
       "      <td>6.259720</td>\n",
       "      <td>0.641545</td>\n",
       "      <td>0.664679</td>\n",
       "      <td>0.949618</td>\n",
       "      <td>143.210761</td>\n",
       "      <td>161.265976</td>\n",
       "      <td>12.692108</td>\n",
       "      <td>0.749825</td>\n",
       "      <td>0.053204</td>\n",
       "      <td>Andromeda I</td>\n",
       "      <td>25.466775</td>\n",
       "      <td>2.940205</td>\n",
       "    </tr>\n",
       "    <tr>\n",
       "      <th>2</th>\n",
       "      <td>990025.0</td>\n",
       "      <td>1.063381</td>\n",
       "      <td>93.576404</td>\n",
       "      <td>34891.830736</td>\n",
       "      <td>0.945705</td>\n",
       "      <td>15.452324</td>\n",
       "      <td>13.267036</td>\n",
       "      <td>1.013674</td>\n",
       "      <td>0.773926</td>\n",
       "      <td>63.933456</td>\n",
       "      <td>116.707970</td>\n",
       "      <td>122.187118</td>\n",
       "      <td>38.249852</td>\n",
       "      <td>1037.163377</td>\n",
       "      <td>92.323704</td>\n",
       "      <td>46.060790</td>\n",
       "      <td>28.403142</td>\n",
       "      <td>27.020113</td>\n",
       "      <td>385.343237</td>\n",
       "      <td>69.424835</td>\n",
       "      <td>90.226902</td>\n",
       "      <td>85.775754</td>\n",
       "      <td>45.632234</td>\n",
       "      <td>63.962368</td>\n",
       "      <td>68.342047</td>\n",
       "      <td>...</td>\n",
       "      <td>28592.983034</td>\n",
       "      <td>141.893726</td>\n",
       "      <td>187.765665</td>\n",
       "      <td>61.535244</td>\n",
       "      <td>87.389620</td>\n",
       "      <td>35.425402</td>\n",
       "      <td>11.236975</td>\n",
       "      <td>67.529357</td>\n",
       "      <td>136702.754440</td>\n",
       "      <td>110.946064</td>\n",
       "      <td>178.542375</td>\n",
       "      <td>153.759820</td>\n",
       "      <td>71.094685</td>\n",
       "      <td>11.243253</td>\n",
       "      <td>0.987571</td>\n",
       "      <td>1.002983</td>\n",
       "      <td>1.039653</td>\n",
       "      <td>75.673764</td>\n",
       "      <td>64.725422</td>\n",
       "      <td>21.427986</td>\n",
       "      <td>0.415242</td>\n",
       "      <td>0.167935</td>\n",
       "      <td>Andromeda II</td>\n",
       "      <td>41.716404</td>\n",
       "      <td>4.340754</td>\n",
       "    </tr>\n",
       "    <tr>\n",
       "      <th>3</th>\n",
       "      <td>990025.0</td>\n",
       "      <td>0.887711</td>\n",
       "      <td>72.296275</td>\n",
       "      <td>44701.171827</td>\n",
       "      <td>1.017183</td>\n",
       "      <td>13.418461</td>\n",
       "      <td>12.045101</td>\n",
       "      <td>0.851110</td>\n",
       "      <td>0.854048</td>\n",
       "      <td>104.358165</td>\n",
       "      <td>117.016403</td>\n",
       "      <td>135.064202</td>\n",
       "      <td>34.279137</td>\n",
       "      <td>876.791765</td>\n",
       "      <td>83.156931</td>\n",
       "      <td>58.667575</td>\n",
       "      <td>34.303606</td>\n",
       "      <td>26.860760</td>\n",
       "      <td>307.481700</td>\n",
       "      <td>70.093282</td>\n",
       "      <td>75.687114</td>\n",
       "      <td>86.895446</td>\n",
       "      <td>49.167477</td>\n",
       "      <td>55.694611</td>\n",
       "      <td>112.444875</td>\n",
       "      <td>...</td>\n",
       "      <td>24036.231103</td>\n",
       "      <td>132.538880</td>\n",
       "      <td>114.955851</td>\n",
       "      <td>53.071124</td>\n",
       "      <td>83.295496</td>\n",
       "      <td>29.170003</td>\n",
       "      <td>10.046534</td>\n",
       "      <td>86.083758</td>\n",
       "      <td>94343.188156</td>\n",
       "      <td>95.197475</td>\n",
       "      <td>218.284971</td>\n",
       "      <td>130.235392</td>\n",
       "      <td>78.577601</td>\n",
       "      <td>10.009920</td>\n",
       "      <td>0.965092</td>\n",
       "      <td>0.958244</td>\n",
       "      <td>1.075051</td>\n",
       "      <td>91.209668</td>\n",
       "      <td>82.098925</td>\n",
       "      <td>16.371647</td>\n",
       "      <td>0.510536</td>\n",
       "      <td>0.110758</td>\n",
       "      <td>Andromeda III</td>\n",
       "      <td>20.958750</td>\n",
       "      <td>3.254305</td>\n",
       "    </tr>\n",
       "    <tr>\n",
       "      <th>4</th>\n",
       "      <td>990025.0</td>\n",
       "      <td>1.065573</td>\n",
       "      <td>84.289074</td>\n",
       "      <td>52420.899858</td>\n",
       "      <td>1.005840</td>\n",
       "      <td>16.238035</td>\n",
       "      <td>11.407378</td>\n",
       "      <td>0.864309</td>\n",
       "      <td>0.706695</td>\n",
       "      <td>55.235848</td>\n",
       "      <td>117.967371</td>\n",
       "      <td>132.443721</td>\n",
       "      <td>31.020051</td>\n",
       "      <td>1041.230433</td>\n",
       "      <td>96.822014</td>\n",
       "      <td>55.327755</td>\n",
       "      <td>40.442483</td>\n",
       "      <td>26.002740</td>\n",
       "      <td>437.983686</td>\n",
       "      <td>51.769022</td>\n",
       "      <td>78.589342</td>\n",
       "      <td>87.265341</td>\n",
       "      <td>105.854101</td>\n",
       "      <td>46.280471</td>\n",
       "      <td>92.723970</td>\n",
       "      <td>...</td>\n",
       "      <td>36193.877968</td>\n",
       "      <td>153.755894</td>\n",
       "      <td>197.836442</td>\n",
       "      <td>76.417094</td>\n",
       "      <td>81.587402</td>\n",
       "      <td>28.794996</td>\n",
       "      <td>9.109860</td>\n",
       "      <td>73.670355</td>\n",
       "      <td>147270.101607</td>\n",
       "      <td>105.164411</td>\n",
       "      <td>206.324528</td>\n",
       "      <td>169.542658</td>\n",
       "      <td>75.529062</td>\n",
       "      <td>10.523428</td>\n",
       "      <td>1.020507</td>\n",
       "      <td>1.005475</td>\n",
       "      <td>1.041102</td>\n",
       "      <td>73.675667</td>\n",
       "      <td>75.177601</td>\n",
       "      <td>22.295996</td>\n",
       "      <td>0.369113</td>\n",
       "      <td>0.151314</td>\n",
       "      <td>Andromeda IX</td>\n",
       "      <td>5.295678</td>\n",
       "      <td>3.603878</td>\n",
       "    </tr>\n",
       "  </tbody>\n",
       "</table>\n",
       "<p>5 rows × 80 columns</p>\n",
       "</div>"
      ],
      "text/plain": [
       "   galactic year  existence expectancy index  existence expectancy at birth  \\\n",
       "0       990025.0                    0.759989                      72.020628   \n",
       "1       990025.0                    0.588206                      62.473456   \n",
       "2       990025.0                    1.063381                      93.576404   \n",
       "3       990025.0                    0.887711                      72.296275   \n",
       "4       990025.0                    1.065573                      84.289074   \n",
       "\n",
       "   Gross income per capita  Income Index  Expected years of education (galactic years)  \\\n",
       "0             18445.323465      0.647025                                     13.819287   \n",
       "1             12072.373320      0.614855                                      8.368089   \n",
       "2             34891.830736      0.945705                                     15.452324   \n",
       "3             44701.171827      1.017183                                     13.418461   \n",
       "4             52420.899858      1.005840                                     16.238035   \n",
       "\n",
       "   Mean years of education (galactic years)  Intergalactic Development Index (IDI)  \\\n",
       "0                                 10.275156                               0.700193   \n",
       "1                                  5.066478                               0.578664   \n",
       "2                                 13.267036                               1.013674   \n",
       "3                                 12.045101                               0.851110   \n",
       "4                                 11.407378                               0.864309   \n",
       "\n",
       "   Education Index  Intergalactic Development Index (IDI), Rank  \\\n",
       "0         0.744757                                   172.455086   \n",
       "1         0.548011                                   166.597596   \n",
       "2         0.773926                                    63.933456   \n",
       "3         0.854048                                   104.358165   \n",
       "4         0.706695                                    55.235848   \n",
       "\n",
       "   Population using at least basic drinking-water services (%)  \\\n",
       "0                                                    69.788964   \n",
       "1                                                    65.947524   \n",
       "2                                                   116.707970   \n",
       "3                                                   117.016403   \n",
       "4                                                   117.967371   \n",
       "\n",
       "   Population using at least basic sanitation services (%)  Gross capital formation (% of GGP)  \\\n",
       "0                                                56.534984                           71.977811   \n",
       "1                                                62.229056                           34.832775   \n",
       "2                                               122.187118                           38.249852   \n",
       "3                                               135.064202                           34.279137   \n",
       "4                                               132.443721                           31.020051   \n",
       "\n",
       "   Population, total (millions)  Population, urban (%)  \\\n",
       "0                    779.140792              53.717993   \n",
       "1                    883.596591              41.490223   \n",
       "2                   1037.163377              92.323704   \n",
       "3                    876.791765              83.156931   \n",
       "4                   1041.230433              96.822014   \n",
       "\n",
       "   Mortality rate, under-five (per 1,000 live births)  \\\n",
       "0                                          136.148520   \n",
       "1                                          202.512345   \n",
       "2                                           46.060790   \n",
       "3                                           58.667575   \n",
       "4                                           55.327755   \n",
       "\n",
       "   Mortality rate, infant (per 1,000 live births)  \\\n",
       "0                                       94.372591   \n",
       "1                                      138.465984   \n",
       "2                                       28.403142   \n",
       "3                                       34.303606   \n",
       "4                                       40.442483   \n",
       "\n",
       "   Old age dependency ratio (old age (65 and older) per 100 creatures (ages 15-64))  \\\n",
       "0                                                                         13.486308   \n",
       "1                                                                         17.670232   \n",
       "2                                                                         27.020113   \n",
       "3                                                                         26.860760   \n",
       "4                                                                         26.002740   \n",
       "\n",
       "   Population, ages 15–64 (millions)  Population, ages 65 and older (millions)  \\\n",
       "0                         486.311516                                 46.744351   \n",
       "1                         307.683155                                 87.014838   \n",
       "2                         385.343237                                 69.424835   \n",
       "3                         307.481700                                 70.093282   \n",
       "4                         437.983686                                 51.769022   \n",
       "\n",
       "   Life expectancy at birth, male (galactic years)  \\\n",
       "0                                        68.373831   \n",
       "1                                        64.812267   \n",
       "2                                        90.226902   \n",
       "3                                        75.687114   \n",
       "4                                        78.589342   \n",
       "\n",
       "   Life expectancy at birth, female (galactic years)  Population, under age 5 (millions)  \\\n",
       "0                                          70.009342                           13.364702   \n",
       "1                                          63.080870                           49.771269   \n",
       "2                                          85.775754                           45.632234   \n",
       "3                                          86.895446                           49.167477   \n",
       "4                                          87.265341                          105.854101   \n",
       "\n",
       "   Young age (0-14) dependency ratio (per 100 creatures ages 15-64)  \\\n",
       "0                                                         97.579821   \n",
       "1                                                        109.152114   \n",
       "2                                                         63.962368   \n",
       "3                                                         55.694611   \n",
       "4                                                         46.280471   \n",
       "\n",
       "   Adolescent birth rate (births per 1,000 female creatures ages 15-19)  ...  \\\n",
       "0                                                             94.595420  ...   \n",
       "1                                                            167.570379  ...   \n",
       "2                                                             68.342047  ...   \n",
       "3                                                            112.444875  ...   \n",
       "4                                                             92.723970  ...   \n",
       "\n",
       "   Estimated gross galactic income per capita, female  \\\n",
       "0                                                 NaN   \n",
       "1                                        13010.736695   \n",
       "2                                        28592.983034   \n",
       "3                                        24036.231103   \n",
       "4                                        36193.877968   \n",
       "\n",
       "   Rural population with access to electricity (%)  \\\n",
       "0                                       101.154818   \n",
       "1                                        69.845859   \n",
       "2                                       141.893726   \n",
       "3                                       132.538880   \n",
       "4                                       153.755894   \n",
       "\n",
       "   Domestic credit provided by financial sector (% of GGP)  \\\n",
       "0                                                      NaN   \n",
       "1                                                76.245703   \n",
       "2                                               187.765665   \n",
       "3                                               114.955851   \n",
       "4                                               197.836442   \n",
       "\n",
       "   Population with at least some secondary education, female (% ages 25 and older)  \\\n",
       "0                                                                              NaN   \n",
       "1                                                                        28.236492   \n",
       "2                                                                        61.535244   \n",
       "3                                                                        53.071124   \n",
       "4                                                                        76.417094   \n",
       "\n",
       "   Population with at least some secondary education, male (% ages 25 and older)  \\\n",
       "0                                                                            NaN   \n",
       "1                                                                      63.468500   \n",
       "2                                                                      87.389620   \n",
       "3                                                                      83.295496   \n",
       "4                                                                      81.587402   \n",
       "\n",
       "   Gross fixed capital formation (% of GGP)  Remittances, inflows (% of GGP)  \\\n",
       "0                                 75.084941                        16.992398   \n",
       "1                                 32.250699                         1.544445   \n",
       "2                                 35.425402                        11.236975   \n",
       "3                                 29.170003                        10.046534   \n",
       "4                                 28.794996                         9.109860   \n",
       "\n",
       "   Population with at least some secondary education (% ages 25 and older)  \\\n",
       "0                                                                      NaN   \n",
       "1                                                                55.120787   \n",
       "2                                                                67.529357   \n",
       "3                                                                86.083758   \n",
       "4                                                                73.670355   \n",
       "\n",
       "   Intergalactic inbound tourists (thousands)  \\\n",
       "0                                83391.283213   \n",
       "1                               114924.778620   \n",
       "2                               136702.754440   \n",
       "3                                94343.188156   \n",
       "4                               147270.101607   \n",
       "\n",
       "   Gross enrolment ratio, primary (% of primary under-age population)  \\\n",
       "0                                                          127.531343   \n",
       "1                                                          111.219200   \n",
       "2                                                          110.946064   \n",
       "3                                                           95.197475   \n",
       "4                                                          105.164411   \n",
       "\n",
       "   Respiratory disease incidence (per 100,000 people)  \\\n",
       "0                                          585.233964   \n",
       "1                                          487.854193   \n",
       "2                                          178.542375   \n",
       "3                                          218.284971   \n",
       "4                                          206.324528   \n",
       "\n",
       "   Interstellar phone subscriptions (per 100 people)  \\\n",
       "0                                          62.354315   \n",
       "1                                          74.369426   \n",
       "2                                         153.759820   \n",
       "3                                         130.235392   \n",
       "4                                         169.542658   \n",
       "\n",
       "   Interstellar Data Net users, total (% of population)  Current health expenditure (% of GGP)  \\\n",
       "0                                             31.610527                              11.813392   \n",
       "1                                             32.855526                               6.259720   \n",
       "2                                             71.094685                              11.243253   \n",
       "3                                             78.577601                              10.009920   \n",
       "4                                             75.529062                              10.523428   \n",
       "\n",
       "   Intergalactic Development Index (IDI), female  Intergalactic Development Index (IDI), male  \\\n",
       "0                                            NaN                                          NaN   \n",
       "1                                       0.641545                                     0.664679   \n",
       "2                                       0.987571                                     1.002983   \n",
       "3                                       0.965092                                     0.958244   \n",
       "4                                       1.020507                                     1.005475   \n",
       "\n",
       "   Gender Development Index (GDI)  Intergalactic Development Index (IDI), female, Rank  \\\n",
       "0                             NaN                                                  NaN   \n",
       "1                        0.949618                                           143.210761   \n",
       "2                        1.039653                                            75.673764   \n",
       "3                        1.075051                                            91.209668   \n",
       "4                        1.041102                                            73.675667   \n",
       "\n",
       "   Intergalactic Development Index (IDI), male, Rank  Adjusted net savings   \\\n",
       "0                                                NaN                    NaN   \n",
       "1                                         161.265976              12.692108   \n",
       "2                                          64.725422              21.427986   \n",
       "3                                          82.098925              16.371647   \n",
       "4                                          75.177601              22.295996   \n",
       "\n",
       "   Gender Inequality Index (GII)         y                  galaxy  \\\n",
       "0                            NaN  0.049214  Andromeda Galaxy (M31)   \n",
       "1                       0.749825  0.053204             Andromeda I   \n",
       "2                       0.415242  0.167935            Andromeda II   \n",
       "3                       0.510536  0.110758           Andromeda III   \n",
       "4                       0.369113  0.151314            Andromeda IX   \n",
       "\n",
       "   Private galaxy capital flows (% of GGP)  \\\n",
       "0                                55.482526   \n",
       "1                                25.466775   \n",
       "2                                41.716404   \n",
       "3                                20.958750   \n",
       "4                                 5.295678   \n",
       "\n",
       "   Creature Immunodeficiency Disease prevalence, adult (% ages 15-49), total  \n",
       "0                                                                        NaN  \n",
       "1                                                                   2.940205  \n",
       "2                                                                   4.340754  \n",
       "3                                                                   3.254305  \n",
       "4                                                                   3.603878  \n",
       "\n",
       "[5 rows x 80 columns]"
      ]
     },
     "execution_count": 3,
     "metadata": {},
     "output_type": "execute_result"
    }
   ],
   "source": [
    "train = pd.read_csv('../../eda/outputs/imputed_train_mf.csv')                \n",
    "m, n = train.shape                \n",
    "print('Data Frame: {} x {}'.format(m,n))                \n",
    "train.head()"
   ]
  },
  {
   "cell_type": "code",
   "execution_count": 4,
   "metadata": {
    "ExecuteTime": {
     "end_time": "2020-06-12T08:58:37.792239Z",
     "start_time": "2020-06-12T08:58:37.751202Z"
    },
    "scrolled": false
   },
   "outputs": [
    {
     "name": "stdout",
     "output_type": "stream",
     "text": [
      "Data Frame: 890 x 79\n"
     ]
    },
    {
     "data": {
      "text/html": [
       "<div>\n",
       "<style scoped>\n",
       "    .dataframe tbody tr th:only-of-type {\n",
       "        vertical-align: middle;\n",
       "    }\n",
       "\n",
       "    .dataframe tbody tr th {\n",
       "        vertical-align: top;\n",
       "    }\n",
       "\n",
       "    .dataframe thead th {\n",
       "        text-align: right;\n",
       "    }\n",
       "</style>\n",
       "<table border=\"1\" class=\"dataframe\">\n",
       "  <thead>\n",
       "    <tr style=\"text-align: right;\">\n",
       "      <th></th>\n",
       "      <th>galactic year</th>\n",
       "      <th>existence expectancy index</th>\n",
       "      <th>existence expectancy at birth</th>\n",
       "      <th>Gross income per capita</th>\n",
       "      <th>Income Index</th>\n",
       "      <th>Expected years of education (galactic years)</th>\n",
       "      <th>Mean years of education (galactic years)</th>\n",
       "      <th>Intergalactic Development Index (IDI)</th>\n",
       "      <th>Education Index</th>\n",
       "      <th>Intergalactic Development Index (IDI), Rank</th>\n",
       "      <th>Population using at least basic drinking-water services (%)</th>\n",
       "      <th>Population using at least basic sanitation services (%)</th>\n",
       "      <th>Gross capital formation (% of GGP)</th>\n",
       "      <th>Population, total (millions)</th>\n",
       "      <th>Population, urban (%)</th>\n",
       "      <th>Mortality rate, under-five (per 1,000 live births)</th>\n",
       "      <th>Mortality rate, infant (per 1,000 live births)</th>\n",
       "      <th>Old age dependency ratio (old age (65 and older) per 100 creatures (ages 15-64))</th>\n",
       "      <th>Population, ages 15–64 (millions)</th>\n",
       "      <th>Population, ages 65 and older (millions)</th>\n",
       "      <th>Life expectancy at birth, male (galactic years)</th>\n",
       "      <th>Life expectancy at birth, female (galactic years)</th>\n",
       "      <th>Population, under age 5 (millions)</th>\n",
       "      <th>Young age (0-14) dependency ratio (per 100 creatures ages 15-64)</th>\n",
       "      <th>Adolescent birth rate (births per 1,000 female creatures ages 15-19)</th>\n",
       "      <th>...</th>\n",
       "      <th>Estimated gross galactic income per capita, male</th>\n",
       "      <th>Estimated gross galactic income per capita, female</th>\n",
       "      <th>Rural population with access to electricity (%)</th>\n",
       "      <th>Domestic credit provided by financial sector (% of GGP)</th>\n",
       "      <th>Population with at least some secondary education, female (% ages 25 and older)</th>\n",
       "      <th>Population with at least some secondary education, male (% ages 25 and older)</th>\n",
       "      <th>Gross fixed capital formation (% of GGP)</th>\n",
       "      <th>Remittances, inflows (% of GGP)</th>\n",
       "      <th>Population with at least some secondary education (% ages 25 and older)</th>\n",
       "      <th>Intergalactic inbound tourists (thousands)</th>\n",
       "      <th>Gross enrolment ratio, primary (% of primary under-age population)</th>\n",
       "      <th>Respiratory disease incidence (per 100,000 people)</th>\n",
       "      <th>Interstellar phone subscriptions (per 100 people)</th>\n",
       "      <th>Interstellar Data Net users, total (% of population)</th>\n",
       "      <th>Current health expenditure (% of GGP)</th>\n",
       "      <th>Intergalactic Development Index (IDI), female</th>\n",
       "      <th>Intergalactic Development Index (IDI), male</th>\n",
       "      <th>Gender Development Index (GDI)</th>\n",
       "      <th>Intergalactic Development Index (IDI), female, Rank</th>\n",
       "      <th>Intergalactic Development Index (IDI), male, Rank</th>\n",
       "      <th>Adjusted net savings</th>\n",
       "      <th>Gender Inequality Index (GII)</th>\n",
       "      <th>galaxy</th>\n",
       "      <th>Private galaxy capital flows (% of GGP)</th>\n",
       "      <th>Creature Immunodeficiency Disease prevalence, adult (% ages 15-49), total</th>\n",
       "    </tr>\n",
       "  </thead>\n",
       "  <tbody>\n",
       "    <tr>\n",
       "      <th>0</th>\n",
       "      <td>1007012.0</td>\n",
       "      <td>0.868360</td>\n",
       "      <td>72.982208</td>\n",
       "      <td>19198.499040</td>\n",
       "      <td>0.700413</td>\n",
       "      <td>16.145285</td>\n",
       "      <td>11.113581</td>\n",
       "      <td>0.719579</td>\n",
       "      <td>0.825915</td>\n",
       "      <td>181.824530</td>\n",
       "      <td>76.357958</td>\n",
       "      <td>71.796137</td>\n",
       "      <td>71.977811</td>\n",
       "      <td>819.245976</td>\n",
       "      <td>72.269765</td>\n",
       "      <td>113.394831</td>\n",
       "      <td>75.983899</td>\n",
       "      <td>12.851245</td>\n",
       "      <td>426.589757</td>\n",
       "      <td>59.793499</td>\n",
       "      <td>73.206969</td>\n",
       "      <td>79.051548</td>\n",
       "      <td>80.144699</td>\n",
       "      <td>87.255770</td>\n",
       "      <td>77.624057</td>\n",
       "      <td>...</td>\n",
       "      <td>NaN</td>\n",
       "      <td>NaN</td>\n",
       "      <td>102.306960</td>\n",
       "      <td>NaN</td>\n",
       "      <td>NaN</td>\n",
       "      <td>NaN</td>\n",
       "      <td>75.084941</td>\n",
       "      <td>16.383957</td>\n",
       "      <td>NaN</td>\n",
       "      <td>92046.182973</td>\n",
       "      <td>129.047095</td>\n",
       "      <td>578.672958</td>\n",
       "      <td>70.150003</td>\n",
       "      <td>39.261197</td>\n",
       "      <td>11.067889</td>\n",
       "      <td>NaN</td>\n",
       "      <td>NaN</td>\n",
       "      <td>NaN</td>\n",
       "      <td>NaN</td>\n",
       "      <td>NaN</td>\n",
       "      <td>NaN</td>\n",
       "      <td>NaN</td>\n",
       "      <td>Andromeda Galaxy (M31)</td>\n",
       "      <td>32.163414</td>\n",
       "      <td>NaN</td>\n",
       "    </tr>\n",
       "    <tr>\n",
       "      <th>1</th>\n",
       "      <td>1007012.0</td>\n",
       "      <td>0.772696</td>\n",
       "      <td>73.590698</td>\n",
       "      <td>18345.350181</td>\n",
       "      <td>0.684405</td>\n",
       "      <td>12.167872</td>\n",
       "      <td>7.083681</td>\n",
       "      <td>0.650826</td>\n",
       "      <td>0.505962</td>\n",
       "      <td>193.187549</td>\n",
       "      <td>79.263683</td>\n",
       "      <td>71.723281</td>\n",
       "      <td>37.085742</td>\n",
       "      <td>849.398477</td>\n",
       "      <td>53.465398</td>\n",
       "      <td>139.090298</td>\n",
       "      <td>88.145153</td>\n",
       "      <td>14.152255</td>\n",
       "      <td>496.779346</td>\n",
       "      <td>57.583581</td>\n",
       "      <td>68.021732</td>\n",
       "      <td>74.795340</td>\n",
       "      <td>73.158109</td>\n",
       "      <td>89.776748</td>\n",
       "      <td>124.050371</td>\n",
       "      <td>...</td>\n",
       "      <td>19268.820517</td>\n",
       "      <td>12931.719986</td>\n",
       "      <td>99.189863</td>\n",
       "      <td>77.742674</td>\n",
       "      <td>54.263456</td>\n",
       "      <td>69.496155</td>\n",
       "      <td>38.331603</td>\n",
       "      <td>9.435519</td>\n",
       "      <td>62.266114</td>\n",
       "      <td>92843.780990</td>\n",
       "      <td>131.408452</td>\n",
       "      <td>429.753270</td>\n",
       "      <td>104.910863</td>\n",
       "      <td>34.341097</td>\n",
       "      <td>6.029590</td>\n",
       "      <td>0.673039</td>\n",
       "      <td>0.714560</td>\n",
       "      <td>0.976994</td>\n",
       "      <td>147.451303</td>\n",
       "      <td>164.334975</td>\n",
       "      <td>6.673241</td>\n",
       "      <td>0.687616</td>\n",
       "      <td>Andromeda I</td>\n",
       "      <td>30.668839</td>\n",
       "      <td>5.784397</td>\n",
       "    </tr>\n",
       "    <tr>\n",
       "      <th>2</th>\n",
       "      <td>1007012.0</td>\n",
       "      <td>0.941941</td>\n",
       "      <td>81.973436</td>\n",
       "      <td>26708.317145</td>\n",
       "      <td>0.925563</td>\n",
       "      <td>18.175905</td>\n",
       "      <td>13.909442</td>\n",
       "      <td>0.960263</td>\n",
       "      <td>0.937407</td>\n",
       "      <td>74.678611</td>\n",
       "      <td>122.988241</td>\n",
       "      <td>136.685519</td>\n",
       "      <td>34.865297</td>\n",
       "      <td>712.914221</td>\n",
       "      <td>93.116852</td>\n",
       "      <td>59.810528</td>\n",
       "      <td>34.960991</td>\n",
       "      <td>31.242181</td>\n",
       "      <td>435.976780</td>\n",
       "      <td>54.971127</td>\n",
       "      <td>78.814709</td>\n",
       "      <td>87.318457</td>\n",
       "      <td>54.861556</td>\n",
       "      <td>51.049333</td>\n",
       "      <td>72.544281</td>\n",
       "      <td>...</td>\n",
       "      <td>46130.422627</td>\n",
       "      <td>29804.266408</td>\n",
       "      <td>133.499902</td>\n",
       "      <td>112.410524</td>\n",
       "      <td>110.028144</td>\n",
       "      <td>112.483100</td>\n",
       "      <td>29.294321</td>\n",
       "      <td>9.716045</td>\n",
       "      <td>124.671861</td>\n",
       "      <td>98471.178149</td>\n",
       "      <td>117.291927</td>\n",
       "      <td>216.424101</td>\n",
       "      <td>152.699066</td>\n",
       "      <td>89.310138</td>\n",
       "      <td>10.114774</td>\n",
       "      <td>0.975232</td>\n",
       "      <td>0.949269</td>\n",
       "      <td>1.078944</td>\n",
       "      <td>91.321283</td>\n",
       "      <td>80.725039</td>\n",
       "      <td>16.251653</td>\n",
       "      <td>0.467704</td>\n",
       "      <td>Andromeda III</td>\n",
       "      <td>25.648367</td>\n",
       "      <td>3.641324</td>\n",
       "    </tr>\n",
       "    <tr>\n",
       "      <th>3</th>\n",
       "      <td>1007012.0</td>\n",
       "      <td>1.079857</td>\n",
       "      <td>89.351427</td>\n",
       "      <td>54738.000742</td>\n",
       "      <td>1.016415</td>\n",
       "      <td>19.927563</td>\n",
       "      <td>12.917355</td>\n",
       "      <td>1.085718</td>\n",
       "      <td>1.010280</td>\n",
       "      <td>65.576254</td>\n",
       "      <td>113.617318</td>\n",
       "      <td>144.223620</td>\n",
       "      <td>27.907457</td>\n",
       "      <td>994.869334</td>\n",
       "      <td>93.992349</td>\n",
       "      <td>50.614834</td>\n",
       "      <td>37.408702</td>\n",
       "      <td>39.063774</td>\n",
       "      <td>452.063178</td>\n",
       "      <td>68.716581</td>\n",
       "      <td>87.959292</td>\n",
       "      <td>90.227666</td>\n",
       "      <td>83.641251</td>\n",
       "      <td>43.621778</td>\n",
       "      <td>61.763540</td>\n",
       "      <td>...</td>\n",
       "      <td>69479.208034</td>\n",
       "      <td>36372.572012</td>\n",
       "      <td>140.513839</td>\n",
       "      <td>212.594379</td>\n",
       "      <td>92.070335</td>\n",
       "      <td>99.724427</td>\n",
       "      <td>27.896438</td>\n",
       "      <td>8.952235</td>\n",
       "      <td>92.240002</td>\n",
       "      <td>157349.220331</td>\n",
       "      <td>111.986697</td>\n",
       "      <td>194.449429</td>\n",
       "      <td>186.126193</td>\n",
       "      <td>81.641747</td>\n",
       "      <td>10.871523</td>\n",
       "      <td>1.041127</td>\n",
       "      <td>1.010276</td>\n",
       "      <td>1.048963</td>\n",
       "      <td>73.708843</td>\n",
       "      <td>76.050073</td>\n",
       "      <td>19.354114</td>\n",
       "      <td>0.344208</td>\n",
       "      <td>Andromeda IX</td>\n",
       "      <td>18.507721</td>\n",
       "      <td>3.467922</td>\n",
       "    </tr>\n",
       "    <tr>\n",
       "      <th>4</th>\n",
       "      <td>1007012.0</td>\n",
       "      <td>1.079557</td>\n",
       "      <td>94.084539</td>\n",
       "      <td>54785.657264</td>\n",
       "      <td>1.108535</td>\n",
       "      <td>18.597198</td>\n",
       "      <td>14.490411</td>\n",
       "      <td>1.083277</td>\n",
       "      <td>1.054622</td>\n",
       "      <td>82.576470</td>\n",
       "      <td>116.778787</td>\n",
       "      <td>140.257294</td>\n",
       "      <td>34.620256</td>\n",
       "      <td>667.682672</td>\n",
       "      <td>112.951963</td>\n",
       "      <td>47.121834</td>\n",
       "      <td>32.739008</td>\n",
       "      <td>43.097271</td>\n",
       "      <td>513.265103</td>\n",
       "      <td>76.028442</td>\n",
       "      <td>86.776469</td>\n",
       "      <td>95.761096</td>\n",
       "      <td>79.298329</td>\n",
       "      <td>49.113194</td>\n",
       "      <td>41.016252</td>\n",
       "      <td>...</td>\n",
       "      <td>72697.700583</td>\n",
       "      <td>38990.588810</td>\n",
       "      <td>140.356804</td>\n",
       "      <td>388.073381</td>\n",
       "      <td>115.750229</td>\n",
       "      <td>106.108663</td>\n",
       "      <td>31.155735</td>\n",
       "      <td>7.663965</td>\n",
       "      <td>110.414297</td>\n",
       "      <td>106465.699745</td>\n",
       "      <td>118.241451</td>\n",
       "      <td>183.901921</td>\n",
       "      <td>150.143061</td>\n",
       "      <td>111.458212</td>\n",
       "      <td>12.297071</td>\n",
       "      <td>1.000734</td>\n",
       "      <td>1.059392</td>\n",
       "      <td>1.086341</td>\n",
       "      <td>51.594871</td>\n",
       "      <td>65.860127</td>\n",
       "      <td>21.311365</td>\n",
       "      <td>0.325228</td>\n",
       "      <td>Andromeda V</td>\n",
       "      <td>27.662533</td>\n",
       "      <td>3.691628</td>\n",
       "    </tr>\n",
       "  </tbody>\n",
       "</table>\n",
       "<p>5 rows × 79 columns</p>\n",
       "</div>"
      ],
      "text/plain": [
       "   galactic year  existence expectancy index  existence expectancy at birth  \\\n",
       "0      1007012.0                    0.868360                      72.982208   \n",
       "1      1007012.0                    0.772696                      73.590698   \n",
       "2      1007012.0                    0.941941                      81.973436   \n",
       "3      1007012.0                    1.079857                      89.351427   \n",
       "4      1007012.0                    1.079557                      94.084539   \n",
       "\n",
       "   Gross income per capita  Income Index  Expected years of education (galactic years)  \\\n",
       "0             19198.499040      0.700413                                     16.145285   \n",
       "1             18345.350181      0.684405                                     12.167872   \n",
       "2             26708.317145      0.925563                                     18.175905   \n",
       "3             54738.000742      1.016415                                     19.927563   \n",
       "4             54785.657264      1.108535                                     18.597198   \n",
       "\n",
       "   Mean years of education (galactic years)  Intergalactic Development Index (IDI)  \\\n",
       "0                                 11.113581                               0.719579   \n",
       "1                                  7.083681                               0.650826   \n",
       "2                                 13.909442                               0.960263   \n",
       "3                                 12.917355                               1.085718   \n",
       "4                                 14.490411                               1.083277   \n",
       "\n",
       "   Education Index  Intergalactic Development Index (IDI), Rank  \\\n",
       "0         0.825915                                   181.824530   \n",
       "1         0.505962                                   193.187549   \n",
       "2         0.937407                                    74.678611   \n",
       "3         1.010280                                    65.576254   \n",
       "4         1.054622                                    82.576470   \n",
       "\n",
       "   Population using at least basic drinking-water services (%)  \\\n",
       "0                                                    76.357958   \n",
       "1                                                    79.263683   \n",
       "2                                                   122.988241   \n",
       "3                                                   113.617318   \n",
       "4                                                   116.778787   \n",
       "\n",
       "   Population using at least basic sanitation services (%)  Gross capital formation (% of GGP)  \\\n",
       "0                                                71.796137                           71.977811   \n",
       "1                                                71.723281                           37.085742   \n",
       "2                                               136.685519                           34.865297   \n",
       "3                                               144.223620                           27.907457   \n",
       "4                                               140.257294                           34.620256   \n",
       "\n",
       "   Population, total (millions)  Population, urban (%)  \\\n",
       "0                    819.245976              72.269765   \n",
       "1                    849.398477              53.465398   \n",
       "2                    712.914221              93.116852   \n",
       "3                    994.869334              93.992349   \n",
       "4                    667.682672             112.951963   \n",
       "\n",
       "   Mortality rate, under-five (per 1,000 live births)  \\\n",
       "0                                          113.394831   \n",
       "1                                          139.090298   \n",
       "2                                           59.810528   \n",
       "3                                           50.614834   \n",
       "4                                           47.121834   \n",
       "\n",
       "   Mortality rate, infant (per 1,000 live births)  \\\n",
       "0                                       75.983899   \n",
       "1                                       88.145153   \n",
       "2                                       34.960991   \n",
       "3                                       37.408702   \n",
       "4                                       32.739008   \n",
       "\n",
       "   Old age dependency ratio (old age (65 and older) per 100 creatures (ages 15-64))  \\\n",
       "0                                                                         12.851245   \n",
       "1                                                                         14.152255   \n",
       "2                                                                         31.242181   \n",
       "3                                                                         39.063774   \n",
       "4                                                                         43.097271   \n",
       "\n",
       "   Population, ages 15–64 (millions)  Population, ages 65 and older (millions)  \\\n",
       "0                         426.589757                                 59.793499   \n",
       "1                         496.779346                                 57.583581   \n",
       "2                         435.976780                                 54.971127   \n",
       "3                         452.063178                                 68.716581   \n",
       "4                         513.265103                                 76.028442   \n",
       "\n",
       "   Life expectancy at birth, male (galactic years)  \\\n",
       "0                                        73.206969   \n",
       "1                                        68.021732   \n",
       "2                                        78.814709   \n",
       "3                                        87.959292   \n",
       "4                                        86.776469   \n",
       "\n",
       "   Life expectancy at birth, female (galactic years)  Population, under age 5 (millions)  \\\n",
       "0                                          79.051548                           80.144699   \n",
       "1                                          74.795340                           73.158109   \n",
       "2                                          87.318457                           54.861556   \n",
       "3                                          90.227666                           83.641251   \n",
       "4                                          95.761096                           79.298329   \n",
       "\n",
       "   Young age (0-14) dependency ratio (per 100 creatures ages 15-64)  \\\n",
       "0                                                         87.255770   \n",
       "1                                                         89.776748   \n",
       "2                                                         51.049333   \n",
       "3                                                         43.621778   \n",
       "4                                                         49.113194   \n",
       "\n",
       "   Adolescent birth rate (births per 1,000 female creatures ages 15-19)  ...  \\\n",
       "0                                                             77.624057  ...   \n",
       "1                                                            124.050371  ...   \n",
       "2                                                             72.544281  ...   \n",
       "3                                                             61.763540  ...   \n",
       "4                                                             41.016252  ...   \n",
       "\n",
       "   Estimated gross galactic income per capita, male  \\\n",
       "0                                               NaN   \n",
       "1                                      19268.820517   \n",
       "2                                      46130.422627   \n",
       "3                                      69479.208034   \n",
       "4                                      72697.700583   \n",
       "\n",
       "   Estimated gross galactic income per capita, female  \\\n",
       "0                                                 NaN   \n",
       "1                                        12931.719986   \n",
       "2                                        29804.266408   \n",
       "3                                        36372.572012   \n",
       "4                                        38990.588810   \n",
       "\n",
       "   Rural population with access to electricity (%)  \\\n",
       "0                                       102.306960   \n",
       "1                                        99.189863   \n",
       "2                                       133.499902   \n",
       "3                                       140.513839   \n",
       "4                                       140.356804   \n",
       "\n",
       "   Domestic credit provided by financial sector (% of GGP)  \\\n",
       "0                                                      NaN   \n",
       "1                                                77.742674   \n",
       "2                                               112.410524   \n",
       "3                                               212.594379   \n",
       "4                                               388.073381   \n",
       "\n",
       "   Population with at least some secondary education, female (% ages 25 and older)  \\\n",
       "0                                                                              NaN   \n",
       "1                                                                        54.263456   \n",
       "2                                                                       110.028144   \n",
       "3                                                                        92.070335   \n",
       "4                                                                       115.750229   \n",
       "\n",
       "   Population with at least some secondary education, male (% ages 25 and older)  \\\n",
       "0                                                                            NaN   \n",
       "1                                                                      69.496155   \n",
       "2                                                                     112.483100   \n",
       "3                                                                      99.724427   \n",
       "4                                                                     106.108663   \n",
       "\n",
       "   Gross fixed capital formation (% of GGP)  Remittances, inflows (% of GGP)  \\\n",
       "0                                 75.084941                        16.383957   \n",
       "1                                 38.331603                         9.435519   \n",
       "2                                 29.294321                         9.716045   \n",
       "3                                 27.896438                         8.952235   \n",
       "4                                 31.155735                         7.663965   \n",
       "\n",
       "   Population with at least some secondary education (% ages 25 and older)  \\\n",
       "0                                                                      NaN   \n",
       "1                                                                62.266114   \n",
       "2                                                               124.671861   \n",
       "3                                                                92.240002   \n",
       "4                                                               110.414297   \n",
       "\n",
       "   Intergalactic inbound tourists (thousands)  \\\n",
       "0                                92046.182973   \n",
       "1                                92843.780990   \n",
       "2                                98471.178149   \n",
       "3                               157349.220331   \n",
       "4                               106465.699745   \n",
       "\n",
       "   Gross enrolment ratio, primary (% of primary under-age population)  \\\n",
       "0                                                          129.047095   \n",
       "1                                                          131.408452   \n",
       "2                                                          117.291927   \n",
       "3                                                          111.986697   \n",
       "4                                                          118.241451   \n",
       "\n",
       "   Respiratory disease incidence (per 100,000 people)  \\\n",
       "0                                          578.672958   \n",
       "1                                          429.753270   \n",
       "2                                          216.424101   \n",
       "3                                          194.449429   \n",
       "4                                          183.901921   \n",
       "\n",
       "   Interstellar phone subscriptions (per 100 people)  \\\n",
       "0                                          70.150003   \n",
       "1                                         104.910863   \n",
       "2                                         152.699066   \n",
       "3                                         186.126193   \n",
       "4                                         150.143061   \n",
       "\n",
       "   Interstellar Data Net users, total (% of population)  Current health expenditure (% of GGP)  \\\n",
       "0                                             39.261197                              11.067889   \n",
       "1                                             34.341097                               6.029590   \n",
       "2                                             89.310138                              10.114774   \n",
       "3                                             81.641747                              10.871523   \n",
       "4                                            111.458212                              12.297071   \n",
       "\n",
       "   Intergalactic Development Index (IDI), female  Intergalactic Development Index (IDI), male  \\\n",
       "0                                            NaN                                          NaN   \n",
       "1                                       0.673039                                     0.714560   \n",
       "2                                       0.975232                                     0.949269   \n",
       "3                                       1.041127                                     1.010276   \n",
       "4                                       1.000734                                     1.059392   \n",
       "\n",
       "   Gender Development Index (GDI)  Intergalactic Development Index (IDI), female, Rank  \\\n",
       "0                             NaN                                                  NaN   \n",
       "1                        0.976994                                           147.451303   \n",
       "2                        1.078944                                            91.321283   \n",
       "3                        1.048963                                            73.708843   \n",
       "4                        1.086341                                            51.594871   \n",
       "\n",
       "   Intergalactic Development Index (IDI), male, Rank  Adjusted net savings   \\\n",
       "0                                                NaN                    NaN   \n",
       "1                                         164.334975               6.673241   \n",
       "2                                          80.725039              16.251653   \n",
       "3                                          76.050073              19.354114   \n",
       "4                                          65.860127              21.311365   \n",
       "\n",
       "   Gender Inequality Index (GII)                  galaxy  Private galaxy capital flows (% of GGP)  \\\n",
       "0                            NaN  Andromeda Galaxy (M31)                                32.163414   \n",
       "1                       0.687616             Andromeda I                                30.668839   \n",
       "2                       0.467704           Andromeda III                                25.648367   \n",
       "3                       0.344208            Andromeda IX                                18.507721   \n",
       "4                       0.325228             Andromeda V                                27.662533   \n",
       "\n",
       "   Creature Immunodeficiency Disease prevalence, adult (% ages 15-49), total  \n",
       "0                                                                        NaN  \n",
       "1                                                                   5.784397  \n",
       "2                                                                   3.641324  \n",
       "3                                                                   3.467922  \n",
       "4                                                                   3.691628  \n",
       "\n",
       "[5 rows x 79 columns]"
      ]
     },
     "execution_count": 4,
     "metadata": {},
     "output_type": "execute_result"
    }
   ],
   "source": [
    "test = pd.read_csv('../../eda/outputs/imputed_test_mf.csv')\n",
    "m, n = test.shape                \n",
    "print('Data Frame: {} x {}'.format(m,n))                \n",
    "test.head()"
   ]
  },
  {
   "cell_type": "markdown",
   "metadata": {},
   "source": [
    "Removing the galaxies from train set that are unseen in test set as no need to build model for those."
   ]
  },
  {
   "cell_type": "code",
   "execution_count": 5,
   "metadata": {
    "ExecuteTime": {
     "end_time": "2020-06-12T08:58:39.883230Z",
     "start_time": "2020-06-12T08:58:39.877224Z"
    }
   },
   "outputs": [],
   "source": [
    "galaxies_unseen_test = list(set(train.galaxy.unique()) - set(test.galaxy.unique()))\n",
    "train = train[~train.galaxy.isin(galaxies_unseen_test)].copy()"
   ]
  },
  {
   "cell_type": "code",
   "execution_count": 6,
   "metadata": {
    "ExecuteTime": {
     "end_time": "2020-06-12T08:58:40.003339Z",
     "start_time": "2020-06-12T08:58:39.997333Z"
    }
   },
   "outputs": [],
   "source": [
    "date = train['galactic year'].min()\n",
    "\n",
    "train['year'] = ((train['galactic year'] - date) / 1000 + 1).astype(int)\n",
    "test['year'] = ((test['galactic year'] - date) / 1000 + 1).astype(int)"
   ]
  },
  {
   "cell_type": "markdown",
   "metadata": {},
   "source": [
    "#### Build-up\n",
    "Implementing some functions that will help us and ease the process of data preparation, cross validation, model building, etc."
   ]
  },
  {
   "cell_type": "code",
   "execution_count": 7,
   "metadata": {
    "ExecuteTime": {
     "end_time": "2020-06-12T08:58:42.812958Z",
     "start_time": "2020-06-12T08:58:41.725929Z"
    }
   },
   "outputs": [],
   "source": [
    "np.seterr(invalid='ignore')\n",
    "\n",
    "from sklearn.preprocessing import MinMaxScaler, StandardScaler\n",
    "from sklearn.metrics import mean_squared_error\n",
    "from tensorflow.keras import Sequential\n",
    "from tensorflow.keras.layers import LSTM, Dense\n",
    "from tensorflow.keras.layers import Bidirectional\n",
    "from tensorflow.keras.layers import TimeDistributed, Flatten\n",
    "from tensorflow.keras.layers import Conv1D, MaxPooling1D"
   ]
  },
  {
   "cell_type": "code",
   "execution_count": 8,
   "metadata": {
    "ExecuteTime": {
     "end_time": "2020-06-12T08:58:42.896033Z",
     "start_time": "2020-06-12T08:58:42.813959Z"
    }
   },
   "outputs": [],
   "source": [
    "def log_progress(sequence, every=None, size=None, name='Items'):\n",
    "    from ipywidgets import IntProgress, HTML, VBox\n",
    "    from IPython.display import display\n",
    "\n",
    "    is_iterator = False\n",
    "    if size is None:\n",
    "        try:\n",
    "            size = len(sequence)\n",
    "        except TypeError:\n",
    "            is_iterator = True\n",
    "    if size is not None:\n",
    "        if every is None:\n",
    "            if size <= 200:\n",
    "                every = 1\n",
    "            else:\n",
    "                every = int(size / 200)     # every 0.5%\n",
    "    else:\n",
    "        assert every is not None, 'sequence is iterator, set every'\n",
    "\n",
    "    if is_iterator:\n",
    "        progress = IntProgress(min=0, max=1, value=1)\n",
    "        progress.bar_style = 'info'\n",
    "    else:\n",
    "        progress = IntProgress(min=0, max=size, value=0)\n",
    "    label = HTML()\n",
    "    box = VBox(children=[label, progress])\n",
    "    display(box)\n",
    "\n",
    "    index = 0\n",
    "    try:\n",
    "        for index, record in enumerate(sequence, 1):\n",
    "            if index == 1 or index % every == 0:\n",
    "                if is_iterator:\n",
    "                    label.value = '{name}: {index} / ?'.format(\n",
    "                        name=name,\n",
    "                        index=index\n",
    "                    )\n",
    "                else:\n",
    "                    progress.value = index\n",
    "                    label.value = u'{name}: {index} / {size}'.format(\n",
    "                        name=name,\n",
    "                        index=index,\n",
    "                        size=size\n",
    "                    )\n",
    "            yield record\n",
    "    except:\n",
    "        progress.bar_style = 'danger'\n",
    "        raise\n",
    "    else:\n",
    "        progress.bar_style = 'success'\n",
    "        progress.value = index\n",
    "        label.value = \"{name}: {index}\".format(\n",
    "            name=name,\n",
    "            index=str(index or '?')\n",
    "        )"
   ]
  },
  {
   "cell_type": "code",
   "execution_count": 9,
   "metadata": {
    "ExecuteTime": {
     "end_time": "2020-06-12T08:58:42.901038Z",
     "start_time": "2020-06-12T08:58:42.897035Z"
    }
   },
   "outputs": [],
   "source": [
    "class ModelHistory:\n",
    "    def set_param(self, param, val):\n",
    "        setattr(self, param, val)"
   ]
  },
  {
   "cell_type": "code",
   "execution_count": 10,
   "metadata": {
    "ExecuteTime": {
     "end_time": "2020-06-12T08:58:42.906043Z",
     "start_time": "2020-06-12T08:58:42.902039Z"
    },
    "code_folding": []
   },
   "outputs": [],
   "source": [
    "def is_consecutive(ar, how='all'):\n",
    "    if how == 'all':\n",
    "        comp = all\n",
    "    else:\n",
    "        comp = any\n",
    "    if comp(np.diff(ar) == 1):\n",
    "        return True\n",
    "    return False\n",
    "\n",
    "\n",
    "def extract_consecutive(test):\n",
    "    diff = np.diff(test)\n",
    "    diff = np.insert(diff, 0, 0)\n",
    "    return test[diff != 1]"
   ]
  },
  {
   "cell_type": "code",
   "execution_count": 22,
   "metadata": {
    "ExecuteTime": {
     "end_time": "2020-06-12T09:01:58.058836Z",
     "start_time": "2020-06-12T09:01:58.033289Z"
    }
   },
   "outputs": [],
   "source": [
    "def window_stack(a, stepsize=1, width=3):\n",
    "    n = a.shape[0]\n",
    "    return np.hstack(a[i:1+n+i-width:stepsize] for i in range(0,width))\n",
    "\n",
    "\n",
    "def to_vector(x):\n",
    "    if not isinstance(x, np.ndarray):\n",
    "        x = np.array(x)\n",
    "    \n",
    "    x = x.reshape(len(x), 1)\n",
    "    return x\n",
    "    \n",
    "\n",
    "def prepare_ts_data(train_set, test_set=None,\n",
    "                    target='y',\n",
    "                    date='ds',\n",
    "                    val_size=2,\n",
    "                    expanding_factor=1,\n",
    "                    group=None,\n",
    "                    drop_col=None):\n",
    "    \"\"\"\n",
    "    train = [.., (train[g].y, train[g].year, g), ..] # (rank1 array, rank1 array, str)\n",
    "    val = [.., (val[g].y, val[g].year, g), ..] # (rank1 array, rank1 array, str)\n",
    "    \n",
    "    train = [.., [(train[g].y, train[g].year, g), (train[g].y, train[g].year, g)], ..] # 0-9, 0-12\n",
    "    val = [.., [(val[g].y, val[g].year, g), (val[g].y, val[g].year, g)], ..] # 9-12\n",
    "    \n",
    "    train 0,1,2,3,4,5,6,7,8,10,11  test 9,12,13 \n",
    "    \"\"\"\n",
    "    if not group:\n",
    "        return train_set\n",
    "    \n",
    "    if drop_col is None:\n",
    "        drop_col = []\n",
    "    \n",
    "    train = []\n",
    "    val = []\n",
    "    \n",
    "    # drop galaxies which are unseen at test.\n",
    "    \n",
    "    groups = sorted(train_set[group].unique())\n",
    "    \n",
    "    for g in groups:\n",
    "        y_test = test_set.loc[test_set[group] == g, date]\n",
    "        cons = extract_consecutive(y_test) # 9,11,12,14 [9,11,14]\n",
    "        \n",
    "        g_train = []\n",
    "        g_val = []\n",
    "        for i, con in enumerate(cons):\n",
    "            if i != 0:\n",
    "                break\n",
    "                \n",
    "            temp = train_set.loc[(train_set[group] == g)&(train_set[date]<con)].copy()\n",
    "            \n",
    "            temp_train = temp.drop([target, group, date, *drop_col], axis=1).copy()\n",
    "            temp_train[target] = temp[target]\n",
    "            temp_train.dropna(how='all', axis=1, inplace=True)\n",
    "            temp_train.fillna(0, inplace=True)\n",
    "            temp_train = temp_train.to_numpy()\n",
    "            \n",
    "            ds = to_vector(temp[date].to_numpy())\n",
    "            \n",
    "            g_train.append((temp_train[:-val_size,:], ds[:-val_size], g))\n",
    "            g_val.append((temp_train[-val_size:,:], ds[-val_size:], g))\n",
    "        \n",
    "        train.append(g_train)\n",
    "        val.append(g_val)\n",
    "            \n",
    "    return train, val\n",
    "\n",
    "\n",
    "def split_X_y(data, n_step, window_size):\n",
    "    model_input = window_stack(data, stepsize=n_step, width=window_size+1)\n",
    "    X = model_input[:, :window_size]\n",
    "    X = X.reshape((X.shape[0], X.shape[1], 1))\n",
    "    y = model_input[:, window_size]\n",
    "    \n",
    "    return X, y\n",
    "\n",
    "\n",
    "def splitmv_X_y(sequences, n_step):\n",
    "    X, y = list(), list()\n",
    "    for i in range(len(sequences)):\n",
    "        # find the end of this pattern\n",
    "        end_ix = i + n_step\n",
    "        # check if we are beyond the dataset\n",
    "        if end_ix > len(sequences):\n",
    "            break\n",
    "        # gather input and output parts of the pattern\n",
    "        seq_x, seq_y = sequences[i:end_ix, :-1], sequences[end_ix-1, -1]\n",
    "        X.append(seq_x)\n",
    "        y.append(seq_y)\n",
    "    return np.array(X), np.array(y)\n",
    "\n",
    "\n",
    "def trainmv_ts(train_set, val_set, model=None,\n",
    "            n_step = 1,\n",
    "            epochs=200,\n",
    "            steps_per_epoch=1,\n",
    "            scale=None,\n",
    "            expanding_factor=1,\n",
    "            verbose=0):\n",
    "    \n",
    "    train_history = ModelHistory()\n",
    "        \n",
    "    res_df = []\n",
    "    \n",
    "    train_mse = 0\n",
    "    val_mse = 0\n",
    "    \n",
    "    i = 0\n",
    "    for train_list, val_list in log_progress(zip(train_set, val_set), every=1):\n",
    "        if i > 20:\n",
    "            break\n",
    "        i += 1\n",
    "        for train, val in zip(train_list, val_list):\n",
    "\n",
    "            X_train_pre = np.copy(train[0][:,:-1])\n",
    "            y_train_pre = to_vector(np.copy(train[0][:,-1]))\n",
    "            X_val_pre = np.copy(val[0][:,:-1])\n",
    "            y_val_pre = to_vector(np.copy(val[0][:,-1]))\n",
    "\n",
    "            if scale is None:\n",
    "                scaled_X_train, scaled_X_val = X_train_pre, X_val_pre\n",
    "            else:\n",
    "                if scale.lower() == 'standard':\n",
    "                    scaler = StandardScaler()\n",
    "                elif scale.lower() == 'minmax':\n",
    "                    scaler = MinMaxScaler()\n",
    "                else:\n",
    "                    raise ValueError(\"Scale must be one of ['standard', 'minmax']\")\n",
    "\n",
    "                scaled_X_train = scaler.fit_transform(X_train_pre)\n",
    "                scaled_X_val = scaler.transform(X_val_pre)\n",
    "\n",
    "            train_prep = np.hstack((scaled_X_train, y_train_pre))\n",
    "            val_prep = np.hstack((scaled_X_val, y_val_pre))\n",
    "            X_train, y_train = splitmv_X_y(train_prep, n_step=n_step)\n",
    "            X_val, y_val =  splitmv_X_y(val_prep, n_step=n_step)\n",
    "\n",
    "\n",
    "            model = Sequential()                \n",
    "            model.add(LSTM(150, activation='relu', recurrent_activation='sigmoid',\n",
    "                                         input_shape=(n_step, X_train.shape[2]),\n",
    "                                        return_sequences=True))\n",
    "            model.add(Bidirectional(LSTM(50, activation='relu', recurrent_activation='sigmoid',\n",
    "                                        return_sequences=True)))\n",
    "            model.add(LSTM(50, activation='relu', recurrent_activation='sigmoid',\n",
    "                                        return_sequences=True))\n",
    "            model.add(Bidirectional(LSTM(50, activation='relu', recurrent_activation='sigmoid',\n",
    "                                        return_sequences=False)))\n",
    "#             model.add(LSTM(25, activation='relu', recurrent_activation='sigmoid',\n",
    "#                                         return_sequences=False))\n",
    "#             model.add(LSTM(100, activation='relu', recurrent_activation='sigmoid',\n",
    "#                                         return_sequences=False))\n",
    "            model.add(Dense(1))\n",
    "            model.compile(optimizer='adam', loss='mse')\n",
    "            \n",
    "    #         print(f'Training for {train[2]}\\tTrain:{train[0].shape[0]}\\tValid:{val[0].shape[0]}')\n",
    "\n",
    "\n",
    "            \n",
    "            history = model.fit(X_train, y_train,\n",
    "                                epochs=epochs,\n",
    "                                steps_per_epoch=steps_per_epoch,\n",
    "                                verbose=verbose\n",
    "#                                 validation_data=(X_val, y_val)\n",
    "                               )\n",
    "\n",
    "            # forecast  \n",
    "            fittedvalues = model.predict(X_train)\n",
    "            y_pred = model.predict(X_val)\n",
    "\n",
    "            train_mse += mean_squared_error(y_train, fittedvalues)\n",
    "            val_mse += mean_squared_error(y_val, y_pred)\n",
    "\n",
    "#             print(f'{train[2]}\\tTrain MSE:{train_mse: .5f}\\tValid MSE:{val_mse: .5f}')\n",
    "            temp = {\n",
    "                'galaxy': str(val[2]),\n",
    "#                 'galactic year': train[1].ravel().tolist() + val[1].ravel().tolist(),\n",
    "                'galactic year': list(range(len(y_train.tolist() + y_val.tolist()))),\n",
    "                'y_true': y_train.tolist() + y_val.tolist(),\n",
    "                'y_pred': fittedvalues.ravel().tolist() + y_pred.ravel().tolist()\n",
    "            }\n",
    "            res_df.append(temp)\n",
    "    \n",
    "    train_history.set_param('train_rmse', (train_mse/expanding_factor) ** .5)\n",
    "    train_history.set_param('valid_rmse', (val_mse/expanding_factor) ** .5)\n",
    "    train_history.set_param('resulting_df', res_df)\n",
    "    \n",
    "    return train_history"
   ]
  },
  {
   "cell_type": "code",
   "execution_count": 16,
   "metadata": {
    "ExecuteTime": {
     "end_time": "2020-06-12T08:58:54.317402Z",
     "start_time": "2020-06-12T08:58:54.309394Z"
    }
   },
   "outputs": [],
   "source": [
    "def plotdf_from_pd(df, index, galaxy):\n",
    "    galaxy_df = pd.DataFrame()\n",
    "    galaxy_df['galactic year'] = res_df.loc[res_df.galaxy == galaxy, 'galactic year'].tolist() * 2\n",
    "    galaxy_df['y'] = res_df.loc[res_df.galaxy == galaxy, 'y_true'].tolist() +\\\n",
    "                        res_df.loc[res_df.galaxy == galaxy, 'y_pred'].tolist()\n",
    "    galaxy_df['state'] = ['actual'] * res_df.loc[res_df.galaxy == galaxy, 'y_true'].shape[0] +\\\n",
    "                        ['predicted'] * res_df.loc[res_df.galaxy == galaxy, 'y_true'].shape[0]\n",
    "    return galaxy_df\n",
    "\n",
    "def plotdf_from_dict(dict_, index):\n",
    "    g_dict = dict_[index]\n",
    "    galaxy_df = pd.DataFrame()\n",
    "    galaxy_df['galactic year'] = g_dict['galactic year'] * 2\n",
    "    galaxy_df['y'] = g_dict['y_true'] + g_dict['y_pred']\n",
    "    galaxy_df['state'] = ['actual'] * len(g_dict['y_true']) +\\\n",
    "                        ['predicted'] * len(g_dict['y_true'])\n",
    "    return galaxy_df\n",
    "\n",
    "def plot_resulting_df(res_df, index, val_size):\n",
    "    \n",
    "    if isinstance(res_df, pd.DataFrame):\n",
    "        galaxy = sorted(res_df.galaxy.unique())[index]\n",
    "        galaxy_df = plotdf_from_pd(res_df, index, galaxy)\n",
    "    elif isinstance(res_df[index], dict):\n",
    "        galaxy = res_df[index]['galaxy']\n",
    "        galaxy_df = plotdf_from_dict(res_df, index)\n",
    "    else:\n",
    "        raise ValueError(\"res_df should be pd.DataFrame or dict object.\")\n",
    "    \n",
    "    fig = px.line(data_frame=galaxy_df, x='galactic year', y='y', color='state',\n",
    "           title=f'Galaxy: {galaxy}')\n",
    "\n",
    "    shapes = [{'type': 'line',\n",
    "                   'xref': 'x',\n",
    "                   'yref': 'y',\n",
    "                   'x0': galaxy_df['galactic year'].values[-val_size],\n",
    "                   'y0': galaxy_df.y.min(),\n",
    "                   'x1': galaxy_df['galactic year'].values[-val_size],\n",
    "                   'y1': galaxy_df.y.max()}]\n",
    "\n",
    "    fig.update_layout(shapes=shapes)\n",
    "    fig.show()"
   ]
  },
  {
   "cell_type": "markdown",
   "metadata": {},
   "source": [
    "On average we will be forecasting 5 years per galaxy.\n",
    "\n",
    "    test.groupby('galaxy').agg(\n",
    "        {\"galaxy\": \"count\"}\n",
    "    ).mean() # 5.174419\n",
    "\n",
    "Let's construct the train and validation sets."
   ]
  },
  {
   "cell_type": "code",
   "execution_count": 17,
   "metadata": {
    "ExecuteTime": {
     "end_time": "2020-06-12T08:58:55.042008Z",
     "start_time": "2020-06-12T08:58:54.605673Z"
    },
    "scrolled": false
   },
   "outputs": [
    {
     "name": "stdout",
     "output_type": "stream",
     "text": [
      "Average train size per galaxy: 17.936046511627907\n",
      "Average validation size per galaxy: 2.0\n"
     ]
    }
   ],
   "source": [
    "ts_train, ts_val  = prepare_ts_data(train, test, \n",
    "                                    target='y',\n",
    "                                    date='year',\n",
    "                                    expanding_factor=1,\n",
    "                                    group='galaxy',\n",
    "                                    drop_col=['galactic year'],\n",
    "                                    val_size=2)\n",
    "print('Average train size per galaxy:', sum([ts_train[i][0][0].shape[0] for i in range(len(ts_train))]) / len(ts_train))\n",
    "print('Average validation size per galaxy:', sum([ts_val[i][0][0].shape[0] for i in range(len(ts_val))]) / len(ts_val))"
   ]
  },
  {
   "cell_type": "markdown",
   "metadata": {},
   "source": [
    "#### Modeling\n",
    "\n",
    "Let's try a simple LSTM."
   ]
  },
  {
   "cell_type": "code",
   "execution_count": 18,
   "metadata": {
    "ExecuteTime": {
     "end_time": "2020-06-12T08:58:57.239538Z",
     "start_time": "2020-06-12T08:58:57.237536Z"
    }
   },
   "outputs": [],
   "source": [
    "import warnings\n",
    "\n",
    "warn_msg = r'arrays to stack must be passed as a \"sequence\" type such as list or tuple. Support for non-sequence iterables such as generators is deprecated as of NumPy 1.16 and will raise an error in the future.'\n",
    "with warnings.catch_warnings():\n",
    "    warnings.filterwarnings('ignore', warn_msg)\n"
   ]
  },
  {
   "cell_type": "code",
   "execution_count": 23,
   "metadata": {
    "ExecuteTime": {
     "end_time": "2020-06-12T09:03:51.862684Z",
     "start_time": "2020-06-12T09:02:03.617640Z"
    },
    "scrolled": false
   },
   "outputs": [
    {
     "data": {
      "application/vnd.jupyter.widget-view+json": {
       "model_id": "9e7724abe8ce45999f320391675d719b",
       "version_major": 2,
       "version_minor": 0
      },
      "text/plain": [
       "VBox(children=(HTML(value=''), IntProgress(value=1, bar_style='info', max=1)))"
      ]
     },
     "metadata": {},
     "output_type": "display_data"
    },
    {
     "name": "stdout",
     "output_type": "stream",
     "text": [
      "Wall time: 1min 48s\n"
     ]
    }
   ],
   "source": [
    "%%time\n",
    "\n",
    "n_steps, window_size, n_features = 2, 3, 1\n",
    "\n",
    "train_history = trainmv_ts(\n",
    "    train_set=ts_train, \n",
    "    val_set=ts_val,\n",
    "    model=None,\n",
    "    n_step=n_steps,\n",
    "    epochs=200,\n",
    "    steps_per_epoch=1,\n",
    "    scale='standard',\n",
    "    expanding_factor=1,\n",
    "    verbose=0\n",
    ")\n"
   ]
  },
  {
   "cell_type": "code",
   "execution_count": 24,
   "metadata": {
    "ExecuteTime": {
     "end_time": "2020-06-12T09:03:51.865687Z",
     "start_time": "2020-06-12T09:03:51.863685Z"
    },
    "scrolled": true
   },
   "outputs": [
    {
     "name": "stdout",
     "output_type": "stream",
     "text": [
      "Train RMSE 0.0009615992423932919\n",
      "Valid RMSE 0.1340630887613048\n"
     ]
    }
   ],
   "source": [
    "print('Train RMSE', train_history.train_rmse)\n",
    "print('Valid RMSE', train_history.valid_rmse)"
   ]
  },
  {
   "cell_type": "code",
   "execution_count": 29,
   "metadata": {
    "ExecuteTime": {
     "end_time": "2020-06-12T09:04:17.343516Z",
     "start_time": "2020-06-12T09:04:17.150341Z"
    },
    "scrolled": false
   },
   "outputs": [
    {
     "data": {
      "application/vnd.plotly.v1+json": {
       "config": {
        "plotlyServerURL": "https://plot.ly"
       },
       "data": [
        {
         "hovertemplate": "state=actual<br>galactic year=%{x}<br>y=%{y}<extra></extra>",
         "legendgroup": "actual",
         "line": {
          "color": "#636efa",
          "dash": "solid"
         },
         "mode": "lines",
         "name": "actual",
         "showlegend": true,
         "type": "scatter",
         "x": [
          0,
          1,
          2,
          3,
          4,
          5,
          6,
          7,
          8,
          9,
          10,
          11,
          12,
          13,
          14,
          15,
          16,
          17,
          18,
          19,
          20,
          21,
          22
         ],
         "xaxis": "x",
         "y": [
          0.17018216520359608,
          0.170547162999914,
          0.1701705380087949,
          0.17059735097465634,
          0.17065617548162604,
          0.1729672510434518,
          0.17347122173989238,
          0.17503736745081278,
          0.17504797518624626,
          0.1761465889518916,
          0.18237535689646844,
          0.1848298554463992,
          0.18598952968801474,
          0.18659303768710644,
          0.18929318812614604,
          0.1899637870658627,
          0.18887569431579765,
          0.19103590306128748,
          0.19191268077810053,
          0.1917290303504537,
          0.14388356063625066,
          0.14448057002876502,
          0.16993414095810222
         ],
         "yaxis": "y"
        },
        {
         "hovertemplate": "state=predicted<br>galactic year=%{x}<br>y=%{y}<extra></extra>",
         "legendgroup": "predicted",
         "line": {
          "color": "#EF553B",
          "dash": "solid"
         },
         "mode": "lines",
         "name": "predicted",
         "showlegend": true,
         "type": "scatter",
         "x": [
          0,
          1,
          2,
          3,
          4,
          5,
          6,
          7,
          8,
          9,
          10,
          11,
          12,
          13,
          14,
          15,
          16,
          17,
          18,
          19,
          20,
          21,
          22
         ],
         "xaxis": "x",
         "y": [
          0.1702411025762558,
          0.17137561738491058,
          0.1683105081319809,
          0.1700584590435028,
          0.17185650765895844,
          0.17229007184505463,
          0.17337991297245026,
          0.17518189549446106,
          0.17592133581638336,
          0.17597560584545135,
          0.18243680894374847,
          0.18464134633541107,
          0.1861400455236435,
          0.18654988706111908,
          0.18938128650188446,
          0.18992748856544495,
          0.1889597624540329,
          0.19088612496852875,
          0.19213221967220306,
          0.19160039722919464,
          0.14389675855636597,
          0.14447544515132904,
          0.21812137961387634
         ],
         "yaxis": "y"
        }
       ],
       "layout": {
        "legend": {
         "title": {
          "text": "state"
         },
         "tracegroupgap": 0
        },
        "shapes": [
         {
          "type": "line",
          "x0": 21,
          "x1": 21,
          "xref": "x",
          "y0": 0.14388356063625066,
          "y1": 0.21812137961387634,
          "yref": "y"
         }
        ],
        "template": {
         "data": {
          "bar": [
           {
            "error_x": {
             "color": "#2a3f5f"
            },
            "error_y": {
             "color": "#2a3f5f"
            },
            "marker": {
             "line": {
              "color": "#E5ECF6",
              "width": 0.5
             }
            },
            "type": "bar"
           }
          ],
          "barpolar": [
           {
            "marker": {
             "line": {
              "color": "#E5ECF6",
              "width": 0.5
             }
            },
            "type": "barpolar"
           }
          ],
          "carpet": [
           {
            "aaxis": {
             "endlinecolor": "#2a3f5f",
             "gridcolor": "white",
             "linecolor": "white",
             "minorgridcolor": "white",
             "startlinecolor": "#2a3f5f"
            },
            "baxis": {
             "endlinecolor": "#2a3f5f",
             "gridcolor": "white",
             "linecolor": "white",
             "minorgridcolor": "white",
             "startlinecolor": "#2a3f5f"
            },
            "type": "carpet"
           }
          ],
          "choropleth": [
           {
            "colorbar": {
             "outlinewidth": 0,
             "ticks": ""
            },
            "type": "choropleth"
           }
          ],
          "contour": [
           {
            "colorbar": {
             "outlinewidth": 0,
             "ticks": ""
            },
            "colorscale": [
             [
              0,
              "#0d0887"
             ],
             [
              0.1111111111111111,
              "#46039f"
             ],
             [
              0.2222222222222222,
              "#7201a8"
             ],
             [
              0.3333333333333333,
              "#9c179e"
             ],
             [
              0.4444444444444444,
              "#bd3786"
             ],
             [
              0.5555555555555556,
              "#d8576b"
             ],
             [
              0.6666666666666666,
              "#ed7953"
             ],
             [
              0.7777777777777778,
              "#fb9f3a"
             ],
             [
              0.8888888888888888,
              "#fdca26"
             ],
             [
              1,
              "#f0f921"
             ]
            ],
            "type": "contour"
           }
          ],
          "contourcarpet": [
           {
            "colorbar": {
             "outlinewidth": 0,
             "ticks": ""
            },
            "type": "contourcarpet"
           }
          ],
          "heatmap": [
           {
            "colorbar": {
             "outlinewidth": 0,
             "ticks": ""
            },
            "colorscale": [
             [
              0,
              "#0d0887"
             ],
             [
              0.1111111111111111,
              "#46039f"
             ],
             [
              0.2222222222222222,
              "#7201a8"
             ],
             [
              0.3333333333333333,
              "#9c179e"
             ],
             [
              0.4444444444444444,
              "#bd3786"
             ],
             [
              0.5555555555555556,
              "#d8576b"
             ],
             [
              0.6666666666666666,
              "#ed7953"
             ],
             [
              0.7777777777777778,
              "#fb9f3a"
             ],
             [
              0.8888888888888888,
              "#fdca26"
             ],
             [
              1,
              "#f0f921"
             ]
            ],
            "type": "heatmap"
           }
          ],
          "heatmapgl": [
           {
            "colorbar": {
             "outlinewidth": 0,
             "ticks": ""
            },
            "colorscale": [
             [
              0,
              "#0d0887"
             ],
             [
              0.1111111111111111,
              "#46039f"
             ],
             [
              0.2222222222222222,
              "#7201a8"
             ],
             [
              0.3333333333333333,
              "#9c179e"
             ],
             [
              0.4444444444444444,
              "#bd3786"
             ],
             [
              0.5555555555555556,
              "#d8576b"
             ],
             [
              0.6666666666666666,
              "#ed7953"
             ],
             [
              0.7777777777777778,
              "#fb9f3a"
             ],
             [
              0.8888888888888888,
              "#fdca26"
             ],
             [
              1,
              "#f0f921"
             ]
            ],
            "type": "heatmapgl"
           }
          ],
          "histogram": [
           {
            "marker": {
             "colorbar": {
              "outlinewidth": 0,
              "ticks": ""
             }
            },
            "type": "histogram"
           }
          ],
          "histogram2d": [
           {
            "colorbar": {
             "outlinewidth": 0,
             "ticks": ""
            },
            "colorscale": [
             [
              0,
              "#0d0887"
             ],
             [
              0.1111111111111111,
              "#46039f"
             ],
             [
              0.2222222222222222,
              "#7201a8"
             ],
             [
              0.3333333333333333,
              "#9c179e"
             ],
             [
              0.4444444444444444,
              "#bd3786"
             ],
             [
              0.5555555555555556,
              "#d8576b"
             ],
             [
              0.6666666666666666,
              "#ed7953"
             ],
             [
              0.7777777777777778,
              "#fb9f3a"
             ],
             [
              0.8888888888888888,
              "#fdca26"
             ],
             [
              1,
              "#f0f921"
             ]
            ],
            "type": "histogram2d"
           }
          ],
          "histogram2dcontour": [
           {
            "colorbar": {
             "outlinewidth": 0,
             "ticks": ""
            },
            "colorscale": [
             [
              0,
              "#0d0887"
             ],
             [
              0.1111111111111111,
              "#46039f"
             ],
             [
              0.2222222222222222,
              "#7201a8"
             ],
             [
              0.3333333333333333,
              "#9c179e"
             ],
             [
              0.4444444444444444,
              "#bd3786"
             ],
             [
              0.5555555555555556,
              "#d8576b"
             ],
             [
              0.6666666666666666,
              "#ed7953"
             ],
             [
              0.7777777777777778,
              "#fb9f3a"
             ],
             [
              0.8888888888888888,
              "#fdca26"
             ],
             [
              1,
              "#f0f921"
             ]
            ],
            "type": "histogram2dcontour"
           }
          ],
          "mesh3d": [
           {
            "colorbar": {
             "outlinewidth": 0,
             "ticks": ""
            },
            "type": "mesh3d"
           }
          ],
          "parcoords": [
           {
            "line": {
             "colorbar": {
              "outlinewidth": 0,
              "ticks": ""
             }
            },
            "type": "parcoords"
           }
          ],
          "pie": [
           {
            "automargin": true,
            "type": "pie"
           }
          ],
          "scatter": [
           {
            "marker": {
             "colorbar": {
              "outlinewidth": 0,
              "ticks": ""
             }
            },
            "type": "scatter"
           }
          ],
          "scatter3d": [
           {
            "line": {
             "colorbar": {
              "outlinewidth": 0,
              "ticks": ""
             }
            },
            "marker": {
             "colorbar": {
              "outlinewidth": 0,
              "ticks": ""
             }
            },
            "type": "scatter3d"
           }
          ],
          "scattercarpet": [
           {
            "marker": {
             "colorbar": {
              "outlinewidth": 0,
              "ticks": ""
             }
            },
            "type": "scattercarpet"
           }
          ],
          "scattergeo": [
           {
            "marker": {
             "colorbar": {
              "outlinewidth": 0,
              "ticks": ""
             }
            },
            "type": "scattergeo"
           }
          ],
          "scattergl": [
           {
            "marker": {
             "colorbar": {
              "outlinewidth": 0,
              "ticks": ""
             }
            },
            "type": "scattergl"
           }
          ],
          "scattermapbox": [
           {
            "marker": {
             "colorbar": {
              "outlinewidth": 0,
              "ticks": ""
             }
            },
            "type": "scattermapbox"
           }
          ],
          "scatterpolar": [
           {
            "marker": {
             "colorbar": {
              "outlinewidth": 0,
              "ticks": ""
             }
            },
            "type": "scatterpolar"
           }
          ],
          "scatterpolargl": [
           {
            "marker": {
             "colorbar": {
              "outlinewidth": 0,
              "ticks": ""
             }
            },
            "type": "scatterpolargl"
           }
          ],
          "scatterternary": [
           {
            "marker": {
             "colorbar": {
              "outlinewidth": 0,
              "ticks": ""
             }
            },
            "type": "scatterternary"
           }
          ],
          "surface": [
           {
            "colorbar": {
             "outlinewidth": 0,
             "ticks": ""
            },
            "colorscale": [
             [
              0,
              "#0d0887"
             ],
             [
              0.1111111111111111,
              "#46039f"
             ],
             [
              0.2222222222222222,
              "#7201a8"
             ],
             [
              0.3333333333333333,
              "#9c179e"
             ],
             [
              0.4444444444444444,
              "#bd3786"
             ],
             [
              0.5555555555555556,
              "#d8576b"
             ],
             [
              0.6666666666666666,
              "#ed7953"
             ],
             [
              0.7777777777777778,
              "#fb9f3a"
             ],
             [
              0.8888888888888888,
              "#fdca26"
             ],
             [
              1,
              "#f0f921"
             ]
            ],
            "type": "surface"
           }
          ],
          "table": [
           {
            "cells": {
             "fill": {
              "color": "#EBF0F8"
             },
             "line": {
              "color": "white"
             }
            },
            "header": {
             "fill": {
              "color": "#C8D4E3"
             },
             "line": {
              "color": "white"
             }
            },
            "type": "table"
           }
          ]
         },
         "layout": {
          "annotationdefaults": {
           "arrowcolor": "#2a3f5f",
           "arrowhead": 0,
           "arrowwidth": 1
          },
          "coloraxis": {
           "colorbar": {
            "outlinewidth": 0,
            "ticks": ""
           }
          },
          "colorscale": {
           "diverging": [
            [
             0,
             "#8e0152"
            ],
            [
             0.1,
             "#c51b7d"
            ],
            [
             0.2,
             "#de77ae"
            ],
            [
             0.3,
             "#f1b6da"
            ],
            [
             0.4,
             "#fde0ef"
            ],
            [
             0.5,
             "#f7f7f7"
            ],
            [
             0.6,
             "#e6f5d0"
            ],
            [
             0.7,
             "#b8e186"
            ],
            [
             0.8,
             "#7fbc41"
            ],
            [
             0.9,
             "#4d9221"
            ],
            [
             1,
             "#276419"
            ]
           ],
           "sequential": [
            [
             0,
             "#0d0887"
            ],
            [
             0.1111111111111111,
             "#46039f"
            ],
            [
             0.2222222222222222,
             "#7201a8"
            ],
            [
             0.3333333333333333,
             "#9c179e"
            ],
            [
             0.4444444444444444,
             "#bd3786"
            ],
            [
             0.5555555555555556,
             "#d8576b"
            ],
            [
             0.6666666666666666,
             "#ed7953"
            ],
            [
             0.7777777777777778,
             "#fb9f3a"
            ],
            [
             0.8888888888888888,
             "#fdca26"
            ],
            [
             1,
             "#f0f921"
            ]
           ],
           "sequentialminus": [
            [
             0,
             "#0d0887"
            ],
            [
             0.1111111111111111,
             "#46039f"
            ],
            [
             0.2222222222222222,
             "#7201a8"
            ],
            [
             0.3333333333333333,
             "#9c179e"
            ],
            [
             0.4444444444444444,
             "#bd3786"
            ],
            [
             0.5555555555555556,
             "#d8576b"
            ],
            [
             0.6666666666666666,
             "#ed7953"
            ],
            [
             0.7777777777777778,
             "#fb9f3a"
            ],
            [
             0.8888888888888888,
             "#fdca26"
            ],
            [
             1,
             "#f0f921"
            ]
           ]
          },
          "colorway": [
           "#636efa",
           "#EF553B",
           "#00cc96",
           "#ab63fa",
           "#FFA15A",
           "#19d3f3",
           "#FF6692",
           "#B6E880",
           "#FF97FF",
           "#FECB52"
          ],
          "font": {
           "color": "#2a3f5f"
          },
          "geo": {
           "bgcolor": "white",
           "lakecolor": "white",
           "landcolor": "#E5ECF6",
           "showlakes": true,
           "showland": true,
           "subunitcolor": "white"
          },
          "hoverlabel": {
           "align": "left"
          },
          "hovermode": "closest",
          "mapbox": {
           "style": "light"
          },
          "paper_bgcolor": "white",
          "plot_bgcolor": "#E5ECF6",
          "polar": {
           "angularaxis": {
            "gridcolor": "white",
            "linecolor": "white",
            "ticks": ""
           },
           "bgcolor": "#E5ECF6",
           "radialaxis": {
            "gridcolor": "white",
            "linecolor": "white",
            "ticks": ""
           }
          },
          "scene": {
           "xaxis": {
            "backgroundcolor": "#E5ECF6",
            "gridcolor": "white",
            "gridwidth": 2,
            "linecolor": "white",
            "showbackground": true,
            "ticks": "",
            "zerolinecolor": "white"
           },
           "yaxis": {
            "backgroundcolor": "#E5ECF6",
            "gridcolor": "white",
            "gridwidth": 2,
            "linecolor": "white",
            "showbackground": true,
            "ticks": "",
            "zerolinecolor": "white"
           },
           "zaxis": {
            "backgroundcolor": "#E5ECF6",
            "gridcolor": "white",
            "gridwidth": 2,
            "linecolor": "white",
            "showbackground": true,
            "ticks": "",
            "zerolinecolor": "white"
           }
          },
          "shapedefaults": {
           "line": {
            "color": "#2a3f5f"
           }
          },
          "ternary": {
           "aaxis": {
            "gridcolor": "white",
            "linecolor": "white",
            "ticks": ""
           },
           "baxis": {
            "gridcolor": "white",
            "linecolor": "white",
            "ticks": ""
           },
           "bgcolor": "#E5ECF6",
           "caxis": {
            "gridcolor": "white",
            "linecolor": "white",
            "ticks": ""
           }
          },
          "title": {
           "x": 0.05
          },
          "xaxis": {
           "automargin": true,
           "gridcolor": "white",
           "linecolor": "white",
           "ticks": "",
           "title": {
            "standoff": 15
           },
           "zerolinecolor": "white",
           "zerolinewidth": 2
          },
          "yaxis": {
           "automargin": true,
           "gridcolor": "white",
           "linecolor": "white",
           "ticks": "",
           "title": {
            "standoff": 15
           },
           "zerolinecolor": "white",
           "zerolinewidth": 2
          }
         }
        },
        "title": {
         "text": "Galaxy: Andromeda II"
        },
        "xaxis": {
         "anchor": "y",
         "domain": [
          0,
          1
         ],
         "title": {
          "text": "galactic year"
         }
        },
        "yaxis": {
         "anchor": "x",
         "domain": [
          0,
          1
         ],
         "title": {
          "text": "y"
         }
        }
       }
      },
      "text/html": [
       "<div>\n",
       "        \n",
       "        \n",
       "            <div id=\"55354e4a-19bf-4c88-9b92-7c2055cf7198\" class=\"plotly-graph-div\" style=\"height:525px; width:100%;\"></div>\n",
       "            <script type=\"text/javascript\">\n",
       "                require([\"plotly\"], function(Plotly) {\n",
       "                    window.PLOTLYENV=window.PLOTLYENV || {};\n",
       "                    \n",
       "                if (document.getElementById(\"55354e4a-19bf-4c88-9b92-7c2055cf7198\")) {\n",
       "                    Plotly.newPlot(\n",
       "                        '55354e4a-19bf-4c88-9b92-7c2055cf7198',\n",
       "                        [{\"hovertemplate\": \"state=actual<br>galactic year=%{x}<br>y=%{y}<extra></extra>\", \"legendgroup\": \"actual\", \"line\": {\"color\": \"#636efa\", \"dash\": \"solid\"}, \"mode\": \"lines\", \"name\": \"actual\", \"showlegend\": true, \"type\": \"scatter\", \"x\": [0, 1, 2, 3, 4, 5, 6, 7, 8, 9, 10, 11, 12, 13, 14, 15, 16, 17, 18, 19, 20, 21, 22], \"xaxis\": \"x\", \"y\": [0.17018216520359608, 0.170547162999914, 0.1701705380087949, 0.17059735097465634, 0.17065617548162604, 0.1729672510434518, 0.17347122173989238, 0.17503736745081278, 0.17504797518624626, 0.1761465889518916, 0.18237535689646844, 0.1848298554463992, 0.18598952968801474, 0.18659303768710644, 0.18929318812614604, 0.1899637870658627, 0.18887569431579765, 0.19103590306128748, 0.19191268077810053, 0.1917290303504537, 0.14388356063625066, 0.14448057002876502, 0.16993414095810222], \"yaxis\": \"y\"}, {\"hovertemplate\": \"state=predicted<br>galactic year=%{x}<br>y=%{y}<extra></extra>\", \"legendgroup\": \"predicted\", \"line\": {\"color\": \"#EF553B\", \"dash\": \"solid\"}, \"mode\": \"lines\", \"name\": \"predicted\", \"showlegend\": true, \"type\": \"scatter\", \"x\": [0, 1, 2, 3, 4, 5, 6, 7, 8, 9, 10, 11, 12, 13, 14, 15, 16, 17, 18, 19, 20, 21, 22], \"xaxis\": \"x\", \"y\": [0.1702411025762558, 0.17137561738491058, 0.1683105081319809, 0.1700584590435028, 0.17185650765895844, 0.17229007184505463, 0.17337991297245026, 0.17518189549446106, 0.17592133581638336, 0.17597560584545135, 0.18243680894374847, 0.18464134633541107, 0.1861400455236435, 0.18654988706111908, 0.18938128650188446, 0.18992748856544495, 0.1889597624540329, 0.19088612496852875, 0.19213221967220306, 0.19160039722919464, 0.14389675855636597, 0.14447544515132904, 0.21812137961387634], \"yaxis\": \"y\"}],\n",
       "                        {\"legend\": {\"title\": {\"text\": \"state\"}, \"tracegroupgap\": 0}, \"shapes\": [{\"type\": \"line\", \"x0\": 21, \"x1\": 21, \"xref\": \"x\", \"y0\": 0.14388356063625066, \"y1\": 0.21812137961387634, \"yref\": \"y\"}], \"template\": {\"data\": {\"bar\": [{\"error_x\": {\"color\": \"#2a3f5f\"}, \"error_y\": {\"color\": \"#2a3f5f\"}, \"marker\": {\"line\": {\"color\": \"#E5ECF6\", \"width\": 0.5}}, \"type\": \"bar\"}], \"barpolar\": [{\"marker\": {\"line\": {\"color\": \"#E5ECF6\", \"width\": 0.5}}, \"type\": \"barpolar\"}], \"carpet\": [{\"aaxis\": {\"endlinecolor\": \"#2a3f5f\", \"gridcolor\": \"white\", \"linecolor\": \"white\", \"minorgridcolor\": \"white\", \"startlinecolor\": \"#2a3f5f\"}, \"baxis\": {\"endlinecolor\": \"#2a3f5f\", \"gridcolor\": \"white\", \"linecolor\": \"white\", \"minorgridcolor\": \"white\", \"startlinecolor\": \"#2a3f5f\"}, \"type\": \"carpet\"}], \"choropleth\": [{\"colorbar\": {\"outlinewidth\": 0, \"ticks\": \"\"}, \"type\": \"choropleth\"}], \"contour\": [{\"colorbar\": {\"outlinewidth\": 0, \"ticks\": \"\"}, \"colorscale\": [[0.0, \"#0d0887\"], [0.1111111111111111, \"#46039f\"], [0.2222222222222222, \"#7201a8\"], [0.3333333333333333, \"#9c179e\"], [0.4444444444444444, \"#bd3786\"], [0.5555555555555556, \"#d8576b\"], [0.6666666666666666, \"#ed7953\"], [0.7777777777777778, \"#fb9f3a\"], [0.8888888888888888, \"#fdca26\"], [1.0, \"#f0f921\"]], \"type\": \"contour\"}], \"contourcarpet\": [{\"colorbar\": {\"outlinewidth\": 0, \"ticks\": \"\"}, \"type\": \"contourcarpet\"}], \"heatmap\": [{\"colorbar\": {\"outlinewidth\": 0, \"ticks\": \"\"}, \"colorscale\": [[0.0, \"#0d0887\"], [0.1111111111111111, \"#46039f\"], [0.2222222222222222, \"#7201a8\"], [0.3333333333333333, \"#9c179e\"], [0.4444444444444444, \"#bd3786\"], [0.5555555555555556, \"#d8576b\"], [0.6666666666666666, \"#ed7953\"], [0.7777777777777778, \"#fb9f3a\"], [0.8888888888888888, \"#fdca26\"], [1.0, \"#f0f921\"]], \"type\": \"heatmap\"}], \"heatmapgl\": [{\"colorbar\": {\"outlinewidth\": 0, \"ticks\": \"\"}, \"colorscale\": [[0.0, \"#0d0887\"], [0.1111111111111111, \"#46039f\"], [0.2222222222222222, \"#7201a8\"], [0.3333333333333333, \"#9c179e\"], [0.4444444444444444, \"#bd3786\"], [0.5555555555555556, \"#d8576b\"], [0.6666666666666666, \"#ed7953\"], [0.7777777777777778, \"#fb9f3a\"], [0.8888888888888888, \"#fdca26\"], [1.0, \"#f0f921\"]], \"type\": \"heatmapgl\"}], \"histogram\": [{\"marker\": {\"colorbar\": {\"outlinewidth\": 0, \"ticks\": \"\"}}, \"type\": \"histogram\"}], \"histogram2d\": [{\"colorbar\": {\"outlinewidth\": 0, \"ticks\": \"\"}, \"colorscale\": [[0.0, \"#0d0887\"], [0.1111111111111111, \"#46039f\"], [0.2222222222222222, \"#7201a8\"], [0.3333333333333333, \"#9c179e\"], [0.4444444444444444, \"#bd3786\"], [0.5555555555555556, \"#d8576b\"], [0.6666666666666666, \"#ed7953\"], [0.7777777777777778, \"#fb9f3a\"], [0.8888888888888888, \"#fdca26\"], [1.0, \"#f0f921\"]], \"type\": \"histogram2d\"}], \"histogram2dcontour\": [{\"colorbar\": {\"outlinewidth\": 0, \"ticks\": \"\"}, \"colorscale\": [[0.0, \"#0d0887\"], [0.1111111111111111, \"#46039f\"], [0.2222222222222222, \"#7201a8\"], [0.3333333333333333, \"#9c179e\"], [0.4444444444444444, \"#bd3786\"], [0.5555555555555556, \"#d8576b\"], [0.6666666666666666, \"#ed7953\"], [0.7777777777777778, \"#fb9f3a\"], [0.8888888888888888, \"#fdca26\"], [1.0, \"#f0f921\"]], \"type\": \"histogram2dcontour\"}], \"mesh3d\": [{\"colorbar\": {\"outlinewidth\": 0, \"ticks\": \"\"}, \"type\": \"mesh3d\"}], \"parcoords\": [{\"line\": {\"colorbar\": {\"outlinewidth\": 0, \"ticks\": \"\"}}, \"type\": \"parcoords\"}], \"pie\": [{\"automargin\": true, \"type\": \"pie\"}], \"scatter\": [{\"marker\": {\"colorbar\": {\"outlinewidth\": 0, \"ticks\": \"\"}}, \"type\": \"scatter\"}], \"scatter3d\": [{\"line\": {\"colorbar\": {\"outlinewidth\": 0, \"ticks\": \"\"}}, \"marker\": {\"colorbar\": {\"outlinewidth\": 0, \"ticks\": \"\"}}, \"type\": \"scatter3d\"}], \"scattercarpet\": [{\"marker\": {\"colorbar\": {\"outlinewidth\": 0, \"ticks\": \"\"}}, \"type\": \"scattercarpet\"}], \"scattergeo\": [{\"marker\": {\"colorbar\": {\"outlinewidth\": 0, \"ticks\": \"\"}}, \"type\": \"scattergeo\"}], \"scattergl\": [{\"marker\": {\"colorbar\": {\"outlinewidth\": 0, \"ticks\": \"\"}}, \"type\": \"scattergl\"}], \"scattermapbox\": [{\"marker\": {\"colorbar\": {\"outlinewidth\": 0, \"ticks\": \"\"}}, \"type\": \"scattermapbox\"}], \"scatterpolar\": [{\"marker\": {\"colorbar\": {\"outlinewidth\": 0, \"ticks\": \"\"}}, \"type\": \"scatterpolar\"}], \"scatterpolargl\": [{\"marker\": {\"colorbar\": {\"outlinewidth\": 0, \"ticks\": \"\"}}, \"type\": \"scatterpolargl\"}], \"scatterternary\": [{\"marker\": {\"colorbar\": {\"outlinewidth\": 0, \"ticks\": \"\"}}, \"type\": \"scatterternary\"}], \"surface\": [{\"colorbar\": {\"outlinewidth\": 0, \"ticks\": \"\"}, \"colorscale\": [[0.0, \"#0d0887\"], [0.1111111111111111, \"#46039f\"], [0.2222222222222222, \"#7201a8\"], [0.3333333333333333, \"#9c179e\"], [0.4444444444444444, \"#bd3786\"], [0.5555555555555556, \"#d8576b\"], [0.6666666666666666, \"#ed7953\"], [0.7777777777777778, \"#fb9f3a\"], [0.8888888888888888, \"#fdca26\"], [1.0, \"#f0f921\"]], \"type\": \"surface\"}], \"table\": [{\"cells\": {\"fill\": {\"color\": \"#EBF0F8\"}, \"line\": {\"color\": \"white\"}}, \"header\": {\"fill\": {\"color\": \"#C8D4E3\"}, \"line\": {\"color\": \"white\"}}, \"type\": \"table\"}]}, \"layout\": {\"annotationdefaults\": {\"arrowcolor\": \"#2a3f5f\", \"arrowhead\": 0, \"arrowwidth\": 1}, \"coloraxis\": {\"colorbar\": {\"outlinewidth\": 0, \"ticks\": \"\"}}, \"colorscale\": {\"diverging\": [[0, \"#8e0152\"], [0.1, \"#c51b7d\"], [0.2, \"#de77ae\"], [0.3, \"#f1b6da\"], [0.4, \"#fde0ef\"], [0.5, \"#f7f7f7\"], [0.6, \"#e6f5d0\"], [0.7, \"#b8e186\"], [0.8, \"#7fbc41\"], [0.9, \"#4d9221\"], [1, \"#276419\"]], \"sequential\": [[0.0, \"#0d0887\"], [0.1111111111111111, \"#46039f\"], [0.2222222222222222, \"#7201a8\"], [0.3333333333333333, \"#9c179e\"], [0.4444444444444444, \"#bd3786\"], [0.5555555555555556, \"#d8576b\"], [0.6666666666666666, \"#ed7953\"], [0.7777777777777778, \"#fb9f3a\"], [0.8888888888888888, \"#fdca26\"], [1.0, \"#f0f921\"]], \"sequentialminus\": [[0.0, \"#0d0887\"], [0.1111111111111111, \"#46039f\"], [0.2222222222222222, \"#7201a8\"], [0.3333333333333333, \"#9c179e\"], [0.4444444444444444, \"#bd3786\"], [0.5555555555555556, \"#d8576b\"], [0.6666666666666666, \"#ed7953\"], [0.7777777777777778, \"#fb9f3a\"], [0.8888888888888888, \"#fdca26\"], [1.0, \"#f0f921\"]]}, \"colorway\": [\"#636efa\", \"#EF553B\", \"#00cc96\", \"#ab63fa\", \"#FFA15A\", \"#19d3f3\", \"#FF6692\", \"#B6E880\", \"#FF97FF\", \"#FECB52\"], \"font\": {\"color\": \"#2a3f5f\"}, \"geo\": {\"bgcolor\": \"white\", \"lakecolor\": \"white\", \"landcolor\": \"#E5ECF6\", \"showlakes\": true, \"showland\": true, \"subunitcolor\": \"white\"}, \"hoverlabel\": {\"align\": \"left\"}, \"hovermode\": \"closest\", \"mapbox\": {\"style\": \"light\"}, \"paper_bgcolor\": \"white\", \"plot_bgcolor\": \"#E5ECF6\", \"polar\": {\"angularaxis\": {\"gridcolor\": \"white\", \"linecolor\": \"white\", \"ticks\": \"\"}, \"bgcolor\": \"#E5ECF6\", \"radialaxis\": {\"gridcolor\": \"white\", \"linecolor\": \"white\", \"ticks\": \"\"}}, \"scene\": {\"xaxis\": {\"backgroundcolor\": \"#E5ECF6\", \"gridcolor\": \"white\", \"gridwidth\": 2, \"linecolor\": \"white\", \"showbackground\": true, \"ticks\": \"\", \"zerolinecolor\": \"white\"}, \"yaxis\": {\"backgroundcolor\": \"#E5ECF6\", \"gridcolor\": \"white\", \"gridwidth\": 2, \"linecolor\": \"white\", \"showbackground\": true, \"ticks\": \"\", \"zerolinecolor\": \"white\"}, \"zaxis\": {\"backgroundcolor\": \"#E5ECF6\", \"gridcolor\": \"white\", \"gridwidth\": 2, \"linecolor\": \"white\", \"showbackground\": true, \"ticks\": \"\", \"zerolinecolor\": \"white\"}}, \"shapedefaults\": {\"line\": {\"color\": \"#2a3f5f\"}}, \"ternary\": {\"aaxis\": {\"gridcolor\": \"white\", \"linecolor\": \"white\", \"ticks\": \"\"}, \"baxis\": {\"gridcolor\": \"white\", \"linecolor\": \"white\", \"ticks\": \"\"}, \"bgcolor\": \"#E5ECF6\", \"caxis\": {\"gridcolor\": \"white\", \"linecolor\": \"white\", \"ticks\": \"\"}}, \"title\": {\"x\": 0.05}, \"xaxis\": {\"automargin\": true, \"gridcolor\": \"white\", \"linecolor\": \"white\", \"ticks\": \"\", \"title\": {\"standoff\": 15}, \"zerolinecolor\": \"white\", \"zerolinewidth\": 2}, \"yaxis\": {\"automargin\": true, \"gridcolor\": \"white\", \"linecolor\": \"white\", \"ticks\": \"\", \"title\": {\"standoff\": 15}, \"zerolinecolor\": \"white\", \"zerolinewidth\": 2}}}, \"title\": {\"text\": \"Galaxy: Andromeda II\"}, \"xaxis\": {\"anchor\": \"y\", \"domain\": [0.0, 1.0], \"title\": {\"text\": \"galactic year\"}}, \"yaxis\": {\"anchor\": \"x\", \"domain\": [0.0, 1.0], \"title\": {\"text\": \"y\"}}},\n",
       "                        {\"responsive\": true}\n",
       "                    ).then(function(){\n",
       "                            \n",
       "var gd = document.getElementById('55354e4a-19bf-4c88-9b92-7c2055cf7198');\n",
       "var x = new MutationObserver(function (mutations, observer) {{\n",
       "        var display = window.getComputedStyle(gd).display;\n",
       "        if (!display || display === 'none') {{\n",
       "            console.log([gd, 'removed!']);\n",
       "            Plotly.purge(gd);\n",
       "            observer.disconnect();\n",
       "        }}\n",
       "}});\n",
       "\n",
       "// Listen for the removal of the full notebook cells\n",
       "var notebookContainer = gd.closest('#notebook-container');\n",
       "if (notebookContainer) {{\n",
       "    x.observe(notebookContainer, {childList: true});\n",
       "}}\n",
       "\n",
       "// Listen for the clearing of the current output cell\n",
       "var outputEl = gd.closest('.output');\n",
       "if (outputEl) {{\n",
       "    x.observe(outputEl, {childList: true});\n",
       "}}\n",
       "\n",
       "                        })\n",
       "                };\n",
       "                });\n",
       "            </script>\n",
       "        </div>"
      ]
     },
     "metadata": {},
     "output_type": "display_data"
    }
   ],
   "source": [
    "# Plotting y_true vs y_pred with forecast, change i variable\n",
    "# to see the different galaxies\n",
    "galaxy_index = 2\n",
    "plot_resulting_df(res_df=train_history.resulting_df, index=galaxy_index,\n",
    "                 val_size=2)"
   ]
  }
 ],
 "metadata": {
  "kernelspec": {
   "display_name": "Python 3",
   "language": "python",
   "name": "python3"
  },
  "language_info": {
   "codemirror_mode": {
    "name": "ipython",
    "version": 3
   },
   "file_extension": ".py",
   "mimetype": "text/x-python",
   "name": "python",
   "nbconvert_exporter": "python",
   "pygments_lexer": "ipython3",
   "version": "3.8.0"
  },
  "notify_time": "5"
 },
 "nbformat": 4,
 "nbformat_minor": 4
}
