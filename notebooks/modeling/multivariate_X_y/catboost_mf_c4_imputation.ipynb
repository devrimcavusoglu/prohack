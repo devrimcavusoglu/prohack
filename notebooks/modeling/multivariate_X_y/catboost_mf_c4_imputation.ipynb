{
 "cells": [
  {
   "cell_type": "code",
   "execution_count": 1,
   "metadata": {
    "ExecuteTime": {
     "end_time": "2020-06-20T21:01:49.280373Z",
     "start_time": "2020-06-20T21:01:48.053258Z"
    }
   },
   "outputs": [
    {
     "data": {
      "text/html": [
       "        <script type=\"text/javascript\">\n",
       "        window.PlotlyConfig = {MathJaxConfig: 'local'};\n",
       "        if (window.MathJax) {MathJax.Hub.Config({SVG: {font: \"STIX-Web\"}});}\n",
       "        if (typeof require !== 'undefined') {\n",
       "        require.undef(\"plotly\");\n",
       "        requirejs.config({\n",
       "            paths: {\n",
       "                'plotly': ['https://cdn.plot.ly/plotly-latest.min']\n",
       "            }\n",
       "        });\n",
       "        require(['plotly'], function(Plotly) {\n",
       "            window._Plotly = Plotly;\n",
       "        });\n",
       "        }\n",
       "        </script>\n",
       "        "
      ]
     },
     "metadata": {},
     "output_type": "display_data"
    }
   ],
   "source": [
    "# Scientific libraries\t\t              \n",
    "import numpy as np\t\t              \n",
    "import scipy as sp\t\t              \n",
    "import pandas as pd\t\t              \n",
    "import json\t\t              \n",
    "import missingno as msno\t\t              \n",
    "\n",
    "# Loading Plotting Modules\t\t              \n",
    "import matplotlib\t\t              \n",
    "import matplotlib.pyplot as plt\t\t              \n",
    "import seaborn as sns\t\t              \n",
    "%matplotlib inline\t\t              \n",
    "import chart_studio.plotly as py\t\t              \n",
    "import plotly.figure_factory as ff\t\t              \n",
    "import plotly.graph_objects as go\t\t              \n",
    "import plotly.express as px\t\t              \n",
    "from plotly.offline import download_plotlyjs, init_notebook_mode, plot, iplot\t\t              \n",
    "init_notebook_mode(connected=True)\t\t              \n",
    "\t\t              \n",
    "import os\t\t              \n",
    "import gc"
   ]
  },
  {
   "cell_type": "code",
   "execution_count": 2,
   "metadata": {
    "ExecuteTime": {
     "end_time": "2020-06-20T21:01:49.284377Z",
     "start_time": "2020-06-20T21:01:49.281374Z"
    }
   },
   "outputs": [],
   "source": [
    "# Setting Data Frame Options                      \n",
    "pd.set_option('display.max_rows', 40)                      \n",
    "pd.set_option('display.max_columns', 50)                      \n",
    "pd.set_option('display.width', 100)                      \n",
    "pd.set_option('display.max_colwidth', 100)                      \n",
    "\n",
    "# Setting Plot Configuration                      \n",
    "sns.set(rc={'figure.figsize':(19,11)}, style = 'white')"
   ]
  },
  {
   "cell_type": "code",
   "execution_count": 3,
   "metadata": {
    "ExecuteTime": {
     "end_time": "2020-06-20T21:01:49.368470Z",
     "start_time": "2020-06-20T21:01:49.285378Z"
    },
    "scrolled": true
   },
   "outputs": [
    {
     "name": "stdout",
     "output_type": "stream",
     "text": [
      "Data Frame: 3865 x 79\n"
     ]
    },
    {
     "data": {
      "text/html": [
       "<div>\n",
       "<style scoped>\n",
       "    .dataframe tbody tr th:only-of-type {\n",
       "        vertical-align: middle;\n",
       "    }\n",
       "\n",
       "    .dataframe tbody tr th {\n",
       "        vertical-align: top;\n",
       "    }\n",
       "\n",
       "    .dataframe thead th {\n",
       "        text-align: right;\n",
       "    }\n",
       "</style>\n",
       "<table border=\"1\" class=\"dataframe\">\n",
       "  <thead>\n",
       "    <tr style=\"text-align: right;\">\n",
       "      <th></th>\n",
       "      <th>existence expectancy index</th>\n",
       "      <th>existence expectancy at birth</th>\n",
       "      <th>Gross income per capita</th>\n",
       "      <th>Income Index</th>\n",
       "      <th>Expected years of education (galactic years)</th>\n",
       "      <th>Mean years of education (galactic years)</th>\n",
       "      <th>Intergalactic Development Index (IDI)</th>\n",
       "      <th>Education Index</th>\n",
       "      <th>Intergalactic Development Index (IDI), Rank</th>\n",
       "      <th>Population using at least basic drinking-water services (%)</th>\n",
       "      <th>Population using at least basic sanitation services (%)</th>\n",
       "      <th>Gross capital formation (% of GGP)</th>\n",
       "      <th>Population, total (millions)</th>\n",
       "      <th>Population, urban (%)</th>\n",
       "      <th>Mortality rate, under-five (per 1,000 live births)</th>\n",
       "      <th>Mortality rate, infant (per 1,000 live births)</th>\n",
       "      <th>Old age dependency ratio (old age (65 and older) per 100 creatures (ages 15-64))</th>\n",
       "      <th>Population, ages 15–64 (millions)</th>\n",
       "      <th>Population, ages 65 and older (millions)</th>\n",
       "      <th>Life expectancy at birth, male (galactic years)</th>\n",
       "      <th>Life expectancy at birth, female (galactic years)</th>\n",
       "      <th>Population, under age 5 (millions)</th>\n",
       "      <th>Young age (0-14) dependency ratio (per 100 creatures ages 15-64)</th>\n",
       "      <th>Adolescent birth rate (births per 1,000 female creatures ages 15-19)</th>\n",
       "      <th>Total unemployment rate (female to male ratio)</th>\n",
       "      <th>...</th>\n",
       "      <th>Estimated gross galactic income per capita, female</th>\n",
       "      <th>Rural population with access to electricity (%)</th>\n",
       "      <th>Domestic credit provided by financial sector (% of GGP)</th>\n",
       "      <th>Population with at least some secondary education, female (% ages 25 and older)</th>\n",
       "      <th>Population with at least some secondary education, male (% ages 25 and older)</th>\n",
       "      <th>Gross fixed capital formation (% of GGP)</th>\n",
       "      <th>Remittances, inflows (% of GGP)</th>\n",
       "      <th>Population with at least some secondary education (% ages 25 and older)</th>\n",
       "      <th>Intergalactic inbound tourists (thousands)</th>\n",
       "      <th>Gross enrolment ratio, primary (% of primary under-age population)</th>\n",
       "      <th>Respiratory disease incidence (per 100,000 people)</th>\n",
       "      <th>Interstellar phone subscriptions (per 100 people)</th>\n",
       "      <th>Interstellar Data Net users, total (% of population)</th>\n",
       "      <th>Current health expenditure (% of GGP)</th>\n",
       "      <th>Intergalactic Development Index (IDI), female</th>\n",
       "      <th>Intergalactic Development Index (IDI), male</th>\n",
       "      <th>Gender Development Index (GDI)</th>\n",
       "      <th>Intergalactic Development Index (IDI), female, Rank</th>\n",
       "      <th>Intergalactic Development Index (IDI), male, Rank</th>\n",
       "      <th>Adjusted net savings</th>\n",
       "      <th>Creature Immunodeficiency Disease prevalence, adult (% ages 15-49), total</th>\n",
       "      <th>Private galaxy capital flows (% of GGP)</th>\n",
       "      <th>Gender Inequality Index (GII)</th>\n",
       "      <th>galaxy</th>\n",
       "      <th>y</th>\n",
       "    </tr>\n",
       "  </thead>\n",
       "  <tbody>\n",
       "    <tr>\n",
       "      <th>0</th>\n",
       "      <td>0.391903</td>\n",
       "      <td>0.436379</td>\n",
       "      <td>0.180134</td>\n",
       "      <td>0.330914</td>\n",
       "      <td>0.191779</td>\n",
       "      <td>0.357754</td>\n",
       "      <td>0.344793</td>\n",
       "      <td>0.337492</td>\n",
       "      <td>0.593450</td>\n",
       "      <td>0.355888</td>\n",
       "      <td>0.277196</td>\n",
       "      <td>0.474812</td>\n",
       "      <td>0.100170</td>\n",
       "      <td>0.029288</td>\n",
       "      <td>0.393048</td>\n",
       "      <td>0.613240</td>\n",
       "      <td>0.169169</td>\n",
       "      <td>0.103254</td>\n",
       "      <td>0.124460</td>\n",
       "      <td>0.316953</td>\n",
       "      <td>0.462997</td>\n",
       "      <td>0.074950</td>\n",
       "      <td>0.671548</td>\n",
       "      <td>0.581831</td>\n",
       "      <td>0.055885</td>\n",
       "      <td>...</td>\n",
       "      <td>0.157990</td>\n",
       "      <td>0.234921</td>\n",
       "      <td>0.191719</td>\n",
       "      <td>0.223137</td>\n",
       "      <td>0.283052</td>\n",
       "      <td>0.515809</td>\n",
       "      <td>0.053530</td>\n",
       "      <td>0.238422</td>\n",
       "      <td>0.091255</td>\n",
       "      <td>0.374999</td>\n",
       "      <td>0.324717</td>\n",
       "      <td>0.205774</td>\n",
       "      <td>0.203008</td>\n",
       "      <td>0.219118</td>\n",
       "      <td>0.323646</td>\n",
       "      <td>0.293293</td>\n",
       "      <td>0.684113</td>\n",
       "      <td>0.599405</td>\n",
       "      <td>0.578120</td>\n",
       "      <td>0.682786</td>\n",
       "      <td>0.196825</td>\n",
       "      <td>0.917897</td>\n",
       "      <td>0.766789</td>\n",
       "      <td>0.047759</td>\n",
       "      <td>0.052590</td>\n",
       "    </tr>\n",
       "    <tr>\n",
       "      <th>1</th>\n",
       "      <td>0.577139</td>\n",
       "      <td>0.706534</td>\n",
       "      <td>0.200356</td>\n",
       "      <td>0.523652</td>\n",
       "      <td>0.296773</td>\n",
       "      <td>0.164296</td>\n",
       "      <td>0.583800</td>\n",
       "      <td>0.257466</td>\n",
       "      <td>0.538425</td>\n",
       "      <td>0.614669</td>\n",
       "      <td>0.594579</td>\n",
       "      <td>0.447638</td>\n",
       "      <td>0.069502</td>\n",
       "      <td>0.608693</td>\n",
       "      <td>0.305141</td>\n",
       "      <td>0.278800</td>\n",
       "      <td>0.182756</td>\n",
       "      <td>0.115696</td>\n",
       "      <td>0.122159</td>\n",
       "      <td>0.544774</td>\n",
       "      <td>0.574020</td>\n",
       "      <td>0.067586</td>\n",
       "      <td>0.594823</td>\n",
       "      <td>0.346862</td>\n",
       "      <td>0.063764</td>\n",
       "      <td>...</td>\n",
       "      <td>0.195096</td>\n",
       "      <td>0.622902</td>\n",
       "      <td>0.160763</td>\n",
       "      <td>0.339497</td>\n",
       "      <td>0.317052</td>\n",
       "      <td>0.336151</td>\n",
       "      <td>0.036478</td>\n",
       "      <td>0.250016</td>\n",
       "      <td>0.092411</td>\n",
       "      <td>0.596507</td>\n",
       "      <td>0.229269</td>\n",
       "      <td>0.232885</td>\n",
       "      <td>0.230264</td>\n",
       "      <td>0.226282</td>\n",
       "      <td>0.513055</td>\n",
       "      <td>0.517547</td>\n",
       "      <td>0.686377</td>\n",
       "      <td>0.610330</td>\n",
       "      <td>0.543835</td>\n",
       "      <td>0.686677</td>\n",
       "      <td>0.146853</td>\n",
       "      <td>0.911980</td>\n",
       "      <td>0.654790</td>\n",
       "      <td>0.057951</td>\n",
       "      <td>0.059868</td>\n",
       "    </tr>\n",
       "    <tr>\n",
       "      <th>2</th>\n",
       "      <td>0.422009</td>\n",
       "      <td>0.382670</td>\n",
       "      <td>0.056671</td>\n",
       "      <td>0.194190</td>\n",
       "      <td>0.217680</td>\n",
       "      <td>0.213422</td>\n",
       "      <td>0.203753</td>\n",
       "      <td>0.161114</td>\n",
       "      <td>0.747860</td>\n",
       "      <td>0.279038</td>\n",
       "      <td>0.237096</td>\n",
       "      <td>0.206892</td>\n",
       "      <td>0.053043</td>\n",
       "      <td>0.334331</td>\n",
       "      <td>0.595041</td>\n",
       "      <td>0.636431</td>\n",
       "      <td>0.243444</td>\n",
       "      <td>0.114713</td>\n",
       "      <td>0.099141</td>\n",
       "      <td>0.360129</td>\n",
       "      <td>0.291935</td>\n",
       "      <td>0.131685</td>\n",
       "      <td>0.795227</td>\n",
       "      <td>0.784964</td>\n",
       "      <td>0.049980</td>\n",
       "      <td>...</td>\n",
       "      <td>0.147063</td>\n",
       "      <td>0.213918</td>\n",
       "      <td>0.192623</td>\n",
       "      <td>0.237297</td>\n",
       "      <td>0.301120</td>\n",
       "      <td>0.178143</td>\n",
       "      <td>0.024396</td>\n",
       "      <td>0.101404</td>\n",
       "      <td>0.084511</td>\n",
       "      <td>0.426323</td>\n",
       "      <td>0.298794</td>\n",
       "      <td>0.141450</td>\n",
       "      <td>0.191675</td>\n",
       "      <td>0.255438</td>\n",
       "      <td>0.264287</td>\n",
       "      <td>0.191852</td>\n",
       "      <td>0.641791</td>\n",
       "      <td>0.802950</td>\n",
       "      <td>0.803173</td>\n",
       "      <td>0.700804</td>\n",
       "      <td>0.204769</td>\n",
       "      <td>0.916773</td>\n",
       "      <td>0.796380</td>\n",
       "      <td>0.042337</td>\n",
       "      <td>0.050449</td>\n",
       "    </tr>\n",
       "    <tr>\n",
       "      <th>3</th>\n",
       "      <td>0.320718</td>\n",
       "      <td>0.273319</td>\n",
       "      <td>0.133938</td>\n",
       "      <td>0.297991</td>\n",
       "      <td>0.202692</td>\n",
       "      <td>0.338361</td>\n",
       "      <td>0.217090</td>\n",
       "      <td>0.322132</td>\n",
       "      <td>0.620007</td>\n",
       "      <td>0.321512</td>\n",
       "      <td>0.250549</td>\n",
       "      <td>0.373955</td>\n",
       "      <td>0.057994</td>\n",
       "      <td>0.250602</td>\n",
       "      <td>0.734030</td>\n",
       "      <td>0.924904</td>\n",
       "      <td>0.180379</td>\n",
       "      <td>0.152305</td>\n",
       "      <td>0.111382</td>\n",
       "      <td>0.201810</td>\n",
       "      <td>0.224279</td>\n",
       "      <td>0.133741</td>\n",
       "      <td>0.667121</td>\n",
       "      <td>0.670240</td>\n",
       "      <td>0.053614</td>\n",
       "      <td>...</td>\n",
       "      <td>0.131608</td>\n",
       "      <td>0.229581</td>\n",
       "      <td>0.198887</td>\n",
       "      <td>0.216708</td>\n",
       "      <td>0.301552</td>\n",
       "      <td>0.324499</td>\n",
       "      <td>0.056827</td>\n",
       "      <td>0.240170</td>\n",
       "      <td>0.087511</td>\n",
       "      <td>0.334398</td>\n",
       "      <td>0.328659</td>\n",
       "      <td>0.130522</td>\n",
       "      <td>0.190795</td>\n",
       "      <td>0.567732</td>\n",
       "      <td>0.239026</td>\n",
       "      <td>0.211705</td>\n",
       "      <td>0.643656</td>\n",
       "      <td>0.580420</td>\n",
       "      <td>0.586058</td>\n",
       "      <td>0.668301</td>\n",
       "      <td>0.188288</td>\n",
       "      <td>0.917065</td>\n",
       "      <td>0.782493</td>\n",
       "      <td>0.041047</td>\n",
       "      <td>0.049394</td>\n",
       "    </tr>\n",
       "    <tr>\n",
       "      <th>4</th>\n",
       "      <td>0.746424</td>\n",
       "      <td>0.718583</td>\n",
       "      <td>0.536780</td>\n",
       "      <td>0.784350</td>\n",
       "      <td>0.431892</td>\n",
       "      <td>0.657389</td>\n",
       "      <td>0.663786</td>\n",
       "      <td>0.674673</td>\n",
       "      <td>0.243647</td>\n",
       "      <td>0.806120</td>\n",
       "      <td>0.780922</td>\n",
       "      <td>0.424333</td>\n",
       "      <td>0.094456</td>\n",
       "      <td>0.731785</td>\n",
       "      <td>0.070185</td>\n",
       "      <td>0.226070</td>\n",
       "      <td>0.442926</td>\n",
       "      <td>0.120113</td>\n",
       "      <td>0.118572</td>\n",
       "      <td>0.813409</td>\n",
       "      <td>0.701534</td>\n",
       "      <td>0.107015</td>\n",
       "      <td>0.327374</td>\n",
       "      <td>0.169402</td>\n",
       "      <td>0.060880</td>\n",
       "      <td>...</td>\n",
       "      <td>0.654762</td>\n",
       "      <td>0.769611</td>\n",
       "      <td>0.335516</td>\n",
       "      <td>0.475970</td>\n",
       "      <td>0.453048</td>\n",
       "      <td>0.357215</td>\n",
       "      <td>0.058588</td>\n",
       "      <td>0.406833</td>\n",
       "      <td>0.087624</td>\n",
       "      <td>0.555963</td>\n",
       "      <td>0.131623</td>\n",
       "      <td>0.594284</td>\n",
       "      <td>0.574955</td>\n",
       "      <td>0.369993</td>\n",
       "      <td>0.760254</td>\n",
       "      <td>0.750144</td>\n",
       "      <td>0.853754</td>\n",
       "      <td>0.263455</td>\n",
       "      <td>0.253005</td>\n",
       "      <td>0.802429</td>\n",
       "      <td>0.180325</td>\n",
       "      <td>0.916510</td>\n",
       "      <td>0.318590</td>\n",
       "      <td>0.208920</td>\n",
       "      <td>0.154247</td>\n",
       "    </tr>\n",
       "  </tbody>\n",
       "</table>\n",
       "<p>5 rows × 79 columns</p>\n",
       "</div>"
      ],
      "text/plain": [
       "   existence expectancy index  existence expectancy at birth  Gross income per capita  \\\n",
       "0                    0.391903                       0.436379                 0.180134   \n",
       "1                    0.577139                       0.706534                 0.200356   \n",
       "2                    0.422009                       0.382670                 0.056671   \n",
       "3                    0.320718                       0.273319                 0.133938   \n",
       "4                    0.746424                       0.718583                 0.536780   \n",
       "\n",
       "   Income Index  Expected years of education (galactic years)  \\\n",
       "0      0.330914                                      0.191779   \n",
       "1      0.523652                                      0.296773   \n",
       "2      0.194190                                      0.217680   \n",
       "3      0.297991                                      0.202692   \n",
       "4      0.784350                                      0.431892   \n",
       "\n",
       "   Mean years of education (galactic years)  Intergalactic Development Index (IDI)  \\\n",
       "0                                  0.357754                               0.344793   \n",
       "1                                  0.164296                               0.583800   \n",
       "2                                  0.213422                               0.203753   \n",
       "3                                  0.338361                               0.217090   \n",
       "4                                  0.657389                               0.663786   \n",
       "\n",
       "   Education Index  Intergalactic Development Index (IDI), Rank  \\\n",
       "0         0.337492                                     0.593450   \n",
       "1         0.257466                                     0.538425   \n",
       "2         0.161114                                     0.747860   \n",
       "3         0.322132                                     0.620007   \n",
       "4         0.674673                                     0.243647   \n",
       "\n",
       "   Population using at least basic drinking-water services (%)  \\\n",
       "0                                                     0.355888   \n",
       "1                                                     0.614669   \n",
       "2                                                     0.279038   \n",
       "3                                                     0.321512   \n",
       "4                                                     0.806120   \n",
       "\n",
       "   Population using at least basic sanitation services (%)  Gross capital formation (% of GGP)  \\\n",
       "0                                                 0.277196                            0.474812   \n",
       "1                                                 0.594579                            0.447638   \n",
       "2                                                 0.237096                            0.206892   \n",
       "3                                                 0.250549                            0.373955   \n",
       "4                                                 0.780922                            0.424333   \n",
       "\n",
       "   Population, total (millions)  Population, urban (%)  \\\n",
       "0                      0.100170               0.029288   \n",
       "1                      0.069502               0.608693   \n",
       "2                      0.053043               0.334331   \n",
       "3                      0.057994               0.250602   \n",
       "4                      0.094456               0.731785   \n",
       "\n",
       "   Mortality rate, under-five (per 1,000 live births)  \\\n",
       "0                                            0.393048   \n",
       "1                                            0.305141   \n",
       "2                                            0.595041   \n",
       "3                                            0.734030   \n",
       "4                                            0.070185   \n",
       "\n",
       "   Mortality rate, infant (per 1,000 live births)  \\\n",
       "0                                        0.613240   \n",
       "1                                        0.278800   \n",
       "2                                        0.636431   \n",
       "3                                        0.924904   \n",
       "4                                        0.226070   \n",
       "\n",
       "   Old age dependency ratio (old age (65 and older) per 100 creatures (ages 15-64))  \\\n",
       "0                                                                          0.169169   \n",
       "1                                                                          0.182756   \n",
       "2                                                                          0.243444   \n",
       "3                                                                          0.180379   \n",
       "4                                                                          0.442926   \n",
       "\n",
       "   Population, ages 15–64 (millions)  Population, ages 65 and older (millions)  \\\n",
       "0                           0.103254                                  0.124460   \n",
       "1                           0.115696                                  0.122159   \n",
       "2                           0.114713                                  0.099141   \n",
       "3                           0.152305                                  0.111382   \n",
       "4                           0.120113                                  0.118572   \n",
       "\n",
       "   Life expectancy at birth, male (galactic years)  \\\n",
       "0                                         0.316953   \n",
       "1                                         0.544774   \n",
       "2                                         0.360129   \n",
       "3                                         0.201810   \n",
       "4                                         0.813409   \n",
       "\n",
       "   Life expectancy at birth, female (galactic years)  Population, under age 5 (millions)  \\\n",
       "0                                           0.462997                            0.074950   \n",
       "1                                           0.574020                            0.067586   \n",
       "2                                           0.291935                            0.131685   \n",
       "3                                           0.224279                            0.133741   \n",
       "4                                           0.701534                            0.107015   \n",
       "\n",
       "   Young age (0-14) dependency ratio (per 100 creatures ages 15-64)  \\\n",
       "0                                                          0.671548   \n",
       "1                                                          0.594823   \n",
       "2                                                          0.795227   \n",
       "3                                                          0.667121   \n",
       "4                                                          0.327374   \n",
       "\n",
       "   Adolescent birth rate (births per 1,000 female creatures ages 15-19)  \\\n",
       "0                                                              0.581831   \n",
       "1                                                              0.346862   \n",
       "2                                                              0.784964   \n",
       "3                                                              0.670240   \n",
       "4                                                              0.169402   \n",
       "\n",
       "   Total unemployment rate (female to male ratio)  ...  \\\n",
       "0                                        0.055885  ...   \n",
       "1                                        0.063764  ...   \n",
       "2                                        0.049980  ...   \n",
       "3                                        0.053614  ...   \n",
       "4                                        0.060880  ...   \n",
       "\n",
       "   Estimated gross galactic income per capita, female  \\\n",
       "0                                            0.157990   \n",
       "1                                            0.195096   \n",
       "2                                            0.147063   \n",
       "3                                            0.131608   \n",
       "4                                            0.654762   \n",
       "\n",
       "   Rural population with access to electricity (%)  \\\n",
       "0                                         0.234921   \n",
       "1                                         0.622902   \n",
       "2                                         0.213918   \n",
       "3                                         0.229581   \n",
       "4                                         0.769611   \n",
       "\n",
       "   Domestic credit provided by financial sector (% of GGP)  \\\n",
       "0                                                 0.191719   \n",
       "1                                                 0.160763   \n",
       "2                                                 0.192623   \n",
       "3                                                 0.198887   \n",
       "4                                                 0.335516   \n",
       "\n",
       "   Population with at least some secondary education, female (% ages 25 and older)  \\\n",
       "0                                                                         0.223137   \n",
       "1                                                                         0.339497   \n",
       "2                                                                         0.237297   \n",
       "3                                                                         0.216708   \n",
       "4                                                                         0.475970   \n",
       "\n",
       "   Population with at least some secondary education, male (% ages 25 and older)  \\\n",
       "0                                                                       0.283052   \n",
       "1                                                                       0.317052   \n",
       "2                                                                       0.301120   \n",
       "3                                                                       0.301552   \n",
       "4                                                                       0.453048   \n",
       "\n",
       "   Gross fixed capital formation (% of GGP)  Remittances, inflows (% of GGP)  \\\n",
       "0                                  0.515809                         0.053530   \n",
       "1                                  0.336151                         0.036478   \n",
       "2                                  0.178143                         0.024396   \n",
       "3                                  0.324499                         0.056827   \n",
       "4                                  0.357215                         0.058588   \n",
       "\n",
       "   Population with at least some secondary education (% ages 25 and older)  \\\n",
       "0                                                                 0.238422   \n",
       "1                                                                 0.250016   \n",
       "2                                                                 0.101404   \n",
       "3                                                                 0.240170   \n",
       "4                                                                 0.406833   \n",
       "\n",
       "   Intergalactic inbound tourists (thousands)  \\\n",
       "0                                    0.091255   \n",
       "1                                    0.092411   \n",
       "2                                    0.084511   \n",
       "3                                    0.087511   \n",
       "4                                    0.087624   \n",
       "\n",
       "   Gross enrolment ratio, primary (% of primary under-age population)  \\\n",
       "0                                                            0.374999   \n",
       "1                                                            0.596507   \n",
       "2                                                            0.426323   \n",
       "3                                                            0.334398   \n",
       "4                                                            0.555963   \n",
       "\n",
       "   Respiratory disease incidence (per 100,000 people)  \\\n",
       "0                                            0.324717   \n",
       "1                                            0.229269   \n",
       "2                                            0.298794   \n",
       "3                                            0.328659   \n",
       "4                                            0.131623   \n",
       "\n",
       "   Interstellar phone subscriptions (per 100 people)  \\\n",
       "0                                           0.205774   \n",
       "1                                           0.232885   \n",
       "2                                           0.141450   \n",
       "3                                           0.130522   \n",
       "4                                           0.594284   \n",
       "\n",
       "   Interstellar Data Net users, total (% of population)  Current health expenditure (% of GGP)  \\\n",
       "0                                              0.203008                               0.219118   \n",
       "1                                              0.230264                               0.226282   \n",
       "2                                              0.191675                               0.255438   \n",
       "3                                              0.190795                               0.567732   \n",
       "4                                              0.574955                               0.369993   \n",
       "\n",
       "   Intergalactic Development Index (IDI), female  Intergalactic Development Index (IDI), male  \\\n",
       "0                                       0.323646                                     0.293293   \n",
       "1                                       0.513055                                     0.517547   \n",
       "2                                       0.264287                                     0.191852   \n",
       "3                                       0.239026                                     0.211705   \n",
       "4                                       0.760254                                     0.750144   \n",
       "\n",
       "   Gender Development Index (GDI)  Intergalactic Development Index (IDI), female, Rank  \\\n",
       "0                        0.684113                                             0.599405   \n",
       "1                        0.686377                                             0.610330   \n",
       "2                        0.641791                                             0.802950   \n",
       "3                        0.643656                                             0.580420   \n",
       "4                        0.853754                                             0.263455   \n",
       "\n",
       "   Intergalactic Development Index (IDI), male, Rank  Adjusted net savings   \\\n",
       "0                                           0.578120               0.682786   \n",
       "1                                           0.543835               0.686677   \n",
       "2                                           0.803173               0.700804   \n",
       "3                                           0.586058               0.668301   \n",
       "4                                           0.253005               0.802429   \n",
       "\n",
       "   Creature Immunodeficiency Disease prevalence, adult (% ages 15-49), total  \\\n",
       "0                                                                   0.196825   \n",
       "1                                                                   0.146853   \n",
       "2                                                                   0.204769   \n",
       "3                                                                   0.188288   \n",
       "4                                                                   0.180325   \n",
       "\n",
       "   Private galaxy capital flows (% of GGP)  Gender Inequality Index (GII)    galaxy         y  \n",
       "0                                 0.917897                       0.766789  0.047759  0.052590  \n",
       "1                                 0.911980                       0.654790  0.057951  0.059868  \n",
       "2                                 0.916773                       0.796380  0.042337  0.050449  \n",
       "3                                 0.917065                       0.782493  0.041047  0.049394  \n",
       "4                                 0.916510                       0.318590  0.208920  0.154247  \n",
       "\n",
       "[5 rows x 79 columns]"
      ]
     },
     "execution_count": 3,
     "metadata": {},
     "output_type": "execute_result"
    }
   ],
   "source": [
    "train = pd.read_csv('../../eda/outputs/imputed_c4_scaled_train.csv')                \n",
    "m, n = train.shape                \n",
    "print('Data Frame: {} x {}'.format(m,n))                \n",
    "train.head()"
   ]
  },
  {
   "cell_type": "code",
   "execution_count": 4,
   "metadata": {
    "ExecuteTime": {
     "end_time": "2020-06-20T21:01:49.418516Z",
     "start_time": "2020-06-20T21:01:49.369471Z"
    },
    "scrolled": false
   },
   "outputs": [
    {
     "name": "stdout",
     "output_type": "stream",
     "text": [
      "Data Frame: 890 x 78\n"
     ]
    },
    {
     "data": {
      "text/html": [
       "<div>\n",
       "<style scoped>\n",
       "    .dataframe tbody tr th:only-of-type {\n",
       "        vertical-align: middle;\n",
       "    }\n",
       "\n",
       "    .dataframe tbody tr th {\n",
       "        vertical-align: top;\n",
       "    }\n",
       "\n",
       "    .dataframe thead th {\n",
       "        text-align: right;\n",
       "    }\n",
       "</style>\n",
       "<table border=\"1\" class=\"dataframe\">\n",
       "  <thead>\n",
       "    <tr style=\"text-align: right;\">\n",
       "      <th></th>\n",
       "      <th>existence expectancy index</th>\n",
       "      <th>existence expectancy at birth</th>\n",
       "      <th>Gross income per capita</th>\n",
       "      <th>Income Index</th>\n",
       "      <th>Expected years of education (galactic years)</th>\n",
       "      <th>Mean years of education (galactic years)</th>\n",
       "      <th>Intergalactic Development Index (IDI)</th>\n",
       "      <th>Education Index</th>\n",
       "      <th>Intergalactic Development Index (IDI), Rank</th>\n",
       "      <th>Population using at least basic drinking-water services (%)</th>\n",
       "      <th>Population using at least basic sanitation services (%)</th>\n",
       "      <th>Gross capital formation (% of GGP)</th>\n",
       "      <th>Population, total (millions)</th>\n",
       "      <th>Population, urban (%)</th>\n",
       "      <th>Mortality rate, under-five (per 1,000 live births)</th>\n",
       "      <th>Mortality rate, infant (per 1,000 live births)</th>\n",
       "      <th>Old age dependency ratio (old age (65 and older) per 100 creatures (ages 15-64))</th>\n",
       "      <th>Population, ages 15–64 (millions)</th>\n",
       "      <th>Population, ages 65 and older (millions)</th>\n",
       "      <th>Life expectancy at birth, male (galactic years)</th>\n",
       "      <th>Life expectancy at birth, female (galactic years)</th>\n",
       "      <th>Population, under age 5 (millions)</th>\n",
       "      <th>Young age (0-14) dependency ratio (per 100 creatures ages 15-64)</th>\n",
       "      <th>Adolescent birth rate (births per 1,000 female creatures ages 15-19)</th>\n",
       "      <th>Total unemployment rate (female to male ratio)</th>\n",
       "      <th>...</th>\n",
       "      <th>Estimated gross galactic income per capita, male</th>\n",
       "      <th>Estimated gross galactic income per capita, female</th>\n",
       "      <th>Rural population with access to electricity (%)</th>\n",
       "      <th>Domestic credit provided by financial sector (% of GGP)</th>\n",
       "      <th>Population with at least some secondary education, female (% ages 25 and older)</th>\n",
       "      <th>Population with at least some secondary education, male (% ages 25 and older)</th>\n",
       "      <th>Gross fixed capital formation (% of GGP)</th>\n",
       "      <th>Remittances, inflows (% of GGP)</th>\n",
       "      <th>Population with at least some secondary education (% ages 25 and older)</th>\n",
       "      <th>Intergalactic inbound tourists (thousands)</th>\n",
       "      <th>Gross enrolment ratio, primary (% of primary under-age population)</th>\n",
       "      <th>Respiratory disease incidence (per 100,000 people)</th>\n",
       "      <th>Interstellar phone subscriptions (per 100 people)</th>\n",
       "      <th>Interstellar Data Net users, total (% of population)</th>\n",
       "      <th>Current health expenditure (% of GGP)</th>\n",
       "      <th>Intergalactic Development Index (IDI), female</th>\n",
       "      <th>Intergalactic Development Index (IDI), male</th>\n",
       "      <th>Gender Development Index (GDI)</th>\n",
       "      <th>Intergalactic Development Index (IDI), female, Rank</th>\n",
       "      <th>Intergalactic Development Index (IDI), male, Rank</th>\n",
       "      <th>Adjusted net savings</th>\n",
       "      <th>Creature Immunodeficiency Disease prevalence, adult (% ages 15-49), total</th>\n",
       "      <th>Private galaxy capital flows (% of GGP)</th>\n",
       "      <th>Gender Inequality Index (GII)</th>\n",
       "      <th>galaxy</th>\n",
       "    </tr>\n",
       "  </thead>\n",
       "  <tbody>\n",
       "    <tr>\n",
       "      <th>0</th>\n",
       "      <td>0.223149</td>\n",
       "      <td>0.261673</td>\n",
       "      <td>0.081769</td>\n",
       "      <td>0.281643</td>\n",
       "      <td>0.285646</td>\n",
       "      <td>0.512036</td>\n",
       "      <td>0.285081</td>\n",
       "      <td>0.339331</td>\n",
       "      <td>0.831239</td>\n",
       "      <td>0.698324</td>\n",
       "      <td>0.355976</td>\n",
       "      <td>0.197936</td>\n",
       "      <td>0.103516</td>\n",
       "      <td>0.470690</td>\n",
       "      <td>0.382672</td>\n",
       "      <td>0.466538</td>\n",
       "      <td>0.172478</td>\n",
       "      <td>0.103171</td>\n",
       "      <td>0.114102</td>\n",
       "      <td>0.303145</td>\n",
       "      <td>0.315039</td>\n",
       "      <td>0.121412</td>\n",
       "      <td>0.735960</td>\n",
       "      <td>0.564175</td>\n",
       "      <td>0.056596</td>\n",
       "      <td>...</td>\n",
       "      <td>0.103798</td>\n",
       "      <td>0.165773</td>\n",
       "      <td>0.371389</td>\n",
       "      <td>0.226804</td>\n",
       "      <td>0.357202</td>\n",
       "      <td>0.414912</td>\n",
       "      <td>0.148443</td>\n",
       "      <td>0.064476</td>\n",
       "      <td>0.373681</td>\n",
       "      <td>0.090410</td>\n",
       "      <td>0.479448</td>\n",
       "      <td>0.281987</td>\n",
       "      <td>0.273287</td>\n",
       "      <td>0.222402</td>\n",
       "      <td>0.260025</td>\n",
       "      <td>0.377036</td>\n",
       "      <td>0.341749</td>\n",
       "      <td>0.717844</td>\n",
       "      <td>0.797097</td>\n",
       "      <td>0.786682</td>\n",
       "      <td>0.636931</td>\n",
       "      <td>0.233326</td>\n",
       "      <td>0.913618</td>\n",
       "      <td>0.738867</td>\n",
       "      <td>0.045937</td>\n",
       "    </tr>\n",
       "    <tr>\n",
       "      <th>1</th>\n",
       "      <td>0.295267</td>\n",
       "      <td>0.347279</td>\n",
       "      <td>0.023537</td>\n",
       "      <td>0.358363</td>\n",
       "      <td>0.148548</td>\n",
       "      <td>0.197493</td>\n",
       "      <td>0.233549</td>\n",
       "      <td>0.203839</td>\n",
       "      <td>0.885923</td>\n",
       "      <td>0.218971</td>\n",
       "      <td>0.236344</td>\n",
       "      <td>0.404853</td>\n",
       "      <td>0.097937</td>\n",
       "      <td>0.291136</td>\n",
       "      <td>0.434841</td>\n",
       "      <td>0.506936</td>\n",
       "      <td>0.185795</td>\n",
       "      <td>0.107588</td>\n",
       "      <td>0.116823</td>\n",
       "      <td>0.313677</td>\n",
       "      <td>0.317044</td>\n",
       "      <td>0.109599</td>\n",
       "      <td>0.786487</td>\n",
       "      <td>0.614688</td>\n",
       "      <td>0.054512</td>\n",
       "      <td>...</td>\n",
       "      <td>0.103189</td>\n",
       "      <td>0.159326</td>\n",
       "      <td>0.224915</td>\n",
       "      <td>0.202339</td>\n",
       "      <td>0.192795</td>\n",
       "      <td>0.197576</td>\n",
       "      <td>0.334606</td>\n",
       "      <td>0.054913</td>\n",
       "      <td>0.201713</td>\n",
       "      <td>0.089152</td>\n",
       "      <td>0.306161</td>\n",
       "      <td>0.248583</td>\n",
       "      <td>0.179999</td>\n",
       "      <td>0.205893</td>\n",
       "      <td>0.244112</td>\n",
       "      <td>0.270051</td>\n",
       "      <td>0.238774</td>\n",
       "      <td>0.653919</td>\n",
       "      <td>0.810743</td>\n",
       "      <td>0.826771</td>\n",
       "      <td>0.678842</td>\n",
       "      <td>0.206223</td>\n",
       "      <td>0.914100</td>\n",
       "      <td>0.783630</td>\n",
       "      <td>0.042850</td>\n",
       "    </tr>\n",
       "    <tr>\n",
       "      <th>2</th>\n",
       "      <td>0.325719</td>\n",
       "      <td>0.379784</td>\n",
       "      <td>0.183134</td>\n",
       "      <td>0.282857</td>\n",
       "      <td>0.344409</td>\n",
       "      <td>0.234078</td>\n",
       "      <td>0.282610</td>\n",
       "      <td>0.274409</td>\n",
       "      <td>0.894031</td>\n",
       "      <td>0.248289</td>\n",
       "      <td>0.254133</td>\n",
       "      <td>0.386102</td>\n",
       "      <td>0.099930</td>\n",
       "      <td>0.287194</td>\n",
       "      <td>0.404629</td>\n",
       "      <td>0.468073</td>\n",
       "      <td>0.184625</td>\n",
       "      <td>0.108145</td>\n",
       "      <td>0.116891</td>\n",
       "      <td>0.380257</td>\n",
       "      <td>0.325315</td>\n",
       "      <td>0.113637</td>\n",
       "      <td>0.789005</td>\n",
       "      <td>0.597515</td>\n",
       "      <td>0.054085</td>\n",
       "      <td>...</td>\n",
       "      <td>0.111775</td>\n",
       "      <td>0.168655</td>\n",
       "      <td>0.220301</td>\n",
       "      <td>0.203169</td>\n",
       "      <td>0.204484</td>\n",
       "      <td>0.252744</td>\n",
       "      <td>0.333695</td>\n",
       "      <td>0.055835</td>\n",
       "      <td>0.237795</td>\n",
       "      <td>0.087506</td>\n",
       "      <td>0.545510</td>\n",
       "      <td>0.237936</td>\n",
       "      <td>0.203944</td>\n",
       "      <td>0.210110</td>\n",
       "      <td>0.259607</td>\n",
       "      <td>0.339556</td>\n",
       "      <td>0.269320</td>\n",
       "      <td>0.719630</td>\n",
       "      <td>0.794933</td>\n",
       "      <td>0.800842</td>\n",
       "      <td>0.666669</td>\n",
       "      <td>0.218372</td>\n",
       "      <td>0.915718</td>\n",
       "      <td>0.736398</td>\n",
       "      <td>0.042850</td>\n",
       "    </tr>\n",
       "    <tr>\n",
       "      <th>3</th>\n",
       "      <td>0.330545</td>\n",
       "      <td>0.388440</td>\n",
       "      <td>0.135444</td>\n",
       "      <td>0.510055</td>\n",
       "      <td>0.337444</td>\n",
       "      <td>0.475187</td>\n",
       "      <td>0.435767</td>\n",
       "      <td>0.308930</td>\n",
       "      <td>0.754044</td>\n",
       "      <td>0.358968</td>\n",
       "      <td>0.336148</td>\n",
       "      <td>0.423028</td>\n",
       "      <td>0.102746</td>\n",
       "      <td>0.415630</td>\n",
       "      <td>0.362385</td>\n",
       "      <td>0.397285</td>\n",
       "      <td>0.162909</td>\n",
       "      <td>0.099087</td>\n",
       "      <td>0.112577</td>\n",
       "      <td>0.383687</td>\n",
       "      <td>0.347517</td>\n",
       "      <td>0.115578</td>\n",
       "      <td>0.724501</td>\n",
       "      <td>0.512371</td>\n",
       "      <td>0.060768</td>\n",
       "      <td>...</td>\n",
       "      <td>0.120195</td>\n",
       "      <td>0.203256</td>\n",
       "      <td>0.314744</td>\n",
       "      <td>0.202032</td>\n",
       "      <td>0.335615</td>\n",
       "      <td>0.357082</td>\n",
       "      <td>0.368215</td>\n",
       "      <td>0.052951</td>\n",
       "      <td>0.337196</td>\n",
       "      <td>0.089707</td>\n",
       "      <td>0.555967</td>\n",
       "      <td>0.305587</td>\n",
       "      <td>0.270666</td>\n",
       "      <td>0.222756</td>\n",
       "      <td>0.239138</td>\n",
       "      <td>0.463486</td>\n",
       "      <td>0.354120</td>\n",
       "      <td>0.752725</td>\n",
       "      <td>0.766830</td>\n",
       "      <td>0.753798</td>\n",
       "      <td>0.700512</td>\n",
       "      <td>0.232684</td>\n",
       "      <td>0.916179</td>\n",
       "      <td>0.709852</td>\n",
       "      <td>0.042614</td>\n",
       "    </tr>\n",
       "    <tr>\n",
       "      <th>4</th>\n",
       "      <td>0.352414</td>\n",
       "      <td>0.320083</td>\n",
       "      <td>0.159303</td>\n",
       "      <td>0.213648</td>\n",
       "      <td>0.284707</td>\n",
       "      <td>0.259580</td>\n",
       "      <td>0.267943</td>\n",
       "      <td>0.361698</td>\n",
       "      <td>0.838913</td>\n",
       "      <td>0.355017</td>\n",
       "      <td>0.270191</td>\n",
       "      <td>0.174589</td>\n",
       "      <td>0.150680</td>\n",
       "      <td>0.393780</td>\n",
       "      <td>0.576674</td>\n",
       "      <td>0.613892</td>\n",
       "      <td>0.202759</td>\n",
       "      <td>0.100490</td>\n",
       "      <td>0.066797</td>\n",
       "      <td>0.354488</td>\n",
       "      <td>0.369471</td>\n",
       "      <td>0.118236</td>\n",
       "      <td>0.771346</td>\n",
       "      <td>0.537664</td>\n",
       "      <td>0.053521</td>\n",
       "      <td>...</td>\n",
       "      <td>0.093024</td>\n",
       "      <td>0.215890</td>\n",
       "      <td>0.280913</td>\n",
       "      <td>0.209716</td>\n",
       "      <td>0.145851</td>\n",
       "      <td>0.333797</td>\n",
       "      <td>0.101534</td>\n",
       "      <td>0.062461</td>\n",
       "      <td>0.237129</td>\n",
       "      <td>0.089961</td>\n",
       "      <td>0.394433</td>\n",
       "      <td>0.325619</td>\n",
       "      <td>0.241243</td>\n",
       "      <td>0.275256</td>\n",
       "      <td>0.237723</td>\n",
       "      <td>0.381321</td>\n",
       "      <td>0.283148</td>\n",
       "      <td>0.622986</td>\n",
       "      <td>0.879547</td>\n",
       "      <td>0.939963</td>\n",
       "      <td>0.611172</td>\n",
       "      <td>0.235344</td>\n",
       "      <td>0.915736</td>\n",
       "      <td>0.794609</td>\n",
       "      <td>0.042337</td>\n",
       "    </tr>\n",
       "  </tbody>\n",
       "</table>\n",
       "<p>5 rows × 78 columns</p>\n",
       "</div>"
      ],
      "text/plain": [
       "   existence expectancy index  existence expectancy at birth  Gross income per capita  \\\n",
       "0                    0.223149                       0.261673                 0.081769   \n",
       "1                    0.295267                       0.347279                 0.023537   \n",
       "2                    0.325719                       0.379784                 0.183134   \n",
       "3                    0.330545                       0.388440                 0.135444   \n",
       "4                    0.352414                       0.320083                 0.159303   \n",
       "\n",
       "   Income Index  Expected years of education (galactic years)  \\\n",
       "0      0.281643                                      0.285646   \n",
       "1      0.358363                                      0.148548   \n",
       "2      0.282857                                      0.344409   \n",
       "3      0.510055                                      0.337444   \n",
       "4      0.213648                                      0.284707   \n",
       "\n",
       "   Mean years of education (galactic years)  Intergalactic Development Index (IDI)  \\\n",
       "0                                  0.512036                               0.285081   \n",
       "1                                  0.197493                               0.233549   \n",
       "2                                  0.234078                               0.282610   \n",
       "3                                  0.475187                               0.435767   \n",
       "4                                  0.259580                               0.267943   \n",
       "\n",
       "   Education Index  Intergalactic Development Index (IDI), Rank  \\\n",
       "0         0.339331                                     0.831239   \n",
       "1         0.203839                                     0.885923   \n",
       "2         0.274409                                     0.894031   \n",
       "3         0.308930                                     0.754044   \n",
       "4         0.361698                                     0.838913   \n",
       "\n",
       "   Population using at least basic drinking-water services (%)  \\\n",
       "0                                                     0.698324   \n",
       "1                                                     0.218971   \n",
       "2                                                     0.248289   \n",
       "3                                                     0.358968   \n",
       "4                                                     0.355017   \n",
       "\n",
       "   Population using at least basic sanitation services (%)  Gross capital formation (% of GGP)  \\\n",
       "0                                                 0.355976                            0.197936   \n",
       "1                                                 0.236344                            0.404853   \n",
       "2                                                 0.254133                            0.386102   \n",
       "3                                                 0.336148                            0.423028   \n",
       "4                                                 0.270191                            0.174589   \n",
       "\n",
       "   Population, total (millions)  Population, urban (%)  \\\n",
       "0                      0.103516               0.470690   \n",
       "1                      0.097937               0.291136   \n",
       "2                      0.099930               0.287194   \n",
       "3                      0.102746               0.415630   \n",
       "4                      0.150680               0.393780   \n",
       "\n",
       "   Mortality rate, under-five (per 1,000 live births)  \\\n",
       "0                                            0.382672   \n",
       "1                                            0.434841   \n",
       "2                                            0.404629   \n",
       "3                                            0.362385   \n",
       "4                                            0.576674   \n",
       "\n",
       "   Mortality rate, infant (per 1,000 live births)  \\\n",
       "0                                        0.466538   \n",
       "1                                        0.506936   \n",
       "2                                        0.468073   \n",
       "3                                        0.397285   \n",
       "4                                        0.613892   \n",
       "\n",
       "   Old age dependency ratio (old age (65 and older) per 100 creatures (ages 15-64))  \\\n",
       "0                                                                          0.172478   \n",
       "1                                                                          0.185795   \n",
       "2                                                                          0.184625   \n",
       "3                                                                          0.162909   \n",
       "4                                                                          0.202759   \n",
       "\n",
       "   Population, ages 15–64 (millions)  Population, ages 65 and older (millions)  \\\n",
       "0                           0.103171                                  0.114102   \n",
       "1                           0.107588                                  0.116823   \n",
       "2                           0.108145                                  0.116891   \n",
       "3                           0.099087                                  0.112577   \n",
       "4                           0.100490                                  0.066797   \n",
       "\n",
       "   Life expectancy at birth, male (galactic years)  \\\n",
       "0                                         0.303145   \n",
       "1                                         0.313677   \n",
       "2                                         0.380257   \n",
       "3                                         0.383687   \n",
       "4                                         0.354488   \n",
       "\n",
       "   Life expectancy at birth, female (galactic years)  Population, under age 5 (millions)  \\\n",
       "0                                           0.315039                            0.121412   \n",
       "1                                           0.317044                            0.109599   \n",
       "2                                           0.325315                            0.113637   \n",
       "3                                           0.347517                            0.115578   \n",
       "4                                           0.369471                            0.118236   \n",
       "\n",
       "   Young age (0-14) dependency ratio (per 100 creatures ages 15-64)  \\\n",
       "0                                                          0.735960   \n",
       "1                                                          0.786487   \n",
       "2                                                          0.789005   \n",
       "3                                                          0.724501   \n",
       "4                                                          0.771346   \n",
       "\n",
       "   Adolescent birth rate (births per 1,000 female creatures ages 15-19)  \\\n",
       "0                                                              0.564175   \n",
       "1                                                              0.614688   \n",
       "2                                                              0.597515   \n",
       "3                                                              0.512371   \n",
       "4                                                              0.537664   \n",
       "\n",
       "   Total unemployment rate (female to male ratio)  ...  \\\n",
       "0                                        0.056596  ...   \n",
       "1                                        0.054512  ...   \n",
       "2                                        0.054085  ...   \n",
       "3                                        0.060768  ...   \n",
       "4                                        0.053521  ...   \n",
       "\n",
       "   Estimated gross galactic income per capita, male  \\\n",
       "0                                          0.103798   \n",
       "1                                          0.103189   \n",
       "2                                          0.111775   \n",
       "3                                          0.120195   \n",
       "4                                          0.093024   \n",
       "\n",
       "   Estimated gross galactic income per capita, female  \\\n",
       "0                                            0.165773   \n",
       "1                                            0.159326   \n",
       "2                                            0.168655   \n",
       "3                                            0.203256   \n",
       "4                                            0.215890   \n",
       "\n",
       "   Rural population with access to electricity (%)  \\\n",
       "0                                         0.371389   \n",
       "1                                         0.224915   \n",
       "2                                         0.220301   \n",
       "3                                         0.314744   \n",
       "4                                         0.280913   \n",
       "\n",
       "   Domestic credit provided by financial sector (% of GGP)  \\\n",
       "0                                                 0.226804   \n",
       "1                                                 0.202339   \n",
       "2                                                 0.203169   \n",
       "3                                                 0.202032   \n",
       "4                                                 0.209716   \n",
       "\n",
       "   Population with at least some secondary education, female (% ages 25 and older)  \\\n",
       "0                                                                         0.357202   \n",
       "1                                                                         0.192795   \n",
       "2                                                                         0.204484   \n",
       "3                                                                         0.335615   \n",
       "4                                                                         0.145851   \n",
       "\n",
       "   Population with at least some secondary education, male (% ages 25 and older)  \\\n",
       "0                                                                       0.414912   \n",
       "1                                                                       0.197576   \n",
       "2                                                                       0.252744   \n",
       "3                                                                       0.357082   \n",
       "4                                                                       0.333797   \n",
       "\n",
       "   Gross fixed capital formation (% of GGP)  Remittances, inflows (% of GGP)  \\\n",
       "0                                  0.148443                         0.064476   \n",
       "1                                  0.334606                         0.054913   \n",
       "2                                  0.333695                         0.055835   \n",
       "3                                  0.368215                         0.052951   \n",
       "4                                  0.101534                         0.062461   \n",
       "\n",
       "   Population with at least some secondary education (% ages 25 and older)  \\\n",
       "0                                                                 0.373681   \n",
       "1                                                                 0.201713   \n",
       "2                                                                 0.237795   \n",
       "3                                                                 0.337196   \n",
       "4                                                                 0.237129   \n",
       "\n",
       "   Intergalactic inbound tourists (thousands)  \\\n",
       "0                                    0.090410   \n",
       "1                                    0.089152   \n",
       "2                                    0.087506   \n",
       "3                                    0.089707   \n",
       "4                                    0.089961   \n",
       "\n",
       "   Gross enrolment ratio, primary (% of primary under-age population)  \\\n",
       "0                                                            0.479448   \n",
       "1                                                            0.306161   \n",
       "2                                                            0.545510   \n",
       "3                                                            0.555967   \n",
       "4                                                            0.394433   \n",
       "\n",
       "   Respiratory disease incidence (per 100,000 people)  \\\n",
       "0                                            0.281987   \n",
       "1                                            0.248583   \n",
       "2                                            0.237936   \n",
       "3                                            0.305587   \n",
       "4                                            0.325619   \n",
       "\n",
       "   Interstellar phone subscriptions (per 100 people)  \\\n",
       "0                                           0.273287   \n",
       "1                                           0.179999   \n",
       "2                                           0.203944   \n",
       "3                                           0.270666   \n",
       "4                                           0.241243   \n",
       "\n",
       "   Interstellar Data Net users, total (% of population)  Current health expenditure (% of GGP)  \\\n",
       "0                                              0.222402                               0.260025   \n",
       "1                                              0.205893                               0.244112   \n",
       "2                                              0.210110                               0.259607   \n",
       "3                                              0.222756                               0.239138   \n",
       "4                                              0.275256                               0.237723   \n",
       "\n",
       "   Intergalactic Development Index (IDI), female  Intergalactic Development Index (IDI), male  \\\n",
       "0                                       0.377036                                     0.341749   \n",
       "1                                       0.270051                                     0.238774   \n",
       "2                                       0.339556                                     0.269320   \n",
       "3                                       0.463486                                     0.354120   \n",
       "4                                       0.381321                                     0.283148   \n",
       "\n",
       "   Gender Development Index (GDI)  Intergalactic Development Index (IDI), female, Rank  \\\n",
       "0                        0.717844                                             0.797097   \n",
       "1                        0.653919                                             0.810743   \n",
       "2                        0.719630                                             0.794933   \n",
       "3                        0.752725                                             0.766830   \n",
       "4                        0.622986                                             0.879547   \n",
       "\n",
       "   Intergalactic Development Index (IDI), male, Rank  Adjusted net savings   \\\n",
       "0                                           0.786682               0.636931   \n",
       "1                                           0.826771               0.678842   \n",
       "2                                           0.800842               0.666669   \n",
       "3                                           0.753798               0.700512   \n",
       "4                                           0.939963               0.611172   \n",
       "\n",
       "   Creature Immunodeficiency Disease prevalence, adult (% ages 15-49), total  \\\n",
       "0                                                                   0.233326   \n",
       "1                                                                   0.206223   \n",
       "2                                                                   0.218372   \n",
       "3                                                                   0.232684   \n",
       "4                                                                   0.235344   \n",
       "\n",
       "   Private galaxy capital flows (% of GGP)  Gender Inequality Index (GII)    galaxy  \n",
       "0                                 0.913618                       0.738867  0.045937  \n",
       "1                                 0.914100                       0.783630  0.042850  \n",
       "2                                 0.915718                       0.736398  0.042850  \n",
       "3                                 0.916179                       0.709852  0.042614  \n",
       "4                                 0.915736                       0.794609  0.042337  \n",
       "\n",
       "[5 rows x 78 columns]"
      ]
     },
     "execution_count": 4,
     "metadata": {},
     "output_type": "execute_result"
    }
   ],
   "source": [
    "test = pd.read_csv('../../eda/outputs/imputed_c4_scaled_test.csv')\n",
    "m, n = test.shape                \n",
    "print('Data Frame: {} x {}'.format(m,n))                \n",
    "test.head()"
   ]
  },
  {
   "cell_type": "code",
   "execution_count": 5,
   "metadata": {
    "ExecuteTime": {
     "end_time": "2020-06-20T21:01:49.459553Z",
     "start_time": "2020-06-20T21:01:49.419517Z"
    }
   },
   "outputs": [],
   "source": [
    "from catboost import CatBoostRegressor\n",
    "from sklearn.model_selection import train_test_split\n",
    "from sklearn.metrics import mean_squared_error"
   ]
  },
  {
   "cell_type": "code",
   "execution_count": 6,
   "metadata": {
    "ExecuteTime": {
     "end_time": "2020-06-20T21:01:49.465559Z",
     "start_time": "2020-06-20T21:01:49.460554Z"
    }
   },
   "outputs": [],
   "source": [
    "def write_predictions():\n",
    "    from datetime import datetime\n",
    "    os.makedirs('../outputs', exist_ok=True)\n",
    "    ts_now = datetime.now().strftime('%Y%m%d_%H%M%S')\n",
    "    pred_output.to_csv(f'../outputs/y_pred_cbr_c4_{ts_now}.csv', index=False)\n",
    "\n",
    "\n",
    "def plot_history(history, metric_key='l2'):\n",
    "    for i, key in enumerate(history.evals_result_):\n",
    "        if i == 0:\n",
    "            res = pd.DataFrame(history.evals_result_[key])\n",
    "            res['index'] = np.arange(len(history.evals_result_[key][metric_key]))\n",
    "            res['type'] = key\n",
    "        temp = pd.DataFrame(history.evals_result_[key])\n",
    "        temp['type'] = key\n",
    "        temp['index'] = np.arange(len(history.evals_result_[key][metric_key]))\n",
    "        \n",
    "        res = res.append(temp, ignore_index=True)\n",
    "        del temp; gc.collect()\n",
    "    \n",
    "    fig = px.scatter(data_frame=res, x='index', y=metric_key, color='type',\n",
    "                 title='Learning curve')\n",
    "    fig.show()"
   ]
  },
  {
   "cell_type": "code",
   "execution_count": 7,
   "metadata": {
    "ExecuteTime": {
     "end_time": "2020-06-20T21:01:49.470564Z",
     "start_time": "2020-06-20T21:01:49.466559Z"
    }
   },
   "outputs": [],
   "source": [
    "# train.rename(columns={\n",
    "#     \"Unemployment, youth (% ages 15–24)\": \"Unemployment..youth....ages.15a..24.\",\n",
    "#     \"Population, ages 15–64 (millions)\": \"Population..ages.15a..64..millions.\"\n",
    "# }, inplace=True)"
   ]
  },
  {
   "cell_type": "code",
   "execution_count": 8,
   "metadata": {
    "ExecuteTime": {
     "end_time": "2020-06-20T21:01:49.475568Z",
     "start_time": "2020-06-20T21:01:49.471564Z"
    }
   },
   "outputs": [],
   "source": [
    "try:\n",
    "    drop_cols = ['galactic year']\n",
    "    train.drop(drop_cols, axis=1, inplace=True)\n",
    "    test.drop(drop_cols, axis=1, inplace=True)\n",
    "except:\n",
    "    pass"
   ]
  },
  {
   "cell_type": "code",
   "execution_count": 9,
   "metadata": {
    "ExecuteTime": {
     "end_time": "2020-06-20T21:01:49.480572Z",
     "start_time": "2020-06-20T21:01:49.476569Z"
    }
   },
   "outputs": [],
   "source": [
    "# train = pd.get_dummies(train)"
   ]
  },
  {
   "cell_type": "code",
   "execution_count": 10,
   "metadata": {
    "ExecuteTime": {
     "end_time": "2020-06-20T21:01:49.485577Z",
     "start_time": "2020-06-20T21:01:49.481573Z"
    }
   },
   "outputs": [],
   "source": [
    "y = 'y'\n",
    "X = train.columns.drop(y)"
   ]
  },
  {
   "cell_type": "code",
   "execution_count": 11,
   "metadata": {
    "ExecuteTime": {
     "end_time": "2020-06-20T21:01:49.494585Z",
     "start_time": "2020-06-20T21:01:49.486578Z"
    }
   },
   "outputs": [
    {
     "data": {
      "text/plain": [
       "((2898, 78), (967, 78), (2898,), (967,))"
      ]
     },
     "execution_count": 11,
     "metadata": {},
     "output_type": "execute_result"
    }
   ],
   "source": [
    "X_train, X_val, y_train, y_val = train_test_split(train[X].to_numpy(), train[y].to_numpy(),\n",
    "                                                  test_size=0.25, random_state=42)\n",
    "X_train.shape, X_val.shape, y_train.shape, y_val.shape"
   ]
  },
  {
   "cell_type": "code",
   "execution_count": 12,
   "metadata": {
    "ExecuteTime": {
     "end_time": "2020-06-20T21:01:49.497588Z",
     "start_time": "2020-06-20T21:01:49.495586Z"
    }
   },
   "outputs": [],
   "source": [
    "# No need for train data in eval_set, it automatically caches training set.\n",
    "eval_set = [(X_val, y_val)]"
   ]
  },
  {
   "cell_type": "code",
   "execution_count": 13,
   "metadata": {
    "ExecuteTime": {
     "end_time": "2020-06-20T21:01:50.903882Z",
     "start_time": "2020-06-20T21:01:49.498588Z"
    },
    "scrolled": false
   },
   "outputs": [
    {
     "name": "stdout",
     "output_type": "stream",
     "text": [
      "RMSE Train:  0.00510018\n",
      "RMSE Valid:  0.01225692\tRatio (val/train):  2.40323\n"
     ]
    },
    {
     "data": {
      "application/vnd.plotly.v1+json": {
       "config": {
        "plotlyServerURL": "https://plot.ly"
       },
       "data": [
        {
         "hovertemplate": "type=learn<br>index=%{x}<br>RMSE=%{y}<extra></extra>",
         "legendgroup": "learn",
         "marker": {
          "color": "#636efa",
          "symbol": "circle"
         },
         "mode": "markers",
         "name": "learn",
         "showlegend": true,
         "type": "scatter",
         "x": [
          0,
          1,
          2,
          3,
          4,
          5,
          6,
          7,
          8,
          9,
          10,
          11,
          12,
          13,
          14,
          15,
          16,
          17,
          18,
          19,
          20,
          21,
          22,
          23,
          24,
          25,
          26,
          27,
          28,
          29,
          30,
          31,
          32,
          33,
          34,
          35,
          36,
          37,
          38,
          39,
          40,
          41,
          42,
          43,
          44,
          45,
          46,
          47,
          48,
          49,
          50,
          51,
          52,
          53,
          54,
          55,
          56,
          57,
          58,
          59,
          60,
          61,
          62,
          63,
          64,
          65,
          66,
          67,
          68,
          69,
          70,
          71,
          72,
          73,
          74,
          75,
          76,
          77,
          78,
          79,
          80,
          81,
          82,
          83,
          84,
          85,
          86,
          87,
          88,
          89,
          90,
          91,
          92,
          93,
          94,
          95,
          96,
          97,
          98,
          99,
          100,
          101,
          102,
          103,
          104,
          105,
          106,
          107,
          108,
          109,
          110,
          111,
          112,
          113,
          114,
          115,
          116,
          117,
          118,
          119,
          120,
          121,
          122,
          123,
          124,
          125,
          126,
          127,
          128,
          129,
          130,
          131,
          132,
          133,
          134,
          135,
          136,
          137,
          138,
          139,
          140,
          141,
          142,
          143,
          144,
          145,
          146,
          147,
          148,
          149,
          150,
          151,
          152,
          153,
          154,
          155,
          156,
          157,
          158,
          159,
          160,
          161,
          162,
          163,
          164,
          165,
          166,
          167,
          168,
          169,
          170,
          171,
          172,
          173,
          174,
          175,
          176,
          177,
          178,
          179,
          180,
          181,
          182,
          183,
          184,
          185,
          186,
          187,
          188,
          189,
          190,
          191,
          192,
          193,
          194,
          195,
          196,
          197,
          0,
          1,
          2,
          3,
          4,
          5,
          6,
          7,
          8,
          9,
          10,
          11,
          12,
          13,
          14,
          15,
          16,
          17,
          18,
          19,
          20,
          21,
          22,
          23,
          24,
          25,
          26,
          27,
          28,
          29,
          30,
          31,
          32,
          33,
          34,
          35,
          36,
          37,
          38,
          39,
          40,
          41,
          42,
          43,
          44,
          45,
          46,
          47,
          48,
          49,
          50,
          51,
          52,
          53,
          54,
          55,
          56,
          57,
          58,
          59,
          60,
          61,
          62,
          63,
          64,
          65,
          66,
          67,
          68,
          69,
          70,
          71,
          72,
          73,
          74,
          75,
          76,
          77,
          78,
          79,
          80,
          81,
          82,
          83,
          84,
          85,
          86,
          87,
          88,
          89,
          90,
          91,
          92,
          93,
          94,
          95,
          96,
          97,
          98,
          99,
          100,
          101,
          102,
          103,
          104,
          105,
          106,
          107,
          108,
          109,
          110,
          111,
          112,
          113,
          114,
          115,
          116,
          117,
          118,
          119,
          120,
          121,
          122,
          123,
          124,
          125,
          126,
          127,
          128,
          129,
          130,
          131,
          132,
          133,
          134,
          135,
          136,
          137,
          138,
          139,
          140,
          141,
          142,
          143,
          144,
          145,
          146,
          147,
          148,
          149,
          150,
          151,
          152,
          153,
          154,
          155,
          156,
          157,
          158,
          159,
          160,
          161,
          162,
          163,
          164,
          165,
          166,
          167,
          168,
          169,
          170,
          171,
          172,
          173,
          174,
          175,
          176,
          177,
          178,
          179,
          180,
          181,
          182,
          183,
          184,
          185,
          186,
          187,
          188,
          189,
          190,
          191,
          192,
          193,
          194,
          195,
          196,
          197
         ],
         "xaxis": "x",
         "y": [
          0.058292376338284414,
          0.05383246336611911,
          0.04938671710594551,
          0.045358301705307344,
          0.041713130026479465,
          0.03857290748498935,
          0.03562024278526487,
          0.033289101831684514,
          0.031023494733711725,
          0.028913266934877342,
          0.027071855350635273,
          0.025445674375636457,
          0.024028673874358607,
          0.022540135321384044,
          0.021252299495725914,
          0.020136838077709735,
          0.019172173562409644,
          0.0182213640923629,
          0.01739919780649992,
          0.01656212333396143,
          0.015935013432296488,
          0.015345931249813418,
          0.014720837899028127,
          0.014169694826590086,
          0.013688441387434538,
          0.013258021599429582,
          0.012883805273196424,
          0.012523285975174854,
          0.01217925741984204,
          0.011887080390576602,
          0.011592033447276018,
          0.011376153390302344,
          0.011185151642307638,
          0.010968172699347536,
          0.010756050999078292,
          0.010587362199242873,
          0.010411032861243324,
          0.010204807617731527,
          0.010060675919709161,
          0.009933241459025135,
          0.009803468491619075,
          0.009679825650186087,
          0.009559505609722822,
          0.009464820417030544,
          0.009368996505605664,
          0.009270268690970388,
          0.00916801511350367,
          0.009076456140237148,
          0.008977678143300947,
          0.008902309245048477,
          0.00881988705543196,
          0.008742828934952158,
          0.008665540419558007,
          0.008592611611178903,
          0.008516280981232353,
          0.00846168956905879,
          0.00839309508015503,
          0.008338286011289055,
          0.008296585455752702,
          0.008236429582111952,
          0.00818358819097281,
          0.008127942366118836,
          0.0080773537633329,
          0.008041052095770935,
          0.007984329251372041,
          0.007939807740155212,
          0.0079019039873224,
          0.007868774232978932,
          0.007802872959450895,
          0.0077396987153988015,
          0.00768751856693794,
          0.0076419027467938775,
          0.0075997301647568235,
          0.007554702935185252,
          0.007518493106243821,
          0.00748566067865529,
          0.007449865402448606,
          0.007412865531361776,
          0.0073676640884115935,
          0.007294418788701701,
          0.007259010758797739,
          0.007226314797002776,
          0.007184537167997973,
          0.007153173965712892,
          0.007112564557970919,
          0.007075441307040577,
          0.0070318915208214235,
          0.006984005777947313,
          0.006957947605059675,
          0.006918926125415392,
          0.006890391773729044,
          0.0068617899563933995,
          0.0068421940394826145,
          0.0068074063603576224,
          0.00678779464085491,
          0.006748090410736617,
          0.006724731796172995,
          0.006683702947892481,
          0.006652782036941431,
          0.006622346683753259,
          0.0066108336569185985,
          0.006593487705542781,
          0.006567464126826641,
          0.006540012310585156,
          0.006501476032414709,
          0.006475575849425193,
          0.006445371570087323,
          0.0064188704962167,
          0.006391112215842829,
          0.006372074508195829,
          0.0063422870782046245,
          0.006320392953574932,
          0.006302851740900239,
          0.006271957587083349,
          0.006238240655377167,
          0.006211425130617108,
          0.0061808835124063976,
          0.006146764381987881,
          0.0061341169551942356,
          0.006103559884268794,
          0.0060826784672011365,
          0.006062967108282824,
          0.006030454162567567,
          0.006017653823871372,
          0.006007048211832959,
          0.005978530489111657,
          0.005951731039672293,
          0.005940674324850306,
          0.005918629994389963,
          0.005895004217345989,
          0.005876419428555093,
          0.0058550574551872745,
          0.0058322502319332,
          0.005804711293229168,
          0.0057920776603654555,
          0.005768555531947915,
          0.00575411727577946,
          0.005735338747204645,
          0.005712556596131476,
          0.005688583364998615,
          0.005672681391085352,
          0.005644960262328912,
          0.005613449458650141,
          0.0055987994496428835,
          0.005584331026141074,
          0.005574581684956209,
          0.00555657242925775,
          0.00554268225243351,
          0.005520600992543038,
          0.005504835257906578,
          0.005491095021455979,
          0.005469001346869287,
          0.005450191661203012,
          0.005421946694771802,
          0.005408625436276746,
          0.005389504078804423,
          0.00537804185639888,
          0.005367762652393479,
          0.005355899042046777,
          0.005343749774455059,
          0.005336756166681409,
          0.005320986744707411,
          0.005293000056474401,
          0.005282627628374051,
          0.005264554896145229,
          0.00525558907453529,
          0.005243799105006029,
          0.005230354664998303,
          0.005218460155077691,
          0.005207110358258567,
          0.005190742117042661,
          0.005181016201621051,
          0.00517153613691464,
          0.005161573688259584,
          0.005151844601736008,
          0.00513409417801864,
          0.005113838225937681,
          0.005100180293468778,
          0.005086669836121149,
          0.005076946644938489,
          0.005065801258701481,
          0.005043658687712611,
          0.005029781804238067,
          0.005012463116558374,
          0.004995616959709913,
          0.004981464610627638,
          0.004974061994537644,
          0.004953964374371342,
          0.004931881508090517,
          0.0049204321635508575,
          0.004913391321547892,
          0.004904888180411819,
          0.004894883930259688,
          0.00488653999826682,
          0.00487623153284117,
          0.004867221104940967,
          0.004854695140191824,
          0.00484629219874683,
          0.058292376338284414,
          0.05383246336611911,
          0.04938671710594551,
          0.045358301705307344,
          0.041713130026479465,
          0.03857290748498935,
          0.03562024278526487,
          0.033289101831684514,
          0.031023494733711725,
          0.028913266934877342,
          0.027071855350635273,
          0.025445674375636457,
          0.024028673874358607,
          0.022540135321384044,
          0.021252299495725914,
          0.020136838077709735,
          0.019172173562409644,
          0.0182213640923629,
          0.01739919780649992,
          0.01656212333396143,
          0.015935013432296488,
          0.015345931249813418,
          0.014720837899028127,
          0.014169694826590086,
          0.013688441387434538,
          0.013258021599429582,
          0.012883805273196424,
          0.012523285975174854,
          0.01217925741984204,
          0.011887080390576602,
          0.011592033447276018,
          0.011376153390302344,
          0.011185151642307638,
          0.010968172699347536,
          0.010756050999078292,
          0.010587362199242873,
          0.010411032861243324,
          0.010204807617731527,
          0.010060675919709161,
          0.009933241459025135,
          0.009803468491619075,
          0.009679825650186087,
          0.009559505609722822,
          0.009464820417030544,
          0.009368996505605664,
          0.009270268690970388,
          0.00916801511350367,
          0.009076456140237148,
          0.008977678143300947,
          0.008902309245048477,
          0.00881988705543196,
          0.008742828934952158,
          0.008665540419558007,
          0.008592611611178903,
          0.008516280981232353,
          0.00846168956905879,
          0.00839309508015503,
          0.008338286011289055,
          0.008296585455752702,
          0.008236429582111952,
          0.00818358819097281,
          0.008127942366118836,
          0.0080773537633329,
          0.008041052095770935,
          0.007984329251372041,
          0.007939807740155212,
          0.0079019039873224,
          0.007868774232978932,
          0.007802872959450895,
          0.0077396987153988015,
          0.00768751856693794,
          0.0076419027467938775,
          0.0075997301647568235,
          0.007554702935185252,
          0.007518493106243821,
          0.00748566067865529,
          0.007449865402448606,
          0.007412865531361776,
          0.0073676640884115935,
          0.007294418788701701,
          0.007259010758797739,
          0.007226314797002776,
          0.007184537167997973,
          0.007153173965712892,
          0.007112564557970919,
          0.007075441307040577,
          0.0070318915208214235,
          0.006984005777947313,
          0.006957947605059675,
          0.006918926125415392,
          0.006890391773729044,
          0.0068617899563933995,
          0.0068421940394826145,
          0.0068074063603576224,
          0.00678779464085491,
          0.006748090410736617,
          0.006724731796172995,
          0.006683702947892481,
          0.006652782036941431,
          0.006622346683753259,
          0.0066108336569185985,
          0.006593487705542781,
          0.006567464126826641,
          0.006540012310585156,
          0.006501476032414709,
          0.006475575849425193,
          0.006445371570087323,
          0.0064188704962167,
          0.006391112215842829,
          0.006372074508195829,
          0.0063422870782046245,
          0.006320392953574932,
          0.006302851740900239,
          0.006271957587083349,
          0.006238240655377167,
          0.006211425130617108,
          0.0061808835124063976,
          0.006146764381987881,
          0.0061341169551942356,
          0.006103559884268794,
          0.0060826784672011365,
          0.006062967108282824,
          0.006030454162567567,
          0.006017653823871372,
          0.006007048211832959,
          0.005978530489111657,
          0.005951731039672293,
          0.005940674324850306,
          0.005918629994389963,
          0.005895004217345989,
          0.005876419428555093,
          0.0058550574551872745,
          0.0058322502319332,
          0.005804711293229168,
          0.0057920776603654555,
          0.005768555531947915,
          0.00575411727577946,
          0.005735338747204645,
          0.005712556596131476,
          0.005688583364998615,
          0.005672681391085352,
          0.005644960262328912,
          0.005613449458650141,
          0.0055987994496428835,
          0.005584331026141074,
          0.005574581684956209,
          0.00555657242925775,
          0.00554268225243351,
          0.005520600992543038,
          0.005504835257906578,
          0.005491095021455979,
          0.005469001346869287,
          0.005450191661203012,
          0.005421946694771802,
          0.005408625436276746,
          0.005389504078804423,
          0.00537804185639888,
          0.005367762652393479,
          0.005355899042046777,
          0.005343749774455059,
          0.005336756166681409,
          0.005320986744707411,
          0.005293000056474401,
          0.005282627628374051,
          0.005264554896145229,
          0.00525558907453529,
          0.005243799105006029,
          0.005230354664998303,
          0.005218460155077691,
          0.005207110358258567,
          0.005190742117042661,
          0.005181016201621051,
          0.00517153613691464,
          0.005161573688259584,
          0.005151844601736008,
          0.00513409417801864,
          0.005113838225937681,
          0.005100180293468778,
          0.005086669836121149,
          0.005076946644938489,
          0.005065801258701481,
          0.005043658687712611,
          0.005029781804238067,
          0.005012463116558374,
          0.004995616959709913,
          0.004981464610627638,
          0.004974061994537644,
          0.004953964374371342,
          0.004931881508090517,
          0.0049204321635508575,
          0.004913391321547892,
          0.004904888180411819,
          0.004894883930259688,
          0.00488653999826682,
          0.00487623153284117,
          0.004867221104940967,
          0.004854695140191824,
          0.00484629219874683
         ],
         "yaxis": "y"
        },
        {
         "hovertemplate": "type=validation<br>index=%{x}<br>RMSE=%{y}<extra></extra>",
         "legendgroup": "validation",
         "marker": {
          "color": "#EF553B",
          "symbol": "circle"
         },
         "mode": "markers",
         "name": "validation",
         "showlegend": true,
         "type": "scatter",
         "x": [
          0,
          1,
          2,
          3,
          4,
          5,
          6,
          7,
          8,
          9,
          10,
          11,
          12,
          13,
          14,
          15,
          16,
          17,
          18,
          19,
          20,
          21,
          22,
          23,
          24,
          25,
          26,
          27,
          28,
          29,
          30,
          31,
          32,
          33,
          34,
          35,
          36,
          37,
          38,
          39,
          40,
          41,
          42,
          43,
          44,
          45,
          46,
          47,
          48,
          49,
          50,
          51,
          52,
          53,
          54,
          55,
          56,
          57,
          58,
          59,
          60,
          61,
          62,
          63,
          64,
          65,
          66,
          67,
          68,
          69,
          70,
          71,
          72,
          73,
          74,
          75,
          76,
          77,
          78,
          79,
          80,
          81,
          82,
          83,
          84,
          85,
          86,
          87,
          88,
          89,
          90,
          91,
          92,
          93,
          94,
          95,
          96,
          97,
          98,
          99,
          100,
          101,
          102,
          103,
          104,
          105,
          106,
          107,
          108,
          109,
          110,
          111,
          112,
          113,
          114,
          115,
          116,
          117,
          118,
          119,
          120,
          121,
          122,
          123,
          124,
          125,
          126,
          127,
          128,
          129,
          130,
          131,
          132,
          133,
          134,
          135,
          136,
          137,
          138,
          139,
          140,
          141,
          142,
          143,
          144,
          145,
          146,
          147,
          148,
          149,
          150,
          151,
          152,
          153,
          154,
          155,
          156,
          157,
          158,
          159,
          160,
          161,
          162,
          163,
          164,
          165,
          166,
          167,
          168,
          169,
          170,
          171,
          172,
          173,
          174,
          175,
          176,
          177,
          178,
          179,
          180,
          181,
          182,
          183,
          184,
          185,
          186,
          187,
          188,
          189,
          190,
          191,
          192,
          193,
          194,
          195,
          196,
          197
         ],
         "xaxis": "x",
         "y": [
          0.05766043216331027,
          0.053260872211120164,
          0.04894442093432146,
          0.044980136720514756,
          0.04146057859983303,
          0.03839112554383751,
          0.03556339031274303,
          0.033237980136900415,
          0.031123257887732205,
          0.02901751988574563,
          0.027392231413099596,
          0.025754806136183625,
          0.024440839752895772,
          0.02321210559228669,
          0.02211171808990298,
          0.021120865168528416,
          0.02018409197703084,
          0.01948450052225371,
          0.018761993481779322,
          0.018280200553337872,
          0.017801477216178967,
          0.017254818816838484,
          0.01673375888032092,
          0.016435639469492863,
          0.01614740230170563,
          0.015763267738963218,
          0.015555578110766551,
          0.01522743467357911,
          0.014996532331925666,
          0.01485643959767003,
          0.014730703111376791,
          0.014557796333318291,
          0.014462244642615904,
          0.014405011450104381,
          0.01425261571595636,
          0.014213423116386473,
          0.014108931011606138,
          0.014056963397285975,
          0.01400048739475051,
          0.013854915743949389,
          0.013801191314496534,
          0.013765303947590133,
          0.013701914214527466,
          0.013601697745094865,
          0.01358958507962971,
          0.013501808276789812,
          0.013436136891910476,
          0.013414517729962803,
          0.01339831455065727,
          0.013260660316541594,
          0.013156612936679982,
          0.013101371832303957,
          0.013022370828348484,
          0.01298655476054129,
          0.01297336333923539,
          0.012940890946048469,
          0.012931704823065457,
          0.012897240025899058,
          0.012897221745944038,
          0.012854270850131477,
          0.012836884862237724,
          0.012807947198744266,
          0.012814532023349064,
          0.012777321975377684,
          0.01276143146364909,
          0.012758397452449801,
          0.01277766805448243,
          0.012758274941677672,
          0.012742361712270011,
          0.012783543877148794,
          0.012765833522227555,
          0.01272024883986696,
          0.012667507869348312,
          0.012684191315690966,
          0.012652022828338655,
          0.012655900178788822,
          0.012638921017980363,
          0.01261652305973369,
          0.012590286492654368,
          0.01260506251537317,
          0.012631945133338878,
          0.01261500816778911,
          0.012612290246894383,
          0.012612408641609365,
          0.012617854323430534,
          0.012638023902763905,
          0.012620064073175856,
          0.012583546951551661,
          0.012569035644544667,
          0.012582223834164581,
          0.012568593771472337,
          0.012578111311621214,
          0.01257180683197403,
          0.01255464428161616,
          0.01254594667731992,
          0.012542830667518687,
          0.012536034379206671,
          0.012535075420062035,
          0.012535327696530756,
          0.012523531289793978,
          0.012519408135926478,
          0.012522924649128766,
          0.012512677125065633,
          0.012515503736599893,
          0.012497873179630999,
          0.012499130547009485,
          0.012515937155546369,
          0.012506978145396933,
          0.012496374642017787,
          0.012489058222232017,
          0.01247392162894214,
          0.012505170493344486,
          0.0124936835548721,
          0.012495594480518742,
          0.012496400621799797,
          0.012510986001467172,
          0.012504349607945912,
          0.012468713283975346,
          0.012475032058931376,
          0.012462546261396179,
          0.012477065385704743,
          0.01247172469924338,
          0.012446414240173556,
          0.012439546948523802,
          0.012442488151442367,
          0.012442926624616227,
          0.012441940326484057,
          0.012437600007340125,
          0.012431067159367561,
          0.012433232262152889,
          0.012419274419735747,
          0.012420272146257507,
          0.012397803534419872,
          0.012393457874025605,
          0.012384052219410824,
          0.012370974758504898,
          0.01236071078308489,
          0.012358875108172298,
          0.012360274411431038,
          0.012351365995955169,
          0.012364456275947202,
          0.012375969906350115,
          0.012364572006065307,
          0.012376987232392835,
          0.012363779892180845,
          0.01236371891040618,
          0.012367096214867944,
          0.012364147308294212,
          0.01234545639647707,
          0.012345158363371593,
          0.012338706128465342,
          0.012346198508899437,
          0.012347244594337121,
          0.012339193484345503,
          0.01233666693337617,
          0.012348730477006726,
          0.012345110973332277,
          0.012341930048895873,
          0.012334881780481189,
          0.012322592080658553,
          0.01232636083641083,
          0.012334974552873789,
          0.01233171252912994,
          0.01232557788642839,
          0.012304198558038404,
          0.01230098824309537,
          0.012308089794038357,
          0.0123025139243547,
          0.012306129472113918,
          0.012307037941571012,
          0.012301280632108145,
          0.012287981345104889,
          0.012286027541573236,
          0.012281545961039472,
          0.012280816892705356,
          0.012279777331379974,
          0.012269520594824421,
          0.012256917003482607,
          0.012270434446657508,
          0.012286386201837701,
          0.012295049573501629,
          0.01227833093303633,
          0.012289295913280613,
          0.012286891118423423,
          0.012280961827623945,
          0.012292450734971342,
          0.012289590155051374,
          0.012274253623935326,
          0.012273933824815527,
          0.012273004550508561,
          0.012270561836249048,
          0.012267395038069086,
          0.012278632353355664,
          0.012274213994762227,
          0.01227674045530361,
          0.012269788079900984,
          0.012267090858923987,
          0.012258658757478318
         ],
         "yaxis": "y"
        }
       ],
       "layout": {
        "legend": {
         "title": {
          "text": "type"
         },
         "tracegroupgap": 0
        },
        "template": {
         "data": {
          "bar": [
           {
            "error_x": {
             "color": "#2a3f5f"
            },
            "error_y": {
             "color": "#2a3f5f"
            },
            "marker": {
             "line": {
              "color": "#E5ECF6",
              "width": 0.5
             }
            },
            "type": "bar"
           }
          ],
          "barpolar": [
           {
            "marker": {
             "line": {
              "color": "#E5ECF6",
              "width": 0.5
             }
            },
            "type": "barpolar"
           }
          ],
          "carpet": [
           {
            "aaxis": {
             "endlinecolor": "#2a3f5f",
             "gridcolor": "white",
             "linecolor": "white",
             "minorgridcolor": "white",
             "startlinecolor": "#2a3f5f"
            },
            "baxis": {
             "endlinecolor": "#2a3f5f",
             "gridcolor": "white",
             "linecolor": "white",
             "minorgridcolor": "white",
             "startlinecolor": "#2a3f5f"
            },
            "type": "carpet"
           }
          ],
          "choropleth": [
           {
            "colorbar": {
             "outlinewidth": 0,
             "ticks": ""
            },
            "type": "choropleth"
           }
          ],
          "contour": [
           {
            "colorbar": {
             "outlinewidth": 0,
             "ticks": ""
            },
            "colorscale": [
             [
              0,
              "#0d0887"
             ],
             [
              0.1111111111111111,
              "#46039f"
             ],
             [
              0.2222222222222222,
              "#7201a8"
             ],
             [
              0.3333333333333333,
              "#9c179e"
             ],
             [
              0.4444444444444444,
              "#bd3786"
             ],
             [
              0.5555555555555556,
              "#d8576b"
             ],
             [
              0.6666666666666666,
              "#ed7953"
             ],
             [
              0.7777777777777778,
              "#fb9f3a"
             ],
             [
              0.8888888888888888,
              "#fdca26"
             ],
             [
              1,
              "#f0f921"
             ]
            ],
            "type": "contour"
           }
          ],
          "contourcarpet": [
           {
            "colorbar": {
             "outlinewidth": 0,
             "ticks": ""
            },
            "type": "contourcarpet"
           }
          ],
          "heatmap": [
           {
            "colorbar": {
             "outlinewidth": 0,
             "ticks": ""
            },
            "colorscale": [
             [
              0,
              "#0d0887"
             ],
             [
              0.1111111111111111,
              "#46039f"
             ],
             [
              0.2222222222222222,
              "#7201a8"
             ],
             [
              0.3333333333333333,
              "#9c179e"
             ],
             [
              0.4444444444444444,
              "#bd3786"
             ],
             [
              0.5555555555555556,
              "#d8576b"
             ],
             [
              0.6666666666666666,
              "#ed7953"
             ],
             [
              0.7777777777777778,
              "#fb9f3a"
             ],
             [
              0.8888888888888888,
              "#fdca26"
             ],
             [
              1,
              "#f0f921"
             ]
            ],
            "type": "heatmap"
           }
          ],
          "heatmapgl": [
           {
            "colorbar": {
             "outlinewidth": 0,
             "ticks": ""
            },
            "colorscale": [
             [
              0,
              "#0d0887"
             ],
             [
              0.1111111111111111,
              "#46039f"
             ],
             [
              0.2222222222222222,
              "#7201a8"
             ],
             [
              0.3333333333333333,
              "#9c179e"
             ],
             [
              0.4444444444444444,
              "#bd3786"
             ],
             [
              0.5555555555555556,
              "#d8576b"
             ],
             [
              0.6666666666666666,
              "#ed7953"
             ],
             [
              0.7777777777777778,
              "#fb9f3a"
             ],
             [
              0.8888888888888888,
              "#fdca26"
             ],
             [
              1,
              "#f0f921"
             ]
            ],
            "type": "heatmapgl"
           }
          ],
          "histogram": [
           {
            "marker": {
             "colorbar": {
              "outlinewidth": 0,
              "ticks": ""
             }
            },
            "type": "histogram"
           }
          ],
          "histogram2d": [
           {
            "colorbar": {
             "outlinewidth": 0,
             "ticks": ""
            },
            "colorscale": [
             [
              0,
              "#0d0887"
             ],
             [
              0.1111111111111111,
              "#46039f"
             ],
             [
              0.2222222222222222,
              "#7201a8"
             ],
             [
              0.3333333333333333,
              "#9c179e"
             ],
             [
              0.4444444444444444,
              "#bd3786"
             ],
             [
              0.5555555555555556,
              "#d8576b"
             ],
             [
              0.6666666666666666,
              "#ed7953"
             ],
             [
              0.7777777777777778,
              "#fb9f3a"
             ],
             [
              0.8888888888888888,
              "#fdca26"
             ],
             [
              1,
              "#f0f921"
             ]
            ],
            "type": "histogram2d"
           }
          ],
          "histogram2dcontour": [
           {
            "colorbar": {
             "outlinewidth": 0,
             "ticks": ""
            },
            "colorscale": [
             [
              0,
              "#0d0887"
             ],
             [
              0.1111111111111111,
              "#46039f"
             ],
             [
              0.2222222222222222,
              "#7201a8"
             ],
             [
              0.3333333333333333,
              "#9c179e"
             ],
             [
              0.4444444444444444,
              "#bd3786"
             ],
             [
              0.5555555555555556,
              "#d8576b"
             ],
             [
              0.6666666666666666,
              "#ed7953"
             ],
             [
              0.7777777777777778,
              "#fb9f3a"
             ],
             [
              0.8888888888888888,
              "#fdca26"
             ],
             [
              1,
              "#f0f921"
             ]
            ],
            "type": "histogram2dcontour"
           }
          ],
          "mesh3d": [
           {
            "colorbar": {
             "outlinewidth": 0,
             "ticks": ""
            },
            "type": "mesh3d"
           }
          ],
          "parcoords": [
           {
            "line": {
             "colorbar": {
              "outlinewidth": 0,
              "ticks": ""
             }
            },
            "type": "parcoords"
           }
          ],
          "pie": [
           {
            "automargin": true,
            "type": "pie"
           }
          ],
          "scatter": [
           {
            "marker": {
             "colorbar": {
              "outlinewidth": 0,
              "ticks": ""
             }
            },
            "type": "scatter"
           }
          ],
          "scatter3d": [
           {
            "line": {
             "colorbar": {
              "outlinewidth": 0,
              "ticks": ""
             }
            },
            "marker": {
             "colorbar": {
              "outlinewidth": 0,
              "ticks": ""
             }
            },
            "type": "scatter3d"
           }
          ],
          "scattercarpet": [
           {
            "marker": {
             "colorbar": {
              "outlinewidth": 0,
              "ticks": ""
             }
            },
            "type": "scattercarpet"
           }
          ],
          "scattergeo": [
           {
            "marker": {
             "colorbar": {
              "outlinewidth": 0,
              "ticks": ""
             }
            },
            "type": "scattergeo"
           }
          ],
          "scattergl": [
           {
            "marker": {
             "colorbar": {
              "outlinewidth": 0,
              "ticks": ""
             }
            },
            "type": "scattergl"
           }
          ],
          "scattermapbox": [
           {
            "marker": {
             "colorbar": {
              "outlinewidth": 0,
              "ticks": ""
             }
            },
            "type": "scattermapbox"
           }
          ],
          "scatterpolar": [
           {
            "marker": {
             "colorbar": {
              "outlinewidth": 0,
              "ticks": ""
             }
            },
            "type": "scatterpolar"
           }
          ],
          "scatterpolargl": [
           {
            "marker": {
             "colorbar": {
              "outlinewidth": 0,
              "ticks": ""
             }
            },
            "type": "scatterpolargl"
           }
          ],
          "scatterternary": [
           {
            "marker": {
             "colorbar": {
              "outlinewidth": 0,
              "ticks": ""
             }
            },
            "type": "scatterternary"
           }
          ],
          "surface": [
           {
            "colorbar": {
             "outlinewidth": 0,
             "ticks": ""
            },
            "colorscale": [
             [
              0,
              "#0d0887"
             ],
             [
              0.1111111111111111,
              "#46039f"
             ],
             [
              0.2222222222222222,
              "#7201a8"
             ],
             [
              0.3333333333333333,
              "#9c179e"
             ],
             [
              0.4444444444444444,
              "#bd3786"
             ],
             [
              0.5555555555555556,
              "#d8576b"
             ],
             [
              0.6666666666666666,
              "#ed7953"
             ],
             [
              0.7777777777777778,
              "#fb9f3a"
             ],
             [
              0.8888888888888888,
              "#fdca26"
             ],
             [
              1,
              "#f0f921"
             ]
            ],
            "type": "surface"
           }
          ],
          "table": [
           {
            "cells": {
             "fill": {
              "color": "#EBF0F8"
             },
             "line": {
              "color": "white"
             }
            },
            "header": {
             "fill": {
              "color": "#C8D4E3"
             },
             "line": {
              "color": "white"
             }
            },
            "type": "table"
           }
          ]
         },
         "layout": {
          "annotationdefaults": {
           "arrowcolor": "#2a3f5f",
           "arrowhead": 0,
           "arrowwidth": 1
          },
          "coloraxis": {
           "colorbar": {
            "outlinewidth": 0,
            "ticks": ""
           }
          },
          "colorscale": {
           "diverging": [
            [
             0,
             "#8e0152"
            ],
            [
             0.1,
             "#c51b7d"
            ],
            [
             0.2,
             "#de77ae"
            ],
            [
             0.3,
             "#f1b6da"
            ],
            [
             0.4,
             "#fde0ef"
            ],
            [
             0.5,
             "#f7f7f7"
            ],
            [
             0.6,
             "#e6f5d0"
            ],
            [
             0.7,
             "#b8e186"
            ],
            [
             0.8,
             "#7fbc41"
            ],
            [
             0.9,
             "#4d9221"
            ],
            [
             1,
             "#276419"
            ]
           ],
           "sequential": [
            [
             0,
             "#0d0887"
            ],
            [
             0.1111111111111111,
             "#46039f"
            ],
            [
             0.2222222222222222,
             "#7201a8"
            ],
            [
             0.3333333333333333,
             "#9c179e"
            ],
            [
             0.4444444444444444,
             "#bd3786"
            ],
            [
             0.5555555555555556,
             "#d8576b"
            ],
            [
             0.6666666666666666,
             "#ed7953"
            ],
            [
             0.7777777777777778,
             "#fb9f3a"
            ],
            [
             0.8888888888888888,
             "#fdca26"
            ],
            [
             1,
             "#f0f921"
            ]
           ],
           "sequentialminus": [
            [
             0,
             "#0d0887"
            ],
            [
             0.1111111111111111,
             "#46039f"
            ],
            [
             0.2222222222222222,
             "#7201a8"
            ],
            [
             0.3333333333333333,
             "#9c179e"
            ],
            [
             0.4444444444444444,
             "#bd3786"
            ],
            [
             0.5555555555555556,
             "#d8576b"
            ],
            [
             0.6666666666666666,
             "#ed7953"
            ],
            [
             0.7777777777777778,
             "#fb9f3a"
            ],
            [
             0.8888888888888888,
             "#fdca26"
            ],
            [
             1,
             "#f0f921"
            ]
           ]
          },
          "colorway": [
           "#636efa",
           "#EF553B",
           "#00cc96",
           "#ab63fa",
           "#FFA15A",
           "#19d3f3",
           "#FF6692",
           "#B6E880",
           "#FF97FF",
           "#FECB52"
          ],
          "font": {
           "color": "#2a3f5f"
          },
          "geo": {
           "bgcolor": "white",
           "lakecolor": "white",
           "landcolor": "#E5ECF6",
           "showlakes": true,
           "showland": true,
           "subunitcolor": "white"
          },
          "hoverlabel": {
           "align": "left"
          },
          "hovermode": "closest",
          "mapbox": {
           "style": "light"
          },
          "paper_bgcolor": "white",
          "plot_bgcolor": "#E5ECF6",
          "polar": {
           "angularaxis": {
            "gridcolor": "white",
            "linecolor": "white",
            "ticks": ""
           },
           "bgcolor": "#E5ECF6",
           "radialaxis": {
            "gridcolor": "white",
            "linecolor": "white",
            "ticks": ""
           }
          },
          "scene": {
           "xaxis": {
            "backgroundcolor": "#E5ECF6",
            "gridcolor": "white",
            "gridwidth": 2,
            "linecolor": "white",
            "showbackground": true,
            "ticks": "",
            "zerolinecolor": "white"
           },
           "yaxis": {
            "backgroundcolor": "#E5ECF6",
            "gridcolor": "white",
            "gridwidth": 2,
            "linecolor": "white",
            "showbackground": true,
            "ticks": "",
            "zerolinecolor": "white"
           },
           "zaxis": {
            "backgroundcolor": "#E5ECF6",
            "gridcolor": "white",
            "gridwidth": 2,
            "linecolor": "white",
            "showbackground": true,
            "ticks": "",
            "zerolinecolor": "white"
           }
          },
          "shapedefaults": {
           "line": {
            "color": "#2a3f5f"
           }
          },
          "ternary": {
           "aaxis": {
            "gridcolor": "white",
            "linecolor": "white",
            "ticks": ""
           },
           "baxis": {
            "gridcolor": "white",
            "linecolor": "white",
            "ticks": ""
           },
           "bgcolor": "#E5ECF6",
           "caxis": {
            "gridcolor": "white",
            "linecolor": "white",
            "ticks": ""
           }
          },
          "title": {
           "x": 0.05
          },
          "xaxis": {
           "automargin": true,
           "gridcolor": "white",
           "linecolor": "white",
           "ticks": "",
           "title": {
            "standoff": 15
           },
           "zerolinecolor": "white",
           "zerolinewidth": 2
          },
          "yaxis": {
           "automargin": true,
           "gridcolor": "white",
           "linecolor": "white",
           "ticks": "",
           "title": {
            "standoff": 15
           },
           "zerolinecolor": "white",
           "zerolinewidth": 2
          }
         }
        },
        "title": {
         "text": "Learning curve"
        },
        "xaxis": {
         "anchor": "y",
         "domain": [
          0,
          1
         ],
         "title": {
          "text": "index"
         }
        },
        "yaxis": {
         "anchor": "x",
         "domain": [
          0,
          1
         ],
         "title": {
          "text": "RMSE"
         }
        }
       }
      },
      "text/html": [
       "<div>\n",
       "        \n",
       "        \n",
       "            <div id=\"9f23590e-6145-455c-b323-0c97712fead1\" class=\"plotly-graph-div\" style=\"height:525px; width:100%;\"></div>\n",
       "            <script type=\"text/javascript\">\n",
       "                require([\"plotly\"], function(Plotly) {\n",
       "                    window.PLOTLYENV=window.PLOTLYENV || {};\n",
       "                    \n",
       "                if (document.getElementById(\"9f23590e-6145-455c-b323-0c97712fead1\")) {\n",
       "                    Plotly.newPlot(\n",
       "                        '9f23590e-6145-455c-b323-0c97712fead1',\n",
       "                        [{\"hovertemplate\": \"type=learn<br>index=%{x}<br>RMSE=%{y}<extra></extra>\", \"legendgroup\": \"learn\", \"marker\": {\"color\": \"#636efa\", \"symbol\": \"circle\"}, \"mode\": \"markers\", \"name\": \"learn\", \"showlegend\": true, \"type\": \"scatter\", \"x\": [0, 1, 2, 3, 4, 5, 6, 7, 8, 9, 10, 11, 12, 13, 14, 15, 16, 17, 18, 19, 20, 21, 22, 23, 24, 25, 26, 27, 28, 29, 30, 31, 32, 33, 34, 35, 36, 37, 38, 39, 40, 41, 42, 43, 44, 45, 46, 47, 48, 49, 50, 51, 52, 53, 54, 55, 56, 57, 58, 59, 60, 61, 62, 63, 64, 65, 66, 67, 68, 69, 70, 71, 72, 73, 74, 75, 76, 77, 78, 79, 80, 81, 82, 83, 84, 85, 86, 87, 88, 89, 90, 91, 92, 93, 94, 95, 96, 97, 98, 99, 100, 101, 102, 103, 104, 105, 106, 107, 108, 109, 110, 111, 112, 113, 114, 115, 116, 117, 118, 119, 120, 121, 122, 123, 124, 125, 126, 127, 128, 129, 130, 131, 132, 133, 134, 135, 136, 137, 138, 139, 140, 141, 142, 143, 144, 145, 146, 147, 148, 149, 150, 151, 152, 153, 154, 155, 156, 157, 158, 159, 160, 161, 162, 163, 164, 165, 166, 167, 168, 169, 170, 171, 172, 173, 174, 175, 176, 177, 178, 179, 180, 181, 182, 183, 184, 185, 186, 187, 188, 189, 190, 191, 192, 193, 194, 195, 196, 197, 0, 1, 2, 3, 4, 5, 6, 7, 8, 9, 10, 11, 12, 13, 14, 15, 16, 17, 18, 19, 20, 21, 22, 23, 24, 25, 26, 27, 28, 29, 30, 31, 32, 33, 34, 35, 36, 37, 38, 39, 40, 41, 42, 43, 44, 45, 46, 47, 48, 49, 50, 51, 52, 53, 54, 55, 56, 57, 58, 59, 60, 61, 62, 63, 64, 65, 66, 67, 68, 69, 70, 71, 72, 73, 74, 75, 76, 77, 78, 79, 80, 81, 82, 83, 84, 85, 86, 87, 88, 89, 90, 91, 92, 93, 94, 95, 96, 97, 98, 99, 100, 101, 102, 103, 104, 105, 106, 107, 108, 109, 110, 111, 112, 113, 114, 115, 116, 117, 118, 119, 120, 121, 122, 123, 124, 125, 126, 127, 128, 129, 130, 131, 132, 133, 134, 135, 136, 137, 138, 139, 140, 141, 142, 143, 144, 145, 146, 147, 148, 149, 150, 151, 152, 153, 154, 155, 156, 157, 158, 159, 160, 161, 162, 163, 164, 165, 166, 167, 168, 169, 170, 171, 172, 173, 174, 175, 176, 177, 178, 179, 180, 181, 182, 183, 184, 185, 186, 187, 188, 189, 190, 191, 192, 193, 194, 195, 196, 197], \"xaxis\": \"x\", \"y\": [0.058292376338284414, 0.05383246336611911, 0.04938671710594551, 0.045358301705307344, 0.041713130026479465, 0.03857290748498935, 0.03562024278526487, 0.033289101831684514, 0.031023494733711725, 0.028913266934877342, 0.027071855350635273, 0.025445674375636457, 0.024028673874358607, 0.022540135321384044, 0.021252299495725914, 0.020136838077709735, 0.019172173562409644, 0.0182213640923629, 0.01739919780649992, 0.01656212333396143, 0.015935013432296488, 0.015345931249813418, 0.014720837899028127, 0.014169694826590086, 0.013688441387434538, 0.013258021599429582, 0.012883805273196424, 0.012523285975174854, 0.01217925741984204, 0.011887080390576602, 0.011592033447276018, 0.011376153390302344, 0.011185151642307638, 0.010968172699347536, 0.010756050999078292, 0.010587362199242873, 0.010411032861243324, 0.010204807617731527, 0.010060675919709161, 0.009933241459025135, 0.009803468491619075, 0.009679825650186087, 0.009559505609722822, 0.009464820417030544, 0.009368996505605664, 0.009270268690970388, 0.00916801511350367, 0.009076456140237148, 0.008977678143300947, 0.008902309245048477, 0.00881988705543196, 0.008742828934952158, 0.008665540419558007, 0.008592611611178903, 0.008516280981232353, 0.00846168956905879, 0.00839309508015503, 0.008338286011289055, 0.008296585455752702, 0.008236429582111952, 0.00818358819097281, 0.008127942366118836, 0.0080773537633329, 0.008041052095770935, 0.007984329251372041, 0.007939807740155212, 0.0079019039873224, 0.007868774232978932, 0.007802872959450895, 0.0077396987153988015, 0.00768751856693794, 0.0076419027467938775, 0.0075997301647568235, 0.007554702935185252, 0.007518493106243821, 0.00748566067865529, 0.007449865402448606, 0.007412865531361776, 0.0073676640884115935, 0.007294418788701701, 0.007259010758797739, 0.007226314797002776, 0.007184537167997973, 0.007153173965712892, 0.007112564557970919, 0.007075441307040577, 0.0070318915208214235, 0.006984005777947313, 0.006957947605059675, 0.006918926125415392, 0.006890391773729044, 0.0068617899563933995, 0.0068421940394826145, 0.0068074063603576224, 0.00678779464085491, 0.006748090410736617, 0.006724731796172995, 0.006683702947892481, 0.006652782036941431, 0.006622346683753259, 0.0066108336569185985, 0.006593487705542781, 0.006567464126826641, 0.006540012310585156, 0.006501476032414709, 0.006475575849425193, 0.006445371570087323, 0.0064188704962167, 0.006391112215842829, 0.006372074508195829, 0.0063422870782046245, 0.006320392953574932, 0.006302851740900239, 0.006271957587083349, 0.006238240655377167, 0.006211425130617108, 0.0061808835124063976, 0.006146764381987881, 0.0061341169551942356, 0.006103559884268794, 0.0060826784672011365, 0.006062967108282824, 0.006030454162567567, 0.006017653823871372, 0.006007048211832959, 0.005978530489111657, 0.005951731039672293, 0.005940674324850306, 0.005918629994389963, 0.005895004217345989, 0.005876419428555093, 0.0058550574551872745, 0.0058322502319332, 0.005804711293229168, 0.0057920776603654555, 0.005768555531947915, 0.00575411727577946, 0.005735338747204645, 0.005712556596131476, 0.005688583364998615, 0.005672681391085352, 0.005644960262328912, 0.005613449458650141, 0.0055987994496428835, 0.005584331026141074, 0.005574581684956209, 0.00555657242925775, 0.00554268225243351, 0.005520600992543038, 0.005504835257906578, 0.005491095021455979, 0.005469001346869287, 0.005450191661203012, 0.005421946694771802, 0.005408625436276746, 0.005389504078804423, 0.00537804185639888, 0.005367762652393479, 0.005355899042046777, 0.005343749774455059, 0.005336756166681409, 0.005320986744707411, 0.005293000056474401, 0.005282627628374051, 0.005264554896145229, 0.00525558907453529, 0.005243799105006029, 0.005230354664998303, 0.005218460155077691, 0.005207110358258567, 0.005190742117042661, 0.005181016201621051, 0.00517153613691464, 0.005161573688259584, 0.005151844601736008, 0.00513409417801864, 0.005113838225937681, 0.005100180293468778, 0.005086669836121149, 0.005076946644938489, 0.005065801258701481, 0.005043658687712611, 0.005029781804238067, 0.005012463116558374, 0.004995616959709913, 0.004981464610627638, 0.004974061994537644, 0.004953964374371342, 0.004931881508090517, 0.0049204321635508575, 0.004913391321547892, 0.004904888180411819, 0.004894883930259688, 0.00488653999826682, 0.00487623153284117, 0.004867221104940967, 0.004854695140191824, 0.00484629219874683, 0.058292376338284414, 0.05383246336611911, 0.04938671710594551, 0.045358301705307344, 0.041713130026479465, 0.03857290748498935, 0.03562024278526487, 0.033289101831684514, 0.031023494733711725, 0.028913266934877342, 0.027071855350635273, 0.025445674375636457, 0.024028673874358607, 0.022540135321384044, 0.021252299495725914, 0.020136838077709735, 0.019172173562409644, 0.0182213640923629, 0.01739919780649992, 0.01656212333396143, 0.015935013432296488, 0.015345931249813418, 0.014720837899028127, 0.014169694826590086, 0.013688441387434538, 0.013258021599429582, 0.012883805273196424, 0.012523285975174854, 0.01217925741984204, 0.011887080390576602, 0.011592033447276018, 0.011376153390302344, 0.011185151642307638, 0.010968172699347536, 0.010756050999078292, 0.010587362199242873, 0.010411032861243324, 0.010204807617731527, 0.010060675919709161, 0.009933241459025135, 0.009803468491619075, 0.009679825650186087, 0.009559505609722822, 0.009464820417030544, 0.009368996505605664, 0.009270268690970388, 0.00916801511350367, 0.009076456140237148, 0.008977678143300947, 0.008902309245048477, 0.00881988705543196, 0.008742828934952158, 0.008665540419558007, 0.008592611611178903, 0.008516280981232353, 0.00846168956905879, 0.00839309508015503, 0.008338286011289055, 0.008296585455752702, 0.008236429582111952, 0.00818358819097281, 0.008127942366118836, 0.0080773537633329, 0.008041052095770935, 0.007984329251372041, 0.007939807740155212, 0.0079019039873224, 0.007868774232978932, 0.007802872959450895, 0.0077396987153988015, 0.00768751856693794, 0.0076419027467938775, 0.0075997301647568235, 0.007554702935185252, 0.007518493106243821, 0.00748566067865529, 0.007449865402448606, 0.007412865531361776, 0.0073676640884115935, 0.007294418788701701, 0.007259010758797739, 0.007226314797002776, 0.007184537167997973, 0.007153173965712892, 0.007112564557970919, 0.007075441307040577, 0.0070318915208214235, 0.006984005777947313, 0.006957947605059675, 0.006918926125415392, 0.006890391773729044, 0.0068617899563933995, 0.0068421940394826145, 0.0068074063603576224, 0.00678779464085491, 0.006748090410736617, 0.006724731796172995, 0.006683702947892481, 0.006652782036941431, 0.006622346683753259, 0.0066108336569185985, 0.006593487705542781, 0.006567464126826641, 0.006540012310585156, 0.006501476032414709, 0.006475575849425193, 0.006445371570087323, 0.0064188704962167, 0.006391112215842829, 0.006372074508195829, 0.0063422870782046245, 0.006320392953574932, 0.006302851740900239, 0.006271957587083349, 0.006238240655377167, 0.006211425130617108, 0.0061808835124063976, 0.006146764381987881, 0.0061341169551942356, 0.006103559884268794, 0.0060826784672011365, 0.006062967108282824, 0.006030454162567567, 0.006017653823871372, 0.006007048211832959, 0.005978530489111657, 0.005951731039672293, 0.005940674324850306, 0.005918629994389963, 0.005895004217345989, 0.005876419428555093, 0.0058550574551872745, 0.0058322502319332, 0.005804711293229168, 0.0057920776603654555, 0.005768555531947915, 0.00575411727577946, 0.005735338747204645, 0.005712556596131476, 0.005688583364998615, 0.005672681391085352, 0.005644960262328912, 0.005613449458650141, 0.0055987994496428835, 0.005584331026141074, 0.005574581684956209, 0.00555657242925775, 0.00554268225243351, 0.005520600992543038, 0.005504835257906578, 0.005491095021455979, 0.005469001346869287, 0.005450191661203012, 0.005421946694771802, 0.005408625436276746, 0.005389504078804423, 0.00537804185639888, 0.005367762652393479, 0.005355899042046777, 0.005343749774455059, 0.005336756166681409, 0.005320986744707411, 0.005293000056474401, 0.005282627628374051, 0.005264554896145229, 0.00525558907453529, 0.005243799105006029, 0.005230354664998303, 0.005218460155077691, 0.005207110358258567, 0.005190742117042661, 0.005181016201621051, 0.00517153613691464, 0.005161573688259584, 0.005151844601736008, 0.00513409417801864, 0.005113838225937681, 0.005100180293468778, 0.005086669836121149, 0.005076946644938489, 0.005065801258701481, 0.005043658687712611, 0.005029781804238067, 0.005012463116558374, 0.004995616959709913, 0.004981464610627638, 0.004974061994537644, 0.004953964374371342, 0.004931881508090517, 0.0049204321635508575, 0.004913391321547892, 0.004904888180411819, 0.004894883930259688, 0.00488653999826682, 0.00487623153284117, 0.004867221104940967, 0.004854695140191824, 0.00484629219874683], \"yaxis\": \"y\"}, {\"hovertemplate\": \"type=validation<br>index=%{x}<br>RMSE=%{y}<extra></extra>\", \"legendgroup\": \"validation\", \"marker\": {\"color\": \"#EF553B\", \"symbol\": \"circle\"}, \"mode\": \"markers\", \"name\": \"validation\", \"showlegend\": true, \"type\": \"scatter\", \"x\": [0, 1, 2, 3, 4, 5, 6, 7, 8, 9, 10, 11, 12, 13, 14, 15, 16, 17, 18, 19, 20, 21, 22, 23, 24, 25, 26, 27, 28, 29, 30, 31, 32, 33, 34, 35, 36, 37, 38, 39, 40, 41, 42, 43, 44, 45, 46, 47, 48, 49, 50, 51, 52, 53, 54, 55, 56, 57, 58, 59, 60, 61, 62, 63, 64, 65, 66, 67, 68, 69, 70, 71, 72, 73, 74, 75, 76, 77, 78, 79, 80, 81, 82, 83, 84, 85, 86, 87, 88, 89, 90, 91, 92, 93, 94, 95, 96, 97, 98, 99, 100, 101, 102, 103, 104, 105, 106, 107, 108, 109, 110, 111, 112, 113, 114, 115, 116, 117, 118, 119, 120, 121, 122, 123, 124, 125, 126, 127, 128, 129, 130, 131, 132, 133, 134, 135, 136, 137, 138, 139, 140, 141, 142, 143, 144, 145, 146, 147, 148, 149, 150, 151, 152, 153, 154, 155, 156, 157, 158, 159, 160, 161, 162, 163, 164, 165, 166, 167, 168, 169, 170, 171, 172, 173, 174, 175, 176, 177, 178, 179, 180, 181, 182, 183, 184, 185, 186, 187, 188, 189, 190, 191, 192, 193, 194, 195, 196, 197], \"xaxis\": \"x\", \"y\": [0.05766043216331027, 0.053260872211120164, 0.04894442093432146, 0.044980136720514756, 0.04146057859983303, 0.03839112554383751, 0.03556339031274303, 0.033237980136900415, 0.031123257887732205, 0.02901751988574563, 0.027392231413099596, 0.025754806136183625, 0.024440839752895772, 0.02321210559228669, 0.02211171808990298, 0.021120865168528416, 0.02018409197703084, 0.01948450052225371, 0.018761993481779322, 0.018280200553337872, 0.017801477216178967, 0.017254818816838484, 0.01673375888032092, 0.016435639469492863, 0.01614740230170563, 0.015763267738963218, 0.015555578110766551, 0.01522743467357911, 0.014996532331925666, 0.01485643959767003, 0.014730703111376791, 0.014557796333318291, 0.014462244642615904, 0.014405011450104381, 0.01425261571595636, 0.014213423116386473, 0.014108931011606138, 0.014056963397285975, 0.01400048739475051, 0.013854915743949389, 0.013801191314496534, 0.013765303947590133, 0.013701914214527466, 0.013601697745094865, 0.01358958507962971, 0.013501808276789812, 0.013436136891910476, 0.013414517729962803, 0.01339831455065727, 0.013260660316541594, 0.013156612936679982, 0.013101371832303957, 0.013022370828348484, 0.01298655476054129, 0.01297336333923539, 0.012940890946048469, 0.012931704823065457, 0.012897240025899058, 0.012897221745944038, 0.012854270850131477, 0.012836884862237724, 0.012807947198744266, 0.012814532023349064, 0.012777321975377684, 0.01276143146364909, 0.012758397452449801, 0.01277766805448243, 0.012758274941677672, 0.012742361712270011, 0.012783543877148794, 0.012765833522227555, 0.01272024883986696, 0.012667507869348312, 0.012684191315690966, 0.012652022828338655, 0.012655900178788822, 0.012638921017980363, 0.01261652305973369, 0.012590286492654368, 0.01260506251537317, 0.012631945133338878, 0.01261500816778911, 0.012612290246894383, 0.012612408641609365, 0.012617854323430534, 0.012638023902763905, 0.012620064073175856, 0.012583546951551661, 0.012569035644544667, 0.012582223834164581, 0.012568593771472337, 0.012578111311621214, 0.01257180683197403, 0.01255464428161616, 0.01254594667731992, 0.012542830667518687, 0.012536034379206671, 0.012535075420062035, 0.012535327696530756, 0.012523531289793978, 0.012519408135926478, 0.012522924649128766, 0.012512677125065633, 0.012515503736599893, 0.012497873179630999, 0.012499130547009485, 0.012515937155546369, 0.012506978145396933, 0.012496374642017787, 0.012489058222232017, 0.01247392162894214, 0.012505170493344486, 0.0124936835548721, 0.012495594480518742, 0.012496400621799797, 0.012510986001467172, 0.012504349607945912, 0.012468713283975346, 0.012475032058931376, 0.012462546261396179, 0.012477065385704743, 0.01247172469924338, 0.012446414240173556, 0.012439546948523802, 0.012442488151442367, 0.012442926624616227, 0.012441940326484057, 0.012437600007340125, 0.012431067159367561, 0.012433232262152889, 0.012419274419735747, 0.012420272146257507, 0.012397803534419872, 0.012393457874025605, 0.012384052219410824, 0.012370974758504898, 0.01236071078308489, 0.012358875108172298, 0.012360274411431038, 0.012351365995955169, 0.012364456275947202, 0.012375969906350115, 0.012364572006065307, 0.012376987232392835, 0.012363779892180845, 0.01236371891040618, 0.012367096214867944, 0.012364147308294212, 0.01234545639647707, 0.012345158363371593, 0.012338706128465342, 0.012346198508899437, 0.012347244594337121, 0.012339193484345503, 0.01233666693337617, 0.012348730477006726, 0.012345110973332277, 0.012341930048895873, 0.012334881780481189, 0.012322592080658553, 0.01232636083641083, 0.012334974552873789, 0.01233171252912994, 0.01232557788642839, 0.012304198558038404, 0.01230098824309537, 0.012308089794038357, 0.0123025139243547, 0.012306129472113918, 0.012307037941571012, 0.012301280632108145, 0.012287981345104889, 0.012286027541573236, 0.012281545961039472, 0.012280816892705356, 0.012279777331379974, 0.012269520594824421, 0.012256917003482607, 0.012270434446657508, 0.012286386201837701, 0.012295049573501629, 0.01227833093303633, 0.012289295913280613, 0.012286891118423423, 0.012280961827623945, 0.012292450734971342, 0.012289590155051374, 0.012274253623935326, 0.012273933824815527, 0.012273004550508561, 0.012270561836249048, 0.012267395038069086, 0.012278632353355664, 0.012274213994762227, 0.01227674045530361, 0.012269788079900984, 0.012267090858923987, 0.012258658757478318], \"yaxis\": \"y\"}],\n",
       "                        {\"legend\": {\"title\": {\"text\": \"type\"}, \"tracegroupgap\": 0}, \"template\": {\"data\": {\"bar\": [{\"error_x\": {\"color\": \"#2a3f5f\"}, \"error_y\": {\"color\": \"#2a3f5f\"}, \"marker\": {\"line\": {\"color\": \"#E5ECF6\", \"width\": 0.5}}, \"type\": \"bar\"}], \"barpolar\": [{\"marker\": {\"line\": {\"color\": \"#E5ECF6\", \"width\": 0.5}}, \"type\": \"barpolar\"}], \"carpet\": [{\"aaxis\": {\"endlinecolor\": \"#2a3f5f\", \"gridcolor\": \"white\", \"linecolor\": \"white\", \"minorgridcolor\": \"white\", \"startlinecolor\": \"#2a3f5f\"}, \"baxis\": {\"endlinecolor\": \"#2a3f5f\", \"gridcolor\": \"white\", \"linecolor\": \"white\", \"minorgridcolor\": \"white\", \"startlinecolor\": \"#2a3f5f\"}, \"type\": \"carpet\"}], \"choropleth\": [{\"colorbar\": {\"outlinewidth\": 0, \"ticks\": \"\"}, \"type\": \"choropleth\"}], \"contour\": [{\"colorbar\": {\"outlinewidth\": 0, \"ticks\": \"\"}, \"colorscale\": [[0.0, \"#0d0887\"], [0.1111111111111111, \"#46039f\"], [0.2222222222222222, \"#7201a8\"], [0.3333333333333333, \"#9c179e\"], [0.4444444444444444, \"#bd3786\"], [0.5555555555555556, \"#d8576b\"], [0.6666666666666666, \"#ed7953\"], [0.7777777777777778, \"#fb9f3a\"], [0.8888888888888888, \"#fdca26\"], [1.0, \"#f0f921\"]], \"type\": \"contour\"}], \"contourcarpet\": [{\"colorbar\": {\"outlinewidth\": 0, \"ticks\": \"\"}, \"type\": \"contourcarpet\"}], \"heatmap\": [{\"colorbar\": {\"outlinewidth\": 0, \"ticks\": \"\"}, \"colorscale\": [[0.0, \"#0d0887\"], [0.1111111111111111, \"#46039f\"], [0.2222222222222222, \"#7201a8\"], [0.3333333333333333, \"#9c179e\"], [0.4444444444444444, \"#bd3786\"], [0.5555555555555556, \"#d8576b\"], [0.6666666666666666, \"#ed7953\"], [0.7777777777777778, \"#fb9f3a\"], [0.8888888888888888, \"#fdca26\"], [1.0, \"#f0f921\"]], \"type\": \"heatmap\"}], \"heatmapgl\": [{\"colorbar\": {\"outlinewidth\": 0, \"ticks\": \"\"}, \"colorscale\": [[0.0, \"#0d0887\"], [0.1111111111111111, \"#46039f\"], [0.2222222222222222, \"#7201a8\"], [0.3333333333333333, \"#9c179e\"], [0.4444444444444444, \"#bd3786\"], [0.5555555555555556, \"#d8576b\"], [0.6666666666666666, \"#ed7953\"], [0.7777777777777778, \"#fb9f3a\"], [0.8888888888888888, \"#fdca26\"], [1.0, \"#f0f921\"]], \"type\": \"heatmapgl\"}], \"histogram\": [{\"marker\": {\"colorbar\": {\"outlinewidth\": 0, \"ticks\": \"\"}}, \"type\": \"histogram\"}], \"histogram2d\": [{\"colorbar\": {\"outlinewidth\": 0, \"ticks\": \"\"}, \"colorscale\": [[0.0, \"#0d0887\"], [0.1111111111111111, \"#46039f\"], [0.2222222222222222, \"#7201a8\"], [0.3333333333333333, \"#9c179e\"], [0.4444444444444444, \"#bd3786\"], [0.5555555555555556, \"#d8576b\"], [0.6666666666666666, \"#ed7953\"], [0.7777777777777778, \"#fb9f3a\"], [0.8888888888888888, \"#fdca26\"], [1.0, \"#f0f921\"]], \"type\": \"histogram2d\"}], \"histogram2dcontour\": [{\"colorbar\": {\"outlinewidth\": 0, \"ticks\": \"\"}, \"colorscale\": [[0.0, \"#0d0887\"], [0.1111111111111111, \"#46039f\"], [0.2222222222222222, \"#7201a8\"], [0.3333333333333333, \"#9c179e\"], [0.4444444444444444, \"#bd3786\"], [0.5555555555555556, \"#d8576b\"], [0.6666666666666666, \"#ed7953\"], [0.7777777777777778, \"#fb9f3a\"], [0.8888888888888888, \"#fdca26\"], [1.0, \"#f0f921\"]], \"type\": \"histogram2dcontour\"}], \"mesh3d\": [{\"colorbar\": {\"outlinewidth\": 0, \"ticks\": \"\"}, \"type\": \"mesh3d\"}], \"parcoords\": [{\"line\": {\"colorbar\": {\"outlinewidth\": 0, \"ticks\": \"\"}}, \"type\": \"parcoords\"}], \"pie\": [{\"automargin\": true, \"type\": \"pie\"}], \"scatter\": [{\"marker\": {\"colorbar\": {\"outlinewidth\": 0, \"ticks\": \"\"}}, \"type\": \"scatter\"}], \"scatter3d\": [{\"line\": {\"colorbar\": {\"outlinewidth\": 0, \"ticks\": \"\"}}, \"marker\": {\"colorbar\": {\"outlinewidth\": 0, \"ticks\": \"\"}}, \"type\": \"scatter3d\"}], \"scattercarpet\": [{\"marker\": {\"colorbar\": {\"outlinewidth\": 0, \"ticks\": \"\"}}, \"type\": \"scattercarpet\"}], \"scattergeo\": [{\"marker\": {\"colorbar\": {\"outlinewidth\": 0, \"ticks\": \"\"}}, \"type\": \"scattergeo\"}], \"scattergl\": [{\"marker\": {\"colorbar\": {\"outlinewidth\": 0, \"ticks\": \"\"}}, \"type\": \"scattergl\"}], \"scattermapbox\": [{\"marker\": {\"colorbar\": {\"outlinewidth\": 0, \"ticks\": \"\"}}, \"type\": \"scattermapbox\"}], \"scatterpolar\": [{\"marker\": {\"colorbar\": {\"outlinewidth\": 0, \"ticks\": \"\"}}, \"type\": \"scatterpolar\"}], \"scatterpolargl\": [{\"marker\": {\"colorbar\": {\"outlinewidth\": 0, \"ticks\": \"\"}}, \"type\": \"scatterpolargl\"}], \"scatterternary\": [{\"marker\": {\"colorbar\": {\"outlinewidth\": 0, \"ticks\": \"\"}}, \"type\": \"scatterternary\"}], \"surface\": [{\"colorbar\": {\"outlinewidth\": 0, \"ticks\": \"\"}, \"colorscale\": [[0.0, \"#0d0887\"], [0.1111111111111111, \"#46039f\"], [0.2222222222222222, \"#7201a8\"], [0.3333333333333333, \"#9c179e\"], [0.4444444444444444, \"#bd3786\"], [0.5555555555555556, \"#d8576b\"], [0.6666666666666666, \"#ed7953\"], [0.7777777777777778, \"#fb9f3a\"], [0.8888888888888888, \"#fdca26\"], [1.0, \"#f0f921\"]], \"type\": \"surface\"}], \"table\": [{\"cells\": {\"fill\": {\"color\": \"#EBF0F8\"}, \"line\": {\"color\": \"white\"}}, \"header\": {\"fill\": {\"color\": \"#C8D4E3\"}, \"line\": {\"color\": \"white\"}}, \"type\": \"table\"}]}, \"layout\": {\"annotationdefaults\": {\"arrowcolor\": \"#2a3f5f\", \"arrowhead\": 0, \"arrowwidth\": 1}, \"coloraxis\": {\"colorbar\": {\"outlinewidth\": 0, \"ticks\": \"\"}}, \"colorscale\": {\"diverging\": [[0, \"#8e0152\"], [0.1, \"#c51b7d\"], [0.2, \"#de77ae\"], [0.3, \"#f1b6da\"], [0.4, \"#fde0ef\"], [0.5, \"#f7f7f7\"], [0.6, \"#e6f5d0\"], [0.7, \"#b8e186\"], [0.8, \"#7fbc41\"], [0.9, \"#4d9221\"], [1, \"#276419\"]], \"sequential\": [[0.0, \"#0d0887\"], [0.1111111111111111, \"#46039f\"], [0.2222222222222222, \"#7201a8\"], [0.3333333333333333, \"#9c179e\"], [0.4444444444444444, \"#bd3786\"], [0.5555555555555556, \"#d8576b\"], [0.6666666666666666, \"#ed7953\"], [0.7777777777777778, \"#fb9f3a\"], [0.8888888888888888, \"#fdca26\"], [1.0, \"#f0f921\"]], \"sequentialminus\": [[0.0, \"#0d0887\"], [0.1111111111111111, \"#46039f\"], [0.2222222222222222, \"#7201a8\"], [0.3333333333333333, \"#9c179e\"], [0.4444444444444444, \"#bd3786\"], [0.5555555555555556, \"#d8576b\"], [0.6666666666666666, \"#ed7953\"], [0.7777777777777778, \"#fb9f3a\"], [0.8888888888888888, \"#fdca26\"], [1.0, \"#f0f921\"]]}, \"colorway\": [\"#636efa\", \"#EF553B\", \"#00cc96\", \"#ab63fa\", \"#FFA15A\", \"#19d3f3\", \"#FF6692\", \"#B6E880\", \"#FF97FF\", \"#FECB52\"], \"font\": {\"color\": \"#2a3f5f\"}, \"geo\": {\"bgcolor\": \"white\", \"lakecolor\": \"white\", \"landcolor\": \"#E5ECF6\", \"showlakes\": true, \"showland\": true, \"subunitcolor\": \"white\"}, \"hoverlabel\": {\"align\": \"left\"}, \"hovermode\": \"closest\", \"mapbox\": {\"style\": \"light\"}, \"paper_bgcolor\": \"white\", \"plot_bgcolor\": \"#E5ECF6\", \"polar\": {\"angularaxis\": {\"gridcolor\": \"white\", \"linecolor\": \"white\", \"ticks\": \"\"}, \"bgcolor\": \"#E5ECF6\", \"radialaxis\": {\"gridcolor\": \"white\", \"linecolor\": \"white\", \"ticks\": \"\"}}, \"scene\": {\"xaxis\": {\"backgroundcolor\": \"#E5ECF6\", \"gridcolor\": \"white\", \"gridwidth\": 2, \"linecolor\": \"white\", \"showbackground\": true, \"ticks\": \"\", \"zerolinecolor\": \"white\"}, \"yaxis\": {\"backgroundcolor\": \"#E5ECF6\", \"gridcolor\": \"white\", \"gridwidth\": 2, \"linecolor\": \"white\", \"showbackground\": true, \"ticks\": \"\", \"zerolinecolor\": \"white\"}, \"zaxis\": {\"backgroundcolor\": \"#E5ECF6\", \"gridcolor\": \"white\", \"gridwidth\": 2, \"linecolor\": \"white\", \"showbackground\": true, \"ticks\": \"\", \"zerolinecolor\": \"white\"}}, \"shapedefaults\": {\"line\": {\"color\": \"#2a3f5f\"}}, \"ternary\": {\"aaxis\": {\"gridcolor\": \"white\", \"linecolor\": \"white\", \"ticks\": \"\"}, \"baxis\": {\"gridcolor\": \"white\", \"linecolor\": \"white\", \"ticks\": \"\"}, \"bgcolor\": \"#E5ECF6\", \"caxis\": {\"gridcolor\": \"white\", \"linecolor\": \"white\", \"ticks\": \"\"}}, \"title\": {\"x\": 0.05}, \"xaxis\": {\"automargin\": true, \"gridcolor\": \"white\", \"linecolor\": \"white\", \"ticks\": \"\", \"title\": {\"standoff\": 15}, \"zerolinecolor\": \"white\", \"zerolinewidth\": 2}, \"yaxis\": {\"automargin\": true, \"gridcolor\": \"white\", \"linecolor\": \"white\", \"ticks\": \"\", \"title\": {\"standoff\": 15}, \"zerolinecolor\": \"white\", \"zerolinewidth\": 2}}}, \"title\": {\"text\": \"Learning curve\"}, \"xaxis\": {\"anchor\": \"y\", \"domain\": [0.0, 1.0], \"title\": {\"text\": \"index\"}}, \"yaxis\": {\"anchor\": \"x\", \"domain\": [0.0, 1.0], \"title\": {\"text\": \"RMSE\"}}},\n",
       "                        {\"responsive\": true}\n",
       "                    ).then(function(){\n",
       "                            \n",
       "var gd = document.getElementById('9f23590e-6145-455c-b323-0c97712fead1');\n",
       "var x = new MutationObserver(function (mutations, observer) {{\n",
       "        var display = window.getComputedStyle(gd).display;\n",
       "        if (!display || display === 'none') {{\n",
       "            console.log([gd, 'removed!']);\n",
       "            Plotly.purge(gd);\n",
       "            observer.disconnect();\n",
       "        }}\n",
       "}});\n",
       "\n",
       "// Listen for the removal of the full notebook cells\n",
       "var notebookContainer = gd.closest('#notebook-container');\n",
       "if (notebookContainer) {{\n",
       "    x.observe(notebookContainer, {childList: true});\n",
       "}}\n",
       "\n",
       "// Listen for the clearing of the current output cell\n",
       "var outputEl = gd.closest('.output');\n",
       "if (outputEl) {{\n",
       "    x.observe(outputEl, {childList: true});\n",
       "}}\n",
       "\n",
       "                        })\n",
       "                };\n",
       "                });\n",
       "            </script>\n",
       "        </div>"
      ]
     },
     "metadata": {},
     "output_type": "display_data"
    }
   ],
   "source": [
    "# num_leaves << 2^(max_depth)\n",
    "\n",
    "cbr = CatBoostRegressor(\n",
    "    learning_rate=0.1,\n",
    "    iterations=300,\n",
    "    depth=3,\n",
    "    max_leaves=6,\n",
    "    subsample=0.9,\n",
    "    penalties_coefficient=1,\n",
    "    l2_leaf_reg=1,\n",
    "    min_data_in_leaf=5,\n",
    "    grow_policy='Lossguide', # SymmetricTree, Lossguide, Depthwise, Region\n",
    "    boost_from_average=True,\n",
    "    eval_metric='RMSE',\n",
    "    od_type='Iter' # IncToDec, Iter\n",
    ")\n",
    "\n",
    "history = cbr.fit(X=X_train, y=y_train,\n",
    "                  eval_set = eval_set, verbose=0)\n",
    "\n",
    "y_pred_train = cbr.predict(X_train)\n",
    "y_pred_val = cbr.predict(X_val)\n",
    "\n",
    "train_rmse = mean_squared_error(y_true=y_train, y_pred=y_pred_train, squared=False)\n",
    "val_rmse = mean_squared_error(y_true=y_val, y_pred=y_pred_val, squared=False)\n",
    "print(f'RMSE Train: {train_rmse: .8f}')\n",
    "print(f'RMSE Valid: {val_rmse: .8f}\\tRatio (val/train): {val_rmse/train_rmse: .5f}')\n",
    "\n",
    "plot_history(history, metric_key='RMSE')"
   ]
  },
  {
   "cell_type": "code",
   "execution_count": 14,
   "metadata": {
    "ExecuteTime": {
     "end_time": "2020-06-20T21:01:51.162645Z",
     "start_time": "2020-06-20T21:01:50.904883Z"
    },
    "scrolled": false
   },
   "outputs": [
    {
     "data": {
      "application/vnd.plotly.v1+json": {
       "config": {
        "plotlyServerURL": "https://plot.ly"
       },
       "data": [
        {
         "alignmentgroup": "True",
         "hovertemplate": "feature=%{x}<br>importance=%{y}<extra></extra>",
         "legendgroup": "",
         "marker": {
          "color": "#636efa"
         },
         "name": "",
         "offsetgroup": "",
         "orientation": "v",
         "showlegend": false,
         "textposition": "auto",
         "type": "bar",
         "x": [
          "galaxy",
          "Gender Inequality Index (GII)",
          "Share of seats in senate (% held by female)",
          "Interstellar Data Net users, total (% of population)",
          "Interstellar phone subscriptions (per 100 people)",
          "Renewable energy consumption (% of total final energy consumption)",
          "Mortality rate, male grown up (per 1,000 people)",
          "Old age dependency ratio (old age (65 and older) per 100 creatures (ages 15-64))",
          "Population with at least some secondary education (% ages 25 and older)",
          "Population using at least basic drinking-water services (%)",
          "Exports and imports (% of GGP)",
          "Gross income per capita",
          "Mortality rate, female grown up (per 1,000 people)",
          "Intergalactic Development Index (IDI), female",
          "Intergalactic Development Index (IDI), male",
          "Employment in services (% of total employment)",
          "Gross enrolment ratio, primary (% of primary under-age population)",
          "Population with at least some secondary education, male (% ages 25 and older)",
          "Intergalactic Development Index (IDI), female, Rank",
          "Gross capital formation (% of GGP)",
          "Outer Galaxies direct investment, net inflows (% of GGP)",
          "Mean years of education (galactic years)",
          "Expected years of education (galactic years)",
          "Youth unemployment rate (female to male ratio)",
          "Infants lacking immunization, red hot disease (% of one-galactic year-olds)",
          "Gross galactic product (GGP) per capita",
          "Estimated gross galactic income per capita, female",
          "Intergalactic Development Index (IDI), Rank",
          "Vulnerable employment (% of total employment)",
          "Young age (0-14) dependency ratio (per 100 creatures ages 15-64)",
          "Jungle area (% of total land area)",
          "Estimated gross galactic income per capita, male",
          "Creature Immunodeficiency Disease prevalence, adult (% ages 15-49), total",
          "Population with at least some secondary education, female (% ages 25 and older)",
          "Private galaxy capital flows (% of GGP)",
          "Intergalactic Development Index (IDI)",
          "Employment to population ratio (% ages 15 and older)",
          "Employment in agriculture (% of total employment)",
          "Population, urban (%)",
          "Labour force participation rate (% ages 15 and older), male",
          "existence expectancy at birth",
          "Life expectancy at birth, female (galactic years)",
          "Education Index",
          "Population, ages 15–64 (millions)",
          "Mortality rate, infant (per 1,000 live births)",
          "Total unemployment rate (female to male ratio)",
          "Income Index",
          "Gross fixed capital formation (% of GGP)",
          "Gender Development Index (GDI)",
          "Natural resource depletion",
          "Current health expenditure (% of GGP)",
          "Expected years of education, male (galactic years)",
          "Intergalactic Development Index (IDI), male, Rank",
          "Population using at least basic sanitation services (%)",
          "Adjusted net savings ",
          "Mortality rate, under-five (per 1,000 live births)",
          "Gross galactic product (GGP), total",
          "Remittances, inflows (% of GGP)",
          "Expected years of education, female (galactic years)",
          "Respiratory disease incidence (per 100,000 people)",
          "Labour force participation rate (% ages 15 and older), female",
          "Population, under age 5 (millions)",
          "Adolescent birth rate (births per 1,000 female creatures ages 15-19)",
          "Mean years of education, male (galactic years)",
          "Infants lacking immunization, Combination Vaccine (% of one-galactic year-olds)",
          "Population, total (millions)",
          "Labour force participation rate (% ages 15 and older)",
          "Life expectancy at birth, male (galactic years)",
          "Mean years of education, female (galactic years)",
          "Intergalactic inbound tourists (thousands)",
          "Unemployment, total (% of labour force)",
          "Domestic credit provided by financial sector (% of GGP)",
          "Population, ages 65 and older (millions)",
          "Share of employment in nonagriculture, female (% of total employment in nonagriculture)",
          "Rural population with access to electricity (%)",
          "existence expectancy index",
          "Unemployment, youth (% ages 15–24)",
          "Maternal mortality ratio (deaths per 100,000 live births)"
         ],
         "xaxis": "x",
         "y": [
          89.35465134057152,
          1.713034627627283,
          1.069621060671954,
          1.0053113167425498,
          0.6223023251022525,
          0.535153076366712,
          0.4990988402954623,
          0.4931555859891861,
          0.46034735503434093,
          0.3496361361742464,
          0.3179595960168522,
          0.2634321483159174,
          0.20943933776039303,
          0.19384454361319212,
          0.17228221090941523,
          0.16223986441172122,
          0.1444356022518018,
          0.14337509605584386,
          0.13970279403512606,
          0.13457626467067765,
          0.1283756064306748,
          0.12536302757066073,
          0.12397304961069784,
          0.1071045669669852,
          0.10473630457173343,
          0.10423187422750153,
          0.0854802499389718,
          0.08543226319806588,
          0.08440602721737014,
          0.07015403736252754,
          0.05672824918535092,
          0.05391922273795151,
          0.0529839024920616,
          0.04662339883464928,
          0.04650387825044338,
          0.04014719669862524,
          0.03629510861649498,
          0.03571067642742089,
          0.03466032859180212,
          0.0343262704753327,
          0.03339770920537671,
          0.03109532434325071,
          0.030309325374631404,
          0.029508722152645155,
          0.029397588357858957,
          0.028165473752768268,
          0.025077581147166295,
          0.024388029657039696,
          0.02435793778115198,
          0.023371196892444195,
          0.02324005020418459,
          0.021666073521170448,
          0.021392954414602178,
          0.01895725203164544,
          0.01839193959867899,
          0.018158832127410884,
          0.01814642426531544,
          0.017576572429615522,
          0.01722657608564766,
          0.015480077153666184,
          0.01298336633897721,
          0.01239737434960488,
          0.010943752845004116,
          0.008838602445431632,
          0.007906860263975758,
          0.007327377364489289,
          0.0055591899932196775,
          0.0047068147853212335,
          0.004236934857082653,
          0.004147076058048689,
          0.003458347236169199,
          0.002837578050842998,
          0.001879951949738877,
          0.0011282523471379613,
          0.0009765615777105124,
          0.0006119570192348423,
          0,
          0
         ],
         "yaxis": "y"
        }
       ],
       "layout": {
        "barmode": "relative",
        "legend": {
         "tracegroupgap": 0
        },
        "margin": {
         "t": 60
        },
        "template": {
         "data": {
          "bar": [
           {
            "error_x": {
             "color": "#2a3f5f"
            },
            "error_y": {
             "color": "#2a3f5f"
            },
            "marker": {
             "line": {
              "color": "#E5ECF6",
              "width": 0.5
             }
            },
            "type": "bar"
           }
          ],
          "barpolar": [
           {
            "marker": {
             "line": {
              "color": "#E5ECF6",
              "width": 0.5
             }
            },
            "type": "barpolar"
           }
          ],
          "carpet": [
           {
            "aaxis": {
             "endlinecolor": "#2a3f5f",
             "gridcolor": "white",
             "linecolor": "white",
             "minorgridcolor": "white",
             "startlinecolor": "#2a3f5f"
            },
            "baxis": {
             "endlinecolor": "#2a3f5f",
             "gridcolor": "white",
             "linecolor": "white",
             "minorgridcolor": "white",
             "startlinecolor": "#2a3f5f"
            },
            "type": "carpet"
           }
          ],
          "choropleth": [
           {
            "colorbar": {
             "outlinewidth": 0,
             "ticks": ""
            },
            "type": "choropleth"
           }
          ],
          "contour": [
           {
            "colorbar": {
             "outlinewidth": 0,
             "ticks": ""
            },
            "colorscale": [
             [
              0,
              "#0d0887"
             ],
             [
              0.1111111111111111,
              "#46039f"
             ],
             [
              0.2222222222222222,
              "#7201a8"
             ],
             [
              0.3333333333333333,
              "#9c179e"
             ],
             [
              0.4444444444444444,
              "#bd3786"
             ],
             [
              0.5555555555555556,
              "#d8576b"
             ],
             [
              0.6666666666666666,
              "#ed7953"
             ],
             [
              0.7777777777777778,
              "#fb9f3a"
             ],
             [
              0.8888888888888888,
              "#fdca26"
             ],
             [
              1,
              "#f0f921"
             ]
            ],
            "type": "contour"
           }
          ],
          "contourcarpet": [
           {
            "colorbar": {
             "outlinewidth": 0,
             "ticks": ""
            },
            "type": "contourcarpet"
           }
          ],
          "heatmap": [
           {
            "colorbar": {
             "outlinewidth": 0,
             "ticks": ""
            },
            "colorscale": [
             [
              0,
              "#0d0887"
             ],
             [
              0.1111111111111111,
              "#46039f"
             ],
             [
              0.2222222222222222,
              "#7201a8"
             ],
             [
              0.3333333333333333,
              "#9c179e"
             ],
             [
              0.4444444444444444,
              "#bd3786"
             ],
             [
              0.5555555555555556,
              "#d8576b"
             ],
             [
              0.6666666666666666,
              "#ed7953"
             ],
             [
              0.7777777777777778,
              "#fb9f3a"
             ],
             [
              0.8888888888888888,
              "#fdca26"
             ],
             [
              1,
              "#f0f921"
             ]
            ],
            "type": "heatmap"
           }
          ],
          "heatmapgl": [
           {
            "colorbar": {
             "outlinewidth": 0,
             "ticks": ""
            },
            "colorscale": [
             [
              0,
              "#0d0887"
             ],
             [
              0.1111111111111111,
              "#46039f"
             ],
             [
              0.2222222222222222,
              "#7201a8"
             ],
             [
              0.3333333333333333,
              "#9c179e"
             ],
             [
              0.4444444444444444,
              "#bd3786"
             ],
             [
              0.5555555555555556,
              "#d8576b"
             ],
             [
              0.6666666666666666,
              "#ed7953"
             ],
             [
              0.7777777777777778,
              "#fb9f3a"
             ],
             [
              0.8888888888888888,
              "#fdca26"
             ],
             [
              1,
              "#f0f921"
             ]
            ],
            "type": "heatmapgl"
           }
          ],
          "histogram": [
           {
            "marker": {
             "colorbar": {
              "outlinewidth": 0,
              "ticks": ""
             }
            },
            "type": "histogram"
           }
          ],
          "histogram2d": [
           {
            "colorbar": {
             "outlinewidth": 0,
             "ticks": ""
            },
            "colorscale": [
             [
              0,
              "#0d0887"
             ],
             [
              0.1111111111111111,
              "#46039f"
             ],
             [
              0.2222222222222222,
              "#7201a8"
             ],
             [
              0.3333333333333333,
              "#9c179e"
             ],
             [
              0.4444444444444444,
              "#bd3786"
             ],
             [
              0.5555555555555556,
              "#d8576b"
             ],
             [
              0.6666666666666666,
              "#ed7953"
             ],
             [
              0.7777777777777778,
              "#fb9f3a"
             ],
             [
              0.8888888888888888,
              "#fdca26"
             ],
             [
              1,
              "#f0f921"
             ]
            ],
            "type": "histogram2d"
           }
          ],
          "histogram2dcontour": [
           {
            "colorbar": {
             "outlinewidth": 0,
             "ticks": ""
            },
            "colorscale": [
             [
              0,
              "#0d0887"
             ],
             [
              0.1111111111111111,
              "#46039f"
             ],
             [
              0.2222222222222222,
              "#7201a8"
             ],
             [
              0.3333333333333333,
              "#9c179e"
             ],
             [
              0.4444444444444444,
              "#bd3786"
             ],
             [
              0.5555555555555556,
              "#d8576b"
             ],
             [
              0.6666666666666666,
              "#ed7953"
             ],
             [
              0.7777777777777778,
              "#fb9f3a"
             ],
             [
              0.8888888888888888,
              "#fdca26"
             ],
             [
              1,
              "#f0f921"
             ]
            ],
            "type": "histogram2dcontour"
           }
          ],
          "mesh3d": [
           {
            "colorbar": {
             "outlinewidth": 0,
             "ticks": ""
            },
            "type": "mesh3d"
           }
          ],
          "parcoords": [
           {
            "line": {
             "colorbar": {
              "outlinewidth": 0,
              "ticks": ""
             }
            },
            "type": "parcoords"
           }
          ],
          "pie": [
           {
            "automargin": true,
            "type": "pie"
           }
          ],
          "scatter": [
           {
            "marker": {
             "colorbar": {
              "outlinewidth": 0,
              "ticks": ""
             }
            },
            "type": "scatter"
           }
          ],
          "scatter3d": [
           {
            "line": {
             "colorbar": {
              "outlinewidth": 0,
              "ticks": ""
             }
            },
            "marker": {
             "colorbar": {
              "outlinewidth": 0,
              "ticks": ""
             }
            },
            "type": "scatter3d"
           }
          ],
          "scattercarpet": [
           {
            "marker": {
             "colorbar": {
              "outlinewidth": 0,
              "ticks": ""
             }
            },
            "type": "scattercarpet"
           }
          ],
          "scattergeo": [
           {
            "marker": {
             "colorbar": {
              "outlinewidth": 0,
              "ticks": ""
             }
            },
            "type": "scattergeo"
           }
          ],
          "scattergl": [
           {
            "marker": {
             "colorbar": {
              "outlinewidth": 0,
              "ticks": ""
             }
            },
            "type": "scattergl"
           }
          ],
          "scattermapbox": [
           {
            "marker": {
             "colorbar": {
              "outlinewidth": 0,
              "ticks": ""
             }
            },
            "type": "scattermapbox"
           }
          ],
          "scatterpolar": [
           {
            "marker": {
             "colorbar": {
              "outlinewidth": 0,
              "ticks": ""
             }
            },
            "type": "scatterpolar"
           }
          ],
          "scatterpolargl": [
           {
            "marker": {
             "colorbar": {
              "outlinewidth": 0,
              "ticks": ""
             }
            },
            "type": "scatterpolargl"
           }
          ],
          "scatterternary": [
           {
            "marker": {
             "colorbar": {
              "outlinewidth": 0,
              "ticks": ""
             }
            },
            "type": "scatterternary"
           }
          ],
          "surface": [
           {
            "colorbar": {
             "outlinewidth": 0,
             "ticks": ""
            },
            "colorscale": [
             [
              0,
              "#0d0887"
             ],
             [
              0.1111111111111111,
              "#46039f"
             ],
             [
              0.2222222222222222,
              "#7201a8"
             ],
             [
              0.3333333333333333,
              "#9c179e"
             ],
             [
              0.4444444444444444,
              "#bd3786"
             ],
             [
              0.5555555555555556,
              "#d8576b"
             ],
             [
              0.6666666666666666,
              "#ed7953"
             ],
             [
              0.7777777777777778,
              "#fb9f3a"
             ],
             [
              0.8888888888888888,
              "#fdca26"
             ],
             [
              1,
              "#f0f921"
             ]
            ],
            "type": "surface"
           }
          ],
          "table": [
           {
            "cells": {
             "fill": {
              "color": "#EBF0F8"
             },
             "line": {
              "color": "white"
             }
            },
            "header": {
             "fill": {
              "color": "#C8D4E3"
             },
             "line": {
              "color": "white"
             }
            },
            "type": "table"
           }
          ]
         },
         "layout": {
          "annotationdefaults": {
           "arrowcolor": "#2a3f5f",
           "arrowhead": 0,
           "arrowwidth": 1
          },
          "coloraxis": {
           "colorbar": {
            "outlinewidth": 0,
            "ticks": ""
           }
          },
          "colorscale": {
           "diverging": [
            [
             0,
             "#8e0152"
            ],
            [
             0.1,
             "#c51b7d"
            ],
            [
             0.2,
             "#de77ae"
            ],
            [
             0.3,
             "#f1b6da"
            ],
            [
             0.4,
             "#fde0ef"
            ],
            [
             0.5,
             "#f7f7f7"
            ],
            [
             0.6,
             "#e6f5d0"
            ],
            [
             0.7,
             "#b8e186"
            ],
            [
             0.8,
             "#7fbc41"
            ],
            [
             0.9,
             "#4d9221"
            ],
            [
             1,
             "#276419"
            ]
           ],
           "sequential": [
            [
             0,
             "#0d0887"
            ],
            [
             0.1111111111111111,
             "#46039f"
            ],
            [
             0.2222222222222222,
             "#7201a8"
            ],
            [
             0.3333333333333333,
             "#9c179e"
            ],
            [
             0.4444444444444444,
             "#bd3786"
            ],
            [
             0.5555555555555556,
             "#d8576b"
            ],
            [
             0.6666666666666666,
             "#ed7953"
            ],
            [
             0.7777777777777778,
             "#fb9f3a"
            ],
            [
             0.8888888888888888,
             "#fdca26"
            ],
            [
             1,
             "#f0f921"
            ]
           ],
           "sequentialminus": [
            [
             0,
             "#0d0887"
            ],
            [
             0.1111111111111111,
             "#46039f"
            ],
            [
             0.2222222222222222,
             "#7201a8"
            ],
            [
             0.3333333333333333,
             "#9c179e"
            ],
            [
             0.4444444444444444,
             "#bd3786"
            ],
            [
             0.5555555555555556,
             "#d8576b"
            ],
            [
             0.6666666666666666,
             "#ed7953"
            ],
            [
             0.7777777777777778,
             "#fb9f3a"
            ],
            [
             0.8888888888888888,
             "#fdca26"
            ],
            [
             1,
             "#f0f921"
            ]
           ]
          },
          "colorway": [
           "#636efa",
           "#EF553B",
           "#00cc96",
           "#ab63fa",
           "#FFA15A",
           "#19d3f3",
           "#FF6692",
           "#B6E880",
           "#FF97FF",
           "#FECB52"
          ],
          "font": {
           "color": "#2a3f5f"
          },
          "geo": {
           "bgcolor": "white",
           "lakecolor": "white",
           "landcolor": "#E5ECF6",
           "showlakes": true,
           "showland": true,
           "subunitcolor": "white"
          },
          "hoverlabel": {
           "align": "left"
          },
          "hovermode": "closest",
          "mapbox": {
           "style": "light"
          },
          "paper_bgcolor": "white",
          "plot_bgcolor": "#E5ECF6",
          "polar": {
           "angularaxis": {
            "gridcolor": "white",
            "linecolor": "white",
            "ticks": ""
           },
           "bgcolor": "#E5ECF6",
           "radialaxis": {
            "gridcolor": "white",
            "linecolor": "white",
            "ticks": ""
           }
          },
          "scene": {
           "xaxis": {
            "backgroundcolor": "#E5ECF6",
            "gridcolor": "white",
            "gridwidth": 2,
            "linecolor": "white",
            "showbackground": true,
            "ticks": "",
            "zerolinecolor": "white"
           },
           "yaxis": {
            "backgroundcolor": "#E5ECF6",
            "gridcolor": "white",
            "gridwidth": 2,
            "linecolor": "white",
            "showbackground": true,
            "ticks": "",
            "zerolinecolor": "white"
           },
           "zaxis": {
            "backgroundcolor": "#E5ECF6",
            "gridcolor": "white",
            "gridwidth": 2,
            "linecolor": "white",
            "showbackground": true,
            "ticks": "",
            "zerolinecolor": "white"
           }
          },
          "shapedefaults": {
           "line": {
            "color": "#2a3f5f"
           }
          },
          "ternary": {
           "aaxis": {
            "gridcolor": "white",
            "linecolor": "white",
            "ticks": ""
           },
           "baxis": {
            "gridcolor": "white",
            "linecolor": "white",
            "ticks": ""
           },
           "bgcolor": "#E5ECF6",
           "caxis": {
            "gridcolor": "white",
            "linecolor": "white",
            "ticks": ""
           }
          },
          "title": {
           "x": 0.05
          },
          "xaxis": {
           "automargin": true,
           "gridcolor": "white",
           "linecolor": "white",
           "ticks": "",
           "title": {
            "standoff": 15
           },
           "zerolinecolor": "white",
           "zerolinewidth": 2
          },
          "yaxis": {
           "automargin": true,
           "gridcolor": "white",
           "linecolor": "white",
           "ticks": "",
           "title": {
            "standoff": 15
           },
           "zerolinecolor": "white",
           "zerolinewidth": 2
          }
         }
        },
        "xaxis": {
         "anchor": "y",
         "domain": [
          0,
          1
         ],
         "title": {
          "text": "feature"
         }
        },
        "yaxis": {
         "anchor": "x",
         "domain": [
          0,
          1
         ],
         "title": {
          "text": "importance"
         }
        }
       }
      },
      "text/html": [
       "<div>\n",
       "        \n",
       "        \n",
       "            <div id=\"a1a1335a-7d3e-4a3b-a51f-4950447e6b24\" class=\"plotly-graph-div\" style=\"height:525px; width:100%;\"></div>\n",
       "            <script type=\"text/javascript\">\n",
       "                require([\"plotly\"], function(Plotly) {\n",
       "                    window.PLOTLYENV=window.PLOTLYENV || {};\n",
       "                    \n",
       "                if (document.getElementById(\"a1a1335a-7d3e-4a3b-a51f-4950447e6b24\")) {\n",
       "                    Plotly.newPlot(\n",
       "                        'a1a1335a-7d3e-4a3b-a51f-4950447e6b24',\n",
       "                        [{\"alignmentgroup\": \"True\", \"hovertemplate\": \"feature=%{x}<br>importance=%{y}<extra></extra>\", \"legendgroup\": \"\", \"marker\": {\"color\": \"#636efa\"}, \"name\": \"\", \"offsetgroup\": \"\", \"orientation\": \"v\", \"showlegend\": false, \"textposition\": \"auto\", \"type\": \"bar\", \"x\": [\"galaxy\", \"Gender Inequality Index (GII)\", \"Share of seats in senate (% held by female)\", \"Interstellar Data Net users, total (% of population)\", \"Interstellar phone subscriptions (per 100 people)\", \"Renewable energy consumption (% of total final energy consumption)\", \"Mortality rate, male grown up (per 1,000 people)\", \"Old age dependency ratio (old age (65 and older) per 100 creatures (ages 15-64))\", \"Population with at least some secondary education (% ages 25 and older)\", \"Population using at least basic drinking-water services (%)\", \"Exports and imports (% of GGP)\", \"Gross income per capita\", \"Mortality rate, female grown up (per 1,000 people)\", \"Intergalactic Development Index (IDI), female\", \"Intergalactic Development Index (IDI), male\", \"Employment in services (% of total employment)\", \"Gross enrolment ratio, primary (% of primary under-age population)\", \"Population with at least some secondary education, male (% ages 25 and older)\", \"Intergalactic Development Index (IDI), female, Rank\", \"Gross capital formation (% of GGP)\", \"Outer Galaxies direct investment, net inflows (% of GGP)\", \"Mean years of education (galactic years)\", \"Expected years of education (galactic years)\", \"Youth unemployment rate (female to male ratio)\", \"Infants lacking immunization, red hot disease (% of one-galactic year-olds)\", \"Gross galactic product (GGP) per capita\", \"Estimated gross galactic income per capita, female\", \"Intergalactic Development Index (IDI), Rank\", \"Vulnerable employment (% of total employment)\", \"Young age (0-14) dependency ratio (per 100 creatures ages 15-64)\", \"Jungle area (% of total land area)\", \"Estimated gross galactic income per capita, male\", \"Creature Immunodeficiency Disease prevalence, adult (% ages 15-49), total\", \"Population with at least some secondary education, female (% ages 25 and older)\", \"Private galaxy capital flows (% of GGP)\", \"Intergalactic Development Index (IDI)\", \"Employment to population ratio (% ages 15 and older)\", \"Employment in agriculture (% of total employment)\", \"Population, urban (%)\", \"Labour force participation rate (% ages 15 and older), male\", \"existence expectancy at birth\", \"Life expectancy at birth, female (galactic years)\", \"Education Index\", \"Population, ages 15\\u201364 (millions)\", \"Mortality rate, infant (per 1,000 live births)\", \"Total unemployment rate (female to male ratio)\", \"Income Index\", \"Gross fixed capital formation (% of GGP)\", \"Gender Development Index (GDI)\", \"Natural resource depletion\", \"Current health expenditure (% of GGP)\", \"Expected years of education, male (galactic years)\", \"Intergalactic Development Index (IDI), male, Rank\", \"Population using at least basic sanitation services (%)\", \"Adjusted net savings \", \"Mortality rate, under-five (per 1,000 live births)\", \"Gross galactic product (GGP), total\", \"Remittances, inflows (% of GGP)\", \"Expected years of education, female (galactic years)\", \"Respiratory disease incidence (per 100,000 people)\", \"Labour force participation rate (% ages 15 and older), female\", \"Population, under age 5 (millions)\", \"Adolescent birth rate (births per 1,000 female creatures ages 15-19)\", \"Mean years of education, male (galactic years)\", \"Infants lacking immunization, Combination Vaccine (% of one-galactic year-olds)\", \"Population, total (millions)\", \"Labour force participation rate (% ages 15 and older)\", \"Life expectancy at birth, male (galactic years)\", \"Mean years of education, female (galactic years)\", \"Intergalactic inbound tourists (thousands)\", \"Unemployment, total (% of labour force)\", \"Domestic credit provided by financial sector (% of GGP)\", \"Population, ages 65 and older (millions)\", \"Share of employment in nonagriculture, female (% of total employment in nonagriculture)\", \"Rural population with access to electricity (%)\", \"existence expectancy index\", \"Unemployment, youth (% ages 15\\u201324)\", \"Maternal mortality ratio (deaths per 100,000 live births)\"], \"xaxis\": \"x\", \"y\": [89.35465134057152, 1.713034627627283, 1.069621060671954, 1.0053113167425498, 0.6223023251022525, 0.535153076366712, 0.4990988402954623, 0.4931555859891861, 0.46034735503434093, 0.3496361361742464, 0.3179595960168522, 0.2634321483159174, 0.20943933776039303, 0.19384454361319212, 0.17228221090941523, 0.16223986441172122, 0.1444356022518018, 0.14337509605584386, 0.13970279403512606, 0.13457626467067765, 0.1283756064306748, 0.12536302757066073, 0.12397304961069784, 0.1071045669669852, 0.10473630457173343, 0.10423187422750153, 0.0854802499389718, 0.08543226319806588, 0.08440602721737014, 0.07015403736252754, 0.05672824918535092, 0.05391922273795151, 0.0529839024920616, 0.04662339883464928, 0.04650387825044338, 0.04014719669862524, 0.03629510861649498, 0.03571067642742089, 0.03466032859180212, 0.0343262704753327, 0.03339770920537671, 0.03109532434325071, 0.030309325374631404, 0.029508722152645155, 0.029397588357858957, 0.028165473752768268, 0.025077581147166295, 0.024388029657039696, 0.02435793778115198, 0.023371196892444195, 0.02324005020418459, 0.021666073521170448, 0.021392954414602178, 0.01895725203164544, 0.01839193959867899, 0.018158832127410884, 0.01814642426531544, 0.017576572429615522, 0.01722657608564766, 0.015480077153666184, 0.01298336633897721, 0.01239737434960488, 0.010943752845004116, 0.008838602445431632, 0.007906860263975758, 0.007327377364489289, 0.0055591899932196775, 0.0047068147853212335, 0.004236934857082653, 0.004147076058048689, 0.003458347236169199, 0.002837578050842998, 0.001879951949738877, 0.0011282523471379613, 0.0009765615777105124, 0.0006119570192348423, 0.0, 0.0], \"yaxis\": \"y\"}],\n",
       "                        {\"barmode\": \"relative\", \"legend\": {\"tracegroupgap\": 0}, \"margin\": {\"t\": 60}, \"template\": {\"data\": {\"bar\": [{\"error_x\": {\"color\": \"#2a3f5f\"}, \"error_y\": {\"color\": \"#2a3f5f\"}, \"marker\": {\"line\": {\"color\": \"#E5ECF6\", \"width\": 0.5}}, \"type\": \"bar\"}], \"barpolar\": [{\"marker\": {\"line\": {\"color\": \"#E5ECF6\", \"width\": 0.5}}, \"type\": \"barpolar\"}], \"carpet\": [{\"aaxis\": {\"endlinecolor\": \"#2a3f5f\", \"gridcolor\": \"white\", \"linecolor\": \"white\", \"minorgridcolor\": \"white\", \"startlinecolor\": \"#2a3f5f\"}, \"baxis\": {\"endlinecolor\": \"#2a3f5f\", \"gridcolor\": \"white\", \"linecolor\": \"white\", \"minorgridcolor\": \"white\", \"startlinecolor\": \"#2a3f5f\"}, \"type\": \"carpet\"}], \"choropleth\": [{\"colorbar\": {\"outlinewidth\": 0, \"ticks\": \"\"}, \"type\": \"choropleth\"}], \"contour\": [{\"colorbar\": {\"outlinewidth\": 0, \"ticks\": \"\"}, \"colorscale\": [[0.0, \"#0d0887\"], [0.1111111111111111, \"#46039f\"], [0.2222222222222222, \"#7201a8\"], [0.3333333333333333, \"#9c179e\"], [0.4444444444444444, \"#bd3786\"], [0.5555555555555556, \"#d8576b\"], [0.6666666666666666, \"#ed7953\"], [0.7777777777777778, \"#fb9f3a\"], [0.8888888888888888, \"#fdca26\"], [1.0, \"#f0f921\"]], \"type\": \"contour\"}], \"contourcarpet\": [{\"colorbar\": {\"outlinewidth\": 0, \"ticks\": \"\"}, \"type\": \"contourcarpet\"}], \"heatmap\": [{\"colorbar\": {\"outlinewidth\": 0, \"ticks\": \"\"}, \"colorscale\": [[0.0, \"#0d0887\"], [0.1111111111111111, \"#46039f\"], [0.2222222222222222, \"#7201a8\"], [0.3333333333333333, \"#9c179e\"], [0.4444444444444444, \"#bd3786\"], [0.5555555555555556, \"#d8576b\"], [0.6666666666666666, \"#ed7953\"], [0.7777777777777778, \"#fb9f3a\"], [0.8888888888888888, \"#fdca26\"], [1.0, \"#f0f921\"]], \"type\": \"heatmap\"}], \"heatmapgl\": [{\"colorbar\": {\"outlinewidth\": 0, \"ticks\": \"\"}, \"colorscale\": [[0.0, \"#0d0887\"], [0.1111111111111111, \"#46039f\"], [0.2222222222222222, \"#7201a8\"], [0.3333333333333333, \"#9c179e\"], [0.4444444444444444, \"#bd3786\"], [0.5555555555555556, \"#d8576b\"], [0.6666666666666666, \"#ed7953\"], [0.7777777777777778, \"#fb9f3a\"], [0.8888888888888888, \"#fdca26\"], [1.0, \"#f0f921\"]], \"type\": \"heatmapgl\"}], \"histogram\": [{\"marker\": {\"colorbar\": {\"outlinewidth\": 0, \"ticks\": \"\"}}, \"type\": \"histogram\"}], \"histogram2d\": [{\"colorbar\": {\"outlinewidth\": 0, \"ticks\": \"\"}, \"colorscale\": [[0.0, \"#0d0887\"], [0.1111111111111111, \"#46039f\"], [0.2222222222222222, \"#7201a8\"], [0.3333333333333333, \"#9c179e\"], [0.4444444444444444, \"#bd3786\"], [0.5555555555555556, \"#d8576b\"], [0.6666666666666666, \"#ed7953\"], [0.7777777777777778, \"#fb9f3a\"], [0.8888888888888888, \"#fdca26\"], [1.0, \"#f0f921\"]], \"type\": \"histogram2d\"}], \"histogram2dcontour\": [{\"colorbar\": {\"outlinewidth\": 0, \"ticks\": \"\"}, \"colorscale\": [[0.0, \"#0d0887\"], [0.1111111111111111, \"#46039f\"], [0.2222222222222222, \"#7201a8\"], [0.3333333333333333, \"#9c179e\"], [0.4444444444444444, \"#bd3786\"], [0.5555555555555556, \"#d8576b\"], [0.6666666666666666, \"#ed7953\"], [0.7777777777777778, \"#fb9f3a\"], [0.8888888888888888, \"#fdca26\"], [1.0, \"#f0f921\"]], \"type\": \"histogram2dcontour\"}], \"mesh3d\": [{\"colorbar\": {\"outlinewidth\": 0, \"ticks\": \"\"}, \"type\": \"mesh3d\"}], \"parcoords\": [{\"line\": {\"colorbar\": {\"outlinewidth\": 0, \"ticks\": \"\"}}, \"type\": \"parcoords\"}], \"pie\": [{\"automargin\": true, \"type\": \"pie\"}], \"scatter\": [{\"marker\": {\"colorbar\": {\"outlinewidth\": 0, \"ticks\": \"\"}}, \"type\": \"scatter\"}], \"scatter3d\": [{\"line\": {\"colorbar\": {\"outlinewidth\": 0, \"ticks\": \"\"}}, \"marker\": {\"colorbar\": {\"outlinewidth\": 0, \"ticks\": \"\"}}, \"type\": \"scatter3d\"}], \"scattercarpet\": [{\"marker\": {\"colorbar\": {\"outlinewidth\": 0, \"ticks\": \"\"}}, \"type\": \"scattercarpet\"}], \"scattergeo\": [{\"marker\": {\"colorbar\": {\"outlinewidth\": 0, \"ticks\": \"\"}}, \"type\": \"scattergeo\"}], \"scattergl\": [{\"marker\": {\"colorbar\": {\"outlinewidth\": 0, \"ticks\": \"\"}}, \"type\": \"scattergl\"}], \"scattermapbox\": [{\"marker\": {\"colorbar\": {\"outlinewidth\": 0, \"ticks\": \"\"}}, \"type\": \"scattermapbox\"}], \"scatterpolar\": [{\"marker\": {\"colorbar\": {\"outlinewidth\": 0, \"ticks\": \"\"}}, \"type\": \"scatterpolar\"}], \"scatterpolargl\": [{\"marker\": {\"colorbar\": {\"outlinewidth\": 0, \"ticks\": \"\"}}, \"type\": \"scatterpolargl\"}], \"scatterternary\": [{\"marker\": {\"colorbar\": {\"outlinewidth\": 0, \"ticks\": \"\"}}, \"type\": \"scatterternary\"}], \"surface\": [{\"colorbar\": {\"outlinewidth\": 0, \"ticks\": \"\"}, \"colorscale\": [[0.0, \"#0d0887\"], [0.1111111111111111, \"#46039f\"], [0.2222222222222222, \"#7201a8\"], [0.3333333333333333, \"#9c179e\"], [0.4444444444444444, \"#bd3786\"], [0.5555555555555556, \"#d8576b\"], [0.6666666666666666, \"#ed7953\"], [0.7777777777777778, \"#fb9f3a\"], [0.8888888888888888, \"#fdca26\"], [1.0, \"#f0f921\"]], \"type\": \"surface\"}], \"table\": [{\"cells\": {\"fill\": {\"color\": \"#EBF0F8\"}, \"line\": {\"color\": \"white\"}}, \"header\": {\"fill\": {\"color\": \"#C8D4E3\"}, \"line\": {\"color\": \"white\"}}, \"type\": \"table\"}]}, \"layout\": {\"annotationdefaults\": {\"arrowcolor\": \"#2a3f5f\", \"arrowhead\": 0, \"arrowwidth\": 1}, \"coloraxis\": {\"colorbar\": {\"outlinewidth\": 0, \"ticks\": \"\"}}, \"colorscale\": {\"diverging\": [[0, \"#8e0152\"], [0.1, \"#c51b7d\"], [0.2, \"#de77ae\"], [0.3, \"#f1b6da\"], [0.4, \"#fde0ef\"], [0.5, \"#f7f7f7\"], [0.6, \"#e6f5d0\"], [0.7, \"#b8e186\"], [0.8, \"#7fbc41\"], [0.9, \"#4d9221\"], [1, \"#276419\"]], \"sequential\": [[0.0, \"#0d0887\"], [0.1111111111111111, \"#46039f\"], [0.2222222222222222, \"#7201a8\"], [0.3333333333333333, \"#9c179e\"], [0.4444444444444444, \"#bd3786\"], [0.5555555555555556, \"#d8576b\"], [0.6666666666666666, \"#ed7953\"], [0.7777777777777778, \"#fb9f3a\"], [0.8888888888888888, \"#fdca26\"], [1.0, \"#f0f921\"]], \"sequentialminus\": [[0.0, \"#0d0887\"], [0.1111111111111111, \"#46039f\"], [0.2222222222222222, \"#7201a8\"], [0.3333333333333333, \"#9c179e\"], [0.4444444444444444, \"#bd3786\"], [0.5555555555555556, \"#d8576b\"], [0.6666666666666666, \"#ed7953\"], [0.7777777777777778, \"#fb9f3a\"], [0.8888888888888888, \"#fdca26\"], [1.0, \"#f0f921\"]]}, \"colorway\": [\"#636efa\", \"#EF553B\", \"#00cc96\", \"#ab63fa\", \"#FFA15A\", \"#19d3f3\", \"#FF6692\", \"#B6E880\", \"#FF97FF\", \"#FECB52\"], \"font\": {\"color\": \"#2a3f5f\"}, \"geo\": {\"bgcolor\": \"white\", \"lakecolor\": \"white\", \"landcolor\": \"#E5ECF6\", \"showlakes\": true, \"showland\": true, \"subunitcolor\": \"white\"}, \"hoverlabel\": {\"align\": \"left\"}, \"hovermode\": \"closest\", \"mapbox\": {\"style\": \"light\"}, \"paper_bgcolor\": \"white\", \"plot_bgcolor\": \"#E5ECF6\", \"polar\": {\"angularaxis\": {\"gridcolor\": \"white\", \"linecolor\": \"white\", \"ticks\": \"\"}, \"bgcolor\": \"#E5ECF6\", \"radialaxis\": {\"gridcolor\": \"white\", \"linecolor\": \"white\", \"ticks\": \"\"}}, \"scene\": {\"xaxis\": {\"backgroundcolor\": \"#E5ECF6\", \"gridcolor\": \"white\", \"gridwidth\": 2, \"linecolor\": \"white\", \"showbackground\": true, \"ticks\": \"\", \"zerolinecolor\": \"white\"}, \"yaxis\": {\"backgroundcolor\": \"#E5ECF6\", \"gridcolor\": \"white\", \"gridwidth\": 2, \"linecolor\": \"white\", \"showbackground\": true, \"ticks\": \"\", \"zerolinecolor\": \"white\"}, \"zaxis\": {\"backgroundcolor\": \"#E5ECF6\", \"gridcolor\": \"white\", \"gridwidth\": 2, \"linecolor\": \"white\", \"showbackground\": true, \"ticks\": \"\", \"zerolinecolor\": \"white\"}}, \"shapedefaults\": {\"line\": {\"color\": \"#2a3f5f\"}}, \"ternary\": {\"aaxis\": {\"gridcolor\": \"white\", \"linecolor\": \"white\", \"ticks\": \"\"}, \"baxis\": {\"gridcolor\": \"white\", \"linecolor\": \"white\", \"ticks\": \"\"}, \"bgcolor\": \"#E5ECF6\", \"caxis\": {\"gridcolor\": \"white\", \"linecolor\": \"white\", \"ticks\": \"\"}}, \"title\": {\"x\": 0.05}, \"xaxis\": {\"automargin\": true, \"gridcolor\": \"white\", \"linecolor\": \"white\", \"ticks\": \"\", \"title\": {\"standoff\": 15}, \"zerolinecolor\": \"white\", \"zerolinewidth\": 2}, \"yaxis\": {\"automargin\": true, \"gridcolor\": \"white\", \"linecolor\": \"white\", \"ticks\": \"\", \"title\": {\"standoff\": 15}, \"zerolinecolor\": \"white\", \"zerolinewidth\": 2}}}, \"xaxis\": {\"anchor\": \"y\", \"domain\": [0.0, 1.0], \"title\": {\"text\": \"feature\"}}, \"yaxis\": {\"anchor\": \"x\", \"domain\": [0.0, 1.0], \"title\": {\"text\": \"importance\"}}},\n",
       "                        {\"responsive\": true}\n",
       "                    ).then(function(){\n",
       "                            \n",
       "var gd = document.getElementById('a1a1335a-7d3e-4a3b-a51f-4950447e6b24');\n",
       "var x = new MutationObserver(function (mutations, observer) {{\n",
       "        var display = window.getComputedStyle(gd).display;\n",
       "        if (!display || display === 'none') {{\n",
       "            console.log([gd, 'removed!']);\n",
       "            Plotly.purge(gd);\n",
       "            observer.disconnect();\n",
       "        }}\n",
       "}});\n",
       "\n",
       "// Listen for the removal of the full notebook cells\n",
       "var notebookContainer = gd.closest('#notebook-container');\n",
       "if (notebookContainer) {{\n",
       "    x.observe(notebookContainer, {childList: true});\n",
       "}}\n",
       "\n",
       "// Listen for the clearing of the current output cell\n",
       "var outputEl = gd.closest('.output');\n",
       "if (outputEl) {{\n",
       "    x.observe(outputEl, {childList: true});\n",
       "}}\n",
       "\n",
       "                        })\n",
       "                };\n",
       "                });\n",
       "            </script>\n",
       "        </div>"
      ]
     },
     "metadata": {},
     "output_type": "display_data"
    }
   ],
   "source": [
    "df_imp = pd.DataFrame()\n",
    "df_imp['importance'] = cbr.feature_importances_\n",
    "df_imp['feature'] = X\n",
    "df_imp.sort_values(by='importance', ascending=False, inplace=True)\n",
    "\n",
    "px.bar(data_frame=df_imp, x='feature', y='importance')"
   ]
  },
  {
   "cell_type": "code",
   "execution_count": 15,
   "metadata": {
    "ExecuteTime": {
     "end_time": "2020-06-20T21:01:51.165648Z",
     "start_time": "2020-06-20T21:01:51.163646Z"
    }
   },
   "outputs": [],
   "source": [
    "# test = pd.get_dummies(test)"
   ]
  },
  {
   "cell_type": "code",
   "execution_count": 16,
   "metadata": {
    "ExecuteTime": {
     "end_time": "2020-06-20T21:01:51.172653Z",
     "start_time": "2020-06-20T21:01:51.166649Z"
    }
   },
   "outputs": [],
   "source": [
    "# galaxies_unseen_test = ['galaxy_Andromeda XIX[60]', 'galaxy_NGC 5253', 'galaxy_Tucana Dwarf',\n",
    "#        'galaxy_Andromeda XXIV', 'Population..ages.15a..64..millions.', 'galaxy_Hercules Dwarf',\n",
    "#        'Unemployment..youth....ages.15a..24.', 'galaxy_Andromeda XXII[57]', 'galaxy_Andromeda XVIII[60]',\n",
    "#        'galaxy_Triangulum Galaxy (M33)', 'galaxy_Andromeda XII']\n",
    "\n",
    "# for galaxy in galaxies_unseen_test:\n",
    "#     test[galaxy] = 0\n",
    "    \n",
    "X_test = test[X].to_numpy()"
   ]
  },
  {
   "cell_type": "code",
   "execution_count": 17,
   "metadata": {
    "ExecuteTime": {
     "end_time": "2020-06-20T21:01:51.180661Z",
     "start_time": "2020-06-20T21:01:51.173654Z"
    },
    "scrolled": true
   },
   "outputs": [],
   "source": [
    "y_pred_test = cbr.predict(X_test)"
   ]
  },
  {
   "cell_type": "code",
   "execution_count": 18,
   "metadata": {
    "ExecuteTime": {
     "end_time": "2020-06-20T21:01:51.190670Z",
     "start_time": "2020-06-20T21:01:51.181662Z"
    }
   },
   "outputs": [
    {
     "data": {
      "text/html": [
       "<div>\n",
       "<style scoped>\n",
       "    .dataframe tbody tr th:only-of-type {\n",
       "        vertical-align: middle;\n",
       "    }\n",
       "\n",
       "    .dataframe tbody tr th {\n",
       "        vertical-align: top;\n",
       "    }\n",
       "\n",
       "    .dataframe thead th {\n",
       "        text-align: right;\n",
       "    }\n",
       "</style>\n",
       "<table border=\"1\" class=\"dataframe\">\n",
       "  <thead>\n",
       "    <tr style=\"text-align: right;\">\n",
       "      <th></th>\n",
       "      <th>Index</th>\n",
       "      <th>y_pred</th>\n",
       "    </tr>\n",
       "  </thead>\n",
       "  <tbody>\n",
       "    <tr>\n",
       "      <th>0</th>\n",
       "      <td>0</td>\n",
       "      <td>0.045499</td>\n",
       "    </tr>\n",
       "    <tr>\n",
       "      <th>1</th>\n",
       "      <td>1</td>\n",
       "      <td>0.043470</td>\n",
       "    </tr>\n",
       "    <tr>\n",
       "      <th>2</th>\n",
       "      <td>2</td>\n",
       "      <td>0.042778</td>\n",
       "    </tr>\n",
       "    <tr>\n",
       "      <th>3</th>\n",
       "      <td>3</td>\n",
       "      <td>0.039482</td>\n",
       "    </tr>\n",
       "    <tr>\n",
       "      <th>4</th>\n",
       "      <td>4</td>\n",
       "      <td>0.038135</td>\n",
       "    </tr>\n",
       "    <tr>\n",
       "      <th>...</th>\n",
       "      <td>...</td>\n",
       "      <td>...</td>\n",
       "    </tr>\n",
       "    <tr>\n",
       "      <th>885</th>\n",
       "      <td>885</td>\n",
       "      <td>0.050171</td>\n",
       "    </tr>\n",
       "    <tr>\n",
       "      <th>886</th>\n",
       "      <td>886</td>\n",
       "      <td>0.058396</td>\n",
       "    </tr>\n",
       "    <tr>\n",
       "      <th>887</th>\n",
       "      <td>887</td>\n",
       "      <td>0.080850</td>\n",
       "    </tr>\n",
       "    <tr>\n",
       "      <th>888</th>\n",
       "      <td>888</td>\n",
       "      <td>0.069815</td>\n",
       "    </tr>\n",
       "    <tr>\n",
       "      <th>889</th>\n",
       "      <td>889</td>\n",
       "      <td>0.051734</td>\n",
       "    </tr>\n",
       "  </tbody>\n",
       "</table>\n",
       "<p>890 rows × 2 columns</p>\n",
       "</div>"
      ],
      "text/plain": [
       "     Index    y_pred\n",
       "0        0  0.045499\n",
       "1        1  0.043470\n",
       "2        2  0.042778\n",
       "3        3  0.039482\n",
       "4        4  0.038135\n",
       "..     ...       ...\n",
       "885    885  0.050171\n",
       "886    886  0.058396\n",
       "887    887  0.080850\n",
       "888    888  0.069815\n",
       "889    889  0.051734\n",
       "\n",
       "[890 rows x 2 columns]"
      ]
     },
     "execution_count": 18,
     "metadata": {},
     "output_type": "execute_result"
    }
   ],
   "source": [
    "pred_output = pd.DataFrame()\n",
    "pred_output['y_pred'] = y_pred_test\n",
    "pred_output.reset_index(inplace=True)\n",
    "pred_output.rename(columns = {\n",
    "    \"index\": \"Index\"\n",
    "    }, inplace=True)\n",
    "pred_output"
   ]
  },
  {
   "cell_type": "code",
   "execution_count": 19,
   "metadata": {
    "ExecuteTime": {
     "end_time": "2020-06-20T21:01:51.195674Z",
     "start_time": "2020-06-20T21:01:51.191671Z"
    }
   },
   "outputs": [],
   "source": [
    "# write_predictions()"
   ]
  },
  {
   "cell_type": "code",
   "execution_count": 20,
   "metadata": {
    "ExecuteTime": {
     "end_time": "2020-06-20T21:01:51.201680Z",
     "start_time": "2020-06-20T21:01:51.196675Z"
    }
   },
   "outputs": [
    {
     "name": "stdout",
     "output_type": "stream",
     "text": [
      "Train samples: 2898\n",
      "Validation samples: 967\n",
      "Test samples: 890\n"
     ]
    }
   ],
   "source": [
    "print(\"Train samples:\", y_pred_train.shape[0])\n",
    "print(\"Validation samples:\", y_pred_val.shape[0])\n",
    "print(\"Test samples:\", y_pred_test.shape[0])"
   ]
  },
  {
   "cell_type": "code",
   "execution_count": 21,
   "metadata": {
    "ExecuteTime": {
     "end_time": "2020-06-20T21:01:51.413873Z",
     "start_time": "2020-06-20T21:01:51.202681Z"
    },
    "scrolled": false
   },
   "outputs": [
    {
     "data": {
      "application/vnd.plotly.v1+json": {
       "config": {
        "plotlyServerURL": "https://plot.ly"
       },
       "data": [
        {
         "alignmentgroup": "True",
         "bingroup": "x",
         "hovertemplate": "0=%{x}<br>count=%{y}<extra></extra>",
         "legendgroup": "",
         "marker": {
          "color": "#636efa"
         },
         "name": "",
         "offsetgroup": "",
         "orientation": "v",
         "showlegend": false,
         "type": "histogram",
         "x": [
          0.04602334030638267,
          0.0867873626945053,
          0.048320748771669024,
          0.04459386470013257,
          0.04442345597288922,
          0.03252404515163871,
          0.03991920479252872,
          0.047794194833343004,
          0.2723106097089705,
          0.061846228409560014,
          0.15272396123018828,
          0.06981521633428009,
          0.05114879644300675,
          0.06459607671580556,
          0.13870934532148044,
          0.08059129410772546,
          0.08674597864600835,
          0.07097901322126661,
          0.04626515854051763,
          0.04722560745499284,
          0.17719892671027554,
          0.04742351370080385,
          0.05105730612746674,
          0.06140818124169361,
          0.18635128566976794,
          0.06567948849874075,
          0.05989051924736888,
          0.055064633708508254,
          0.05573469824520429,
          0.05516833106920558,
          0.04581181161405096,
          0.11137478862500914,
          0.05078132672163728,
          0.07205058651827032,
          0.0601506400983019,
          0.16664900980109304,
          0.06928213265005977,
          0.06563410993012664,
          0.0638201902597914,
          0.044688768078821224,
          0.05085532345922686,
          0.04260748770836849,
          0.1503644972520865,
          0.1103702369553809,
          0.05036968965251987,
          0.12667447354336148,
          0.2093874095713812,
          0.04390853638258577,
          0.08428578605397083,
          0.0562127589372622,
          0.057590905915168286,
          0.053433429110963146,
          0.2105184236348647,
          0.053669655903103575,
          0.048367571052923046,
          0.0505319897010773,
          0.1785920326848605,
          0.06961258793586644,
          0.05033731954927552,
          0.060476562072220186,
          0.051241639944438734,
          0.045967548115343815,
          0.14333088216652645,
          0.0338827568744532,
          0.2337395126988858,
          0.07454419786402415,
          0.0850787093469256,
          0.08666468919258433,
          0.1967158339807338,
          0.18468339883082818,
          0.06967364188069701,
          0.04667383760074432,
          0.2735723326430212,
          0.065221385850242,
          0.053100493365399445,
          0.09341076432774895,
          0.05649913344447,
          0.06747048508190359,
          0.07248550014323311,
          0.048753295692951476,
          0.06535530422122672,
          0.05243967695782088,
          0.2323030739441316,
          0.2256650012714764,
          0.05004486168453132,
          0.048018923973468616,
          0.048432285246978964,
          0.03419798970930313,
          0.08015954004952382,
          0.0552691057204369,
          0.13050337624547062,
          0.0831477786586841,
          0.20552823191985398,
          0.06634534754337784,
          0.16764215800664267,
          0.0834807023051003,
          0.12866794513679902,
          0.05256626537299095,
          0.18805271079165942,
          0.0423281687367379,
          0.06522190841151876,
          0.04112969739493272,
          0.043549555418226596,
          0.059084174817834643,
          0.16300456393142274,
          0.07835476661346093,
          0.043229857631679,
          0.20660327607366596,
          0.028542239919610718,
          0.08484795875362919,
          0.05186046938412271,
          0.05614514497853246,
          0.0454578268284893,
          0.03229307530168626,
          0.1986692241510114,
          0.05755515224819262,
          0.03681287792899819,
          0.0627857056573247,
          0.04760336769487266,
          0.05063733974939402,
          0.3337528228077471,
          0.0663332241357186,
          0.04578666173956651,
          0.05690914362789345,
          0.058502236474207915,
          0.14821472781701772,
          0.049776766192250285,
          0.04796611509955068,
          0.06718465811376889,
          0.058008769376001884,
          0.05968316337598676,
          0.04876762059944007,
          0.045733404188438895,
          0.05074040986799902,
          0.09160242817339616,
          0.13306991687920644,
          0.22361376407275027,
          0.04979083980388613,
          0.052518023216172036,
          0.05772644511683758,
          0.0483200584928893,
          0.1724436031414514,
          0.1863366694517767,
          0.10839358622179975,
          0.06399601700268487,
          0.08600246769303145,
          0.04852074965254279,
          0.09606410082718929,
          0.06306517629534099,
          0.11388854793192588,
          0.24367818161782479,
          0.044999827814393434,
          0.09636416638073397,
          0.14984064968820807,
          0.05010418824807889,
          0.11531844959644331,
          0.04222376791313993,
          0.10077020461984325,
          0.05335508470838116,
          0.05209207618384669,
          0.04863659921792042,
          0.03126463689685297,
          0.029758227116079276,
          0.04420262378317343,
          0.10177156656235019,
          0.19642734293811015,
          0.1339604030398524,
          0.0598202155825912,
          0.04568895442987002,
          0.16435489466069136,
          0.11220914419801094,
          0.08508092521881833,
          0.11652712717949033,
          0.04452619147193562,
          0.05175606582630789,
          0.050821245312775494,
          0.043928702166165144,
          0.0619387444875716,
          0.044703675330168585,
          0.20931551636943932,
          0.04617048632967536,
          0.06676951769145353,
          0.04678284553485676,
          0.041430001587086804,
          0.03974227023422318,
          0.08088794946608044,
          0.048240675338647176,
          0.05094041997835646,
          0.0640998344161911,
          0.04796382636974798,
          0.3284570495701462,
          0.0945049489792223,
          0.0687207759159656,
          0.047177996336324135,
          0.196626061424118,
          0.20776488411231187,
          0.05240142149540315,
          0.2761631901576108,
          0.15000742784041288,
          0.05008622449812639,
          0.06721760662214746,
          0.043565541498404574,
          0.19027157201428696,
          0.05971137658156358,
          0.06696538565113974,
          0.16860952809449017,
          0.060742242192749624,
          0.04852851931772652,
          0.05158541806786453,
          0.05581665178434237,
          0.04601244867482748,
          0.16648093994711932,
          0.07207248813667065,
          0.06837147348660802,
          0.04504690041033227,
          0.05553495382262939,
          0.046497753868011325,
          0.0325335833061619,
          0.08055973635572682,
          0.2560910229144691,
          0.03754630192391638,
          0.04492048217332308,
          0.04477471479701293,
          0.050920607223992866,
          0.07534528675128391,
          0.0472290476088673,
          0.05520888927483909,
          0.04003741971253951,
          0.050983474587936964,
          0.04774952552455498,
          0.05473975838952175,
          0.05063003736962554,
          0.04049152334653033,
          0.09328893074809289,
          0.05499736604696897,
          0.2790427536689415,
          0.05166635532848545,
          0.048478355178271176,
          0.1476341157666417,
          0.06454498296214739,
          0.09340192173945353,
          0.04211105848744639,
          0.04207020670667561,
          0.059080791747388534,
          0.044537208259867365,
          0.06587185704368907,
          0.21624027821450453,
          0.04481648529197206,
          0.04731879823535441,
          0.03901097135565649,
          0.046425117660765326,
          0.03489075163730606,
          0.06163514426319543,
          0.05841721422889542,
          0.04854121467290364,
          0.05074409899399373,
          0.036500100390619496,
          0.06385059385819586,
          0.05571265195196398,
          0.1583811710097644,
          0.17933198391924263,
          0.0486762197532977,
          0.027548258935706817,
          0.1019939096970714,
          0.08675746734983997,
          0.08573381211005887,
          0.0693365088066128,
          0.06538322164614993,
          0.05765560273232955,
          0.07235670356014919,
          0.059347572716471064,
          0.04766780785145594,
          0.04039247243829919,
          0.05716111094008238,
          0.06672787021736645,
          0.06671317484661868,
          0.35743643220005894,
          0.05215179978818413,
          0.3093733819848901,
          0.04768413813894316,
          0.10257459970041784,
          0.18735733050950182,
          0.04928067548781189,
          0.04805549274061221,
          0.04433518678776718,
          0.08488179433324682,
          0.06042914460766364,
          0.18300716665004013,
          0.04926979020283739,
          0.048261955313956884,
          0.2912080350222874,
          0.06066127023896263,
          0.03259080035565399,
          0.08433903060833825,
          0.212663180289288,
          0.04812436513759128,
          0.04656894384062273,
          0.0646824788466244,
          0.06634350958162415,
          0.21123068902116837,
          0.11428511173709957,
          0.042866509289467954,
          0.16729518219288103,
          0.1311507269819716,
          0.049486490735091086,
          0.06414687277946178,
          0.057366293542084196,
          0.062459144678579284,
          0.04855620506589348,
          0.07245382266218069,
          0.09111842260495961,
          0.05533988624193677,
          0.09369957333925538,
          0.062414877617017056,
          0.12984778395901408,
          0.07040996551561877,
          0.049299778740177325,
          0.05212091766622794,
          0.0448170271498865,
          0.050050954975648355,
          0.1635265851354265,
          0.21683122221677917,
          0.07839747390838546,
          0.05289747607357219,
          0.09929953541813699,
          0.04855262013860615,
          0.04993503341681487,
          0.04556225166089221,
          0.04972925087675506,
          0.06485922022669796,
          0.09733728860672414,
          0.08015008507787807,
          0.041064637915553925,
          0.314905439227928,
          0.059919656104061046,
          0.08846026412344424,
          0.05914794974474258,
          0.04035117936608868,
          0.09302435223161507,
          0.043706882906100634,
          0.049262568386524534,
          0.05384905885157659,
          0.043271134000699346,
          0.23764203798610184,
          0.21103738995042862,
          0.18192013309494615,
          0.11084181166858374,
          0.04856760598615379,
          0.04340051859907094,
          0.04413033708838236,
          0.2146032253940229,
          0.08647907394833912,
          0.17619296865659062,
          0.05492024448007855,
          0.057670391829986706,
          0.170583397186819,
          0.06684768502751211,
          0.05015992676811322,
          0.22476554482096803,
          0.048422881891764726,
          0.17583193348151552,
          0.1310785572169775,
          0.04886941655771075,
          0.08566716997441308,
          0.04579305784219868,
          0.09523169183374312,
          0.09101215138467077,
          0.039684257401004064,
          0.04890283711985039,
          0.18608977701134388,
          0.3513183846350105,
          0.050856701324035136,
          0.07151988653843286,
          0.04981964582413874,
          0.1844364898869359,
          0.04690006482508779,
          0.05754000786931273,
          0.04708726903747736,
          0.1769352222730271,
          0.08933354952302226,
          0.028582770168411355,
          0.15936684278150215,
          0.048491555558548595,
          0.046392839992441856,
          0.04530300775929049,
          0.03568384249527266,
          0.040178835827085785,
          0.22489107162719935,
          0.2163882223571197,
          0.17506949647414016,
          0.044785138233532217,
          0.15310209943882339,
          0.04405075247638165,
          0.04879365002584409,
          0.16197321285284194,
          0.1598194571084979,
          0.061021543763603345,
          0.11102072296885196,
          0.047609611965710105,
          0.04443984513271736,
          0.05576728827393548,
          0.038104892124321624,
          0.05411283032703186,
          0.03332739904902047,
          0.10228271854979548,
          0.05094492724619194,
          0.045369299232526014,
          0.17715258240286388,
          0.04860777406319148,
          0.11261313510830756,
          0.04907154451452885,
          0.34689953439147553,
          0.2631736016324965,
          0.049818882458473025,
          0.042343851614283244,
          0.05147763898382051,
          0.058802766742363594,
          0.044533978713050905,
          0.08635294916572404,
          0.051384228691583836,
          0.09208376783802162,
          0.15499502829142342,
          0.058540889545544414,
          0.048767972062733464,
          0.046645662287311776,
          0.055505046312297475,
          0.06496893347558255,
          0.041882015122974,
          0.0480498679485888,
          0.06095192185527064,
          0.04890895035596551,
          0.05585299935519971,
          0.037893701924479085,
          0.05833228719492285,
          0.04649628471978277,
          0.1864926503493002,
          0.05023625410448473,
          0.05136709007791138,
          0.04525088318851714,
          0.16656921135904784,
          0.04439414941328009,
          0.10582368444399066,
          0.2701271170972207,
          0.06823074230018558,
          0.051167338913958665,
          0.06313772384339315,
          0.05702878105142235,
          0.05911755028868292,
          0.05912910873205024,
          0.05225702808475223,
          0.038145135695891765,
          0.16682229432748866,
          0.04438120875618062,
          0.09335919124627891,
          0.029532349722116394,
          0.05506603514080055,
          0.056742426376194754,
          0.060061432513023344,
          0.0706451719298341,
          0.055897679443705425,
          0.06582264697044996,
          0.054564626278684636,
          0.07194441215952362,
          0.06813113074701191,
          0.06399368771563216,
          0.04352235223941577,
          0.10896458238836682,
          0.06578427779353833,
          0.0477664623693706,
          0.161517564814269,
          0.10293078963635525,
          0.059635741011794266,
          0.134834930309916,
          0.03468299661583342,
          0.07981165562661756,
          0.08558923744836637,
          0.08694142466249932,
          0.06064618609123447,
          0.16591930384138145,
          0.08266897281731246,
          0.0573970884955912,
          0.049476090952899274,
          0.052683669520790226,
          0.04733314575626145,
          0.051018281286700704,
          0.044533978713050905,
          0.14690987666506816,
          0.043618993741506636,
          0.05096777658254102,
          0.1829357979238769,
          0.19730293140084587,
          0.04915054767245343,
          0.05707257140797818,
          0.06473525435260809,
          0.06250024084829572,
          0.13321162885506382,
          0.09133072985765314,
          0.04257801338481373,
          0.18770096845928208,
          0.04499290447076952,
          0.029350048172397745,
          0.1835313486619388,
          0.04273838653316589,
          0.2101711683520295,
          0.06818492470717787,
          0.042162480222778194,
          0.1121888528115057,
          0.06646411143129088,
          0.04716317728260938,
          0.06654991467820554,
          0.08010960210814846,
          0.29577682508460457,
          0.050922923226232215,
          0.05159598411248547,
          0.04049112268041637,
          0.08567959761932825,
          0.1699897188175329,
          0.0653856770479672,
          0.11394743026456468,
          0.11518688760548484,
          0.06673588747709229,
          0.047834529342368697,
          0.0611835043317938,
          0.07114306381035908,
          0.05822683180379864,
          0.050317337744006665,
          0.04849669432014809,
          0.07429508677723183,
          0.047436852166758754,
          0.2711633034111096,
          0.2000695329371387,
          0.04864816688592597,
          0.16343650485511443,
          0.07059096713010002,
          0.04605928920416163,
          0.05510738927641606,
          0.06831368604407274,
          0.03857689295538793,
          0.04244660085773315,
          0.05015470286079548,
          0.1507141210914905,
          0.019915471486335573,
          0.06319444158393155,
          0.06371889023947915,
          0.1610543339901877,
          0.03849637245878646,
          0.14693265987305223,
          0.04322899625148714,
          0.17908043148260389,
          0.1775150630017681,
          0.06829429348564647,
          0.08376544636535041,
          0.04551556202574909,
          0.1993875265063929,
          0.05007707740650243,
          0.04821056307164257,
          0.04542274061512283,
          0.060482346381536295,
          0.04893737276878344,
          0.047680231207463605,
          0.0479731874224793,
          0.052650700508863314,
          0.10774089520903524,
          0.04649102509917705,
          0.05690270914433742,
          0.22470206898238235,
          0.058654738953343374,
          0.06327946175078691,
          0.042638078782342305,
          0.04639694001803919,
          0.04906888210328068,
          0.056823939623542465,
          0.06705942446714258,
          0.23056299410482062,
          0.05931872445007811,
          0.046714106133099426,
          0.04451993875237904,
          0.15342307629663843,
          0.22790754781102343,
          0.048049672825795905,
          0.429671592214105,
          0.049920602045753035,
          0.02989543993477247,
          0.041403260833469485,
          0.06113062588487358,
          0.07118204898753408,
          0.07183425102167448,
          0.12796508446277757,
          0.08587093620937868,
          0.03974771881882398,
          0.05379495258292596,
          0.05170050613339908,
          0.09585944081796355,
          0.32984752905508186,
          0.07073924956046045,
          0.3001093129849598,
          0.049197589145230314,
          0.04659798240128032,
          0.05711067221312233,
          0.054978086692206496,
          0.12824765347852846,
          0.06899080734359586,
          0.047911648415518746,
          0.06461137326539597,
          0.08570841998312212,
          0.03738807371405091,
          0.05759920059275432,
          0.06845997481017856,
          0.09083440742284983,
          0.054460728693927624,
          0.22659157613656258,
          0.050853939895621966,
          0.047834529342368697,
          0.05796743120732821,
          0.046811404188181485,
          0.04501982168112607,
          0.08634715587738777,
          0.050474636880225944,
          0.04414745915368868,
          0.08297710523591652,
          0.047395153905632835,
          0.05029877396243939,
          0.062347317054250215,
          0.06687146980714699,
          0.05981479923960476,
          0.06573917559950049,
          0.10505333451697299,
          0.04377926713094101,
          0.05212956434448182,
          0.05215782474535298,
          0.09327544680928686,
          0.040514945131200596,
          0.04413294964505351,
          0.0674506505252706,
          0.04419785129243813,
          0.0486890159101957,
          0.028376724386410007,
          0.04894518035589664,
          0.07029425291686064,
          0.04172627501751743,
          0.04315178944772708,
          0.04988758005944275,
          0.04950137361643787,
          0.08461109129294941,
          0.04840786145858202,
          0.19833267711552227,
          0.06000933862550957,
          0.047999976120369055,
          0.05285951302515156,
          0.03788923794079427,
          0.0557029109647266,
          0.03837841817657301,
          0.2085882002699561,
          0.0485739411627544,
          0.044653328149274675,
          0.058308128501049994,
          0.055243180600747385,
          0.054373061576911144,
          0.2233695550848816,
          0.1699334466179575,
          0.048413050916907736,
          0.03013960594169547,
          0.05990466783341218,
          0.0477654776655129,
          0.049905142905427045,
          0.047053687188785165,
          0.1773212724740402,
          0.06996188804822516,
          0.050055018769750444,
          0.03687641163923884,
          0.04737795519603545,
          0.060106480825041775,
          0.19673157440007688,
          0.06713610670018051,
          0.045413133550337055,
          0.04732547765907234,
          0.17287781112649178,
          0.052007430304822036,
          0.041162580619557694,
          0.05796307419136948,
          0.07175359281320291,
          0.0631585507528236,
          0.05219327791010993,
          0.04238512085450203,
          0.04563026141797914,
          0.2200835049808065,
          0.05778259241192864,
          0.29783303774451847,
          0.10571762708048055,
          0.05026245630584488,
          0.039968206548564256,
          0.28092088486201006,
          0.04400610425257212,
          0.051965311427969826,
          0.05585218820723109,
          0.14561244975089843,
          0.05810999212042574,
          0.04623165347342554,
          0.05275699870053757,
          0.039093209524678506,
          0.050614839124611365,
          0.041839866520163485,
          0.08582805091543445,
          0.04033585029833771,
          0.22286837022883463,
          0.05465006830557622,
          0.2617927418660811,
          0.10304040467005164,
          0.05139102927211218,
          0.051442784572395504,
          0.12404334681859915,
          0.08681396580166667,
          0.047034891399227265,
          0.04169276674250937,
          0.14789410131254016,
          0.050978740262118225,
          0.05142262569333035,
          0.0440105795311424,
          0.08982633604670283,
          0.0514140231557331,
          0.06035205031620783,
          0.05071576181155465,
          0.10254568122481694,
          0.06504959169391863,
          0.17730020134009372,
          0.05581619870911487,
          0.06140818124169361,
          0.2181739717405648,
          0.039570831906502006,
          0.06480607614831406,
          0.04303659829550447,
          0.07039702184203134,
          0.0473017205187689,
          0.10026130921161791,
          0.04507618367763777,
          0.05484645946448622,
          0.04607509275868602,
          0.05365495471378125,
          0.058333406892076736,
          0.05772183881105834,
          0.04632656022472913,
          0.08142905754450672,
          0.04548254761600006,
          0.06824082186405268,
          0.057909631513885576,
          0.05526944642457768,
          0.2122512557162103,
          0.03157914775924247,
          0.08369259596668922,
          0.20299323208632702,
          0.04799413721037694,
          0.14709928491555274,
          0.0421159185193809,
          0.03350341609313107,
          0.05284239194458644,
          0.06672873617577921,
          0.04581061586085304,
          0.05360035366470481,
          0.13337866343721128,
          0.044096231000896165,
          0.056565979241362516,
          0.05124566897821386,
          0.07044813936596392,
          0.2793891919901459,
          0.17477896754222363,
          0.045330093480622995,
          0.04779331637576361,
          0.334882049068341,
          0.04868565984274895,
          0.04539305914679763,
          0.039371806982735326,
          0.24312156987755726,
          0.04385398850034113,
          0.04215349726748813,
          0.19026078287953194,
          0.04608653749209678,
          0.04939652804728439,
          0.09269318709287548,
          0.07956028993210992,
          0.046556680923307996,
          0.19875854977013463,
          0.1302844909895969,
          0.06235588877694599,
          0.053833960868216485,
          0.06026413603905488,
          0.041598560581268866,
          0.05951124740921557,
          0.05595647075459681,
          0.058360250327126786,
          0.048687557387940554,
          0.046668184185334916,
          0.07306196040114113,
          0.22646838312417092,
          0.061647627917464025,
          0.05659124198401664,
          0.04487035478012159,
          0.0502942215087961,
          0.045995054983151866,
          0.06932184892114941,
          0.11365093486558184,
          0.04751393794980781,
          0.049173201562717865,
          0.04670883889290375,
          0.058109651395363976,
          0.21366300990741052,
          0.05680814884465379,
          0.084258104467889,
          0.05402065677400639,
          0.05520294568985412,
          0.13115220292719876,
          0.05054697806899683,
          0.04541091153139744,
          0.04992895975831325,
          0.06392821262640808,
          0.04673878633926203,
          0.07237692122480995,
          0.0438214206916264,
          0.04788238297493289,
          0.04845656158607615,
          0.04858827129864523,
          0.13178052196649054,
          0.05943768183849586,
          0.1578703241408057,
          0.045988915116565804,
          0.044888302282499445,
          0.17610676859150481,
          0.09632275843287039,
          0.04161845433910589,
          0.13111648446677143,
          0.1408692667328164,
          0.06026987542350107,
          0.04882375925619912,
          0.1885422153488748,
          0.0678291910432722,
          0.09889103777646427,
          0.050603325525944404,
          0.05410394643811857,
          0.08069259198359227,
          0.03918166295508777,
          0.19977864580961513,
          0.05867478184288232,
          0.041186870665007064,
          0.04318060085655526,
          0.04314524063130545,
          0.057780976546553856,
          0.023317493929357558,
          0.16610504399312048,
          0.060719562051608375,
          0.159224370901556,
          0.07008785952380923,
          0.0459403960177897,
          0.15047533496737375,
          0.053588378895175426,
          0.049114317450993095,
          0.050037675724092005,
          0.06340169755025549,
          0.051701346517504784,
          0.09722270719721345,
          0.05048588889427783,
          0.057229659745703335,
          0.14057004719335697,
          0.07804419772368579,
          0.09862157747643086,
          0.1564452743507837,
          0.052860819640959164,
          0.0480545484029079,
          0.04147000465846487,
          0.04349919193726549,
          0.04955049285779945,
          0.054077819081455786,
          0.034516723610112265,
          0.042398812206604526,
          0.07045344405593665,
          0.061862797995023165,
          0.05857669988458306,
          0.04454019850252057,
          0.018155706047109532,
          0.1281428634937358,
          0.16523035610840292,
          0.04639295130701235,
          0.11227885178424576,
          0.06479312604241709,
          0.18910608494493278,
          0.05346895130643191,
          0.03429268102513822,
          0.16475257171469904,
          0.04654590925022446,
          0.048917088086318644,
          0.02915183277273769,
          0.039415673406601404,
          0.38799165533246543,
          0.06155097432279874,
          0.12796508446277757,
          0.21714224833686063,
          0.04583565942714531,
          0.0407599210483817,
          0.058858892305564105,
          0.17481666944431998,
          0.04801285014178198,
          0.03950777063162421,
          0.06577338305501815,
          0.05425374003616161,
          0.047266309363728734,
          0.15808110181126722,
          0.08346627243020446,
          0.06305349177609512,
          0.05388279578269849,
          0.04884572054484553,
          0.0669540978195737,
          0.039622662484668496,
          0.046142768703548075,
          0.06349849165947784,
          0.031282966926376145,
          0.045221259552764265,
          0.0858266634322447,
          0.09332379560348658,
          0.041896999830306696,
          0.047006980495747946,
          0.05549685502418948,
          0.04576413519467823,
          0.20570322562626125,
          0.0479731874224793,
          0.04783603384575954,
          0.04908699473738876,
          0.1900540376107595,
          0.06119594813750015,
          0.03460829684677776,
          0.052626655553004754,
          0.049179513562608385,
          0.05785390015010816,
          0.05100994098498896,
          0.05571180851912945,
          0.0369904035734311,
          0.06626917109698138,
          0.05253689147701403,
          0.040627511623590684,
          0.05106951119804255,
          0.05092777075108672,
          0.18252543635360183,
          0.054208600705356505,
          0.052020613944611445,
          0.04699769450299388,
          0.08984798553442819,
          0.05625645175093348,
          0.05150082280804227,
          0.04379342818528889,
          0.04931251907455278,
          0.061573431728272836,
          0.06891810159891444,
          0.05862692152846661,
          0.049671143692664586,
          0.05115679773811303,
          0.09334995535694923,
          0.058084750540731284,
          0.04186625098861512,
          0.046645662287311776,
          0.052626159101095346,
          0.07067863101677328,
          0.13305787342724232,
          0.05456177197832161,
          0.054832854983188364,
          0.056566841707730714,
          0.07118250562482505,
          0.05314959324959708,
          0.056999060314220376,
          0.04347559040585474,
          0.049236507245875576,
          0.048457068539564524,
          0.051881850749560934,
          0.050713878544111864,
          0.0454578268284893,
          0.08583528842926322,
          0.044212269101132476,
          0.049249570829403094,
          0.16906120050069334,
          0.060965293989312386,
          0.18618375196778666,
          0.0684000804493303,
          0.04651305916604216,
          0.21316813628355757,
          0.054010499902139804,
          0.030296446319938886,
          0.20490327515785534,
          0.46833022198642094,
          0.1190172154388756,
          0.047431063185102665,
          0.045239128271636765,
          0.045367110287166,
          0.1144846811396228,
          0.09906456347731643,
          0.20567294261491154,
          0.06872792727018143,
          0.23840211390777646,
          0.17297002818524918,
          0.058875168176062774,
          0.046512321162609796,
          0.054046001222993176,
          0.19190681697616602,
          0.2832662702554283,
          0.04660236739895494,
          0.05293521749057578,
          0.056290450490934875,
          0.051361361282438525,
          0.19672372216007597,
          0.06112342843213896,
          0.0499134460992717,
          0.057153509105980965,
          0.06869990751978636,
          0.03273856783795101,
          0.04434452185019425,
          0.04674858147153271,
          0.0696110848563602,
          0.051471950095618245,
          0.058551243080206095,
          0.10242964992353687,
          0.050026177143987285,
          0.056405221549449144,
          0.21696745677064866,
          0.046055143744317975,
          0.052334422205334574,
          0.0507616797623596,
          0.06888806016782364,
          0.05103311402361661,
          0.050817585051060266,
          0.045964720948130366,
          0.03877281864261931,
          0.09274633492353306,
          0.06481428705828697,
          0.051433323744171595,
          0.054091416826540215,
          0.10720863495787104,
          0.06204076566748709,
          0.04977439031023057,
          0.03312995949520802,
          0.052792052331720775,
          0.049541714473875696,
          0.065544608562975,
          0.04174176521414694,
          0.086169745601136,
          0.06656620990544176,
          0.16566856263283297,
          0.16730866882033846,
          0.05174374066217361,
          0.10434088995328884,
          0.05583163602216637,
          0.05559462091857726,
          0.0560050221149084,
          0.021859117724578624,
          0.055608747273651365,
          0.05114213415592856,
          0.07097901322126661,
          0.059778621248721825,
          0.0726861577880806,
          0.046044201473053686,
          0.06411513449325297,
          0.07137092723008151,
          0.050153737740541215,
          0.06776583580023259,
          0.05976693136870688,
          0.04354052991989781,
          0.16796979632751935,
          0.20525578180048837,
          0.039883530409838434,
          0.19190994831986438,
          0.19128216966582207,
          0.047361517543359724,
          0.04369630194233078,
          0.2867928380067826,
          0.047383147788008305,
          0.060829140956288136,
          0.04037845569138866,
          0.06510785207805406,
          0.10254847436119109,
          0.06461137326539597,
          0.035051056123252454,
          0.042657685079239435,
          0.05809715880162988,
          0.046751461661389694,
          0.18151840916041106,
          0.07146590807456585,
          0.039865284866978296,
          0.042073773200930656,
          0.04788388374085924,
          0.06070344256998039,
          0.03485459722872895,
          0.04901621616407935,
          0.04135240199683728,
          0.04483774825635631,
          0.047603235849542846,
          0.041918514659736984,
          0.11193888344686978,
          0.2506486909505322,
          0.036067375964535985,
          0.055762271529771784,
          0.04053000550554259,
          0.06013901544367805,
          0.13124256777288557,
          0.058710351933096844,
          0.0846888360518251,
          0.04363844380715428,
          0.07065908352768939,
          0.0868839139382366,
          0.30336046302449715,
          0.04533559263847472,
          0.060025242282389965,
          0.04971491280067314,
          0.05664041090795145,
          0.05712488461771363,
          0.045865568192966645,
          0.04319683729175179,
          0.06467091665343384,
          0.15532786791038683,
          0.18450355897745324,
          0.08164987986562539,
          0.035506576079427,
          0.055466451396950195,
          0.03055409545554348,
          0.18407186989509328,
          0.04196877776095363,
          0.06814131307862853,
          0.0493391989242495,
          0.04507997618792258,
          0.053866332471190215,
          0.047386169931869615,
          0.026316248885319804,
          0.29633499443719613,
          0.17523288886132313,
          0.11366981215170228,
          0.05878465889737257,
          0.05770454003160372,
          0.2100719430184112,
          0.04562849922300469,
          0.06802684627926771,
          0.04997628023484642,
          0.058742947038361595,
          0.06676070016158789,
          0.059573778837830695,
          0.06733091670838984,
          0.05270123113235739,
          0.18361036440359263,
          0.05210676315025023,
          0.1829185356633345,
          0.04705880500444396,
          0.062073365536925516,
          0.0611835043317938,
          0.06596207449740568,
          0.03327270282171718,
          0.1309485535449285,
          0.06601369044524746,
          0.0433840557097574,
          0.0476681167357015,
          0.12845628900091907,
          0.10167486176715992,
          0.04770966783992048,
          0.057618983745941904,
          0.045431059313205076,
          0.1000890355155084,
          0.05576199778083282,
          0.05055454794869899,
          0.06555982916659621,
          0.17663938252035447,
          0.05398558356715266,
          0.06060668261556523,
          0.04771763361508362,
          0.05829706539956234,
          0.07004169781995227,
          0.046920075905397,
          0.045221259552764265,
          0.057063747471154766,
          0.06785727701991767,
          0.05319936086690337,
          0.05459344564968245,
          0.13118013143828708,
          0.18426562349124306,
          0.06810809923029482,
          0.049300312764895056,
          0.10756234076857471,
          0.033590650922712385,
          0.045351502798670715,
          0.042743173991597966,
          0.044566482172736545,
          0.07567647049107155,
          0.044662420533578516,
          0.18734262274807223,
          0.11267125012486738,
          0.3256511808550563,
          0.1307191121668239,
          0.10689705464578049,
          0.0461765648440155,
          0.2414277602939431,
          0.07328321135648116,
          0.1809528930110072,
          0.045395629572250344,
          0.046630640095425106,
          0.14984326919615776,
          0.04521258006047784,
          0.12826902350112843,
          0.06124740348896389,
          0.029592605821031036,
          0.04952009406363405,
          0.08428241930175191,
          0.10481577947407228,
          0.06781860500973583,
          0.044697196551054565,
          0.08407656348713456,
          0.06340324094060368,
          0.043084049649528194,
          0.05577275591450663,
          0.04452696474046889,
          0.044729853323728155,
          0.047543899950842065,
          0.1666264698168094,
          0.04829040787640628,
          0.04380728106646763,
          0.04197126658073872,
          0.06674366653213512,
          0.05641864301431249,
          0.07128588681288667,
          0.04639694001803919,
          0.051508917854084776,
          0.04695819502581294,
          0.04051118629535177,
          0.04588675706946995,
          0.05888922288163215,
          0.0534074399971374,
          0.047217364387284244,
          0.0438059191743831,
          0.04774214878914942,
          0.16323024629919558,
          0.05466745673712414,
          0.07096292008069013,
          0.046553422287671245,
          0.045883970158076326,
          0.04913873142797342,
          0.03487377117820361,
          0.34010611834685306,
          0.04101666864690187,
          0.07245087830659262,
          0.050118543547393,
          0.039392124180802325,
          0.1670091728617703,
          0.029115998630364057,
          0.23690243825173318,
          0.05952238771362302,
          0.04913742999880741,
          0.04100361190665678,
          0.06551487041750075,
          0.0559572728055642,
          0.04400034535984212,
          0.16010881098634852,
          0.06089273790757958,
          0.04761529784752086,
          0.16615574857885396,
          0.04249892329506128,
          0.05226907253272957,
          0.07343416804797556,
          0.04865688779095468,
          0.026078229865812888,
          0.16888546204869018,
          0.036944922065918574,
          0.06445019106772364,
          0.11162385368334851,
          0.18242336530633013,
          0.04829040787640628,
          0.10063644097164542,
          0.04834883091182272,
          0.048028113564172296,
          0.05892261865410357,
          0.2419234034675448,
          0.054965488324627554,
          0.04530115897624399,
          0.0780604905302481,
          0.09361928823392135,
          0.045539258756761083,
          0.05356211299297207,
          0.06473991799361065,
          0.055502979375510096,
          0.15489755952612425,
          0.18067654322272345,
          0.09675039488126887,
          0.050303453573791075,
          0.1069986473388978,
          0.04865763823060497,
          0.06230325436788593,
          0.056157428346899664,
          0.08388795313911027,
          0.18584759882078514,
          0.06480126091508111,
          0.16145199048418388,
          0.046784699255373756,
          0.02755132237015321,
          0.04553473613162727,
          0.044212269101132476,
          0.05676900057414332,
          0.34059286364418906,
          0.05099723511115536,
          0.06726609374682416,
          0.07175011372914047,
          0.043181254887967015,
          0.06338673092897576,
          0.0889434198134632,
          0.05595542975130166,
          0.0670896801496284,
          0.05965648212280022,
          0.05161969020013067,
          0.03243523534554271,
          0.0547521435320217,
          0.044626847156930334,
          0.06697969800827344,
          0.058540121602062,
          0.0663803917489307,
          0.08660061708511993,
          0.1774078685082826,
          0.03869226864570132,
          0.05992850791722148,
          0.0633318120960116,
          0.054846196572602854,
          0.049920634177009635,
          0.06238958856326576,
          0.18001330320152403,
          0.04820636683365614,
          0.18764397842387426,
          0.22136300229604355,
          0.30748708053422213,
          0.051922839445756444,
          0.14325138783316607,
          0.046451689758070625,
          0.054140000288575636,
          0.07995105509508543,
          0.06125366294445719,
          0.10056218131730205,
          0.45109324246363347,
          0.05266184056995454,
          0.053923237592738434,
          0.050155588496892105,
          0.1630007089556983,
          0.044205790322018455,
          0.04265451276579665,
          0.06119086010547453,
          0.05713574263249679,
          0.04754769310559554,
          0.06243130468952796,
          0.046373131870932144,
          0.06196282533761246,
          0.17889131584224105,
          0.041323514665183164,
          0.05484222057005474,
          0.17466037350367533,
          0.04842087504325537,
          0.19611522863821113,
          0.05062965829917165,
          0.04779992370971752,
          0.05988257281349028,
          0.04154706453965929,
          0.05349160768484486,
          0.04888682027330245,
          0.18836416722936664,
          0.04503014887291001,
          0.1611702601064075,
          0.17832913401397948,
          0.06885871837904774,
          0.04482022304162957,
          0.05696290979884722,
          0.0640334075058097,
          0.02261280518722504,
          0.08475806334090594,
          0.05074030732159715,
          0.047086632113379066,
          0.06263850005982248,
          0.054238012363395156,
          0.1632065603927872,
          0.0718323761757889,
          0.04209921152816415,
          0.11171375171465944,
          0.1837925320329127,
          0.05903917794831122,
          0.06079933131234404,
          0.05377837574211002,
          0.06132664861337442,
          0.04948722376440331,
          0.0619569822739367,
          0.15515429552876694,
          0.0605641641592387,
          0.2891257373383275,
          0.17309207202179094,
          0.055165749118711555,
          0.053186017309168956,
          0.05972276222396403,
          0.055157079488975955,
          0.052489510144250295,
          0.09453695072162793,
          0.08797962400194004,
          0.03392074135568813,
          0.04750759103156714,
          0.05615999256224438,
          0.06172700645766699,
          0.15636289078361484,
          0.05720627997817228,
          0.03626223679530975,
          0.09124587569773229,
          0.05959058176027171,
          0.14697697934079768,
          0.1728479173953046,
          0.16261474506810286,
          0.1841146848088785,
          0.05041211602118461,
          0.048911989944681045,
          0.05586566647184997,
          0.05015189733424327,
          0.1540540221919473,
          0.04086050559361289,
          0.15465701787654249,
          0.08734555289218042,
          0.17439649035721994,
          0.07086363400306853,
          0.06609784988479088,
          0.1730441157098594,
          0.05567359171866469,
          0.0892083632234552,
          0.09320284444823407,
          0.5019008314643165,
          0.055791143885684166,
          0.04793904951176336,
          0.043392555100396864,
          0.048170574069011846,
          0.2059344962897487,
          0.05346781208150074,
          0.05044820947460821,
          0.04365311327777432,
          0.0988460149157325,
          0.03987277608755472,
          0.059131784444638874,
          0.05155747215639378,
          0.17711829618424887,
          0.043621956516264715,
          0.051259871637252895,
          0.05743835732439545,
          0.12929852165480188,
          0.05800298880725721,
          0.20614207202262572,
          0.03961745330161513,
          0.057133735876884285,
          0.08746873540772415,
          0.06789453829961789,
          0.05058935775437613,
          0.1677785798319742,
          0.1795457820428628,
          0.06250890907948992,
          0.06111427455412893,
          0.2844015126237253,
          0.059425449969524535,
          0.06009306638449914,
          0.05803404399593533,
          0.2226172943905103,
          0.08248455186938647,
          0.042677428326370045,
          0.19270022215833948,
          0.07000068343396317,
          0.06412396125529485,
          0.09698419864901127,
          0.0706338825067247,
          0.04313138775012671,
          0.06004808442914839,
          0.08724453262220767,
          0.04710870515534483,
          0.059781633180527094,
          0.04504400175408874,
          0.09783846325057752,
          0.09024939599316831,
          0.05004711658528768,
          0.06711195120387903,
          0.38641745068875727,
          0.03599046543824565,
          0.18710721027836508,
          0.07311335311020364,
          0.057559143124019815,
          0.08581262032123213,
          0.047386169931869615,
          0.061410289585862164,
          0.03757822301473539,
          0.0607763181683591,
          0.048044737133095296,
          0.07053905421017398,
          0.07192932400707819,
          0.1735822805758409,
          0.04072618722619834,
          0.059328897882733295,
          0.05708786795756858,
          0.05034841443837002,
          0.07076406655537469,
          0.04842087504325537,
          0.09398336987788071,
          0.07043446817224557,
          0.1287810817052355,
          0.09887059458808406,
          0.04900284420988376,
          0.053807409523883326,
          0.08439392272699475,
          0.051054896463449434,
          0.048644583536878706,
          0.05211789696886557,
          0.05667158154422042,
          0.043191947403457887,
          0.04039247243829919,
          0.07035905091086929,
          0.039961641957071616,
          0.16365141806518618,
          0.21793796745532956,
          0.09249898085096118,
          0.052825161781000524,
          0.06967933511669973,
          0.051353805500257844,
          0.07122436738869466,
          0.05773713536064874,
          0.04771818896385481,
          0.08544453316099226,
          0.17207073812444573,
          0.06288088344735482,
          0.20311303961612862,
          0.03879852106722299,
          0.0438771783511038,
          0.045727927782096146,
          0.04228755026011655,
          0.05901286146401295,
          0.0718121123824023,
          0.044496820924198835,
          0.17627797837144432,
          0.05242767967766,
          0.04591332232060076,
          0.09871664962754242,
          0.048811408639711604,
          0.09174063449232339,
          0.05085250113242398,
          0.056080152140966,
          0.18411155340746244,
          0.05731295670547577,
          0.047088542473583926,
          0.05773713536064874,
          0.06565084491089478,
          0.05147262407067775,
          0.04985824366785655,
          0.053154013136136116,
          0.04714828916468473,
          0.06755677972776437,
          0.04870137560829322,
          0.057709458302122554,
          0.08549986859971784,
          0.07129396231809185,
          0.06212610416878171,
          0.04533295168851728,
          0.04431474236900613,
          0.048426908172511995,
          0.06204076566748709,
          0.1114628495837274,
          0.051556815158265754,
          0.07809199817876253,
          0.05719156787413264,
          0.04382121845041304,
          0.05039622575980656,
          0.047001973906262595,
          0.09207419303864858,
          0.02967154936596455,
          0.048042702018649804,
          0.05076236235813536,
          0.05787548370222549,
          0.06055290935493793,
          0.05431755944033943,
          0.10307673269473448,
          0.16761111836288412,
          0.1625169198063005,
          0.18387098658903026,
          0.04380728106646763,
          0.05916348498881424,
          0.04889282277679972,
          0.15325295038378114,
          0.05720627997817228,
          0.04681181753623207,
          0.030274012660248033,
          0.08268323693658167,
          0.08532476122794634,
          0.09562354833017606,
          0.05989969945067174,
          0.049134667890865125,
          0.06222966491020314,
          0.05787315361268112,
          0.048719944957724894,
          0.06682439856232787,
          0.08502634578028993,
          0.05299473509054186,
          0.04604870524317054,
          0.06499803260505271,
          0.08504545284251876,
          0.04903091552096412,
          0.20506240879905757,
          0.06582230028927585,
          0.04558287491834779,
          0.04444843551123615,
          0.10120859325812961,
          0.05001574779628686,
          0.2869285567297837,
          0.051222387176254186,
          0.09276302968488798,
          0.04512981387572447,
          0.027824891073247718,
          0.05777874436343306,
          0.04437611402371601,
          0.04453783676960403,
          0.04829040787640628,
          0.031173900563573505,
          0.047162339604352434,
          0.053382097297331524,
          0.042362635665881894,
          0.03748850566132348,
          0.07044607380688296,
          0.05831761551799469,
          0.04852281324988415,
          0.036828652728821305,
          0.04143093623015681,
          0.04601025048231762,
          0.051741191145490625,
          0.03939635549699542,
          0.15776801335434198,
          0.03933832151626215,
          0.09175600175847409,
          0.16146938408093256,
          0.07806889086138909,
          0.04970715253677813,
          0.04575387014250834,
          0.06590075619850716,
          0.043061525889510406,
          0.04440499952375009,
          0.06304554653826416,
          0.04513467433040558,
          0.14797748873129996,
          0.07047836298469314,
          0.04826916701830116,
          0.06224186412750485,
          0.06545080451973298,
          0.04522624617692154,
          0.047083829880977514,
          0.05902714123324726,
          0.06024773746048298,
          0.04718850660227021,
          0.09450645342854026,
          0.05020844809790489,
          0.06430341746271173,
          0.0488429354918267,
          0.05906980702635785,
          0.08956824118163112,
          0.04793948712576945,
          0.044625630343346746,
          0.04847273943649117,
          0.043715678357673496,
          0.044212269101132476,
          0.0446022135720391,
          0.052698318282111606,
          0.044212269101132476,
          0.056195348419635485,
          0.047369687102897386,
          0.08167965472903188,
          0.045044046732650465,
          0.05091085907464583,
          0.0391825027932512,
          0.21446024969444638,
          0.05595478649977536,
          0.21460249225908304,
          0.04762034774834226,
          0.05986318122137356,
          0.1489422164215739,
          0.05726446095635836,
          0.07527853324346806,
          0.040447417110160325,
          0.04944816272938446,
          0.040826646949790206,
          0.04631147944346497,
          0.07171728441766223,
          0.0863622256852041,
          0.06649836607006264,
          0.08085546009305541,
          0.27673160624517706,
          0.03248142531238694,
          0.0490672583826136,
          0.14341154801285955,
          0.052949627145282945,
          0.04362736659352477,
          0.07984517231003992,
          0.04848207316892214,
          0.04264749612087954,
          0.059968329226460844,
          0.0694664529610724,
          0.0402364932088966,
          0.11176810633926205,
          0.0420327406075228,
          0.04841192916167414,
          0.06937913118924674,
          0.043688206099422776,
          0.06556690243986261,
          0.05059492388359591,
          0.05643621525033777,
          0.26311119296754504,
          0.04202111403452214,
          0.11346911118967008,
          0.049160230881715096,
          0.0537098870352956,
          0.04711949793534009,
          0.04999556689417611,
          0.10570097994590798,
          0.04383946174278925,
          0.07060231448512738,
          0.05068175956710688,
          0.05281538902669809,
          0.048687468411140467,
          0.04394365399555424,
          0.058360293888583006,
          0.30491548387280903,
          0.04164032924184673,
          0.030280038965287866,
          0.06147959144902066,
          0.03916152635208017,
          0.06320989847081009,
          0.21783824961300052,
          0.12424463084347773,
          0.04793621662672932,
          0.044525558950480305,
          0.07001944883115084,
          0.06839534061466075,
          0.05529748802947827,
          0.06154674350691971,
          0.059785925643686955,
          0.45086762387512624,
          0.03898814318684707,
          0.07054437343332318,
          0.1461342194252634,
          0.22195318172130535,
          0.16145776013071936,
          0.06182091430852407,
          0.049952993913725624,
          0.055455704777457954,
          0.04080067008374831,
          0.05111649970718409,
          0.17998255677024871,
          0.08334173069546756,
          0.06514105805480613,
          0.05764900802781117,
          0.24840646314988243,
          0.21102491315709232,
          0.052025840105117904,
          0.02427946584664669,
          0.04792194902266687,
          0.25624667341029517,
          0.042769999222401246,
          0.043061525889510406,
          0.05020022592420942,
          0.06950233074545241,
          0.06643099160779736,
          0.044834856945097264,
          0.08603212019429186,
          0.044096231000896165,
          0.05980024929212817,
          0.31433795119139485,
          0.04989291731361232,
          0.06498423002517296,
          0.08462931172470535,
          0.06081709449909973,
          0.05022388152895741,
          0.04289252612196916,
          0.07029434664601819,
          0.05949610690187406,
          0.0905915996473346,
          0.14651439936324323,
          0.05070274815269326,
          0.05242632694092718,
          0.21400094926454785,
          0.09162480520674814,
          0.08701859568388397,
          0.04924479689005202,
          0.049751887940478176,
          0.04532188555016712,
          0.10786598078818724,
          0.09159158097385266,
          0.0710693971139025,
          0.05453827993928459,
          0.02962843595482858,
          0.04763366070566031,
          0.044212269101132476,
          0.10817877674461532,
          0.020326013186154047,
          0.06813647770332595,
          0.0380869664666645,
          0.09736801098902778,
          0.143515563904272,
          0.1928224376466011,
          0.044703675330168585,
          0.04117076489565182,
          0.05903185651529691,
          0.16731491100030876,
          0.04723641455016086,
          0.056414947892795296,
          0.05659671280992613,
          0.1919239923476554,
          0.04943367086735715,
          0.053354220780971934,
          0.30327760732624576,
          0.09481229738112536,
          0.04937789529109658,
          0.058552077144813634,
          0.06976491850854347,
          0.18644126282750262,
          0.048362170669968035,
          0.2253855759564716,
          0.06437609228621251,
          0.0481248874836177,
          0.05683982022333243,
          0.08021290651441744,
          0.08625614087385511,
          0.06024797630550242,
          0.16172094998607506,
          0.04570356051551313,
          0.10408346460072368,
          0.04827736818523521,
          0.07766405711413418,
          0.05915614575141827,
          0.05750627454705223,
          0.04194686728380905,
          0.21436434717909844,
          0.10722533251695493,
          0.046246349048110647,
          0.06449732370137765,
          0.041296479755101693,
          0.16896029588016334,
          0.06140818124169361,
          0.05249673834758764,
          0.06804146353160155,
          0.03014062495149581,
          0.050199417063848076,
          0.042753629149593915,
          0.044672001303393466,
          0.06697359153975783,
          0.08418910490758783,
          0.05652890720188821,
          0.049693178263174854,
          0.04394119315525936,
          0.027395526242734697,
          0.05026651663383633,
          0.023790756324141023,
          0.06592072912996973,
          0.06541804349859301,
          0.03183925086359527,
          0.11074984231714247,
          0.04465259116584646,
          0.04711098353606738,
          0.040354476858475805,
          0.07418345888730117,
          0.2181141712226621,
          0.051390830251016324,
          0.04262206407695902,
          0.04527806571789503,
          0.026248618615316834,
          0.057135777294998205,
          0.1642008133097057,
          0.07180825568937509,
          0.037718005231106085,
          0.07779243169785736,
          0.039192610881956476,
          0.052018103096062016,
          0.04330380489676015,
          0.08424924577275276,
          0.30263964799472914,
          0.09292769808300827,
          0.046161416341539634,
          0.0541340040791861,
          0.19055098067051762,
          0.049249570829403094,
          0.04727234249722414,
          0.05781278579951585,
          0.052523794262056486,
          0.04192761943360606,
          0.047794194833343004,
          0.04439414941328009,
          0.05298765569357161,
          0.10138366160698428,
          0.05334155366738154,
          0.09162028912363122,
          0.062271564725206355,
          0.16143786959654918,
          0.04581671785177859,
          0.19012103137872327,
          0.18158501766103252,
          0.11204683610554457,
          0.05534365763254137,
          0.04820220547678351,
          0.05912831415154815,
          0.06673588747709229,
          0.04217796888309977,
          0.16498684612094505,
          0.06622240247881726,
          0.1301746697115273,
          0.10917202011370919,
          0.04486749706285599,
          0.048075400560496286,
          0.055010436009833866,
          0.09195746798055744,
          0.07249142560385967,
          0.04582913928566853,
          0.08460047332596021,
          0.04531055206964792,
          0.06701472307776199,
          0.043098086077906515,
          0.07006356927717605,
          0.07885968850426056,
          0.02855348463682185,
          0.031342008633850844,
          0.061103242282132555,
          0.04131804163854389,
          0.04475518276940234,
          0.04808325161164128,
          0.09581630213406492,
          0.25062553695366996,
          0.06705172620591456,
          0.059191906841487556,
          0.17884097980412536,
          0.13361783002806102,
          0.18374060627133337,
          0.05272292363628216,
          0.17497999695309757,
          0.041484606812418494,
          0.28820730644401443,
          0.046439211434955024,
          0.17946772583930473,
          0.04854449117724075,
          0.041723367541541996,
          0.04895019470132806,
          0.16147771923444793,
          0.0426399815210906,
          0.18708537942228082,
          0.06546683506702203,
          0.05793939416607508,
          0.043727624675939276,
          0.05613953507654541,
          0.045857218115589814,
          0.17724978956366982,
          0.04829040787640628,
          0.054091672596528806,
          0.06209601080611539,
          0.05835339169545882,
          0.0535431633950236,
          0.09118164413115964,
          0.10331177197404481,
          0.13172109075666194,
          0.04547768619840232,
          0.047273554441017045,
          0.06026730727298507,
          0.044760198325005725,
          0.05305669910017313,
          0.06107359323044348,
          0.04856232135265055,
          0.049529219735250804,
          0.04684583782266531,
          0.04494194988554224,
          0.05129672168841359,
          0.051907663122827304,
          0.07144244877930987,
          0.05255505840131736,
          0.13194400787893906,
          0.048965283677791335,
          0.08204666683179178,
          0.05497200948805112,
          0.04416740906508579,
          0.06638655171175747,
          0.09073347259244402,
          0.06517287558295312,
          0.2913942415251133,
          0.20502384131073992,
          0.0479386408323277,
          0.06969889488640858,
          0.04671020246191825,
          0.08039810369469776,
          0.031146342514892705,
          0.019187848141129615,
          0.035224674616313574,
          0.05164801419367809,
          0.05744750396975733,
          0.049258554803166314,
          0.06762636983199628,
          0.06180207555358711,
          0.031907924595789845,
          0.09237621931941954,
          0.28231005620795,
          0.05077584801026881,
          0.1681988008498347,
          0.15089163449135623,
          0.047161560026631695,
          0.048508974505411744,
          0.15942427864795256,
          0.09450645342854026,
          0.06173451594823324,
          0.04719927894935205,
          0.03295150530682101,
          0.043184537505826785,
          0.03607151780926579,
          0.1847113427796873,
          0.06543772134683783,
          0.049172746240792084,
          0.041585676653753324,
          0.030913970454485767,
          0.0493303954959744,
          0.06437137525695333,
          0.05319768011565566,
          0.04809045838814665,
          0.04650738256701149,
          0.04879957478170422,
          0.04954284893764183,
          0.06179862331610335,
          0.3248464954331304,
          0.04599425107458424,
          0.08268940849859555,
          0.05915524845019056,
          0.07281141280981887,
          0.12840211748237054,
          0.04703417349872866,
          0.20919032660720188,
          0.044358474707586186,
          0.1845780088280248,
          0.07107199789423428,
          0.04308468230615042,
          0.04772013462826658,
          0.04628573310573059,
          0.06393126738721255,
          0.08009734732925806,
          0.05872175783149196,
          0.0464407491043638,
          0.060993025751263405,
          0.047436852166758754,
          0.34145301320961136,
          0.03517874972379271,
          0.18457599592925955,
          0.05232269891309117,
          0.06686775701650273,
          0.08333573481723197,
          0.07823553380028528,
          0.04330202195625278,
          0.029272228225423788,
          0.0427590692444174,
          0.04376795482120098,
          0.20117734664892858,
          0.050889905463399415,
          0.0686541425882864,
          0.22642269236986745,
          0.06115556461723959,
          0.08510818081787623,
          0.04873309379474864,
          0.07104857114268001,
          0.04699011212768736,
          0.19897488526673046,
          0.04932334540280335,
          0.14014277162907038,
          0.046738539580781634,
          0.028131675571677492,
          0.05934374485343681,
          0.043271134000699346,
          0.04345173039228328,
          0.04438018587769018,
          0.07060418933101295,
          0.05371820626168829,
          0.09262780408400595,
          0.09293407420573806,
          0.13038132517068562,
          0.15953732031874046,
          0.055032476519334794,
          0.046303914360001384,
          0.07220327507085843,
          0.06100885533458934,
          0.0512549280662657,
          0.04927344444225868,
          0.04396524687609791,
          0.18422606323629862,
          0.04399602060333252,
          0.055431667202971116,
          0.21261882212322245,
          0.04332623077097428,
          0.09020141747330906,
          0.10852160819580127,
          0.03651532036227145,
          0.07695499615903395,
          0.04589586695608433,
          0.053925551405662,
          0.061111905085034716,
          0.051226685407210544,
          0.045940614626348235,
          0.07984545666173776,
          0.0533756686126563,
          0.050603325525944404,
          0.04937997590286384,
          0.049526082884446085,
          0.061883145391008774,
          0.04445726048617677,
          0.16174781977008446,
          0.04654994676152079,
          0.04710870515534483,
          0.03360153906892311,
          0.18224829236140772,
          0.09437962616872583,
          0.04582604062531102,
          0.07926648794433143,
          0.05900161857013836,
          0.05539522296352566,
          0.04902281958082952,
          0.04020918714586603,
          0.05156308673557645,
          0.35174424062210263,
          0.050060715141048547,
          0.2940688428400985,
          0.0664303493264573,
          0.040822588688859344,
          0.05093637119646371,
          0.05774363480834462,
          0.048659328075607765,
          0.049028602487918974,
          0.038845143714264625,
          0.105634269664706,
          0.052698247138932855,
          0.053446801852830295,
          0.059829970005661676,
          0.06020809028141225,
          0.05189734449174342,
          0.050398014039899415,
          0.051592091637903556,
          0.17070954509302877,
          0.19577249231043625,
          0.11561604170796322,
          0.14977168055962814,
          0.038826676441405174,
          0.03935630592414867,
          0.08422158187370046,
          0.04816717543763482,
          0.053673349781493296,
          0.029363947939848888,
          0.08277502314433485,
          0.059502130631634176,
          0.05779381402517826,
          0.050601826197771864,
          0.21630949273340813,
          0.20716975461044668,
          0.05933778893878891,
          0.06966360487403256,
          0.09068242636035725,
          0.048546827888641765,
          0.049440955776366535,
          0.05120468661628416,
          0.06747452238218093,
          0.09310187754890432,
          0.1078481131249952,
          0.06335542093788518,
          0.0497796635874952,
          0.09319564387731119,
          0.05602030567784773,
          0.04220683075094255,
          0.04460247360390535,
          0.09642143905299143,
          0.18660620914679138,
          0.047811313268281225,
          0.2167593685896248,
          0.045350031759852444,
          0.05604280249568931,
          0.044620294002605865,
          0.09066905032701847,
          0.05788031252250684,
          0.053053102447834705,
          0.07016778083649818,
          0.07004862273974419,
          0.22407379661485208,
          0.04885354023620734,
          0.08906059191533329,
          0.0557800541056169,
          0.1806967327953399,
          0.19571560335682756,
          0.046544460561048544,
          0.12553053536067368,
          0.20203764698245208,
          0.061532410946816087,
          0.05173671443319504,
          0.0586980783887745,
          0.07075019671284337,
          0.057247670216379616,
          0.090969197021589,
          0.0511416210598548,
          0.1646220923071426,
          0.0427530864495853,
          0.0628444431544244,
          0.07309903210659865,
          0.044885045580442415,
          0.05855876793143837,
          0.04463785949467364,
          0.05748228632585853,
          0.18558574024320545,
          0.061966985415982764,
          0.06343719973480609,
          0.05253646119570053,
          0.04682102270739391,
          0.10715860482555561,
          0.048481843370736584,
          0.05720175176255694,
          0.11793587963230787,
          0.12434070984264142,
          0.05467679944652276,
          0.05416468134590142,
          0.05802152855808922,
          0.17118730485122957,
          0.04851071862904212,
          0.04518393565094068,
          0.6679546610865479,
          0.2313700108544597,
          0.11240407853148539,
          0.0469155141327173,
          0.0493206189677145,
          0.08624625059746718,
          0.051370276581441096,
          0.19718064761868054,
          0.04375401920601212,
          0.05058892071804778,
          0.037202414720668424,
          0.06340317560186728,
          0.15038276474416223,
          0.0666414417143065,
          0.053472507776253425,
          0.0823149773527479,
          0.026458121241593975,
          0.19471841859030287,
          0.045131748115174564,
          0.0592089729017385,
          0.1080879168169385,
          0.04823232848122039,
          0.08190415770982674,
          0.24689803157927417,
          0.21734421792458042,
          0.17433107899917982,
          0.09870274064257753,
          0.07175011372914047,
          0.08649972323232347,
          0.1517800648245358,
          0.06718935494579231,
          0.05156659770019753,
          0.04136015846412394,
          0.04830691141737597,
          0.06937007104686216,
          0.052655123814894234,
          0.05147513867951294,
          0.050038449530022094,
          0.052237260020294336,
          0.0450670436843369,
          0.049605940376147274,
          0.09737949138063272,
          0.054833136815846686,
          0.20641997577214907,
          0.053383297438893335,
          0.06755520632047828,
          0.08408455438833687,
          0.14954829178295656,
          0.04902006690063458,
          0.09436103378998595,
          0.045593536497503494,
          0.04850337607115188,
          0.04632258393876426,
          0.04771356077523894,
          0.05336217976727342,
          0.045659282722830034,
          0.17118254142167308,
          0.07823654086619211,
          0.11238533827183433,
          0.03597451936037235,
          0.026893135920068235,
          0.0718498697290111,
          0.062317103479549746,
          0.04333458010882821,
          0.05228236316048681,
          0.0684276778635016,
          0.04645798024038538,
          0.06981521633428009,
          0.04724549905945724,
          0.06241256870767553,
          0.31546575227684026,
          0.04932334540280335,
          0.04710366104308193,
          0.043155990603992424,
          0.04787209675718696,
          0.05546827073970339,
          0.18547929183744427,
          0.046167095806714464,
          0.1720305399880798,
          0.051247387227693855,
          0.17464021713687874,
          0.051636767842505246,
          0.1546454062835358,
          0.057407999420200806,
          0.027061689260416973,
          0.1663168328308757,
          0.09238896989986582,
          0.048049672825795905,
          0.15877289482645693,
          0.09525411065292652,
          0.035687465438422133,
          0.16682581164719085,
          0.05319675267365509,
          0.04805744665286849,
          0.1116979472788914,
          0.041894667062505594,
          0.05959781407216704,
          0.08612919109801898,
          0.1672337854975922,
          0.0860872174519062,
          0.04804461993434421,
          0.08132206053779632,
          0.08332389462922225,
          0.04913742999880741,
          0.1557854742574274,
          0.04581640210420471,
          0.24070865501053185,
          0.046698023948402445,
          0.03526401816415746,
          0.3069801634373528,
          0.1177282233011552,
          0.05550214521193763,
          0.044069800655216346,
          0.04550538444052967,
          0.06670440240187187,
          0.03541367432727438,
          0.109751107647871,
          0.12705194067649522,
          0.26617011798533174,
          0.07143015256091989,
          0.06719507203475988,
          0.048371474764785656,
          0.04386437327430061,
          0.10279520730630057,
          0.08493014375606124,
          0.05142262569333035,
          0.047124077959759716,
          0.09603281957542374,
          0.06573111664386258,
          0.04607536311775227,
          0.0882620614738473,
          0.0719282877568289,
          0.055867757415973565,
          0.04602237823578551,
          0.0612554926891055,
          0.0459213950878674,
          0.057249508551413725,
          0.05324656134458417,
          0.06429702832299382,
          0.03756295456867399,
          0.04569697500728249,
          0.046358961102498285,
          0.05573590552063036,
          0.2165674381708171,
          0.05096955109132174,
          0.06820401357574889,
          0.035660322226054586,
          0.08290332235145963,
          0.05548598888637869,
          0.045988915116565804,
          0.045890340395666515,
          0.05352314892398834,
          0.23638524652214088,
          0.05186198862988277,
          0.057091138908956,
          0.35761505895849655,
          0.07993372120254624,
          0.04010754937472195,
          0.06273658850068305,
          0.047339434889638314,
          0.051109838690967364,
          0.04597379603349029,
          0.05835888954544918,
          0.16928112765009581,
          0.13543380678152295,
          0.046439126516045134,
          0.16175141538430776,
          0.09247086694367956,
          0.1577044468152891,
          0.1808373028416942,
          0.044766378936885266,
          0.060277933550457866,
          0.05194844152799968,
          0.04661917496770884,
          0.05637586810262833,
          0.05136744067236162,
          0.19132457499358713,
          0.042802120813597175,
          0.06941169738925303,
          0.06816729923889096,
          0.0584220441830717,
          0.03989532001307311,
          0.04868743079409721,
          0.04636306485072928,
          0.046935303841188124,
          0.06559339471400363,
          0.03873611342598626,
          0.04197286972310473,
          0.06211797677729387,
          0.05531549130109699,
          0.1714534652728008,
          0.04174176521414694,
          0.04575235345645635,
          0.13103285146588797,
          0.04623696509792295,
          0.047431063185102665,
          0.07199722005337669,
          0.04532207340273639,
          0.058664970776030986,
          0.04982491464450811,
          0.049799078045925226,
          0.05227827460205013,
          0.04954793265525094,
          0.07091916793712091,
          0.1454619148613368,
          0.04587332836773473,
          0.06898075671463325,
          0.14881116898628627,
          0.050594661424057434,
          0.11118185918420617,
          0.07246110419288486,
          0.07028177961965745,
          0.037352150017766594,
          0.05069983361837057,
          0.040292980475045655,
          0.05468597136926811,
          0.05278223105834631,
          0.08324703558591318,
          0.048413050916907736,
          0.07139897289400271,
          0.04586786079213713,
          0.04698339519838726,
          0.05897512276181134,
          0.2026628808594661,
          0.04069878905726688,
          0.0661170150100672,
          0.07543925534987225,
          0.05339974488375346,
          0.04858159930102472,
          0.07242665024505707,
          0.14978569777986717,
          0.05136709007791138,
          0.05614017808374229,
          0.16707448421393362,
          0.04979279412832498,
          0.04205717017125794,
          0.09344368929627687,
          0.028622670327542045,
          0.07079788441515651,
          0.05178624421837837,
          0.09096215495727962,
          0.13135436891229782,
          0.12293979804408803,
          0.05442696050769181,
          0.125260145811728,
          0.05217139327794981,
          0.049366674097894296,
          0.08523801718038584,
          0.15195168796870992,
          0.22283501590245036,
          0.059847242740804774,
          0.035464368907636296,
          0.04750425318468784,
          0.047407245286944906,
          0.0331267310477596,
          0.11544313215634004,
          0.05247050951682766,
          0.06771326492654761,
          0.24892806304676318,
          0.10789424788448826,
          0.09547232099540792,
          0.06510454821562661,
          0.08111438457353036,
          0.046263951366479414,
          0.03364621552627537,
          0.09373113245972148,
          0.21637955205458287,
          0.11674005722089063,
          0.07116237088193357,
          0.5272196552580743,
          0.0851686651375556,
          0.050049695413694036,
          0.05006634129440339,
          0.10629384881750842,
          0.048700011718977136,
          0.03689466895524491,
          0.050643839691693816,
          0.04371108158219993,
          0.03675519525385406,
          0.06577841397279702,
          0.06559040989942594,
          0.054213038617995576,
          0.03402954532642993,
          0.05513088877821548,
          0.04611093480184034,
          0.05193627032203474,
          0.17547766632404294,
          0.19175612599088782,
          0.0442274391248384,
          0.16930206833960526,
          0.08960459416912403,
          0.0901794082203582,
          0.0880912100527397,
          0.08556242763817457,
          0.05021098101841736,
          0.03609968417257294,
          0.055478046437873706,
          0.09235688006884729,
          0.0649833081057768,
          0.03821897025025547,
          0.06616862979759763,
          0.05534369678696727,
          0.09354957656722122,
          0.046936155990626935,
          0.16874430562927986,
          0.08322440622189636,
          0.0607241169187934,
          0.046623687949258835,
          0.044004568015606586,
          0.04979005839576777,
          0.06140563009630431,
          0.06118111535038662,
          0.04623015248352259,
          0.06354714867708078,
          0.05099294487358258,
          0.06309020514623086,
          0.042553857030184605,
          0.05462944392787607,
          0.30859066885767594,
          0.04763592101398695,
          0.0403474505693566,
          0.055611701153592985,
          0.05463128404766463,
          0.052454857924111475,
          0.09625381045383005,
          0.08073972261282532,
          0.06665351966163024,
          0.047519376992587514,
          0.06775169186648763,
          0.06909757358140475,
          0.03991151694064883,
          0.1666121495181753,
          0.06150797017679697,
          0.20582028860360427,
          0.0526664797328928,
          0.06603701131582762,
          0.04599085483774645,
          0.04428644155461315,
          0.043792179988218244,
          0.025140836660986043,
          0.04772868331170591,
          0.049315507607157485,
          0.20348436730127284,
          0.10053241110033685,
          0.052325182992765916,
          0.10209282281716314,
          0.07347046223788964,
          0.07110321591080501,
          0.04953043212506376,
          0.18263114731824548,
          0.05688170515717387,
          0.13485732228516883,
          0.2865374790261468,
          0.028003993437752547,
          0.1477092765863483,
          0.04226654413750827,
          0.048280622448194,
          0.06913402024196155,
          0.1271382748452084,
          0.04588378065918638,
          0.34896282637116777,
          0.09624264743225344,
          0.039506785381093264,
          0.060717185866636304,
          0.030419350085606617,
          0.16601223151060868,
          0.15136418049090805,
          0.346881716840187,
          0.08019068255187917,
          0.043091866601809026,
          0.18579358508271127,
          0.045496484153462045,
          0.19917474665334564,
          0.0418132149643379,
          0.04299003907883943,
          0.08331842785036861,
          0.05203654056842772,
          0.04156958670357761,
          0.22062381982906892,
          0.06326029789995113,
          0.05564584965344037,
          0.04630376017091089,
          0.09070503708454226,
          0.08635528768209963,
          0.06427543524526866,
          0.05867458948836672,
          0.09732137690874763,
          0.05980893672872328,
          0.2668429462107571,
          0.054946673879623646,
          0.04647560765546452,
          0.05126453259856672,
          0.22349628577016195,
          0.06611261369429049,
          0.052403003441830354,
          0.0416212355523304,
          0.04214379776969829,
          0.05970571919176346,
          0.12838829966706664,
          0.05142367230564125,
          0.07143393117141748,
          0.06269362260104709,
          0.043043089290291006,
          0.03722730999888813,
          0.05579085581416729,
          0.29109311802053794,
          0.05152849894796415,
          0.08701004366851069,
          0.09122644017315684,
          0.06513724855770799,
          0.051180092816292135,
          0.05120901947792001,
          0.05519172939477156,
          0.029736044677530347,
          0.062043110183350555,
          0.09449364146676367,
          0.04327836870660126,
          0.054247527041000734,
          0.16901999975321214,
          0.053935450604714524,
          0.047171140770960907,
          0.044951535427106316,
          0.05054394655521551,
          0.061938600003352634,
          0.05674406308239231,
          0.06509187337967792,
          0.053463316649244065,
          0.049586475087926095,
          0.04202994104338185,
          0.13120172154628196,
          0.04343943106153779,
          0.15100650360797627,
          0.03339115096771896,
          0.18024438322919456,
          0.048446298797893014,
          0.03576526157765029,
          0.05722748196085648,
          0.10099271596385441,
          0.10370587010068298,
          0.04486322911221224,
          0.059377356553710015,
          0.33528029910717955,
          0.04712178542126976,
          0.5410990914721759,
          0.06865120871148475,
          0.06265894074009652,
          0.05043056875273371,
          0.0474678372990525,
          0.19614200614387411,
          0.061649155456879795,
          0.05052613585614777,
          0.05325364064403267,
          0.04891576287652408,
          0.04695646839108629,
          0.05244397661357352,
          0.045523828835059024,
          0.06120806937672896,
          0.054242749464999754,
          0.08674465367753781,
          0.04439248322660212,
          0.0693243061153622,
          0.05696394914927705,
          0.04394365399555424,
          0.043312269563332464,
          0.0578893480943969,
          0.05689429139472026,
          0.13113239996555087,
          0.05355558484791133,
          0.22573444639411852,
          0.04757498328070569,
          0.061039157192509665,
          0.052068452470185315,
          0.03535285409474883,
          0.02977214767330425,
          0.05718612500048306,
          0.04886447841983668,
          0.04399370611732923,
          0.05649723951686761,
          0.04332923244118781,
          0.22836156686561027,
          0.16916926086945194,
          0.05676686613659333,
          0.2683277061186685,
          0.04513276608111267,
          0.04735163069480322,
          0.18463157384958762,
          0.06854911722446486,
          0.04599258425592746,
          0.047735766822882574,
          0.07165927848688587,
          0.05216173967033694,
          0.04820569862415415,
          0.3708267387197221,
          0.04682102270739391,
          0.06629181677957807,
          0.15996101218826836,
          0.04282261775906453,
          0.08082917847902467,
          0.05972276222396403,
          0.1258136105282482,
          0.05954994324487646,
          0.056152491314709854,
          0.05741588176593826,
          0.06202137288424618,
          0.06148232267135739,
          0.04629366585417082,
          0.041137926749075036,
          0.11561332418607939,
          0.08757105783886983,
          0.028946391119143572,
          0.05545667158218904,
          0.15544420939538867,
          0.16869302819027426,
          0.053518489714922096,
          0.05490494827592715,
          0.046621438999559894,
          0.046304528197508,
          0.07326892204219053,
          0.03967538531075445,
          0.1062255899000795,
          0.07752762320414837,
          0.05666662457111569,
          0.05966436247100887,
          0.060268898855559055,
          0.04567341299500338,
          0.05089316669444052,
          0.040363534484801254,
          0.0545752550438459,
          0.17043855542008357,
          0.06543719011061636,
          0.05111649970718409,
          0.04929644853456729,
          0.02827557648914486,
          0.05833743874668425,
          0.05386633692244061,
          0.04953301680872079,
          0.04932084736944948,
          0.045005544612776845,
          0.0577006356104426,
          0.06161312683351531,
          0.04835771710109998,
          0.0501733047144896,
          0.358671505007992,
          0.07989526056276115,
          0.060183092225688566,
          0.05489284477923494,
          0.028544252783416546,
          0.04899124758251167,
          0.08132421802685909,
          0.19462976344269017,
          0.048473354745873554,
          0.1818459469700463,
          0.051980485710170235,
          0.043469550790983795,
          0.04306962173241842,
          0.1162605049443461,
          0.12891999301456813,
          0.06429201980420543,
          0.10666823361179706,
          0.13162967602325432,
          0.18569902465033863,
          0.08288791031198521,
          0.054450120567952176,
          0.11300165748069452,
          0.058801950533607,
          0.0518590646104727,
          0.04113218488759637,
          0.06006846432601282,
          0.0480218341155452,
          0.05103412114458463,
          0.0507165229736045,
          0.04734597387128315,
          0.16664843752938327,
          0.06317409216633568,
          0.2020645639962378,
          0.08021290651441744,
          0.06723963259945988,
          0.05786857684247426,
          0.04294763827576759,
          0.04791057948413171,
          0.3221893804875292,
          0.04571646410895797,
          0.04108290977006425,
          0.04695625290082657,
          0.044205790322018455,
          0.06060395395213153,
          0.05847385800117679,
          0.05341325903528876,
          0.32140706316464634,
          0.08330745989920048,
          0.22845384761621298,
          0.06156534252813123,
          0.049768242613014234,
          0.046765259760669815,
          0.10093628996443971,
          0.048856245916114135,
          0.18843836680802523,
          0.1578748623987612,
          0.03940516001559226,
          0.032507597713622494,
          0.05900161857013836,
          0.1797397856289053,
          0.09421071259832671,
          0.05904508346921495,
          0.06957009914003597,
          0.06878473677491832,
          0.05725446694181072,
          0.03418119510636842,
          0.049551598922853296,
          0.04533372361578218,
          0.04365883093445977,
          0.18728220032254836,
          0.04826546749795317,
          0.06971754118919779,
          0.038955443317984575,
          0.05145962553368097,
          0.05347093759814432,
          0.04429824657713152,
          0.04756374788103462,
          0.24230490372752514,
          0.036319020784554866,
          0.048763710450602286,
          0.04833629925357382,
          0.04097088161898503,
          0.061953030627015515,
          0.21851673603725116,
          0.19052432598896843,
          0.09417330034218903,
          0.05468674656621976,
          0.058343416823190844,
          0.08593452889931809,
          0.05473674422770665,
          0.06543497312055042,
          0.08893320501545361,
          0.05220394347332655,
          0.06042914460766364,
          0.0888632268165357,
          0.06668521861825387,
          0.18657337460680562,
          0.047578127100404995,
          0.04478843986512192,
          0.1536950233429547,
          0.10848355702207643,
          0.08075910680737904,
          0.0876681986281441,
          0.27826575795226416,
          0.16052964495473396,
          0.04645798024038538,
          0.3323306395285659,
          0.08209646487243265,
          0.04095299773500392,
          0.05986323638267692,
          0.04555854910987588,
          0.053788448860866776,
          0.06961598213385178,
          0.05006482318873504,
          0.08626086360585772,
          0.054905166812012664,
          0.0634434348865341,
          0.17148015582321052,
          0.06307436689210516,
          0.050195598354137075,
          0.04972261413967252,
          0.04506289052601637,
          0.04544898978875359,
          0.06153616383018043,
          0.056385615455991925,
          0.04788238297493289,
          0.06047911910539469,
          0.11424601269857845,
          0.1812863744205832,
          0.045921143304932716,
          0.0675448196958876,
          0.045163888469779735,
          0.0687852680111398,
          0.0470573282289915,
          0.16719333851696705,
          0.06858295799771004,
          0.16854471706912255,
          0.04581061586085304,
          0.05105525369567307,
          0.024194337840305967,
          0.2050235490318853,
          0.045221259552764265,
          0.05901248389192062,
          0.044755863568306346,
          0.19276501485606262,
          0.07174769507131892
         ],
         "xaxis": "x",
         "yaxis": "y"
        }
       ],
       "layout": {
        "barmode": "relative",
        "legend": {
         "tracegroupgap": 0
        },
        "margin": {
         "t": 60
        },
        "template": {
         "data": {
          "bar": [
           {
            "error_x": {
             "color": "#2a3f5f"
            },
            "error_y": {
             "color": "#2a3f5f"
            },
            "marker": {
             "line": {
              "color": "#E5ECF6",
              "width": 0.5
             }
            },
            "type": "bar"
           }
          ],
          "barpolar": [
           {
            "marker": {
             "line": {
              "color": "#E5ECF6",
              "width": 0.5
             }
            },
            "type": "barpolar"
           }
          ],
          "carpet": [
           {
            "aaxis": {
             "endlinecolor": "#2a3f5f",
             "gridcolor": "white",
             "linecolor": "white",
             "minorgridcolor": "white",
             "startlinecolor": "#2a3f5f"
            },
            "baxis": {
             "endlinecolor": "#2a3f5f",
             "gridcolor": "white",
             "linecolor": "white",
             "minorgridcolor": "white",
             "startlinecolor": "#2a3f5f"
            },
            "type": "carpet"
           }
          ],
          "choropleth": [
           {
            "colorbar": {
             "outlinewidth": 0,
             "ticks": ""
            },
            "type": "choropleth"
           }
          ],
          "contour": [
           {
            "colorbar": {
             "outlinewidth": 0,
             "ticks": ""
            },
            "colorscale": [
             [
              0,
              "#0d0887"
             ],
             [
              0.1111111111111111,
              "#46039f"
             ],
             [
              0.2222222222222222,
              "#7201a8"
             ],
             [
              0.3333333333333333,
              "#9c179e"
             ],
             [
              0.4444444444444444,
              "#bd3786"
             ],
             [
              0.5555555555555556,
              "#d8576b"
             ],
             [
              0.6666666666666666,
              "#ed7953"
             ],
             [
              0.7777777777777778,
              "#fb9f3a"
             ],
             [
              0.8888888888888888,
              "#fdca26"
             ],
             [
              1,
              "#f0f921"
             ]
            ],
            "type": "contour"
           }
          ],
          "contourcarpet": [
           {
            "colorbar": {
             "outlinewidth": 0,
             "ticks": ""
            },
            "type": "contourcarpet"
           }
          ],
          "heatmap": [
           {
            "colorbar": {
             "outlinewidth": 0,
             "ticks": ""
            },
            "colorscale": [
             [
              0,
              "#0d0887"
             ],
             [
              0.1111111111111111,
              "#46039f"
             ],
             [
              0.2222222222222222,
              "#7201a8"
             ],
             [
              0.3333333333333333,
              "#9c179e"
             ],
             [
              0.4444444444444444,
              "#bd3786"
             ],
             [
              0.5555555555555556,
              "#d8576b"
             ],
             [
              0.6666666666666666,
              "#ed7953"
             ],
             [
              0.7777777777777778,
              "#fb9f3a"
             ],
             [
              0.8888888888888888,
              "#fdca26"
             ],
             [
              1,
              "#f0f921"
             ]
            ],
            "type": "heatmap"
           }
          ],
          "heatmapgl": [
           {
            "colorbar": {
             "outlinewidth": 0,
             "ticks": ""
            },
            "colorscale": [
             [
              0,
              "#0d0887"
             ],
             [
              0.1111111111111111,
              "#46039f"
             ],
             [
              0.2222222222222222,
              "#7201a8"
             ],
             [
              0.3333333333333333,
              "#9c179e"
             ],
             [
              0.4444444444444444,
              "#bd3786"
             ],
             [
              0.5555555555555556,
              "#d8576b"
             ],
             [
              0.6666666666666666,
              "#ed7953"
             ],
             [
              0.7777777777777778,
              "#fb9f3a"
             ],
             [
              0.8888888888888888,
              "#fdca26"
             ],
             [
              1,
              "#f0f921"
             ]
            ],
            "type": "heatmapgl"
           }
          ],
          "histogram": [
           {
            "marker": {
             "colorbar": {
              "outlinewidth": 0,
              "ticks": ""
             }
            },
            "type": "histogram"
           }
          ],
          "histogram2d": [
           {
            "colorbar": {
             "outlinewidth": 0,
             "ticks": ""
            },
            "colorscale": [
             [
              0,
              "#0d0887"
             ],
             [
              0.1111111111111111,
              "#46039f"
             ],
             [
              0.2222222222222222,
              "#7201a8"
             ],
             [
              0.3333333333333333,
              "#9c179e"
             ],
             [
              0.4444444444444444,
              "#bd3786"
             ],
             [
              0.5555555555555556,
              "#d8576b"
             ],
             [
              0.6666666666666666,
              "#ed7953"
             ],
             [
              0.7777777777777778,
              "#fb9f3a"
             ],
             [
              0.8888888888888888,
              "#fdca26"
             ],
             [
              1,
              "#f0f921"
             ]
            ],
            "type": "histogram2d"
           }
          ],
          "histogram2dcontour": [
           {
            "colorbar": {
             "outlinewidth": 0,
             "ticks": ""
            },
            "colorscale": [
             [
              0,
              "#0d0887"
             ],
             [
              0.1111111111111111,
              "#46039f"
             ],
             [
              0.2222222222222222,
              "#7201a8"
             ],
             [
              0.3333333333333333,
              "#9c179e"
             ],
             [
              0.4444444444444444,
              "#bd3786"
             ],
             [
              0.5555555555555556,
              "#d8576b"
             ],
             [
              0.6666666666666666,
              "#ed7953"
             ],
             [
              0.7777777777777778,
              "#fb9f3a"
             ],
             [
              0.8888888888888888,
              "#fdca26"
             ],
             [
              1,
              "#f0f921"
             ]
            ],
            "type": "histogram2dcontour"
           }
          ],
          "mesh3d": [
           {
            "colorbar": {
             "outlinewidth": 0,
             "ticks": ""
            },
            "type": "mesh3d"
           }
          ],
          "parcoords": [
           {
            "line": {
             "colorbar": {
              "outlinewidth": 0,
              "ticks": ""
             }
            },
            "type": "parcoords"
           }
          ],
          "pie": [
           {
            "automargin": true,
            "type": "pie"
           }
          ],
          "scatter": [
           {
            "marker": {
             "colorbar": {
              "outlinewidth": 0,
              "ticks": ""
             }
            },
            "type": "scatter"
           }
          ],
          "scatter3d": [
           {
            "line": {
             "colorbar": {
              "outlinewidth": 0,
              "ticks": ""
             }
            },
            "marker": {
             "colorbar": {
              "outlinewidth": 0,
              "ticks": ""
             }
            },
            "type": "scatter3d"
           }
          ],
          "scattercarpet": [
           {
            "marker": {
             "colorbar": {
              "outlinewidth": 0,
              "ticks": ""
             }
            },
            "type": "scattercarpet"
           }
          ],
          "scattergeo": [
           {
            "marker": {
             "colorbar": {
              "outlinewidth": 0,
              "ticks": ""
             }
            },
            "type": "scattergeo"
           }
          ],
          "scattergl": [
           {
            "marker": {
             "colorbar": {
              "outlinewidth": 0,
              "ticks": ""
             }
            },
            "type": "scattergl"
           }
          ],
          "scattermapbox": [
           {
            "marker": {
             "colorbar": {
              "outlinewidth": 0,
              "ticks": ""
             }
            },
            "type": "scattermapbox"
           }
          ],
          "scatterpolar": [
           {
            "marker": {
             "colorbar": {
              "outlinewidth": 0,
              "ticks": ""
             }
            },
            "type": "scatterpolar"
           }
          ],
          "scatterpolargl": [
           {
            "marker": {
             "colorbar": {
              "outlinewidth": 0,
              "ticks": ""
             }
            },
            "type": "scatterpolargl"
           }
          ],
          "scatterternary": [
           {
            "marker": {
             "colorbar": {
              "outlinewidth": 0,
              "ticks": ""
             }
            },
            "type": "scatterternary"
           }
          ],
          "surface": [
           {
            "colorbar": {
             "outlinewidth": 0,
             "ticks": ""
            },
            "colorscale": [
             [
              0,
              "#0d0887"
             ],
             [
              0.1111111111111111,
              "#46039f"
             ],
             [
              0.2222222222222222,
              "#7201a8"
             ],
             [
              0.3333333333333333,
              "#9c179e"
             ],
             [
              0.4444444444444444,
              "#bd3786"
             ],
             [
              0.5555555555555556,
              "#d8576b"
             ],
             [
              0.6666666666666666,
              "#ed7953"
             ],
             [
              0.7777777777777778,
              "#fb9f3a"
             ],
             [
              0.8888888888888888,
              "#fdca26"
             ],
             [
              1,
              "#f0f921"
             ]
            ],
            "type": "surface"
           }
          ],
          "table": [
           {
            "cells": {
             "fill": {
              "color": "#EBF0F8"
             },
             "line": {
              "color": "white"
             }
            },
            "header": {
             "fill": {
              "color": "#C8D4E3"
             },
             "line": {
              "color": "white"
             }
            },
            "type": "table"
           }
          ]
         },
         "layout": {
          "annotationdefaults": {
           "arrowcolor": "#2a3f5f",
           "arrowhead": 0,
           "arrowwidth": 1
          },
          "coloraxis": {
           "colorbar": {
            "outlinewidth": 0,
            "ticks": ""
           }
          },
          "colorscale": {
           "diverging": [
            [
             0,
             "#8e0152"
            ],
            [
             0.1,
             "#c51b7d"
            ],
            [
             0.2,
             "#de77ae"
            ],
            [
             0.3,
             "#f1b6da"
            ],
            [
             0.4,
             "#fde0ef"
            ],
            [
             0.5,
             "#f7f7f7"
            ],
            [
             0.6,
             "#e6f5d0"
            ],
            [
             0.7,
             "#b8e186"
            ],
            [
             0.8,
             "#7fbc41"
            ],
            [
             0.9,
             "#4d9221"
            ],
            [
             1,
             "#276419"
            ]
           ],
           "sequential": [
            [
             0,
             "#0d0887"
            ],
            [
             0.1111111111111111,
             "#46039f"
            ],
            [
             0.2222222222222222,
             "#7201a8"
            ],
            [
             0.3333333333333333,
             "#9c179e"
            ],
            [
             0.4444444444444444,
             "#bd3786"
            ],
            [
             0.5555555555555556,
             "#d8576b"
            ],
            [
             0.6666666666666666,
             "#ed7953"
            ],
            [
             0.7777777777777778,
             "#fb9f3a"
            ],
            [
             0.8888888888888888,
             "#fdca26"
            ],
            [
             1,
             "#f0f921"
            ]
           ],
           "sequentialminus": [
            [
             0,
             "#0d0887"
            ],
            [
             0.1111111111111111,
             "#46039f"
            ],
            [
             0.2222222222222222,
             "#7201a8"
            ],
            [
             0.3333333333333333,
             "#9c179e"
            ],
            [
             0.4444444444444444,
             "#bd3786"
            ],
            [
             0.5555555555555556,
             "#d8576b"
            ],
            [
             0.6666666666666666,
             "#ed7953"
            ],
            [
             0.7777777777777778,
             "#fb9f3a"
            ],
            [
             0.8888888888888888,
             "#fdca26"
            ],
            [
             1,
             "#f0f921"
            ]
           ]
          },
          "colorway": [
           "#636efa",
           "#EF553B",
           "#00cc96",
           "#ab63fa",
           "#FFA15A",
           "#19d3f3",
           "#FF6692",
           "#B6E880",
           "#FF97FF",
           "#FECB52"
          ],
          "font": {
           "color": "#2a3f5f"
          },
          "geo": {
           "bgcolor": "white",
           "lakecolor": "white",
           "landcolor": "#E5ECF6",
           "showlakes": true,
           "showland": true,
           "subunitcolor": "white"
          },
          "hoverlabel": {
           "align": "left"
          },
          "hovermode": "closest",
          "mapbox": {
           "style": "light"
          },
          "paper_bgcolor": "white",
          "plot_bgcolor": "#E5ECF6",
          "polar": {
           "angularaxis": {
            "gridcolor": "white",
            "linecolor": "white",
            "ticks": ""
           },
           "bgcolor": "#E5ECF6",
           "radialaxis": {
            "gridcolor": "white",
            "linecolor": "white",
            "ticks": ""
           }
          },
          "scene": {
           "xaxis": {
            "backgroundcolor": "#E5ECF6",
            "gridcolor": "white",
            "gridwidth": 2,
            "linecolor": "white",
            "showbackground": true,
            "ticks": "",
            "zerolinecolor": "white"
           },
           "yaxis": {
            "backgroundcolor": "#E5ECF6",
            "gridcolor": "white",
            "gridwidth": 2,
            "linecolor": "white",
            "showbackground": true,
            "ticks": "",
            "zerolinecolor": "white"
           },
           "zaxis": {
            "backgroundcolor": "#E5ECF6",
            "gridcolor": "white",
            "gridwidth": 2,
            "linecolor": "white",
            "showbackground": true,
            "ticks": "",
            "zerolinecolor": "white"
           }
          },
          "shapedefaults": {
           "line": {
            "color": "#2a3f5f"
           }
          },
          "ternary": {
           "aaxis": {
            "gridcolor": "white",
            "linecolor": "white",
            "ticks": ""
           },
           "baxis": {
            "gridcolor": "white",
            "linecolor": "white",
            "ticks": ""
           },
           "bgcolor": "#E5ECF6",
           "caxis": {
            "gridcolor": "white",
            "linecolor": "white",
            "ticks": ""
           }
          },
          "title": {
           "x": 0.05
          },
          "xaxis": {
           "automargin": true,
           "gridcolor": "white",
           "linecolor": "white",
           "ticks": "",
           "title": {
            "standoff": 15
           },
           "zerolinecolor": "white",
           "zerolinewidth": 2
          },
          "yaxis": {
           "automargin": true,
           "gridcolor": "white",
           "linecolor": "white",
           "ticks": "",
           "title": {
            "standoff": 15
           },
           "zerolinecolor": "white",
           "zerolinewidth": 2
          }
         }
        },
        "xaxis": {
         "anchor": "y",
         "domain": [
          0,
          1
         ],
         "title": {
          "text": "0"
         }
        },
        "yaxis": {
         "anchor": "x",
         "domain": [
          0,
          1
         ],
         "title": {
          "text": "count"
         }
        }
       }
      },
      "text/html": [
       "<div>\n",
       "        \n",
       "        \n",
       "            <div id=\"73cc5f23-9036-44a6-89d1-d696fc9bc10f\" class=\"plotly-graph-div\" style=\"height:525px; width:100%;\"></div>\n",
       "            <script type=\"text/javascript\">\n",
       "                require([\"plotly\"], function(Plotly) {\n",
       "                    window.PLOTLYENV=window.PLOTLYENV || {};\n",
       "                    \n",
       "                if (document.getElementById(\"73cc5f23-9036-44a6-89d1-d696fc9bc10f\")) {\n",
       "                    Plotly.newPlot(\n",
       "                        '73cc5f23-9036-44a6-89d1-d696fc9bc10f',\n",
       "                        [{\"alignmentgroup\": \"True\", \"bingroup\": \"x\", \"hovertemplate\": \"0=%{x}<br>count=%{y}<extra></extra>\", \"legendgroup\": \"\", \"marker\": {\"color\": \"#636efa\"}, \"name\": \"\", \"offsetgroup\": \"\", \"orientation\": \"v\", \"showlegend\": false, \"type\": \"histogram\", \"x\": [0.04602334030638267, 0.0867873626945053, 0.048320748771669024, 0.04459386470013257, 0.04442345597288922, 0.03252404515163871, 0.03991920479252872, 0.047794194833343004, 0.2723106097089705, 0.061846228409560014, 0.15272396123018828, 0.06981521633428009, 0.05114879644300675, 0.06459607671580556, 0.13870934532148044, 0.08059129410772546, 0.08674597864600835, 0.07097901322126661, 0.04626515854051763, 0.04722560745499284, 0.17719892671027554, 0.04742351370080385, 0.05105730612746674, 0.06140818124169361, 0.18635128566976794, 0.06567948849874075, 0.05989051924736888, 0.055064633708508254, 0.05573469824520429, 0.05516833106920558, 0.04581181161405096, 0.11137478862500914, 0.05078132672163728, 0.07205058651827032, 0.0601506400983019, 0.16664900980109304, 0.06928213265005977, 0.06563410993012664, 0.0638201902597914, 0.044688768078821224, 0.05085532345922686, 0.04260748770836849, 0.1503644972520865, 0.1103702369553809, 0.05036968965251987, 0.12667447354336148, 0.2093874095713812, 0.04390853638258577, 0.08428578605397083, 0.0562127589372622, 0.057590905915168286, 0.053433429110963146, 0.2105184236348647, 0.053669655903103575, 0.048367571052923046, 0.0505319897010773, 0.1785920326848605, 0.06961258793586644, 0.05033731954927552, 0.060476562072220186, 0.051241639944438734, 0.045967548115343815, 0.14333088216652645, 0.0338827568744532, 0.2337395126988858, 0.07454419786402415, 0.0850787093469256, 0.08666468919258433, 0.1967158339807338, 0.18468339883082818, 0.06967364188069701, 0.04667383760074432, 0.2735723326430212, 0.065221385850242, 0.053100493365399445, 0.09341076432774895, 0.05649913344447, 0.06747048508190359, 0.07248550014323311, 0.048753295692951476, 0.06535530422122672, 0.05243967695782088, 0.2323030739441316, 0.2256650012714764, 0.05004486168453132, 0.048018923973468616, 0.048432285246978964, 0.03419798970930313, 0.08015954004952382, 0.0552691057204369, 0.13050337624547062, 0.0831477786586841, 0.20552823191985398, 0.06634534754337784, 0.16764215800664267, 0.0834807023051003, 0.12866794513679902, 0.05256626537299095, 0.18805271079165942, 0.0423281687367379, 0.06522190841151876, 0.04112969739493272, 0.043549555418226596, 0.059084174817834643, 0.16300456393142274, 0.07835476661346093, 0.043229857631679, 0.20660327607366596, 0.028542239919610718, 0.08484795875362919, 0.05186046938412271, 0.05614514497853246, 0.0454578268284893, 0.03229307530168626, 0.1986692241510114, 0.05755515224819262, 0.03681287792899819, 0.0627857056573247, 0.04760336769487266, 0.05063733974939402, 0.3337528228077471, 0.0663332241357186, 0.04578666173956651, 0.05690914362789345, 0.058502236474207915, 0.14821472781701772, 0.049776766192250285, 0.04796611509955068, 0.06718465811376889, 0.058008769376001884, 0.05968316337598676, 0.04876762059944007, 0.045733404188438895, 0.05074040986799902, 0.09160242817339616, 0.13306991687920644, 0.22361376407275027, 0.04979083980388613, 0.052518023216172036, 0.05772644511683758, 0.0483200584928893, 0.1724436031414514, 0.1863366694517767, 0.10839358622179975, 0.06399601700268487, 0.08600246769303145, 0.04852074965254279, 0.09606410082718929, 0.06306517629534099, 0.11388854793192588, 0.24367818161782479, 0.044999827814393434, 0.09636416638073397, 0.14984064968820807, 0.05010418824807889, 0.11531844959644331, 0.04222376791313993, 0.10077020461984325, 0.05335508470838116, 0.05209207618384669, 0.04863659921792042, 0.03126463689685297, 0.029758227116079276, 0.04420262378317343, 0.10177156656235019, 0.19642734293811015, 0.1339604030398524, 0.0598202155825912, 0.04568895442987002, 0.16435489466069136, 0.11220914419801094, 0.08508092521881833, 0.11652712717949033, 0.04452619147193562, 0.05175606582630789, 0.050821245312775494, 0.043928702166165144, 0.0619387444875716, 0.044703675330168585, 0.20931551636943932, 0.04617048632967536, 0.06676951769145353, 0.04678284553485676, 0.041430001587086804, 0.03974227023422318, 0.08088794946608044, 0.048240675338647176, 0.05094041997835646, 0.0640998344161911, 0.04796382636974798, 0.3284570495701462, 0.0945049489792223, 0.0687207759159656, 0.047177996336324135, 0.196626061424118, 0.20776488411231187, 0.05240142149540315, 0.2761631901576108, 0.15000742784041288, 0.05008622449812639, 0.06721760662214746, 0.043565541498404574, 0.19027157201428696, 0.05971137658156358, 0.06696538565113974, 0.16860952809449017, 0.060742242192749624, 0.04852851931772652, 0.05158541806786453, 0.05581665178434237, 0.04601244867482748, 0.16648093994711932, 0.07207248813667065, 0.06837147348660802, 0.04504690041033227, 0.05553495382262939, 0.046497753868011325, 0.0325335833061619, 0.08055973635572682, 0.2560910229144691, 0.03754630192391638, 0.04492048217332308, 0.04477471479701293, 0.050920607223992866, 0.07534528675128391, 0.0472290476088673, 0.05520888927483909, 0.04003741971253951, 0.050983474587936964, 0.04774952552455498, 0.05473975838952175, 0.05063003736962554, 0.04049152334653033, 0.09328893074809289, 0.05499736604696897, 0.2790427536689415, 0.05166635532848545, 0.048478355178271176, 0.1476341157666417, 0.06454498296214739, 0.09340192173945353, 0.04211105848744639, 0.04207020670667561, 0.059080791747388534, 0.044537208259867365, 0.06587185704368907, 0.21624027821450453, 0.04481648529197206, 0.04731879823535441, 0.03901097135565649, 0.046425117660765326, 0.03489075163730606, 0.06163514426319543, 0.05841721422889542, 0.04854121467290364, 0.05074409899399373, 0.036500100390619496, 0.06385059385819586, 0.05571265195196398, 0.1583811710097644, 0.17933198391924263, 0.0486762197532977, 0.027548258935706817, 0.1019939096970714, 0.08675746734983997, 0.08573381211005887, 0.0693365088066128, 0.06538322164614993, 0.05765560273232955, 0.07235670356014919, 0.059347572716471064, 0.04766780785145594, 0.04039247243829919, 0.05716111094008238, 0.06672787021736645, 0.06671317484661868, 0.35743643220005894, 0.05215179978818413, 0.3093733819848901, 0.04768413813894316, 0.10257459970041784, 0.18735733050950182, 0.04928067548781189, 0.04805549274061221, 0.04433518678776718, 0.08488179433324682, 0.06042914460766364, 0.18300716665004013, 0.04926979020283739, 0.048261955313956884, 0.2912080350222874, 0.06066127023896263, 0.03259080035565399, 0.08433903060833825, 0.212663180289288, 0.04812436513759128, 0.04656894384062273, 0.0646824788466244, 0.06634350958162415, 0.21123068902116837, 0.11428511173709957, 0.042866509289467954, 0.16729518219288103, 0.1311507269819716, 0.049486490735091086, 0.06414687277946178, 0.057366293542084196, 0.062459144678579284, 0.04855620506589348, 0.07245382266218069, 0.09111842260495961, 0.05533988624193677, 0.09369957333925538, 0.062414877617017056, 0.12984778395901408, 0.07040996551561877, 0.049299778740177325, 0.05212091766622794, 0.0448170271498865, 0.050050954975648355, 0.1635265851354265, 0.21683122221677917, 0.07839747390838546, 0.05289747607357219, 0.09929953541813699, 0.04855262013860615, 0.04993503341681487, 0.04556225166089221, 0.04972925087675506, 0.06485922022669796, 0.09733728860672414, 0.08015008507787807, 0.041064637915553925, 0.314905439227928, 0.059919656104061046, 0.08846026412344424, 0.05914794974474258, 0.04035117936608868, 0.09302435223161507, 0.043706882906100634, 0.049262568386524534, 0.05384905885157659, 0.043271134000699346, 0.23764203798610184, 0.21103738995042862, 0.18192013309494615, 0.11084181166858374, 0.04856760598615379, 0.04340051859907094, 0.04413033708838236, 0.2146032253940229, 0.08647907394833912, 0.17619296865659062, 0.05492024448007855, 0.057670391829986706, 0.170583397186819, 0.06684768502751211, 0.05015992676811322, 0.22476554482096803, 0.048422881891764726, 0.17583193348151552, 0.1310785572169775, 0.04886941655771075, 0.08566716997441308, 0.04579305784219868, 0.09523169183374312, 0.09101215138467077, 0.039684257401004064, 0.04890283711985039, 0.18608977701134388, 0.3513183846350105, 0.050856701324035136, 0.07151988653843286, 0.04981964582413874, 0.1844364898869359, 0.04690006482508779, 0.05754000786931273, 0.04708726903747736, 0.1769352222730271, 0.08933354952302226, 0.028582770168411355, 0.15936684278150215, 0.048491555558548595, 0.046392839992441856, 0.04530300775929049, 0.03568384249527266, 0.040178835827085785, 0.22489107162719935, 0.2163882223571197, 0.17506949647414016, 0.044785138233532217, 0.15310209943882339, 0.04405075247638165, 0.04879365002584409, 0.16197321285284194, 0.1598194571084979, 0.061021543763603345, 0.11102072296885196, 0.047609611965710105, 0.04443984513271736, 0.05576728827393548, 0.038104892124321624, 0.05411283032703186, 0.03332739904902047, 0.10228271854979548, 0.05094492724619194, 0.045369299232526014, 0.17715258240286388, 0.04860777406319148, 0.11261313510830756, 0.04907154451452885, 0.34689953439147553, 0.2631736016324965, 0.049818882458473025, 0.042343851614283244, 0.05147763898382051, 0.058802766742363594, 0.044533978713050905, 0.08635294916572404, 0.051384228691583836, 0.09208376783802162, 0.15499502829142342, 0.058540889545544414, 0.048767972062733464, 0.046645662287311776, 0.055505046312297475, 0.06496893347558255, 0.041882015122974, 0.0480498679485888, 0.06095192185527064, 0.04890895035596551, 0.05585299935519971, 0.037893701924479085, 0.05833228719492285, 0.04649628471978277, 0.1864926503493002, 0.05023625410448473, 0.05136709007791138, 0.04525088318851714, 0.16656921135904784, 0.04439414941328009, 0.10582368444399066, 0.2701271170972207, 0.06823074230018558, 0.051167338913958665, 0.06313772384339315, 0.05702878105142235, 0.05911755028868292, 0.05912910873205024, 0.05225702808475223, 0.038145135695891765, 0.16682229432748866, 0.04438120875618062, 0.09335919124627891, 0.029532349722116394, 0.05506603514080055, 0.056742426376194754, 0.060061432513023344, 0.0706451719298341, 0.055897679443705425, 0.06582264697044996, 0.054564626278684636, 0.07194441215952362, 0.06813113074701191, 0.06399368771563216, 0.04352235223941577, 0.10896458238836682, 0.06578427779353833, 0.0477664623693706, 0.161517564814269, 0.10293078963635525, 0.059635741011794266, 0.134834930309916, 0.03468299661583342, 0.07981165562661756, 0.08558923744836637, 0.08694142466249932, 0.06064618609123447, 0.16591930384138145, 0.08266897281731246, 0.0573970884955912, 0.049476090952899274, 0.052683669520790226, 0.04733314575626145, 0.051018281286700704, 0.044533978713050905, 0.14690987666506816, 0.043618993741506636, 0.05096777658254102, 0.1829357979238769, 0.19730293140084587, 0.04915054767245343, 0.05707257140797818, 0.06473525435260809, 0.06250024084829572, 0.13321162885506382, 0.09133072985765314, 0.04257801338481373, 0.18770096845928208, 0.04499290447076952, 0.029350048172397745, 0.1835313486619388, 0.04273838653316589, 0.2101711683520295, 0.06818492470717787, 0.042162480222778194, 0.1121888528115057, 0.06646411143129088, 0.04716317728260938, 0.06654991467820554, 0.08010960210814846, 0.29577682508460457, 0.050922923226232215, 0.05159598411248547, 0.04049112268041637, 0.08567959761932825, 0.1699897188175329, 0.0653856770479672, 0.11394743026456468, 0.11518688760548484, 0.06673588747709229, 0.047834529342368697, 0.0611835043317938, 0.07114306381035908, 0.05822683180379864, 0.050317337744006665, 0.04849669432014809, 0.07429508677723183, 0.047436852166758754, 0.2711633034111096, 0.2000695329371387, 0.04864816688592597, 0.16343650485511443, 0.07059096713010002, 0.04605928920416163, 0.05510738927641606, 0.06831368604407274, 0.03857689295538793, 0.04244660085773315, 0.05015470286079548, 0.1507141210914905, 0.019915471486335573, 0.06319444158393155, 0.06371889023947915, 0.1610543339901877, 0.03849637245878646, 0.14693265987305223, 0.04322899625148714, 0.17908043148260389, 0.1775150630017681, 0.06829429348564647, 0.08376544636535041, 0.04551556202574909, 0.1993875265063929, 0.05007707740650243, 0.04821056307164257, 0.04542274061512283, 0.060482346381536295, 0.04893737276878344, 0.047680231207463605, 0.0479731874224793, 0.052650700508863314, 0.10774089520903524, 0.04649102509917705, 0.05690270914433742, 0.22470206898238235, 0.058654738953343374, 0.06327946175078691, 0.042638078782342305, 0.04639694001803919, 0.04906888210328068, 0.056823939623542465, 0.06705942446714258, 0.23056299410482062, 0.05931872445007811, 0.046714106133099426, 0.04451993875237904, 0.15342307629663843, 0.22790754781102343, 0.048049672825795905, 0.429671592214105, 0.049920602045753035, 0.02989543993477247, 0.041403260833469485, 0.06113062588487358, 0.07118204898753408, 0.07183425102167448, 0.12796508446277757, 0.08587093620937868, 0.03974771881882398, 0.05379495258292596, 0.05170050613339908, 0.09585944081796355, 0.32984752905508186, 0.07073924956046045, 0.3001093129849598, 0.049197589145230314, 0.04659798240128032, 0.05711067221312233, 0.054978086692206496, 0.12824765347852846, 0.06899080734359586, 0.047911648415518746, 0.06461137326539597, 0.08570841998312212, 0.03738807371405091, 0.05759920059275432, 0.06845997481017856, 0.09083440742284983, 0.054460728693927624, 0.22659157613656258, 0.050853939895621966, 0.047834529342368697, 0.05796743120732821, 0.046811404188181485, 0.04501982168112607, 0.08634715587738777, 0.050474636880225944, 0.04414745915368868, 0.08297710523591652, 0.047395153905632835, 0.05029877396243939, 0.062347317054250215, 0.06687146980714699, 0.05981479923960476, 0.06573917559950049, 0.10505333451697299, 0.04377926713094101, 0.05212956434448182, 0.05215782474535298, 0.09327544680928686, 0.040514945131200596, 0.04413294964505351, 0.0674506505252706, 0.04419785129243813, 0.0486890159101957, 0.028376724386410007, 0.04894518035589664, 0.07029425291686064, 0.04172627501751743, 0.04315178944772708, 0.04988758005944275, 0.04950137361643787, 0.08461109129294941, 0.04840786145858202, 0.19833267711552227, 0.06000933862550957, 0.047999976120369055, 0.05285951302515156, 0.03788923794079427, 0.0557029109647266, 0.03837841817657301, 0.2085882002699561, 0.0485739411627544, 0.044653328149274675, 0.058308128501049994, 0.055243180600747385, 0.054373061576911144, 0.2233695550848816, 0.1699334466179575, 0.048413050916907736, 0.03013960594169547, 0.05990466783341218, 0.0477654776655129, 0.049905142905427045, 0.047053687188785165, 0.1773212724740402, 0.06996188804822516, 0.050055018769750444, 0.03687641163923884, 0.04737795519603545, 0.060106480825041775, 0.19673157440007688, 0.06713610670018051, 0.045413133550337055, 0.04732547765907234, 0.17287781112649178, 0.052007430304822036, 0.041162580619557694, 0.05796307419136948, 0.07175359281320291, 0.0631585507528236, 0.05219327791010993, 0.04238512085450203, 0.04563026141797914, 0.2200835049808065, 0.05778259241192864, 0.29783303774451847, 0.10571762708048055, 0.05026245630584488, 0.039968206548564256, 0.28092088486201006, 0.04400610425257212, 0.051965311427969826, 0.05585218820723109, 0.14561244975089843, 0.05810999212042574, 0.04623165347342554, 0.05275699870053757, 0.039093209524678506, 0.050614839124611365, 0.041839866520163485, 0.08582805091543445, 0.04033585029833771, 0.22286837022883463, 0.05465006830557622, 0.2617927418660811, 0.10304040467005164, 0.05139102927211218, 0.051442784572395504, 0.12404334681859915, 0.08681396580166667, 0.047034891399227265, 0.04169276674250937, 0.14789410131254016, 0.050978740262118225, 0.05142262569333035, 0.0440105795311424, 0.08982633604670283, 0.0514140231557331, 0.06035205031620783, 0.05071576181155465, 0.10254568122481694, 0.06504959169391863, 0.17730020134009372, 0.05581619870911487, 0.06140818124169361, 0.2181739717405648, 0.039570831906502006, 0.06480607614831406, 0.04303659829550447, 0.07039702184203134, 0.0473017205187689, 0.10026130921161791, 0.04507618367763777, 0.05484645946448622, 0.04607509275868602, 0.05365495471378125, 0.058333406892076736, 0.05772183881105834, 0.04632656022472913, 0.08142905754450672, 0.04548254761600006, 0.06824082186405268, 0.057909631513885576, 0.05526944642457768, 0.2122512557162103, 0.03157914775924247, 0.08369259596668922, 0.20299323208632702, 0.04799413721037694, 0.14709928491555274, 0.0421159185193809, 0.03350341609313107, 0.05284239194458644, 0.06672873617577921, 0.04581061586085304, 0.05360035366470481, 0.13337866343721128, 0.044096231000896165, 0.056565979241362516, 0.05124566897821386, 0.07044813936596392, 0.2793891919901459, 0.17477896754222363, 0.045330093480622995, 0.04779331637576361, 0.334882049068341, 0.04868565984274895, 0.04539305914679763, 0.039371806982735326, 0.24312156987755726, 0.04385398850034113, 0.04215349726748813, 0.19026078287953194, 0.04608653749209678, 0.04939652804728439, 0.09269318709287548, 0.07956028993210992, 0.046556680923307996, 0.19875854977013463, 0.1302844909895969, 0.06235588877694599, 0.053833960868216485, 0.06026413603905488, 0.041598560581268866, 0.05951124740921557, 0.05595647075459681, 0.058360250327126786, 0.048687557387940554, 0.046668184185334916, 0.07306196040114113, 0.22646838312417092, 0.061647627917464025, 0.05659124198401664, 0.04487035478012159, 0.0502942215087961, 0.045995054983151866, 0.06932184892114941, 0.11365093486558184, 0.04751393794980781, 0.049173201562717865, 0.04670883889290375, 0.058109651395363976, 0.21366300990741052, 0.05680814884465379, 0.084258104467889, 0.05402065677400639, 0.05520294568985412, 0.13115220292719876, 0.05054697806899683, 0.04541091153139744, 0.04992895975831325, 0.06392821262640808, 0.04673878633926203, 0.07237692122480995, 0.0438214206916264, 0.04788238297493289, 0.04845656158607615, 0.04858827129864523, 0.13178052196649054, 0.05943768183849586, 0.1578703241408057, 0.045988915116565804, 0.044888302282499445, 0.17610676859150481, 0.09632275843287039, 0.04161845433910589, 0.13111648446677143, 0.1408692667328164, 0.06026987542350107, 0.04882375925619912, 0.1885422153488748, 0.0678291910432722, 0.09889103777646427, 0.050603325525944404, 0.05410394643811857, 0.08069259198359227, 0.03918166295508777, 0.19977864580961513, 0.05867478184288232, 0.041186870665007064, 0.04318060085655526, 0.04314524063130545, 0.057780976546553856, 0.023317493929357558, 0.16610504399312048, 0.060719562051608375, 0.159224370901556, 0.07008785952380923, 0.0459403960177897, 0.15047533496737375, 0.053588378895175426, 0.049114317450993095, 0.050037675724092005, 0.06340169755025549, 0.051701346517504784, 0.09722270719721345, 0.05048588889427783, 0.057229659745703335, 0.14057004719335697, 0.07804419772368579, 0.09862157747643086, 0.1564452743507837, 0.052860819640959164, 0.0480545484029079, 0.04147000465846487, 0.04349919193726549, 0.04955049285779945, 0.054077819081455786, 0.034516723610112265, 0.042398812206604526, 0.07045344405593665, 0.061862797995023165, 0.05857669988458306, 0.04454019850252057, 0.018155706047109532, 0.1281428634937358, 0.16523035610840292, 0.04639295130701235, 0.11227885178424576, 0.06479312604241709, 0.18910608494493278, 0.05346895130643191, 0.03429268102513822, 0.16475257171469904, 0.04654590925022446, 0.048917088086318644, 0.02915183277273769, 0.039415673406601404, 0.38799165533246543, 0.06155097432279874, 0.12796508446277757, 0.21714224833686063, 0.04583565942714531, 0.0407599210483817, 0.058858892305564105, 0.17481666944431998, 0.04801285014178198, 0.03950777063162421, 0.06577338305501815, 0.05425374003616161, 0.047266309363728734, 0.15808110181126722, 0.08346627243020446, 0.06305349177609512, 0.05388279578269849, 0.04884572054484553, 0.0669540978195737, 0.039622662484668496, 0.046142768703548075, 0.06349849165947784, 0.031282966926376145, 0.045221259552764265, 0.0858266634322447, 0.09332379560348658, 0.041896999830306696, 0.047006980495747946, 0.05549685502418948, 0.04576413519467823, 0.20570322562626125, 0.0479731874224793, 0.04783603384575954, 0.04908699473738876, 0.1900540376107595, 0.06119594813750015, 0.03460829684677776, 0.052626655553004754, 0.049179513562608385, 0.05785390015010816, 0.05100994098498896, 0.05571180851912945, 0.0369904035734311, 0.06626917109698138, 0.05253689147701403, 0.040627511623590684, 0.05106951119804255, 0.05092777075108672, 0.18252543635360183, 0.054208600705356505, 0.052020613944611445, 0.04699769450299388, 0.08984798553442819, 0.05625645175093348, 0.05150082280804227, 0.04379342818528889, 0.04931251907455278, 0.061573431728272836, 0.06891810159891444, 0.05862692152846661, 0.049671143692664586, 0.05115679773811303, 0.09334995535694923, 0.058084750540731284, 0.04186625098861512, 0.046645662287311776, 0.052626159101095346, 0.07067863101677328, 0.13305787342724232, 0.05456177197832161, 0.054832854983188364, 0.056566841707730714, 0.07118250562482505, 0.05314959324959708, 0.056999060314220376, 0.04347559040585474, 0.049236507245875576, 0.048457068539564524, 0.051881850749560934, 0.050713878544111864, 0.0454578268284893, 0.08583528842926322, 0.044212269101132476, 0.049249570829403094, 0.16906120050069334, 0.060965293989312386, 0.18618375196778666, 0.0684000804493303, 0.04651305916604216, 0.21316813628355757, 0.054010499902139804, 0.030296446319938886, 0.20490327515785534, 0.46833022198642094, 0.1190172154388756, 0.047431063185102665, 0.045239128271636765, 0.045367110287166, 0.1144846811396228, 0.09906456347731643, 0.20567294261491154, 0.06872792727018143, 0.23840211390777646, 0.17297002818524918, 0.058875168176062774, 0.046512321162609796, 0.054046001222993176, 0.19190681697616602, 0.2832662702554283, 0.04660236739895494, 0.05293521749057578, 0.056290450490934875, 0.051361361282438525, 0.19672372216007597, 0.06112342843213896, 0.0499134460992717, 0.057153509105980965, 0.06869990751978636, 0.03273856783795101, 0.04434452185019425, 0.04674858147153271, 0.0696110848563602, 0.051471950095618245, 0.058551243080206095, 0.10242964992353687, 0.050026177143987285, 0.056405221549449144, 0.21696745677064866, 0.046055143744317975, 0.052334422205334574, 0.0507616797623596, 0.06888806016782364, 0.05103311402361661, 0.050817585051060266, 0.045964720948130366, 0.03877281864261931, 0.09274633492353306, 0.06481428705828697, 0.051433323744171595, 0.054091416826540215, 0.10720863495787104, 0.06204076566748709, 0.04977439031023057, 0.03312995949520802, 0.052792052331720775, 0.049541714473875696, 0.065544608562975, 0.04174176521414694, 0.086169745601136, 0.06656620990544176, 0.16566856263283297, 0.16730866882033846, 0.05174374066217361, 0.10434088995328884, 0.05583163602216637, 0.05559462091857726, 0.0560050221149084, 0.021859117724578624, 0.055608747273651365, 0.05114213415592856, 0.07097901322126661, 0.059778621248721825, 0.0726861577880806, 0.046044201473053686, 0.06411513449325297, 0.07137092723008151, 0.050153737740541215, 0.06776583580023259, 0.05976693136870688, 0.04354052991989781, 0.16796979632751935, 0.20525578180048837, 0.039883530409838434, 0.19190994831986438, 0.19128216966582207, 0.047361517543359724, 0.04369630194233078, 0.2867928380067826, 0.047383147788008305, 0.060829140956288136, 0.04037845569138866, 0.06510785207805406, 0.10254847436119109, 0.06461137326539597, 0.035051056123252454, 0.042657685079239435, 0.05809715880162988, 0.046751461661389694, 0.18151840916041106, 0.07146590807456585, 0.039865284866978296, 0.042073773200930656, 0.04788388374085924, 0.06070344256998039, 0.03485459722872895, 0.04901621616407935, 0.04135240199683728, 0.04483774825635631, 0.047603235849542846, 0.041918514659736984, 0.11193888344686978, 0.2506486909505322, 0.036067375964535985, 0.055762271529771784, 0.04053000550554259, 0.06013901544367805, 0.13124256777288557, 0.058710351933096844, 0.0846888360518251, 0.04363844380715428, 0.07065908352768939, 0.0868839139382366, 0.30336046302449715, 0.04533559263847472, 0.060025242282389965, 0.04971491280067314, 0.05664041090795145, 0.05712488461771363, 0.045865568192966645, 0.04319683729175179, 0.06467091665343384, 0.15532786791038683, 0.18450355897745324, 0.08164987986562539, 0.035506576079427, 0.055466451396950195, 0.03055409545554348, 0.18407186989509328, 0.04196877776095363, 0.06814131307862853, 0.0493391989242495, 0.04507997618792258, 0.053866332471190215, 0.047386169931869615, 0.026316248885319804, 0.29633499443719613, 0.17523288886132313, 0.11366981215170228, 0.05878465889737257, 0.05770454003160372, 0.2100719430184112, 0.04562849922300469, 0.06802684627926771, 0.04997628023484642, 0.058742947038361595, 0.06676070016158789, 0.059573778837830695, 0.06733091670838984, 0.05270123113235739, 0.18361036440359263, 0.05210676315025023, 0.1829185356633345, 0.04705880500444396, 0.062073365536925516, 0.0611835043317938, 0.06596207449740568, 0.03327270282171718, 0.1309485535449285, 0.06601369044524746, 0.0433840557097574, 0.0476681167357015, 0.12845628900091907, 0.10167486176715992, 0.04770966783992048, 0.057618983745941904, 0.045431059313205076, 0.1000890355155084, 0.05576199778083282, 0.05055454794869899, 0.06555982916659621, 0.17663938252035447, 0.05398558356715266, 0.06060668261556523, 0.04771763361508362, 0.05829706539956234, 0.07004169781995227, 0.046920075905397, 0.045221259552764265, 0.057063747471154766, 0.06785727701991767, 0.05319936086690337, 0.05459344564968245, 0.13118013143828708, 0.18426562349124306, 0.06810809923029482, 0.049300312764895056, 0.10756234076857471, 0.033590650922712385, 0.045351502798670715, 0.042743173991597966, 0.044566482172736545, 0.07567647049107155, 0.044662420533578516, 0.18734262274807223, 0.11267125012486738, 0.3256511808550563, 0.1307191121668239, 0.10689705464578049, 0.0461765648440155, 0.2414277602939431, 0.07328321135648116, 0.1809528930110072, 0.045395629572250344, 0.046630640095425106, 0.14984326919615776, 0.04521258006047784, 0.12826902350112843, 0.06124740348896389, 0.029592605821031036, 0.04952009406363405, 0.08428241930175191, 0.10481577947407228, 0.06781860500973583, 0.044697196551054565, 0.08407656348713456, 0.06340324094060368, 0.043084049649528194, 0.05577275591450663, 0.04452696474046889, 0.044729853323728155, 0.047543899950842065, 0.1666264698168094, 0.04829040787640628, 0.04380728106646763, 0.04197126658073872, 0.06674366653213512, 0.05641864301431249, 0.07128588681288667, 0.04639694001803919, 0.051508917854084776, 0.04695819502581294, 0.04051118629535177, 0.04588675706946995, 0.05888922288163215, 0.0534074399971374, 0.047217364387284244, 0.0438059191743831, 0.04774214878914942, 0.16323024629919558, 0.05466745673712414, 0.07096292008069013, 0.046553422287671245, 0.045883970158076326, 0.04913873142797342, 0.03487377117820361, 0.34010611834685306, 0.04101666864690187, 0.07245087830659262, 0.050118543547393, 0.039392124180802325, 0.1670091728617703, 0.029115998630364057, 0.23690243825173318, 0.05952238771362302, 0.04913742999880741, 0.04100361190665678, 0.06551487041750075, 0.0559572728055642, 0.04400034535984212, 0.16010881098634852, 0.06089273790757958, 0.04761529784752086, 0.16615574857885396, 0.04249892329506128, 0.05226907253272957, 0.07343416804797556, 0.04865688779095468, 0.026078229865812888, 0.16888546204869018, 0.036944922065918574, 0.06445019106772364, 0.11162385368334851, 0.18242336530633013, 0.04829040787640628, 0.10063644097164542, 0.04834883091182272, 0.048028113564172296, 0.05892261865410357, 0.2419234034675448, 0.054965488324627554, 0.04530115897624399, 0.0780604905302481, 0.09361928823392135, 0.045539258756761083, 0.05356211299297207, 0.06473991799361065, 0.055502979375510096, 0.15489755952612425, 0.18067654322272345, 0.09675039488126887, 0.050303453573791075, 0.1069986473388978, 0.04865763823060497, 0.06230325436788593, 0.056157428346899664, 0.08388795313911027, 0.18584759882078514, 0.06480126091508111, 0.16145199048418388, 0.046784699255373756, 0.02755132237015321, 0.04553473613162727, 0.044212269101132476, 0.05676900057414332, 0.34059286364418906, 0.05099723511115536, 0.06726609374682416, 0.07175011372914047, 0.043181254887967015, 0.06338673092897576, 0.0889434198134632, 0.05595542975130166, 0.0670896801496284, 0.05965648212280022, 0.05161969020013067, 0.03243523534554271, 0.0547521435320217, 0.044626847156930334, 0.06697969800827344, 0.058540121602062, 0.0663803917489307, 0.08660061708511993, 0.1774078685082826, 0.03869226864570132, 0.05992850791722148, 0.0633318120960116, 0.054846196572602854, 0.049920634177009635, 0.06238958856326576, 0.18001330320152403, 0.04820636683365614, 0.18764397842387426, 0.22136300229604355, 0.30748708053422213, 0.051922839445756444, 0.14325138783316607, 0.046451689758070625, 0.054140000288575636, 0.07995105509508543, 0.06125366294445719, 0.10056218131730205, 0.45109324246363347, 0.05266184056995454, 0.053923237592738434, 0.050155588496892105, 0.1630007089556983, 0.044205790322018455, 0.04265451276579665, 0.06119086010547453, 0.05713574263249679, 0.04754769310559554, 0.06243130468952796, 0.046373131870932144, 0.06196282533761246, 0.17889131584224105, 0.041323514665183164, 0.05484222057005474, 0.17466037350367533, 0.04842087504325537, 0.19611522863821113, 0.05062965829917165, 0.04779992370971752, 0.05988257281349028, 0.04154706453965929, 0.05349160768484486, 0.04888682027330245, 0.18836416722936664, 0.04503014887291001, 0.1611702601064075, 0.17832913401397948, 0.06885871837904774, 0.04482022304162957, 0.05696290979884722, 0.0640334075058097, 0.02261280518722504, 0.08475806334090594, 0.05074030732159715, 0.047086632113379066, 0.06263850005982248, 0.054238012363395156, 0.1632065603927872, 0.0718323761757889, 0.04209921152816415, 0.11171375171465944, 0.1837925320329127, 0.05903917794831122, 0.06079933131234404, 0.05377837574211002, 0.06132664861337442, 0.04948722376440331, 0.0619569822739367, 0.15515429552876694, 0.0605641641592387, 0.2891257373383275, 0.17309207202179094, 0.055165749118711555, 0.053186017309168956, 0.05972276222396403, 0.055157079488975955, 0.052489510144250295, 0.09453695072162793, 0.08797962400194004, 0.03392074135568813, 0.04750759103156714, 0.05615999256224438, 0.06172700645766699, 0.15636289078361484, 0.05720627997817228, 0.03626223679530975, 0.09124587569773229, 0.05959058176027171, 0.14697697934079768, 0.1728479173953046, 0.16261474506810286, 0.1841146848088785, 0.05041211602118461, 0.048911989944681045, 0.05586566647184997, 0.05015189733424327, 0.1540540221919473, 0.04086050559361289, 0.15465701787654249, 0.08734555289218042, 0.17439649035721994, 0.07086363400306853, 0.06609784988479088, 0.1730441157098594, 0.05567359171866469, 0.0892083632234552, 0.09320284444823407, 0.5019008314643165, 0.055791143885684166, 0.04793904951176336, 0.043392555100396864, 0.048170574069011846, 0.2059344962897487, 0.05346781208150074, 0.05044820947460821, 0.04365311327777432, 0.0988460149157325, 0.03987277608755472, 0.059131784444638874, 0.05155747215639378, 0.17711829618424887, 0.043621956516264715, 0.051259871637252895, 0.05743835732439545, 0.12929852165480188, 0.05800298880725721, 0.20614207202262572, 0.03961745330161513, 0.057133735876884285, 0.08746873540772415, 0.06789453829961789, 0.05058935775437613, 0.1677785798319742, 0.1795457820428628, 0.06250890907948992, 0.06111427455412893, 0.2844015126237253, 0.059425449969524535, 0.06009306638449914, 0.05803404399593533, 0.2226172943905103, 0.08248455186938647, 0.042677428326370045, 0.19270022215833948, 0.07000068343396317, 0.06412396125529485, 0.09698419864901127, 0.0706338825067247, 0.04313138775012671, 0.06004808442914839, 0.08724453262220767, 0.04710870515534483, 0.059781633180527094, 0.04504400175408874, 0.09783846325057752, 0.09024939599316831, 0.05004711658528768, 0.06711195120387903, 0.38641745068875727, 0.03599046543824565, 0.18710721027836508, 0.07311335311020364, 0.057559143124019815, 0.08581262032123213, 0.047386169931869615, 0.061410289585862164, 0.03757822301473539, 0.0607763181683591, 0.048044737133095296, 0.07053905421017398, 0.07192932400707819, 0.1735822805758409, 0.04072618722619834, 0.059328897882733295, 0.05708786795756858, 0.05034841443837002, 0.07076406655537469, 0.04842087504325537, 0.09398336987788071, 0.07043446817224557, 0.1287810817052355, 0.09887059458808406, 0.04900284420988376, 0.053807409523883326, 0.08439392272699475, 0.051054896463449434, 0.048644583536878706, 0.05211789696886557, 0.05667158154422042, 0.043191947403457887, 0.04039247243829919, 0.07035905091086929, 0.039961641957071616, 0.16365141806518618, 0.21793796745532956, 0.09249898085096118, 0.052825161781000524, 0.06967933511669973, 0.051353805500257844, 0.07122436738869466, 0.05773713536064874, 0.04771818896385481, 0.08544453316099226, 0.17207073812444573, 0.06288088344735482, 0.20311303961612862, 0.03879852106722299, 0.0438771783511038, 0.045727927782096146, 0.04228755026011655, 0.05901286146401295, 0.0718121123824023, 0.044496820924198835, 0.17627797837144432, 0.05242767967766, 0.04591332232060076, 0.09871664962754242, 0.048811408639711604, 0.09174063449232339, 0.05085250113242398, 0.056080152140966, 0.18411155340746244, 0.05731295670547577, 0.047088542473583926, 0.05773713536064874, 0.06565084491089478, 0.05147262407067775, 0.04985824366785655, 0.053154013136136116, 0.04714828916468473, 0.06755677972776437, 0.04870137560829322, 0.057709458302122554, 0.08549986859971784, 0.07129396231809185, 0.06212610416878171, 0.04533295168851728, 0.04431474236900613, 0.048426908172511995, 0.06204076566748709, 0.1114628495837274, 0.051556815158265754, 0.07809199817876253, 0.05719156787413264, 0.04382121845041304, 0.05039622575980656, 0.047001973906262595, 0.09207419303864858, 0.02967154936596455, 0.048042702018649804, 0.05076236235813536, 0.05787548370222549, 0.06055290935493793, 0.05431755944033943, 0.10307673269473448, 0.16761111836288412, 0.1625169198063005, 0.18387098658903026, 0.04380728106646763, 0.05916348498881424, 0.04889282277679972, 0.15325295038378114, 0.05720627997817228, 0.04681181753623207, 0.030274012660248033, 0.08268323693658167, 0.08532476122794634, 0.09562354833017606, 0.05989969945067174, 0.049134667890865125, 0.06222966491020314, 0.05787315361268112, 0.048719944957724894, 0.06682439856232787, 0.08502634578028993, 0.05299473509054186, 0.04604870524317054, 0.06499803260505271, 0.08504545284251876, 0.04903091552096412, 0.20506240879905757, 0.06582230028927585, 0.04558287491834779, 0.04444843551123615, 0.10120859325812961, 0.05001574779628686, 0.2869285567297837, 0.051222387176254186, 0.09276302968488798, 0.04512981387572447, 0.027824891073247718, 0.05777874436343306, 0.04437611402371601, 0.04453783676960403, 0.04829040787640628, 0.031173900563573505, 0.047162339604352434, 0.053382097297331524, 0.042362635665881894, 0.03748850566132348, 0.07044607380688296, 0.05831761551799469, 0.04852281324988415, 0.036828652728821305, 0.04143093623015681, 0.04601025048231762, 0.051741191145490625, 0.03939635549699542, 0.15776801335434198, 0.03933832151626215, 0.09175600175847409, 0.16146938408093256, 0.07806889086138909, 0.04970715253677813, 0.04575387014250834, 0.06590075619850716, 0.043061525889510406, 0.04440499952375009, 0.06304554653826416, 0.04513467433040558, 0.14797748873129996, 0.07047836298469314, 0.04826916701830116, 0.06224186412750485, 0.06545080451973298, 0.04522624617692154, 0.047083829880977514, 0.05902714123324726, 0.06024773746048298, 0.04718850660227021, 0.09450645342854026, 0.05020844809790489, 0.06430341746271173, 0.0488429354918267, 0.05906980702635785, 0.08956824118163112, 0.04793948712576945, 0.044625630343346746, 0.04847273943649117, 0.043715678357673496, 0.044212269101132476, 0.0446022135720391, 0.052698318282111606, 0.044212269101132476, 0.056195348419635485, 0.047369687102897386, 0.08167965472903188, 0.045044046732650465, 0.05091085907464583, 0.0391825027932512, 0.21446024969444638, 0.05595478649977536, 0.21460249225908304, 0.04762034774834226, 0.05986318122137356, 0.1489422164215739, 0.05726446095635836, 0.07527853324346806, 0.040447417110160325, 0.04944816272938446, 0.040826646949790206, 0.04631147944346497, 0.07171728441766223, 0.0863622256852041, 0.06649836607006264, 0.08085546009305541, 0.27673160624517706, 0.03248142531238694, 0.0490672583826136, 0.14341154801285955, 0.052949627145282945, 0.04362736659352477, 0.07984517231003992, 0.04848207316892214, 0.04264749612087954, 0.059968329226460844, 0.0694664529610724, 0.0402364932088966, 0.11176810633926205, 0.0420327406075228, 0.04841192916167414, 0.06937913118924674, 0.043688206099422776, 0.06556690243986261, 0.05059492388359591, 0.05643621525033777, 0.26311119296754504, 0.04202111403452214, 0.11346911118967008, 0.049160230881715096, 0.0537098870352956, 0.04711949793534009, 0.04999556689417611, 0.10570097994590798, 0.04383946174278925, 0.07060231448512738, 0.05068175956710688, 0.05281538902669809, 0.048687468411140467, 0.04394365399555424, 0.058360293888583006, 0.30491548387280903, 0.04164032924184673, 0.030280038965287866, 0.06147959144902066, 0.03916152635208017, 0.06320989847081009, 0.21783824961300052, 0.12424463084347773, 0.04793621662672932, 0.044525558950480305, 0.07001944883115084, 0.06839534061466075, 0.05529748802947827, 0.06154674350691971, 0.059785925643686955, 0.45086762387512624, 0.03898814318684707, 0.07054437343332318, 0.1461342194252634, 0.22195318172130535, 0.16145776013071936, 0.06182091430852407, 0.049952993913725624, 0.055455704777457954, 0.04080067008374831, 0.05111649970718409, 0.17998255677024871, 0.08334173069546756, 0.06514105805480613, 0.05764900802781117, 0.24840646314988243, 0.21102491315709232, 0.052025840105117904, 0.02427946584664669, 0.04792194902266687, 0.25624667341029517, 0.042769999222401246, 0.043061525889510406, 0.05020022592420942, 0.06950233074545241, 0.06643099160779736, 0.044834856945097264, 0.08603212019429186, 0.044096231000896165, 0.05980024929212817, 0.31433795119139485, 0.04989291731361232, 0.06498423002517296, 0.08462931172470535, 0.06081709449909973, 0.05022388152895741, 0.04289252612196916, 0.07029434664601819, 0.05949610690187406, 0.0905915996473346, 0.14651439936324323, 0.05070274815269326, 0.05242632694092718, 0.21400094926454785, 0.09162480520674814, 0.08701859568388397, 0.04924479689005202, 0.049751887940478176, 0.04532188555016712, 0.10786598078818724, 0.09159158097385266, 0.0710693971139025, 0.05453827993928459, 0.02962843595482858, 0.04763366070566031, 0.044212269101132476, 0.10817877674461532, 0.020326013186154047, 0.06813647770332595, 0.0380869664666645, 0.09736801098902778, 0.143515563904272, 0.1928224376466011, 0.044703675330168585, 0.04117076489565182, 0.05903185651529691, 0.16731491100030876, 0.04723641455016086, 0.056414947892795296, 0.05659671280992613, 0.1919239923476554, 0.04943367086735715, 0.053354220780971934, 0.30327760732624576, 0.09481229738112536, 0.04937789529109658, 0.058552077144813634, 0.06976491850854347, 0.18644126282750262, 0.048362170669968035, 0.2253855759564716, 0.06437609228621251, 0.0481248874836177, 0.05683982022333243, 0.08021290651441744, 0.08625614087385511, 0.06024797630550242, 0.16172094998607506, 0.04570356051551313, 0.10408346460072368, 0.04827736818523521, 0.07766405711413418, 0.05915614575141827, 0.05750627454705223, 0.04194686728380905, 0.21436434717909844, 0.10722533251695493, 0.046246349048110647, 0.06449732370137765, 0.041296479755101693, 0.16896029588016334, 0.06140818124169361, 0.05249673834758764, 0.06804146353160155, 0.03014062495149581, 0.050199417063848076, 0.042753629149593915, 0.044672001303393466, 0.06697359153975783, 0.08418910490758783, 0.05652890720188821, 0.049693178263174854, 0.04394119315525936, 0.027395526242734697, 0.05026651663383633, 0.023790756324141023, 0.06592072912996973, 0.06541804349859301, 0.03183925086359527, 0.11074984231714247, 0.04465259116584646, 0.04711098353606738, 0.040354476858475805, 0.07418345888730117, 0.2181141712226621, 0.051390830251016324, 0.04262206407695902, 0.04527806571789503, 0.026248618615316834, 0.057135777294998205, 0.1642008133097057, 0.07180825568937509, 0.037718005231106085, 0.07779243169785736, 0.039192610881956476, 0.052018103096062016, 0.04330380489676015, 0.08424924577275276, 0.30263964799472914, 0.09292769808300827, 0.046161416341539634, 0.0541340040791861, 0.19055098067051762, 0.049249570829403094, 0.04727234249722414, 0.05781278579951585, 0.052523794262056486, 0.04192761943360606, 0.047794194833343004, 0.04439414941328009, 0.05298765569357161, 0.10138366160698428, 0.05334155366738154, 0.09162028912363122, 0.062271564725206355, 0.16143786959654918, 0.04581671785177859, 0.19012103137872327, 0.18158501766103252, 0.11204683610554457, 0.05534365763254137, 0.04820220547678351, 0.05912831415154815, 0.06673588747709229, 0.04217796888309977, 0.16498684612094505, 0.06622240247881726, 0.1301746697115273, 0.10917202011370919, 0.04486749706285599, 0.048075400560496286, 0.055010436009833866, 0.09195746798055744, 0.07249142560385967, 0.04582913928566853, 0.08460047332596021, 0.04531055206964792, 0.06701472307776199, 0.043098086077906515, 0.07006356927717605, 0.07885968850426056, 0.02855348463682185, 0.031342008633850844, 0.061103242282132555, 0.04131804163854389, 0.04475518276940234, 0.04808325161164128, 0.09581630213406492, 0.25062553695366996, 0.06705172620591456, 0.059191906841487556, 0.17884097980412536, 0.13361783002806102, 0.18374060627133337, 0.05272292363628216, 0.17497999695309757, 0.041484606812418494, 0.28820730644401443, 0.046439211434955024, 0.17946772583930473, 0.04854449117724075, 0.041723367541541996, 0.04895019470132806, 0.16147771923444793, 0.0426399815210906, 0.18708537942228082, 0.06546683506702203, 0.05793939416607508, 0.043727624675939276, 0.05613953507654541, 0.045857218115589814, 0.17724978956366982, 0.04829040787640628, 0.054091672596528806, 0.06209601080611539, 0.05835339169545882, 0.0535431633950236, 0.09118164413115964, 0.10331177197404481, 0.13172109075666194, 0.04547768619840232, 0.047273554441017045, 0.06026730727298507, 0.044760198325005725, 0.05305669910017313, 0.06107359323044348, 0.04856232135265055, 0.049529219735250804, 0.04684583782266531, 0.04494194988554224, 0.05129672168841359, 0.051907663122827304, 0.07144244877930987, 0.05255505840131736, 0.13194400787893906, 0.048965283677791335, 0.08204666683179178, 0.05497200948805112, 0.04416740906508579, 0.06638655171175747, 0.09073347259244402, 0.06517287558295312, 0.2913942415251133, 0.20502384131073992, 0.0479386408323277, 0.06969889488640858, 0.04671020246191825, 0.08039810369469776, 0.031146342514892705, 0.019187848141129615, 0.035224674616313574, 0.05164801419367809, 0.05744750396975733, 0.049258554803166314, 0.06762636983199628, 0.06180207555358711, 0.031907924595789845, 0.09237621931941954, 0.28231005620795, 0.05077584801026881, 0.1681988008498347, 0.15089163449135623, 0.047161560026631695, 0.048508974505411744, 0.15942427864795256, 0.09450645342854026, 0.06173451594823324, 0.04719927894935205, 0.03295150530682101, 0.043184537505826785, 0.03607151780926579, 0.1847113427796873, 0.06543772134683783, 0.049172746240792084, 0.041585676653753324, 0.030913970454485767, 0.0493303954959744, 0.06437137525695333, 0.05319768011565566, 0.04809045838814665, 0.04650738256701149, 0.04879957478170422, 0.04954284893764183, 0.06179862331610335, 0.3248464954331304, 0.04599425107458424, 0.08268940849859555, 0.05915524845019056, 0.07281141280981887, 0.12840211748237054, 0.04703417349872866, 0.20919032660720188, 0.044358474707586186, 0.1845780088280248, 0.07107199789423428, 0.04308468230615042, 0.04772013462826658, 0.04628573310573059, 0.06393126738721255, 0.08009734732925806, 0.05872175783149196, 0.0464407491043638, 0.060993025751263405, 0.047436852166758754, 0.34145301320961136, 0.03517874972379271, 0.18457599592925955, 0.05232269891309117, 0.06686775701650273, 0.08333573481723197, 0.07823553380028528, 0.04330202195625278, 0.029272228225423788, 0.0427590692444174, 0.04376795482120098, 0.20117734664892858, 0.050889905463399415, 0.0686541425882864, 0.22642269236986745, 0.06115556461723959, 0.08510818081787623, 0.04873309379474864, 0.07104857114268001, 0.04699011212768736, 0.19897488526673046, 0.04932334540280335, 0.14014277162907038, 0.046738539580781634, 0.028131675571677492, 0.05934374485343681, 0.043271134000699346, 0.04345173039228328, 0.04438018587769018, 0.07060418933101295, 0.05371820626168829, 0.09262780408400595, 0.09293407420573806, 0.13038132517068562, 0.15953732031874046, 0.055032476519334794, 0.046303914360001384, 0.07220327507085843, 0.06100885533458934, 0.0512549280662657, 0.04927344444225868, 0.04396524687609791, 0.18422606323629862, 0.04399602060333252, 0.055431667202971116, 0.21261882212322245, 0.04332623077097428, 0.09020141747330906, 0.10852160819580127, 0.03651532036227145, 0.07695499615903395, 0.04589586695608433, 0.053925551405662, 0.061111905085034716, 0.051226685407210544, 0.045940614626348235, 0.07984545666173776, 0.0533756686126563, 0.050603325525944404, 0.04937997590286384, 0.049526082884446085, 0.061883145391008774, 0.04445726048617677, 0.16174781977008446, 0.04654994676152079, 0.04710870515534483, 0.03360153906892311, 0.18224829236140772, 0.09437962616872583, 0.04582604062531102, 0.07926648794433143, 0.05900161857013836, 0.05539522296352566, 0.04902281958082952, 0.04020918714586603, 0.05156308673557645, 0.35174424062210263, 0.050060715141048547, 0.2940688428400985, 0.0664303493264573, 0.040822588688859344, 0.05093637119646371, 0.05774363480834462, 0.048659328075607765, 0.049028602487918974, 0.038845143714264625, 0.105634269664706, 0.052698247138932855, 0.053446801852830295, 0.059829970005661676, 0.06020809028141225, 0.05189734449174342, 0.050398014039899415, 0.051592091637903556, 0.17070954509302877, 0.19577249231043625, 0.11561604170796322, 0.14977168055962814, 0.038826676441405174, 0.03935630592414867, 0.08422158187370046, 0.04816717543763482, 0.053673349781493296, 0.029363947939848888, 0.08277502314433485, 0.059502130631634176, 0.05779381402517826, 0.050601826197771864, 0.21630949273340813, 0.20716975461044668, 0.05933778893878891, 0.06966360487403256, 0.09068242636035725, 0.048546827888641765, 0.049440955776366535, 0.05120468661628416, 0.06747452238218093, 0.09310187754890432, 0.1078481131249952, 0.06335542093788518, 0.0497796635874952, 0.09319564387731119, 0.05602030567784773, 0.04220683075094255, 0.04460247360390535, 0.09642143905299143, 0.18660620914679138, 0.047811313268281225, 0.2167593685896248, 0.045350031759852444, 0.05604280249568931, 0.044620294002605865, 0.09066905032701847, 0.05788031252250684, 0.053053102447834705, 0.07016778083649818, 0.07004862273974419, 0.22407379661485208, 0.04885354023620734, 0.08906059191533329, 0.0557800541056169, 0.1806967327953399, 0.19571560335682756, 0.046544460561048544, 0.12553053536067368, 0.20203764698245208, 0.061532410946816087, 0.05173671443319504, 0.0586980783887745, 0.07075019671284337, 0.057247670216379616, 0.090969197021589, 0.0511416210598548, 0.1646220923071426, 0.0427530864495853, 0.0628444431544244, 0.07309903210659865, 0.044885045580442415, 0.05855876793143837, 0.04463785949467364, 0.05748228632585853, 0.18558574024320545, 0.061966985415982764, 0.06343719973480609, 0.05253646119570053, 0.04682102270739391, 0.10715860482555561, 0.048481843370736584, 0.05720175176255694, 0.11793587963230787, 0.12434070984264142, 0.05467679944652276, 0.05416468134590142, 0.05802152855808922, 0.17118730485122957, 0.04851071862904212, 0.04518393565094068, 0.6679546610865479, 0.2313700108544597, 0.11240407853148539, 0.0469155141327173, 0.0493206189677145, 0.08624625059746718, 0.051370276581441096, 0.19718064761868054, 0.04375401920601212, 0.05058892071804778, 0.037202414720668424, 0.06340317560186728, 0.15038276474416223, 0.0666414417143065, 0.053472507776253425, 0.0823149773527479, 0.026458121241593975, 0.19471841859030287, 0.045131748115174564, 0.0592089729017385, 0.1080879168169385, 0.04823232848122039, 0.08190415770982674, 0.24689803157927417, 0.21734421792458042, 0.17433107899917982, 0.09870274064257753, 0.07175011372914047, 0.08649972323232347, 0.1517800648245358, 0.06718935494579231, 0.05156659770019753, 0.04136015846412394, 0.04830691141737597, 0.06937007104686216, 0.052655123814894234, 0.05147513867951294, 0.050038449530022094, 0.052237260020294336, 0.0450670436843369, 0.049605940376147274, 0.09737949138063272, 0.054833136815846686, 0.20641997577214907, 0.053383297438893335, 0.06755520632047828, 0.08408455438833687, 0.14954829178295656, 0.04902006690063458, 0.09436103378998595, 0.045593536497503494, 0.04850337607115188, 0.04632258393876426, 0.04771356077523894, 0.05336217976727342, 0.045659282722830034, 0.17118254142167308, 0.07823654086619211, 0.11238533827183433, 0.03597451936037235, 0.026893135920068235, 0.0718498697290111, 0.062317103479549746, 0.04333458010882821, 0.05228236316048681, 0.0684276778635016, 0.04645798024038538, 0.06981521633428009, 0.04724549905945724, 0.06241256870767553, 0.31546575227684026, 0.04932334540280335, 0.04710366104308193, 0.043155990603992424, 0.04787209675718696, 0.05546827073970339, 0.18547929183744427, 0.046167095806714464, 0.1720305399880798, 0.051247387227693855, 0.17464021713687874, 0.051636767842505246, 0.1546454062835358, 0.057407999420200806, 0.027061689260416973, 0.1663168328308757, 0.09238896989986582, 0.048049672825795905, 0.15877289482645693, 0.09525411065292652, 0.035687465438422133, 0.16682581164719085, 0.05319675267365509, 0.04805744665286849, 0.1116979472788914, 0.041894667062505594, 0.05959781407216704, 0.08612919109801898, 0.1672337854975922, 0.0860872174519062, 0.04804461993434421, 0.08132206053779632, 0.08332389462922225, 0.04913742999880741, 0.1557854742574274, 0.04581640210420471, 0.24070865501053185, 0.046698023948402445, 0.03526401816415746, 0.3069801634373528, 0.1177282233011552, 0.05550214521193763, 0.044069800655216346, 0.04550538444052967, 0.06670440240187187, 0.03541367432727438, 0.109751107647871, 0.12705194067649522, 0.26617011798533174, 0.07143015256091989, 0.06719507203475988, 0.048371474764785656, 0.04386437327430061, 0.10279520730630057, 0.08493014375606124, 0.05142262569333035, 0.047124077959759716, 0.09603281957542374, 0.06573111664386258, 0.04607536311775227, 0.0882620614738473, 0.0719282877568289, 0.055867757415973565, 0.04602237823578551, 0.0612554926891055, 0.0459213950878674, 0.057249508551413725, 0.05324656134458417, 0.06429702832299382, 0.03756295456867399, 0.04569697500728249, 0.046358961102498285, 0.05573590552063036, 0.2165674381708171, 0.05096955109132174, 0.06820401357574889, 0.035660322226054586, 0.08290332235145963, 0.05548598888637869, 0.045988915116565804, 0.045890340395666515, 0.05352314892398834, 0.23638524652214088, 0.05186198862988277, 0.057091138908956, 0.35761505895849655, 0.07993372120254624, 0.04010754937472195, 0.06273658850068305, 0.047339434889638314, 0.051109838690967364, 0.04597379603349029, 0.05835888954544918, 0.16928112765009581, 0.13543380678152295, 0.046439126516045134, 0.16175141538430776, 0.09247086694367956, 0.1577044468152891, 0.1808373028416942, 0.044766378936885266, 0.060277933550457866, 0.05194844152799968, 0.04661917496770884, 0.05637586810262833, 0.05136744067236162, 0.19132457499358713, 0.042802120813597175, 0.06941169738925303, 0.06816729923889096, 0.0584220441830717, 0.03989532001307311, 0.04868743079409721, 0.04636306485072928, 0.046935303841188124, 0.06559339471400363, 0.03873611342598626, 0.04197286972310473, 0.06211797677729387, 0.05531549130109699, 0.1714534652728008, 0.04174176521414694, 0.04575235345645635, 0.13103285146588797, 0.04623696509792295, 0.047431063185102665, 0.07199722005337669, 0.04532207340273639, 0.058664970776030986, 0.04982491464450811, 0.049799078045925226, 0.05227827460205013, 0.04954793265525094, 0.07091916793712091, 0.1454619148613368, 0.04587332836773473, 0.06898075671463325, 0.14881116898628627, 0.050594661424057434, 0.11118185918420617, 0.07246110419288486, 0.07028177961965745, 0.037352150017766594, 0.05069983361837057, 0.040292980475045655, 0.05468597136926811, 0.05278223105834631, 0.08324703558591318, 0.048413050916907736, 0.07139897289400271, 0.04586786079213713, 0.04698339519838726, 0.05897512276181134, 0.2026628808594661, 0.04069878905726688, 0.0661170150100672, 0.07543925534987225, 0.05339974488375346, 0.04858159930102472, 0.07242665024505707, 0.14978569777986717, 0.05136709007791138, 0.05614017808374229, 0.16707448421393362, 0.04979279412832498, 0.04205717017125794, 0.09344368929627687, 0.028622670327542045, 0.07079788441515651, 0.05178624421837837, 0.09096215495727962, 0.13135436891229782, 0.12293979804408803, 0.05442696050769181, 0.125260145811728, 0.05217139327794981, 0.049366674097894296, 0.08523801718038584, 0.15195168796870992, 0.22283501590245036, 0.059847242740804774, 0.035464368907636296, 0.04750425318468784, 0.047407245286944906, 0.0331267310477596, 0.11544313215634004, 0.05247050951682766, 0.06771326492654761, 0.24892806304676318, 0.10789424788448826, 0.09547232099540792, 0.06510454821562661, 0.08111438457353036, 0.046263951366479414, 0.03364621552627537, 0.09373113245972148, 0.21637955205458287, 0.11674005722089063, 0.07116237088193357, 0.5272196552580743, 0.0851686651375556, 0.050049695413694036, 0.05006634129440339, 0.10629384881750842, 0.048700011718977136, 0.03689466895524491, 0.050643839691693816, 0.04371108158219993, 0.03675519525385406, 0.06577841397279702, 0.06559040989942594, 0.054213038617995576, 0.03402954532642993, 0.05513088877821548, 0.04611093480184034, 0.05193627032203474, 0.17547766632404294, 0.19175612599088782, 0.0442274391248384, 0.16930206833960526, 0.08960459416912403, 0.0901794082203582, 0.0880912100527397, 0.08556242763817457, 0.05021098101841736, 0.03609968417257294, 0.055478046437873706, 0.09235688006884729, 0.0649833081057768, 0.03821897025025547, 0.06616862979759763, 0.05534369678696727, 0.09354957656722122, 0.046936155990626935, 0.16874430562927986, 0.08322440622189636, 0.0607241169187934, 0.046623687949258835, 0.044004568015606586, 0.04979005839576777, 0.06140563009630431, 0.06118111535038662, 0.04623015248352259, 0.06354714867708078, 0.05099294487358258, 0.06309020514623086, 0.042553857030184605, 0.05462944392787607, 0.30859066885767594, 0.04763592101398695, 0.0403474505693566, 0.055611701153592985, 0.05463128404766463, 0.052454857924111475, 0.09625381045383005, 0.08073972261282532, 0.06665351966163024, 0.047519376992587514, 0.06775169186648763, 0.06909757358140475, 0.03991151694064883, 0.1666121495181753, 0.06150797017679697, 0.20582028860360427, 0.0526664797328928, 0.06603701131582762, 0.04599085483774645, 0.04428644155461315, 0.043792179988218244, 0.025140836660986043, 0.04772868331170591, 0.049315507607157485, 0.20348436730127284, 0.10053241110033685, 0.052325182992765916, 0.10209282281716314, 0.07347046223788964, 0.07110321591080501, 0.04953043212506376, 0.18263114731824548, 0.05688170515717387, 0.13485732228516883, 0.2865374790261468, 0.028003993437752547, 0.1477092765863483, 0.04226654413750827, 0.048280622448194, 0.06913402024196155, 0.1271382748452084, 0.04588378065918638, 0.34896282637116777, 0.09624264743225344, 0.039506785381093264, 0.060717185866636304, 0.030419350085606617, 0.16601223151060868, 0.15136418049090805, 0.346881716840187, 0.08019068255187917, 0.043091866601809026, 0.18579358508271127, 0.045496484153462045, 0.19917474665334564, 0.0418132149643379, 0.04299003907883943, 0.08331842785036861, 0.05203654056842772, 0.04156958670357761, 0.22062381982906892, 0.06326029789995113, 0.05564584965344037, 0.04630376017091089, 0.09070503708454226, 0.08635528768209963, 0.06427543524526866, 0.05867458948836672, 0.09732137690874763, 0.05980893672872328, 0.2668429462107571, 0.054946673879623646, 0.04647560765546452, 0.05126453259856672, 0.22349628577016195, 0.06611261369429049, 0.052403003441830354, 0.0416212355523304, 0.04214379776969829, 0.05970571919176346, 0.12838829966706664, 0.05142367230564125, 0.07143393117141748, 0.06269362260104709, 0.043043089290291006, 0.03722730999888813, 0.05579085581416729, 0.29109311802053794, 0.05152849894796415, 0.08701004366851069, 0.09122644017315684, 0.06513724855770799, 0.051180092816292135, 0.05120901947792001, 0.05519172939477156, 0.029736044677530347, 0.062043110183350555, 0.09449364146676367, 0.04327836870660126, 0.054247527041000734, 0.16901999975321214, 0.053935450604714524, 0.047171140770960907, 0.044951535427106316, 0.05054394655521551, 0.061938600003352634, 0.05674406308239231, 0.06509187337967792, 0.053463316649244065, 0.049586475087926095, 0.04202994104338185, 0.13120172154628196, 0.04343943106153779, 0.15100650360797627, 0.03339115096771896, 0.18024438322919456, 0.048446298797893014, 0.03576526157765029, 0.05722748196085648, 0.10099271596385441, 0.10370587010068298, 0.04486322911221224, 0.059377356553710015, 0.33528029910717955, 0.04712178542126976, 0.5410990914721759, 0.06865120871148475, 0.06265894074009652, 0.05043056875273371, 0.0474678372990525, 0.19614200614387411, 0.061649155456879795, 0.05052613585614777, 0.05325364064403267, 0.04891576287652408, 0.04695646839108629, 0.05244397661357352, 0.045523828835059024, 0.06120806937672896, 0.054242749464999754, 0.08674465367753781, 0.04439248322660212, 0.0693243061153622, 0.05696394914927705, 0.04394365399555424, 0.043312269563332464, 0.0578893480943969, 0.05689429139472026, 0.13113239996555087, 0.05355558484791133, 0.22573444639411852, 0.04757498328070569, 0.061039157192509665, 0.052068452470185315, 0.03535285409474883, 0.02977214767330425, 0.05718612500048306, 0.04886447841983668, 0.04399370611732923, 0.05649723951686761, 0.04332923244118781, 0.22836156686561027, 0.16916926086945194, 0.05676686613659333, 0.2683277061186685, 0.04513276608111267, 0.04735163069480322, 0.18463157384958762, 0.06854911722446486, 0.04599258425592746, 0.047735766822882574, 0.07165927848688587, 0.05216173967033694, 0.04820569862415415, 0.3708267387197221, 0.04682102270739391, 0.06629181677957807, 0.15996101218826836, 0.04282261775906453, 0.08082917847902467, 0.05972276222396403, 0.1258136105282482, 0.05954994324487646, 0.056152491314709854, 0.05741588176593826, 0.06202137288424618, 0.06148232267135739, 0.04629366585417082, 0.041137926749075036, 0.11561332418607939, 0.08757105783886983, 0.028946391119143572, 0.05545667158218904, 0.15544420939538867, 0.16869302819027426, 0.053518489714922096, 0.05490494827592715, 0.046621438999559894, 0.046304528197508, 0.07326892204219053, 0.03967538531075445, 0.1062255899000795, 0.07752762320414837, 0.05666662457111569, 0.05966436247100887, 0.060268898855559055, 0.04567341299500338, 0.05089316669444052, 0.040363534484801254, 0.0545752550438459, 0.17043855542008357, 0.06543719011061636, 0.05111649970718409, 0.04929644853456729, 0.02827557648914486, 0.05833743874668425, 0.05386633692244061, 0.04953301680872079, 0.04932084736944948, 0.045005544612776845, 0.0577006356104426, 0.06161312683351531, 0.04835771710109998, 0.0501733047144896, 0.358671505007992, 0.07989526056276115, 0.060183092225688566, 0.05489284477923494, 0.028544252783416546, 0.04899124758251167, 0.08132421802685909, 0.19462976344269017, 0.048473354745873554, 0.1818459469700463, 0.051980485710170235, 0.043469550790983795, 0.04306962173241842, 0.1162605049443461, 0.12891999301456813, 0.06429201980420543, 0.10666823361179706, 0.13162967602325432, 0.18569902465033863, 0.08288791031198521, 0.054450120567952176, 0.11300165748069452, 0.058801950533607, 0.0518590646104727, 0.04113218488759637, 0.06006846432601282, 0.0480218341155452, 0.05103412114458463, 0.0507165229736045, 0.04734597387128315, 0.16664843752938327, 0.06317409216633568, 0.2020645639962378, 0.08021290651441744, 0.06723963259945988, 0.05786857684247426, 0.04294763827576759, 0.04791057948413171, 0.3221893804875292, 0.04571646410895797, 0.04108290977006425, 0.04695625290082657, 0.044205790322018455, 0.06060395395213153, 0.05847385800117679, 0.05341325903528876, 0.32140706316464634, 0.08330745989920048, 0.22845384761621298, 0.06156534252813123, 0.049768242613014234, 0.046765259760669815, 0.10093628996443971, 0.048856245916114135, 0.18843836680802523, 0.1578748623987612, 0.03940516001559226, 0.032507597713622494, 0.05900161857013836, 0.1797397856289053, 0.09421071259832671, 0.05904508346921495, 0.06957009914003597, 0.06878473677491832, 0.05725446694181072, 0.03418119510636842, 0.049551598922853296, 0.04533372361578218, 0.04365883093445977, 0.18728220032254836, 0.04826546749795317, 0.06971754118919779, 0.038955443317984575, 0.05145962553368097, 0.05347093759814432, 0.04429824657713152, 0.04756374788103462, 0.24230490372752514, 0.036319020784554866, 0.048763710450602286, 0.04833629925357382, 0.04097088161898503, 0.061953030627015515, 0.21851673603725116, 0.19052432598896843, 0.09417330034218903, 0.05468674656621976, 0.058343416823190844, 0.08593452889931809, 0.05473674422770665, 0.06543497312055042, 0.08893320501545361, 0.05220394347332655, 0.06042914460766364, 0.0888632268165357, 0.06668521861825387, 0.18657337460680562, 0.047578127100404995, 0.04478843986512192, 0.1536950233429547, 0.10848355702207643, 0.08075910680737904, 0.0876681986281441, 0.27826575795226416, 0.16052964495473396, 0.04645798024038538, 0.3323306395285659, 0.08209646487243265, 0.04095299773500392, 0.05986323638267692, 0.04555854910987588, 0.053788448860866776, 0.06961598213385178, 0.05006482318873504, 0.08626086360585772, 0.054905166812012664, 0.0634434348865341, 0.17148015582321052, 0.06307436689210516, 0.050195598354137075, 0.04972261413967252, 0.04506289052601637, 0.04544898978875359, 0.06153616383018043, 0.056385615455991925, 0.04788238297493289, 0.06047911910539469, 0.11424601269857845, 0.1812863744205832, 0.045921143304932716, 0.0675448196958876, 0.045163888469779735, 0.0687852680111398, 0.0470573282289915, 0.16719333851696705, 0.06858295799771004, 0.16854471706912255, 0.04581061586085304, 0.05105525369567307, 0.024194337840305967, 0.2050235490318853, 0.045221259552764265, 0.05901248389192062, 0.044755863568306346, 0.19276501485606262, 0.07174769507131892], \"xaxis\": \"x\", \"yaxis\": \"y\"}],\n",
       "                        {\"barmode\": \"relative\", \"legend\": {\"tracegroupgap\": 0}, \"margin\": {\"t\": 60}, \"template\": {\"data\": {\"bar\": [{\"error_x\": {\"color\": \"#2a3f5f\"}, \"error_y\": {\"color\": \"#2a3f5f\"}, \"marker\": {\"line\": {\"color\": \"#E5ECF6\", \"width\": 0.5}}, \"type\": \"bar\"}], \"barpolar\": [{\"marker\": {\"line\": {\"color\": \"#E5ECF6\", \"width\": 0.5}}, \"type\": \"barpolar\"}], \"carpet\": [{\"aaxis\": {\"endlinecolor\": \"#2a3f5f\", \"gridcolor\": \"white\", \"linecolor\": \"white\", \"minorgridcolor\": \"white\", \"startlinecolor\": \"#2a3f5f\"}, \"baxis\": {\"endlinecolor\": \"#2a3f5f\", \"gridcolor\": \"white\", \"linecolor\": \"white\", \"minorgridcolor\": \"white\", \"startlinecolor\": \"#2a3f5f\"}, \"type\": \"carpet\"}], \"choropleth\": [{\"colorbar\": {\"outlinewidth\": 0, \"ticks\": \"\"}, \"type\": \"choropleth\"}], \"contour\": [{\"colorbar\": {\"outlinewidth\": 0, \"ticks\": \"\"}, \"colorscale\": [[0.0, \"#0d0887\"], [0.1111111111111111, \"#46039f\"], [0.2222222222222222, \"#7201a8\"], [0.3333333333333333, \"#9c179e\"], [0.4444444444444444, \"#bd3786\"], [0.5555555555555556, \"#d8576b\"], [0.6666666666666666, \"#ed7953\"], [0.7777777777777778, \"#fb9f3a\"], [0.8888888888888888, \"#fdca26\"], [1.0, \"#f0f921\"]], \"type\": \"contour\"}], \"contourcarpet\": [{\"colorbar\": {\"outlinewidth\": 0, \"ticks\": \"\"}, \"type\": \"contourcarpet\"}], \"heatmap\": [{\"colorbar\": {\"outlinewidth\": 0, \"ticks\": \"\"}, \"colorscale\": [[0.0, \"#0d0887\"], [0.1111111111111111, \"#46039f\"], [0.2222222222222222, \"#7201a8\"], [0.3333333333333333, \"#9c179e\"], [0.4444444444444444, \"#bd3786\"], [0.5555555555555556, \"#d8576b\"], [0.6666666666666666, \"#ed7953\"], [0.7777777777777778, \"#fb9f3a\"], [0.8888888888888888, \"#fdca26\"], [1.0, \"#f0f921\"]], \"type\": \"heatmap\"}], \"heatmapgl\": [{\"colorbar\": {\"outlinewidth\": 0, \"ticks\": \"\"}, \"colorscale\": [[0.0, \"#0d0887\"], [0.1111111111111111, \"#46039f\"], [0.2222222222222222, \"#7201a8\"], [0.3333333333333333, \"#9c179e\"], [0.4444444444444444, \"#bd3786\"], [0.5555555555555556, \"#d8576b\"], [0.6666666666666666, \"#ed7953\"], [0.7777777777777778, \"#fb9f3a\"], [0.8888888888888888, \"#fdca26\"], [1.0, \"#f0f921\"]], \"type\": \"heatmapgl\"}], \"histogram\": [{\"marker\": {\"colorbar\": {\"outlinewidth\": 0, \"ticks\": \"\"}}, \"type\": \"histogram\"}], \"histogram2d\": [{\"colorbar\": {\"outlinewidth\": 0, \"ticks\": \"\"}, \"colorscale\": [[0.0, \"#0d0887\"], [0.1111111111111111, \"#46039f\"], [0.2222222222222222, \"#7201a8\"], [0.3333333333333333, \"#9c179e\"], [0.4444444444444444, \"#bd3786\"], [0.5555555555555556, \"#d8576b\"], [0.6666666666666666, \"#ed7953\"], [0.7777777777777778, \"#fb9f3a\"], [0.8888888888888888, \"#fdca26\"], [1.0, \"#f0f921\"]], \"type\": \"histogram2d\"}], \"histogram2dcontour\": [{\"colorbar\": {\"outlinewidth\": 0, \"ticks\": \"\"}, \"colorscale\": [[0.0, \"#0d0887\"], [0.1111111111111111, \"#46039f\"], [0.2222222222222222, \"#7201a8\"], [0.3333333333333333, \"#9c179e\"], [0.4444444444444444, \"#bd3786\"], [0.5555555555555556, \"#d8576b\"], [0.6666666666666666, \"#ed7953\"], [0.7777777777777778, \"#fb9f3a\"], [0.8888888888888888, \"#fdca26\"], [1.0, \"#f0f921\"]], \"type\": \"histogram2dcontour\"}], \"mesh3d\": [{\"colorbar\": {\"outlinewidth\": 0, \"ticks\": \"\"}, \"type\": \"mesh3d\"}], \"parcoords\": [{\"line\": {\"colorbar\": {\"outlinewidth\": 0, \"ticks\": \"\"}}, \"type\": \"parcoords\"}], \"pie\": [{\"automargin\": true, \"type\": \"pie\"}], \"scatter\": [{\"marker\": {\"colorbar\": {\"outlinewidth\": 0, \"ticks\": \"\"}}, \"type\": \"scatter\"}], \"scatter3d\": [{\"line\": {\"colorbar\": {\"outlinewidth\": 0, \"ticks\": \"\"}}, \"marker\": {\"colorbar\": {\"outlinewidth\": 0, \"ticks\": \"\"}}, \"type\": \"scatter3d\"}], \"scattercarpet\": [{\"marker\": {\"colorbar\": {\"outlinewidth\": 0, \"ticks\": \"\"}}, \"type\": \"scattercarpet\"}], \"scattergeo\": [{\"marker\": {\"colorbar\": {\"outlinewidth\": 0, \"ticks\": \"\"}}, \"type\": \"scattergeo\"}], \"scattergl\": [{\"marker\": {\"colorbar\": {\"outlinewidth\": 0, \"ticks\": \"\"}}, \"type\": \"scattergl\"}], \"scattermapbox\": [{\"marker\": {\"colorbar\": {\"outlinewidth\": 0, \"ticks\": \"\"}}, \"type\": \"scattermapbox\"}], \"scatterpolar\": [{\"marker\": {\"colorbar\": {\"outlinewidth\": 0, \"ticks\": \"\"}}, \"type\": \"scatterpolar\"}], \"scatterpolargl\": [{\"marker\": {\"colorbar\": {\"outlinewidth\": 0, \"ticks\": \"\"}}, \"type\": \"scatterpolargl\"}], \"scatterternary\": [{\"marker\": {\"colorbar\": {\"outlinewidth\": 0, \"ticks\": \"\"}}, \"type\": \"scatterternary\"}], \"surface\": [{\"colorbar\": {\"outlinewidth\": 0, \"ticks\": \"\"}, \"colorscale\": [[0.0, \"#0d0887\"], [0.1111111111111111, \"#46039f\"], [0.2222222222222222, \"#7201a8\"], [0.3333333333333333, \"#9c179e\"], [0.4444444444444444, \"#bd3786\"], [0.5555555555555556, \"#d8576b\"], [0.6666666666666666, \"#ed7953\"], [0.7777777777777778, \"#fb9f3a\"], [0.8888888888888888, \"#fdca26\"], [1.0, \"#f0f921\"]], \"type\": \"surface\"}], \"table\": [{\"cells\": {\"fill\": {\"color\": \"#EBF0F8\"}, \"line\": {\"color\": \"white\"}}, \"header\": {\"fill\": {\"color\": \"#C8D4E3\"}, \"line\": {\"color\": \"white\"}}, \"type\": \"table\"}]}, \"layout\": {\"annotationdefaults\": {\"arrowcolor\": \"#2a3f5f\", \"arrowhead\": 0, \"arrowwidth\": 1}, \"coloraxis\": {\"colorbar\": {\"outlinewidth\": 0, \"ticks\": \"\"}}, \"colorscale\": {\"diverging\": [[0, \"#8e0152\"], [0.1, \"#c51b7d\"], [0.2, \"#de77ae\"], [0.3, \"#f1b6da\"], [0.4, \"#fde0ef\"], [0.5, \"#f7f7f7\"], [0.6, \"#e6f5d0\"], [0.7, \"#b8e186\"], [0.8, \"#7fbc41\"], [0.9, \"#4d9221\"], [1, \"#276419\"]], \"sequential\": [[0.0, \"#0d0887\"], [0.1111111111111111, \"#46039f\"], [0.2222222222222222, \"#7201a8\"], [0.3333333333333333, \"#9c179e\"], [0.4444444444444444, \"#bd3786\"], [0.5555555555555556, \"#d8576b\"], [0.6666666666666666, \"#ed7953\"], [0.7777777777777778, \"#fb9f3a\"], [0.8888888888888888, \"#fdca26\"], [1.0, \"#f0f921\"]], \"sequentialminus\": [[0.0, \"#0d0887\"], [0.1111111111111111, \"#46039f\"], [0.2222222222222222, \"#7201a8\"], [0.3333333333333333, \"#9c179e\"], [0.4444444444444444, \"#bd3786\"], [0.5555555555555556, \"#d8576b\"], [0.6666666666666666, \"#ed7953\"], [0.7777777777777778, \"#fb9f3a\"], [0.8888888888888888, \"#fdca26\"], [1.0, \"#f0f921\"]]}, \"colorway\": [\"#636efa\", \"#EF553B\", \"#00cc96\", \"#ab63fa\", \"#FFA15A\", \"#19d3f3\", \"#FF6692\", \"#B6E880\", \"#FF97FF\", \"#FECB52\"], \"font\": {\"color\": \"#2a3f5f\"}, \"geo\": {\"bgcolor\": \"white\", \"lakecolor\": \"white\", \"landcolor\": \"#E5ECF6\", \"showlakes\": true, \"showland\": true, \"subunitcolor\": \"white\"}, \"hoverlabel\": {\"align\": \"left\"}, \"hovermode\": \"closest\", \"mapbox\": {\"style\": \"light\"}, \"paper_bgcolor\": \"white\", \"plot_bgcolor\": \"#E5ECF6\", \"polar\": {\"angularaxis\": {\"gridcolor\": \"white\", \"linecolor\": \"white\", \"ticks\": \"\"}, \"bgcolor\": \"#E5ECF6\", \"radialaxis\": {\"gridcolor\": \"white\", \"linecolor\": \"white\", \"ticks\": \"\"}}, \"scene\": {\"xaxis\": {\"backgroundcolor\": \"#E5ECF6\", \"gridcolor\": \"white\", \"gridwidth\": 2, \"linecolor\": \"white\", \"showbackground\": true, \"ticks\": \"\", \"zerolinecolor\": \"white\"}, \"yaxis\": {\"backgroundcolor\": \"#E5ECF6\", \"gridcolor\": \"white\", \"gridwidth\": 2, \"linecolor\": \"white\", \"showbackground\": true, \"ticks\": \"\", \"zerolinecolor\": \"white\"}, \"zaxis\": {\"backgroundcolor\": \"#E5ECF6\", \"gridcolor\": \"white\", \"gridwidth\": 2, \"linecolor\": \"white\", \"showbackground\": true, \"ticks\": \"\", \"zerolinecolor\": \"white\"}}, \"shapedefaults\": {\"line\": {\"color\": \"#2a3f5f\"}}, \"ternary\": {\"aaxis\": {\"gridcolor\": \"white\", \"linecolor\": \"white\", \"ticks\": \"\"}, \"baxis\": {\"gridcolor\": \"white\", \"linecolor\": \"white\", \"ticks\": \"\"}, \"bgcolor\": \"#E5ECF6\", \"caxis\": {\"gridcolor\": \"white\", \"linecolor\": \"white\", \"ticks\": \"\"}}, \"title\": {\"x\": 0.05}, \"xaxis\": {\"automargin\": true, \"gridcolor\": \"white\", \"linecolor\": \"white\", \"ticks\": \"\", \"title\": {\"standoff\": 15}, \"zerolinecolor\": \"white\", \"zerolinewidth\": 2}, \"yaxis\": {\"automargin\": true, \"gridcolor\": \"white\", \"linecolor\": \"white\", \"ticks\": \"\", \"title\": {\"standoff\": 15}, \"zerolinecolor\": \"white\", \"zerolinewidth\": 2}}}, \"xaxis\": {\"anchor\": \"y\", \"domain\": [0.0, 1.0], \"title\": {\"text\": \"0\"}}, \"yaxis\": {\"anchor\": \"x\", \"domain\": [0.0, 1.0], \"title\": {\"text\": \"count\"}}},\n",
       "                        {\"responsive\": true}\n",
       "                    ).then(function(){\n",
       "                            \n",
       "var gd = document.getElementById('73cc5f23-9036-44a6-89d1-d696fc9bc10f');\n",
       "var x = new MutationObserver(function (mutations, observer) {{\n",
       "        var display = window.getComputedStyle(gd).display;\n",
       "        if (!display || display === 'none') {{\n",
       "            console.log([gd, 'removed!']);\n",
       "            Plotly.purge(gd);\n",
       "            observer.disconnect();\n",
       "        }}\n",
       "}});\n",
       "\n",
       "// Listen for the removal of the full notebook cells\n",
       "var notebookContainer = gd.closest('#notebook-container');\n",
       "if (notebookContainer) {{\n",
       "    x.observe(notebookContainer, {childList: true});\n",
       "}}\n",
       "\n",
       "// Listen for the clearing of the current output cell\n",
       "var outputEl = gd.closest('.output');\n",
       "if (outputEl) {{\n",
       "    x.observe(outputEl, {childList: true});\n",
       "}}\n",
       "\n",
       "                        })\n",
       "                };\n",
       "                });\n",
       "            </script>\n",
       "        </div>"
      ]
     },
     "metadata": {},
     "output_type": "display_data"
    }
   ],
   "source": [
    "px.histogram(pd.DataFrame(y_pred_train), x=0)"
   ]
  },
  {
   "cell_type": "code",
   "execution_count": 22,
   "metadata": {
    "ExecuteTime": {
     "end_time": "2020-06-20T21:01:51.604046Z",
     "start_time": "2020-06-20T21:01:51.414873Z"
    }
   },
   "outputs": [
    {
     "data": {
      "application/vnd.plotly.v1+json": {
       "config": {
        "plotlyServerURL": "https://plot.ly"
       },
       "data": [
        {
         "alignmentgroup": "True",
         "bingroup": "x",
         "hovertemplate": "0=%{x}<br>count=%{y}<extra></extra>",
         "legendgroup": "",
         "marker": {
          "color": "#636efa"
         },
         "name": "",
         "offsetgroup": "",
         "orientation": "v",
         "showlegend": false,
         "type": "histogram",
         "x": [
          0.0666725403502655,
          0.06099673504935704,
          0.04462927578801798,
          0.08476995075848975,
          0.050609126394284776,
          0.04154192612811973,
          0.22560693015559233,
          0.045988915116565804,
          0.060923612491814896,
          0.06233762041221992,
          0.13657579349097654,
          0.047703309868535416,
          0.2101832271080245,
          0.037556291581481764,
          0.05382385704435707,
          0.04531371580787733,
          0.057794552475614845,
          0.16516824321161377,
          0.046616090247307077,
          0.058824216688254716,
          0.06193478635233486,
          0.19099559056395088,
          0.048830997518255585,
          0.045245018098442134,
          0.08023554026007265,
          0.04781542759433884,
          0.04597999200241049,
          0.045832652002445844,
          0.04506000529068314,
          0.05867189422761229,
          0.10052732724547335,
          0.05098624368850857,
          0.06058320370465822,
          0.19744249903801253,
          0.1288340482116693,
          0.05160011924975666,
          0.06585115039896272,
          0.05042027055415377,
          0.27814646021957573,
          0.16814651302453398,
          0.10117677136117174,
          0.0863964459359124,
          0.14371911524836345,
          0.13055721709812518,
          0.06215241598863945,
          0.14461223047664654,
          0.1687197090313424,
          0.1804482838883752,
          0.044321828422254766,
          0.061838677508609344,
          0.06736012076370337,
          0.06729335490114627,
          0.08534151585415979,
          0.0383025876668955,
          0.04672750543519176,
          0.06323090484639993,
          0.3068536041592392,
          0.06180587193944477,
          0.11281000651967915,
          0.060243331405720774,
          0.04924369962120276,
          0.052662287017823745,
          0.06135890043660599,
          0.05740091824124301,
          0.349598179487002,
          0.09611258717797129,
          0.0626668507393954,
          0.049074422319340866,
          0.054630459941648356,
          0.04828658426996814,
          0.060936139227914965,
          0.04929337302289065,
          0.0471633378975476,
          0.06285831963597971,
          0.05686626295349968,
          0.04148379813291645,
          0.0628065564917354,
          0.03260441890295835,
          0.04514095356359374,
          0.0638305321975109,
          0.03680505918912345,
          0.11625734306035004,
          0.055535592003179854,
          0.046808041716492534,
          0.1975272374704824,
          0.2580798848776322,
          0.060406006625917795,
          0.055662675805727216,
          0.041819262175029424,
          0.05925273018053659,
          0.04078395101707352,
          0.04547156848150823,
          0.04929416734048961,
          0.1044763984307912,
          0.0946933445774707,
          0.06140818124169361,
          0.05087438158170786,
          0.1181711024864125,
          0.06573689019396742,
          0.04380728106646763,
          0.06686148914521381,
          0.044004860013944595,
          0.0468556171686986,
          0.058832586421761264,
          0.049539445724540325,
          0.0687234067592652,
          0.06943537444577973,
          0.05839618478871951,
          0.04613296101107155,
          0.13210560104008104,
          0.04773499853052538,
          0.024214682131355983,
          0.033237103864538514,
          0.060618019927808894,
          0.08565830014653904,
          0.048464780910972,
          0.05432638019766631,
          0.06311753948244195,
          0.17966227212313762,
          0.04193168614580748,
          0.05954720076693883,
          0.3188613101134643,
          0.055949107102331794,
          0.26551969603146663,
          0.04805660608603903,
          0.0444643265291804,
          0.06711687935718487,
          0.06612774973813185,
          0.03153146769702233,
          0.062146801702784416,
          0.047281737595448355,
          0.17088647242262373,
          0.06870352307321506,
          0.051010639908430716,
          0.05711079849295245,
          0.1665890400195285,
          0.1731312919929635,
          0.06728043252611335,
          0.049393921977162566,
          0.10278287097368918,
          0.037583861575632746,
          0.04589586695608433,
          0.11586050320183625,
          0.1769091497848359,
          0.061146456729168935,
          0.05913099294085478,
          0.14831094080577306,
          0.04305815649531469,
          0.07130254433668759,
          0.0537446874772205,
          0.16611412197164194,
          0.09188748205526905,
          0.047053687188785165,
          0.07153139064190511,
          0.06565712919442887,
          0.043116662047300885,
          0.05557992950787244,
          0.059726639992659356,
          0.17463817289692343,
          0.04813504434539258,
          0.04970603742490966,
          0.03168366420988478,
          0.04768036739869753,
          0.09395200295545247,
          0.22201305383099082,
          0.07769340652691942,
          0.050512144477801176,
          0.06724270904719537,
          0.04125389591509299,
          0.04174346330096105,
          0.04794888477488706,
          0.06860647725446553,
          0.0576821438249539,
          0.06851815385701054,
          0.08036762722844665,
          0.045055626459616166,
          0.05807939482089032,
          0.18334113679115233,
          0.15690665504087548,
          0.22041100161424657,
          0.08626519802313445,
          0.048486808033292604,
          0.04327140642152761,
          0.05509480568331134,
          0.06424901325814794,
          0.05167759072815652,
          0.0684398401103074,
          0.047834529342368697,
          0.06871447569074017,
          0.05963209273873038,
          0.13820970649035436,
          0.11715526428342972,
          0.05844122664963913,
          0.0683367908613633,
          0.12626037410175883,
          0.096521218302542,
          0.055238299830631304,
          0.08653646486463669,
          0.1447499788997845,
          0.04634977543280128,
          0.04422353219274783,
          0.041716906520728514,
          0.04183414493907824,
          0.050680176253640165,
          0.05435783134032765,
          0.2031544119490043,
          0.18646170657616343,
          0.04639694001803919,
          0.11547419985281038,
          0.179284153828294,
          0.20364910889905335,
          0.049249570829403094,
          0.05437419091069863,
          0.07968905287774196,
          0.04263275213485557,
          0.06746763892864475,
          0.046576051847542044,
          0.17909646224050013,
          0.07246643316079998,
          0.05947316798723777,
          0.04103018801932783,
          0.04338691053770393,
          0.09194399811954589,
          0.04861050786231565,
          0.05806454682286319,
          0.05759712927634729,
          0.04798925666188342,
          0.06262482372209852,
          0.09417118627898216,
          0.2468037332529506,
          0.09134818677136788,
          0.03998817556013038,
          0.04596657401134927,
          0.04871252083492927,
          0.11069210551664851,
          0.043928702166165144,
          0.03580385265278582,
          0.15655949102980476,
          0.06494406649874249,
          0.057981540757056506,
          0.05163510829833696,
          0.04923591434442937,
          0.046282959601417234,
          0.04910436097747352,
          0.22788516788512783,
          0.2094970053864666,
          0.044509982702567764,
          0.05239099083997051,
          0.03684352064599302,
          0.036528255047563525,
          0.040490768128016864,
          0.08828100210453221,
          0.06166296674152476,
          0.051413538934822825,
          0.16147449057847776,
          0.060913960641801886,
          0.05854187274515964,
          0.0410850494873061,
          0.047834529342368697,
          0.047053687188785165,
          0.2118407415131278,
          0.05875611421024596,
          0.049167825529088195,
          0.11403822705597941,
          0.05546700865388869,
          0.04588449373446902,
          0.053710663463185634,
          0.15444767544090363,
          0.2243834455970745,
          0.0462679112005341,
          0.06633716965005747,
          0.05184424288204681,
          0.04675711273724327,
          0.17691555455441915,
          0.18784757107427863,
          0.06523077047682294,
          0.04037284090670321,
          0.04743461252214006,
          0.05056239150525859,
          0.09065166356554515,
          0.04417730367075811,
          0.06066957025198379,
          0.2231443205870219,
          0.16873894146356005,
          0.06034015797107296,
          0.09101215138467077,
          0.1111090569111913,
          0.05931463324319128,
          0.057071629998811005,
          0.05144517660050001,
          0.04968011038026522,
          0.04439414941328009,
          0.06563094305444184,
          0.039482216868588396,
          0.03273279178492268,
          0.0527420990865812,
          0.04817916449471255,
          0.04159755242425882,
          0.057591080320558465,
          0.06433407280682774,
          0.1883552528203924,
          0.058715693854805726,
          0.043163627854291474,
          0.06783290686949109,
          0.17243425083874755,
          0.2105331552773973,
          0.03455711779567662,
          0.05095576961842719,
          0.08207825280624338,
          0.0401448077297085,
          0.04952293559085581,
          0.06889000928504874,
          0.11368259657995457,
          0.16178984211045538,
          0.05685993249133376,
          0.0657397515906526,
          0.038217757691322164,
          0.23881244110433714,
          0.052622835568109524,
          0.05035425792740866,
          0.17271218333832916,
          0.04618472397826912,
          0.04618472397826912,
          0.061370135836277054,
          0.10143026377075823,
          0.03984678544886674,
          0.06802076806370737,
          0.0494814536676769,
          0.036704314763938206,
          0.05091067211799611,
          0.0429470269756377,
          0.058866099118712774,
          0.16881682383925997,
          0.06601828777376381,
          0.05149638110622805,
          0.19092503124950067,
          0.059704058011868844,
          0.06083681829823326,
          0.05773713536064874,
          0.06655366367196328,
          0.1601747731175155,
          0.032937229517564025,
          0.0557598444972849,
          0.05780513244210517,
          0.051486382936420286,
          0.060049355798004814,
          0.04170337067113382,
          0.09940155429880038,
          0.22721343406597683,
          0.06848886952042711,
          0.045108478261168844,
          0.061725937196035266,
          0.054092434968923755,
          0.05819343063986182,
          0.03794542254439228,
          0.18291781073416807,
          0.11035148859428787,
          0.04920278908780663,
          0.08307541645955692,
          0.07094515939162789,
          0.04732527366915563,
          0.044362737312216724,
          0.059892483427020596,
          0.06334038998427516,
          0.026152135457235756,
          0.04840377341505808,
          0.04493662930833473,
          0.09447802412576078,
          0.05366114614720053,
          0.1626458493685694,
          0.04862289061949073,
          0.05345171869983206,
          0.09519086742422568,
          0.05015739115354897,
          0.27987193045858316,
          0.03622244852458471,
          0.05196087822278285,
          0.05885762893521941,
          0.2103538655096904,
          0.04621179017480061,
          0.04306185942554095,
          0.047779104810913214,
          0.11536855817981265,
          0.06580151252583707,
          0.04997041076937957,
          0.1623120687962265,
          0.06652172029311203,
          0.3153638091930765,
          0.045163888469779735,
          0.05449546788409644,
          0.05820195634816962,
          0.06782428388744927,
          0.04609827097209014,
          0.05125347442427079,
          0.1140826736923578,
          0.2245065765965201,
          0.256385081494471,
          0.05733531420848992,
          0.04358687281858783,
          0.05662129923478187,
          0.047953346676644665,
          0.05904175471214493,
          0.1662622219201827,
          0.04889110116072357,
          0.04955108682238291,
          0.19661668946951713,
          0.06657351574368045,
          0.14580725459951244,
          0.04553473613162727,
          0.061399971974813866,
          0.048288221771116295,
          0.05783443607058551,
          0.14514472707180345,
          0.05556311706649361,
          0.041368641892031564,
          0.08408848301701599,
          0.04755248428480018,
          0.05838187109494853,
          0.051384228691583836,
          0.10039174491541866,
          0.025838663574364644,
          0.04675228180922723,
          0.06203782055593276,
          0.0957369953702757,
          0.045913648032396004,
          0.2754326320459951,
          0.047416452605809324,
          0.12475204061882977,
          0.0477620601579379,
          0.06895961933355058,
          0.06412396125529485,
          0.06743660821498464,
          0.055297855998697715,
          0.33602995679959063,
          0.06727180392603026,
          0.1784165465012914,
          0.06506287410699726,
          0.06530961464012552,
          0.07043446817224557,
          0.10009511629818839,
          0.06384826568595076,
          0.16408576127764088,
          0.04246626480479068,
          0.05007678997280488,
          0.16600527455282668,
          0.03618833389329755,
          0.21357559398201512,
          0.04828149451923091,
          0.042876472310900776,
          0.06204922813114715,
          0.06323139267342298,
          0.04639694001803919,
          0.05600538785194765,
          0.14699541754417095,
          0.0484615040368201,
          0.1883095553587249,
          0.07029289644197147,
          0.3431847859632742,
          0.049776480921586,
          0.30123636618788907,
          0.17719147710951694,
          0.06885259607237446,
          0.053083111521999904,
          0.05071314614478523,
          0.04277394929591665,
          0.0447339119010503,
          0.0399846871431941,
          0.05601089486727342,
          0.05790735254880761,
          0.066847923460827,
          0.18746818274025812,
          0.054868288905679255,
          0.06335977803387118,
          0.05403050872894308,
          0.17476616271616305,
          0.18719074307595418,
          0.041169444898532026,
          0.050969857094002716,
          0.05719629295920293,
          0.04817369707582281,
          0.07529964917777786,
          0.058608886494187995,
          0.0428855361473105,
          0.09175488318369913,
          0.04830950048183233,
          0.09112841822955134,
          0.04819601205330944,
          0.0806483351334763,
          0.1740563952058206,
          0.15979188852789272,
          0.03115257617927744,
          0.15883039208432886,
          0.07276178639179429,
          0.15276840403517114,
          0.053212646604686664,
          0.035953839202686556,
          0.041095916021624636,
          0.045381113767929894,
          0.08638748238859498,
          0.0919803881072631,
          0.09507281886437981,
          0.05041352766710866,
          0.05863877522420108,
          0.0519557723028502,
          0.05608908277481851,
          0.047459014441789356,
          0.04484101268694463,
          0.15714021341773185,
          0.028794435427133523,
          0.05091606945651586,
          0.04521269704159975,
          0.06183809542759791,
          0.07087729387017079,
          0.08398759668387082,
          0.047053687188785165,
          0.11598700867851097,
          0.048690151930612297,
          0.18339578637927173,
          0.03754637249199333,
          0.059533151501276,
          0.17417842927271796,
          0.05565533212071347,
          0.05778280888946845,
          0.08140115518758982,
          0.24133216701496124,
          0.06661402917674189,
          0.042641009602884195,
          0.220995319708058,
          0.04605057911327788,
          0.05376221336832642,
          0.044766499609059575,
          0.0863786028329376,
          0.08467907861642478,
          0.04751344291099742,
          0.14690987666506816,
          0.06363545739496908,
          0.04327564339348129,
          0.05092642172979782,
          0.06684446639551546,
          0.04500884711098934,
          0.05139280913212023,
          0.07513476928542279,
          0.050139370042710615,
          0.21750866121114154,
          0.043585588891220106,
          0.0510516143397969,
          0.04535642856080917,
          0.06606986955405422,
          0.08172070340772036,
          0.07854824587154485,
          0.08831900288181527,
          0.09572370861336664,
          0.1722284421435874,
          0.0666825652198646,
          0.06673647020630072,
          0.06722202704935151,
          0.06092526708307633,
          0.06137875840474119,
          0.044087747610879136,
          0.04765681653385728,
          0.06794859788932703,
          0.05630766858215526,
          0.04703137096991486,
          0.05883780118594431,
          0.06138406075527979,
          0.04795937850811777,
          0.05597621828751075,
          0.05247174141527333,
          0.055933222633665305,
          0.05091217993949418,
          0.07113569678652087,
          0.07502964957673733,
          0.06440911936954055,
          0.04902726965111421,
          0.22912614470566292,
          0.04810609058276264,
          0.06433534868158454,
          0.06481428705828697,
          0.05635174761621451,
          0.16366411062858,
          0.05616341928154018,
          0.04451993875237904,
          0.06001142532595696,
          0.04697575877330156,
          0.05054697806899683,
          0.05591350532222644,
          0.13487631627809826,
          0.0690709828551783,
          0.05602083911992628,
          0.05071279060014445,
          0.050523313673678204,
          0.2249245914363064,
          0.04739719995223062,
          0.04786849686021331,
          0.04909066061381064,
          0.09916103664459308,
          0.055030217190835035,
          0.056141387967063534,
          0.10740991791038178,
          0.04881715679188264,
          0.24787221709483767,
          0.05908314009757028,
          0.094297426692169,
          0.04346317317839753,
          0.35370018066945214,
          0.03367943667269915,
          0.033729752348364464,
          0.05186261899545823,
          0.03698339759077909,
          0.04485502188418231,
          0.0530805964662384,
          0.06713994802920871,
          0.031151991822265003,
          0.0655627300949997,
          0.04697012487606001,
          0.17346598496775759,
          0.17240159858948473,
          0.3463645759478721,
          0.21678724113197184,
          0.06527109512061663,
          0.046358693476760034,
          0.0551636440511569,
          0.05528003462149095,
          0.1534071054295763,
          0.05206559416049493,
          0.05834527309960919,
          0.09674290038198591,
          0.033456531884126124,
          0.12565807595067266,
          0.19429882436062018,
          0.058205596273512045,
          0.24090206103253717,
          0.19022941835165008,
          0.06775339135253468,
          0.06272278040057508,
          0.18640644172043946,
          0.059939889294249614,
          0.23136202298837583,
          0.10169093261460253,
          0.05464862446591949,
          0.04497705638397828,
          0.07841645388124693,
          0.1673734050741965,
          0.04553473613162727,
          0.04266745212210585,
          0.04652510605786659,
          0.16050202311177547,
          0.10752124050467307,
          0.14458798053929675,
          0.06802442538310653,
          0.16026926993229856,
          0.10017353457293725,
          0.04662608329118289,
          0.05190049888064881,
          0.04587885596870197,
          0.1280106813912097,
          0.04622692563481709,
          0.09369957333925538,
          0.060578565665280075,
          0.06183605911603148,
          0.06131607559847875,
          0.04930626564347746,
          0.055115678919874345,
          0.06496571512486932,
          0.1837189656421559,
          0.051795939644671926,
          0.05912942821960135,
          0.09461877568891519,
          0.043161046377529724,
          0.05494271783871417,
          0.17833644683121475,
          0.04742033661707056,
          0.06379755339402457,
          0.1711655656985254,
          0.19461476535903233,
          0.07396893427622955,
          0.15685675867644436,
          0.11422145504536627,
          0.04105053184992821,
          0.051875251138845085,
          0.048503022098206054,
          0.0538827052706138,
          0.057424877551706964,
          0.040463001163960996,
          0.1480096469831344,
          0.05163057253935777,
          0.08380779712201507,
          0.051611515646021955,
          0.04959922742101888,
          0.07081196836030504,
          0.05003021208870885,
          0.032446352065376896,
          0.03371632592236826,
          0.04538747566891166,
          0.18599766897349146,
          0.04697186216553102,
          0.2478313735347603,
          0.059321162007810034,
          0.14786863556093652,
          0.2060011387844517,
          0.04891267525076927,
          0.06471775303824774,
          0.05174727139692323,
          0.049907738677588555,
          0.08615670856579916,
          0.05234550279666178,
          0.047053687188785165,
          0.06506229705368706,
          0.046645662287311776,
          0.09275983320910398,
          0.06396592969711053,
          0.04681438035437128,
          0.04566428513598687,
          0.0688387877137676,
          0.05172944401597504,
          0.055051304525091466,
          0.04739813702916075,
          0.07339716636679168,
          0.04604243222420898,
          0.16881682383925997,
          0.048379157047044354,
          0.06494939193849066,
          0.05420153867690185,
          0.06853131779387392,
          0.041832044843927184,
          0.06514565711503367,
          0.062087123704447494,
          0.04787732545416311,
          0.24875409388911668,
          0.045733404188438895,
          0.045364287699949546,
          0.048892557124822954,
          0.040879197831759785,
          0.04905415750317407,
          0.08630336536580539,
          0.04667247368634001,
          0.05703052909453409,
          0.0435083991484985,
          0.057453853151596464,
          0.06606151931876193,
          0.05295421942299365,
          0.06026987542350107,
          0.09633897916808766,
          0.04374063985808992,
          0.20763776849815627,
          0.23861260801908815,
          0.13958076577592526,
          0.027174319559205365,
          0.04811642368408119,
          0.09863429490693484,
          0.048029690603367786,
          0.03918567611018682,
          0.05547436111539448,
          0.05769285454205993,
          0.05150905500874539,
          0.14988466171739534,
          0.1107599090602888,
          0.08549986859971784,
          0.05867680313256651,
          0.0432290029290012,
          0.04110795849355093,
          0.04459222622642703,
          0.29174997087919285,
          0.1654474654656672,
          0.05861282157965747,
          0.08566800270854352,
          0.0631809887286901,
          0.18954072041354486,
          0.04805055496734367,
          0.04210424867268683,
          0.051265130789878606,
          0.058112027742427276,
          0.04449481708774032,
          0.17519722412014221,
          0.04894634832083595,
          0.049698224724441215,
          0.0889259040608306,
          0.053297174720589056,
          0.04768516898073214,
          0.05636637561130127,
          0.021819162276203986,
          0.059542598113841716,
          0.08998703336603904,
          0.15978183970296483,
          0.042542189336513006,
          0.2618251187796836,
          0.3572899409228846,
          0.05412864080185563,
          0.09887148339597288,
          0.04948117762912707,
          0.0689398856636818,
          0.06609936386049825,
          0.11602469279982572,
          0.028677201658704216,
          0.04492492678704389,
          0.05221457006500791,
          0.22243477487061475,
          0.21114801343824754,
          0.05635574866009595,
          0.034588847139482085,
          0.06141408545757472,
          0.10164252451831908,
          0.2360611549651558,
          0.21229534100933503,
          0.06109048412049674,
          0.06777723687489437,
          0.045221259552764265,
          0.05175285318445415,
          0.055767756019533245,
          0.025850754059021958,
          0.05221874268630825,
          0.08126887971922304,
          0.07018649400731403,
          0.04589752375318695,
          0.2153704844733271,
          0.07044534318239935,
          0.05944963671831435,
          0.0525332878945725,
          0.1492873551551822,
          0.04552880664165012,
          0.054020068112353686,
          0.34323194123843526,
          0.04352429995975296,
          0.15298770328103592,
          0.042310865616957245,
          0.036686278841953336,
          0.059884795814586576,
          0.04579440066006126,
          0.034132888982710524,
          0.04581896053023964,
          0.05103932452412284,
          0.04036894211093579,
          0.10026255670527753,
          0.038041361821954715,
          0.050721166960521966,
          0.10039174491541866,
          0.08644293598893658,
          0.043995842233692004,
          0.050425225267938835,
          0.04871885996585096,
          0.04591612599758159,
          0.15962258120419737,
          0.09151658316019953,
          0.044691245730591925,
          0.03282129525144496,
          0.03973293112147068,
          0.04632920995542476,
          0.06601828777376381,
          0.06016729318833164,
          0.05888896043293475,
          0.05568075791610951,
          0.05829257911367475,
          0.06869587382719874,
          0.03625831465936239,
          0.06021885614266154,
          0.05028009487577655,
          0.052537534913247766,
          0.027474328441535488,
          0.15106992012701742,
          0.04596657401134927,
          0.08199166393563506,
          0.055966085408423044,
          0.13101051905342115,
          0.09324886295234405,
          0.044103173113815786,
          0.05877581818094483,
          0.18796391762719214,
          0.21427539001071969,
          0.05669502489888155,
          0.05449973769507612,
          0.049910430234904046,
          0.035359376339596536,
          0.04071358085291152,
          0.05301803116494444,
          0.04314784589252299,
          0.13403262095143118,
          0.09173740032717267,
          0.19365979054398186,
          0.04277139404817118,
          0.18770302869175612,
          0.047053687188785165,
          0.048546113395243125,
          0.08410785620369442,
          0.04639694001803919,
          0.15971465493414808,
          0.198727763671168,
          0.0540451633959183,
          0.03894553239029437,
          0.10444714541562658,
          0.05571206063304911,
          0.06976430464516976,
          0.06442206157128444,
          0.049103235961316265,
          0.055160706986472394,
          0.07206763330200751,
          0.06193478635233486,
          0.050147920034837534,
          0.06673588747709229,
          0.044620294002605865,
          0.05484093702332067,
          0.04785566266470111,
          0.04086867428263681,
          0.15877702561943524,
          0.04484101268694463,
          0.05203034092608988,
          0.1418316880603629,
          0.05518240391318048,
          0.04604941429223097,
          0.061924004150172546,
          0.04927776498299352,
          0.062253100321697494,
          0.047244705270673155,
          0.041606625314175416,
          0.20205450007250217,
          0.06975104380639376,
          0.04403644723874949,
          0.06513415051300298,
          0.05938871921840048,
          0.1663662941691412,
          0.05824410465288103,
          0.04577025980812683,
          0.05503884401790887,
          0.059953680993025726,
          0.06734611071945418,
          0.047973919284571946,
          0.08635722288263516,
          0.15705230889318472,
          0.050105244963942405,
          0.05289476793868858,
          0.04498946244333597,
          0.04394119315525936,
          0.051379585741328414,
          0.05928701092643685,
          0.06109048412049674,
          0.04382543260741448,
          0.05565230012953957,
          0.0811596197123839,
          0.0511188948748283,
          0.07060395459891783,
          0.053876061015192114,
          0.033941614208821226,
          0.057209061218668825,
          0.05111649970718409,
          0.059184508524337834,
          0.059430674699897976,
          0.11442166063691528,
          0.027940685252513614,
          0.04727234249722414,
          0.05031295397610536,
          0.03465691057570701,
          0.05832128131976849,
          0.06971255845011666,
          0.06256111716451004,
          0.09452708701840559,
          0.049872135566199356,
          0.05349224164275003,
          0.14560807809844017,
          0.09481229738112536,
          0.04649628471978277,
          0.17825003955862018,
          0.04992084755040197,
          0.0427658748904845,
          0.05036169880281681,
          0.18168279884897082,
          0.43958815313914973,
          0.04456771086386036,
          0.12617755157404134
         ],
         "xaxis": "x",
         "yaxis": "y"
        }
       ],
       "layout": {
        "barmode": "relative",
        "legend": {
         "tracegroupgap": 0
        },
        "margin": {
         "t": 60
        },
        "template": {
         "data": {
          "bar": [
           {
            "error_x": {
             "color": "#2a3f5f"
            },
            "error_y": {
             "color": "#2a3f5f"
            },
            "marker": {
             "line": {
              "color": "#E5ECF6",
              "width": 0.5
             }
            },
            "type": "bar"
           }
          ],
          "barpolar": [
           {
            "marker": {
             "line": {
              "color": "#E5ECF6",
              "width": 0.5
             }
            },
            "type": "barpolar"
           }
          ],
          "carpet": [
           {
            "aaxis": {
             "endlinecolor": "#2a3f5f",
             "gridcolor": "white",
             "linecolor": "white",
             "minorgridcolor": "white",
             "startlinecolor": "#2a3f5f"
            },
            "baxis": {
             "endlinecolor": "#2a3f5f",
             "gridcolor": "white",
             "linecolor": "white",
             "minorgridcolor": "white",
             "startlinecolor": "#2a3f5f"
            },
            "type": "carpet"
           }
          ],
          "choropleth": [
           {
            "colorbar": {
             "outlinewidth": 0,
             "ticks": ""
            },
            "type": "choropleth"
           }
          ],
          "contour": [
           {
            "colorbar": {
             "outlinewidth": 0,
             "ticks": ""
            },
            "colorscale": [
             [
              0,
              "#0d0887"
             ],
             [
              0.1111111111111111,
              "#46039f"
             ],
             [
              0.2222222222222222,
              "#7201a8"
             ],
             [
              0.3333333333333333,
              "#9c179e"
             ],
             [
              0.4444444444444444,
              "#bd3786"
             ],
             [
              0.5555555555555556,
              "#d8576b"
             ],
             [
              0.6666666666666666,
              "#ed7953"
             ],
             [
              0.7777777777777778,
              "#fb9f3a"
             ],
             [
              0.8888888888888888,
              "#fdca26"
             ],
             [
              1,
              "#f0f921"
             ]
            ],
            "type": "contour"
           }
          ],
          "contourcarpet": [
           {
            "colorbar": {
             "outlinewidth": 0,
             "ticks": ""
            },
            "type": "contourcarpet"
           }
          ],
          "heatmap": [
           {
            "colorbar": {
             "outlinewidth": 0,
             "ticks": ""
            },
            "colorscale": [
             [
              0,
              "#0d0887"
             ],
             [
              0.1111111111111111,
              "#46039f"
             ],
             [
              0.2222222222222222,
              "#7201a8"
             ],
             [
              0.3333333333333333,
              "#9c179e"
             ],
             [
              0.4444444444444444,
              "#bd3786"
             ],
             [
              0.5555555555555556,
              "#d8576b"
             ],
             [
              0.6666666666666666,
              "#ed7953"
             ],
             [
              0.7777777777777778,
              "#fb9f3a"
             ],
             [
              0.8888888888888888,
              "#fdca26"
             ],
             [
              1,
              "#f0f921"
             ]
            ],
            "type": "heatmap"
           }
          ],
          "heatmapgl": [
           {
            "colorbar": {
             "outlinewidth": 0,
             "ticks": ""
            },
            "colorscale": [
             [
              0,
              "#0d0887"
             ],
             [
              0.1111111111111111,
              "#46039f"
             ],
             [
              0.2222222222222222,
              "#7201a8"
             ],
             [
              0.3333333333333333,
              "#9c179e"
             ],
             [
              0.4444444444444444,
              "#bd3786"
             ],
             [
              0.5555555555555556,
              "#d8576b"
             ],
             [
              0.6666666666666666,
              "#ed7953"
             ],
             [
              0.7777777777777778,
              "#fb9f3a"
             ],
             [
              0.8888888888888888,
              "#fdca26"
             ],
             [
              1,
              "#f0f921"
             ]
            ],
            "type": "heatmapgl"
           }
          ],
          "histogram": [
           {
            "marker": {
             "colorbar": {
              "outlinewidth": 0,
              "ticks": ""
             }
            },
            "type": "histogram"
           }
          ],
          "histogram2d": [
           {
            "colorbar": {
             "outlinewidth": 0,
             "ticks": ""
            },
            "colorscale": [
             [
              0,
              "#0d0887"
             ],
             [
              0.1111111111111111,
              "#46039f"
             ],
             [
              0.2222222222222222,
              "#7201a8"
             ],
             [
              0.3333333333333333,
              "#9c179e"
             ],
             [
              0.4444444444444444,
              "#bd3786"
             ],
             [
              0.5555555555555556,
              "#d8576b"
             ],
             [
              0.6666666666666666,
              "#ed7953"
             ],
             [
              0.7777777777777778,
              "#fb9f3a"
             ],
             [
              0.8888888888888888,
              "#fdca26"
             ],
             [
              1,
              "#f0f921"
             ]
            ],
            "type": "histogram2d"
           }
          ],
          "histogram2dcontour": [
           {
            "colorbar": {
             "outlinewidth": 0,
             "ticks": ""
            },
            "colorscale": [
             [
              0,
              "#0d0887"
             ],
             [
              0.1111111111111111,
              "#46039f"
             ],
             [
              0.2222222222222222,
              "#7201a8"
             ],
             [
              0.3333333333333333,
              "#9c179e"
             ],
             [
              0.4444444444444444,
              "#bd3786"
             ],
             [
              0.5555555555555556,
              "#d8576b"
             ],
             [
              0.6666666666666666,
              "#ed7953"
             ],
             [
              0.7777777777777778,
              "#fb9f3a"
             ],
             [
              0.8888888888888888,
              "#fdca26"
             ],
             [
              1,
              "#f0f921"
             ]
            ],
            "type": "histogram2dcontour"
           }
          ],
          "mesh3d": [
           {
            "colorbar": {
             "outlinewidth": 0,
             "ticks": ""
            },
            "type": "mesh3d"
           }
          ],
          "parcoords": [
           {
            "line": {
             "colorbar": {
              "outlinewidth": 0,
              "ticks": ""
             }
            },
            "type": "parcoords"
           }
          ],
          "pie": [
           {
            "automargin": true,
            "type": "pie"
           }
          ],
          "scatter": [
           {
            "marker": {
             "colorbar": {
              "outlinewidth": 0,
              "ticks": ""
             }
            },
            "type": "scatter"
           }
          ],
          "scatter3d": [
           {
            "line": {
             "colorbar": {
              "outlinewidth": 0,
              "ticks": ""
             }
            },
            "marker": {
             "colorbar": {
              "outlinewidth": 0,
              "ticks": ""
             }
            },
            "type": "scatter3d"
           }
          ],
          "scattercarpet": [
           {
            "marker": {
             "colorbar": {
              "outlinewidth": 0,
              "ticks": ""
             }
            },
            "type": "scattercarpet"
           }
          ],
          "scattergeo": [
           {
            "marker": {
             "colorbar": {
              "outlinewidth": 0,
              "ticks": ""
             }
            },
            "type": "scattergeo"
           }
          ],
          "scattergl": [
           {
            "marker": {
             "colorbar": {
              "outlinewidth": 0,
              "ticks": ""
             }
            },
            "type": "scattergl"
           }
          ],
          "scattermapbox": [
           {
            "marker": {
             "colorbar": {
              "outlinewidth": 0,
              "ticks": ""
             }
            },
            "type": "scattermapbox"
           }
          ],
          "scatterpolar": [
           {
            "marker": {
             "colorbar": {
              "outlinewidth": 0,
              "ticks": ""
             }
            },
            "type": "scatterpolar"
           }
          ],
          "scatterpolargl": [
           {
            "marker": {
             "colorbar": {
              "outlinewidth": 0,
              "ticks": ""
             }
            },
            "type": "scatterpolargl"
           }
          ],
          "scatterternary": [
           {
            "marker": {
             "colorbar": {
              "outlinewidth": 0,
              "ticks": ""
             }
            },
            "type": "scatterternary"
           }
          ],
          "surface": [
           {
            "colorbar": {
             "outlinewidth": 0,
             "ticks": ""
            },
            "colorscale": [
             [
              0,
              "#0d0887"
             ],
             [
              0.1111111111111111,
              "#46039f"
             ],
             [
              0.2222222222222222,
              "#7201a8"
             ],
             [
              0.3333333333333333,
              "#9c179e"
             ],
             [
              0.4444444444444444,
              "#bd3786"
             ],
             [
              0.5555555555555556,
              "#d8576b"
             ],
             [
              0.6666666666666666,
              "#ed7953"
             ],
             [
              0.7777777777777778,
              "#fb9f3a"
             ],
             [
              0.8888888888888888,
              "#fdca26"
             ],
             [
              1,
              "#f0f921"
             ]
            ],
            "type": "surface"
           }
          ],
          "table": [
           {
            "cells": {
             "fill": {
              "color": "#EBF0F8"
             },
             "line": {
              "color": "white"
             }
            },
            "header": {
             "fill": {
              "color": "#C8D4E3"
             },
             "line": {
              "color": "white"
             }
            },
            "type": "table"
           }
          ]
         },
         "layout": {
          "annotationdefaults": {
           "arrowcolor": "#2a3f5f",
           "arrowhead": 0,
           "arrowwidth": 1
          },
          "coloraxis": {
           "colorbar": {
            "outlinewidth": 0,
            "ticks": ""
           }
          },
          "colorscale": {
           "diverging": [
            [
             0,
             "#8e0152"
            ],
            [
             0.1,
             "#c51b7d"
            ],
            [
             0.2,
             "#de77ae"
            ],
            [
             0.3,
             "#f1b6da"
            ],
            [
             0.4,
             "#fde0ef"
            ],
            [
             0.5,
             "#f7f7f7"
            ],
            [
             0.6,
             "#e6f5d0"
            ],
            [
             0.7,
             "#b8e186"
            ],
            [
             0.8,
             "#7fbc41"
            ],
            [
             0.9,
             "#4d9221"
            ],
            [
             1,
             "#276419"
            ]
           ],
           "sequential": [
            [
             0,
             "#0d0887"
            ],
            [
             0.1111111111111111,
             "#46039f"
            ],
            [
             0.2222222222222222,
             "#7201a8"
            ],
            [
             0.3333333333333333,
             "#9c179e"
            ],
            [
             0.4444444444444444,
             "#bd3786"
            ],
            [
             0.5555555555555556,
             "#d8576b"
            ],
            [
             0.6666666666666666,
             "#ed7953"
            ],
            [
             0.7777777777777778,
             "#fb9f3a"
            ],
            [
             0.8888888888888888,
             "#fdca26"
            ],
            [
             1,
             "#f0f921"
            ]
           ],
           "sequentialminus": [
            [
             0,
             "#0d0887"
            ],
            [
             0.1111111111111111,
             "#46039f"
            ],
            [
             0.2222222222222222,
             "#7201a8"
            ],
            [
             0.3333333333333333,
             "#9c179e"
            ],
            [
             0.4444444444444444,
             "#bd3786"
            ],
            [
             0.5555555555555556,
             "#d8576b"
            ],
            [
             0.6666666666666666,
             "#ed7953"
            ],
            [
             0.7777777777777778,
             "#fb9f3a"
            ],
            [
             0.8888888888888888,
             "#fdca26"
            ],
            [
             1,
             "#f0f921"
            ]
           ]
          },
          "colorway": [
           "#636efa",
           "#EF553B",
           "#00cc96",
           "#ab63fa",
           "#FFA15A",
           "#19d3f3",
           "#FF6692",
           "#B6E880",
           "#FF97FF",
           "#FECB52"
          ],
          "font": {
           "color": "#2a3f5f"
          },
          "geo": {
           "bgcolor": "white",
           "lakecolor": "white",
           "landcolor": "#E5ECF6",
           "showlakes": true,
           "showland": true,
           "subunitcolor": "white"
          },
          "hoverlabel": {
           "align": "left"
          },
          "hovermode": "closest",
          "mapbox": {
           "style": "light"
          },
          "paper_bgcolor": "white",
          "plot_bgcolor": "#E5ECF6",
          "polar": {
           "angularaxis": {
            "gridcolor": "white",
            "linecolor": "white",
            "ticks": ""
           },
           "bgcolor": "#E5ECF6",
           "radialaxis": {
            "gridcolor": "white",
            "linecolor": "white",
            "ticks": ""
           }
          },
          "scene": {
           "xaxis": {
            "backgroundcolor": "#E5ECF6",
            "gridcolor": "white",
            "gridwidth": 2,
            "linecolor": "white",
            "showbackground": true,
            "ticks": "",
            "zerolinecolor": "white"
           },
           "yaxis": {
            "backgroundcolor": "#E5ECF6",
            "gridcolor": "white",
            "gridwidth": 2,
            "linecolor": "white",
            "showbackground": true,
            "ticks": "",
            "zerolinecolor": "white"
           },
           "zaxis": {
            "backgroundcolor": "#E5ECF6",
            "gridcolor": "white",
            "gridwidth": 2,
            "linecolor": "white",
            "showbackground": true,
            "ticks": "",
            "zerolinecolor": "white"
           }
          },
          "shapedefaults": {
           "line": {
            "color": "#2a3f5f"
           }
          },
          "ternary": {
           "aaxis": {
            "gridcolor": "white",
            "linecolor": "white",
            "ticks": ""
           },
           "baxis": {
            "gridcolor": "white",
            "linecolor": "white",
            "ticks": ""
           },
           "bgcolor": "#E5ECF6",
           "caxis": {
            "gridcolor": "white",
            "linecolor": "white",
            "ticks": ""
           }
          },
          "title": {
           "x": 0.05
          },
          "xaxis": {
           "automargin": true,
           "gridcolor": "white",
           "linecolor": "white",
           "ticks": "",
           "title": {
            "standoff": 15
           },
           "zerolinecolor": "white",
           "zerolinewidth": 2
          },
          "yaxis": {
           "automargin": true,
           "gridcolor": "white",
           "linecolor": "white",
           "ticks": "",
           "title": {
            "standoff": 15
           },
           "zerolinecolor": "white",
           "zerolinewidth": 2
          }
         }
        },
        "xaxis": {
         "anchor": "y",
         "domain": [
          0,
          1
         ],
         "title": {
          "text": "0"
         }
        },
        "yaxis": {
         "anchor": "x",
         "domain": [
          0,
          1
         ],
         "title": {
          "text": "count"
         }
        }
       }
      },
      "text/html": [
       "<div>\n",
       "        \n",
       "        \n",
       "            <div id=\"1dd0dd3a-8c9f-4a65-ac99-5488c54d8dad\" class=\"plotly-graph-div\" style=\"height:525px; width:100%;\"></div>\n",
       "            <script type=\"text/javascript\">\n",
       "                require([\"plotly\"], function(Plotly) {\n",
       "                    window.PLOTLYENV=window.PLOTLYENV || {};\n",
       "                    \n",
       "                if (document.getElementById(\"1dd0dd3a-8c9f-4a65-ac99-5488c54d8dad\")) {\n",
       "                    Plotly.newPlot(\n",
       "                        '1dd0dd3a-8c9f-4a65-ac99-5488c54d8dad',\n",
       "                        [{\"alignmentgroup\": \"True\", \"bingroup\": \"x\", \"hovertemplate\": \"0=%{x}<br>count=%{y}<extra></extra>\", \"legendgroup\": \"\", \"marker\": {\"color\": \"#636efa\"}, \"name\": \"\", \"offsetgroup\": \"\", \"orientation\": \"v\", \"showlegend\": false, \"type\": \"histogram\", \"x\": [0.0666725403502655, 0.06099673504935704, 0.04462927578801798, 0.08476995075848975, 0.050609126394284776, 0.04154192612811973, 0.22560693015559233, 0.045988915116565804, 0.060923612491814896, 0.06233762041221992, 0.13657579349097654, 0.047703309868535416, 0.2101832271080245, 0.037556291581481764, 0.05382385704435707, 0.04531371580787733, 0.057794552475614845, 0.16516824321161377, 0.046616090247307077, 0.058824216688254716, 0.06193478635233486, 0.19099559056395088, 0.048830997518255585, 0.045245018098442134, 0.08023554026007265, 0.04781542759433884, 0.04597999200241049, 0.045832652002445844, 0.04506000529068314, 0.05867189422761229, 0.10052732724547335, 0.05098624368850857, 0.06058320370465822, 0.19744249903801253, 0.1288340482116693, 0.05160011924975666, 0.06585115039896272, 0.05042027055415377, 0.27814646021957573, 0.16814651302453398, 0.10117677136117174, 0.0863964459359124, 0.14371911524836345, 0.13055721709812518, 0.06215241598863945, 0.14461223047664654, 0.1687197090313424, 0.1804482838883752, 0.044321828422254766, 0.061838677508609344, 0.06736012076370337, 0.06729335490114627, 0.08534151585415979, 0.0383025876668955, 0.04672750543519176, 0.06323090484639993, 0.3068536041592392, 0.06180587193944477, 0.11281000651967915, 0.060243331405720774, 0.04924369962120276, 0.052662287017823745, 0.06135890043660599, 0.05740091824124301, 0.349598179487002, 0.09611258717797129, 0.0626668507393954, 0.049074422319340866, 0.054630459941648356, 0.04828658426996814, 0.060936139227914965, 0.04929337302289065, 0.0471633378975476, 0.06285831963597971, 0.05686626295349968, 0.04148379813291645, 0.0628065564917354, 0.03260441890295835, 0.04514095356359374, 0.0638305321975109, 0.03680505918912345, 0.11625734306035004, 0.055535592003179854, 0.046808041716492534, 0.1975272374704824, 0.2580798848776322, 0.060406006625917795, 0.055662675805727216, 0.041819262175029424, 0.05925273018053659, 0.04078395101707352, 0.04547156848150823, 0.04929416734048961, 0.1044763984307912, 0.0946933445774707, 0.06140818124169361, 0.05087438158170786, 0.1181711024864125, 0.06573689019396742, 0.04380728106646763, 0.06686148914521381, 0.044004860013944595, 0.0468556171686986, 0.058832586421761264, 0.049539445724540325, 0.0687234067592652, 0.06943537444577973, 0.05839618478871951, 0.04613296101107155, 0.13210560104008104, 0.04773499853052538, 0.024214682131355983, 0.033237103864538514, 0.060618019927808894, 0.08565830014653904, 0.048464780910972, 0.05432638019766631, 0.06311753948244195, 0.17966227212313762, 0.04193168614580748, 0.05954720076693883, 0.3188613101134643, 0.055949107102331794, 0.26551969603146663, 0.04805660608603903, 0.0444643265291804, 0.06711687935718487, 0.06612774973813185, 0.03153146769702233, 0.062146801702784416, 0.047281737595448355, 0.17088647242262373, 0.06870352307321506, 0.051010639908430716, 0.05711079849295245, 0.1665890400195285, 0.1731312919929635, 0.06728043252611335, 0.049393921977162566, 0.10278287097368918, 0.037583861575632746, 0.04589586695608433, 0.11586050320183625, 0.1769091497848359, 0.061146456729168935, 0.05913099294085478, 0.14831094080577306, 0.04305815649531469, 0.07130254433668759, 0.0537446874772205, 0.16611412197164194, 0.09188748205526905, 0.047053687188785165, 0.07153139064190511, 0.06565712919442887, 0.043116662047300885, 0.05557992950787244, 0.059726639992659356, 0.17463817289692343, 0.04813504434539258, 0.04970603742490966, 0.03168366420988478, 0.04768036739869753, 0.09395200295545247, 0.22201305383099082, 0.07769340652691942, 0.050512144477801176, 0.06724270904719537, 0.04125389591509299, 0.04174346330096105, 0.04794888477488706, 0.06860647725446553, 0.0576821438249539, 0.06851815385701054, 0.08036762722844665, 0.045055626459616166, 0.05807939482089032, 0.18334113679115233, 0.15690665504087548, 0.22041100161424657, 0.08626519802313445, 0.048486808033292604, 0.04327140642152761, 0.05509480568331134, 0.06424901325814794, 0.05167759072815652, 0.0684398401103074, 0.047834529342368697, 0.06871447569074017, 0.05963209273873038, 0.13820970649035436, 0.11715526428342972, 0.05844122664963913, 0.0683367908613633, 0.12626037410175883, 0.096521218302542, 0.055238299830631304, 0.08653646486463669, 0.1447499788997845, 0.04634977543280128, 0.04422353219274783, 0.041716906520728514, 0.04183414493907824, 0.050680176253640165, 0.05435783134032765, 0.2031544119490043, 0.18646170657616343, 0.04639694001803919, 0.11547419985281038, 0.179284153828294, 0.20364910889905335, 0.049249570829403094, 0.05437419091069863, 0.07968905287774196, 0.04263275213485557, 0.06746763892864475, 0.046576051847542044, 0.17909646224050013, 0.07246643316079998, 0.05947316798723777, 0.04103018801932783, 0.04338691053770393, 0.09194399811954589, 0.04861050786231565, 0.05806454682286319, 0.05759712927634729, 0.04798925666188342, 0.06262482372209852, 0.09417118627898216, 0.2468037332529506, 0.09134818677136788, 0.03998817556013038, 0.04596657401134927, 0.04871252083492927, 0.11069210551664851, 0.043928702166165144, 0.03580385265278582, 0.15655949102980476, 0.06494406649874249, 0.057981540757056506, 0.05163510829833696, 0.04923591434442937, 0.046282959601417234, 0.04910436097747352, 0.22788516788512783, 0.2094970053864666, 0.044509982702567764, 0.05239099083997051, 0.03684352064599302, 0.036528255047563525, 0.040490768128016864, 0.08828100210453221, 0.06166296674152476, 0.051413538934822825, 0.16147449057847776, 0.060913960641801886, 0.05854187274515964, 0.0410850494873061, 0.047834529342368697, 0.047053687188785165, 0.2118407415131278, 0.05875611421024596, 0.049167825529088195, 0.11403822705597941, 0.05546700865388869, 0.04588449373446902, 0.053710663463185634, 0.15444767544090363, 0.2243834455970745, 0.0462679112005341, 0.06633716965005747, 0.05184424288204681, 0.04675711273724327, 0.17691555455441915, 0.18784757107427863, 0.06523077047682294, 0.04037284090670321, 0.04743461252214006, 0.05056239150525859, 0.09065166356554515, 0.04417730367075811, 0.06066957025198379, 0.2231443205870219, 0.16873894146356005, 0.06034015797107296, 0.09101215138467077, 0.1111090569111913, 0.05931463324319128, 0.057071629998811005, 0.05144517660050001, 0.04968011038026522, 0.04439414941328009, 0.06563094305444184, 0.039482216868588396, 0.03273279178492268, 0.0527420990865812, 0.04817916449471255, 0.04159755242425882, 0.057591080320558465, 0.06433407280682774, 0.1883552528203924, 0.058715693854805726, 0.043163627854291474, 0.06783290686949109, 0.17243425083874755, 0.2105331552773973, 0.03455711779567662, 0.05095576961842719, 0.08207825280624338, 0.0401448077297085, 0.04952293559085581, 0.06889000928504874, 0.11368259657995457, 0.16178984211045538, 0.05685993249133376, 0.0657397515906526, 0.038217757691322164, 0.23881244110433714, 0.052622835568109524, 0.05035425792740866, 0.17271218333832916, 0.04618472397826912, 0.04618472397826912, 0.061370135836277054, 0.10143026377075823, 0.03984678544886674, 0.06802076806370737, 0.0494814536676769, 0.036704314763938206, 0.05091067211799611, 0.0429470269756377, 0.058866099118712774, 0.16881682383925997, 0.06601828777376381, 0.05149638110622805, 0.19092503124950067, 0.059704058011868844, 0.06083681829823326, 0.05773713536064874, 0.06655366367196328, 0.1601747731175155, 0.032937229517564025, 0.0557598444972849, 0.05780513244210517, 0.051486382936420286, 0.060049355798004814, 0.04170337067113382, 0.09940155429880038, 0.22721343406597683, 0.06848886952042711, 0.045108478261168844, 0.061725937196035266, 0.054092434968923755, 0.05819343063986182, 0.03794542254439228, 0.18291781073416807, 0.11035148859428787, 0.04920278908780663, 0.08307541645955692, 0.07094515939162789, 0.04732527366915563, 0.044362737312216724, 0.059892483427020596, 0.06334038998427516, 0.026152135457235756, 0.04840377341505808, 0.04493662930833473, 0.09447802412576078, 0.05366114614720053, 0.1626458493685694, 0.04862289061949073, 0.05345171869983206, 0.09519086742422568, 0.05015739115354897, 0.27987193045858316, 0.03622244852458471, 0.05196087822278285, 0.05885762893521941, 0.2103538655096904, 0.04621179017480061, 0.04306185942554095, 0.047779104810913214, 0.11536855817981265, 0.06580151252583707, 0.04997041076937957, 0.1623120687962265, 0.06652172029311203, 0.3153638091930765, 0.045163888469779735, 0.05449546788409644, 0.05820195634816962, 0.06782428388744927, 0.04609827097209014, 0.05125347442427079, 0.1140826736923578, 0.2245065765965201, 0.256385081494471, 0.05733531420848992, 0.04358687281858783, 0.05662129923478187, 0.047953346676644665, 0.05904175471214493, 0.1662622219201827, 0.04889110116072357, 0.04955108682238291, 0.19661668946951713, 0.06657351574368045, 0.14580725459951244, 0.04553473613162727, 0.061399971974813866, 0.048288221771116295, 0.05783443607058551, 0.14514472707180345, 0.05556311706649361, 0.041368641892031564, 0.08408848301701599, 0.04755248428480018, 0.05838187109494853, 0.051384228691583836, 0.10039174491541866, 0.025838663574364644, 0.04675228180922723, 0.06203782055593276, 0.0957369953702757, 0.045913648032396004, 0.2754326320459951, 0.047416452605809324, 0.12475204061882977, 0.0477620601579379, 0.06895961933355058, 0.06412396125529485, 0.06743660821498464, 0.055297855998697715, 0.33602995679959063, 0.06727180392603026, 0.1784165465012914, 0.06506287410699726, 0.06530961464012552, 0.07043446817224557, 0.10009511629818839, 0.06384826568595076, 0.16408576127764088, 0.04246626480479068, 0.05007678997280488, 0.16600527455282668, 0.03618833389329755, 0.21357559398201512, 0.04828149451923091, 0.042876472310900776, 0.06204922813114715, 0.06323139267342298, 0.04639694001803919, 0.05600538785194765, 0.14699541754417095, 0.0484615040368201, 0.1883095553587249, 0.07029289644197147, 0.3431847859632742, 0.049776480921586, 0.30123636618788907, 0.17719147710951694, 0.06885259607237446, 0.053083111521999904, 0.05071314614478523, 0.04277394929591665, 0.0447339119010503, 0.0399846871431941, 0.05601089486727342, 0.05790735254880761, 0.066847923460827, 0.18746818274025812, 0.054868288905679255, 0.06335977803387118, 0.05403050872894308, 0.17476616271616305, 0.18719074307595418, 0.041169444898532026, 0.050969857094002716, 0.05719629295920293, 0.04817369707582281, 0.07529964917777786, 0.058608886494187995, 0.0428855361473105, 0.09175488318369913, 0.04830950048183233, 0.09112841822955134, 0.04819601205330944, 0.0806483351334763, 0.1740563952058206, 0.15979188852789272, 0.03115257617927744, 0.15883039208432886, 0.07276178639179429, 0.15276840403517114, 0.053212646604686664, 0.035953839202686556, 0.041095916021624636, 0.045381113767929894, 0.08638748238859498, 0.0919803881072631, 0.09507281886437981, 0.05041352766710866, 0.05863877522420108, 0.0519557723028502, 0.05608908277481851, 0.047459014441789356, 0.04484101268694463, 0.15714021341773185, 0.028794435427133523, 0.05091606945651586, 0.04521269704159975, 0.06183809542759791, 0.07087729387017079, 0.08398759668387082, 0.047053687188785165, 0.11598700867851097, 0.048690151930612297, 0.18339578637927173, 0.03754637249199333, 0.059533151501276, 0.17417842927271796, 0.05565533212071347, 0.05778280888946845, 0.08140115518758982, 0.24133216701496124, 0.06661402917674189, 0.042641009602884195, 0.220995319708058, 0.04605057911327788, 0.05376221336832642, 0.044766499609059575, 0.0863786028329376, 0.08467907861642478, 0.04751344291099742, 0.14690987666506816, 0.06363545739496908, 0.04327564339348129, 0.05092642172979782, 0.06684446639551546, 0.04500884711098934, 0.05139280913212023, 0.07513476928542279, 0.050139370042710615, 0.21750866121114154, 0.043585588891220106, 0.0510516143397969, 0.04535642856080917, 0.06606986955405422, 0.08172070340772036, 0.07854824587154485, 0.08831900288181527, 0.09572370861336664, 0.1722284421435874, 0.0666825652198646, 0.06673647020630072, 0.06722202704935151, 0.06092526708307633, 0.06137875840474119, 0.044087747610879136, 0.04765681653385728, 0.06794859788932703, 0.05630766858215526, 0.04703137096991486, 0.05883780118594431, 0.06138406075527979, 0.04795937850811777, 0.05597621828751075, 0.05247174141527333, 0.055933222633665305, 0.05091217993949418, 0.07113569678652087, 0.07502964957673733, 0.06440911936954055, 0.04902726965111421, 0.22912614470566292, 0.04810609058276264, 0.06433534868158454, 0.06481428705828697, 0.05635174761621451, 0.16366411062858, 0.05616341928154018, 0.04451993875237904, 0.06001142532595696, 0.04697575877330156, 0.05054697806899683, 0.05591350532222644, 0.13487631627809826, 0.0690709828551783, 0.05602083911992628, 0.05071279060014445, 0.050523313673678204, 0.2249245914363064, 0.04739719995223062, 0.04786849686021331, 0.04909066061381064, 0.09916103664459308, 0.055030217190835035, 0.056141387967063534, 0.10740991791038178, 0.04881715679188264, 0.24787221709483767, 0.05908314009757028, 0.094297426692169, 0.04346317317839753, 0.35370018066945214, 0.03367943667269915, 0.033729752348364464, 0.05186261899545823, 0.03698339759077909, 0.04485502188418231, 0.0530805964662384, 0.06713994802920871, 0.031151991822265003, 0.0655627300949997, 0.04697012487606001, 0.17346598496775759, 0.17240159858948473, 0.3463645759478721, 0.21678724113197184, 0.06527109512061663, 0.046358693476760034, 0.0551636440511569, 0.05528003462149095, 0.1534071054295763, 0.05206559416049493, 0.05834527309960919, 0.09674290038198591, 0.033456531884126124, 0.12565807595067266, 0.19429882436062018, 0.058205596273512045, 0.24090206103253717, 0.19022941835165008, 0.06775339135253468, 0.06272278040057508, 0.18640644172043946, 0.059939889294249614, 0.23136202298837583, 0.10169093261460253, 0.05464862446591949, 0.04497705638397828, 0.07841645388124693, 0.1673734050741965, 0.04553473613162727, 0.04266745212210585, 0.04652510605786659, 0.16050202311177547, 0.10752124050467307, 0.14458798053929675, 0.06802442538310653, 0.16026926993229856, 0.10017353457293725, 0.04662608329118289, 0.05190049888064881, 0.04587885596870197, 0.1280106813912097, 0.04622692563481709, 0.09369957333925538, 0.060578565665280075, 0.06183605911603148, 0.06131607559847875, 0.04930626564347746, 0.055115678919874345, 0.06496571512486932, 0.1837189656421559, 0.051795939644671926, 0.05912942821960135, 0.09461877568891519, 0.043161046377529724, 0.05494271783871417, 0.17833644683121475, 0.04742033661707056, 0.06379755339402457, 0.1711655656985254, 0.19461476535903233, 0.07396893427622955, 0.15685675867644436, 0.11422145504536627, 0.04105053184992821, 0.051875251138845085, 0.048503022098206054, 0.0538827052706138, 0.057424877551706964, 0.040463001163960996, 0.1480096469831344, 0.05163057253935777, 0.08380779712201507, 0.051611515646021955, 0.04959922742101888, 0.07081196836030504, 0.05003021208870885, 0.032446352065376896, 0.03371632592236826, 0.04538747566891166, 0.18599766897349146, 0.04697186216553102, 0.2478313735347603, 0.059321162007810034, 0.14786863556093652, 0.2060011387844517, 0.04891267525076927, 0.06471775303824774, 0.05174727139692323, 0.049907738677588555, 0.08615670856579916, 0.05234550279666178, 0.047053687188785165, 0.06506229705368706, 0.046645662287311776, 0.09275983320910398, 0.06396592969711053, 0.04681438035437128, 0.04566428513598687, 0.0688387877137676, 0.05172944401597504, 0.055051304525091466, 0.04739813702916075, 0.07339716636679168, 0.04604243222420898, 0.16881682383925997, 0.048379157047044354, 0.06494939193849066, 0.05420153867690185, 0.06853131779387392, 0.041832044843927184, 0.06514565711503367, 0.062087123704447494, 0.04787732545416311, 0.24875409388911668, 0.045733404188438895, 0.045364287699949546, 0.048892557124822954, 0.040879197831759785, 0.04905415750317407, 0.08630336536580539, 0.04667247368634001, 0.05703052909453409, 0.0435083991484985, 0.057453853151596464, 0.06606151931876193, 0.05295421942299365, 0.06026987542350107, 0.09633897916808766, 0.04374063985808992, 0.20763776849815627, 0.23861260801908815, 0.13958076577592526, 0.027174319559205365, 0.04811642368408119, 0.09863429490693484, 0.048029690603367786, 0.03918567611018682, 0.05547436111539448, 0.05769285454205993, 0.05150905500874539, 0.14988466171739534, 0.1107599090602888, 0.08549986859971784, 0.05867680313256651, 0.0432290029290012, 0.04110795849355093, 0.04459222622642703, 0.29174997087919285, 0.1654474654656672, 0.05861282157965747, 0.08566800270854352, 0.0631809887286901, 0.18954072041354486, 0.04805055496734367, 0.04210424867268683, 0.051265130789878606, 0.058112027742427276, 0.04449481708774032, 0.17519722412014221, 0.04894634832083595, 0.049698224724441215, 0.0889259040608306, 0.053297174720589056, 0.04768516898073214, 0.05636637561130127, 0.021819162276203986, 0.059542598113841716, 0.08998703336603904, 0.15978183970296483, 0.042542189336513006, 0.2618251187796836, 0.3572899409228846, 0.05412864080185563, 0.09887148339597288, 0.04948117762912707, 0.0689398856636818, 0.06609936386049825, 0.11602469279982572, 0.028677201658704216, 0.04492492678704389, 0.05221457006500791, 0.22243477487061475, 0.21114801343824754, 0.05635574866009595, 0.034588847139482085, 0.06141408545757472, 0.10164252451831908, 0.2360611549651558, 0.21229534100933503, 0.06109048412049674, 0.06777723687489437, 0.045221259552764265, 0.05175285318445415, 0.055767756019533245, 0.025850754059021958, 0.05221874268630825, 0.08126887971922304, 0.07018649400731403, 0.04589752375318695, 0.2153704844733271, 0.07044534318239935, 0.05944963671831435, 0.0525332878945725, 0.1492873551551822, 0.04552880664165012, 0.054020068112353686, 0.34323194123843526, 0.04352429995975296, 0.15298770328103592, 0.042310865616957245, 0.036686278841953336, 0.059884795814586576, 0.04579440066006126, 0.034132888982710524, 0.04581896053023964, 0.05103932452412284, 0.04036894211093579, 0.10026255670527753, 0.038041361821954715, 0.050721166960521966, 0.10039174491541866, 0.08644293598893658, 0.043995842233692004, 0.050425225267938835, 0.04871885996585096, 0.04591612599758159, 0.15962258120419737, 0.09151658316019953, 0.044691245730591925, 0.03282129525144496, 0.03973293112147068, 0.04632920995542476, 0.06601828777376381, 0.06016729318833164, 0.05888896043293475, 0.05568075791610951, 0.05829257911367475, 0.06869587382719874, 0.03625831465936239, 0.06021885614266154, 0.05028009487577655, 0.052537534913247766, 0.027474328441535488, 0.15106992012701742, 0.04596657401134927, 0.08199166393563506, 0.055966085408423044, 0.13101051905342115, 0.09324886295234405, 0.044103173113815786, 0.05877581818094483, 0.18796391762719214, 0.21427539001071969, 0.05669502489888155, 0.05449973769507612, 0.049910430234904046, 0.035359376339596536, 0.04071358085291152, 0.05301803116494444, 0.04314784589252299, 0.13403262095143118, 0.09173740032717267, 0.19365979054398186, 0.04277139404817118, 0.18770302869175612, 0.047053687188785165, 0.048546113395243125, 0.08410785620369442, 0.04639694001803919, 0.15971465493414808, 0.198727763671168, 0.0540451633959183, 0.03894553239029437, 0.10444714541562658, 0.05571206063304911, 0.06976430464516976, 0.06442206157128444, 0.049103235961316265, 0.055160706986472394, 0.07206763330200751, 0.06193478635233486, 0.050147920034837534, 0.06673588747709229, 0.044620294002605865, 0.05484093702332067, 0.04785566266470111, 0.04086867428263681, 0.15877702561943524, 0.04484101268694463, 0.05203034092608988, 0.1418316880603629, 0.05518240391318048, 0.04604941429223097, 0.061924004150172546, 0.04927776498299352, 0.062253100321697494, 0.047244705270673155, 0.041606625314175416, 0.20205450007250217, 0.06975104380639376, 0.04403644723874949, 0.06513415051300298, 0.05938871921840048, 0.1663662941691412, 0.05824410465288103, 0.04577025980812683, 0.05503884401790887, 0.059953680993025726, 0.06734611071945418, 0.047973919284571946, 0.08635722288263516, 0.15705230889318472, 0.050105244963942405, 0.05289476793868858, 0.04498946244333597, 0.04394119315525936, 0.051379585741328414, 0.05928701092643685, 0.06109048412049674, 0.04382543260741448, 0.05565230012953957, 0.0811596197123839, 0.0511188948748283, 0.07060395459891783, 0.053876061015192114, 0.033941614208821226, 0.057209061218668825, 0.05111649970718409, 0.059184508524337834, 0.059430674699897976, 0.11442166063691528, 0.027940685252513614, 0.04727234249722414, 0.05031295397610536, 0.03465691057570701, 0.05832128131976849, 0.06971255845011666, 0.06256111716451004, 0.09452708701840559, 0.049872135566199356, 0.05349224164275003, 0.14560807809844017, 0.09481229738112536, 0.04649628471978277, 0.17825003955862018, 0.04992084755040197, 0.0427658748904845, 0.05036169880281681, 0.18168279884897082, 0.43958815313914973, 0.04456771086386036, 0.12617755157404134], \"xaxis\": \"x\", \"yaxis\": \"y\"}],\n",
       "                        {\"barmode\": \"relative\", \"legend\": {\"tracegroupgap\": 0}, \"margin\": {\"t\": 60}, \"template\": {\"data\": {\"bar\": [{\"error_x\": {\"color\": \"#2a3f5f\"}, \"error_y\": {\"color\": \"#2a3f5f\"}, \"marker\": {\"line\": {\"color\": \"#E5ECF6\", \"width\": 0.5}}, \"type\": \"bar\"}], \"barpolar\": [{\"marker\": {\"line\": {\"color\": \"#E5ECF6\", \"width\": 0.5}}, \"type\": \"barpolar\"}], \"carpet\": [{\"aaxis\": {\"endlinecolor\": \"#2a3f5f\", \"gridcolor\": \"white\", \"linecolor\": \"white\", \"minorgridcolor\": \"white\", \"startlinecolor\": \"#2a3f5f\"}, \"baxis\": {\"endlinecolor\": \"#2a3f5f\", \"gridcolor\": \"white\", \"linecolor\": \"white\", \"minorgridcolor\": \"white\", \"startlinecolor\": \"#2a3f5f\"}, \"type\": \"carpet\"}], \"choropleth\": [{\"colorbar\": {\"outlinewidth\": 0, \"ticks\": \"\"}, \"type\": \"choropleth\"}], \"contour\": [{\"colorbar\": {\"outlinewidth\": 0, \"ticks\": \"\"}, \"colorscale\": [[0.0, \"#0d0887\"], [0.1111111111111111, \"#46039f\"], [0.2222222222222222, \"#7201a8\"], [0.3333333333333333, \"#9c179e\"], [0.4444444444444444, \"#bd3786\"], [0.5555555555555556, \"#d8576b\"], [0.6666666666666666, \"#ed7953\"], [0.7777777777777778, \"#fb9f3a\"], [0.8888888888888888, \"#fdca26\"], [1.0, \"#f0f921\"]], \"type\": \"contour\"}], \"contourcarpet\": [{\"colorbar\": {\"outlinewidth\": 0, \"ticks\": \"\"}, \"type\": \"contourcarpet\"}], \"heatmap\": [{\"colorbar\": {\"outlinewidth\": 0, \"ticks\": \"\"}, \"colorscale\": [[0.0, \"#0d0887\"], [0.1111111111111111, \"#46039f\"], [0.2222222222222222, \"#7201a8\"], [0.3333333333333333, \"#9c179e\"], [0.4444444444444444, \"#bd3786\"], [0.5555555555555556, \"#d8576b\"], [0.6666666666666666, \"#ed7953\"], [0.7777777777777778, \"#fb9f3a\"], [0.8888888888888888, \"#fdca26\"], [1.0, \"#f0f921\"]], \"type\": \"heatmap\"}], \"heatmapgl\": [{\"colorbar\": {\"outlinewidth\": 0, \"ticks\": \"\"}, \"colorscale\": [[0.0, \"#0d0887\"], [0.1111111111111111, \"#46039f\"], [0.2222222222222222, \"#7201a8\"], [0.3333333333333333, \"#9c179e\"], [0.4444444444444444, \"#bd3786\"], [0.5555555555555556, \"#d8576b\"], [0.6666666666666666, \"#ed7953\"], [0.7777777777777778, \"#fb9f3a\"], [0.8888888888888888, \"#fdca26\"], [1.0, \"#f0f921\"]], \"type\": \"heatmapgl\"}], \"histogram\": [{\"marker\": {\"colorbar\": {\"outlinewidth\": 0, \"ticks\": \"\"}}, \"type\": \"histogram\"}], \"histogram2d\": [{\"colorbar\": {\"outlinewidth\": 0, \"ticks\": \"\"}, \"colorscale\": [[0.0, \"#0d0887\"], [0.1111111111111111, \"#46039f\"], [0.2222222222222222, \"#7201a8\"], [0.3333333333333333, \"#9c179e\"], [0.4444444444444444, \"#bd3786\"], [0.5555555555555556, \"#d8576b\"], [0.6666666666666666, \"#ed7953\"], [0.7777777777777778, \"#fb9f3a\"], [0.8888888888888888, \"#fdca26\"], [1.0, \"#f0f921\"]], \"type\": \"histogram2d\"}], \"histogram2dcontour\": [{\"colorbar\": {\"outlinewidth\": 0, \"ticks\": \"\"}, \"colorscale\": [[0.0, \"#0d0887\"], [0.1111111111111111, \"#46039f\"], [0.2222222222222222, \"#7201a8\"], [0.3333333333333333, \"#9c179e\"], [0.4444444444444444, \"#bd3786\"], [0.5555555555555556, \"#d8576b\"], [0.6666666666666666, \"#ed7953\"], [0.7777777777777778, \"#fb9f3a\"], [0.8888888888888888, \"#fdca26\"], [1.0, \"#f0f921\"]], \"type\": \"histogram2dcontour\"}], \"mesh3d\": [{\"colorbar\": {\"outlinewidth\": 0, \"ticks\": \"\"}, \"type\": \"mesh3d\"}], \"parcoords\": [{\"line\": {\"colorbar\": {\"outlinewidth\": 0, \"ticks\": \"\"}}, \"type\": \"parcoords\"}], \"pie\": [{\"automargin\": true, \"type\": \"pie\"}], \"scatter\": [{\"marker\": {\"colorbar\": {\"outlinewidth\": 0, \"ticks\": \"\"}}, \"type\": \"scatter\"}], \"scatter3d\": [{\"line\": {\"colorbar\": {\"outlinewidth\": 0, \"ticks\": \"\"}}, \"marker\": {\"colorbar\": {\"outlinewidth\": 0, \"ticks\": \"\"}}, \"type\": \"scatter3d\"}], \"scattercarpet\": [{\"marker\": {\"colorbar\": {\"outlinewidth\": 0, \"ticks\": \"\"}}, \"type\": \"scattercarpet\"}], \"scattergeo\": [{\"marker\": {\"colorbar\": {\"outlinewidth\": 0, \"ticks\": \"\"}}, \"type\": \"scattergeo\"}], \"scattergl\": [{\"marker\": {\"colorbar\": {\"outlinewidth\": 0, \"ticks\": \"\"}}, \"type\": \"scattergl\"}], \"scattermapbox\": [{\"marker\": {\"colorbar\": {\"outlinewidth\": 0, \"ticks\": \"\"}}, \"type\": \"scattermapbox\"}], \"scatterpolar\": [{\"marker\": {\"colorbar\": {\"outlinewidth\": 0, \"ticks\": \"\"}}, \"type\": \"scatterpolar\"}], \"scatterpolargl\": [{\"marker\": {\"colorbar\": {\"outlinewidth\": 0, \"ticks\": \"\"}}, \"type\": \"scatterpolargl\"}], \"scatterternary\": [{\"marker\": {\"colorbar\": {\"outlinewidth\": 0, \"ticks\": \"\"}}, \"type\": \"scatterternary\"}], \"surface\": [{\"colorbar\": {\"outlinewidth\": 0, \"ticks\": \"\"}, \"colorscale\": [[0.0, \"#0d0887\"], [0.1111111111111111, \"#46039f\"], [0.2222222222222222, \"#7201a8\"], [0.3333333333333333, \"#9c179e\"], [0.4444444444444444, \"#bd3786\"], [0.5555555555555556, \"#d8576b\"], [0.6666666666666666, \"#ed7953\"], [0.7777777777777778, \"#fb9f3a\"], [0.8888888888888888, \"#fdca26\"], [1.0, \"#f0f921\"]], \"type\": \"surface\"}], \"table\": [{\"cells\": {\"fill\": {\"color\": \"#EBF0F8\"}, \"line\": {\"color\": \"white\"}}, \"header\": {\"fill\": {\"color\": \"#C8D4E3\"}, \"line\": {\"color\": \"white\"}}, \"type\": \"table\"}]}, \"layout\": {\"annotationdefaults\": {\"arrowcolor\": \"#2a3f5f\", \"arrowhead\": 0, \"arrowwidth\": 1}, \"coloraxis\": {\"colorbar\": {\"outlinewidth\": 0, \"ticks\": \"\"}}, \"colorscale\": {\"diverging\": [[0, \"#8e0152\"], [0.1, \"#c51b7d\"], [0.2, \"#de77ae\"], [0.3, \"#f1b6da\"], [0.4, \"#fde0ef\"], [0.5, \"#f7f7f7\"], [0.6, \"#e6f5d0\"], [0.7, \"#b8e186\"], [0.8, \"#7fbc41\"], [0.9, \"#4d9221\"], [1, \"#276419\"]], \"sequential\": [[0.0, \"#0d0887\"], [0.1111111111111111, \"#46039f\"], [0.2222222222222222, \"#7201a8\"], [0.3333333333333333, \"#9c179e\"], [0.4444444444444444, \"#bd3786\"], [0.5555555555555556, \"#d8576b\"], [0.6666666666666666, \"#ed7953\"], [0.7777777777777778, \"#fb9f3a\"], [0.8888888888888888, \"#fdca26\"], [1.0, \"#f0f921\"]], \"sequentialminus\": [[0.0, \"#0d0887\"], [0.1111111111111111, \"#46039f\"], [0.2222222222222222, \"#7201a8\"], [0.3333333333333333, \"#9c179e\"], [0.4444444444444444, \"#bd3786\"], [0.5555555555555556, \"#d8576b\"], [0.6666666666666666, \"#ed7953\"], [0.7777777777777778, \"#fb9f3a\"], [0.8888888888888888, \"#fdca26\"], [1.0, \"#f0f921\"]]}, \"colorway\": [\"#636efa\", \"#EF553B\", \"#00cc96\", \"#ab63fa\", \"#FFA15A\", \"#19d3f3\", \"#FF6692\", \"#B6E880\", \"#FF97FF\", \"#FECB52\"], \"font\": {\"color\": \"#2a3f5f\"}, \"geo\": {\"bgcolor\": \"white\", \"lakecolor\": \"white\", \"landcolor\": \"#E5ECF6\", \"showlakes\": true, \"showland\": true, \"subunitcolor\": \"white\"}, \"hoverlabel\": {\"align\": \"left\"}, \"hovermode\": \"closest\", \"mapbox\": {\"style\": \"light\"}, \"paper_bgcolor\": \"white\", \"plot_bgcolor\": \"#E5ECF6\", \"polar\": {\"angularaxis\": {\"gridcolor\": \"white\", \"linecolor\": \"white\", \"ticks\": \"\"}, \"bgcolor\": \"#E5ECF6\", \"radialaxis\": {\"gridcolor\": \"white\", \"linecolor\": \"white\", \"ticks\": \"\"}}, \"scene\": {\"xaxis\": {\"backgroundcolor\": \"#E5ECF6\", \"gridcolor\": \"white\", \"gridwidth\": 2, \"linecolor\": \"white\", \"showbackground\": true, \"ticks\": \"\", \"zerolinecolor\": \"white\"}, \"yaxis\": {\"backgroundcolor\": \"#E5ECF6\", \"gridcolor\": \"white\", \"gridwidth\": 2, \"linecolor\": \"white\", \"showbackground\": true, \"ticks\": \"\", \"zerolinecolor\": \"white\"}, \"zaxis\": {\"backgroundcolor\": \"#E5ECF6\", \"gridcolor\": \"white\", \"gridwidth\": 2, \"linecolor\": \"white\", \"showbackground\": true, \"ticks\": \"\", \"zerolinecolor\": \"white\"}}, \"shapedefaults\": {\"line\": {\"color\": \"#2a3f5f\"}}, \"ternary\": {\"aaxis\": {\"gridcolor\": \"white\", \"linecolor\": \"white\", \"ticks\": \"\"}, \"baxis\": {\"gridcolor\": \"white\", \"linecolor\": \"white\", \"ticks\": \"\"}, \"bgcolor\": \"#E5ECF6\", \"caxis\": {\"gridcolor\": \"white\", \"linecolor\": \"white\", \"ticks\": \"\"}}, \"title\": {\"x\": 0.05}, \"xaxis\": {\"automargin\": true, \"gridcolor\": \"white\", \"linecolor\": \"white\", \"ticks\": \"\", \"title\": {\"standoff\": 15}, \"zerolinecolor\": \"white\", \"zerolinewidth\": 2}, \"yaxis\": {\"automargin\": true, \"gridcolor\": \"white\", \"linecolor\": \"white\", \"ticks\": \"\", \"title\": {\"standoff\": 15}, \"zerolinecolor\": \"white\", \"zerolinewidth\": 2}}}, \"xaxis\": {\"anchor\": \"y\", \"domain\": [0.0, 1.0], \"title\": {\"text\": \"0\"}}, \"yaxis\": {\"anchor\": \"x\", \"domain\": [0.0, 1.0], \"title\": {\"text\": \"count\"}}},\n",
       "                        {\"responsive\": true}\n",
       "                    ).then(function(){\n",
       "                            \n",
       "var gd = document.getElementById('1dd0dd3a-8c9f-4a65-ac99-5488c54d8dad');\n",
       "var x = new MutationObserver(function (mutations, observer) {{\n",
       "        var display = window.getComputedStyle(gd).display;\n",
       "        if (!display || display === 'none') {{\n",
       "            console.log([gd, 'removed!']);\n",
       "            Plotly.purge(gd);\n",
       "            observer.disconnect();\n",
       "        }}\n",
       "}});\n",
       "\n",
       "// Listen for the removal of the full notebook cells\n",
       "var notebookContainer = gd.closest('#notebook-container');\n",
       "if (notebookContainer) {{\n",
       "    x.observe(notebookContainer, {childList: true});\n",
       "}}\n",
       "\n",
       "// Listen for the clearing of the current output cell\n",
       "var outputEl = gd.closest('.output');\n",
       "if (outputEl) {{\n",
       "    x.observe(outputEl, {childList: true});\n",
       "}}\n",
       "\n",
       "                        })\n",
       "                };\n",
       "                });\n",
       "            </script>\n",
       "        </div>"
      ]
     },
     "metadata": {},
     "output_type": "display_data"
    }
   ],
   "source": [
    "px.histogram(pd.DataFrame(y_pred_val), x=0)"
   ]
  },
  {
   "cell_type": "code",
   "execution_count": 23,
   "metadata": {
    "ExecuteTime": {
     "end_time": "2020-06-20T21:01:51.865787Z",
     "start_time": "2020-06-20T21:01:51.606047Z"
    }
   },
   "outputs": [
    {
     "data": {
      "application/vnd.plotly.v1+json": {
       "config": {
        "plotlyServerURL": "https://plot.ly"
       },
       "data": [
        {
         "alignmentgroup": "True",
         "bingroup": "x",
         "hovertemplate": "0=%{x}<br>count=%{y}<extra></extra>",
         "legendgroup": "",
         "marker": {
          "color": "#636efa"
         },
         "name": "",
         "offsetgroup": "",
         "orientation": "v",
         "showlegend": false,
         "type": "histogram",
         "x": [
          0.04549860342622466,
          0.043469550790983795,
          0.04277795895454308,
          0.039482216868588396,
          0.038134981552093515,
          0.033291507351701215,
          0.03818113008208844,
          0.04237736109505613,
          0.04170359932236844,
          0.037077646506278907,
          0.041345391899415766,
          0.029663479645563852,
          0.04177694067156175,
          0.044016178049979274,
          0.023765318297970524,
          0.03225556912899682,
          0.03343507205631056,
          0.033311348192945525,
          0.042150180929788984,
          0.04074837398731432,
          0.032875436690266734,
          0.04235336591620419,
          0.04193635865393503,
          0.03472231978911557,
          0.046907298254642876,
          0.026881123970022826,
          0.03138307043427974,
          0.03205628348780221,
          0.04543092752078883,
          0.03602339834233585,
          0.0440146796421642,
          0.04202483305574945,
          0.043894756950281756,
          0.05534762463677337,
          0.0356858167117833,
          0.04287394966196385,
          0.043154856618903684,
          0.03288844687656298,
          0.03711647867908626,
          0.05155277771771896,
          0.04202994104338185,
          0.030280920222335188,
          0.03129213910650869,
          0.040667839098470104,
          0.054929011792749116,
          0.02791730944614828,
          0.040831086670695016,
          0.03072859053839968,
          0.03295973646602944,
          0.022255190895791505,
          0.044646304247184056,
          0.041577764377964475,
          0.031165114932327362,
          0.034293375643640295,
          0.02775280503527213,
          0.04086185975555252,
          0.03518964993828462,
          0.03397477608469609,
          0.0394652889508022,
          0.04074698133123649,
          0.03459649701059246,
          0.0498766798700654,
          0.04023257559966357,
          0.03845562682491776,
          0.03402370769459021,
          0.037509929488001956,
          0.04144161293472933,
          0.03744560252119621,
          0.04146777851119441,
          0.050879544362337464,
          0.051716399130340415,
          0.037246644623332784,
          0.03187348307798514,
          0.034449951222712896,
          0.0448392253429252,
          0.04723413431252711,
          0.03295894223457073,
          0.045761450092849335,
          0.03064026198093405,
          0.027822081542680552,
          0.0443625402192868,
          0.045979172207650215,
          0.04068090605044169,
          0.03394114103928591,
          0.025327775589408304,
          0.032345342882495846,
          0.043165017746057584,
          0.03303492150167354,
          0.030125620464402154,
          0.04528193865009261,
          0.04139815284583709,
          0.03399218799202462,
          0.028066624212892632,
          0.05076587849639757,
          0.04454510252092082,
          0.04527414466582241,
          0.025089716040003388,
          0.031100152517496878,
          0.028908441063699913,
          0.02965567179382577,
          0.04237150561715933,
          0.04126295834299111,
          0.029853465487168433,
          0.04137134433499196,
          0.03561985861921584,
          0.044128282474553304,
          0.03938470729918362,
          0.03308135722195452,
          0.02837704208740016,
          0.03701567865709999,
          0.03996902683192396,
          0.038959167508631265,
          0.03337995414543078,
          0.042306184365559954,
          0.043987696598042136,
          0.03361863974709089,
          0.04199449741968338,
          0.05227758081788379,
          0.036915492055975496,
          0.030440460007086508,
          0.032437257517327414,
          0.04364642941690934,
          0.0373758890488278,
          0.030867904368010603,
          0.050132601944717595,
          0.024463812677936146,
          0.03447157610315911,
          0.0324850753626782,
          0.04071973519851105,
          0.03467264135719163,
          0.03644488941869034,
          0.05019013649476678,
          0.036003916591531196,
          0.02913314835003647,
          0.04795341713574445,
          0.030250719433031835,
          0.033796217812498655,
          0.043148342269066386,
          0.026188235845374205,
          0.04111031644103284,
          0.04332307318000652,
          0.03267629018080882,
          0.03630840684469884,
          0.033845559249371965,
          0.044878474724769093,
          0.04352111542447014,
          0.0445462764798197,
          0.030066325663769565,
          0.03422280916076001,
          0.03767212920846084,
          0.03918098588865461,
          0.07674959172538387,
          0.04251856042139308,
          0.03264640693450461,
          0.04583034272616582,
          0.038222772943160205,
          0.021588169761714418,
          0.04374705566269475,
          0.028249928365150723,
          0.051016284791343756,
          0.042277055949438445,
          0.05490802571459143,
          0.02940790234565513,
          0.022287862776740504,
          0.03913263744290212,
          0.04151110665545687,
          0.03982570417574005,
          0.03952387603903889,
          0.04630804914612392,
          0.03967758026579876,
          0.043938490057905365,
          0.04569912922363385,
          0.03299042469044337,
          0.03359676854075068,
          0.028119158608288918,
          0.03475513405987303,
          0.04173232464123087,
          0.043381788550019826,
          0.039022174813432634,
          0.04175886509750873,
          0.033441911880996746,
          0.015751719359462873,
          0.0337615431283316,
          0.050894909547790565,
          0.04516542285378626,
          0.03239304558785391,
          0.038719881782399365,
          0.04034016165218389,
          0.03320401323450046,
          0.05340604758483141,
          0.026052467507694056,
          0.03339977370117385,
          0.02956868982977301,
          0.05128678881853224,
          0.03965518292096945,
          0.0352225707274367,
          0.04945899106343798,
          0.036562187136516155,
          0.05180615548330716,
          0.08335730102886281,
          0.04125363150445193,
          0.03520419074716758,
          0.03427373112757337,
          0.02756190117900969,
          0.039744185697307276,
          0.047678819084689704,
          0.037128281889798644,
          0.06184367199865273,
          0.02282250507377863,
          0.02979860949645722,
          0.037246273211401656,
          0.04245959034394744,
          0.03595310176732596,
          0.03218208496066667,
          0.06775674860111254,
          0.08887121070816631,
          0.055848947040483446,
          0.0413712549423008,
          0.0711989375652631,
          0.05039489745159428,
          0.033477673911131184,
          0.030439361543897786,
          0.06643368831256065,
          0.05401114790796008,
          0.041929089196098314,
          0.03603437917748724,
          0.030966402486930826,
          0.04934801693507673,
          0.027497346519653916,
          0.030178504655285793,
          0.043443008992306874,
          0.03702787924599144,
          0.05768078175810188,
          0.04819962253331864,
          0.04189077792500319,
          0.031023792641935152,
          0.038744512531702885,
          0.03417908284703883,
          0.04417991107943665,
          0.03801432740168657,
          0.050950437958478874,
          0.03144793946485668,
          0.03476071641929854,
          0.07220906606627255,
          0.0414018629284053,
          0.04117414760343313,
          0.04721993809819389,
          0.031606555521658974,
          0.051398090169717164,
          0.08888139300515711,
          0.052058512282416536,
          0.02872250892541254,
          0.036270703267434395,
          0.04197311852458727,
          0.04125929838953273,
          0.03628923494617179,
          0.03906282342889045,
          0.04291406638461229,
          0.0491014118751506,
          0.03470061425878198,
          0.03634941125184307,
          0.04884749997433049,
          0.06880500457990284,
          0.045018710345510894,
          0.044529241203236224,
          0.057962503320964906,
          0.0508338041555991,
          0.029310928935173154,
          0.03200424106970831,
          0.033643081421660254,
          0.05009726503010815,
          0.05472427511492868,
          0.04656824905634112,
          0.062107657378141445,
          0.060235532357854324,
          0.04603095060061747,
          0.03685584508255519,
          0.051787776619233214,
          0.04344088643497431,
          0.045472247320569814,
          0.0500155168281128,
          0.03609573263312888,
          0.04316618043700962,
          0.043588846603557364,
          0.03950753604365753,
          0.09354366455253087,
          0.050523741019317066,
          0.060287574353568116,
          0.04763982953367713,
          0.036787938805777236,
          0.05381545307088489,
          0.049477093836541815,
          0.03495023316077868,
          0.042412091483304104,
          0.05123538188117416,
          0.03553082283646816,
          0.058087963631390724,
          0.04256201922841084,
          0.028191574617975515,
          0.04214296101065678,
          0.04903821352911359,
          0.04618555704583424,
          0.027109779096546438,
          0.02824210611415459,
          0.046110004950185614,
          0.045854088101079576,
          0.08303260535677881,
          0.04525321932257713,
          0.07241275101851613,
          0.04549489331380502,
          0.0577155360396554,
          0.04233301727821538,
          0.04648040184779522,
          0.04323037224558719,
          0.03793024355693671,
          0.03193933213249744,
          0.0408166161984897,
          0.044858298033947516,
          0.061231372202691675,
          0.10332558280053673,
          0.05401110199877539,
          0.09454443976730145,
          0.03661200470407919,
          0.029822679660825635,
          0.03850733526734724,
          0.05285752986844766,
          0.038792219673626956,
          0.03695967959931657,
          0.0458408016006488,
          0.04592292658728608,
          0.04138905497136268,
          0.056875407871990344,
          0.10087299974200271,
          0.056777662905053844,
          0.022783438654207205,
          0.05042954240815878,
          0.05243401116328612,
          0.04751831329782871,
          0.02915376518427943,
          0.08880174714744378,
          0.050453361043305715,
          0.05539966796887781,
          0.042815149474347114,
          0.04062742906238858,
          0.04023007927642225,
          0.0570945748921028,
          0.041717030925678744,
          0.044532993543335474,
          0.05872149769622481,
          0.10333481612014173,
          0.0554210814805364,
          0.0517477318831448,
          0.05942910534479026,
          0.050598214189087005,
          0.03977131070201167,
          0.09028065212018456,
          0.042675346685736394,
          0.03672859277979333,
          0.05092943459888907,
          0.06480120513484625,
          0.049503921893288325,
          0.05435739865454859,
          0.04995094961272745,
          0.03760832542328742,
          0.05161182765833145,
          0.04700967667265091,
          0.04827019473854448,
          0.08725180323679119,
          0.05230508915528502,
          0.06755061898291302,
          0.08256052133848327,
          0.048434046028563396,
          0.05739766807202837,
          0.0928768349129563,
          0.07363497827059148,
          0.04091253591290592,
          0.06602459029831644,
          0.058987477825890006,
          0.04710177402540446,
          0.08029736150094761,
          0.08244685794647576,
          0.05342444874925305,
          0.03704467697021697,
          0.04819523954086546,
          0.03866727813197599,
          0.0535276395389994,
          0.03712017089388465,
          0.08039081430954194,
          0.11355179732326584,
          0.049940874654996976,
          0.06965157613718835,
          0.11338300315227509,
          0.08286096255046725,
          0.10231078895542423,
          0.04230188722070195,
          0.04171229676202459,
          0.03332281195775022,
          0.05666971145328881,
          0.0790349137941353,
          0.05468810217791887,
          0.05478578300347182,
          0.04270951425371574,
          0.04175959402112891,
          0.05452362177453,
          0.053882133286371064,
          0.04905732464740508,
          0.04071205989484465,
          0.0534320706122534,
          0.05564205619524161,
          0.0605749770059391,
          0.04995717768054979,
          0.0546675755855766,
          0.025318439701612953,
          0.09472418674623352,
          0.06859430528003488,
          0.05629293806225268,
          0.07835711106108953,
          0.05811427463988125,
          0.06388537867349244,
          0.06522482340132013,
          0.06144832877158954,
          0.04886711245117354,
          0.03861335248764484,
          0.06050218922747652,
          0.04706415953981467,
          0.05558426784680673,
          0.03418928831973557,
          0.04168669432014006,
          0.09073323237934179,
          0.04882506392268165,
          0.059651530070056316,
          0.07833634080994795,
          0.050056925750692295,
          0.04308851245822072,
          0.038816497327870625,
          0.053608126152710184,
          0.11462277023198067,
          0.05290519572129009,
          0.05197714827686647,
          0.05121176231664023,
          0.07162310617222348,
          0.052434226903749374,
          0.05154395832122398,
          0.04731713292427625,
          0.05891501598915769,
          0.05682556489425013,
          0.044362756835231845,
          0.09414543755492506,
          0.05538546697359744,
          0.03493657250321825,
          0.05673805370952223,
          0.06865357011576194,
          0.05755762086632769,
          0.055282457005789556,
          0.05212533813313788,
          0.07672207017161417,
          0.03839777382256417,
          0.044733624578699095,
          0.04691607374040583,
          0.06634547858260695,
          0.1265358865198059,
          0.07245447119685153,
          0.06824462288122358,
          0.11390759636018419,
          0.27183455335366946,
          0.07951980798699806,
          0.04424916192494326,
          0.05077563861051954,
          0.06514144404327353,
          0.0669540978195737,
          0.06538919151647223,
          0.036960856251155506,
          0.07108470466466649,
          0.081820790437901,
          0.053193225070409106,
          0.09133016352388675,
          0.060589055001965875,
          0.08890196829027916,
          0.034611482808044054,
          0.05956393999806188,
          0.09616062224326592,
          0.05192429234457681,
          0.051517170543669964,
          0.08206293704877254,
          0.052190459702130224,
          0.058128354457833493,
          0.0506503693902161,
          0.0877471253413589,
          0.06078479669400659,
          0.10183039820869928,
          0.05612128196069355,
          0.05506287637159116,
          0.23475244149318175,
          0.06238684565568278,
          0.04069710237534527,
          0.10055614209202218,
          0.09617431583869061,
          0.04872841786322124,
          0.05058919125663731,
          0.10645504971122018,
          0.10832507480498192,
          0.08618674930808412,
          0.05888046330156302,
          0.05396926906478128,
          0.04650186322053355,
          0.04641663169913881,
          0.04659554436708663,
          0.05456333751506654,
          0.10418426558283894,
          0.05597093477403728,
          0.06549826590059218,
          0.048847522836658705,
          0.06200692561468903,
          0.039199279043183315,
          0.13470187252078425,
          0.07081404050230239,
          0.055854984730775145,
          0.0476393021411579,
          0.08326580120022993,
          0.048055724587162015,
          0.0713986582677275,
          0.06613357477704088,
          0.038300290608708584,
          0.0680176263762948,
          0.04432109736051089,
          0.051732638890302864,
          0.05915881149931034,
          0.0757661152513489,
          0.16783181423644877,
          0.06679040125428001,
          0.06453626151854461,
          0.046115111217493024,
          0.05624512190849765,
          0.11857597359287615,
          0.056105220392345515,
          0.13002994404459683,
          0.06706281535325154,
          0.04644864214427942,
          0.051698411607654454,
          0.04358500827960233,
          0.04994730531823385,
          0.1025772490507095,
          0.054416656477542916,
          0.06766608248415946,
          0.06218942172095743,
          0.07058888457010776,
          0.0669540978195737,
          0.05303745996062814,
          0.08390026911510014,
          0.051210221549174824,
          0.0724139060395249,
          0.10172509513659153,
          0.06151806681537263,
          0.043399984316030774,
          0.0997438733697584,
          0.13711172751137868,
          0.07151489756048396,
          0.06584788842532487,
          0.0343053949553357,
          0.09474327193685679,
          0.08625427316806705,
          0.052093438305280335,
          0.03799584729842252,
          0.11073276119430979,
          0.04682485411153006,
          0.0891254446733125,
          0.07653703905378159,
          0.07122448399994107,
          0.0814013271718291,
          0.09275670915081152,
          0.05266130599192653,
          0.04955664241676159,
          0.06517854956603586,
          0.047942541880817806,
          0.2228024299505253,
          0.04899126060865308,
          0.03164138945181913,
          0.0729403913727761,
          0.04599254283961869,
          0.11709394765013635,
          0.04708864539792375,
          0.059973431729265156,
          0.06276389587545783,
          0.45254465064018834,
          0.07236534842552479,
          0.05983279275402488,
          0.12243828005854246,
          0.034167879751213534,
          0.05565601579361425,
          0.054381712588746134,
          0.05830314189185923,
          0.08980737596212783,
          0.0843332778444961,
          0.048129812094486475,
          0.21238958769055621,
          0.042785961412519856,
          0.049736026239882,
          0.06900861616591054,
          0.08483114708468226,
          0.09668540715282364,
          0.21122529755764236,
          0.10093068326272578,
          0.06778462703544784,
          0.04129243166070389,
          0.06343742433110944,
          0.28828288739735863,
          0.08355545492524218,
          0.05890102686599608,
          0.08712323181283922,
          0.04167405131563392,
          0.11811563211307974,
          0.14209270886564024,
          0.060401271345375804,
          0.06821586501272518,
          0.10080802245135012,
          0.10335064456966418,
          0.2021395654595723,
          0.061096309523542836,
          0.04770200141877893,
          0.1901557740468796,
          0.1034210008493898,
          0.05335861937931486,
          0.08070771602453229,
          0.06848027311982777,
          0.06650089898172827,
          0.046406769081716814,
          0.06622354656882287,
          0.0670898172675567,
          0.06517980601536891,
          0.060213384781073895,
          0.1082213003224608,
          0.06766345723806258,
          0.05319215261114203,
          0.042236003977369554,
          0.07648863553378599,
          0.09612036578635391,
          0.11007620531551973,
          0.06181890702154809,
          0.05330289429543433,
          0.12207967343944488,
          0.10888794177928897,
          0.08974567121302603,
          0.047681602767822295,
          0.10464690758851997,
          0.06558547275499811,
          0.08989345742530797,
          0.15651566614295537,
          0.051921259104917294,
          0.049718487054111964,
          0.04791338478258291,
          0.09947948390846827,
          0.1847295837846067,
          0.052017831889605765,
          0.20858902474636615,
          0.05337064976944165,
          0.05937218324792499,
          0.058907704378663994,
          0.07880774524892861,
          0.049228488139125316,
          0.10969403180166451,
          0.2969544839420697,
          0.18499462254358162,
          0.065194864525263,
          0.27503119347648697,
          0.04912963203600739,
          0.09041182759058888,
          0.041355876673762046,
          0.24726996280964592,
          0.06581900640063779,
          0.09212948996486534,
          0.06584349234101516,
          0.11391148669359549,
          0.05942176204986415,
          0.06716726336036523,
          0.051353339112359626,
          0.21086112759478193,
          0.13052132917237194,
          0.05026344065652443,
          0.08642892645025486,
          0.049894951424680194,
          0.05508883635969586,
          0.05258050080466229,
          0.0744711230731405,
          0.3221468687074911,
          0.12731433721925645,
          0.05808163421279661,
          0.0735080269422379,
          0.1549182455004971,
          0.049068924847527624,
          0.09851430082569435,
          0.06081862406071807,
          0.053059616290775005,
          0.054545635624446476,
          0.09014799415340745,
          0.038029986456389844,
          0.08067522705236087,
          0.10908879160690033,
          0.07585429964091653,
          0.07927621949131335,
          0.2424729657009646,
          0.06097739281966771,
          0.10438694304806029,
          0.16407206414191244,
          0.19745080654943442,
          0.0814831784255982,
          0.3865360423558887,
          0.0640814919309037,
          0.07995088215318356,
          0.10113168760939875,
          0.28976878577127485,
          0.08381476303408852,
          0.13997078917317038,
          0.12977441793183025,
          0.0693903522393001,
          0.24910023493400815,
          0.1577707600667771,
          0.06360575807327742,
          0.06730114493304212,
          0.059131800858142694,
          0.09015306524272813,
          0.06996650674210679,
          0.31642140017259884,
          0.07036217635986501,
          0.054674764869519596,
          0.08661959520034007,
          0.19688277481536495,
          0.047071969545211374,
          0.05140737389458672,
          0.050323974405402296,
          0.06812741470474812,
          0.5107269378921453,
          0.05246416576290126,
          0.23932257439626625,
          0.054423549171551115,
          0.33060715741649316,
          0.06256575184244058,
          0.06428271025721206,
          0.11045300637126595,
          0.17260006099374708,
          0.2910444335587957,
          0.1926872189269931,
          0.0603754008139447,
          0.060470060356116975,
          0.10933884385100824,
          0.09124813052648441,
          0.2531947364069853,
          0.05456965152521513,
          0.1696574934100866,
          0.059120171224315676,
          0.057434154833255924,
          0.1952740665045046,
          0.23193795058897296,
          0.1695777793266273,
          0.06686036406778685,
          0.05826785005026103,
          0.08618559564777256,
          0.1667633817918479,
          0.1058436988060065,
          0.07899602340639159,
          0.2052049815125993,
          0.19836075960697092,
          0.10100925204816541,
          0.1220320560136493,
          0.04938504832265074,
          0.11513285571054516,
          0.1898182637364152,
          0.060671095547929516,
          0.10814661834440382,
          0.16007125702892555,
          0.21573393546010863,
          0.17276422690465779,
          0.20328929757968342,
          0.4091954074367006,
          0.1055912071942422,
          0.13583800628873435,
          0.05417863004810651,
          0.08173460607760415,
          0.15520956622059634,
          0.06708289647468514,
          0.2358393458999102,
          0.05702459686344109,
          0.2846317577425098,
          0.1685049724188463,
          0.24726752523769227,
          0.05398610082562791,
          0.06586333279092876,
          0.18083559482547534,
          0.16612171891314292,
          0.21008841141867363,
          0.2247275473780925,
          0.04708996582000581,
          0.1681210116295308,
          0.16654935733006232,
          0.11406174482709788,
          0.20978657996375427,
          0.08303924153564199,
          0.23867459868296695,
          0.22714499178202585,
          0.19502285642524889,
          0.27686798228245224,
          0.47070141602577886,
          0.3474456236491634,
          0.10905158694430843,
          0.06259832791415776,
          0.18012614633992924,
          0.25423145060495844,
          0.23022466287306595,
          0.18521581686952426,
          0.30303902002062255,
          0.26413313188833465,
          0.07727247103983019,
          0.12859362417981723,
          0.18161266231074738,
          0.11624271584351628,
          0.20101729463253432,
          0.25072300099447387,
          0.05373468602848845,
          0.08536343821415113,
          0.07569862764581684,
          0.1828965640175898,
          0.21354559729946349,
          0.3178047299621601,
          0.2563433306518322,
          0.22245966297058334,
          0.16372599631693757,
          0.18695695696960873,
          0.3346769146617251,
          0.23664099955511753,
          0.18956160028295277,
          0.18509268534213869,
          0.2510124416323094,
          0.16756512885659158,
          0.19858502560704278,
          0.0543948234797593,
          0.16511187337450633,
          0.18617352027384518,
          0.39804869478997723,
          0.2865025643076432,
          0.055368093498888896,
          0.21006989011369626,
          0.1976068884032231,
          0.290454584478549,
          0.25031641661028237,
          0.1949876373505156,
          0.04874441819164713,
          0.207410828841387,
          0.2518129165607357,
          0.18496588641467088,
          0.09490929594373401,
          0.2716531752608856,
          0.220900678208618,
          0.2791090937147702,
          0.36284904273905555,
          0.21633343402961147,
          0.2889061983417305,
          0.24146930151066032,
          0.0917069497244703,
          0.17499372280288172,
          0.2676529778536363,
          0.21039104007272225,
          0.18876618436740294,
          0.2201561775533558,
          0.17416863710379316,
          0.25808699150204495,
          0.1675749566359379,
          0.2176199491352563,
          0.05955708433569086,
          0.20838146468421762,
          0.2672837245503802,
          0.20471366932156965,
          0.22012362923706716,
          0.21077903592543232,
          0.13292208637179417,
          0.31665882791694266,
          0.3682094963242236,
          0.13522343576895896,
          0.22350132679922577,
          0.2873766427697027,
          0.2737323827769691,
          0.22056481989101645,
          0.19742104589226017,
          0.22408955021984867,
          0.16537344113585511,
          0.2860719766352007,
          0.23646035145717229,
          0.050170917675035114,
          0.05839618478871951,
          0.08084953712330481,
          0.06981521633428009,
          0.05173354710713836
         ],
         "xaxis": "x",
         "yaxis": "y"
        }
       ],
       "layout": {
        "barmode": "relative",
        "legend": {
         "tracegroupgap": 0
        },
        "margin": {
         "t": 60
        },
        "template": {
         "data": {
          "bar": [
           {
            "error_x": {
             "color": "#2a3f5f"
            },
            "error_y": {
             "color": "#2a3f5f"
            },
            "marker": {
             "line": {
              "color": "#E5ECF6",
              "width": 0.5
             }
            },
            "type": "bar"
           }
          ],
          "barpolar": [
           {
            "marker": {
             "line": {
              "color": "#E5ECF6",
              "width": 0.5
             }
            },
            "type": "barpolar"
           }
          ],
          "carpet": [
           {
            "aaxis": {
             "endlinecolor": "#2a3f5f",
             "gridcolor": "white",
             "linecolor": "white",
             "minorgridcolor": "white",
             "startlinecolor": "#2a3f5f"
            },
            "baxis": {
             "endlinecolor": "#2a3f5f",
             "gridcolor": "white",
             "linecolor": "white",
             "minorgridcolor": "white",
             "startlinecolor": "#2a3f5f"
            },
            "type": "carpet"
           }
          ],
          "choropleth": [
           {
            "colorbar": {
             "outlinewidth": 0,
             "ticks": ""
            },
            "type": "choropleth"
           }
          ],
          "contour": [
           {
            "colorbar": {
             "outlinewidth": 0,
             "ticks": ""
            },
            "colorscale": [
             [
              0,
              "#0d0887"
             ],
             [
              0.1111111111111111,
              "#46039f"
             ],
             [
              0.2222222222222222,
              "#7201a8"
             ],
             [
              0.3333333333333333,
              "#9c179e"
             ],
             [
              0.4444444444444444,
              "#bd3786"
             ],
             [
              0.5555555555555556,
              "#d8576b"
             ],
             [
              0.6666666666666666,
              "#ed7953"
             ],
             [
              0.7777777777777778,
              "#fb9f3a"
             ],
             [
              0.8888888888888888,
              "#fdca26"
             ],
             [
              1,
              "#f0f921"
             ]
            ],
            "type": "contour"
           }
          ],
          "contourcarpet": [
           {
            "colorbar": {
             "outlinewidth": 0,
             "ticks": ""
            },
            "type": "contourcarpet"
           }
          ],
          "heatmap": [
           {
            "colorbar": {
             "outlinewidth": 0,
             "ticks": ""
            },
            "colorscale": [
             [
              0,
              "#0d0887"
             ],
             [
              0.1111111111111111,
              "#46039f"
             ],
             [
              0.2222222222222222,
              "#7201a8"
             ],
             [
              0.3333333333333333,
              "#9c179e"
             ],
             [
              0.4444444444444444,
              "#bd3786"
             ],
             [
              0.5555555555555556,
              "#d8576b"
             ],
             [
              0.6666666666666666,
              "#ed7953"
             ],
             [
              0.7777777777777778,
              "#fb9f3a"
             ],
             [
              0.8888888888888888,
              "#fdca26"
             ],
             [
              1,
              "#f0f921"
             ]
            ],
            "type": "heatmap"
           }
          ],
          "heatmapgl": [
           {
            "colorbar": {
             "outlinewidth": 0,
             "ticks": ""
            },
            "colorscale": [
             [
              0,
              "#0d0887"
             ],
             [
              0.1111111111111111,
              "#46039f"
             ],
             [
              0.2222222222222222,
              "#7201a8"
             ],
             [
              0.3333333333333333,
              "#9c179e"
             ],
             [
              0.4444444444444444,
              "#bd3786"
             ],
             [
              0.5555555555555556,
              "#d8576b"
             ],
             [
              0.6666666666666666,
              "#ed7953"
             ],
             [
              0.7777777777777778,
              "#fb9f3a"
             ],
             [
              0.8888888888888888,
              "#fdca26"
             ],
             [
              1,
              "#f0f921"
             ]
            ],
            "type": "heatmapgl"
           }
          ],
          "histogram": [
           {
            "marker": {
             "colorbar": {
              "outlinewidth": 0,
              "ticks": ""
             }
            },
            "type": "histogram"
           }
          ],
          "histogram2d": [
           {
            "colorbar": {
             "outlinewidth": 0,
             "ticks": ""
            },
            "colorscale": [
             [
              0,
              "#0d0887"
             ],
             [
              0.1111111111111111,
              "#46039f"
             ],
             [
              0.2222222222222222,
              "#7201a8"
             ],
             [
              0.3333333333333333,
              "#9c179e"
             ],
             [
              0.4444444444444444,
              "#bd3786"
             ],
             [
              0.5555555555555556,
              "#d8576b"
             ],
             [
              0.6666666666666666,
              "#ed7953"
             ],
             [
              0.7777777777777778,
              "#fb9f3a"
             ],
             [
              0.8888888888888888,
              "#fdca26"
             ],
             [
              1,
              "#f0f921"
             ]
            ],
            "type": "histogram2d"
           }
          ],
          "histogram2dcontour": [
           {
            "colorbar": {
             "outlinewidth": 0,
             "ticks": ""
            },
            "colorscale": [
             [
              0,
              "#0d0887"
             ],
             [
              0.1111111111111111,
              "#46039f"
             ],
             [
              0.2222222222222222,
              "#7201a8"
             ],
             [
              0.3333333333333333,
              "#9c179e"
             ],
             [
              0.4444444444444444,
              "#bd3786"
             ],
             [
              0.5555555555555556,
              "#d8576b"
             ],
             [
              0.6666666666666666,
              "#ed7953"
             ],
             [
              0.7777777777777778,
              "#fb9f3a"
             ],
             [
              0.8888888888888888,
              "#fdca26"
             ],
             [
              1,
              "#f0f921"
             ]
            ],
            "type": "histogram2dcontour"
           }
          ],
          "mesh3d": [
           {
            "colorbar": {
             "outlinewidth": 0,
             "ticks": ""
            },
            "type": "mesh3d"
           }
          ],
          "parcoords": [
           {
            "line": {
             "colorbar": {
              "outlinewidth": 0,
              "ticks": ""
             }
            },
            "type": "parcoords"
           }
          ],
          "pie": [
           {
            "automargin": true,
            "type": "pie"
           }
          ],
          "scatter": [
           {
            "marker": {
             "colorbar": {
              "outlinewidth": 0,
              "ticks": ""
             }
            },
            "type": "scatter"
           }
          ],
          "scatter3d": [
           {
            "line": {
             "colorbar": {
              "outlinewidth": 0,
              "ticks": ""
             }
            },
            "marker": {
             "colorbar": {
              "outlinewidth": 0,
              "ticks": ""
             }
            },
            "type": "scatter3d"
           }
          ],
          "scattercarpet": [
           {
            "marker": {
             "colorbar": {
              "outlinewidth": 0,
              "ticks": ""
             }
            },
            "type": "scattercarpet"
           }
          ],
          "scattergeo": [
           {
            "marker": {
             "colorbar": {
              "outlinewidth": 0,
              "ticks": ""
             }
            },
            "type": "scattergeo"
           }
          ],
          "scattergl": [
           {
            "marker": {
             "colorbar": {
              "outlinewidth": 0,
              "ticks": ""
             }
            },
            "type": "scattergl"
           }
          ],
          "scattermapbox": [
           {
            "marker": {
             "colorbar": {
              "outlinewidth": 0,
              "ticks": ""
             }
            },
            "type": "scattermapbox"
           }
          ],
          "scatterpolar": [
           {
            "marker": {
             "colorbar": {
              "outlinewidth": 0,
              "ticks": ""
             }
            },
            "type": "scatterpolar"
           }
          ],
          "scatterpolargl": [
           {
            "marker": {
             "colorbar": {
              "outlinewidth": 0,
              "ticks": ""
             }
            },
            "type": "scatterpolargl"
           }
          ],
          "scatterternary": [
           {
            "marker": {
             "colorbar": {
              "outlinewidth": 0,
              "ticks": ""
             }
            },
            "type": "scatterternary"
           }
          ],
          "surface": [
           {
            "colorbar": {
             "outlinewidth": 0,
             "ticks": ""
            },
            "colorscale": [
             [
              0,
              "#0d0887"
             ],
             [
              0.1111111111111111,
              "#46039f"
             ],
             [
              0.2222222222222222,
              "#7201a8"
             ],
             [
              0.3333333333333333,
              "#9c179e"
             ],
             [
              0.4444444444444444,
              "#bd3786"
             ],
             [
              0.5555555555555556,
              "#d8576b"
             ],
             [
              0.6666666666666666,
              "#ed7953"
             ],
             [
              0.7777777777777778,
              "#fb9f3a"
             ],
             [
              0.8888888888888888,
              "#fdca26"
             ],
             [
              1,
              "#f0f921"
             ]
            ],
            "type": "surface"
           }
          ],
          "table": [
           {
            "cells": {
             "fill": {
              "color": "#EBF0F8"
             },
             "line": {
              "color": "white"
             }
            },
            "header": {
             "fill": {
              "color": "#C8D4E3"
             },
             "line": {
              "color": "white"
             }
            },
            "type": "table"
           }
          ]
         },
         "layout": {
          "annotationdefaults": {
           "arrowcolor": "#2a3f5f",
           "arrowhead": 0,
           "arrowwidth": 1
          },
          "coloraxis": {
           "colorbar": {
            "outlinewidth": 0,
            "ticks": ""
           }
          },
          "colorscale": {
           "diverging": [
            [
             0,
             "#8e0152"
            ],
            [
             0.1,
             "#c51b7d"
            ],
            [
             0.2,
             "#de77ae"
            ],
            [
             0.3,
             "#f1b6da"
            ],
            [
             0.4,
             "#fde0ef"
            ],
            [
             0.5,
             "#f7f7f7"
            ],
            [
             0.6,
             "#e6f5d0"
            ],
            [
             0.7,
             "#b8e186"
            ],
            [
             0.8,
             "#7fbc41"
            ],
            [
             0.9,
             "#4d9221"
            ],
            [
             1,
             "#276419"
            ]
           ],
           "sequential": [
            [
             0,
             "#0d0887"
            ],
            [
             0.1111111111111111,
             "#46039f"
            ],
            [
             0.2222222222222222,
             "#7201a8"
            ],
            [
             0.3333333333333333,
             "#9c179e"
            ],
            [
             0.4444444444444444,
             "#bd3786"
            ],
            [
             0.5555555555555556,
             "#d8576b"
            ],
            [
             0.6666666666666666,
             "#ed7953"
            ],
            [
             0.7777777777777778,
             "#fb9f3a"
            ],
            [
             0.8888888888888888,
             "#fdca26"
            ],
            [
             1,
             "#f0f921"
            ]
           ],
           "sequentialminus": [
            [
             0,
             "#0d0887"
            ],
            [
             0.1111111111111111,
             "#46039f"
            ],
            [
             0.2222222222222222,
             "#7201a8"
            ],
            [
             0.3333333333333333,
             "#9c179e"
            ],
            [
             0.4444444444444444,
             "#bd3786"
            ],
            [
             0.5555555555555556,
             "#d8576b"
            ],
            [
             0.6666666666666666,
             "#ed7953"
            ],
            [
             0.7777777777777778,
             "#fb9f3a"
            ],
            [
             0.8888888888888888,
             "#fdca26"
            ],
            [
             1,
             "#f0f921"
            ]
           ]
          },
          "colorway": [
           "#636efa",
           "#EF553B",
           "#00cc96",
           "#ab63fa",
           "#FFA15A",
           "#19d3f3",
           "#FF6692",
           "#B6E880",
           "#FF97FF",
           "#FECB52"
          ],
          "font": {
           "color": "#2a3f5f"
          },
          "geo": {
           "bgcolor": "white",
           "lakecolor": "white",
           "landcolor": "#E5ECF6",
           "showlakes": true,
           "showland": true,
           "subunitcolor": "white"
          },
          "hoverlabel": {
           "align": "left"
          },
          "hovermode": "closest",
          "mapbox": {
           "style": "light"
          },
          "paper_bgcolor": "white",
          "plot_bgcolor": "#E5ECF6",
          "polar": {
           "angularaxis": {
            "gridcolor": "white",
            "linecolor": "white",
            "ticks": ""
           },
           "bgcolor": "#E5ECF6",
           "radialaxis": {
            "gridcolor": "white",
            "linecolor": "white",
            "ticks": ""
           }
          },
          "scene": {
           "xaxis": {
            "backgroundcolor": "#E5ECF6",
            "gridcolor": "white",
            "gridwidth": 2,
            "linecolor": "white",
            "showbackground": true,
            "ticks": "",
            "zerolinecolor": "white"
           },
           "yaxis": {
            "backgroundcolor": "#E5ECF6",
            "gridcolor": "white",
            "gridwidth": 2,
            "linecolor": "white",
            "showbackground": true,
            "ticks": "",
            "zerolinecolor": "white"
           },
           "zaxis": {
            "backgroundcolor": "#E5ECF6",
            "gridcolor": "white",
            "gridwidth": 2,
            "linecolor": "white",
            "showbackground": true,
            "ticks": "",
            "zerolinecolor": "white"
           }
          },
          "shapedefaults": {
           "line": {
            "color": "#2a3f5f"
           }
          },
          "ternary": {
           "aaxis": {
            "gridcolor": "white",
            "linecolor": "white",
            "ticks": ""
           },
           "baxis": {
            "gridcolor": "white",
            "linecolor": "white",
            "ticks": ""
           },
           "bgcolor": "#E5ECF6",
           "caxis": {
            "gridcolor": "white",
            "linecolor": "white",
            "ticks": ""
           }
          },
          "title": {
           "x": 0.05
          },
          "xaxis": {
           "automargin": true,
           "gridcolor": "white",
           "linecolor": "white",
           "ticks": "",
           "title": {
            "standoff": 15
           },
           "zerolinecolor": "white",
           "zerolinewidth": 2
          },
          "yaxis": {
           "automargin": true,
           "gridcolor": "white",
           "linecolor": "white",
           "ticks": "",
           "title": {
            "standoff": 15
           },
           "zerolinecolor": "white",
           "zerolinewidth": 2
          }
         }
        },
        "xaxis": {
         "anchor": "y",
         "domain": [
          0,
          1
         ],
         "title": {
          "text": "0"
         }
        },
        "yaxis": {
         "anchor": "x",
         "domain": [
          0,
          1
         ],
         "title": {
          "text": "count"
         }
        }
       }
      },
      "text/html": [
       "<div>\n",
       "        \n",
       "        \n",
       "            <div id=\"2b1bd8f8-9dcd-4221-80ad-0d12bf717615\" class=\"plotly-graph-div\" style=\"height:525px; width:100%;\"></div>\n",
       "            <script type=\"text/javascript\">\n",
       "                require([\"plotly\"], function(Plotly) {\n",
       "                    window.PLOTLYENV=window.PLOTLYENV || {};\n",
       "                    \n",
       "                if (document.getElementById(\"2b1bd8f8-9dcd-4221-80ad-0d12bf717615\")) {\n",
       "                    Plotly.newPlot(\n",
       "                        '2b1bd8f8-9dcd-4221-80ad-0d12bf717615',\n",
       "                        [{\"alignmentgroup\": \"True\", \"bingroup\": \"x\", \"hovertemplate\": \"0=%{x}<br>count=%{y}<extra></extra>\", \"legendgroup\": \"\", \"marker\": {\"color\": \"#636efa\"}, \"name\": \"\", \"offsetgroup\": \"\", \"orientation\": \"v\", \"showlegend\": false, \"type\": \"histogram\", \"x\": [0.04549860342622466, 0.043469550790983795, 0.04277795895454308, 0.039482216868588396, 0.038134981552093515, 0.033291507351701215, 0.03818113008208844, 0.04237736109505613, 0.04170359932236844, 0.037077646506278907, 0.041345391899415766, 0.029663479645563852, 0.04177694067156175, 0.044016178049979274, 0.023765318297970524, 0.03225556912899682, 0.03343507205631056, 0.033311348192945525, 0.042150180929788984, 0.04074837398731432, 0.032875436690266734, 0.04235336591620419, 0.04193635865393503, 0.03472231978911557, 0.046907298254642876, 0.026881123970022826, 0.03138307043427974, 0.03205628348780221, 0.04543092752078883, 0.03602339834233585, 0.0440146796421642, 0.04202483305574945, 0.043894756950281756, 0.05534762463677337, 0.0356858167117833, 0.04287394966196385, 0.043154856618903684, 0.03288844687656298, 0.03711647867908626, 0.05155277771771896, 0.04202994104338185, 0.030280920222335188, 0.03129213910650869, 0.040667839098470104, 0.054929011792749116, 0.02791730944614828, 0.040831086670695016, 0.03072859053839968, 0.03295973646602944, 0.022255190895791505, 0.044646304247184056, 0.041577764377964475, 0.031165114932327362, 0.034293375643640295, 0.02775280503527213, 0.04086185975555252, 0.03518964993828462, 0.03397477608469609, 0.0394652889508022, 0.04074698133123649, 0.03459649701059246, 0.0498766798700654, 0.04023257559966357, 0.03845562682491776, 0.03402370769459021, 0.037509929488001956, 0.04144161293472933, 0.03744560252119621, 0.04146777851119441, 0.050879544362337464, 0.051716399130340415, 0.037246644623332784, 0.03187348307798514, 0.034449951222712896, 0.0448392253429252, 0.04723413431252711, 0.03295894223457073, 0.045761450092849335, 0.03064026198093405, 0.027822081542680552, 0.0443625402192868, 0.045979172207650215, 0.04068090605044169, 0.03394114103928591, 0.025327775589408304, 0.032345342882495846, 0.043165017746057584, 0.03303492150167354, 0.030125620464402154, 0.04528193865009261, 0.04139815284583709, 0.03399218799202462, 0.028066624212892632, 0.05076587849639757, 0.04454510252092082, 0.04527414466582241, 0.025089716040003388, 0.031100152517496878, 0.028908441063699913, 0.02965567179382577, 0.04237150561715933, 0.04126295834299111, 0.029853465487168433, 0.04137134433499196, 0.03561985861921584, 0.044128282474553304, 0.03938470729918362, 0.03308135722195452, 0.02837704208740016, 0.03701567865709999, 0.03996902683192396, 0.038959167508631265, 0.03337995414543078, 0.042306184365559954, 0.043987696598042136, 0.03361863974709089, 0.04199449741968338, 0.05227758081788379, 0.036915492055975496, 0.030440460007086508, 0.032437257517327414, 0.04364642941690934, 0.0373758890488278, 0.030867904368010603, 0.050132601944717595, 0.024463812677936146, 0.03447157610315911, 0.0324850753626782, 0.04071973519851105, 0.03467264135719163, 0.03644488941869034, 0.05019013649476678, 0.036003916591531196, 0.02913314835003647, 0.04795341713574445, 0.030250719433031835, 0.033796217812498655, 0.043148342269066386, 0.026188235845374205, 0.04111031644103284, 0.04332307318000652, 0.03267629018080882, 0.03630840684469884, 0.033845559249371965, 0.044878474724769093, 0.04352111542447014, 0.0445462764798197, 0.030066325663769565, 0.03422280916076001, 0.03767212920846084, 0.03918098588865461, 0.07674959172538387, 0.04251856042139308, 0.03264640693450461, 0.04583034272616582, 0.038222772943160205, 0.021588169761714418, 0.04374705566269475, 0.028249928365150723, 0.051016284791343756, 0.042277055949438445, 0.05490802571459143, 0.02940790234565513, 0.022287862776740504, 0.03913263744290212, 0.04151110665545687, 0.03982570417574005, 0.03952387603903889, 0.04630804914612392, 0.03967758026579876, 0.043938490057905365, 0.04569912922363385, 0.03299042469044337, 0.03359676854075068, 0.028119158608288918, 0.03475513405987303, 0.04173232464123087, 0.043381788550019826, 0.039022174813432634, 0.04175886509750873, 0.033441911880996746, 0.015751719359462873, 0.0337615431283316, 0.050894909547790565, 0.04516542285378626, 0.03239304558785391, 0.038719881782399365, 0.04034016165218389, 0.03320401323450046, 0.05340604758483141, 0.026052467507694056, 0.03339977370117385, 0.02956868982977301, 0.05128678881853224, 0.03965518292096945, 0.0352225707274367, 0.04945899106343798, 0.036562187136516155, 0.05180615548330716, 0.08335730102886281, 0.04125363150445193, 0.03520419074716758, 0.03427373112757337, 0.02756190117900969, 0.039744185697307276, 0.047678819084689704, 0.037128281889798644, 0.06184367199865273, 0.02282250507377863, 0.02979860949645722, 0.037246273211401656, 0.04245959034394744, 0.03595310176732596, 0.03218208496066667, 0.06775674860111254, 0.08887121070816631, 0.055848947040483446, 0.0413712549423008, 0.0711989375652631, 0.05039489745159428, 0.033477673911131184, 0.030439361543897786, 0.06643368831256065, 0.05401114790796008, 0.041929089196098314, 0.03603437917748724, 0.030966402486930826, 0.04934801693507673, 0.027497346519653916, 0.030178504655285793, 0.043443008992306874, 0.03702787924599144, 0.05768078175810188, 0.04819962253331864, 0.04189077792500319, 0.031023792641935152, 0.038744512531702885, 0.03417908284703883, 0.04417991107943665, 0.03801432740168657, 0.050950437958478874, 0.03144793946485668, 0.03476071641929854, 0.07220906606627255, 0.0414018629284053, 0.04117414760343313, 0.04721993809819389, 0.031606555521658974, 0.051398090169717164, 0.08888139300515711, 0.052058512282416536, 0.02872250892541254, 0.036270703267434395, 0.04197311852458727, 0.04125929838953273, 0.03628923494617179, 0.03906282342889045, 0.04291406638461229, 0.0491014118751506, 0.03470061425878198, 0.03634941125184307, 0.04884749997433049, 0.06880500457990284, 0.045018710345510894, 0.044529241203236224, 0.057962503320964906, 0.0508338041555991, 0.029310928935173154, 0.03200424106970831, 0.033643081421660254, 0.05009726503010815, 0.05472427511492868, 0.04656824905634112, 0.062107657378141445, 0.060235532357854324, 0.04603095060061747, 0.03685584508255519, 0.051787776619233214, 0.04344088643497431, 0.045472247320569814, 0.0500155168281128, 0.03609573263312888, 0.04316618043700962, 0.043588846603557364, 0.03950753604365753, 0.09354366455253087, 0.050523741019317066, 0.060287574353568116, 0.04763982953367713, 0.036787938805777236, 0.05381545307088489, 0.049477093836541815, 0.03495023316077868, 0.042412091483304104, 0.05123538188117416, 0.03553082283646816, 0.058087963631390724, 0.04256201922841084, 0.028191574617975515, 0.04214296101065678, 0.04903821352911359, 0.04618555704583424, 0.027109779096546438, 0.02824210611415459, 0.046110004950185614, 0.045854088101079576, 0.08303260535677881, 0.04525321932257713, 0.07241275101851613, 0.04549489331380502, 0.0577155360396554, 0.04233301727821538, 0.04648040184779522, 0.04323037224558719, 0.03793024355693671, 0.03193933213249744, 0.0408166161984897, 0.044858298033947516, 0.061231372202691675, 0.10332558280053673, 0.05401110199877539, 0.09454443976730145, 0.03661200470407919, 0.029822679660825635, 0.03850733526734724, 0.05285752986844766, 0.038792219673626956, 0.03695967959931657, 0.0458408016006488, 0.04592292658728608, 0.04138905497136268, 0.056875407871990344, 0.10087299974200271, 0.056777662905053844, 0.022783438654207205, 0.05042954240815878, 0.05243401116328612, 0.04751831329782871, 0.02915376518427943, 0.08880174714744378, 0.050453361043305715, 0.05539966796887781, 0.042815149474347114, 0.04062742906238858, 0.04023007927642225, 0.0570945748921028, 0.041717030925678744, 0.044532993543335474, 0.05872149769622481, 0.10333481612014173, 0.0554210814805364, 0.0517477318831448, 0.05942910534479026, 0.050598214189087005, 0.03977131070201167, 0.09028065212018456, 0.042675346685736394, 0.03672859277979333, 0.05092943459888907, 0.06480120513484625, 0.049503921893288325, 0.05435739865454859, 0.04995094961272745, 0.03760832542328742, 0.05161182765833145, 0.04700967667265091, 0.04827019473854448, 0.08725180323679119, 0.05230508915528502, 0.06755061898291302, 0.08256052133848327, 0.048434046028563396, 0.05739766807202837, 0.0928768349129563, 0.07363497827059148, 0.04091253591290592, 0.06602459029831644, 0.058987477825890006, 0.04710177402540446, 0.08029736150094761, 0.08244685794647576, 0.05342444874925305, 0.03704467697021697, 0.04819523954086546, 0.03866727813197599, 0.0535276395389994, 0.03712017089388465, 0.08039081430954194, 0.11355179732326584, 0.049940874654996976, 0.06965157613718835, 0.11338300315227509, 0.08286096255046725, 0.10231078895542423, 0.04230188722070195, 0.04171229676202459, 0.03332281195775022, 0.05666971145328881, 0.0790349137941353, 0.05468810217791887, 0.05478578300347182, 0.04270951425371574, 0.04175959402112891, 0.05452362177453, 0.053882133286371064, 0.04905732464740508, 0.04071205989484465, 0.0534320706122534, 0.05564205619524161, 0.0605749770059391, 0.04995717768054979, 0.0546675755855766, 0.025318439701612953, 0.09472418674623352, 0.06859430528003488, 0.05629293806225268, 0.07835711106108953, 0.05811427463988125, 0.06388537867349244, 0.06522482340132013, 0.06144832877158954, 0.04886711245117354, 0.03861335248764484, 0.06050218922747652, 0.04706415953981467, 0.05558426784680673, 0.03418928831973557, 0.04168669432014006, 0.09073323237934179, 0.04882506392268165, 0.059651530070056316, 0.07833634080994795, 0.050056925750692295, 0.04308851245822072, 0.038816497327870625, 0.053608126152710184, 0.11462277023198067, 0.05290519572129009, 0.05197714827686647, 0.05121176231664023, 0.07162310617222348, 0.052434226903749374, 0.05154395832122398, 0.04731713292427625, 0.05891501598915769, 0.05682556489425013, 0.044362756835231845, 0.09414543755492506, 0.05538546697359744, 0.03493657250321825, 0.05673805370952223, 0.06865357011576194, 0.05755762086632769, 0.055282457005789556, 0.05212533813313788, 0.07672207017161417, 0.03839777382256417, 0.044733624578699095, 0.04691607374040583, 0.06634547858260695, 0.1265358865198059, 0.07245447119685153, 0.06824462288122358, 0.11390759636018419, 0.27183455335366946, 0.07951980798699806, 0.04424916192494326, 0.05077563861051954, 0.06514144404327353, 0.0669540978195737, 0.06538919151647223, 0.036960856251155506, 0.07108470466466649, 0.081820790437901, 0.053193225070409106, 0.09133016352388675, 0.060589055001965875, 0.08890196829027916, 0.034611482808044054, 0.05956393999806188, 0.09616062224326592, 0.05192429234457681, 0.051517170543669964, 0.08206293704877254, 0.052190459702130224, 0.058128354457833493, 0.0506503693902161, 0.0877471253413589, 0.06078479669400659, 0.10183039820869928, 0.05612128196069355, 0.05506287637159116, 0.23475244149318175, 0.06238684565568278, 0.04069710237534527, 0.10055614209202218, 0.09617431583869061, 0.04872841786322124, 0.05058919125663731, 0.10645504971122018, 0.10832507480498192, 0.08618674930808412, 0.05888046330156302, 0.05396926906478128, 0.04650186322053355, 0.04641663169913881, 0.04659554436708663, 0.05456333751506654, 0.10418426558283894, 0.05597093477403728, 0.06549826590059218, 0.048847522836658705, 0.06200692561468903, 0.039199279043183315, 0.13470187252078425, 0.07081404050230239, 0.055854984730775145, 0.0476393021411579, 0.08326580120022993, 0.048055724587162015, 0.0713986582677275, 0.06613357477704088, 0.038300290608708584, 0.0680176263762948, 0.04432109736051089, 0.051732638890302864, 0.05915881149931034, 0.0757661152513489, 0.16783181423644877, 0.06679040125428001, 0.06453626151854461, 0.046115111217493024, 0.05624512190849765, 0.11857597359287615, 0.056105220392345515, 0.13002994404459683, 0.06706281535325154, 0.04644864214427942, 0.051698411607654454, 0.04358500827960233, 0.04994730531823385, 0.1025772490507095, 0.054416656477542916, 0.06766608248415946, 0.06218942172095743, 0.07058888457010776, 0.0669540978195737, 0.05303745996062814, 0.08390026911510014, 0.051210221549174824, 0.0724139060395249, 0.10172509513659153, 0.06151806681537263, 0.043399984316030774, 0.0997438733697584, 0.13711172751137868, 0.07151489756048396, 0.06584788842532487, 0.0343053949553357, 0.09474327193685679, 0.08625427316806705, 0.052093438305280335, 0.03799584729842252, 0.11073276119430979, 0.04682485411153006, 0.0891254446733125, 0.07653703905378159, 0.07122448399994107, 0.0814013271718291, 0.09275670915081152, 0.05266130599192653, 0.04955664241676159, 0.06517854956603586, 0.047942541880817806, 0.2228024299505253, 0.04899126060865308, 0.03164138945181913, 0.0729403913727761, 0.04599254283961869, 0.11709394765013635, 0.04708864539792375, 0.059973431729265156, 0.06276389587545783, 0.45254465064018834, 0.07236534842552479, 0.05983279275402488, 0.12243828005854246, 0.034167879751213534, 0.05565601579361425, 0.054381712588746134, 0.05830314189185923, 0.08980737596212783, 0.0843332778444961, 0.048129812094486475, 0.21238958769055621, 0.042785961412519856, 0.049736026239882, 0.06900861616591054, 0.08483114708468226, 0.09668540715282364, 0.21122529755764236, 0.10093068326272578, 0.06778462703544784, 0.04129243166070389, 0.06343742433110944, 0.28828288739735863, 0.08355545492524218, 0.05890102686599608, 0.08712323181283922, 0.04167405131563392, 0.11811563211307974, 0.14209270886564024, 0.060401271345375804, 0.06821586501272518, 0.10080802245135012, 0.10335064456966418, 0.2021395654595723, 0.061096309523542836, 0.04770200141877893, 0.1901557740468796, 0.1034210008493898, 0.05335861937931486, 0.08070771602453229, 0.06848027311982777, 0.06650089898172827, 0.046406769081716814, 0.06622354656882287, 0.0670898172675567, 0.06517980601536891, 0.060213384781073895, 0.1082213003224608, 0.06766345723806258, 0.05319215261114203, 0.042236003977369554, 0.07648863553378599, 0.09612036578635391, 0.11007620531551973, 0.06181890702154809, 0.05330289429543433, 0.12207967343944488, 0.10888794177928897, 0.08974567121302603, 0.047681602767822295, 0.10464690758851997, 0.06558547275499811, 0.08989345742530797, 0.15651566614295537, 0.051921259104917294, 0.049718487054111964, 0.04791338478258291, 0.09947948390846827, 0.1847295837846067, 0.052017831889605765, 0.20858902474636615, 0.05337064976944165, 0.05937218324792499, 0.058907704378663994, 0.07880774524892861, 0.049228488139125316, 0.10969403180166451, 0.2969544839420697, 0.18499462254358162, 0.065194864525263, 0.27503119347648697, 0.04912963203600739, 0.09041182759058888, 0.041355876673762046, 0.24726996280964592, 0.06581900640063779, 0.09212948996486534, 0.06584349234101516, 0.11391148669359549, 0.05942176204986415, 0.06716726336036523, 0.051353339112359626, 0.21086112759478193, 0.13052132917237194, 0.05026344065652443, 0.08642892645025486, 0.049894951424680194, 0.05508883635969586, 0.05258050080466229, 0.0744711230731405, 0.3221468687074911, 0.12731433721925645, 0.05808163421279661, 0.0735080269422379, 0.1549182455004971, 0.049068924847527624, 0.09851430082569435, 0.06081862406071807, 0.053059616290775005, 0.054545635624446476, 0.09014799415340745, 0.038029986456389844, 0.08067522705236087, 0.10908879160690033, 0.07585429964091653, 0.07927621949131335, 0.2424729657009646, 0.06097739281966771, 0.10438694304806029, 0.16407206414191244, 0.19745080654943442, 0.0814831784255982, 0.3865360423558887, 0.0640814919309037, 0.07995088215318356, 0.10113168760939875, 0.28976878577127485, 0.08381476303408852, 0.13997078917317038, 0.12977441793183025, 0.0693903522393001, 0.24910023493400815, 0.1577707600667771, 0.06360575807327742, 0.06730114493304212, 0.059131800858142694, 0.09015306524272813, 0.06996650674210679, 0.31642140017259884, 0.07036217635986501, 0.054674764869519596, 0.08661959520034007, 0.19688277481536495, 0.047071969545211374, 0.05140737389458672, 0.050323974405402296, 0.06812741470474812, 0.5107269378921453, 0.05246416576290126, 0.23932257439626625, 0.054423549171551115, 0.33060715741649316, 0.06256575184244058, 0.06428271025721206, 0.11045300637126595, 0.17260006099374708, 0.2910444335587957, 0.1926872189269931, 0.0603754008139447, 0.060470060356116975, 0.10933884385100824, 0.09124813052648441, 0.2531947364069853, 0.05456965152521513, 0.1696574934100866, 0.059120171224315676, 0.057434154833255924, 0.1952740665045046, 0.23193795058897296, 0.1695777793266273, 0.06686036406778685, 0.05826785005026103, 0.08618559564777256, 0.1667633817918479, 0.1058436988060065, 0.07899602340639159, 0.2052049815125993, 0.19836075960697092, 0.10100925204816541, 0.1220320560136493, 0.04938504832265074, 0.11513285571054516, 0.1898182637364152, 0.060671095547929516, 0.10814661834440382, 0.16007125702892555, 0.21573393546010863, 0.17276422690465779, 0.20328929757968342, 0.4091954074367006, 0.1055912071942422, 0.13583800628873435, 0.05417863004810651, 0.08173460607760415, 0.15520956622059634, 0.06708289647468514, 0.2358393458999102, 0.05702459686344109, 0.2846317577425098, 0.1685049724188463, 0.24726752523769227, 0.05398610082562791, 0.06586333279092876, 0.18083559482547534, 0.16612171891314292, 0.21008841141867363, 0.2247275473780925, 0.04708996582000581, 0.1681210116295308, 0.16654935733006232, 0.11406174482709788, 0.20978657996375427, 0.08303924153564199, 0.23867459868296695, 0.22714499178202585, 0.19502285642524889, 0.27686798228245224, 0.47070141602577886, 0.3474456236491634, 0.10905158694430843, 0.06259832791415776, 0.18012614633992924, 0.25423145060495844, 0.23022466287306595, 0.18521581686952426, 0.30303902002062255, 0.26413313188833465, 0.07727247103983019, 0.12859362417981723, 0.18161266231074738, 0.11624271584351628, 0.20101729463253432, 0.25072300099447387, 0.05373468602848845, 0.08536343821415113, 0.07569862764581684, 0.1828965640175898, 0.21354559729946349, 0.3178047299621601, 0.2563433306518322, 0.22245966297058334, 0.16372599631693757, 0.18695695696960873, 0.3346769146617251, 0.23664099955511753, 0.18956160028295277, 0.18509268534213869, 0.2510124416323094, 0.16756512885659158, 0.19858502560704278, 0.0543948234797593, 0.16511187337450633, 0.18617352027384518, 0.39804869478997723, 0.2865025643076432, 0.055368093498888896, 0.21006989011369626, 0.1976068884032231, 0.290454584478549, 0.25031641661028237, 0.1949876373505156, 0.04874441819164713, 0.207410828841387, 0.2518129165607357, 0.18496588641467088, 0.09490929594373401, 0.2716531752608856, 0.220900678208618, 0.2791090937147702, 0.36284904273905555, 0.21633343402961147, 0.2889061983417305, 0.24146930151066032, 0.0917069497244703, 0.17499372280288172, 0.2676529778536363, 0.21039104007272225, 0.18876618436740294, 0.2201561775533558, 0.17416863710379316, 0.25808699150204495, 0.1675749566359379, 0.2176199491352563, 0.05955708433569086, 0.20838146468421762, 0.2672837245503802, 0.20471366932156965, 0.22012362923706716, 0.21077903592543232, 0.13292208637179417, 0.31665882791694266, 0.3682094963242236, 0.13522343576895896, 0.22350132679922577, 0.2873766427697027, 0.2737323827769691, 0.22056481989101645, 0.19742104589226017, 0.22408955021984867, 0.16537344113585511, 0.2860719766352007, 0.23646035145717229, 0.050170917675035114, 0.05839618478871951, 0.08084953712330481, 0.06981521633428009, 0.05173354710713836], \"xaxis\": \"x\", \"yaxis\": \"y\"}],\n",
       "                        {\"barmode\": \"relative\", \"legend\": {\"tracegroupgap\": 0}, \"margin\": {\"t\": 60}, \"template\": {\"data\": {\"bar\": [{\"error_x\": {\"color\": \"#2a3f5f\"}, \"error_y\": {\"color\": \"#2a3f5f\"}, \"marker\": {\"line\": {\"color\": \"#E5ECF6\", \"width\": 0.5}}, \"type\": \"bar\"}], \"barpolar\": [{\"marker\": {\"line\": {\"color\": \"#E5ECF6\", \"width\": 0.5}}, \"type\": \"barpolar\"}], \"carpet\": [{\"aaxis\": {\"endlinecolor\": \"#2a3f5f\", \"gridcolor\": \"white\", \"linecolor\": \"white\", \"minorgridcolor\": \"white\", \"startlinecolor\": \"#2a3f5f\"}, \"baxis\": {\"endlinecolor\": \"#2a3f5f\", \"gridcolor\": \"white\", \"linecolor\": \"white\", \"minorgridcolor\": \"white\", \"startlinecolor\": \"#2a3f5f\"}, \"type\": \"carpet\"}], \"choropleth\": [{\"colorbar\": {\"outlinewidth\": 0, \"ticks\": \"\"}, \"type\": \"choropleth\"}], \"contour\": [{\"colorbar\": {\"outlinewidth\": 0, \"ticks\": \"\"}, \"colorscale\": [[0.0, \"#0d0887\"], [0.1111111111111111, \"#46039f\"], [0.2222222222222222, \"#7201a8\"], [0.3333333333333333, \"#9c179e\"], [0.4444444444444444, \"#bd3786\"], [0.5555555555555556, \"#d8576b\"], [0.6666666666666666, \"#ed7953\"], [0.7777777777777778, \"#fb9f3a\"], [0.8888888888888888, \"#fdca26\"], [1.0, \"#f0f921\"]], \"type\": \"contour\"}], \"contourcarpet\": [{\"colorbar\": {\"outlinewidth\": 0, \"ticks\": \"\"}, \"type\": \"contourcarpet\"}], \"heatmap\": [{\"colorbar\": {\"outlinewidth\": 0, \"ticks\": \"\"}, \"colorscale\": [[0.0, \"#0d0887\"], [0.1111111111111111, \"#46039f\"], [0.2222222222222222, \"#7201a8\"], [0.3333333333333333, \"#9c179e\"], [0.4444444444444444, \"#bd3786\"], [0.5555555555555556, \"#d8576b\"], [0.6666666666666666, \"#ed7953\"], [0.7777777777777778, \"#fb9f3a\"], [0.8888888888888888, \"#fdca26\"], [1.0, \"#f0f921\"]], \"type\": \"heatmap\"}], \"heatmapgl\": [{\"colorbar\": {\"outlinewidth\": 0, \"ticks\": \"\"}, \"colorscale\": [[0.0, \"#0d0887\"], [0.1111111111111111, \"#46039f\"], [0.2222222222222222, \"#7201a8\"], [0.3333333333333333, \"#9c179e\"], [0.4444444444444444, \"#bd3786\"], [0.5555555555555556, \"#d8576b\"], [0.6666666666666666, \"#ed7953\"], [0.7777777777777778, \"#fb9f3a\"], [0.8888888888888888, \"#fdca26\"], [1.0, \"#f0f921\"]], \"type\": \"heatmapgl\"}], \"histogram\": [{\"marker\": {\"colorbar\": {\"outlinewidth\": 0, \"ticks\": \"\"}}, \"type\": \"histogram\"}], \"histogram2d\": [{\"colorbar\": {\"outlinewidth\": 0, \"ticks\": \"\"}, \"colorscale\": [[0.0, \"#0d0887\"], [0.1111111111111111, \"#46039f\"], [0.2222222222222222, \"#7201a8\"], [0.3333333333333333, \"#9c179e\"], [0.4444444444444444, \"#bd3786\"], [0.5555555555555556, \"#d8576b\"], [0.6666666666666666, \"#ed7953\"], [0.7777777777777778, \"#fb9f3a\"], [0.8888888888888888, \"#fdca26\"], [1.0, \"#f0f921\"]], \"type\": \"histogram2d\"}], \"histogram2dcontour\": [{\"colorbar\": {\"outlinewidth\": 0, \"ticks\": \"\"}, \"colorscale\": [[0.0, \"#0d0887\"], [0.1111111111111111, \"#46039f\"], [0.2222222222222222, \"#7201a8\"], [0.3333333333333333, \"#9c179e\"], [0.4444444444444444, \"#bd3786\"], [0.5555555555555556, \"#d8576b\"], [0.6666666666666666, \"#ed7953\"], [0.7777777777777778, \"#fb9f3a\"], [0.8888888888888888, \"#fdca26\"], [1.0, \"#f0f921\"]], \"type\": \"histogram2dcontour\"}], \"mesh3d\": [{\"colorbar\": {\"outlinewidth\": 0, \"ticks\": \"\"}, \"type\": \"mesh3d\"}], \"parcoords\": [{\"line\": {\"colorbar\": {\"outlinewidth\": 0, \"ticks\": \"\"}}, \"type\": \"parcoords\"}], \"pie\": [{\"automargin\": true, \"type\": \"pie\"}], \"scatter\": [{\"marker\": {\"colorbar\": {\"outlinewidth\": 0, \"ticks\": \"\"}}, \"type\": \"scatter\"}], \"scatter3d\": [{\"line\": {\"colorbar\": {\"outlinewidth\": 0, \"ticks\": \"\"}}, \"marker\": {\"colorbar\": {\"outlinewidth\": 0, \"ticks\": \"\"}}, \"type\": \"scatter3d\"}], \"scattercarpet\": [{\"marker\": {\"colorbar\": {\"outlinewidth\": 0, \"ticks\": \"\"}}, \"type\": \"scattercarpet\"}], \"scattergeo\": [{\"marker\": {\"colorbar\": {\"outlinewidth\": 0, \"ticks\": \"\"}}, \"type\": \"scattergeo\"}], \"scattergl\": [{\"marker\": {\"colorbar\": {\"outlinewidth\": 0, \"ticks\": \"\"}}, \"type\": \"scattergl\"}], \"scattermapbox\": [{\"marker\": {\"colorbar\": {\"outlinewidth\": 0, \"ticks\": \"\"}}, \"type\": \"scattermapbox\"}], \"scatterpolar\": [{\"marker\": {\"colorbar\": {\"outlinewidth\": 0, \"ticks\": \"\"}}, \"type\": \"scatterpolar\"}], \"scatterpolargl\": [{\"marker\": {\"colorbar\": {\"outlinewidth\": 0, \"ticks\": \"\"}}, \"type\": \"scatterpolargl\"}], \"scatterternary\": [{\"marker\": {\"colorbar\": {\"outlinewidth\": 0, \"ticks\": \"\"}}, \"type\": \"scatterternary\"}], \"surface\": [{\"colorbar\": {\"outlinewidth\": 0, \"ticks\": \"\"}, \"colorscale\": [[0.0, \"#0d0887\"], [0.1111111111111111, \"#46039f\"], [0.2222222222222222, \"#7201a8\"], [0.3333333333333333, \"#9c179e\"], [0.4444444444444444, \"#bd3786\"], [0.5555555555555556, \"#d8576b\"], [0.6666666666666666, \"#ed7953\"], [0.7777777777777778, \"#fb9f3a\"], [0.8888888888888888, \"#fdca26\"], [1.0, \"#f0f921\"]], \"type\": \"surface\"}], \"table\": [{\"cells\": {\"fill\": {\"color\": \"#EBF0F8\"}, \"line\": {\"color\": \"white\"}}, \"header\": {\"fill\": {\"color\": \"#C8D4E3\"}, \"line\": {\"color\": \"white\"}}, \"type\": \"table\"}]}, \"layout\": {\"annotationdefaults\": {\"arrowcolor\": \"#2a3f5f\", \"arrowhead\": 0, \"arrowwidth\": 1}, \"coloraxis\": {\"colorbar\": {\"outlinewidth\": 0, \"ticks\": \"\"}}, \"colorscale\": {\"diverging\": [[0, \"#8e0152\"], [0.1, \"#c51b7d\"], [0.2, \"#de77ae\"], [0.3, \"#f1b6da\"], [0.4, \"#fde0ef\"], [0.5, \"#f7f7f7\"], [0.6, \"#e6f5d0\"], [0.7, \"#b8e186\"], [0.8, \"#7fbc41\"], [0.9, \"#4d9221\"], [1, \"#276419\"]], \"sequential\": [[0.0, \"#0d0887\"], [0.1111111111111111, \"#46039f\"], [0.2222222222222222, \"#7201a8\"], [0.3333333333333333, \"#9c179e\"], [0.4444444444444444, \"#bd3786\"], [0.5555555555555556, \"#d8576b\"], [0.6666666666666666, \"#ed7953\"], [0.7777777777777778, \"#fb9f3a\"], [0.8888888888888888, \"#fdca26\"], [1.0, \"#f0f921\"]], \"sequentialminus\": [[0.0, \"#0d0887\"], [0.1111111111111111, \"#46039f\"], [0.2222222222222222, \"#7201a8\"], [0.3333333333333333, \"#9c179e\"], [0.4444444444444444, \"#bd3786\"], [0.5555555555555556, \"#d8576b\"], [0.6666666666666666, \"#ed7953\"], [0.7777777777777778, \"#fb9f3a\"], [0.8888888888888888, \"#fdca26\"], [1.0, \"#f0f921\"]]}, \"colorway\": [\"#636efa\", \"#EF553B\", \"#00cc96\", \"#ab63fa\", \"#FFA15A\", \"#19d3f3\", \"#FF6692\", \"#B6E880\", \"#FF97FF\", \"#FECB52\"], \"font\": {\"color\": \"#2a3f5f\"}, \"geo\": {\"bgcolor\": \"white\", \"lakecolor\": \"white\", \"landcolor\": \"#E5ECF6\", \"showlakes\": true, \"showland\": true, \"subunitcolor\": \"white\"}, \"hoverlabel\": {\"align\": \"left\"}, \"hovermode\": \"closest\", \"mapbox\": {\"style\": \"light\"}, \"paper_bgcolor\": \"white\", \"plot_bgcolor\": \"#E5ECF6\", \"polar\": {\"angularaxis\": {\"gridcolor\": \"white\", \"linecolor\": \"white\", \"ticks\": \"\"}, \"bgcolor\": \"#E5ECF6\", \"radialaxis\": {\"gridcolor\": \"white\", \"linecolor\": \"white\", \"ticks\": \"\"}}, \"scene\": {\"xaxis\": {\"backgroundcolor\": \"#E5ECF6\", \"gridcolor\": \"white\", \"gridwidth\": 2, \"linecolor\": \"white\", \"showbackground\": true, \"ticks\": \"\", \"zerolinecolor\": \"white\"}, \"yaxis\": {\"backgroundcolor\": \"#E5ECF6\", \"gridcolor\": \"white\", \"gridwidth\": 2, \"linecolor\": \"white\", \"showbackground\": true, \"ticks\": \"\", \"zerolinecolor\": \"white\"}, \"zaxis\": {\"backgroundcolor\": \"#E5ECF6\", \"gridcolor\": \"white\", \"gridwidth\": 2, \"linecolor\": \"white\", \"showbackground\": true, \"ticks\": \"\", \"zerolinecolor\": \"white\"}}, \"shapedefaults\": {\"line\": {\"color\": \"#2a3f5f\"}}, \"ternary\": {\"aaxis\": {\"gridcolor\": \"white\", \"linecolor\": \"white\", \"ticks\": \"\"}, \"baxis\": {\"gridcolor\": \"white\", \"linecolor\": \"white\", \"ticks\": \"\"}, \"bgcolor\": \"#E5ECF6\", \"caxis\": {\"gridcolor\": \"white\", \"linecolor\": \"white\", \"ticks\": \"\"}}, \"title\": {\"x\": 0.05}, \"xaxis\": {\"automargin\": true, \"gridcolor\": \"white\", \"linecolor\": \"white\", \"ticks\": \"\", \"title\": {\"standoff\": 15}, \"zerolinecolor\": \"white\", \"zerolinewidth\": 2}, \"yaxis\": {\"automargin\": true, \"gridcolor\": \"white\", \"linecolor\": \"white\", \"ticks\": \"\", \"title\": {\"standoff\": 15}, \"zerolinecolor\": \"white\", \"zerolinewidth\": 2}}}, \"xaxis\": {\"anchor\": \"y\", \"domain\": [0.0, 1.0], \"title\": {\"text\": \"0\"}}, \"yaxis\": {\"anchor\": \"x\", \"domain\": [0.0, 1.0], \"title\": {\"text\": \"count\"}}},\n",
       "                        {\"responsive\": true}\n",
       "                    ).then(function(){\n",
       "                            \n",
       "var gd = document.getElementById('2b1bd8f8-9dcd-4221-80ad-0d12bf717615');\n",
       "var x = new MutationObserver(function (mutations, observer) {{\n",
       "        var display = window.getComputedStyle(gd).display;\n",
       "        if (!display || display === 'none') {{\n",
       "            console.log([gd, 'removed!']);\n",
       "            Plotly.purge(gd);\n",
       "            observer.disconnect();\n",
       "        }}\n",
       "}});\n",
       "\n",
       "// Listen for the removal of the full notebook cells\n",
       "var notebookContainer = gd.closest('#notebook-container');\n",
       "if (notebookContainer) {{\n",
       "    x.observe(notebookContainer, {childList: true});\n",
       "}}\n",
       "\n",
       "// Listen for the clearing of the current output cell\n",
       "var outputEl = gd.closest('.output');\n",
       "if (outputEl) {{\n",
       "    x.observe(outputEl, {childList: true});\n",
       "}}\n",
       "\n",
       "                        })\n",
       "                };\n",
       "                });\n",
       "            </script>\n",
       "        </div>"
      ]
     },
     "metadata": {},
     "output_type": "display_data"
    }
   ],
   "source": [
    "px.histogram(pd.DataFrame(y_pred_test), x=0)"
   ]
  },
  {
   "cell_type": "code",
   "execution_count": null,
   "metadata": {},
   "outputs": [],
   "source": []
  }
 ],
 "metadata": {
  "kernelspec": {
   "display_name": "Python 3",
   "language": "python",
   "name": "python3"
  },
  "language_info": {
   "codemirror_mode": {
    "name": "ipython",
    "version": 3
   },
   "file_extension": ".py",
   "mimetype": "text/x-python",
   "name": "python",
   "nbconvert_exporter": "python",
   "pygments_lexer": "ipython3",
   "version": "3.8.0"
  }
 },
 "nbformat": 4,
 "nbformat_minor": 4
}
