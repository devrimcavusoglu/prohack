{
 "cells": [
  {
   "cell_type": "code",
   "execution_count": 1,
   "metadata": {
    "ExecuteTime": {
     "end_time": "2020-06-12T10:01:12.926742Z",
     "start_time": "2020-06-12T10:01:11.723252Z"
    }
   },
   "outputs": [
    {
     "data": {
      "text/html": [
       "        <script type=\"text/javascript\">\n",
       "        window.PlotlyConfig = {MathJaxConfig: 'local'};\n",
       "        if (window.MathJax) {MathJax.Hub.Config({SVG: {font: \"STIX-Web\"}});}\n",
       "        if (typeof require !== 'undefined') {\n",
       "        require.undef(\"plotly\");\n",
       "        requirejs.config({\n",
       "            paths: {\n",
       "                'plotly': ['https://cdn.plot.ly/plotly-latest.min']\n",
       "            }\n",
       "        });\n",
       "        require(['plotly'], function(Plotly) {\n",
       "            window._Plotly = Plotly;\n",
       "        });\n",
       "        }\n",
       "        </script>\n",
       "        "
      ]
     },
     "metadata": {},
     "output_type": "display_data"
    }
   ],
   "source": [
    "# Scientific libraries\t\t              \n",
    "import numpy as np\t\t              \n",
    "import scipy as sp\t\t              \n",
    "import pandas as pd\t\t              \n",
    "import json\t\t              \n",
    "import missingno as msno\t\t              \n",
    "\n",
    "# Loading Plotting Modules\t\t              \n",
    "import matplotlib\t\t              \n",
    "import matplotlib.pyplot as plt\t\t              \n",
    "import seaborn as sns\t\t              \n",
    "%matplotlib inline\t\t              \n",
    "import chart_studio.plotly as py\t\t              \n",
    "import plotly.figure_factory as ff\t\t              \n",
    "import plotly.graph_objects as go\t\t              \n",
    "import plotly.express as px\t\t              \n",
    "from plotly.offline import download_plotlyjs, init_notebook_mode, plot, iplot\t\t              \n",
    "init_notebook_mode(connected=True)\t\t              \n",
    "\t\t              \n",
    "import os\t\t              \n",
    "import gc"
   ]
  },
  {
   "cell_type": "code",
   "execution_count": 2,
   "metadata": {
    "ExecuteTime": {
     "end_time": "2020-06-12T10:01:12.930746Z",
     "start_time": "2020-06-12T10:01:12.927743Z"
    }
   },
   "outputs": [],
   "source": [
    "# Setting Data Frame Options                      \n",
    "pd.set_option('display.max_rows', 40)                      \n",
    "pd.set_option('display.max_columns', 50)                      \n",
    "pd.set_option('display.width', 100)                      \n",
    "pd.set_option('display.max_colwidth', 100)                      \n",
    "\n",
    "# Setting Plot Configuration                      \n",
    "sns.set(rc={'figure.figsize':(19,11)}, style = 'white')"
   ]
  },
  {
   "cell_type": "code",
   "execution_count": 3,
   "metadata": {
    "ExecuteTime": {
     "end_time": "2020-06-12T10:01:13.016824Z",
     "start_time": "2020-06-12T10:01:12.931747Z"
    },
    "scrolled": true
   },
   "outputs": [
    {
     "name": "stdout",
     "output_type": "stream",
     "text": [
      "Data Frame: 3865 x 80\n"
     ]
    },
    {
     "data": {
      "text/html": [
       "<div>\n",
       "<style scoped>\n",
       "    .dataframe tbody tr th:only-of-type {\n",
       "        vertical-align: middle;\n",
       "    }\n",
       "\n",
       "    .dataframe tbody tr th {\n",
       "        vertical-align: top;\n",
       "    }\n",
       "\n",
       "    .dataframe thead th {\n",
       "        text-align: right;\n",
       "    }\n",
       "</style>\n",
       "<table border=\"1\" class=\"dataframe\">\n",
       "  <thead>\n",
       "    <tr style=\"text-align: right;\">\n",
       "      <th></th>\n",
       "      <th>existence expectancy index</th>\n",
       "      <th>existence expectancy at birth</th>\n",
       "      <th>Gross income per capita</th>\n",
       "      <th>Income Index</th>\n",
       "      <th>Expected years of education (galactic years)</th>\n",
       "      <th>Mean years of education (galactic years)</th>\n",
       "      <th>Intergalactic Development Index (IDI)</th>\n",
       "      <th>Education Index</th>\n",
       "      <th>Intergalactic Development Index (IDI), Rank</th>\n",
       "      <th>Population using at least basic drinking-water services (%)</th>\n",
       "      <th>Population using at least basic sanitation services (%)</th>\n",
       "      <th>Gross capital formation (% of GGP)</th>\n",
       "      <th>Population, total (millions)</th>\n",
       "      <th>Population, urban (%)</th>\n",
       "      <th>Mortality rate, under-five (per 1,000 live births)</th>\n",
       "      <th>Mortality rate, infant (per 1,000 live births)</th>\n",
       "      <th>Old age dependency ratio (old age (65 and older) per 100 creatures (ages 15-64))</th>\n",
       "      <th>Population, ages 15–64 (millions)</th>\n",
       "      <th>Population, ages 65 and older (millions)</th>\n",
       "      <th>Life expectancy at birth, male (galactic years)</th>\n",
       "      <th>Life expectancy at birth, female (galactic years)</th>\n",
       "      <th>Population, under age 5 (millions)</th>\n",
       "      <th>Young age (0-14) dependency ratio (per 100 creatures ages 15-64)</th>\n",
       "      <th>Adolescent birth rate (births per 1,000 female creatures ages 15-19)</th>\n",
       "      <th>Total unemployment rate (female to male ratio)</th>\n",
       "      <th>...</th>\n",
       "      <th>Rural population with access to electricity (%)</th>\n",
       "      <th>Domestic credit provided by financial sector (% of GGP)</th>\n",
       "      <th>Population with at least some secondary education, female (% ages 25 and older)</th>\n",
       "      <th>Population with at least some secondary education, male (% ages 25 and older)</th>\n",
       "      <th>Gross fixed capital formation (% of GGP)</th>\n",
       "      <th>Remittances, inflows (% of GGP)</th>\n",
       "      <th>Population with at least some secondary education (% ages 25 and older)</th>\n",
       "      <th>Intergalactic inbound tourists (thousands)</th>\n",
       "      <th>Gross enrolment ratio, primary (% of primary under-age population)</th>\n",
       "      <th>Respiratory disease incidence (per 100,000 people)</th>\n",
       "      <th>Interstellar phone subscriptions (per 100 people)</th>\n",
       "      <th>Interstellar Data Net users, total (% of population)</th>\n",
       "      <th>Current health expenditure (% of GGP)</th>\n",
       "      <th>Intergalactic Development Index (IDI), female</th>\n",
       "      <th>Intergalactic Development Index (IDI), male</th>\n",
       "      <th>Gender Development Index (GDI)</th>\n",
       "      <th>Intergalactic Development Index (IDI), female, Rank</th>\n",
       "      <th>Intergalactic Development Index (IDI), male, Rank</th>\n",
       "      <th>Adjusted net savings</th>\n",
       "      <th>Gender Inequality Index (GII)</th>\n",
       "      <th>Private galaxy capital flows (% of GGP)</th>\n",
       "      <th>Creature Immunodeficiency Disease prevalence, adult (% ages 15-49), total</th>\n",
       "      <th>galactic year</th>\n",
       "      <th>galaxy</th>\n",
       "      <th>y</th>\n",
       "    </tr>\n",
       "  </thead>\n",
       "  <tbody>\n",
       "    <tr>\n",
       "      <th>0</th>\n",
       "      <td>-0.768696</td>\n",
       "      <td>-0.521320</td>\n",
       "      <td>-0.720678</td>\n",
       "      <td>-0.949387</td>\n",
       "      <td>-0.314535</td>\n",
       "      <td>-0.035227</td>\n",
       "      <td>-0.612210</td>\n",
       "      <td>-0.031444</td>\n",
       "      <td>0.596303</td>\n",
       "      <td>-1.546040</td>\n",
       "      <td>-1.308012</td>\n",
       "      <td>4.655834</td>\n",
       "      <td>-0.074963</td>\n",
       "      <td>-1.012301</td>\n",
       "      <td>0.820426</td>\n",
       "      <td>1.027825</td>\n",
       "      <td>-0.734976</td>\n",
       "      <td>-0.120316</td>\n",
       "      <td>-0.337969</td>\n",
       "      <td>-0.740600</td>\n",
       "      <td>-1.037183</td>\n",
       "      <td>-1.334494</td>\n",
       "      <td>0.840520</td>\n",
       "      <td>-0.345464</td>\n",
       "      <td>NaN</td>\n",
       "      <td>...</td>\n",
       "      <td>-0.130993</td>\n",
       "      <td>NaN</td>\n",
       "      <td>NaN</td>\n",
       "      <td>NaN</td>\n",
       "      <td>5.813151</td>\n",
       "      <td>0.675282</td>\n",
       "      <td>NaN</td>\n",
       "      <td>-0.352821</td>\n",
       "      <td>0.754449</td>\n",
       "      <td>1.530818</td>\n",
       "      <td>-1.531187</td>\n",
       "      <td>-1.063093</td>\n",
       "      <td>1.165709</td>\n",
       "      <td>NaN</td>\n",
       "      <td>NaN</td>\n",
       "      <td>NaN</td>\n",
       "      <td>NaN</td>\n",
       "      <td>NaN</td>\n",
       "      <td>NaN</td>\n",
       "      <td>NaN</td>\n",
       "      <td>1.392867</td>\n",
       "      <td>NaN</td>\n",
       "      <td>990025.0</td>\n",
       "      <td>Andromeda Galaxy (M31)</td>\n",
       "      <td>0.049214</td>\n",
       "    </tr>\n",
       "    <tr>\n",
       "      <th>1</th>\n",
       "      <td>-1.850364</td>\n",
       "      <td>-1.449645</td>\n",
       "      <td>-1.060701</td>\n",
       "      <td>-1.116165</td>\n",
       "      <td>-1.848391</td>\n",
       "      <td>-1.610925</td>\n",
       "      <td>-1.313312</td>\n",
       "      <td>-1.025035</td>\n",
       "      <td>0.487008</td>\n",
       "      <td>-1.735446</td>\n",
       "      <td>-1.133391</td>\n",
       "      <td>0.266476</td>\n",
       "      <td>0.127332</td>\n",
       "      <td>-1.535051</td>\n",
       "      <td>2.139757</td>\n",
       "      <td>2.476272</td>\n",
       "      <td>-0.183086</td>\n",
       "      <td>-0.658055</td>\n",
       "      <td>0.749878</td>\n",
       "      <td>-1.129108</td>\n",
       "      <td>-1.720856</td>\n",
       "      <td>-0.622467</td>\n",
       "      <td>1.318776</td>\n",
       "      <td>1.141945</td>\n",
       "      <td>-0.219044</td>\n",
       "      <td>...</td>\n",
       "      <td>-0.938201</td>\n",
       "      <td>-0.787496</td>\n",
       "      <td>-1.777738</td>\n",
       "      <td>-0.739414</td>\n",
       "      <td>0.223403</td>\n",
       "      <td>-1.463934</td>\n",
       "      <td>-0.930654</td>\n",
       "      <td>0.145374</td>\n",
       "      <td>-0.348455</td>\n",
       "      <td>0.986253</td>\n",
       "      <td>-1.234619</td>\n",
       "      <td>-1.017075</td>\n",
       "      <td>-1.012669</td>\n",
       "      <td>-0.992551</td>\n",
       "      <td>-1.157130</td>\n",
       "      <td>-0.643300</td>\n",
       "      <td>0.394869</td>\n",
       "      <td>0.816103</td>\n",
       "      <td>-0.570881</td>\n",
       "      <td>0.767777</td>\n",
       "      <td>0.130926</td>\n",
       "      <td>-0.757207</td>\n",
       "      <td>990025.0</td>\n",
       "      <td>Andromeda I</td>\n",
       "      <td>0.053204</td>\n",
       "    </tr>\n",
       "    <tr>\n",
       "      <th>2</th>\n",
       "      <td>1.141680</td>\n",
       "      <td>1.574668</td>\n",
       "      <td>0.156809</td>\n",
       "      <td>0.599048</td>\n",
       "      <td>0.144968</td>\n",
       "      <td>0.869859</td>\n",
       "      <td>1.196270</td>\n",
       "      <td>0.115860</td>\n",
       "      <td>-1.428606</td>\n",
       "      <td>0.767341</td>\n",
       "      <td>0.705352</td>\n",
       "      <td>0.670266</td>\n",
       "      <td>0.424737</td>\n",
       "      <td>0.638131</td>\n",
       "      <td>-0.970543</td>\n",
       "      <td>-1.139239</td>\n",
       "      <td>1.050232</td>\n",
       "      <td>-0.424269</td>\n",
       "      <td>0.274710</td>\n",
       "      <td>1.643209</td>\n",
       "      <td>0.518581</td>\n",
       "      <td>-0.703417</td>\n",
       "      <td>-0.548809</td>\n",
       "      <td>-0.880572</td>\n",
       "      <td>0.676035</td>\n",
       "      <td>...</td>\n",
       "      <td>0.919338</td>\n",
       "      <td>1.036075</td>\n",
       "      <td>-0.663869</td>\n",
       "      <td>0.124508</td>\n",
       "      <td>0.637693</td>\n",
       "      <td>-0.121723</td>\n",
       "      <td>-0.502559</td>\n",
       "      <td>0.489443</td>\n",
       "      <td>-0.366923</td>\n",
       "      <td>-0.743473</td>\n",
       "      <td>0.724973</td>\n",
       "      <td>0.396339</td>\n",
       "      <td>0.942077</td>\n",
       "      <td>0.932139</td>\n",
       "      <td>1.064675</td>\n",
       "      <td>0.374823</td>\n",
       "      <td>-1.110176</td>\n",
       "      <td>-1.335078</td>\n",
       "      <td>0.050080</td>\n",
       "      <td>-0.932716</td>\n",
       "      <td>0.814103</td>\n",
       "      <td>-0.441628</td>\n",
       "      <td>990025.0</td>\n",
       "      <td>Andromeda II</td>\n",
       "      <td>0.167935</td>\n",
       "    </tr>\n",
       "    <tr>\n",
       "      <th>3</th>\n",
       "      <td>0.035534</td>\n",
       "      <td>-0.494518</td>\n",
       "      <td>0.680176</td>\n",
       "      <td>0.969606</td>\n",
       "      <td>-0.427320</td>\n",
       "      <td>0.500207</td>\n",
       "      <td>0.258434</td>\n",
       "      <td>0.520487</td>\n",
       "      <td>-0.674320</td>\n",
       "      <td>0.782549</td>\n",
       "      <td>1.100256</td>\n",
       "      <td>0.201054</td>\n",
       "      <td>0.114153</td>\n",
       "      <td>0.246243</td>\n",
       "      <td>-0.719916</td>\n",
       "      <td>-0.945411</td>\n",
       "      <td>1.029213</td>\n",
       "      <td>-0.658662</td>\n",
       "      <td>0.292767</td>\n",
       "      <td>0.057158</td>\n",
       "      <td>0.629068</td>\n",
       "      <td>-0.634276</td>\n",
       "      <td>-0.890496</td>\n",
       "      <td>0.018352</td>\n",
       "      <td>-0.516543</td>\n",
       "      <td>...</td>\n",
       "      <td>0.678151</td>\n",
       "      <td>-0.154509</td>\n",
       "      <td>-0.947000</td>\n",
       "      <td>-0.023353</td>\n",
       "      <td>-0.178619</td>\n",
       "      <td>-0.286574</td>\n",
       "      <td>0.137566</td>\n",
       "      <td>-0.179792</td>\n",
       "      <td>-1.431724</td>\n",
       "      <td>-0.521225</td>\n",
       "      <td>0.144320</td>\n",
       "      <td>0.672926</td>\n",
       "      <td>0.458313</td>\n",
       "      <td>0.807102</td>\n",
       "      <td>0.770856</td>\n",
       "      <td>0.775115</td>\n",
       "      <td>-0.763962</td>\n",
       "      <td>-0.947950</td>\n",
       "      <td>-0.309333</td>\n",
       "      <td>-0.448389</td>\n",
       "      <td>-0.058603</td>\n",
       "      <td>-0.686432</td>\n",
       "      <td>990025.0</td>\n",
       "      <td>Andromeda III</td>\n",
       "      <td>0.110758</td>\n",
       "    </tr>\n",
       "    <tr>\n",
       "      <th>4</th>\n",
       "      <td>1.155480</td>\n",
       "      <td>0.671609</td>\n",
       "      <td>1.092055</td>\n",
       "      <td>0.910804</td>\n",
       "      <td>0.366051</td>\n",
       "      <td>0.307287</td>\n",
       "      <td>0.334577</td>\n",
       "      <td>-0.223661</td>\n",
       "      <td>-1.590895</td>\n",
       "      <td>0.829437</td>\n",
       "      <td>1.019893</td>\n",
       "      <td>-0.184066</td>\n",
       "      <td>0.432613</td>\n",
       "      <td>0.830438</td>\n",
       "      <td>-0.786313</td>\n",
       "      <td>-0.743752</td>\n",
       "      <td>0.916033</td>\n",
       "      <td>-0.265801</td>\n",
       "      <td>-0.202235</td>\n",
       "      <td>0.373743</td>\n",
       "      <td>0.665568</td>\n",
       "      <td>0.474381</td>\n",
       "      <td>-1.279560</td>\n",
       "      <td>-0.383609</td>\n",
       "      <td>0.301968</td>\n",
       "      <td>...</td>\n",
       "      <td>1.225169</td>\n",
       "      <td>1.200753</td>\n",
       "      <td>-0.166059</td>\n",
       "      <td>-0.085041</td>\n",
       "      <td>-0.227557</td>\n",
       "      <td>-0.416284</td>\n",
       "      <td>-0.290695</td>\n",
       "      <td>0.656395</td>\n",
       "      <td>-0.757834</td>\n",
       "      <td>-0.588110</td>\n",
       "      <td>1.114541</td>\n",
       "      <td>0.560244</td>\n",
       "      <td>0.659732</td>\n",
       "      <td>1.115335</td>\n",
       "      <td>1.081041</td>\n",
       "      <td>0.391214</td>\n",
       "      <td>-1.154703</td>\n",
       "      <td>-1.102175</td>\n",
       "      <td>0.111780</td>\n",
       "      <td>-1.167166</td>\n",
       "      <td>-0.717120</td>\n",
       "      <td>-0.607664</td>\n",
       "      <td>990025.0</td>\n",
       "      <td>Andromeda IX</td>\n",
       "      <td>0.151314</td>\n",
       "    </tr>\n",
       "  </tbody>\n",
       "</table>\n",
       "<p>5 rows × 80 columns</p>\n",
       "</div>"
      ],
      "text/plain": [
       "   existence expectancy index  existence expectancy at birth  Gross income per capita  \\\n",
       "0                   -0.768696                      -0.521320                -0.720678   \n",
       "1                   -1.850364                      -1.449645                -1.060701   \n",
       "2                    1.141680                       1.574668                 0.156809   \n",
       "3                    0.035534                      -0.494518                 0.680176   \n",
       "4                    1.155480                       0.671609                 1.092055   \n",
       "\n",
       "   Income Index  Expected years of education (galactic years)  \\\n",
       "0     -0.949387                                     -0.314535   \n",
       "1     -1.116165                                     -1.848391   \n",
       "2      0.599048                                      0.144968   \n",
       "3      0.969606                                     -0.427320   \n",
       "4      0.910804                                      0.366051   \n",
       "\n",
       "   Mean years of education (galactic years)  Intergalactic Development Index (IDI)  \\\n",
       "0                                 -0.035227                              -0.612210   \n",
       "1                                 -1.610925                              -1.313312   \n",
       "2                                  0.869859                               1.196270   \n",
       "3                                  0.500207                               0.258434   \n",
       "4                                  0.307287                               0.334577   \n",
       "\n",
       "   Education Index  Intergalactic Development Index (IDI), Rank  \\\n",
       "0        -0.031444                                     0.596303   \n",
       "1        -1.025035                                     0.487008   \n",
       "2         0.115860                                    -1.428606   \n",
       "3         0.520487                                    -0.674320   \n",
       "4        -0.223661                                    -1.590895   \n",
       "\n",
       "   Population using at least basic drinking-water services (%)  \\\n",
       "0                                                    -1.546040   \n",
       "1                                                    -1.735446   \n",
       "2                                                     0.767341   \n",
       "3                                                     0.782549   \n",
       "4                                                     0.829437   \n",
       "\n",
       "   Population using at least basic sanitation services (%)  Gross capital formation (% of GGP)  \\\n",
       "0                                                -1.308012                            4.655834   \n",
       "1                                                -1.133391                            0.266476   \n",
       "2                                                 0.705352                            0.670266   \n",
       "3                                                 1.100256                            0.201054   \n",
       "4                                                 1.019893                           -0.184066   \n",
       "\n",
       "   Population, total (millions)  Population, urban (%)  \\\n",
       "0                     -0.074963              -1.012301   \n",
       "1                      0.127332              -1.535051   \n",
       "2                      0.424737               0.638131   \n",
       "3                      0.114153               0.246243   \n",
       "4                      0.432613               0.830438   \n",
       "\n",
       "   Mortality rate, under-five (per 1,000 live births)  \\\n",
       "0                                            0.820426   \n",
       "1                                            2.139757   \n",
       "2                                           -0.970543   \n",
       "3                                           -0.719916   \n",
       "4                                           -0.786313   \n",
       "\n",
       "   Mortality rate, infant (per 1,000 live births)  \\\n",
       "0                                        1.027825   \n",
       "1                                        2.476272   \n",
       "2                                       -1.139239   \n",
       "3                                       -0.945411   \n",
       "4                                       -0.743752   \n",
       "\n",
       "   Old age dependency ratio (old age (65 and older) per 100 creatures (ages 15-64))  \\\n",
       "0                                                                         -0.734976   \n",
       "1                                                                         -0.183086   \n",
       "2                                                                          1.050232   \n",
       "3                                                                          1.029213   \n",
       "4                                                                          0.916033   \n",
       "\n",
       "   Population, ages 15–64 (millions)  Population, ages 65 and older (millions)  \\\n",
       "0                          -0.120316                                 -0.337969   \n",
       "1                          -0.658055                                  0.749878   \n",
       "2                          -0.424269                                  0.274710   \n",
       "3                          -0.658662                                  0.292767   \n",
       "4                          -0.265801                                 -0.202235   \n",
       "\n",
       "   Life expectancy at birth, male (galactic years)  \\\n",
       "0                                        -0.740600   \n",
       "1                                        -1.129108   \n",
       "2                                         1.643209   \n",
       "3                                         0.057158   \n",
       "4                                         0.373743   \n",
       "\n",
       "   Life expectancy at birth, female (galactic years)  Population, under age 5 (millions)  \\\n",
       "0                                          -1.037183                           -1.334494   \n",
       "1                                          -1.720856                           -0.622467   \n",
       "2                                           0.518581                           -0.703417   \n",
       "3                                           0.629068                           -0.634276   \n",
       "4                                           0.665568                            0.474381   \n",
       "\n",
       "   Young age (0-14) dependency ratio (per 100 creatures ages 15-64)  \\\n",
       "0                                                          0.840520   \n",
       "1                                                          1.318776   \n",
       "2                                                         -0.548809   \n",
       "3                                                         -0.890496   \n",
       "4                                                         -1.279560   \n",
       "\n",
       "   Adolescent birth rate (births per 1,000 female creatures ages 15-19)  \\\n",
       "0                                                             -0.345464   \n",
       "1                                                              1.141945   \n",
       "2                                                             -0.880572   \n",
       "3                                                              0.018352   \n",
       "4                                                             -0.383609   \n",
       "\n",
       "   Total unemployment rate (female to male ratio)  ...  \\\n",
       "0                                             NaN  ...   \n",
       "1                                       -0.219044  ...   \n",
       "2                                        0.676035  ...   \n",
       "3                                       -0.516543  ...   \n",
       "4                                        0.301968  ...   \n",
       "\n",
       "   Rural population with access to electricity (%)  \\\n",
       "0                                        -0.130993   \n",
       "1                                        -0.938201   \n",
       "2                                         0.919338   \n",
       "3                                         0.678151   \n",
       "4                                         1.225169   \n",
       "\n",
       "   Domestic credit provided by financial sector (% of GGP)  \\\n",
       "0                                                      NaN   \n",
       "1                                                -0.787496   \n",
       "2                                                 1.036075   \n",
       "3                                                -0.154509   \n",
       "4                                                 1.200753   \n",
       "\n",
       "   Population with at least some secondary education, female (% ages 25 and older)  \\\n",
       "0                                                                              NaN   \n",
       "1                                                                        -1.777738   \n",
       "2                                                                        -0.663869   \n",
       "3                                                                        -0.947000   \n",
       "4                                                                        -0.166059   \n",
       "\n",
       "   Population with at least some secondary education, male (% ages 25 and older)  \\\n",
       "0                                                                            NaN   \n",
       "1                                                                      -0.739414   \n",
       "2                                                                       0.124508   \n",
       "3                                                                      -0.023353   \n",
       "4                                                                      -0.085041   \n",
       "\n",
       "   Gross fixed capital formation (% of GGP)  Remittances, inflows (% of GGP)  \\\n",
       "0                                  5.813151                         0.675282   \n",
       "1                                  0.223403                        -1.463934   \n",
       "2                                  0.637693                        -0.121723   \n",
       "3                                 -0.178619                        -0.286574   \n",
       "4                                 -0.227557                        -0.416284   \n",
       "\n",
       "   Population with at least some secondary education (% ages 25 and older)  \\\n",
       "0                                                                      NaN   \n",
       "1                                                                -0.930654   \n",
       "2                                                                -0.502559   \n",
       "3                                                                 0.137566   \n",
       "4                                                                -0.290695   \n",
       "\n",
       "   Intergalactic inbound tourists (thousands)  \\\n",
       "0                                   -0.352821   \n",
       "1                                    0.145374   \n",
       "2                                    0.489443   \n",
       "3                                   -0.179792   \n",
       "4                                    0.656395   \n",
       "\n",
       "   Gross enrolment ratio, primary (% of primary under-age population)  \\\n",
       "0                                                            0.754449   \n",
       "1                                                           -0.348455   \n",
       "2                                                           -0.366923   \n",
       "3                                                           -1.431724   \n",
       "4                                                           -0.757834   \n",
       "\n",
       "   Respiratory disease incidence (per 100,000 people)  \\\n",
       "0                                            1.530818   \n",
       "1                                            0.986253   \n",
       "2                                           -0.743473   \n",
       "3                                           -0.521225   \n",
       "4                                           -0.588110   \n",
       "\n",
       "   Interstellar phone subscriptions (per 100 people)  \\\n",
       "0                                          -1.531187   \n",
       "1                                          -1.234619   \n",
       "2                                           0.724973   \n",
       "3                                           0.144320   \n",
       "4                                           1.114541   \n",
       "\n",
       "   Interstellar Data Net users, total (% of population)  Current health expenditure (% of GGP)  \\\n",
       "0                                             -1.063093                               1.165709   \n",
       "1                                             -1.017075                              -1.012669   \n",
       "2                                              0.396339                               0.942077   \n",
       "3                                              0.672926                               0.458313   \n",
       "4                                              0.560244                               0.659732   \n",
       "\n",
       "   Intergalactic Development Index (IDI), female  Intergalactic Development Index (IDI), male  \\\n",
       "0                                            NaN                                          NaN   \n",
       "1                                      -0.992551                                    -1.157130   \n",
       "2                                       0.932139                                     1.064675   \n",
       "3                                       0.807102                                     0.770856   \n",
       "4                                       1.115335                                     1.081041   \n",
       "\n",
       "   Gender Development Index (GDI)  Intergalactic Development Index (IDI), female, Rank  \\\n",
       "0                             NaN                                                  NaN   \n",
       "1                       -0.643300                                             0.394869   \n",
       "2                        0.374823                                            -1.110176   \n",
       "3                        0.775115                                            -0.763962   \n",
       "4                        0.391214                                            -1.154703   \n",
       "\n",
       "   Intergalactic Development Index (IDI), male, Rank  Adjusted net savings   \\\n",
       "0                                                NaN                    NaN   \n",
       "1                                           0.816103              -0.570881   \n",
       "2                                          -1.335078               0.050080   \n",
       "3                                          -0.947950              -0.309333   \n",
       "4                                          -1.102175               0.111780   \n",
       "\n",
       "   Gender Inequality Index (GII)  Private galaxy capital flows (% of GGP)  \\\n",
       "0                            NaN                                 1.392867   \n",
       "1                       0.767777                                 0.130926   \n",
       "2                      -0.932716                                 0.814103   \n",
       "3                      -0.448389                                -0.058603   \n",
       "4                      -1.167166                                -0.717120   \n",
       "\n",
       "   Creature Immunodeficiency Disease prevalence, adult (% ages 15-49), total  galactic year  \\\n",
       "0                                                                        NaN       990025.0   \n",
       "1                                                                  -0.757207       990025.0   \n",
       "2                                                                  -0.441628       990025.0   \n",
       "3                                                                  -0.686432       990025.0   \n",
       "4                                                                  -0.607664       990025.0   \n",
       "\n",
       "                   galaxy         y  \n",
       "0  Andromeda Galaxy (M31)  0.049214  \n",
       "1             Andromeda I  0.053204  \n",
       "2            Andromeda II  0.167935  \n",
       "3           Andromeda III  0.110758  \n",
       "4            Andromeda IX  0.151314  \n",
       "\n",
       "[5 rows x 80 columns]"
      ]
     },
     "execution_count": 3,
     "metadata": {},
     "output_type": "execute_result"
    }
   ],
   "source": [
    "train = pd.read_csv('../../eda/outputs/imputed_scaled_train.csv')                \n",
    "m, n = train.shape                \n",
    "print('Data Frame: {} x {}'.format(m,n))                \n",
    "train.head()"
   ]
  },
  {
   "cell_type": "code",
   "execution_count": 4,
   "metadata": {
    "ExecuteTime": {
     "end_time": "2020-06-12T10:01:13.061956Z",
     "start_time": "2020-06-12T10:01:13.017825Z"
    },
    "scrolled": false
   },
   "outputs": [
    {
     "name": "stdout",
     "output_type": "stream",
     "text": [
      "Data Frame: 890 x 80\n"
     ]
    },
    {
     "data": {
      "text/html": [
       "<div>\n",
       "<style scoped>\n",
       "    .dataframe tbody tr th:only-of-type {\n",
       "        vertical-align: middle;\n",
       "    }\n",
       "\n",
       "    .dataframe tbody tr th {\n",
       "        vertical-align: top;\n",
       "    }\n",
       "\n",
       "    .dataframe thead th {\n",
       "        text-align: right;\n",
       "    }\n",
       "</style>\n",
       "<table border=\"1\" class=\"dataframe\">\n",
       "  <thead>\n",
       "    <tr style=\"text-align: right;\">\n",
       "      <th></th>\n",
       "      <th>existence expectancy index</th>\n",
       "      <th>existence expectancy at birth</th>\n",
       "      <th>Gross income per capita</th>\n",
       "      <th>Income Index</th>\n",
       "      <th>Expected years of education (galactic years)</th>\n",
       "      <th>Mean years of education (galactic years)</th>\n",
       "      <th>Intergalactic Development Index (IDI)</th>\n",
       "      <th>Education Index</th>\n",
       "      <th>Intergalactic Development Index (IDI), Rank</th>\n",
       "      <th>Population using at least basic drinking-water services (%)</th>\n",
       "      <th>Population using at least basic sanitation services (%)</th>\n",
       "      <th>Gross capital formation (% of GGP)</th>\n",
       "      <th>Population, total (millions)</th>\n",
       "      <th>Population, urban (%)</th>\n",
       "      <th>Mortality rate, under-five (per 1,000 live births)</th>\n",
       "      <th>Mortality rate, infant (per 1,000 live births)</th>\n",
       "      <th>Old age dependency ratio (old age (65 and older) per 100 creatures (ages 15-64))</th>\n",
       "      <th>Population, ages 15–64 (millions)</th>\n",
       "      <th>Population, ages 65 and older (millions)</th>\n",
       "      <th>Life expectancy at birth, male (galactic years)</th>\n",
       "      <th>Life expectancy at birth, female (galactic years)</th>\n",
       "      <th>Population, under age 5 (millions)</th>\n",
       "      <th>Young age (0-14) dependency ratio (per 100 creatures ages 15-64)</th>\n",
       "      <th>Adolescent birth rate (births per 1,000 female creatures ages 15-19)</th>\n",
       "      <th>Total unemployment rate (female to male ratio)</th>\n",
       "      <th>...</th>\n",
       "      <th>Rural population with access to electricity (%)</th>\n",
       "      <th>Domestic credit provided by financial sector (% of GGP)</th>\n",
       "      <th>Population with at least some secondary education, female (% ages 25 and older)</th>\n",
       "      <th>Population with at least some secondary education, male (% ages 25 and older)</th>\n",
       "      <th>Gross fixed capital formation (% of GGP)</th>\n",
       "      <th>Remittances, inflows (% of GGP)</th>\n",
       "      <th>Population with at least some secondary education (% ages 25 and older)</th>\n",
       "      <th>Intergalactic inbound tourists (thousands)</th>\n",
       "      <th>Gross enrolment ratio, primary (% of primary under-age population)</th>\n",
       "      <th>Respiratory disease incidence (per 100,000 people)</th>\n",
       "      <th>Interstellar phone subscriptions (per 100 people)</th>\n",
       "      <th>Interstellar Data Net users, total (% of population)</th>\n",
       "      <th>Current health expenditure (% of GGP)</th>\n",
       "      <th>Intergalactic Development Index (IDI), female</th>\n",
       "      <th>Intergalactic Development Index (IDI), male</th>\n",
       "      <th>Gender Development Index (GDI)</th>\n",
       "      <th>Intergalactic Development Index (IDI), female, Rank</th>\n",
       "      <th>Intergalactic Development Index (IDI), male, Rank</th>\n",
       "      <th>Adjusted net savings</th>\n",
       "      <th>Gender Inequality Index (GII)</th>\n",
       "      <th>Private galaxy capital flows (% of GGP)</th>\n",
       "      <th>Creature Immunodeficiency Disease prevalence, adult (% ages 15-49), total</th>\n",
       "      <th>galactic year</th>\n",
       "      <th>galaxy</th>\n",
       "      <th>y</th>\n",
       "    </tr>\n",
       "  </thead>\n",
       "  <tbody>\n",
       "    <tr>\n",
       "      <th>0</th>\n",
       "      <td>-0.086310</td>\n",
       "      <td>-0.427820</td>\n",
       "      <td>-0.680493</td>\n",
       "      <td>-0.672611</td>\n",
       "      <td>0.339953</td>\n",
       "      <td>0.218409</td>\n",
       "      <td>-0.500369</td>\n",
       "      <td>0.378410</td>\n",
       "      <td>0.771128</td>\n",
       "      <td>-1.222150</td>\n",
       "      <td>-0.839996</td>\n",
       "      <td>4.655834</td>\n",
       "      <td>0.002707</td>\n",
       "      <td>-0.219195</td>\n",
       "      <td>0.368076</td>\n",
       "      <td>0.423766</td>\n",
       "      <td>-0.818746</td>\n",
       "      <td>-0.300101</td>\n",
       "      <td>0.014534</td>\n",
       "      <td>-0.213385</td>\n",
       "      <td>-0.144936</td>\n",
       "      <td>-0.028435</td>\n",
       "      <td>0.413852</td>\n",
       "      <td>-0.691382</td>\n",
       "      <td>NaN</td>\n",
       "      <td>...</td>\n",
       "      <td>-0.101288</td>\n",
       "      <td>NaN</td>\n",
       "      <td>NaN</td>\n",
       "      <td>NaN</td>\n",
       "      <td>5.813151</td>\n",
       "      <td>0.591025</td>\n",
       "      <td>NaN</td>\n",
       "      <td>-0.216083</td>\n",
       "      <td>0.856933</td>\n",
       "      <td>1.494128</td>\n",
       "      <td>-1.338767</td>\n",
       "      <td>-0.780306</td>\n",
       "      <td>0.873292</td>\n",
       "      <td>NaN</td>\n",
       "      <td>NaN</td>\n",
       "      <td>NaN</td>\n",
       "      <td>NaN</td>\n",
       "      <td>NaN</td>\n",
       "      <td>NaN</td>\n",
       "      <td>NaN</td>\n",
       "      <td>0.412470</td>\n",
       "      <td>NaN</td>\n",
       "      <td>1007012.0</td>\n",
       "      <td>Andromeda Galaxy (M31)</td>\n",
       "      <td>NaN</td>\n",
       "    </tr>\n",
       "    <tr>\n",
       "      <th>1</th>\n",
       "      <td>-0.688683</td>\n",
       "      <td>-0.368654</td>\n",
       "      <td>-0.726012</td>\n",
       "      <td>-0.755598</td>\n",
       "      <td>-0.779210</td>\n",
       "      <td>-1.000693</td>\n",
       "      <td>-0.897010</td>\n",
       "      <td>-1.237383</td>\n",
       "      <td>0.983151</td>\n",
       "      <td>-1.078881</td>\n",
       "      <td>-0.842230</td>\n",
       "      <td>0.532705</td>\n",
       "      <td>0.061102</td>\n",
       "      <td>-1.023100</td>\n",
       "      <td>0.878909</td>\n",
       "      <td>0.823257</td>\n",
       "      <td>-0.647133</td>\n",
       "      <td>-0.088804</td>\n",
       "      <td>-0.045164</td>\n",
       "      <td>-0.779008</td>\n",
       "      <td>-0.564921</td>\n",
       "      <td>-0.165076</td>\n",
       "      <td>0.518038</td>\n",
       "      <td>0.254900</td>\n",
       "      <td>-0.590213</td>\n",
       "      <td>...</td>\n",
       "      <td>-0.181653</td>\n",
       "      <td>-0.763018</td>\n",
       "      <td>-0.907116</td>\n",
       "      <td>-0.521722</td>\n",
       "      <td>1.016944</td>\n",
       "      <td>-0.371187</td>\n",
       "      <td>-0.684141</td>\n",
       "      <td>-0.203481</td>\n",
       "      <td>1.016590</td>\n",
       "      <td>0.661343</td>\n",
       "      <td>-0.480765</td>\n",
       "      <td>-0.962165</td>\n",
       "      <td>-1.102935</td>\n",
       "      <td>-0.817371</td>\n",
       "      <td>-0.829539</td>\n",
       "      <td>-0.333734</td>\n",
       "      <td>0.489368</td>\n",
       "      <td>0.884488</td>\n",
       "      <td>-0.998712</td>\n",
       "      <td>0.451607</td>\n",
       "      <td>0.349634</td>\n",
       "      <td>-0.116338</td>\n",
       "      <td>1007012.0</td>\n",
       "      <td>Andromeda I</td>\n",
       "      <td>NaN</td>\n",
       "    </tr>\n",
       "    <tr>\n",
       "      <th>2</th>\n",
       "      <td>0.377006</td>\n",
       "      <td>0.446447</td>\n",
       "      <td>-0.279815</td>\n",
       "      <td>0.494627</td>\n",
       "      <td>0.911328</td>\n",
       "      <td>1.064196</td>\n",
       "      <td>0.888140</td>\n",
       "      <td>0.941459</td>\n",
       "      <td>-1.228111</td>\n",
       "      <td>1.076995</td>\n",
       "      <td>1.149977</td>\n",
       "      <td>0.270319</td>\n",
       "      <td>-0.203220</td>\n",
       "      <td>0.672039</td>\n",
       "      <td>-0.697194</td>\n",
       "      <td>-0.923817</td>\n",
       "      <td>1.607154</td>\n",
       "      <td>-0.271843</td>\n",
       "      <td>-0.115735</td>\n",
       "      <td>0.398327</td>\n",
       "      <td>0.670809</td>\n",
       "      <td>-0.522913</td>\n",
       "      <td>-1.082474</td>\n",
       "      <td>-0.794920</td>\n",
       "      <td>-0.522810</td>\n",
       "      <td>...</td>\n",
       "      <td>0.702928</td>\n",
       "      <td>-0.196130</td>\n",
       "      <td>0.958256</td>\n",
       "      <td>1.030771</td>\n",
       "      <td>-0.162396</td>\n",
       "      <td>-0.332340</td>\n",
       "      <td>1.468851</td>\n",
       "      <td>-0.114575</td>\n",
       "      <td>0.062137</td>\n",
       "      <td>-0.531632</td>\n",
       "      <td>0.698791</td>\n",
       "      <td>1.069627</td>\n",
       "      <td>0.499441</td>\n",
       "      <td>0.863503</td>\n",
       "      <td>0.711909</td>\n",
       "      <td>0.819130</td>\n",
       "      <td>-0.761475</td>\n",
       "      <td>-0.978564</td>\n",
       "      <td>-0.317862</td>\n",
       "      <td>-0.666085</td>\n",
       "      <td>0.138560</td>\n",
       "      <td>-0.599227</td>\n",
       "      <td>1007012.0</td>\n",
       "      <td>Andromeda III</td>\n",
       "      <td>NaN</td>\n",
       "    </tr>\n",
       "    <tr>\n",
       "      <th>3</th>\n",
       "      <td>1.245424</td>\n",
       "      <td>1.163850</td>\n",
       "      <td>1.215681</td>\n",
       "      <td>0.965629</td>\n",
       "      <td>1.404209</td>\n",
       "      <td>0.764076</td>\n",
       "      <td>1.611891</td>\n",
       "      <td>1.309473</td>\n",
       "      <td>-1.397953</td>\n",
       "      <td>0.614954</td>\n",
       "      <td>1.381149</td>\n",
       "      <td>-0.551876</td>\n",
       "      <td>0.342828</td>\n",
       "      <td>0.709467</td>\n",
       "      <td>-0.880007</td>\n",
       "      <td>-0.843410</td>\n",
       "      <td>2.638880</td>\n",
       "      <td>-0.223417</td>\n",
       "      <td>0.255578</td>\n",
       "      <td>1.395850</td>\n",
       "      <td>0.957877</td>\n",
       "      <td>0.039950</td>\n",
       "      <td>-1.389438</td>\n",
       "      <td>-1.014658</td>\n",
       "      <td>0.131275</td>\n",
       "      <td>...</td>\n",
       "      <td>0.883762</td>\n",
       "      <td>1.442074</td>\n",
       "      <td>0.357554</td>\n",
       "      <td>0.569986</td>\n",
       "      <td>-0.344816</td>\n",
       "      <td>-0.438111</td>\n",
       "      <td>0.349955</td>\n",
       "      <td>0.815634</td>\n",
       "      <td>-0.296563</td>\n",
       "      <td>-0.654518</td>\n",
       "      <td>1.523872</td>\n",
       "      <td>0.786184</td>\n",
       "      <td>0.796269</td>\n",
       "      <td>1.230029</td>\n",
       "      <td>1.112572</td>\n",
       "      <td>0.480109</td>\n",
       "      <td>-1.153964</td>\n",
       "      <td>-1.082734</td>\n",
       "      <td>-0.097334</td>\n",
       "      <td>-1.293741</td>\n",
       "      <td>-0.161651</td>\n",
       "      <td>-0.638299</td>\n",
       "      <td>1007012.0</td>\n",
       "      <td>Andromeda IX</td>\n",
       "      <td>NaN</td>\n",
       "    </tr>\n",
       "    <tr>\n",
       "      <th>4</th>\n",
       "      <td>1.243538</td>\n",
       "      <td>1.624077</td>\n",
       "      <td>1.218224</td>\n",
       "      <td>1.443203</td>\n",
       "      <td>1.029871</td>\n",
       "      <td>1.239948</td>\n",
       "      <td>1.597811</td>\n",
       "      <td>1.533407</td>\n",
       "      <td>-1.080745</td>\n",
       "      <td>0.770833</td>\n",
       "      <td>1.259513</td>\n",
       "      <td>0.241363</td>\n",
       "      <td>-0.290818</td>\n",
       "      <td>1.520010</td>\n",
       "      <td>-0.949449</td>\n",
       "      <td>-0.996808</td>\n",
       "      <td>3.170928</td>\n",
       "      <td>-0.039176</td>\n",
       "      <td>0.453097</td>\n",
       "      <td>1.266824</td>\n",
       "      <td>1.503894</td>\n",
       "      <td>-0.044988</td>\n",
       "      <td>-1.162490</td>\n",
       "      <td>-1.437539</td>\n",
       "      <td>-0.427039</td>\n",
       "      <td>...</td>\n",
       "      <td>0.879713</td>\n",
       "      <td>4.311503</td>\n",
       "      <td>1.149665</td>\n",
       "      <td>0.800555</td>\n",
       "      <td>0.080513</td>\n",
       "      <td>-0.616510</td>\n",
       "      <td>0.976967</td>\n",
       "      <td>0.011730</td>\n",
       "      <td>0.126336</td>\n",
       "      <td>-0.713501</td>\n",
       "      <td>0.635701</td>\n",
       "      <td>1.888274</td>\n",
       "      <td>1.355428</td>\n",
       "      <td>1.005355</td>\n",
       "      <td>1.435144</td>\n",
       "      <td>0.902784</td>\n",
       "      <td>-1.646768</td>\n",
       "      <td>-1.309793</td>\n",
       "      <td>0.041790</td>\n",
       "      <td>-1.390208</td>\n",
       "      <td>0.223241</td>\n",
       "      <td>-0.587892</td>\n",
       "      <td>1007012.0</td>\n",
       "      <td>Andromeda V</td>\n",
       "      <td>NaN</td>\n",
       "    </tr>\n",
       "  </tbody>\n",
       "</table>\n",
       "<p>5 rows × 80 columns</p>\n",
       "</div>"
      ],
      "text/plain": [
       "   existence expectancy index  existence expectancy at birth  Gross income per capita  \\\n",
       "0                   -0.086310                      -0.427820                -0.680493   \n",
       "1                   -0.688683                      -0.368654                -0.726012   \n",
       "2                    0.377006                       0.446447                -0.279815   \n",
       "3                    1.245424                       1.163850                 1.215681   \n",
       "4                    1.243538                       1.624077                 1.218224   \n",
       "\n",
       "   Income Index  Expected years of education (galactic years)  \\\n",
       "0     -0.672611                                      0.339953   \n",
       "1     -0.755598                                     -0.779210   \n",
       "2      0.494627                                      0.911328   \n",
       "3      0.965629                                      1.404209   \n",
       "4      1.443203                                      1.029871   \n",
       "\n",
       "   Mean years of education (galactic years)  Intergalactic Development Index (IDI)  \\\n",
       "0                                  0.218409                              -0.500369   \n",
       "1                                 -1.000693                              -0.897010   \n",
       "2                                  1.064196                               0.888140   \n",
       "3                                  0.764076                               1.611891   \n",
       "4                                  1.239948                               1.597811   \n",
       "\n",
       "   Education Index  Intergalactic Development Index (IDI), Rank  \\\n",
       "0         0.378410                                     0.771128   \n",
       "1        -1.237383                                     0.983151   \n",
       "2         0.941459                                    -1.228111   \n",
       "3         1.309473                                    -1.397953   \n",
       "4         1.533407                                    -1.080745   \n",
       "\n",
       "   Population using at least basic drinking-water services (%)  \\\n",
       "0                                                    -1.222150   \n",
       "1                                                    -1.078881   \n",
       "2                                                     1.076995   \n",
       "3                                                     0.614954   \n",
       "4                                                     0.770833   \n",
       "\n",
       "   Population using at least basic sanitation services (%)  Gross capital formation (% of GGP)  \\\n",
       "0                                                -0.839996                            4.655834   \n",
       "1                                                -0.842230                            0.532705   \n",
       "2                                                 1.149977                            0.270319   \n",
       "3                                                 1.381149                           -0.551876   \n",
       "4                                                 1.259513                            0.241363   \n",
       "\n",
       "   Population, total (millions)  Population, urban (%)  \\\n",
       "0                      0.002707              -0.219195   \n",
       "1                      0.061102              -1.023100   \n",
       "2                     -0.203220               0.672039   \n",
       "3                      0.342828               0.709467   \n",
       "4                     -0.290818               1.520010   \n",
       "\n",
       "   Mortality rate, under-five (per 1,000 live births)  \\\n",
       "0                                            0.368076   \n",
       "1                                            0.878909   \n",
       "2                                           -0.697194   \n",
       "3                                           -0.880007   \n",
       "4                                           -0.949449   \n",
       "\n",
       "   Mortality rate, infant (per 1,000 live births)  \\\n",
       "0                                        0.423766   \n",
       "1                                        0.823257   \n",
       "2                                       -0.923817   \n",
       "3                                       -0.843410   \n",
       "4                                       -0.996808   \n",
       "\n",
       "   Old age dependency ratio (old age (65 and older) per 100 creatures (ages 15-64))  \\\n",
       "0                                                                         -0.818746   \n",
       "1                                                                         -0.647133   \n",
       "2                                                                          1.607154   \n",
       "3                                                                          2.638880   \n",
       "4                                                                          3.170928   \n",
       "\n",
       "   Population, ages 15–64 (millions)  Population, ages 65 and older (millions)  \\\n",
       "0                          -0.300101                                  0.014534   \n",
       "1                          -0.088804                                 -0.045164   \n",
       "2                          -0.271843                                 -0.115735   \n",
       "3                          -0.223417                                  0.255578   \n",
       "4                          -0.039176                                  0.453097   \n",
       "\n",
       "   Life expectancy at birth, male (galactic years)  \\\n",
       "0                                        -0.213385   \n",
       "1                                        -0.779008   \n",
       "2                                         0.398327   \n",
       "3                                         1.395850   \n",
       "4                                         1.266824   \n",
       "\n",
       "   Life expectancy at birth, female (galactic years)  Population, under age 5 (millions)  \\\n",
       "0                                          -0.144936                           -0.028435   \n",
       "1                                          -0.564921                           -0.165076   \n",
       "2                                           0.670809                           -0.522913   \n",
       "3                                           0.957877                            0.039950   \n",
       "4                                           1.503894                           -0.044988   \n",
       "\n",
       "   Young age (0-14) dependency ratio (per 100 creatures ages 15-64)  \\\n",
       "0                                                          0.413852   \n",
       "1                                                          0.518038   \n",
       "2                                                         -1.082474   \n",
       "3                                                         -1.389438   \n",
       "4                                                         -1.162490   \n",
       "\n",
       "   Adolescent birth rate (births per 1,000 female creatures ages 15-19)  \\\n",
       "0                                                             -0.691382   \n",
       "1                                                              0.254900   \n",
       "2                                                             -0.794920   \n",
       "3                                                             -1.014658   \n",
       "4                                                             -1.437539   \n",
       "\n",
       "   Total unemployment rate (female to male ratio)  ...  \\\n",
       "0                                             NaN  ...   \n",
       "1                                       -0.590213  ...   \n",
       "2                                       -0.522810  ...   \n",
       "3                                        0.131275  ...   \n",
       "4                                       -0.427039  ...   \n",
       "\n",
       "   Rural population with access to electricity (%)  \\\n",
       "0                                        -0.101288   \n",
       "1                                        -0.181653   \n",
       "2                                         0.702928   \n",
       "3                                         0.883762   \n",
       "4                                         0.879713   \n",
       "\n",
       "   Domestic credit provided by financial sector (% of GGP)  \\\n",
       "0                                                      NaN   \n",
       "1                                                -0.763018   \n",
       "2                                                -0.196130   \n",
       "3                                                 1.442074   \n",
       "4                                                 4.311503   \n",
       "\n",
       "   Population with at least some secondary education, female (% ages 25 and older)  \\\n",
       "0                                                                              NaN   \n",
       "1                                                                        -0.907116   \n",
       "2                                                                         0.958256   \n",
       "3                                                                         0.357554   \n",
       "4                                                                         1.149665   \n",
       "\n",
       "   Population with at least some secondary education, male (% ages 25 and older)  \\\n",
       "0                                                                            NaN   \n",
       "1                                                                      -0.521722   \n",
       "2                                                                       1.030771   \n",
       "3                                                                       0.569986   \n",
       "4                                                                       0.800555   \n",
       "\n",
       "   Gross fixed capital formation (% of GGP)  Remittances, inflows (% of GGP)  \\\n",
       "0                                  5.813151                         0.591025   \n",
       "1                                  1.016944                        -0.371187   \n",
       "2                                 -0.162396                        -0.332340   \n",
       "3                                 -0.344816                        -0.438111   \n",
       "4                                  0.080513                        -0.616510   \n",
       "\n",
       "   Population with at least some secondary education (% ages 25 and older)  \\\n",
       "0                                                                      NaN   \n",
       "1                                                                -0.684141   \n",
       "2                                                                 1.468851   \n",
       "3                                                                 0.349955   \n",
       "4                                                                 0.976967   \n",
       "\n",
       "   Intergalactic inbound tourists (thousands)  \\\n",
       "0                                   -0.216083   \n",
       "1                                   -0.203481   \n",
       "2                                   -0.114575   \n",
       "3                                    0.815634   \n",
       "4                                    0.011730   \n",
       "\n",
       "   Gross enrolment ratio, primary (% of primary under-age population)  \\\n",
       "0                                                            0.856933   \n",
       "1                                                            1.016590   \n",
       "2                                                            0.062137   \n",
       "3                                                           -0.296563   \n",
       "4                                                            0.126336   \n",
       "\n",
       "   Respiratory disease incidence (per 100,000 people)  \\\n",
       "0                                            1.494128   \n",
       "1                                            0.661343   \n",
       "2                                           -0.531632   \n",
       "3                                           -0.654518   \n",
       "4                                           -0.713501   \n",
       "\n",
       "   Interstellar phone subscriptions (per 100 people)  \\\n",
       "0                                          -1.338767   \n",
       "1                                          -0.480765   \n",
       "2                                           0.698791   \n",
       "3                                           1.523872   \n",
       "4                                           0.635701   \n",
       "\n",
       "   Interstellar Data Net users, total (% of population)  Current health expenditure (% of GGP)  \\\n",
       "0                                             -0.780306                               0.873292   \n",
       "1                                             -0.962165                              -1.102935   \n",
       "2                                              1.069627                               0.499441   \n",
       "3                                              0.786184                               0.796269   \n",
       "4                                              1.888274                               1.355428   \n",
       "\n",
       "   Intergalactic Development Index (IDI), female  Intergalactic Development Index (IDI), male  \\\n",
       "0                                            NaN                                          NaN   \n",
       "1                                      -0.817371                                    -0.829539   \n",
       "2                                       0.863503                                     0.711909   \n",
       "3                                       1.230029                                     1.112572   \n",
       "4                                       1.005355                                     1.435144   \n",
       "\n",
       "   Gender Development Index (GDI)  Intergalactic Development Index (IDI), female, Rank  \\\n",
       "0                             NaN                                                  NaN   \n",
       "1                       -0.333734                                             0.489368   \n",
       "2                        0.819130                                            -0.761475   \n",
       "3                        0.480109                                            -1.153964   \n",
       "4                        0.902784                                            -1.646768   \n",
       "\n",
       "   Intergalactic Development Index (IDI), male, Rank  Adjusted net savings   \\\n",
       "0                                                NaN                    NaN   \n",
       "1                                           0.884488              -0.998712   \n",
       "2                                          -0.978564              -0.317862   \n",
       "3                                          -1.082734              -0.097334   \n",
       "4                                          -1.309793               0.041790   \n",
       "\n",
       "   Gender Inequality Index (GII)  Private galaxy capital flows (% of GGP)  \\\n",
       "0                            NaN                                 0.412470   \n",
       "1                       0.451607                                 0.349634   \n",
       "2                      -0.666085                                 0.138560   \n",
       "3                      -1.293741                                -0.161651   \n",
       "4                      -1.390208                                 0.223241   \n",
       "\n",
       "   Creature Immunodeficiency Disease prevalence, adult (% ages 15-49), total  galactic year  \\\n",
       "0                                                                        NaN      1007012.0   \n",
       "1                                                                  -0.116338      1007012.0   \n",
       "2                                                                  -0.599227      1007012.0   \n",
       "3                                                                  -0.638299      1007012.0   \n",
       "4                                                                  -0.587892      1007012.0   \n",
       "\n",
       "                   galaxy   y  \n",
       "0  Andromeda Galaxy (M31) NaN  \n",
       "1             Andromeda I NaN  \n",
       "2           Andromeda III NaN  \n",
       "3            Andromeda IX NaN  \n",
       "4             Andromeda V NaN  \n",
       "\n",
       "[5 rows x 80 columns]"
      ]
     },
     "execution_count": 4,
     "metadata": {},
     "output_type": "execute_result"
    }
   ],
   "source": [
    "test = pd.read_csv('../../eda/outputs/imputed_scaled_test.csv')\n",
    "m, n = test.shape                \n",
    "print('Data Frame: {} x {}'.format(m,n))                \n",
    "test.head()"
   ]
  },
  {
   "cell_type": "markdown",
   "metadata": {},
   "source": [
    "Removing the galaxies from train set that are unseen in test set as no need to build model for those."
   ]
  },
  {
   "cell_type": "code",
   "execution_count": 5,
   "metadata": {
    "ExecuteTime": {
     "end_time": "2020-06-12T10:01:13.068872Z",
     "start_time": "2020-06-12T10:01:13.062866Z"
    }
   },
   "outputs": [],
   "source": [
    "galaxies_unseen_test = list(set(train.galaxy.unique()) - set(test.galaxy.unique()))\n",
    "train = train[~train.galaxy.isin(galaxies_unseen_test)].copy()"
   ]
  },
  {
   "cell_type": "code",
   "execution_count": 6,
   "metadata": {
    "ExecuteTime": {
     "end_time": "2020-06-12T10:01:13.075877Z",
     "start_time": "2020-06-12T10:01:13.069872Z"
    }
   },
   "outputs": [],
   "source": [
    "date = train['galactic year'].min()\n",
    "\n",
    "train['year'] = ((train['galactic year'] - date) / 1000 + 1).astype(int)\n",
    "test['year'] = ((test['galactic year'] - date) / 1000 + 1).astype(int)"
   ]
  },
  {
   "cell_type": "markdown",
   "metadata": {},
   "source": [
    "#### Build-up\n",
    "Implementing some functions that will help us and ease the process of data preparation, cross validation, model building, etc."
   ]
  },
  {
   "cell_type": "code",
   "execution_count": 7,
   "metadata": {
    "ExecuteTime": {
     "end_time": "2020-06-12T10:01:14.212427Z",
     "start_time": "2020-06-12T10:01:13.076879Z"
    }
   },
   "outputs": [],
   "source": [
    "np.seterr(invalid='ignore')\n",
    "\n",
    "from sklearn.preprocessing import MinMaxScaler, StandardScaler\n",
    "from sklearn.metrics import mean_squared_error\n",
    "from tensorflow.keras import Sequential\n",
    "from tensorflow.keras.layers import LSTM, Dense\n",
    "from tensorflow.keras.layers import Bidirectional\n",
    "from tensorflow.keras.layers import TimeDistributed, Flatten\n",
    "from tensorflow.keras.layers import Conv1D, MaxPooling1D"
   ]
  },
  {
   "cell_type": "code",
   "execution_count": 8,
   "metadata": {
    "ExecuteTime": {
     "end_time": "2020-06-12T10:01:14.296526Z",
     "start_time": "2020-06-12T10:01:14.213428Z"
    }
   },
   "outputs": [],
   "source": [
    "def log_progress(sequence, every=None, size=None, name='Items'):\n",
    "    from ipywidgets import IntProgress, HTML, VBox\n",
    "    from IPython.display import display\n",
    "\n",
    "    is_iterator = False\n",
    "    if size is None:\n",
    "        try:\n",
    "            size = len(sequence)\n",
    "        except TypeError:\n",
    "            is_iterator = True\n",
    "    if size is not None:\n",
    "        if every is None:\n",
    "            if size <= 200:\n",
    "                every = 1\n",
    "            else:\n",
    "                every = int(size / 200)     # every 0.5%\n",
    "    else:\n",
    "        assert every is not None, 'sequence is iterator, set every'\n",
    "\n",
    "    if is_iterator:\n",
    "        progress = IntProgress(min=0, max=1, value=1)\n",
    "        progress.bar_style = 'info'\n",
    "    else:\n",
    "        progress = IntProgress(min=0, max=size, value=0)\n",
    "    label = HTML()\n",
    "    box = VBox(children=[label, progress])\n",
    "    display(box)\n",
    "\n",
    "    index = 0\n",
    "    try:\n",
    "        for index, record in enumerate(sequence, 1):\n",
    "            if index == 1 or index % every == 0:\n",
    "                if is_iterator:\n",
    "                    label.value = '{name}: {index} / ?'.format(\n",
    "                        name=name,\n",
    "                        index=index\n",
    "                    )\n",
    "                else:\n",
    "                    progress.value = index\n",
    "                    label.value = u'{name}: {index} / {size}'.format(\n",
    "                        name=name,\n",
    "                        index=index,\n",
    "                        size=size\n",
    "                    )\n",
    "            yield record\n",
    "    except:\n",
    "        progress.bar_style = 'danger'\n",
    "        raise\n",
    "    else:\n",
    "        progress.bar_style = 'success'\n",
    "        progress.value = index\n",
    "        label.value = \"{name}: {index}\".format(\n",
    "            name=name,\n",
    "            index=str(index or '?')\n",
    "        )"
   ]
  },
  {
   "cell_type": "code",
   "execution_count": 9,
   "metadata": {
    "ExecuteTime": {
     "end_time": "2020-06-12T10:01:14.302531Z",
     "start_time": "2020-06-12T10:01:14.297527Z"
    }
   },
   "outputs": [],
   "source": [
    "class ModelHistory:\n",
    "    def set_param(self, param, val):\n",
    "        setattr(self, param, val)"
   ]
  },
  {
   "cell_type": "code",
   "execution_count": 10,
   "metadata": {
    "ExecuteTime": {
     "end_time": "2020-06-12T10:01:14.307535Z",
     "start_time": "2020-06-12T10:01:14.303532Z"
    },
    "code_folding": []
   },
   "outputs": [],
   "source": [
    "def is_consecutive(ar, how='all'):\n",
    "    if how == 'all':\n",
    "        comp = all\n",
    "    else:\n",
    "        comp = any\n",
    "    if comp(np.diff(ar) == 1):\n",
    "        return True\n",
    "    return False\n",
    "\n",
    "\n",
    "def extract_consecutive(test):\n",
    "    diff = np.diff(test)\n",
    "    diff = np.insert(diff, 0, 0)\n",
    "    return test[diff != 1]"
   ]
  },
  {
   "cell_type": "code",
   "execution_count": 11,
   "metadata": {
    "ExecuteTime": {
     "end_time": "2020-06-12T10:01:14.328637Z",
     "start_time": "2020-06-12T10:01:14.308536Z"
    }
   },
   "outputs": [],
   "source": [
    "def window_stack(a, stepsize=1, width=3):\n",
    "    n = a.shape[0]\n",
    "    return np.hstack(a[i:1+n+i-width:stepsize] for i in range(0,width))\n",
    "\n",
    "\n",
    "def to_vector(x):\n",
    "    if not isinstance(x, np.ndarray):\n",
    "        x = np.array(x)\n",
    "    \n",
    "    x = x.reshape(len(x), 1)\n",
    "    return x\n",
    "    \n",
    "\n",
    "def prepare_ts_data(train_set, test_set=None,\n",
    "                    target='y',\n",
    "                    date='ds',\n",
    "                    val_size=2,\n",
    "                    expanding_factor=1,\n",
    "                    group=None,\n",
    "                    drop_col=None):\n",
    "    \"\"\"\n",
    "    train = [.., (train[g].y, train[g].year, g), ..] # (rank1 array, rank1 array, str)\n",
    "    val = [.., (val[g].y, val[g].year, g), ..] # (rank1 array, rank1 array, str)\n",
    "    \n",
    "    train = [.., [(train[g].y, train[g].year, g), (train[g].y, train[g].year, g)], ..] # 0-9, 0-12\n",
    "    val = [.., [(val[g].y, val[g].year, g), (val[g].y, val[g].year, g)], ..] # 9-12\n",
    "    \n",
    "    train 0,1,2,3,4,5,6,7,8,10,11  test 9,12,13 \n",
    "    \"\"\"\n",
    "    if not group:\n",
    "        return train_set\n",
    "    \n",
    "    if drop_col is None:\n",
    "        drop_col = []\n",
    "    \n",
    "    train = []\n",
    "    val = []\n",
    "    \n",
    "    # drop galaxies which are unseen at test.\n",
    "    \n",
    "    groups = sorted(train_set[group].unique())\n",
    "    \n",
    "    for g in groups:\n",
    "        y_test = test_set.loc[test_set[group] == g, date]\n",
    "        cons = extract_consecutive(y_test) # 9,11,12,14 [9,11,14]\n",
    "        \n",
    "        g_train = []\n",
    "        g_val = []\n",
    "        for i, con in enumerate(cons):\n",
    "            if i != 0:\n",
    "                break\n",
    "                \n",
    "            temp = train_set.loc[(train_set[group] == g)&(train_set[date]<con)].copy()\n",
    "            \n",
    "            temp_train = temp.drop([target, group, date, *drop_col], axis=1).copy()\n",
    "            temp_train[target] = temp[target]\n",
    "            temp_train.dropna(how='all', axis=1, inplace=True)\n",
    "            temp_train.fillna(0, inplace=True)\n",
    "            temp_train = temp_train.to_numpy()\n",
    "            \n",
    "            ds = to_vector(temp[date].to_numpy())\n",
    "            \n",
    "            g_train.append((temp_train[:-val_size,:], ds[:-val_size], g))\n",
    "            g_val.append((temp_train[-val_size:,:], ds[-val_size:], g))\n",
    "        \n",
    "        train.append(g_train)\n",
    "        val.append(g_val)\n",
    "            \n",
    "    return train, val\n",
    "\n",
    "\n",
    "def split_X_y(data, n_step, window_size):\n",
    "    model_input = window_stack(data, stepsize=n_step, width=window_size+1)\n",
    "    X = model_input[:, :window_size]\n",
    "    X = X.reshape((X.shape[0], X.shape[1], 1))\n",
    "    y = model_input[:, window_size]\n",
    "    \n",
    "    return X, y\n",
    "\n",
    "\n",
    "def splitmv_X_y(sequences, n_step):\n",
    "    X, y = list(), list()\n",
    "    for i in range(len(sequences)):\n",
    "        # find the end of this pattern\n",
    "        end_ix = i + n_step\n",
    "        # check if we are beyond the dataset\n",
    "        if end_ix > len(sequences):\n",
    "            break\n",
    "        # gather input and output parts of the pattern\n",
    "        seq_x, seq_y = sequences[i:end_ix, :-1], sequences[end_ix-1, -1]\n",
    "        X.append(seq_x)\n",
    "        y.append(seq_y)\n",
    "    return np.array(X), np.array(y)\n",
    "\n",
    "\n",
    "def trainmv_ts(train_set, val_set, model=None,\n",
    "            n_step = 1,\n",
    "            epochs=200,\n",
    "            steps_per_epoch=1,\n",
    "            scale=None,\n",
    "            expanding_factor=1,\n",
    "            verbose=0):\n",
    "    \n",
    "    train_history = ModelHistory()\n",
    "        \n",
    "    res_df = []\n",
    "    \n",
    "    train_mse = 0\n",
    "    val_mse = 0\n",
    "\n",
    "    for train_list, val_list in log_progress(zip(train_set, val_set), every=1):\n",
    "        for train, val in zip(train_list, val_list):\n",
    "\n",
    "            X_train_pre = np.copy(train[0][:,:-1])\n",
    "            y_train_pre = to_vector(np.copy(train[0][:,-1]))\n",
    "            X_val_pre = np.copy(val[0][:,:-1])\n",
    "            y_val_pre = to_vector(np.copy(val[0][:,-1]))\n",
    "\n",
    "            if scale is None:\n",
    "                scaled_X_train, scaled_X_val = X_train_pre, X_val_pre\n",
    "            else:\n",
    "                if scale.lower() == 'standard':\n",
    "                    scaler = StandardScaler()\n",
    "                elif scale.lower() == 'minmax':\n",
    "                    scaler = MinMaxScaler()\n",
    "                else:\n",
    "                    raise ValueError(\"Scale must be one of ['standard', 'minmax']\")\n",
    "\n",
    "                scaled_X_train = scaler.fit_transform(X_train_pre)\n",
    "                scaled_X_val = scaler.transform(X_val_pre)\n",
    "\n",
    "            train_prep = np.hstack((scaled_X_train, y_train_pre))\n",
    "            val_prep = np.hstack((scaled_X_val, y_val_pre))\n",
    "            X_train, y_train = splitmv_X_y(train_prep, n_step=n_step)\n",
    "            X_val, y_val =  splitmv_X_y(val_prep, n_step=n_step)\n",
    "\n",
    "\n",
    "            model = Sequential()                \n",
    "            model.add(LSTM(150, activation='relu', recurrent_activation='sigmoid',\n",
    "                                         input_shape=(n_step, X_train.shape[2]),\n",
    "                                        return_sequences=True))\n",
    "            model.add(Bidirectional(LSTM(50, activation='relu', recurrent_activation='sigmoid',\n",
    "                                        return_sequences=True)))\n",
    "            model.add(LSTM(50, activation='relu', recurrent_activation='sigmoid',\n",
    "                                        return_sequences=True))\n",
    "            model.add(Bidirectional(LSTM(50, activation='relu', recurrent_activation='sigmoid',\n",
    "                                        return_sequences=False)))\n",
    "#             model.add(LSTM(25, activation='relu', recurrent_activation='sigmoid',\n",
    "#                                         return_sequences=False))\n",
    "#             model.add(LSTM(100, activation='relu', recurrent_activation='sigmoid',\n",
    "#                                         return_sequences=False))\n",
    "            model.add(Dense(1))\n",
    "            model.compile(optimizer='adam', loss='mse')\n",
    "            \n",
    "    #         print(f'Training for {train[2]}\\tTrain:{train[0].shape[0]}\\tValid:{val[0].shape[0]}')\n",
    "\n",
    "\n",
    "            \n",
    "            history = model.fit(X_train, y_train,\n",
    "                                epochs=epochs,\n",
    "                                steps_per_epoch=steps_per_epoch,\n",
    "                                verbose=verbose,\n",
    "                                validation_data=(X_val, y_val)\n",
    "                               )\n",
    "\n",
    "            # forecast  \n",
    "            fittedvalues = model.predict(X_train)\n",
    "            y_pred = model.predict(X_val)\n",
    "\n",
    "            train_mse += mean_squared_error(y_train, fittedvalues)\n",
    "            val_mse += mean_squared_error(y_val, y_pred)\n",
    "\n",
    "#             print(f'{train[2]}\\tTrain MSE:{train_mse: .5f}\\tValid MSE:{val_mse: .5f}')\n",
    "            temp = {\n",
    "                'galaxy': str(val[2]),\n",
    "#                 'galactic year': train[1].ravel().tolist() + val[1].ravel().tolist(),\n",
    "                'galactic year': list(range(len(y_train.tolist() + y_val.tolist()))),\n",
    "                'y_true': y_train.tolist() + y_val.tolist(),\n",
    "                'y_pred': fittedvalues.ravel().tolist() + y_pred.ravel().tolist()\n",
    "            }\n",
    "            res_df.append(temp)\n",
    "    \n",
    "    train_history.set_param('loss_history', loss_history)\n",
    "    train_history.set_param('history', history)\n",
    "    train_history.set_param('train_rmse', (train_mse/expanding_factor) ** .5)\n",
    "    train_history.set_param('valid_rmse', (val_mse/expanding_factor) ** .5)\n",
    "    train_history.set_param('resulting_df', res_df)\n",
    "    \n",
    "    return train_history"
   ]
  },
  {
   "cell_type": "code",
   "execution_count": 12,
   "metadata": {
    "ExecuteTime": {
     "end_time": "2020-06-12T10:01:14.339565Z",
     "start_time": "2020-06-12T10:01:14.329557Z"
    }
   },
   "outputs": [],
   "source": [
    "def plotdf_from_pd(df, index, galaxy):\n",
    "    galaxy_df = pd.DataFrame()\n",
    "    galaxy_df['galactic year'] = res_df.loc[res_df.galaxy == galaxy, 'galactic year'].tolist() * 2\n",
    "    galaxy_df['y'] = res_df.loc[res_df.galaxy == galaxy, 'y_true'].tolist() +\\\n",
    "                        res_df.loc[res_df.galaxy == galaxy, 'y_pred'].tolist()\n",
    "    galaxy_df['state'] = ['actual'] * res_df.loc[res_df.galaxy == galaxy, 'y_true'].shape[0] +\\\n",
    "                        ['predicted'] * res_df.loc[res_df.galaxy == galaxy, 'y_true'].shape[0]\n",
    "    return galaxy_df\n",
    "\n",
    "def plotdf_from_dict(dict_, index):\n",
    "    g_dict = dict_[index]\n",
    "    galaxy_df = pd.DataFrame()\n",
    "    galaxy_df['galactic year'] = g_dict['galactic year'] * 2\n",
    "    galaxy_df['y'] = g_dict['y_true'] + g_dict['y_pred']\n",
    "    galaxy_df['state'] = ['actual'] * len(g_dict['y_true']) +\\\n",
    "                        ['predicted'] * len(g_dict['y_true'])\n",
    "    return galaxy_df\n",
    "\n",
    "def plot_resulting_df(res_df, index, val_size):\n",
    "    \n",
    "    if isinstance(res_df, pd.DataFrame):\n",
    "        galaxy = sorted(res_df.galaxy.unique())[index]\n",
    "        galaxy_df = plotdf_from_pd(res_df, index, galaxy)\n",
    "    elif isinstance(res_df[index], dict):\n",
    "        galaxy = res_df[index]['galaxy']\n",
    "        galaxy_df = plotdf_from_dict(res_df, index)\n",
    "    else:\n",
    "        raise ValueError(\"res_df should be pd.DataFrame or dict object.\")\n",
    "    \n",
    "    fig = px.line(data_frame=galaxy_df, x='galactic year', y='y', color='state',\n",
    "           title=f'Galaxy: {galaxy}')\n",
    "\n",
    "    shapes = [{'type': 'line',\n",
    "                   'xref': 'x',\n",
    "                   'yref': 'y',\n",
    "                   'x0': galaxy_df['galactic year'].values[-val_size],\n",
    "                   'y0': galaxy_df.y.min(),\n",
    "                   'x1': galaxy_df['galactic year'].values[-val_size],\n",
    "                   'y1': galaxy_df.y.max()}]\n",
    "\n",
    "    fig.update_layout(shapes=shapes)\n",
    "    fig.show()\n",
    "    \n",
    "def plot_learning_curve(loss: dict):    \n",
    "    plot_df = pd.DataFrame(columns=['loss', 'set'])\n",
    "\n",
    "    for dataset, loss in loss.items():\n",
    "        temp = pd.DataFrame({\n",
    "            'loss': loss,\n",
    "            'set': [dataset] * len(loss)\n",
    "        })\n",
    "        plot_df = plot_df.append(temp, ignore_index=True)\n",
    "    \n",
    "    fig = px.line(plot_df, y='loss', color='set')\n",
    "    fig.show()"
   ]
  },
  {
   "cell_type": "markdown",
   "metadata": {},
   "source": [
    "On average we will be forecasting 5 years per galaxy.\n",
    "\n",
    "    test.groupby('galaxy').agg(\n",
    "        {\"galaxy\": \"count\"}\n",
    "    ).mean() # 5.174419\n",
    "\n",
    "Let's construct the train and validation sets."
   ]
  },
  {
   "cell_type": "code",
   "execution_count": 13,
   "metadata": {
    "ExecuteTime": {
     "end_time": "2020-06-12T10:01:14.802999Z",
     "start_time": "2020-06-12T10:01:14.340566Z"
    },
    "scrolled": false
   },
   "outputs": [
    {
     "name": "stdout",
     "output_type": "stream",
     "text": [
      "Average train size per galaxy: 17.936046511627907\n",
      "Average validation size per galaxy: 2.0\n"
     ]
    }
   ],
   "source": [
    "ts_train, ts_val  = prepare_ts_data(train, test, \n",
    "                                    target='y',\n",
    "                                    date='year',\n",
    "                                    expanding_factor=1,\n",
    "                                    group='galaxy',\n",
    "                                    drop_col=['galactic year'],\n",
    "                                    val_size=2)\n",
    "print('Average train size per galaxy:', sum([ts_train[i][0][0].shape[0] for i in range(len(ts_train))]) / len(ts_train))\n",
    "print('Average validation size per galaxy:', sum([ts_val[i][0][0].shape[0] for i in range(len(ts_val))]) / len(ts_val))"
   ]
  },
  {
   "cell_type": "markdown",
   "metadata": {},
   "source": [
    "#### Modeling\n",
    "\n",
    "Let's try a simple LSTM."
   ]
  },
  {
   "cell_type": "code",
   "execution_count": 14,
   "metadata": {
    "ExecuteTime": {
     "end_time": "2020-06-12T10:01:14.806001Z",
     "start_time": "2020-06-12T10:01:14.803999Z"
    }
   },
   "outputs": [],
   "source": [
    "import warnings\n",
    "\n",
    "warn_msg = r'arrays to stack must be passed as a \"sequence\" type such as list or tuple. Support for non-sequence iterables such as generators is deprecated as of NumPy 1.16 and will raise an error in the future.'\n",
    "with warnings.catch_warnings():\n",
    "    warnings.filterwarnings('ignore', warn_msg)\n"
   ]
  },
  {
   "cell_type": "code",
   "execution_count": 15,
   "metadata": {
    "ExecuteTime": {
     "end_time": "2020-06-12T10:27:20.182757Z",
     "start_time": "2020-06-12T10:01:14.807002Z"
    },
    "scrolled": false
   },
   "outputs": [
    {
     "data": {
      "application/vnd.jupyter.widget-view+json": {
       "model_id": "a8767249bb4945559a1700c501e37ecc",
       "version_major": 2,
       "version_minor": 0
      },
      "text/plain": [
       "VBox(children=(HTML(value=''), IntProgress(value=1, bar_style='info', max=1)))"
      ]
     },
     "metadata": {},
     "output_type": "display_data"
    },
    {
     "data": {
      "application/vnd.plotly.v1+json": {
       "config": {
        "plotlyServerURL": "https://plot.ly"
       },
       "data": [
        {
         "hovertemplate": "set=loss<br>loss=%{y}<extra></extra>",
         "legendgroup": "loss",
         "line": {
          "color": "#636efa",
          "dash": "solid"
         },
         "mode": "lines",
         "name": "loss",
         "showlegend": true,
         "type": "scatter",
         "xaxis": "x",
         "y": [
          0.0023201957810670137,
          0.0018229128327220678,
          0.0014164285967126489,
          0.0010931649012491107,
          0.0007939707138575613,
          0.0005130279459990561,
          0.0002727158134803176,
          9.052181121660396e-05,
          4.696303221862763e-06,
          5.0622013077372685e-05,
          0.0001748604408930987,
          0.00023262047034222633,
          0.00019942443759646267,
          0.00012849998893216252,
          6.3852705352474e-05,
          2.23676524910843e-05,
          4.369806447357405e-06,
          3.7186816825851565e-06,
          1.2352422345429659e-05,
          2.2672731574857607e-05,
          3.0381654141820036e-05,
          3.360366099514067e-05,
          3.16033219860401e-05,
          2.567420233390294e-05,
          1.8169221220887266e-05,
          1.108179731090786e-05,
          5.876942395843798e-06,
          3.4505303574405843e-06,
          3.954712155973539e-06,
          6.448583917517681e-06,
          9.318820957560092e-06,
          1.1257957339694258e-05,
          1.1696013643813785e-05,
          1.0700730854296125e-05,
          8.750369488552678e-06,
          6.5529352468729485e-06,
          4.7317412281699944e-06,
          3.6566375456459355e-06,
          3.3899862046382623e-06,
          3.791063818425755e-06,
          4.554720362648368e-06,
          5.301454166328767e-06,
          5.752158813265851e-06,
          5.789418082713382e-06,
          5.443859208753565e-06,
          4.855984116147738e-06,
          4.249950961821014e-06,
          3.738794248420163e-06,
          3.418013875489123e-06,
          3.325126726849703e-06,
          3.4290812891413225e-06,
          3.6465469293034403e-06,
          3.874913545587333e-06,
          4.024484042020049e-06,
          4.0458139665133785e-06,
          3.939252110285452e-06,
          3.7456022710102843e-06,
          3.529421292114421e-06,
          3.3506107683933806e-06,
          3.246508413212723e-06,
          3.2257939892588183e-06,
          3.2682623896107543e-06,
          3.338811211506254e-06,
          3.400299192435341e-06,
          3.4232818961754674e-06,
          3.39719758812862e-06,
          3.3288722534052795e-06,
          3.2392633784184e-06,
          3.1533629680779995e-06,
          3.0921935376682086e-06,
          3.0630085348093417e-06,
          3.061414417970809e-06,
          3.0748801691515837e-06,
          3.0872847673890647e-06,
          3.08692574435554e-06,
          3.0680234885949176e-06,
          3.0327821605169447e-06,
          2.9897350941610057e-06,
          2.94793630928325e-06,
          2.915841150752385e-06,
          2.8961092084500706e-06,
          2.8859287795057753e-06,
          2.8797155664506136e-06,
          2.8699009817501064e-06,
          2.8533909244288225e-06,
          2.8291008220548974e-06,
          2.7991900424240157e-06,
          2.7698868052539183e-06,
          2.743890945566818e-06,
          2.722152430578717e-06,
          2.7048306492361007e-06,
          2.690290102691506e-06,
          2.6761415483633755e-06,
          2.660250856933999e-06,
          2.641841774675413e-06,
          2.6206103029835504e-06,
          2.5978808935178677e-06,
          2.575299276941223e-06,
          2.5540975912008435e-06,
          2.5345598260173574e-06,
          2.5160722998407437e-06,
          2.497550440239138e-06,
          2.478275291650789e-06,
          2.4575051611464005e-06,
          2.43540534938802e-06,
          2.4126841253746534e-06,
          2.3901629901956767e-06,
          2.368220975768054e-06,
          2.346666178709711e-06,
          2.3247212084243074e-06,
          2.302236680407077e-06,
          2.2787849047745112e-06,
          2.2548083506990224e-06,
          2.231028020105441e-06,
          2.2072085812396836e-06,
          2.1832113361597294e-06,
          2.159145651603467e-06,
          2.134677060894319e-06,
          2.109521574311657e-06,
          2.0835573195654433e-06,
          2.0568475065374514e-06,
          2.0298709841881646e-06,
          2.002778046517051e-06,
          1.9752385469473666e-06,
          1.9470564893708797e-06,
          1.9180856725142803e-06,
          1.8884727523982292e-06,
          1.8586852092994377e-06,
          1.8277690969625837e-06,
          1.7955943576453137e-06,
          1.7634798723520362e-06,
          1.7304784023508546e-06,
          1.6970659544313094e-06,
          1.6631356629659422e-06,
          1.6287156086036703e-06,
          1.5934268731143675e-06,
          1.557208975100366e-06,
          1.5195589639915852e-06,
          1.4806736317041214e-06,
          1.4410392168429098e-06,
          1.401758140673337e-06,
          1.363510818919167e-06,
          1.3253809356683632e-06,
          1.2885104752058396e-06,
          1.2515231446741382e-06,
          1.2143276535425684e-06,
          1.177115336759016e-06,
          1.1401504025343456e-06,
          1.104691705222649e-06,
          1.0692618843677337e-06
         ],
         "yaxis": "y"
        },
        {
         "hovertemplate": "set=val_loss<br>loss=%{y}<extra></extra>",
         "legendgroup": "val_loss",
         "line": {
          "color": "#EF553B",
          "dash": "solid"
         },
         "mode": "lines",
         "name": "val_loss",
         "showlegend": true,
         "type": "scatter",
         "xaxis": "x",
         "y": [
          0.001364170922897756,
          0.0010294477688148618,
          0.0007557236240245402,
          0.000526846619322896,
          0.00032460642978549004,
          0.0001544625120004639,
          3.6658708268078044e-05,
          9.972492307497305e-07,
          6.81317615089938e-05,
          0.0001894851739052683,
          0.0002495705266483128,
          0.00022887063096277416,
          0.00017014019249472767,
          0.00010765238403109834,
          5.763009539805353e-05,
          2.5159948563668877e-05,
          7.955110959301237e-06,
          1.285129769712512e-06,
          2.9659785738544997e-10,
          4.4593099346457166e-07,
          6.830474035268708e-07,
          3.511047736992623e-07,
          3.6237818301643188e-12,
          7.084769322318607e-07,
          3.4599750051711453e-06,
          8.88831345946528e-06,
          1.7385829778504558e-05,
          2.807263081194833e-05,
          3.8811420381534845e-05,
          4.7530626034131274e-05,
          5.2793238864978775e-05,
          5.4131003707880154e-05,
          5.195135599933565e-05,
          4.70274972030893e-05,
          4.053747761645354e-05,
          3.3585543860681355e-05,
          2.704176768020261e-05,
          2.1448520783451386e-05,
          1.6920997950364836e-05,
          1.3598899386124685e-05,
          1.154950132331578e-05,
          1.054884160112124e-05,
          1.0437483979330864e-05,
          1.112773588829441e-05,
          1.2458713172236457e-05,
          1.4306795492302626e-05,
          1.6641941328998655e-05,
          1.9319468265166506e-05,
          2.210444290540181e-05,
          2.4783796106930822e-05,
          2.709173168113921e-05,
          2.8793929232051596e-05,
          2.97301903628977e-05,
          2.9847547921235673e-05,
          2.9198094125604257e-05,
          2.792065788526088e-05,
          2.6212854209006764e-05,
          2.4295688490383327e-05,
          2.237125409010332e-05,
          2.060754195554182e-05,
          1.9123413949273527e-05,
          1.7992091670748778e-05,
          1.7252408724743873e-05,
          1.6909230907913297e-05,
          1.694337697699666e-05,
          1.731708471197635e-05,
          1.7973514331970364e-05,
          1.883686491055414e-05,
          1.980313754756935e-05,
          2.0778767066076398e-05,
          2.167023740184959e-05,
          2.238485831185244e-05,
          2.2852942493045703e-05,
          2.3034628611640073e-05,
          2.2927193640498444e-05,
          2.256000880151987e-05,
          2.1990079403622076e-05,
          2.1290536096785218e-05,
          2.0539177057798952e-05,
          1.981228888325859e-05,
          1.9170622181263752e-05,
          1.8658660337678157e-05,
          1.8298323993803933e-05,
          1.8106931747752242e-05,
          1.807711123547051e-05,
          1.818748569348827e-05,
          1.840726145019289e-05,
          1.869581865321379e-05,
          1.900883398775477e-05,
          1.930047983478289e-05,
          1.9529330529621802e-05,
          1.9663864804897457e-05,
          1.9686998712131754e-05,
          1.9595170670072548e-05,
          1.9396175048314035e-05,
          1.9113183952867985e-05,
          1.877796239568852e-05,
          1.842452729761135e-05,
          1.8085316696669906e-05,
          1.7787571778171696e-05,
          1.755058838170953e-05,
          1.738542596285697e-05,
          1.7293932614848018e-05,
          1.7264943380723707e-05,
          1.7282625776715577e-05,
          1.732620148686692e-05,
          1.7372845832142048e-05,
          1.7397325791534968e-05,
          1.738210085022729e-05,
          1.7311753254034556e-05,
          1.718355815683026e-05,
          1.6999178114929236e-05,
          1.6782445527496748e-05,
          1.654727748245932e-05,
          1.6313557352987118e-05,
          1.609168975846842e-05,
          1.5892717783572152e-05,
          1.5722507669124752e-05,
          1.557975701871328e-05,
          1.5459680071217008e-05,
          1.5360939869424328e-05,
          1.5258730854839087e-05,
          1.5141175026656128e-05,
          1.4999767699919175e-05,
          1.4823775927652605e-05,
          1.4617358829127625e-05,
          1.4382703739101999e-05,
          1.4135070159682073e-05,
          1.3875040167476982e-05,
          1.3629523891722783e-05,
          1.3402288459474221e-05,
          1.316398356721038e-05,
          1.2917638741782866e-05,
          1.2660706488532014e-05,
          1.2432192306732759e-05,
          1.218627039634157e-05,
          1.192355284729274e-05,
          1.164838522527134e-05,
          1.1358494703017641e-05,
          1.1064052159781568e-05,
          1.0780227057693992e-05,
          1.053125652106246e-05,
          1.0308170203643385e-05,
          1.0111031770065892e-05,
          9.924220648827031e-06,
          9.725879863253795e-06,
          9.515630154055543e-06,
          9.279105142923072e-06,
          8.958755643106997e-06,
          8.49995376484003e-06
         ],
         "yaxis": "y"
        }
       ],
       "layout": {
        "legend": {
         "title": {
          "text": "set"
         },
         "tracegroupgap": 0
        },
        "margin": {
         "t": 60
        },
        "template": {
         "data": {
          "bar": [
           {
            "error_x": {
             "color": "#2a3f5f"
            },
            "error_y": {
             "color": "#2a3f5f"
            },
            "marker": {
             "line": {
              "color": "#E5ECF6",
              "width": 0.5
             }
            },
            "type": "bar"
           }
          ],
          "barpolar": [
           {
            "marker": {
             "line": {
              "color": "#E5ECF6",
              "width": 0.5
             }
            },
            "type": "barpolar"
           }
          ],
          "carpet": [
           {
            "aaxis": {
             "endlinecolor": "#2a3f5f",
             "gridcolor": "white",
             "linecolor": "white",
             "minorgridcolor": "white",
             "startlinecolor": "#2a3f5f"
            },
            "baxis": {
             "endlinecolor": "#2a3f5f",
             "gridcolor": "white",
             "linecolor": "white",
             "minorgridcolor": "white",
             "startlinecolor": "#2a3f5f"
            },
            "type": "carpet"
           }
          ],
          "choropleth": [
           {
            "colorbar": {
             "outlinewidth": 0,
             "ticks": ""
            },
            "type": "choropleth"
           }
          ],
          "contour": [
           {
            "colorbar": {
             "outlinewidth": 0,
             "ticks": ""
            },
            "colorscale": [
             [
              0,
              "#0d0887"
             ],
             [
              0.1111111111111111,
              "#46039f"
             ],
             [
              0.2222222222222222,
              "#7201a8"
             ],
             [
              0.3333333333333333,
              "#9c179e"
             ],
             [
              0.4444444444444444,
              "#bd3786"
             ],
             [
              0.5555555555555556,
              "#d8576b"
             ],
             [
              0.6666666666666666,
              "#ed7953"
             ],
             [
              0.7777777777777778,
              "#fb9f3a"
             ],
             [
              0.8888888888888888,
              "#fdca26"
             ],
             [
              1,
              "#f0f921"
             ]
            ],
            "type": "contour"
           }
          ],
          "contourcarpet": [
           {
            "colorbar": {
             "outlinewidth": 0,
             "ticks": ""
            },
            "type": "contourcarpet"
           }
          ],
          "heatmap": [
           {
            "colorbar": {
             "outlinewidth": 0,
             "ticks": ""
            },
            "colorscale": [
             [
              0,
              "#0d0887"
             ],
             [
              0.1111111111111111,
              "#46039f"
             ],
             [
              0.2222222222222222,
              "#7201a8"
             ],
             [
              0.3333333333333333,
              "#9c179e"
             ],
             [
              0.4444444444444444,
              "#bd3786"
             ],
             [
              0.5555555555555556,
              "#d8576b"
             ],
             [
              0.6666666666666666,
              "#ed7953"
             ],
             [
              0.7777777777777778,
              "#fb9f3a"
             ],
             [
              0.8888888888888888,
              "#fdca26"
             ],
             [
              1,
              "#f0f921"
             ]
            ],
            "type": "heatmap"
           }
          ],
          "heatmapgl": [
           {
            "colorbar": {
             "outlinewidth": 0,
             "ticks": ""
            },
            "colorscale": [
             [
              0,
              "#0d0887"
             ],
             [
              0.1111111111111111,
              "#46039f"
             ],
             [
              0.2222222222222222,
              "#7201a8"
             ],
             [
              0.3333333333333333,
              "#9c179e"
             ],
             [
              0.4444444444444444,
              "#bd3786"
             ],
             [
              0.5555555555555556,
              "#d8576b"
             ],
             [
              0.6666666666666666,
              "#ed7953"
             ],
             [
              0.7777777777777778,
              "#fb9f3a"
             ],
             [
              0.8888888888888888,
              "#fdca26"
             ],
             [
              1,
              "#f0f921"
             ]
            ],
            "type": "heatmapgl"
           }
          ],
          "histogram": [
           {
            "marker": {
             "colorbar": {
              "outlinewidth": 0,
              "ticks": ""
             }
            },
            "type": "histogram"
           }
          ],
          "histogram2d": [
           {
            "colorbar": {
             "outlinewidth": 0,
             "ticks": ""
            },
            "colorscale": [
             [
              0,
              "#0d0887"
             ],
             [
              0.1111111111111111,
              "#46039f"
             ],
             [
              0.2222222222222222,
              "#7201a8"
             ],
             [
              0.3333333333333333,
              "#9c179e"
             ],
             [
              0.4444444444444444,
              "#bd3786"
             ],
             [
              0.5555555555555556,
              "#d8576b"
             ],
             [
              0.6666666666666666,
              "#ed7953"
             ],
             [
              0.7777777777777778,
              "#fb9f3a"
             ],
             [
              0.8888888888888888,
              "#fdca26"
             ],
             [
              1,
              "#f0f921"
             ]
            ],
            "type": "histogram2d"
           }
          ],
          "histogram2dcontour": [
           {
            "colorbar": {
             "outlinewidth": 0,
             "ticks": ""
            },
            "colorscale": [
             [
              0,
              "#0d0887"
             ],
             [
              0.1111111111111111,
              "#46039f"
             ],
             [
              0.2222222222222222,
              "#7201a8"
             ],
             [
              0.3333333333333333,
              "#9c179e"
             ],
             [
              0.4444444444444444,
              "#bd3786"
             ],
             [
              0.5555555555555556,
              "#d8576b"
             ],
             [
              0.6666666666666666,
              "#ed7953"
             ],
             [
              0.7777777777777778,
              "#fb9f3a"
             ],
             [
              0.8888888888888888,
              "#fdca26"
             ],
             [
              1,
              "#f0f921"
             ]
            ],
            "type": "histogram2dcontour"
           }
          ],
          "mesh3d": [
           {
            "colorbar": {
             "outlinewidth": 0,
             "ticks": ""
            },
            "type": "mesh3d"
           }
          ],
          "parcoords": [
           {
            "line": {
             "colorbar": {
              "outlinewidth": 0,
              "ticks": ""
             }
            },
            "type": "parcoords"
           }
          ],
          "pie": [
           {
            "automargin": true,
            "type": "pie"
           }
          ],
          "scatter": [
           {
            "marker": {
             "colorbar": {
              "outlinewidth": 0,
              "ticks": ""
             }
            },
            "type": "scatter"
           }
          ],
          "scatter3d": [
           {
            "line": {
             "colorbar": {
              "outlinewidth": 0,
              "ticks": ""
             }
            },
            "marker": {
             "colorbar": {
              "outlinewidth": 0,
              "ticks": ""
             }
            },
            "type": "scatter3d"
           }
          ],
          "scattercarpet": [
           {
            "marker": {
             "colorbar": {
              "outlinewidth": 0,
              "ticks": ""
             }
            },
            "type": "scattercarpet"
           }
          ],
          "scattergeo": [
           {
            "marker": {
             "colorbar": {
              "outlinewidth": 0,
              "ticks": ""
             }
            },
            "type": "scattergeo"
           }
          ],
          "scattergl": [
           {
            "marker": {
             "colorbar": {
              "outlinewidth": 0,
              "ticks": ""
             }
            },
            "type": "scattergl"
           }
          ],
          "scattermapbox": [
           {
            "marker": {
             "colorbar": {
              "outlinewidth": 0,
              "ticks": ""
             }
            },
            "type": "scattermapbox"
           }
          ],
          "scatterpolar": [
           {
            "marker": {
             "colorbar": {
              "outlinewidth": 0,
              "ticks": ""
             }
            },
            "type": "scatterpolar"
           }
          ],
          "scatterpolargl": [
           {
            "marker": {
             "colorbar": {
              "outlinewidth": 0,
              "ticks": ""
             }
            },
            "type": "scatterpolargl"
           }
          ],
          "scatterternary": [
           {
            "marker": {
             "colorbar": {
              "outlinewidth": 0,
              "ticks": ""
             }
            },
            "type": "scatterternary"
           }
          ],
          "surface": [
           {
            "colorbar": {
             "outlinewidth": 0,
             "ticks": ""
            },
            "colorscale": [
             [
              0,
              "#0d0887"
             ],
             [
              0.1111111111111111,
              "#46039f"
             ],
             [
              0.2222222222222222,
              "#7201a8"
             ],
             [
              0.3333333333333333,
              "#9c179e"
             ],
             [
              0.4444444444444444,
              "#bd3786"
             ],
             [
              0.5555555555555556,
              "#d8576b"
             ],
             [
              0.6666666666666666,
              "#ed7953"
             ],
             [
              0.7777777777777778,
              "#fb9f3a"
             ],
             [
              0.8888888888888888,
              "#fdca26"
             ],
             [
              1,
              "#f0f921"
             ]
            ],
            "type": "surface"
           }
          ],
          "table": [
           {
            "cells": {
             "fill": {
              "color": "#EBF0F8"
             },
             "line": {
              "color": "white"
             }
            },
            "header": {
             "fill": {
              "color": "#C8D4E3"
             },
             "line": {
              "color": "white"
             }
            },
            "type": "table"
           }
          ]
         },
         "layout": {
          "annotationdefaults": {
           "arrowcolor": "#2a3f5f",
           "arrowhead": 0,
           "arrowwidth": 1
          },
          "coloraxis": {
           "colorbar": {
            "outlinewidth": 0,
            "ticks": ""
           }
          },
          "colorscale": {
           "diverging": [
            [
             0,
             "#8e0152"
            ],
            [
             0.1,
             "#c51b7d"
            ],
            [
             0.2,
             "#de77ae"
            ],
            [
             0.3,
             "#f1b6da"
            ],
            [
             0.4,
             "#fde0ef"
            ],
            [
             0.5,
             "#f7f7f7"
            ],
            [
             0.6,
             "#e6f5d0"
            ],
            [
             0.7,
             "#b8e186"
            ],
            [
             0.8,
             "#7fbc41"
            ],
            [
             0.9,
             "#4d9221"
            ],
            [
             1,
             "#276419"
            ]
           ],
           "sequential": [
            [
             0,
             "#0d0887"
            ],
            [
             0.1111111111111111,
             "#46039f"
            ],
            [
             0.2222222222222222,
             "#7201a8"
            ],
            [
             0.3333333333333333,
             "#9c179e"
            ],
            [
             0.4444444444444444,
             "#bd3786"
            ],
            [
             0.5555555555555556,
             "#d8576b"
            ],
            [
             0.6666666666666666,
             "#ed7953"
            ],
            [
             0.7777777777777778,
             "#fb9f3a"
            ],
            [
             0.8888888888888888,
             "#fdca26"
            ],
            [
             1,
             "#f0f921"
            ]
           ],
           "sequentialminus": [
            [
             0,
             "#0d0887"
            ],
            [
             0.1111111111111111,
             "#46039f"
            ],
            [
             0.2222222222222222,
             "#7201a8"
            ],
            [
             0.3333333333333333,
             "#9c179e"
            ],
            [
             0.4444444444444444,
             "#bd3786"
            ],
            [
             0.5555555555555556,
             "#d8576b"
            ],
            [
             0.6666666666666666,
             "#ed7953"
            ],
            [
             0.7777777777777778,
             "#fb9f3a"
            ],
            [
             0.8888888888888888,
             "#fdca26"
            ],
            [
             1,
             "#f0f921"
            ]
           ]
          },
          "colorway": [
           "#636efa",
           "#EF553B",
           "#00cc96",
           "#ab63fa",
           "#FFA15A",
           "#19d3f3",
           "#FF6692",
           "#B6E880",
           "#FF97FF",
           "#FECB52"
          ],
          "font": {
           "color": "#2a3f5f"
          },
          "geo": {
           "bgcolor": "white",
           "lakecolor": "white",
           "landcolor": "#E5ECF6",
           "showlakes": true,
           "showland": true,
           "subunitcolor": "white"
          },
          "hoverlabel": {
           "align": "left"
          },
          "hovermode": "closest",
          "mapbox": {
           "style": "light"
          },
          "paper_bgcolor": "white",
          "plot_bgcolor": "#E5ECF6",
          "polar": {
           "angularaxis": {
            "gridcolor": "white",
            "linecolor": "white",
            "ticks": ""
           },
           "bgcolor": "#E5ECF6",
           "radialaxis": {
            "gridcolor": "white",
            "linecolor": "white",
            "ticks": ""
           }
          },
          "scene": {
           "xaxis": {
            "backgroundcolor": "#E5ECF6",
            "gridcolor": "white",
            "gridwidth": 2,
            "linecolor": "white",
            "showbackground": true,
            "ticks": "",
            "zerolinecolor": "white"
           },
           "yaxis": {
            "backgroundcolor": "#E5ECF6",
            "gridcolor": "white",
            "gridwidth": 2,
            "linecolor": "white",
            "showbackground": true,
            "ticks": "",
            "zerolinecolor": "white"
           },
           "zaxis": {
            "backgroundcolor": "#E5ECF6",
            "gridcolor": "white",
            "gridwidth": 2,
            "linecolor": "white",
            "showbackground": true,
            "ticks": "",
            "zerolinecolor": "white"
           }
          },
          "shapedefaults": {
           "line": {
            "color": "#2a3f5f"
           }
          },
          "ternary": {
           "aaxis": {
            "gridcolor": "white",
            "linecolor": "white",
            "ticks": ""
           },
           "baxis": {
            "gridcolor": "white",
            "linecolor": "white",
            "ticks": ""
           },
           "bgcolor": "#E5ECF6",
           "caxis": {
            "gridcolor": "white",
            "linecolor": "white",
            "ticks": ""
           }
          },
          "title": {
           "x": 0.05
          },
          "xaxis": {
           "automargin": true,
           "gridcolor": "white",
           "linecolor": "white",
           "ticks": "",
           "title": {
            "standoff": 15
           },
           "zerolinecolor": "white",
           "zerolinewidth": 2
          },
          "yaxis": {
           "automargin": true,
           "gridcolor": "white",
           "linecolor": "white",
           "ticks": "",
           "title": {
            "standoff": 15
           },
           "zerolinecolor": "white",
           "zerolinewidth": 2
          }
         }
        },
        "xaxis": {
         "anchor": "y",
         "domain": [
          0,
          1
         ]
        },
        "yaxis": {
         "anchor": "x",
         "domain": [
          0,
          1
         ],
         "title": {
          "text": "loss"
         }
        }
       }
      },
      "text/html": [
       "<div>\n",
       "        \n",
       "        \n",
       "            <div id=\"31621923-3a10-413b-86c1-e19012114154\" class=\"plotly-graph-div\" style=\"height:525px; width:100%;\"></div>\n",
       "            <script type=\"text/javascript\">\n",
       "                require([\"plotly\"], function(Plotly) {\n",
       "                    window.PLOTLYENV=window.PLOTLYENV || {};\n",
       "                    \n",
       "                if (document.getElementById(\"31621923-3a10-413b-86c1-e19012114154\")) {\n",
       "                    Plotly.newPlot(\n",
       "                        '31621923-3a10-413b-86c1-e19012114154',\n",
       "                        [{\"hovertemplate\": \"set=loss<br>loss=%{y}<extra></extra>\", \"legendgroup\": \"loss\", \"line\": {\"color\": \"#636efa\", \"dash\": \"solid\"}, \"mode\": \"lines\", \"name\": \"loss\", \"showlegend\": true, \"type\": \"scatter\", \"xaxis\": \"x\", \"y\": [0.0023201957810670137, 0.0018229128327220678, 0.0014164285967126489, 0.0010931649012491107, 0.0007939707138575613, 0.0005130279459990561, 0.0002727158134803176, 9.052181121660396e-05, 4.696303221862763e-06, 5.0622013077372685e-05, 0.0001748604408930987, 0.00023262047034222633, 0.00019942443759646267, 0.00012849998893216252, 6.3852705352474e-05, 2.23676524910843e-05, 4.369806447357405e-06, 3.7186816825851565e-06, 1.2352422345429659e-05, 2.2672731574857607e-05, 3.0381654141820036e-05, 3.360366099514067e-05, 3.16033219860401e-05, 2.567420233390294e-05, 1.8169221220887266e-05, 1.108179731090786e-05, 5.876942395843798e-06, 3.4505303574405843e-06, 3.954712155973539e-06, 6.448583917517681e-06, 9.318820957560092e-06, 1.1257957339694258e-05, 1.1696013643813785e-05, 1.0700730854296125e-05, 8.750369488552678e-06, 6.5529352468729485e-06, 4.7317412281699944e-06, 3.6566375456459355e-06, 3.3899862046382623e-06, 3.791063818425755e-06, 4.554720362648368e-06, 5.301454166328767e-06, 5.752158813265851e-06, 5.789418082713382e-06, 5.443859208753565e-06, 4.855984116147738e-06, 4.249950961821014e-06, 3.738794248420163e-06, 3.418013875489123e-06, 3.325126726849703e-06, 3.4290812891413225e-06, 3.6465469293034403e-06, 3.874913545587333e-06, 4.024484042020049e-06, 4.0458139665133785e-06, 3.939252110285452e-06, 3.7456022710102843e-06, 3.529421292114421e-06, 3.3506107683933806e-06, 3.246508413212723e-06, 3.2257939892588183e-06, 3.2682623896107543e-06, 3.338811211506254e-06, 3.400299192435341e-06, 3.4232818961754674e-06, 3.39719758812862e-06, 3.3288722534052795e-06, 3.2392633784184e-06, 3.1533629680779995e-06, 3.0921935376682086e-06, 3.0630085348093417e-06, 3.061414417970809e-06, 3.0748801691515837e-06, 3.0872847673890647e-06, 3.08692574435554e-06, 3.0680234885949176e-06, 3.0327821605169447e-06, 2.9897350941610057e-06, 2.94793630928325e-06, 2.915841150752385e-06, 2.8961092084500706e-06, 2.8859287795057753e-06, 2.8797155664506136e-06, 2.8699009817501064e-06, 2.8533909244288225e-06, 2.8291008220548974e-06, 2.7991900424240157e-06, 2.7698868052539183e-06, 2.743890945566818e-06, 2.722152430578717e-06, 2.7048306492361007e-06, 2.690290102691506e-06, 2.6761415483633755e-06, 2.660250856933999e-06, 2.641841774675413e-06, 2.6206103029835504e-06, 2.5978808935178677e-06, 2.575299276941223e-06, 2.5540975912008435e-06, 2.5345598260173574e-06, 2.5160722998407437e-06, 2.497550440239138e-06, 2.478275291650789e-06, 2.4575051611464005e-06, 2.43540534938802e-06, 2.4126841253746534e-06, 2.3901629901956767e-06, 2.368220975768054e-06, 2.346666178709711e-06, 2.3247212084243074e-06, 2.302236680407077e-06, 2.2787849047745112e-06, 2.2548083506990224e-06, 2.231028020105441e-06, 2.2072085812396836e-06, 2.1832113361597294e-06, 2.159145651603467e-06, 2.134677060894319e-06, 2.109521574311657e-06, 2.0835573195654433e-06, 2.0568475065374514e-06, 2.0298709841881646e-06, 2.002778046517051e-06, 1.9752385469473666e-06, 1.9470564893708797e-06, 1.9180856725142803e-06, 1.8884727523982292e-06, 1.8586852092994377e-06, 1.8277690969625837e-06, 1.7955943576453137e-06, 1.7634798723520362e-06, 1.7304784023508546e-06, 1.6970659544313094e-06, 1.6631356629659422e-06, 1.6287156086036703e-06, 1.5934268731143675e-06, 1.557208975100366e-06, 1.5195589639915852e-06, 1.4806736317041214e-06, 1.4410392168429098e-06, 1.401758140673337e-06, 1.363510818919167e-06, 1.3253809356683632e-06, 1.2885104752058396e-06, 1.2515231446741382e-06, 1.2143276535425684e-06, 1.177115336759016e-06, 1.1401504025343456e-06, 1.104691705222649e-06, 1.0692618843677337e-06], \"yaxis\": \"y\"}, {\"hovertemplate\": \"set=val_loss<br>loss=%{y}<extra></extra>\", \"legendgroup\": \"val_loss\", \"line\": {\"color\": \"#EF553B\", \"dash\": \"solid\"}, \"mode\": \"lines\", \"name\": \"val_loss\", \"showlegend\": true, \"type\": \"scatter\", \"xaxis\": \"x\", \"y\": [0.001364170922897756, 0.0010294477688148618, 0.0007557236240245402, 0.000526846619322896, 0.00032460642978549004, 0.0001544625120004639, 3.6658708268078044e-05, 9.972492307497305e-07, 6.81317615089938e-05, 0.0001894851739052683, 0.0002495705266483128, 0.00022887063096277416, 0.00017014019249472767, 0.00010765238403109834, 5.763009539805353e-05, 2.5159948563668877e-05, 7.955110959301237e-06, 1.285129769712512e-06, 2.9659785738544997e-10, 4.4593099346457166e-07, 6.830474035268708e-07, 3.511047736992623e-07, 3.6237818301643188e-12, 7.084769322318607e-07, 3.4599750051711453e-06, 8.88831345946528e-06, 1.7385829778504558e-05, 2.807263081194833e-05, 3.8811420381534845e-05, 4.7530626034131274e-05, 5.2793238864978775e-05, 5.4131003707880154e-05, 5.195135599933565e-05, 4.70274972030893e-05, 4.053747761645354e-05, 3.3585543860681355e-05, 2.704176768020261e-05, 2.1448520783451386e-05, 1.6920997950364836e-05, 1.3598899386124685e-05, 1.154950132331578e-05, 1.054884160112124e-05, 1.0437483979330864e-05, 1.112773588829441e-05, 1.2458713172236457e-05, 1.4306795492302626e-05, 1.6641941328998655e-05, 1.9319468265166506e-05, 2.210444290540181e-05, 2.4783796106930822e-05, 2.709173168113921e-05, 2.8793929232051596e-05, 2.97301903628977e-05, 2.9847547921235673e-05, 2.9198094125604257e-05, 2.792065788526088e-05, 2.6212854209006764e-05, 2.4295688490383327e-05, 2.237125409010332e-05, 2.060754195554182e-05, 1.9123413949273527e-05, 1.7992091670748778e-05, 1.7252408724743873e-05, 1.6909230907913297e-05, 1.694337697699666e-05, 1.731708471197635e-05, 1.7973514331970364e-05, 1.883686491055414e-05, 1.980313754756935e-05, 2.0778767066076398e-05, 2.167023740184959e-05, 2.238485831185244e-05, 2.2852942493045703e-05, 2.3034628611640073e-05, 2.2927193640498444e-05, 2.256000880151987e-05, 2.1990079403622076e-05, 2.1290536096785218e-05, 2.0539177057798952e-05, 1.981228888325859e-05, 1.9170622181263752e-05, 1.8658660337678157e-05, 1.8298323993803933e-05, 1.8106931747752242e-05, 1.807711123547051e-05, 1.818748569348827e-05, 1.840726145019289e-05, 1.869581865321379e-05, 1.900883398775477e-05, 1.930047983478289e-05, 1.9529330529621802e-05, 1.9663864804897457e-05, 1.9686998712131754e-05, 1.9595170670072548e-05, 1.9396175048314035e-05, 1.9113183952867985e-05, 1.877796239568852e-05, 1.842452729761135e-05, 1.8085316696669906e-05, 1.7787571778171696e-05, 1.755058838170953e-05, 1.738542596285697e-05, 1.7293932614848018e-05, 1.7264943380723707e-05, 1.7282625776715577e-05, 1.732620148686692e-05, 1.7372845832142048e-05, 1.7397325791534968e-05, 1.738210085022729e-05, 1.7311753254034556e-05, 1.718355815683026e-05, 1.6999178114929236e-05, 1.6782445527496748e-05, 1.654727748245932e-05, 1.6313557352987118e-05, 1.609168975846842e-05, 1.5892717783572152e-05, 1.5722507669124752e-05, 1.557975701871328e-05, 1.5459680071217008e-05, 1.5360939869424328e-05, 1.5258730854839087e-05, 1.5141175026656128e-05, 1.4999767699919175e-05, 1.4823775927652605e-05, 1.4617358829127625e-05, 1.4382703739101999e-05, 1.4135070159682073e-05, 1.3875040167476982e-05, 1.3629523891722783e-05, 1.3402288459474221e-05, 1.316398356721038e-05, 1.2917638741782866e-05, 1.2660706488532014e-05, 1.2432192306732759e-05, 1.218627039634157e-05, 1.192355284729274e-05, 1.164838522527134e-05, 1.1358494703017641e-05, 1.1064052159781568e-05, 1.0780227057693992e-05, 1.053125652106246e-05, 1.0308170203643385e-05, 1.0111031770065892e-05, 9.924220648827031e-06, 9.725879863253795e-06, 9.515630154055543e-06, 9.279105142923072e-06, 8.958755643106997e-06, 8.49995376484003e-06], \"yaxis\": \"y\"}],\n",
       "                        {\"legend\": {\"title\": {\"text\": \"set\"}, \"tracegroupgap\": 0}, \"margin\": {\"t\": 60}, \"template\": {\"data\": {\"bar\": [{\"error_x\": {\"color\": \"#2a3f5f\"}, \"error_y\": {\"color\": \"#2a3f5f\"}, \"marker\": {\"line\": {\"color\": \"#E5ECF6\", \"width\": 0.5}}, \"type\": \"bar\"}], \"barpolar\": [{\"marker\": {\"line\": {\"color\": \"#E5ECF6\", \"width\": 0.5}}, \"type\": \"barpolar\"}], \"carpet\": [{\"aaxis\": {\"endlinecolor\": \"#2a3f5f\", \"gridcolor\": \"white\", \"linecolor\": \"white\", \"minorgridcolor\": \"white\", \"startlinecolor\": \"#2a3f5f\"}, \"baxis\": {\"endlinecolor\": \"#2a3f5f\", \"gridcolor\": \"white\", \"linecolor\": \"white\", \"minorgridcolor\": \"white\", \"startlinecolor\": \"#2a3f5f\"}, \"type\": \"carpet\"}], \"choropleth\": [{\"colorbar\": {\"outlinewidth\": 0, \"ticks\": \"\"}, \"type\": \"choropleth\"}], \"contour\": [{\"colorbar\": {\"outlinewidth\": 0, \"ticks\": \"\"}, \"colorscale\": [[0.0, \"#0d0887\"], [0.1111111111111111, \"#46039f\"], [0.2222222222222222, \"#7201a8\"], [0.3333333333333333, \"#9c179e\"], [0.4444444444444444, \"#bd3786\"], [0.5555555555555556, \"#d8576b\"], [0.6666666666666666, \"#ed7953\"], [0.7777777777777778, \"#fb9f3a\"], [0.8888888888888888, \"#fdca26\"], [1.0, \"#f0f921\"]], \"type\": \"contour\"}], \"contourcarpet\": [{\"colorbar\": {\"outlinewidth\": 0, \"ticks\": \"\"}, \"type\": \"contourcarpet\"}], \"heatmap\": [{\"colorbar\": {\"outlinewidth\": 0, \"ticks\": \"\"}, \"colorscale\": [[0.0, \"#0d0887\"], [0.1111111111111111, \"#46039f\"], [0.2222222222222222, \"#7201a8\"], [0.3333333333333333, \"#9c179e\"], [0.4444444444444444, \"#bd3786\"], [0.5555555555555556, \"#d8576b\"], [0.6666666666666666, \"#ed7953\"], [0.7777777777777778, \"#fb9f3a\"], [0.8888888888888888, \"#fdca26\"], [1.0, \"#f0f921\"]], \"type\": \"heatmap\"}], \"heatmapgl\": [{\"colorbar\": {\"outlinewidth\": 0, \"ticks\": \"\"}, \"colorscale\": [[0.0, \"#0d0887\"], [0.1111111111111111, \"#46039f\"], [0.2222222222222222, \"#7201a8\"], [0.3333333333333333, \"#9c179e\"], [0.4444444444444444, \"#bd3786\"], [0.5555555555555556, \"#d8576b\"], [0.6666666666666666, \"#ed7953\"], [0.7777777777777778, \"#fb9f3a\"], [0.8888888888888888, \"#fdca26\"], [1.0, \"#f0f921\"]], \"type\": \"heatmapgl\"}], \"histogram\": [{\"marker\": {\"colorbar\": {\"outlinewidth\": 0, \"ticks\": \"\"}}, \"type\": \"histogram\"}], \"histogram2d\": [{\"colorbar\": {\"outlinewidth\": 0, \"ticks\": \"\"}, \"colorscale\": [[0.0, \"#0d0887\"], [0.1111111111111111, \"#46039f\"], [0.2222222222222222, \"#7201a8\"], [0.3333333333333333, \"#9c179e\"], [0.4444444444444444, \"#bd3786\"], [0.5555555555555556, \"#d8576b\"], [0.6666666666666666, \"#ed7953\"], [0.7777777777777778, \"#fb9f3a\"], [0.8888888888888888, \"#fdca26\"], [1.0, \"#f0f921\"]], \"type\": \"histogram2d\"}], \"histogram2dcontour\": [{\"colorbar\": {\"outlinewidth\": 0, \"ticks\": \"\"}, \"colorscale\": [[0.0, \"#0d0887\"], [0.1111111111111111, \"#46039f\"], [0.2222222222222222, \"#7201a8\"], [0.3333333333333333, \"#9c179e\"], [0.4444444444444444, \"#bd3786\"], [0.5555555555555556, \"#d8576b\"], [0.6666666666666666, \"#ed7953\"], [0.7777777777777778, \"#fb9f3a\"], [0.8888888888888888, \"#fdca26\"], [1.0, \"#f0f921\"]], \"type\": \"histogram2dcontour\"}], \"mesh3d\": [{\"colorbar\": {\"outlinewidth\": 0, \"ticks\": \"\"}, \"type\": \"mesh3d\"}], \"parcoords\": [{\"line\": {\"colorbar\": {\"outlinewidth\": 0, \"ticks\": \"\"}}, \"type\": \"parcoords\"}], \"pie\": [{\"automargin\": true, \"type\": \"pie\"}], \"scatter\": [{\"marker\": {\"colorbar\": {\"outlinewidth\": 0, \"ticks\": \"\"}}, \"type\": \"scatter\"}], \"scatter3d\": [{\"line\": {\"colorbar\": {\"outlinewidth\": 0, \"ticks\": \"\"}}, \"marker\": {\"colorbar\": {\"outlinewidth\": 0, \"ticks\": \"\"}}, \"type\": \"scatter3d\"}], \"scattercarpet\": [{\"marker\": {\"colorbar\": {\"outlinewidth\": 0, \"ticks\": \"\"}}, \"type\": \"scattercarpet\"}], \"scattergeo\": [{\"marker\": {\"colorbar\": {\"outlinewidth\": 0, \"ticks\": \"\"}}, \"type\": \"scattergeo\"}], \"scattergl\": [{\"marker\": {\"colorbar\": {\"outlinewidth\": 0, \"ticks\": \"\"}}, \"type\": \"scattergl\"}], \"scattermapbox\": [{\"marker\": {\"colorbar\": {\"outlinewidth\": 0, \"ticks\": \"\"}}, \"type\": \"scattermapbox\"}], \"scatterpolar\": [{\"marker\": {\"colorbar\": {\"outlinewidth\": 0, \"ticks\": \"\"}}, \"type\": \"scatterpolar\"}], \"scatterpolargl\": [{\"marker\": {\"colorbar\": {\"outlinewidth\": 0, \"ticks\": \"\"}}, \"type\": \"scatterpolargl\"}], \"scatterternary\": [{\"marker\": {\"colorbar\": {\"outlinewidth\": 0, \"ticks\": \"\"}}, \"type\": \"scatterternary\"}], \"surface\": [{\"colorbar\": {\"outlinewidth\": 0, \"ticks\": \"\"}, \"colorscale\": [[0.0, \"#0d0887\"], [0.1111111111111111, \"#46039f\"], [0.2222222222222222, \"#7201a8\"], [0.3333333333333333, \"#9c179e\"], [0.4444444444444444, \"#bd3786\"], [0.5555555555555556, \"#d8576b\"], [0.6666666666666666, \"#ed7953\"], [0.7777777777777778, \"#fb9f3a\"], [0.8888888888888888, \"#fdca26\"], [1.0, \"#f0f921\"]], \"type\": \"surface\"}], \"table\": [{\"cells\": {\"fill\": {\"color\": \"#EBF0F8\"}, \"line\": {\"color\": \"white\"}}, \"header\": {\"fill\": {\"color\": \"#C8D4E3\"}, \"line\": {\"color\": \"white\"}}, \"type\": \"table\"}]}, \"layout\": {\"annotationdefaults\": {\"arrowcolor\": \"#2a3f5f\", \"arrowhead\": 0, \"arrowwidth\": 1}, \"coloraxis\": {\"colorbar\": {\"outlinewidth\": 0, \"ticks\": \"\"}}, \"colorscale\": {\"diverging\": [[0, \"#8e0152\"], [0.1, \"#c51b7d\"], [0.2, \"#de77ae\"], [0.3, \"#f1b6da\"], [0.4, \"#fde0ef\"], [0.5, \"#f7f7f7\"], [0.6, \"#e6f5d0\"], [0.7, \"#b8e186\"], [0.8, \"#7fbc41\"], [0.9, \"#4d9221\"], [1, \"#276419\"]], \"sequential\": [[0.0, \"#0d0887\"], [0.1111111111111111, \"#46039f\"], [0.2222222222222222, \"#7201a8\"], [0.3333333333333333, \"#9c179e\"], [0.4444444444444444, \"#bd3786\"], [0.5555555555555556, \"#d8576b\"], [0.6666666666666666, \"#ed7953\"], [0.7777777777777778, \"#fb9f3a\"], [0.8888888888888888, \"#fdca26\"], [1.0, \"#f0f921\"]], \"sequentialminus\": [[0.0, \"#0d0887\"], [0.1111111111111111, \"#46039f\"], [0.2222222222222222, \"#7201a8\"], [0.3333333333333333, \"#9c179e\"], [0.4444444444444444, \"#bd3786\"], [0.5555555555555556, \"#d8576b\"], [0.6666666666666666, \"#ed7953\"], [0.7777777777777778, \"#fb9f3a\"], [0.8888888888888888, \"#fdca26\"], [1.0, \"#f0f921\"]]}, \"colorway\": [\"#636efa\", \"#EF553B\", \"#00cc96\", \"#ab63fa\", \"#FFA15A\", \"#19d3f3\", \"#FF6692\", \"#B6E880\", \"#FF97FF\", \"#FECB52\"], \"font\": {\"color\": \"#2a3f5f\"}, \"geo\": {\"bgcolor\": \"white\", \"lakecolor\": \"white\", \"landcolor\": \"#E5ECF6\", \"showlakes\": true, \"showland\": true, \"subunitcolor\": \"white\"}, \"hoverlabel\": {\"align\": \"left\"}, \"hovermode\": \"closest\", \"mapbox\": {\"style\": \"light\"}, \"paper_bgcolor\": \"white\", \"plot_bgcolor\": \"#E5ECF6\", \"polar\": {\"angularaxis\": {\"gridcolor\": \"white\", \"linecolor\": \"white\", \"ticks\": \"\"}, \"bgcolor\": \"#E5ECF6\", \"radialaxis\": {\"gridcolor\": \"white\", \"linecolor\": \"white\", \"ticks\": \"\"}}, \"scene\": {\"xaxis\": {\"backgroundcolor\": \"#E5ECF6\", \"gridcolor\": \"white\", \"gridwidth\": 2, \"linecolor\": \"white\", \"showbackground\": true, \"ticks\": \"\", \"zerolinecolor\": \"white\"}, \"yaxis\": {\"backgroundcolor\": \"#E5ECF6\", \"gridcolor\": \"white\", \"gridwidth\": 2, \"linecolor\": \"white\", \"showbackground\": true, \"ticks\": \"\", \"zerolinecolor\": \"white\"}, \"zaxis\": {\"backgroundcolor\": \"#E5ECF6\", \"gridcolor\": \"white\", \"gridwidth\": 2, \"linecolor\": \"white\", \"showbackground\": true, \"ticks\": \"\", \"zerolinecolor\": \"white\"}}, \"shapedefaults\": {\"line\": {\"color\": \"#2a3f5f\"}}, \"ternary\": {\"aaxis\": {\"gridcolor\": \"white\", \"linecolor\": \"white\", \"ticks\": \"\"}, \"baxis\": {\"gridcolor\": \"white\", \"linecolor\": \"white\", \"ticks\": \"\"}, \"bgcolor\": \"#E5ECF6\", \"caxis\": {\"gridcolor\": \"white\", \"linecolor\": \"white\", \"ticks\": \"\"}}, \"title\": {\"x\": 0.05}, \"xaxis\": {\"automargin\": true, \"gridcolor\": \"white\", \"linecolor\": \"white\", \"ticks\": \"\", \"title\": {\"standoff\": 15}, \"zerolinecolor\": \"white\", \"zerolinewidth\": 2}, \"yaxis\": {\"automargin\": true, \"gridcolor\": \"white\", \"linecolor\": \"white\", \"ticks\": \"\", \"title\": {\"standoff\": 15}, \"zerolinecolor\": \"white\", \"zerolinewidth\": 2}}}, \"xaxis\": {\"anchor\": \"y\", \"domain\": [0.0, 1.0]}, \"yaxis\": {\"anchor\": \"x\", \"domain\": [0.0, 1.0], \"title\": {\"text\": \"loss\"}}},\n",
       "                        {\"responsive\": true}\n",
       "                    ).then(function(){\n",
       "                            \n",
       "var gd = document.getElementById('31621923-3a10-413b-86c1-e19012114154');\n",
       "var x = new MutationObserver(function (mutations, observer) {{\n",
       "        var display = window.getComputedStyle(gd).display;\n",
       "        if (!display || display === 'none') {{\n",
       "            console.log([gd, 'removed!']);\n",
       "            Plotly.purge(gd);\n",
       "            observer.disconnect();\n",
       "        }}\n",
       "}});\n",
       "\n",
       "// Listen for the removal of the full notebook cells\n",
       "var notebookContainer = gd.closest('#notebook-container');\n",
       "if (notebookContainer) {{\n",
       "    x.observe(notebookContainer, {childList: true});\n",
       "}}\n",
       "\n",
       "// Listen for the clearing of the current output cell\n",
       "var outputEl = gd.closest('.output');\n",
       "if (outputEl) {{\n",
       "    x.observe(outputEl, {childList: true});\n",
       "}}\n",
       "\n",
       "                        })\n",
       "                };\n",
       "                });\n",
       "            </script>\n",
       "        </div>"
      ]
     },
     "metadata": {},
     "output_type": "display_data"
    },
    {
     "name": "stdout",
     "output_type": "stream",
     "text": [
      "Wall time: 26min 5s\n"
     ]
    }
   ],
   "source": [
    "%%time\n",
    "\n",
    "train_history = trainmv_ts(\n",
    "    train_set=ts_train, \n",
    "    val_set=ts_val,\n",
    "    model=None,\n",
    "    n_step=2,\n",
    "    epochs=150,\n",
    "    steps_per_epoch=1,\n",
    "    scale=None,\n",
    "    expanding_factor=1,\n",
    "    verbose=0\n",
    ")\n",
    "\n",
    "plot_learning_curve(train_history.history.history)"
   ]
  },
  {
   "cell_type": "code",
   "execution_count": 16,
   "metadata": {
    "ExecuteTime": {
     "end_time": "2020-06-12T10:27:20.185760Z",
     "start_time": "2020-06-12T10:27:20.183758Z"
    },
    "scrolled": true
   },
   "outputs": [
    {
     "name": "stdout",
     "output_type": "stream",
     "text": [
      "Train RMSE 0.0258812108667718\n",
      "Valid RMSE 0.2781593333931957\n"
     ]
    }
   ],
   "source": [
    "print('Train RMSE', train_history.train_rmse)\n",
    "print('Valid RMSE', train_history.valid_rmse)"
   ]
  },
  {
   "cell_type": "code",
   "execution_count": 20,
   "metadata": {
    "ExecuteTime": {
     "end_time": "2020-06-12T10:30:17.762357Z",
     "start_time": "2020-06-12T10:30:17.574175Z"
    },
    "scrolled": false
   },
   "outputs": [
    {
     "data": {
      "application/vnd.plotly.v1+json": {
       "config": {
        "plotlyServerURL": "https://plot.ly"
       },
       "data": [
        {
         "hovertemplate": "state=actual<br>galactic year=%{x}<br>y=%{y}<extra></extra>",
         "legendgroup": "actual",
         "line": {
          "color": "#636efa",
          "dash": "solid"
         },
         "mode": "lines",
         "name": "actual",
         "showlegend": true,
         "type": "scatter",
         "x": [
          0,
          1,
          2,
          3,
          4,
          5,
          6,
          7,
          8,
          9,
          10,
          11,
          12,
          13,
          14,
          15,
          16,
          17,
          18,
          19,
          20,
          21,
          22
         ],
         "xaxis": "x",
         "y": [
          0.17018216520359608,
          0.170547162999914,
          0.1701705380087949,
          0.17059735097465634,
          0.17065617548162604,
          0.1729672510434518,
          0.17347122173989238,
          0.17503736745081278,
          0.17504797518624626,
          0.1761465889518916,
          0.18237535689646844,
          0.1848298554463992,
          0.18598952968801474,
          0.18659303768710644,
          0.18929318812614604,
          0.1899637870658627,
          0.18887569431579765,
          0.19103590306128748,
          0.19191268077810053,
          0.1917290303504537,
          0.14388356063625066,
          0.14448057002876502,
          0.16993414095810222
         ],
         "yaxis": "y"
        },
        {
         "hovertemplate": "state=predicted<br>galactic year=%{x}<br>y=%{y}<extra></extra>",
         "legendgroup": "predicted",
         "line": {
          "color": "#EF553B",
          "dash": "solid"
         },
         "mode": "lines",
         "name": "predicted",
         "showlegend": true,
         "type": "scatter",
         "x": [
          0,
          1,
          2,
          3,
          4,
          5,
          6,
          7,
          8,
          9,
          10,
          11,
          12,
          13,
          14,
          15,
          16,
          17,
          18,
          19,
          20,
          21,
          22
         ],
         "xaxis": "x",
         "y": [
          0.17139124870300293,
          0.1646670550107956,
          0.17021778225898743,
          0.17016085982322693,
          0.16914941370487213,
          0.17170202732086182,
          0.17918425798416138,
          0.1777515411376953,
          0.17390432953834534,
          0.17818193137645721,
          0.18051640689373016,
          0.183217391371727,
          0.18716312944889069,
          0.18420203030109406,
          0.1874355673789978,
          0.19217433035373688,
          0.19003693759441376,
          0.19260390102863312,
          0.19240644574165344,
          0.18806026875972748,
          0.14757156372070312,
          0.14427930116653442,
          0.187685027718544
         ],
         "yaxis": "y"
        }
       ],
       "layout": {
        "legend": {
         "title": {
          "text": "state"
         },
         "tracegroupgap": 0
        },
        "shapes": [
         {
          "type": "line",
          "x0": 21,
          "x1": 21,
          "xref": "x",
          "y0": 0.14388356063625066,
          "y1": 0.19260390102863312,
          "yref": "y"
         }
        ],
        "template": {
         "data": {
          "bar": [
           {
            "error_x": {
             "color": "#2a3f5f"
            },
            "error_y": {
             "color": "#2a3f5f"
            },
            "marker": {
             "line": {
              "color": "#E5ECF6",
              "width": 0.5
             }
            },
            "type": "bar"
           }
          ],
          "barpolar": [
           {
            "marker": {
             "line": {
              "color": "#E5ECF6",
              "width": 0.5
             }
            },
            "type": "barpolar"
           }
          ],
          "carpet": [
           {
            "aaxis": {
             "endlinecolor": "#2a3f5f",
             "gridcolor": "white",
             "linecolor": "white",
             "minorgridcolor": "white",
             "startlinecolor": "#2a3f5f"
            },
            "baxis": {
             "endlinecolor": "#2a3f5f",
             "gridcolor": "white",
             "linecolor": "white",
             "minorgridcolor": "white",
             "startlinecolor": "#2a3f5f"
            },
            "type": "carpet"
           }
          ],
          "choropleth": [
           {
            "colorbar": {
             "outlinewidth": 0,
             "ticks": ""
            },
            "type": "choropleth"
           }
          ],
          "contour": [
           {
            "colorbar": {
             "outlinewidth": 0,
             "ticks": ""
            },
            "colorscale": [
             [
              0,
              "#0d0887"
             ],
             [
              0.1111111111111111,
              "#46039f"
             ],
             [
              0.2222222222222222,
              "#7201a8"
             ],
             [
              0.3333333333333333,
              "#9c179e"
             ],
             [
              0.4444444444444444,
              "#bd3786"
             ],
             [
              0.5555555555555556,
              "#d8576b"
             ],
             [
              0.6666666666666666,
              "#ed7953"
             ],
             [
              0.7777777777777778,
              "#fb9f3a"
             ],
             [
              0.8888888888888888,
              "#fdca26"
             ],
             [
              1,
              "#f0f921"
             ]
            ],
            "type": "contour"
           }
          ],
          "contourcarpet": [
           {
            "colorbar": {
             "outlinewidth": 0,
             "ticks": ""
            },
            "type": "contourcarpet"
           }
          ],
          "heatmap": [
           {
            "colorbar": {
             "outlinewidth": 0,
             "ticks": ""
            },
            "colorscale": [
             [
              0,
              "#0d0887"
             ],
             [
              0.1111111111111111,
              "#46039f"
             ],
             [
              0.2222222222222222,
              "#7201a8"
             ],
             [
              0.3333333333333333,
              "#9c179e"
             ],
             [
              0.4444444444444444,
              "#bd3786"
             ],
             [
              0.5555555555555556,
              "#d8576b"
             ],
             [
              0.6666666666666666,
              "#ed7953"
             ],
             [
              0.7777777777777778,
              "#fb9f3a"
             ],
             [
              0.8888888888888888,
              "#fdca26"
             ],
             [
              1,
              "#f0f921"
             ]
            ],
            "type": "heatmap"
           }
          ],
          "heatmapgl": [
           {
            "colorbar": {
             "outlinewidth": 0,
             "ticks": ""
            },
            "colorscale": [
             [
              0,
              "#0d0887"
             ],
             [
              0.1111111111111111,
              "#46039f"
             ],
             [
              0.2222222222222222,
              "#7201a8"
             ],
             [
              0.3333333333333333,
              "#9c179e"
             ],
             [
              0.4444444444444444,
              "#bd3786"
             ],
             [
              0.5555555555555556,
              "#d8576b"
             ],
             [
              0.6666666666666666,
              "#ed7953"
             ],
             [
              0.7777777777777778,
              "#fb9f3a"
             ],
             [
              0.8888888888888888,
              "#fdca26"
             ],
             [
              1,
              "#f0f921"
             ]
            ],
            "type": "heatmapgl"
           }
          ],
          "histogram": [
           {
            "marker": {
             "colorbar": {
              "outlinewidth": 0,
              "ticks": ""
             }
            },
            "type": "histogram"
           }
          ],
          "histogram2d": [
           {
            "colorbar": {
             "outlinewidth": 0,
             "ticks": ""
            },
            "colorscale": [
             [
              0,
              "#0d0887"
             ],
             [
              0.1111111111111111,
              "#46039f"
             ],
             [
              0.2222222222222222,
              "#7201a8"
             ],
             [
              0.3333333333333333,
              "#9c179e"
             ],
             [
              0.4444444444444444,
              "#bd3786"
             ],
             [
              0.5555555555555556,
              "#d8576b"
             ],
             [
              0.6666666666666666,
              "#ed7953"
             ],
             [
              0.7777777777777778,
              "#fb9f3a"
             ],
             [
              0.8888888888888888,
              "#fdca26"
             ],
             [
              1,
              "#f0f921"
             ]
            ],
            "type": "histogram2d"
           }
          ],
          "histogram2dcontour": [
           {
            "colorbar": {
             "outlinewidth": 0,
             "ticks": ""
            },
            "colorscale": [
             [
              0,
              "#0d0887"
             ],
             [
              0.1111111111111111,
              "#46039f"
             ],
             [
              0.2222222222222222,
              "#7201a8"
             ],
             [
              0.3333333333333333,
              "#9c179e"
             ],
             [
              0.4444444444444444,
              "#bd3786"
             ],
             [
              0.5555555555555556,
              "#d8576b"
             ],
             [
              0.6666666666666666,
              "#ed7953"
             ],
             [
              0.7777777777777778,
              "#fb9f3a"
             ],
             [
              0.8888888888888888,
              "#fdca26"
             ],
             [
              1,
              "#f0f921"
             ]
            ],
            "type": "histogram2dcontour"
           }
          ],
          "mesh3d": [
           {
            "colorbar": {
             "outlinewidth": 0,
             "ticks": ""
            },
            "type": "mesh3d"
           }
          ],
          "parcoords": [
           {
            "line": {
             "colorbar": {
              "outlinewidth": 0,
              "ticks": ""
             }
            },
            "type": "parcoords"
           }
          ],
          "pie": [
           {
            "automargin": true,
            "type": "pie"
           }
          ],
          "scatter": [
           {
            "marker": {
             "colorbar": {
              "outlinewidth": 0,
              "ticks": ""
             }
            },
            "type": "scatter"
           }
          ],
          "scatter3d": [
           {
            "line": {
             "colorbar": {
              "outlinewidth": 0,
              "ticks": ""
             }
            },
            "marker": {
             "colorbar": {
              "outlinewidth": 0,
              "ticks": ""
             }
            },
            "type": "scatter3d"
           }
          ],
          "scattercarpet": [
           {
            "marker": {
             "colorbar": {
              "outlinewidth": 0,
              "ticks": ""
             }
            },
            "type": "scattercarpet"
           }
          ],
          "scattergeo": [
           {
            "marker": {
             "colorbar": {
              "outlinewidth": 0,
              "ticks": ""
             }
            },
            "type": "scattergeo"
           }
          ],
          "scattergl": [
           {
            "marker": {
             "colorbar": {
              "outlinewidth": 0,
              "ticks": ""
             }
            },
            "type": "scattergl"
           }
          ],
          "scattermapbox": [
           {
            "marker": {
             "colorbar": {
              "outlinewidth": 0,
              "ticks": ""
             }
            },
            "type": "scattermapbox"
           }
          ],
          "scatterpolar": [
           {
            "marker": {
             "colorbar": {
              "outlinewidth": 0,
              "ticks": ""
             }
            },
            "type": "scatterpolar"
           }
          ],
          "scatterpolargl": [
           {
            "marker": {
             "colorbar": {
              "outlinewidth": 0,
              "ticks": ""
             }
            },
            "type": "scatterpolargl"
           }
          ],
          "scatterternary": [
           {
            "marker": {
             "colorbar": {
              "outlinewidth": 0,
              "ticks": ""
             }
            },
            "type": "scatterternary"
           }
          ],
          "surface": [
           {
            "colorbar": {
             "outlinewidth": 0,
             "ticks": ""
            },
            "colorscale": [
             [
              0,
              "#0d0887"
             ],
             [
              0.1111111111111111,
              "#46039f"
             ],
             [
              0.2222222222222222,
              "#7201a8"
             ],
             [
              0.3333333333333333,
              "#9c179e"
             ],
             [
              0.4444444444444444,
              "#bd3786"
             ],
             [
              0.5555555555555556,
              "#d8576b"
             ],
             [
              0.6666666666666666,
              "#ed7953"
             ],
             [
              0.7777777777777778,
              "#fb9f3a"
             ],
             [
              0.8888888888888888,
              "#fdca26"
             ],
             [
              1,
              "#f0f921"
             ]
            ],
            "type": "surface"
           }
          ],
          "table": [
           {
            "cells": {
             "fill": {
              "color": "#EBF0F8"
             },
             "line": {
              "color": "white"
             }
            },
            "header": {
             "fill": {
              "color": "#C8D4E3"
             },
             "line": {
              "color": "white"
             }
            },
            "type": "table"
           }
          ]
         },
         "layout": {
          "annotationdefaults": {
           "arrowcolor": "#2a3f5f",
           "arrowhead": 0,
           "arrowwidth": 1
          },
          "coloraxis": {
           "colorbar": {
            "outlinewidth": 0,
            "ticks": ""
           }
          },
          "colorscale": {
           "diverging": [
            [
             0,
             "#8e0152"
            ],
            [
             0.1,
             "#c51b7d"
            ],
            [
             0.2,
             "#de77ae"
            ],
            [
             0.3,
             "#f1b6da"
            ],
            [
             0.4,
             "#fde0ef"
            ],
            [
             0.5,
             "#f7f7f7"
            ],
            [
             0.6,
             "#e6f5d0"
            ],
            [
             0.7,
             "#b8e186"
            ],
            [
             0.8,
             "#7fbc41"
            ],
            [
             0.9,
             "#4d9221"
            ],
            [
             1,
             "#276419"
            ]
           ],
           "sequential": [
            [
             0,
             "#0d0887"
            ],
            [
             0.1111111111111111,
             "#46039f"
            ],
            [
             0.2222222222222222,
             "#7201a8"
            ],
            [
             0.3333333333333333,
             "#9c179e"
            ],
            [
             0.4444444444444444,
             "#bd3786"
            ],
            [
             0.5555555555555556,
             "#d8576b"
            ],
            [
             0.6666666666666666,
             "#ed7953"
            ],
            [
             0.7777777777777778,
             "#fb9f3a"
            ],
            [
             0.8888888888888888,
             "#fdca26"
            ],
            [
             1,
             "#f0f921"
            ]
           ],
           "sequentialminus": [
            [
             0,
             "#0d0887"
            ],
            [
             0.1111111111111111,
             "#46039f"
            ],
            [
             0.2222222222222222,
             "#7201a8"
            ],
            [
             0.3333333333333333,
             "#9c179e"
            ],
            [
             0.4444444444444444,
             "#bd3786"
            ],
            [
             0.5555555555555556,
             "#d8576b"
            ],
            [
             0.6666666666666666,
             "#ed7953"
            ],
            [
             0.7777777777777778,
             "#fb9f3a"
            ],
            [
             0.8888888888888888,
             "#fdca26"
            ],
            [
             1,
             "#f0f921"
            ]
           ]
          },
          "colorway": [
           "#636efa",
           "#EF553B",
           "#00cc96",
           "#ab63fa",
           "#FFA15A",
           "#19d3f3",
           "#FF6692",
           "#B6E880",
           "#FF97FF",
           "#FECB52"
          ],
          "font": {
           "color": "#2a3f5f"
          },
          "geo": {
           "bgcolor": "white",
           "lakecolor": "white",
           "landcolor": "#E5ECF6",
           "showlakes": true,
           "showland": true,
           "subunitcolor": "white"
          },
          "hoverlabel": {
           "align": "left"
          },
          "hovermode": "closest",
          "mapbox": {
           "style": "light"
          },
          "paper_bgcolor": "white",
          "plot_bgcolor": "#E5ECF6",
          "polar": {
           "angularaxis": {
            "gridcolor": "white",
            "linecolor": "white",
            "ticks": ""
           },
           "bgcolor": "#E5ECF6",
           "radialaxis": {
            "gridcolor": "white",
            "linecolor": "white",
            "ticks": ""
           }
          },
          "scene": {
           "xaxis": {
            "backgroundcolor": "#E5ECF6",
            "gridcolor": "white",
            "gridwidth": 2,
            "linecolor": "white",
            "showbackground": true,
            "ticks": "",
            "zerolinecolor": "white"
           },
           "yaxis": {
            "backgroundcolor": "#E5ECF6",
            "gridcolor": "white",
            "gridwidth": 2,
            "linecolor": "white",
            "showbackground": true,
            "ticks": "",
            "zerolinecolor": "white"
           },
           "zaxis": {
            "backgroundcolor": "#E5ECF6",
            "gridcolor": "white",
            "gridwidth": 2,
            "linecolor": "white",
            "showbackground": true,
            "ticks": "",
            "zerolinecolor": "white"
           }
          },
          "shapedefaults": {
           "line": {
            "color": "#2a3f5f"
           }
          },
          "ternary": {
           "aaxis": {
            "gridcolor": "white",
            "linecolor": "white",
            "ticks": ""
           },
           "baxis": {
            "gridcolor": "white",
            "linecolor": "white",
            "ticks": ""
           },
           "bgcolor": "#E5ECF6",
           "caxis": {
            "gridcolor": "white",
            "linecolor": "white",
            "ticks": ""
           }
          },
          "title": {
           "x": 0.05
          },
          "xaxis": {
           "automargin": true,
           "gridcolor": "white",
           "linecolor": "white",
           "ticks": "",
           "title": {
            "standoff": 15
           },
           "zerolinecolor": "white",
           "zerolinewidth": 2
          },
          "yaxis": {
           "automargin": true,
           "gridcolor": "white",
           "linecolor": "white",
           "ticks": "",
           "title": {
            "standoff": 15
           },
           "zerolinecolor": "white",
           "zerolinewidth": 2
          }
         }
        },
        "title": {
         "text": "Galaxy: Andromeda II"
        },
        "xaxis": {
         "anchor": "y",
         "domain": [
          0,
          1
         ],
         "title": {
          "text": "galactic year"
         }
        },
        "yaxis": {
         "anchor": "x",
         "domain": [
          0,
          1
         ],
         "title": {
          "text": "y"
         }
        }
       }
      },
      "text/html": [
       "<div>\n",
       "        \n",
       "        \n",
       "            <div id=\"3101d866-d0d0-42b8-83a7-4e6a8c3caa63\" class=\"plotly-graph-div\" style=\"height:525px; width:100%;\"></div>\n",
       "            <script type=\"text/javascript\">\n",
       "                require([\"plotly\"], function(Plotly) {\n",
       "                    window.PLOTLYENV=window.PLOTLYENV || {};\n",
       "                    \n",
       "                if (document.getElementById(\"3101d866-d0d0-42b8-83a7-4e6a8c3caa63\")) {\n",
       "                    Plotly.newPlot(\n",
       "                        '3101d866-d0d0-42b8-83a7-4e6a8c3caa63',\n",
       "                        [{\"hovertemplate\": \"state=actual<br>galactic year=%{x}<br>y=%{y}<extra></extra>\", \"legendgroup\": \"actual\", \"line\": {\"color\": \"#636efa\", \"dash\": \"solid\"}, \"mode\": \"lines\", \"name\": \"actual\", \"showlegend\": true, \"type\": \"scatter\", \"x\": [0, 1, 2, 3, 4, 5, 6, 7, 8, 9, 10, 11, 12, 13, 14, 15, 16, 17, 18, 19, 20, 21, 22], \"xaxis\": \"x\", \"y\": [0.17018216520359608, 0.170547162999914, 0.1701705380087949, 0.17059735097465634, 0.17065617548162604, 0.1729672510434518, 0.17347122173989238, 0.17503736745081278, 0.17504797518624626, 0.1761465889518916, 0.18237535689646844, 0.1848298554463992, 0.18598952968801474, 0.18659303768710644, 0.18929318812614604, 0.1899637870658627, 0.18887569431579765, 0.19103590306128748, 0.19191268077810053, 0.1917290303504537, 0.14388356063625066, 0.14448057002876502, 0.16993414095810222], \"yaxis\": \"y\"}, {\"hovertemplate\": \"state=predicted<br>galactic year=%{x}<br>y=%{y}<extra></extra>\", \"legendgroup\": \"predicted\", \"line\": {\"color\": \"#EF553B\", \"dash\": \"solid\"}, \"mode\": \"lines\", \"name\": \"predicted\", \"showlegend\": true, \"type\": \"scatter\", \"x\": [0, 1, 2, 3, 4, 5, 6, 7, 8, 9, 10, 11, 12, 13, 14, 15, 16, 17, 18, 19, 20, 21, 22], \"xaxis\": \"x\", \"y\": [0.17139124870300293, 0.1646670550107956, 0.17021778225898743, 0.17016085982322693, 0.16914941370487213, 0.17170202732086182, 0.17918425798416138, 0.1777515411376953, 0.17390432953834534, 0.17818193137645721, 0.18051640689373016, 0.183217391371727, 0.18716312944889069, 0.18420203030109406, 0.1874355673789978, 0.19217433035373688, 0.19003693759441376, 0.19260390102863312, 0.19240644574165344, 0.18806026875972748, 0.14757156372070312, 0.14427930116653442, 0.187685027718544], \"yaxis\": \"y\"}],\n",
       "                        {\"legend\": {\"title\": {\"text\": \"state\"}, \"tracegroupgap\": 0}, \"shapes\": [{\"type\": \"line\", \"x0\": 21, \"x1\": 21, \"xref\": \"x\", \"y0\": 0.14388356063625066, \"y1\": 0.19260390102863312, \"yref\": \"y\"}], \"template\": {\"data\": {\"bar\": [{\"error_x\": {\"color\": \"#2a3f5f\"}, \"error_y\": {\"color\": \"#2a3f5f\"}, \"marker\": {\"line\": {\"color\": \"#E5ECF6\", \"width\": 0.5}}, \"type\": \"bar\"}], \"barpolar\": [{\"marker\": {\"line\": {\"color\": \"#E5ECF6\", \"width\": 0.5}}, \"type\": \"barpolar\"}], \"carpet\": [{\"aaxis\": {\"endlinecolor\": \"#2a3f5f\", \"gridcolor\": \"white\", \"linecolor\": \"white\", \"minorgridcolor\": \"white\", \"startlinecolor\": \"#2a3f5f\"}, \"baxis\": {\"endlinecolor\": \"#2a3f5f\", \"gridcolor\": \"white\", \"linecolor\": \"white\", \"minorgridcolor\": \"white\", \"startlinecolor\": \"#2a3f5f\"}, \"type\": \"carpet\"}], \"choropleth\": [{\"colorbar\": {\"outlinewidth\": 0, \"ticks\": \"\"}, \"type\": \"choropleth\"}], \"contour\": [{\"colorbar\": {\"outlinewidth\": 0, \"ticks\": \"\"}, \"colorscale\": [[0.0, \"#0d0887\"], [0.1111111111111111, \"#46039f\"], [0.2222222222222222, \"#7201a8\"], [0.3333333333333333, \"#9c179e\"], [0.4444444444444444, \"#bd3786\"], [0.5555555555555556, \"#d8576b\"], [0.6666666666666666, \"#ed7953\"], [0.7777777777777778, \"#fb9f3a\"], [0.8888888888888888, \"#fdca26\"], [1.0, \"#f0f921\"]], \"type\": \"contour\"}], \"contourcarpet\": [{\"colorbar\": {\"outlinewidth\": 0, \"ticks\": \"\"}, \"type\": \"contourcarpet\"}], \"heatmap\": [{\"colorbar\": {\"outlinewidth\": 0, \"ticks\": \"\"}, \"colorscale\": [[0.0, \"#0d0887\"], [0.1111111111111111, \"#46039f\"], [0.2222222222222222, \"#7201a8\"], [0.3333333333333333, \"#9c179e\"], [0.4444444444444444, \"#bd3786\"], [0.5555555555555556, \"#d8576b\"], [0.6666666666666666, \"#ed7953\"], [0.7777777777777778, \"#fb9f3a\"], [0.8888888888888888, \"#fdca26\"], [1.0, \"#f0f921\"]], \"type\": \"heatmap\"}], \"heatmapgl\": [{\"colorbar\": {\"outlinewidth\": 0, \"ticks\": \"\"}, \"colorscale\": [[0.0, \"#0d0887\"], [0.1111111111111111, \"#46039f\"], [0.2222222222222222, \"#7201a8\"], [0.3333333333333333, \"#9c179e\"], [0.4444444444444444, \"#bd3786\"], [0.5555555555555556, \"#d8576b\"], [0.6666666666666666, \"#ed7953\"], [0.7777777777777778, \"#fb9f3a\"], [0.8888888888888888, \"#fdca26\"], [1.0, \"#f0f921\"]], \"type\": \"heatmapgl\"}], \"histogram\": [{\"marker\": {\"colorbar\": {\"outlinewidth\": 0, \"ticks\": \"\"}}, \"type\": \"histogram\"}], \"histogram2d\": [{\"colorbar\": {\"outlinewidth\": 0, \"ticks\": \"\"}, \"colorscale\": [[0.0, \"#0d0887\"], [0.1111111111111111, \"#46039f\"], [0.2222222222222222, \"#7201a8\"], [0.3333333333333333, \"#9c179e\"], [0.4444444444444444, \"#bd3786\"], [0.5555555555555556, \"#d8576b\"], [0.6666666666666666, \"#ed7953\"], [0.7777777777777778, \"#fb9f3a\"], [0.8888888888888888, \"#fdca26\"], [1.0, \"#f0f921\"]], \"type\": \"histogram2d\"}], \"histogram2dcontour\": [{\"colorbar\": {\"outlinewidth\": 0, \"ticks\": \"\"}, \"colorscale\": [[0.0, \"#0d0887\"], [0.1111111111111111, \"#46039f\"], [0.2222222222222222, \"#7201a8\"], [0.3333333333333333, \"#9c179e\"], [0.4444444444444444, \"#bd3786\"], [0.5555555555555556, \"#d8576b\"], [0.6666666666666666, \"#ed7953\"], [0.7777777777777778, \"#fb9f3a\"], [0.8888888888888888, \"#fdca26\"], [1.0, \"#f0f921\"]], \"type\": \"histogram2dcontour\"}], \"mesh3d\": [{\"colorbar\": {\"outlinewidth\": 0, \"ticks\": \"\"}, \"type\": \"mesh3d\"}], \"parcoords\": [{\"line\": {\"colorbar\": {\"outlinewidth\": 0, \"ticks\": \"\"}}, \"type\": \"parcoords\"}], \"pie\": [{\"automargin\": true, \"type\": \"pie\"}], \"scatter\": [{\"marker\": {\"colorbar\": {\"outlinewidth\": 0, \"ticks\": \"\"}}, \"type\": \"scatter\"}], \"scatter3d\": [{\"line\": {\"colorbar\": {\"outlinewidth\": 0, \"ticks\": \"\"}}, \"marker\": {\"colorbar\": {\"outlinewidth\": 0, \"ticks\": \"\"}}, \"type\": \"scatter3d\"}], \"scattercarpet\": [{\"marker\": {\"colorbar\": {\"outlinewidth\": 0, \"ticks\": \"\"}}, \"type\": \"scattercarpet\"}], \"scattergeo\": [{\"marker\": {\"colorbar\": {\"outlinewidth\": 0, \"ticks\": \"\"}}, \"type\": \"scattergeo\"}], \"scattergl\": [{\"marker\": {\"colorbar\": {\"outlinewidth\": 0, \"ticks\": \"\"}}, \"type\": \"scattergl\"}], \"scattermapbox\": [{\"marker\": {\"colorbar\": {\"outlinewidth\": 0, \"ticks\": \"\"}}, \"type\": \"scattermapbox\"}], \"scatterpolar\": [{\"marker\": {\"colorbar\": {\"outlinewidth\": 0, \"ticks\": \"\"}}, \"type\": \"scatterpolar\"}], \"scatterpolargl\": [{\"marker\": {\"colorbar\": {\"outlinewidth\": 0, \"ticks\": \"\"}}, \"type\": \"scatterpolargl\"}], \"scatterternary\": [{\"marker\": {\"colorbar\": {\"outlinewidth\": 0, \"ticks\": \"\"}}, \"type\": \"scatterternary\"}], \"surface\": [{\"colorbar\": {\"outlinewidth\": 0, \"ticks\": \"\"}, \"colorscale\": [[0.0, \"#0d0887\"], [0.1111111111111111, \"#46039f\"], [0.2222222222222222, \"#7201a8\"], [0.3333333333333333, \"#9c179e\"], [0.4444444444444444, \"#bd3786\"], [0.5555555555555556, \"#d8576b\"], [0.6666666666666666, \"#ed7953\"], [0.7777777777777778, \"#fb9f3a\"], [0.8888888888888888, \"#fdca26\"], [1.0, \"#f0f921\"]], \"type\": \"surface\"}], \"table\": [{\"cells\": {\"fill\": {\"color\": \"#EBF0F8\"}, \"line\": {\"color\": \"white\"}}, \"header\": {\"fill\": {\"color\": \"#C8D4E3\"}, \"line\": {\"color\": \"white\"}}, \"type\": \"table\"}]}, \"layout\": {\"annotationdefaults\": {\"arrowcolor\": \"#2a3f5f\", \"arrowhead\": 0, \"arrowwidth\": 1}, \"coloraxis\": {\"colorbar\": {\"outlinewidth\": 0, \"ticks\": \"\"}}, \"colorscale\": {\"diverging\": [[0, \"#8e0152\"], [0.1, \"#c51b7d\"], [0.2, \"#de77ae\"], [0.3, \"#f1b6da\"], [0.4, \"#fde0ef\"], [0.5, \"#f7f7f7\"], [0.6, \"#e6f5d0\"], [0.7, \"#b8e186\"], [0.8, \"#7fbc41\"], [0.9, \"#4d9221\"], [1, \"#276419\"]], \"sequential\": [[0.0, \"#0d0887\"], [0.1111111111111111, \"#46039f\"], [0.2222222222222222, \"#7201a8\"], [0.3333333333333333, \"#9c179e\"], [0.4444444444444444, \"#bd3786\"], [0.5555555555555556, \"#d8576b\"], [0.6666666666666666, \"#ed7953\"], [0.7777777777777778, \"#fb9f3a\"], [0.8888888888888888, \"#fdca26\"], [1.0, \"#f0f921\"]], \"sequentialminus\": [[0.0, \"#0d0887\"], [0.1111111111111111, \"#46039f\"], [0.2222222222222222, \"#7201a8\"], [0.3333333333333333, \"#9c179e\"], [0.4444444444444444, \"#bd3786\"], [0.5555555555555556, \"#d8576b\"], [0.6666666666666666, \"#ed7953\"], [0.7777777777777778, \"#fb9f3a\"], [0.8888888888888888, \"#fdca26\"], [1.0, \"#f0f921\"]]}, \"colorway\": [\"#636efa\", \"#EF553B\", \"#00cc96\", \"#ab63fa\", \"#FFA15A\", \"#19d3f3\", \"#FF6692\", \"#B6E880\", \"#FF97FF\", \"#FECB52\"], \"font\": {\"color\": \"#2a3f5f\"}, \"geo\": {\"bgcolor\": \"white\", \"lakecolor\": \"white\", \"landcolor\": \"#E5ECF6\", \"showlakes\": true, \"showland\": true, \"subunitcolor\": \"white\"}, \"hoverlabel\": {\"align\": \"left\"}, \"hovermode\": \"closest\", \"mapbox\": {\"style\": \"light\"}, \"paper_bgcolor\": \"white\", \"plot_bgcolor\": \"#E5ECF6\", \"polar\": {\"angularaxis\": {\"gridcolor\": \"white\", \"linecolor\": \"white\", \"ticks\": \"\"}, \"bgcolor\": \"#E5ECF6\", \"radialaxis\": {\"gridcolor\": \"white\", \"linecolor\": \"white\", \"ticks\": \"\"}}, \"scene\": {\"xaxis\": {\"backgroundcolor\": \"#E5ECF6\", \"gridcolor\": \"white\", \"gridwidth\": 2, \"linecolor\": \"white\", \"showbackground\": true, \"ticks\": \"\", \"zerolinecolor\": \"white\"}, \"yaxis\": {\"backgroundcolor\": \"#E5ECF6\", \"gridcolor\": \"white\", \"gridwidth\": 2, \"linecolor\": \"white\", \"showbackground\": true, \"ticks\": \"\", \"zerolinecolor\": \"white\"}, \"zaxis\": {\"backgroundcolor\": \"#E5ECF6\", \"gridcolor\": \"white\", \"gridwidth\": 2, \"linecolor\": \"white\", \"showbackground\": true, \"ticks\": \"\", \"zerolinecolor\": \"white\"}}, \"shapedefaults\": {\"line\": {\"color\": \"#2a3f5f\"}}, \"ternary\": {\"aaxis\": {\"gridcolor\": \"white\", \"linecolor\": \"white\", \"ticks\": \"\"}, \"baxis\": {\"gridcolor\": \"white\", \"linecolor\": \"white\", \"ticks\": \"\"}, \"bgcolor\": \"#E5ECF6\", \"caxis\": {\"gridcolor\": \"white\", \"linecolor\": \"white\", \"ticks\": \"\"}}, \"title\": {\"x\": 0.05}, \"xaxis\": {\"automargin\": true, \"gridcolor\": \"white\", \"linecolor\": \"white\", \"ticks\": \"\", \"title\": {\"standoff\": 15}, \"zerolinecolor\": \"white\", \"zerolinewidth\": 2}, \"yaxis\": {\"automargin\": true, \"gridcolor\": \"white\", \"linecolor\": \"white\", \"ticks\": \"\", \"title\": {\"standoff\": 15}, \"zerolinecolor\": \"white\", \"zerolinewidth\": 2}}}, \"title\": {\"text\": \"Galaxy: Andromeda II\"}, \"xaxis\": {\"anchor\": \"y\", \"domain\": [0.0, 1.0], \"title\": {\"text\": \"galactic year\"}}, \"yaxis\": {\"anchor\": \"x\", \"domain\": [0.0, 1.0], \"title\": {\"text\": \"y\"}}},\n",
       "                        {\"responsive\": true}\n",
       "                    ).then(function(){\n",
       "                            \n",
       "var gd = document.getElementById('3101d866-d0d0-42b8-83a7-4e6a8c3caa63');\n",
       "var x = new MutationObserver(function (mutations, observer) {{\n",
       "        var display = window.getComputedStyle(gd).display;\n",
       "        if (!display || display === 'none') {{\n",
       "            console.log([gd, 'removed!']);\n",
       "            Plotly.purge(gd);\n",
       "            observer.disconnect();\n",
       "        }}\n",
       "}});\n",
       "\n",
       "// Listen for the removal of the full notebook cells\n",
       "var notebookContainer = gd.closest('#notebook-container');\n",
       "if (notebookContainer) {{\n",
       "    x.observe(notebookContainer, {childList: true});\n",
       "}}\n",
       "\n",
       "// Listen for the clearing of the current output cell\n",
       "var outputEl = gd.closest('.output');\n",
       "if (outputEl) {{\n",
       "    x.observe(outputEl, {childList: true});\n",
       "}}\n",
       "\n",
       "                        })\n",
       "                };\n",
       "                });\n",
       "            </script>\n",
       "        </div>"
      ]
     },
     "metadata": {},
     "output_type": "display_data"
    }
   ],
   "source": [
    "# Plotting y_true vs y_pred with forecast, change i variable\n",
    "# to see the different galaxies\n",
    "galaxy_index = 2\n",
    "plot_resulting_df(res_df=train_history.resulting_df, index=galaxy_index,\n",
    "                 val_size=2)"
   ]
  },
  {
   "cell_type": "code",
   "execution_count": null,
   "metadata": {},
   "outputs": [],
   "source": []
  }
 ],
 "metadata": {
  "kernelspec": {
   "display_name": "Python 3",
   "language": "python",
   "name": "python3"
  },
  "language_info": {
   "codemirror_mode": {
    "name": "ipython",
    "version": 3
   },
   "file_extension": ".py",
   "mimetype": "text/x-python",
   "name": "python",
   "nbconvert_exporter": "python",
   "pygments_lexer": "ipython3",
   "version": "3.8.0"
  },
  "notify_time": "10"
 },
 "nbformat": 4,
 "nbformat_minor": 4
}
