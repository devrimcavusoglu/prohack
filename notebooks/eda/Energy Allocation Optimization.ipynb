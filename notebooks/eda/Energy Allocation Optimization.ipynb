{
 "cells": [
  {
   "cell_type": "code",
   "execution_count": 1,
   "metadata": {},
   "outputs": [
    {
     "data": {
      "text/html": [
       "        <script type=\"text/javascript\">\n",
       "        window.PlotlyConfig = {MathJaxConfig: 'local'};\n",
       "        if (window.MathJax) {MathJax.Hub.Config({SVG: {font: \"STIX-Web\"}});}\n",
       "        if (typeof require !== 'undefined') {\n",
       "        require.undef(\"plotly\");\n",
       "        requirejs.config({\n",
       "            paths: {\n",
       "                'plotly': ['https://cdn.plot.ly/plotly-latest.min']\n",
       "            }\n",
       "        });\n",
       "        require(['plotly'], function(Plotly) {\n",
       "            window._Plotly = Plotly;\n",
       "        });\n",
       "        }\n",
       "        </script>\n",
       "        "
      ]
     },
     "metadata": {},
     "output_type": "display_data"
    }
   ],
   "source": [
    "# Scientific libraries\t\t              \n",
    "import numpy as np\t\t              \n",
    "import scipy as sp\t\t              \n",
    "import pandas as pd\t\t              \n",
    "import json\t\t              \n",
    "import missingno as msno\t\t              \n",
    "\n",
    "# Loading Plotting Modules\t\t              \n",
    "import matplotlib\t\t              \n",
    "import matplotlib.pyplot as plt\t\t              \n",
    "import seaborn as sns\t\t              \n",
    "%matplotlib inline\t\t              \n",
    "import chart_studio.plotly as py\t\t              \n",
    "import plotly.figure_factory as ff\t\t              \n",
    "import plotly.graph_objects as go\t\t              \n",
    "import plotly.express as px\t\t              \n",
    "from plotly.offline import download_plotlyjs, init_notebook_mode, plot, iplot\t\t              \n",
    "init_notebook_mode(connected=True)\t\t              \n",
    "\t\t              \n",
    "import os\t\t              \n",
    "import gc"
   ]
  },
  {
   "cell_type": "code",
   "execution_count": 2,
   "metadata": {},
   "outputs": [],
   "source": [
    "# Setting Data Frame Options                      \n",
    "pd.set_option('display.max_rows', 40)                      \n",
    "pd.set_option('display.max_columns', 50)                      \n",
    "pd.set_option('display.width', 100)                      \n",
    "pd.set_option('display.max_colwidth', 100)                      \n",
    "\n",
    "# Setting Plot Configuration                      \n",
    "sns.set(rc={'figure.figsize':(19,11)}, style = 'white')"
   ]
  },
  {
   "cell_type": "code",
   "execution_count": 3,
   "metadata": {},
   "outputs": [
    {
     "name": "stdout",
     "output_type": "stream",
     "text": [
      "Data Frame: 890 x 79\n"
     ]
    },
    {
     "data": {
      "text/html": [
       "<div>\n",
       "<style scoped>\n",
       "    .dataframe tbody tr th:only-of-type {\n",
       "        vertical-align: middle;\n",
       "    }\n",
       "\n",
       "    .dataframe tbody tr th {\n",
       "        vertical-align: top;\n",
       "    }\n",
       "\n",
       "    .dataframe thead th {\n",
       "        text-align: right;\n",
       "    }\n",
       "</style>\n",
       "<table border=\"1\" class=\"dataframe\">\n",
       "  <thead>\n",
       "    <tr style=\"text-align: right;\">\n",
       "      <th></th>\n",
       "      <th>galactic year</th>\n",
       "      <th>existence expectancy index</th>\n",
       "      <th>existence expectancy at birth</th>\n",
       "      <th>Gross income per capita</th>\n",
       "      <th>Income Index</th>\n",
       "      <th>Expected years of education (galactic years)</th>\n",
       "      <th>Mean years of education (galactic years)</th>\n",
       "      <th>Intergalactic Development Index (IDI)</th>\n",
       "      <th>Education Index</th>\n",
       "      <th>Intergalactic Development Index (IDI), Rank</th>\n",
       "      <th>Population using at least basic drinking-water services (%)</th>\n",
       "      <th>Population using at least basic sanitation services (%)</th>\n",
       "      <th>Gross capital formation (% of GGP)</th>\n",
       "      <th>Population, total (millions)</th>\n",
       "      <th>Population, urban (%)</th>\n",
       "      <th>Mortality rate, under-five (per 1,000 live births)</th>\n",
       "      <th>Mortality rate, infant (per 1,000 live births)</th>\n",
       "      <th>Old age dependency ratio (old age (65 and older) per 100 creatures (ages 15-64))</th>\n",
       "      <th>Population, ages 15–64 (millions)</th>\n",
       "      <th>Population, ages 65 and older (millions)</th>\n",
       "      <th>Life expectancy at birth, male (galactic years)</th>\n",
       "      <th>Life expectancy at birth, female (galactic years)</th>\n",
       "      <th>Population, under age 5 (millions)</th>\n",
       "      <th>Young age (0-14) dependency ratio (per 100 creatures ages 15-64)</th>\n",
       "      <th>Adolescent birth rate (births per 1,000 female creatures ages 15-19)</th>\n",
       "      <th>...</th>\n",
       "      <th>Estimated gross galactic income per capita, male</th>\n",
       "      <th>Estimated gross galactic income per capita, female</th>\n",
       "      <th>Rural population with access to electricity (%)</th>\n",
       "      <th>Domestic credit provided by financial sector (% of GGP)</th>\n",
       "      <th>Population with at least some secondary education, female (% ages 25 and older)</th>\n",
       "      <th>Population with at least some secondary education, male (% ages 25 and older)</th>\n",
       "      <th>Gross fixed capital formation (% of GGP)</th>\n",
       "      <th>Remittances, inflows (% of GGP)</th>\n",
       "      <th>Population with at least some secondary education (% ages 25 and older)</th>\n",
       "      <th>Intergalactic inbound tourists (thousands)</th>\n",
       "      <th>Gross enrolment ratio, primary (% of primary under-age population)</th>\n",
       "      <th>Respiratory disease incidence (per 100,000 people)</th>\n",
       "      <th>Interstellar phone subscriptions (per 100 people)</th>\n",
       "      <th>Interstellar Data Net users, total (% of population)</th>\n",
       "      <th>Current health expenditure (% of GGP)</th>\n",
       "      <th>Intergalactic Development Index (IDI), female</th>\n",
       "      <th>Intergalactic Development Index (IDI), male</th>\n",
       "      <th>Gender Development Index (GDI)</th>\n",
       "      <th>Intergalactic Development Index (IDI), female, Rank</th>\n",
       "      <th>Intergalactic Development Index (IDI), male, Rank</th>\n",
       "      <th>Adjusted net savings</th>\n",
       "      <th>Gender Inequality Index (GII)</th>\n",
       "      <th>galaxy</th>\n",
       "      <th>Private galaxy capital flows (% of GGP)</th>\n",
       "      <th>Creature Immunodeficiency Disease prevalence, adult (% ages 15-49), total</th>\n",
       "    </tr>\n",
       "  </thead>\n",
       "  <tbody>\n",
       "    <tr>\n",
       "      <th>0</th>\n",
       "      <td>1007012.0</td>\n",
       "      <td>0.868360</td>\n",
       "      <td>72.982208</td>\n",
       "      <td>19198.499040</td>\n",
       "      <td>0.700413</td>\n",
       "      <td>16.145285</td>\n",
       "      <td>11.113581</td>\n",
       "      <td>0.719579</td>\n",
       "      <td>0.825915</td>\n",
       "      <td>181.824530</td>\n",
       "      <td>76.357958</td>\n",
       "      <td>71.796137</td>\n",
       "      <td>71.977811</td>\n",
       "      <td>819.245976</td>\n",
       "      <td>72.269765</td>\n",
       "      <td>113.394831</td>\n",
       "      <td>75.983899</td>\n",
       "      <td>12.851245</td>\n",
       "      <td>426.589757</td>\n",
       "      <td>59.793499</td>\n",
       "      <td>73.206969</td>\n",
       "      <td>79.051548</td>\n",
       "      <td>80.144699</td>\n",
       "      <td>87.255770</td>\n",
       "      <td>77.624057</td>\n",
       "      <td>...</td>\n",
       "      <td>NaN</td>\n",
       "      <td>NaN</td>\n",
       "      <td>102.306960</td>\n",
       "      <td>NaN</td>\n",
       "      <td>NaN</td>\n",
       "      <td>NaN</td>\n",
       "      <td>75.084941</td>\n",
       "      <td>16.383957</td>\n",
       "      <td>NaN</td>\n",
       "      <td>92046.182973</td>\n",
       "      <td>129.047095</td>\n",
       "      <td>578.672958</td>\n",
       "      <td>70.150003</td>\n",
       "      <td>39.261197</td>\n",
       "      <td>11.067889</td>\n",
       "      <td>NaN</td>\n",
       "      <td>NaN</td>\n",
       "      <td>NaN</td>\n",
       "      <td>NaN</td>\n",
       "      <td>NaN</td>\n",
       "      <td>NaN</td>\n",
       "      <td>NaN</td>\n",
       "      <td>Andromeda Galaxy (M31)</td>\n",
       "      <td>32.163414</td>\n",
       "      <td>NaN</td>\n",
       "    </tr>\n",
       "    <tr>\n",
       "      <th>1</th>\n",
       "      <td>1007012.0</td>\n",
       "      <td>0.772696</td>\n",
       "      <td>73.590698</td>\n",
       "      <td>18345.350181</td>\n",
       "      <td>0.684405</td>\n",
       "      <td>12.167872</td>\n",
       "      <td>7.083681</td>\n",
       "      <td>0.650826</td>\n",
       "      <td>0.505962</td>\n",
       "      <td>193.187549</td>\n",
       "      <td>79.263683</td>\n",
       "      <td>71.723281</td>\n",
       "      <td>37.085742</td>\n",
       "      <td>849.398477</td>\n",
       "      <td>53.465398</td>\n",
       "      <td>139.090298</td>\n",
       "      <td>88.145153</td>\n",
       "      <td>14.152255</td>\n",
       "      <td>496.779346</td>\n",
       "      <td>57.583581</td>\n",
       "      <td>68.021732</td>\n",
       "      <td>74.795340</td>\n",
       "      <td>73.158109</td>\n",
       "      <td>89.776748</td>\n",
       "      <td>124.050371</td>\n",
       "      <td>...</td>\n",
       "      <td>19268.820517</td>\n",
       "      <td>12931.719986</td>\n",
       "      <td>99.189863</td>\n",
       "      <td>77.742674</td>\n",
       "      <td>54.263456</td>\n",
       "      <td>69.496155</td>\n",
       "      <td>38.331603</td>\n",
       "      <td>9.435519</td>\n",
       "      <td>62.266114</td>\n",
       "      <td>92843.780990</td>\n",
       "      <td>131.408452</td>\n",
       "      <td>429.753270</td>\n",
       "      <td>104.910863</td>\n",
       "      <td>34.341097</td>\n",
       "      <td>6.029590</td>\n",
       "      <td>0.673039</td>\n",
       "      <td>0.714560</td>\n",
       "      <td>0.976994</td>\n",
       "      <td>147.451303</td>\n",
       "      <td>164.334975</td>\n",
       "      <td>6.673241</td>\n",
       "      <td>0.687616</td>\n",
       "      <td>Andromeda I</td>\n",
       "      <td>30.668839</td>\n",
       "      <td>5.784397</td>\n",
       "    </tr>\n",
       "    <tr>\n",
       "      <th>2</th>\n",
       "      <td>1007012.0</td>\n",
       "      <td>0.941941</td>\n",
       "      <td>81.973436</td>\n",
       "      <td>26708.317145</td>\n",
       "      <td>0.925563</td>\n",
       "      <td>18.175905</td>\n",
       "      <td>13.909442</td>\n",
       "      <td>0.960263</td>\n",
       "      <td>0.937407</td>\n",
       "      <td>74.678611</td>\n",
       "      <td>122.988241</td>\n",
       "      <td>136.685519</td>\n",
       "      <td>34.865297</td>\n",
       "      <td>712.914221</td>\n",
       "      <td>93.116852</td>\n",
       "      <td>59.810528</td>\n",
       "      <td>34.960991</td>\n",
       "      <td>31.242181</td>\n",
       "      <td>435.976780</td>\n",
       "      <td>54.971127</td>\n",
       "      <td>78.814709</td>\n",
       "      <td>87.318457</td>\n",
       "      <td>54.861556</td>\n",
       "      <td>51.049333</td>\n",
       "      <td>72.544281</td>\n",
       "      <td>...</td>\n",
       "      <td>46130.422627</td>\n",
       "      <td>29804.266408</td>\n",
       "      <td>133.499902</td>\n",
       "      <td>112.410524</td>\n",
       "      <td>110.028144</td>\n",
       "      <td>112.483100</td>\n",
       "      <td>29.294321</td>\n",
       "      <td>9.716045</td>\n",
       "      <td>124.671861</td>\n",
       "      <td>98471.178149</td>\n",
       "      <td>117.291927</td>\n",
       "      <td>216.424101</td>\n",
       "      <td>152.699066</td>\n",
       "      <td>89.310138</td>\n",
       "      <td>10.114774</td>\n",
       "      <td>0.975232</td>\n",
       "      <td>0.949269</td>\n",
       "      <td>1.078944</td>\n",
       "      <td>91.321283</td>\n",
       "      <td>80.725039</td>\n",
       "      <td>16.251653</td>\n",
       "      <td>0.467704</td>\n",
       "      <td>Andromeda III</td>\n",
       "      <td>25.648367</td>\n",
       "      <td>3.641324</td>\n",
       "    </tr>\n",
       "    <tr>\n",
       "      <th>3</th>\n",
       "      <td>1007012.0</td>\n",
       "      <td>1.079857</td>\n",
       "      <td>89.351427</td>\n",
       "      <td>54738.000742</td>\n",
       "      <td>1.016415</td>\n",
       "      <td>19.927563</td>\n",
       "      <td>12.917355</td>\n",
       "      <td>1.085718</td>\n",
       "      <td>1.010280</td>\n",
       "      <td>65.576254</td>\n",
       "      <td>113.617318</td>\n",
       "      <td>144.223620</td>\n",
       "      <td>27.907457</td>\n",
       "      <td>994.869334</td>\n",
       "      <td>93.992349</td>\n",
       "      <td>50.614834</td>\n",
       "      <td>37.408702</td>\n",
       "      <td>39.063774</td>\n",
       "      <td>452.063178</td>\n",
       "      <td>68.716581</td>\n",
       "      <td>87.959292</td>\n",
       "      <td>90.227666</td>\n",
       "      <td>83.641251</td>\n",
       "      <td>43.621778</td>\n",
       "      <td>61.763540</td>\n",
       "      <td>...</td>\n",
       "      <td>69479.208034</td>\n",
       "      <td>36372.572012</td>\n",
       "      <td>140.513839</td>\n",
       "      <td>212.594379</td>\n",
       "      <td>92.070335</td>\n",
       "      <td>99.724427</td>\n",
       "      <td>27.896438</td>\n",
       "      <td>8.952235</td>\n",
       "      <td>92.240002</td>\n",
       "      <td>157349.220331</td>\n",
       "      <td>111.986697</td>\n",
       "      <td>194.449429</td>\n",
       "      <td>186.126193</td>\n",
       "      <td>81.641747</td>\n",
       "      <td>10.871523</td>\n",
       "      <td>1.041127</td>\n",
       "      <td>1.010276</td>\n",
       "      <td>1.048963</td>\n",
       "      <td>73.708843</td>\n",
       "      <td>76.050073</td>\n",
       "      <td>19.354114</td>\n",
       "      <td>0.344208</td>\n",
       "      <td>Andromeda IX</td>\n",
       "      <td>18.507721</td>\n",
       "      <td>3.467922</td>\n",
       "    </tr>\n",
       "    <tr>\n",
       "      <th>4</th>\n",
       "      <td>1007012.0</td>\n",
       "      <td>1.079557</td>\n",
       "      <td>94.084539</td>\n",
       "      <td>54785.657264</td>\n",
       "      <td>1.108535</td>\n",
       "      <td>18.597198</td>\n",
       "      <td>14.490411</td>\n",
       "      <td>1.083277</td>\n",
       "      <td>1.054622</td>\n",
       "      <td>82.576470</td>\n",
       "      <td>116.778787</td>\n",
       "      <td>140.257294</td>\n",
       "      <td>34.620256</td>\n",
       "      <td>667.682672</td>\n",
       "      <td>112.951963</td>\n",
       "      <td>47.121834</td>\n",
       "      <td>32.739008</td>\n",
       "      <td>43.097271</td>\n",
       "      <td>513.265103</td>\n",
       "      <td>76.028442</td>\n",
       "      <td>86.776469</td>\n",
       "      <td>95.761096</td>\n",
       "      <td>79.298329</td>\n",
       "      <td>49.113194</td>\n",
       "      <td>41.016252</td>\n",
       "      <td>...</td>\n",
       "      <td>72697.700583</td>\n",
       "      <td>38990.588810</td>\n",
       "      <td>140.356804</td>\n",
       "      <td>388.073381</td>\n",
       "      <td>115.750229</td>\n",
       "      <td>106.108663</td>\n",
       "      <td>31.155735</td>\n",
       "      <td>7.663965</td>\n",
       "      <td>110.414297</td>\n",
       "      <td>106465.699745</td>\n",
       "      <td>118.241451</td>\n",
       "      <td>183.901921</td>\n",
       "      <td>150.143061</td>\n",
       "      <td>111.458212</td>\n",
       "      <td>12.297071</td>\n",
       "      <td>1.000734</td>\n",
       "      <td>1.059392</td>\n",
       "      <td>1.086341</td>\n",
       "      <td>51.594871</td>\n",
       "      <td>65.860127</td>\n",
       "      <td>21.311365</td>\n",
       "      <td>0.325228</td>\n",
       "      <td>Andromeda V</td>\n",
       "      <td>27.662533</td>\n",
       "      <td>3.691628</td>\n",
       "    </tr>\n",
       "  </tbody>\n",
       "</table>\n",
       "<p>5 rows × 79 columns</p>\n",
       "</div>"
      ],
      "text/plain": [
       "   galactic year  existence expectancy index  existence expectancy at birth  \\\n",
       "0      1007012.0                    0.868360                      72.982208   \n",
       "1      1007012.0                    0.772696                      73.590698   \n",
       "2      1007012.0                    0.941941                      81.973436   \n",
       "3      1007012.0                    1.079857                      89.351427   \n",
       "4      1007012.0                    1.079557                      94.084539   \n",
       "\n",
       "   Gross income per capita  Income Index  Expected years of education (galactic years)  \\\n",
       "0             19198.499040      0.700413                                     16.145285   \n",
       "1             18345.350181      0.684405                                     12.167872   \n",
       "2             26708.317145      0.925563                                     18.175905   \n",
       "3             54738.000742      1.016415                                     19.927563   \n",
       "4             54785.657264      1.108535                                     18.597198   \n",
       "\n",
       "   Mean years of education (galactic years)  Intergalactic Development Index (IDI)  \\\n",
       "0                                 11.113581                               0.719579   \n",
       "1                                  7.083681                               0.650826   \n",
       "2                                 13.909442                               0.960263   \n",
       "3                                 12.917355                               1.085718   \n",
       "4                                 14.490411                               1.083277   \n",
       "\n",
       "   Education Index  Intergalactic Development Index (IDI), Rank  \\\n",
       "0         0.825915                                   181.824530   \n",
       "1         0.505962                                   193.187549   \n",
       "2         0.937407                                    74.678611   \n",
       "3         1.010280                                    65.576254   \n",
       "4         1.054622                                    82.576470   \n",
       "\n",
       "   Population using at least basic drinking-water services (%)  \\\n",
       "0                                                    76.357958   \n",
       "1                                                    79.263683   \n",
       "2                                                   122.988241   \n",
       "3                                                   113.617318   \n",
       "4                                                   116.778787   \n",
       "\n",
       "   Population using at least basic sanitation services (%)  Gross capital formation (% of GGP)  \\\n",
       "0                                                71.796137                           71.977811   \n",
       "1                                                71.723281                           37.085742   \n",
       "2                                               136.685519                           34.865297   \n",
       "3                                               144.223620                           27.907457   \n",
       "4                                               140.257294                           34.620256   \n",
       "\n",
       "   Population, total (millions)  Population, urban (%)  \\\n",
       "0                    819.245976              72.269765   \n",
       "1                    849.398477              53.465398   \n",
       "2                    712.914221              93.116852   \n",
       "3                    994.869334              93.992349   \n",
       "4                    667.682672             112.951963   \n",
       "\n",
       "   Mortality rate, under-five (per 1,000 live births)  \\\n",
       "0                                          113.394831   \n",
       "1                                          139.090298   \n",
       "2                                           59.810528   \n",
       "3                                           50.614834   \n",
       "4                                           47.121834   \n",
       "\n",
       "   Mortality rate, infant (per 1,000 live births)  \\\n",
       "0                                       75.983899   \n",
       "1                                       88.145153   \n",
       "2                                       34.960991   \n",
       "3                                       37.408702   \n",
       "4                                       32.739008   \n",
       "\n",
       "   Old age dependency ratio (old age (65 and older) per 100 creatures (ages 15-64))  \\\n",
       "0                                                                         12.851245   \n",
       "1                                                                         14.152255   \n",
       "2                                                                         31.242181   \n",
       "3                                                                         39.063774   \n",
       "4                                                                         43.097271   \n",
       "\n",
       "   Population, ages 15–64 (millions)  Population, ages 65 and older (millions)  \\\n",
       "0                         426.589757                                 59.793499   \n",
       "1                         496.779346                                 57.583581   \n",
       "2                         435.976780                                 54.971127   \n",
       "3                         452.063178                                 68.716581   \n",
       "4                         513.265103                                 76.028442   \n",
       "\n",
       "   Life expectancy at birth, male (galactic years)  \\\n",
       "0                                        73.206969   \n",
       "1                                        68.021732   \n",
       "2                                        78.814709   \n",
       "3                                        87.959292   \n",
       "4                                        86.776469   \n",
       "\n",
       "   Life expectancy at birth, female (galactic years)  Population, under age 5 (millions)  \\\n",
       "0                                          79.051548                           80.144699   \n",
       "1                                          74.795340                           73.158109   \n",
       "2                                          87.318457                           54.861556   \n",
       "3                                          90.227666                           83.641251   \n",
       "4                                          95.761096                           79.298329   \n",
       "\n",
       "   Young age (0-14) dependency ratio (per 100 creatures ages 15-64)  \\\n",
       "0                                                         87.255770   \n",
       "1                                                         89.776748   \n",
       "2                                                         51.049333   \n",
       "3                                                         43.621778   \n",
       "4                                                         49.113194   \n",
       "\n",
       "   Adolescent birth rate (births per 1,000 female creatures ages 15-19)  ...  \\\n",
       "0                                                             77.624057  ...   \n",
       "1                                                            124.050371  ...   \n",
       "2                                                             72.544281  ...   \n",
       "3                                                             61.763540  ...   \n",
       "4                                                             41.016252  ...   \n",
       "\n",
       "   Estimated gross galactic income per capita, male  \\\n",
       "0                                               NaN   \n",
       "1                                      19268.820517   \n",
       "2                                      46130.422627   \n",
       "3                                      69479.208034   \n",
       "4                                      72697.700583   \n",
       "\n",
       "   Estimated gross galactic income per capita, female  \\\n",
       "0                                                 NaN   \n",
       "1                                        12931.719986   \n",
       "2                                        29804.266408   \n",
       "3                                        36372.572012   \n",
       "4                                        38990.588810   \n",
       "\n",
       "   Rural population with access to electricity (%)  \\\n",
       "0                                       102.306960   \n",
       "1                                        99.189863   \n",
       "2                                       133.499902   \n",
       "3                                       140.513839   \n",
       "4                                       140.356804   \n",
       "\n",
       "   Domestic credit provided by financial sector (% of GGP)  \\\n",
       "0                                                      NaN   \n",
       "1                                                77.742674   \n",
       "2                                               112.410524   \n",
       "3                                               212.594379   \n",
       "4                                               388.073381   \n",
       "\n",
       "   Population with at least some secondary education, female (% ages 25 and older)  \\\n",
       "0                                                                              NaN   \n",
       "1                                                                        54.263456   \n",
       "2                                                                       110.028144   \n",
       "3                                                                        92.070335   \n",
       "4                                                                       115.750229   \n",
       "\n",
       "   Population with at least some secondary education, male (% ages 25 and older)  \\\n",
       "0                                                                            NaN   \n",
       "1                                                                      69.496155   \n",
       "2                                                                     112.483100   \n",
       "3                                                                      99.724427   \n",
       "4                                                                     106.108663   \n",
       "\n",
       "   Gross fixed capital formation (% of GGP)  Remittances, inflows (% of GGP)  \\\n",
       "0                                 75.084941                        16.383957   \n",
       "1                                 38.331603                         9.435519   \n",
       "2                                 29.294321                         9.716045   \n",
       "3                                 27.896438                         8.952235   \n",
       "4                                 31.155735                         7.663965   \n",
       "\n",
       "   Population with at least some secondary education (% ages 25 and older)  \\\n",
       "0                                                                      NaN   \n",
       "1                                                                62.266114   \n",
       "2                                                               124.671861   \n",
       "3                                                                92.240002   \n",
       "4                                                               110.414297   \n",
       "\n",
       "   Intergalactic inbound tourists (thousands)  \\\n",
       "0                                92046.182973   \n",
       "1                                92843.780990   \n",
       "2                                98471.178149   \n",
       "3                               157349.220331   \n",
       "4                               106465.699745   \n",
       "\n",
       "   Gross enrolment ratio, primary (% of primary under-age population)  \\\n",
       "0                                                          129.047095   \n",
       "1                                                          131.408452   \n",
       "2                                                          117.291927   \n",
       "3                                                          111.986697   \n",
       "4                                                          118.241451   \n",
       "\n",
       "   Respiratory disease incidence (per 100,000 people)  \\\n",
       "0                                          578.672958   \n",
       "1                                          429.753270   \n",
       "2                                          216.424101   \n",
       "3                                          194.449429   \n",
       "4                                          183.901921   \n",
       "\n",
       "   Interstellar phone subscriptions (per 100 people)  \\\n",
       "0                                          70.150003   \n",
       "1                                         104.910863   \n",
       "2                                         152.699066   \n",
       "3                                         186.126193   \n",
       "4                                         150.143061   \n",
       "\n",
       "   Interstellar Data Net users, total (% of population)  Current health expenditure (% of GGP)  \\\n",
       "0                                             39.261197                              11.067889   \n",
       "1                                             34.341097                               6.029590   \n",
       "2                                             89.310138                              10.114774   \n",
       "3                                             81.641747                              10.871523   \n",
       "4                                            111.458212                              12.297071   \n",
       "\n",
       "   Intergalactic Development Index (IDI), female  Intergalactic Development Index (IDI), male  \\\n",
       "0                                            NaN                                          NaN   \n",
       "1                                       0.673039                                     0.714560   \n",
       "2                                       0.975232                                     0.949269   \n",
       "3                                       1.041127                                     1.010276   \n",
       "4                                       1.000734                                     1.059392   \n",
       "\n",
       "   Gender Development Index (GDI)  Intergalactic Development Index (IDI), female, Rank  \\\n",
       "0                             NaN                                                  NaN   \n",
       "1                        0.976994                                           147.451303   \n",
       "2                        1.078944                                            91.321283   \n",
       "3                        1.048963                                            73.708843   \n",
       "4                        1.086341                                            51.594871   \n",
       "\n",
       "   Intergalactic Development Index (IDI), male, Rank  Adjusted net savings   \\\n",
       "0                                                NaN                    NaN   \n",
       "1                                         164.334975               6.673241   \n",
       "2                                          80.725039              16.251653   \n",
       "3                                          76.050073              19.354114   \n",
       "4                                          65.860127              21.311365   \n",
       "\n",
       "   Gender Inequality Index (GII)                  galaxy  Private galaxy capital flows (% of GGP)  \\\n",
       "0                            NaN  Andromeda Galaxy (M31)                                32.163414   \n",
       "1                       0.687616             Andromeda I                                30.668839   \n",
       "2                       0.467704           Andromeda III                                25.648367   \n",
       "3                       0.344208            Andromeda IX                                18.507721   \n",
       "4                       0.325228             Andromeda V                                27.662533   \n",
       "\n",
       "   Creature Immunodeficiency Disease prevalence, adult (% ages 15-49), total  \n",
       "0                                                                        NaN  \n",
       "1                                                                   5.784397  \n",
       "2                                                                   3.641324  \n",
       "3                                                                   3.467922  \n",
       "4                                                                   3.691628  \n",
       "\n",
       "[5 rows x 79 columns]"
      ]
     },
     "execution_count": 3,
     "metadata": {},
     "output_type": "execute_result"
    }
   ],
   "source": [
    "test = pd.read_csv('./outputs/imputed_test_mf.csv')                \n",
    "m, n = test.shape\n",
    "print('Data Frame: {} x {}'.format(m,n))                \n",
    "test.head()"
   ]
  },
  {
   "cell_type": "code",
   "execution_count": 144,
   "metadata": {},
   "outputs": [
    {
     "data": {
      "text/html": [
       "<div>\n",
       "<style scoped>\n",
       "    .dataframe tbody tr th:only-of-type {\n",
       "        vertical-align: middle;\n",
       "    }\n",
       "\n",
       "    .dataframe tbody tr th {\n",
       "        vertical-align: top;\n",
       "    }\n",
       "\n",
       "    .dataframe thead th {\n",
       "        text-align: right;\n",
       "    }\n",
       "</style>\n",
       "<table border=\"1\" class=\"dataframe\">\n",
       "  <thead>\n",
       "    <tr style=\"text-align: right;\">\n",
       "      <th></th>\n",
       "      <th>Index</th>\n",
       "      <th>y_pred</th>\n",
       "      <th>opt_pred</th>\n",
       "      <th>eei</th>\n",
       "      <th>p_increase</th>\n",
       "      <th>p_increase2</th>\n",
       "    </tr>\n",
       "  </thead>\n",
       "  <tbody>\n",
       "    <tr>\n",
       "      <th>0</th>\n",
       "      <td>0</td>\n",
       "      <td>0.041248</td>\n",
       "      <td>0</td>\n",
       "      <td>0.868360</td>\n",
       "      <td>5.971077</td>\n",
       "      <td>35.653766</td>\n",
       "    </tr>\n",
       "    <tr>\n",
       "      <th>1</th>\n",
       "      <td>1</td>\n",
       "      <td>0.046107</td>\n",
       "      <td>0</td>\n",
       "      <td>0.772696</td>\n",
       "      <td>5.880488</td>\n",
       "      <td>34.580138</td>\n",
       "    </tr>\n",
       "    <tr>\n",
       "      <th>2</th>\n",
       "      <td>2</td>\n",
       "      <td>0.114819</td>\n",
       "      <td>0</td>\n",
       "      <td>0.941941</td>\n",
       "      <td>5.080892</td>\n",
       "      <td>25.815461</td>\n",
       "    </tr>\n",
       "    <tr>\n",
       "      <th>3</th>\n",
       "      <td>3</td>\n",
       "      <td>0.177866</td>\n",
       "      <td>0</td>\n",
       "      <td>1.079857</td>\n",
       "      <td>4.672029</td>\n",
       "      <td>21.827850</td>\n",
       "    </tr>\n",
       "    <tr>\n",
       "      <th>4</th>\n",
       "      <td>4</td>\n",
       "      <td>0.224418</td>\n",
       "      <td>0</td>\n",
       "      <td>1.079557</td>\n",
       "      <td>4.450649</td>\n",
       "      <td>19.808277</td>\n",
       "    </tr>\n",
       "    <tr>\n",
       "      <th>...</th>\n",
       "      <td>...</td>\n",
       "      <td>...</td>\n",
       "      <td>...</td>\n",
       "      <td>...</td>\n",
       "      <td>...</td>\n",
       "      <td>...</td>\n",
       "    </tr>\n",
       "    <tr>\n",
       "      <th>885</th>\n",
       "      <td>885</td>\n",
       "      <td>0.040630</td>\n",
       "      <td>0</td>\n",
       "      <td>0.850609</td>\n",
       "      <td>5.983221</td>\n",
       "      <td>35.798930</td>\n",
       "    </tr>\n",
       "    <tr>\n",
       "      <th>886</th>\n",
       "      <td>886</td>\n",
       "      <td>0.053313</td>\n",
       "      <td>0</td>\n",
       "      <td>0.808027</td>\n",
       "      <td>5.759666</td>\n",
       "      <td>33.173747</td>\n",
       "    </tr>\n",
       "    <tr>\n",
       "      <th>887</th>\n",
       "      <td>887</td>\n",
       "      <td>0.062798</td>\n",
       "      <td>0</td>\n",
       "      <td>1.012209</td>\n",
       "      <td>5.620070</td>\n",
       "      <td>31.585187</td>\n",
       "    </tr>\n",
       "    <tr>\n",
       "      <th>888</th>\n",
       "      <td>888</td>\n",
       "      <td>0.040166</td>\n",
       "      <td>0</td>\n",
       "      <td>0.704373</td>\n",
       "      <td>5.992420</td>\n",
       "      <td>35.909100</td>\n",
       "    </tr>\n",
       "    <tr>\n",
       "      <th>889</th>\n",
       "      <td>889</td>\n",
       "      <td>0.040298</td>\n",
       "      <td>0</td>\n",
       "      <td>0.771783</td>\n",
       "      <td>5.989784</td>\n",
       "      <td>35.877511</td>\n",
       "    </tr>\n",
       "  </tbody>\n",
       "</table>\n",
       "<p>890 rows × 6 columns</p>\n",
       "</div>"
      ],
      "text/plain": [
       "     Index    y_pred  opt_pred       eei  p_increase  p_increase2\n",
       "0        0  0.041248         0  0.868360    5.971077    35.653766\n",
       "1        1  0.046107         0  0.772696    5.880488    34.580138\n",
       "2        2  0.114819         0  0.941941    5.080892    25.815461\n",
       "3        3  0.177866         0  1.079857    4.672029    21.827850\n",
       "4        4  0.224418         0  1.079557    4.450649    19.808277\n",
       "..     ...       ...       ...       ...         ...          ...\n",
       "885    885  0.040630         0  0.850609    5.983221    35.798930\n",
       "886    886  0.053313         0  0.808027    5.759666    33.173747\n",
       "887    887  0.062798         0  1.012209    5.620070    31.585187\n",
       "888    888  0.040166         0  0.704373    5.992420    35.909100\n",
       "889    889  0.040298         0  0.771783    5.989784    35.877511\n",
       "\n",
       "[890 rows x 6 columns]"
      ]
     },
     "execution_count": 144,
     "metadata": {},
     "output_type": "execute_result"
    }
   ],
   "source": [
    "# RMSE Train: 0.001800391617117943\n",
    "# RMSE Valid: 0.052504038023260875\n",
    "\n",
    "preds = pd.read_csv('../modeling/outputs/y_pred_lgbm_mf_0525val.csv')\n",
    "preds['opt_pred'] = 0\n",
    "preds['eei'] = test['existence expectancy index']\n",
    "preds['p_increase'] = -np.log(preds['y_pred'] + 0.01) + 3\n",
    "preds['p_increase2'] = preds['p_increase'] ** 2\n",
    "preds"
   ]
  },
  {
   "cell_type": "markdown",
   "metadata": {},
   "source": [
    "### Optimization\n",
    "\n",
    "We will try to maximize sum of likely increase index for all galaxies, which for one galaxy is described as follows:\n",
    "\n",
    "    Likely increase in the Index = extra energy * Potential for increase in the Index ** 2 / 1000\n",
    "\n",
    "with respect to the following constraints.\n",
    "\n",
    "* in total there are 50000 zillion DSML available for allocation\n",
    "* no galaxy should be allocated more than 100 zillion DSML or less than 0 zillion DSML\n",
    "* galaxies with low existence expectancy index below 0.7 should be allocated at least 10% of the total energy available"
   ]
  },
  {
   "cell_type": "code",
   "execution_count": 255,
   "metadata": {},
   "outputs": [],
   "source": [
    "def total_likely_increase(opt_pred, p_sqr):\n",
    "    return sum((opt_pred * p_sqr**2) / 1000)\n",
    "\n",
    "\n",
    "def optimize(data_frame, alpha_low=10, alpha_high=1, steps=100, max_proximity=3):\n",
    "    max_energy = 50000\n",
    "    galaxy_lower_bound = 0\n",
    "    galaxy_upper_bound = 100\n",
    "    low_end_upper_eei = 0.7\n",
    "    low_end_galaxy_min_energy = 5000\n",
    "    \n",
    "    totals = [0]\n",
    "    low_end_energies = [0]\n",
    "#     data_frame['opt_pred'] = max_energy / data_frame.shape[0] - 1\n",
    "    data_frame['opt_pred'] = np.random.uniform(0,0.1,size=data_frame.shape[0])\n",
    "    \n",
    "    low_end = data_frame.loc[data_frame['eei'] < low_end_upper_eei].copy()\n",
    "    high_end = data_frame.loc[data_frame['eei'] >= low_end_upper_eei].copy()\n",
    "    \n",
    "#     dLE = low_end['p_increase2'] / 1000\n",
    "#     dHE = high_end['p_increase2'] / 1000\n",
    "    \n",
    "    dLE = (1/1000)*(1/low_end['opt_pred'] + np.log(low_end['p_increase2']))\n",
    "    dHE = (1/1000)*(1/high_end['opt_pred'] + np.log(high_end['p_increase2']))\n",
    "    \n",
    "    for i in range(steps):\n",
    "        low_end_energy = low_end['opt_pred'].sum()\n",
    "        high_end_energy = high_end['opt_pred'].sum()\n",
    "        total_energy = low_end_energy + high_end_energy\n",
    "        \n",
    "        if total_energy>(max_energy - max_proximity):\n",
    "            print('Stopping... Total Iterations:', i)\n",
    "            break\n",
    "            \n",
    "        if low_end_energy == low_end_energies[-1]:\n",
    "            print('Stopping... Total Iterations:', i)\n",
    "            break\n",
    "        else:\n",
    "            low_end_energies.append(low_end_energy)\n",
    "        \n",
    "        \n",
    "        low_end['opt_pred'] = (low_end['opt_pred'] + alpha_low*np.exp(dLE)).clip(0,100)\n",
    "        high_end['opt_pred'] = (high_end['opt_pred'] + alpha_high*np.exp(dHE)).clip(0,100) \n",
    "        \n",
    "        low_end_increase = total_likely_increase(low_end['opt_pred'], low_end['p_increase2'])\n",
    "        high_end_increase = total_likely_increase(high_end['opt_pred'], high_end['p_increase2'])\n",
    "        total_increase = low_end_increase + high_end_increase\n",
    "        \n",
    "        \n",
    "        print(f\"Sum of Likely Increase: {total_increase:.3f}\\tLow end energy: {low_end_energy:.3f}\\t\"\n",
    "              f\"Total energy: {total_energy:.3f}\")\n",
    "        totals.append(total_increase)\n",
    "    \n",
    "    resulting_df = low_end.append(high_end, ignore_index=False)\n",
    "    resulting_df.reset_index(drop=True, inplace=True)\n",
    "    totals.remove(0)\n",
    "    print(f\"Max value: {max(totals):.3f}\")\n",
    "    return totals, resulting_df\n"
   ]
  },
  {
   "cell_type": "code",
   "execution_count": 280,
   "metadata": {
    "scrolled": true
   },
   "outputs": [
    {
     "name": "stdout",
     "output_type": "stream",
     "text": [
      "Sum of Likely Increase: 1035.176\tLow end energy: 2.660\tTotal energy: 43.459\n",
      "Sum of Likely Increase: 1956.457\tLow end energy: 119.294\tTotal energy: 1086.216\n",
      "Sum of Likely Increase: 2874.775\tLow end energy: 235.928\tTotal energy: 2028.973\n",
      "Sum of Likely Increase: 3766.256\tLow end energy: 352.562\tTotal energy: 2968.303\n",
      "Sum of Likely Increase: 4657.737\tLow end energy: 469.197\tTotal energy: 3876.585\n",
      "Sum of Likely Increase: 5549.218\tLow end energy: 585.831\tTotal energy: 4784.867\n",
      "Sum of Likely Increase: 6440.699\tLow end energy: 702.465\tTotal energy: 5693.148\n",
      "Sum of Likely Increase: 7332.180\tLow end energy: 819.099\tTotal energy: 6601.430\n",
      "Sum of Likely Increase: 8223.661\tLow end energy: 935.734\tTotal energy: 7509.712\n",
      "Sum of Likely Increase: 9115.142\tLow end energy: 1052.368\tTotal energy: 8417.993\n",
      "Sum of Likely Increase: 10006.623\tLow end energy: 1169.002\tTotal energy: 9326.275\n",
      "Sum of Likely Increase: 10898.104\tLow end energy: 1285.636\tTotal energy: 10234.556\n",
      "Sum of Likely Increase: 11789.585\tLow end energy: 1402.270\tTotal energy: 11142.838\n",
      "Sum of Likely Increase: 12681.066\tLow end energy: 1518.905\tTotal energy: 12051.120\n",
      "Sum of Likely Increase: 13572.547\tLow end energy: 1635.539\tTotal energy: 12959.401\n",
      "Sum of Likely Increase: 14464.028\tLow end energy: 1752.173\tTotal energy: 13867.683\n",
      "Sum of Likely Increase: 15350.833\tLow end energy: 1868.807\tTotal energy: 14775.965\n",
      "Sum of Likely Increase: 16234.654\tLow end energy: 1985.441\tTotal energy: 15680.522\n",
      "Sum of Likely Increase: 17118.474\tLow end energy: 2102.076\tTotal energy: 16582.702\n",
      "Sum of Likely Increase: 18002.295\tLow end energy: 2218.710\tTotal energy: 17484.882\n",
      "Sum of Likely Increase: 18886.116\tLow end energy: 2335.344\tTotal energy: 18387.062\n",
      "Sum of Likely Increase: 19769.937\tLow end energy: 2451.978\tTotal energy: 19289.242\n",
      "Sum of Likely Increase: 20653.757\tLow end energy: 2568.613\tTotal energy: 20191.423\n",
      "Sum of Likely Increase: 21537.578\tLow end energy: 2685.247\tTotal energy: 21093.603\n",
      "Sum of Likely Increase: 22421.399\tLow end energy: 2801.881\tTotal energy: 21995.783\n",
      "Sum of Likely Increase: 23305.220\tLow end energy: 2918.515\tTotal energy: 22897.963\n",
      "Sum of Likely Increase: 24189.040\tLow end energy: 3035.149\tTotal energy: 23800.144\n",
      "Sum of Likely Increase: 25072.861\tLow end energy: 3151.784\tTotal energy: 24702.324\n",
      "Sum of Likely Increase: 25956.682\tLow end energy: 3268.418\tTotal energy: 25604.504\n",
      "Sum of Likely Increase: 26840.502\tLow end energy: 3385.052\tTotal energy: 26506.684\n",
      "Sum of Likely Increase: 27724.323\tLow end energy: 3501.686\tTotal energy: 27408.864\n",
      "Sum of Likely Increase: 28608.144\tLow end energy: 3618.321\tTotal energy: 28311.045\n",
      "Sum of Likely Increase: 29491.965\tLow end energy: 3734.955\tTotal energy: 29213.225\n",
      "Sum of Likely Increase: 30375.528\tLow end energy: 3851.589\tTotal energy: 30115.405\n",
      "Sum of Likely Increase: 31254.376\tLow end energy: 3968.026\tTotal energy: 31017.388\n",
      "Sum of Likely Increase: 32130.806\tLow end energy: 4081.713\tTotal energy: 31915.704\n",
      "Sum of Likely Increase: 33006.185\tLow end energy: 4195.401\tTotal energy: 32812.054\n",
      "Sum of Likely Increase: 33879.437\tLow end energy: 4309.088\tTotal energy: 33706.283\n",
      "Sum of Likely Increase: 34749.076\tLow end energy: 4421.674\tTotal energy: 34598.235\n",
      "Sum of Likely Increase: 35618.026\tLow end energy: 4532.701\tTotal energy: 35486.519\n",
      "Sum of Likely Increase: 36483.735\tLow end energy: 4643.189\tTotal energy: 36374.264\n",
      "Sum of Likely Increase: 37347.902\tLow end energy: 4751.703\tTotal energy: 37259.254\n",
      "Sum of Likely Increase: 38212.070\tLow end energy: 4860.216\tTotal energy: 38142.566\n",
      "Sum of Likely Increase: 39076.237\tLow end energy: 4968.730\tTotal energy: 39025.879\n",
      "Sum of Likely Increase: 39940.404\tLow end energy: 5077.243\tTotal energy: 39909.191\n",
      "Sum of Likely Increase: 40804.572\tLow end energy: 5185.756\tTotal energy: 40792.503\n",
      "Sum of Likely Increase: 41667.257\tLow end energy: 5294.270\tTotal energy: 41675.816\n",
      "Sum of Likely Increase: 42526.893\tLow end energy: 5402.783\tTotal energy: 42557.853\n",
      "Sum of Likely Increase: 43383.101\tLow end energy: 5509.778\tTotal energy: 43437.492\n",
      "Sum of Likely Increase: 44237.774\tLow end energy: 5614.094\tTotal energy: 44314.452\n",
      "Sum of Likely Increase: 45092.065\tLow end energy: 5718.409\tTotal energy: 45189.784\n",
      "Sum of Likely Increase: 45946.356\tLow end energy: 5822.724\tTotal energy: 46064.711\n",
      "Sum of Likely Increase: 46794.506\tLow end energy: 5927.039\tTotal energy: 46939.638\n",
      "Sum of Likely Increase: 47637.779\tLow end energy: 6026.563\tTotal energy: 47809.773\n",
      "Sum of Likely Increase: 48477.370\tLow end energy: 6122.285\tTotal energy: 48676.107\n",
      "Sum of Likely Increase: 49313.256\tLow end energy: 6215.965\tTotal energy: 49539.478\n",
      "Stopping... Total Iterations: 56\n",
      "Max value: 49313.256\n"
     ]
    }
   ],
   "source": [
    "sums, res_df = optimize(preds, alpha_low=1.6, alpha_high=0.9, steps=5000)"
   ]
  },
  {
   "cell_type": "code",
   "execution_count": 281,
   "metadata": {},
   "outputs": [
    {
     "data": {
      "application/vnd.plotly.v1+json": {
       "config": {
        "plotlyServerURL": "https://plot.ly"
       },
       "data": [
        {
         "hovertemplate": "index=%{x}<br>sum_likely_increase=%{y}<extra></extra>",
         "legendgroup": "",
         "marker": {
          "color": "#636efa",
          "symbol": "circle"
         },
         "mode": "markers",
         "name": "",
         "showlegend": false,
         "type": "scatter",
         "x": [
          0,
          1,
          2,
          3,
          4,
          5,
          6,
          7,
          8,
          9,
          10,
          11,
          12,
          13,
          14,
          15,
          16,
          17,
          18,
          19,
          20,
          21,
          22,
          23,
          24,
          25,
          26,
          27,
          28,
          29,
          30,
          31,
          32,
          33,
          34,
          35,
          36,
          37,
          38,
          39,
          40,
          41,
          42,
          43,
          44,
          45,
          46,
          47,
          48,
          49,
          50,
          51,
          52,
          53,
          54,
          55
         ],
         "xaxis": "x",
         "y": [
          1035.1762855640895,
          1956.4567461456418,
          2874.7747029987463,
          3766.2557566013547,
          4657.736810203959,
          5549.217863806563,
          6440.6989174091805,
          7332.1799710117775,
          8223.661024614394,
          9115.142078217003,
          10006.623131819619,
          10898.104185422213,
          11789.58523902482,
          12681.066292627442,
          13572.547346230058,
          14464.02839983264,
          15350.833053365517,
          16234.653770363508,
          17118.474487361484,
          18002.295204359492,
          18886.115921357472,
          19769.936638355477,
          20653.757355353482,
          21537.578072351436,
          22421.39878934944,
          23305.219506347403,
          24189.04022334543,
          25072.860940343387,
          25956.68165734136,
          26840.50237433934,
          27724.323091337363,
          28608.143808335328,
          29491.9645253333,
          30375.52817390755,
          31254.376230032365,
          32130.805620625164,
          33006.185181917754,
          33879.436617888474,
          34749.0755098119,
          35618.02639210792,
          36483.73512122193,
          37347.902400683684,
          38212.0696801454,
          39076.23695960718,
          39940.40423906897,
          40804.571518530734,
          41667.25738887183,
          42526.89315714792,
          43383.10110739731,
          44237.77417117854,
          45092.065007253324,
          45946.35584332814,
          46794.50640854772,
          47637.77881589295,
          48477.37033921379,
          49313.25592196904
         ],
         "yaxis": "y"
        }
       ],
       "layout": {
        "legend": {
         "tracegroupgap": 0
        },
        "margin": {
         "t": 60
        },
        "template": {
         "data": {
          "bar": [
           {
            "error_x": {
             "color": "#2a3f5f"
            },
            "error_y": {
             "color": "#2a3f5f"
            },
            "marker": {
             "line": {
              "color": "#E5ECF6",
              "width": 0.5
             }
            },
            "type": "bar"
           }
          ],
          "barpolar": [
           {
            "marker": {
             "line": {
              "color": "#E5ECF6",
              "width": 0.5
             }
            },
            "type": "barpolar"
           }
          ],
          "carpet": [
           {
            "aaxis": {
             "endlinecolor": "#2a3f5f",
             "gridcolor": "white",
             "linecolor": "white",
             "minorgridcolor": "white",
             "startlinecolor": "#2a3f5f"
            },
            "baxis": {
             "endlinecolor": "#2a3f5f",
             "gridcolor": "white",
             "linecolor": "white",
             "minorgridcolor": "white",
             "startlinecolor": "#2a3f5f"
            },
            "type": "carpet"
           }
          ],
          "choropleth": [
           {
            "colorbar": {
             "outlinewidth": 0,
             "ticks": ""
            },
            "type": "choropleth"
           }
          ],
          "contour": [
           {
            "colorbar": {
             "outlinewidth": 0,
             "ticks": ""
            },
            "colorscale": [
             [
              0,
              "#0d0887"
             ],
             [
              0.1111111111111111,
              "#46039f"
             ],
             [
              0.2222222222222222,
              "#7201a8"
             ],
             [
              0.3333333333333333,
              "#9c179e"
             ],
             [
              0.4444444444444444,
              "#bd3786"
             ],
             [
              0.5555555555555556,
              "#d8576b"
             ],
             [
              0.6666666666666666,
              "#ed7953"
             ],
             [
              0.7777777777777778,
              "#fb9f3a"
             ],
             [
              0.8888888888888888,
              "#fdca26"
             ],
             [
              1,
              "#f0f921"
             ]
            ],
            "type": "contour"
           }
          ],
          "contourcarpet": [
           {
            "colorbar": {
             "outlinewidth": 0,
             "ticks": ""
            },
            "type": "contourcarpet"
           }
          ],
          "heatmap": [
           {
            "colorbar": {
             "outlinewidth": 0,
             "ticks": ""
            },
            "colorscale": [
             [
              0,
              "#0d0887"
             ],
             [
              0.1111111111111111,
              "#46039f"
             ],
             [
              0.2222222222222222,
              "#7201a8"
             ],
             [
              0.3333333333333333,
              "#9c179e"
             ],
             [
              0.4444444444444444,
              "#bd3786"
             ],
             [
              0.5555555555555556,
              "#d8576b"
             ],
             [
              0.6666666666666666,
              "#ed7953"
             ],
             [
              0.7777777777777778,
              "#fb9f3a"
             ],
             [
              0.8888888888888888,
              "#fdca26"
             ],
             [
              1,
              "#f0f921"
             ]
            ],
            "type": "heatmap"
           }
          ],
          "heatmapgl": [
           {
            "colorbar": {
             "outlinewidth": 0,
             "ticks": ""
            },
            "colorscale": [
             [
              0,
              "#0d0887"
             ],
             [
              0.1111111111111111,
              "#46039f"
             ],
             [
              0.2222222222222222,
              "#7201a8"
             ],
             [
              0.3333333333333333,
              "#9c179e"
             ],
             [
              0.4444444444444444,
              "#bd3786"
             ],
             [
              0.5555555555555556,
              "#d8576b"
             ],
             [
              0.6666666666666666,
              "#ed7953"
             ],
             [
              0.7777777777777778,
              "#fb9f3a"
             ],
             [
              0.8888888888888888,
              "#fdca26"
             ],
             [
              1,
              "#f0f921"
             ]
            ],
            "type": "heatmapgl"
           }
          ],
          "histogram": [
           {
            "marker": {
             "colorbar": {
              "outlinewidth": 0,
              "ticks": ""
             }
            },
            "type": "histogram"
           }
          ],
          "histogram2d": [
           {
            "colorbar": {
             "outlinewidth": 0,
             "ticks": ""
            },
            "colorscale": [
             [
              0,
              "#0d0887"
             ],
             [
              0.1111111111111111,
              "#46039f"
             ],
             [
              0.2222222222222222,
              "#7201a8"
             ],
             [
              0.3333333333333333,
              "#9c179e"
             ],
             [
              0.4444444444444444,
              "#bd3786"
             ],
             [
              0.5555555555555556,
              "#d8576b"
             ],
             [
              0.6666666666666666,
              "#ed7953"
             ],
             [
              0.7777777777777778,
              "#fb9f3a"
             ],
             [
              0.8888888888888888,
              "#fdca26"
             ],
             [
              1,
              "#f0f921"
             ]
            ],
            "type": "histogram2d"
           }
          ],
          "histogram2dcontour": [
           {
            "colorbar": {
             "outlinewidth": 0,
             "ticks": ""
            },
            "colorscale": [
             [
              0,
              "#0d0887"
             ],
             [
              0.1111111111111111,
              "#46039f"
             ],
             [
              0.2222222222222222,
              "#7201a8"
             ],
             [
              0.3333333333333333,
              "#9c179e"
             ],
             [
              0.4444444444444444,
              "#bd3786"
             ],
             [
              0.5555555555555556,
              "#d8576b"
             ],
             [
              0.6666666666666666,
              "#ed7953"
             ],
             [
              0.7777777777777778,
              "#fb9f3a"
             ],
             [
              0.8888888888888888,
              "#fdca26"
             ],
             [
              1,
              "#f0f921"
             ]
            ],
            "type": "histogram2dcontour"
           }
          ],
          "mesh3d": [
           {
            "colorbar": {
             "outlinewidth": 0,
             "ticks": ""
            },
            "type": "mesh3d"
           }
          ],
          "parcoords": [
           {
            "line": {
             "colorbar": {
              "outlinewidth": 0,
              "ticks": ""
             }
            },
            "type": "parcoords"
           }
          ],
          "pie": [
           {
            "automargin": true,
            "type": "pie"
           }
          ],
          "scatter": [
           {
            "marker": {
             "colorbar": {
              "outlinewidth": 0,
              "ticks": ""
             }
            },
            "type": "scatter"
           }
          ],
          "scatter3d": [
           {
            "line": {
             "colorbar": {
              "outlinewidth": 0,
              "ticks": ""
             }
            },
            "marker": {
             "colorbar": {
              "outlinewidth": 0,
              "ticks": ""
             }
            },
            "type": "scatter3d"
           }
          ],
          "scattercarpet": [
           {
            "marker": {
             "colorbar": {
              "outlinewidth": 0,
              "ticks": ""
             }
            },
            "type": "scattercarpet"
           }
          ],
          "scattergeo": [
           {
            "marker": {
             "colorbar": {
              "outlinewidth": 0,
              "ticks": ""
             }
            },
            "type": "scattergeo"
           }
          ],
          "scattergl": [
           {
            "marker": {
             "colorbar": {
              "outlinewidth": 0,
              "ticks": ""
             }
            },
            "type": "scattergl"
           }
          ],
          "scattermapbox": [
           {
            "marker": {
             "colorbar": {
              "outlinewidth": 0,
              "ticks": ""
             }
            },
            "type": "scattermapbox"
           }
          ],
          "scatterpolar": [
           {
            "marker": {
             "colorbar": {
              "outlinewidth": 0,
              "ticks": ""
             }
            },
            "type": "scatterpolar"
           }
          ],
          "scatterpolargl": [
           {
            "marker": {
             "colorbar": {
              "outlinewidth": 0,
              "ticks": ""
             }
            },
            "type": "scatterpolargl"
           }
          ],
          "scatterternary": [
           {
            "marker": {
             "colorbar": {
              "outlinewidth": 0,
              "ticks": ""
             }
            },
            "type": "scatterternary"
           }
          ],
          "surface": [
           {
            "colorbar": {
             "outlinewidth": 0,
             "ticks": ""
            },
            "colorscale": [
             [
              0,
              "#0d0887"
             ],
             [
              0.1111111111111111,
              "#46039f"
             ],
             [
              0.2222222222222222,
              "#7201a8"
             ],
             [
              0.3333333333333333,
              "#9c179e"
             ],
             [
              0.4444444444444444,
              "#bd3786"
             ],
             [
              0.5555555555555556,
              "#d8576b"
             ],
             [
              0.6666666666666666,
              "#ed7953"
             ],
             [
              0.7777777777777778,
              "#fb9f3a"
             ],
             [
              0.8888888888888888,
              "#fdca26"
             ],
             [
              1,
              "#f0f921"
             ]
            ],
            "type": "surface"
           }
          ],
          "table": [
           {
            "cells": {
             "fill": {
              "color": "#EBF0F8"
             },
             "line": {
              "color": "white"
             }
            },
            "header": {
             "fill": {
              "color": "#C8D4E3"
             },
             "line": {
              "color": "white"
             }
            },
            "type": "table"
           }
          ]
         },
         "layout": {
          "annotationdefaults": {
           "arrowcolor": "#2a3f5f",
           "arrowhead": 0,
           "arrowwidth": 1
          },
          "coloraxis": {
           "colorbar": {
            "outlinewidth": 0,
            "ticks": ""
           }
          },
          "colorscale": {
           "diverging": [
            [
             0,
             "#8e0152"
            ],
            [
             0.1,
             "#c51b7d"
            ],
            [
             0.2,
             "#de77ae"
            ],
            [
             0.3,
             "#f1b6da"
            ],
            [
             0.4,
             "#fde0ef"
            ],
            [
             0.5,
             "#f7f7f7"
            ],
            [
             0.6,
             "#e6f5d0"
            ],
            [
             0.7,
             "#b8e186"
            ],
            [
             0.8,
             "#7fbc41"
            ],
            [
             0.9,
             "#4d9221"
            ],
            [
             1,
             "#276419"
            ]
           ],
           "sequential": [
            [
             0,
             "#0d0887"
            ],
            [
             0.1111111111111111,
             "#46039f"
            ],
            [
             0.2222222222222222,
             "#7201a8"
            ],
            [
             0.3333333333333333,
             "#9c179e"
            ],
            [
             0.4444444444444444,
             "#bd3786"
            ],
            [
             0.5555555555555556,
             "#d8576b"
            ],
            [
             0.6666666666666666,
             "#ed7953"
            ],
            [
             0.7777777777777778,
             "#fb9f3a"
            ],
            [
             0.8888888888888888,
             "#fdca26"
            ],
            [
             1,
             "#f0f921"
            ]
           ],
           "sequentialminus": [
            [
             0,
             "#0d0887"
            ],
            [
             0.1111111111111111,
             "#46039f"
            ],
            [
             0.2222222222222222,
             "#7201a8"
            ],
            [
             0.3333333333333333,
             "#9c179e"
            ],
            [
             0.4444444444444444,
             "#bd3786"
            ],
            [
             0.5555555555555556,
             "#d8576b"
            ],
            [
             0.6666666666666666,
             "#ed7953"
            ],
            [
             0.7777777777777778,
             "#fb9f3a"
            ],
            [
             0.8888888888888888,
             "#fdca26"
            ],
            [
             1,
             "#f0f921"
            ]
           ]
          },
          "colorway": [
           "#636efa",
           "#EF553B",
           "#00cc96",
           "#ab63fa",
           "#FFA15A",
           "#19d3f3",
           "#FF6692",
           "#B6E880",
           "#FF97FF",
           "#FECB52"
          ],
          "font": {
           "color": "#2a3f5f"
          },
          "geo": {
           "bgcolor": "white",
           "lakecolor": "white",
           "landcolor": "#E5ECF6",
           "showlakes": true,
           "showland": true,
           "subunitcolor": "white"
          },
          "hoverlabel": {
           "align": "left"
          },
          "hovermode": "closest",
          "mapbox": {
           "style": "light"
          },
          "paper_bgcolor": "white",
          "plot_bgcolor": "#E5ECF6",
          "polar": {
           "angularaxis": {
            "gridcolor": "white",
            "linecolor": "white",
            "ticks": ""
           },
           "bgcolor": "#E5ECF6",
           "radialaxis": {
            "gridcolor": "white",
            "linecolor": "white",
            "ticks": ""
           }
          },
          "scene": {
           "xaxis": {
            "backgroundcolor": "#E5ECF6",
            "gridcolor": "white",
            "gridwidth": 2,
            "linecolor": "white",
            "showbackground": true,
            "ticks": "",
            "zerolinecolor": "white"
           },
           "yaxis": {
            "backgroundcolor": "#E5ECF6",
            "gridcolor": "white",
            "gridwidth": 2,
            "linecolor": "white",
            "showbackground": true,
            "ticks": "",
            "zerolinecolor": "white"
           },
           "zaxis": {
            "backgroundcolor": "#E5ECF6",
            "gridcolor": "white",
            "gridwidth": 2,
            "linecolor": "white",
            "showbackground": true,
            "ticks": "",
            "zerolinecolor": "white"
           }
          },
          "shapedefaults": {
           "line": {
            "color": "#2a3f5f"
           }
          },
          "ternary": {
           "aaxis": {
            "gridcolor": "white",
            "linecolor": "white",
            "ticks": ""
           },
           "baxis": {
            "gridcolor": "white",
            "linecolor": "white",
            "ticks": ""
           },
           "bgcolor": "#E5ECF6",
           "caxis": {
            "gridcolor": "white",
            "linecolor": "white",
            "ticks": ""
           }
          },
          "title": {
           "x": 0.05
          },
          "xaxis": {
           "automargin": true,
           "gridcolor": "white",
           "linecolor": "white",
           "ticks": "",
           "title": {
            "standoff": 15
           },
           "zerolinecolor": "white",
           "zerolinewidth": 2
          },
          "yaxis": {
           "automargin": true,
           "gridcolor": "white",
           "linecolor": "white",
           "ticks": "",
           "title": {
            "standoff": 15
           },
           "zerolinecolor": "white",
           "zerolinewidth": 2
          }
         }
        },
        "xaxis": {
         "anchor": "y",
         "domain": [
          0,
          1
         ],
         "title": {
          "text": "index"
         }
        },
        "yaxis": {
         "anchor": "x",
         "domain": [
          0,
          1
         ],
         "title": {
          "text": "sum_likely_increase"
         }
        }
       }
      },
      "text/html": [
       "<div>\n",
       "        \n",
       "        \n",
       "            <div id=\"9151b49d-a2b3-4273-bb42-2cf9e890a57b\" class=\"plotly-graph-div\" style=\"height:525px; width:100%;\"></div>\n",
       "            <script type=\"text/javascript\">\n",
       "                require([\"plotly\"], function(Plotly) {\n",
       "                    window.PLOTLYENV=window.PLOTLYENV || {};\n",
       "                    \n",
       "                if (document.getElementById(\"9151b49d-a2b3-4273-bb42-2cf9e890a57b\")) {\n",
       "                    Plotly.newPlot(\n",
       "                        '9151b49d-a2b3-4273-bb42-2cf9e890a57b',\n",
       "                        [{\"hovertemplate\": \"index=%{x}<br>sum_likely_increase=%{y}<extra></extra>\", \"legendgroup\": \"\", \"marker\": {\"color\": \"#636efa\", \"symbol\": \"circle\"}, \"mode\": \"markers\", \"name\": \"\", \"showlegend\": false, \"type\": \"scatter\", \"x\": [0, 1, 2, 3, 4, 5, 6, 7, 8, 9, 10, 11, 12, 13, 14, 15, 16, 17, 18, 19, 20, 21, 22, 23, 24, 25, 26, 27, 28, 29, 30, 31, 32, 33, 34, 35, 36, 37, 38, 39, 40, 41, 42, 43, 44, 45, 46, 47, 48, 49, 50, 51, 52, 53, 54, 55], \"xaxis\": \"x\", \"y\": [1035.1762855640895, 1956.4567461456418, 2874.7747029987463, 3766.2557566013547, 4657.736810203959, 5549.217863806563, 6440.6989174091805, 7332.1799710117775, 8223.661024614394, 9115.142078217003, 10006.623131819619, 10898.104185422213, 11789.58523902482, 12681.066292627442, 13572.547346230058, 14464.02839983264, 15350.833053365517, 16234.653770363508, 17118.474487361484, 18002.295204359492, 18886.115921357472, 19769.936638355477, 20653.757355353482, 21537.578072351436, 22421.39878934944, 23305.219506347403, 24189.04022334543, 25072.860940343387, 25956.68165734136, 26840.50237433934, 27724.323091337363, 28608.143808335328, 29491.9645253333, 30375.52817390755, 31254.376230032365, 32130.805620625164, 33006.185181917754, 33879.436617888474, 34749.0755098119, 35618.02639210792, 36483.73512122193, 37347.902400683684, 38212.0696801454, 39076.23695960718, 39940.40423906897, 40804.571518530734, 41667.25738887183, 42526.89315714792, 43383.10110739731, 44237.77417117854, 45092.065007253324, 45946.35584332814, 46794.50640854772, 47637.77881589295, 48477.37033921379, 49313.25592196904], \"yaxis\": \"y\"}],\n",
       "                        {\"legend\": {\"tracegroupgap\": 0}, \"margin\": {\"t\": 60}, \"template\": {\"data\": {\"bar\": [{\"error_x\": {\"color\": \"#2a3f5f\"}, \"error_y\": {\"color\": \"#2a3f5f\"}, \"marker\": {\"line\": {\"color\": \"#E5ECF6\", \"width\": 0.5}}, \"type\": \"bar\"}], \"barpolar\": [{\"marker\": {\"line\": {\"color\": \"#E5ECF6\", \"width\": 0.5}}, \"type\": \"barpolar\"}], \"carpet\": [{\"aaxis\": {\"endlinecolor\": \"#2a3f5f\", \"gridcolor\": \"white\", \"linecolor\": \"white\", \"minorgridcolor\": \"white\", \"startlinecolor\": \"#2a3f5f\"}, \"baxis\": {\"endlinecolor\": \"#2a3f5f\", \"gridcolor\": \"white\", \"linecolor\": \"white\", \"minorgridcolor\": \"white\", \"startlinecolor\": \"#2a3f5f\"}, \"type\": \"carpet\"}], \"choropleth\": [{\"colorbar\": {\"outlinewidth\": 0, \"ticks\": \"\"}, \"type\": \"choropleth\"}], \"contour\": [{\"colorbar\": {\"outlinewidth\": 0, \"ticks\": \"\"}, \"colorscale\": [[0.0, \"#0d0887\"], [0.1111111111111111, \"#46039f\"], [0.2222222222222222, \"#7201a8\"], [0.3333333333333333, \"#9c179e\"], [0.4444444444444444, \"#bd3786\"], [0.5555555555555556, \"#d8576b\"], [0.6666666666666666, \"#ed7953\"], [0.7777777777777778, \"#fb9f3a\"], [0.8888888888888888, \"#fdca26\"], [1.0, \"#f0f921\"]], \"type\": \"contour\"}], \"contourcarpet\": [{\"colorbar\": {\"outlinewidth\": 0, \"ticks\": \"\"}, \"type\": \"contourcarpet\"}], \"heatmap\": [{\"colorbar\": {\"outlinewidth\": 0, \"ticks\": \"\"}, \"colorscale\": [[0.0, \"#0d0887\"], [0.1111111111111111, \"#46039f\"], [0.2222222222222222, \"#7201a8\"], [0.3333333333333333, \"#9c179e\"], [0.4444444444444444, \"#bd3786\"], [0.5555555555555556, \"#d8576b\"], [0.6666666666666666, \"#ed7953\"], [0.7777777777777778, \"#fb9f3a\"], [0.8888888888888888, \"#fdca26\"], [1.0, \"#f0f921\"]], \"type\": \"heatmap\"}], \"heatmapgl\": [{\"colorbar\": {\"outlinewidth\": 0, \"ticks\": \"\"}, \"colorscale\": [[0.0, \"#0d0887\"], [0.1111111111111111, \"#46039f\"], [0.2222222222222222, \"#7201a8\"], [0.3333333333333333, \"#9c179e\"], [0.4444444444444444, \"#bd3786\"], [0.5555555555555556, \"#d8576b\"], [0.6666666666666666, \"#ed7953\"], [0.7777777777777778, \"#fb9f3a\"], [0.8888888888888888, \"#fdca26\"], [1.0, \"#f0f921\"]], \"type\": \"heatmapgl\"}], \"histogram\": [{\"marker\": {\"colorbar\": {\"outlinewidth\": 0, \"ticks\": \"\"}}, \"type\": \"histogram\"}], \"histogram2d\": [{\"colorbar\": {\"outlinewidth\": 0, \"ticks\": \"\"}, \"colorscale\": [[0.0, \"#0d0887\"], [0.1111111111111111, \"#46039f\"], [0.2222222222222222, \"#7201a8\"], [0.3333333333333333, \"#9c179e\"], [0.4444444444444444, \"#bd3786\"], [0.5555555555555556, \"#d8576b\"], [0.6666666666666666, \"#ed7953\"], [0.7777777777777778, \"#fb9f3a\"], [0.8888888888888888, \"#fdca26\"], [1.0, \"#f0f921\"]], \"type\": \"histogram2d\"}], \"histogram2dcontour\": [{\"colorbar\": {\"outlinewidth\": 0, \"ticks\": \"\"}, \"colorscale\": [[0.0, \"#0d0887\"], [0.1111111111111111, \"#46039f\"], [0.2222222222222222, \"#7201a8\"], [0.3333333333333333, \"#9c179e\"], [0.4444444444444444, \"#bd3786\"], [0.5555555555555556, \"#d8576b\"], [0.6666666666666666, \"#ed7953\"], [0.7777777777777778, \"#fb9f3a\"], [0.8888888888888888, \"#fdca26\"], [1.0, \"#f0f921\"]], \"type\": \"histogram2dcontour\"}], \"mesh3d\": [{\"colorbar\": {\"outlinewidth\": 0, \"ticks\": \"\"}, \"type\": \"mesh3d\"}], \"parcoords\": [{\"line\": {\"colorbar\": {\"outlinewidth\": 0, \"ticks\": \"\"}}, \"type\": \"parcoords\"}], \"pie\": [{\"automargin\": true, \"type\": \"pie\"}], \"scatter\": [{\"marker\": {\"colorbar\": {\"outlinewidth\": 0, \"ticks\": \"\"}}, \"type\": \"scatter\"}], \"scatter3d\": [{\"line\": {\"colorbar\": {\"outlinewidth\": 0, \"ticks\": \"\"}}, \"marker\": {\"colorbar\": {\"outlinewidth\": 0, \"ticks\": \"\"}}, \"type\": \"scatter3d\"}], \"scattercarpet\": [{\"marker\": {\"colorbar\": {\"outlinewidth\": 0, \"ticks\": \"\"}}, \"type\": \"scattercarpet\"}], \"scattergeo\": [{\"marker\": {\"colorbar\": {\"outlinewidth\": 0, \"ticks\": \"\"}}, \"type\": \"scattergeo\"}], \"scattergl\": [{\"marker\": {\"colorbar\": {\"outlinewidth\": 0, \"ticks\": \"\"}}, \"type\": \"scattergl\"}], \"scattermapbox\": [{\"marker\": {\"colorbar\": {\"outlinewidth\": 0, \"ticks\": \"\"}}, \"type\": \"scattermapbox\"}], \"scatterpolar\": [{\"marker\": {\"colorbar\": {\"outlinewidth\": 0, \"ticks\": \"\"}}, \"type\": \"scatterpolar\"}], \"scatterpolargl\": [{\"marker\": {\"colorbar\": {\"outlinewidth\": 0, \"ticks\": \"\"}}, \"type\": \"scatterpolargl\"}], \"scatterternary\": [{\"marker\": {\"colorbar\": {\"outlinewidth\": 0, \"ticks\": \"\"}}, \"type\": \"scatterternary\"}], \"surface\": [{\"colorbar\": {\"outlinewidth\": 0, \"ticks\": \"\"}, \"colorscale\": [[0.0, \"#0d0887\"], [0.1111111111111111, \"#46039f\"], [0.2222222222222222, \"#7201a8\"], [0.3333333333333333, \"#9c179e\"], [0.4444444444444444, \"#bd3786\"], [0.5555555555555556, \"#d8576b\"], [0.6666666666666666, \"#ed7953\"], [0.7777777777777778, \"#fb9f3a\"], [0.8888888888888888, \"#fdca26\"], [1.0, \"#f0f921\"]], \"type\": \"surface\"}], \"table\": [{\"cells\": {\"fill\": {\"color\": \"#EBF0F8\"}, \"line\": {\"color\": \"white\"}}, \"header\": {\"fill\": {\"color\": \"#C8D4E3\"}, \"line\": {\"color\": \"white\"}}, \"type\": \"table\"}]}, \"layout\": {\"annotationdefaults\": {\"arrowcolor\": \"#2a3f5f\", \"arrowhead\": 0, \"arrowwidth\": 1}, \"coloraxis\": {\"colorbar\": {\"outlinewidth\": 0, \"ticks\": \"\"}}, \"colorscale\": {\"diverging\": [[0, \"#8e0152\"], [0.1, \"#c51b7d\"], [0.2, \"#de77ae\"], [0.3, \"#f1b6da\"], [0.4, \"#fde0ef\"], [0.5, \"#f7f7f7\"], [0.6, \"#e6f5d0\"], [0.7, \"#b8e186\"], [0.8, \"#7fbc41\"], [0.9, \"#4d9221\"], [1, \"#276419\"]], \"sequential\": [[0.0, \"#0d0887\"], [0.1111111111111111, \"#46039f\"], [0.2222222222222222, \"#7201a8\"], [0.3333333333333333, \"#9c179e\"], [0.4444444444444444, \"#bd3786\"], [0.5555555555555556, \"#d8576b\"], [0.6666666666666666, \"#ed7953\"], [0.7777777777777778, \"#fb9f3a\"], [0.8888888888888888, \"#fdca26\"], [1.0, \"#f0f921\"]], \"sequentialminus\": [[0.0, \"#0d0887\"], [0.1111111111111111, \"#46039f\"], [0.2222222222222222, \"#7201a8\"], [0.3333333333333333, \"#9c179e\"], [0.4444444444444444, \"#bd3786\"], [0.5555555555555556, \"#d8576b\"], [0.6666666666666666, \"#ed7953\"], [0.7777777777777778, \"#fb9f3a\"], [0.8888888888888888, \"#fdca26\"], [1.0, \"#f0f921\"]]}, \"colorway\": [\"#636efa\", \"#EF553B\", \"#00cc96\", \"#ab63fa\", \"#FFA15A\", \"#19d3f3\", \"#FF6692\", \"#B6E880\", \"#FF97FF\", \"#FECB52\"], \"font\": {\"color\": \"#2a3f5f\"}, \"geo\": {\"bgcolor\": \"white\", \"lakecolor\": \"white\", \"landcolor\": \"#E5ECF6\", \"showlakes\": true, \"showland\": true, \"subunitcolor\": \"white\"}, \"hoverlabel\": {\"align\": \"left\"}, \"hovermode\": \"closest\", \"mapbox\": {\"style\": \"light\"}, \"paper_bgcolor\": \"white\", \"plot_bgcolor\": \"#E5ECF6\", \"polar\": {\"angularaxis\": {\"gridcolor\": \"white\", \"linecolor\": \"white\", \"ticks\": \"\"}, \"bgcolor\": \"#E5ECF6\", \"radialaxis\": {\"gridcolor\": \"white\", \"linecolor\": \"white\", \"ticks\": \"\"}}, \"scene\": {\"xaxis\": {\"backgroundcolor\": \"#E5ECF6\", \"gridcolor\": \"white\", \"gridwidth\": 2, \"linecolor\": \"white\", \"showbackground\": true, \"ticks\": \"\", \"zerolinecolor\": \"white\"}, \"yaxis\": {\"backgroundcolor\": \"#E5ECF6\", \"gridcolor\": \"white\", \"gridwidth\": 2, \"linecolor\": \"white\", \"showbackground\": true, \"ticks\": \"\", \"zerolinecolor\": \"white\"}, \"zaxis\": {\"backgroundcolor\": \"#E5ECF6\", \"gridcolor\": \"white\", \"gridwidth\": 2, \"linecolor\": \"white\", \"showbackground\": true, \"ticks\": \"\", \"zerolinecolor\": \"white\"}}, \"shapedefaults\": {\"line\": {\"color\": \"#2a3f5f\"}}, \"ternary\": {\"aaxis\": {\"gridcolor\": \"white\", \"linecolor\": \"white\", \"ticks\": \"\"}, \"baxis\": {\"gridcolor\": \"white\", \"linecolor\": \"white\", \"ticks\": \"\"}, \"bgcolor\": \"#E5ECF6\", \"caxis\": {\"gridcolor\": \"white\", \"linecolor\": \"white\", \"ticks\": \"\"}}, \"title\": {\"x\": 0.05}, \"xaxis\": {\"automargin\": true, \"gridcolor\": \"white\", \"linecolor\": \"white\", \"ticks\": \"\", \"title\": {\"standoff\": 15}, \"zerolinecolor\": \"white\", \"zerolinewidth\": 2}, \"yaxis\": {\"automargin\": true, \"gridcolor\": \"white\", \"linecolor\": \"white\", \"ticks\": \"\", \"title\": {\"standoff\": 15}, \"zerolinecolor\": \"white\", \"zerolinewidth\": 2}}}, \"xaxis\": {\"anchor\": \"y\", \"domain\": [0.0, 1.0], \"title\": {\"text\": \"index\"}}, \"yaxis\": {\"anchor\": \"x\", \"domain\": [0.0, 1.0], \"title\": {\"text\": \"sum_likely_increase\"}}},\n",
       "                        {\"responsive\": true}\n",
       "                    ).then(function(){\n",
       "                            \n",
       "var gd = document.getElementById('9151b49d-a2b3-4273-bb42-2cf9e890a57b');\n",
       "var x = new MutationObserver(function (mutations, observer) {{\n",
       "        var display = window.getComputedStyle(gd).display;\n",
       "        if (!display || display === 'none') {{\n",
       "            console.log([gd, 'removed!']);\n",
       "            Plotly.purge(gd);\n",
       "            observer.disconnect();\n",
       "        }}\n",
       "}});\n",
       "\n",
       "// Listen for the removal of the full notebook cells\n",
       "var notebookContainer = gd.closest('#notebook-container');\n",
       "if (notebookContainer) {{\n",
       "    x.observe(notebookContainer, {childList: true});\n",
       "}}\n",
       "\n",
       "// Listen for the clearing of the current output cell\n",
       "var outputEl = gd.closest('.output');\n",
       "if (outputEl) {{\n",
       "    x.observe(outputEl, {childList: true});\n",
       "}}\n",
       "\n",
       "                        })\n",
       "                };\n",
       "                });\n",
       "            </script>\n",
       "        </div>"
      ]
     },
     "metadata": {},
     "output_type": "display_data"
    }
   ],
   "source": [
    "sums = pd.DataFrame(sums, columns=['sum_likely_increase'])\n",
    "px.scatter(sums,\n",
    "           x=sums.index,\n",
    "           y='sum_likely_increase')"
   ]
  },
  {
   "cell_type": "code",
   "execution_count": 252,
   "metadata": {
    "scrolled": true
   },
   "outputs": [
    {
     "data": {
      "text/plain": [
       "50004.089398296026"
      ]
     },
     "execution_count": 252,
     "metadata": {},
     "output_type": "execute_result"
    }
   ],
   "source": [
    "res_df.opt_pred.sum()"
   ]
  },
  {
   "cell_type": "code",
   "execution_count": 147,
   "metadata": {},
   "outputs": [
    {
     "data": {
      "text/html": [
       "<div>\n",
       "<style scoped>\n",
       "    .dataframe tbody tr th:only-of-type {\n",
       "        vertical-align: middle;\n",
       "    }\n",
       "\n",
       "    .dataframe tbody tr th {\n",
       "        vertical-align: top;\n",
       "    }\n",
       "\n",
       "    .dataframe thead th {\n",
       "        text-align: right;\n",
       "    }\n",
       "</style>\n",
       "<table border=\"1\" class=\"dataframe\">\n",
       "  <thead>\n",
       "    <tr style=\"text-align: right;\">\n",
       "      <th></th>\n",
       "      <th>index</th>\n",
       "      <th>pred</th>\n",
       "      <th>opt_pred</th>\n",
       "    </tr>\n",
       "  </thead>\n",
       "  <tbody>\n",
       "    <tr>\n",
       "      <th>0</th>\n",
       "      <td>7</td>\n",
       "      <td>0.052085</td>\n",
       "      <td>95.459945</td>\n",
       "    </tr>\n",
       "    <tr>\n",
       "      <th>1</th>\n",
       "      <td>8</td>\n",
       "      <td>0.041013</td>\n",
       "      <td>98.244556</td>\n",
       "    </tr>\n",
       "    <tr>\n",
       "      <th>2</th>\n",
       "      <td>12</td>\n",
       "      <td>0.040515</td>\n",
       "      <td>98.385967</td>\n",
       "    </tr>\n",
       "    <tr>\n",
       "      <th>3</th>\n",
       "      <td>27</td>\n",
       "      <td>0.040134</td>\n",
       "      <td>98.495224</td>\n",
       "    </tr>\n",
       "    <tr>\n",
       "      <th>4</th>\n",
       "      <td>36</td>\n",
       "      <td>0.041331</td>\n",
       "      <td>98.154990</td>\n",
       "    </tr>\n",
       "    <tr>\n",
       "      <th>...</th>\n",
       "      <td>...</td>\n",
       "      <td>...</td>\n",
       "      <td>...</td>\n",
       "    </tr>\n",
       "    <tr>\n",
       "      <th>885</th>\n",
       "      <td>885</td>\n",
       "      <td>0.040630</td>\n",
       "      <td>52.301541</td>\n",
       "    </tr>\n",
       "    <tr>\n",
       "      <th>886</th>\n",
       "      <td>886</td>\n",
       "      <td>0.053313</td>\n",
       "      <td>52.512606</td>\n",
       "    </tr>\n",
       "    <tr>\n",
       "      <th>887</th>\n",
       "      <td>887</td>\n",
       "      <td>0.062798</td>\n",
       "      <td>52.640326</td>\n",
       "    </tr>\n",
       "    <tr>\n",
       "      <th>888</th>\n",
       "      <td>888</td>\n",
       "      <td>0.040166</td>\n",
       "      <td>52.292684</td>\n",
       "    </tr>\n",
       "    <tr>\n",
       "      <th>889</th>\n",
       "      <td>889</td>\n",
       "      <td>0.040298</td>\n",
       "      <td>52.295223</td>\n",
       "    </tr>\n",
       "  </tbody>\n",
       "</table>\n",
       "<p>890 rows × 3 columns</p>\n",
       "</div>"
      ],
      "text/plain": [
       "     index      pred   opt_pred\n",
       "0        7  0.052085  95.459945\n",
       "1        8  0.041013  98.244556\n",
       "2       12  0.040515  98.385967\n",
       "3       27  0.040134  98.495224\n",
       "4       36  0.041331  98.154990\n",
       "..     ...       ...        ...\n",
       "885    885  0.040630  52.301541\n",
       "886    886  0.053313  52.512606\n",
       "887    887  0.062798  52.640326\n",
       "888    888  0.040166  52.292684\n",
       "889    889  0.040298  52.295223\n",
       "\n",
       "[890 rows x 3 columns]"
      ]
     },
     "execution_count": 147,
     "metadata": {},
     "output_type": "execute_result"
    }
   ],
   "source": [
    "res_df.drop(['eei', 'p_increase', 'p_increase2'], axis=1, inplace=True)\n",
    "res_df.rename(columns= {\n",
    "    \"Index\": \"index\",\n",
    "    \"y_pred\": \"pred\"\n",
    "}, inplace=True)\n",
    "res_df"
   ]
  },
  {
   "cell_type": "code",
   "execution_count": 148,
   "metadata": {},
   "outputs": [],
   "source": [
    "res_df.to_csv('../../submissions/pending/lgb_val0525.csv', index=False)"
   ]
  },
  {
   "cell_type": "code",
   "execution_count": null,
   "metadata": {},
   "outputs": [],
   "source": []
  },
  {
   "cell_type": "code",
   "execution_count": 282,
   "metadata": {},
   "outputs": [],
   "source": [
    "from scipy.optimize import minimize"
   ]
  },
  {
   "cell_type": "code",
   "execution_count": 354,
   "metadata": {},
   "outputs": [
    {
     "data": {
      "text/html": [
       "<div>\n",
       "<style scoped>\n",
       "    .dataframe tbody tr th:only-of-type {\n",
       "        vertical-align: middle;\n",
       "    }\n",
       "\n",
       "    .dataframe tbody tr th {\n",
       "        vertical-align: top;\n",
       "    }\n",
       "\n",
       "    .dataframe thead th {\n",
       "        text-align: right;\n",
       "    }\n",
       "</style>\n",
       "<table border=\"1\" class=\"dataframe\">\n",
       "  <thead>\n",
       "    <tr style=\"text-align: right;\">\n",
       "      <th></th>\n",
       "      <th>Index</th>\n",
       "      <th>y_pred</th>\n",
       "      <th>opt_pred</th>\n",
       "      <th>eei</th>\n",
       "      <th>p_increase</th>\n",
       "      <th>p_increase2</th>\n",
       "      <th>is_low</th>\n",
       "    </tr>\n",
       "  </thead>\n",
       "  <tbody>\n",
       "    <tr>\n",
       "      <th>0</th>\n",
       "      <td>216</td>\n",
       "      <td>0.041112</td>\n",
       "      <td>0.073707</td>\n",
       "      <td>0.611594</td>\n",
       "      <td>5.973727</td>\n",
       "      <td>35.685410</td>\n",
       "      <td>True</td>\n",
       "    </tr>\n",
       "    <tr>\n",
       "      <th>1</th>\n",
       "      <td>538</td>\n",
       "      <td>0.039145</td>\n",
       "      <td>0.027858</td>\n",
       "      <td>0.589654</td>\n",
       "      <td>6.012981</td>\n",
       "      <td>36.155938</td>\n",
       "      <td>True</td>\n",
       "    </tr>\n",
       "    <tr>\n",
       "      <th>2</th>\n",
       "      <td>625</td>\n",
       "      <td>0.040108</td>\n",
       "      <td>0.075984</td>\n",
       "      <td>0.588274</td>\n",
       "      <td>5.993577</td>\n",
       "      <td>35.922961</td>\n",
       "      <td>True</td>\n",
       "    </tr>\n",
       "    <tr>\n",
       "      <th>3</th>\n",
       "      <td>779</td>\n",
       "      <td>0.037000</td>\n",
       "      <td>0.003654</td>\n",
       "      <td>0.671839</td>\n",
       "      <td>6.057610</td>\n",
       "      <td>36.694633</td>\n",
       "      <td>True</td>\n",
       "    </tr>\n",
       "    <tr>\n",
       "      <th>4</th>\n",
       "      <td>546</td>\n",
       "      <td>0.048877</td>\n",
       "      <td>0.010980</td>\n",
       "      <td>0.659167</td>\n",
       "      <td>5.832300</td>\n",
       "      <td>34.015726</td>\n",
       "      <td>True</td>\n",
       "    </tr>\n",
       "    <tr>\n",
       "      <th>...</th>\n",
       "      <td>...</td>\n",
       "      <td>...</td>\n",
       "      <td>...</td>\n",
       "      <td>...</td>\n",
       "      <td>...</td>\n",
       "      <td>...</td>\n",
       "      <td>...</td>\n",
       "    </tr>\n",
       "    <tr>\n",
       "      <th>885</th>\n",
       "      <td>304</td>\n",
       "      <td>0.174476</td>\n",
       "      <td>0.033861</td>\n",
       "      <td>1.079911</td>\n",
       "      <td>4.690235</td>\n",
       "      <td>21.998309</td>\n",
       "      <td>False</td>\n",
       "    </tr>\n",
       "    <tr>\n",
       "      <th>886</th>\n",
       "      <td>421</td>\n",
       "      <td>0.044880</td>\n",
       "      <td>0.027015</td>\n",
       "      <td>0.925190</td>\n",
       "      <td>5.902608</td>\n",
       "      <td>34.840786</td>\n",
       "      <td>False</td>\n",
       "    </tr>\n",
       "    <tr>\n",
       "      <th>887</th>\n",
       "      <td>420</td>\n",
       "      <td>0.139090</td>\n",
       "      <td>0.077212</td>\n",
       "      <td>1.054838</td>\n",
       "      <td>4.903206</td>\n",
       "      <td>24.041429</td>\n",
       "      <td>False</td>\n",
       "    </tr>\n",
       "    <tr>\n",
       "      <th>888</th>\n",
       "      <td>295</td>\n",
       "      <td>0.040151</td>\n",
       "      <td>0.003364</td>\n",
       "      <td>0.714065</td>\n",
       "      <td>5.992707</td>\n",
       "      <td>35.912538</td>\n",
       "      <td>False</td>\n",
       "    </tr>\n",
       "    <tr>\n",
       "      <th>889</th>\n",
       "      <td>150</td>\n",
       "      <td>0.111167</td>\n",
       "      <td>0.075767</td>\n",
       "      <td>1.024294</td>\n",
       "      <td>5.110586</td>\n",
       "      <td>26.118087</td>\n",
       "      <td>False</td>\n",
       "    </tr>\n",
       "  </tbody>\n",
       "</table>\n",
       "<p>890 rows × 7 columns</p>\n",
       "</div>"
      ],
      "text/plain": [
       "     Index    y_pred  opt_pred       eei  p_increase  p_increase2  is_low\n",
       "0      216  0.041112  0.073707  0.611594    5.973727    35.685410    True\n",
       "1      538  0.039145  0.027858  0.589654    6.012981    36.155938    True\n",
       "2      625  0.040108  0.075984  0.588274    5.993577    35.922961    True\n",
       "3      779  0.037000  0.003654  0.671839    6.057610    36.694633    True\n",
       "4      546  0.048877  0.010980  0.659167    5.832300    34.015726    True\n",
       "..     ...       ...       ...       ...         ...          ...     ...\n",
       "885    304  0.174476  0.033861  1.079911    4.690235    21.998309   False\n",
       "886    421  0.044880  0.027015  0.925190    5.902608    34.840786   False\n",
       "887    420  0.139090  0.077212  1.054838    4.903206    24.041429   False\n",
       "888    295  0.040151  0.003364  0.714065    5.992707    35.912538   False\n",
       "889    150  0.111167  0.075767  1.024294    5.110586    26.118087   False\n",
       "\n",
       "[890 rows x 7 columns]"
      ]
     },
     "execution_count": 354,
     "metadata": {},
     "output_type": "execute_result"
    }
   ],
   "source": [
    "preds['is_low'] = False\n",
    "preds.loc[preds.eei < 0.7, 'is_low'] = True\n",
    "preds.sort_values(by='is_low', ascending=False, inplace=True)\n",
    "preds.reset_index(drop=True, inplace=True)\n",
    "preds"
   ]
  },
  {
   "cell_type": "code",
   "execution_count": 355,
   "metadata": {
    "code_folding": []
   },
   "outputs": [],
   "source": [
    "def neg_total_likely_increase(opt_pred, p_sqr):\n",
    "    return -sum((opt_pred * p_sqr**2) / 1000)\n",
    "\n",
    "\n",
    "def objective(energy, p2):\n",
    "    return neg_total_likely_increase(energy, p2)"
   ]
  },
  {
   "cell_type": "code",
   "execution_count": 357,
   "metadata": {},
   "outputs": [],
   "source": [
    "m = test.shape[0]\n",
    "bounds = [(0,100) for _ in range(m)]\n",
    "\n",
    "# low_p2 = preds.loc[preds['eei'] < 0.7,'p_increase2'].copy().tolist()\n",
    "# high_p2 = preds.loc[preds['eei'] >= 0.7,'p_increase2'].copy().tolist()\n",
    "# m_low = len(low_p2)\n",
    "p2 = preds['p_increase2']\n",
    "\n",
    "cons = (\n",
    "    {\"type\": \"ineq\", \"fun\": lambda x: 50000 - sum(x)},\n",
    "    {\"type\": \"ineq\", \"fun\": lambda x: sum(x[:m_low]) - 5000}\n",
    ")\n",
    "\n",
    "history = minimize(objective, x0=np.zeros(m),\n",
    "                   args=(low_p2, high_p2),\n",
    "                   bounds=bounds, constraints=cons)"
   ]
  },
  {
   "cell_type": "code",
   "execution_count": 358,
   "metadata": {
    "scrolled": true
   },
   "outputs": [
    {
     "name": "stdout",
     "output_type": "stream",
     "text": [
      "50000.000012272554\n"
     ]
    },
    {
     "data": {
      "text/plain": [
       "array([1.00000000e+02, 1.00000000e+02, 1.00000000e+02, 1.00000000e+02,\n",
       "       1.00000000e+02, 1.00000000e+02, 1.00000000e+02, 1.00000000e+02,\n",
       "       1.00000000e+02, 1.00000000e+02, 1.00000000e+02, 1.00000000e+02,\n",
       "       1.00000000e+02, 1.00000000e+02, 1.00000000e+02, 1.00000000e+02,\n",
       "       1.00000000e+02, 1.00000000e+02, 1.00000000e+02, 1.00000000e+02,\n",
       "       1.00000000e+02, 1.00000000e+02, 1.00000000e+02, 1.00000000e+02,\n",
       "       1.00000000e+02, 1.00000000e+02, 1.00000000e+02, 1.00000000e+02,\n",
       "       1.00000000e+02, 1.00000000e+02, 1.00000000e+02, 1.00000000e+02,\n",
       "       1.00000000e+02, 1.00000000e+02, 1.00000000e+02, 1.00000000e+02,\n",
       "       1.00000000e+02, 1.00000000e+02, 1.00000000e+02, 1.00000000e+02,\n",
       "       1.00000000e+02, 1.00000000e+02, 1.00000000e+02, 1.00000000e+02,\n",
       "       1.00000000e+02, 1.00000000e+02, 1.00000000e+02, 1.00000000e+02,\n",
       "       1.00000000e+02, 1.00000000e+02, 1.00000000e+02, 1.00000000e+02,\n",
       "       1.00000000e+02, 1.00000000e+02, 1.00000000e+02, 1.00000000e+02,\n",
       "       1.00000000e+02, 1.00000000e+02, 1.00000000e+02, 1.00000000e+02,\n",
       "       1.00000000e+02, 1.00000000e+02, 1.00000000e+02, 1.00000000e+02,\n",
       "       1.00000000e+02, 1.00000000e+02, 1.00000000e+02, 1.00000000e+02,\n",
       "       2.08157194e-08, 1.00000000e+02, 1.17890101e-08, 1.00000000e+02,\n",
       "       3.07415413e+01, 1.00000000e+02, 2.07637060e-08, 5.37218853e+01,\n",
       "       1.00000000e+02, 1.93329821e-08, 1.00000000e+02, 1.00000000e+02,\n",
       "       8.49992108e+01, 1.00000000e+02, 1.04505654e-08, 2.16667448e-08,\n",
       "       1.00000000e+02, 1.00000000e+02, 1.19725321e-08, 1.00000000e+02,\n",
       "       1.65723217e-08, 8.02678072e+01, 1.00000000e+02, 1.00000000e+02,\n",
       "       2.17447197e-08, 1.00000000e+02, 1.00000000e+02, 2.06685557e-08,\n",
       "       1.00000000e+02, 1.00000000e+02, 1.09073662e-08, 1.00000000e+02,\n",
       "       1.00000000e+02, 1.00000000e+02, 1.00000000e+02, 1.00000000e+02,\n",
       "       1.00000000e+02, 1.00000000e+02, 1.00000000e+02, 1.00000000e+02,\n",
       "       9.09366431e-09, 1.00000000e+02, 2.47862788e-08, 1.32152185e-08,\n",
       "       6.15243308e+01, 2.01015665e-08, 1.00000000e+02, 1.70449368e-08,\n",
       "       1.00000000e+02, 9.33238129e+01, 1.00000000e+02, 1.16641411e-08,\n",
       "       1.00000000e+02, 1.00000000e+02, 8.00659878e-09, 2.65338968e-08,\n",
       "       8.01361219e+01, 1.16606186e-08, 9.86432600e+01, 1.00000000e+02,\n",
       "       9.94734765e-09, 1.00000000e+02, 8.28401342e+00, 1.00000000e+02,\n",
       "       1.00000000e+02, 1.00000000e+02, 1.22321025e-08, 9.30518251e+01,\n",
       "       9.94896354e-09, 1.00000000e+02, 3.62835101e+01, 1.34157847e-08,\n",
       "       1.00548231e-08, 1.88112949e-08, 1.00000000e+02, 1.92636055e-08,\n",
       "       9.95736046e-09, 1.00000000e+02, 1.17368504e-08, 1.00000000e+02,\n",
       "       2.23397690e-08, 1.18647964e-08, 1.00000000e+02, 1.00000000e+02,\n",
       "       1.26613337e-08, 1.00000000e+02, 2.02495416e-08, 1.19236529e-08,\n",
       "       1.92190922e-08, 1.00000000e+02, 1.00000000e+02, 1.00000000e+02,\n",
       "       1.00000000e+02, 1.00000000e+02, 1.89213146e-08, 1.41249955e-08,\n",
       "       1.63581452e+01, 1.17372638e-08, 1.00000000e+02, 1.00000000e+02,\n",
       "       1.68754912e-08, 1.72570328e-08, 1.00000000e+02, 2.31207694e-08,\n",
       "       1.00000000e+02, 1.00000000e+02, 1.11007782e-08, 1.35648088e-08,\n",
       "       1.03879462e-08, 3.10047634e+01, 1.00000000e+02, 1.74370268e-08,\n",
       "       1.00000000e+02, 1.00000000e+02, 7.92104505e-09, 1.00000000e+02,\n",
       "       1.00000000e+02, 1.20495369e-08, 2.60383916e-08, 1.84903754e-08,\n",
       "       1.00000000e+02, 1.00000000e+02, 1.00000000e+02, 1.00337697e-08,\n",
       "       1.00000000e+02, 1.00000000e+02, 9.45903459e-09, 1.00000000e+02,\n",
       "       1.70377216e-08, 1.59657762e-08, 1.64068595e+01, 1.00000000e+02,\n",
       "       5.03264654e+01, 1.17118988e-08, 1.00000000e+02, 1.65283784e-08,\n",
       "       1.00000000e+02, 1.00000000e+02, 1.71053305e-08, 1.16628453e-08,\n",
       "       9.88816466e-09, 1.00000000e+02, 1.00000000e+02, 7.55408330e+01,\n",
       "       1.17908320e-08, 9.29255130e+01, 1.00000000e+02, 1.00000000e+02,\n",
       "       9.35529511e+01, 1.00000000e+02, 2.07447969e-08, 9.94510901e-09,\n",
       "       2.33401516e-08, 1.00000000e+02, 9.95920024e-09, 1.00000000e+02,\n",
       "       2.57115720e-08, 9.88747653e+01, 7.03409691e+01, 6.87727231e+01,\n",
       "       2.18664863e-08, 1.00000000e+02, 1.00000000e+02, 1.78092354e-08,\n",
       "       1.16743996e-08, 1.19334476e-08, 1.00000000e+02, 1.00000000e+02,\n",
       "       1.70052228e-08, 1.00000000e+02, 1.00000000e+02, 1.00000000e+02,\n",
       "       1.42126363e-08, 1.00000000e+02, 1.46349009e+00, 1.00000000e+02,\n",
       "       1.20729046e-08, 1.08445997e-08, 1.00000000e+02, 2.98798366e-08,\n",
       "       1.00000000e+02, 1.00000000e+02, 1.00000000e+02, 1.00000000e+02,\n",
       "       3.14993902e+01, 9.94431136e-09, 2.02673229e-08, 1.00000000e+02,\n",
       "       1.37609716e-08, 1.00000000e+02, 1.00000000e+02, 1.00000000e+02,\n",
       "       1.00000000e+02, 1.00000000e+02, 1.00000000e+02, 1.25359813e-08,\n",
       "       1.00000000e+02, 1.16753102e-08, 9.55752828e-09, 8.47179396e-09,\n",
       "       1.00000000e+02, 1.00000000e+02, 1.00000000e+02, 1.00000000e+02,\n",
       "       1.00000000e+02, 1.00000000e+02, 1.42861405e-08, 2.58365793e+01,\n",
       "       6.98821803e-09, 1.00000000e+02, 1.53593579e+01, 1.81460646e-08,\n",
       "       9.96119549e-09, 8.87642671e+01, 1.12705572e-08, 1.00000000e+02,\n",
       "       1.00000000e+02, 2.37330174e-08, 1.00000000e+02, 2.08376508e-08,\n",
       "       5.65504670e+01, 1.16396373e-08, 1.11990776e-08, 1.18162907e-08,\n",
       "       1.01725786e-08, 2.13016986e-08, 3.38270489e+01, 1.17895982e+01,\n",
       "       1.92060389e-08, 1.71261319e-08, 1.00000000e+02, 1.00000000e+02,\n",
       "       2.23068770e-08, 1.36327307e-08, 1.17148287e-08, 1.85528230e-08,\n",
       "       1.61274943e-08, 1.18765387e-08, 4.22985569e-09, 1.00000000e+02,\n",
       "       1.00000000e+02, 1.00000000e+02, 2.04550870e-08, 1.00000000e+02,\n",
       "       1.00000000e+02, 2.34030519e+01, 1.18904309e-08, 2.04467274e-08,\n",
       "       1.74634901e-08, 1.22354863e-08, 1.01060135e-08, 1.00000000e+02,\n",
       "       1.00000000e+02, 1.80628870e-08, 3.00793222e+01, 1.00000000e+02,\n",
       "       1.18923828e-08, 1.00000000e+02, 1.00000000e+02, 1.00000000e+02,\n",
       "       2.16694548e-08, 1.00000000e+02, 1.00000000e+02, 8.95418090e+01,\n",
       "       9.95337789e-09, 1.83584668e-08, 1.35159468e-08, 1.35642778e-08,\n",
       "       2.06719047e-08, 1.00000000e+02, 1.00000000e+02, 9.93357223e-09,\n",
       "       6.58881299e+01, 1.00000000e+02, 1.00000000e+02, 1.75748735e-08,\n",
       "       1.00000000e+02, 1.00000000e+02, 1.08693649e-08, 1.00000000e+02,\n",
       "       1.81552656e-08, 1.00000000e+02, 1.00000000e+02, 1.00000000e+02,\n",
       "       1.00000000e+02, 1.00000000e+02, 1.00000000e+02, 1.00000000e+02,\n",
       "       1.00000000e+02, 1.00000000e+02, 1.00000000e+02, 1.00000000e+02,\n",
       "       1.19765945e-08, 9.94962573e-09, 2.23626311e-08, 1.69424364e-08,\n",
       "       1.00000000e+02, 9.59785130e-09, 2.28527674e-08, 1.89357530e-08,\n",
       "       1.19692991e-08, 1.00000000e+02, 1.65894172e-08, 1.00000000e+02,\n",
       "       9.95071424e-09, 2.09506229e-08, 9.94982923e-09, 1.23192731e-08,\n",
       "       1.00000000e+02, 1.00000000e+02, 1.92872585e-08, 2.14921022e-08,\n",
       "       1.00000000e+02, 2.08847988e-08, 9.05770895e+01, 1.25216637e-08,\n",
       "       1.72246795e-08, 1.99547711e-08, 1.00000000e+02, 1.35689837e-08,\n",
       "       2.00167014e-08, 1.41247360e-08, 7.32908084e-09, 1.99362663e-08,\n",
       "       1.11117837e+01, 1.00000000e+02, 1.00000000e+02, 1.00000000e+02,\n",
       "       2.99138581e+01, 1.00000000e+02, 1.00000000e+02, 2.06397709e-08,\n",
       "       2.32875794e+01, 9.94346200e-09, 3.78668608e+01, 1.00000000e+02,\n",
       "       2.81780541e-08, 1.00000000e+02, 1.00000000e+02, 1.00000000e+02,\n",
       "       1.00000000e+02, 1.00000000e+02, 1.00000000e+02, 9.23273241e-09,\n",
       "       2.17900780e-08, 9.94533368e-09, 1.00000000e+02, 1.00000000e+02,\n",
       "       1.00000000e+02, 1.00000000e+02, 1.00000000e+02, 6.82591521e+01,\n",
       "       1.00000000e+02, 1.25250083e-08, 1.36697761e-08, 1.00000000e+02,\n",
       "       1.54687558e+01, 9.70695052e-09, 2.99867579e+01, 1.00000000e+02,\n",
       "       1.00000000e+02, 1.70499509e-08, 9.96140945e-09, 1.70109399e-08,\n",
       "       1.00000000e+02, 1.24458535e-08, 1.00000000e+02, 7.94826055e-09,\n",
       "       1.69652751e-08, 7.28123597e+01, 2.08820879e-08, 1.00000000e+02,\n",
       "       1.17056525e-08, 1.00000000e+02, 1.00000000e+02, 1.00000000e+02,\n",
       "       1.00000000e+02, 2.18470471e-08, 1.66605931e-08, 1.19289680e-08,\n",
       "       1.00000000e+02, 1.00000000e+02, 1.00000000e+02, 1.00000000e+02,\n",
       "       1.00000000e+02, 1.00000000e+02, 1.00000000e+02, 9.93145127e-09,\n",
       "       1.00000000e+02, 1.00000000e+02, 1.22225279e-08, 9.96164683e-09,\n",
       "       1.00000000e+02, 9.30811808e-09, 9.21512519e+01, 3.07118745e+01,\n",
       "       1.00000000e+02, 7.93235410e-09, 1.00000000e+02, 1.17382657e-08,\n",
       "       1.17499387e-08, 3.94701231e+01, 1.00000000e+02, 7.90667720e+01,\n",
       "       1.00000000e+02, 1.00000000e+02, 4.15460473e+00, 1.00000000e+02,\n",
       "       1.00000000e+02, 1.17360717e-08, 1.00000000e+02, 1.00000000e+02,\n",
       "       1.16461715e-08, 1.00000000e+02, 1.94818777e-08, 2.05040005e-08,\n",
       "       1.00000000e+02, 1.00000000e+02, 1.22105855e-08, 1.12395583e-08,\n",
       "       6.25902823e-09, 1.00000000e+02, 2.08925129e+01, 1.80429237e+01,\n",
       "       1.00000000e+02, 1.61140594e-08, 2.09551188e-08, 1.16810797e-08,\n",
       "       1.00000000e+02, 1.00000000e+02, 9.93500169e-09, 1.00000000e+02,\n",
       "       1.00000000e+02, 1.00000000e+02, 1.36761488e-08, 1.00000000e+02,\n",
       "       1.00000000e+02, 7.32722265e+01, 1.00000000e+02, 1.00000000e+02,\n",
       "       8.03465884e-09, 1.00000000e+02, 1.00239909e-08, 1.00000000e+02,\n",
       "       1.00000000e+02, 5.17511014e+01, 2.10202980e+01, 1.00000000e+02,\n",
       "       2.99105431e+01, 1.86221292e-08, 1.00000000e+02, 0.00000000e+00,\n",
       "       1.30396840e-08, 1.00000000e+02, 1.94634937e-08, 1.00000000e+02,\n",
       "       1.00000000e+02, 1.00000000e+02, 1.18965973e-08, 1.61617786e-08,\n",
       "       1.69409725e-08, 1.00000000e+02, 9.94756246e-09, 1.00000000e+02,\n",
       "       1.00000000e+02, 2.02347163e-08, 1.00000000e+02, 8.05139103e-09,\n",
       "       1.00000000e+02, 1.00000000e+02, 1.00000000e+02, 1.00000000e+02,\n",
       "       1.18100061e-08, 1.71784177e-08, 1.00000000e+02, 9.94495224e-09,\n",
       "       1.00000000e+02, 1.96641812e-08, 1.69410122e-08, 1.62548355e-08,\n",
       "       2.32357273e-08, 1.18819639e-08, 1.00000000e+02, 1.13503488e-08,\n",
       "       9.71495128e-09, 1.74316395e-08, 1.56727042e-08, 9.95356070e-09,\n",
       "       1.00000000e+02, 1.00000000e+02, 1.68012883e-08, 9.95211183e-09,\n",
       "       1.25923607e-08, 1.00000000e+02, 1.00000000e+02, 1.00000000e+02,\n",
       "       2.16588156e-08, 7.96783900e+01, 1.17233096e-08, 1.00000000e+02,\n",
       "       7.84098249e+01, 8.59660239e-09, 1.17061381e-08, 1.38452869e-08,\n",
       "       1.65606094e-08, 1.00000000e+02, 1.00000000e+02, 1.73949161e-08,\n",
       "       1.00000000e+02, 0.00000000e+00, 1.00000000e+02, 1.67449911e-08,\n",
       "       1.00000000e+02, 1.00000000e+02, 1.98884281e-08, 8.43449040e-09,\n",
       "       1.00000000e+02, 1.16318636e-08, 2.26495044e-08, 8.82116541e+00,\n",
       "       1.19034359e-08, 1.00000000e+02, 2.17063036e-08, 1.00000000e+02,\n",
       "       1.00000000e+02, 1.99148156e-08, 1.00000000e+02, 1.00000000e+02,\n",
       "       1.00000000e+02, 1.00000000e+02, 1.00000000e+02, 1.00000000e+02,\n",
       "       1.00000000e+02, 9.94888437e-09, 8.99813473e-09, 1.00000000e+02,\n",
       "       3.41291386e+01, 1.90364407e-08, 1.00000000e+02, 0.00000000e+00,\n",
       "       9.62562494e-09, 1.00000000e+02, 1.34881016e-08, 1.00000000e+02,\n",
       "       1.00000000e+02, 9.93365241e-09, 1.17933462e-08, 1.00000000e+02,\n",
       "       1.00000000e+02, 1.70588846e-08, 8.65117301e+01, 1.59086843e-08,\n",
       "       1.00000000e+02, 3.69243918e+01, 1.93715022e-08, 1.94559615e-08,\n",
       "       1.00000000e+02, 1.56313945e-08, 1.00000000e+02, 2.13571377e-08,\n",
       "       1.14277850e-08, 1.00000000e+02, 1.00000000e+02, 1.10327930e-08,\n",
       "       1.00000000e+02, 1.18278216e-08, 1.00000000e+02, 1.00000000e+02,\n",
       "       1.00000000e+02, 1.62452291e-08, 1.00000000e+02, 1.17347887e-08,\n",
       "       9.93969905e-09, 1.00000000e+02, 1.00000000e+02, 1.00000000e+02,\n",
       "       1.00000000e+02, 1.42640849e-08, 1.00000000e+02, 1.94225028e-08,\n",
       "       1.59256585e-08, 1.00000000e+02, 1.00000000e+02, 1.35436477e-08,\n",
       "       1.00000000e+02, 1.00000000e+02, 1.00000000e+02, 1.00000000e+02,\n",
       "       1.17853366e-08, 9.06486222e-09, 1.65620694e-08, 1.00000000e+02,\n",
       "       9.69496326e+01, 1.19269987e-08, 1.00000000e+02, 1.65163809e-08,\n",
       "       4.16236824e+01, 7.08760433e+01, 1.00000000e+02, 1.00000000e+02,\n",
       "       7.86785117e-09, 2.15024979e-08, 1.00000000e+02, 6.78634863e+01,\n",
       "       9.57819340e-09, 2.09519852e+01, 1.00000000e+02, 1.00000000e+02,\n",
       "       1.00000000e+02, 1.05102244e+01, 2.05449221e-08, 1.18952518e-08,\n",
       "       1.77794843e-08, 1.69324972e-08, 7.29688003e+01, 1.00000000e+02,\n",
       "       1.00000000e+02, 9.91430025e+01, 1.00000000e+02, 1.92522037e-08,\n",
       "       1.38096511e-08, 1.00000000e+02, 7.79349850e-09, 1.00000000e+02,\n",
       "       9.95800698e-09, 1.20049394e-08, 1.35224477e-08, 5.89885971e+01,\n",
       "       1.09180804e+01, 1.00000000e+02, 2.70887179e-08, 1.00000000e+02,\n",
       "       9.94962437e-09, 1.00000000e+02, 1.00000000e+02, 1.00000000e+02,\n",
       "       1.00000000e+02, 1.00000000e+02, 1.24420373e-08, 2.16385170e-08,\n",
       "       1.18513046e-08, 1.00000000e+02, 1.00000000e+02, 1.17114957e-08,\n",
       "       1.00000000e+02, 9.93954244e-09, 1.00000000e+02, 1.01264790e-08,\n",
       "       1.00000000e+02, 2.13979378e-08, 1.00000000e+02, 1.00000000e+02,\n",
       "       1.00000000e+02, 1.35202327e-08, 9.09250177e-09, 5.39673622e+01,\n",
       "       7.86298142e+01, 1.00000000e+02, 1.00000000e+02, 6.18994338e+01,\n",
       "       1.00000000e+02, 1.00000000e+02, 1.21628812e-08, 2.34547498e-08,\n",
       "       2.10927320e-08, 8.27795453e+01, 1.83851770e-08, 2.08686661e-08,\n",
       "       1.50385894e-08, 1.00000000e+02, 1.00000000e+02, 3.77238059e+01,\n",
       "       1.00000000e+02, 1.00000000e+02, 1.00000000e+02, 1.00000000e+02,\n",
       "       1.00000000e+02, 1.00000000e+02, 1.61421709e-08, 9.94848117e-09,\n",
       "       9.94075352e-09, 1.00000000e+02, 1.00000000e+02, 1.00000000e+02,\n",
       "       1.20001532e-08, 1.38091715e-08, 1.70354254e-08, 2.18252406e-08,\n",
       "       3.16160363e-08, 9.93754840e-09, 1.75513526e-08, 1.95710127e-08,\n",
       "       2.23566944e-08, 1.00000000e+02, 1.00000000e+02, 1.00000000e+02,\n",
       "       1.16479060e-08, 1.17114375e-08, 1.00000000e+02, 1.00000000e+02,\n",
       "       1.00000000e+02, 8.73089426e-09, 1.00000000e+02, 2.16825682e-08,\n",
       "       1.00000000e+02, 1.00000000e+02, 5.34630582e+01, 1.35619630e-08,\n",
       "       1.16495604e-08, 1.00000000e+02, 1.96485845e-08, 2.31428597e-08,\n",
       "       7.47159805e+01, 1.17690864e-08, 1.00000000e+02, 1.17235853e-08,\n",
       "       2.69581951e+01, 1.00000000e+02, 1.04494310e-08, 9.92670190e-09,\n",
       "       1.00000000e+02, 1.71985093e-08, 1.00000000e+02, 2.27419133e-08,\n",
       "       1.00000000e+02, 1.00000000e+02, 8.28455536e+01, 2.02520962e-08,\n",
       "       1.00000000e+02, 3.08135149e+01, 1.54927999e-08, 1.20041664e-08,\n",
       "       1.00000000e+02, 1.00000000e+02, 1.00000000e+02, 3.27826857e+01,\n",
       "       1.00000000e+02, 1.17358905e-08, 1.00000000e+02, 1.00000000e+02,\n",
       "       1.00000000e+02, 2.14085794e-08, 1.00000000e+02, 1.00000000e+02,\n",
       "       1.65708539e-08, 9.96237165e-09, 1.00000000e+02, 1.84533838e-08,\n",
       "       1.00000000e+02, 1.00000000e+02, 6.70665714e+01, 1.00000000e+02,\n",
       "       7.47794586e+01, 1.00000000e+02, 1.00000000e+02, 1.03841941e-08,\n",
       "       1.38811108e-08, 1.00000000e+02, 1.00000000e+02, 1.00000000e+02,\n",
       "       1.00000000e+02, 1.00000000e+02, 1.00000000e+02, 2.88278968e-08,\n",
       "       1.00000000e+02, 1.18222540e-08, 9.95180568e-09, 9.11057962e-09,\n",
       "       2.02385858e-08, 1.00000000e+02, 2.20059204e-08, 1.00000000e+02,\n",
       "       1.00000000e+02, 1.00000000e+02, 1.00000000e+02, 1.75160960e-08,\n",
       "       9.94241441e-09, 1.00000000e+02, 1.23415449e-08, 2.21046717e-08,\n",
       "       1.00000000e+02, 9.03976334e-09, 1.69747957e-08, 9.93715181e-09,\n",
       "       1.00000000e+02, 1.00000000e+02, 2.19888967e-08, 1.00000000e+02,\n",
       "       5.22867623e+01, 2.34575305e-08, 1.91971075e-08, 1.00000000e+02,\n",
       "       1.00000000e+02, 1.00000000e+02, 1.00000000e+02, 1.00000000e+02,\n",
       "       1.00000000e+02, 1.03102892e-08, 7.72753420e+01, 1.15600066e-08,\n",
       "       1.18224082e-08, 2.10344006e-08, 7.99706293e-09, 1.00000000e+02,\n",
       "       1.00000000e+02, 2.03000404e+01, 1.84481336e-08, 1.00000000e+02,\n",
       "       1.00000000e+02, 1.16610061e-08, 1.00000000e+02, 1.00000000e+02,\n",
       "       1.00000000e+02, 6.76324605e+01, 8.60748735e-09, 1.14708168e-08,\n",
       "       1.00000000e+02, 1.16991288e-08, 1.00000000e+02, 1.42722400e-08,\n",
       "       1.00000000e+02, 1.59698186e-08])"
      ]
     },
     "execution_count": 358,
     "metadata": {},
     "output_type": "execute_result"
    }
   ],
   "source": [
    "print(sum(history.x))\n",
    "history.x"
   ]
  },
  {
   "cell_type": "code",
   "execution_count": 360,
   "metadata": {},
   "outputs": [
    {
     "data": {
      "text/plain": [
       "59353.876870683845"
      ]
     },
     "execution_count": 360,
     "metadata": {},
     "output_type": "execute_result"
    }
   ],
   "source": [
    "total_likely_increase(history.x, p2)"
   ]
  },
  {
   "cell_type": "code",
   "execution_count": 364,
   "metadata": {},
   "outputs": [
    {
     "data": {
      "text/html": [
       "<div>\n",
       "<style scoped>\n",
       "    .dataframe tbody tr th:only-of-type {\n",
       "        vertical-align: middle;\n",
       "    }\n",
       "\n",
       "    .dataframe tbody tr th {\n",
       "        vertical-align: top;\n",
       "    }\n",
       "\n",
       "    .dataframe thead th {\n",
       "        text-align: right;\n",
       "    }\n",
       "</style>\n",
       "<table border=\"1\" class=\"dataframe\">\n",
       "  <thead>\n",
       "    <tr style=\"text-align: right;\">\n",
       "      <th></th>\n",
       "      <th>Index</th>\n",
       "      <th>y_pred</th>\n",
       "      <th>opt_pred</th>\n",
       "      <th>eei</th>\n",
       "      <th>p_increase</th>\n",
       "      <th>p_increase2</th>\n",
       "      <th>is_low</th>\n",
       "    </tr>\n",
       "  </thead>\n",
       "  <tbody>\n",
       "    <tr>\n",
       "      <th>0</th>\n",
       "      <td>216</td>\n",
       "      <td>0.041112</td>\n",
       "      <td>1.000000e+02</td>\n",
       "      <td>0.611594</td>\n",
       "      <td>5.973727</td>\n",
       "      <td>35.685410</td>\n",
       "      <td>True</td>\n",
       "    </tr>\n",
       "    <tr>\n",
       "      <th>1</th>\n",
       "      <td>538</td>\n",
       "      <td>0.039145</td>\n",
       "      <td>1.000000e+02</td>\n",
       "      <td>0.589654</td>\n",
       "      <td>6.012981</td>\n",
       "      <td>36.155938</td>\n",
       "      <td>True</td>\n",
       "    </tr>\n",
       "    <tr>\n",
       "      <th>2</th>\n",
       "      <td>625</td>\n",
       "      <td>0.040108</td>\n",
       "      <td>1.000000e+02</td>\n",
       "      <td>0.588274</td>\n",
       "      <td>5.993577</td>\n",
       "      <td>35.922961</td>\n",
       "      <td>True</td>\n",
       "    </tr>\n",
       "    <tr>\n",
       "      <th>3</th>\n",
       "      <td>779</td>\n",
       "      <td>0.037000</td>\n",
       "      <td>1.000000e+02</td>\n",
       "      <td>0.671839</td>\n",
       "      <td>6.057610</td>\n",
       "      <td>36.694633</td>\n",
       "      <td>True</td>\n",
       "    </tr>\n",
       "    <tr>\n",
       "      <th>4</th>\n",
       "      <td>546</td>\n",
       "      <td>0.048877</td>\n",
       "      <td>1.000000e+02</td>\n",
       "      <td>0.659167</td>\n",
       "      <td>5.832300</td>\n",
       "      <td>34.015726</td>\n",
       "      <td>True</td>\n",
       "    </tr>\n",
       "    <tr>\n",
       "      <th>...</th>\n",
       "      <td>...</td>\n",
       "      <td>...</td>\n",
       "      <td>...</td>\n",
       "      <td>...</td>\n",
       "      <td>...</td>\n",
       "      <td>...</td>\n",
       "      <td>...</td>\n",
       "    </tr>\n",
       "    <tr>\n",
       "      <th>885</th>\n",
       "      <td>304</td>\n",
       "      <td>0.174476</td>\n",
       "      <td>1.169913e-08</td>\n",
       "      <td>1.079911</td>\n",
       "      <td>4.690235</td>\n",
       "      <td>21.998309</td>\n",
       "      <td>False</td>\n",
       "    </tr>\n",
       "    <tr>\n",
       "      <th>886</th>\n",
       "      <td>421</td>\n",
       "      <td>0.044880</td>\n",
       "      <td>1.000000e+02</td>\n",
       "      <td>0.925190</td>\n",
       "      <td>5.902608</td>\n",
       "      <td>34.840786</td>\n",
       "      <td>False</td>\n",
       "    </tr>\n",
       "    <tr>\n",
       "      <th>887</th>\n",
       "      <td>420</td>\n",
       "      <td>0.139090</td>\n",
       "      <td>1.427224e-08</td>\n",
       "      <td>1.054838</td>\n",
       "      <td>4.903206</td>\n",
       "      <td>24.041429</td>\n",
       "      <td>False</td>\n",
       "    </tr>\n",
       "    <tr>\n",
       "      <th>888</th>\n",
       "      <td>295</td>\n",
       "      <td>0.040151</td>\n",
       "      <td>1.000000e+02</td>\n",
       "      <td>0.714065</td>\n",
       "      <td>5.992707</td>\n",
       "      <td>35.912538</td>\n",
       "      <td>False</td>\n",
       "    </tr>\n",
       "    <tr>\n",
       "      <th>889</th>\n",
       "      <td>150</td>\n",
       "      <td>0.111167</td>\n",
       "      <td>1.596982e-08</td>\n",
       "      <td>1.024294</td>\n",
       "      <td>5.110586</td>\n",
       "      <td>26.118087</td>\n",
       "      <td>False</td>\n",
       "    </tr>\n",
       "  </tbody>\n",
       "</table>\n",
       "<p>890 rows × 7 columns</p>\n",
       "</div>"
      ],
      "text/plain": [
       "     Index    y_pred      opt_pred       eei  p_increase  p_increase2  is_low\n",
       "0      216  0.041112  1.000000e+02  0.611594    5.973727    35.685410    True\n",
       "1      538  0.039145  1.000000e+02  0.589654    6.012981    36.155938    True\n",
       "2      625  0.040108  1.000000e+02  0.588274    5.993577    35.922961    True\n",
       "3      779  0.037000  1.000000e+02  0.671839    6.057610    36.694633    True\n",
       "4      546  0.048877  1.000000e+02  0.659167    5.832300    34.015726    True\n",
       "..     ...       ...           ...       ...         ...          ...     ...\n",
       "885    304  0.174476  1.169913e-08  1.079911    4.690235    21.998309   False\n",
       "886    421  0.044880  1.000000e+02  0.925190    5.902608    34.840786   False\n",
       "887    420  0.139090  1.427224e-08  1.054838    4.903206    24.041429   False\n",
       "888    295  0.040151  1.000000e+02  0.714065    5.992707    35.912538   False\n",
       "889    150  0.111167  1.596982e-08  1.024294    5.110586    26.118087   False\n",
       "\n",
       "[890 rows x 7 columns]"
      ]
     },
     "execution_count": 364,
     "metadata": {},
     "output_type": "execute_result"
    }
   ],
   "source": [
    "preds['opt_pred'] = history.x\n",
    "preds"
   ]
  }
 ],
 "metadata": {
  "kernelspec": {
   "display_name": "Python 3",
   "language": "python",
   "name": "python3"
  },
  "language_info": {
   "codemirror_mode": {
    "name": "ipython",
    "version": 3
   },
   "file_extension": ".py",
   "mimetype": "text/x-python",
   "name": "python",
   "nbconvert_exporter": "python",
   "pygments_lexer": "ipython3",
   "version": "3.8.0"
  },
  "notify_time": "5"
 },
 "nbformat": 4,
 "nbformat_minor": 4
}
