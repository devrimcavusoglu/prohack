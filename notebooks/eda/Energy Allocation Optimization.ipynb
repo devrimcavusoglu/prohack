{
 "cells": [
  {
   "cell_type": "code",
   "execution_count": 1,
   "metadata": {},
   "outputs": [
    {
     "data": {
      "text/html": [
       "        <script type=\"text/javascript\">\n",
       "        window.PlotlyConfig = {MathJaxConfig: 'local'};\n",
       "        if (window.MathJax) {MathJax.Hub.Config({SVG: {font: \"STIX-Web\"}});}\n",
       "        if (typeof require !== 'undefined') {\n",
       "        require.undef(\"plotly\");\n",
       "        requirejs.config({\n",
       "            paths: {\n",
       "                'plotly': ['https://cdn.plot.ly/plotly-latest.min']\n",
       "            }\n",
       "        });\n",
       "        require(['plotly'], function(Plotly) {\n",
       "            window._Plotly = Plotly;\n",
       "        });\n",
       "        }\n",
       "        </script>\n",
       "        "
      ]
     },
     "metadata": {},
     "output_type": "display_data"
    }
   ],
   "source": [
    "# Scientific libraries\t\t              \n",
    "import numpy as np\t\t              \n",
    "import scipy as sp\t\t              \n",
    "import pandas as pd\t\t              \n",
    "import json\t\t              \n",
    "import missingno as msno\t\t              \n",
    "\n",
    "# Loading Plotting Modules\t\t              \n",
    "import matplotlib\t\t              \n",
    "import matplotlib.pyplot as plt\t\t              \n",
    "import seaborn as sns\t\t              \n",
    "%matplotlib inline\t\t              \n",
    "import chart_studio.plotly as py\t\t              \n",
    "import plotly.figure_factory as ff\t\t              \n",
    "import plotly.graph_objects as go\t\t              \n",
    "import plotly.express as px\t\t              \n",
    "from plotly.offline import download_plotlyjs, init_notebook_mode, plot, iplot\t\t              \n",
    "init_notebook_mode(connected=True)\t\t              \n",
    "\t\t              \n",
    "import os\t\t              \n",
    "import gc"
   ]
  },
  {
   "cell_type": "code",
   "execution_count": 2,
   "metadata": {},
   "outputs": [],
   "source": [
    "# Setting Data Frame Options                      \n",
    "pd.set_option('display.max_rows', 40)                      \n",
    "pd.set_option('display.max_columns', 50)                      \n",
    "pd.set_option('display.width', 100)                      \n",
    "pd.set_option('display.max_colwidth', 100)                      \n",
    "\n",
    "# Setting Plot Configuration                      \n",
    "sns.set(rc={'figure.figsize':(19,11)}, style = 'white')"
   ]
  },
  {
   "cell_type": "code",
   "execution_count": 3,
   "metadata": {},
   "outputs": [
    {
     "name": "stdout",
     "output_type": "stream",
     "text": [
      "Data Frame: 890 x 79\n"
     ]
    },
    {
     "data": {
      "text/html": [
       "<div>\n",
       "<style scoped>\n",
       "    .dataframe tbody tr th:only-of-type {\n",
       "        vertical-align: middle;\n",
       "    }\n",
       "\n",
       "    .dataframe tbody tr th {\n",
       "        vertical-align: top;\n",
       "    }\n",
       "\n",
       "    .dataframe thead th {\n",
       "        text-align: right;\n",
       "    }\n",
       "</style>\n",
       "<table border=\"1\" class=\"dataframe\">\n",
       "  <thead>\n",
       "    <tr style=\"text-align: right;\">\n",
       "      <th></th>\n",
       "      <th>galactic year</th>\n",
       "      <th>existence expectancy index</th>\n",
       "      <th>existence expectancy at birth</th>\n",
       "      <th>Gross income per capita</th>\n",
       "      <th>Income Index</th>\n",
       "      <th>Expected years of education (galactic years)</th>\n",
       "      <th>Mean years of education (galactic years)</th>\n",
       "      <th>Intergalactic Development Index (IDI)</th>\n",
       "      <th>Education Index</th>\n",
       "      <th>Intergalactic Development Index (IDI), Rank</th>\n",
       "      <th>Population using at least basic drinking-water services (%)</th>\n",
       "      <th>Population using at least basic sanitation services (%)</th>\n",
       "      <th>Gross capital formation (% of GGP)</th>\n",
       "      <th>Population, total (millions)</th>\n",
       "      <th>Population, urban (%)</th>\n",
       "      <th>Mortality rate, under-five (per 1,000 live births)</th>\n",
       "      <th>Mortality rate, infant (per 1,000 live births)</th>\n",
       "      <th>Old age dependency ratio (old age (65 and older) per 100 creatures (ages 15-64))</th>\n",
       "      <th>Population, ages 15–64 (millions)</th>\n",
       "      <th>Population, ages 65 and older (millions)</th>\n",
       "      <th>Life expectancy at birth, male (galactic years)</th>\n",
       "      <th>Life expectancy at birth, female (galactic years)</th>\n",
       "      <th>Population, under age 5 (millions)</th>\n",
       "      <th>Young age (0-14) dependency ratio (per 100 creatures ages 15-64)</th>\n",
       "      <th>Adolescent birth rate (births per 1,000 female creatures ages 15-19)</th>\n",
       "      <th>...</th>\n",
       "      <th>Estimated gross galactic income per capita, male</th>\n",
       "      <th>Estimated gross galactic income per capita, female</th>\n",
       "      <th>Rural population with access to electricity (%)</th>\n",
       "      <th>Domestic credit provided by financial sector (% of GGP)</th>\n",
       "      <th>Population with at least some secondary education, female (% ages 25 and older)</th>\n",
       "      <th>Population with at least some secondary education, male (% ages 25 and older)</th>\n",
       "      <th>Gross fixed capital formation (% of GGP)</th>\n",
       "      <th>Remittances, inflows (% of GGP)</th>\n",
       "      <th>Population with at least some secondary education (% ages 25 and older)</th>\n",
       "      <th>Intergalactic inbound tourists (thousands)</th>\n",
       "      <th>Gross enrolment ratio, primary (% of primary under-age population)</th>\n",
       "      <th>Respiratory disease incidence (per 100,000 people)</th>\n",
       "      <th>Interstellar phone subscriptions (per 100 people)</th>\n",
       "      <th>Interstellar Data Net users, total (% of population)</th>\n",
       "      <th>Current health expenditure (% of GGP)</th>\n",
       "      <th>Intergalactic Development Index (IDI), female</th>\n",
       "      <th>Intergalactic Development Index (IDI), male</th>\n",
       "      <th>Gender Development Index (GDI)</th>\n",
       "      <th>Intergalactic Development Index (IDI), female, Rank</th>\n",
       "      <th>Intergalactic Development Index (IDI), male, Rank</th>\n",
       "      <th>Adjusted net savings</th>\n",
       "      <th>Gender Inequality Index (GII)</th>\n",
       "      <th>galaxy</th>\n",
       "      <th>Private galaxy capital flows (% of GGP)</th>\n",
       "      <th>Creature Immunodeficiency Disease prevalence, adult (% ages 15-49), total</th>\n",
       "    </tr>\n",
       "  </thead>\n",
       "  <tbody>\n",
       "    <tr>\n",
       "      <th>0</th>\n",
       "      <td>1007012.0</td>\n",
       "      <td>0.868360</td>\n",
       "      <td>72.982208</td>\n",
       "      <td>19198.499040</td>\n",
       "      <td>0.700413</td>\n",
       "      <td>16.145285</td>\n",
       "      <td>11.113581</td>\n",
       "      <td>0.719579</td>\n",
       "      <td>0.825915</td>\n",
       "      <td>181.824530</td>\n",
       "      <td>76.357958</td>\n",
       "      <td>71.796137</td>\n",
       "      <td>71.977811</td>\n",
       "      <td>819.245976</td>\n",
       "      <td>72.269765</td>\n",
       "      <td>113.394831</td>\n",
       "      <td>75.983899</td>\n",
       "      <td>12.851245</td>\n",
       "      <td>426.589757</td>\n",
       "      <td>59.793499</td>\n",
       "      <td>73.206969</td>\n",
       "      <td>79.051548</td>\n",
       "      <td>80.144699</td>\n",
       "      <td>87.255770</td>\n",
       "      <td>77.624057</td>\n",
       "      <td>...</td>\n",
       "      <td>NaN</td>\n",
       "      <td>NaN</td>\n",
       "      <td>102.306960</td>\n",
       "      <td>NaN</td>\n",
       "      <td>NaN</td>\n",
       "      <td>NaN</td>\n",
       "      <td>75.084941</td>\n",
       "      <td>16.383957</td>\n",
       "      <td>NaN</td>\n",
       "      <td>92046.182973</td>\n",
       "      <td>129.047095</td>\n",
       "      <td>578.672958</td>\n",
       "      <td>70.150003</td>\n",
       "      <td>39.261197</td>\n",
       "      <td>11.067889</td>\n",
       "      <td>NaN</td>\n",
       "      <td>NaN</td>\n",
       "      <td>NaN</td>\n",
       "      <td>NaN</td>\n",
       "      <td>NaN</td>\n",
       "      <td>NaN</td>\n",
       "      <td>NaN</td>\n",
       "      <td>Andromeda Galaxy (M31)</td>\n",
       "      <td>32.163414</td>\n",
       "      <td>NaN</td>\n",
       "    </tr>\n",
       "    <tr>\n",
       "      <th>1</th>\n",
       "      <td>1007012.0</td>\n",
       "      <td>0.772696</td>\n",
       "      <td>73.590698</td>\n",
       "      <td>18345.350181</td>\n",
       "      <td>0.684405</td>\n",
       "      <td>12.167872</td>\n",
       "      <td>7.083681</td>\n",
       "      <td>0.650826</td>\n",
       "      <td>0.505962</td>\n",
       "      <td>193.187549</td>\n",
       "      <td>79.263683</td>\n",
       "      <td>71.723281</td>\n",
       "      <td>37.085742</td>\n",
       "      <td>849.398477</td>\n",
       "      <td>53.465398</td>\n",
       "      <td>139.090298</td>\n",
       "      <td>88.145153</td>\n",
       "      <td>14.152255</td>\n",
       "      <td>496.779346</td>\n",
       "      <td>57.583581</td>\n",
       "      <td>68.021732</td>\n",
       "      <td>74.795340</td>\n",
       "      <td>73.158109</td>\n",
       "      <td>89.776748</td>\n",
       "      <td>124.050371</td>\n",
       "      <td>...</td>\n",
       "      <td>19268.820517</td>\n",
       "      <td>12931.719986</td>\n",
       "      <td>99.189863</td>\n",
       "      <td>77.742674</td>\n",
       "      <td>54.263456</td>\n",
       "      <td>69.496155</td>\n",
       "      <td>38.331603</td>\n",
       "      <td>9.435519</td>\n",
       "      <td>62.266114</td>\n",
       "      <td>92843.780990</td>\n",
       "      <td>131.408452</td>\n",
       "      <td>429.753270</td>\n",
       "      <td>104.910863</td>\n",
       "      <td>34.341097</td>\n",
       "      <td>6.029590</td>\n",
       "      <td>0.673039</td>\n",
       "      <td>0.714560</td>\n",
       "      <td>0.976994</td>\n",
       "      <td>147.451303</td>\n",
       "      <td>164.334975</td>\n",
       "      <td>6.673241</td>\n",
       "      <td>0.687616</td>\n",
       "      <td>Andromeda I</td>\n",
       "      <td>30.668839</td>\n",
       "      <td>5.784397</td>\n",
       "    </tr>\n",
       "    <tr>\n",
       "      <th>2</th>\n",
       "      <td>1007012.0</td>\n",
       "      <td>0.941941</td>\n",
       "      <td>81.973436</td>\n",
       "      <td>26708.317145</td>\n",
       "      <td>0.925563</td>\n",
       "      <td>18.175905</td>\n",
       "      <td>13.909442</td>\n",
       "      <td>0.960263</td>\n",
       "      <td>0.937407</td>\n",
       "      <td>74.678611</td>\n",
       "      <td>122.988241</td>\n",
       "      <td>136.685519</td>\n",
       "      <td>34.865297</td>\n",
       "      <td>712.914221</td>\n",
       "      <td>93.116852</td>\n",
       "      <td>59.810528</td>\n",
       "      <td>34.960991</td>\n",
       "      <td>31.242181</td>\n",
       "      <td>435.976780</td>\n",
       "      <td>54.971127</td>\n",
       "      <td>78.814709</td>\n",
       "      <td>87.318457</td>\n",
       "      <td>54.861556</td>\n",
       "      <td>51.049333</td>\n",
       "      <td>72.544281</td>\n",
       "      <td>...</td>\n",
       "      <td>46130.422627</td>\n",
       "      <td>29804.266408</td>\n",
       "      <td>133.499902</td>\n",
       "      <td>112.410524</td>\n",
       "      <td>110.028144</td>\n",
       "      <td>112.483100</td>\n",
       "      <td>29.294321</td>\n",
       "      <td>9.716045</td>\n",
       "      <td>124.671861</td>\n",
       "      <td>98471.178149</td>\n",
       "      <td>117.291927</td>\n",
       "      <td>216.424101</td>\n",
       "      <td>152.699066</td>\n",
       "      <td>89.310138</td>\n",
       "      <td>10.114774</td>\n",
       "      <td>0.975232</td>\n",
       "      <td>0.949269</td>\n",
       "      <td>1.078944</td>\n",
       "      <td>91.321283</td>\n",
       "      <td>80.725039</td>\n",
       "      <td>16.251653</td>\n",
       "      <td>0.467704</td>\n",
       "      <td>Andromeda III</td>\n",
       "      <td>25.648367</td>\n",
       "      <td>3.641324</td>\n",
       "    </tr>\n",
       "    <tr>\n",
       "      <th>3</th>\n",
       "      <td>1007012.0</td>\n",
       "      <td>1.079857</td>\n",
       "      <td>89.351427</td>\n",
       "      <td>54738.000742</td>\n",
       "      <td>1.016415</td>\n",
       "      <td>19.927563</td>\n",
       "      <td>12.917355</td>\n",
       "      <td>1.085718</td>\n",
       "      <td>1.010280</td>\n",
       "      <td>65.576254</td>\n",
       "      <td>113.617318</td>\n",
       "      <td>144.223620</td>\n",
       "      <td>27.907457</td>\n",
       "      <td>994.869334</td>\n",
       "      <td>93.992349</td>\n",
       "      <td>50.614834</td>\n",
       "      <td>37.408702</td>\n",
       "      <td>39.063774</td>\n",
       "      <td>452.063178</td>\n",
       "      <td>68.716581</td>\n",
       "      <td>87.959292</td>\n",
       "      <td>90.227666</td>\n",
       "      <td>83.641251</td>\n",
       "      <td>43.621778</td>\n",
       "      <td>61.763540</td>\n",
       "      <td>...</td>\n",
       "      <td>69479.208034</td>\n",
       "      <td>36372.572012</td>\n",
       "      <td>140.513839</td>\n",
       "      <td>212.594379</td>\n",
       "      <td>92.070335</td>\n",
       "      <td>99.724427</td>\n",
       "      <td>27.896438</td>\n",
       "      <td>8.952235</td>\n",
       "      <td>92.240002</td>\n",
       "      <td>157349.220331</td>\n",
       "      <td>111.986697</td>\n",
       "      <td>194.449429</td>\n",
       "      <td>186.126193</td>\n",
       "      <td>81.641747</td>\n",
       "      <td>10.871523</td>\n",
       "      <td>1.041127</td>\n",
       "      <td>1.010276</td>\n",
       "      <td>1.048963</td>\n",
       "      <td>73.708843</td>\n",
       "      <td>76.050073</td>\n",
       "      <td>19.354114</td>\n",
       "      <td>0.344208</td>\n",
       "      <td>Andromeda IX</td>\n",
       "      <td>18.507721</td>\n",
       "      <td>3.467922</td>\n",
       "    </tr>\n",
       "    <tr>\n",
       "      <th>4</th>\n",
       "      <td>1007012.0</td>\n",
       "      <td>1.079557</td>\n",
       "      <td>94.084539</td>\n",
       "      <td>54785.657264</td>\n",
       "      <td>1.108535</td>\n",
       "      <td>18.597198</td>\n",
       "      <td>14.490411</td>\n",
       "      <td>1.083277</td>\n",
       "      <td>1.054622</td>\n",
       "      <td>82.576470</td>\n",
       "      <td>116.778787</td>\n",
       "      <td>140.257294</td>\n",
       "      <td>34.620256</td>\n",
       "      <td>667.682672</td>\n",
       "      <td>112.951963</td>\n",
       "      <td>47.121834</td>\n",
       "      <td>32.739008</td>\n",
       "      <td>43.097271</td>\n",
       "      <td>513.265103</td>\n",
       "      <td>76.028442</td>\n",
       "      <td>86.776469</td>\n",
       "      <td>95.761096</td>\n",
       "      <td>79.298329</td>\n",
       "      <td>49.113194</td>\n",
       "      <td>41.016252</td>\n",
       "      <td>...</td>\n",
       "      <td>72697.700583</td>\n",
       "      <td>38990.588810</td>\n",
       "      <td>140.356804</td>\n",
       "      <td>388.073381</td>\n",
       "      <td>115.750229</td>\n",
       "      <td>106.108663</td>\n",
       "      <td>31.155735</td>\n",
       "      <td>7.663965</td>\n",
       "      <td>110.414297</td>\n",
       "      <td>106465.699745</td>\n",
       "      <td>118.241451</td>\n",
       "      <td>183.901921</td>\n",
       "      <td>150.143061</td>\n",
       "      <td>111.458212</td>\n",
       "      <td>12.297071</td>\n",
       "      <td>1.000734</td>\n",
       "      <td>1.059392</td>\n",
       "      <td>1.086341</td>\n",
       "      <td>51.594871</td>\n",
       "      <td>65.860127</td>\n",
       "      <td>21.311365</td>\n",
       "      <td>0.325228</td>\n",
       "      <td>Andromeda V</td>\n",
       "      <td>27.662533</td>\n",
       "      <td>3.691628</td>\n",
       "    </tr>\n",
       "  </tbody>\n",
       "</table>\n",
       "<p>5 rows × 79 columns</p>\n",
       "</div>"
      ],
      "text/plain": [
       "   galactic year  existence expectancy index  existence expectancy at birth  \\\n",
       "0      1007012.0                    0.868360                      72.982208   \n",
       "1      1007012.0                    0.772696                      73.590698   \n",
       "2      1007012.0                    0.941941                      81.973436   \n",
       "3      1007012.0                    1.079857                      89.351427   \n",
       "4      1007012.0                    1.079557                      94.084539   \n",
       "\n",
       "   Gross income per capita  Income Index  Expected years of education (galactic years)  \\\n",
       "0             19198.499040      0.700413                                     16.145285   \n",
       "1             18345.350181      0.684405                                     12.167872   \n",
       "2             26708.317145      0.925563                                     18.175905   \n",
       "3             54738.000742      1.016415                                     19.927563   \n",
       "4             54785.657264      1.108535                                     18.597198   \n",
       "\n",
       "   Mean years of education (galactic years)  Intergalactic Development Index (IDI)  \\\n",
       "0                                 11.113581                               0.719579   \n",
       "1                                  7.083681                               0.650826   \n",
       "2                                 13.909442                               0.960263   \n",
       "3                                 12.917355                               1.085718   \n",
       "4                                 14.490411                               1.083277   \n",
       "\n",
       "   Education Index  Intergalactic Development Index (IDI), Rank  \\\n",
       "0         0.825915                                   181.824530   \n",
       "1         0.505962                                   193.187549   \n",
       "2         0.937407                                    74.678611   \n",
       "3         1.010280                                    65.576254   \n",
       "4         1.054622                                    82.576470   \n",
       "\n",
       "   Population using at least basic drinking-water services (%)  \\\n",
       "0                                                    76.357958   \n",
       "1                                                    79.263683   \n",
       "2                                                   122.988241   \n",
       "3                                                   113.617318   \n",
       "4                                                   116.778787   \n",
       "\n",
       "   Population using at least basic sanitation services (%)  Gross capital formation (% of GGP)  \\\n",
       "0                                                71.796137                           71.977811   \n",
       "1                                                71.723281                           37.085742   \n",
       "2                                               136.685519                           34.865297   \n",
       "3                                               144.223620                           27.907457   \n",
       "4                                               140.257294                           34.620256   \n",
       "\n",
       "   Population, total (millions)  Population, urban (%)  \\\n",
       "0                    819.245976              72.269765   \n",
       "1                    849.398477              53.465398   \n",
       "2                    712.914221              93.116852   \n",
       "3                    994.869334              93.992349   \n",
       "4                    667.682672             112.951963   \n",
       "\n",
       "   Mortality rate, under-five (per 1,000 live births)  \\\n",
       "0                                          113.394831   \n",
       "1                                          139.090298   \n",
       "2                                           59.810528   \n",
       "3                                           50.614834   \n",
       "4                                           47.121834   \n",
       "\n",
       "   Mortality rate, infant (per 1,000 live births)  \\\n",
       "0                                       75.983899   \n",
       "1                                       88.145153   \n",
       "2                                       34.960991   \n",
       "3                                       37.408702   \n",
       "4                                       32.739008   \n",
       "\n",
       "   Old age dependency ratio (old age (65 and older) per 100 creatures (ages 15-64))  \\\n",
       "0                                                                         12.851245   \n",
       "1                                                                         14.152255   \n",
       "2                                                                         31.242181   \n",
       "3                                                                         39.063774   \n",
       "4                                                                         43.097271   \n",
       "\n",
       "   Population, ages 15–64 (millions)  Population, ages 65 and older (millions)  \\\n",
       "0                         426.589757                                 59.793499   \n",
       "1                         496.779346                                 57.583581   \n",
       "2                         435.976780                                 54.971127   \n",
       "3                         452.063178                                 68.716581   \n",
       "4                         513.265103                                 76.028442   \n",
       "\n",
       "   Life expectancy at birth, male (galactic years)  \\\n",
       "0                                        73.206969   \n",
       "1                                        68.021732   \n",
       "2                                        78.814709   \n",
       "3                                        87.959292   \n",
       "4                                        86.776469   \n",
       "\n",
       "   Life expectancy at birth, female (galactic years)  Population, under age 5 (millions)  \\\n",
       "0                                          79.051548                           80.144699   \n",
       "1                                          74.795340                           73.158109   \n",
       "2                                          87.318457                           54.861556   \n",
       "3                                          90.227666                           83.641251   \n",
       "4                                          95.761096                           79.298329   \n",
       "\n",
       "   Young age (0-14) dependency ratio (per 100 creatures ages 15-64)  \\\n",
       "0                                                         87.255770   \n",
       "1                                                         89.776748   \n",
       "2                                                         51.049333   \n",
       "3                                                         43.621778   \n",
       "4                                                         49.113194   \n",
       "\n",
       "   Adolescent birth rate (births per 1,000 female creatures ages 15-19)  ...  \\\n",
       "0                                                             77.624057  ...   \n",
       "1                                                            124.050371  ...   \n",
       "2                                                             72.544281  ...   \n",
       "3                                                             61.763540  ...   \n",
       "4                                                             41.016252  ...   \n",
       "\n",
       "   Estimated gross galactic income per capita, male  \\\n",
       "0                                               NaN   \n",
       "1                                      19268.820517   \n",
       "2                                      46130.422627   \n",
       "3                                      69479.208034   \n",
       "4                                      72697.700583   \n",
       "\n",
       "   Estimated gross galactic income per capita, female  \\\n",
       "0                                                 NaN   \n",
       "1                                        12931.719986   \n",
       "2                                        29804.266408   \n",
       "3                                        36372.572012   \n",
       "4                                        38990.588810   \n",
       "\n",
       "   Rural population with access to electricity (%)  \\\n",
       "0                                       102.306960   \n",
       "1                                        99.189863   \n",
       "2                                       133.499902   \n",
       "3                                       140.513839   \n",
       "4                                       140.356804   \n",
       "\n",
       "   Domestic credit provided by financial sector (% of GGP)  \\\n",
       "0                                                      NaN   \n",
       "1                                                77.742674   \n",
       "2                                               112.410524   \n",
       "3                                               212.594379   \n",
       "4                                               388.073381   \n",
       "\n",
       "   Population with at least some secondary education, female (% ages 25 and older)  \\\n",
       "0                                                                              NaN   \n",
       "1                                                                        54.263456   \n",
       "2                                                                       110.028144   \n",
       "3                                                                        92.070335   \n",
       "4                                                                       115.750229   \n",
       "\n",
       "   Population with at least some secondary education, male (% ages 25 and older)  \\\n",
       "0                                                                            NaN   \n",
       "1                                                                      69.496155   \n",
       "2                                                                     112.483100   \n",
       "3                                                                      99.724427   \n",
       "4                                                                     106.108663   \n",
       "\n",
       "   Gross fixed capital formation (% of GGP)  Remittances, inflows (% of GGP)  \\\n",
       "0                                 75.084941                        16.383957   \n",
       "1                                 38.331603                         9.435519   \n",
       "2                                 29.294321                         9.716045   \n",
       "3                                 27.896438                         8.952235   \n",
       "4                                 31.155735                         7.663965   \n",
       "\n",
       "   Population with at least some secondary education (% ages 25 and older)  \\\n",
       "0                                                                      NaN   \n",
       "1                                                                62.266114   \n",
       "2                                                               124.671861   \n",
       "3                                                                92.240002   \n",
       "4                                                               110.414297   \n",
       "\n",
       "   Intergalactic inbound tourists (thousands)  \\\n",
       "0                                92046.182973   \n",
       "1                                92843.780990   \n",
       "2                                98471.178149   \n",
       "3                               157349.220331   \n",
       "4                               106465.699745   \n",
       "\n",
       "   Gross enrolment ratio, primary (% of primary under-age population)  \\\n",
       "0                                                          129.047095   \n",
       "1                                                          131.408452   \n",
       "2                                                          117.291927   \n",
       "3                                                          111.986697   \n",
       "4                                                          118.241451   \n",
       "\n",
       "   Respiratory disease incidence (per 100,000 people)  \\\n",
       "0                                          578.672958   \n",
       "1                                          429.753270   \n",
       "2                                          216.424101   \n",
       "3                                          194.449429   \n",
       "4                                          183.901921   \n",
       "\n",
       "   Interstellar phone subscriptions (per 100 people)  \\\n",
       "0                                          70.150003   \n",
       "1                                         104.910863   \n",
       "2                                         152.699066   \n",
       "3                                         186.126193   \n",
       "4                                         150.143061   \n",
       "\n",
       "   Interstellar Data Net users, total (% of population)  Current health expenditure (% of GGP)  \\\n",
       "0                                             39.261197                              11.067889   \n",
       "1                                             34.341097                               6.029590   \n",
       "2                                             89.310138                              10.114774   \n",
       "3                                             81.641747                              10.871523   \n",
       "4                                            111.458212                              12.297071   \n",
       "\n",
       "   Intergalactic Development Index (IDI), female  Intergalactic Development Index (IDI), male  \\\n",
       "0                                            NaN                                          NaN   \n",
       "1                                       0.673039                                     0.714560   \n",
       "2                                       0.975232                                     0.949269   \n",
       "3                                       1.041127                                     1.010276   \n",
       "4                                       1.000734                                     1.059392   \n",
       "\n",
       "   Gender Development Index (GDI)  Intergalactic Development Index (IDI), female, Rank  \\\n",
       "0                             NaN                                                  NaN   \n",
       "1                        0.976994                                           147.451303   \n",
       "2                        1.078944                                            91.321283   \n",
       "3                        1.048963                                            73.708843   \n",
       "4                        1.086341                                            51.594871   \n",
       "\n",
       "   Intergalactic Development Index (IDI), male, Rank  Adjusted net savings   \\\n",
       "0                                                NaN                    NaN   \n",
       "1                                         164.334975               6.673241   \n",
       "2                                          80.725039              16.251653   \n",
       "3                                          76.050073              19.354114   \n",
       "4                                          65.860127              21.311365   \n",
       "\n",
       "   Gender Inequality Index (GII)                  galaxy  Private galaxy capital flows (% of GGP)  \\\n",
       "0                            NaN  Andromeda Galaxy (M31)                                32.163414   \n",
       "1                       0.687616             Andromeda I                                30.668839   \n",
       "2                       0.467704           Andromeda III                                25.648367   \n",
       "3                       0.344208            Andromeda IX                                18.507721   \n",
       "4                       0.325228             Andromeda V                                27.662533   \n",
       "\n",
       "   Creature Immunodeficiency Disease prevalence, adult (% ages 15-49), total  \n",
       "0                                                                        NaN  \n",
       "1                                                                   5.784397  \n",
       "2                                                                   3.641324  \n",
       "3                                                                   3.467922  \n",
       "4                                                                   3.691628  \n",
       "\n",
       "[5 rows x 79 columns]"
      ]
     },
     "execution_count": 3,
     "metadata": {},
     "output_type": "execute_result"
    }
   ],
   "source": [
    "test = pd.read_csv('./outputs/imputed_test_mf.csv')                \n",
    "m, n = test.shape\n",
    "print('Data Frame: {} x {}'.format(m,n))                \n",
    "test.head()"
   ]
  },
  {
   "cell_type": "code",
   "execution_count": 4,
   "metadata": {},
   "outputs": [
    {
     "data": {
      "text/html": [
       "<div>\n",
       "<style scoped>\n",
       "    .dataframe tbody tr th:only-of-type {\n",
       "        vertical-align: middle;\n",
       "    }\n",
       "\n",
       "    .dataframe tbody tr th {\n",
       "        vertical-align: top;\n",
       "    }\n",
       "\n",
       "    .dataframe thead th {\n",
       "        text-align: right;\n",
       "    }\n",
       "</style>\n",
       "<table border=\"1\" class=\"dataframe\">\n",
       "  <thead>\n",
       "    <tr style=\"text-align: right;\">\n",
       "      <th></th>\n",
       "      <th>Index</th>\n",
       "      <th>y_pred</th>\n",
       "      <th>opt_pred</th>\n",
       "      <th>eei</th>\n",
       "      <th>p_increase</th>\n",
       "      <th>p_increase2</th>\n",
       "    </tr>\n",
       "  </thead>\n",
       "  <tbody>\n",
       "    <tr>\n",
       "      <th>0</th>\n",
       "      <td>0</td>\n",
       "      <td>0.041248</td>\n",
       "      <td>0</td>\n",
       "      <td>0.868360</td>\n",
       "      <td>5.971077</td>\n",
       "      <td>35.653766</td>\n",
       "    </tr>\n",
       "    <tr>\n",
       "      <th>1</th>\n",
       "      <td>1</td>\n",
       "      <td>0.046107</td>\n",
       "      <td>0</td>\n",
       "      <td>0.772696</td>\n",
       "      <td>5.880488</td>\n",
       "      <td>34.580138</td>\n",
       "    </tr>\n",
       "    <tr>\n",
       "      <th>2</th>\n",
       "      <td>2</td>\n",
       "      <td>0.114819</td>\n",
       "      <td>0</td>\n",
       "      <td>0.941941</td>\n",
       "      <td>5.080892</td>\n",
       "      <td>25.815461</td>\n",
       "    </tr>\n",
       "    <tr>\n",
       "      <th>3</th>\n",
       "      <td>3</td>\n",
       "      <td>0.177866</td>\n",
       "      <td>0</td>\n",
       "      <td>1.079857</td>\n",
       "      <td>4.672029</td>\n",
       "      <td>21.827850</td>\n",
       "    </tr>\n",
       "    <tr>\n",
       "      <th>4</th>\n",
       "      <td>4</td>\n",
       "      <td>0.224418</td>\n",
       "      <td>0</td>\n",
       "      <td>1.079557</td>\n",
       "      <td>4.450649</td>\n",
       "      <td>19.808277</td>\n",
       "    </tr>\n",
       "    <tr>\n",
       "      <th>...</th>\n",
       "      <td>...</td>\n",
       "      <td>...</td>\n",
       "      <td>...</td>\n",
       "      <td>...</td>\n",
       "      <td>...</td>\n",
       "      <td>...</td>\n",
       "    </tr>\n",
       "    <tr>\n",
       "      <th>885</th>\n",
       "      <td>885</td>\n",
       "      <td>0.040630</td>\n",
       "      <td>0</td>\n",
       "      <td>0.850609</td>\n",
       "      <td>5.983221</td>\n",
       "      <td>35.798930</td>\n",
       "    </tr>\n",
       "    <tr>\n",
       "      <th>886</th>\n",
       "      <td>886</td>\n",
       "      <td>0.053313</td>\n",
       "      <td>0</td>\n",
       "      <td>0.808027</td>\n",
       "      <td>5.759666</td>\n",
       "      <td>33.173747</td>\n",
       "    </tr>\n",
       "    <tr>\n",
       "      <th>887</th>\n",
       "      <td>887</td>\n",
       "      <td>0.062798</td>\n",
       "      <td>0</td>\n",
       "      <td>1.012209</td>\n",
       "      <td>5.620070</td>\n",
       "      <td>31.585187</td>\n",
       "    </tr>\n",
       "    <tr>\n",
       "      <th>888</th>\n",
       "      <td>888</td>\n",
       "      <td>0.040166</td>\n",
       "      <td>0</td>\n",
       "      <td>0.704373</td>\n",
       "      <td>5.992420</td>\n",
       "      <td>35.909100</td>\n",
       "    </tr>\n",
       "    <tr>\n",
       "      <th>889</th>\n",
       "      <td>889</td>\n",
       "      <td>0.040298</td>\n",
       "      <td>0</td>\n",
       "      <td>0.771783</td>\n",
       "      <td>5.989784</td>\n",
       "      <td>35.877511</td>\n",
       "    </tr>\n",
       "  </tbody>\n",
       "</table>\n",
       "<p>890 rows × 6 columns</p>\n",
       "</div>"
      ],
      "text/plain": [
       "     Index    y_pred  opt_pred       eei  p_increase  p_increase2\n",
       "0        0  0.041248         0  0.868360    5.971077    35.653766\n",
       "1        1  0.046107         0  0.772696    5.880488    34.580138\n",
       "2        2  0.114819         0  0.941941    5.080892    25.815461\n",
       "3        3  0.177866         0  1.079857    4.672029    21.827850\n",
       "4        4  0.224418         0  1.079557    4.450649    19.808277\n",
       "..     ...       ...       ...       ...         ...          ...\n",
       "885    885  0.040630         0  0.850609    5.983221    35.798930\n",
       "886    886  0.053313         0  0.808027    5.759666    33.173747\n",
       "887    887  0.062798         0  1.012209    5.620070    31.585187\n",
       "888    888  0.040166         0  0.704373    5.992420    35.909100\n",
       "889    889  0.040298         0  0.771783    5.989784    35.877511\n",
       "\n",
       "[890 rows x 6 columns]"
      ]
     },
     "execution_count": 4,
     "metadata": {},
     "output_type": "execute_result"
    }
   ],
   "source": [
    "# RMSE Train: 0.001800391617117943\n",
    "# RMSE Valid: 0.052504038023260875\n",
    "\n",
    "preds = pd.read_csv('../modeling/outputs/y_pred_lgbm_mf_0525val.csv')\n",
    "preds['opt_pred'] = 0\n",
    "preds['eei'] = test['existence expectancy index']\n",
    "preds['p_increase'] = -np.log(preds['y_pred'] + 0.01) + 3\n",
    "preds['p_increase2'] = preds['p_increase'] ** 2\n",
    "preds"
   ]
  },
  {
   "cell_type": "markdown",
   "metadata": {},
   "source": [
    "### Optimization\n",
    "\n",
    "We will try to maximize sum of likely increase index for all galaxies, which for one galaxy is described as follows:\n",
    "\n",
    "    Likely increase in the Index = extra energy * Potential for increase in the Index ** 2 / 1000\n",
    "\n",
    "with respect to the following constraints.\n",
    "\n",
    "* in total there are 50000 zillion DSML available for allocation\n",
    "* no galaxy should be allocated more than 100 zillion DSML or less than 0 zillion DSML\n",
    "* galaxies with low existence expectancy index below 0.7 should be allocated at least 10% of the total energy available"
   ]
  },
  {
   "cell_type": "code",
   "execution_count": 5,
   "metadata": {},
   "outputs": [],
   "source": [
    "def total_likely_increase(opt_pred, p_sqr):\n",
    "    return sum((opt_pred * p_sqr**2) / 1000)\n",
    "\n",
    "\n",
    "def optimize(data_frame, alpha_low=10, alpha_high=1, steps=100, max_proximity=3):\n",
    "    max_energy = 50000\n",
    "    galaxy_lower_bound = 0\n",
    "    galaxy_upper_bound = 100\n",
    "    low_end_upper_eei = 0.7\n",
    "    low_end_galaxy_min_energy = 5000\n",
    "    \n",
    "    totals = [0]\n",
    "    low_end_energies = [0]\n",
    "#     data_frame['opt_pred'] = max_energy / data_frame.shape[0] - 1\n",
    "    data_frame['opt_pred'] = np.random.uniform(0,0.1,size=data_frame.shape[0])\n",
    "    \n",
    "    low_end = data_frame.loc[data_frame['eei'] < low_end_upper_eei].copy()\n",
    "    high_end = data_frame.loc[data_frame['eei'] >= low_end_upper_eei].copy()\n",
    "    \n",
    "    dLE = low_end['p_increase2'] / 1000\n",
    "    dHE = high_end['p_increase2'] / 1000\n",
    "    \n",
    "#     dLE = (1/1000)*(1/low_end['opt_pred'] + np.log(low_end['p_increase2']))\n",
    "#     dHE = (1/1000)*(1/high_end['opt_pred'] + np.log(high_end['p_increase2']))\n",
    "    \n",
    "    for i in range(steps):\n",
    "        low_end_energy = low_end['opt_pred'].sum()\n",
    "        high_end_energy = high_end['opt_pred'].sum()\n",
    "        total_energy = low_end_energy + high_end_energy\n",
    "        \n",
    "        if total_energy>(max_energy - max_proximity):\n",
    "            print('Stopping... Total Iterations:', i)\n",
    "            break\n",
    "            \n",
    "        if low_end_energy == low_end_energies[-1]:\n",
    "            print('Stopping... Total Iterations:', i)\n",
    "            break\n",
    "        else:\n",
    "            low_end_energies.append(low_end_energy)\n",
    "        \n",
    "        \n",
    "        low_end['opt_pred'] = (low_end['opt_pred'] + alpha_low*np.exp(dLE)).clip(0,100)\n",
    "        high_end['opt_pred'] = (high_end['opt_pred'] + alpha_high*np.exp(dHE)).clip(0,100) \n",
    "        \n",
    "        low_end_increase = total_likely_increase(low_end['opt_pred'], low_end['p_increase2'])\n",
    "        high_end_increase = total_likely_increase(high_end['opt_pred'], high_end['p_increase2'])\n",
    "        total_increase = low_end_increase + high_end_increase\n",
    "        \n",
    "        \n",
    "        print(f\"Sum of Likely Increase: {total_increase:.3f}\\tLow end energy: {low_end_energy:.3f}\\t\"\n",
    "              f\"Total energy: {total_energy:.3f}\")\n",
    "        totals.append(total_increase)\n",
    "    \n",
    "    resulting_df = low_end.append(high_end, ignore_index=False)\n",
    "    resulting_df.reset_index(drop=True, inplace=True)\n",
    "    totals.remove(0)\n",
    "    print(f\"Max value: {max(totals):.3f}\")\n",
    "    return totals, resulting_df\n"
   ]
  },
  {
   "cell_type": "code",
   "execution_count": 12,
   "metadata": {
    "scrolled": true
   },
   "outputs": [
    {
     "name": "stdout",
     "output_type": "stream",
     "text": [
      "Sum of Likely Increase: 787.701\tLow end energy: 3.708\tTotal energy: 45.960\n",
      "Sum of Likely Increase: 1530.718\tLow end energy: 87.029\tTotal energy: 807.837\n",
      "Sum of Likely Increase: 2273.734\tLow end energy: 170.351\tTotal energy: 1569.713\n",
      "Sum of Likely Increase: 3016.750\tLow end energy: 253.672\tTotal energy: 2331.590\n",
      "Sum of Likely Increase: 3759.766\tLow end energy: 336.993\tTotal energy: 3093.466\n",
      "Sum of Likely Increase: 4502.782\tLow end energy: 420.314\tTotal energy: 3855.343\n",
      "Sum of Likely Increase: 5245.798\tLow end energy: 503.635\tTotal energy: 4617.219\n",
      "Sum of Likely Increase: 5988.814\tLow end energy: 586.956\tTotal energy: 5379.096\n",
      "Sum of Likely Increase: 6731.830\tLow end energy: 670.278\tTotal energy: 6140.972\n",
      "Sum of Likely Increase: 7474.847\tLow end energy: 753.599\tTotal energy: 6902.849\n",
      "Sum of Likely Increase: 8217.863\tLow end energy: 836.920\tTotal energy: 7664.725\n",
      "Sum of Likely Increase: 8960.879\tLow end energy: 920.241\tTotal energy: 8426.602\n",
      "Sum of Likely Increase: 9703.895\tLow end energy: 1003.562\tTotal energy: 9188.478\n",
      "Sum of Likely Increase: 10446.911\tLow end energy: 1086.884\tTotal energy: 9950.355\n",
      "Sum of Likely Increase: 11189.927\tLow end energy: 1170.205\tTotal energy: 10712.232\n",
      "Sum of Likely Increase: 11932.943\tLow end energy: 1253.526\tTotal energy: 11474.108\n",
      "Sum of Likely Increase: 12675.959\tLow end energy: 1336.847\tTotal energy: 12235.985\n",
      "Sum of Likely Increase: 13418.975\tLow end energy: 1420.168\tTotal energy: 12997.861\n",
      "Sum of Likely Increase: 14161.992\tLow end energy: 1503.489\tTotal energy: 13759.738\n",
      "Sum of Likely Increase: 14905.008\tLow end energy: 1586.811\tTotal energy: 14521.614\n",
      "Sum of Likely Increase: 15648.024\tLow end energy: 1670.132\tTotal energy: 15283.491\n",
      "Sum of Likely Increase: 16391.040\tLow end energy: 1753.453\tTotal energy: 16045.367\n",
      "Sum of Likely Increase: 17134.056\tLow end energy: 1836.774\tTotal energy: 16807.244\n",
      "Sum of Likely Increase: 17877.072\tLow end energy: 1920.095\tTotal energy: 17569.120\n",
      "Sum of Likely Increase: 18620.088\tLow end energy: 2003.416\tTotal energy: 18330.997\n",
      "Sum of Likely Increase: 19363.104\tLow end energy: 2086.738\tTotal energy: 19092.873\n",
      "Sum of Likely Increase: 20106.121\tLow end energy: 2170.059\tTotal energy: 19854.750\n",
      "Sum of Likely Increase: 20849.137\tLow end energy: 2253.380\tTotal energy: 20616.626\n",
      "Sum of Likely Increase: 21592.153\tLow end energy: 2336.701\tTotal energy: 21378.503\n",
      "Sum of Likely Increase: 22335.169\tLow end energy: 2420.022\tTotal energy: 22140.379\n",
      "Sum of Likely Increase: 23078.185\tLow end energy: 2503.344\tTotal energy: 22902.256\n",
      "Sum of Likely Increase: 23821.201\tLow end energy: 2586.665\tTotal energy: 23664.132\n",
      "Sum of Likely Increase: 24564.217\tLow end energy: 2669.986\tTotal energy: 24426.009\n",
      "Sum of Likely Increase: 25307.233\tLow end energy: 2753.307\tTotal energy: 25187.886\n",
      "Sum of Likely Increase: 26050.249\tLow end energy: 2836.628\tTotal energy: 25949.762\n",
      "Sum of Likely Increase: 26793.266\tLow end energy: 2919.949\tTotal energy: 26711.639\n",
      "Sum of Likely Increase: 27536.282\tLow end energy: 3003.271\tTotal energy: 27473.515\n",
      "Sum of Likely Increase: 28279.298\tLow end energy: 3086.592\tTotal energy: 28235.392\n",
      "Sum of Likely Increase: 29022.314\tLow end energy: 3169.913\tTotal energy: 28997.268\n",
      "Sum of Likely Increase: 29765.330\tLow end energy: 3253.234\tTotal energy: 29759.145\n",
      "Sum of Likely Increase: 30508.346\tLow end energy: 3336.555\tTotal energy: 30521.021\n",
      "Sum of Likely Increase: 31251.362\tLow end energy: 3419.877\tTotal energy: 31282.898\n",
      "Sum of Likely Increase: 31994.378\tLow end energy: 3503.198\tTotal energy: 32044.774\n",
      "Sum of Likely Increase: 32737.395\tLow end energy: 3586.519\tTotal energy: 32806.651\n",
      "Sum of Likely Increase: 33480.411\tLow end energy: 3669.840\tTotal energy: 33568.527\n",
      "Sum of Likely Increase: 34223.427\tLow end energy: 3753.161\tTotal energy: 34330.404\n",
      "Sum of Likely Increase: 34966.443\tLow end energy: 3836.482\tTotal energy: 35092.280\n",
      "Sum of Likely Increase: 35709.459\tLow end energy: 3919.804\tTotal energy: 35854.157\n",
      "Sum of Likely Increase: 36452.475\tLow end energy: 4003.125\tTotal energy: 36616.033\n",
      "Sum of Likely Increase: 37195.491\tLow end energy: 4086.446\tTotal energy: 37377.910\n",
      "Sum of Likely Increase: 37938.507\tLow end energy: 4169.767\tTotal energy: 38139.787\n",
      "Sum of Likely Increase: 38681.523\tLow end energy: 4253.088\tTotal energy: 38901.663\n",
      "Sum of Likely Increase: 39424.540\tLow end energy: 4336.409\tTotal energy: 39663.540\n",
      "Sum of Likely Increase: 40167.556\tLow end energy: 4419.731\tTotal energy: 40425.416\n",
      "Sum of Likely Increase: 40910.572\tLow end energy: 4503.052\tTotal energy: 41187.293\n",
      "Sum of Likely Increase: 41653.588\tLow end energy: 4586.373\tTotal energy: 41949.169\n",
      "Sum of Likely Increase: 42396.604\tLow end energy: 4669.694\tTotal energy: 42711.046\n",
      "Sum of Likely Increase: 43139.620\tLow end energy: 4753.015\tTotal energy: 43472.922\n",
      "Sum of Likely Increase: 43882.636\tLow end energy: 4836.337\tTotal energy: 44234.799\n",
      "Sum of Likely Increase: 44625.652\tLow end energy: 4919.658\tTotal energy: 44996.675\n",
      "Sum of Likely Increase: 45368.668\tLow end energy: 5002.979\tTotal energy: 45758.552\n",
      "Sum of Likely Increase: 46111.685\tLow end energy: 5086.300\tTotal energy: 46520.428\n",
      "Sum of Likely Increase: 46854.701\tLow end energy: 5169.621\tTotal energy: 47282.305\n",
      "Sum of Likely Increase: 47597.717\tLow end energy: 5252.942\tTotal energy: 48044.181\n",
      "Sum of Likely Increase: 48340.733\tLow end energy: 5336.264\tTotal energy: 48806.058\n",
      "Sum of Likely Increase: 49083.749\tLow end energy: 5419.585\tTotal energy: 49567.934\n",
      "Stopping... Total Iterations: 66\n",
      "Max value: 49083.749\n"
     ]
    }
   ],
   "source": [
    "sums, res_df = optimize(preds, alpha_low=1.2, alpha_high=0.8, steps=5000)"
   ]
  },
  {
   "cell_type": "code",
   "execution_count": 7,
   "metadata": {},
   "outputs": [
    {
     "data": {
      "application/vnd.plotly.v1+json": {
       "config": {
        "plotlyServerURL": "https://plot.ly"
       },
       "data": [
        {
         "hovertemplate": "index=%{x}<br>sum_likely_increase=%{y}<extra></extra>",
         "legendgroup": "",
         "marker": {
          "color": "#636efa",
          "symbol": "circle"
         },
         "mode": "markers",
         "name": "",
         "showlegend": false,
         "type": "scatter",
         "x": [
          0,
          1,
          2,
          3,
          4,
          5,
          6,
          7,
          8,
          9,
          10,
          11,
          12,
          13,
          14,
          15,
          16,
          17,
          18,
          19,
          20,
          21,
          22,
          23,
          24,
          25,
          26,
          27,
          28,
          29,
          30,
          31,
          32,
          33,
          34,
          35,
          36,
          37,
          38,
          39,
          40,
          41,
          42,
          43,
          44,
          45,
          46,
          47,
          48,
          49,
          50,
          51,
          52,
          53,
          54,
          55,
          56,
          57
         ],
         "xaxis": "x",
         "y": [
          899.7360211988041,
          1757.744551893032,
          2615.7530825872614,
          3473.7616132814865,
          4331.77014397571,
          5189.778674669946,
          6047.787205364176,
          6905.795736058405,
          7763.804266752641,
          8621.81279744686,
          9479.821328141092,
          10337.829858835315,
          11195.838389529563,
          12053.846920223781,
          12911.855450918009,
          13769.863981612241,
          14627.872512306467,
          15485.881043000682,
          16343.889573694925,
          17201.898104389165,
          18059.9066350834,
          18917.91516577761,
          19775.92369647183,
          20633.93222716609,
          21491.940757860284,
          22349.94928855454,
          23207.957819248775,
          24065.966349942995,
          24923.974880637244,
          25781.98341133147,
          26639.99194202567,
          27498.0004727199,
          28356.009003414147,
          29214.017534108352,
          30072.026064802583,
          30930.03459549685,
          31788.043126191056,
          32646.051656885298,
          33504.060187579504,
          34362.06871827375,
          35220.07724896796,
          36078.08577966216,
          36936.09431035642,
          37794.10284105067,
          38652.11137174485,
          39510.119902439146,
          40368.12843313329,
          41226.13696382754,
          42084.145494521734,
          42942.15402521598,
          43800.16255591025,
          44658.17108660445,
          45516.17961729871,
          46374.188147993,
          47232.19667868718,
          48090.205209381405,
          48948.213740075626,
          49806.22227076983
         ],
         "yaxis": "y"
        }
       ],
       "layout": {
        "legend": {
         "tracegroupgap": 0
        },
        "margin": {
         "t": 60
        },
        "template": {
         "data": {
          "bar": [
           {
            "error_x": {
             "color": "#2a3f5f"
            },
            "error_y": {
             "color": "#2a3f5f"
            },
            "marker": {
             "line": {
              "color": "#E5ECF6",
              "width": 0.5
             }
            },
            "type": "bar"
           }
          ],
          "barpolar": [
           {
            "marker": {
             "line": {
              "color": "#E5ECF6",
              "width": 0.5
             }
            },
            "type": "barpolar"
           }
          ],
          "carpet": [
           {
            "aaxis": {
             "endlinecolor": "#2a3f5f",
             "gridcolor": "white",
             "linecolor": "white",
             "minorgridcolor": "white",
             "startlinecolor": "#2a3f5f"
            },
            "baxis": {
             "endlinecolor": "#2a3f5f",
             "gridcolor": "white",
             "linecolor": "white",
             "minorgridcolor": "white",
             "startlinecolor": "#2a3f5f"
            },
            "type": "carpet"
           }
          ],
          "choropleth": [
           {
            "colorbar": {
             "outlinewidth": 0,
             "ticks": ""
            },
            "type": "choropleth"
           }
          ],
          "contour": [
           {
            "colorbar": {
             "outlinewidth": 0,
             "ticks": ""
            },
            "colorscale": [
             [
              0,
              "#0d0887"
             ],
             [
              0.1111111111111111,
              "#46039f"
             ],
             [
              0.2222222222222222,
              "#7201a8"
             ],
             [
              0.3333333333333333,
              "#9c179e"
             ],
             [
              0.4444444444444444,
              "#bd3786"
             ],
             [
              0.5555555555555556,
              "#d8576b"
             ],
             [
              0.6666666666666666,
              "#ed7953"
             ],
             [
              0.7777777777777778,
              "#fb9f3a"
             ],
             [
              0.8888888888888888,
              "#fdca26"
             ],
             [
              1,
              "#f0f921"
             ]
            ],
            "type": "contour"
           }
          ],
          "contourcarpet": [
           {
            "colorbar": {
             "outlinewidth": 0,
             "ticks": ""
            },
            "type": "contourcarpet"
           }
          ],
          "heatmap": [
           {
            "colorbar": {
             "outlinewidth": 0,
             "ticks": ""
            },
            "colorscale": [
             [
              0,
              "#0d0887"
             ],
             [
              0.1111111111111111,
              "#46039f"
             ],
             [
              0.2222222222222222,
              "#7201a8"
             ],
             [
              0.3333333333333333,
              "#9c179e"
             ],
             [
              0.4444444444444444,
              "#bd3786"
             ],
             [
              0.5555555555555556,
              "#d8576b"
             ],
             [
              0.6666666666666666,
              "#ed7953"
             ],
             [
              0.7777777777777778,
              "#fb9f3a"
             ],
             [
              0.8888888888888888,
              "#fdca26"
             ],
             [
              1,
              "#f0f921"
             ]
            ],
            "type": "heatmap"
           }
          ],
          "heatmapgl": [
           {
            "colorbar": {
             "outlinewidth": 0,
             "ticks": ""
            },
            "colorscale": [
             [
              0,
              "#0d0887"
             ],
             [
              0.1111111111111111,
              "#46039f"
             ],
             [
              0.2222222222222222,
              "#7201a8"
             ],
             [
              0.3333333333333333,
              "#9c179e"
             ],
             [
              0.4444444444444444,
              "#bd3786"
             ],
             [
              0.5555555555555556,
              "#d8576b"
             ],
             [
              0.6666666666666666,
              "#ed7953"
             ],
             [
              0.7777777777777778,
              "#fb9f3a"
             ],
             [
              0.8888888888888888,
              "#fdca26"
             ],
             [
              1,
              "#f0f921"
             ]
            ],
            "type": "heatmapgl"
           }
          ],
          "histogram": [
           {
            "marker": {
             "colorbar": {
              "outlinewidth": 0,
              "ticks": ""
             }
            },
            "type": "histogram"
           }
          ],
          "histogram2d": [
           {
            "colorbar": {
             "outlinewidth": 0,
             "ticks": ""
            },
            "colorscale": [
             [
              0,
              "#0d0887"
             ],
             [
              0.1111111111111111,
              "#46039f"
             ],
             [
              0.2222222222222222,
              "#7201a8"
             ],
             [
              0.3333333333333333,
              "#9c179e"
             ],
             [
              0.4444444444444444,
              "#bd3786"
             ],
             [
              0.5555555555555556,
              "#d8576b"
             ],
             [
              0.6666666666666666,
              "#ed7953"
             ],
             [
              0.7777777777777778,
              "#fb9f3a"
             ],
             [
              0.8888888888888888,
              "#fdca26"
             ],
             [
              1,
              "#f0f921"
             ]
            ],
            "type": "histogram2d"
           }
          ],
          "histogram2dcontour": [
           {
            "colorbar": {
             "outlinewidth": 0,
             "ticks": ""
            },
            "colorscale": [
             [
              0,
              "#0d0887"
             ],
             [
              0.1111111111111111,
              "#46039f"
             ],
             [
              0.2222222222222222,
              "#7201a8"
             ],
             [
              0.3333333333333333,
              "#9c179e"
             ],
             [
              0.4444444444444444,
              "#bd3786"
             ],
             [
              0.5555555555555556,
              "#d8576b"
             ],
             [
              0.6666666666666666,
              "#ed7953"
             ],
             [
              0.7777777777777778,
              "#fb9f3a"
             ],
             [
              0.8888888888888888,
              "#fdca26"
             ],
             [
              1,
              "#f0f921"
             ]
            ],
            "type": "histogram2dcontour"
           }
          ],
          "mesh3d": [
           {
            "colorbar": {
             "outlinewidth": 0,
             "ticks": ""
            },
            "type": "mesh3d"
           }
          ],
          "parcoords": [
           {
            "line": {
             "colorbar": {
              "outlinewidth": 0,
              "ticks": ""
             }
            },
            "type": "parcoords"
           }
          ],
          "pie": [
           {
            "automargin": true,
            "type": "pie"
           }
          ],
          "scatter": [
           {
            "marker": {
             "colorbar": {
              "outlinewidth": 0,
              "ticks": ""
             }
            },
            "type": "scatter"
           }
          ],
          "scatter3d": [
           {
            "line": {
             "colorbar": {
              "outlinewidth": 0,
              "ticks": ""
             }
            },
            "marker": {
             "colorbar": {
              "outlinewidth": 0,
              "ticks": ""
             }
            },
            "type": "scatter3d"
           }
          ],
          "scattercarpet": [
           {
            "marker": {
             "colorbar": {
              "outlinewidth": 0,
              "ticks": ""
             }
            },
            "type": "scattercarpet"
           }
          ],
          "scattergeo": [
           {
            "marker": {
             "colorbar": {
              "outlinewidth": 0,
              "ticks": ""
             }
            },
            "type": "scattergeo"
           }
          ],
          "scattergl": [
           {
            "marker": {
             "colorbar": {
              "outlinewidth": 0,
              "ticks": ""
             }
            },
            "type": "scattergl"
           }
          ],
          "scattermapbox": [
           {
            "marker": {
             "colorbar": {
              "outlinewidth": 0,
              "ticks": ""
             }
            },
            "type": "scattermapbox"
           }
          ],
          "scatterpolar": [
           {
            "marker": {
             "colorbar": {
              "outlinewidth": 0,
              "ticks": ""
             }
            },
            "type": "scatterpolar"
           }
          ],
          "scatterpolargl": [
           {
            "marker": {
             "colorbar": {
              "outlinewidth": 0,
              "ticks": ""
             }
            },
            "type": "scatterpolargl"
           }
          ],
          "scatterternary": [
           {
            "marker": {
             "colorbar": {
              "outlinewidth": 0,
              "ticks": ""
             }
            },
            "type": "scatterternary"
           }
          ],
          "surface": [
           {
            "colorbar": {
             "outlinewidth": 0,
             "ticks": ""
            },
            "colorscale": [
             [
              0,
              "#0d0887"
             ],
             [
              0.1111111111111111,
              "#46039f"
             ],
             [
              0.2222222222222222,
              "#7201a8"
             ],
             [
              0.3333333333333333,
              "#9c179e"
             ],
             [
              0.4444444444444444,
              "#bd3786"
             ],
             [
              0.5555555555555556,
              "#d8576b"
             ],
             [
              0.6666666666666666,
              "#ed7953"
             ],
             [
              0.7777777777777778,
              "#fb9f3a"
             ],
             [
              0.8888888888888888,
              "#fdca26"
             ],
             [
              1,
              "#f0f921"
             ]
            ],
            "type": "surface"
           }
          ],
          "table": [
           {
            "cells": {
             "fill": {
              "color": "#EBF0F8"
             },
             "line": {
              "color": "white"
             }
            },
            "header": {
             "fill": {
              "color": "#C8D4E3"
             },
             "line": {
              "color": "white"
             }
            },
            "type": "table"
           }
          ]
         },
         "layout": {
          "annotationdefaults": {
           "arrowcolor": "#2a3f5f",
           "arrowhead": 0,
           "arrowwidth": 1
          },
          "coloraxis": {
           "colorbar": {
            "outlinewidth": 0,
            "ticks": ""
           }
          },
          "colorscale": {
           "diverging": [
            [
             0,
             "#8e0152"
            ],
            [
             0.1,
             "#c51b7d"
            ],
            [
             0.2,
             "#de77ae"
            ],
            [
             0.3,
             "#f1b6da"
            ],
            [
             0.4,
             "#fde0ef"
            ],
            [
             0.5,
             "#f7f7f7"
            ],
            [
             0.6,
             "#e6f5d0"
            ],
            [
             0.7,
             "#b8e186"
            ],
            [
             0.8,
             "#7fbc41"
            ],
            [
             0.9,
             "#4d9221"
            ],
            [
             1,
             "#276419"
            ]
           ],
           "sequential": [
            [
             0,
             "#0d0887"
            ],
            [
             0.1111111111111111,
             "#46039f"
            ],
            [
             0.2222222222222222,
             "#7201a8"
            ],
            [
             0.3333333333333333,
             "#9c179e"
            ],
            [
             0.4444444444444444,
             "#bd3786"
            ],
            [
             0.5555555555555556,
             "#d8576b"
            ],
            [
             0.6666666666666666,
             "#ed7953"
            ],
            [
             0.7777777777777778,
             "#fb9f3a"
            ],
            [
             0.8888888888888888,
             "#fdca26"
            ],
            [
             1,
             "#f0f921"
            ]
           ],
           "sequentialminus": [
            [
             0,
             "#0d0887"
            ],
            [
             0.1111111111111111,
             "#46039f"
            ],
            [
             0.2222222222222222,
             "#7201a8"
            ],
            [
             0.3333333333333333,
             "#9c179e"
            ],
            [
             0.4444444444444444,
             "#bd3786"
            ],
            [
             0.5555555555555556,
             "#d8576b"
            ],
            [
             0.6666666666666666,
             "#ed7953"
            ],
            [
             0.7777777777777778,
             "#fb9f3a"
            ],
            [
             0.8888888888888888,
             "#fdca26"
            ],
            [
             1,
             "#f0f921"
            ]
           ]
          },
          "colorway": [
           "#636efa",
           "#EF553B",
           "#00cc96",
           "#ab63fa",
           "#FFA15A",
           "#19d3f3",
           "#FF6692",
           "#B6E880",
           "#FF97FF",
           "#FECB52"
          ],
          "font": {
           "color": "#2a3f5f"
          },
          "geo": {
           "bgcolor": "white",
           "lakecolor": "white",
           "landcolor": "#E5ECF6",
           "showlakes": true,
           "showland": true,
           "subunitcolor": "white"
          },
          "hoverlabel": {
           "align": "left"
          },
          "hovermode": "closest",
          "mapbox": {
           "style": "light"
          },
          "paper_bgcolor": "white",
          "plot_bgcolor": "#E5ECF6",
          "polar": {
           "angularaxis": {
            "gridcolor": "white",
            "linecolor": "white",
            "ticks": ""
           },
           "bgcolor": "#E5ECF6",
           "radialaxis": {
            "gridcolor": "white",
            "linecolor": "white",
            "ticks": ""
           }
          },
          "scene": {
           "xaxis": {
            "backgroundcolor": "#E5ECF6",
            "gridcolor": "white",
            "gridwidth": 2,
            "linecolor": "white",
            "showbackground": true,
            "ticks": "",
            "zerolinecolor": "white"
           },
           "yaxis": {
            "backgroundcolor": "#E5ECF6",
            "gridcolor": "white",
            "gridwidth": 2,
            "linecolor": "white",
            "showbackground": true,
            "ticks": "",
            "zerolinecolor": "white"
           },
           "zaxis": {
            "backgroundcolor": "#E5ECF6",
            "gridcolor": "white",
            "gridwidth": 2,
            "linecolor": "white",
            "showbackground": true,
            "ticks": "",
            "zerolinecolor": "white"
           }
          },
          "shapedefaults": {
           "line": {
            "color": "#2a3f5f"
           }
          },
          "ternary": {
           "aaxis": {
            "gridcolor": "white",
            "linecolor": "white",
            "ticks": ""
           },
           "baxis": {
            "gridcolor": "white",
            "linecolor": "white",
            "ticks": ""
           },
           "bgcolor": "#E5ECF6",
           "caxis": {
            "gridcolor": "white",
            "linecolor": "white",
            "ticks": ""
           }
          },
          "title": {
           "x": 0.05
          },
          "xaxis": {
           "automargin": true,
           "gridcolor": "white",
           "linecolor": "white",
           "ticks": "",
           "title": {
            "standoff": 15
           },
           "zerolinecolor": "white",
           "zerolinewidth": 2
          },
          "yaxis": {
           "automargin": true,
           "gridcolor": "white",
           "linecolor": "white",
           "ticks": "",
           "title": {
            "standoff": 15
           },
           "zerolinecolor": "white",
           "zerolinewidth": 2
          }
         }
        },
        "xaxis": {
         "anchor": "y",
         "domain": [
          0,
          1
         ],
         "title": {
          "text": "index"
         }
        },
        "yaxis": {
         "anchor": "x",
         "domain": [
          0,
          1
         ],
         "title": {
          "text": "sum_likely_increase"
         }
        }
       }
      },
      "text/html": [
       "<div>\n",
       "        \n",
       "        \n",
       "            <div id=\"75e648b0-7d2c-485b-a893-3e1b43678b2b\" class=\"plotly-graph-div\" style=\"height:525px; width:100%;\"></div>\n",
       "            <script type=\"text/javascript\">\n",
       "                require([\"plotly\"], function(Plotly) {\n",
       "                    window.PLOTLYENV=window.PLOTLYENV || {};\n",
       "                    \n",
       "                if (document.getElementById(\"75e648b0-7d2c-485b-a893-3e1b43678b2b\")) {\n",
       "                    Plotly.newPlot(\n",
       "                        '75e648b0-7d2c-485b-a893-3e1b43678b2b',\n",
       "                        [{\"hovertemplate\": \"index=%{x}<br>sum_likely_increase=%{y}<extra></extra>\", \"legendgroup\": \"\", \"marker\": {\"color\": \"#636efa\", \"symbol\": \"circle\"}, \"mode\": \"markers\", \"name\": \"\", \"showlegend\": false, \"type\": \"scatter\", \"x\": [0, 1, 2, 3, 4, 5, 6, 7, 8, 9, 10, 11, 12, 13, 14, 15, 16, 17, 18, 19, 20, 21, 22, 23, 24, 25, 26, 27, 28, 29, 30, 31, 32, 33, 34, 35, 36, 37, 38, 39, 40, 41, 42, 43, 44, 45, 46, 47, 48, 49, 50, 51, 52, 53, 54, 55, 56, 57], \"xaxis\": \"x\", \"y\": [899.7360211988041, 1757.744551893032, 2615.7530825872614, 3473.7616132814865, 4331.77014397571, 5189.778674669946, 6047.787205364176, 6905.795736058405, 7763.804266752641, 8621.81279744686, 9479.821328141092, 10337.829858835315, 11195.838389529563, 12053.846920223781, 12911.855450918009, 13769.863981612241, 14627.872512306467, 15485.881043000682, 16343.889573694925, 17201.898104389165, 18059.9066350834, 18917.91516577761, 19775.92369647183, 20633.93222716609, 21491.940757860284, 22349.94928855454, 23207.957819248775, 24065.966349942995, 24923.974880637244, 25781.98341133147, 26639.99194202567, 27498.0004727199, 28356.009003414147, 29214.017534108352, 30072.026064802583, 30930.03459549685, 31788.043126191056, 32646.051656885298, 33504.060187579504, 34362.06871827375, 35220.07724896796, 36078.08577966216, 36936.09431035642, 37794.10284105067, 38652.11137174485, 39510.119902439146, 40368.12843313329, 41226.13696382754, 42084.145494521734, 42942.15402521598, 43800.16255591025, 44658.17108660445, 45516.17961729871, 46374.188147993, 47232.19667868718, 48090.205209381405, 48948.213740075626, 49806.22227076983], \"yaxis\": \"y\"}],\n",
       "                        {\"legend\": {\"tracegroupgap\": 0}, \"margin\": {\"t\": 60}, \"template\": {\"data\": {\"bar\": [{\"error_x\": {\"color\": \"#2a3f5f\"}, \"error_y\": {\"color\": \"#2a3f5f\"}, \"marker\": {\"line\": {\"color\": \"#E5ECF6\", \"width\": 0.5}}, \"type\": \"bar\"}], \"barpolar\": [{\"marker\": {\"line\": {\"color\": \"#E5ECF6\", \"width\": 0.5}}, \"type\": \"barpolar\"}], \"carpet\": [{\"aaxis\": {\"endlinecolor\": \"#2a3f5f\", \"gridcolor\": \"white\", \"linecolor\": \"white\", \"minorgridcolor\": \"white\", \"startlinecolor\": \"#2a3f5f\"}, \"baxis\": {\"endlinecolor\": \"#2a3f5f\", \"gridcolor\": \"white\", \"linecolor\": \"white\", \"minorgridcolor\": \"white\", \"startlinecolor\": \"#2a3f5f\"}, \"type\": \"carpet\"}], \"choropleth\": [{\"colorbar\": {\"outlinewidth\": 0, \"ticks\": \"\"}, \"type\": \"choropleth\"}], \"contour\": [{\"colorbar\": {\"outlinewidth\": 0, \"ticks\": \"\"}, \"colorscale\": [[0.0, \"#0d0887\"], [0.1111111111111111, \"#46039f\"], [0.2222222222222222, \"#7201a8\"], [0.3333333333333333, \"#9c179e\"], [0.4444444444444444, \"#bd3786\"], [0.5555555555555556, \"#d8576b\"], [0.6666666666666666, \"#ed7953\"], [0.7777777777777778, \"#fb9f3a\"], [0.8888888888888888, \"#fdca26\"], [1.0, \"#f0f921\"]], \"type\": \"contour\"}], \"contourcarpet\": [{\"colorbar\": {\"outlinewidth\": 0, \"ticks\": \"\"}, \"type\": \"contourcarpet\"}], \"heatmap\": [{\"colorbar\": {\"outlinewidth\": 0, \"ticks\": \"\"}, \"colorscale\": [[0.0, \"#0d0887\"], [0.1111111111111111, \"#46039f\"], [0.2222222222222222, \"#7201a8\"], [0.3333333333333333, \"#9c179e\"], [0.4444444444444444, \"#bd3786\"], [0.5555555555555556, \"#d8576b\"], [0.6666666666666666, \"#ed7953\"], [0.7777777777777778, \"#fb9f3a\"], [0.8888888888888888, \"#fdca26\"], [1.0, \"#f0f921\"]], \"type\": \"heatmap\"}], \"heatmapgl\": [{\"colorbar\": {\"outlinewidth\": 0, \"ticks\": \"\"}, \"colorscale\": [[0.0, \"#0d0887\"], [0.1111111111111111, \"#46039f\"], [0.2222222222222222, \"#7201a8\"], [0.3333333333333333, \"#9c179e\"], [0.4444444444444444, \"#bd3786\"], [0.5555555555555556, \"#d8576b\"], [0.6666666666666666, \"#ed7953\"], [0.7777777777777778, \"#fb9f3a\"], [0.8888888888888888, \"#fdca26\"], [1.0, \"#f0f921\"]], \"type\": \"heatmapgl\"}], \"histogram\": [{\"marker\": {\"colorbar\": {\"outlinewidth\": 0, \"ticks\": \"\"}}, \"type\": \"histogram\"}], \"histogram2d\": [{\"colorbar\": {\"outlinewidth\": 0, \"ticks\": \"\"}, \"colorscale\": [[0.0, \"#0d0887\"], [0.1111111111111111, \"#46039f\"], [0.2222222222222222, \"#7201a8\"], [0.3333333333333333, \"#9c179e\"], [0.4444444444444444, \"#bd3786\"], [0.5555555555555556, \"#d8576b\"], [0.6666666666666666, \"#ed7953\"], [0.7777777777777778, \"#fb9f3a\"], [0.8888888888888888, \"#fdca26\"], [1.0, \"#f0f921\"]], \"type\": \"histogram2d\"}], \"histogram2dcontour\": [{\"colorbar\": {\"outlinewidth\": 0, \"ticks\": \"\"}, \"colorscale\": [[0.0, \"#0d0887\"], [0.1111111111111111, \"#46039f\"], [0.2222222222222222, \"#7201a8\"], [0.3333333333333333, \"#9c179e\"], [0.4444444444444444, \"#bd3786\"], [0.5555555555555556, \"#d8576b\"], [0.6666666666666666, \"#ed7953\"], [0.7777777777777778, \"#fb9f3a\"], [0.8888888888888888, \"#fdca26\"], [1.0, \"#f0f921\"]], \"type\": \"histogram2dcontour\"}], \"mesh3d\": [{\"colorbar\": {\"outlinewidth\": 0, \"ticks\": \"\"}, \"type\": \"mesh3d\"}], \"parcoords\": [{\"line\": {\"colorbar\": {\"outlinewidth\": 0, \"ticks\": \"\"}}, \"type\": \"parcoords\"}], \"pie\": [{\"automargin\": true, \"type\": \"pie\"}], \"scatter\": [{\"marker\": {\"colorbar\": {\"outlinewidth\": 0, \"ticks\": \"\"}}, \"type\": \"scatter\"}], \"scatter3d\": [{\"line\": {\"colorbar\": {\"outlinewidth\": 0, \"ticks\": \"\"}}, \"marker\": {\"colorbar\": {\"outlinewidth\": 0, \"ticks\": \"\"}}, \"type\": \"scatter3d\"}], \"scattercarpet\": [{\"marker\": {\"colorbar\": {\"outlinewidth\": 0, \"ticks\": \"\"}}, \"type\": \"scattercarpet\"}], \"scattergeo\": [{\"marker\": {\"colorbar\": {\"outlinewidth\": 0, \"ticks\": \"\"}}, \"type\": \"scattergeo\"}], \"scattergl\": [{\"marker\": {\"colorbar\": {\"outlinewidth\": 0, \"ticks\": \"\"}}, \"type\": \"scattergl\"}], \"scattermapbox\": [{\"marker\": {\"colorbar\": {\"outlinewidth\": 0, \"ticks\": \"\"}}, \"type\": \"scattermapbox\"}], \"scatterpolar\": [{\"marker\": {\"colorbar\": {\"outlinewidth\": 0, \"ticks\": \"\"}}, \"type\": \"scatterpolar\"}], \"scatterpolargl\": [{\"marker\": {\"colorbar\": {\"outlinewidth\": 0, \"ticks\": \"\"}}, \"type\": \"scatterpolargl\"}], \"scatterternary\": [{\"marker\": {\"colorbar\": {\"outlinewidth\": 0, \"ticks\": \"\"}}, \"type\": \"scatterternary\"}], \"surface\": [{\"colorbar\": {\"outlinewidth\": 0, \"ticks\": \"\"}, \"colorscale\": [[0.0, \"#0d0887\"], [0.1111111111111111, \"#46039f\"], [0.2222222222222222, \"#7201a8\"], [0.3333333333333333, \"#9c179e\"], [0.4444444444444444, \"#bd3786\"], [0.5555555555555556, \"#d8576b\"], [0.6666666666666666, \"#ed7953\"], [0.7777777777777778, \"#fb9f3a\"], [0.8888888888888888, \"#fdca26\"], [1.0, \"#f0f921\"]], \"type\": \"surface\"}], \"table\": [{\"cells\": {\"fill\": {\"color\": \"#EBF0F8\"}, \"line\": {\"color\": \"white\"}}, \"header\": {\"fill\": {\"color\": \"#C8D4E3\"}, \"line\": {\"color\": \"white\"}}, \"type\": \"table\"}]}, \"layout\": {\"annotationdefaults\": {\"arrowcolor\": \"#2a3f5f\", \"arrowhead\": 0, \"arrowwidth\": 1}, \"coloraxis\": {\"colorbar\": {\"outlinewidth\": 0, \"ticks\": \"\"}}, \"colorscale\": {\"diverging\": [[0, \"#8e0152\"], [0.1, \"#c51b7d\"], [0.2, \"#de77ae\"], [0.3, \"#f1b6da\"], [0.4, \"#fde0ef\"], [0.5, \"#f7f7f7\"], [0.6, \"#e6f5d0\"], [0.7, \"#b8e186\"], [0.8, \"#7fbc41\"], [0.9, \"#4d9221\"], [1, \"#276419\"]], \"sequential\": [[0.0, \"#0d0887\"], [0.1111111111111111, \"#46039f\"], [0.2222222222222222, \"#7201a8\"], [0.3333333333333333, \"#9c179e\"], [0.4444444444444444, \"#bd3786\"], [0.5555555555555556, \"#d8576b\"], [0.6666666666666666, \"#ed7953\"], [0.7777777777777778, \"#fb9f3a\"], [0.8888888888888888, \"#fdca26\"], [1.0, \"#f0f921\"]], \"sequentialminus\": [[0.0, \"#0d0887\"], [0.1111111111111111, \"#46039f\"], [0.2222222222222222, \"#7201a8\"], [0.3333333333333333, \"#9c179e\"], [0.4444444444444444, \"#bd3786\"], [0.5555555555555556, \"#d8576b\"], [0.6666666666666666, \"#ed7953\"], [0.7777777777777778, \"#fb9f3a\"], [0.8888888888888888, \"#fdca26\"], [1.0, \"#f0f921\"]]}, \"colorway\": [\"#636efa\", \"#EF553B\", \"#00cc96\", \"#ab63fa\", \"#FFA15A\", \"#19d3f3\", \"#FF6692\", \"#B6E880\", \"#FF97FF\", \"#FECB52\"], \"font\": {\"color\": \"#2a3f5f\"}, \"geo\": {\"bgcolor\": \"white\", \"lakecolor\": \"white\", \"landcolor\": \"#E5ECF6\", \"showlakes\": true, \"showland\": true, \"subunitcolor\": \"white\"}, \"hoverlabel\": {\"align\": \"left\"}, \"hovermode\": \"closest\", \"mapbox\": {\"style\": \"light\"}, \"paper_bgcolor\": \"white\", \"plot_bgcolor\": \"#E5ECF6\", \"polar\": {\"angularaxis\": {\"gridcolor\": \"white\", \"linecolor\": \"white\", \"ticks\": \"\"}, \"bgcolor\": \"#E5ECF6\", \"radialaxis\": {\"gridcolor\": \"white\", \"linecolor\": \"white\", \"ticks\": \"\"}}, \"scene\": {\"xaxis\": {\"backgroundcolor\": \"#E5ECF6\", \"gridcolor\": \"white\", \"gridwidth\": 2, \"linecolor\": \"white\", \"showbackground\": true, \"ticks\": \"\", \"zerolinecolor\": \"white\"}, \"yaxis\": {\"backgroundcolor\": \"#E5ECF6\", \"gridcolor\": \"white\", \"gridwidth\": 2, \"linecolor\": \"white\", \"showbackground\": true, \"ticks\": \"\", \"zerolinecolor\": \"white\"}, \"zaxis\": {\"backgroundcolor\": \"#E5ECF6\", \"gridcolor\": \"white\", \"gridwidth\": 2, \"linecolor\": \"white\", \"showbackground\": true, \"ticks\": \"\", \"zerolinecolor\": \"white\"}}, \"shapedefaults\": {\"line\": {\"color\": \"#2a3f5f\"}}, \"ternary\": {\"aaxis\": {\"gridcolor\": \"white\", \"linecolor\": \"white\", \"ticks\": \"\"}, \"baxis\": {\"gridcolor\": \"white\", \"linecolor\": \"white\", \"ticks\": \"\"}, \"bgcolor\": \"#E5ECF6\", \"caxis\": {\"gridcolor\": \"white\", \"linecolor\": \"white\", \"ticks\": \"\"}}, \"title\": {\"x\": 0.05}, \"xaxis\": {\"automargin\": true, \"gridcolor\": \"white\", \"linecolor\": \"white\", \"ticks\": \"\", \"title\": {\"standoff\": 15}, \"zerolinecolor\": \"white\", \"zerolinewidth\": 2}, \"yaxis\": {\"automargin\": true, \"gridcolor\": \"white\", \"linecolor\": \"white\", \"ticks\": \"\", \"title\": {\"standoff\": 15}, \"zerolinecolor\": \"white\", \"zerolinewidth\": 2}}}, \"xaxis\": {\"anchor\": \"y\", \"domain\": [0.0, 1.0], \"title\": {\"text\": \"index\"}}, \"yaxis\": {\"anchor\": \"x\", \"domain\": [0.0, 1.0], \"title\": {\"text\": \"sum_likely_increase\"}}},\n",
       "                        {\"responsive\": true}\n",
       "                    ).then(function(){\n",
       "                            \n",
       "var gd = document.getElementById('75e648b0-7d2c-485b-a893-3e1b43678b2b');\n",
       "var x = new MutationObserver(function (mutations, observer) {{\n",
       "        var display = window.getComputedStyle(gd).display;\n",
       "        if (!display || display === 'none') {{\n",
       "            console.log([gd, 'removed!']);\n",
       "            Plotly.purge(gd);\n",
       "            observer.disconnect();\n",
       "        }}\n",
       "}});\n",
       "\n",
       "// Listen for the removal of the full notebook cells\n",
       "var notebookContainer = gd.closest('#notebook-container');\n",
       "if (notebookContainer) {{\n",
       "    x.observe(notebookContainer, {childList: true});\n",
       "}}\n",
       "\n",
       "// Listen for the clearing of the current output cell\n",
       "var outputEl = gd.closest('.output');\n",
       "if (outputEl) {{\n",
       "    x.observe(outputEl, {childList: true});\n",
       "}}\n",
       "\n",
       "                        })\n",
       "                };\n",
       "                });\n",
       "            </script>\n",
       "        </div>"
      ]
     },
     "metadata": {},
     "output_type": "display_data"
    }
   ],
   "source": [
    "sums = pd.DataFrame(sums, columns=['sum_likely_increase'])\n",
    "px.scatter(sums,\n",
    "           x=sums.index,\n",
    "           y='sum_likely_increase')"
   ]
  },
  {
   "cell_type": "code",
   "execution_count": 252,
   "metadata": {
    "scrolled": true
   },
   "outputs": [
    {
     "data": {
      "text/plain": [
       "50004.089398296026"
      ]
     },
     "execution_count": 252,
     "metadata": {},
     "output_type": "execute_result"
    }
   ],
   "source": [
    "res_df.opt_pred.sum()"
   ]
  },
  {
   "cell_type": "code",
   "execution_count": 147,
   "metadata": {},
   "outputs": [
    {
     "data": {
      "text/html": [
       "<div>\n",
       "<style scoped>\n",
       "    .dataframe tbody tr th:only-of-type {\n",
       "        vertical-align: middle;\n",
       "    }\n",
       "\n",
       "    .dataframe tbody tr th {\n",
       "        vertical-align: top;\n",
       "    }\n",
       "\n",
       "    .dataframe thead th {\n",
       "        text-align: right;\n",
       "    }\n",
       "</style>\n",
       "<table border=\"1\" class=\"dataframe\">\n",
       "  <thead>\n",
       "    <tr style=\"text-align: right;\">\n",
       "      <th></th>\n",
       "      <th>index</th>\n",
       "      <th>pred</th>\n",
       "      <th>opt_pred</th>\n",
       "    </tr>\n",
       "  </thead>\n",
       "  <tbody>\n",
       "    <tr>\n",
       "      <th>0</th>\n",
       "      <td>7</td>\n",
       "      <td>0.052085</td>\n",
       "      <td>95.459945</td>\n",
       "    </tr>\n",
       "    <tr>\n",
       "      <th>1</th>\n",
       "      <td>8</td>\n",
       "      <td>0.041013</td>\n",
       "      <td>98.244556</td>\n",
       "    </tr>\n",
       "    <tr>\n",
       "      <th>2</th>\n",
       "      <td>12</td>\n",
       "      <td>0.040515</td>\n",
       "      <td>98.385967</td>\n",
       "    </tr>\n",
       "    <tr>\n",
       "      <th>3</th>\n",
       "      <td>27</td>\n",
       "      <td>0.040134</td>\n",
       "      <td>98.495224</td>\n",
       "    </tr>\n",
       "    <tr>\n",
       "      <th>4</th>\n",
       "      <td>36</td>\n",
       "      <td>0.041331</td>\n",
       "      <td>98.154990</td>\n",
       "    </tr>\n",
       "    <tr>\n",
       "      <th>...</th>\n",
       "      <td>...</td>\n",
       "      <td>...</td>\n",
       "      <td>...</td>\n",
       "    </tr>\n",
       "    <tr>\n",
       "      <th>885</th>\n",
       "      <td>885</td>\n",
       "      <td>0.040630</td>\n",
       "      <td>52.301541</td>\n",
       "    </tr>\n",
       "    <tr>\n",
       "      <th>886</th>\n",
       "      <td>886</td>\n",
       "      <td>0.053313</td>\n",
       "      <td>52.512606</td>\n",
       "    </tr>\n",
       "    <tr>\n",
       "      <th>887</th>\n",
       "      <td>887</td>\n",
       "      <td>0.062798</td>\n",
       "      <td>52.640326</td>\n",
       "    </tr>\n",
       "    <tr>\n",
       "      <th>888</th>\n",
       "      <td>888</td>\n",
       "      <td>0.040166</td>\n",
       "      <td>52.292684</td>\n",
       "    </tr>\n",
       "    <tr>\n",
       "      <th>889</th>\n",
       "      <td>889</td>\n",
       "      <td>0.040298</td>\n",
       "      <td>52.295223</td>\n",
       "    </tr>\n",
       "  </tbody>\n",
       "</table>\n",
       "<p>890 rows × 3 columns</p>\n",
       "</div>"
      ],
      "text/plain": [
       "     index      pred   opt_pred\n",
       "0        7  0.052085  95.459945\n",
       "1        8  0.041013  98.244556\n",
       "2       12  0.040515  98.385967\n",
       "3       27  0.040134  98.495224\n",
       "4       36  0.041331  98.154990\n",
       "..     ...       ...        ...\n",
       "885    885  0.040630  52.301541\n",
       "886    886  0.053313  52.512606\n",
       "887    887  0.062798  52.640326\n",
       "888    888  0.040166  52.292684\n",
       "889    889  0.040298  52.295223\n",
       "\n",
       "[890 rows x 3 columns]"
      ]
     },
     "execution_count": 147,
     "metadata": {},
     "output_type": "execute_result"
    }
   ],
   "source": [
    "res_df.drop(['eei', 'p_increase', 'p_increase2'], axis=1, inplace=True)\n",
    "res_df.rename(columns= {\n",
    "    \"Index\": \"index\",\n",
    "    \"y_pred\": \"pred\"\n",
    "}, inplace=True)\n",
    "res_df"
   ]
  },
  {
   "cell_type": "code",
   "execution_count": 148,
   "metadata": {},
   "outputs": [],
   "source": [
    "res_df.to_csv('../../submissions/pending/lgb_val0525.csv', index=False)"
   ]
  },
  {
   "cell_type": "code",
   "execution_count": null,
   "metadata": {},
   "outputs": [],
   "source": []
  },
  {
   "cell_type": "code",
   "execution_count": 13,
   "metadata": {},
   "outputs": [],
   "source": [
    "from scipy.optimize import minimize"
   ]
  },
  {
   "cell_type": "code",
   "execution_count": 14,
   "metadata": {},
   "outputs": [
    {
     "data": {
      "text/html": [
       "<div>\n",
       "<style scoped>\n",
       "    .dataframe tbody tr th:only-of-type {\n",
       "        vertical-align: middle;\n",
       "    }\n",
       "\n",
       "    .dataframe tbody tr th {\n",
       "        vertical-align: top;\n",
       "    }\n",
       "\n",
       "    .dataframe thead th {\n",
       "        text-align: right;\n",
       "    }\n",
       "</style>\n",
       "<table border=\"1\" class=\"dataframe\">\n",
       "  <thead>\n",
       "    <tr style=\"text-align: right;\">\n",
       "      <th></th>\n",
       "      <th>Index</th>\n",
       "      <th>y_pred</th>\n",
       "      <th>opt_pred</th>\n",
       "      <th>eei</th>\n",
       "      <th>p_increase</th>\n",
       "      <th>p_increase2</th>\n",
       "      <th>is_low</th>\n",
       "    </tr>\n",
       "  </thead>\n",
       "  <tbody>\n",
       "    <tr>\n",
       "      <th>0</th>\n",
       "      <td>779</td>\n",
       "      <td>0.037000</td>\n",
       "      <td>0.067767</td>\n",
       "      <td>0.671839</td>\n",
       "      <td>6.057610</td>\n",
       "      <td>36.694633</td>\n",
       "      <td>True</td>\n",
       "    </tr>\n",
       "    <tr>\n",
       "      <th>1</th>\n",
       "      <td>102</td>\n",
       "      <td>0.040192</td>\n",
       "      <td>0.077457</td>\n",
       "      <td>0.625940</td>\n",
       "      <td>5.991898</td>\n",
       "      <td>35.902836</td>\n",
       "      <td>True</td>\n",
       "    </tr>\n",
       "    <tr>\n",
       "      <th>2</th>\n",
       "      <td>770</td>\n",
       "      <td>0.040934</td>\n",
       "      <td>0.060119</td>\n",
       "      <td>0.622795</td>\n",
       "      <td>5.977219</td>\n",
       "      <td>35.727151</td>\n",
       "      <td>True</td>\n",
       "    </tr>\n",
       "    <tr>\n",
       "      <th>3</th>\n",
       "      <td>135</td>\n",
       "      <td>0.044197</td>\n",
       "      <td>0.008079</td>\n",
       "      <td>0.638031</td>\n",
       "      <td>5.915136</td>\n",
       "      <td>34.988839</td>\n",
       "      <td>True</td>\n",
       "    </tr>\n",
       "    <tr>\n",
       "      <th>4</th>\n",
       "      <td>134</td>\n",
       "      <td>0.040915</td>\n",
       "      <td>0.033106</td>\n",
       "      <td>0.661415</td>\n",
       "      <td>5.977603</td>\n",
       "      <td>35.731739</td>\n",
       "      <td>True</td>\n",
       "    </tr>\n",
       "    <tr>\n",
       "      <th>...</th>\n",
       "      <td>...</td>\n",
       "      <td>...</td>\n",
       "      <td>...</td>\n",
       "      <td>...</td>\n",
       "      <td>...</td>\n",
       "      <td>...</td>\n",
       "      <td>...</td>\n",
       "    </tr>\n",
       "    <tr>\n",
       "      <th>885</th>\n",
       "      <td>320</td>\n",
       "      <td>0.049205</td>\n",
       "      <td>0.014917</td>\n",
       "      <td>0.984015</td>\n",
       "      <td>5.826742</td>\n",
       "      <td>33.950917</td>\n",
       "      <td>False</td>\n",
       "    </tr>\n",
       "    <tr>\n",
       "      <th>886</th>\n",
       "      <td>321</td>\n",
       "      <td>0.038909</td>\n",
       "      <td>0.091792</td>\n",
       "      <td>0.782038</td>\n",
       "      <td>6.017789</td>\n",
       "      <td>36.213790</td>\n",
       "      <td>False</td>\n",
       "    </tr>\n",
       "    <tr>\n",
       "      <th>887</th>\n",
       "      <td>322</td>\n",
       "      <td>0.059257</td>\n",
       "      <td>0.037545</td>\n",
       "      <td>0.857392</td>\n",
       "      <td>5.669933</td>\n",
       "      <td>32.148144</td>\n",
       "      <td>False</td>\n",
       "    </tr>\n",
       "    <tr>\n",
       "      <th>888</th>\n",
       "      <td>323</td>\n",
       "      <td>0.229656</td>\n",
       "      <td>0.089287</td>\n",
       "      <td>1.036835</td>\n",
       "      <td>4.428552</td>\n",
       "      <td>19.612072</td>\n",
       "      <td>False</td>\n",
       "    </tr>\n",
       "    <tr>\n",
       "      <th>889</th>\n",
       "      <td>889</td>\n",
       "      <td>0.040298</td>\n",
       "      <td>0.030659</td>\n",
       "      <td>0.771783</td>\n",
       "      <td>5.989784</td>\n",
       "      <td>35.877511</td>\n",
       "      <td>False</td>\n",
       "    </tr>\n",
       "  </tbody>\n",
       "</table>\n",
       "<p>890 rows × 7 columns</p>\n",
       "</div>"
      ],
      "text/plain": [
       "     Index    y_pred  opt_pred       eei  p_increase  p_increase2  is_low\n",
       "0      779  0.037000  0.067767  0.671839    6.057610    36.694633    True\n",
       "1      102  0.040192  0.077457  0.625940    5.991898    35.902836    True\n",
       "2      770  0.040934  0.060119  0.622795    5.977219    35.727151    True\n",
       "3      135  0.044197  0.008079  0.638031    5.915136    34.988839    True\n",
       "4      134  0.040915  0.033106  0.661415    5.977603    35.731739    True\n",
       "..     ...       ...       ...       ...         ...          ...     ...\n",
       "885    320  0.049205  0.014917  0.984015    5.826742    33.950917   False\n",
       "886    321  0.038909  0.091792  0.782038    6.017789    36.213790   False\n",
       "887    322  0.059257  0.037545  0.857392    5.669933    32.148144   False\n",
       "888    323  0.229656  0.089287  1.036835    4.428552    19.612072   False\n",
       "889    889  0.040298  0.030659  0.771783    5.989784    35.877511   False\n",
       "\n",
       "[890 rows x 7 columns]"
      ]
     },
     "execution_count": 14,
     "metadata": {},
     "output_type": "execute_result"
    }
   ],
   "source": [
    "preds['is_low'] = False\n",
    "preds.loc[preds.eei < 0.7, 'is_low'] = True\n",
    "preds.sort_values(by='is_low', ascending=False, inplace=True)\n",
    "preds.reset_index(drop=True, inplace=True)\n",
    "preds"
   ]
  },
  {
   "cell_type": "code",
   "execution_count": 15,
   "metadata": {
    "code_folding": []
   },
   "outputs": [],
   "source": [
    "def neg_total_likely_increase(opt_pred, p_sqr):\n",
    "    return -sum((opt_pred * p_sqr) / 1000)\n",
    "\n",
    "\n",
    "def objective(energy, p2):\n",
    "    return neg_total_likely_increase(energy, p2)"
   ]
  },
  {
   "cell_type": "code",
   "execution_count": 23,
   "metadata": {},
   "outputs": [
    {
     "name": "stdout",
     "output_type": "stream",
     "text": [
      "Wall time: 2min 3s\n"
     ]
    }
   ],
   "source": [
    "%%time\n",
    "m = test.shape[0]\n",
    "bounds = [(0,100) for _ in range(m)]\n",
    "\n",
    "# low_p2 = preds.loc[preds['eei'] < 0.7,'p_increase2'].copy().tolist()\n",
    "# high_p2 = preds.loc[preds['eei'] >= 0.7,'p_increase2'].copy().tolist()\n",
    "m_low = preds.loc[preds['eei'] < 0.7,'p_increase2'].shape[0]\n",
    "p2 = preds['p_increase2']\n",
    "\n",
    "cons = (\n",
    "    {\"type\": \"ineq\", \"fun\": lambda x: 50000 - sum(x)},\n",
    "    {\"type\": \"ineq\", \"fun\": lambda x: sum(x[:m_low]) - 5000}\n",
    ")\n",
    "\n",
    "history = minimize(objective, x0=np.random.randn(m),\n",
    "                   args=(p2),\n",
    "                   bounds=bounds, constraints=cons)"
   ]
  },
  {
   "cell_type": "code",
   "execution_count": 24,
   "metadata": {
    "scrolled": true
   },
   "outputs": [
    {
     "name": "stdout",
     "output_type": "stream",
     "text": [
      "50000.00000154799\n"
     ]
    },
    {
     "data": {
      "text/plain": [
       "array([1.39754447e+01, 6.85646927e+01, 9.69302728e+01, 9.94299265e+01,\n",
       "       9.86393325e+01, 9.84836132e+01, 9.84240383e+01, 9.76401640e+01,\n",
       "       7.44792396e+01, 9.76593893e+01, 7.79339295e+01, 9.84084495e+01,\n",
       "       9.32709156e+01, 9.90915818e+01, 9.87594522e+01, 9.84507942e+01,\n",
       "       6.60979185e+01, 7.97402533e+01, 9.85374775e+01, 9.73564632e+01,\n",
       "       6.49106623e+01, 3.07716545e+01, 6.40484605e+01, 9.61690770e+01,\n",
       "       9.54823826e+01, 7.15187637e+01, 2.61144166e+01, 5.12747950e+01,\n",
       "       9.87541897e+01, 9.86657448e+01, 9.92578002e+01, 9.92621691e+01,\n",
       "       1.00000000e+02, 9.85733467e+01, 1.00000000e+02, 7.10599733e+01,\n",
       "       9.86815392e+01, 8.07607939e+01, 1.00000000e+02, 9.62960563e+01,\n",
       "       9.13531806e+01, 9.72355170e+01, 9.51772671e+01, 9.80338459e+01,\n",
       "       9.92775869e+01, 7.87304734e+01, 9.85081383e+01, 2.50612375e+01,\n",
       "       9.84170341e+01, 9.89235054e+01, 9.95901912e+01, 9.90540589e+01,\n",
       "       9.84813492e+01, 9.88123123e+01, 9.90068122e+01, 9.86292384e+01,\n",
       "       9.84662512e+01, 9.86908827e+01, 9.63105342e+01, 9.72687905e+01,\n",
       "       9.21874754e+00, 6.51892605e+01, 6.68186953e+01, 8.27505415e+01,\n",
       "       9.79293415e+01, 9.86949774e+01, 9.65752440e+01, 9.37224781e+01,\n",
       "       4.39313612e+01, 4.66713012e-10, 5.47569053e+01, 9.54693684e+01,\n",
       "       5.61690627e+01, 5.36175580e+01, 5.79954267e+01, 5.93042922e+01,\n",
       "       8.81741842e+01, 6.62285140e+01, 7.36407223e+01, 9.32767858e+01,\n",
       "       8.72348265e+01, 5.75935781e+01, 4.63614487e-10, 5.01667246e-10,\n",
       "       9.19013504e+01, 9.47157079e+01, 1.37265767e+01, 9.78453364e+01,\n",
       "       9.04217115e+01, 5.99670895e+01, 9.33883866e+01, 4.39439046e+01,\n",
       "       7.71109792e+01, 9.63826206e+01, 7.52580768e+01, 4.00190881e+01,\n",
       "       8.49391585e+01, 6.25744036e+01, 6.18619350e+01, 4.17808150e+01,\n",
       "       5.50202615e+01, 5.12835485e+01, 4.46927060e-10, 7.05623145e+01,\n",
       "       3.22993503e+01, 5.41296494e+01, 4.34878660e+01, 6.89051075e+01,\n",
       "       6.22254128e+01, 5.17444052e-10, 6.19127122e+01, 9.47142682e+01,\n",
       "       4.94563447e+01, 8.34181045e+01, 6.37834764e+01, 8.84665758e+01,\n",
       "       4.50284122e-10, 7.80989149e+01, 5.12469175e+01, 9.75058288e+01,\n",
       "       2.67408460e+01, 9.10729619e+01, 6.35424079e+01, 5.69111107e+01,\n",
       "       4.99469279e-10, 6.58807756e+01, 8.41497039e+00, 6.44037651e+01,\n",
       "       7.51468398e+01, 4.72133546e-10, 7.59523034e+01, 4.40642162e-10,\n",
       "       3.69477439e+01, 4.38580206e-10, 3.13218331e+00, 1.46921599e+01,\n",
       "       9.32940313e+01, 5.15071224e+01, 9.40858903e+01, 9.47143123e+01,\n",
       "       8.27525938e+01, 3.08106077e-01, 5.13434304e-10, 5.36075923e-10,\n",
       "       8.94513761e+01, 9.34607737e+01, 9.56964044e+01, 2.51590855e+01,\n",
       "       4.48816857e-10, 7.96329902e+01, 4.90005762e-10, 6.63905393e+01,\n",
       "       5.97830452e+01, 9.43311806e+01, 8.58523548e+01, 8.41632345e+01,\n",
       "       8.29754240e+01, 3.29235831e-01, 3.86919522e+01, 9.24441358e+01,\n",
       "       5.12698811e-10, 8.98223494e+01, 8.88646292e+01, 5.74001782e+01,\n",
       "       6.96046891e+01, 8.99655088e+01, 8.63175514e+01, 9.75180260e+01,\n",
       "       6.84387033e+01, 1.26645695e-01, 4.11003642e-10, 8.96195233e+01,\n",
       "       9.24444580e+01, 4.77241276e-10, 6.57829631e+01, 5.39153882e+01,\n",
       "       9.56724019e+01, 6.31376867e-01, 9.97369734e+01, 7.89222292e+01,\n",
       "       6.15315849e+01, 6.39405539e+01, 4.43678018e+01, 8.44261937e+01,\n",
       "       2.82125292e+01, 4.88406492e+01, 3.95366505e+01, 4.49987981e+01,\n",
       "       6.37689109e+01, 5.37815475e+01, 8.65677845e+01, 7.09580370e+01,\n",
       "       7.88300173e+01, 4.91091540e+01, 4.21110823e-10, 8.28136358e-01,\n",
       "       8.65082545e+01, 3.91822271e+01, 7.11575427e+01, 5.74287943e+01,\n",
       "       4.09464739e-10, 3.79386035e+01, 9.47228530e+01, 6.69466790e+01,\n",
       "       9.14561564e+01, 9.51748833e+01, 6.95998146e+01, 4.41955301e-10,\n",
       "       4.53398102e-10, 6.97416822e+01, 8.30634197e+01, 4.16640127e-10,\n",
       "       2.28683596e+01, 9.16869040e+01, 6.97754057e+01, 9.44017874e+01,\n",
       "       4.35132777e+01, 3.40766794e+01, 8.10233620e+01, 4.99416246e+01,\n",
       "       8.36493411e+01, 4.38900239e-10, 7.89995808e+01, 3.93050828e+01,\n",
       "       5.29615704e+01, 8.23236112e+01, 4.48187100e-10, 9.21086325e+01,\n",
       "       6.90757324e+01, 8.48634264e+01, 4.46275761e+01, 8.08019925e+01,\n",
       "       2.06795060e+01, 2.73136594e+01, 5.01498399e+01, 3.97358321e-10,\n",
       "       3.78328968e-10, 4.72984121e-10, 6.92101158e+01, 7.96205933e+01,\n",
       "       9.25405951e+01, 6.59226730e+01, 9.30324178e+01, 7.89832071e+01,\n",
       "       9.14224820e+01, 5.18790564e+01, 4.69746763e+01, 5.57663230e+01,\n",
       "       7.72370695e+01, 9.50335081e+01, 6.44957720e+01, 2.91227667e-01,\n",
       "       6.91290173e+01, 9.18402882e+01, 4.36899415e+01, 8.78716740e+00,\n",
       "       6.84394749e+01, 7.25764479e+01, 5.03668752e-10, 5.54759062e+01,\n",
       "       9.33443589e+01, 9.12535775e+01, 7.68747978e+01, 5.67938067e+01,\n",
       "       7.80460078e+01, 3.96514859e+01, 5.53122551e+01, 3.21753211e+00,\n",
       "       9.53634762e+01, 5.76002814e+01, 2.48088362e+01, 4.14791366e-10,\n",
       "       6.22535625e+01, 9.63533597e+01, 4.94425212e+01, 9.68935736e+01,\n",
       "       3.16181369e+00, 5.82187765e+01, 6.14560861e+01, 5.15759407e-10,\n",
       "       4.52168388e-10, 7.26797957e+01, 5.15248947e-10, 4.74297799e-10,\n",
       "       4.32395256e+01, 5.76336715e+01, 7.87454699e+01, 6.39387362e+01,\n",
       "       6.66179678e+01, 9.61217677e+01, 5.82765567e+01, 2.02671847e+01,\n",
       "       4.75035093e-10, 9.12027597e+01, 4.78074090e+01, 6.92301915e+01,\n",
       "       5.77763479e+01, 4.43454074e-10, 2.94458483e+01, 1.84235556e+01,\n",
       "       4.77059208e-10, 8.59595869e+01, 5.56395828e+01, 9.04306672e+01,\n",
       "       7.97628529e+01, 4.74200761e-10, 9.08024679e+01, 6.77793195e+01,\n",
       "       3.84540363e+01, 7.85773990e+01, 4.56300940e-10, 3.67240476e+01,\n",
       "       4.69138610e+01, 3.16679523e-01, 4.59994454e-10, 5.68846986e+01,\n",
       "       5.73312060e+01, 9.75383140e+01, 5.25439766e+01, 8.95522494e+01,\n",
       "       3.54231626e+01, 6.83947206e+01, 9.29021129e+01, 6.23127130e+01,\n",
       "       4.59889212e-10, 3.02572207e+01, 5.95874046e+00, 8.49967855e+00,\n",
       "       8.66241779e+01, 4.05058604e+01, 9.27952261e+01, 7.25811153e+01,\n",
       "       6.03002569e+01, 9.36256835e+01, 4.88169974e-10, 8.96808725e+01,\n",
       "       2.85768694e+01, 7.57897616e+01, 6.46729194e+01, 9.57761705e+01,\n",
       "       3.00669046e+01, 4.42079282e-10, 9.44750293e+01, 4.46797041e+01,\n",
       "       1.46156208e-01, 2.23702254e+01, 8.51522451e+01, 6.90394664e+01,\n",
       "       7.69478937e+01, 4.24055142e-10, 6.66159439e+01, 9.53723515e+01,\n",
       "       7.21187062e+01, 4.84161002e-10, 4.57480188e-10, 7.46056172e+01,\n",
       "       9.31122767e+01, 8.35404526e+01, 9.58916091e+01, 7.19594341e+01,\n",
       "       4.82556534e-10, 5.32169943e+01, 8.94594964e+01, 4.71485731e-10,\n",
       "       2.16456620e+01, 5.48877274e+01, 3.05488708e+01, 6.98400528e+01,\n",
       "       9.10117444e+01, 6.23750714e+01, 9.04917415e+01, 4.42239642e-03,\n",
       "       4.98818557e+00, 9.11641441e+01, 5.60633027e+01, 5.16937715e+01,\n",
       "       9.32791273e+01, 8.27399436e+01, 8.57854674e+01, 6.31944844e+01,\n",
       "       4.49384203e-10, 6.05635347e+01, 5.57139391e+01, 9.02358722e+01,\n",
       "       4.65880361e-10, 9.68999310e+01, 9.30119598e+01, 4.06707065e+01,\n",
       "       7.03951344e+01, 4.45666789e+01, 1.33757629e+01, 2.58953245e+01,\n",
       "       3.68657761e+01, 8.90963705e+01, 7.13906509e+01, 8.43931442e+01,\n",
       "       5.47199052e+01, 7.64872278e+01, 9.26714329e+01, 6.36185992e+01,\n",
       "       4.62884548e-10, 9.43260548e+01, 5.85454561e+01, 5.00279895e-10,\n",
       "       4.58000023e-10, 9.23430063e+01, 8.55492109e+01, 9.56756002e+01,\n",
       "       8.04802283e+01, 4.12010069e-10, 2.39327339e+01, 7.71917100e+01,\n",
       "       3.10287179e-03, 3.60947537e+01, 5.08705445e-10, 8.00112581e+01,\n",
       "       7.09263966e+01, 7.39918222e-03, 7.57543661e+01, 4.26611172e-10,\n",
       "       4.03661926e+01, 4.63937579e-10, 9.51710029e+01, 4.84285708e+01,\n",
       "       4.06234094e+01, 8.70166962e+01, 6.87526765e+01, 7.95175779e+01,\n",
       "       7.26159223e+01, 4.39126873e-10, 7.12691108e+01, 4.80141028e-10,\n",
       "       1.55877540e-01, 9.00052670e+01, 8.70215260e+01, 8.49595430e+01,\n",
       "       8.17291902e+01, 4.11387051e-10, 2.17916174e+01, 8.46228461e+01,\n",
       "       4.84537600e-10, 6.71930065e+01, 6.94578323e+01, 6.09085405e+01,\n",
       "       7.81164598e+01, 8.63627473e+01, 2.78102895e+01, 1.78476065e-02,\n",
       "       6.90971698e+01, 9.31339711e+01, 5.50994440e+01, 6.84001477e+01,\n",
       "       5.73292206e+01, 4.77561618e-10, 9.24175973e+01, 4.06105139e+01,\n",
       "       3.81346611e+01, 5.83213038e+01, 9.67889176e-10, 2.90829615e+00,\n",
       "       9.18664943e+01, 4.93501147e-10, 9.35335981e+01, 4.90492358e+01,\n",
       "       9.38659400e+01, 1.98224177e+01, 9.64326078e+01, 7.61441419e+01,\n",
       "       9.72333960e+01, 4.56382727e-10, 8.25416593e+01, 3.79338275e-10,\n",
       "       8.29813649e+01, 9.03050885e+01, 4.47400341e-10, 5.81055476e+01,\n",
       "       7.69548900e+01, 6.14285548e+01, 8.88912784e+01, 7.11231903e+01,\n",
       "       5.77193412e+01, 3.79179235e+01, 4.84565793e-10, 4.48160375e+01,\n",
       "       1.94497316e+01, 6.58765598e+01, 4.39400245e-10, 4.95451099e+01,\n",
       "       5.22332106e+01, 3.50469452e+01, 8.50513332e+01, 7.30432521e+01,\n",
       "       9.16103090e+01, 8.51482167e+01, 8.00849008e+01, 1.83674504e+01,\n",
       "       5.00801334e+01, 5.79646217e+01, 9.17786939e+01, 5.67789921e+01,\n",
       "       4.84271472e-10, 6.77587474e+01, 4.07010587e+01, 9.57081741e+01,\n",
       "       7.19497496e+01, 7.58512082e+01, 2.63312601e+01, 3.03094780e+01,\n",
       "       8.65306879e+01, 4.17618145e-10, 5.17741032e+01, 8.23120941e+01,\n",
       "       7.93531049e+01, 9.64806441e+01, 7.26199888e+01, 4.71302989e-10,\n",
       "       4.37525013e-10, 9.60160504e+01, 6.13042505e+01, 4.81951190e-10,\n",
       "       5.73982837e+01, 9.47346809e+01, 4.28024011e-10, 9.12163811e+01,\n",
       "       4.19684650e-10, 4.57537132e+01, 9.16705058e+01, 5.63303214e+01,\n",
       "       5.12749041e-10, 6.77010780e+01, 4.48945349e+01, 8.71825523e+01,\n",
       "       7.08648852e+01, 7.55152364e+01, 2.83964916e+01, 3.00859135e+01,\n",
       "       8.91240443e+01, 6.73205801e+01, 8.55304182e+01, 5.14193364e+01,\n",
       "       8.05344654e+01, 7.94510461e+01, 9.46762799e+01, 7.11372268e+01,\n",
       "       4.49654247e-10, 4.40482971e-10, 5.97835030e+01, 9.44777719e+01,\n",
       "       5.31578824e+01, 9.52874085e+01, 9.22198095e+01, 8.79327095e+01,\n",
       "       1.48692785e+01, 5.06289115e-10, 3.97860022e-10, 8.66455021e+01,\n",
       "       9.41882975e+01, 9.33948529e+01, 5.19339072e-10, 8.01752467e+01,\n",
       "       1.84155536e+01, 8.04764209e+01, 5.08741908e-10, 6.84071020e+01,\n",
       "       1.03766831e+01, 9.21496584e+01, 7.93805662e+01, 3.88188502e+01,\n",
       "       6.15068113e+01, 4.79137891e-10, 8.90906699e+01, 6.13732721e+01,\n",
       "       2.31821544e+01, 4.78066866e+01, 3.94106345e-10, 9.54105344e+01,\n",
       "       5.12571238e+01, 8.94786611e+01, 5.55111686e+01, 4.47697540e-10,\n",
       "       6.90575693e+01, 4.15101357e+01, 7.14053683e+01, 7.55148011e+01,\n",
       "       2.63786184e+01, 3.56883248e+01, 8.84104074e+01, 7.01047916e+01,\n",
       "       8.62385426e+01, 5.07130526e+01, 8.34761103e+01, 7.92710672e+01,\n",
       "       9.38908834e+01, 7.44883343e+01, 4.50586430e-10, 4.29712920e-10,\n",
       "       9.65362165e+01, 5.76524633e+01, 4.66365589e-10, 4.26090321e-10,\n",
       "       4.39164305e+01, 4.46479356e-10, 9.28619477e+01, 6.52958842e+01,\n",
       "       1.59306520e+01, 5.21900411e-10, 4.43989090e-10, 8.72021930e+01,\n",
       "       9.29650413e+01, 5.08280651e-10, 8.07884105e+01, 2.03550162e+01,\n",
       "       9.12863403e+01, 8.04629039e+01, 1.11894397e+01, 5.15664732e+01,\n",
       "       9.30067137e+01, 7.96215889e+01, 3.88451441e+01, 6.20562929e+01,\n",
       "       4.86714959e-10, 8.64122200e+01, 5.82147897e+01, 2.53150747e+01,\n",
       "       9.20444104e+01, 4.92159850e-10, 5.82948108e+01, 1.47487701e+01,\n",
       "       7.94795617e+01, 9.22058496e+01, 1.38664715e+01, 4.93813006e-10,\n",
       "       4.40102582e-10, 8.72444631e+01, 9.39679636e+01, 7.45500228e+01,\n",
       "       9.39010536e+01, 1.68651568e+00, 8.04178119e+01, 1.58873597e+01,\n",
       "       8.20770677e+01, 9.25458525e+01, 6.91521232e+01, 7.34909752e+00,\n",
       "       9.23109460e+01, 8.06569071e+01, 3.72894056e+01, 6.29325231e+01,\n",
       "       4.55324832e-10, 6.09100058e+01, 2.70500691e+01, 5.17984218e-10,\n",
       "       8.76062673e+01, 8.39769588e+01, 4.33186400e-10, 4.85055114e-10,\n",
       "       8.17014588e+01, 8.95126179e+01, 4.78095674e-10, 6.11416076e+01,\n",
       "       8.02037885e+01, 5.65810621e+01, 8.71248318e+01, 7.26194330e+01,\n",
       "       5.56762930e+01, 3.68043248e+01, 4.55250680e+01, 6.11964482e+01,\n",
       "       2.11240824e+01, 6.50775519e+01, 4.40937001e-10, 4.83571854e+01,\n",
       "       5.25506386e+01, 3.54038104e+01, 8.44485305e+01, 7.45239672e+01,\n",
       "       9.03368267e+01, 8.29811872e+01, 4.42485897e-10, 4.97272028e+01,\n",
       "       6.06918631e+01, 7.18507147e+01, 5.27964038e-10, 9.38840788e+01,\n",
       "       4.44132047e-10, 3.83367330e+01, 9.78898150e+01, 4.14138786e-10,\n",
       "       3.57805044e+01, 9.60864529e+01, 4.63643365e+01, 5.05362448e-10,\n",
       "       6.70874113e+01, 4.28445914e+01, 8.79356121e+01, 6.49815780e+01,\n",
       "       7.37171159e+01, 4.49736130e+01, 3.52114358e+01, 8.94865693e+01,\n",
       "       5.48653513e+01, 8.98131764e+01, 4.07492802e+01, 7.82648039e+01,\n",
       "       8.24281824e+01, 7.04082636e+01, 8.60986780e+01, 4.93437514e-10,\n",
       "       8.13741504e+01, 8.68675134e+01, 6.67840537e+01, 8.00014529e+01,\n",
       "       9.47839452e+01, 8.42611806e+01, 5.35068307e-10, 5.32058317e-10,\n",
       "       4.23141614e-10, 8.63407884e+01, 9.11662879e+01, 9.30913482e+01,\n",
       "       6.10949320e+01, 1.97519237e-01, 8.43430611e+01, 4.59078483e-10,\n",
       "       9.25060823e+01, 8.53517725e+01, 5.93055578e+01, 8.55270084e+00,\n",
       "       9.14749192e+01, 8.54919277e+01, 3.96823953e+01, 9.38425941e+01,\n",
       "       4.47058225e-10, 1.79060787e+01, 4.08458904e-10, 2.61730711e+01,\n",
       "       7.91646204e+01, 6.36194523e+01, 8.33934334e+01, 8.56441018e+01,\n",
       "       6.58725230e+01, 7.60815982e+01, 9.35145348e+01, 8.47844691e+01,\n",
       "       1.92333527e+01, 4.78515600e-10, 4.57871841e-10, 8.90401252e+01,\n",
       "       9.31482350e+01, 7.96060788e+01, 9.08446157e+01, 2.80500456e-01,\n",
       "       7.54575765e+01, 2.08098688e+01, 6.26281436e+01, 9.61435432e+01,\n",
       "       8.73607346e+01, 6.05861696e+01, 6.64089677e+01, 3.90465128e+01,\n",
       "       4.49712937e-10, 5.19255018e-10, 9.71198750e+01, 4.66634912e+01,\n",
       "       5.09108442e-10, 4.21025838e-10, 4.58612287e+01, 2.58490897e+00,\n",
       "       8.54369940e+01, 4.25437656e-10, 6.45646437e+01, 6.18366089e+01,\n",
       "       6.09568020e+01, 6.59474638e+01, 6.59362015e+01, 4.78394274e+01,\n",
       "       8.71742432e+01, 6.70487423e+01, 5.86635188e+01, 3.18573694e+01,\n",
       "       4.12673446e-10, 8.91425837e+01, 4.78374262e+01, 2.82919067e+01,\n",
       "       9.10757211e+01, 6.67976371e+01, 8.66927908e+01, 5.67934580e+01,\n",
       "       9.52632028e+01, 9.69562663e+01, 7.83675090e+01, 5.18562508e-01,\n",
       "       5.01440117e-10, 4.81136702e-10, 8.88291486e+01, 9.58831115e+01,\n",
       "       7.90481407e+01, 9.59799760e+01, 4.87075702e-10, 8.27354860e+01,\n",
       "       1.67874469e+01, 9.56023605e+01, 8.54684001e+01, 7.02066558e+01,\n",
       "       1.40424092e+01, 9.59732817e+01, 8.42807118e+01, 4.52111344e+01,\n",
       "       5.95797217e+01, 4.59996849e-10, 8.69612642e+01, 8.19041324e+01,\n",
       "       5.75525196e+01, 8.40487661e+01, 5.74112183e+01, 8.05137155e+01,\n",
       "       4.25204657e-10, 7.86949528e+01, 9.33604882e+01, 5.14657408e-10,\n",
       "       6.04521225e+01, 7.68012160e+01, 6.10866249e+01, 8.86448873e+01,\n",
       "       7.31717953e+01, 3.64945825e+01, 9.16495824e+01, 4.94376087e-10,\n",
       "       4.60298076e+01, 2.14117752e+01, 6.76172793e+01, 4.45420977e-10,\n",
       "       5.10351106e+01, 5.03007991e+01, 3.65045427e+01, 8.56416658e+01,\n",
       "       7.73189823e+01, 6.07026801e+01, 4.73014052e-10, 9.36762131e+01,\n",
       "       6.14118241e+01, 4.94615267e-10, 4.23704765e+01, 3.01780764e-01,\n",
       "       8.44912582e+01, 4.32639566e-10, 7.11126227e+01, 8.21960271e+01,\n",
       "       2.18059661e+00, 3.89987483e+01, 6.17487860e+01, 7.77425822e+01,\n",
       "       6.04013917e+01, 6.96510319e+01, 5.50514372e+01, 2.61108716e+01,\n",
       "       4.80698365e-10, 4.84125139e+01, 2.06070327e+01, 6.56249652e+01,\n",
       "       4.46413703e-10, 4.77372571e+01, 5.97675564e+01, 5.40018489e+00,\n",
       "       9.72251790e+01, 4.65884295e-10, 7.38643662e+01, 5.65069747e+01,\n",
       "       9.53404269e+01, 3.86862301e-10, 3.06759822e+01, 9.45327738e+01,\n",
       "       6.13202958e+01, 5.07465609e-10, 6.72543534e+01, 4.11058159e+01,\n",
       "       8.88534931e+01, 7.86457192e+01, 4.72510926e-10, 4.83906473e+01,\n",
       "       3.65030831e+01, 4.16791954e+01, 8.61973488e+01, 3.98959682e+01,\n",
       "       8.13249470e+01, 7.85641360e+01, 9.64684031e+01, 6.46666798e+01,\n",
       "       4.27503596e-10, 9.33916509e+01])"
      ]
     },
     "execution_count": 24,
     "metadata": {},
     "output_type": "execute_result"
    }
   ],
   "source": [
    "print(sum(history.x))\n",
    "history.x"
   ]
  },
  {
   "cell_type": "code",
   "execution_count": 25,
   "metadata": {},
   "outputs": [
    {
     "data": {
      "text/plain": [
       "57082.039371187246"
      ]
     },
     "execution_count": 25,
     "metadata": {},
     "output_type": "execute_result"
    }
   ],
   "source": [
    "total_likely_increase(history.x, p2)"
   ]
  },
  {
   "cell_type": "code",
   "execution_count": 26,
   "metadata": {},
   "outputs": [
    {
     "data": {
      "text/html": [
       "<div>\n",
       "<style scoped>\n",
       "    .dataframe tbody tr th:only-of-type {\n",
       "        vertical-align: middle;\n",
       "    }\n",
       "\n",
       "    .dataframe tbody tr th {\n",
       "        vertical-align: top;\n",
       "    }\n",
       "\n",
       "    .dataframe thead th {\n",
       "        text-align: right;\n",
       "    }\n",
       "</style>\n",
       "<table border=\"1\" class=\"dataframe\">\n",
       "  <thead>\n",
       "    <tr style=\"text-align: right;\">\n",
       "      <th></th>\n",
       "      <th>Index</th>\n",
       "      <th>y_pred</th>\n",
       "      <th>opt_pred</th>\n",
       "      <th>eei</th>\n",
       "      <th>p_increase</th>\n",
       "      <th>p_increase2</th>\n",
       "      <th>is_low</th>\n",
       "    </tr>\n",
       "  </thead>\n",
       "  <tbody>\n",
       "    <tr>\n",
       "      <th>0</th>\n",
       "      <td>779</td>\n",
       "      <td>0.037000</td>\n",
       "      <td>1.397544e+01</td>\n",
       "      <td>0.671839</td>\n",
       "      <td>6.057610</td>\n",
       "      <td>36.694633</td>\n",
       "      <td>True</td>\n",
       "    </tr>\n",
       "    <tr>\n",
       "      <th>1</th>\n",
       "      <td>102</td>\n",
       "      <td>0.040192</td>\n",
       "      <td>6.856469e+01</td>\n",
       "      <td>0.625940</td>\n",
       "      <td>5.991898</td>\n",
       "      <td>35.902836</td>\n",
       "      <td>True</td>\n",
       "    </tr>\n",
       "    <tr>\n",
       "      <th>2</th>\n",
       "      <td>770</td>\n",
       "      <td>0.040934</td>\n",
       "      <td>9.693027e+01</td>\n",
       "      <td>0.622795</td>\n",
       "      <td>5.977219</td>\n",
       "      <td>35.727151</td>\n",
       "      <td>True</td>\n",
       "    </tr>\n",
       "    <tr>\n",
       "      <th>3</th>\n",
       "      <td>135</td>\n",
       "      <td>0.044197</td>\n",
       "      <td>9.942993e+01</td>\n",
       "      <td>0.638031</td>\n",
       "      <td>5.915136</td>\n",
       "      <td>34.988839</td>\n",
       "      <td>True</td>\n",
       "    </tr>\n",
       "    <tr>\n",
       "      <th>4</th>\n",
       "      <td>134</td>\n",
       "      <td>0.040915</td>\n",
       "      <td>9.863933e+01</td>\n",
       "      <td>0.661415</td>\n",
       "      <td>5.977603</td>\n",
       "      <td>35.731739</td>\n",
       "      <td>True</td>\n",
       "    </tr>\n",
       "    <tr>\n",
       "      <th>...</th>\n",
       "      <td>...</td>\n",
       "      <td>...</td>\n",
       "      <td>...</td>\n",
       "      <td>...</td>\n",
       "      <td>...</td>\n",
       "      <td>...</td>\n",
       "      <td>...</td>\n",
       "    </tr>\n",
       "    <tr>\n",
       "      <th>885</th>\n",
       "      <td>320</td>\n",
       "      <td>0.049205</td>\n",
       "      <td>7.856414e+01</td>\n",
       "      <td>0.984015</td>\n",
       "      <td>5.826742</td>\n",
       "      <td>33.950917</td>\n",
       "      <td>False</td>\n",
       "    </tr>\n",
       "    <tr>\n",
       "      <th>886</th>\n",
       "      <td>321</td>\n",
       "      <td>0.038909</td>\n",
       "      <td>9.646840e+01</td>\n",
       "      <td>0.782038</td>\n",
       "      <td>6.017789</td>\n",
       "      <td>36.213790</td>\n",
       "      <td>False</td>\n",
       "    </tr>\n",
       "    <tr>\n",
       "      <th>887</th>\n",
       "      <td>322</td>\n",
       "      <td>0.059257</td>\n",
       "      <td>6.466668e+01</td>\n",
       "      <td>0.857392</td>\n",
       "      <td>5.669933</td>\n",
       "      <td>32.148144</td>\n",
       "      <td>False</td>\n",
       "    </tr>\n",
       "    <tr>\n",
       "      <th>888</th>\n",
       "      <td>323</td>\n",
       "      <td>0.229656</td>\n",
       "      <td>4.275036e-10</td>\n",
       "      <td>1.036835</td>\n",
       "      <td>4.428552</td>\n",
       "      <td>19.612072</td>\n",
       "      <td>False</td>\n",
       "    </tr>\n",
       "    <tr>\n",
       "      <th>889</th>\n",
       "      <td>889</td>\n",
       "      <td>0.040298</td>\n",
       "      <td>9.339165e+01</td>\n",
       "      <td>0.771783</td>\n",
       "      <td>5.989784</td>\n",
       "      <td>35.877511</td>\n",
       "      <td>False</td>\n",
       "    </tr>\n",
       "  </tbody>\n",
       "</table>\n",
       "<p>890 rows × 7 columns</p>\n",
       "</div>"
      ],
      "text/plain": [
       "     Index    y_pred      opt_pred       eei  p_increase  p_increase2  is_low\n",
       "0      779  0.037000  1.397544e+01  0.671839    6.057610    36.694633    True\n",
       "1      102  0.040192  6.856469e+01  0.625940    5.991898    35.902836    True\n",
       "2      770  0.040934  9.693027e+01  0.622795    5.977219    35.727151    True\n",
       "3      135  0.044197  9.942993e+01  0.638031    5.915136    34.988839    True\n",
       "4      134  0.040915  9.863933e+01  0.661415    5.977603    35.731739    True\n",
       "..     ...       ...           ...       ...         ...          ...     ...\n",
       "885    320  0.049205  7.856414e+01  0.984015    5.826742    33.950917   False\n",
       "886    321  0.038909  9.646840e+01  0.782038    6.017789    36.213790   False\n",
       "887    322  0.059257  6.466668e+01  0.857392    5.669933    32.148144   False\n",
       "888    323  0.229656  4.275036e-10  1.036835    4.428552    19.612072   False\n",
       "889    889  0.040298  9.339165e+01  0.771783    5.989784    35.877511   False\n",
       "\n",
       "[890 rows x 7 columns]"
      ]
     },
     "execution_count": 26,
     "metadata": {},
     "output_type": "execute_result"
    }
   ],
   "source": [
    "preds['opt_pred'] = history.x\n",
    "preds"
   ]
  },
  {
   "cell_type": "code",
   "execution_count": null,
   "metadata": {},
   "outputs": [],
   "source": []
  }
 ],
 "metadata": {
  "kernelspec": {
   "display_name": "Python 3",
   "language": "python",
   "name": "python3"
  },
  "language_info": {
   "codemirror_mode": {
    "name": "ipython",
    "version": 3
   },
   "file_extension": ".py",
   "mimetype": "text/x-python",
   "name": "python",
   "nbconvert_exporter": "python",
   "pygments_lexer": "ipython3",
   "version": "3.8.0"
  },
  "notify_time": "5"
 },
 "nbformat": 4,
 "nbformat_minor": 4
}
